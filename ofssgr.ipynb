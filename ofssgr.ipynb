{
 "metadata": {
  "language_info": {
   "codemirror_mode": {
    "name": "ipython",
    "version": 3
   },
   "file_extension": ".py",
   "mimetype": "text/x-python",
   "name": "python",
   "nbconvert_exporter": "python",
   "pygments_lexer": "ipython3",
   "version": "3.8.5-final"
  },
  "orig_nbformat": 2,
  "kernelspec": {
   "name": "python3",
   "display_name": "Python 3",
   "language": "python"
  }
 },
 "nbformat": 4,
 "nbformat_minor": 2,
 "cells": [
  {
   "source": [
    "### OFS with sparse gradient\n",
    "- as given by \"An online approach for feature selection for classification in big data\"\n",
    "- no implementation found\n",
    "\n",
    "\n"
   ],
   "cell_type": "markdown",
   "metadata": {}
  },
  {
   "cell_type": "code",
   "execution_count": 24,
   "metadata": {},
   "outputs": [],
   "source": [
    "#`get mean of dataset\n",
    "import pandas as pd \n",
    "df = pd.read_csv('datasets/binary/shuffle_spambase_normalized.csv')\n",
    "df = df.drop(labels='class', axis=1)\n",
    "ftr_means = df.mean()\n",
    "total_mean = ftr_means.mean()\n"
   ]
  },
  {
   "cell_type": "code",
   "execution_count": 25,
   "metadata": {},
   "outputs": [
    {
     "output_type": "execute_result",
     "data": {
      "text/plain": [
       "word_freq_make                0.023029\n",
       "word_freq_address             0.014917\n",
       "word_freq_all                 0.055031\n",
       "word_freq_3d                  0.001528\n",
       "word_freq_our                 0.031222\n",
       "word_freq_over                0.016310\n",
       "word_freq_remove              0.015709\n",
       "word_freq_internet            0.009477\n",
       "word_freq_order               0.017123\n",
       "word_freq_mail                0.013169\n",
       "word_freq_receive             0.022921\n",
       "word_freq_will                0.056019\n",
       "word_freq_people              0.016924\n",
       "word_freq_report              0.005863\n",
       "word_freq_addresses           0.011157\n",
       "word_freq_free                0.012442\n",
       "word_freq_business            0.019970\n",
       "word_freq_email               0.020324\n",
       "word_freq_you                 0.088645\n",
       "word_freq_credit              0.004707\n",
       "word_freq_your                0.072886\n",
       "word_freq_font                0.007088\n",
       "word_freq_000                 0.018651\n",
       "word_freq_money               0.007541\n",
       "word_freq_hp                  0.026380\n",
       "word_freq_hpl                 0.015929\n",
       "word_freq_george              0.023021\n",
       "word_freq_650                 0.013734\n",
       "word_freq_lab                 0.006927\n",
       "word_freq_labs                0.017492\n",
       "word_freq_telnet              0.005180\n",
       "word_freq_857                 0.009884\n",
       "word_freq_data                0.005348\n",
       "word_freq_415                 0.010049\n",
       "word_freq_85                  0.005271\n",
       "word_freq_technology          0.012676\n",
       "word_freq_1999                0.019877\n",
       "word_freq_parts               0.001585\n",
       "word_freq_pm                  0.007077\n",
       "word_freq_direct              0.013621\n",
       "word_freq_cs                  0.006116\n",
       "word_freq_meeting             0.009267\n",
       "word_freq_original            0.012913\n",
       "word_freq_project             0.003960\n",
       "word_freq_re                  0.014063\n",
       "word_freq_edu                 0.008155\n",
       "word_freq_table               0.002509\n",
       "word_freq_conference          0.003187\n",
       "char_freq_%3B                 0.008797\n",
       "char_freq_%28                 0.014257\n",
       "char_freq_%5B                 0.004160\n",
       "char_freq_%21                 0.008285\n",
       "char_freq_%24                 0.012629\n",
       "char_freq_%23                 0.002231\n",
       "capital_run_length_average    0.003805\n",
       "capital_run_length_longest    0.005123\n",
       "capital_run_length_total      0.017821\n",
       "dtype: float64"
      ]
     },
     "metadata": {},
     "execution_count": 25
    }
   ],
   "source": [
    "ftr_means"
   ]
  },
  {
   "cell_type": "code",
   "execution_count": 29,
   "metadata": {},
   "outputs": [],
   "source": [
    "import numpy as np\n",
    "\n",
    "class OFSSGD:\n",
    "    def __init__(self, reduction_threshold, reduction_value, n_total_ftrs, regularization_param, step_size):\n",
    "        try:\n",
    "            if len(reduction_threshold) == n_total_ftrs:\n",
    "                self.vartheta = reduction_threshold\n",
    "            else:\n",
    "                raise ValueError(\"threshold vector and amount of features is not matching\")\n",
    "        except TypeError as e:\n",
    "            self.vartheta = np.ones(n_total_ftrs) * reduction_threshold\n",
    "        self.sigma = reduction_value\n",
    "        self.W = np.zeros(n_total_ftrs)\n",
    "        self.regularization_param = regularization_param\n",
    "        self.step_size = step_size\n",
    "\n",
    "    def __ola(self, x, y):\n",
    "        # copied from ofs \n",
    "        if np.dot(x, self.W) * y <= 1: # should be 0, shouldn't it\n",
    "            w_tilde = (1-self.regularization_param * self.step_size)*self.W + self.step_size * y * x\n",
    "            w_hat = min(1, (1/np.sqrt(self.regularization_param)) / np.linalg.norm(w_tilde) )*w_tilde\n",
    "            self.W = w_hat\n",
    "        else:\n",
    "            self.W *= (1-self.regularization_param*self.step_size)\n",
    "\n",
    "    def __SGr(self):\n",
    "\n",
    "        for i in range(len(self.W)):\n",
    "            if self.W[i] > 0 and self.W[i] < self.vartheta[i]:\n",
    "                self.W[i] = max(0, self.W[i] - self.sigma)\n",
    "            elif self.W[i] < 0 and self.W[i] > -self.vartheta[i]:\n",
    "                self.W[i] = min(0, self.W[i] + self.sigma)\n",
    "\n",
    "\n",
    "    def train(self, x, y):\n",
    "        self.__ola(x,y)\n",
    "        self.__SGr()\n",
    "            \n",
    "    def get_weights(self):\n",
    "        return np.where(self.W != 0)[0]    \n",
    "        # i suppose that all featurs with weight unequal zero are kept\n",
    "\n",
    "        "
   ]
  },
  {
   "cell_type": "code",
   "execution_count": 33,
   "metadata": {},
   "outputs": [
    {
     "output_type": "error",
     "ename": "SyntaxError",
     "evalue": "invalid syntax (<ipython-input-33-e3b454a82be5>, line 20)",
     "traceback": [
      "\u001b[0;36m  File \u001b[0;32m\"<ipython-input-33-e3b454a82be5>\"\u001b[0;36m, line \u001b[0;32m20\u001b[0m\n\u001b[0;31m    for epoch in range(100)\u001b[0m\n\u001b[0m                           ^\u001b[0m\n\u001b[0;31mSyntaxError\u001b[0m\u001b[0;31m:\u001b[0m invalid syntax\n"
     ]
    }
   ],
   "source": [
    "import numpy as np\n",
    "from skmultiflow.data import FileStream\n",
    "from skmultiflow.neural_networks import PerceptronMask\n",
    "from sklearn.metrics import accuracy_score\n",
    "import matplotlib.pyplot as plt\n",
    "\n",
    "stream = FileStream('datasets/binary/shuffle_spambase_normalized.csv', target_idx=57)\n",
    "stream.prepare_for_use()\n",
    "\n",
    "x,y = stream.next_sample(batch_size=100)\n",
    "predictor = PerceptronMask()\n",
    "predictor.partial_fit(x,y, stream.target_values)\n",
    "\n",
    "n_selected_ftr = 10\n",
    "\n",
    "ofssgd = OFSSGD(reduction_threshold=ftr_means, reduction_value=0.02, regularization_param=0.01, step_size=0.2, n_total_ftrs=stream.n_num_features)\n",
    "\n",
    "accuracy = []\n",
    "\n",
    "for epoch in range(100):\n",
    "    while stream.has_more_samples():\n",
    "        # Load a new sample\n",
    "        x, y = stream.next_sample(batch_size=10)\n",
    "\n",
    "        # Select features\n",
    "        for idx, label in enumerate(y):\n",
    "            ofssgd.train(x[idx],label)\n",
    "\n",
    "        selected_ftr = ofssgd.get_weights()\n",
    "        # Truncate x (retain only selected features, 'remove' all others, e.g. by replacing them with 0)\n",
    "        x_reduced = np.zeros(x.shape)\n",
    "        x_reduced[:, selected_ftr] = x[:, selected_ftr]\n",
    "\n",
    "        # Test\n",
    "        y_pred = predictor.predict(x)\n",
    "        accuracy.append(accuracy_score(y, y_pred))\n",
    "\n",
    "        # Train\n",
    "        predictor.partial_fit(x, y)\n",
    "\n",
    "    # Restart the FileStream\n",
    "    stream.restart()\n",
    "\n",
    "plt.plot(accuracy)\n",
    "plt.show()\n",
    "print(\"Amount of selected features: {}\".format(len(selected_ftr)))"
   ]
  },
  {
   "cell_type": "code",
   "execution_count": 32,
   "metadata": {},
   "outputs": [
    {
     "output_type": "execute_result",
     "data": {
      "text/plain": [
       "array([0.40117113, 0.1978384 , 1.0475191 , 0.14550818, 0.90270072,\n",
       "       0.36858777, 0.74147135, 0.29915965, 0.36297699, 0.28299327,\n",
       "       0.70040143, 0.70297065, 0.67321162, 0.16321719, 0.21210298,\n",
       "       0.6261242 , 0.51100973, 0.56082907, 1.99902433, 0.19778532,\n",
       "       1.73731596, 0.41654386, 0.42571194, 0.26678935, 0.        ,\n",
       "       0.        , 0.        , 0.09270525, 0.        , 0.05329632,\n",
       "       0.01392418, 0.        , 0.01598441, 0.        , 0.01281726,\n",
       "       0.19160685, 0.2111128 , 0.01909121, 0.05385295, 0.16598072,\n",
       "       0.        , 0.        , 0.0305919 , 0.01823236, 0.16360447,\n",
       "       0.03414848, 0.00455268, 0.        , 0.09018661, 0.25676751,\n",
       "       0.05301555, 0.32539079, 0.44422142, 0.12294531, 0.17915157,\n",
       "       0.17304682, 0.44440257])"
      ]
     },
     "metadata": {},
     "execution_count": 32
    }
   ],
   "source": [
    "len"
   ]
  },
  {
   "cell_type": "code",
   "execution_count": null,
   "metadata": {},
   "outputs": [],
   "source": []
  }
 ]
}