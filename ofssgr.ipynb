{
 "metadata": {
  "language_info": {
   "codemirror_mode": {
    "name": "ipython",
    "version": 3
   },
   "file_extension": ".py",
   "mimetype": "text/x-python",
   "name": "python",
   "nbconvert_exporter": "python",
   "pygments_lexer": "ipython3",
   "version": "3.8.5-final"
  },
  "orig_nbformat": 2,
  "kernelspec": {
   "name": "python3",
   "display_name": "Python 3",
   "language": "python"
  }
 },
 "nbformat": 4,
 "nbformat_minor": 2,
 "cells": [
  {
   "cell_type": "code",
   "execution_count": 1,
   "metadata": {},
   "outputs": [],
   "source": []
  },
  {
   "cell_type": "code",
   "execution_count": null,
   "metadata": {},
   "outputs": [],
   "source": [
    "import numpy as np\n",
    "\n",
    "class OFSSGD:\n",
    "    def __init__(reduction_threshold, reduction_value, n_total_ftrs, regularization_param, step_size):\n",
    "        self.vartheta = reduction_threshold # can be a vector\n",
    "        self.sigma = reduction_value\n",
    "        self.W = np.zeros(n_total_ftrs)\n",
    "        self.regularization_param = regularization_param\n",
    "        self.step_size = step_size\n",
    "\n",
    "    def __ola(self, x, y):\n",
    "        # copied from ofs \n",
    "        if np.dot(x, self.W) * y <= 1: # should be 0, shouldn't it\n",
    "            w_tilde = (1-self.regularization_param * self.step_size)*self.w + self.step_size * y * x\n",
    "            w_hat = min(1, (1/np.sqrt(self.regularization_param)) / np.linalg.norm(w_tilde) )*w_tilde\n",
    "            self.W = w_hat\n",
    "        else:\n",
    "            self.W *= (1-self.regularization_param*self.step_size)\n",
    "\n",
    "    def __SGr(self):\n",
    "\n",
    "        for i in range(len(self.W)):\n",
    "            if self.W[i] > 0 and self.W[i] < self.vartheta:\n",
    "                self.W[i] = max(0, self.W[i] - self.sigma)\n",
    "            elif self.W[i] < 0 and self.W[i] > -self.vartheta:\n",
    "                self.W[i] = min(0, self.W[i] + self.sigma)\n",
    "\n",
    "\n",
    "    def train(self, x, y):\n",
    "        self.__ola(x,y)\n",
    "        self.__SGr()\n",
    "            \n",
    "    def get_weights(self):\n",
    "        return self.W      \n",
    "        # i suppose that all featurs with weight unequal zero are kept\n",
    "\n",
    "        "
   ]
  }
 ]
}