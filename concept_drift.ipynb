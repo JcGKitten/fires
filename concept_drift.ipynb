{
 "metadata": {
  "language_info": {
   "codemirror_mode": {
    "name": "ipython",
    "version": 3
   },
   "file_extension": ".py",
   "mimetype": "text/x-python",
   "name": "python",
   "nbconvert_exporter": "python",
   "pygments_lexer": "ipython3",
   "version": "3.8.5-final"
  },
  "orig_nbformat": 2,
  "kernelspec": {
   "name": "python3",
   "display_name": "Python 3",
   "language": "python"
  }
 },
 "nbformat": 4,
 "nbformat_minor": 2,
 "cells": [
  {
   "source": [
    "## Testing behaviour on concept drift"
   ],
   "cell_type": "markdown",
   "metadata": {}
  },
  {
   "cell_type": "code",
   "execution_count": 1,
   "metadata": {},
   "outputs": [],
   "source": [
    "# import the functions needed for validate and comparsion\n",
    "\n",
    "import numpy as np\n",
    "import cupy as cp\n",
    "import pandas as pd\n",
    "from timeit import default_timer as timer\n",
    "\n",
    "from sklearn.model_selection import train_test_split\n",
    "from sklearn.metrics import accuracy_score, precision_score, recall_score, f1_score\n",
    "from skmultiflow.data import FileStream, ConceptDriftStream, RandomRBFGenerator, RandomRBFGeneratorDrift\n",
    "from skmultiflow.neural_networks import PerceptronMask\n",
    "from skmultiflow.trees import HoeffdingTreeClassifier\n",
    "\n",
    "\n",
    "\n",
    "# using plotly for plots\n",
    "#import plotly.graph_objects as go\n",
    "import plotly.express as px\n",
    "from plotly.subplots import make_subplots"
   ]
  },
  {
   "cell_type": "code",
   "execution_count": 2,
   "metadata": {},
   "outputs": [],
   "source": [
    "# stability measurment as proposed in \"Measurment the Stability of Feature Selection\"\n",
    "def pearson_stability_ij(arr1,arr2):\n",
    "    d = len(arr1)\n",
    "    k_i = np.sum(arr1)\n",
    "    k_j = np.sum(arr2)\n",
    "\n",
    "    # catch edge cases as proposed in the paper under 4.1\n",
    "    if (k_i == 0 or k_i == d) and k_i != k_j :\n",
    "        return 0\n",
    "    elif (k_j == 0 or k_j == d) and k_i != k_j :\n",
    "        return 0\n",
    "    elif (k_i == 0 or k_i == d) and k_i == k_j :\n",
    "        return 1\n",
    "    x_hat_i = k_i / d\n",
    "    x_hat_j = k_j / d\n",
    "    arr1 = arr1 - x_hat_i\n",
    "    arr2 = arr2 - x_hat_j\n",
    "    dividend = 1/d * np.sum(arr1*arr2)\n",
    "    divisor = np.sqrt(1/d*np.sum(arr1**2))*np.sqrt(1/d*np.sum(arr2**2))\n",
    "    return dividend/divisor\n",
    "\n",
    "def stability_factor(selected_ftrs):\n",
    "   M = len(selected_ftrs)\n",
    "   sum_stabilities = 0\n",
    "   for i in range(M):\n",
    "       for j in range(i+1, M):\n",
    "           sum_stabilities += pearson_stability_ij(selected_ftrs[i], selected_ftrs[j])\n",
    "   return 1/(M*(M-1))*sum_stabilities * 2     "
   ]
  },
  {
   "cell_type": "code",
   "execution_count": 3,
   "metadata": {},
   "outputs": [],
   "source": [
    "# import algorithms\n",
    "from fires import FIRES\n",
    "from ofs import MC_OFS\n",
    "from ofssgr import MC_OFSSGD\n",
    "from fsds import StreamFeatWeight"
   ]
  },
  {
   "source": [
    "### Streaming Data Generation with Concept Drift\n"
   ],
   "cell_type": "markdown",
   "metadata": {}
  },
  {
   "source": [
    "Extra Notebook for this data, cause it doesn't have test data and the stream is unlimited "
   ],
   "cell_type": "markdown",
   "metadata": {}
  },
  {
   "cell_type": "code",
   "execution_count": null,
   "metadata": {},
   "outputs": [],
   "source": [
    "# stream generator to test how algorithms perform on data with concept drift\n",
    "stream = RandomRBFGeneratorDrift(model_random_state=99, sample_random_state = 50,\n",
    " n_classes = 6, n_features = 200, n_centroids = 50, change_speed=0.05,\n",
    " num_drift_centroids=25)\n",
    "\n",
    "n_selected_ftr = 50\n",
    "batch_size = 100\n",
    "n_window = 10"
   ]
  },
  {
   "cell_type": "code",
   "execution_count": 4,
   "metadata": {},
   "outputs": [],
   "source": [
    "# stream 1\n",
    "drift_stream = RandomRBFGenerator(model_random_state=42, sample_random_state=43, n_classes=10, n_features=100)\n",
    "start_stream = RandomRBFGenerator(model_random_state=52, sample_random_state=53, n_classes=10, n_features=100, n_centroids=30)\n",
    "\n",
    "stream = ConceptDriftStream(stream=start_stream, drift_stream=drift_stream, position=10000, width=1)\n",
    "\n",
    "dataset_name = \"Concept_drift_1\"\n",
    "n_selected_ftr = 50\n",
    "n_window = 10\n",
    "batch_size = 100"
   ]
  },
  {
   "cell_type": "code",
   "execution_count": null,
   "metadata": {},
   "outputs": [],
   "source": [
    "# stream 2\n",
    "drift_stream = RandomRBFGenerator(model_random_state=20, sample_random_state=21, n_classes=10, n_features=300)\n",
    "start_stream = RandomRBFGenerator(model_random_state=66, sample_random_state=67, n_classes=10, n_features=300)\n",
    "\n",
    "stream = ConceptDriftStream(stream=start_stream, drift_stream=drift_stream, position=10000, width=1000)\n",
    "\n",
    "dataset_name = \"Concept_drift_2\"\n",
    "n_selected_ftr = 50\n",
    "n_window = 10\n",
    "batch_size = 100"
   ]
  },
  {
   "source": [
    "### FIRES"
   ],
   "cell_type": "markdown",
   "metadata": {}
  },
  {
   "cell_type": "code",
   "execution_count": 5,
   "metadata": {},
   "outputs": [
    {
     "output_type": "execute_result",
     "data": {
      "text/plain": [
       "PerceptronMask(alpha=0.0001, class_weight=None, early_stopping=False, eta0=1.0,\n",
       "               fit_intercept=True, max_iter=1000, n_iter_no_change=5,\n",
       "               n_jobs=None, penalty=None, random_state=0, shuffle=True,\n",
       "               tol=0.001, validation_fraction=0.1, verbose=0, warm_start=False)"
      ]
     },
     "metadata": {},
     "execution_count": 5
    }
   ],
   "source": [
    "stream.restart()\n",
    "predictor = PerceptronMask()\n",
    "x,y = stream.next_sample(batch_size=batch_size)\n",
    "predictor.partial_fit(x,y, stream.target_values)"
   ]
  },
  {
   "cell_type": "code",
   "execution_count": 6,
   "metadata": {},
   "outputs": [],
   "source": [
    "fires_model = FIRES(n_total_ftr=stream.n_features,\n",
    "                    target_values=stream.target_values,\n",
    "                    mu_init=0,\n",
    "                    sigma_init=1,\n",
    "                    model='softmax')        "
   ]
  },
  {
   "cell_type": "code",
   "execution_count": 7,
   "metadata": {},
   "outputs": [
    {
     "output_type": "stream",
     "name": "stdout",
     "text": [
      "The whole FIRES run took 9.716045030000004\n"
     ]
    }
   ],
   "source": [
    "fires_accuracy = []\n",
    "fires_f1 = []\n",
    "\n",
    "\n",
    "fires_selected_ftrs = []\n",
    "fires_stability = []\n",
    "\n",
    "start_time_all = timer()\n",
    "# stream has unlimeted samples so set for loop\n",
    "for i in range(200):\n",
    "    # Load a new sample\n",
    "    x, y = stream.next_sample(batch_size=batch_size)\n",
    "    # Select features\n",
    "    \n",
    "    ftr_weights = fires_model.weigh_features(x,y)\n",
    "    ftr_selection = np.argsort(ftr_weights)[::-1][:n_selected_ftr]\n",
    "\n",
    "    # Truncate x (retain only selected features, 'remove' all others, e.g. by replacing them with 0)\n",
    "    x_reduced = np.zeros(x.shape)\n",
    "    x_reduced[:, ftr_selection] = x[:, ftr_selection]\n",
    "\n",
    "    # stability test\n",
    "    ftr_array = np.zeros(stream.n_features)\n",
    "    ftr_array[ftr_selection] = 1\n",
    "    fires_selected_ftrs.append(ftr_array)\n",
    "\n",
    "    if len(fires_selected_ftrs) >= 10:\n",
    "        stability = stability_factor(fires_selected_ftrs[-10:])\n",
    "        fires_stability.append(stability)\n",
    "\n",
    "\n",
    "    # Test\n",
    "    y_pred = predictor.predict(x_reduced)\n",
    "    \n",
    "    fires_accuracy.append(accuracy_score(y, y_pred))\n",
    "    fires_f1.append(f1_score(y, y_pred, average=\"weighted\", labels=stream.target_values))\n",
    "\n",
    "\n",
    "    # Train\n",
    "    predictor.partial_fit(x_reduced, y)\n",
    "\n",
    "# Restart the FileStream\n",
    "end_time_all = timer()\n",
    "fires_run_time = timer() - start_time_all\n",
    "print(\"The whole FIRES run took {}\".format(fires_run_time))\n",
    "\n",
    "fires_moving_average = pd.Series(fires_accuracy).rolling(window=n_window).mean().iloc[n_window-1:].values\n",
    "fires_f1 = pd.Series(fires_f1).rolling(window=n_window).mean().iloc[n_window-1:].values"
   ]
  },
  {
   "source": [
    "### FSDS"
   ],
   "cell_type": "markdown",
   "metadata": {}
  },
  {
   "cell_type": "code",
   "execution_count": 14,
   "metadata": {},
   "outputs": [
    {
     "output_type": "execute_result",
     "data": {
      "text/plain": [
       "PerceptronMask(alpha=0.0001, class_weight=None, early_stopping=False, eta0=1.0,\n",
       "               fit_intercept=True, max_iter=1000, n_iter_no_change=5,\n",
       "               n_jobs=None, penalty=None, random_state=0, shuffle=True,\n",
       "               tol=0.001, validation_fraction=0.1, verbose=0, warm_start=False)"
      ]
     },
     "metadata": {},
     "execution_count": 14
    }
   ],
   "source": [
    "stream.restart()\n",
    "predictor = PerceptronMask()\n",
    "x,y = stream.next_sample(batch_size=batch_size)\n",
    "predictor.partial_fit(x,y, stream.target_values)"
   ]
  },
  {
   "cell_type": "code",
   "execution_count": 15,
   "metadata": {},
   "outputs": [
    {
     "output_type": "execute_result",
     "data": {
      "text/plain": [
       "array([nan, nan, nan, nan, nan, nan, nan, nan, nan, nan, nan, nan, nan,\n",
       "       nan, nan, nan, nan, nan, nan, nan, nan, nan, nan, nan, nan, nan,\n",
       "       nan, nan, nan, nan, nan, nan, nan, nan, nan, nan, nan, nan, nan,\n",
       "       nan, nan, nan, nan, nan, nan, nan, nan, nan, nan, nan, nan, nan,\n",
       "       nan, nan, nan, nan, nan, nan, nan, nan, nan, nan, nan, nan, nan,\n",
       "       nan, nan, nan, nan, nan, nan, nan, nan, nan, nan, nan, nan, nan,\n",
       "       nan, nan, nan, nan, nan, nan, nan, nan, nan, nan, nan, nan, nan,\n",
       "       nan, nan, nan, nan, nan, nan, nan, nan, nan])"
      ]
     },
     "metadata": {},
     "execution_count": 15
    }
   ],
   "source": [
    "fsds_model = StreamFeatWeight(m=stream.n_features, k=stream.n_classes)\n",
    "fsds_model.low_rank_approximation(x.T) # needs some pretraining in the first run"
   ]
  },
  {
   "cell_type": "code",
   "execution_count": 16,
   "metadata": {},
   "outputs": [
    {
     "output_type": "stream",
     "name": "stdout",
     "text": [
      "The whole fsds run took 5.4424781879999955\n"
     ]
    }
   ],
   "source": [
    "fsds_accuracy = []\n",
    "fsds_f1 = []\n",
    "\n",
    "\n",
    "fsds_selected_ftrs = []\n",
    "fsds_stability = []\n",
    "\n",
    "start_time_all = timer()\n",
    "# stream has unlimeted samples so set for loop\n",
    "for i in range(200):\n",
    "    # Load a new sample\n",
    "    x, y = stream.next_sample(batch_size=batch_size)\n",
    "    # Select features\n",
    "    \n",
    "    ftr_weights = fsds_model.low_rank_approximation(x.T)\n",
    "    ftr_selection = np.argsort(ftr_weights)[::-1][:n_selected_ftr]\n",
    "\n",
    "    # Truncate x (retain only selected features, 'remove' all others, e.g. by replacing them with 0)\n",
    "    x_reduced = np.zeros(x.shape)\n",
    "    x_reduced[:, ftr_selection] = x[:, ftr_selection]\n",
    "\n",
    "    # stability test\n",
    "    ftr_array = np.zeros(stream.n_features)\n",
    "    ftr_array[ftr_selection] = 1\n",
    "    fsds_selected_ftrs.append(ftr_array)\n",
    "\n",
    "    if len(fsds_selected_ftrs) >= 10:\n",
    "        stability = stability_factor(fsds_selected_ftrs[-10:])\n",
    "        fsds_stability.append(stability)\n",
    "\n",
    "\n",
    "    # Test\n",
    "    y_pred = predictor.predict(x_reduced)\n",
    "    \n",
    "    fsds_accuracy.append(accuracy_score(y, y_pred))\n",
    "    fsds_f1.append(f1_score(y, y_pred, average=\"weighted\", labels=stream.target_values))\n",
    "\n",
    "\n",
    "    # Train\n",
    "    predictor.partial_fit(x_reduced, y)\n",
    "\n",
    "# Restart the FileStream\n",
    "end_time_all = timer()\n",
    "fsds_run_time = timer() - start_time_all\n",
    "print(\"The whole fsds run took {}\".format(fsds_run_time))\n",
    "\n",
    "fsds_moving_average = pd.Series(fsds_accuracy).rolling(window=n_window).mean().iloc[n_window-1:].values\n",
    "fsds_f1 = pd.Series(fsds_f1).rolling(window=n_window).mean().iloc[n_window-1:].values"
   ]
  },
  {
   "source": [
    "### OFS"
   ],
   "cell_type": "markdown",
   "metadata": {}
  },
  {
   "cell_type": "code",
   "execution_count": 24,
   "metadata": {},
   "outputs": [
    {
     "output_type": "execute_result",
     "data": {
      "text/plain": [
       "PerceptronMask(alpha=0.0001, class_weight=None, early_stopping=False, eta0=1.0,\n",
       "               fit_intercept=True, max_iter=1000, n_iter_no_change=5,\n",
       "               n_jobs=None, penalty=None, random_state=0, shuffle=True,\n",
       "               tol=0.001, validation_fraction=0.1, verbose=0, warm_start=False)"
      ]
     },
     "metadata": {},
     "execution_count": 24
    }
   ],
   "source": [
    "stream.restart()\n",
    "predictor = PerceptronMask()\n",
    "x,y = stream.next_sample(batch_size=batch_size)\n",
    "predictor.partial_fit(x,y, stream.target_values)"
   ]
  },
  {
   "cell_type": "code",
   "execution_count": 25,
   "metadata": {},
   "outputs": [],
   "source": [
    "ofs_model = MC_OFS(regularization_param = 0.01, step_size = 0.1, n_selected_ftr=n_selected_ftr, n_total_ftr=stream.n_num_features, n_classes=stream.n_classes)"
   ]
  },
  {
   "cell_type": "code",
   "execution_count": 26,
   "metadata": {},
   "outputs": [
    {
     "output_type": "stream",
     "name": "stdout",
     "text": [
      "The whole ofs run took 5.318906373000118\n"
     ]
    }
   ],
   "source": [
    "ofs_accuracy = []\n",
    "ofs_f1 = []\n",
    "\n",
    "\n",
    "ofs_selected_ftrs = []\n",
    "ofs_stability = []\n",
    "\n",
    "start_time_all = timer()\n",
    "# stream has unlimeted samples so set for loop\n",
    "for i in range(200):\n",
    "    # Load a new sample\n",
    "    x, y = stream.next_sample(batch_size=batch_size)\n",
    "    # Select features\n",
    "\n",
    "     # Select features\n",
    "    for idx, label in enumerate(np.array(y, dtype='int')):\n",
    "        ofs_model.train(x[idx],label)\n",
    "    \n",
    "    \n",
    "    ftr_selection = ofs_model.get_feature_indices()\n",
    "\n",
    "    # Truncate x (retain only selected features, 'remove' all others, e.g. by replacing them with 0)\n",
    "    x_reduced = np.zeros(x.shape)\n",
    "    x_reduced[:, ftr_selection] = x[:, ftr_selection]\n",
    "\n",
    "    # stability test\n",
    "    ftr_array = np.zeros(stream.n_features)\n",
    "    ftr_array[ftr_selection] = 1\n",
    "    ofs_selected_ftrs.append(ftr_array)\n",
    "\n",
    "    if len(ofs_selected_ftrs) >= 10:\n",
    "        stability = stability_factor(ofs_selected_ftrs[-10:])\n",
    "        ofs_stability.append(stability)\n",
    "\n",
    "\n",
    "    # Test\n",
    "    y_pred = predictor.predict(x_reduced)\n",
    "    \n",
    "    ofs_accuracy.append(accuracy_score(y, y_pred))\n",
    "    ofs_f1.append(f1_score(y, y_pred, average=\"weighted\", labels=stream.target_values))\n",
    "\n",
    "\n",
    "    # Train\n",
    "    predictor.partial_fit(x_reduced, y)\n",
    "\n",
    "# Restart the FileStream\n",
    "end_time_all = timer()\n",
    "ofs_run_time = timer() - start_time_all\n",
    "print(\"The whole ofs run took {}\".format(ofs_run_time))\n",
    "\n",
    "ofs_moving_average = pd.Series(ofs_accuracy).rolling(window=n_window).mean().iloc[n_window-1:].values\n",
    "ofs_f1 = pd.Series(ofs_f1).rolling(window=n_window).mean().iloc[n_window-1:].values"
   ]
  },
  {
   "source": [
    "### OFSSGD"
   ],
   "cell_type": "markdown",
   "metadata": {}
  },
  {
   "cell_type": "code",
   "execution_count": 27,
   "metadata": {},
   "outputs": [
    {
     "output_type": "execute_result",
     "data": {
      "text/plain": [
       "PerceptronMask(alpha=0.0001, class_weight=None, early_stopping=False, eta0=1.0,\n",
       "               fit_intercept=True, max_iter=1000, n_iter_no_change=5,\n",
       "               n_jobs=None, penalty=None, random_state=0, shuffle=True,\n",
       "               tol=0.001, validation_fraction=0.1, verbose=0, warm_start=False)"
      ]
     },
     "metadata": {},
     "execution_count": 27
    }
   ],
   "source": [
    "stream.restart()\n",
    "predictor = PerceptronMask()\n",
    "x,y = stream.next_sample(batch_size=batch_size)\n",
    "predictor.partial_fit(x,y, stream.target_values)"
   ]
  },
  {
   "cell_type": "code",
   "execution_count": 28,
   "metadata": {},
   "outputs": [],
   "source": [
    "ofssgd_model = MC_OFSSGD(reduction_threshold=0.4, reduction_value=0.1, regularization_param=0.01, step_size=0.2, n_total_ftrs=stream.n_num_features, n_classes=stream.n_classes)"
   ]
  },
  {
   "cell_type": "code",
   "execution_count": 29,
   "metadata": {},
   "outputs": [
    {
     "output_type": "stream",
     "name": "stdout",
     "text": [
      "The whole ofssgd run took 12.743607161\n"
     ]
    }
   ],
   "source": [
    "ofssgd_accuracy = []\n",
    "ofssgd_f1 = []\n",
    "\n",
    "\n",
    "ofssgd_selected_ftrs = []\n",
    "ofssgd_stability = []\n",
    "\n",
    "start_time_all = timer()\n",
    "# stream has unlimeted samples so set for loop\n",
    "for i in range(200):\n",
    "    # Load a new sample\n",
    "    x, y = stream.next_sample(batch_size=batch_size)\n",
    "    # Select features\n",
    "    \n",
    "    for idx, label in enumerate(np.array(y, dtype='int')):\n",
    "        ofssgd_model.train(x[idx],label)\n",
    "\n",
    "    ftr_selection = ofssgd_model.get_feature_indices()\n",
    "\n",
    "    # Truncate x (retain only selected features, 'remove' all others, e.g. by replacing them with 0)\n",
    "    x_reduced = np.zeros(x.shape)\n",
    "    x_reduced[:, ftr_selection] = x[:, ftr_selection]\n",
    "\n",
    "    # stability test\n",
    "    ftr_array = np.zeros(stream.n_features)\n",
    "    ftr_array[ftr_selection] = 1\n",
    "    ofssgd_selected_ftrs.append(ftr_array)\n",
    "\n",
    "    if len(ofssgd_selected_ftrs) >= 10:\n",
    "        stability = stability_factor(ofssgd_selected_ftrs[-10:])\n",
    "        ofssgd_stability.append(stability)\n",
    "\n",
    "\n",
    "    # Test\n",
    "    y_pred = predictor.predict(x_reduced)\n",
    "    \n",
    "    ofssgd_accuracy.append(accuracy_score(y, y_pred))\n",
    "    ofssgd_f1.append(f1_score(y, y_pred, average=\"weighted\", labels=stream.target_values))\n",
    "\n",
    "\n",
    "    # Train\n",
    "    predictor.partial_fit(x_reduced, y)\n",
    "\n",
    "# Restart the FileStream\n",
    "end_time_all = timer()\n",
    "ofssgd_run_time = timer() - start_time_all\n",
    "print(\"The whole ofssgd run took {}\".format(ofssgd_run_time))\n",
    "\n",
    "ofssgd_moving_average = pd.Series(ofssgd_accuracy).rolling(window=n_window).mean().iloc[n_window-1:].values\n",
    "ofssgd_f1 = pd.Series(ofssgd_f1).rolling(window=n_window).mean().iloc[n_window-1:].values"
   ]
  },
  {
   "cell_type": "code",
   "execution_count": 30,
   "metadata": {},
   "outputs": [
    {
     "output_type": "display_data",
     "data": {
      "application/vnd.plotly.v1+json": {
       "config": {
        "plotlyServerURL": "https://plot.ly"
       },
       "data": [
        {
         "hovertemplate": "variable=FIRES<br>batches=%{x}<br>stability=%{y}<extra></extra>",
         "legendgroup": "FIRES",
         "line": {
          "color": "red",
          "dash": "solid"
         },
         "mode": "lines",
         "name": "FIRES",
         "orientation": "v",
         "showlegend": true,
         "type": "scatter",
         "x": [
          0,
          1,
          2,
          3,
          4,
          5,
          6,
          7,
          8,
          9,
          10,
          11,
          12,
          13,
          14,
          15,
          16,
          17,
          18,
          19,
          20,
          21,
          22,
          23,
          24,
          25,
          26,
          27,
          28,
          29,
          30,
          31,
          32,
          33,
          34,
          35,
          36,
          37,
          38,
          39,
          40,
          41,
          42,
          43,
          44,
          45,
          46,
          47,
          48,
          49,
          50,
          51,
          52,
          53,
          54,
          55,
          56,
          57,
          58,
          59,
          60,
          61,
          62,
          63,
          64,
          65,
          66,
          67,
          68,
          69,
          70,
          71,
          72,
          73,
          74,
          75,
          76,
          77,
          78,
          79,
          80,
          81,
          82,
          83,
          84,
          85,
          86,
          87,
          88,
          89,
          90,
          91,
          92,
          93,
          94,
          95,
          96,
          97,
          98,
          99,
          100,
          101,
          102,
          103,
          104,
          105,
          106,
          107,
          108,
          109,
          110,
          111,
          112,
          113,
          114,
          115,
          116,
          117,
          118,
          119,
          120,
          121,
          122,
          123,
          124,
          125,
          126,
          127,
          128,
          129,
          130,
          131,
          132,
          133,
          134,
          135,
          136,
          137,
          138,
          139,
          140,
          141,
          142,
          143,
          144,
          145,
          146,
          147,
          148,
          149,
          150,
          151,
          152,
          153,
          154,
          155,
          156,
          157,
          158,
          159,
          160,
          161,
          162,
          163,
          164,
          165,
          166,
          167,
          168,
          169,
          170,
          171,
          172,
          173,
          174,
          175,
          176,
          177,
          178,
          179,
          180,
          181,
          182,
          183,
          184,
          185,
          186,
          187,
          188,
          189,
          190
         ],
         "xaxis": "x",
         "y": [
          0.8293333333333337,
          0.8737777777777781,
          0.9191111111111114,
          0.9386666666666671,
          0.947555555555556,
          0.9493333333333337,
          0.9680000000000004,
          0.9733333333333338,
          0.970666666666667,
          0.9715555555555558,
          0.9653333333333339,
          0.9546666666666673,
          0.9546666666666673,
          0.9502222222222229,
          0.9475555555555563,
          0.9466666666666673,
          0.9475555555555559,
          0.9475555555555556,
          0.9493333333333334,
          0.9528888888888891,
          0.9697777777777778,
          0.9920000000000001,
          1,
          1,
          1,
          1,
          1,
          1,
          1,
          1,
          1,
          1,
          1,
          1,
          1,
          1,
          1,
          1,
          1,
          1,
          0.9920000000000002,
          0.9857777777777781,
          0.9813333333333336,
          0.978666666666667,
          0.9697777777777783,
          0.9644444444444449,
          0.963555555555556,
          0.9644444444444449,
          0.9662222222222226,
          0.9706666666666671,
          0.9706666666666671,
          0.9724444444444449,
          0.9742222222222227,
          0.9742222222222227,
          0.9715555555555561,
          0.9653333333333339,
          0.9617777777777785,
          0.963555555555556,
          0.9644444444444449,
          0.9688888888888895,
          0.9724444444444448,
          0.977777777777778,
          0.9857777777777781,
          0.9857777777777781,
          0.985777777777778,
          0.984888888888889,
          0.9857777777777781,
          0.9813333333333336,
          0.978666666666667,
          0.9777777777777781,
          0.978666666666667,
          0.9813333333333336,
          0.985777777777778,
          0.9920000000000001,
          1,
          1,
          1,
          1,
          1,
          1,
          1,
          1,
          1,
          1,
          1,
          1,
          1,
          1,
          1,
          1,
          0.9920000000000002,
          0.9857777777777781,
          0.9813333333333336,
          0.978666666666667,
          0.9662222222222229,
          0.9573333333333339,
          0.9520000000000007,
          0.9502222222222229,
          0.9520000000000006,
          0.9573333333333338,
          0.9626666666666669,
          0.9715555555555556,
          0.9760000000000002,
          0.9857777777777781,
          0.9813333333333336,
          0.9706666666666671,
          0.963555555555556,
          0.9600000000000005,
          0.9600000000000004,
          0.9635555555555559,
          0.970666666666667,
          0.9813333333333336,
          0.985777777777778,
          0.9920000000000001,
          1,
          0.9920000000000002,
          0.9857777777777781,
          0.9813333333333336,
          0.9706666666666671,
          0.9626666666666672,
          0.9582222222222229,
          0.9573333333333338,
          0.9600000000000004,
          0.9662222222222226,
          0.9760000000000004,
          0.9795555555555558,
          0.984888888888889,
          0.9920000000000001,
          0.9920000000000002,
          0.9848888888888893,
          0.9795555555555558,
          0.9760000000000004,
          0.9742222222222227,
          0.9742222222222227,
          0.9760000000000004,
          0.9795555555555558,
          0.984888888888889,
          0.9920000000000001,
          1,
          1,
          1,
          1,
          1,
          0.9920000000000002,
          0.9857777777777781,
          0.9813333333333336,
          0.9760000000000004,
          0.9742222222222227,
          0.9671111111111117,
          0.963555555555556,
          0.963555555555556,
          0.9608888888888895,
          0.9617777777777783,
          0.9600000000000005,
          0.9617777777777783,
          0.9671111111111116,
          0.970666666666667,
          0.9813333333333336,
          0.985777777777778,
          0.9920000000000001,
          1,
          1,
          1,
          1,
          1,
          1,
          1,
          1,
          1,
          1,
          1,
          1,
          0.9920000000000002,
          0.9848888888888893,
          0.9724444444444449,
          0.9688888888888895,
          0.9671111111111116,
          0.9600000000000005,
          0.947555555555556,
          0.940444444444445,
          0.9386666666666675,
          0.9422222222222228,
          0.949333333333334,
          0.9528888888888895,
          0.9608888888888891,
          0.9706666666666667,
          0.9840000000000001,
          1,
          1,
          1,
          0.9920000000000002
         ],
         "yaxis": "y"
        },
        {
         "hovertemplate": "variable=OFS<br>batches=%{x}<br>stability=%{y}<extra></extra>",
         "legendgroup": "OFS",
         "line": {
          "color": "purple",
          "dash": "solid"
         },
         "mode": "lines",
         "name": "OFS",
         "orientation": "v",
         "showlegend": true,
         "type": "scatter",
         "x": [
          0,
          1,
          2,
          3,
          4,
          5,
          6,
          7,
          8,
          9,
          10,
          11,
          12,
          13,
          14,
          15,
          16,
          17,
          18,
          19,
          20,
          21,
          22,
          23,
          24,
          25,
          26,
          27,
          28,
          29,
          30,
          31,
          32,
          33,
          34,
          35,
          36,
          37,
          38,
          39,
          40,
          41,
          42,
          43,
          44,
          45,
          46,
          47,
          48,
          49,
          50,
          51,
          52,
          53,
          54,
          55,
          56,
          57,
          58,
          59,
          60,
          61,
          62,
          63,
          64,
          65,
          66,
          67,
          68,
          69,
          70,
          71,
          72,
          73,
          74,
          75,
          76,
          77,
          78,
          79,
          80,
          81,
          82,
          83,
          84,
          85,
          86,
          87,
          88,
          89,
          90,
          91,
          92,
          93,
          94,
          95,
          96,
          97,
          98,
          99,
          100,
          101,
          102,
          103,
          104,
          105,
          106,
          107,
          108,
          109,
          110,
          111,
          112,
          113,
          114,
          115,
          116,
          117,
          118,
          119,
          120,
          121,
          122,
          123,
          124,
          125,
          126,
          127,
          128,
          129,
          130,
          131,
          132,
          133,
          134,
          135,
          136,
          137,
          138,
          139,
          140,
          141,
          142,
          143,
          144,
          145,
          146,
          147,
          148,
          149,
          150,
          151,
          152,
          153,
          154,
          155,
          156,
          157,
          158,
          159,
          160,
          161,
          162,
          163,
          164,
          165,
          166,
          167,
          168,
          169,
          170,
          171,
          172,
          173,
          174,
          175,
          176,
          177,
          178,
          179,
          180,
          181,
          182,
          183,
          184,
          185,
          186,
          187,
          188,
          189,
          190
         ],
         "xaxis": "x",
         "y": [
          0.8346005068694147,
          0.8719487795118049,
          0.8852874483126585,
          0.8915121604197235,
          0.8763950024454225,
          0.8657240674047393,
          0.864834822818016,
          0.8666133119914635,
          0.8737272686852523,
          0.884398203725935,
          0.8826197145524874,
          0.8817304699657638,
          0.8932906495931706,
          0.8888444266595524,
          0.8772842470321458,
          0.8692810457516337,
          0.8701702903383576,
          0.8799519807923173,
          0.8986261171135121,
          0.9217464763683252,
          0.9413098572762438,
          0.9466453247965858,
          0.9333066559957318,
          0.8959583833533412,
          0.8666133119914632,
          0.8408252189764795,
          0.8274865501756262,
          0.8265973055889024,
          0.8381574852163087,
          0.8434929527366501,
          0.8594993552976744,
          0.860388599884398,
          0.8657240674047395,
          0.8630563336445687,
          0.8532746431906094,
          0.847939175670268,
          0.850606909430439,
          0.8603885998843983,
          0.8719487795118048,
          0.8826197145524879,
          0.888844426659553,
          0.8995153617002363,
          0.9092970521541958,
          0.9084078075674721,
          0.9092970521541953,
          0.9021830954604065,
          0.886176692899382,
          0.8657240674047398,
          0.8594993552976746,
          0.8621670890578454,
          0.8666133119914631,
          0.8692810457516341,
          0.8728380240985285,
          0.8897336712462767,
          0.905740073807301,
          0.9190787426081548,
          0.9430883464496915,
          0.9555377706638217,
          0.9439775910364153,
          0.9377528789293499,
          0.9368636343426262,
          0.9413098572762438,
          0.9386421235160731,
          0.9395313681027969,
          0.943977591036415,
          0.9510915477302035,
          0.9635409719443336,
          0.9599839935974392,
          0.9599839935974392,
          0.9555377706638215,
          0.956427015250545,
          0.9546485260770979,
          0.95020230314348,
          0.9510915477302034,
          0.9208572317816015,
          0.8932906495931706,
          0.8808412253790403,
          0.8772842470321461,
          0.8826197145524878,
          0.8924014050064474,
          0.9110755413276426,
          0.928860433062114,
          0.953759281490374,
          0.9857720866124228,
          0.9919967987194879,
          0.967987194877951,
          0.9315281668222841,
          0.8826197145524877,
          0.8461606864968212,
          0.8123693922013252,
          0.7332266239829264,
          0.6354097194433327,
          0.5704948646125114,
          0.5402605486639098,
          0.5322573473833978,
          0.5358143257302921,
          0.5518207282913165,
          0.5829442888266417,
          0.6425236761371215,
          0.704770797207772,
          0.7403405806767153,
          0.7607932061713577,
          0.7865812991863415,
          0.7972522342270241,
          0.8212618380685608,
          0.8265973055889025,
          0.8408252189764797,
          0.8523853986038862,
          0.8514961540171625,
          0.8408252189764797,
          0.8381574852163091,
          0.8417144635632035,
          0.8461606864968212,
          0.8523853986038865,
          0.8630563336445695,
          0.8799519807923173,
          0.8888444266595528,
          0.8861766928993825,
          0.8808412253790409,
          0.86572406740474,
          0.8550531323640566,
          0.8514961540171623,
          0.8443821973233739,
          0.8354897514561384,
          0.8319327731092439,
          0.8381574852163088,
          0.846160686496821,
          0.8443821973233739,
          0.8541638877773333,
          0.8559423769507806,
          0.8514961540171626,
          0.8594993552976751,
          0.8746165132719755,
          0.8817304699657642,
          0.884398203725935,
          0.8959583833533419,
          0.8950691387666184,
          0.9012938508736833,
          0.9004046062869596,
          0.9048508292205772,
          0.8986261171135124,
          0.9075185629807482,
          0.9084078075674717,
          0.9128540305010897,
          0.8986261171135125,
          0.8968476279400655,
          0.8977368725267889,
          0.8924014050064474,
          0.8639455782312927,
          0.8532746431906094,
          0.8390467298030321,
          0.8426037081499267,
          0.8381574852163087,
          0.8354897514561379,
          0.8301542839357966,
          0.8354897514561379,
          0.8301542839357966,
          0.8328220176959671,
          0.8497176648437157,
          0.8675025565781871,
          0.8808412253790406,
          0.8835089591392111,
          0.8870659374861055,
          0.895069138766618,
          0.9066293183940245,
          0.9119647859143657,
          0.9173002534347074,
          0.9199679871948783,
          0.9235249655417724,
          0.9368636343426262,
          0.935085145169179,
          0.9279711884753905,
          0.919967987194878,
          0.9173002534347072,
          0.9110755413276422,
          0.9048508292205769,
          0.8959583833533412,
          0.8799519807923166,
          0.8701702903383572,
          0.8621670890578448,
          0.858610110710951,
          0.8701702903383576,
          0.8737272686852514,
          0.862167089057845,
          0.8550531323640566,
          0.8559423769507801,
          0.8523853986038857,
          0.8532746431906094,
          0.8514961540171625,
          0.858610110710951,
          0.8675025565781869
         ],
         "yaxis": "y"
        },
        {
         "hovertemplate": "variable=OFSSGD<br>batches=%{x}<br>stability=%{y}<extra></extra>",
         "legendgroup": "OFSSGD",
         "line": {
          "color": "yellow",
          "dash": "solid"
         },
         "mode": "lines",
         "name": "OFSSGD",
         "orientation": "v",
         "showlegend": true,
         "type": "scatter",
         "x": [
          0,
          1,
          2,
          3,
          4,
          5,
          6,
          7,
          8,
          9,
          10,
          11,
          12,
          13,
          14,
          15,
          16,
          17,
          18,
          19,
          20,
          21,
          22,
          23,
          24,
          25,
          26,
          27,
          28,
          29,
          30,
          31,
          32,
          33,
          34,
          35,
          36,
          37,
          38,
          39,
          40,
          41,
          42,
          43,
          44,
          45,
          46,
          47,
          48,
          49,
          50,
          51,
          52,
          53,
          54,
          55,
          56,
          57,
          58,
          59,
          60,
          61,
          62,
          63,
          64,
          65,
          66,
          67,
          68,
          69,
          70,
          71,
          72,
          73,
          74,
          75,
          76,
          77,
          78,
          79,
          80,
          81,
          82,
          83,
          84,
          85,
          86,
          87,
          88,
          89,
          90,
          91,
          92,
          93,
          94,
          95,
          96,
          97,
          98,
          99,
          100,
          101,
          102,
          103,
          104,
          105,
          106,
          107,
          108,
          109,
          110,
          111,
          112,
          113,
          114,
          115,
          116,
          117,
          118,
          119,
          120,
          121,
          122,
          123,
          124,
          125,
          126,
          127,
          128,
          129,
          130,
          131,
          132,
          133,
          134,
          135,
          136,
          137,
          138,
          139,
          140,
          141,
          142,
          143,
          144,
          145,
          146,
          147,
          148,
          149,
          150,
          151,
          152,
          153,
          154,
          155,
          156,
          157,
          158,
          159,
          160,
          161,
          162,
          163,
          164,
          165,
          166,
          167,
          168,
          169,
          170,
          171,
          172,
          173,
          174,
          175,
          176,
          177,
          178,
          179,
          180,
          181,
          182,
          183,
          184,
          185,
          186,
          187,
          188,
          189,
          190
         ],
         "xaxis": "x",
         "y": [
          null,
          null,
          null,
          null,
          null,
          null,
          null,
          null,
          null,
          null,
          null,
          null,
          null,
          null,
          null,
          null,
          null,
          null,
          null,
          null,
          null,
          null,
          null,
          null,
          null,
          null,
          null,
          null,
          null,
          null,
          null,
          null,
          null,
          null,
          null,
          null,
          null,
          null,
          null,
          null,
          null,
          null,
          null,
          null,
          null,
          null,
          null,
          null,
          null,
          null,
          null,
          null,
          null,
          null,
          null,
          null,
          null,
          null,
          null,
          null,
          null,
          null,
          null,
          null,
          null,
          null,
          null,
          null,
          null,
          null,
          null,
          null,
          null,
          null,
          null,
          null,
          null,
          null,
          null,
          null,
          null,
          null,
          null,
          null,
          null,
          null,
          null,
          null,
          null,
          null,
          null,
          null,
          null,
          null,
          null,
          null,
          null,
          null,
          null,
          null,
          null,
          null,
          null,
          null,
          null,
          null,
          null,
          null,
          null,
          null,
          null,
          null,
          null,
          null,
          null,
          null,
          null,
          null,
          null,
          null,
          null,
          null,
          null,
          null,
          null,
          null,
          null,
          null,
          null,
          null,
          null,
          null,
          null,
          null,
          null,
          null,
          null,
          null,
          null,
          null,
          null,
          null,
          null,
          null,
          null,
          null,
          null,
          null,
          null,
          null,
          null,
          null,
          null,
          null,
          null,
          null,
          null,
          null,
          null,
          null,
          null,
          null,
          null,
          null,
          null,
          null,
          null,
          null,
          null,
          null,
          null,
          null,
          null,
          null,
          null,
          null,
          null,
          null,
          null,
          null,
          null,
          null,
          null,
          null,
          null,
          null,
          null,
          null,
          null,
          null,
          null
         ],
         "yaxis": "y"
        },
        {
         "hovertemplate": "variable=FSDS<br>batches=%{x}<br>stability=%{y}<extra></extra>",
         "legendgroup": "FSDS",
         "line": {
          "color": "green",
          "dash": "solid"
         },
         "mode": "lines",
         "name": "FSDS",
         "orientation": "v",
         "showlegend": true,
         "type": "scatter",
         "x": [
          0,
          1,
          2,
          3,
          4,
          5,
          6,
          7,
          8,
          9,
          10,
          11,
          12,
          13,
          14,
          15,
          16,
          17,
          18,
          19,
          20,
          21,
          22,
          23,
          24,
          25,
          26,
          27,
          28,
          29,
          30,
          31,
          32,
          33,
          34,
          35,
          36,
          37,
          38,
          39,
          40,
          41,
          42,
          43,
          44,
          45,
          46,
          47,
          48,
          49,
          50,
          51,
          52,
          53,
          54,
          55,
          56,
          57,
          58,
          59,
          60,
          61,
          62,
          63,
          64,
          65,
          66,
          67,
          68,
          69,
          70,
          71,
          72,
          73,
          74,
          75,
          76,
          77,
          78,
          79,
          80,
          81,
          82,
          83,
          84,
          85,
          86,
          87,
          88,
          89,
          90,
          91,
          92,
          93,
          94,
          95,
          96,
          97,
          98,
          99,
          100,
          101,
          102,
          103,
          104,
          105,
          106,
          107,
          108,
          109,
          110,
          111,
          112,
          113,
          114,
          115,
          116,
          117,
          118,
          119,
          120,
          121,
          122,
          123,
          124,
          125,
          126,
          127,
          128,
          129,
          130,
          131,
          132,
          133,
          134,
          135,
          136,
          137,
          138,
          139,
          140,
          141,
          142,
          143,
          144,
          145,
          146,
          147,
          148,
          149,
          150,
          151,
          152,
          153,
          154,
          155,
          156,
          157,
          158,
          159,
          160,
          161,
          162,
          163,
          164,
          165,
          166,
          167,
          168,
          169,
          170,
          171,
          172,
          173,
          174,
          175,
          176,
          177,
          178,
          179,
          180,
          181,
          182,
          183,
          184,
          185,
          186,
          187,
          188,
          189,
          190
         ],
         "xaxis": "x",
         "y": [
          1,
          1,
          1,
          1,
          1,
          1,
          1,
          1,
          1,
          1,
          1,
          1,
          1,
          1,
          1,
          1,
          1,
          1,
          1,
          1,
          1,
          1,
          1,
          1,
          1,
          1,
          1,
          1,
          1,
          1,
          1,
          1,
          1,
          1,
          1,
          1,
          1,
          1,
          1,
          1,
          1,
          1,
          1,
          1,
          1,
          1,
          1,
          1,
          1,
          1,
          1,
          1,
          1,
          1,
          1,
          1,
          1,
          1,
          1,
          1,
          1,
          1,
          1,
          1,
          1,
          1,
          1,
          1,
          1,
          1,
          1,
          1,
          1,
          1,
          1,
          1,
          1,
          1,
          1,
          1,
          1,
          1,
          1,
          1,
          1,
          1,
          1,
          1,
          1,
          1,
          1,
          1,
          1,
          1,
          1,
          1,
          1,
          1,
          1,
          1,
          1,
          1,
          1,
          1,
          1,
          1,
          1,
          1,
          1,
          1,
          1,
          1,
          1,
          1,
          1,
          1,
          1,
          1,
          1,
          1,
          1,
          1,
          1,
          1,
          1,
          1,
          1,
          1,
          1,
          1,
          1,
          1,
          1,
          1,
          1,
          1,
          1,
          1,
          1,
          1,
          1,
          1,
          1,
          1,
          1,
          1,
          1,
          1,
          1,
          1,
          1,
          1,
          1,
          1,
          1,
          1,
          1,
          1,
          1,
          1,
          1,
          1,
          1,
          1,
          1,
          1,
          1,
          1,
          1,
          1,
          1,
          1,
          1,
          1,
          1,
          1,
          1,
          1,
          1,
          1,
          1,
          1,
          1,
          1,
          1,
          1,
          1,
          1,
          1,
          1,
          1
         ],
         "yaxis": "y"
        }
       ],
       "layout": {
        "legend": {
         "title": {
          "text": "variable"
         },
         "tracegroupgap": 0
        },
        "template": {
         "data": {
          "bar": [
           {
            "error_x": {
             "color": "#2a3f5f"
            },
            "error_y": {
             "color": "#2a3f5f"
            },
            "marker": {
             "line": {
              "color": "#E5ECF6",
              "width": 0.5
             }
            },
            "type": "bar"
           }
          ],
          "barpolar": [
           {
            "marker": {
             "line": {
              "color": "#E5ECF6",
              "width": 0.5
             }
            },
            "type": "barpolar"
           }
          ],
          "carpet": [
           {
            "aaxis": {
             "endlinecolor": "#2a3f5f",
             "gridcolor": "white",
             "linecolor": "white",
             "minorgridcolor": "white",
             "startlinecolor": "#2a3f5f"
            },
            "baxis": {
             "endlinecolor": "#2a3f5f",
             "gridcolor": "white",
             "linecolor": "white",
             "minorgridcolor": "white",
             "startlinecolor": "#2a3f5f"
            },
            "type": "carpet"
           }
          ],
          "choropleth": [
           {
            "colorbar": {
             "outlinewidth": 0,
             "ticks": ""
            },
            "type": "choropleth"
           }
          ],
          "contour": [
           {
            "colorbar": {
             "outlinewidth": 0,
             "ticks": ""
            },
            "colorscale": [
             [
              0,
              "#0d0887"
             ],
             [
              0.1111111111111111,
              "#46039f"
             ],
             [
              0.2222222222222222,
              "#7201a8"
             ],
             [
              0.3333333333333333,
              "#9c179e"
             ],
             [
              0.4444444444444444,
              "#bd3786"
             ],
             [
              0.5555555555555556,
              "#d8576b"
             ],
             [
              0.6666666666666666,
              "#ed7953"
             ],
             [
              0.7777777777777778,
              "#fb9f3a"
             ],
             [
              0.8888888888888888,
              "#fdca26"
             ],
             [
              1,
              "#f0f921"
             ]
            ],
            "type": "contour"
           }
          ],
          "contourcarpet": [
           {
            "colorbar": {
             "outlinewidth": 0,
             "ticks": ""
            },
            "type": "contourcarpet"
           }
          ],
          "heatmap": [
           {
            "colorbar": {
             "outlinewidth": 0,
             "ticks": ""
            },
            "colorscale": [
             [
              0,
              "#0d0887"
             ],
             [
              0.1111111111111111,
              "#46039f"
             ],
             [
              0.2222222222222222,
              "#7201a8"
             ],
             [
              0.3333333333333333,
              "#9c179e"
             ],
             [
              0.4444444444444444,
              "#bd3786"
             ],
             [
              0.5555555555555556,
              "#d8576b"
             ],
             [
              0.6666666666666666,
              "#ed7953"
             ],
             [
              0.7777777777777778,
              "#fb9f3a"
             ],
             [
              0.8888888888888888,
              "#fdca26"
             ],
             [
              1,
              "#f0f921"
             ]
            ],
            "type": "heatmap"
           }
          ],
          "heatmapgl": [
           {
            "colorbar": {
             "outlinewidth": 0,
             "ticks": ""
            },
            "colorscale": [
             [
              0,
              "#0d0887"
             ],
             [
              0.1111111111111111,
              "#46039f"
             ],
             [
              0.2222222222222222,
              "#7201a8"
             ],
             [
              0.3333333333333333,
              "#9c179e"
             ],
             [
              0.4444444444444444,
              "#bd3786"
             ],
             [
              0.5555555555555556,
              "#d8576b"
             ],
             [
              0.6666666666666666,
              "#ed7953"
             ],
             [
              0.7777777777777778,
              "#fb9f3a"
             ],
             [
              0.8888888888888888,
              "#fdca26"
             ],
             [
              1,
              "#f0f921"
             ]
            ],
            "type": "heatmapgl"
           }
          ],
          "histogram": [
           {
            "marker": {
             "colorbar": {
              "outlinewidth": 0,
              "ticks": ""
             }
            },
            "type": "histogram"
           }
          ],
          "histogram2d": [
           {
            "colorbar": {
             "outlinewidth": 0,
             "ticks": ""
            },
            "colorscale": [
             [
              0,
              "#0d0887"
             ],
             [
              0.1111111111111111,
              "#46039f"
             ],
             [
              0.2222222222222222,
              "#7201a8"
             ],
             [
              0.3333333333333333,
              "#9c179e"
             ],
             [
              0.4444444444444444,
              "#bd3786"
             ],
             [
              0.5555555555555556,
              "#d8576b"
             ],
             [
              0.6666666666666666,
              "#ed7953"
             ],
             [
              0.7777777777777778,
              "#fb9f3a"
             ],
             [
              0.8888888888888888,
              "#fdca26"
             ],
             [
              1,
              "#f0f921"
             ]
            ],
            "type": "histogram2d"
           }
          ],
          "histogram2dcontour": [
           {
            "colorbar": {
             "outlinewidth": 0,
             "ticks": ""
            },
            "colorscale": [
             [
              0,
              "#0d0887"
             ],
             [
              0.1111111111111111,
              "#46039f"
             ],
             [
              0.2222222222222222,
              "#7201a8"
             ],
             [
              0.3333333333333333,
              "#9c179e"
             ],
             [
              0.4444444444444444,
              "#bd3786"
             ],
             [
              0.5555555555555556,
              "#d8576b"
             ],
             [
              0.6666666666666666,
              "#ed7953"
             ],
             [
              0.7777777777777778,
              "#fb9f3a"
             ],
             [
              0.8888888888888888,
              "#fdca26"
             ],
             [
              1,
              "#f0f921"
             ]
            ],
            "type": "histogram2dcontour"
           }
          ],
          "mesh3d": [
           {
            "colorbar": {
             "outlinewidth": 0,
             "ticks": ""
            },
            "type": "mesh3d"
           }
          ],
          "parcoords": [
           {
            "line": {
             "colorbar": {
              "outlinewidth": 0,
              "ticks": ""
             }
            },
            "type": "parcoords"
           }
          ],
          "pie": [
           {
            "automargin": true,
            "type": "pie"
           }
          ],
          "scatter": [
           {
            "marker": {
             "colorbar": {
              "outlinewidth": 0,
              "ticks": ""
             }
            },
            "type": "scatter"
           }
          ],
          "scatter3d": [
           {
            "line": {
             "colorbar": {
              "outlinewidth": 0,
              "ticks": ""
             }
            },
            "marker": {
             "colorbar": {
              "outlinewidth": 0,
              "ticks": ""
             }
            },
            "type": "scatter3d"
           }
          ],
          "scattercarpet": [
           {
            "marker": {
             "colorbar": {
              "outlinewidth": 0,
              "ticks": ""
             }
            },
            "type": "scattercarpet"
           }
          ],
          "scattergeo": [
           {
            "marker": {
             "colorbar": {
              "outlinewidth": 0,
              "ticks": ""
             }
            },
            "type": "scattergeo"
           }
          ],
          "scattergl": [
           {
            "marker": {
             "colorbar": {
              "outlinewidth": 0,
              "ticks": ""
             }
            },
            "type": "scattergl"
           }
          ],
          "scattermapbox": [
           {
            "marker": {
             "colorbar": {
              "outlinewidth": 0,
              "ticks": ""
             }
            },
            "type": "scattermapbox"
           }
          ],
          "scatterpolar": [
           {
            "marker": {
             "colorbar": {
              "outlinewidth": 0,
              "ticks": ""
             }
            },
            "type": "scatterpolar"
           }
          ],
          "scatterpolargl": [
           {
            "marker": {
             "colorbar": {
              "outlinewidth": 0,
              "ticks": ""
             }
            },
            "type": "scatterpolargl"
           }
          ],
          "scatterternary": [
           {
            "marker": {
             "colorbar": {
              "outlinewidth": 0,
              "ticks": ""
             }
            },
            "type": "scatterternary"
           }
          ],
          "surface": [
           {
            "colorbar": {
             "outlinewidth": 0,
             "ticks": ""
            },
            "colorscale": [
             [
              0,
              "#0d0887"
             ],
             [
              0.1111111111111111,
              "#46039f"
             ],
             [
              0.2222222222222222,
              "#7201a8"
             ],
             [
              0.3333333333333333,
              "#9c179e"
             ],
             [
              0.4444444444444444,
              "#bd3786"
             ],
             [
              0.5555555555555556,
              "#d8576b"
             ],
             [
              0.6666666666666666,
              "#ed7953"
             ],
             [
              0.7777777777777778,
              "#fb9f3a"
             ],
             [
              0.8888888888888888,
              "#fdca26"
             ],
             [
              1,
              "#f0f921"
             ]
            ],
            "type": "surface"
           }
          ],
          "table": [
           {
            "cells": {
             "fill": {
              "color": "#EBF0F8"
             },
             "line": {
              "color": "white"
             }
            },
            "header": {
             "fill": {
              "color": "#C8D4E3"
             },
             "line": {
              "color": "white"
             }
            },
            "type": "table"
           }
          ]
         },
         "layout": {
          "annotationdefaults": {
           "arrowcolor": "#2a3f5f",
           "arrowhead": 0,
           "arrowwidth": 1
          },
          "autotypenumbers": "strict",
          "coloraxis": {
           "colorbar": {
            "outlinewidth": 0,
            "ticks": ""
           }
          },
          "colorscale": {
           "diverging": [
            [
             0,
             "#8e0152"
            ],
            [
             0.1,
             "#c51b7d"
            ],
            [
             0.2,
             "#de77ae"
            ],
            [
             0.3,
             "#f1b6da"
            ],
            [
             0.4,
             "#fde0ef"
            ],
            [
             0.5,
             "#f7f7f7"
            ],
            [
             0.6,
             "#e6f5d0"
            ],
            [
             0.7,
             "#b8e186"
            ],
            [
             0.8,
             "#7fbc41"
            ],
            [
             0.9,
             "#4d9221"
            ],
            [
             1,
             "#276419"
            ]
           ],
           "sequential": [
            [
             0,
             "#0d0887"
            ],
            [
             0.1111111111111111,
             "#46039f"
            ],
            [
             0.2222222222222222,
             "#7201a8"
            ],
            [
             0.3333333333333333,
             "#9c179e"
            ],
            [
             0.4444444444444444,
             "#bd3786"
            ],
            [
             0.5555555555555556,
             "#d8576b"
            ],
            [
             0.6666666666666666,
             "#ed7953"
            ],
            [
             0.7777777777777778,
             "#fb9f3a"
            ],
            [
             0.8888888888888888,
             "#fdca26"
            ],
            [
             1,
             "#f0f921"
            ]
           ],
           "sequentialminus": [
            [
             0,
             "#0d0887"
            ],
            [
             0.1111111111111111,
             "#46039f"
            ],
            [
             0.2222222222222222,
             "#7201a8"
            ],
            [
             0.3333333333333333,
             "#9c179e"
            ],
            [
             0.4444444444444444,
             "#bd3786"
            ],
            [
             0.5555555555555556,
             "#d8576b"
            ],
            [
             0.6666666666666666,
             "#ed7953"
            ],
            [
             0.7777777777777778,
             "#fb9f3a"
            ],
            [
             0.8888888888888888,
             "#fdca26"
            ],
            [
             1,
             "#f0f921"
            ]
           ]
          },
          "colorway": [
           "#636efa",
           "#EF553B",
           "#00cc96",
           "#ab63fa",
           "#FFA15A",
           "#19d3f3",
           "#FF6692",
           "#B6E880",
           "#FF97FF",
           "#FECB52"
          ],
          "font": {
           "color": "#2a3f5f"
          },
          "geo": {
           "bgcolor": "white",
           "lakecolor": "white",
           "landcolor": "#E5ECF6",
           "showlakes": true,
           "showland": true,
           "subunitcolor": "white"
          },
          "hoverlabel": {
           "align": "left"
          },
          "hovermode": "closest",
          "mapbox": {
           "style": "light"
          },
          "paper_bgcolor": "white",
          "plot_bgcolor": "#E5ECF6",
          "polar": {
           "angularaxis": {
            "gridcolor": "white",
            "linecolor": "white",
            "ticks": ""
           },
           "bgcolor": "#E5ECF6",
           "radialaxis": {
            "gridcolor": "white",
            "linecolor": "white",
            "ticks": ""
           }
          },
          "scene": {
           "xaxis": {
            "backgroundcolor": "#E5ECF6",
            "gridcolor": "white",
            "gridwidth": 2,
            "linecolor": "white",
            "showbackground": true,
            "ticks": "",
            "zerolinecolor": "white"
           },
           "yaxis": {
            "backgroundcolor": "#E5ECF6",
            "gridcolor": "white",
            "gridwidth": 2,
            "linecolor": "white",
            "showbackground": true,
            "ticks": "",
            "zerolinecolor": "white"
           },
           "zaxis": {
            "backgroundcolor": "#E5ECF6",
            "gridcolor": "white",
            "gridwidth": 2,
            "linecolor": "white",
            "showbackground": true,
            "ticks": "",
            "zerolinecolor": "white"
           }
          },
          "shapedefaults": {
           "line": {
            "color": "#2a3f5f"
           }
          },
          "ternary": {
           "aaxis": {
            "gridcolor": "white",
            "linecolor": "white",
            "ticks": ""
           },
           "baxis": {
            "gridcolor": "white",
            "linecolor": "white",
            "ticks": ""
           },
           "bgcolor": "#E5ECF6",
           "caxis": {
            "gridcolor": "white",
            "linecolor": "white",
            "ticks": ""
           }
          },
          "title": {
           "x": 0.05
          },
          "xaxis": {
           "automargin": true,
           "gridcolor": "white",
           "linecolor": "white",
           "ticks": "",
           "title": {
            "standoff": 15
           },
           "zerolinecolor": "white",
           "zerolinewidth": 2
          },
          "yaxis": {
           "automargin": true,
           "gridcolor": "white",
           "linecolor": "white",
           "ticks": "",
           "title": {
            "standoff": 15
           },
           "zerolinecolor": "white",
           "zerolinewidth": 2
          }
         }
        },
        "title": {
         "text": "Stability"
        },
        "xaxis": {
         "anchor": "y",
         "domain": [
          0,
          1
         ],
         "title": {
          "text": "batches"
         }
        },
        "yaxis": {
         "anchor": "x",
         "domain": [
          0,
          1
         ],
         "title": {
          "text": "stability"
         }
        }
       }
      }
     },
     "metadata": {}
    }
   ],
   "source": [
    "# stability\n",
    "title = \"Stability\"\n",
    "col_names = [\"FIRES\", \"OFS\", \"OFSSGD\", \"FSDS\"]\n",
    "d = {\"FIRES\":fires_stability, \"OFS\":ofs_stability, \"OFSSGD\":ofssgd_stability, \"FSDS\":fsds_stability} #\"random\":random_stability\n",
    "df = pd.DataFrame(d, columns=col_names)\n",
    "fig = px.line(df, y = col_names, title=title, labels={\"index\":\"batches\", \"value\":\"stability\"},color_discrete_map={'FIRES': 'red', \n",
    "                                                   'FSDS': 'green', 'OFS': 'purple', \"OFSSGD\":\"yellow\"} )\n",
    "fig.show()"
   ]
  },
  {
   "cell_type": "code",
   "execution_count": 44,
   "metadata": {},
   "outputs": [
    {
     "output_type": "display_data",
     "data": {
      "application/vnd.plotly.v1+json": {
       "config": {
        "plotlyServerURL": "https://plot.ly"
       },
       "data": [
        {
         "hovertemplate": "variable=FIRES<br>batches=%{x}<br>accuracy=%{y}<extra></extra>",
         "legendgroup": "FIRES",
         "line": {
          "color": "red",
          "dash": "solid"
         },
         "mode": "lines",
         "name": "FIRES",
         "orientation": "v",
         "showlegend": true,
         "type": "scatter",
         "x": [
          0,
          1,
          2,
          3,
          4,
          5,
          6,
          7,
          8,
          9,
          10,
          11,
          12,
          13,
          14,
          15,
          16,
          17,
          18,
          19,
          20,
          21,
          22,
          23,
          24,
          25,
          26,
          27,
          28,
          29,
          30,
          31,
          32,
          33,
          34,
          35,
          36,
          37,
          38,
          39,
          40,
          41,
          42,
          43,
          44,
          45,
          46,
          47,
          48,
          49,
          50,
          51,
          52,
          53,
          54,
          55,
          56,
          57,
          58,
          59,
          60,
          61,
          62,
          63,
          64,
          65,
          66,
          67,
          68,
          69,
          70,
          71,
          72,
          73,
          74,
          75,
          76,
          77,
          78,
          79,
          80,
          81,
          82,
          83,
          84,
          85,
          86,
          87,
          88,
          89,
          90,
          91,
          92,
          93,
          94,
          95,
          96,
          97,
          98,
          99,
          100,
          101,
          102,
          103,
          104,
          105,
          106,
          107,
          108,
          109,
          110,
          111,
          112,
          113,
          114,
          115,
          116,
          117,
          118,
          119,
          120,
          121,
          122,
          123,
          124,
          125,
          126,
          127,
          128,
          129,
          130,
          131,
          132,
          133,
          134,
          135,
          136,
          137,
          138,
          139,
          140,
          141,
          142,
          143,
          144,
          145,
          146,
          147,
          148,
          149,
          150,
          151,
          152,
          153,
          154,
          155,
          156,
          157,
          158,
          159,
          160,
          161,
          162,
          163,
          164,
          165,
          166,
          167,
          168,
          169,
          170,
          171,
          172,
          173,
          174,
          175,
          176,
          177,
          178,
          179,
          180,
          181,
          182,
          183,
          184,
          185,
          186,
          187,
          188,
          189,
          190
         ],
         "xaxis": "x",
         "y": [
          0.899,
          0.9460000000000001,
          0.9650000000000001,
          0.9800000000000001,
          0.9870000000000001,
          0.99,
          0.991,
          0.999,
          0.998,
          0.9970000000000001,
          0.9970000000000001,
          0.9970000000000001,
          0.9970000000000001,
          0.9959999999999999,
          0.9949999999999999,
          0.9949999999999999,
          0.9949999999999999,
          0.9949999999999999,
          0.9959999999999999,
          0.9969999999999999,
          0.9969999999999999,
          0.9949999999999999,
          0.994,
          0.9950000000000001,
          0.9970000000000001,
          0.9970000000000001,
          0.9970000000000001,
          0.9960000000000001,
          0.9960000000000001,
          0.9950000000000001,
          0.9950000000000001,
          0.9970000000000001,
          0.9969999999999999,
          0.9969999999999999,
          0.9949999999999999,
          0.9949999999999999,
          0.9949999999999999,
          0.9959999999999999,
          0.9959999999999999,
          0.9969999999999999,
          0.9899999999999999,
          0.9889999999999999,
          0.9899999999999999,
          0.9899999999999999,
          0.991,
          0.991,
          0.991,
          0.991,
          0.991,
          0.991,
          0.9970000000000001,
          0.998,
          0.998,
          0.9970000000000001,
          0.9960000000000001,
          0.993,
          0.993,
          0.992,
          0.992,
          0.992,
          0.993,
          0.993,
          0.993,
          0.994,
          0.9959999999999999,
          0.999,
          0.999,
          0.999,
          0.998,
          0.998,
          0.993,
          0.993,
          0.992,
          0.992,
          0.992,
          0.992,
          0.992,
          0.993,
          0.994,
          0.994,
          0.999,
          0.999,
          1,
          1,
          1,
          1,
          1,
          1,
          1,
          1,
          0.9120000000000001,
          0.826,
          0.779,
          0.758,
          0.7270000000000001,
          0.6970000000000001,
          0.6839999999999999,
          0.669,
          0.666,
          0.662,
          0.746,
          0.8280000000000001,
          0.873,
          0.893,
          0.923,
          0.944,
          0.937,
          0.951,
          0.944,
          0.9430000000000002,
          0.942,
          0.9420000000000002,
          0.933,
          0.929,
          0.925,
          0.9279999999999999,
          0.946,
          0.943,
          0.951,
          0.953,
          0.944,
          0.9480000000000001,
          0.958,
          0.9579999999999999,
          0.9629999999999999,
          0.969,
          0.967,
          0.9700000000000001,
          0.9710000000000001,
          0.9639999999999999,
          0.976,
          0.975,
          0.974,
          0.9780000000000001,
          0.968,
          0.967,
          0.969,
          0.969,
          0.97,
          0.9760000000000002,
          0.976,
          0.975,
          0.977,
          0.976,
          0.984,
          0.9780000000000001,
          0.977,
          0.976,
          0.974,
          0.9780000000000001,
          0.9790000000000001,
          0.9800000000000001,
          0.978,
          0.9799999999999999,
          0.982,
          0.9879999999999999,
          0.991,
          0.993,
          0.9949999999999999,
          0.993,
          0.993,
          0.993,
          0.9940000000000001,
          0.993,
          0.992,
          0.992,
          0.99,
          0.99,
          0.9880000000000001,
          0.99,
          0.991,
          0.992,
          0.993,
          0.9850000000000001,
          0.9860000000000001,
          0.9870000000000001,
          0.9879999999999999,
          0.983,
          0.9809999999999999,
          0.977,
          0.9629999999999999,
          0.9579999999999999,
          0.9569999999999999,
          0.961,
          0.959,
          0.9559999999999998,
          0.9570000000000001,
          0.962,
          0.9650000000000001,
          0.968,
          0.9800000000000001
         ],
         "yaxis": "y"
        },
        {
         "hovertemplate": "variable=OFS<br>batches=%{x}<br>accuracy=%{y}<extra></extra>",
         "legendgroup": "OFS",
         "line": {
          "color": "purple",
          "dash": "solid"
         },
         "mode": "lines",
         "name": "OFS",
         "orientation": "v",
         "showlegend": true,
         "type": "scatter",
         "x": [
          0,
          1,
          2,
          3,
          4,
          5,
          6,
          7,
          8,
          9,
          10,
          11,
          12,
          13,
          14,
          15,
          16,
          17,
          18,
          19,
          20,
          21,
          22,
          23,
          24,
          25,
          26,
          27,
          28,
          29,
          30,
          31,
          32,
          33,
          34,
          35,
          36,
          37,
          38,
          39,
          40,
          41,
          42,
          43,
          44,
          45,
          46,
          47,
          48,
          49,
          50,
          51,
          52,
          53,
          54,
          55,
          56,
          57,
          58,
          59,
          60,
          61,
          62,
          63,
          64,
          65,
          66,
          67,
          68,
          69,
          70,
          71,
          72,
          73,
          74,
          75,
          76,
          77,
          78,
          79,
          80,
          81,
          82,
          83,
          84,
          85,
          86,
          87,
          88,
          89,
          90,
          91,
          92,
          93,
          94,
          95,
          96,
          97,
          98,
          99,
          100,
          101,
          102,
          103,
          104,
          105,
          106,
          107,
          108,
          109,
          110,
          111,
          112,
          113,
          114,
          115,
          116,
          117,
          118,
          119,
          120,
          121,
          122,
          123,
          124,
          125,
          126,
          127,
          128,
          129,
          130,
          131,
          132,
          133,
          134,
          135,
          136,
          137,
          138,
          139,
          140,
          141,
          142,
          143,
          144,
          145,
          146,
          147,
          148,
          149,
          150,
          151,
          152,
          153,
          154,
          155,
          156,
          157,
          158,
          159,
          160,
          161,
          162,
          163,
          164,
          165,
          166,
          167,
          168,
          169,
          170,
          171,
          172,
          173,
          174,
          175,
          176,
          177,
          178,
          179,
          180,
          181,
          182,
          183,
          184,
          185,
          186,
          187,
          188,
          189,
          190
         ],
         "xaxis": "x",
         "y": [
          0.9209999999999999,
          0.9399999999999998,
          0.954,
          0.96,
          0.975,
          0.968,
          0.974,
          0.977,
          0.9799999999999999,
          0.9799999999999999,
          0.982,
          0.99,
          0.99,
          0.9870000000000001,
          0.9870000000000001,
          0.9960000000000001,
          0.9960000000000001,
          0.9960000000000001,
          0.9960000000000001,
          0.9960000000000001,
          0.9960000000000001,
          0.9949999999999999,
          0.992,
          0.9949999999999999,
          0.9949999999999999,
          0.9949999999999999,
          0.9949999999999999,
          0.994,
          0.994,
          0.992,
          0.992,
          0.9940000000000001,
          0.9960000000000001,
          0.9960000000000001,
          0.994,
          0.994,
          0.994,
          0.9949999999999999,
          0.9949999999999999,
          0.9969999999999999,
          0.9969999999999999,
          0.9969999999999999,
          0.9979999999999999,
          0.9979999999999999,
          0.999,
          0.999,
          0.999,
          0.999,
          0.999,
          0.999,
          0.999,
          0.999,
          0.999,
          0.999,
          1,
          1,
          1,
          1,
          1,
          1,
          1,
          1,
          1,
          1,
          1,
          1,
          1,
          1,
          1,
          1,
          1,
          1,
          1,
          1,
          1,
          1,
          1,
          1,
          1,
          1,
          1,
          1,
          1,
          1,
          1,
          0.992,
          0.99,
          0.9890000000000001,
          0.9890000000000001,
          0.982,
          0.893,
          0.8400000000000001,
          0.8089999999999999,
          0.767,
          0.732,
          0.716,
          0.6980000000000001,
          0.6849999999999999,
          0.6769999999999999,
          0.6679999999999999,
          0.75,
          0.8,
          0.8309999999999998,
          0.861,
          0.892,
          0.915,
          0.932,
          0.9349999999999999,
          0.9390000000000001,
          0.9530000000000001,
          0.9600000000000002,
          0.962,
          0.9560000000000001,
          0.9669999999999999,
          0.9710000000000001,
          0.9719999999999999,
          0.975,
          0.982,
          0.986,
          0.978,
          0.974,
          0.975,
          0.9729999999999999,
          0.9719999999999999,
          0.9709999999999999,
          0.9700000000000001,
          0.968,
          0.969,
          0.9650000000000001,
          0.9719999999999999,
          0.9650000000000001,
          0.9650000000000001,
          0.9730000000000001,
          0.9720000000000001,
          0.9709999999999999,
          0.9719999999999999,
          0.9639999999999999,
          0.9650000000000001,
          0.969,
          0.9700000000000001,
          0.9810000000000001,
          0.975,
          0.975,
          0.978,
          0.9800000000000001,
          0.9780000000000001,
          0.986,
          0.986,
          0.982,
          0.9809999999999999,
          0.978,
          0.9799999999999999,
          0.97,
          0.968,
          0.966,
          0.967,
          0.967,
          0.968,
          0.9719999999999999,
          0.975,
          0.978,
          0.9780000000000001,
          0.9880000000000001,
          0.9869999999999999,
          0.9889999999999999,
          0.9899999999999999,
          0.99,
          0.9870000000000001,
          0.9870000000000001,
          0.9870000000000001,
          0.9870000000000001,
          0.9899999999999999,
          0.9899999999999999,
          0.992,
          0.992,
          0.991,
          0.991,
          0.994,
          0.991,
          0.9899999999999999,
          0.9879999999999999,
          0.982,
          0.9810000000000001,
          0.9800000000000001,
          0.9780000000000001,
          0.974,
          0.9730000000000001,
          0.952,
          0.9550000000000001,
          0.9540000000000001,
          0.9560000000000001
         ],
         "yaxis": "y"
        },
        {
         "hovertemplate": "variable=OFSSGD<br>batches=%{x}<br>accuracy=%{y}<extra></extra>",
         "legendgroup": "OFSSGD",
         "line": {
          "color": "yellow",
          "dash": "solid"
         },
         "mode": "lines",
         "name": "OFSSGD",
         "orientation": "v",
         "showlegend": true,
         "type": "scatter",
         "x": [
          0,
          1,
          2,
          3,
          4,
          5,
          6,
          7,
          8,
          9,
          10,
          11,
          12,
          13,
          14,
          15,
          16,
          17,
          18,
          19,
          20,
          21,
          22,
          23,
          24,
          25,
          26,
          27,
          28,
          29,
          30,
          31,
          32,
          33,
          34,
          35,
          36,
          37,
          38,
          39,
          40,
          41,
          42,
          43,
          44,
          45,
          46,
          47,
          48,
          49,
          50,
          51,
          52,
          53,
          54,
          55,
          56,
          57,
          58,
          59,
          60,
          61,
          62,
          63,
          64,
          65,
          66,
          67,
          68,
          69,
          70,
          71,
          72,
          73,
          74,
          75,
          76,
          77,
          78,
          79,
          80,
          81,
          82,
          83,
          84,
          85,
          86,
          87,
          88,
          89,
          90,
          91,
          92,
          93,
          94,
          95,
          96,
          97,
          98,
          99,
          100,
          101,
          102,
          103,
          104,
          105,
          106,
          107,
          108,
          109,
          110,
          111,
          112,
          113,
          114,
          115,
          116,
          117,
          118,
          119,
          120,
          121,
          122,
          123,
          124,
          125,
          126,
          127,
          128,
          129,
          130,
          131,
          132,
          133,
          134,
          135,
          136,
          137,
          138,
          139,
          140,
          141,
          142,
          143,
          144,
          145,
          146,
          147,
          148,
          149,
          150,
          151,
          152,
          153,
          154,
          155,
          156,
          157,
          158,
          159,
          160,
          161,
          162,
          163,
          164,
          165,
          166,
          167,
          168,
          169,
          170,
          171,
          172,
          173,
          174,
          175,
          176,
          177,
          178,
          179,
          180,
          181,
          182,
          183,
          184,
          185,
          186,
          187,
          188,
          189,
          190
         ],
         "xaxis": "x",
         "y": [
          0.933,
          0.9620000000000001,
          0.9870000000000001,
          0.9970000000000001,
          0.998,
          0.998,
          0.998,
          0.998,
          0.998,
          0.9970000000000001,
          0.9970000000000001,
          0.998,
          0.998,
          0.998,
          0.999,
          0.999,
          0.999,
          0.999,
          0.999,
          1,
          1,
          0.9979999999999999,
          0.9969999999999999,
          0.9969999999999999,
          0.9969999999999999,
          0.9959999999999999,
          0.9959999999999999,
          0.9959999999999999,
          0.9959999999999999,
          0.9959999999999999,
          0.9959999999999999,
          0.998,
          0.998,
          0.998,
          0.998,
          0.999,
          0.999,
          0.999,
          0.999,
          0.999,
          0.999,
          0.999,
          1,
          1,
          1,
          1,
          1,
          1,
          1,
          1,
          0.999,
          0.999,
          0.999,
          0.999,
          0.999,
          0.999,
          0.999,
          0.999,
          0.999,
          0.999,
          1,
          0.9959999999999999,
          0.9959999999999999,
          0.9949999999999999,
          0.9949999999999999,
          0.9949999999999999,
          0.9949999999999999,
          0.9949999999999999,
          0.9949999999999999,
          0.9949999999999999,
          0.9949999999999999,
          0.999,
          0.999,
          1,
          1,
          1,
          1,
          1,
          1,
          1,
          1,
          0.998,
          0.998,
          0.998,
          0.998,
          0.998,
          0.998,
          0.998,
          0.998,
          0.9970000000000001,
          0.9,
          0.8539999999999999,
          0.786,
          0.763,
          0.758,
          0.745,
          0.738,
          0.7230000000000001,
          0.721,
          0.7070000000000001,
          0.804,
          0.852,
          0.9199999999999999,
          0.943,
          0.9470000000000001,
          0.96,
          0.966,
          0.9810000000000001,
          0.983,
          0.998,
          0.9950000000000001,
          0.9940000000000001,
          0.993,
          0.991,
          0.9890000000000001,
          0.985,
          0.984,
          0.982,
          0.9800000000000001,
          0.9800000000000001,
          0.9829999999999999,
          0.984,
          0.982,
          0.984,
          0.9869999999999999,
          0.991,
          0.993,
          0.994,
          0.9950000000000001,
          0.9949999999999999,
          0.9949999999999999,
          0.9949999999999999,
          0.998,
          0.9960000000000001,
          0.9949999999999999,
          0.9949999999999999,
          0.9949999999999999,
          0.9949999999999999,
          0.9959999999999999,
          0.9949999999999999,
          0.993,
          0.9890000000000001,
          0.9890000000000001,
          0.9879999999999999,
          0.9890000000000001,
          0.9880000000000001,
          0.986,
          0.9850000000000001,
          0.9800000000000001,
          0.9810000000000001,
          0.982,
          0.986,
          0.986,
          0.9890000000000001,
          0.9880000000000001,
          0.9890000000000001,
          0.991,
          0.9919999999999998,
          0.9969999999999999,
          0.9969999999999999,
          0.998,
          0.9969999999999999,
          0.9969999999999999,
          0.9969999999999999,
          0.9979999999999999,
          0.9979999999999999,
          0.9979999999999999,
          0.9989999999999999,
          0.9989999999999999,
          0.9989999999999999,
          0.9989999999999999,
          1,
          1,
          1,
          1,
          1,
          1,
          1,
          1,
          1,
          1,
          1,
          1,
          1,
          0.999,
          0.998,
          0.998,
          0.998,
          0.9970000000000001,
          0.9960000000000001,
          0.9960000000000001
         ],
         "yaxis": "y"
        },
        {
         "hovertemplate": "variable=FSDS<br>batches=%{x}<br>accuracy=%{y}<extra></extra>",
         "legendgroup": "FSDS",
         "line": {
          "color": "green",
          "dash": "solid"
         },
         "mode": "lines",
         "name": "FSDS",
         "orientation": "v",
         "showlegend": true,
         "type": "scatter",
         "x": [
          0,
          1,
          2,
          3,
          4,
          5,
          6,
          7,
          8,
          9,
          10,
          11,
          12,
          13,
          14,
          15,
          16,
          17,
          18,
          19,
          20,
          21,
          22,
          23,
          24,
          25,
          26,
          27,
          28,
          29,
          30,
          31,
          32,
          33,
          34,
          35,
          36,
          37,
          38,
          39,
          40,
          41,
          42,
          43,
          44,
          45,
          46,
          47,
          48,
          49,
          50,
          51,
          52,
          53,
          54,
          55,
          56,
          57,
          58,
          59,
          60,
          61,
          62,
          63,
          64,
          65,
          66,
          67,
          68,
          69,
          70,
          71,
          72,
          73,
          74,
          75,
          76,
          77,
          78,
          79,
          80,
          81,
          82,
          83,
          84,
          85,
          86,
          87,
          88,
          89,
          90,
          91,
          92,
          93,
          94,
          95,
          96,
          97,
          98,
          99,
          100,
          101,
          102,
          103,
          104,
          105,
          106,
          107,
          108,
          109,
          110,
          111,
          112,
          113,
          114,
          115,
          116,
          117,
          118,
          119,
          120,
          121,
          122,
          123,
          124,
          125,
          126,
          127,
          128,
          129,
          130,
          131,
          132,
          133,
          134,
          135,
          136,
          137,
          138,
          139,
          140,
          141,
          142,
          143,
          144,
          145,
          146,
          147,
          148,
          149,
          150,
          151,
          152,
          153,
          154,
          155,
          156,
          157,
          158,
          159,
          160,
          161,
          162,
          163,
          164,
          165,
          166,
          167,
          168,
          169,
          170,
          171,
          172,
          173,
          174,
          175,
          176,
          177,
          178,
          179,
          180,
          181,
          182,
          183,
          184,
          185,
          186,
          187,
          188,
          189,
          190
         ],
         "xaxis": "x",
         "y": [
          0.9490000000000001,
          0.9780000000000001,
          0.984,
          0.986,
          0.9869999999999999,
          0.9869999999999999,
          0.9879999999999999,
          0.991,
          0.992,
          0.991,
          0.994,
          0.9959999999999999,
          0.998,
          0.999,
          0.999,
          0.999,
          0.999,
          0.999,
          0.999,
          1,
          1,
          0.998,
          0.998,
          0.998,
          0.998,
          0.9970000000000001,
          0.9970000000000001,
          0.9960000000000001,
          0.9960000000000001,
          0.9949999999999999,
          0.9949999999999999,
          0.9969999999999999,
          0.994,
          0.994,
          0.994,
          0.9949999999999999,
          0.9949999999999999,
          0.9959999999999999,
          0.9959999999999999,
          0.993,
          0.993,
          0.993,
          0.9960000000000001,
          0.9960000000000001,
          0.9960000000000001,
          0.9960000000000001,
          0.9960000000000001,
          0.9960000000000001,
          0.9960000000000001,
          1,
          1,
          1,
          1,
          1,
          1,
          1,
          1,
          1,
          1,
          1,
          1,
          1,
          1,
          1,
          1,
          1,
          0.993,
          0.993,
          0.993,
          0.993,
          0.993,
          0.9879999999999999,
          0.9869999999999999,
          0.9869999999999999,
          0.9869999999999999,
          0.9869999999999999,
          0.994,
          0.994,
          0.994,
          0.994,
          0.994,
          0.999,
          1,
          1,
          1,
          1,
          1,
          1,
          1,
          0.999,
          0.908,
          0.8480000000000001,
          0.8109999999999999,
          0.787,
          0.764,
          0.754,
          0.731,
          0.718,
          0.7070000000000001,
          0.6990000000000001,
          0.7769999999999999,
          0.8230000000000001,
          0.859,
          0.8800000000000001,
          0.9030000000000001,
          0.9039999999999999,
          0.917,
          0.9279999999999999,
          0.9380000000000001,
          0.9440000000000002,
          0.9559999999999998,
          0.969,
          0.968,
          0.9709999999999999,
          0.9709999999999999,
          0.9800000000000001,
          0.9880000000000001,
          0.9879999999999999,
          0.985,
          0.9879999999999999,
          0.9890000000000001,
          0.99,
          0.992,
          0.991,
          0.9879999999999999,
          0.9879999999999999,
          0.9899999999999999,
          0.9909999999999999,
          0.9949999999999999,
          0.994,
          0.994,
          0.994,
          0.994,
          0.9949999999999999,
          0.998,
          0.998,
          0.998,
          0.9960000000000001,
          0.9960000000000001,
          0.9960000000000001,
          0.9960000000000001,
          0.9960000000000001,
          0.9960000000000001,
          0.9950000000000001,
          0.9950000000000001,
          0.9940000000000001,
          0.9940000000000001,
          0.9949999999999999,
          0.994,
          0.9949999999999999,
          0.9949999999999999,
          0.9949999999999999,
          0.9949999999999999,
          0.994,
          0.994,
          0.9949999999999999,
          0.994,
          0.9950000000000001,
          0.9960000000000001,
          0.9949999999999999,
          0.986,
          0.986,
          0.986,
          0.9869999999999999,
          0.986,
          0.986,
          0.985,
          0.986,
          0.984,
          0.9850000000000001,
          0.9940000000000001,
          0.9930000000000001,
          0.993,
          0.993,
          0.9940000000000001,
          0.9940000000000001,
          0.9949999999999999,
          0.9949999999999999,
          0.9969999999999999,
          0.9969999999999999,
          0.9949999999999999,
          0.991,
          0.991,
          0.9920000000000002,
          0.9920000000000002,
          0.9890000000000001,
          0.99,
          0.99,
          0.99,
          0.99,
          0.992
         ],
         "yaxis": "y"
        }
       ],
       "layout": {
        "legend": {
         "title": {
          "text": "variable"
         },
         "tracegroupgap": 0
        },
        "template": {
         "data": {
          "bar": [
           {
            "error_x": {
             "color": "#2a3f5f"
            },
            "error_y": {
             "color": "#2a3f5f"
            },
            "marker": {
             "line": {
              "color": "#E5ECF6",
              "width": 0.5
             }
            },
            "type": "bar"
           }
          ],
          "barpolar": [
           {
            "marker": {
             "line": {
              "color": "#E5ECF6",
              "width": 0.5
             }
            },
            "type": "barpolar"
           }
          ],
          "carpet": [
           {
            "aaxis": {
             "endlinecolor": "#2a3f5f",
             "gridcolor": "white",
             "linecolor": "white",
             "minorgridcolor": "white",
             "startlinecolor": "#2a3f5f"
            },
            "baxis": {
             "endlinecolor": "#2a3f5f",
             "gridcolor": "white",
             "linecolor": "white",
             "minorgridcolor": "white",
             "startlinecolor": "#2a3f5f"
            },
            "type": "carpet"
           }
          ],
          "choropleth": [
           {
            "colorbar": {
             "outlinewidth": 0,
             "ticks": ""
            },
            "type": "choropleth"
           }
          ],
          "contour": [
           {
            "colorbar": {
             "outlinewidth": 0,
             "ticks": ""
            },
            "colorscale": [
             [
              0,
              "#0d0887"
             ],
             [
              0.1111111111111111,
              "#46039f"
             ],
             [
              0.2222222222222222,
              "#7201a8"
             ],
             [
              0.3333333333333333,
              "#9c179e"
             ],
             [
              0.4444444444444444,
              "#bd3786"
             ],
             [
              0.5555555555555556,
              "#d8576b"
             ],
             [
              0.6666666666666666,
              "#ed7953"
             ],
             [
              0.7777777777777778,
              "#fb9f3a"
             ],
             [
              0.8888888888888888,
              "#fdca26"
             ],
             [
              1,
              "#f0f921"
             ]
            ],
            "type": "contour"
           }
          ],
          "contourcarpet": [
           {
            "colorbar": {
             "outlinewidth": 0,
             "ticks": ""
            },
            "type": "contourcarpet"
           }
          ],
          "heatmap": [
           {
            "colorbar": {
             "outlinewidth": 0,
             "ticks": ""
            },
            "colorscale": [
             [
              0,
              "#0d0887"
             ],
             [
              0.1111111111111111,
              "#46039f"
             ],
             [
              0.2222222222222222,
              "#7201a8"
             ],
             [
              0.3333333333333333,
              "#9c179e"
             ],
             [
              0.4444444444444444,
              "#bd3786"
             ],
             [
              0.5555555555555556,
              "#d8576b"
             ],
             [
              0.6666666666666666,
              "#ed7953"
             ],
             [
              0.7777777777777778,
              "#fb9f3a"
             ],
             [
              0.8888888888888888,
              "#fdca26"
             ],
             [
              1,
              "#f0f921"
             ]
            ],
            "type": "heatmap"
           }
          ],
          "heatmapgl": [
           {
            "colorbar": {
             "outlinewidth": 0,
             "ticks": ""
            },
            "colorscale": [
             [
              0,
              "#0d0887"
             ],
             [
              0.1111111111111111,
              "#46039f"
             ],
             [
              0.2222222222222222,
              "#7201a8"
             ],
             [
              0.3333333333333333,
              "#9c179e"
             ],
             [
              0.4444444444444444,
              "#bd3786"
             ],
             [
              0.5555555555555556,
              "#d8576b"
             ],
             [
              0.6666666666666666,
              "#ed7953"
             ],
             [
              0.7777777777777778,
              "#fb9f3a"
             ],
             [
              0.8888888888888888,
              "#fdca26"
             ],
             [
              1,
              "#f0f921"
             ]
            ],
            "type": "heatmapgl"
           }
          ],
          "histogram": [
           {
            "marker": {
             "colorbar": {
              "outlinewidth": 0,
              "ticks": ""
             }
            },
            "type": "histogram"
           }
          ],
          "histogram2d": [
           {
            "colorbar": {
             "outlinewidth": 0,
             "ticks": ""
            },
            "colorscale": [
             [
              0,
              "#0d0887"
             ],
             [
              0.1111111111111111,
              "#46039f"
             ],
             [
              0.2222222222222222,
              "#7201a8"
             ],
             [
              0.3333333333333333,
              "#9c179e"
             ],
             [
              0.4444444444444444,
              "#bd3786"
             ],
             [
              0.5555555555555556,
              "#d8576b"
             ],
             [
              0.6666666666666666,
              "#ed7953"
             ],
             [
              0.7777777777777778,
              "#fb9f3a"
             ],
             [
              0.8888888888888888,
              "#fdca26"
             ],
             [
              1,
              "#f0f921"
             ]
            ],
            "type": "histogram2d"
           }
          ],
          "histogram2dcontour": [
           {
            "colorbar": {
             "outlinewidth": 0,
             "ticks": ""
            },
            "colorscale": [
             [
              0,
              "#0d0887"
             ],
             [
              0.1111111111111111,
              "#46039f"
             ],
             [
              0.2222222222222222,
              "#7201a8"
             ],
             [
              0.3333333333333333,
              "#9c179e"
             ],
             [
              0.4444444444444444,
              "#bd3786"
             ],
             [
              0.5555555555555556,
              "#d8576b"
             ],
             [
              0.6666666666666666,
              "#ed7953"
             ],
             [
              0.7777777777777778,
              "#fb9f3a"
             ],
             [
              0.8888888888888888,
              "#fdca26"
             ],
             [
              1,
              "#f0f921"
             ]
            ],
            "type": "histogram2dcontour"
           }
          ],
          "mesh3d": [
           {
            "colorbar": {
             "outlinewidth": 0,
             "ticks": ""
            },
            "type": "mesh3d"
           }
          ],
          "parcoords": [
           {
            "line": {
             "colorbar": {
              "outlinewidth": 0,
              "ticks": ""
             }
            },
            "type": "parcoords"
           }
          ],
          "pie": [
           {
            "automargin": true,
            "type": "pie"
           }
          ],
          "scatter": [
           {
            "marker": {
             "colorbar": {
              "outlinewidth": 0,
              "ticks": ""
             }
            },
            "type": "scatter"
           }
          ],
          "scatter3d": [
           {
            "line": {
             "colorbar": {
              "outlinewidth": 0,
              "ticks": ""
             }
            },
            "marker": {
             "colorbar": {
              "outlinewidth": 0,
              "ticks": ""
             }
            },
            "type": "scatter3d"
           }
          ],
          "scattercarpet": [
           {
            "marker": {
             "colorbar": {
              "outlinewidth": 0,
              "ticks": ""
             }
            },
            "type": "scattercarpet"
           }
          ],
          "scattergeo": [
           {
            "marker": {
             "colorbar": {
              "outlinewidth": 0,
              "ticks": ""
             }
            },
            "type": "scattergeo"
           }
          ],
          "scattergl": [
           {
            "marker": {
             "colorbar": {
              "outlinewidth": 0,
              "ticks": ""
             }
            },
            "type": "scattergl"
           }
          ],
          "scattermapbox": [
           {
            "marker": {
             "colorbar": {
              "outlinewidth": 0,
              "ticks": ""
             }
            },
            "type": "scattermapbox"
           }
          ],
          "scatterpolar": [
           {
            "marker": {
             "colorbar": {
              "outlinewidth": 0,
              "ticks": ""
             }
            },
            "type": "scatterpolar"
           }
          ],
          "scatterpolargl": [
           {
            "marker": {
             "colorbar": {
              "outlinewidth": 0,
              "ticks": ""
             }
            },
            "type": "scatterpolargl"
           }
          ],
          "scatterternary": [
           {
            "marker": {
             "colorbar": {
              "outlinewidth": 0,
              "ticks": ""
             }
            },
            "type": "scatterternary"
           }
          ],
          "surface": [
           {
            "colorbar": {
             "outlinewidth": 0,
             "ticks": ""
            },
            "colorscale": [
             [
              0,
              "#0d0887"
             ],
             [
              0.1111111111111111,
              "#46039f"
             ],
             [
              0.2222222222222222,
              "#7201a8"
             ],
             [
              0.3333333333333333,
              "#9c179e"
             ],
             [
              0.4444444444444444,
              "#bd3786"
             ],
             [
              0.5555555555555556,
              "#d8576b"
             ],
             [
              0.6666666666666666,
              "#ed7953"
             ],
             [
              0.7777777777777778,
              "#fb9f3a"
             ],
             [
              0.8888888888888888,
              "#fdca26"
             ],
             [
              1,
              "#f0f921"
             ]
            ],
            "type": "surface"
           }
          ],
          "table": [
           {
            "cells": {
             "fill": {
              "color": "#EBF0F8"
             },
             "line": {
              "color": "white"
             }
            },
            "header": {
             "fill": {
              "color": "#C8D4E3"
             },
             "line": {
              "color": "white"
             }
            },
            "type": "table"
           }
          ]
         },
         "layout": {
          "annotationdefaults": {
           "arrowcolor": "#2a3f5f",
           "arrowhead": 0,
           "arrowwidth": 1
          },
          "autotypenumbers": "strict",
          "coloraxis": {
           "colorbar": {
            "outlinewidth": 0,
            "ticks": ""
           }
          },
          "colorscale": {
           "diverging": [
            [
             0,
             "#8e0152"
            ],
            [
             0.1,
             "#c51b7d"
            ],
            [
             0.2,
             "#de77ae"
            ],
            [
             0.3,
             "#f1b6da"
            ],
            [
             0.4,
             "#fde0ef"
            ],
            [
             0.5,
             "#f7f7f7"
            ],
            [
             0.6,
             "#e6f5d0"
            ],
            [
             0.7,
             "#b8e186"
            ],
            [
             0.8,
             "#7fbc41"
            ],
            [
             0.9,
             "#4d9221"
            ],
            [
             1,
             "#276419"
            ]
           ],
           "sequential": [
            [
             0,
             "#0d0887"
            ],
            [
             0.1111111111111111,
             "#46039f"
            ],
            [
             0.2222222222222222,
             "#7201a8"
            ],
            [
             0.3333333333333333,
             "#9c179e"
            ],
            [
             0.4444444444444444,
             "#bd3786"
            ],
            [
             0.5555555555555556,
             "#d8576b"
            ],
            [
             0.6666666666666666,
             "#ed7953"
            ],
            [
             0.7777777777777778,
             "#fb9f3a"
            ],
            [
             0.8888888888888888,
             "#fdca26"
            ],
            [
             1,
             "#f0f921"
            ]
           ],
           "sequentialminus": [
            [
             0,
             "#0d0887"
            ],
            [
             0.1111111111111111,
             "#46039f"
            ],
            [
             0.2222222222222222,
             "#7201a8"
            ],
            [
             0.3333333333333333,
             "#9c179e"
            ],
            [
             0.4444444444444444,
             "#bd3786"
            ],
            [
             0.5555555555555556,
             "#d8576b"
            ],
            [
             0.6666666666666666,
             "#ed7953"
            ],
            [
             0.7777777777777778,
             "#fb9f3a"
            ],
            [
             0.8888888888888888,
             "#fdca26"
            ],
            [
             1,
             "#f0f921"
            ]
           ]
          },
          "colorway": [
           "#636efa",
           "#EF553B",
           "#00cc96",
           "#ab63fa",
           "#FFA15A",
           "#19d3f3",
           "#FF6692",
           "#B6E880",
           "#FF97FF",
           "#FECB52"
          ],
          "font": {
           "color": "#2a3f5f"
          },
          "geo": {
           "bgcolor": "white",
           "lakecolor": "white",
           "landcolor": "#E5ECF6",
           "showlakes": true,
           "showland": true,
           "subunitcolor": "white"
          },
          "hoverlabel": {
           "align": "left"
          },
          "hovermode": "closest",
          "mapbox": {
           "style": "light"
          },
          "paper_bgcolor": "white",
          "plot_bgcolor": "#E5ECF6",
          "polar": {
           "angularaxis": {
            "gridcolor": "white",
            "linecolor": "white",
            "ticks": ""
           },
           "bgcolor": "#E5ECF6",
           "radialaxis": {
            "gridcolor": "white",
            "linecolor": "white",
            "ticks": ""
           }
          },
          "scene": {
           "xaxis": {
            "backgroundcolor": "#E5ECF6",
            "gridcolor": "white",
            "gridwidth": 2,
            "linecolor": "white",
            "showbackground": true,
            "ticks": "",
            "zerolinecolor": "white"
           },
           "yaxis": {
            "backgroundcolor": "#E5ECF6",
            "gridcolor": "white",
            "gridwidth": 2,
            "linecolor": "white",
            "showbackground": true,
            "ticks": "",
            "zerolinecolor": "white"
           },
           "zaxis": {
            "backgroundcolor": "#E5ECF6",
            "gridcolor": "white",
            "gridwidth": 2,
            "linecolor": "white",
            "showbackground": true,
            "ticks": "",
            "zerolinecolor": "white"
           }
          },
          "shapedefaults": {
           "line": {
            "color": "#2a3f5f"
           }
          },
          "ternary": {
           "aaxis": {
            "gridcolor": "white",
            "linecolor": "white",
            "ticks": ""
           },
           "baxis": {
            "gridcolor": "white",
            "linecolor": "white",
            "ticks": ""
           },
           "bgcolor": "#E5ECF6",
           "caxis": {
            "gridcolor": "white",
            "linecolor": "white",
            "ticks": ""
           }
          },
          "title": {
           "x": 0.05
          },
          "xaxis": {
           "automargin": true,
           "gridcolor": "white",
           "linecolor": "white",
           "ticks": "",
           "title": {
            "standoff": 15
           },
           "zerolinecolor": "white",
           "zerolinewidth": 2
          },
          "yaxis": {
           "automargin": true,
           "gridcolor": "white",
           "linecolor": "white",
           "ticks": "",
           "title": {
            "standoff": 15
           },
           "zerolinecolor": "white",
           "zerolinewidth": 2
          }
         }
        },
        "title": {
         "text": "Moving averages over accuracy while learning with window 10"
        },
        "xaxis": {
         "anchor": "y",
         "domain": [
          0,
          1
         ],
         "title": {
          "text": "batches"
         }
        },
        "yaxis": {
         "anchor": "x",
         "domain": [
          0,
          1
         ],
         "title": {
          "text": "accuracy"
         }
        }
       }
      }
     },
     "metadata": {}
    }
   ],
   "source": [
    "#moving averages\n",
    "title = \"Moving averages over accuracy while learning with window {}\".format(n_window)\n",
    "col_names = [\"FIRES\", \"OFS\", \"OFSSGD\", \"FSDS\"]\n",
    "d = {\"FIRES\":fires_moving_average, \"OFS\":ofs_moving_average, \n",
    "\"OFSSGD\":ofssgd_moving_average, \"FSDS\":fsds_moving_average}\n",
    "df = pd.DataFrame(d, columns=col_names)\n",
    "fig = px.line(df, y=col_names, title=title, labels={\"index\":\"batches\", \"value\":\"accuracy\"}, color_discrete_map={'FIRES': 'red', \n",
    "                                                   'FSDS': 'green', 'OFS': 'purple', \"OFSSGD\":\"yellow\"})\n",
    "fig.show()\n"
   ]
  },
  {
   "cell_type": "code",
   "execution_count": 45,
   "metadata": {},
   "outputs": [
    {
     "output_type": "display_data",
     "data": {
      "application/vnd.plotly.v1+json": {
       "config": {
        "plotlyServerURL": "https://plot.ly"
       },
       "data": [
        {
         "hovertemplate": "variable=FIRES<br>batches=%{x}<br>accuracy=%{y}<extra></extra>",
         "legendgroup": "FIRES",
         "line": {
          "color": "red",
          "dash": "solid"
         },
         "mode": "lines",
         "name": "FIRES",
         "orientation": "v",
         "showlegend": true,
         "type": "scatter",
         "x": [
          0,
          1,
          2,
          3,
          4,
          5,
          6,
          7,
          8,
          9,
          10,
          11,
          12,
          13,
          14,
          15,
          16,
          17,
          18,
          19,
          20,
          21,
          22,
          23,
          24,
          25,
          26,
          27,
          28,
          29,
          30,
          31,
          32,
          33,
          34,
          35,
          36,
          37,
          38,
          39,
          40,
          41,
          42,
          43,
          44,
          45,
          46,
          47,
          48,
          49,
          50,
          51,
          52,
          53,
          54,
          55,
          56,
          57,
          58,
          59,
          60,
          61,
          62,
          63,
          64,
          65,
          66,
          67,
          68,
          69,
          70,
          71,
          72,
          73,
          74,
          75,
          76,
          77,
          78,
          79,
          80,
          81,
          82,
          83,
          84,
          85,
          86,
          87,
          88,
          89,
          90,
          91,
          92,
          93,
          94,
          95,
          96,
          97,
          98,
          99,
          100,
          101,
          102,
          103,
          104,
          105,
          106,
          107,
          108,
          109,
          110,
          111,
          112,
          113,
          114,
          115,
          116,
          117,
          118,
          119,
          120,
          121,
          122,
          123,
          124,
          125,
          126,
          127,
          128,
          129,
          130,
          131,
          132,
          133,
          134,
          135,
          136,
          137,
          138,
          139,
          140,
          141,
          142,
          143,
          144,
          145,
          146,
          147,
          148,
          149,
          150,
          151,
          152,
          153,
          154,
          155,
          156,
          157,
          158,
          159,
          160,
          161,
          162,
          163,
          164,
          165,
          166,
          167,
          168,
          169,
          170,
          171,
          172,
          173,
          174,
          175,
          176,
          177,
          178,
          179,
          180,
          181,
          182,
          183,
          184,
          185,
          186,
          187,
          188,
          189,
          190
         ],
         "xaxis": "x",
         "y": [
          0.8869185967219437,
          0.9367248905652638,
          0.9583062022216694,
          0.9778544713619531,
          0.9859829693663749,
          0.9891214126224652,
          0.9901580952380952,
          0.9989199999999998,
          0.9978917868338557,
          0.9969338036405784,
          0.9969338036405784,
          0.9969338036405784,
          0.9969338036405784,
          0.9959407966475714,
          0.9950207966475716,
          0.9950207966475716,
          0.9950207966475716,
          0.9950207966475716,
          0.9960490098137157,
          0.9970069930069931,
          0.9970069930069931,
          0.9941319930069931,
          0.992975130261895,
          0.993968137254902,
          0.9959681372549019,
          0.9959681372549019,
          0.9959681372549019,
          0.9949469990435198,
          0.9949469990435198,
          0.99392085525267,
          0.99392085525267,
          0.9967958552526701,
          0.9968860513311014,
          0.9968860513311014,
          0.9949544495994997,
          0.9949544495994997,
          0.9949544495994997,
          0.9959755878108819,
          0.9959755878108819,
          0.9970017316017316,
          0.9904516657255789,
          0.9894778095164284,
          0.9905444761830949,
          0.9905444761830949,
          0.9914443318829509,
          0.9914443318829509,
          0.9914443318829509,
          0.9914443318829509,
          0.9914443318829509,
          0.9914443318829509,
          0.9969773037420095,
          0.9979511599511598,
          0.9979511599511598,
          0.9969576464376463,
          0.9959497099297099,
          0.9930413907446505,
          0.9930413907446505,
          0.9920246683366237,
          0.9920246683366237,
          0.9920246683366237,
          0.9930417623537178,
          0.9930417623537178,
          0.9930417623537178,
          0.9940352758672312,
          0.9960749584069137,
          0.9989832775919731,
          0.9989832775919731,
          0.9990094117647059,
          0.9979782429335371,
          0.9979782429335371,
          0.992025861981156,
          0.992025861981156,
          0.9910292289845231,
          0.9910292289845231,
          0.9910292289845231,
          0.9910292289845231,
          0.9910292289845231,
          0.9920198172198171,
          0.993050986050986,
          0.993050986050986,
          0.999003367003367,
          0.999003367003367,
          1,
          1,
          1,
          1,
          1,
          1,
          1,
          1,
          0.9095130952380954,
          0.8195599555942339,
          0.7652446614765869,
          0.7431659718886514,
          0.7075408340816152,
          0.6715410723144754,
          0.6594737884173795,
          0.6433827287839771,
          0.6402894514730527,
          0.636292536840844,
          0.7227996944407261,
          0.8087460707995632,
          0.8610669671581066,
          0.8821693721610618,
          0.9167511495344938,
          0.9442990594497817,
          0.9330021334684426,
          0.9480719729426941,
          0.9419458127710231,
          0.9408193077429698,
          0.9398991845003181,
          0.9398782240037475,
          0.9303927715341205,
          0.9264330312743801,
          0.9225959652322742,
          0.9239477704640793,
          0.9453210301162699,
          0.9422757529720786,
          0.9494842972084866,
          0.9515454413398462,
          0.9408580653677092,
          0.944885789149304,
          0.955369448901844,
          0.9546589536000443,
          0.9595393800757549,
          0.9666394266958015,
          0.9646614941131082,
          0.9677324122829406,
          0.9688899721957945,
          0.9621286366135855,
          0.9757226800726253,
          0.9747131562631015,
          0.9737434376483829,
          0.9783962735843768,
          0.9686997162258011,
          0.9676875458404055,
          0.9695866154065585,
          0.9695599723178466,
          0.97041330565118,
          0.976039057726785,
          0.9759539997749916,
          0.9750071757928735,
          0.9769730848837825,
          0.9759164615071592,
          0.9835986339794964,
          0.9769916417239903,
          0.9759832201556089,
          0.9751110581413778,
          0.9731110581413779,
          0.977308917176884,
          0.9784056395849106,
          0.9793637265069874,
          0.9773742162201138,
          0.9794245238072635,
          0.9814389086935021,
          0.9880368511752525,
          0.9911150859864184,
          0.9930094702228717,
          0.9950094702228716,
          0.9929998307395479,
          0.9929876925976536,
          0.9929769036934634,
          0.993953131247889,
          0.9929605846640379,
          0.9919899101772345,
          0.9920058393310945,
          0.9900132668673264,
          0.9900132668673265,
          0.9880267589308186,
          0.9900363984141421,
          0.9910300750175749,
          0.9920391247913306,
          0.9930524075237784,
          0.9849089033829918,
          0.9858795778697953,
          0.9868848688750862,
          0.9878890355417529,
          0.9826851854465983,
          0.9804911144848806,
          0.9763363665038167,
          0.9610310892431796,
          0.9559963455705047,
          0.9549918478193804,
          0.9591210658492544,
          0.9572127720969709,
          0.9540543492840857,
          0.9550427550811872,
          0.9602466051763419,
          0.9634358420832256,
          0.9665840219197902,
          0.9799128526878519
         ],
         "yaxis": "y"
        },
        {
         "hovertemplate": "variable=OFS<br>batches=%{x}<br>accuracy=%{y}<extra></extra>",
         "legendgroup": "OFS",
         "line": {
          "color": "purple",
          "dash": "solid"
         },
         "mode": "lines",
         "name": "OFS",
         "orientation": "v",
         "showlegend": true,
         "type": "scatter",
         "x": [
          0,
          1,
          2,
          3,
          4,
          5,
          6,
          7,
          8,
          9,
          10,
          11,
          12,
          13,
          14,
          15,
          16,
          17,
          18,
          19,
          20,
          21,
          22,
          23,
          24,
          25,
          26,
          27,
          28,
          29,
          30,
          31,
          32,
          33,
          34,
          35,
          36,
          37,
          38,
          39,
          40,
          41,
          42,
          43,
          44,
          45,
          46,
          47,
          48,
          49,
          50,
          51,
          52,
          53,
          54,
          55,
          56,
          57,
          58,
          59,
          60,
          61,
          62,
          63,
          64,
          65,
          66,
          67,
          68,
          69,
          70,
          71,
          72,
          73,
          74,
          75,
          76,
          77,
          78,
          79,
          80,
          81,
          82,
          83,
          84,
          85,
          86,
          87,
          88,
          89,
          90,
          91,
          92,
          93,
          94,
          95,
          96,
          97,
          98,
          99,
          100,
          101,
          102,
          103,
          104,
          105,
          106,
          107,
          108,
          109,
          110,
          111,
          112,
          113,
          114,
          115,
          116,
          117,
          118,
          119,
          120,
          121,
          122,
          123,
          124,
          125,
          126,
          127,
          128,
          129,
          130,
          131,
          132,
          133,
          134,
          135,
          136,
          137,
          138,
          139,
          140,
          141,
          142,
          143,
          144,
          145,
          146,
          147,
          148,
          149,
          150,
          151,
          152,
          153,
          154,
          155,
          156,
          157,
          158,
          159,
          160,
          161,
          162,
          163,
          164,
          165,
          166,
          167,
          168,
          169,
          170,
          171,
          172,
          173,
          174,
          175,
          176,
          177,
          178,
          179,
          180,
          181,
          182,
          183,
          184,
          185,
          186,
          187,
          188,
          189,
          190
         ],
         "xaxis": "x",
         "y": [
          0.9155361861736475,
          0.9349829253532619,
          0.9508723026426391,
          0.9571493589196954,
          0.9718190449100336,
          0.9649074643489994,
          0.971812396018637,
          0.9745255273317683,
          0.9776969559031968,
          0.9776969559031968,
          0.9798358447920859,
          0.9900583540794887,
          0.9900583540794887,
          0.9869135264932819,
          0.9869135264932819,
          0.995823426382047,
          0.995823426382047,
          0.995823426382047,
          0.995823426382047,
          0.995823426382047,
          0.995823426382047,
          0.9939801724137931,
          0.9900635512099379,
          0.9932083787961448,
          0.9932083787961448,
          0.9932083787961448,
          0.9932083787961448,
          0.9921872405847626,
          0.9921872405847626,
          0.9903483516958737,
          0.9903483516958737,
          0.9932233516958737,
          0.9960733062330623,
          0.9960733062330623,
          0.9940161633759195,
          0.9940161633759195,
          0.9940161633759195,
          0.9950373015873015,
          0.9950373015873015,
          0.9968761904761905,
          0.9968761904761905,
          0.9968761904761905,
          0.997942857142857,
          0.997942857142857,
          0.9989572649572651,
          0.9989572649572651,
          0.9989572649572651,
          0.9989572649572651,
          0.9989572649572651,
          0.9989572649572651,
          0.9989572649572651,
          0.9989572649572651,
          0.9989572649572651,
          0.9989572649572651,
          1,
          1,
          1,
          1,
          1,
          1,
          1,
          1,
          1,
          1,
          1,
          1,
          1,
          1,
          1,
          1,
          1,
          1,
          1,
          1,
          1,
          1,
          1,
          1,
          1,
          1,
          1,
          1,
          1,
          1,
          1,
          0.99225,
          0.9892916666666667,
          0.9883236076986078,
          0.9883236076986076,
          0.9806863460241118,
          0.8874450872828531,
          0.8294235285921525,
          0.7964051062554759,
          0.7481734901935193,
          0.7078435534635825,
          0.6882015231030512,
          0.6696453938092285,
          0.6573462236751202,
          0.6492191749284313,
          0.637291703921815,
          0.723134315939427,
          0.7781546441577016,
          0.8111730664943781,
          0.8466991880508404,
          0.8830654632809866,
          0.9094562165023097,
          0.9279630854031092,
          0.9291900094943832,
          0.9334760444161873,
          0.9510411188607989,
          0.9584397655844455,
          0.9604398837098195,
          0.9546626953809071,
          0.9663747775016848,
          0.9703384390014753,
          0.9713397161406835,
          0.9743473098670401,
          0.9824653630007759,
          0.9863063768256607,
          0.9779754152694361,
          0.9740539381896397,
          0.9750550505366921,
          0.9715799080385368,
          0.9705101395953669,
          0.9694650268134121,
          0.9684555030038883,
          0.9664426925463718,
          0.9673554004150458,
          0.9628952277635687,
          0.9700929854159355,
          0.9625614876673563,
          0.9625614876673563,
          0.9718138184944239,
          0.9708365195621909,
          0.9698918887544021,
          0.970901412563926,
          0.9626221580737673,
          0.9636299629518159,
          0.9680901356032929,
          0.9692109751947868,
          0.980663950023162,
          0.9746223416315537,
          0.9746223416315537,
          0.9776628213916734,
          0.9796525649814172,
          0.9776555206464419,
          0.985986901833433,
          0.9859603800943025,
          0.9819600213226394,
          0.9809088859767673,
          0.9781075005342528,
          0.9801614241967972,
          0.9702771591864451,
          0.9682979200560103,
          0.9658312533893438,
          0.9668098361858576,
          0.966796710422732,
          0.9678051514724773,
          0.9718055102441404,
          0.9748686681388772,
          0.9776700535813918,
          0.9775167244855709,
          0.9874009894959229,
          0.9862358158703296,
          0.9887024825369963,
          0.9897209440754577,
          0.9896857116827921,
          0.9865940469087743,
          0.9865940469087743,
          0.9865940469087743,
          0.9865940469087743,
          0.9897273880993881,
          0.9897273880993881,
          0.9919035468871622,
          0.9919035468871622,
          0.9907631960099692,
          0.9907811403379837,
          0.9939309391080664,
          0.9911443778432444,
          0.9901555421175665,
          0.98810988555191,
          0.9811790364928207,
          0.9802128529179415,
          0.9791876750306946,
          0.9770761923105162,
          0.9734690684402343,
          0.972832246117683,
          0.9513639912306621,
          0.9541505524954841,
          0.9531118769089449,
          0.9551575334746014
         ],
         "yaxis": "y"
        },
        {
         "hovertemplate": "variable=OFSSGD<br>batches=%{x}<br>accuracy=%{y}<extra></extra>",
         "legendgroup": "OFSSGD",
         "line": {
          "color": "yellow",
          "dash": "solid"
         },
         "mode": "lines",
         "name": "OFSSGD",
         "orientation": "v",
         "showlegend": true,
         "type": "scatter",
         "x": [
          0,
          1,
          2,
          3,
          4,
          5,
          6,
          7,
          8,
          9,
          10,
          11,
          12,
          13,
          14,
          15,
          16,
          17,
          18,
          19,
          20,
          21,
          22,
          23,
          24,
          25,
          26,
          27,
          28,
          29,
          30,
          31,
          32,
          33,
          34,
          35,
          36,
          37,
          38,
          39,
          40,
          41,
          42,
          43,
          44,
          45,
          46,
          47,
          48,
          49,
          50,
          51,
          52,
          53,
          54,
          55,
          56,
          57,
          58,
          59,
          60,
          61,
          62,
          63,
          64,
          65,
          66,
          67,
          68,
          69,
          70,
          71,
          72,
          73,
          74,
          75,
          76,
          77,
          78,
          79,
          80,
          81,
          82,
          83,
          84,
          85,
          86,
          87,
          88,
          89,
          90,
          91,
          92,
          93,
          94,
          95,
          96,
          97,
          98,
          99,
          100,
          101,
          102,
          103,
          104,
          105,
          106,
          107,
          108,
          109,
          110,
          111,
          112,
          113,
          114,
          115,
          116,
          117,
          118,
          119,
          120,
          121,
          122,
          123,
          124,
          125,
          126,
          127,
          128,
          129,
          130,
          131,
          132,
          133,
          134,
          135,
          136,
          137,
          138,
          139,
          140,
          141,
          142,
          143,
          144,
          145,
          146,
          147,
          148,
          149,
          150,
          151,
          152,
          153,
          154,
          155,
          156,
          157,
          158,
          159,
          160,
          161,
          162,
          163,
          164,
          165,
          166,
          167,
          168,
          169,
          170,
          171,
          172,
          173,
          174,
          175,
          176,
          177,
          178,
          179,
          180,
          181,
          182,
          183,
          184,
          185,
          186,
          187,
          188,
          189,
          190
         ],
         "xaxis": "x",
         "y": [
          0.9278666668360032,
          0.9574738401948928,
          0.985014942951785,
          0.9969108521108521,
          0.9979360720522011,
          0.9979360720522011,
          0.9979360720522011,
          0.9979360720522011,
          0.9979360720522011,
          0.9969622158430509,
          0.9969622158430509,
          0.9979422728231079,
          0.9979422728231079,
          0.9979422728231079,
          0.9990261437908498,
          0.9990261437908498,
          0.9990261437908498,
          0.9990261437908498,
          0.9990261437908498,
          1,
          1,
          0.9970526315789472,
          0.995919298245614,
          0.995919298245614,
          0.995919298245614,
          0.9949454420364636,
          0.9949454420364636,
          0.9949454420364636,
          0.9949454420364636,
          0.9949454420364636,
          0.9949454420364636,
          0.9978928104575164,
          0.9979461437908498,
          0.9979461437908498,
          0.9979461437908498,
          0.99892,
          0.99892,
          0.99892,
          0.99892,
          0.99892,
          0.99892,
          0.99892,
          1,
          1,
          1,
          1,
          1,
          1,
          1,
          1,
          0.9989682539682538,
          0.9989682539682538,
          0.9989682539682538,
          0.9989682539682538,
          0.9989682539682538,
          0.9989682539682538,
          0.9989682539682538,
          0.9989682539682538,
          0.9989682539682538,
          0.9989682539682538,
          1,
          0.9942666666666667,
          0.9942666666666667,
          0.9931151515151516,
          0.9931151515151516,
          0.9931151515151516,
          0.9931151515151516,
          0.9931151515151516,
          0.9931151515151516,
          0.9931151515151516,
          0.9931151515151516,
          0.9988484848484849,
          0.9988484848484849,
          1,
          1,
          1,
          1,
          1,
          1,
          1,
          1,
          0.9981109391124869,
          0.9981109391124872,
          0.9981109391124872,
          0.9981109391124872,
          0.9981109391124872,
          0.9981109391124872,
          0.9981109391124872,
          0.9981109391124872,
          0.997117542193925,
          0.8996199931743172,
          0.8464484923057162,
          0.7790083824156062,
          0.7578542066536206,
          0.7531192842578632,
          0.7399783941732391,
          0.7350111527939288,
          0.7173820152647912,
          0.7153756994753175,
          0.6970516360764192,
          0.794549185096027,
          0.8496097468521413,
          0.9170498567422511,
          0.9382040325042368,
          0.9419097151339122,
          0.9550506052185362,
          0.9590140370740372,
          0.9766431746031745,
          0.9786494903926484,
          0.9979669507101085,
          0.9949350943943813,
          0.9939378530150709,
          0.9929136771908951,
          0.9909175987595227,
          0.98902129274522,
          0.9853085943325215,
          0.9843985733327445,
          0.9823859937554589,
          0.9808517946212598,
          0.9808517946212598,
          0.9838836509369872,
          0.9848808923162975,
          0.9828600230954283,
          0.9848561015268007,
          0.9877816473071853,
          0.9914943457198838,
          0.9934081762434703,
          0.9944112118122723,
          0.994952428490331,
          0.994952428490331,
          0.994952428490331,
          0.994952428490331,
          0.997997473535376,
          0.9959311967322572,
          0.9949357733912961,
          0.9949357733912961,
          0.9949357733912961,
          0.9949097618442242,
          0.9959027443003645,
          0.9948936698902011,
          0.9927770032235343,
          0.9888314545692902,
          0.9888314545692902,
          0.9879834456581232,
          0.9889788689990844,
          0.9879723008545852,
          0.9860190795660697,
          0.9855285048534261,
          0.9806870130119343,
          0.9816960874220977,
          0.9828151435750249,
          0.9867606922292691,
          0.9867606922292691,
          0.9896749779435549,
          0.9886819954874145,
          0.9896885636319135,
          0.991641784920429,
          0.9921755878228993,
          0.9970170796643913,
          0.9970170796643913,
          0.9980146901781307,
          0.9970762286396692,
          0.9970762286396692,
          0.9970762286396692,
          0.9980692110958096,
          0.9980692110958096,
          0.9980692110958096,
          0.9990615384615384,
          0.9990615384615384,
          0.9990615384615384,
          0.9990615384615384,
          1,
          1,
          1,
          1,
          1,
          1,
          1,
          1,
          1,
          1,
          1,
          1,
          1,
          0.9989943899018232,
          0.9979811071693755,
          0.9979811071693755,
          0.9979811071693755,
          0.9970593680389408,
          0.9960432760849178,
          0.9960432760849178
         ],
         "yaxis": "y"
        },
        {
         "hovertemplate": "variable=FSDS<br>batches=%{x}<br>accuracy=%{y}<extra></extra>",
         "legendgroup": "FSDS",
         "line": {
          "color": "green",
          "dash": "solid"
         },
         "mode": "lines",
         "name": "FSDS",
         "orientation": "v",
         "showlegend": true,
         "type": "scatter",
         "x": [
          0,
          1,
          2,
          3,
          4,
          5,
          6,
          7,
          8,
          9,
          10,
          11,
          12,
          13,
          14,
          15,
          16,
          17,
          18,
          19,
          20,
          21,
          22,
          23,
          24,
          25,
          26,
          27,
          28,
          29,
          30,
          31,
          32,
          33,
          34,
          35,
          36,
          37,
          38,
          39,
          40,
          41,
          42,
          43,
          44,
          45,
          46,
          47,
          48,
          49,
          50,
          51,
          52,
          53,
          54,
          55,
          56,
          57,
          58,
          59,
          60,
          61,
          62,
          63,
          64,
          65,
          66,
          67,
          68,
          69,
          70,
          71,
          72,
          73,
          74,
          75,
          76,
          77,
          78,
          79,
          80,
          81,
          82,
          83,
          84,
          85,
          86,
          87,
          88,
          89,
          90,
          91,
          92,
          93,
          94,
          95,
          96,
          97,
          98,
          99,
          100,
          101,
          102,
          103,
          104,
          105,
          106,
          107,
          108,
          109,
          110,
          111,
          112,
          113,
          114,
          115,
          116,
          117,
          118,
          119,
          120,
          121,
          122,
          123,
          124,
          125,
          126,
          127,
          128,
          129,
          130,
          131,
          132,
          133,
          134,
          135,
          136,
          137,
          138,
          139,
          140,
          141,
          142,
          143,
          144,
          145,
          146,
          147,
          148,
          149,
          150,
          151,
          152,
          153,
          154,
          155,
          156,
          157,
          158,
          159,
          160,
          161,
          162,
          163,
          164,
          165,
          166,
          167,
          168,
          169,
          170,
          171,
          172,
          173,
          174,
          175,
          176,
          177,
          178,
          179,
          180,
          181,
          182,
          183,
          184,
          185,
          186,
          187,
          188,
          189,
          190
         ],
         "xaxis": "x",
         "y": [
          0.946818270209193,
          0.9774830860013672,
          0.9833739937768575,
          0.9853932238871094,
          0.9864302609241464,
          0.9864302609241464,
          0.9874669435397765,
          0.9903891657619986,
          0.991403426011553,
          0.9904073475801803,
          0.9939205054749172,
          0.9959447478991595,
          0.9979983193277311,
          0.9990039215686274,
          0.9990039215686274,
          0.9990039215686274,
          0.9990039215686274,
          0.9990039215686274,
          0.9990039215686274,
          1,
          1,
          0.9971249999999999,
          0.9971249999999999,
          0.9971249999999999,
          0.9971249999999999,
          0.9961098739495797,
          0.9961098739495797,
          0.9950209850606908,
          0.9950209850606908,
          0.9940093908577923,
          0.9940093908577923,
          0.9968843908577923,
          0.9938279806013821,
          0.9938279806013821,
          0.9938279806013821,
          0.9948431066518022,
          0.9948431066518022,
          0.9959319955406911,
          0.9959319955406911,
          0.9922290418353577,
          0.9922290418353577,
          0.9922290418353577,
          0.9952854520917679,
          0.9952854520917679,
          0.9952854520917679,
          0.9952854520917679,
          0.9952854520917679,
          0.9952854520917679,
          0.9952854520917679,
          1,
          1,
          1,
          1,
          1,
          1,
          1,
          1,
          1,
          1,
          1,
          1,
          1,
          1,
          1,
          1,
          1,
          0.9925374072522894,
          0.9925374072522894,
          0.9925374072522894,
          0.9925374072522894,
          0.9925374072522894,
          0.9859973451404882,
          0.9850007121438551,
          0.9850007121438551,
          0.9850007121438551,
          0.9850007121438551,
          0.9924633048915658,
          0.9924633048915658,
          0.9924633048915658,
          0.9924633048915658,
          0.9924633048915658,
          0.999003367003367,
          1,
          1,
          1,
          1,
          1,
          1,
          1,
          0.9990111008325624,
          0.9052206499041805,
          0.8441603973439278,
          0.8055270640105947,
          0.7821801057097604,
          0.7562214419507958,
          0.7458918537895716,
          0.7233880948034594,
          0.7097994109011257,
          0.6984071007218835,
          0.6878232804518958,
          0.7681972640756526,
          0.8125238762925087,
          0.8501462206148529,
          0.8704658595683679,
          0.8964245233273325,
          0.8967148957528573,
          0.907424067389664,
          0.9191209564202028,
          0.9295324053554257,
          0.9381184581261846,
          0.9505216426983619,
          0.9662618511862575,
          0.9652505076910431,
          0.9682778270383625,
          0.9682778270383625,
          0.978317042774062,
          0.9880680740838557,
          0.9879559473870231,
          0.9848955387897724,
          0.987882205456439,
          0.9888954881888867,
          0.9898889200443877,
          0.9919112525505911,
          0.990920664315297,
          0.9872575064205602,
          0.9872575064205602,
          0.9893010624600717,
          0.9903082925481368,
          0.9943495623894065,
          0.993353371913216,
          0.993353371913216,
          0.993353371913216,
          0.993353371913216,
          0.9943439601485101,
          0.9980071180432472,
          0.9980071180432472,
          0.9980071180432472,
          0.9959589934702977,
          0.9959589934702979,
          0.995958139611513,
          0.995958139611513,
          0.995958139611513,
          0.995958139611513,
          0.9949748620195397,
          0.9949748620195397,
          0.9939727916261649,
          0.9939727916261649,
          0.9950482396035338,
          0.9940429485982426,
          0.995039992933218,
          0.995039992933218,
          0.995039992933218,
          0.995039992933218,
          0.9940117190658979,
          0.9940117190658981,
          0.9950137894592729,
          0.9940233132687967,
          0.9950003539792105,
          0.9960056449845016,
          0.9950018354606922,
          0.9843138223244031,
          0.9843138223244031,
          0.9843138223244031,
          0.9853253737836966,
          0.9843305019888247,
          0.9843305019888244,
          0.9833083965580235,
          0.9843007239237525,
          0.9822468246066952,
          0.9832506341305048,
          0.9939386472667937,
          0.9929309746325226,
          0.9929309746325226,
          0.9929244064880234,
          0.9939192782828952,
          0.9939192782828952,
          0.9949289042391479,
          0.9949289042391479,
          0.996982803556205,
          0.996982803556205,
          0.9950439290973305,
          0.9911594805194806,
          0.9911594805194806,
          0.9921660486639798,
          0.9921660486639798,
          0.9891004526887475,
          0.990103408353772,
          0.990103408353772,
          0.990103408353772,
          0.990103408353772,
          0.9920422828126465
         ],
         "yaxis": "y"
        }
       ],
       "layout": {
        "legend": {
         "title": {
          "text": "variable"
         },
         "tracegroupgap": 0
        },
        "template": {
         "data": {
          "bar": [
           {
            "error_x": {
             "color": "#2a3f5f"
            },
            "error_y": {
             "color": "#2a3f5f"
            },
            "marker": {
             "line": {
              "color": "#E5ECF6",
              "width": 0.5
             }
            },
            "type": "bar"
           }
          ],
          "barpolar": [
           {
            "marker": {
             "line": {
              "color": "#E5ECF6",
              "width": 0.5
             }
            },
            "type": "barpolar"
           }
          ],
          "carpet": [
           {
            "aaxis": {
             "endlinecolor": "#2a3f5f",
             "gridcolor": "white",
             "linecolor": "white",
             "minorgridcolor": "white",
             "startlinecolor": "#2a3f5f"
            },
            "baxis": {
             "endlinecolor": "#2a3f5f",
             "gridcolor": "white",
             "linecolor": "white",
             "minorgridcolor": "white",
             "startlinecolor": "#2a3f5f"
            },
            "type": "carpet"
           }
          ],
          "choropleth": [
           {
            "colorbar": {
             "outlinewidth": 0,
             "ticks": ""
            },
            "type": "choropleth"
           }
          ],
          "contour": [
           {
            "colorbar": {
             "outlinewidth": 0,
             "ticks": ""
            },
            "colorscale": [
             [
              0,
              "#0d0887"
             ],
             [
              0.1111111111111111,
              "#46039f"
             ],
             [
              0.2222222222222222,
              "#7201a8"
             ],
             [
              0.3333333333333333,
              "#9c179e"
             ],
             [
              0.4444444444444444,
              "#bd3786"
             ],
             [
              0.5555555555555556,
              "#d8576b"
             ],
             [
              0.6666666666666666,
              "#ed7953"
             ],
             [
              0.7777777777777778,
              "#fb9f3a"
             ],
             [
              0.8888888888888888,
              "#fdca26"
             ],
             [
              1,
              "#f0f921"
             ]
            ],
            "type": "contour"
           }
          ],
          "contourcarpet": [
           {
            "colorbar": {
             "outlinewidth": 0,
             "ticks": ""
            },
            "type": "contourcarpet"
           }
          ],
          "heatmap": [
           {
            "colorbar": {
             "outlinewidth": 0,
             "ticks": ""
            },
            "colorscale": [
             [
              0,
              "#0d0887"
             ],
             [
              0.1111111111111111,
              "#46039f"
             ],
             [
              0.2222222222222222,
              "#7201a8"
             ],
             [
              0.3333333333333333,
              "#9c179e"
             ],
             [
              0.4444444444444444,
              "#bd3786"
             ],
             [
              0.5555555555555556,
              "#d8576b"
             ],
             [
              0.6666666666666666,
              "#ed7953"
             ],
             [
              0.7777777777777778,
              "#fb9f3a"
             ],
             [
              0.8888888888888888,
              "#fdca26"
             ],
             [
              1,
              "#f0f921"
             ]
            ],
            "type": "heatmap"
           }
          ],
          "heatmapgl": [
           {
            "colorbar": {
             "outlinewidth": 0,
             "ticks": ""
            },
            "colorscale": [
             [
              0,
              "#0d0887"
             ],
             [
              0.1111111111111111,
              "#46039f"
             ],
             [
              0.2222222222222222,
              "#7201a8"
             ],
             [
              0.3333333333333333,
              "#9c179e"
             ],
             [
              0.4444444444444444,
              "#bd3786"
             ],
             [
              0.5555555555555556,
              "#d8576b"
             ],
             [
              0.6666666666666666,
              "#ed7953"
             ],
             [
              0.7777777777777778,
              "#fb9f3a"
             ],
             [
              0.8888888888888888,
              "#fdca26"
             ],
             [
              1,
              "#f0f921"
             ]
            ],
            "type": "heatmapgl"
           }
          ],
          "histogram": [
           {
            "marker": {
             "colorbar": {
              "outlinewidth": 0,
              "ticks": ""
             }
            },
            "type": "histogram"
           }
          ],
          "histogram2d": [
           {
            "colorbar": {
             "outlinewidth": 0,
             "ticks": ""
            },
            "colorscale": [
             [
              0,
              "#0d0887"
             ],
             [
              0.1111111111111111,
              "#46039f"
             ],
             [
              0.2222222222222222,
              "#7201a8"
             ],
             [
              0.3333333333333333,
              "#9c179e"
             ],
             [
              0.4444444444444444,
              "#bd3786"
             ],
             [
              0.5555555555555556,
              "#d8576b"
             ],
             [
              0.6666666666666666,
              "#ed7953"
             ],
             [
              0.7777777777777778,
              "#fb9f3a"
             ],
             [
              0.8888888888888888,
              "#fdca26"
             ],
             [
              1,
              "#f0f921"
             ]
            ],
            "type": "histogram2d"
           }
          ],
          "histogram2dcontour": [
           {
            "colorbar": {
             "outlinewidth": 0,
             "ticks": ""
            },
            "colorscale": [
             [
              0,
              "#0d0887"
             ],
             [
              0.1111111111111111,
              "#46039f"
             ],
             [
              0.2222222222222222,
              "#7201a8"
             ],
             [
              0.3333333333333333,
              "#9c179e"
             ],
             [
              0.4444444444444444,
              "#bd3786"
             ],
             [
              0.5555555555555556,
              "#d8576b"
             ],
             [
              0.6666666666666666,
              "#ed7953"
             ],
             [
              0.7777777777777778,
              "#fb9f3a"
             ],
             [
              0.8888888888888888,
              "#fdca26"
             ],
             [
              1,
              "#f0f921"
             ]
            ],
            "type": "histogram2dcontour"
           }
          ],
          "mesh3d": [
           {
            "colorbar": {
             "outlinewidth": 0,
             "ticks": ""
            },
            "type": "mesh3d"
           }
          ],
          "parcoords": [
           {
            "line": {
             "colorbar": {
              "outlinewidth": 0,
              "ticks": ""
             }
            },
            "type": "parcoords"
           }
          ],
          "pie": [
           {
            "automargin": true,
            "type": "pie"
           }
          ],
          "scatter": [
           {
            "marker": {
             "colorbar": {
              "outlinewidth": 0,
              "ticks": ""
             }
            },
            "type": "scatter"
           }
          ],
          "scatter3d": [
           {
            "line": {
             "colorbar": {
              "outlinewidth": 0,
              "ticks": ""
             }
            },
            "marker": {
             "colorbar": {
              "outlinewidth": 0,
              "ticks": ""
             }
            },
            "type": "scatter3d"
           }
          ],
          "scattercarpet": [
           {
            "marker": {
             "colorbar": {
              "outlinewidth": 0,
              "ticks": ""
             }
            },
            "type": "scattercarpet"
           }
          ],
          "scattergeo": [
           {
            "marker": {
             "colorbar": {
              "outlinewidth": 0,
              "ticks": ""
             }
            },
            "type": "scattergeo"
           }
          ],
          "scattergl": [
           {
            "marker": {
             "colorbar": {
              "outlinewidth": 0,
              "ticks": ""
             }
            },
            "type": "scattergl"
           }
          ],
          "scattermapbox": [
           {
            "marker": {
             "colorbar": {
              "outlinewidth": 0,
              "ticks": ""
             }
            },
            "type": "scattermapbox"
           }
          ],
          "scatterpolar": [
           {
            "marker": {
             "colorbar": {
              "outlinewidth": 0,
              "ticks": ""
             }
            },
            "type": "scatterpolar"
           }
          ],
          "scatterpolargl": [
           {
            "marker": {
             "colorbar": {
              "outlinewidth": 0,
              "ticks": ""
             }
            },
            "type": "scatterpolargl"
           }
          ],
          "scatterternary": [
           {
            "marker": {
             "colorbar": {
              "outlinewidth": 0,
              "ticks": ""
             }
            },
            "type": "scatterternary"
           }
          ],
          "surface": [
           {
            "colorbar": {
             "outlinewidth": 0,
             "ticks": ""
            },
            "colorscale": [
             [
              0,
              "#0d0887"
             ],
             [
              0.1111111111111111,
              "#46039f"
             ],
             [
              0.2222222222222222,
              "#7201a8"
             ],
             [
              0.3333333333333333,
              "#9c179e"
             ],
             [
              0.4444444444444444,
              "#bd3786"
             ],
             [
              0.5555555555555556,
              "#d8576b"
             ],
             [
              0.6666666666666666,
              "#ed7953"
             ],
             [
              0.7777777777777778,
              "#fb9f3a"
             ],
             [
              0.8888888888888888,
              "#fdca26"
             ],
             [
              1,
              "#f0f921"
             ]
            ],
            "type": "surface"
           }
          ],
          "table": [
           {
            "cells": {
             "fill": {
              "color": "#EBF0F8"
             },
             "line": {
              "color": "white"
             }
            },
            "header": {
             "fill": {
              "color": "#C8D4E3"
             },
             "line": {
              "color": "white"
             }
            },
            "type": "table"
           }
          ]
         },
         "layout": {
          "annotationdefaults": {
           "arrowcolor": "#2a3f5f",
           "arrowhead": 0,
           "arrowwidth": 1
          },
          "autotypenumbers": "strict",
          "coloraxis": {
           "colorbar": {
            "outlinewidth": 0,
            "ticks": ""
           }
          },
          "colorscale": {
           "diverging": [
            [
             0,
             "#8e0152"
            ],
            [
             0.1,
             "#c51b7d"
            ],
            [
             0.2,
             "#de77ae"
            ],
            [
             0.3,
             "#f1b6da"
            ],
            [
             0.4,
             "#fde0ef"
            ],
            [
             0.5,
             "#f7f7f7"
            ],
            [
             0.6,
             "#e6f5d0"
            ],
            [
             0.7,
             "#b8e186"
            ],
            [
             0.8,
             "#7fbc41"
            ],
            [
             0.9,
             "#4d9221"
            ],
            [
             1,
             "#276419"
            ]
           ],
           "sequential": [
            [
             0,
             "#0d0887"
            ],
            [
             0.1111111111111111,
             "#46039f"
            ],
            [
             0.2222222222222222,
             "#7201a8"
            ],
            [
             0.3333333333333333,
             "#9c179e"
            ],
            [
             0.4444444444444444,
             "#bd3786"
            ],
            [
             0.5555555555555556,
             "#d8576b"
            ],
            [
             0.6666666666666666,
             "#ed7953"
            ],
            [
             0.7777777777777778,
             "#fb9f3a"
            ],
            [
             0.8888888888888888,
             "#fdca26"
            ],
            [
             1,
             "#f0f921"
            ]
           ],
           "sequentialminus": [
            [
             0,
             "#0d0887"
            ],
            [
             0.1111111111111111,
             "#46039f"
            ],
            [
             0.2222222222222222,
             "#7201a8"
            ],
            [
             0.3333333333333333,
             "#9c179e"
            ],
            [
             0.4444444444444444,
             "#bd3786"
            ],
            [
             0.5555555555555556,
             "#d8576b"
            ],
            [
             0.6666666666666666,
             "#ed7953"
            ],
            [
             0.7777777777777778,
             "#fb9f3a"
            ],
            [
             0.8888888888888888,
             "#fdca26"
            ],
            [
             1,
             "#f0f921"
            ]
           ]
          },
          "colorway": [
           "#636efa",
           "#EF553B",
           "#00cc96",
           "#ab63fa",
           "#FFA15A",
           "#19d3f3",
           "#FF6692",
           "#B6E880",
           "#FF97FF",
           "#FECB52"
          ],
          "font": {
           "color": "#2a3f5f"
          },
          "geo": {
           "bgcolor": "white",
           "lakecolor": "white",
           "landcolor": "#E5ECF6",
           "showlakes": true,
           "showland": true,
           "subunitcolor": "white"
          },
          "hoverlabel": {
           "align": "left"
          },
          "hovermode": "closest",
          "mapbox": {
           "style": "light"
          },
          "paper_bgcolor": "white",
          "plot_bgcolor": "#E5ECF6",
          "polar": {
           "angularaxis": {
            "gridcolor": "white",
            "linecolor": "white",
            "ticks": ""
           },
           "bgcolor": "#E5ECF6",
           "radialaxis": {
            "gridcolor": "white",
            "linecolor": "white",
            "ticks": ""
           }
          },
          "scene": {
           "xaxis": {
            "backgroundcolor": "#E5ECF6",
            "gridcolor": "white",
            "gridwidth": 2,
            "linecolor": "white",
            "showbackground": true,
            "ticks": "",
            "zerolinecolor": "white"
           },
           "yaxis": {
            "backgroundcolor": "#E5ECF6",
            "gridcolor": "white",
            "gridwidth": 2,
            "linecolor": "white",
            "showbackground": true,
            "ticks": "",
            "zerolinecolor": "white"
           },
           "zaxis": {
            "backgroundcolor": "#E5ECF6",
            "gridcolor": "white",
            "gridwidth": 2,
            "linecolor": "white",
            "showbackground": true,
            "ticks": "",
            "zerolinecolor": "white"
           }
          },
          "shapedefaults": {
           "line": {
            "color": "#2a3f5f"
           }
          },
          "ternary": {
           "aaxis": {
            "gridcolor": "white",
            "linecolor": "white",
            "ticks": ""
           },
           "baxis": {
            "gridcolor": "white",
            "linecolor": "white",
            "ticks": ""
           },
           "bgcolor": "#E5ECF6",
           "caxis": {
            "gridcolor": "white",
            "linecolor": "white",
            "ticks": ""
           }
          },
          "title": {
           "x": 0.05
          },
          "xaxis": {
           "automargin": true,
           "gridcolor": "white",
           "linecolor": "white",
           "ticks": "",
           "title": {
            "standoff": 15
           },
           "zerolinecolor": "white",
           "zerolinewidth": 2
          },
          "yaxis": {
           "automargin": true,
           "gridcolor": "white",
           "linecolor": "white",
           "ticks": "",
           "title": {
            "standoff": 15
           },
           "zerolinecolor": "white",
           "zerolinewidth": 2
          }
         }
        },
        "title": {
         "text": "Moving averages over f1 while learning with window 10"
        },
        "xaxis": {
         "anchor": "y",
         "domain": [
          0,
          1
         ],
         "title": {
          "text": "batches"
         }
        },
        "yaxis": {
         "anchor": "x",
         "domain": [
          0,
          1
         ],
         "title": {
          "text": "accuracy"
         }
        }
       }
      }
     },
     "metadata": {}
    }
   ],
   "source": [
    "#moving averages\n",
    "title = \"Moving averages over f1 while learning with window {}\".format(n_window)\n",
    "col_names = [\"FIRES\", \"OFS\", \"OFSSGD\", \"FSDS\"]\n",
    "d = {\"FIRES\":fires_f1, \"OFS\":ofs_f1, \n",
    "\"OFSSGD\":ofssgd_f1, \"FSDS\":fsds_f1}\n",
    "df = pd.DataFrame(d, columns=col_names)\n",
    "fig = px.line(df, y=col_names, title=title, labels={\"index\":\"batches\", \"value\":\"accuracy\"}, color_discrete_map={'FIRES': 'red', \n",
    "                                                   'FSDS': 'green', 'OFS': 'purple', \"OFSSGD\":\"yellow\", \"random\":\"cyan\"})\n",
    "fig.show()\n",
    "\n",
    "\n"
   ]
  },
  {
   "cell_type": "code",
   "execution_count": 43,
   "metadata": {},
   "outputs": [
    {
     "output_type": "execute_result",
     "data": {
      "text/plain": [
       "        FIRES       OFS    OFSSGD      FSDS random\n",
       "0    0.886919  0.915536  0.927867  0.946818    NaN\n",
       "1    0.936725  0.934983  0.957474  0.977483    NaN\n",
       "2    0.958306  0.950872  0.985015  0.983374    NaN\n",
       "3    0.977854  0.957149  0.996911  0.985393    NaN\n",
       "4    0.985983  0.971819  0.997936  0.986430    NaN\n",
       "..        ...       ...       ...       ...    ...\n",
       "186  0.955043  0.972832  0.997981  0.990103    NaN\n",
       "187  0.960247  0.951364  0.997981  0.990103    NaN\n",
       "188  0.963436  0.954151  0.997059  0.990103    NaN\n",
       "189  0.966584  0.953112  0.996043  0.990103    NaN\n",
       "190  0.979913  0.955158  0.996043  0.992042    NaN\n",
       "\n",
       "[191 rows x 5 columns]"
      ],
      "text/html": "<div>\n<style scoped>\n    .dataframe tbody tr th:only-of-type {\n        vertical-align: middle;\n    }\n\n    .dataframe tbody tr th {\n        vertical-align: top;\n    }\n\n    .dataframe thead th {\n        text-align: right;\n    }\n</style>\n<table border=\"1\" class=\"dataframe\">\n  <thead>\n    <tr style=\"text-align: right;\">\n      <th></th>\n      <th>FIRES</th>\n      <th>OFS</th>\n      <th>OFSSGD</th>\n      <th>FSDS</th>\n      <th>random</th>\n    </tr>\n  </thead>\n  <tbody>\n    <tr>\n      <th>0</th>\n      <td>0.886919</td>\n      <td>0.915536</td>\n      <td>0.927867</td>\n      <td>0.946818</td>\n      <td>NaN</td>\n    </tr>\n    <tr>\n      <th>1</th>\n      <td>0.936725</td>\n      <td>0.934983</td>\n      <td>0.957474</td>\n      <td>0.977483</td>\n      <td>NaN</td>\n    </tr>\n    <tr>\n      <th>2</th>\n      <td>0.958306</td>\n      <td>0.950872</td>\n      <td>0.985015</td>\n      <td>0.983374</td>\n      <td>NaN</td>\n    </tr>\n    <tr>\n      <th>3</th>\n      <td>0.977854</td>\n      <td>0.957149</td>\n      <td>0.996911</td>\n      <td>0.985393</td>\n      <td>NaN</td>\n    </tr>\n    <tr>\n      <th>4</th>\n      <td>0.985983</td>\n      <td>0.971819</td>\n      <td>0.997936</td>\n      <td>0.986430</td>\n      <td>NaN</td>\n    </tr>\n    <tr>\n      <th>...</th>\n      <td>...</td>\n      <td>...</td>\n      <td>...</td>\n      <td>...</td>\n      <td>...</td>\n    </tr>\n    <tr>\n      <th>186</th>\n      <td>0.955043</td>\n      <td>0.972832</td>\n      <td>0.997981</td>\n      <td>0.990103</td>\n      <td>NaN</td>\n    </tr>\n    <tr>\n      <th>187</th>\n      <td>0.960247</td>\n      <td>0.951364</td>\n      <td>0.997981</td>\n      <td>0.990103</td>\n      <td>NaN</td>\n    </tr>\n    <tr>\n      <th>188</th>\n      <td>0.963436</td>\n      <td>0.954151</td>\n      <td>0.997059</td>\n      <td>0.990103</td>\n      <td>NaN</td>\n    </tr>\n    <tr>\n      <th>189</th>\n      <td>0.966584</td>\n      <td>0.953112</td>\n      <td>0.996043</td>\n      <td>0.990103</td>\n      <td>NaN</td>\n    </tr>\n    <tr>\n      <th>190</th>\n      <td>0.979913</td>\n      <td>0.955158</td>\n      <td>0.996043</td>\n      <td>0.992042</td>\n      <td>NaN</td>\n    </tr>\n  </tbody>\n</table>\n<p>191 rows × 5 columns</p>\n</div>"
     },
     "metadata": {},
     "execution_count": 43
    }
   ],
   "source": [
    "df"
   ]
  },
  {
   "cell_type": "code",
   "execution_count": 38,
   "metadata": {},
   "outputs": [
    {
     "output_type": "execute_result",
     "data": {
      "text/plain": [
       "191"
      ]
     },
     "metadata": {},
     "execution_count": 38
    }
   ],
   "source": [
    "len(ofs_f1)"
   ]
  },
  {
   "cell_type": "code",
   "execution_count": 40,
   "metadata": {},
   "outputs": [
    {
     "output_type": "execute_result",
     "data": {
      "text/plain": [
       "191"
      ]
     },
     "metadata": {},
     "execution_count": 40
    }
   ],
   "source": [
    "len(fsds_f1)"
   ]
  },
  {
   "cell_type": "code",
   "execution_count": 41,
   "metadata": {},
   "outputs": [
    {
     "output_type": "execute_result",
     "data": {
      "text/plain": [
       "191"
      ]
     },
     "metadata": {},
     "execution_count": 41
    }
   ],
   "source": [
    "len(ofssgd_f1)"
   ]
  },
  {
   "cell_type": "code",
   "execution_count": 42,
   "metadata": {},
   "outputs": [
    {
     "output_type": "execute_result",
     "data": {
      "text/plain": [
       "array([0.94681827, 0.97748309, 0.98337399, 0.98539322, 0.98643026,\n",
       "       0.98643026, 0.98746694, 0.99038917, 0.99140343, 0.99040735,\n",
       "       0.99392051, 0.99594475, 0.99799832, 0.99900392, 0.99900392,\n",
       "       0.99900392, 0.99900392, 0.99900392, 0.99900392, 1.        ,\n",
       "       1.        , 0.997125  , 0.997125  , 0.997125  , 0.997125  ,\n",
       "       0.99610987, 0.99610987, 0.99502099, 0.99502099, 0.99400939,\n",
       "       0.99400939, 0.99688439, 0.99382798, 0.99382798, 0.99382798,\n",
       "       0.99484311, 0.99484311, 0.995932  , 0.995932  , 0.99222904,\n",
       "       0.99222904, 0.99222904, 0.99528545, 0.99528545, 0.99528545,\n",
       "       0.99528545, 0.99528545, 0.99528545, 0.99528545, 1.        ,\n",
       "       1.        , 1.        , 1.        , 1.        , 1.        ,\n",
       "       1.        , 1.        , 1.        , 1.        , 1.        ,\n",
       "       1.        , 1.        , 1.        , 1.        , 1.        ,\n",
       "       1.        , 0.99253741, 0.99253741, 0.99253741, 0.99253741,\n",
       "       0.99253741, 0.98599735, 0.98500071, 0.98500071, 0.98500071,\n",
       "       0.98500071, 0.9924633 , 0.9924633 , 0.9924633 , 0.9924633 ,\n",
       "       0.9924633 , 0.99900337, 1.        , 1.        , 1.        ,\n",
       "       1.        , 1.        , 1.        , 1.        , 0.9990111 ,\n",
       "       0.90522065, 0.8441604 , 0.80552706, 0.78218011, 0.75622144,\n",
       "       0.74589185, 0.72338809, 0.70979941, 0.6984071 , 0.68782328,\n",
       "       0.76819726, 0.81252388, 0.85014622, 0.87046586, 0.89642452,\n",
       "       0.8967149 , 0.90742407, 0.91912096, 0.92953241, 0.93811846,\n",
       "       0.95052164, 0.96626185, 0.96525051, 0.96827783, 0.96827783,\n",
       "       0.97831704, 0.98806807, 0.98795595, 0.98489554, 0.98788221,\n",
       "       0.98889549, 0.98988892, 0.99191125, 0.99092066, 0.98725751,\n",
       "       0.98725751, 0.98930106, 0.99030829, 0.99434956, 0.99335337,\n",
       "       0.99335337, 0.99335337, 0.99335337, 0.99434396, 0.99800712,\n",
       "       0.99800712, 0.99800712, 0.99595899, 0.99595899, 0.99595814,\n",
       "       0.99595814, 0.99595814, 0.99595814, 0.99497486, 0.99497486,\n",
       "       0.99397279, 0.99397279, 0.99504824, 0.99404295, 0.99503999,\n",
       "       0.99503999, 0.99503999, 0.99503999, 0.99401172, 0.99401172,\n",
       "       0.99501379, 0.99402331, 0.99500035, 0.99600564, 0.99500184,\n",
       "       0.98431382, 0.98431382, 0.98431382, 0.98532537, 0.9843305 ,\n",
       "       0.9843305 , 0.9833084 , 0.98430072, 0.98224682, 0.98325063,\n",
       "       0.99393865, 0.99293097, 0.99293097, 0.99292441, 0.99391928,\n",
       "       0.99391928, 0.9949289 , 0.9949289 , 0.9969828 , 0.9969828 ,\n",
       "       0.99504393, 0.99115948, 0.99115948, 0.99216605, 0.99216605,\n",
       "       0.98910045, 0.99010341, 0.99010341, 0.99010341, 0.99010341,\n",
       "       0.99204228])"
      ]
     },
     "metadata": {},
     "execution_count": 42
    }
   ],
   "source": [
    "fsds_f1"
   ]
  },
  {
   "cell_type": "code",
   "execution_count": null,
   "metadata": {},
   "outputs": [],
   "source": []
  }
 ]
}