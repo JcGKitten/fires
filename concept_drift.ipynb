{
 "metadata": {
  "language_info": {
   "codemirror_mode": {
    "name": "ipython",
    "version": 3
   },
   "file_extension": ".py",
   "mimetype": "text/x-python",
   "name": "python",
   "nbconvert_exporter": "python",
   "pygments_lexer": "ipython3",
   "version": "3.8.5-final"
  },
  "orig_nbformat": 2,
  "kernelspec": {
   "name": "python3",
   "display_name": "Python 3",
   "language": "python"
  }
 },
 "nbformat": 4,
 "nbformat_minor": 2,
 "cells": [
  {
   "source": [
    "## Testing behaviour on concept drift"
   ],
   "cell_type": "markdown",
   "metadata": {}
  },
  {
   "cell_type": "code",
   "execution_count": 1,
   "metadata": {},
   "outputs": [],
   "source": [
    "# import the functions needed for validate and comparsion\n",
    "\n",
    "import numpy as np\n",
    "import cupy as cp\n",
    "import pandas as pd\n",
    "from timeit import default_timer as timer\n",
    "\n",
    "from sklearn.model_selection import train_test_split\n",
    "from sklearn.metrics import accuracy_score, precision_score, recall_score, f1_score\n",
    "from skmultiflow.data import FileStream, ConceptDriftStream, RandomRBFGenerator, RandomRBFGeneratorDrift\n",
    "from skmultiflow.neural_networks import PerceptronMask\n",
    "from skmultiflow.trees import HoeffdingTreeClassifier\n",
    "\n",
    "\n",
    "\n",
    "# using plotly for plots\n",
    "#import plotly.graph_objects as go\n",
    "import plotly.express as px\n",
    "from plotly.subplots import make_subplots"
   ]
  },
  {
   "cell_type": "code",
   "execution_count": 2,
   "metadata": {},
   "outputs": [],
   "source": [
    "# stability measurment as proposed in \"Measurment the Stability of Feature Selection\"\n",
    "def pearson_stability_ij(arr1,arr2):\n",
    "    d = len(arr1)\n",
    "    k_i = np.sum(arr1)\n",
    "    k_j = np.sum(arr2)\n",
    "\n",
    "    # catch edge cases as proposed in the paper under 4.1\n",
    "    if (k_i == 0 or k_i == d) and k_i != k_j :\n",
    "        return 0\n",
    "    elif (k_j == 0 or k_j == d) and k_i != k_j :\n",
    "        return 0\n",
    "    elif (k_i == 0 or k_i == d) and k_i == k_j :\n",
    "        return 1\n",
    "    x_hat_i = k_i / d\n",
    "    x_hat_j = k_j / d\n",
    "    arr1 = arr1 - x_hat_i\n",
    "    arr2 = arr2 - x_hat_j\n",
    "    dividend = 1/d * np.sum(arr1*arr2)\n",
    "    divisor = np.sqrt(1/d*np.sum(arr1**2))*np.sqrt(1/d*np.sum(arr2**2))\n",
    "    return dividend/divisor\n",
    "\n",
    "def stability_factor(selected_ftrs):\n",
    "   M = len(selected_ftrs)\n",
    "   sum_stabilities = 0\n",
    "   for i in range(M):\n",
    "       for j in range(i+1, M):\n",
    "           sum_stabilities += pearson_stability_ij(selected_ftrs[i], selected_ftrs[j])\n",
    "   return 1/(M*(M-1))*sum_stabilities * 2     "
   ]
  },
  {
   "cell_type": "code",
   "execution_count": 3,
   "metadata": {},
   "outputs": [],
   "source": [
    "# import algorithms\n",
    "from fires import FIRES\n",
    "from ofs import MC_OFS\n",
    "from ofssgr import MC_OFSSGD\n",
    "from fsds import StreamFeatWeight"
   ]
  },
  {
   "source": [
    "### Streaming Data Generation with Concept Drift\n"
   ],
   "cell_type": "markdown",
   "metadata": {}
  },
  {
   "source": [
    "Extra Notebook for this data, cause it doesn't have test data and the stream is unlimited "
   ],
   "cell_type": "markdown",
   "metadata": {}
  },
  {
   "cell_type": "code",
   "execution_count": 27,
   "metadata": {},
   "outputs": [],
   "source": [
    "# stream generator to test how algorithms perform on data with concept drift\n",
    "stream = RandomRBFGeneratorDrift(model_random_state=99, sample_random_state = 50,\n",
    " n_classes = 6, n_features = 200, n_centroids = 50, change_speed=0.05,\n",
    " num_drift_centroids=25)\n",
    "\n",
    "n_selected_ftr = 50\n",
    "batch_size = 100\n",
    "n_window = 10"
   ]
  },
  {
   "cell_type": "code",
   "execution_count": 25,
   "metadata": {},
   "outputs": [],
   "source": [
    "# stream 1\n",
    "drift_stream = RandomRBFGenerator(model_random_state=42, sample_random_state=43, n_classes=10, n_features=100)\n",
    "start_stream = RandomRBFGenerator(model_random_state=52, sample_random_state=53, n_classes=10, n_features=100, n_centroids=30)\n",
    "\n",
    "stream = ConceptDriftStream(stream=start_stream, drift_stream=drift_stream, position=10000, width=10)\n",
    "\n",
    "dataset_name = \"Concept_drift_1\"\n",
    "n_selected_ftr = 50\n",
    "n_window = 10\n",
    "batch_size = 100"
   ]
  },
  {
   "cell_type": "code",
   "execution_count": null,
   "metadata": {},
   "outputs": [],
   "source": [
    "# stream 2\n",
    "drift_stream = RandomRBFGenerator(model_random_state=20, sample_random_state=21, n_classes=10, n_features=300)\n",
    "start_stream = RandomRBFGenerator(model_random_state=66, sample_random_state=67, n_classes=10, n_features=300)\n",
    "\n",
    "stream = ConceptDriftStream(stream=start_stream, drift_stream=drift_stream, position=10000, width=1000)\n",
    "\n",
    "dataset_name = \"Concept_drift_2\"\n",
    "n_selected_ftr = 50\n",
    "n_window = 10\n",
    "batch_size = 100"
   ]
  },
  {
   "source": [
    "### FIRES"
   ],
   "cell_type": "markdown",
   "metadata": {}
  },
  {
   "cell_type": "code",
   "execution_count": 28,
   "metadata": {},
   "outputs": [
    {
     "output_type": "execute_result",
     "data": {
      "text/plain": [
       "PerceptronMask(alpha=0.0001, class_weight=None, early_stopping=False, eta0=1.0,\n",
       "               fit_intercept=True, max_iter=1000, n_iter_no_change=5,\n",
       "               n_jobs=None, penalty=None, random_state=0, shuffle=True,\n",
       "               tol=0.001, validation_fraction=0.1, verbose=0, warm_start=False)"
      ]
     },
     "metadata": {},
     "execution_count": 28
    }
   ],
   "source": [
    "stream.restart()\n",
    "predictor = PerceptronMask()\n",
    "x,y = stream.next_sample(batch_size=batch_size)\n",
    "predictor.partial_fit(x,y, stream.target_values)"
   ]
  },
  {
   "cell_type": "code",
   "execution_count": 29,
   "metadata": {},
   "outputs": [],
   "source": [
    "fires_model = FIRES(n_total_ftr=stream.n_features,\n",
    "                    target_values=stream.target_values,\n",
    "                    mu_init=0,\n",
    "                    sigma_init=1,\n",
    "                    model='softmax')        "
   ]
  },
  {
   "cell_type": "code",
   "execution_count": 30,
   "metadata": {
    "tags": []
   },
   "outputs": [
    {
     "output_type": "stream",
     "name": "stdout",
     "text": [
      "The whole FIRES run took 151.7266185860001\n"
     ]
    }
   ],
   "source": [
    "fires_accuracy = []\n",
    "fires_f1 = []\n",
    "\n",
    "\n",
    "fires_selected_ftrs = []\n",
    "fires_stability = []\n",
    "\n",
    "start_time_all = timer()\n",
    "# stream has unlimeted samples so set for loop\n",
    "for i in range(200):\n",
    "    # Load a new sample\n",
    "    x, y = stream.next_sample(batch_size=batch_size)\n",
    "    # Select features\n",
    "    \n",
    "    ftr_weights = fires_model.weigh_features(x,y)\n",
    "    ftr_selection = np.argsort(ftr_weights)[::-1][:n_selected_ftr]\n",
    "\n",
    "    # Truncate x (retain only selected features, 'remove' all others, e.g. by replacing them with 0)\n",
    "    x_reduced = np.zeros(x.shape)\n",
    "    x_reduced[:, ftr_selection] = x[:, ftr_selection]\n",
    "\n",
    "    # stability test\n",
    "    ftr_array = np.zeros(stream.n_features)\n",
    "    ftr_array[ftr_selection] = 1\n",
    "    fires_selected_ftrs.append(ftr_array)\n",
    "\n",
    "    if len(fires_selected_ftrs) >= 10:\n",
    "        stability = stability_factor(fires_selected_ftrs[-10:])\n",
    "        fires_stability.append(stability)\n",
    "\n",
    "\n",
    "    # Test\n",
    "    y_pred = predictor.predict(x_reduced)\n",
    "    \n",
    "    fires_accuracy.append(accuracy_score(y, y_pred))\n",
    "    fires_f1.append(f1_score(y, y_pred, average=\"weighted\", labels=stream.target_values))\n",
    "\n",
    "\n",
    "    # Train\n",
    "    predictor.partial_fit(x_reduced, y)\n",
    "\n",
    "# Restart the FileStream\n",
    "end_time_all = timer()\n",
    "fires_run_time = timer() - start_time_all\n",
    "print(\"The whole FIRES run took {}\".format(fires_run_time))\n",
    "\n",
    "fires_moving_average = pd.Series(fires_accuracy).rolling(window=n_window).mean().iloc[n_window-1:].values\n",
    "fires_f1 = pd.Series(fires_f1).rolling(window=n_window).mean().iloc[n_window-1:].values"
   ]
  },
  {
   "source": [
    "### FSDS"
   ],
   "cell_type": "markdown",
   "metadata": {}
  },
  {
   "cell_type": "code",
   "execution_count": 31,
   "metadata": {},
   "outputs": [
    {
     "output_type": "execute_result",
     "data": {
      "text/plain": [
       "PerceptronMask(alpha=0.0001, class_weight=None, early_stopping=False, eta0=1.0,\n",
       "               fit_intercept=True, max_iter=1000, n_iter_no_change=5,\n",
       "               n_jobs=None, penalty=None, random_state=0, shuffle=True,\n",
       "               tol=0.001, validation_fraction=0.1, verbose=0, warm_start=False)"
      ]
     },
     "metadata": {},
     "execution_count": 31
    }
   ],
   "source": [
    "stream.restart()\n",
    "predictor = PerceptronMask()\n",
    "x,y = stream.next_sample(batch_size=batch_size)\n",
    "predictor.partial_fit(x,y, stream.target_values)"
   ]
  },
  {
   "cell_type": "code",
   "execution_count": 32,
   "metadata": {},
   "outputs": [
    {
     "output_type": "execute_result",
     "data": {
      "text/plain": [
       "array([0.01233137, 0.00561201, 0.00640951, 0.01027772, 0.0073961 ,\n",
       "       0.00801039, 0.00790348, 0.01192079, 0.00823153, 0.01686792,\n",
       "       0.00556066, 0.00623455, 0.00864117, 0.00817751, 0.00743581,\n",
       "       0.00672265, 0.00483577, 0.00748188, 0.0099947 , 0.01001297,\n",
       "       0.00792011, 0.00619738, 0.00755109, 0.00626956, 0.00685804,\n",
       "       0.01150742, 0.00805705, 0.01144408, 0.00482822, 0.01318832,\n",
       "       0.00809673, 0.00525158, 0.00769068, 0.01001549, 0.00767948,\n",
       "       0.01184354, 0.0077174 , 0.00706108, 0.00809937, 0.00982629,\n",
       "       0.00772416, 0.01019151, 0.00681571, 0.00629067, 0.01045982,\n",
       "       0.00724324, 0.00478721, 0.01092685, 0.00764622, 0.0054252 ,\n",
       "       0.00532749, 0.00603466, 0.00592579, 0.00839632, 0.00662758,\n",
       "       0.00484247, 0.00920615, 0.00783963, 0.010648  , 0.01029679,\n",
       "       0.00679389, 0.00600161, 0.00742128, 0.00767371, 0.00866437,\n",
       "       0.01005843, 0.00716889, 0.01028735, 0.008166  , 0.00973358,\n",
       "       0.00750683, 0.00520055, 0.00881497, 0.00677436, 0.00762974,\n",
       "       0.00470159, 0.00586447, 0.00533508, 0.00960786, 0.00613785,\n",
       "       0.00430478, 0.00698285, 0.006866  , 0.00938239, 0.01055871,\n",
       "       0.00764842, 0.00652119, 0.01056279, 0.00387511, 0.00516442,\n",
       "       0.0069927 , 0.00537388, 0.00870972, 0.00758185, 0.01222909,\n",
       "       0.00690095, 0.00560888, 0.00839197, 0.00963645, 0.00955575,\n",
       "       0.00449401, 0.00817701, 0.00977559, 0.00798497, 0.00612673,\n",
       "       0.00923299, 0.00846126, 0.01007501, 0.00744454, 0.01387672,\n",
       "       0.00884158, 0.00544976, 0.00533155, 0.01133216, 0.01170617,\n",
       "       0.01201836, 0.00910817, 0.00830543, 0.00858403, 0.00387443,\n",
       "       0.00763966, 0.00822495, 0.00518264, 0.01188283, 0.00926388,\n",
       "       0.00562475, 0.00570066, 0.0075292 , 0.00782521, 0.00947938,\n",
       "       0.00823696, 0.00793207, 0.00729406, 0.00910048, 0.00984084,\n",
       "       0.01305759, 0.00505228, 0.01206539, 0.00662812, 0.00849799,\n",
       "       0.00941366, 0.00492854, 0.00750752, 0.00595614, 0.00719348,\n",
       "       0.00769491, 0.00626797, 0.00818192, 0.01019547, 0.00745176,\n",
       "       0.00721397, 0.01070127, 0.00626657, 0.00780178, 0.01168807,\n",
       "       0.00882007, 0.00776509, 0.00839859, 0.00776302, 0.00811028,\n",
       "       0.00971746, 0.00916854, 0.00708499, 0.00730661, 0.00928108,\n",
       "       0.008227  , 0.00693588, 0.0060011 , 0.01089233, 0.00441684,\n",
       "       0.00762337, 0.00888463, 0.00544906, 0.00776511, 0.00658147,\n",
       "       0.0062972 , 0.00749213, 0.00778821, 0.00901741, 0.00830538,\n",
       "       0.00582718, 0.00363088, 0.0053201 , 0.00663089, 0.00573256,\n",
       "       0.00908109, 0.00921807, 0.01013781, 0.00635726, 0.01036206,\n",
       "       0.0078844 , 0.00676134, 0.01142107, 0.00512942, 0.00687232,\n",
       "       0.01164256, 0.00660598, 0.00390753, 0.00338978, 0.00729937])"
      ]
     },
     "metadata": {},
     "execution_count": 32
    }
   ],
   "source": [
    "fsds_model = StreamFeatWeight(m=stream.n_features, k=stream.n_classes)\n",
    "fsds_model.low_rank_approximation(x.T) # needs some pretraining in the first run"
   ]
  },
  {
   "cell_type": "code",
   "execution_count": 33,
   "metadata": {
    "tags": []
   },
   "outputs": [
    {
     "output_type": "stream",
     "name": "stdout",
     "text": [
      "The whole fsds run took 144.281465863\n"
     ]
    }
   ],
   "source": [
    "fsds_accuracy = []\n",
    "fsds_f1 = []\n",
    "\n",
    "\n",
    "fsds_selected_ftrs = []\n",
    "fsds_stability = []\n",
    "\n",
    "start_time_all = timer()\n",
    "# stream has unlimeted samples so set for loop\n",
    "for i in range(200):\n",
    "    # Load a new sample\n",
    "    x, y = stream.next_sample(batch_size=batch_size)\n",
    "    # Select features\n",
    "    \n",
    "    ftr_weights = fsds_model.low_rank_approximation(x.T)\n",
    "    ftr_selection = np.argsort(ftr_weights)[::-1][:n_selected_ftr]\n",
    "\n",
    "    # Truncate x (retain only selected features, 'remove' all others, e.g. by replacing them with 0)\n",
    "    x_reduced = np.zeros(x.shape)\n",
    "    x_reduced[:, ftr_selection] = x[:, ftr_selection]\n",
    "\n",
    "    # stability test\n",
    "    ftr_array = np.zeros(stream.n_features)\n",
    "    ftr_array[ftr_selection] = 1\n",
    "    fsds_selected_ftrs.append(ftr_array)\n",
    "\n",
    "    if len(fsds_selected_ftrs) >= 10:\n",
    "        stability = stability_factor(fsds_selected_ftrs[-10:])\n",
    "        fsds_stability.append(stability)\n",
    "\n",
    "\n",
    "    # Test\n",
    "    y_pred = predictor.predict(x_reduced)\n",
    "    \n",
    "    fsds_accuracy.append(accuracy_score(y, y_pred))\n",
    "    fsds_f1.append(f1_score(y, y_pred, average=\"weighted\", labels=stream.target_values))\n",
    "\n",
    "\n",
    "    # Train\n",
    "    predictor.partial_fit(x_reduced, y)\n",
    "\n",
    "# Restart the FileStream\n",
    "end_time_all = timer()\n",
    "fsds_run_time = timer() - start_time_all\n",
    "print(\"The whole fsds run took {}\".format(fsds_run_time))\n",
    "\n",
    "fsds_moving_average = pd.Series(fsds_accuracy).rolling(window=n_window).mean().iloc[n_window-1:].values\n",
    "fsds_f1 = pd.Series(fsds_f1).rolling(window=n_window).mean().iloc[n_window-1:].values"
   ]
  },
  {
   "source": [
    "### OFS"
   ],
   "cell_type": "markdown",
   "metadata": {}
  },
  {
   "cell_type": "code",
   "execution_count": 34,
   "metadata": {},
   "outputs": [
    {
     "output_type": "execute_result",
     "data": {
      "text/plain": [
       "PerceptronMask(alpha=0.0001, class_weight=None, early_stopping=False, eta0=1.0,\n",
       "               fit_intercept=True, max_iter=1000, n_iter_no_change=5,\n",
       "               n_jobs=None, penalty=None, random_state=0, shuffle=True,\n",
       "               tol=0.001, validation_fraction=0.1, verbose=0, warm_start=False)"
      ]
     },
     "metadata": {},
     "execution_count": 34
    }
   ],
   "source": [
    "stream.restart()\n",
    "predictor = PerceptronMask()\n",
    "x,y = stream.next_sample(batch_size=batch_size)\n",
    "predictor.partial_fit(x,y, stream.target_values)"
   ]
  },
  {
   "cell_type": "code",
   "execution_count": 35,
   "metadata": {},
   "outputs": [],
   "source": [
    "ofs_model = MC_OFS(regularization_param = 0.01, step_size = 0.1, n_selected_ftr=n_selected_ftr, n_total_ftr=stream.n_num_features, n_classes=stream.n_classes)"
   ]
  },
  {
   "cell_type": "code",
   "execution_count": 36,
   "metadata": {
    "tags": []
   },
   "outputs": [
    {
     "output_type": "stream",
     "name": "stdout",
     "text": [
      "The whole ofs run took 140.08547466200002\n"
     ]
    }
   ],
   "source": [
    "ofs_accuracy = []\n",
    "ofs_f1 = []\n",
    "\n",
    "\n",
    "ofs_selected_ftrs = []\n",
    "ofs_stability = []\n",
    "\n",
    "start_time_all = timer()\n",
    "# stream has unlimeted samples so set for loop\n",
    "for i in range(200):\n",
    "    # Load a new sample\n",
    "    x, y = stream.next_sample(batch_size=batch_size)\n",
    "    # Select features\n",
    "\n",
    "     # Select features\n",
    "    for idx, label in enumerate(np.array(y, dtype='int')):\n",
    "        ofs_model.train(x[idx],label)\n",
    "    \n",
    "    \n",
    "    ftr_selection = ofs_model.get_feature_indices()\n",
    "\n",
    "    # Truncate x (retain only selected features, 'remove' all others, e.g. by replacing them with 0)\n",
    "    x_reduced = np.zeros(x.shape)\n",
    "    x_reduced[:, ftr_selection] = x[:, ftr_selection]\n",
    "\n",
    "    # stability test\n",
    "    ftr_array = np.zeros(stream.n_features)\n",
    "    ftr_array[ftr_selection] = 1\n",
    "    ofs_selected_ftrs.append(ftr_array)\n",
    "\n",
    "    if len(ofs_selected_ftrs) >= 10:\n",
    "        stability = stability_factor(ofs_selected_ftrs[-10:])\n",
    "        ofs_stability.append(stability)\n",
    "\n",
    "\n",
    "    # Test\n",
    "    y_pred = predictor.predict(x_reduced)\n",
    "    \n",
    "    ofs_accuracy.append(accuracy_score(y, y_pred))\n",
    "    ofs_f1.append(f1_score(y, y_pred, average=\"weighted\", labels=stream.target_values))\n",
    "\n",
    "\n",
    "    # Train\n",
    "    predictor.partial_fit(x_reduced, y)\n",
    "\n",
    "# Restart the FileStream\n",
    "end_time_all = timer()\n",
    "ofs_run_time = timer() - start_time_all\n",
    "print(\"The whole ofs run took {}\".format(ofs_run_time))\n",
    "\n",
    "ofs_moving_average = pd.Series(ofs_accuracy).rolling(window=n_window).mean().iloc[n_window-1:].values\n",
    "ofs_f1 = pd.Series(ofs_f1).rolling(window=n_window).mean().iloc[n_window-1:].values"
   ]
  },
  {
   "source": [
    "### OFSSGD"
   ],
   "cell_type": "markdown",
   "metadata": {}
  },
  {
   "cell_type": "code",
   "execution_count": 37,
   "metadata": {},
   "outputs": [
    {
     "output_type": "execute_result",
     "data": {
      "text/plain": [
       "PerceptronMask(alpha=0.0001, class_weight=None, early_stopping=False, eta0=1.0,\n",
       "               fit_intercept=True, max_iter=1000, n_iter_no_change=5,\n",
       "               n_jobs=None, penalty=None, random_state=0, shuffle=True,\n",
       "               tol=0.001, validation_fraction=0.1, verbose=0, warm_start=False)"
      ]
     },
     "metadata": {},
     "execution_count": 37
    }
   ],
   "source": [
    "stream.restart()\n",
    "predictor = PerceptronMask()\n",
    "x,y = stream.next_sample(batch_size=batch_size)\n",
    "predictor.partial_fit(x,y, stream.target_values)"
   ]
  },
  {
   "cell_type": "code",
   "execution_count": 38,
   "metadata": {},
   "outputs": [],
   "source": [
    "ofssgd_model = MC_OFSSGD(reduction_threshold=0.4, reduction_value=0.1, regularization_param=0.01, step_size=0.2, n_total_ftrs=stream.n_num_features, n_classes=stream.n_classes)"
   ]
  },
  {
   "cell_type": "code",
   "execution_count": 39,
   "metadata": {
    "tags": []
   },
   "outputs": [
    {
     "output_type": "stream",
     "name": "stdout",
     "text": [
      "The whole ofssgd run took 154.76079320200006\n"
     ]
    }
   ],
   "source": [
    "ofssgd_accuracy = []\n",
    "ofssgd_f1 = []\n",
    "\n",
    "\n",
    "ofssgd_selected_ftrs = []\n",
    "ofssgd_stability = []\n",
    "\n",
    "start_time_all = timer()\n",
    "# stream has unlimeted samples so set for loop\n",
    "for i in range(200):\n",
    "    # Load a new sample\n",
    "    x, y = stream.next_sample(batch_size=batch_size)\n",
    "    # Select features\n",
    "    \n",
    "    for idx, label in enumerate(np.array(y, dtype='int')):\n",
    "        ofssgd_model.train(x[idx],label)\n",
    "\n",
    "    ftr_selection = ofssgd_model.get_feature_indices()\n",
    "\n",
    "    # Truncate x (retain only selected features, 'remove' all others, e.g. by replacing them with 0)\n",
    "    x_reduced = np.zeros(x.shape)\n",
    "    x_reduced[:, ftr_selection] = x[:, ftr_selection]\n",
    "\n",
    "    # stability test\n",
    "    ftr_array = np.zeros(stream.n_features)\n",
    "    ftr_array[ftr_selection] = 1\n",
    "    ofssgd_selected_ftrs.append(ftr_array)\n",
    "\n",
    "    if len(ofssgd_selected_ftrs) >= 10:\n",
    "        stability = stability_factor(ofssgd_selected_ftrs[-10:])\n",
    "        ofssgd_stability.append(stability)\n",
    "\n",
    "\n",
    "    # Test\n",
    "    y_pred = predictor.predict(x_reduced)\n",
    "    \n",
    "    ofssgd_accuracy.append(accuracy_score(y, y_pred))\n",
    "    ofssgd_f1.append(f1_score(y, y_pred, average=\"weighted\", labels=stream.target_values))\n",
    "\n",
    "\n",
    "    # Train\n",
    "    predictor.partial_fit(x_reduced, y)\n",
    "\n",
    "# Restart the FileStream\n",
    "end_time_all = timer()\n",
    "ofssgd_run_time = timer() - start_time_all\n",
    "print(\"The whole ofssgd run took {}\".format(ofssgd_run_time))\n",
    "\n",
    "ofssgd_moving_average = pd.Series(ofssgd_accuracy).rolling(window=n_window).mean().iloc[n_window-1:].values\n",
    "ofssgd_f1 = pd.Series(ofssgd_f1).rolling(window=n_window).mean().iloc[n_window-1:].values"
   ]
  },
  {
   "cell_type": "code",
   "execution_count": 40,
   "metadata": {},
   "outputs": [
    {
     "output_type": "display_data",
     "data": {
      "application/vnd.plotly.v1+json": {
       "config": {
        "plotlyServerURL": "https://plot.ly"
       },
       "data": [
        {
         "hovertemplate": "variable=FIRES<br>batches=%{x}<br>stability=%{y}<extra></extra>",
         "legendgroup": "FIRES",
         "line": {
          "color": "red",
          "dash": "solid"
         },
         "mode": "lines",
         "name": "FIRES",
         "orientation": "v",
         "showlegend": true,
         "type": "scatter",
         "x": [
          0,
          1,
          2,
          3,
          4,
          5,
          6,
          7,
          8,
          9,
          10,
          11,
          12,
          13,
          14,
          15,
          16,
          17,
          18,
          19,
          20,
          21,
          22,
          23,
          24,
          25,
          26,
          27,
          28,
          29,
          30,
          31,
          32,
          33,
          34,
          35,
          36,
          37,
          38,
          39,
          40,
          41,
          42,
          43,
          44,
          45,
          46,
          47,
          48,
          49,
          50,
          51,
          52,
          53,
          54,
          55,
          56,
          57,
          58,
          59,
          60,
          61,
          62,
          63,
          64,
          65,
          66,
          67,
          68,
          69,
          70,
          71,
          72,
          73,
          74,
          75,
          76,
          77,
          78,
          79,
          80,
          81,
          82,
          83,
          84,
          85,
          86,
          87,
          88,
          89,
          90,
          91,
          92,
          93,
          94,
          95,
          96,
          97,
          98,
          99,
          100,
          101,
          102,
          103,
          104,
          105,
          106,
          107,
          108,
          109,
          110,
          111,
          112,
          113,
          114,
          115,
          116,
          117,
          118,
          119,
          120,
          121,
          122,
          123,
          124,
          125,
          126,
          127,
          128,
          129,
          130,
          131,
          132,
          133,
          134,
          135,
          136,
          137,
          138,
          139,
          140,
          141,
          142,
          143,
          144,
          145,
          146,
          147,
          148,
          149,
          150,
          151,
          152,
          153,
          154,
          155,
          156,
          157,
          158,
          159,
          160,
          161,
          162,
          163,
          164,
          165,
          166,
          167,
          168,
          169,
          170,
          171,
          172,
          173,
          174,
          175,
          176,
          177,
          178,
          179,
          180,
          181,
          182,
          183,
          184,
          185,
          186,
          187,
          188,
          189,
          190
         ],
         "xaxis": "x",
         "y": [
          0.5591111111111113,
          0.6242962962962966,
          0.6663703703703705,
          0.6977777777777779,
          0.7226666666666669,
          0.7291851851851854,
          0.7345185185185186,
          0.7416296296296296,
          0.7339259259259261,
          0.7274074074074075,
          0.713777777777778,
          0.7060740740740744,
          0.7025185185185188,
          0.7042962962962965,
          0.7114074074074075,
          0.7274074074074076,
          0.7386666666666669,
          0.765925925925926,
          0.7979259259259259,
          0.8050370370370372,
          0.8121481481481484,
          0.8080000000000002,
          0.8080000000000004,
          0.8008888888888891,
          0.7914074074074076,
          0.7967407407407409,
          0.8068148148148151,
          0.828740740740741,
          0.8411851851851854,
          0.8512592592592593,
          0.8779259259259261,
          0.8897777777777778,
          0.8826666666666668,
          0.8826666666666665,
          0.8832592592592594,
          0.8838518518518518,
          0.8755555555555558,
          0.8696296296296299,
          0.8690370370370373,
          0.8684444444444448,
          0.8625185185185186,
          0.8542222222222222,
          0.8524444444444443,
          0.8554074074074074,
          0.8702222222222223,
          0.8856296296296298,
          0.8874074074074079,
          0.8850370370370376,
          0.8826666666666668,
          0.883851851851852,
          0.8797037037037039,
          0.8690370370370373,
          0.8690370370370372,
          0.8791111111111112,
          0.8844444444444447,
          0.8773333333333337,
          0.8696296296296299,
          0.8648888888888889,
          0.8678518518518521,
          0.8625185185185187,
          0.8637037037037039,
          0.8684444444444446,
          0.8755555555555555,
          0.889777777777778,
          0.8986666666666668,
          0.9022222222222223,
          0.9040000000000001,
          0.9010370370370374,
          0.9016296296296301,
          0.8992592592592598,
          0.8921481481481484,
          0.8945185185185186,
          0.8951111111111113,
          0.8945185185185189,
          0.8951111111111115,
          0.9016296296296299,
          0.8968888888888891,
          0.8980740740740742,
          0.8986666666666668,
          0.8992592592592596,
          0.9040000000000001,
          0.9099259259259264,
          0.8992592592592598,
          0.8909629629629635,
          0.8826666666666668,
          0.8779259259259261,
          0.8731851851851854,
          0.8678518518518521,
          0.8690370370370372,
          0.8672592592592594,
          0.8714074074074077,
          0.8820740740740745,
          0.8874074074074079,
          0.8814814814814818,
          0.8814814814814814,
          0.8826666666666668,
          0.8832592592592595,
          0.8832592592592595,
          0.883851851851852,
          0.8880000000000002,
          0.8850370370370373,
          0.8909629629629633,
          0.8968888888888892,
          0.8915555555555559,
          0.8933333333333334,
          0.9022222222222228,
          0.9051851851851858,
          0.9093333333333335,
          0.9111111111111114,
          0.9200000000000004,
          0.9176296296296297,
          0.9170370370370371,
          0.906962962962963,
          0.9099259259259262,
          0.9117037037037045,
          0.9176296296296302,
          0.9253333333333337,
          0.9229629629629631,
          0.9229629629629633,
          0.9294814814814817,
          0.9229629629629633,
          0.9188148148148151,
          0.920592592592593,
          0.9253333333333336,
          0.9271111111111113,
          0.924740740740741,
          0.9300740740740745,
          0.9247407407407412,
          0.9300740740740747,
          0.9277037037037041,
          0.928296296296297,
          0.9312592592592599,
          0.9324444444444446,
          0.9330370370370373,
          0.937777777777778,
          0.9437037037037039,
          0.9425185185185191,
          0.9472592592592596,
          0.9466666666666673,
          0.9437037037037038,
          0.9472592592592596,
          0.9520000000000003,
          0.9585185185185185,
          0.9602962962962961,
          0.960296296296296,
          0.9567407407407404,
          0.9555555555555556,
          0.9555555555555557,
          0.9579259259259263,
          0.9662222222222225,
          0.9680000000000001,
          0.9632592592592593,
          0.9650370370370372,
          0.96562962962963,
          0.9650370370370372,
          0.9597037037037037,
          0.9585185185185184,
          0.9520000000000001,
          0.9490370370370371,
          0.9520000000000004,
          0.9543703703703709,
          0.9561481481481483,
          0.9543703703703705,
          0.9573333333333335,
          0.9579259259259263,
          0.9502222222222226,
          0.9442962962962965,
          0.9442962962962966,
          0.9437037037037039,
          0.9365925925925929,
          0.9324444444444446,
          0.9312592592592598,
          0.9288888888888893,
          0.9312592592592598,
          0.9342222222222225,
          0.9377777777777777,
          0.9442962962962962,
          0.947851851851852,
          0.9514074074074079,
          0.9496296296296302,
          0.9531851851851857,
          0.9573333333333337,
          0.9620740740740743,
          0.9614814814814815,
          0.9620740740740743,
          0.9549629629629629,
          0.9490370370370371,
          0.9502222222222224,
          0.947851851851852,
          0.9413333333333337,
          0.9365925925925931
         ],
         "yaxis": "y"
        },
        {
         "hovertemplate": "variable=OFS<br>batches=%{x}<br>stability=%{y}<extra></extra>",
         "legendgroup": "OFS",
         "line": {
          "color": "purple",
          "dash": "solid"
         },
         "mode": "lines",
         "name": "OFS",
         "orientation": "v",
         "showlegend": true,
         "type": "scatter",
         "x": [
          0,
          1,
          2,
          3,
          4,
          5,
          6,
          7,
          8,
          9,
          10,
          11,
          12,
          13,
          14,
          15,
          16,
          17,
          18,
          19,
          20,
          21,
          22,
          23,
          24,
          25,
          26,
          27,
          28,
          29,
          30,
          31,
          32,
          33,
          34,
          35,
          36,
          37,
          38,
          39,
          40,
          41,
          42,
          43,
          44,
          45,
          46,
          47,
          48,
          49,
          50,
          51,
          52,
          53,
          54,
          55,
          56,
          57,
          58,
          59,
          60,
          61,
          62,
          63,
          64,
          65,
          66,
          67,
          68,
          69,
          70,
          71,
          72,
          73,
          74,
          75,
          76,
          77,
          78,
          79,
          80,
          81,
          82,
          83,
          84,
          85,
          86,
          87,
          88,
          89,
          90,
          91,
          92,
          93,
          94,
          95,
          96,
          97,
          98,
          99,
          100,
          101,
          102,
          103,
          104,
          105,
          106,
          107,
          108,
          109,
          110,
          111,
          112,
          113,
          114,
          115,
          116,
          117,
          118,
          119,
          120,
          121,
          122,
          123,
          124,
          125,
          126,
          127,
          128,
          129,
          130,
          131,
          132,
          133,
          134,
          135,
          136,
          137,
          138,
          139,
          140,
          141,
          142,
          143,
          144,
          145,
          146,
          147,
          148,
          149,
          150,
          151,
          152,
          153,
          154,
          155,
          156,
          157,
          158,
          159,
          160,
          161,
          162,
          163,
          164,
          165,
          166,
          167,
          168,
          169,
          170,
          171,
          172,
          173,
          174,
          175,
          176,
          177,
          178,
          179,
          180,
          181,
          182,
          183,
          184,
          185,
          186,
          187,
          188,
          189,
          190
         ],
         "xaxis": "x",
         "y": [
          0.477406856782448,
          0.5122463996636181,
          0.5308675346518298,
          0.5266627622351369,
          0.5404784430328421,
          0.5470859425447882,
          0.5416798065804687,
          0.5410791248066553,
          0.5506900331876678,
          0.5578982144734274,
          0.5494886696400414,
          0.5597002597948669,
          0.5783213947830785,
          0.5915363938069705,
          0.6101575287951824,
          0.6149629829856885,
          0.6257752549143277,
          0.6449970716763527,
          0.6534066165097386,
          0.6540072982835518,
          0.6606147977954978,
          0.6708263879503235,
          0.6798366145575225,
          0.6804372963313358,
          0.6696250244026968,
          0.6570107071526179,
          0.6498025258668585,
          0.6480004805454188,
          0.628778663783394,
          0.6149629829856885,
          0.6083554834737427,
          0.6005466204141701,
          0.6023486657356097,
          0.6047513928308631,
          0.6011473021879833,
          0.5975432115451036,
          0.6077548016999292,
          0.5939391209022239,
          0.5807241218783319,
          0.5849288942950249,
          0.583126848973585,
          0.6023486657356097,
          0.6131609376642488,
          0.6275773002357674,
          0.6377888903905933,
          0.6401916174858463,
          0.665420251986004,
          0.7002597948671742,
          0.7188809298553858,
          0.700259794867174,
          0.6726284332717632,
          0.6480004805454189,
          0.6245738913667012,
          0.5981438933189169,
          0.5933384391284108,
          0.5843282125212116,
          0.5885329849379044,
          0.5999459386403566,
          0.6089561652475557,
          0.5957411662236636,
          0.594539802676037,
          0.5963418479974771,
          0.6065534381523028,
          0.5933384391284107,
          0.5903350302593441,
          0.5999459386403567,
          0.6011473021879832,
          0.6107582105689956,
          0.6155636647595019,
          0.6281779820095806,
          0.6353861632953401,
          0.6251745731405145,
          0.6371882086167802,
          0.6431950263549128,
          0.663017524890751,
          0.6654202519860039,
          0.6636182066645641,
          0.6492018440930455,
          0.6407922992596595,
          0.6287786637833941,
          0.6263759366881412,
          0.6413929810334731,
          0.6215704824976347,
          0.617966391854755,
          0.5975432115451035,
          0.5987445750927302,
          0.6083554834737427,
          0.6191677554023817,
          0.6149629829856887,
          0.6101575287951826,
          0.599945938640357,
          0.5909357120331575,
          0.5921370755807842,
          0.6035500292832363,
          0.6173657100809418,
          0.6413929810334729,
          0.6437957081287259,
          0.6498025258668587,
          0.6570107071526181,
          0.669625024402697,
          0.6726284332717635,
          0.6738297968193899,
          0.6756318421408297,
          0.6756318421408295,
          0.6780345692360827,
          0.6774338874622696,
          0.6582120707002446,
          0.6780345692360827,
          0.6936522953552279,
          0.7104713850219998,
          0.7140754756648794,
          0.7182802480815724,
          0.7158775209863193,
          0.6996591130933606,
          0.6876454776170952,
          0.6768332056884562,
          0.6624168431169374,
          0.6564100253788049,
          0.6534066165097384,
          0.6570107071526182,
          0.6600141160216847,
          0.6636182066645643,
          0.6840413869742157,
          0.6918502500337881,
          0.6864441140694687,
          0.697857067771921,
          0.6852427505218422,
          0.6798366145575226,
          0.6666216155336306,
          0.6534066165097384,
          0.652805934735925,
          0.654607980057365,
          0.6534066165097386,
          0.6492018440930458,
          0.6492018440930458,
          0.6480004805454193,
          0.6287786637833942,
          0.6101575287951825,
          0.6137616194380621,
          0.615563664759502,
          0.6119595741166222,
          0.6113588923428089,
          0.614962982985689,
          0.6113588923428093,
          0.617365710080942,
          0.6209698007238217,
          0.6305807091048341,
          0.6377888903905934,
          0.6498025258668588,
          0.6570107071526181,
          0.6624168431169376,
          0.6690243426288836,
          0.6840413869742153,
          0.696055022450481,
          0.6966557042242943,
          0.6978570677719209,
          0.6966557042242945,
          0.6930516135814148,
          0.688846841164722,
          0.678034569236083,
          0.6756318421408299,
          0.6924509318076015,
          0.6960550224504812,
          0.7014611584148007,
          0.7098707032481866,
          0.7044645672838673,
          0.6948536589028549,
          0.6810379781051492,
          0.6864441140694687,
          0.6804372963313358,
          0.6870447958432818,
          0.6924509318076014,
          0.6972563859981076,
          0.6966557042242946,
          0.6972563859981077,
          0.7020618401886141,
          0.6864441140694689,
          0.6858434322956556,
          0.6906488864861619,
          0.688846841164722,
          0.6906488864861617,
          0.7068672943791202,
          0.723686384045892,
          0.732696610653091,
          0.7465122914507965,
          0.7471129732246095,
          0.7489150185460497,
          0.7555225180579954,
          0.7555225180579958,
          0.7350993377483442,
          0.7116727485696265
         ],
         "yaxis": "y"
        },
        {
         "hovertemplate": "variable=OFSSGD<br>batches=%{x}<br>stability=%{y}<extra></extra>",
         "legendgroup": "OFSSGD",
         "line": {
          "color": "yellow",
          "dash": "solid"
         },
         "mode": "lines",
         "name": "OFSSGD",
         "orientation": "v",
         "showlegend": true,
         "type": "scatter",
         "x": [
          0,
          1,
          2,
          3,
          4,
          5,
          6,
          7,
          8,
          9,
          10,
          11,
          12,
          13,
          14,
          15,
          16,
          17,
          18,
          19,
          20,
          21,
          22,
          23,
          24,
          25,
          26,
          27,
          28,
          29,
          30,
          31,
          32,
          33,
          34,
          35,
          36,
          37,
          38,
          39,
          40,
          41,
          42,
          43,
          44,
          45,
          46,
          47,
          48,
          49,
          50,
          51,
          52,
          53,
          54,
          55,
          56,
          57,
          58,
          59,
          60,
          61,
          62,
          63,
          64,
          65,
          66,
          67,
          68,
          69,
          70,
          71,
          72,
          73,
          74,
          75,
          76,
          77,
          78,
          79,
          80,
          81,
          82,
          83,
          84,
          85,
          86,
          87,
          88,
          89,
          90,
          91,
          92,
          93,
          94,
          95,
          96,
          97,
          98,
          99,
          100,
          101,
          102,
          103,
          104,
          105,
          106,
          107,
          108,
          109,
          110,
          111,
          112,
          113,
          114,
          115,
          116,
          117,
          118,
          119,
          120,
          121,
          122,
          123,
          124,
          125,
          126,
          127,
          128,
          129,
          130,
          131,
          132,
          133,
          134,
          135,
          136,
          137,
          138,
          139,
          140,
          141,
          142,
          143,
          144,
          145,
          146,
          147,
          148,
          149,
          150,
          151,
          152,
          153,
          154,
          155,
          156,
          157,
          158,
          159,
          160,
          161,
          162,
          163,
          164,
          165,
          166,
          167,
          168,
          169,
          170,
          171,
          172,
          173,
          174,
          175,
          176,
          177,
          178,
          179,
          180,
          181,
          182,
          183,
          184,
          185,
          186,
          187,
          188,
          189,
          190
         ],
         "xaxis": "x",
         "y": [
          -0.0030481328532984244,
          0.0027670159298200953,
          0.0002314257391453905,
          0.0035874796541618937,
          0.001804941478153459,
          -0.0068096041171135675,
          -0.005901090880268417,
          -0.012684987013517477,
          -0.001446976939091739,
          -0.015255154840463737,
          -0.02054886891026784,
          -0.007907595573476353,
          -0.015290258676637986,
          -0.009920832662858639,
          0.0055744088316093225,
          0.004644780413588214,
          0.01035588743389301,
          0.021586021269256076,
          0.023657546494308793,
          0.013553353816450477,
          0.016744885033929225,
          0.02603086375107521,
          0.022385147664620006,
          0.016993366045561523,
          0.010484623002003623,
          -0.004781432286814748,
          0.0004268290575884305,
          0.0006566478198492534,
          0.01059221979394798,
          0.004174449698002519,
          0.007520980941053347,
          0.014400568633270865,
          0.009289405692398148,
          0.000018842307479309385,
          0.008598930693674652,
          0.009050006220982431,
          0.0086245290185368,
          0.015054930023581941,
          -0.007669688986136226,
          0.005742287964809951,
          0.007950984136952059,
          0.0003543375727853953,
          -0.01792744862997088,
          -0.006732848923610152,
          0.01258389566450465,
          0.01907580553916343,
          0.024941515861435226,
          0.01752318290672799,
          0.015835296387017004,
          0.019078003658843715,
          0.02966846823301853,
          0.023791770485735157,
          0.03237030558472859,
          0.02912868520028212,
          0.02870189651241368,
          0.027744042480235175,
          0.022345826805321566,
          0.015572544507739004,
          0.005639179387330864,
          0.01396368112104352,
          0.013063418131641346,
          0.0200728087781654,
          0.01883022098484341,
          0.03175435969925882,
          0.027646949703152693,
          0.026961045320557646,
          0.017109337634499542,
          0.014414633819418585,
          0.006883432075642766,
          -0.0005932428893153537,
          0.004660877986207775,
          0.015316749209490301,
          0.018590641768233634,
          0.01938012724070605,
          0.022054628653797308,
          0.0322057801212539,
          0.04519775724975163,
          0.050618906213430945,
          0.06540100903213025,
          0.048493002570980125,
          0.03247756889056118,
          0.03092357800403087,
          0.0332648151282609,
          0.035789172426280054,
          0.026872553998149043,
          0.015141901036952902,
          0.006739915297471324,
          0.006649743443924747,
          0.02152475486047213,
          0.019559326253646474,
          0.01523815437331194,
          0.003290388575727806,
          0.012285917939767924,
          0.002484996206120614,
          0.0076730582255491965,
          0.0022183590774684744,
          0.0062229215705635115,
          0.010705142046255223,
          0.004686327923732887,
          0.012832369379428998,
          0.009953841117260933,
          0.0069156269776694595,
          0.0004347467985430426,
          0.015101941957032503,
          0.016103964801604736,
          0.007682566867679639,
          0.009816359983863222,
          0.009878844429071939,
          0.012325382422932346,
          0.015167240755750497,
          0.023717737269502128,
          0.022144927010975795,
          0.025275852513964327,
          0.01823733344094973,
          0.02687363115653547,
          0.024670200408258857,
          0.01796094057223707,
          0.01141369010829295,
          0.017823022101873635,
          0.013080834673187653,
          0.009719536183868073,
          0.010867806957438816,
          0.014846554663149126,
          0.012924111064399493,
          0.008252170336119965,
          0.009105995210893444,
          0.013207329798566774,
          0.0168203859778899,
          0.019995480776704357,
          0.018608711833548883,
          0.012309144402701967,
          0.017233446031391805,
          0.028512699777306614,
          0.024864254596277186,
          0.01982663874194655,
          0.02522510776143522,
          0.03032447632684173,
          0.030837655550600238,
          0.03302218944135449,
          0.0407343504991694,
          0.04118521827926978,
          0.039079653990471454,
          0.018625604757645586,
          0.01276101059474987,
          0.006536194490988102,
          0.01615296873290803,
          0.014307479739420667,
          0.018907033197752082,
          0.02155422757511289,
          0.0006200182689976965,
          -0.00432622638872662,
          0.0039659231586771084,
          0.009156398491520609,
          0.020660091890272667,
          0.03099698579654943,
          0.04081706572382196,
          0.03645118323827609,
          0.040579387044638274,
          0.02787479890482875,
          0.025350590533206537,
          0.018370345045151375,
          0.012684395536973201,
          0.004812193330189255,
          -0.0017141742771696695,
          0.001152371307581127,
          -0.000024082115061950823,
          0.00008793971537393278,
          0.004642185659230723,
          0.0024473136083040694,
          0.016719832390869962,
          0.01642664625638256,
          0.020647740297240966,
          0.013773829810666813,
          0.012732871839727355,
          0.02210582969874504,
          0.009517255879667244,
          -0.002222355163181355,
          0.004774867726782199,
          0.009071645893742566,
          0.015220821647785954,
          0.023445892106351243,
          0.02442611811690491,
          0.030790509513856746,
          0.034044771087408734,
          0.029950833017172773,
          0.030079649934301497,
          0.01670567112913275,
          0.01920785183961298,
          0.011249515873640537,
          0.021300717358929664,
          0.016958733209217456
         ],
         "yaxis": "y"
        },
        {
         "hovertemplate": "variable=FSDS<br>batches=%{x}<br>stability=%{y}<extra></extra>",
         "legendgroup": "FSDS",
         "line": {
          "color": "green",
          "dash": "solid"
         },
         "mode": "lines",
         "name": "FSDS",
         "orientation": "v",
         "showlegend": true,
         "type": "scatter",
         "x": [
          0,
          1,
          2,
          3,
          4,
          5,
          6,
          7,
          8,
          9,
          10,
          11,
          12,
          13,
          14,
          15,
          16,
          17,
          18,
          19,
          20,
          21,
          22,
          23,
          24,
          25,
          26,
          27,
          28,
          29,
          30,
          31,
          32,
          33,
          34,
          35,
          36,
          37,
          38,
          39,
          40,
          41,
          42,
          43,
          44,
          45,
          46,
          47,
          48,
          49,
          50,
          51,
          52,
          53,
          54,
          55,
          56,
          57,
          58,
          59,
          60,
          61,
          62,
          63,
          64,
          65,
          66,
          67,
          68,
          69,
          70,
          71,
          72,
          73,
          74,
          75,
          76,
          77,
          78,
          79,
          80,
          81,
          82,
          83,
          84,
          85,
          86,
          87,
          88,
          89,
          90,
          91,
          92,
          93,
          94,
          95,
          96,
          97,
          98,
          99,
          100,
          101,
          102,
          103,
          104,
          105,
          106,
          107,
          108,
          109,
          110,
          111,
          112,
          113,
          114,
          115,
          116,
          117,
          118,
          119,
          120,
          121,
          122,
          123,
          124,
          125,
          126,
          127,
          128,
          129,
          130,
          131,
          132,
          133,
          134,
          135,
          136,
          137,
          138,
          139,
          140,
          141,
          142,
          143,
          144,
          145,
          146,
          147,
          148,
          149,
          150,
          151,
          152,
          153,
          154,
          155,
          156,
          157,
          158,
          159,
          160,
          161,
          162,
          163,
          164,
          165,
          166,
          167,
          168,
          169,
          170,
          171,
          172,
          173,
          174,
          175,
          176,
          177,
          178,
          179,
          180,
          181,
          182,
          183,
          184,
          185,
          186,
          187,
          188,
          189,
          190
         ],
         "xaxis": "x",
         "y": [
          0.26044444444444453,
          0.27881481481481485,
          0.2942222222222222,
          0.3161481481481482,
          0.33392592592592596,
          0.3635555555555556,
          0.39022222222222214,
          0.4091851851851852,
          0.42874074074074076,
          0.46251851851851866,
          0.47911111111111115,
          0.5265185185185185,
          0.5401481481481482,
          0.5448888888888889,
          0.5318518518518519,
          0.5365925925925926,
          0.5543703703703704,
          0.5632592592592593,
          0.5733333333333334,
          0.5845925925925927,
          0.618962962962963,
          0.6551111111111112,
          0.6722962962962964,
          0.672888888888889,
          0.6782222222222224,
          0.6960000000000002,
          0.7256296296296297,
          0.7280000000000003,
          0.7345185185185186,
          0.7552592592592594,
          0.7807407407407407,
          0.7943703703703702,
          0.8103703703703704,
          0.8251851851851852,
          0.8305185185185185,
          0.8317037037037038,
          0.8299259259259262,
          0.8198518518518523,
          0.8014814814814816,
          0.7813333333333333,
          0.7617777777777779,
          0.7588148148148148,
          0.7594074074074074,
          0.7736296296296298,
          0.7831111111111115,
          0.795555555555556,
          0.8240000000000002,
          0.8328888888888889,
          0.8269629629629629,
          0.8026666666666666,
          0.780740740740741,
          0.7552592592592593,
          0.7487407407407409,
          0.7570370370370372,
          0.7481481481481482,
          0.7457777777777779,
          0.7487407407407409,
          0.745777777777778,
          0.7422222222222223,
          0.7226666666666669,
          0.7191111111111113,
          0.7333333333333335,
          0.7380740740740743,
          0.7487407407407409,
          0.7528888888888892,
          0.7712592592592596,
          0.7742222222222225,
          0.7724444444444446,
          0.7700740740740744,
          0.7623703703703707,
          0.7605925925925928,
          0.7505185185185189,
          0.761777777777778,
          0.7623703703703708,
          0.7730370370370374,
          0.7659259259259263,
          0.7617777777777781,
          0.761777777777778,
          0.7600000000000001,
          0.7653333333333334,
          0.7600000000000002,
          0.7700740740740745,
          0.782518518518519,
          0.7973333333333338,
          0.8062222222222223,
          0.836444444444445,
          0.8234074074074078,
          0.8091851851851851,
          0.8038518518518522,
          0.7771851851851853,
          0.7623703703703705,
          0.754666666666667,
          0.7522962962962966,
          0.745777777777778,
          0.7451851851851853,
          0.7469629629629633,
          0.7576296296296299,
          0.7718518518518519,
          0.7795555555555557,
          0.7771851851851853,
          0.7920000000000001,
          0.7931851851851854,
          0.7890370370370372,
          0.7896296296296298,
          0.7979259259259259,
          0.8074074074074077,
          0.8198518518518523,
          0.821037037037037,
          0.8411851851851854,
          0.8500740740740741,
          0.8512592592592596,
          0.8482962962962967,
          0.8364444444444447,
          0.8358518518518518,
          0.8423703703703702,
          0.8447407407407408,
          0.8376296296296301,
          0.847703703703704,
          0.8423703703703702,
          0.8423703703703705,
          0.8334814814814818,
          0.8115555555555559,
          0.799703703703704,
          0.7967407407407411,
          0.8056296296296297,
          0.8269629629629629,
          0.8311111111111112,
          0.8352592592592595,
          0.8388148148148151,
          0.8435555555555557,
          0.8459259259259259,
          0.8441481481481484,
          0.8435555555555556,
          0.8477037037037036,
          0.8524444444444447,
          0.8524444444444447,
          0.8548148148148149,
          0.8459259259259261,
          0.8293333333333334,
          0.8299259259259261,
          0.8198518518518518,
          0.8204444444444445,
          0.8133333333333336,
          0.8074074074074077,
          0.8050370370370372,
          0.7949629629629632,
          0.7866666666666666,
          0.7860740740740741,
          0.7902222222222222,
          0.7937777777777781,
          0.8014814814814818,
          0.8068148148148151,
          0.798518518518519,
          0.7949629629629634,
          0.7925925925925927,
          0.8062222222222227,
          0.82162962962963,
          0.8317037037037043,
          0.840592592592593,
          0.85362962962963,
          0.8583703703703707,
          0.848888888888889,
          0.8423703703703704,
          0.8376296296296297,
          0.8180740740740743,
          0.7925925925925927,
          0.7866666666666668,
          0.7837037037037042,
          0.7860740740740748,
          0.794370370370371,
          0.8062222222222224,
          0.8050370370370372,
          0.8085925925925929,
          0.8085925925925929,
          0.8062222222222227,
          0.8204444444444446,
          0.8388148148148149,
          0.8530370370370371,
          0.8714074074074075,
          0.8672592592592594,
          0.8678518518518519,
          0.8595555555555556,
          0.8560000000000001,
          0.8601481481481484,
          0.8530370370370371,
          0.8565925925925925,
          0.855407407407407,
          0.8565925925925928,
          0.8571851851851852,
          0.858962962962963,
          0.8642962962962965
         ],
         "yaxis": "y"
        }
       ],
       "layout": {
        "legend": {
         "title": {
          "text": "variable"
         },
         "tracegroupgap": 0
        },
        "template": {
         "data": {
          "bar": [
           {
            "error_x": {
             "color": "#2a3f5f"
            },
            "error_y": {
             "color": "#2a3f5f"
            },
            "marker": {
             "line": {
              "color": "#E5ECF6",
              "width": 0.5
             }
            },
            "type": "bar"
           }
          ],
          "barpolar": [
           {
            "marker": {
             "line": {
              "color": "#E5ECF6",
              "width": 0.5
             }
            },
            "type": "barpolar"
           }
          ],
          "carpet": [
           {
            "aaxis": {
             "endlinecolor": "#2a3f5f",
             "gridcolor": "white",
             "linecolor": "white",
             "minorgridcolor": "white",
             "startlinecolor": "#2a3f5f"
            },
            "baxis": {
             "endlinecolor": "#2a3f5f",
             "gridcolor": "white",
             "linecolor": "white",
             "minorgridcolor": "white",
             "startlinecolor": "#2a3f5f"
            },
            "type": "carpet"
           }
          ],
          "choropleth": [
           {
            "colorbar": {
             "outlinewidth": 0,
             "ticks": ""
            },
            "type": "choropleth"
           }
          ],
          "contour": [
           {
            "colorbar": {
             "outlinewidth": 0,
             "ticks": ""
            },
            "colorscale": [
             [
              0,
              "#0d0887"
             ],
             [
              0.1111111111111111,
              "#46039f"
             ],
             [
              0.2222222222222222,
              "#7201a8"
             ],
             [
              0.3333333333333333,
              "#9c179e"
             ],
             [
              0.4444444444444444,
              "#bd3786"
             ],
             [
              0.5555555555555556,
              "#d8576b"
             ],
             [
              0.6666666666666666,
              "#ed7953"
             ],
             [
              0.7777777777777778,
              "#fb9f3a"
             ],
             [
              0.8888888888888888,
              "#fdca26"
             ],
             [
              1,
              "#f0f921"
             ]
            ],
            "type": "contour"
           }
          ],
          "contourcarpet": [
           {
            "colorbar": {
             "outlinewidth": 0,
             "ticks": ""
            },
            "type": "contourcarpet"
           }
          ],
          "heatmap": [
           {
            "colorbar": {
             "outlinewidth": 0,
             "ticks": ""
            },
            "colorscale": [
             [
              0,
              "#0d0887"
             ],
             [
              0.1111111111111111,
              "#46039f"
             ],
             [
              0.2222222222222222,
              "#7201a8"
             ],
             [
              0.3333333333333333,
              "#9c179e"
             ],
             [
              0.4444444444444444,
              "#bd3786"
             ],
             [
              0.5555555555555556,
              "#d8576b"
             ],
             [
              0.6666666666666666,
              "#ed7953"
             ],
             [
              0.7777777777777778,
              "#fb9f3a"
             ],
             [
              0.8888888888888888,
              "#fdca26"
             ],
             [
              1,
              "#f0f921"
             ]
            ],
            "type": "heatmap"
           }
          ],
          "heatmapgl": [
           {
            "colorbar": {
             "outlinewidth": 0,
             "ticks": ""
            },
            "colorscale": [
             [
              0,
              "#0d0887"
             ],
             [
              0.1111111111111111,
              "#46039f"
             ],
             [
              0.2222222222222222,
              "#7201a8"
             ],
             [
              0.3333333333333333,
              "#9c179e"
             ],
             [
              0.4444444444444444,
              "#bd3786"
             ],
             [
              0.5555555555555556,
              "#d8576b"
             ],
             [
              0.6666666666666666,
              "#ed7953"
             ],
             [
              0.7777777777777778,
              "#fb9f3a"
             ],
             [
              0.8888888888888888,
              "#fdca26"
             ],
             [
              1,
              "#f0f921"
             ]
            ],
            "type": "heatmapgl"
           }
          ],
          "histogram": [
           {
            "marker": {
             "colorbar": {
              "outlinewidth": 0,
              "ticks": ""
             }
            },
            "type": "histogram"
           }
          ],
          "histogram2d": [
           {
            "colorbar": {
             "outlinewidth": 0,
             "ticks": ""
            },
            "colorscale": [
             [
              0,
              "#0d0887"
             ],
             [
              0.1111111111111111,
              "#46039f"
             ],
             [
              0.2222222222222222,
              "#7201a8"
             ],
             [
              0.3333333333333333,
              "#9c179e"
             ],
             [
              0.4444444444444444,
              "#bd3786"
             ],
             [
              0.5555555555555556,
              "#d8576b"
             ],
             [
              0.6666666666666666,
              "#ed7953"
             ],
             [
              0.7777777777777778,
              "#fb9f3a"
             ],
             [
              0.8888888888888888,
              "#fdca26"
             ],
             [
              1,
              "#f0f921"
             ]
            ],
            "type": "histogram2d"
           }
          ],
          "histogram2dcontour": [
           {
            "colorbar": {
             "outlinewidth": 0,
             "ticks": ""
            },
            "colorscale": [
             [
              0,
              "#0d0887"
             ],
             [
              0.1111111111111111,
              "#46039f"
             ],
             [
              0.2222222222222222,
              "#7201a8"
             ],
             [
              0.3333333333333333,
              "#9c179e"
             ],
             [
              0.4444444444444444,
              "#bd3786"
             ],
             [
              0.5555555555555556,
              "#d8576b"
             ],
             [
              0.6666666666666666,
              "#ed7953"
             ],
             [
              0.7777777777777778,
              "#fb9f3a"
             ],
             [
              0.8888888888888888,
              "#fdca26"
             ],
             [
              1,
              "#f0f921"
             ]
            ],
            "type": "histogram2dcontour"
           }
          ],
          "mesh3d": [
           {
            "colorbar": {
             "outlinewidth": 0,
             "ticks": ""
            },
            "type": "mesh3d"
           }
          ],
          "parcoords": [
           {
            "line": {
             "colorbar": {
              "outlinewidth": 0,
              "ticks": ""
             }
            },
            "type": "parcoords"
           }
          ],
          "pie": [
           {
            "automargin": true,
            "type": "pie"
           }
          ],
          "scatter": [
           {
            "marker": {
             "colorbar": {
              "outlinewidth": 0,
              "ticks": ""
             }
            },
            "type": "scatter"
           }
          ],
          "scatter3d": [
           {
            "line": {
             "colorbar": {
              "outlinewidth": 0,
              "ticks": ""
             }
            },
            "marker": {
             "colorbar": {
              "outlinewidth": 0,
              "ticks": ""
             }
            },
            "type": "scatter3d"
           }
          ],
          "scattercarpet": [
           {
            "marker": {
             "colorbar": {
              "outlinewidth": 0,
              "ticks": ""
             }
            },
            "type": "scattercarpet"
           }
          ],
          "scattergeo": [
           {
            "marker": {
             "colorbar": {
              "outlinewidth": 0,
              "ticks": ""
             }
            },
            "type": "scattergeo"
           }
          ],
          "scattergl": [
           {
            "marker": {
             "colorbar": {
              "outlinewidth": 0,
              "ticks": ""
             }
            },
            "type": "scattergl"
           }
          ],
          "scattermapbox": [
           {
            "marker": {
             "colorbar": {
              "outlinewidth": 0,
              "ticks": ""
             }
            },
            "type": "scattermapbox"
           }
          ],
          "scatterpolar": [
           {
            "marker": {
             "colorbar": {
              "outlinewidth": 0,
              "ticks": ""
             }
            },
            "type": "scatterpolar"
           }
          ],
          "scatterpolargl": [
           {
            "marker": {
             "colorbar": {
              "outlinewidth": 0,
              "ticks": ""
             }
            },
            "type": "scatterpolargl"
           }
          ],
          "scatterternary": [
           {
            "marker": {
             "colorbar": {
              "outlinewidth": 0,
              "ticks": ""
             }
            },
            "type": "scatterternary"
           }
          ],
          "surface": [
           {
            "colorbar": {
             "outlinewidth": 0,
             "ticks": ""
            },
            "colorscale": [
             [
              0,
              "#0d0887"
             ],
             [
              0.1111111111111111,
              "#46039f"
             ],
             [
              0.2222222222222222,
              "#7201a8"
             ],
             [
              0.3333333333333333,
              "#9c179e"
             ],
             [
              0.4444444444444444,
              "#bd3786"
             ],
             [
              0.5555555555555556,
              "#d8576b"
             ],
             [
              0.6666666666666666,
              "#ed7953"
             ],
             [
              0.7777777777777778,
              "#fb9f3a"
             ],
             [
              0.8888888888888888,
              "#fdca26"
             ],
             [
              1,
              "#f0f921"
             ]
            ],
            "type": "surface"
           }
          ],
          "table": [
           {
            "cells": {
             "fill": {
              "color": "#EBF0F8"
             },
             "line": {
              "color": "white"
             }
            },
            "header": {
             "fill": {
              "color": "#C8D4E3"
             },
             "line": {
              "color": "white"
             }
            },
            "type": "table"
           }
          ]
         },
         "layout": {
          "annotationdefaults": {
           "arrowcolor": "#2a3f5f",
           "arrowhead": 0,
           "arrowwidth": 1
          },
          "autotypenumbers": "strict",
          "coloraxis": {
           "colorbar": {
            "outlinewidth": 0,
            "ticks": ""
           }
          },
          "colorscale": {
           "diverging": [
            [
             0,
             "#8e0152"
            ],
            [
             0.1,
             "#c51b7d"
            ],
            [
             0.2,
             "#de77ae"
            ],
            [
             0.3,
             "#f1b6da"
            ],
            [
             0.4,
             "#fde0ef"
            ],
            [
             0.5,
             "#f7f7f7"
            ],
            [
             0.6,
             "#e6f5d0"
            ],
            [
             0.7,
             "#b8e186"
            ],
            [
             0.8,
             "#7fbc41"
            ],
            [
             0.9,
             "#4d9221"
            ],
            [
             1,
             "#276419"
            ]
           ],
           "sequential": [
            [
             0,
             "#0d0887"
            ],
            [
             0.1111111111111111,
             "#46039f"
            ],
            [
             0.2222222222222222,
             "#7201a8"
            ],
            [
             0.3333333333333333,
             "#9c179e"
            ],
            [
             0.4444444444444444,
             "#bd3786"
            ],
            [
             0.5555555555555556,
             "#d8576b"
            ],
            [
             0.6666666666666666,
             "#ed7953"
            ],
            [
             0.7777777777777778,
             "#fb9f3a"
            ],
            [
             0.8888888888888888,
             "#fdca26"
            ],
            [
             1,
             "#f0f921"
            ]
           ],
           "sequentialminus": [
            [
             0,
             "#0d0887"
            ],
            [
             0.1111111111111111,
             "#46039f"
            ],
            [
             0.2222222222222222,
             "#7201a8"
            ],
            [
             0.3333333333333333,
             "#9c179e"
            ],
            [
             0.4444444444444444,
             "#bd3786"
            ],
            [
             0.5555555555555556,
             "#d8576b"
            ],
            [
             0.6666666666666666,
             "#ed7953"
            ],
            [
             0.7777777777777778,
             "#fb9f3a"
            ],
            [
             0.8888888888888888,
             "#fdca26"
            ],
            [
             1,
             "#f0f921"
            ]
           ]
          },
          "colorway": [
           "#636efa",
           "#EF553B",
           "#00cc96",
           "#ab63fa",
           "#FFA15A",
           "#19d3f3",
           "#FF6692",
           "#B6E880",
           "#FF97FF",
           "#FECB52"
          ],
          "font": {
           "color": "#2a3f5f"
          },
          "geo": {
           "bgcolor": "white",
           "lakecolor": "white",
           "landcolor": "#E5ECF6",
           "showlakes": true,
           "showland": true,
           "subunitcolor": "white"
          },
          "hoverlabel": {
           "align": "left"
          },
          "hovermode": "closest",
          "mapbox": {
           "style": "light"
          },
          "paper_bgcolor": "white",
          "plot_bgcolor": "#E5ECF6",
          "polar": {
           "angularaxis": {
            "gridcolor": "white",
            "linecolor": "white",
            "ticks": ""
           },
           "bgcolor": "#E5ECF6",
           "radialaxis": {
            "gridcolor": "white",
            "linecolor": "white",
            "ticks": ""
           }
          },
          "scene": {
           "xaxis": {
            "backgroundcolor": "#E5ECF6",
            "gridcolor": "white",
            "gridwidth": 2,
            "linecolor": "white",
            "showbackground": true,
            "ticks": "",
            "zerolinecolor": "white"
           },
           "yaxis": {
            "backgroundcolor": "#E5ECF6",
            "gridcolor": "white",
            "gridwidth": 2,
            "linecolor": "white",
            "showbackground": true,
            "ticks": "",
            "zerolinecolor": "white"
           },
           "zaxis": {
            "backgroundcolor": "#E5ECF6",
            "gridcolor": "white",
            "gridwidth": 2,
            "linecolor": "white",
            "showbackground": true,
            "ticks": "",
            "zerolinecolor": "white"
           }
          },
          "shapedefaults": {
           "line": {
            "color": "#2a3f5f"
           }
          },
          "ternary": {
           "aaxis": {
            "gridcolor": "white",
            "linecolor": "white",
            "ticks": ""
           },
           "baxis": {
            "gridcolor": "white",
            "linecolor": "white",
            "ticks": ""
           },
           "bgcolor": "#E5ECF6",
           "caxis": {
            "gridcolor": "white",
            "linecolor": "white",
            "ticks": ""
           }
          },
          "title": {
           "x": 0.05
          },
          "xaxis": {
           "automargin": true,
           "gridcolor": "white",
           "linecolor": "white",
           "ticks": "",
           "title": {
            "standoff": 15
           },
           "zerolinecolor": "white",
           "zerolinewidth": 2
          },
          "yaxis": {
           "automargin": true,
           "gridcolor": "white",
           "linecolor": "white",
           "ticks": "",
           "title": {
            "standoff": 15
           },
           "zerolinecolor": "white",
           "zerolinewidth": 2
          }
         }
        },
        "title": {
         "text": "Stability"
        },
        "xaxis": {
         "anchor": "y",
         "domain": [
          0,
          1
         ],
         "title": {
          "text": "batches"
         }
        },
        "yaxis": {
         "anchor": "x",
         "domain": [
          0,
          1
         ],
         "title": {
          "text": "stability"
         }
        }
       }
      }
     },
     "metadata": {}
    }
   ],
   "source": [
    "# stability\n",
    "title = \"Stability\"\n",
    "col_names = [\"FIRES\", \"OFS\", \"OFSSGD\", \"FSDS\"]\n",
    "d = {\"FIRES\":fires_stability, \"OFS\":ofs_stability, \"OFSSGD\":ofssgd_stability, \"FSDS\":fsds_stability} #\"random\":random_stability\n",
    "df = pd.DataFrame(d, columns=col_names)\n",
    "fig = px.line(df, y = col_names, title=title, labels={\"index\":\"batches\", \"value\":\"stability\"},color_discrete_map={'FIRES': 'red', \n",
    "                                                   'FSDS': 'green', 'OFS': 'purple', \"OFSSGD\":\"yellow\"} )\n",
    "fig.show()"
   ]
  },
  {
   "cell_type": "code",
   "execution_count": 41,
   "metadata": {},
   "outputs": [
    {
     "output_type": "display_data",
     "data": {
      "application/vnd.plotly.v1+json": {
       "config": {
        "plotlyServerURL": "https://plot.ly"
       },
       "data": [
        {
         "hovertemplate": "variable=FIRES<br>batches=%{x}<br>accuracy=%{y}<extra></extra>",
         "legendgroup": "FIRES",
         "line": {
          "color": "red",
          "dash": "solid"
         },
         "mode": "lines",
         "name": "FIRES",
         "orientation": "v",
         "showlegend": true,
         "type": "scatter",
         "x": [
          0,
          1,
          2,
          3,
          4,
          5,
          6,
          7,
          8,
          9,
          10,
          11,
          12,
          13,
          14,
          15,
          16,
          17,
          18,
          19,
          20,
          21,
          22,
          23,
          24,
          25,
          26,
          27,
          28,
          29,
          30,
          31,
          32,
          33,
          34,
          35,
          36,
          37,
          38,
          39,
          40,
          41,
          42,
          43,
          44,
          45,
          46,
          47,
          48,
          49,
          50,
          51,
          52,
          53,
          54,
          55,
          56,
          57,
          58,
          59,
          60,
          61,
          62,
          63,
          64,
          65,
          66,
          67,
          68,
          69,
          70,
          71,
          72,
          73,
          74,
          75,
          76,
          77,
          78,
          79,
          80,
          81,
          82,
          83,
          84,
          85,
          86,
          87,
          88,
          89,
          90,
          91,
          92,
          93,
          94,
          95,
          96,
          97,
          98,
          99,
          100,
          101,
          102,
          103,
          104,
          105,
          106,
          107,
          108,
          109,
          110,
          111,
          112,
          113,
          114,
          115,
          116,
          117,
          118,
          119,
          120,
          121,
          122,
          123,
          124,
          125,
          126,
          127,
          128,
          129,
          130,
          131,
          132,
          133,
          134,
          135,
          136,
          137,
          138,
          139,
          140,
          141,
          142,
          143,
          144,
          145,
          146,
          147,
          148,
          149,
          150,
          151,
          152,
          153,
          154,
          155,
          156,
          157,
          158,
          159,
          160,
          161,
          162,
          163,
          164,
          165,
          166,
          167,
          168,
          169,
          170,
          171,
          172,
          173,
          174,
          175,
          176,
          177,
          178,
          179,
          180,
          181,
          182,
          183,
          184,
          185,
          186,
          187,
          188,
          189,
          190
         ],
         "xaxis": "x",
         "y": [
          0.426,
          0.45200000000000007,
          0.45,
          0.45,
          0.461,
          0.46399999999999997,
          0.449,
          0.44600000000000006,
          0.4640000000000001,
          0.47400000000000003,
          0.4630000000000001,
          0.454,
          0.45299999999999996,
          0.4720000000000001,
          0.48600000000000004,
          0.48600000000000004,
          0.506,
          0.5199999999999999,
          0.511,
          0.517,
          0.5119999999999999,
          0.5149999999999999,
          0.54,
          0.514,
          0.5109999999999999,
          0.517,
          0.5279999999999999,
          0.536,
          0.52,
          0.5229999999999999,
          0.536,
          0.546,
          0.538,
          0.528,
          0.538,
          0.529,
          0.511,
          0.513,
          0.517,
          0.518,
          0.499,
          0.506,
          0.522,
          0.5319999999999999,
          0.524,
          0.5309999999999999,
          0.538,
          0.542,
          0.5660000000000001,
          0.5609999999999999,
          0.576,
          0.563,
          0.55,
          0.562,
          0.5589999999999999,
          0.549,
          0.554,
          0.546,
          0.5519999999999999,
          0.562,
          0.554,
          0.546,
          0.521,
          0.518,
          0.508,
          0.521,
          0.511,
          0.49800000000000005,
          0.4880000000000001,
          0.47800000000000004,
          0.485,
          0.491,
          0.518,
          0.517,
          0.5010000000000001,
          0.49300000000000005,
          0.48999999999999994,
          0.48,
          0.481,
          0.483,
          0.47400000000000003,
          0.483,
          0.47000000000000003,
          0.46399999999999997,
          0.506,
          0.517,
          0.512,
          0.514,
          0.511,
          0.513,
          0.525,
          0.53,
          0.519,
          0.508,
          0.46699999999999997,
          0.458,
          0.4640000000000001,
          0.4790000000000001,
          0.48600000000000004,
          0.511,
          0.511,
          0.5050000000000001,
          0.53,
          0.542,
          0.5680000000000001,
          0.567,
          0.5469999999999999,
          0.5549999999999999,
          0.568,
          0.545,
          0.548,
          0.5479999999999999,
          0.529,
          0.5319999999999999,
          0.533,
          0.544,
          0.5690000000000001,
          0.564,
          0.548,
          0.549,
          0.55,
          0.538,
          0.55,
          0.56,
          0.5660000000000001,
          0.5589999999999999,
          0.554,
          0.533,
          0.534,
          0.5359999999999999,
          0.5189999999999999,
          0.532,
          0.5309999999999999,
          0.526,
          0.5239999999999999,
          0.52,
          0.5189999999999999,
          0.548,
          0.5479999999999999,
          0.541,
          0.548,
          0.521,
          0.527,
          0.514,
          0.508,
          0.516,
          0.525,
          0.5189999999999999,
          0.529,
          0.529,
          0.525,
          0.5389999999999999,
          0.5269999999999999,
          0.526,
          0.529,
          0.5269999999999999,
          0.523,
          0.513,
          0.488,
          0.48,
          0.48,
          0.48600000000000004,
          0.48100000000000004,
          0.48,
          0.48900000000000005,
          0.48,
          0.491,
          0.5,
          0.526,
          0.54,
          0.558,
          0.556,
          0.58,
          0.608,
          0.588,
          0.579,
          0.5469999999999999,
          0.535,
          0.534,
          0.523,
          0.523,
          0.514,
          0.514,
          0.509,
          0.522,
          0.524,
          0.54,
          0.564,
          0.563,
          0.5589999999999999,
          0.5559999999999999
         ],
         "yaxis": "y"
        },
        {
         "hovertemplate": "variable=OFS<br>batches=%{x}<br>accuracy=%{y}<extra></extra>",
         "legendgroup": "OFS",
         "line": {
          "color": "purple",
          "dash": "solid"
         },
         "mode": "lines",
         "name": "OFS",
         "orientation": "v",
         "showlegend": true,
         "type": "scatter",
         "x": [
          0,
          1,
          2,
          3,
          4,
          5,
          6,
          7,
          8,
          9,
          10,
          11,
          12,
          13,
          14,
          15,
          16,
          17,
          18,
          19,
          20,
          21,
          22,
          23,
          24,
          25,
          26,
          27,
          28,
          29,
          30,
          31,
          32,
          33,
          34,
          35,
          36,
          37,
          38,
          39,
          40,
          41,
          42,
          43,
          44,
          45,
          46,
          47,
          48,
          49,
          50,
          51,
          52,
          53,
          54,
          55,
          56,
          57,
          58,
          59,
          60,
          61,
          62,
          63,
          64,
          65,
          66,
          67,
          68,
          69,
          70,
          71,
          72,
          73,
          74,
          75,
          76,
          77,
          78,
          79,
          80,
          81,
          82,
          83,
          84,
          85,
          86,
          87,
          88,
          89,
          90,
          91,
          92,
          93,
          94,
          95,
          96,
          97,
          98,
          99,
          100,
          101,
          102,
          103,
          104,
          105,
          106,
          107,
          108,
          109,
          110,
          111,
          112,
          113,
          114,
          115,
          116,
          117,
          118,
          119,
          120,
          121,
          122,
          123,
          124,
          125,
          126,
          127,
          128,
          129,
          130,
          131,
          132,
          133,
          134,
          135,
          136,
          137,
          138,
          139,
          140,
          141,
          142,
          143,
          144,
          145,
          146,
          147,
          148,
          149,
          150,
          151,
          152,
          153,
          154,
          155,
          156,
          157,
          158,
          159,
          160,
          161,
          162,
          163,
          164,
          165,
          166,
          167,
          168,
          169,
          170,
          171,
          172,
          173,
          174,
          175,
          176,
          177,
          178,
          179,
          180,
          181,
          182,
          183,
          184,
          185,
          186,
          187,
          188,
          189,
          190
         ],
         "xaxis": "x",
         "y": [
          0.45899999999999996,
          0.493,
          0.531,
          0.5439999999999999,
          0.554,
          0.554,
          0.546,
          0.562,
          0.538,
          0.5369999999999999,
          0.517,
          0.502,
          0.508,
          0.48900000000000005,
          0.49000000000000005,
          0.497,
          0.514,
          0.509,
          0.527,
          0.526,
          0.552,
          0.57,
          0.5469999999999999,
          0.567,
          0.576,
          0.5650000000000001,
          0.558,
          0.5509999999999999,
          0.533,
          0.529,
          0.508,
          0.515,
          0.53,
          0.518,
          0.508,
          0.508,
          0.49899999999999994,
          0.5130000000000001,
          0.519,
          0.5229999999999999,
          0.513,
          0.5229999999999999,
          0.508,
          0.514,
          0.5069999999999999,
          0.507,
          0.516,
          0.5069999999999999,
          0.509,
          0.5,
          0.49899999999999994,
          0.47000000000000003,
          0.488,
          0.495,
          0.491,
          0.49000000000000005,
          0.485,
          0.488,
          0.481,
          0.5109999999999999,
          0.52,
          0.526,
          0.513,
          0.513,
          0.524,
          0.5289999999999999,
          0.524,
          0.516,
          0.53,
          0.495,
          0.492,
          0.493,
          0.5029999999999999,
          0.501,
          0.5119999999999999,
          0.47800000000000004,
          0.45999999999999996,
          0.47400000000000003,
          0.4680000000000001,
          0.49400000000000005,
          0.49399999999999994,
          0.509,
          0.48500000000000004,
          0.484,
          0.46900000000000003,
          0.511,
          0.53,
          0.5119999999999999,
          0.5029999999999999,
          0.497,
          0.5,
          0.505,
          0.539,
          0.545,
          0.55,
          0.5429999999999999,
          0.548,
          0.5650000000000001,
          0.5740000000000001,
          0.576,
          0.591,
          0.575,
          0.5369999999999999,
          0.527,
          0.537,
          0.552,
          0.542,
          0.5509999999999999,
          0.5700000000000001,
          0.5680000000000001,
          0.558,
          0.558,
          0.5720000000000001,
          0.5700000000000001,
          0.549,
          0.5349999999999999,
          0.553,
          0.541,
          0.526,
          0.5309999999999999,
          0.541,
          0.538,
          0.518,
          0.534,
          0.557,
          0.563,
          0.5309999999999999,
          0.523,
          0.5039999999999999,
          0.488,
          0.47000000000000003,
          0.477,
          0.5,
          0.496,
          0.479,
          0.466,
          0.458,
          0.479,
          0.5090000000000001,
          0.519,
          0.518,
          0.5149999999999999,
          0.541,
          0.521,
          0.52,
          0.527,
          0.5559999999999999,
          0.529,
          0.51,
          0.515,
          0.51,
          0.499,
          0.48200000000000004,
          0.493,
          0.5069999999999999,
          0.491,
          0.502,
          0.518,
          0.525,
          0.518,
          0.537,
          0.563,
          0.5660000000000001,
          0.5700000000000001,
          0.5690000000000001,
          0.5680000000000001,
          0.547,
          0.554,
          0.5509999999999999,
          0.5589999999999999,
          0.5559999999999999,
          0.534,
          0.538,
          0.55,
          0.548,
          0.5589999999999999,
          0.558,
          0.562,
          0.5549999999999999,
          0.543,
          0.557,
          0.5690000000000001,
          0.587,
          0.575,
          0.584,
          0.592,
          0.585,
          0.58,
          0.598,
          0.575,
          0.5599999999999999
         ],
         "yaxis": "y"
        },
        {
         "hovertemplate": "variable=OFSSGD<br>batches=%{x}<br>accuracy=%{y}<extra></extra>",
         "legendgroup": "OFSSGD",
         "line": {
          "color": "yellow",
          "dash": "solid"
         },
         "mode": "lines",
         "name": "OFSSGD",
         "orientation": "v",
         "showlegend": true,
         "type": "scatter",
         "x": [
          0,
          1,
          2,
          3,
          4,
          5,
          6,
          7,
          8,
          9,
          10,
          11,
          12,
          13,
          14,
          15,
          16,
          17,
          18,
          19,
          20,
          21,
          22,
          23,
          24,
          25,
          26,
          27,
          28,
          29,
          30,
          31,
          32,
          33,
          34,
          35,
          36,
          37,
          38,
          39,
          40,
          41,
          42,
          43,
          44,
          45,
          46,
          47,
          48,
          49,
          50,
          51,
          52,
          53,
          54,
          55,
          56,
          57,
          58,
          59,
          60,
          61,
          62,
          63,
          64,
          65,
          66,
          67,
          68,
          69,
          70,
          71,
          72,
          73,
          74,
          75,
          76,
          77,
          78,
          79,
          80,
          81,
          82,
          83,
          84,
          85,
          86,
          87,
          88,
          89,
          90,
          91,
          92,
          93,
          94,
          95,
          96,
          97,
          98,
          99,
          100,
          101,
          102,
          103,
          104,
          105,
          106,
          107,
          108,
          109,
          110,
          111,
          112,
          113,
          114,
          115,
          116,
          117,
          118,
          119,
          120,
          121,
          122,
          123,
          124,
          125,
          126,
          127,
          128,
          129,
          130,
          131,
          132,
          133,
          134,
          135,
          136,
          137,
          138,
          139,
          140,
          141,
          142,
          143,
          144,
          145,
          146,
          147,
          148,
          149,
          150,
          151,
          152,
          153,
          154,
          155,
          156,
          157,
          158,
          159,
          160,
          161,
          162,
          163,
          164,
          165,
          166,
          167,
          168,
          169,
          170,
          171,
          172,
          173,
          174,
          175,
          176,
          177,
          178,
          179,
          180,
          181,
          182,
          183,
          184,
          185,
          186,
          187,
          188,
          189,
          190
         ],
         "xaxis": "x",
         "y": [
          0.541,
          0.56,
          0.553,
          0.5559999999999999,
          0.5509999999999999,
          0.5579999999999999,
          0.5509999999999999,
          0.564,
          0.573,
          0.579,
          0.565,
          0.572,
          0.572,
          0.58,
          0.59,
          0.593,
          0.607,
          0.608,
          0.6140000000000001,
          0.611,
          0.639,
          0.647,
          0.633,
          0.621,
          0.6060000000000001,
          0.604,
          0.578,
          0.575,
          0.563,
          0.5640000000000001,
          0.5549999999999999,
          0.554,
          0.563,
          0.567,
          0.572,
          0.556,
          0.5730000000000001,
          0.572,
          0.58,
          0.591,
          0.592,
          0.599,
          0.611,
          0.6130000000000001,
          0.609,
          0.608,
          0.604,
          0.604,
          0.5980000000000001,
          0.588,
          0.584,
          0.568,
          0.563,
          0.5529999999999999,
          0.549,
          0.5549999999999999,
          0.567,
          0.559,
          0.571,
          0.572,
          0.567,
          0.5810000000000001,
          0.5740000000000001,
          0.5820000000000001,
          0.601,
          0.603,
          0.583,
          0.583,
          0.58,
          0.571,
          0.5860000000000001,
          0.584,
          0.576,
          0.5640000000000001,
          0.556,
          0.5559999999999999,
          0.5740000000000001,
          0.588,
          0.588,
          0.5970000000000001,
          0.5820000000000001,
          0.584,
          0.599,
          0.604,
          0.601,
          0.5900000000000001,
          0.5780000000000001,
          0.576,
          0.569,
          0.573,
          0.577,
          0.5780000000000001,
          0.577,
          0.57,
          0.573,
          0.583,
          0.581,
          0.584,
          0.591,
          0.588,
          0.5860000000000001,
          0.586,
          0.585,
          0.5860000000000001,
          0.5810000000000001,
          0.584,
          0.583,
          0.581,
          0.584,
          0.576,
          0.584,
          0.5810000000000001,
          0.559,
          0.55,
          0.548,
          0.5469999999999999,
          0.556,
          0.553,
          0.5539999999999999,
          0.558,
          0.5609999999999999,
          0.5519999999999999,
          0.58,
          0.601,
          0.605,
          0.615,
          0.6130000000000001,
          0.616,
          0.6100000000000001,
          0.6050000000000001,
          0.5900000000000001,
          0.609,
          0.595,
          0.5740000000000001,
          0.57,
          0.558,
          0.5559999999999999,
          0.553,
          0.5469999999999999,
          0.5529999999999999,
          0.558,
          0.544,
          0.554,
          0.5730000000000001,
          0.581,
          0.589,
          0.5860000000000001,
          0.592,
          0.5970000000000001,
          0.5970000000000001,
          0.5980000000000001,
          0.598,
          0.592,
          0.586,
          0.572,
          0.561,
          0.568,
          0.5700000000000001,
          0.5589999999999999,
          0.5609999999999999,
          0.563,
          0.5780000000000001,
          0.582,
          0.5900000000000001,
          0.596,
          0.609,
          0.613,
          0.602,
          0.61,
          0.615,
          0.605,
          0.604,
          0.603,
          0.6119999999999999,
          0.62,
          0.611,
          0.599,
          0.611,
          0.606,
          0.589,
          0.597,
          0.571,
          0.5810000000000001,
          0.5640000000000001,
          0.561,
          0.558,
          0.5660000000000001,
          0.558,
          0.555,
          0.5720000000000001,
          0.5690000000000001
         ],
         "yaxis": "y"
        },
        {
         "hovertemplate": "variable=FSDS<br>batches=%{x}<br>accuracy=%{y}<extra></extra>",
         "legendgroup": "FSDS",
         "line": {
          "color": "green",
          "dash": "solid"
         },
         "mode": "lines",
         "name": "FSDS",
         "orientation": "v",
         "showlegend": true,
         "type": "scatter",
         "x": [
          0,
          1,
          2,
          3,
          4,
          5,
          6,
          7,
          8,
          9,
          10,
          11,
          12,
          13,
          14,
          15,
          16,
          17,
          18,
          19,
          20,
          21,
          22,
          23,
          24,
          25,
          26,
          27,
          28,
          29,
          30,
          31,
          32,
          33,
          34,
          35,
          36,
          37,
          38,
          39,
          40,
          41,
          42,
          43,
          44,
          45,
          46,
          47,
          48,
          49,
          50,
          51,
          52,
          53,
          54,
          55,
          56,
          57,
          58,
          59,
          60,
          61,
          62,
          63,
          64,
          65,
          66,
          67,
          68,
          69,
          70,
          71,
          72,
          73,
          74,
          75,
          76,
          77,
          78,
          79,
          80,
          81,
          82,
          83,
          84,
          85,
          86,
          87,
          88,
          89,
          90,
          91,
          92,
          93,
          94,
          95,
          96,
          97,
          98,
          99,
          100,
          101,
          102,
          103,
          104,
          105,
          106,
          107,
          108,
          109,
          110,
          111,
          112,
          113,
          114,
          115,
          116,
          117,
          118,
          119,
          120,
          121,
          122,
          123,
          124,
          125,
          126,
          127,
          128,
          129,
          130,
          131,
          132,
          133,
          134,
          135,
          136,
          137,
          138,
          139,
          140,
          141,
          142,
          143,
          144,
          145,
          146,
          147,
          148,
          149,
          150,
          151,
          152,
          153,
          154,
          155,
          156,
          157,
          158,
          159,
          160,
          161,
          162,
          163,
          164,
          165,
          166,
          167,
          168,
          169,
          170,
          171,
          172,
          173,
          174,
          175,
          176,
          177,
          178,
          179,
          180,
          181,
          182,
          183,
          184,
          185,
          186,
          187,
          188,
          189,
          190
         ],
         "xaxis": "x",
         "y": [
          0.359,
          0.394,
          0.388,
          0.38,
          0.382,
          0.388,
          0.41200000000000003,
          0.41600000000000004,
          0.41,
          0.417,
          0.4,
          0.377,
          0.35900000000000004,
          0.372,
          0.37299999999999994,
          0.368,
          0.362,
          0.376,
          0.368,
          0.369,
          0.382,
          0.39099999999999996,
          0.421,
          0.433,
          0.43999999999999995,
          0.457,
          0.458,
          0.47000000000000003,
          0.47800000000000004,
          0.48200000000000004,
          0.503,
          0.517,
          0.526,
          0.532,
          0.548,
          0.543,
          0.5349999999999999,
          0.533,
          0.5429999999999999,
          0.552,
          0.5389999999999999,
          0.548,
          0.558,
          0.558,
          0.548,
          0.537,
          0.5519999999999999,
          0.558,
          0.5599999999999999,
          0.5519999999999999,
          0.5549999999999999,
          0.531,
          0.525,
          0.51,
          0.505,
          0.5,
          0.492,
          0.475,
          0.4459999999999999,
          0.44000000000000006,
          0.45200000000000007,
          0.473,
          0.46699999999999997,
          0.45899999999999996,
          0.46099999999999997,
          0.48599999999999993,
          0.48699999999999993,
          0.48699999999999993,
          0.502,
          0.502,
          0.489,
          0.45099999999999996,
          0.446,
          0.44899999999999995,
          0.46399999999999997,
          0.433,
          0.437,
          0.45,
          0.4710000000000001,
          0.48,
          0.465,
          0.48500000000000004,
          0.48600000000000004,
          0.5010000000000001,
          0.496,
          0.52,
          0.49800000000000005,
          0.48500000000000004,
          0.446,
          0.45099999999999996,
          0.4590000000000001,
          0.462,
          0.47000000000000003,
          0.479,
          0.47700000000000004,
          0.47300000000000003,
          0.493,
          0.5,
          0.524,
          0.52,
          0.5369999999999999,
          0.546,
          0.5389999999999999,
          0.523,
          0.526,
          0.511,
          0.505,
          0.516,
          0.516,
          0.503,
          0.49499999999999994,
          0.49499999999999994,
          0.48,
          0.475,
          0.46799999999999997,
          0.497,
          0.479,
          0.46699999999999997,
          0.45699999999999996,
          0.453,
          0.45500000000000007,
          0.43199999999999994,
          0.45199999999999996,
          0.457,
          0.45,
          0.446,
          0.472,
          0.4640000000000001,
          0.479,
          0.49800000000000005,
          0.505,
          0.5359999999999999,
          0.54,
          0.5359999999999999,
          0.5509999999999999,
          0.521,
          0.512,
          0.5309999999999999,
          0.533,
          0.521,
          0.509,
          0.47599999999999987,
          0.47300000000000003,
          0.491,
          0.49000000000000005,
          0.512,
          0.51,
          0.5029999999999999,
          0.493,
          0.502,
          0.483,
          0.5090000000000001,
          0.48900000000000005,
          0.47700000000000004,
          0.475,
          0.47300000000000003,
          0.4680000000000001,
          0.46499999999999997,
          0.462,
          0.466,
          0.48100000000000004,
          0.476,
          0.48200000000000004,
          0.484,
          0.475,
          0.471,
          0.492,
          0.484,
          0.491,
          0.48200000000000004,
          0.492,
          0.488,
          0.5189999999999999,
          0.5369999999999999,
          0.5439999999999999,
          0.53,
          0.49899999999999994,
          0.508,
          0.499,
          0.5029999999999999,
          0.509,
          0.495,
          0.491,
          0.4830000000000001,
          0.49400000000000005,
          0.502,
          0.522,
          0.514,
          0.53,
          0.518,
          0.52
         ],
         "yaxis": "y"
        }
       ],
       "layout": {
        "legend": {
         "title": {
          "text": "variable"
         },
         "tracegroupgap": 0
        },
        "template": {
         "data": {
          "bar": [
           {
            "error_x": {
             "color": "#2a3f5f"
            },
            "error_y": {
             "color": "#2a3f5f"
            },
            "marker": {
             "line": {
              "color": "#E5ECF6",
              "width": 0.5
             }
            },
            "type": "bar"
           }
          ],
          "barpolar": [
           {
            "marker": {
             "line": {
              "color": "#E5ECF6",
              "width": 0.5
             }
            },
            "type": "barpolar"
           }
          ],
          "carpet": [
           {
            "aaxis": {
             "endlinecolor": "#2a3f5f",
             "gridcolor": "white",
             "linecolor": "white",
             "minorgridcolor": "white",
             "startlinecolor": "#2a3f5f"
            },
            "baxis": {
             "endlinecolor": "#2a3f5f",
             "gridcolor": "white",
             "linecolor": "white",
             "minorgridcolor": "white",
             "startlinecolor": "#2a3f5f"
            },
            "type": "carpet"
           }
          ],
          "choropleth": [
           {
            "colorbar": {
             "outlinewidth": 0,
             "ticks": ""
            },
            "type": "choropleth"
           }
          ],
          "contour": [
           {
            "colorbar": {
             "outlinewidth": 0,
             "ticks": ""
            },
            "colorscale": [
             [
              0,
              "#0d0887"
             ],
             [
              0.1111111111111111,
              "#46039f"
             ],
             [
              0.2222222222222222,
              "#7201a8"
             ],
             [
              0.3333333333333333,
              "#9c179e"
             ],
             [
              0.4444444444444444,
              "#bd3786"
             ],
             [
              0.5555555555555556,
              "#d8576b"
             ],
             [
              0.6666666666666666,
              "#ed7953"
             ],
             [
              0.7777777777777778,
              "#fb9f3a"
             ],
             [
              0.8888888888888888,
              "#fdca26"
             ],
             [
              1,
              "#f0f921"
             ]
            ],
            "type": "contour"
           }
          ],
          "contourcarpet": [
           {
            "colorbar": {
             "outlinewidth": 0,
             "ticks": ""
            },
            "type": "contourcarpet"
           }
          ],
          "heatmap": [
           {
            "colorbar": {
             "outlinewidth": 0,
             "ticks": ""
            },
            "colorscale": [
             [
              0,
              "#0d0887"
             ],
             [
              0.1111111111111111,
              "#46039f"
             ],
             [
              0.2222222222222222,
              "#7201a8"
             ],
             [
              0.3333333333333333,
              "#9c179e"
             ],
             [
              0.4444444444444444,
              "#bd3786"
             ],
             [
              0.5555555555555556,
              "#d8576b"
             ],
             [
              0.6666666666666666,
              "#ed7953"
             ],
             [
              0.7777777777777778,
              "#fb9f3a"
             ],
             [
              0.8888888888888888,
              "#fdca26"
             ],
             [
              1,
              "#f0f921"
             ]
            ],
            "type": "heatmap"
           }
          ],
          "heatmapgl": [
           {
            "colorbar": {
             "outlinewidth": 0,
             "ticks": ""
            },
            "colorscale": [
             [
              0,
              "#0d0887"
             ],
             [
              0.1111111111111111,
              "#46039f"
             ],
             [
              0.2222222222222222,
              "#7201a8"
             ],
             [
              0.3333333333333333,
              "#9c179e"
             ],
             [
              0.4444444444444444,
              "#bd3786"
             ],
             [
              0.5555555555555556,
              "#d8576b"
             ],
             [
              0.6666666666666666,
              "#ed7953"
             ],
             [
              0.7777777777777778,
              "#fb9f3a"
             ],
             [
              0.8888888888888888,
              "#fdca26"
             ],
             [
              1,
              "#f0f921"
             ]
            ],
            "type": "heatmapgl"
           }
          ],
          "histogram": [
           {
            "marker": {
             "colorbar": {
              "outlinewidth": 0,
              "ticks": ""
             }
            },
            "type": "histogram"
           }
          ],
          "histogram2d": [
           {
            "colorbar": {
             "outlinewidth": 0,
             "ticks": ""
            },
            "colorscale": [
             [
              0,
              "#0d0887"
             ],
             [
              0.1111111111111111,
              "#46039f"
             ],
             [
              0.2222222222222222,
              "#7201a8"
             ],
             [
              0.3333333333333333,
              "#9c179e"
             ],
             [
              0.4444444444444444,
              "#bd3786"
             ],
             [
              0.5555555555555556,
              "#d8576b"
             ],
             [
              0.6666666666666666,
              "#ed7953"
             ],
             [
              0.7777777777777778,
              "#fb9f3a"
             ],
             [
              0.8888888888888888,
              "#fdca26"
             ],
             [
              1,
              "#f0f921"
             ]
            ],
            "type": "histogram2d"
           }
          ],
          "histogram2dcontour": [
           {
            "colorbar": {
             "outlinewidth": 0,
             "ticks": ""
            },
            "colorscale": [
             [
              0,
              "#0d0887"
             ],
             [
              0.1111111111111111,
              "#46039f"
             ],
             [
              0.2222222222222222,
              "#7201a8"
             ],
             [
              0.3333333333333333,
              "#9c179e"
             ],
             [
              0.4444444444444444,
              "#bd3786"
             ],
             [
              0.5555555555555556,
              "#d8576b"
             ],
             [
              0.6666666666666666,
              "#ed7953"
             ],
             [
              0.7777777777777778,
              "#fb9f3a"
             ],
             [
              0.8888888888888888,
              "#fdca26"
             ],
             [
              1,
              "#f0f921"
             ]
            ],
            "type": "histogram2dcontour"
           }
          ],
          "mesh3d": [
           {
            "colorbar": {
             "outlinewidth": 0,
             "ticks": ""
            },
            "type": "mesh3d"
           }
          ],
          "parcoords": [
           {
            "line": {
             "colorbar": {
              "outlinewidth": 0,
              "ticks": ""
             }
            },
            "type": "parcoords"
           }
          ],
          "pie": [
           {
            "automargin": true,
            "type": "pie"
           }
          ],
          "scatter": [
           {
            "marker": {
             "colorbar": {
              "outlinewidth": 0,
              "ticks": ""
             }
            },
            "type": "scatter"
           }
          ],
          "scatter3d": [
           {
            "line": {
             "colorbar": {
              "outlinewidth": 0,
              "ticks": ""
             }
            },
            "marker": {
             "colorbar": {
              "outlinewidth": 0,
              "ticks": ""
             }
            },
            "type": "scatter3d"
           }
          ],
          "scattercarpet": [
           {
            "marker": {
             "colorbar": {
              "outlinewidth": 0,
              "ticks": ""
             }
            },
            "type": "scattercarpet"
           }
          ],
          "scattergeo": [
           {
            "marker": {
             "colorbar": {
              "outlinewidth": 0,
              "ticks": ""
             }
            },
            "type": "scattergeo"
           }
          ],
          "scattergl": [
           {
            "marker": {
             "colorbar": {
              "outlinewidth": 0,
              "ticks": ""
             }
            },
            "type": "scattergl"
           }
          ],
          "scattermapbox": [
           {
            "marker": {
             "colorbar": {
              "outlinewidth": 0,
              "ticks": ""
             }
            },
            "type": "scattermapbox"
           }
          ],
          "scatterpolar": [
           {
            "marker": {
             "colorbar": {
              "outlinewidth": 0,
              "ticks": ""
             }
            },
            "type": "scatterpolar"
           }
          ],
          "scatterpolargl": [
           {
            "marker": {
             "colorbar": {
              "outlinewidth": 0,
              "ticks": ""
             }
            },
            "type": "scatterpolargl"
           }
          ],
          "scatterternary": [
           {
            "marker": {
             "colorbar": {
              "outlinewidth": 0,
              "ticks": ""
             }
            },
            "type": "scatterternary"
           }
          ],
          "surface": [
           {
            "colorbar": {
             "outlinewidth": 0,
             "ticks": ""
            },
            "colorscale": [
             [
              0,
              "#0d0887"
             ],
             [
              0.1111111111111111,
              "#46039f"
             ],
             [
              0.2222222222222222,
              "#7201a8"
             ],
             [
              0.3333333333333333,
              "#9c179e"
             ],
             [
              0.4444444444444444,
              "#bd3786"
             ],
             [
              0.5555555555555556,
              "#d8576b"
             ],
             [
              0.6666666666666666,
              "#ed7953"
             ],
             [
              0.7777777777777778,
              "#fb9f3a"
             ],
             [
              0.8888888888888888,
              "#fdca26"
             ],
             [
              1,
              "#f0f921"
             ]
            ],
            "type": "surface"
           }
          ],
          "table": [
           {
            "cells": {
             "fill": {
              "color": "#EBF0F8"
             },
             "line": {
              "color": "white"
             }
            },
            "header": {
             "fill": {
              "color": "#C8D4E3"
             },
             "line": {
              "color": "white"
             }
            },
            "type": "table"
           }
          ]
         },
         "layout": {
          "annotationdefaults": {
           "arrowcolor": "#2a3f5f",
           "arrowhead": 0,
           "arrowwidth": 1
          },
          "autotypenumbers": "strict",
          "coloraxis": {
           "colorbar": {
            "outlinewidth": 0,
            "ticks": ""
           }
          },
          "colorscale": {
           "diverging": [
            [
             0,
             "#8e0152"
            ],
            [
             0.1,
             "#c51b7d"
            ],
            [
             0.2,
             "#de77ae"
            ],
            [
             0.3,
             "#f1b6da"
            ],
            [
             0.4,
             "#fde0ef"
            ],
            [
             0.5,
             "#f7f7f7"
            ],
            [
             0.6,
             "#e6f5d0"
            ],
            [
             0.7,
             "#b8e186"
            ],
            [
             0.8,
             "#7fbc41"
            ],
            [
             0.9,
             "#4d9221"
            ],
            [
             1,
             "#276419"
            ]
           ],
           "sequential": [
            [
             0,
             "#0d0887"
            ],
            [
             0.1111111111111111,
             "#46039f"
            ],
            [
             0.2222222222222222,
             "#7201a8"
            ],
            [
             0.3333333333333333,
             "#9c179e"
            ],
            [
             0.4444444444444444,
             "#bd3786"
            ],
            [
             0.5555555555555556,
             "#d8576b"
            ],
            [
             0.6666666666666666,
             "#ed7953"
            ],
            [
             0.7777777777777778,
             "#fb9f3a"
            ],
            [
             0.8888888888888888,
             "#fdca26"
            ],
            [
             1,
             "#f0f921"
            ]
           ],
           "sequentialminus": [
            [
             0,
             "#0d0887"
            ],
            [
             0.1111111111111111,
             "#46039f"
            ],
            [
             0.2222222222222222,
             "#7201a8"
            ],
            [
             0.3333333333333333,
             "#9c179e"
            ],
            [
             0.4444444444444444,
             "#bd3786"
            ],
            [
             0.5555555555555556,
             "#d8576b"
            ],
            [
             0.6666666666666666,
             "#ed7953"
            ],
            [
             0.7777777777777778,
             "#fb9f3a"
            ],
            [
             0.8888888888888888,
             "#fdca26"
            ],
            [
             1,
             "#f0f921"
            ]
           ]
          },
          "colorway": [
           "#636efa",
           "#EF553B",
           "#00cc96",
           "#ab63fa",
           "#FFA15A",
           "#19d3f3",
           "#FF6692",
           "#B6E880",
           "#FF97FF",
           "#FECB52"
          ],
          "font": {
           "color": "#2a3f5f"
          },
          "geo": {
           "bgcolor": "white",
           "lakecolor": "white",
           "landcolor": "#E5ECF6",
           "showlakes": true,
           "showland": true,
           "subunitcolor": "white"
          },
          "hoverlabel": {
           "align": "left"
          },
          "hovermode": "closest",
          "mapbox": {
           "style": "light"
          },
          "paper_bgcolor": "white",
          "plot_bgcolor": "#E5ECF6",
          "polar": {
           "angularaxis": {
            "gridcolor": "white",
            "linecolor": "white",
            "ticks": ""
           },
           "bgcolor": "#E5ECF6",
           "radialaxis": {
            "gridcolor": "white",
            "linecolor": "white",
            "ticks": ""
           }
          },
          "scene": {
           "xaxis": {
            "backgroundcolor": "#E5ECF6",
            "gridcolor": "white",
            "gridwidth": 2,
            "linecolor": "white",
            "showbackground": true,
            "ticks": "",
            "zerolinecolor": "white"
           },
           "yaxis": {
            "backgroundcolor": "#E5ECF6",
            "gridcolor": "white",
            "gridwidth": 2,
            "linecolor": "white",
            "showbackground": true,
            "ticks": "",
            "zerolinecolor": "white"
           },
           "zaxis": {
            "backgroundcolor": "#E5ECF6",
            "gridcolor": "white",
            "gridwidth": 2,
            "linecolor": "white",
            "showbackground": true,
            "ticks": "",
            "zerolinecolor": "white"
           }
          },
          "shapedefaults": {
           "line": {
            "color": "#2a3f5f"
           }
          },
          "ternary": {
           "aaxis": {
            "gridcolor": "white",
            "linecolor": "white",
            "ticks": ""
           },
           "baxis": {
            "gridcolor": "white",
            "linecolor": "white",
            "ticks": ""
           },
           "bgcolor": "#E5ECF6",
           "caxis": {
            "gridcolor": "white",
            "linecolor": "white",
            "ticks": ""
           }
          },
          "title": {
           "x": 0.05
          },
          "xaxis": {
           "automargin": true,
           "gridcolor": "white",
           "linecolor": "white",
           "ticks": "",
           "title": {
            "standoff": 15
           },
           "zerolinecolor": "white",
           "zerolinewidth": 2
          },
          "yaxis": {
           "automargin": true,
           "gridcolor": "white",
           "linecolor": "white",
           "ticks": "",
           "title": {
            "standoff": 15
           },
           "zerolinecolor": "white",
           "zerolinewidth": 2
          }
         }
        },
        "title": {
         "text": "Moving averages over accuracy while learning with window 10"
        },
        "xaxis": {
         "anchor": "y",
         "domain": [
          0,
          1
         ],
         "title": {
          "text": "batches"
         }
        },
        "yaxis": {
         "anchor": "x",
         "domain": [
          0,
          1
         ],
         "title": {
          "text": "accuracy"
         }
        }
       }
      }
     },
     "metadata": {}
    }
   ],
   "source": [
    "#moving averages\n",
    "title = \"Moving averages over accuracy while learning with window {}\".format(n_window)\n",
    "col_names = [\"FIRES\", \"OFS\", \"OFSSGD\", \"FSDS\"]\n",
    "d = {\"FIRES\":fires_moving_average, \"OFS\":ofs_moving_average, \n",
    "\"OFSSGD\":ofssgd_moving_average, \"FSDS\":fsds_moving_average}\n",
    "df = pd.DataFrame(d, columns=col_names)\n",
    "fig = px.line(df, y=col_names, title=title, labels={\"index\":\"batches\", \"value\":\"accuracy\"}, color_discrete_map={'FIRES': 'red', \n",
    "                                                   'FSDS': 'green', 'OFS': 'purple', \"OFSSGD\":\"yellow\"})\n",
    "fig.show()\n"
   ]
  },
  {
   "cell_type": "code",
   "execution_count": 42,
   "metadata": {},
   "outputs": [
    {
     "output_type": "display_data",
     "data": {
      "application/vnd.plotly.v1+json": {
       "config": {
        "plotlyServerURL": "https://plot.ly"
       },
       "data": [
        {
         "hovertemplate": "variable=FIRES<br>batches=%{x}<br>accuracy=%{y}<extra></extra>",
         "legendgroup": "FIRES",
         "line": {
          "color": "red",
          "dash": "solid"
         },
         "mode": "lines",
         "name": "FIRES",
         "orientation": "v",
         "showlegend": true,
         "type": "scatter",
         "x": [
          0,
          1,
          2,
          3,
          4,
          5,
          6,
          7,
          8,
          9,
          10,
          11,
          12,
          13,
          14,
          15,
          16,
          17,
          18,
          19,
          20,
          21,
          22,
          23,
          24,
          25,
          26,
          27,
          28,
          29,
          30,
          31,
          32,
          33,
          34,
          35,
          36,
          37,
          38,
          39,
          40,
          41,
          42,
          43,
          44,
          45,
          46,
          47,
          48,
          49,
          50,
          51,
          52,
          53,
          54,
          55,
          56,
          57,
          58,
          59,
          60,
          61,
          62,
          63,
          64,
          65,
          66,
          67,
          68,
          69,
          70,
          71,
          72,
          73,
          74,
          75,
          76,
          77,
          78,
          79,
          80,
          81,
          82,
          83,
          84,
          85,
          86,
          87,
          88,
          89,
          90,
          91,
          92,
          93,
          94,
          95,
          96,
          97,
          98,
          99,
          100,
          101,
          102,
          103,
          104,
          105,
          106,
          107,
          108,
          109,
          110,
          111,
          112,
          113,
          114,
          115,
          116,
          117,
          118,
          119,
          120,
          121,
          122,
          123,
          124,
          125,
          126,
          127,
          128,
          129,
          130,
          131,
          132,
          133,
          134,
          135,
          136,
          137,
          138,
          139,
          140,
          141,
          142,
          143,
          144,
          145,
          146,
          147,
          148,
          149,
          150,
          151,
          152,
          153,
          154,
          155,
          156,
          157,
          158,
          159,
          160,
          161,
          162,
          163,
          164,
          165,
          166,
          167,
          168,
          169,
          170,
          171,
          172,
          173,
          174,
          175,
          176,
          177,
          178,
          179,
          180,
          181,
          182,
          183,
          184,
          185,
          186,
          187,
          188,
          189,
          190
         ],
         "xaxis": "x",
         "y": [
          0.3862084553952772,
          0.4226451305446419,
          0.42654164079438406,
          0.42896203273462774,
          0.4430604085523349,
          0.448451313501175,
          0.4279327495253207,
          0.42112433201690314,
          0.4359626092094479,
          0.44659091703458154,
          0.43262075397815664,
          0.41846268021360444,
          0.4101822542402159,
          0.43270835636685456,
          0.4451661890391191,
          0.4498501791869023,
          0.4700839634381671,
          0.4885541811086943,
          0.4780356068451116,
          0.49298074675039044,
          0.4842914321461877,
          0.4873827785988348,
          0.5190601115495695,
          0.5003844884407943,
          0.4962586569091797,
          0.49422540775838264,
          0.5112205050486928,
          0.5197320809045816,
          0.5061213734719174,
          0.5030751243597535,
          0.5248092206274804,
          0.533941552347857,
          0.5263075114564388,
          0.5148145380902822,
          0.5263926898438545,
          0.5196471517086162,
          0.4975127145251772,
          0.5004808718530599,
          0.5034418934240815,
          0.5037746229550869,
          0.4782937392666077,
          0.49092170072379515,
          0.5046068229398875,
          0.5081455936580764,
          0.49668675980025034,
          0.5027599387905685,
          0.5129045986460723,
          0.5160774005074675,
          0.5440167189795446,
          0.540525187611184,
          0.5583113546949193,
          0.5416803496499712,
          0.5287281256667884,
          0.5454490146230049,
          0.544596229908965,
          0.5351099828227179,
          0.5400690134776609,
          0.5352220213074644,
          0.5387963405055419,
          0.552200990237021,
          0.5437642810794214,
          0.5418464709631445,
          0.5136538487196212,
          0.5100884500885543,
          0.5029480362956102,
          0.5187781621259482,
          0.5080772794467248,
          0.49476358760152683,
          0.48539621025772084,
          0.4731711537855506,
          0.48146131514745705,
          0.48311166791835924,
          0.5158572732716254,
          0.5115914593101283,
          0.49355245709566864,
          0.4803658935853636,
          0.4778740372055948,
          0.45912873406307747,
          0.46180972914209706,
          0.46160772008720186,
          0.449702041521458,
          0.45888216016402533,
          0.44441496604388747,
          0.44290810224179805,
          0.4858577570405308,
          0.4979191504031132,
          0.49357841552225007,
          0.49302823740752577,
          0.48672322829158654,
          0.49165207577260794,
          0.5044561678501664,
          0.5055346561317506,
          0.49165533236339326,
          0.4685780033027965,
          0.42587425822440955,
          0.4171965387780438,
          0.4219371307533093,
          0.4404933171519193,
          0.4483370664748275,
          0.4738568162374729,
          0.47122685249679896,
          0.4675975992938616,
          0.49413377264121144,
          0.5155786567735245,
          0.5438673381769077,
          0.5454240296795858,
          0.5183762227107814,
          0.5353269457426101,
          0.5483872534565764,
          0.5241300997287434,
          0.5326370796762565,
          0.5301448174093185,
          0.5165197429179461,
          0.5216841533955571,
          0.5191795107617767,
          0.5320407204834277,
          0.5603823207225573,
          0.5526500777303602,
          0.5341348211029298,
          0.5370072451387403,
          0.5337102140825616,
          0.5268944077195431,
          0.5371367822082155,
          0.5457234057844482,
          0.5533601712991446,
          0.5487558261298603,
          0.5508380557453372,
          0.5302283106539333,
          0.5347799734757446,
          0.5346730064463728,
          0.518269241288449,
          0.530828719822272,
          0.5235578489514011,
          0.5203383122966323,
          0.5200054136199201,
          0.5168598869948594,
          0.5096257242227655,
          0.5360647275299749,
          0.5365421532553085,
          0.5325437592265423,
          0.5430914711864401,
          0.5066593846115743,
          0.5190164437153163,
          0.5118278495966986,
          0.5075599873906371,
          0.5104215748780113,
          0.5192393240845083,
          0.5130792951296702,
          0.5222924224825675,
          0.5187220749614305,
          0.5059562327419455,
          0.5246726917204538,
          0.5124019400780193,
          0.5082119508129599,
          0.5062532547665523,
          0.5078160076825506,
          0.5069438783218922,
          0.49858945285275585,
          0.47355981599960845,
          0.47108235538037624,
          0.48132971640563904,
          0.49051476305401354,
          0.4911552443961066,
          0.482276981237136,
          0.4939337362349699,
          0.48202394170458707,
          0.49252056445238274,
          0.5013451441824699,
          0.5243678788531774,
          0.5265711871283324,
          0.5421814033581231,
          0.5384505612654712,
          0.5552221623762501,
          0.5852739694831038,
          0.5648826755813615,
          0.5553990262576692,
          0.5262501964491315,
          0.5193946217709762,
          0.5189119942585965,
          0.5158860405672063,
          0.5164124614167349,
          0.5054432148154201,
          0.5070477009523926,
          0.5041451063976925,
          0.5224133930965538,
          0.5284229500638007,
          0.5426296593788265,
          0.561843034113803,
          0.5588890184333266,
          0.5588220044574634,
          0.5568392509735632
         ],
         "yaxis": "y"
        },
        {
         "hovertemplate": "variable=OFS<br>batches=%{x}<br>accuracy=%{y}<extra></extra>",
         "legendgroup": "OFS",
         "line": {
          "color": "purple",
          "dash": "solid"
         },
         "mode": "lines",
         "name": "OFS",
         "orientation": "v",
         "showlegend": true,
         "type": "scatter",
         "x": [
          0,
          1,
          2,
          3,
          4,
          5,
          6,
          7,
          8,
          9,
          10,
          11,
          12,
          13,
          14,
          15,
          16,
          17,
          18,
          19,
          20,
          21,
          22,
          23,
          24,
          25,
          26,
          27,
          28,
          29,
          30,
          31,
          32,
          33,
          34,
          35,
          36,
          37,
          38,
          39,
          40,
          41,
          42,
          43,
          44,
          45,
          46,
          47,
          48,
          49,
          50,
          51,
          52,
          53,
          54,
          55,
          56,
          57,
          58,
          59,
          60,
          61,
          62,
          63,
          64,
          65,
          66,
          67,
          68,
          69,
          70,
          71,
          72,
          73,
          74,
          75,
          76,
          77,
          78,
          79,
          80,
          81,
          82,
          83,
          84,
          85,
          86,
          87,
          88,
          89,
          90,
          91,
          92,
          93,
          94,
          95,
          96,
          97,
          98,
          99,
          100,
          101,
          102,
          103,
          104,
          105,
          106,
          107,
          108,
          109,
          110,
          111,
          112,
          113,
          114,
          115,
          116,
          117,
          118,
          119,
          120,
          121,
          122,
          123,
          124,
          125,
          126,
          127,
          128,
          129,
          130,
          131,
          132,
          133,
          134,
          135,
          136,
          137,
          138,
          139,
          140,
          141,
          142,
          143,
          144,
          145,
          146,
          147,
          148,
          149,
          150,
          151,
          152,
          153,
          154,
          155,
          156,
          157,
          158,
          159,
          160,
          161,
          162,
          163,
          164,
          165,
          166,
          167,
          168,
          169,
          170,
          171,
          172,
          173,
          174,
          175,
          176,
          177,
          178,
          179,
          180,
          181,
          182,
          183,
          184,
          185,
          186,
          187,
          188,
          189,
          190
         ],
         "xaxis": "x",
         "y": [
          0.42733360551204563,
          0.4737295767183617,
          0.5230056506173684,
          0.5371318156187042,
          0.5391262332040766,
          0.5368268965136276,
          0.526392561990449,
          0.5433372951657703,
          0.5230284159291234,
          0.5281825040924221,
          0.5089061085088159,
          0.4829850131748062,
          0.48159571162715736,
          0.452265199576291,
          0.451266144935467,
          0.45663774918445654,
          0.4729371151522055,
          0.46378824925630235,
          0.47914042504885523,
          0.47986608352081805,
          0.507260839210636,
          0.5295374641061645,
          0.5099267572562368,
          0.53169715281633,
          0.5476833213573593,
          0.5347907988486991,
          0.5329155159654247,
          0.5295905081098071,
          0.5080826951295827,
          0.5016640809240578,
          0.4856773563102232,
          0.4975011620490076,
          0.5114859414498014,
          0.5043579308466335,
          0.4863086826277464,
          0.48643931458340484,
          0.47273303451470133,
          0.48749412581991025,
          0.5004708832366196,
          0.5060344647076749,
          0.4887001230151758,
          0.5019167218794165,
          0.48612624804166,
          0.4960476005371405,
          0.49488993618937605,
          0.49912921181054204,
          0.5124722349611789,
          0.5029715006593609,
          0.5033419875084679,
          0.4937428375174505,
          0.48366180837053596,
          0.44928076672088474,
          0.46592905782909017,
          0.4722696491320903,
          0.4725498885005651,
          0.4675810851030683,
          0.45999195850490293,
          0.46141336637157604,
          0.44616369232413977,
          0.47745417888160746,
          0.4927415459969816,
          0.5028386840441197,
          0.4865919891212685,
          0.4844229431351531,
          0.49772125055863975,
          0.5039934644245274,
          0.49911436303123463,
          0.4822941945168845,
          0.5046177465509774,
          0.4719720482262214,
          0.47015080272862386,
          0.46949714603142345,
          0.47854121216006684,
          0.47782116288382204,
          0.48208834363758807,
          0.43831278356195735,
          0.41304936560736294,
          0.4404609400280147,
          0.433975703258639,
          0.45787604694714623,
          0.45416616183380965,
          0.46910657460647587,
          0.44541338935576735,
          0.44581562207716363,
          0.42916699713643347,
          0.48130486908614517,
          0.5042477702919534,
          0.4754745431670767,
          0.4677700907289409,
          0.4585996782391712,
          0.46839956015739614,
          0.4779429038034094,
          0.5145673762387344,
          0.5178407650813157,
          0.5247743964383731,
          0.5196021202294757,
          0.5251216140575206,
          0.5513289214378261,
          0.5569774854186482,
          0.5637548021599207,
          0.5744203100379863,
          0.5602064782821002,
          0.5194373751728257,
          0.5104697760671266,
          0.5173726944176715,
          0.5323126450767686,
          0.5200822042231888,
          0.532745434779523,
          0.554169029196804,
          0.5488558094702011,
          0.5431519432311817,
          0.5286663517319795,
          0.5505368834330067,
          0.5519871883078821,
          0.5307580782423748,
          0.5167072666593711,
          0.5418399455878571,
          0.5273654588598552,
          0.5136642294431649,
          0.5216966978054278,
          0.5300926581922276,
          0.5334513431396168,
          0.505758670537077,
          0.5181155461774991,
          0.5461684333557997,
          0.5511506963062304,
          0.5094333173159014,
          0.49753728594719915,
          0.47861410469144117,
          0.45730085151550987,
          0.4410071474623475,
          0.45070660643024496,
          0.46870181906407743,
          0.46646597346778007,
          0.45213128459956115,
          0.4406774666520589,
          0.44214186081844964,
          0.4666528585298787,
          0.4965491863523316,
          0.5101440732679132,
          0.50438973130154,
          0.49372600249495396,
          0.5310381301489172,
          0.5149333286474918,
          0.5026843193236236,
          0.5085292840372725,
          0.5375317551794861,
          0.5050324769376457,
          0.4798225202943627,
          0.4807855784636774,
          0.478684903473622,
          0.46641248096435756,
          0.4468052511478661,
          0.4430529388963212,
          0.46429919434987516,
          0.44424672606873983,
          0.45651245404214585,
          0.4767442421427613,
          0.48652325263621526,
          0.4790956653242763,
          0.5005915615315768,
          0.5339023676128937,
          0.5374183686528622,
          0.549601715882501,
          0.547724572591234,
          0.5486576527069285,
          0.5246451333548927,
          0.5331260585816884,
          0.5294875036845091,
          0.5416004183190669,
          0.5381328326061732,
          0.5175202326101507,
          0.5213780771371257,
          0.540717481437948,
          0.5342282702288822,
          0.5438819741476388,
          0.5460746780984378,
          0.547919321136346,
          0.5396426410626848,
          0.5299475007370902,
          0.5437327503868004,
          0.5544293496016519,
          0.5740931689895186,
          0.5542346821300551,
          0.5735823790238046,
          0.586208436720568,
          0.5712236835641124,
          0.569029620335105,
          0.5923126311154766,
          0.5680109688508086,
          0.5514574716806786
         ],
         "yaxis": "y"
        },
        {
         "hovertemplate": "variable=OFSSGD<br>batches=%{x}<br>accuracy=%{y}<extra></extra>",
         "legendgroup": "OFSSGD",
         "line": {
          "color": "yellow",
          "dash": "solid"
         },
         "mode": "lines",
         "name": "OFSSGD",
         "orientation": "v",
         "showlegend": true,
         "type": "scatter",
         "x": [
          0,
          1,
          2,
          3,
          4,
          5,
          6,
          7,
          8,
          9,
          10,
          11,
          12,
          13,
          14,
          15,
          16,
          17,
          18,
          19,
          20,
          21,
          22,
          23,
          24,
          25,
          26,
          27,
          28,
          29,
          30,
          31,
          32,
          33,
          34,
          35,
          36,
          37,
          38,
          39,
          40,
          41,
          42,
          43,
          44,
          45,
          46,
          47,
          48,
          49,
          50,
          51,
          52,
          53,
          54,
          55,
          56,
          57,
          58,
          59,
          60,
          61,
          62,
          63,
          64,
          65,
          66,
          67,
          68,
          69,
          70,
          71,
          72,
          73,
          74,
          75,
          76,
          77,
          78,
          79,
          80,
          81,
          82,
          83,
          84,
          85,
          86,
          87,
          88,
          89,
          90,
          91,
          92,
          93,
          94,
          95,
          96,
          97,
          98,
          99,
          100,
          101,
          102,
          103,
          104,
          105,
          106,
          107,
          108,
          109,
          110,
          111,
          112,
          113,
          114,
          115,
          116,
          117,
          118,
          119,
          120,
          121,
          122,
          123,
          124,
          125,
          126,
          127,
          128,
          129,
          130,
          131,
          132,
          133,
          134,
          135,
          136,
          137,
          138,
          139,
          140,
          141,
          142,
          143,
          144,
          145,
          146,
          147,
          148,
          149,
          150,
          151,
          152,
          153,
          154,
          155,
          156,
          157,
          158,
          159,
          160,
          161,
          162,
          163,
          164,
          165,
          166,
          167,
          168,
          169,
          170,
          171,
          172,
          173,
          174,
          175,
          176,
          177,
          178,
          179,
          180,
          181,
          182,
          183,
          184,
          185,
          186,
          187,
          188,
          189,
          190
         ],
         "xaxis": "x",
         "y": [
          0.5302422447894374,
          0.5477001315495744,
          0.5400937217373211,
          0.5382332408348519,
          0.5347561578823541,
          0.5419591237395921,
          0.5330022812859319,
          0.5500368360546043,
          0.5539521976291352,
          0.5592892176105272,
          0.545886285063117,
          0.5622030856888465,
          0.5605887055867613,
          0.5770441613095129,
          0.581325015039827,
          0.5865732531137929,
          0.6033738881950832,
          0.6046449796749643,
          0.6103701216030064,
          0.6099067053778267,
          0.6378882477669225,
          0.6426900158239721,
          0.6284144562307656,
          0.6155304997356783,
          0.605830930210803,
          0.5979445071924518,
          0.5746283437270161,
          0.5741670006867698,
          0.5611658804179956,
          0.5605947741642808,
          0.5537008802315065,
          0.552383422597824,
          0.5616249416982179,
          0.5688244779347402,
          0.5751440190288548,
          0.5611564326777,
          0.5734558648458635,
          0.5665742899993412,
          0.5777669040880681,
          0.590058851030015,
          0.5897220969517255,
          0.602138353250511,
          0.616302197641704,
          0.616334683373027,
          0.60928534881351,
          0.6112676571914066,
          0.6083462447159687,
          0.6105936173642847,
          0.6058488365040559,
          0.6014604717362737,
          0.5959596148671673,
          0.5741955269544321,
          0.5711830968266172,
          0.5603389604043951,
          0.5600386498741763,
          0.5635480565876814,
          0.5783190416483724,
          0.5671214494801919,
          0.5753017474939908,
          0.5755672407924165,
          0.5728407459034301,
          0.5873041949962927,
          0.5791121196571274,
          0.5868045820025919,
          0.6025468704495704,
          0.6047272318626755,
          0.5814240776725245,
          0.582666863714931,
          0.5794309669319754,
          0.5706694287149624,
          0.5847813413037846,
          0.5839927953185129,
          0.5726800174160719,
          0.5587451591362971,
          0.5543684274214419,
          0.5557403689079011,
          0.5738993505752419,
          0.5876006931178155,
          0.591010615874797,
          0.5943292726402521,
          0.5788644137047101,
          0.5785459986842261,
          0.5982475446666461,
          0.6019260324675635,
          0.5970842774703344,
          0.5809566964098718,
          0.5699459199355394,
          0.570497735453035,
          0.5587269676388177,
          0.5613505244961168,
          0.567457738423691,
          0.5687067207480816,
          0.5638198947111388,
          0.5527095909836717,
          0.5536192717841772,
          0.573847544447376,
          0.5741681610754553,
          0.5782079043792555,
          0.5852037454684603,
          0.5861449054280372,
          0.5837461661195852,
          0.5903525766166806,
          0.5913816711415001,
          0.5883381757127384,
          0.582999470694085,
          0.5848974267826667,
          0.5767374867804246,
          0.572123190939813,
          0.5769776802075459,
          0.5679505185914508,
          0.5745428307306824,
          0.5630170079761531,
          0.5382810988951923,
          0.5360279624445299,
          0.5352360772518218,
          0.5301129228392013,
          0.5462316296528005,
          0.5370965144114562,
          0.5392999731110593,
          0.5402251646408552,
          0.5410256278001057,
          0.5399585264599673,
          0.5713165488982603,
          0.5954488249077956,
          0.6005802100878623,
          0.6121993891836732,
          0.6089498568958895,
          0.6183518774822542,
          0.6115875632681964,
          0.6117966188864142,
          0.5979599394288423,
          0.6140485842926664,
          0.5985299939507753,
          0.5751833451111997,
          0.5707601790880337,
          0.5618389482685398,
          0.5632665113408455,
          0.557438818294248,
          0.5548394918879063,
          0.5589402515549955,
          0.5640870302130949,
          0.5535338513367624,
          0.5650019826683158,
          0.593656786646658,
          0.60200135186811,
          0.6096754910223067,
          0.602380641595434,
          0.608502156762081,
          0.6095188642625607,
          0.6114376791577312,
          0.6082364105451418,
          0.6017123159596747,
          0.5964004189533549,
          0.5836177412617829,
          0.563417974313493,
          0.5504249463452111,
          0.5584843623988176,
          0.565101090229823,
          0.5552090859172207,
          0.5544997028756744,
          0.5622574720822102,
          0.5765874783554168,
          0.5797117116912629,
          0.5874580686466344,
          0.5977255565901702,
          0.6074401952434795,
          0.6094433064973283,
          0.5994237113264349,
          0.603893241488868,
          0.6085292989221085,
          0.5934252476642907,
          0.5955139902824165,
          0.5926066728002111,
          0.5988262616093347,
          0.6070855780357398,
          0.6027772612867827,
          0.5933894667748507,
          0.6044753094455124,
          0.5959852086620083,
          0.5744582123059239,
          0.5860998441844817,
          0.5571757382843322,
          0.5658300485780796,
          0.5524229658432358,
          0.5544018167700014,
          0.5572347048824177,
          0.5643874600439588,
          0.555627857537152,
          0.5620889058861744,
          0.5829461586441421,
          0.5756478687526101
         ],
         "yaxis": "y"
        },
        {
         "hovertemplate": "variable=FSDS<br>batches=%{x}<br>accuracy=%{y}<extra></extra>",
         "legendgroup": "FSDS",
         "line": {
          "color": "green",
          "dash": "solid"
         },
         "mode": "lines",
         "name": "FSDS",
         "orientation": "v",
         "showlegend": true,
         "type": "scatter",
         "x": [
          0,
          1,
          2,
          3,
          4,
          5,
          6,
          7,
          8,
          9,
          10,
          11,
          12,
          13,
          14,
          15,
          16,
          17,
          18,
          19,
          20,
          21,
          22,
          23,
          24,
          25,
          26,
          27,
          28,
          29,
          30,
          31,
          32,
          33,
          34,
          35,
          36,
          37,
          38,
          39,
          40,
          41,
          42,
          43,
          44,
          45,
          46,
          47,
          48,
          49,
          50,
          51,
          52,
          53,
          54,
          55,
          56,
          57,
          58,
          59,
          60,
          61,
          62,
          63,
          64,
          65,
          66,
          67,
          68,
          69,
          70,
          71,
          72,
          73,
          74,
          75,
          76,
          77,
          78,
          79,
          80,
          81,
          82,
          83,
          84,
          85,
          86,
          87,
          88,
          89,
          90,
          91,
          92,
          93,
          94,
          95,
          96,
          97,
          98,
          99,
          100,
          101,
          102,
          103,
          104,
          105,
          106,
          107,
          108,
          109,
          110,
          111,
          112,
          113,
          114,
          115,
          116,
          117,
          118,
          119,
          120,
          121,
          122,
          123,
          124,
          125,
          126,
          127,
          128,
          129,
          130,
          131,
          132,
          133,
          134,
          135,
          136,
          137,
          138,
          139,
          140,
          141,
          142,
          143,
          144,
          145,
          146,
          147,
          148,
          149,
          150,
          151,
          152,
          153,
          154,
          155,
          156,
          157,
          158,
          159,
          160,
          161,
          162,
          163,
          164,
          165,
          166,
          167,
          168,
          169,
          170,
          171,
          172,
          173,
          174,
          175,
          176,
          177,
          178,
          179,
          180,
          181,
          182,
          183,
          184,
          185,
          186,
          187,
          188,
          189,
          190
         ],
         "xaxis": "x",
         "y": [
          0.30253892305755625,
          0.34736174781459156,
          0.34340193730640894,
          0.33766042633809157,
          0.3502566753926423,
          0.35646440350582836,
          0.37667080709878764,
          0.39355645100205705,
          0.38088982219589335,
          0.3878592345673194,
          0.3789150184119578,
          0.3480812781645333,
          0.32627648382513436,
          0.33509011249139464,
          0.330002025770554,
          0.31927209099177084,
          0.3144555108300503,
          0.31795700874794103,
          0.31798264759163397,
          0.31918500269610667,
          0.338636304446,
          0.34705165587805914,
          0.3741760978183725,
          0.39613136870849947,
          0.41025993716607234,
          0.4296793089853564,
          0.4292411495646019,
          0.4505770125630012,
          0.4571050353588797,
          0.4612780589135923,
          0.47605018438688235,
          0.4943686038397699,
          0.509370598817181,
          0.5112321700323172,
          0.5218229466545108,
          0.5210627890234842,
          0.5109583889968535,
          0.504553320613718,
          0.5194692280133353,
          0.5309903976039785,
          0.5193220644246823,
          0.5302635467977134,
          0.53987771533515,
          0.5380244906066621,
          0.52755161160254,
          0.5220625872223467,
          0.5424285623114676,
          0.5463551565163083,
          0.5466617104289845,
          0.5351761819140441,
          0.5367994145514249,
          0.5156233746134385,
          0.5140037345230403,
          0.5013124646817705,
          0.49014806002144207,
          0.48481904898537137,
          0.47267292803647754,
          0.459693688264749,
          0.41713778382436173,
          0.4149612957593908,
          0.4288937665709637,
          0.44691484282626187,
          0.43833189227045216,
          0.4313557746682476,
          0.43720551753692394,
          0.4556165349068088,
          0.461340959416329,
          0.4585370258536082,
          0.4829172628785406,
          0.48578208960805824,
          0.471777450431116,
          0.4290364194445587,
          0.4249781509600676,
          0.42288348287643274,
          0.43729821666585006,
          0.4032652893343104,
          0.4060838032904991,
          0.422131217685081,
          0.44731258330101376,
          0.45402619934125144,
          0.4312917117252108,
          0.4503276564667438,
          0.45009498726249886,
          0.473749308825003,
          0.47466271506019886,
          0.5024863224336322,
          0.4797979990872444,
          0.46283406819700296,
          0.4217099486065707,
          0.4243148194605125,
          0.44413498050764727,
          0.4517342647476591,
          0.4629524748185564,
          0.46476770921923327,
          0.46489243467469377,
          0.46520186195617513,
          0.4837427252431684,
          0.4894955267827645,
          0.5068969468388653,
          0.5004255106936747,
          0.5104088491607743,
          0.5198270200736822,
          0.5120962171004467,
          0.49478900906203566,
          0.4891531417736438,
          0.4700928949591828,
          0.4647947497649077,
          0.48217139248934815,
          0.486341465571032,
          0.4793489386428142,
          0.474320357695453,
          0.4734500382289359,
          0.4570877940339206,
          0.4602100257570192,
          0.455015073934648,
          0.48915522811597867,
          0.46493637867966325,
          0.44735134552172573,
          0.44091328845270317,
          0.43076569437267,
          0.4301727618559951,
          0.40440706626544454,
          0.4260906311599338,
          0.42588704208002853,
          0.4137786728356604,
          0.40926607802306564,
          0.4415649164893701,
          0.43761225394461656,
          0.4515644171702114,
          0.47786280573533607,
          0.48944960852573927,
          0.5264709181964606,
          0.5276086586951647,
          0.5261230630078682,
          0.5467950100621808,
          0.5175112655387304,
          0.5046727033984441,
          0.5215656129791044,
          0.5261414282967055,
          0.5132937376618499,
          0.505350950548331,
          0.46480488207452797,
          0.46451165902952296,
          0.48094458105849175,
          0.4792730631953521,
          0.4931669706552812,
          0.4963425455860834,
          0.4924277116734359,
          0.4794131566624135,
          0.48919104005124214,
          0.45528441657535046,
          0.48899584195561835,
          0.4645374990280581,
          0.4527287583052262,
          0.4537788184712639,
          0.4597112820502841,
          0.4489881731725238,
          0.44396104039844725,
          0.4429463231105014,
          0.44681205230130205,
          0.4705812190979942,
          0.4621103480381235,
          0.47269082372184223,
          0.47556177687591566,
          0.46550146733292597,
          0.4550945887714815,
          0.4797778349901127,
          0.4701063981280855,
          0.47299055459087647,
          0.46574200889834466,
          0.47660544015371176,
          0.47615898114783795,
          0.508132235796245,
          0.5240783651570802,
          0.5305023371211754,
          0.521768993395023,
          0.4886261106548603,
          0.5009953062942055,
          0.490308806704885,
          0.49043556675575706,
          0.49727447984104006,
          0.48060432669136743,
          0.4720524516481263,
          0.4643112527696035,
          0.47943985927076926,
          0.48162033208976485,
          0.5056058578995722,
          0.49989445153961337,
          0.5224101877917542,
          0.5140256506255403,
          0.5114973114649626
         ],
         "yaxis": "y"
        }
       ],
       "layout": {
        "legend": {
         "title": {
          "text": "variable"
         },
         "tracegroupgap": 0
        },
        "template": {
         "data": {
          "bar": [
           {
            "error_x": {
             "color": "#2a3f5f"
            },
            "error_y": {
             "color": "#2a3f5f"
            },
            "marker": {
             "line": {
              "color": "#E5ECF6",
              "width": 0.5
             }
            },
            "type": "bar"
           }
          ],
          "barpolar": [
           {
            "marker": {
             "line": {
              "color": "#E5ECF6",
              "width": 0.5
             }
            },
            "type": "barpolar"
           }
          ],
          "carpet": [
           {
            "aaxis": {
             "endlinecolor": "#2a3f5f",
             "gridcolor": "white",
             "linecolor": "white",
             "minorgridcolor": "white",
             "startlinecolor": "#2a3f5f"
            },
            "baxis": {
             "endlinecolor": "#2a3f5f",
             "gridcolor": "white",
             "linecolor": "white",
             "minorgridcolor": "white",
             "startlinecolor": "#2a3f5f"
            },
            "type": "carpet"
           }
          ],
          "choropleth": [
           {
            "colorbar": {
             "outlinewidth": 0,
             "ticks": ""
            },
            "type": "choropleth"
           }
          ],
          "contour": [
           {
            "colorbar": {
             "outlinewidth": 0,
             "ticks": ""
            },
            "colorscale": [
             [
              0,
              "#0d0887"
             ],
             [
              0.1111111111111111,
              "#46039f"
             ],
             [
              0.2222222222222222,
              "#7201a8"
             ],
             [
              0.3333333333333333,
              "#9c179e"
             ],
             [
              0.4444444444444444,
              "#bd3786"
             ],
             [
              0.5555555555555556,
              "#d8576b"
             ],
             [
              0.6666666666666666,
              "#ed7953"
             ],
             [
              0.7777777777777778,
              "#fb9f3a"
             ],
             [
              0.8888888888888888,
              "#fdca26"
             ],
             [
              1,
              "#f0f921"
             ]
            ],
            "type": "contour"
           }
          ],
          "contourcarpet": [
           {
            "colorbar": {
             "outlinewidth": 0,
             "ticks": ""
            },
            "type": "contourcarpet"
           }
          ],
          "heatmap": [
           {
            "colorbar": {
             "outlinewidth": 0,
             "ticks": ""
            },
            "colorscale": [
             [
              0,
              "#0d0887"
             ],
             [
              0.1111111111111111,
              "#46039f"
             ],
             [
              0.2222222222222222,
              "#7201a8"
             ],
             [
              0.3333333333333333,
              "#9c179e"
             ],
             [
              0.4444444444444444,
              "#bd3786"
             ],
             [
              0.5555555555555556,
              "#d8576b"
             ],
             [
              0.6666666666666666,
              "#ed7953"
             ],
             [
              0.7777777777777778,
              "#fb9f3a"
             ],
             [
              0.8888888888888888,
              "#fdca26"
             ],
             [
              1,
              "#f0f921"
             ]
            ],
            "type": "heatmap"
           }
          ],
          "heatmapgl": [
           {
            "colorbar": {
             "outlinewidth": 0,
             "ticks": ""
            },
            "colorscale": [
             [
              0,
              "#0d0887"
             ],
             [
              0.1111111111111111,
              "#46039f"
             ],
             [
              0.2222222222222222,
              "#7201a8"
             ],
             [
              0.3333333333333333,
              "#9c179e"
             ],
             [
              0.4444444444444444,
              "#bd3786"
             ],
             [
              0.5555555555555556,
              "#d8576b"
             ],
             [
              0.6666666666666666,
              "#ed7953"
             ],
             [
              0.7777777777777778,
              "#fb9f3a"
             ],
             [
              0.8888888888888888,
              "#fdca26"
             ],
             [
              1,
              "#f0f921"
             ]
            ],
            "type": "heatmapgl"
           }
          ],
          "histogram": [
           {
            "marker": {
             "colorbar": {
              "outlinewidth": 0,
              "ticks": ""
             }
            },
            "type": "histogram"
           }
          ],
          "histogram2d": [
           {
            "colorbar": {
             "outlinewidth": 0,
             "ticks": ""
            },
            "colorscale": [
             [
              0,
              "#0d0887"
             ],
             [
              0.1111111111111111,
              "#46039f"
             ],
             [
              0.2222222222222222,
              "#7201a8"
             ],
             [
              0.3333333333333333,
              "#9c179e"
             ],
             [
              0.4444444444444444,
              "#bd3786"
             ],
             [
              0.5555555555555556,
              "#d8576b"
             ],
             [
              0.6666666666666666,
              "#ed7953"
             ],
             [
              0.7777777777777778,
              "#fb9f3a"
             ],
             [
              0.8888888888888888,
              "#fdca26"
             ],
             [
              1,
              "#f0f921"
             ]
            ],
            "type": "histogram2d"
           }
          ],
          "histogram2dcontour": [
           {
            "colorbar": {
             "outlinewidth": 0,
             "ticks": ""
            },
            "colorscale": [
             [
              0,
              "#0d0887"
             ],
             [
              0.1111111111111111,
              "#46039f"
             ],
             [
              0.2222222222222222,
              "#7201a8"
             ],
             [
              0.3333333333333333,
              "#9c179e"
             ],
             [
              0.4444444444444444,
              "#bd3786"
             ],
             [
              0.5555555555555556,
              "#d8576b"
             ],
             [
              0.6666666666666666,
              "#ed7953"
             ],
             [
              0.7777777777777778,
              "#fb9f3a"
             ],
             [
              0.8888888888888888,
              "#fdca26"
             ],
             [
              1,
              "#f0f921"
             ]
            ],
            "type": "histogram2dcontour"
           }
          ],
          "mesh3d": [
           {
            "colorbar": {
             "outlinewidth": 0,
             "ticks": ""
            },
            "type": "mesh3d"
           }
          ],
          "parcoords": [
           {
            "line": {
             "colorbar": {
              "outlinewidth": 0,
              "ticks": ""
             }
            },
            "type": "parcoords"
           }
          ],
          "pie": [
           {
            "automargin": true,
            "type": "pie"
           }
          ],
          "scatter": [
           {
            "marker": {
             "colorbar": {
              "outlinewidth": 0,
              "ticks": ""
             }
            },
            "type": "scatter"
           }
          ],
          "scatter3d": [
           {
            "line": {
             "colorbar": {
              "outlinewidth": 0,
              "ticks": ""
             }
            },
            "marker": {
             "colorbar": {
              "outlinewidth": 0,
              "ticks": ""
             }
            },
            "type": "scatter3d"
           }
          ],
          "scattercarpet": [
           {
            "marker": {
             "colorbar": {
              "outlinewidth": 0,
              "ticks": ""
             }
            },
            "type": "scattercarpet"
           }
          ],
          "scattergeo": [
           {
            "marker": {
             "colorbar": {
              "outlinewidth": 0,
              "ticks": ""
             }
            },
            "type": "scattergeo"
           }
          ],
          "scattergl": [
           {
            "marker": {
             "colorbar": {
              "outlinewidth": 0,
              "ticks": ""
             }
            },
            "type": "scattergl"
           }
          ],
          "scattermapbox": [
           {
            "marker": {
             "colorbar": {
              "outlinewidth": 0,
              "ticks": ""
             }
            },
            "type": "scattermapbox"
           }
          ],
          "scatterpolar": [
           {
            "marker": {
             "colorbar": {
              "outlinewidth": 0,
              "ticks": ""
             }
            },
            "type": "scatterpolar"
           }
          ],
          "scatterpolargl": [
           {
            "marker": {
             "colorbar": {
              "outlinewidth": 0,
              "ticks": ""
             }
            },
            "type": "scatterpolargl"
           }
          ],
          "scatterternary": [
           {
            "marker": {
             "colorbar": {
              "outlinewidth": 0,
              "ticks": ""
             }
            },
            "type": "scatterternary"
           }
          ],
          "surface": [
           {
            "colorbar": {
             "outlinewidth": 0,
             "ticks": ""
            },
            "colorscale": [
             [
              0,
              "#0d0887"
             ],
             [
              0.1111111111111111,
              "#46039f"
             ],
             [
              0.2222222222222222,
              "#7201a8"
             ],
             [
              0.3333333333333333,
              "#9c179e"
             ],
             [
              0.4444444444444444,
              "#bd3786"
             ],
             [
              0.5555555555555556,
              "#d8576b"
             ],
             [
              0.6666666666666666,
              "#ed7953"
             ],
             [
              0.7777777777777778,
              "#fb9f3a"
             ],
             [
              0.8888888888888888,
              "#fdca26"
             ],
             [
              1,
              "#f0f921"
             ]
            ],
            "type": "surface"
           }
          ],
          "table": [
           {
            "cells": {
             "fill": {
              "color": "#EBF0F8"
             },
             "line": {
              "color": "white"
             }
            },
            "header": {
             "fill": {
              "color": "#C8D4E3"
             },
             "line": {
              "color": "white"
             }
            },
            "type": "table"
           }
          ]
         },
         "layout": {
          "annotationdefaults": {
           "arrowcolor": "#2a3f5f",
           "arrowhead": 0,
           "arrowwidth": 1
          },
          "autotypenumbers": "strict",
          "coloraxis": {
           "colorbar": {
            "outlinewidth": 0,
            "ticks": ""
           }
          },
          "colorscale": {
           "diverging": [
            [
             0,
             "#8e0152"
            ],
            [
             0.1,
             "#c51b7d"
            ],
            [
             0.2,
             "#de77ae"
            ],
            [
             0.3,
             "#f1b6da"
            ],
            [
             0.4,
             "#fde0ef"
            ],
            [
             0.5,
             "#f7f7f7"
            ],
            [
             0.6,
             "#e6f5d0"
            ],
            [
             0.7,
             "#b8e186"
            ],
            [
             0.8,
             "#7fbc41"
            ],
            [
             0.9,
             "#4d9221"
            ],
            [
             1,
             "#276419"
            ]
           ],
           "sequential": [
            [
             0,
             "#0d0887"
            ],
            [
             0.1111111111111111,
             "#46039f"
            ],
            [
             0.2222222222222222,
             "#7201a8"
            ],
            [
             0.3333333333333333,
             "#9c179e"
            ],
            [
             0.4444444444444444,
             "#bd3786"
            ],
            [
             0.5555555555555556,
             "#d8576b"
            ],
            [
             0.6666666666666666,
             "#ed7953"
            ],
            [
             0.7777777777777778,
             "#fb9f3a"
            ],
            [
             0.8888888888888888,
             "#fdca26"
            ],
            [
             1,
             "#f0f921"
            ]
           ],
           "sequentialminus": [
            [
             0,
             "#0d0887"
            ],
            [
             0.1111111111111111,
             "#46039f"
            ],
            [
             0.2222222222222222,
             "#7201a8"
            ],
            [
             0.3333333333333333,
             "#9c179e"
            ],
            [
             0.4444444444444444,
             "#bd3786"
            ],
            [
             0.5555555555555556,
             "#d8576b"
            ],
            [
             0.6666666666666666,
             "#ed7953"
            ],
            [
             0.7777777777777778,
             "#fb9f3a"
            ],
            [
             0.8888888888888888,
             "#fdca26"
            ],
            [
             1,
             "#f0f921"
            ]
           ]
          },
          "colorway": [
           "#636efa",
           "#EF553B",
           "#00cc96",
           "#ab63fa",
           "#FFA15A",
           "#19d3f3",
           "#FF6692",
           "#B6E880",
           "#FF97FF",
           "#FECB52"
          ],
          "font": {
           "color": "#2a3f5f"
          },
          "geo": {
           "bgcolor": "white",
           "lakecolor": "white",
           "landcolor": "#E5ECF6",
           "showlakes": true,
           "showland": true,
           "subunitcolor": "white"
          },
          "hoverlabel": {
           "align": "left"
          },
          "hovermode": "closest",
          "mapbox": {
           "style": "light"
          },
          "paper_bgcolor": "white",
          "plot_bgcolor": "#E5ECF6",
          "polar": {
           "angularaxis": {
            "gridcolor": "white",
            "linecolor": "white",
            "ticks": ""
           },
           "bgcolor": "#E5ECF6",
           "radialaxis": {
            "gridcolor": "white",
            "linecolor": "white",
            "ticks": ""
           }
          },
          "scene": {
           "xaxis": {
            "backgroundcolor": "#E5ECF6",
            "gridcolor": "white",
            "gridwidth": 2,
            "linecolor": "white",
            "showbackground": true,
            "ticks": "",
            "zerolinecolor": "white"
           },
           "yaxis": {
            "backgroundcolor": "#E5ECF6",
            "gridcolor": "white",
            "gridwidth": 2,
            "linecolor": "white",
            "showbackground": true,
            "ticks": "",
            "zerolinecolor": "white"
           },
           "zaxis": {
            "backgroundcolor": "#E5ECF6",
            "gridcolor": "white",
            "gridwidth": 2,
            "linecolor": "white",
            "showbackground": true,
            "ticks": "",
            "zerolinecolor": "white"
           }
          },
          "shapedefaults": {
           "line": {
            "color": "#2a3f5f"
           }
          },
          "ternary": {
           "aaxis": {
            "gridcolor": "white",
            "linecolor": "white",
            "ticks": ""
           },
           "baxis": {
            "gridcolor": "white",
            "linecolor": "white",
            "ticks": ""
           },
           "bgcolor": "#E5ECF6",
           "caxis": {
            "gridcolor": "white",
            "linecolor": "white",
            "ticks": ""
           }
          },
          "title": {
           "x": 0.05
          },
          "xaxis": {
           "automargin": true,
           "gridcolor": "white",
           "linecolor": "white",
           "ticks": "",
           "title": {
            "standoff": 15
           },
           "zerolinecolor": "white",
           "zerolinewidth": 2
          },
          "yaxis": {
           "automargin": true,
           "gridcolor": "white",
           "linecolor": "white",
           "ticks": "",
           "title": {
            "standoff": 15
           },
           "zerolinecolor": "white",
           "zerolinewidth": 2
          }
         }
        },
        "title": {
         "text": "Moving averages over f1 while learning with window 10"
        },
        "xaxis": {
         "anchor": "y",
         "domain": [
          0,
          1
         ],
         "title": {
          "text": "batches"
         }
        },
        "yaxis": {
         "anchor": "x",
         "domain": [
          0,
          1
         ],
         "title": {
          "text": "accuracy"
         }
        }
       }
      }
     },
     "metadata": {}
    }
   ],
   "source": [
    "#moving averages\n",
    "title = \"Moving averages over f1 while learning with window {}\".format(n_window)\n",
    "col_names = [\"FIRES\", \"OFS\", \"OFSSGD\", \"FSDS\"]\n",
    "d = {\"FIRES\":fires_f1, \"OFS\":ofs_f1, \n",
    "\"OFSSGD\":ofssgd_f1, \"FSDS\":fsds_f1}\n",
    "df = pd.DataFrame(d, columns=col_names)\n",
    "fig = px.line(df, y=col_names, title=title, labels={\"index\":\"batches\", \"value\":\"accuracy\"}, color_discrete_map={'FIRES': 'red', \n",
    "                                                   'FSDS': 'green', 'OFS': 'purple', \"OFSSGD\":\"yellow\", \"random\":\"cyan\"})\n",
    "fig.show()\n",
    "\n",
    "\n"
   ]
  },
  {
   "cell_type": "code",
   "execution_count": null,
   "metadata": {},
   "outputs": [],
   "source": []
  }
 ]
}