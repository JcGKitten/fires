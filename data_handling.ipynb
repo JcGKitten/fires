{
 "metadata": {
  "language_info": {
   "codemirror_mode": {
    "name": "ipython",
    "version": 3
   },
   "file_extension": ".py",
   "mimetype": "text/x-python",
   "name": "python",
   "nbconvert_exporter": "python",
   "pygments_lexer": "ipython3",
   "version": "3.8.5-final"
  },
  "orig_nbformat": 2,
  "kernelspec": {
   "name": "python3",
   "display_name": "Python 3",
   "language": "python"
  }
 },
 "nbformat": 4,
 "nbformat_minor": 2,
 "cells": [
  {
   "cell_type": "code",
   "execution_count": 1,
   "metadata": {},
   "outputs": [],
   "source": [
    "import pandas as pd\n",
    "import numpy as np\n",
    "from sklearn.preprocessing import MinMaxScaler"
   ]
  },
  {
   "cell_type": "code",
   "execution_count": 9,
   "metadata": {},
   "outputs": [
    {
     "output_type": "stream",
     "name": "stdout",
     "text": [
      "    0   1     2     3     4    5   6   7      8    9   ...   31     32   33  \\\n0 -387  10 -0.35  0.09  1.29  0.2 -19  13 -0.002 -0.3  ...  0.0  0.000  0.0   \n1 -209  -2 -0.30  0.20  1.13 -0.7 -20   5  0.008 -1.1  ...  0.0  0.000  0.0   \n2  -72 -11  0.14  0.41  1.04 -1.1 -20  -8  0.009 -2.6  ...  0.0  0.000  0.0   \n3 -175 -13  0.22  0.28  1.14 -0.9 -20 -10  0.007  0.6  ...  0.0 -0.001  0.0   \n4 -241 -16  0.29  0.31  1.21 -0.7 -20 -10  0.010 -0.3  ...  0.0  0.000  0.0   \n\n    34   35   36   37   38     39      40  \n0  0.0  0.0  0.0  0.0  0.9  0.032 -0.0017  \n1  0.0  0.0  0.0  0.0  0.9  0.033 -0.0016  \n2  0.0  0.0  0.0  0.0  1.0  0.035 -0.0015  \n3  0.0  0.0  0.0  0.0  1.0  0.035 -0.0014  \n4  0.0  0.0  0.0  0.0  1.0  0.035 -0.0020  \n\n[5 rows x 41 columns]\n"
     ]
    }
   ],
   "source": [
    "# normalization\n",
    "#dataset_path = \n",
    "df = pd.read_csv('datasets/Regression/ailerons_test.csv', header=None)\n",
    "print(df.head())\n",
    "target = df[40]\n",
    "normalized_df = pd.DataFrame(MinMaxScaler().fit_transform(df.drop(columns=40)))\n",
    "normalized_df[40] = target\n",
    "normalized_df.to_csv('datasets/Regression/ailerons_test_norm.csv', header=None, index=None)"
   ]
  },
  {
   "cell_type": "code",
   "execution_count": 5,
   "metadata": {},
   "outputs": [
    {
     "output_type": "execute_result",
     "data": {
      "text/plain": [
       "       0   1     2     3     4    5   6   7      8    9   ...   30   31  \\\n",
       "0       2 -56 -0.33 -0.09  0.90  0.2 -11  12  0.004 -0.1  ...  0.0  0.0   \n",
       "1     470 -39  0.02  0.12  0.39 -0.6 -12   8  0.009 -1.6  ...  0.0  0.0   \n",
       "2     165   4  0.14  0.14  0.78  0.4 -11  -9 -0.003 -0.2  ...  0.0  0.0   \n",
       "3    -113   5 -0.12  0.11  1.06  0.6 -10  -7 -0.008  0.0  ...  0.0  0.0   \n",
       "4    -411 -21 -0.17  0.07  1.33 -0.6 -11   0  0.002  0.1  ...  0.0  0.0   \n",
       "...   ...  ..   ...   ...   ...  ...  ..  ..    ...  ...  ...  ...  ...   \n",
       "7149 -445  -9  0.20 -0.02  0.88 -0.2  -8   7 -0.002 -0.8  ...  0.0  0.0   \n",
       "7150    9  20 -0.04 -0.03  0.47 -0.6  -9   6  0.002  0.0  ...  0.0  0.0   \n",
       "7151   50  23  0.14  0.02  0.45 -0.5  -8   1  0.005 -0.1  ...  0.0  0.0   \n",
       "7152   53  23  0.17  0.02  0.45 -0.4  -8   1  0.005 -0.1  ...  0.0  0.0   \n",
       "7153  -84  23 -0.13  0.04  0.58  0.2  -8  -3 -0.005  0.0  ...  0.0  0.0   \n",
       "\n",
       "         32   33   34   35     36   37   38     39  \n",
       "0     0.000  0.0  0.0  0.0  0.000  0.0  0.9  0.032  \n",
       "1     0.000  0.0  0.0  0.0  0.000  0.0  0.9  0.034  \n",
       "2     0.000  0.0  0.0  0.0  0.000  0.0  1.0  0.034  \n",
       "3     0.000  0.0  0.0  0.0  0.000  0.0  0.9  0.033  \n",
       "4     0.000  0.0  0.0  0.0 -0.002  0.0  0.9  0.032  \n",
       "...     ...  ...  ...  ...    ...  ...  ...    ...  \n",
       "7149  0.000  0.0  0.0  0.0  0.001  0.0  0.5  0.017  \n",
       "7150  0.001  0.0  0.0  0.0  0.000  0.0  0.5  0.017  \n",
       "7151  0.000  0.0  0.0  0.0  0.000  0.0  0.5  0.017  \n",
       "7152  0.000  0.0  0.0  0.0  0.000  0.0  0.5  0.017  \n",
       "7153  0.000  0.0  0.0  0.0  0.000  0.0  0.5  0.018  \n",
       "\n",
       "[7154 rows x 40 columns]"
      ],
      "text/html": "<div>\n<style scoped>\n    .dataframe tbody tr th:only-of-type {\n        vertical-align: middle;\n    }\n\n    .dataframe tbody tr th {\n        vertical-align: top;\n    }\n\n    .dataframe thead th {\n        text-align: right;\n    }\n</style>\n<table border=\"1\" class=\"dataframe\">\n  <thead>\n    <tr style=\"text-align: right;\">\n      <th></th>\n      <th>0</th>\n      <th>1</th>\n      <th>2</th>\n      <th>3</th>\n      <th>4</th>\n      <th>5</th>\n      <th>6</th>\n      <th>7</th>\n      <th>8</th>\n      <th>9</th>\n      <th>...</th>\n      <th>30</th>\n      <th>31</th>\n      <th>32</th>\n      <th>33</th>\n      <th>34</th>\n      <th>35</th>\n      <th>36</th>\n      <th>37</th>\n      <th>38</th>\n      <th>39</th>\n    </tr>\n  </thead>\n  <tbody>\n    <tr>\n      <th>0</th>\n      <td>2</td>\n      <td>-56</td>\n      <td>-0.33</td>\n      <td>-0.09</td>\n      <td>0.90</td>\n      <td>0.2</td>\n      <td>-11</td>\n      <td>12</td>\n      <td>0.004</td>\n      <td>-0.1</td>\n      <td>...</td>\n      <td>0.0</td>\n      <td>0.0</td>\n      <td>0.000</td>\n      <td>0.0</td>\n      <td>0.0</td>\n      <td>0.0</td>\n      <td>0.000</td>\n      <td>0.0</td>\n      <td>0.9</td>\n      <td>0.032</td>\n    </tr>\n    <tr>\n      <th>1</th>\n      <td>470</td>\n      <td>-39</td>\n      <td>0.02</td>\n      <td>0.12</td>\n      <td>0.39</td>\n      <td>-0.6</td>\n      <td>-12</td>\n      <td>8</td>\n      <td>0.009</td>\n      <td>-1.6</td>\n      <td>...</td>\n      <td>0.0</td>\n      <td>0.0</td>\n      <td>0.000</td>\n      <td>0.0</td>\n      <td>0.0</td>\n      <td>0.0</td>\n      <td>0.000</td>\n      <td>0.0</td>\n      <td>0.9</td>\n      <td>0.034</td>\n    </tr>\n    <tr>\n      <th>2</th>\n      <td>165</td>\n      <td>4</td>\n      <td>0.14</td>\n      <td>0.14</td>\n      <td>0.78</td>\n      <td>0.4</td>\n      <td>-11</td>\n      <td>-9</td>\n      <td>-0.003</td>\n      <td>-0.2</td>\n      <td>...</td>\n      <td>0.0</td>\n      <td>0.0</td>\n      <td>0.000</td>\n      <td>0.0</td>\n      <td>0.0</td>\n      <td>0.0</td>\n      <td>0.000</td>\n      <td>0.0</td>\n      <td>1.0</td>\n      <td>0.034</td>\n    </tr>\n    <tr>\n      <th>3</th>\n      <td>-113</td>\n      <td>5</td>\n      <td>-0.12</td>\n      <td>0.11</td>\n      <td>1.06</td>\n      <td>0.6</td>\n      <td>-10</td>\n      <td>-7</td>\n      <td>-0.008</td>\n      <td>0.0</td>\n      <td>...</td>\n      <td>0.0</td>\n      <td>0.0</td>\n      <td>0.000</td>\n      <td>0.0</td>\n      <td>0.0</td>\n      <td>0.0</td>\n      <td>0.000</td>\n      <td>0.0</td>\n      <td>0.9</td>\n      <td>0.033</td>\n    </tr>\n    <tr>\n      <th>4</th>\n      <td>-411</td>\n      <td>-21</td>\n      <td>-0.17</td>\n      <td>0.07</td>\n      <td>1.33</td>\n      <td>-0.6</td>\n      <td>-11</td>\n      <td>0</td>\n      <td>0.002</td>\n      <td>0.1</td>\n      <td>...</td>\n      <td>0.0</td>\n      <td>0.0</td>\n      <td>0.000</td>\n      <td>0.0</td>\n      <td>0.0</td>\n      <td>0.0</td>\n      <td>-0.002</td>\n      <td>0.0</td>\n      <td>0.9</td>\n      <td>0.032</td>\n    </tr>\n    <tr>\n      <th>...</th>\n      <td>...</td>\n      <td>...</td>\n      <td>...</td>\n      <td>...</td>\n      <td>...</td>\n      <td>...</td>\n      <td>...</td>\n      <td>...</td>\n      <td>...</td>\n      <td>...</td>\n      <td>...</td>\n      <td>...</td>\n      <td>...</td>\n      <td>...</td>\n      <td>...</td>\n      <td>...</td>\n      <td>...</td>\n      <td>...</td>\n      <td>...</td>\n      <td>...</td>\n      <td>...</td>\n    </tr>\n    <tr>\n      <th>7149</th>\n      <td>-445</td>\n      <td>-9</td>\n      <td>0.20</td>\n      <td>-0.02</td>\n      <td>0.88</td>\n      <td>-0.2</td>\n      <td>-8</td>\n      <td>7</td>\n      <td>-0.002</td>\n      <td>-0.8</td>\n      <td>...</td>\n      <td>0.0</td>\n      <td>0.0</td>\n      <td>0.000</td>\n      <td>0.0</td>\n      <td>0.0</td>\n      <td>0.0</td>\n      <td>0.001</td>\n      <td>0.0</td>\n      <td>0.5</td>\n      <td>0.017</td>\n    </tr>\n    <tr>\n      <th>7150</th>\n      <td>9</td>\n      <td>20</td>\n      <td>-0.04</td>\n      <td>-0.03</td>\n      <td>0.47</td>\n      <td>-0.6</td>\n      <td>-9</td>\n      <td>6</td>\n      <td>0.002</td>\n      <td>0.0</td>\n      <td>...</td>\n      <td>0.0</td>\n      <td>0.0</td>\n      <td>0.001</td>\n      <td>0.0</td>\n      <td>0.0</td>\n      <td>0.0</td>\n      <td>0.000</td>\n      <td>0.0</td>\n      <td>0.5</td>\n      <td>0.017</td>\n    </tr>\n    <tr>\n      <th>7151</th>\n      <td>50</td>\n      <td>23</td>\n      <td>0.14</td>\n      <td>0.02</td>\n      <td>0.45</td>\n      <td>-0.5</td>\n      <td>-8</td>\n      <td>1</td>\n      <td>0.005</td>\n      <td>-0.1</td>\n      <td>...</td>\n      <td>0.0</td>\n      <td>0.0</td>\n      <td>0.000</td>\n      <td>0.0</td>\n      <td>0.0</td>\n      <td>0.0</td>\n      <td>0.000</td>\n      <td>0.0</td>\n      <td>0.5</td>\n      <td>0.017</td>\n    </tr>\n    <tr>\n      <th>7152</th>\n      <td>53</td>\n      <td>23</td>\n      <td>0.17</td>\n      <td>0.02</td>\n      <td>0.45</td>\n      <td>-0.4</td>\n      <td>-8</td>\n      <td>1</td>\n      <td>0.005</td>\n      <td>-0.1</td>\n      <td>...</td>\n      <td>0.0</td>\n      <td>0.0</td>\n      <td>0.000</td>\n      <td>0.0</td>\n      <td>0.0</td>\n      <td>0.0</td>\n      <td>0.000</td>\n      <td>0.0</td>\n      <td>0.5</td>\n      <td>0.017</td>\n    </tr>\n    <tr>\n      <th>7153</th>\n      <td>-84</td>\n      <td>23</td>\n      <td>-0.13</td>\n      <td>0.04</td>\n      <td>0.58</td>\n      <td>0.2</td>\n      <td>-8</td>\n      <td>-3</td>\n      <td>-0.005</td>\n      <td>0.0</td>\n      <td>...</td>\n      <td>0.0</td>\n      <td>0.0</td>\n      <td>0.000</td>\n      <td>0.0</td>\n      <td>0.0</td>\n      <td>0.0</td>\n      <td>0.000</td>\n      <td>0.0</td>\n      <td>0.5</td>\n      <td>0.018</td>\n    </tr>\n  </tbody>\n</table>\n<p>7154 rows × 40 columns</p>\n</div>"
     },
     "metadata": {},
     "execution_count": 5
    }
   ],
   "source": []
  },
  {
   "cell_type": "code",
   "execution_count": 23,
   "metadata": {},
   "outputs": [
    {
     "output_type": "execute_result",
     "data": {
      "text/plain": [
       "581012"
      ]
     },
     "metadata": {},
     "execution_count": 23
    }
   ],
   "source": [
    "# shuffle data and split into test and train\n",
    "df = pd.read_csv('datasets/Multiclass/covtype.scale01.csv')\n",
    "len(df)"
   ]
  },
  {
   "cell_type": "code",
   "execution_count": 25,
   "metadata": {},
   "outputs": [],
   "source": [
    "df = df.sample(frac=1)"
   ]
  },
  {
   "cell_type": "code",
   "execution_count": 28,
   "metadata": {},
   "outputs": [],
   "source": [
    "df_train = df[:400000]\n",
    "df_test = df[400001:]\n",
    "df_test.to_csv('datasets/Multiclass/covtype.scale01.test.csv', index=False)\n",
    "df_train.to_csv('datasets/Multiclass/covtype.scale01.train.csv', index=False)\n"
   ]
  },
  {
   "cell_type": "code",
   "execution_count": 29,
   "metadata": {},
   "outputs": [],
   "source": [
    "df = pd.read_csv('datasets/Multiclass/har_train.csv', header = None)"
   ]
  },
  {
   "cell_type": "code",
   "execution_count": 32,
   "metadata": {},
   "outputs": [
    {
     "output_type": "execute_result",
     "data": {
      "text/plain": [
       "0       4\n",
       "1       3\n",
       "2       4\n",
       "3       4\n",
       "4       1\n",
       "       ..\n",
       "7347    3\n",
       "7348    0\n",
       "7349    2\n",
       "7350    3\n",
       "7351    5\n",
       "Name: 561, Length: 7352, dtype: int64"
      ]
     },
     "metadata": {},
     "execution_count": 32
    }
   ],
   "source": [
    "df[561]"
   ]
  },
  {
   "cell_type": "code",
   "execution_count": null,
   "metadata": {},
   "outputs": [],
   "source": []
  }
 ]
}