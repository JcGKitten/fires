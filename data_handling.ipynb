{
 "metadata": {
  "language_info": {
   "codemirror_mode": {
    "name": "ipython",
    "version": 3
   },
   "file_extension": ".py",
   "mimetype": "text/x-python",
   "name": "python",
   "nbconvert_exporter": "python",
   "pygments_lexer": "ipython3",
   "version": "3.8.5-final"
  },
  "orig_nbformat": 2,
  "kernelspec": {
   "name": "python3",
   "display_name": "Python 3",
   "language": "python"
  }
 },
 "nbformat": 4,
 "nbformat_minor": 2,
 "cells": [
  {
   "cell_type": "code",
   "execution_count": 1,
   "metadata": {},
   "outputs": [],
   "source": [
    "import pandas as pd\n",
    "import numpy as np\n",
    "from sklearn.preprocessing import MinMaxScaler"
   ]
  },
  {
   "cell_type": "code",
   "execution_count": 4,
   "metadata": {},
   "outputs": [
    {
     "output_type": "stream",
     "name": "stdout",
     "text": [
      "         V1        V2        V3        V4        V5        V6        V7  \\\n0  0.319019  0.007864 -0.141857 -0.140090  0.028799 -0.312864 -0.199871   \n1  0.289236 -0.007144 -0.091342 -0.991868 -0.972762 -0.985791 -0.991956   \n2  0.269858  0.023328 -0.047465 -0.984727 -0.750873 -0.880589 -0.988621   \n3  0.357201 -0.008001 -0.126896 -0.101585  0.124206 -0.404483 -0.152525   \n4  0.279155 -0.017105 -0.111754 -0.991807 -0.995734 -0.985178 -0.992075   \n\n         V8        V9       V10  ...      V553      V554      V555      V556  \\\n0  0.059016 -0.324633  0.390167  ... -0.008895 -0.259777 -0.180762  0.353214   \n1 -0.971037 -0.987071 -0.929747  ...  0.049934 -0.202769  0.062291 -0.018627   \n2 -0.721640 -0.859669 -0.904676  ... -0.448896 -0.778150 -0.044405  0.204114   \n3  0.087529 -0.354842  0.074431  ...  0.319500  0.064210 -0.647945  0.622676   \n4 -0.995732 -0.984926 -0.932001  ... -0.729891 -0.939378  0.237869 -0.436037   \n\n       V557      V558      V559      V560      V561  Class  \n0  0.735991  0.467069 -0.752354  0.267349  0.044040      0  \n1 -0.286357 -0.246315 -0.592558  0.335569  0.169245      4  \n2 -0.348174  0.151678 -0.644832  0.184482 -0.220901      4  \n3 -0.767729  0.845944 -0.865213  0.189910  0.000703      0  \n4  0.229343  0.021661 -0.082211 -0.321508 -0.408548      3  \n\n[5 rows x 562 columns]\n"
     ]
    }
   ],
   "source": [
    "# normalization\n",
    " \n",
    "df = pd.read_csv('/home/kitten/BA_FIRES/fires/datasets/Multiclass/har_test.csv')\n",
    "print(df.head())\n",
    "target = df[\"Class\"]\n",
    "normalized_df = pd.DataFrame(MinMaxScaler().fit_transform(df.drop(columns=\"Class\")))\n",
    "normalized_df[\"Class\"] = target\n",
    "normalized_df.columns = df.columns\n",
    "normalized_df.to_csv('datasets/Multiclass/har_test_norm.csv', index=None)"
   ]
  },
  {
   "cell_type": "code",
   "execution_count": null,
   "metadata": {},
   "outputs": [],
   "source": [
    "target\n"
   ]
  },
  {
   "cell_type": "code",
   "execution_count": null,
   "metadata": {},
   "outputs": [],
   "source": [
    "# shuffle data and split into test and train\n",
    "df = pd.read_csv('datasets/Multiclass/covtype.scale01.csv')\n",
    "len(df)"
   ]
  },
  {
   "cell_type": "code",
   "execution_count": null,
   "metadata": {},
   "outputs": [],
   "source": [
    "df = df.sample(frac=1)"
   ]
  },
  {
   "cell_type": "code",
   "execution_count": null,
   "metadata": {},
   "outputs": [],
   "source": [
    "df_train = df[:400000]\n",
    "df_test = df[400001:]\n",
    "df_test.to_csv('datasets/Multiclass/covtype.scale01.test.csv', index=False)\n",
    "df_train.to_csv('datasets/Multiclass/covtype.scale01.train.csv', index=False)\n"
   ]
  },
  {
   "cell_type": "code",
   "execution_count": null,
   "metadata": {},
   "outputs": [],
   "source": [
    "df = pd.read_csv('datasets/Multiclass/har_train.csv', header = None)"
   ]
  },
  {
   "cell_type": "code",
   "execution_count": null,
   "metadata": {},
   "outputs": [],
   "source": [
    "df[561]"
   ]
  },
  {
   "cell_type": "code",
   "execution_count": null,
   "metadata": {},
   "outputs": [],
   "source": []
  }
 ]
}