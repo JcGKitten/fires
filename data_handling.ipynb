{
 "metadata": {
  "language_info": {
   "codemirror_mode": {
    "name": "ipython",
    "version": 3
   },
   "file_extension": ".py",
   "mimetype": "text/x-python",
   "name": "python",
   "nbconvert_exporter": "python",
   "pygments_lexer": "ipython3",
   "version": "3.8.5-final"
  },
  "orig_nbformat": 2,
  "kernelspec": {
   "name": "python3",
   "display_name": "Python 3",
   "language": "python"
  }
 },
 "nbformat": 4,
 "nbformat_minor": 2,
 "cells": [
  {
   "cell_type": "code",
   "execution_count": 1,
   "metadata": {},
   "outputs": [],
   "source": [
    "import pandas as pd\n",
    "import numpy as np\n",
    "from sklearn.preprocessing import MinMaxScaler"
   ]
  },
  {
   "cell_type": "code",
   "execution_count": 15,
   "metadata": {},
   "outputs": [
    {
     "output_type": "stream",
     "name": "stdout",
     "text": [
      "           0          1          2          3         4          5         6  \\\n0   1.273926  -3.171631 -10.800799  22.290446  0.297054  12.847376  6.240528   \n1  10.251946   7.352042   9.096968   2.837574  2.530914  -6.583440 -9.321659   \n2  -5.695304   9.260677 -10.985576  -1.734487  1.546133   4.281930 -4.796665   \n3  -3.751773  15.570889   5.905909  -7.686489 -0.576944  -0.315264 -0.857952   \n4  -9.183931  -4.652366   7.327923 -10.780399 -0.082085  -4.579951  2.792300   \n\n           7         8         9  ...        201        202       203  \\\n0  -7.573302 -2.737398 -2.807120  ...  16.656013  10.850754 -1.810996   \n1   6.836542  2.571636 -6.638398  ...  -6.757860   0.713323 -2.770791   \n2  13.325854  4.643644 -8.006051  ...   1.872711  -0.715823 -2.173965   \n3  11.616536  6.223104  2.194505  ...   3.855737   4.291890 -2.704069   \n4 -10.178889 -5.018167 -3.389312  ...  -3.847848  10.205017  7.433425   \n\n         204       205        206       207       208       209  label  \n0   6.105265 -9.346228  10.971929  2.974552 -7.965653  9.155461      6  \n1  -3.265861 -0.731207   5.788121 -5.743016 -3.669475  0.076943      3  \n2 -10.214661  3.237335   1.284257 -0.831233  0.699939  3.128798      2  \n3   8.099634  3.499854   1.528083 -7.003276  8.486708  8.826856      3  \n4   5.730222  5.859186 -13.004942  8.017181  0.533872 -2.023874      4  \n\n[5 rows x 211 columns]\n"
     ]
    }
   ],
   "source": [
    "# normalization\n",
    " \n",
    "df = pd.read_csv('/home/kitten/BA_FIRES/fires/datasets/Multiclass/dataset_4_test.csv')\n",
    "print(df.head())\n",
    "target = df[\"label\"]\n",
    "normalized_df = pd.DataFrame(MinMaxScaler().fit_transform(df.drop(columns=\"label\")))\n",
    "normalized_df[210] = target\n",
    "normalized_df.columns = df.columns\n",
    "normalized_df.to_csv('datasets/Multiclass/dataset_4_test_norm.csv', index=None)"
   ]
  },
  {
   "cell_type": "code",
   "execution_count": 14,
   "metadata": {},
   "outputs": [
    {
     "output_type": "execute_result",
     "data": {
      "text/plain": [
       "             0         1         2         3         4         5         6  \\\n",
       "0     0.553908  0.488204  0.386882  0.852818  0.504001  0.657229  0.569326   \n",
       "1     0.699730  0.662726  0.703460  0.537445  0.777000  0.339103  0.298697   \n",
       "2     0.440713  0.694378  0.383942  0.463322  0.656650  0.516994  0.377387   \n",
       "3     0.472280  0.799025  0.652690  0.366827  0.397190  0.441727  0.445882   \n",
       "4     0.384050  0.463648  0.675314  0.316668  0.457666  0.371905  0.509360   \n",
       "...        ...       ...       ...       ...       ...       ...       ...   \n",
       "4995  0.565067  0.402291  0.816578  0.327008  0.396860  0.535104  0.612650   \n",
       "4996  0.586891  0.665592  0.512044  0.677492  0.525340  0.309552  0.808194   \n",
       "4997  0.600826  0.568827  0.493692  0.609300  0.611327  0.601902  0.368247   \n",
       "4998  0.589633  0.576676  0.336443  0.551149  0.386671  0.315888  0.379615   \n",
       "4999  0.543825  0.470212  0.512369  0.473934  0.496366  0.381821  0.486617   \n",
       "\n",
       "             7         8         9  ...       201       202       203  \\\n",
       "0     0.366956  0.425833  0.453300  ...  0.748728  0.738147  0.487237   \n",
       "1     0.607821  0.510501  0.386969  ...  0.356914  0.578811  0.471056   \n",
       "2     0.716291  0.543545  0.363291  ...  0.501340  0.556348  0.481118   \n",
       "3     0.687720  0.568735  0.539893  ...  0.534525  0.635057  0.472180   \n",
       "4     0.323403  0.389459  0.443221  ...  0.405611  0.727997  0.643094   \n",
       "...        ...       ...       ...  ...       ...       ...       ...   \n",
       "4995  0.620926  0.496231  0.288515  ...  0.405049  0.658919  0.458042   \n",
       "4996  0.384360  0.596999  0.658956  ...  0.279704  0.638402  0.329590   \n",
       "4997  0.561875  0.501821  0.539656  ...  0.265559  0.488934  0.334170   \n",
       "4998  0.693662  0.463310  0.624680  ...  0.509558  0.623232  0.427354   \n",
       "4999  0.519902  0.465280  0.396887  ...  0.511262  0.469592  0.589963   \n",
       "\n",
       "           204       205       206       207       208       209  label  \n",
       "0     0.617649  0.352534  0.691371  0.610699  0.365947  0.597507      6  \n",
       "1     0.447000  0.506166  0.606058  0.466256  0.440407  0.456641      3  \n",
       "2     0.320461  0.576937  0.531936  0.547640  0.516136  0.503995      2  \n",
       "3     0.653966  0.581619  0.535948  0.445375  0.651093  0.592409      3  \n",
       "4     0.610819  0.623693  0.296770  0.694251  0.513257  0.424044      4  \n",
       "...        ...       ...       ...       ...       ...       ...    ...  \n",
       "4995  0.562690  0.587479  0.500602  0.470412  0.611547  0.406068      0  \n",
       "4996  0.564847  0.296001  0.555925  0.490056  0.382835  0.516803      2  \n",
       "4997  0.620377  0.854540  0.520892  0.374167  0.384447  0.578094      6  \n",
       "4998  0.596685  0.509700  0.377135  0.571804  0.441671  0.232338      2  \n",
       "4999  0.501232  0.406080  0.499335  0.513392  0.730614  0.369393      0  \n",
       "\n",
       "[5000 rows x 211 columns]"
      ],
      "text/html": "<div>\n<style scoped>\n    .dataframe tbody tr th:only-of-type {\n        vertical-align: middle;\n    }\n\n    .dataframe tbody tr th {\n        vertical-align: top;\n    }\n\n    .dataframe thead th {\n        text-align: right;\n    }\n</style>\n<table border=\"1\" class=\"dataframe\">\n  <thead>\n    <tr style=\"text-align: right;\">\n      <th></th>\n      <th>0</th>\n      <th>1</th>\n      <th>2</th>\n      <th>3</th>\n      <th>4</th>\n      <th>5</th>\n      <th>6</th>\n      <th>7</th>\n      <th>8</th>\n      <th>9</th>\n      <th>...</th>\n      <th>201</th>\n      <th>202</th>\n      <th>203</th>\n      <th>204</th>\n      <th>205</th>\n      <th>206</th>\n      <th>207</th>\n      <th>208</th>\n      <th>209</th>\n      <th>label</th>\n    </tr>\n  </thead>\n  <tbody>\n    <tr>\n      <th>0</th>\n      <td>0.553908</td>\n      <td>0.488204</td>\n      <td>0.386882</td>\n      <td>0.852818</td>\n      <td>0.504001</td>\n      <td>0.657229</td>\n      <td>0.569326</td>\n      <td>0.366956</td>\n      <td>0.425833</td>\n      <td>0.453300</td>\n      <td>...</td>\n      <td>0.748728</td>\n      <td>0.738147</td>\n      <td>0.487237</td>\n      <td>0.617649</td>\n      <td>0.352534</td>\n      <td>0.691371</td>\n      <td>0.610699</td>\n      <td>0.365947</td>\n      <td>0.597507</td>\n      <td>6</td>\n    </tr>\n    <tr>\n      <th>1</th>\n      <td>0.699730</td>\n      <td>0.662726</td>\n      <td>0.703460</td>\n      <td>0.537445</td>\n      <td>0.777000</td>\n      <td>0.339103</td>\n      <td>0.298697</td>\n      <td>0.607821</td>\n      <td>0.510501</td>\n      <td>0.386969</td>\n      <td>...</td>\n      <td>0.356914</td>\n      <td>0.578811</td>\n      <td>0.471056</td>\n      <td>0.447000</td>\n      <td>0.506166</td>\n      <td>0.606058</td>\n      <td>0.466256</td>\n      <td>0.440407</td>\n      <td>0.456641</td>\n      <td>3</td>\n    </tr>\n    <tr>\n      <th>2</th>\n      <td>0.440713</td>\n      <td>0.694378</td>\n      <td>0.383942</td>\n      <td>0.463322</td>\n      <td>0.656650</td>\n      <td>0.516994</td>\n      <td>0.377387</td>\n      <td>0.716291</td>\n      <td>0.543545</td>\n      <td>0.363291</td>\n      <td>...</td>\n      <td>0.501340</td>\n      <td>0.556348</td>\n      <td>0.481118</td>\n      <td>0.320461</td>\n      <td>0.576937</td>\n      <td>0.531936</td>\n      <td>0.547640</td>\n      <td>0.516136</td>\n      <td>0.503995</td>\n      <td>2</td>\n    </tr>\n    <tr>\n      <th>3</th>\n      <td>0.472280</td>\n      <td>0.799025</td>\n      <td>0.652690</td>\n      <td>0.366827</td>\n      <td>0.397190</td>\n      <td>0.441727</td>\n      <td>0.445882</td>\n      <td>0.687720</td>\n      <td>0.568735</td>\n      <td>0.539893</td>\n      <td>...</td>\n      <td>0.534525</td>\n      <td>0.635057</td>\n      <td>0.472180</td>\n      <td>0.653966</td>\n      <td>0.581619</td>\n      <td>0.535948</td>\n      <td>0.445375</td>\n      <td>0.651093</td>\n      <td>0.592409</td>\n      <td>3</td>\n    </tr>\n    <tr>\n      <th>4</th>\n      <td>0.384050</td>\n      <td>0.463648</td>\n      <td>0.675314</td>\n      <td>0.316668</td>\n      <td>0.457666</td>\n      <td>0.371905</td>\n      <td>0.509360</td>\n      <td>0.323403</td>\n      <td>0.389459</td>\n      <td>0.443221</td>\n      <td>...</td>\n      <td>0.405611</td>\n      <td>0.727997</td>\n      <td>0.643094</td>\n      <td>0.610819</td>\n      <td>0.623693</td>\n      <td>0.296770</td>\n      <td>0.694251</td>\n      <td>0.513257</td>\n      <td>0.424044</td>\n      <td>4</td>\n    </tr>\n    <tr>\n      <th>...</th>\n      <td>...</td>\n      <td>...</td>\n      <td>...</td>\n      <td>...</td>\n      <td>...</td>\n      <td>...</td>\n      <td>...</td>\n      <td>...</td>\n      <td>...</td>\n      <td>...</td>\n      <td>...</td>\n      <td>...</td>\n      <td>...</td>\n      <td>...</td>\n      <td>...</td>\n      <td>...</td>\n      <td>...</td>\n      <td>...</td>\n      <td>...</td>\n      <td>...</td>\n      <td>...</td>\n    </tr>\n    <tr>\n      <th>4995</th>\n      <td>0.565067</td>\n      <td>0.402291</td>\n      <td>0.816578</td>\n      <td>0.327008</td>\n      <td>0.396860</td>\n      <td>0.535104</td>\n      <td>0.612650</td>\n      <td>0.620926</td>\n      <td>0.496231</td>\n      <td>0.288515</td>\n      <td>...</td>\n      <td>0.405049</td>\n      <td>0.658919</td>\n      <td>0.458042</td>\n      <td>0.562690</td>\n      <td>0.587479</td>\n      <td>0.500602</td>\n      <td>0.470412</td>\n      <td>0.611547</td>\n      <td>0.406068</td>\n      <td>0</td>\n    </tr>\n    <tr>\n      <th>4996</th>\n      <td>0.586891</td>\n      <td>0.665592</td>\n      <td>0.512044</td>\n      <td>0.677492</td>\n      <td>0.525340</td>\n      <td>0.309552</td>\n      <td>0.808194</td>\n      <td>0.384360</td>\n      <td>0.596999</td>\n      <td>0.658956</td>\n      <td>...</td>\n      <td>0.279704</td>\n      <td>0.638402</td>\n      <td>0.329590</td>\n      <td>0.564847</td>\n      <td>0.296001</td>\n      <td>0.555925</td>\n      <td>0.490056</td>\n      <td>0.382835</td>\n      <td>0.516803</td>\n      <td>2</td>\n    </tr>\n    <tr>\n      <th>4997</th>\n      <td>0.600826</td>\n      <td>0.568827</td>\n      <td>0.493692</td>\n      <td>0.609300</td>\n      <td>0.611327</td>\n      <td>0.601902</td>\n      <td>0.368247</td>\n      <td>0.561875</td>\n      <td>0.501821</td>\n      <td>0.539656</td>\n      <td>...</td>\n      <td>0.265559</td>\n      <td>0.488934</td>\n      <td>0.334170</td>\n      <td>0.620377</td>\n      <td>0.854540</td>\n      <td>0.520892</td>\n      <td>0.374167</td>\n      <td>0.384447</td>\n      <td>0.578094</td>\n      <td>6</td>\n    </tr>\n    <tr>\n      <th>4998</th>\n      <td>0.589633</td>\n      <td>0.576676</td>\n      <td>0.336443</td>\n      <td>0.551149</td>\n      <td>0.386671</td>\n      <td>0.315888</td>\n      <td>0.379615</td>\n      <td>0.693662</td>\n      <td>0.463310</td>\n      <td>0.624680</td>\n      <td>...</td>\n      <td>0.509558</td>\n      <td>0.623232</td>\n      <td>0.427354</td>\n      <td>0.596685</td>\n      <td>0.509700</td>\n      <td>0.377135</td>\n      <td>0.571804</td>\n      <td>0.441671</td>\n      <td>0.232338</td>\n      <td>2</td>\n    </tr>\n    <tr>\n      <th>4999</th>\n      <td>0.543825</td>\n      <td>0.470212</td>\n      <td>0.512369</td>\n      <td>0.473934</td>\n      <td>0.496366</td>\n      <td>0.381821</td>\n      <td>0.486617</td>\n      <td>0.519902</td>\n      <td>0.465280</td>\n      <td>0.396887</td>\n      <td>...</td>\n      <td>0.511262</td>\n      <td>0.469592</td>\n      <td>0.589963</td>\n      <td>0.501232</td>\n      <td>0.406080</td>\n      <td>0.499335</td>\n      <td>0.513392</td>\n      <td>0.730614</td>\n      <td>0.369393</td>\n      <td>0</td>\n    </tr>\n  </tbody>\n</table>\n<p>5000 rows × 211 columns</p>\n</div>"
     },
     "metadata": {},
     "execution_count": 14
    }
   ],
   "source": [
    "normalized_df\n"
   ]
  },
  {
   "cell_type": "code",
   "execution_count": null,
   "metadata": {},
   "outputs": [],
   "source": [
    "# shuffle data and split into test and train\n",
    "df = pd.read_csv('datasets/Multiclass/covtype.scale01.csv')\n",
    "len(df)"
   ]
  },
  {
   "cell_type": "code",
   "execution_count": null,
   "metadata": {},
   "outputs": [],
   "source": [
    "df = df.sample(frac=1)"
   ]
  },
  {
   "cell_type": "code",
   "execution_count": null,
   "metadata": {},
   "outputs": [],
   "source": [
    "df_train = df[:400000]\n",
    "df_test = df[400001:]\n",
    "df_test.to_csv('datasets/Multiclass/covtype.scale01.test.csv', index=False)\n",
    "df_train.to_csv('datasets/Multiclass/covtype.scale01.train.csv', index=False)\n"
   ]
  },
  {
   "cell_type": "code",
   "execution_count": null,
   "metadata": {},
   "outputs": [],
   "source": [
    "df = pd.read_csv('datasets/Multiclass/har_train.csv', header = None)"
   ]
  },
  {
   "cell_type": "code",
   "execution_count": null,
   "metadata": {},
   "outputs": [],
   "source": [
    "df[561]"
   ]
  },
  {
   "cell_type": "code",
   "execution_count": null,
   "metadata": {},
   "outputs": [],
   "source": []
  }
 ]
}