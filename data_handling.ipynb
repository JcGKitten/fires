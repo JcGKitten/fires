{
 "metadata": {
  "language_info": {
   "codemirror_mode": {
    "name": "ipython",
    "version": 3
   },
   "file_extension": ".py",
   "mimetype": "text/x-python",
   "name": "python",
   "nbconvert_exporter": "python",
   "pygments_lexer": "ipython3",
   "version": "3.8.5-final"
  },
  "orig_nbformat": 2,
  "kernelspec": {
   "name": "python3",
   "display_name": "Python 3",
   "language": "python"
  }
 },
 "nbformat": 4,
 "nbformat_minor": 2,
 "cells": [
  {
   "cell_type": "code",
   "execution_count": null,
   "metadata": {},
   "outputs": [],
   "source": [
    "import pandas as pd\n",
    "import numpy as np"
   ]
  },
  {
   "cell_type": "code",
   "execution_count": 14,
   "metadata": {},
   "outputs": [
    {
     "output_type": "stream",
     "name": "stdout",
     "text": [
      "    0         1         2         3         4         5         6         7   \\\n0  5.0  0.368684  0.141667  0.045455  0.184681  0.223514  0.071659  0.870079   \n1  5.0  0.365683  0.155556  0.030303  0.151754  0.215762  0.054798  0.866142   \n2  2.0  0.472736  0.386111  0.136364  0.191840  0.307494  0.446817  0.921260   \n3  2.0  0.463232  0.430556  0.272727  0.173228  0.375969  0.434172  0.937008   \n4  5.0  0.368184  0.125000  0.030303  0.109520  0.222222  0.054939  0.866142   \n\n         8         9   ...   45   46   47   48   49   50   51   52   53   54  \n0  0.913386  0.582677  ...  0.0  0.0  0.0  0.0  0.0  0.0  0.0  0.0  0.0  0.0  \n1  0.925197  0.594488  ...  0.0  0.0  0.0  0.0  0.0  0.0  0.0  0.0  0.0  0.0  \n2  0.937008  0.531496  ...  0.0  0.0  0.0  0.0  0.0  0.0  0.0  0.0  0.0  0.0  \n3  0.937008  0.480315  ...  0.0  0.0  0.0  0.0  0.0  0.0  0.0  0.0  0.0  0.0  \n4  0.921260  0.590551  ...  0.0  0.0  0.0  0.0  0.0  0.0  0.0  0.0  0.0  0.0  \n\n[5 rows x 55 columns]\n[1 2 3 4 5 6 7]\n[0 1 2 3 4 5 6]\n   0         1         2         3         4         5         6         7   \\\n0   4  0.368684  0.141667  0.045455  0.184681  0.223514  0.071659  0.870079   \n1   4  0.365683  0.155556  0.030303  0.151754  0.215762  0.054798  0.866142   \n2   1  0.472736  0.386111  0.136364  0.191840  0.307494  0.446817  0.921260   \n3   1  0.463232  0.430556  0.272727  0.173228  0.375969  0.434172  0.937008   \n4   4  0.368184  0.125000  0.030303  0.109520  0.222222  0.054939  0.866142   \n\n         8         9   ...   45   46   47   48   49   50   51   52   53   54  \n0  0.913386  0.582677  ...  0.0  0.0  0.0  0.0  0.0  0.0  0.0  0.0  0.0  0.0  \n1  0.925197  0.594488  ...  0.0  0.0  0.0  0.0  0.0  0.0  0.0  0.0  0.0  0.0  \n2  0.937008  0.531496  ...  0.0  0.0  0.0  0.0  0.0  0.0  0.0  0.0  0.0  0.0  \n3  0.937008  0.480315  ...  0.0  0.0  0.0  0.0  0.0  0.0  0.0  0.0  0.0  0.0  \n4  0.921260  0.590551  ...  0.0  0.0  0.0  0.0  0.0  0.0  0.0  0.0  0.0  0.0  \n\n[5 rows x 55 columns]\n"
     ]
    }
   ],
   "source": [
    "# set class as int and set 1...n to 0...n-1\n",
    "df = pd.read_csv('datasets/Multiclass/covtype.scale01.csv', header=None)\n",
    "print(df.head())\n",
    "df_class = df[0].astype(int)\n",
    "print(np.unique(df_class.to_numpy()))\n",
    "df_class -= 1\n",
    "print(np.unique(df_class.to_numpy()))\n",
    "df[0] = df_class\n",
    "print(df.head())\n",
    "df.to_csv('datasets/Multiclass/covtype.scale01.csv', index=False)"
   ]
  },
  {
   "cell_type": "code",
   "execution_count": 23,
   "metadata": {},
   "outputs": [
    {
     "output_type": "execute_result",
     "data": {
      "text/plain": [
       "581012"
      ]
     },
     "metadata": {},
     "execution_count": 23
    }
   ],
   "source": [
    "# shuffle data and split into test and train\n",
    "df = pd.read_csv('datasets/Multiclass/covtype.scale01.csv')\n",
    "len(df)"
   ]
  },
  {
   "cell_type": "code",
   "execution_count": 25,
   "metadata": {},
   "outputs": [],
   "source": [
    "df = df.sample(frac=1)"
   ]
  },
  {
   "cell_type": "code",
   "execution_count": 28,
   "metadata": {},
   "outputs": [],
   "source": [
    "df_train = df[:400000]\n",
    "df_test = df[400001:]\n",
    "df_test.to_csv('datasets/Multiclass/covtype.scale01.test.csv', index=False)\n",
    "df_train.to_csv('datasets/Multiclass/covtype.scale01.train.csv', index=False)\n"
   ]
  },
  {
   "cell_type": "code",
   "execution_count": 29,
   "metadata": {},
   "outputs": [],
   "source": [
    "df = pd.read_csv('datasets/Multiclass/har_train.csv', header = None)"
   ]
  },
  {
   "cell_type": "code",
   "execution_count": 32,
   "metadata": {},
   "outputs": [
    {
     "output_type": "execute_result",
     "data": {
      "text/plain": [
       "0       4\n",
       "1       3\n",
       "2       4\n",
       "3       4\n",
       "4       1\n",
       "       ..\n",
       "7347    3\n",
       "7348    0\n",
       "7349    2\n",
       "7350    3\n",
       "7351    5\n",
       "Name: 561, Length: 7352, dtype: int64"
      ]
     },
     "metadata": {},
     "execution_count": 32
    }
   ],
   "source": [
    "df[561]"
   ]
  },
  {
   "cell_type": "code",
   "execution_count": null,
   "metadata": {},
   "outputs": [],
   "source": []
  }
 ]
}