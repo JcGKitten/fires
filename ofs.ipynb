{
 "metadata": {
  "language_info": {
   "codemirror_mode": {
    "name": "ipython",
    "version": 3
   },
   "file_extension": ".py",
   "mimetype": "text/x-python",
   "name": "python",
   "nbconvert_exporter": "python",
   "pygments_lexer": "ipython3",
   "version": "3.8.5-final"
  },
  "orig_nbformat": 2,
  "kernelspec": {
   "name": "python3",
   "display_name": "Python 3",
   "language": "python"
  }
 },
 "nbformat": 4,
 "nbformat_minor": 2,
 "cells": [
  {
   "source": [
    "## OFS via Sparse Projection"
   ],
   "cell_type": "markdown",
   "metadata": {}
  },
  {
   "cell_type": "code",
   "execution_count": 1,
   "metadata": {},
   "outputs": [],
   "source": [
    "# libraries"
   ]
  },
  {
   "cell_type": "code",
   "execution_count": 2,
   "metadata": {},
   "outputs": [],
   "source": [
    "# parameters\n",
    "reg_lambda = 0 # regularization parameter\n",
    "eta = 1 # step size\n",
    "B = # no. selected features"
   ]
  },
  {
   "cell_type": "code",
   "execution_count": 3,
   "metadata": {},
   "outputs": [
    {
     "output_type": "execute_result",
     "data": {
      "text/plain": [
       "array([5, 3, 2, 2, 1, 1, 0, 0, 0])"
      ]
     },
     "metadata": {},
     "execution_count": 3
    }
   ],
   "source": [
    "import numpy as np\n",
    "\n",
    "test = np.array((1,5,3,0,2,1,0,0,2,0,0,0,0,0,0,0,0,0))\n",
    "test[np.argsort(test)[::-1][:9]]"
   ]
  },
  {
   "cell_type": "code",
   "execution_count": null,
   "metadata": {},
   "outputs": [],
   "source": [
    "\n"
   ]
  },
  {
   "cell_type": "code",
   "execution_count": 9,
   "metadata": {},
   "outputs": [
    {
     "output_type": "execute_result",
     "data": {
      "text/plain": [
       "2.0"
      ]
     },
     "metadata": {},
     "execution_count": 9
    }
   ],
   "source": [
    "np.linalg.norm(np.array((1,1,1,1)))"
   ]
  },
  {
   "source": [
    "### Multiclass Case\n",
    "- more then one vector perceptron\n"
   ],
   "cell_type": "markdown",
   "metadata": {}
  },
  {
   "cell_type": "code",
   "execution_count": null,
   "metadata": {},
   "outputs": [],
   "source": [
    "# ofs via sparse projection\n",
    "import numpy as np\n",
    "\n",
    "class OFS:\n",
    "    def __init__(regularization_param, step_size, n_selected_ftr, n_total_ftr):\n",
    "        self.regularization_param = regularization_param\n",
    "        self.step_size = step_size\n",
    "        self.n_selected_ftr = n_selected_ftr\n",
    "        self.w = np.zeros(n_total_ftr)\n",
    "    \n",
    "\n",
    "    def train(self, x, y):\n",
    "\n",
    "        if np.dot(x, self.w) * y <= 1: # should be 0, shouldn't it\n",
    "            w_tilde = (1-self.regularization_param * self.step_size)*self.w + self.step_size * y * x\n",
    "            w_hat = min(1, (1/np.sqrt(self.regularization_param)) / np.linalg.norm(w_tilde) )*w_tilde\n",
    "            self.w = self.__truncate(w_hat, self.n_selected_ftr)\n",
    "        else:\n",
    "            self.w *= (1-self.regularization_param*self.step_size)\n",
    "\n",
    "    def __truncate(self, weights_array, B):\n",
    "    w = np.zeros(len(weights_array))\n",
    "    indeces = np.argsort(weights_array)[::-1][:B-1]\n",
    "    w[indeces] = weights_array[indecies]\n",
    "    return w\n",
    "\n",
    "    def get_feature_indices(self, ):\n",
    "        return np.argsort(self.w)[::-1][:self.n_selected_ftr - 1]"
   ]
  }
 ]
}