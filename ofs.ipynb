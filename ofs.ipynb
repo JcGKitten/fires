{
 "metadata": {
  "language_info": {
   "codemirror_mode": {
    "name": "ipython",
    "version": 3
   },
   "file_extension": ".py",
   "mimetype": "text/x-python",
   "name": "python",
   "nbconvert_exporter": "python",
   "pygments_lexer": "ipython3",
   "version": "3.8.5-final"
  },
  "orig_nbformat": 2,
  "kernelspec": {
   "name": "python3",
   "display_name": "Python 3",
   "language": "python"
  }
 },
 "nbformat": 4,
 "nbformat_minor": 2,
 "cells": [
  {
   "source": [
    "## OFS via Sparse Projection\n",
    "\n",
    "As given by Online Feature Selection and its Applications.\n",
    "\n",
    "- shouldn't the threshold within the training function be zero not one?\n",
    "- the original code wasn't available anymore\n",
    "  - neither here https://www.stevenhoi.com/publications\n",
    "  - or here http://OFS.stevenhoi.org/\n",
    "- found implementations:\n",
    "  - matlap: https://github.com/Isilendil/OFS\n",
    "  - java: https://github.com/mbdemoraes/moafs\n"
   ],
   "cell_type": "markdown",
   "metadata": {}
  },
  {
   "cell_type": "code",
   "execution_count": 29,
   "metadata": {},
   "outputs": [],
   "source": [
    "# ofs via sparse projection\n",
    "import numpy as np\n",
    "\n",
    "class OFS:\n",
    "    def __init__(self, regularization_param, step_size, n_selected_ftr, n_total_ftr):\n",
    "        self.regularization_param = regularization_param\n",
    "        self.step_size = step_size\n",
    "        self.n_selected_ftr = n_selected_ftr\n",
    "        self.w = np.zeros(n_total_ftr)\n",
    "    \n",
    "\n",
    "    def train(self, x, y):\n",
    "\n",
    "        if np.dot(x, self.w) * y <= 1: # should be 0, shouldn't it\n",
    "            w_tilde = (1-self.regularization_param * self.step_size)*self.w + self.step_size * y * x\n",
    "            w_hat = min(1, (1/np.sqrt(self.regularization_param)) / np.linalg.norm(w_tilde) )*w_tilde\n",
    "            self.w = self.__truncate(w_hat, self.n_selected_ftr)\n",
    "        else:\n",
    "            self.w *= (1-self.regularization_param*self.step_size)\n",
    "\n",
    "    def __truncate(self, weights_array, B):\n",
    "        w = np.zeros(len(weights_array))\n",
    "        indeces = np.argsort(weights_array)[::-1][:B-1]\n",
    "        w[indeces] = weights_array[indecies]\n",
    "        return w\n",
    "\n",
    "    def get_feature_indices(self, ):\n",
    "        return np.argsort(self.w)[::-1][:self.n_selected_ftr - 1]"
   ]
  },
  {
   "cell_type": "code",
   "execution_count": 21,
   "metadata": {},
   "outputs": [],
   "source": [
    "# normalize data\n",
    "import pandas as pd\n",
    "from sklearn.preprocessing import MinMaxScaler\n",
    "sc = MinMaxScaler()\n",
    "\n",
    "df = pd.read_csv(\"/home/kitten/BA_FIRES/datasets/binary/shuffle_spambase.csv\")\n",
    "df_class_col = df['class']\n",
    "df_class_col\n",
    "\n",
    "df_scaled = pd.DataFrame(sc.fit_transform(df))\n",
    "df_scaled.columns = df.columns\n",
    "\n",
    "df_scaled['class'] = df_class_col\n",
    "df_scaled.head()\n",
    "df_scaled.to_csv(\"/home/kitten/BA_FIRES/datasets/binary/shuffle_spambase_normalized.csv\", index=False)"
   ]
  },
  {
   "cell_type": "code",
   "execution_count": 33,
   "metadata": {},
   "outputs": [
    {
     "output_type": "error",
     "ename": "NameError",
     "evalue": "name 'ftr_selection' is not defined",
     "traceback": [
      "\u001b[0;31m---------------------------------------------------------------------------\u001b[0m",
      "\u001b[0;31mNameError\u001b[0m                                 Traceback (most recent call last)",
      "\u001b[0;32m<ipython-input-33-9270a565ff5a>\u001b[0m in \u001b[0;36m<module>\u001b[0;34m\u001b[0m\n\u001b[1;32m     24\u001b[0m     \u001b[0;31m# Truncate x (retain only selected features, 'remove' all others, e.g. by replacing them with 0)\u001b[0m\u001b[0;34m\u001b[0m\u001b[0;34m\u001b[0m\u001b[0;34m\u001b[0m\u001b[0m\n\u001b[1;32m     25\u001b[0m     \u001b[0mx_reduced\u001b[0m \u001b[0;34m=\u001b[0m \u001b[0mnp\u001b[0m\u001b[0;34m.\u001b[0m\u001b[0mzeros\u001b[0m\u001b[0;34m(\u001b[0m\u001b[0mx\u001b[0m\u001b[0;34m.\u001b[0m\u001b[0mshape\u001b[0m\u001b[0;34m)\u001b[0m\u001b[0;34m\u001b[0m\u001b[0;34m\u001b[0m\u001b[0m\n\u001b[0;32m---> 26\u001b[0;31m     \u001b[0mx_reduced\u001b[0m\u001b[0;34m[\u001b[0m\u001b[0;34m:\u001b[0m\u001b[0;34m,\u001b[0m \u001b[0mftr_selection\u001b[0m\u001b[0;34m]\u001b[0m \u001b[0;34m=\u001b[0m \u001b[0mx\u001b[0m\u001b[0;34m[\u001b[0m\u001b[0;34m:\u001b[0m\u001b[0;34m,\u001b[0m \u001b[0mftr_selection\u001b[0m\u001b[0;34m]\u001b[0m\u001b[0;34m\u001b[0m\u001b[0;34m\u001b[0m\u001b[0m\n\u001b[0m\u001b[1;32m     27\u001b[0m \u001b[0;34m\u001b[0m\u001b[0m\n\u001b[1;32m     28\u001b[0m     \u001b[0;31m# Test\u001b[0m\u001b[0;34m\u001b[0m\u001b[0;34m\u001b[0m\u001b[0;34m\u001b[0m\u001b[0m\n",
      "\u001b[0;31mNameError\u001b[0m: name 'ftr_selection' is not defined"
     ]
    }
   ],
   "source": [
    "# use OFS\n",
    "import numpy as np\n",
    "from skmultiflow.data import FileStream\n",
    "from skmultiflow.neural_networks import PerceptronMask\n",
    "from sklearn.metrics import accuracy_score\n",
    "\n",
    "stream = FileStream('/home/kitten/BA_FIRES/datasets/binary/shuffle_spambase_normalized.csv', target_idx=57)\n",
    "stream.prepare_for_use()\n",
    "\n",
    "n_selected_ftr = 10\n",
    "\n",
    "ofs = OFS(regularization_param = 0.01, step_size = 0.1, n_selected_ftr=n_selected_ftr, n_total_ftr=stream.n_num_features)\n",
    "\n",
    "\n",
    "\n",
    "\n",
    "while stream.has_more_samples():\n",
    "    # Load a new sample\n",
    "    x, y = stream.next_sample(batch_size=1)\n",
    "\n",
    "    # Select features\n",
    "    \n",
    "\n",
    "    # Truncate x (retain only selected features, 'remove' all others, e.g. by replacing them with 0)\n",
    "    x_reduced = np.zeros(x.shape)\n",
    "    x_reduced[:, ftr_selection] = x[:, ftr_selection]\n",
    "\n",
    "    # Test\n",
    "    y_pred = predictor.predict(x)\n",
    "    print(accuracy_score(y, y_pred))\n",
    "\n",
    "    # Train\n",
    "    predictor.partial_fit(x, y)\n",
    "\n",
    "# Restart the FileStream\n",
    "stream.restart()"
   ]
  },
  {
   "cell_type": "code",
   "execution_count": 25,
   "metadata": {},
   "outputs": [
    {
     "output_type": "execute_result",
     "data": {
      "text/plain": [
       "57"
      ]
     },
     "metadata": {},
     "execution_count": 25
    }
   ],
   "source": [
    "stream.n_num_features"
   ]
  },
  {
   "cell_type": "code",
   "execution_count": null,
   "metadata": {},
   "outputs": [],
   "source": []
  },
  {
   "source": [
    "### Multiclass Case\n",
    "- more then one vector perceptron\n",
    "- maybe build mean over all vectors befor truncation\n"
   ],
   "cell_type": "markdown",
   "metadata": {}
  }
 ]
}