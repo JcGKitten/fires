{
 "metadata": {
  "language_info": {
   "codemirror_mode": {
    "name": "ipython",
    "version": 3
   },
   "file_extension": ".py",
   "mimetype": "text/x-python",
   "name": "python",
   "nbconvert_exporter": "python",
   "pygments_lexer": "ipython3",
   "version": "3.8.5-final"
  },
  "orig_nbformat": 2,
  "kernelspec": {
   "name": "python3",
   "display_name": "Python 3"
  }
 },
 "nbformat": 4,
 "nbformat_minor": 2,
 "cells": [
  {
   "source": [
    "## Python Softmax Regression\n",
    "\n",
    "see http://www.datascribble.com/blog/machine-learning/introduction-softmax-regression-codes-python/"
   ],
   "cell_type": "markdown",
   "metadata": {}
  },
  {
   "cell_type": "code",
   "execution_count": 2,
   "metadata": {},
   "outputs": [],
   "source": [
    "# libraries\n",
    "import pandas as pd\n",
    "import numpy as np\n",
    "from sklearn.model_selection import train_test_split\n",
    "import math\n",
    "import warnings\n",
    "\n",
    "warnings.filterwarnings('ignore')"
   ]
  },
  {
   "cell_type": "code",
   "execution_count": 45,
   "metadata": {},
   "outputs": [],
   "source": [
    "# phi fun: parameter matrix theta, feature vector x\n",
    "def phi(i, theta, x): #i goes from 1 to k\n",
    "    mat_theta = np.matrix(theta[i])\n",
    "    mat_x = np.matrix(x)\n",
    "    num = math.exp(np.dot(mat_theta, mat_x.T))\n",
    "    den = 0\n",
    "    for j in range(0, k):\n",
    "        mat_theta_j = np.matrix(theta[j])\n",
    "        den = den + math.exp(np.dot(mat_theta_j, mat_x.T))\n",
    "    phi_i = num/den\n",
    "    return phi_i"
   ]
  },
  {
   "cell_type": "code",
   "execution_count": 4,
   "metadata": {},
   "outputs": [
    {
     "output_type": "execute_result",
     "data": {
      "text/plain": [
       "3"
      ]
     },
     "metadata": {},
     "execution_count": 4
    }
   ],
   "source": [
    "#testing\n",
    "x = [1, 3,4,5,2,1,45,6,2]\n",
    "x = np.matrix(x)\n",
    "x[0,1]"
   ]
  },
  {
   "cell_type": "code",
   "execution_count": 5,
   "metadata": {},
   "outputs": [],
   "source": [
    "# indicator function\n",
    "def indicator(a, b):\n",
    "    if a == b: return 1\n",
    "    else: return 0"
   ]
  },
  {
   "cell_type": "code",
   "execution_count": 50,
   "metadata": {},
   "outputs": [],
   "source": [
    "def get__der_grad(j, theta):\n",
    "    sum = np.array([0 for i in range(0, n+1)])\n",
    "    for i in range(0,m): #m noumber of trainig samples\n",
    "       # print(j , \" \" , theta , ' ' , x.loc[i])\n",
    "        p = indicator(y[i], j) - phi(j, theta, x.loc[i])\n",
    "        sum = sum + (x.loc[i] * p)\n",
    "    grad = -sum/m \n",
    "    return grad"
   ]
  },
  {
   "cell_type": "code",
   "execution_count": 52,
   "metadata": {},
   "outputs": [],
   "source": [
    "def gradient_descent(theta, alpha = 1/(10^4), iters = 500):\n",
    "    for j in range(0, k):\n",
    "        #print(j)\n",
    "        for iter in range(iters):\n",
    "           # print('iter:'+ str(iter))\n",
    "            theta[j] = theta[j] - alpha * get__der_grad(j, theta)\n",
    "    print(\"running iterations\")\n",
    "    return theta"
   ]
  },
  {
   "cell_type": "code",
   "execution_count": 66,
   "metadata": {},
   "outputs": [],
   "source": [
    "def h_theta(x): \n",
    "    x = np.matrix(x)\n",
    "    h_matrix = np.empty((k,1))\n",
    "    den = 0\n",
    "    for j in range(0, k):\n",
    "        den = den + math.exp(np.dot(theta_dash[j], x.T))\n",
    "    for i in range(0, k):\n",
    "        h_matrix[i] = math.exp(np.dot(theta_dash[i], x.T))\n",
    "    h_matrix = h_matrix/den\n",
    "    return h_matrix"
   ]
  },
  {
   "cell_type": "code",
   "execution_count": 9,
   "metadata": {},
   "outputs": [],
   "source": [
    "iris = pd.read_csv('iris.data.txt')\n",
    "iris.columns = ['sepal_length', 'sepal_width', 'petal_length', 'petal_width', 'class']"
   ]
  },
  {
   "cell_type": "code",
   "execution_count": 10,
   "metadata": {},
   "outputs": [
    {
     "output_type": "execute_result",
     "data": {
      "text/plain": [
       "     sepal_length  sepal_width  petal_length  petal_width           class\n",
       "0             5.1          3.5           1.4          0.2     Iris-setosa\n",
       "1             4.9          3.0           1.4          0.2     Iris-setosa\n",
       "2             4.7          3.2           1.3          0.2     Iris-setosa\n",
       "3             4.6          3.1           1.5          0.2     Iris-setosa\n",
       "4             5.0          3.6           1.4          0.2     Iris-setosa\n",
       "..            ...          ...           ...          ...             ...\n",
       "145           6.7          3.0           5.2          2.3  Iris-virginica\n",
       "146           6.3          2.5           5.0          1.9  Iris-virginica\n",
       "147           6.5          3.0           5.2          2.0  Iris-virginica\n",
       "148           6.2          3.4           5.4          2.3  Iris-virginica\n",
       "149           5.9          3.0           5.1          1.8  Iris-virginica\n",
       "\n",
       "[150 rows x 5 columns]"
      ],
      "text/html": "<div>\n<style scoped>\n    .dataframe tbody tr th:only-of-type {\n        vertical-align: middle;\n    }\n\n    .dataframe tbody tr th {\n        vertical-align: top;\n    }\n\n    .dataframe thead th {\n        text-align: right;\n    }\n</style>\n<table border=\"1\" class=\"dataframe\">\n  <thead>\n    <tr style=\"text-align: right;\">\n      <th></th>\n      <th>sepal_length</th>\n      <th>sepal_width</th>\n      <th>petal_length</th>\n      <th>petal_width</th>\n      <th>class</th>\n    </tr>\n  </thead>\n  <tbody>\n    <tr>\n      <th>0</th>\n      <td>5.1</td>\n      <td>3.5</td>\n      <td>1.4</td>\n      <td>0.2</td>\n      <td>Iris-setosa</td>\n    </tr>\n    <tr>\n      <th>1</th>\n      <td>4.9</td>\n      <td>3.0</td>\n      <td>1.4</td>\n      <td>0.2</td>\n      <td>Iris-setosa</td>\n    </tr>\n    <tr>\n      <th>2</th>\n      <td>4.7</td>\n      <td>3.2</td>\n      <td>1.3</td>\n      <td>0.2</td>\n      <td>Iris-setosa</td>\n    </tr>\n    <tr>\n      <th>3</th>\n      <td>4.6</td>\n      <td>3.1</td>\n      <td>1.5</td>\n      <td>0.2</td>\n      <td>Iris-setosa</td>\n    </tr>\n    <tr>\n      <th>4</th>\n      <td>5.0</td>\n      <td>3.6</td>\n      <td>1.4</td>\n      <td>0.2</td>\n      <td>Iris-setosa</td>\n    </tr>\n    <tr>\n      <th>...</th>\n      <td>...</td>\n      <td>...</td>\n      <td>...</td>\n      <td>...</td>\n      <td>...</td>\n    </tr>\n    <tr>\n      <th>145</th>\n      <td>6.7</td>\n      <td>3.0</td>\n      <td>5.2</td>\n      <td>2.3</td>\n      <td>Iris-virginica</td>\n    </tr>\n    <tr>\n      <th>146</th>\n      <td>6.3</td>\n      <td>2.5</td>\n      <td>5.0</td>\n      <td>1.9</td>\n      <td>Iris-virginica</td>\n    </tr>\n    <tr>\n      <th>147</th>\n      <td>6.5</td>\n      <td>3.0</td>\n      <td>5.2</td>\n      <td>2.0</td>\n      <td>Iris-virginica</td>\n    </tr>\n    <tr>\n      <th>148</th>\n      <td>6.2</td>\n      <td>3.4</td>\n      <td>5.4</td>\n      <td>2.3</td>\n      <td>Iris-virginica</td>\n    </tr>\n    <tr>\n      <th>149</th>\n      <td>5.9</td>\n      <td>3.0</td>\n      <td>5.1</td>\n      <td>1.8</td>\n      <td>Iris-virginica</td>\n    </tr>\n  </tbody>\n</table>\n<p>150 rows × 5 columns</p>\n</div>"
     },
     "metadata": {},
     "execution_count": 10
    }
   ],
   "source": [
    "iris"
   ]
  },
  {
   "cell_type": "code",
   "execution_count": 11,
   "metadata": {},
   "outputs": [],
   "source": [
    "train, test = train_test_split(iris, test_size = 0.3)\n",
    "train = train.reset_index()\n",
    "test = test.reset_index()"
   ]
  },
  {
   "cell_type": "code",
   "execution_count": 12,
   "metadata": {},
   "outputs": [],
   "source": [
    "x = train[['sepal_length', 'sepal_width', 'petal_length', 'petal_width']]\n",
    "n = x.shape[1]\n",
    "m = x.shape[0]"
   ]
  },
  {
   "cell_type": "code",
   "execution_count": 13,
   "metadata": {},
   "outputs": [
    {
     "output_type": "execute_result",
     "data": {
      "text/plain": [
       "0    37\n",
       "2    35\n",
       "1    33\n",
       "Name: class, dtype: int64"
      ]
     },
     "metadata": {},
     "execution_count": 13
    }
   ],
   "source": [
    "y = train['class']\n",
    "k = len(y.unique())\n",
    "y = y.map({'Iris-setosa':0, 'Iris-versicolor':1, 'Iris-virginica':2})\n",
    "y.value_counts()\n"
   ]
  },
  {
   "cell_type": "code",
   "execution_count": 53,
   "metadata": {},
   "outputs": [
    {
     "output_type": "execute_result",
     "data": {
      "text/plain": [
       "(105, 5)"
      ]
     },
     "metadata": {},
     "execution_count": 53
    }
   ],
   "source": [
    "# intercept part for lines fitted for our model\n",
    "x[5] = np.ones(x.shape[0])\n",
    "x.shape"
   ]
  },
  {
   "cell_type": "code",
   "execution_count": 54,
   "metadata": {},
   "outputs": [
    {
     "output_type": "stream",
     "name": "stdout",
     "text": [
      "running iterations\n"
     ]
    }
   ],
   "source": [
    "# start training \n",
    "# theta empty kxn+1 matrix\n",
    "theta = np.empty((k,n+1))\n",
    "\n",
    "# find parameters, apply gradient_descent(theta)\n",
    "theta_dash = gradient_descent(theta)"
   ]
  },
  {
   "cell_type": "code",
   "execution_count": 55,
   "metadata": {},
   "outputs": [
    {
     "output_type": "execute_result",
     "data": {
      "text/plain": [
       "array([[ 0.62130655,  1.72493886, -2.63884983, -1.20227395,  0.35212048],\n",
       "       [ 0.57658697,  0.20291812, -0.65084351, -0.98836168,  0.3691015 ],\n",
       "       [-0.73471921, -0.9251635 ,  1.19161034,  1.0284434 , -0.46033265]])"
      ]
     },
     "metadata": {},
     "execution_count": 55
    }
   ],
   "source": [
    "theta_dash\n"
   ]
  },
  {
   "cell_type": "code",
   "execution_count": 57,
   "metadata": {},
   "outputs": [
    {
     "output_type": "stream",
     "name": "stdout",
     "text": [
      "45 4\n"
     ]
    }
   ],
   "source": [
    "#apply model\n",
    "x_u = test[['sepal_length', \"sepal_width\", \"petal_length\", \"petal_width\"]]\n",
    "n = x_u.shape[1]\n",
    "m = x_u.shape[0]\n",
    "print(m, n)"
   ]
  },
  {
   "cell_type": "code",
   "execution_count": 58,
   "metadata": {},
   "outputs": [
    {
     "output_type": "execute_result",
     "data": {
      "text/plain": [
       "    sepal_length  sepal_width  petal_length  petal_width\n",
       "0            5.8          2.8           5.1          2.4\n",
       "1            6.3          3.4           5.6          2.4\n",
       "2            7.7          3.0           6.1          2.3\n",
       "3            5.2          2.7           3.9          1.4\n",
       "4            6.4          3.1           5.5          1.8\n",
       "5            5.1          3.5           1.4          0.3\n",
       "6            4.9          3.0           1.4          0.2\n",
       "7            6.2          2.2           4.5          1.5\n",
       "8            6.4          2.9           4.3          1.3\n",
       "9            7.3          2.9           6.3          1.8\n",
       "10           6.7          3.1           5.6          2.4\n",
       "11           5.2          3.5           1.5          0.2\n",
       "12           5.8          2.7           4.1          1.0\n",
       "13           5.6          2.9           3.6          1.3\n",
       "14           6.5          3.0           5.8          2.2\n",
       "15           5.1          3.8           1.9          0.4\n",
       "16           6.8          2.8           4.8          1.4\n",
       "17           5.7          3.0           4.2          1.2\n",
       "18           5.4          3.4           1.7          0.2\n",
       "19           5.5          2.5           4.0          1.3\n",
       "20           4.3          3.0           1.1          0.1\n",
       "21           4.7          3.2           1.3          0.2\n",
       "22           6.3          2.5           5.0          1.9\n",
       "23           6.8          3.2           5.9          2.3\n",
       "24           4.9          2.4           3.3          1.0\n",
       "25           4.9          3.1           1.5          0.1\n",
       "26           6.5          2.8           4.6          1.5\n",
       "27           5.9          3.0           5.1          1.8\n",
       "28           5.1          3.4           1.5          0.2\n",
       "29           6.9          3.1           4.9          1.5\n",
       "30           6.0          2.2           4.0          1.0\n",
       "31           6.9          3.1           5.4          2.1\n",
       "32           5.0          3.6           1.4          0.2\n",
       "33           7.7          2.6           6.9          2.3\n",
       "34           5.7          2.8           4.1          1.3\n",
       "35           6.9          3.2           5.7          2.3\n",
       "36           6.6          3.0           4.4          1.4\n",
       "37           5.2          4.1           1.5          0.1\n",
       "38           4.6          3.2           1.4          0.2\n",
       "39           6.1          2.8           4.7          1.2\n",
       "40           5.5          2.4           3.8          1.1\n",
       "41           7.7          3.8           6.7          2.2\n",
       "42           5.7          2.6           3.5          1.0\n",
       "43           4.9          3.1           1.5          0.1\n",
       "44           6.7          3.3           5.7          2.1"
      ],
      "text/html": "<div>\n<style scoped>\n    .dataframe tbody tr th:only-of-type {\n        vertical-align: middle;\n    }\n\n    .dataframe tbody tr th {\n        vertical-align: top;\n    }\n\n    .dataframe thead th {\n        text-align: right;\n    }\n</style>\n<table border=\"1\" class=\"dataframe\">\n  <thead>\n    <tr style=\"text-align: right;\">\n      <th></th>\n      <th>sepal_length</th>\n      <th>sepal_width</th>\n      <th>petal_length</th>\n      <th>petal_width</th>\n    </tr>\n  </thead>\n  <tbody>\n    <tr>\n      <th>0</th>\n      <td>5.8</td>\n      <td>2.8</td>\n      <td>5.1</td>\n      <td>2.4</td>\n    </tr>\n    <tr>\n      <th>1</th>\n      <td>6.3</td>\n      <td>3.4</td>\n      <td>5.6</td>\n      <td>2.4</td>\n    </tr>\n    <tr>\n      <th>2</th>\n      <td>7.7</td>\n      <td>3.0</td>\n      <td>6.1</td>\n      <td>2.3</td>\n    </tr>\n    <tr>\n      <th>3</th>\n      <td>5.2</td>\n      <td>2.7</td>\n      <td>3.9</td>\n      <td>1.4</td>\n    </tr>\n    <tr>\n      <th>4</th>\n      <td>6.4</td>\n      <td>3.1</td>\n      <td>5.5</td>\n      <td>1.8</td>\n    </tr>\n    <tr>\n      <th>5</th>\n      <td>5.1</td>\n      <td>3.5</td>\n      <td>1.4</td>\n      <td>0.3</td>\n    </tr>\n    <tr>\n      <th>6</th>\n      <td>4.9</td>\n      <td>3.0</td>\n      <td>1.4</td>\n      <td>0.2</td>\n    </tr>\n    <tr>\n      <th>7</th>\n      <td>6.2</td>\n      <td>2.2</td>\n      <td>4.5</td>\n      <td>1.5</td>\n    </tr>\n    <tr>\n      <th>8</th>\n      <td>6.4</td>\n      <td>2.9</td>\n      <td>4.3</td>\n      <td>1.3</td>\n    </tr>\n    <tr>\n      <th>9</th>\n      <td>7.3</td>\n      <td>2.9</td>\n      <td>6.3</td>\n      <td>1.8</td>\n    </tr>\n    <tr>\n      <th>10</th>\n      <td>6.7</td>\n      <td>3.1</td>\n      <td>5.6</td>\n      <td>2.4</td>\n    </tr>\n    <tr>\n      <th>11</th>\n      <td>5.2</td>\n      <td>3.5</td>\n      <td>1.5</td>\n      <td>0.2</td>\n    </tr>\n    <tr>\n      <th>12</th>\n      <td>5.8</td>\n      <td>2.7</td>\n      <td>4.1</td>\n      <td>1.0</td>\n    </tr>\n    <tr>\n      <th>13</th>\n      <td>5.6</td>\n      <td>2.9</td>\n      <td>3.6</td>\n      <td>1.3</td>\n    </tr>\n    <tr>\n      <th>14</th>\n      <td>6.5</td>\n      <td>3.0</td>\n      <td>5.8</td>\n      <td>2.2</td>\n    </tr>\n    <tr>\n      <th>15</th>\n      <td>5.1</td>\n      <td>3.8</td>\n      <td>1.9</td>\n      <td>0.4</td>\n    </tr>\n    <tr>\n      <th>16</th>\n      <td>6.8</td>\n      <td>2.8</td>\n      <td>4.8</td>\n      <td>1.4</td>\n    </tr>\n    <tr>\n      <th>17</th>\n      <td>5.7</td>\n      <td>3.0</td>\n      <td>4.2</td>\n      <td>1.2</td>\n    </tr>\n    <tr>\n      <th>18</th>\n      <td>5.4</td>\n      <td>3.4</td>\n      <td>1.7</td>\n      <td>0.2</td>\n    </tr>\n    <tr>\n      <th>19</th>\n      <td>5.5</td>\n      <td>2.5</td>\n      <td>4.0</td>\n      <td>1.3</td>\n    </tr>\n    <tr>\n      <th>20</th>\n      <td>4.3</td>\n      <td>3.0</td>\n      <td>1.1</td>\n      <td>0.1</td>\n    </tr>\n    <tr>\n      <th>21</th>\n      <td>4.7</td>\n      <td>3.2</td>\n      <td>1.3</td>\n      <td>0.2</td>\n    </tr>\n    <tr>\n      <th>22</th>\n      <td>6.3</td>\n      <td>2.5</td>\n      <td>5.0</td>\n      <td>1.9</td>\n    </tr>\n    <tr>\n      <th>23</th>\n      <td>6.8</td>\n      <td>3.2</td>\n      <td>5.9</td>\n      <td>2.3</td>\n    </tr>\n    <tr>\n      <th>24</th>\n      <td>4.9</td>\n      <td>2.4</td>\n      <td>3.3</td>\n      <td>1.0</td>\n    </tr>\n    <tr>\n      <th>25</th>\n      <td>4.9</td>\n      <td>3.1</td>\n      <td>1.5</td>\n      <td>0.1</td>\n    </tr>\n    <tr>\n      <th>26</th>\n      <td>6.5</td>\n      <td>2.8</td>\n      <td>4.6</td>\n      <td>1.5</td>\n    </tr>\n    <tr>\n      <th>27</th>\n      <td>5.9</td>\n      <td>3.0</td>\n      <td>5.1</td>\n      <td>1.8</td>\n    </tr>\n    <tr>\n      <th>28</th>\n      <td>5.1</td>\n      <td>3.4</td>\n      <td>1.5</td>\n      <td>0.2</td>\n    </tr>\n    <tr>\n      <th>29</th>\n      <td>6.9</td>\n      <td>3.1</td>\n      <td>4.9</td>\n      <td>1.5</td>\n    </tr>\n    <tr>\n      <th>30</th>\n      <td>6.0</td>\n      <td>2.2</td>\n      <td>4.0</td>\n      <td>1.0</td>\n    </tr>\n    <tr>\n      <th>31</th>\n      <td>6.9</td>\n      <td>3.1</td>\n      <td>5.4</td>\n      <td>2.1</td>\n    </tr>\n    <tr>\n      <th>32</th>\n      <td>5.0</td>\n      <td>3.6</td>\n      <td>1.4</td>\n      <td>0.2</td>\n    </tr>\n    <tr>\n      <th>33</th>\n      <td>7.7</td>\n      <td>2.6</td>\n      <td>6.9</td>\n      <td>2.3</td>\n    </tr>\n    <tr>\n      <th>34</th>\n      <td>5.7</td>\n      <td>2.8</td>\n      <td>4.1</td>\n      <td>1.3</td>\n    </tr>\n    <tr>\n      <th>35</th>\n      <td>6.9</td>\n      <td>3.2</td>\n      <td>5.7</td>\n      <td>2.3</td>\n    </tr>\n    <tr>\n      <th>36</th>\n      <td>6.6</td>\n      <td>3.0</td>\n      <td>4.4</td>\n      <td>1.4</td>\n    </tr>\n    <tr>\n      <th>37</th>\n      <td>5.2</td>\n      <td>4.1</td>\n      <td>1.5</td>\n      <td>0.1</td>\n    </tr>\n    <tr>\n      <th>38</th>\n      <td>4.6</td>\n      <td>3.2</td>\n      <td>1.4</td>\n      <td>0.2</td>\n    </tr>\n    <tr>\n      <th>39</th>\n      <td>6.1</td>\n      <td>2.8</td>\n      <td>4.7</td>\n      <td>1.2</td>\n    </tr>\n    <tr>\n      <th>40</th>\n      <td>5.5</td>\n      <td>2.4</td>\n      <td>3.8</td>\n      <td>1.1</td>\n    </tr>\n    <tr>\n      <th>41</th>\n      <td>7.7</td>\n      <td>3.8</td>\n      <td>6.7</td>\n      <td>2.2</td>\n    </tr>\n    <tr>\n      <th>42</th>\n      <td>5.7</td>\n      <td>2.6</td>\n      <td>3.5</td>\n      <td>1.0</td>\n    </tr>\n    <tr>\n      <th>43</th>\n      <td>4.9</td>\n      <td>3.1</td>\n      <td>1.5</td>\n      <td>0.1</td>\n    </tr>\n    <tr>\n      <th>44</th>\n      <td>6.7</td>\n      <td>3.3</td>\n      <td>5.7</td>\n      <td>2.1</td>\n    </tr>\n  </tbody>\n</table>\n</div>"
     },
     "metadata": {},
     "execution_count": 58
    }
   ],
   "source": [
    "x_u"
   ]
  },
  {
   "cell_type": "code",
   "execution_count": 59,
   "metadata": {},
   "outputs": [
    {
     "output_type": "execute_result",
     "data": {
      "text/plain": [
       "1    17\n",
       "2    15\n",
       "0    13\n",
       "Name: class, dtype: int64"
      ]
     },
     "metadata": {},
     "execution_count": 59
    }
   ],
   "source": [
    "y_true = test['class']\n",
    "k = len(y_true.unique())\n",
    "y_true = y_true.map({\"Iris-setosa\": 0, 'Iris-versicolor': 1, 'Iris-virginica': 2})\n",
    "y_true.value_counts()"
   ]
  },
  {
   "cell_type": "code",
   "execution_count": 60,
   "metadata": {},
   "outputs": [
    {
     "output_type": "execute_result",
     "data": {
      "text/plain": [
       "(45, 5)"
      ]
     },
     "metadata": {},
     "execution_count": 60
    }
   ],
   "source": [
    "x_u[5] = np.ones(x_u.shape[0])\n",
    "x_u.shape"
   ]
  },
  {
   "cell_type": "code",
   "execution_count": 62,
   "metadata": {},
   "outputs": [
    {
     "output_type": "execute_result",
     "data": {
      "text/plain": [
       "array([1., 1., 1., 1., 1., 1., 1., 1., 1., 1., 1., 1., 1., 1., 1., 1., 1.,\n",
       "       1., 1., 1., 1., 1., 1., 1., 1., 1., 1., 1., 1., 1., 1., 1., 1., 1.,\n",
       "       1., 1., 1., 1., 1., 1., 1., 1., 1., 1., 1.])"
      ]
     },
     "metadata": {},
     "execution_count": 62
    }
   ],
   "source": [
    "np.ones(x_u.shape[0])"
   ]
  },
  {
   "cell_type": "code",
   "execution_count": 63,
   "metadata": {},
   "outputs": [
    {
     "output_type": "execute_result",
     "data": {
      "text/plain": [
       "(45, 5)"
      ]
     },
     "metadata": {},
     "execution_count": 63
    }
   ],
   "source": [
    "x_u.shape"
   ]
  },
  {
   "cell_type": "code",
   "execution_count": 67,
   "metadata": {},
   "outputs": [
    {
     "output_type": "stream",
     "name": "stdout",
     "text": [
      "index:  0  row:  sepal_length    5.8\nsepal_width     2.8\npetal_length    5.1\npetal_width     2.4\n5               1.0\nName: 0, dtype: float64\nindex:  1  row:  sepal_length    6.3\nsepal_width     3.4\npetal_length    5.6\npetal_width     2.4\n5               1.0\nName: 1, dtype: float64\nindex:  2  row:  sepal_length    7.7\nsepal_width     3.0\npetal_length    6.1\npetal_width     2.3\n5               1.0\nName: 2, dtype: float64\nindex:  3  row:  sepal_length    5.2\nsepal_width     2.7\npetal_length    3.9\npetal_width     1.4\n5               1.0\nName: 3, dtype: float64\nindex:  4  row:  sepal_length    6.4\nsepal_width     3.1\npetal_length    5.5\npetal_width     1.8\n5               1.0\nName: 4, dtype: float64\nindex:  5  row:  sepal_length    5.1\nsepal_width     3.5\npetal_length    1.4\npetal_width     0.3\n5               1.0\nName: 5, dtype: float64\nindex:  6  row:  sepal_length    4.9\nsepal_width     3.0\npetal_length    1.4\npetal_width     0.2\n5               1.0\nName: 6, dtype: float64\nindex:  7  row:  sepal_length    6.2\nsepal_width     2.2\npetal_length    4.5\npetal_width     1.5\n5               1.0\nName: 7, dtype: float64\nindex:  8  row:  sepal_length    6.4\nsepal_width     2.9\npetal_length    4.3\npetal_width     1.3\n5               1.0\nName: 8, dtype: float64\nindex:  9  row:  sepal_length    7.3\nsepal_width     2.9\npetal_length    6.3\npetal_width     1.8\n5               1.0\nName: 9, dtype: float64\nindex:  10  row:  sepal_length    6.7\nsepal_width     3.1\npetal_length    5.6\npetal_width     2.4\n5               1.0\nName: 10, dtype: float64\nindex:  11  row:  sepal_length    5.2\nsepal_width     3.5\npetal_length    1.5\npetal_width     0.2\n5               1.0\nName: 11, dtype: float64\nindex:  12  row:  sepal_length    5.8\nsepal_width     2.7\npetal_length    4.1\npetal_width     1.0\n5               1.0\nName: 12, dtype: float64\nindex:  13  row:  sepal_length    5.6\nsepal_width     2.9\npetal_length    3.6\npetal_width     1.3\n5               1.0\nName: 13, dtype: float64\nindex:  14  row:  sepal_length    6.5\nsepal_width     3.0\npetal_length    5.8\npetal_width     2.2\n5               1.0\nName: 14, dtype: float64\nindex:  15  row:  sepal_length    5.1\nsepal_width     3.8\npetal_length    1.9\npetal_width     0.4\n5               1.0\nName: 15, dtype: float64\nindex:  16  row:  sepal_length    6.8\nsepal_width     2.8\npetal_length    4.8\npetal_width     1.4\n5               1.0\nName: 16, dtype: float64\nindex:  17  row:  sepal_length    5.7\nsepal_width     3.0\npetal_length    4.2\npetal_width     1.2\n5               1.0\nName: 17, dtype: float64\nindex:  18  row:  sepal_length    5.4\nsepal_width     3.4\npetal_length    1.7\npetal_width     0.2\n5               1.0\nName: 18, dtype: float64\nindex:  19  row:  sepal_length    5.5\nsepal_width     2.5\npetal_length    4.0\npetal_width     1.3\n5               1.0\nName: 19, dtype: float64\nindex:  20  row:  sepal_length    4.3\nsepal_width     3.0\npetal_length    1.1\npetal_width     0.1\n5               1.0\nName: 20, dtype: float64\nindex:  21  row:  sepal_length    4.7\nsepal_width     3.2\npetal_length    1.3\npetal_width     0.2\n5               1.0\nName: 21, dtype: float64\nindex:  22  row:  sepal_length    6.3\nsepal_width     2.5\npetal_length    5.0\npetal_width     1.9\n5               1.0\nName: 22, dtype: float64\nindex:  23  row:  sepal_length    6.8\nsepal_width     3.2\npetal_length    5.9\npetal_width     2.3\n5               1.0\nName: 23, dtype: float64\nindex:  24  row:  sepal_length    4.9\nsepal_width     2.4\npetal_length    3.3\npetal_width     1.0\n5               1.0\nName: 24, dtype: float64\nindex:  25  row:  sepal_length    4.9\nsepal_width     3.1\npetal_length    1.5\npetal_width     0.1\n5               1.0\nName: 25, dtype: float64\nindex:  26  row:  sepal_length    6.5\nsepal_width     2.8\npetal_length    4.6\npetal_width     1.5\n5               1.0\nName: 26, dtype: float64\nindex:  27  row:  sepal_length    5.9\nsepal_width     3.0\npetal_length    5.1\npetal_width     1.8\n5               1.0\nName: 27, dtype: float64\nindex:  28  row:  sepal_length    5.1\nsepal_width     3.4\npetal_length    1.5\npetal_width     0.2\n5               1.0\nName: 28, dtype: float64\nindex:  29  row:  sepal_length    6.9\nsepal_width     3.1\npetal_length    4.9\npetal_width     1.5\n5               1.0\nName: 29, dtype: float64\nindex:  30  row:  sepal_length    6.0\nsepal_width     2.2\npetal_length    4.0\npetal_width     1.0\n5               1.0\nName: 30, dtype: float64\nindex:  31  row:  sepal_length    6.9\nsepal_width     3.1\npetal_length    5.4\npetal_width     2.1\n5               1.0\nName: 31, dtype: float64\nindex:  32  row:  sepal_length    5.0\nsepal_width     3.6\npetal_length    1.4\npetal_width     0.2\n5               1.0\nName: 32, dtype: float64\nindex:  33  row:  sepal_length    7.7\nsepal_width     2.6\npetal_length    6.9\npetal_width     2.3\n5               1.0\nName: 33, dtype: float64\nindex:  34  row:  sepal_length    5.7\nsepal_width     2.8\npetal_length    4.1\npetal_width     1.3\n5               1.0\nName: 34, dtype: float64\nindex:  35  row:  sepal_length    6.9\nsepal_width     3.2\npetal_length    5.7\npetal_width     2.3\n5               1.0\nName: 35, dtype: float64\nindex:  36  row:  sepal_length    6.6\nsepal_width     3.0\npetal_length    4.4\npetal_width     1.4\n5               1.0\nName: 36, dtype: float64\nindex:  37  row:  sepal_length    5.2\nsepal_width     4.1\npetal_length    1.5\npetal_width     0.1\n5               1.0\nName: 37, dtype: float64\nindex:  38  row:  sepal_length    4.6\nsepal_width     3.2\npetal_length    1.4\npetal_width     0.2\n5               1.0\nName: 38, dtype: float64\nindex:  39  row:  sepal_length    6.1\nsepal_width     2.8\npetal_length    4.7\npetal_width     1.2\n5               1.0\nName: 39, dtype: float64\nindex:  40  row:  sepal_length    5.5\nsepal_width     2.4\npetal_length    3.8\npetal_width     1.1\n5               1.0\nName: 40, dtype: float64\nindex:  41  row:  sepal_length    7.7\nsepal_width     3.8\npetal_length    6.7\npetal_width     2.2\n5               1.0\nName: 41, dtype: float64\nindex:  42  row:  sepal_length    5.7\nsepal_width     2.6\npetal_length    3.5\npetal_width     1.0\n5               1.0\nName: 42, dtype: float64\nindex:  43  row:  sepal_length    4.9\nsepal_width     3.1\npetal_length    1.5\npetal_width     0.1\n5               1.0\nName: 43, dtype: float64\nindex:  44  row:  sepal_length    6.7\nsepal_width     3.3\npetal_length    5.7\npetal_width     2.1\n5               1.0\nName: 44, dtype: float64\n"
     ]
    }
   ],
   "source": [
    "for index, row in x_u.iterrows():\n",
    "    print(\"index: \", index, \" row: \", row)\n",
    "    h_matrix = h_theta(row)\n",
    "    prediction = int(np.where(h_matrix == h_matrix.max())[0])\n",
    "    x_u.loc[index, 'prediction'] = prediction\n"
   ]
  },
  {
   "cell_type": "code",
   "execution_count": 68,
   "metadata": {},
   "outputs": [],
   "source": [
    "results = x_u\n",
    "results['actual'] = y_true"
   ]
  },
  {
   "cell_type": "code",
   "execution_count": 69,
   "metadata": {},
   "outputs": [
    {
     "output_type": "execute_result",
     "data": {
      "text/plain": [
       "    sepal_length  sepal_width  petal_length  petal_width    5  prediction  \\\n",
       "0            5.8          2.8           5.1          2.4  1.0         2.0   \n",
       "1            6.3          3.4           5.6          2.4  1.0         2.0   \n",
       "2            7.7          3.0           6.1          2.3  1.0         2.0   \n",
       "3            5.2          2.7           3.9          1.4  1.0         1.0   \n",
       "4            6.4          3.1           5.5          1.8  1.0         2.0   \n",
       "5            5.1          3.5           1.4          0.3  1.0         0.0   \n",
       "6            4.9          3.0           1.4          0.2  1.0         0.0   \n",
       "7            6.2          2.2           4.5          1.5  1.0         1.0   \n",
       "8            6.4          2.9           4.3          1.3  1.0         1.0   \n",
       "9            7.3          2.9           6.3          1.8  1.0         2.0   \n",
       "10           6.7          3.1           5.6          2.4  1.0         2.0   \n",
       "11           5.2          3.5           1.5          0.2  1.0         0.0   \n",
       "12           5.8          2.7           4.1          1.0  1.0         1.0   \n",
       "13           5.6          2.9           3.6          1.3  1.0         1.0   \n",
       "14           6.5          3.0           5.8          2.2  1.0         2.0   \n",
       "15           5.1          3.8           1.9          0.4  1.0         0.0   \n",
       "16           6.8          2.8           4.8          1.4  1.0         1.0   \n",
       "17           5.7          3.0           4.2          1.2  1.0         1.0   \n",
       "18           5.4          3.4           1.7          0.2  1.0         0.0   \n",
       "19           5.5          2.5           4.0          1.3  1.0         1.0   \n",
       "20           4.3          3.0           1.1          0.1  1.0         0.0   \n",
       "21           4.7          3.2           1.3          0.2  1.0         0.0   \n",
       "22           6.3          2.5           5.0          1.9  1.0         2.0   \n",
       "23           6.8          3.2           5.9          2.3  1.0         2.0   \n",
       "24           4.9          2.4           3.3          1.0  1.0         1.0   \n",
       "25           4.9          3.1           1.5          0.1  1.0         0.0   \n",
       "26           6.5          2.8           4.6          1.5  1.0         1.0   \n",
       "27           5.9          3.0           5.1          1.8  1.0         2.0   \n",
       "28           5.1          3.4           1.5          0.2  1.0         0.0   \n",
       "29           6.9          3.1           4.9          1.5  1.0         1.0   \n",
       "30           6.0          2.2           4.0          1.0  1.0         1.0   \n",
       "31           6.9          3.1           5.4          2.1  1.0         2.0   \n",
       "32           5.0          3.6           1.4          0.2  1.0         0.0   \n",
       "33           7.7          2.6           6.9          2.3  1.0         2.0   \n",
       "34           5.7          2.8           4.1          1.3  1.0         1.0   \n",
       "35           6.9          3.2           5.7          2.3  1.0         2.0   \n",
       "36           6.6          3.0           4.4          1.4  1.0         1.0   \n",
       "37           5.2          4.1           1.5          0.1  1.0         0.0   \n",
       "38           4.6          3.2           1.4          0.2  1.0         0.0   \n",
       "39           6.1          2.8           4.7          1.2  1.0         1.0   \n",
       "40           5.5          2.4           3.8          1.1  1.0         1.0   \n",
       "41           7.7          3.8           6.7          2.2  1.0         2.0   \n",
       "42           5.7          2.6           3.5          1.0  1.0         1.0   \n",
       "43           4.9          3.1           1.5          0.1  1.0         0.0   \n",
       "44           6.7          3.3           5.7          2.1  1.0         2.0   \n",
       "\n",
       "    actual  \n",
       "0        2  \n",
       "1        2  \n",
       "2        2  \n",
       "3        1  \n",
       "4        2  \n",
       "5        0  \n",
       "6        0  \n",
       "7        1  \n",
       "8        1  \n",
       "9        2  \n",
       "10       2  \n",
       "11       0  \n",
       "12       1  \n",
       "13       1  \n",
       "14       2  \n",
       "15       0  \n",
       "16       1  \n",
       "17       1  \n",
       "18       0  \n",
       "19       1  \n",
       "20       0  \n",
       "21       0  \n",
       "22       2  \n",
       "23       2  \n",
       "24       1  \n",
       "25       0  \n",
       "26       1  \n",
       "27       2  \n",
       "28       0  \n",
       "29       1  \n",
       "30       1  \n",
       "31       2  \n",
       "32       0  \n",
       "33       2  \n",
       "34       1  \n",
       "35       2  \n",
       "36       1  \n",
       "37       0  \n",
       "38       0  \n",
       "39       1  \n",
       "40       1  \n",
       "41       2  \n",
       "42       1  \n",
       "43       0  \n",
       "44       2  "
      ],
      "text/html": "<div>\n<style scoped>\n    .dataframe tbody tr th:only-of-type {\n        vertical-align: middle;\n    }\n\n    .dataframe tbody tr th {\n        vertical-align: top;\n    }\n\n    .dataframe thead th {\n        text-align: right;\n    }\n</style>\n<table border=\"1\" class=\"dataframe\">\n  <thead>\n    <tr style=\"text-align: right;\">\n      <th></th>\n      <th>sepal_length</th>\n      <th>sepal_width</th>\n      <th>petal_length</th>\n      <th>petal_width</th>\n      <th>5</th>\n      <th>prediction</th>\n      <th>actual</th>\n    </tr>\n  </thead>\n  <tbody>\n    <tr>\n      <th>0</th>\n      <td>5.8</td>\n      <td>2.8</td>\n      <td>5.1</td>\n      <td>2.4</td>\n      <td>1.0</td>\n      <td>2.0</td>\n      <td>2</td>\n    </tr>\n    <tr>\n      <th>1</th>\n      <td>6.3</td>\n      <td>3.4</td>\n      <td>5.6</td>\n      <td>2.4</td>\n      <td>1.0</td>\n      <td>2.0</td>\n      <td>2</td>\n    </tr>\n    <tr>\n      <th>2</th>\n      <td>7.7</td>\n      <td>3.0</td>\n      <td>6.1</td>\n      <td>2.3</td>\n      <td>1.0</td>\n      <td>2.0</td>\n      <td>2</td>\n    </tr>\n    <tr>\n      <th>3</th>\n      <td>5.2</td>\n      <td>2.7</td>\n      <td>3.9</td>\n      <td>1.4</td>\n      <td>1.0</td>\n      <td>1.0</td>\n      <td>1</td>\n    </tr>\n    <tr>\n      <th>4</th>\n      <td>6.4</td>\n      <td>3.1</td>\n      <td>5.5</td>\n      <td>1.8</td>\n      <td>1.0</td>\n      <td>2.0</td>\n      <td>2</td>\n    </tr>\n    <tr>\n      <th>5</th>\n      <td>5.1</td>\n      <td>3.5</td>\n      <td>1.4</td>\n      <td>0.3</td>\n      <td>1.0</td>\n      <td>0.0</td>\n      <td>0</td>\n    </tr>\n    <tr>\n      <th>6</th>\n      <td>4.9</td>\n      <td>3.0</td>\n      <td>1.4</td>\n      <td>0.2</td>\n      <td>1.0</td>\n      <td>0.0</td>\n      <td>0</td>\n    </tr>\n    <tr>\n      <th>7</th>\n      <td>6.2</td>\n      <td>2.2</td>\n      <td>4.5</td>\n      <td>1.5</td>\n      <td>1.0</td>\n      <td>1.0</td>\n      <td>1</td>\n    </tr>\n    <tr>\n      <th>8</th>\n      <td>6.4</td>\n      <td>2.9</td>\n      <td>4.3</td>\n      <td>1.3</td>\n      <td>1.0</td>\n      <td>1.0</td>\n      <td>1</td>\n    </tr>\n    <tr>\n      <th>9</th>\n      <td>7.3</td>\n      <td>2.9</td>\n      <td>6.3</td>\n      <td>1.8</td>\n      <td>1.0</td>\n      <td>2.0</td>\n      <td>2</td>\n    </tr>\n    <tr>\n      <th>10</th>\n      <td>6.7</td>\n      <td>3.1</td>\n      <td>5.6</td>\n      <td>2.4</td>\n      <td>1.0</td>\n      <td>2.0</td>\n      <td>2</td>\n    </tr>\n    <tr>\n      <th>11</th>\n      <td>5.2</td>\n      <td>3.5</td>\n      <td>1.5</td>\n      <td>0.2</td>\n      <td>1.0</td>\n      <td>0.0</td>\n      <td>0</td>\n    </tr>\n    <tr>\n      <th>12</th>\n      <td>5.8</td>\n      <td>2.7</td>\n      <td>4.1</td>\n      <td>1.0</td>\n      <td>1.0</td>\n      <td>1.0</td>\n      <td>1</td>\n    </tr>\n    <tr>\n      <th>13</th>\n      <td>5.6</td>\n      <td>2.9</td>\n      <td>3.6</td>\n      <td>1.3</td>\n      <td>1.0</td>\n      <td>1.0</td>\n      <td>1</td>\n    </tr>\n    <tr>\n      <th>14</th>\n      <td>6.5</td>\n      <td>3.0</td>\n      <td>5.8</td>\n      <td>2.2</td>\n      <td>1.0</td>\n      <td>2.0</td>\n      <td>2</td>\n    </tr>\n    <tr>\n      <th>15</th>\n      <td>5.1</td>\n      <td>3.8</td>\n      <td>1.9</td>\n      <td>0.4</td>\n      <td>1.0</td>\n      <td>0.0</td>\n      <td>0</td>\n    </tr>\n    <tr>\n      <th>16</th>\n      <td>6.8</td>\n      <td>2.8</td>\n      <td>4.8</td>\n      <td>1.4</td>\n      <td>1.0</td>\n      <td>1.0</td>\n      <td>1</td>\n    </tr>\n    <tr>\n      <th>17</th>\n      <td>5.7</td>\n      <td>3.0</td>\n      <td>4.2</td>\n      <td>1.2</td>\n      <td>1.0</td>\n      <td>1.0</td>\n      <td>1</td>\n    </tr>\n    <tr>\n      <th>18</th>\n      <td>5.4</td>\n      <td>3.4</td>\n      <td>1.7</td>\n      <td>0.2</td>\n      <td>1.0</td>\n      <td>0.0</td>\n      <td>0</td>\n    </tr>\n    <tr>\n      <th>19</th>\n      <td>5.5</td>\n      <td>2.5</td>\n      <td>4.0</td>\n      <td>1.3</td>\n      <td>1.0</td>\n      <td>1.0</td>\n      <td>1</td>\n    </tr>\n    <tr>\n      <th>20</th>\n      <td>4.3</td>\n      <td>3.0</td>\n      <td>1.1</td>\n      <td>0.1</td>\n      <td>1.0</td>\n      <td>0.0</td>\n      <td>0</td>\n    </tr>\n    <tr>\n      <th>21</th>\n      <td>4.7</td>\n      <td>3.2</td>\n      <td>1.3</td>\n      <td>0.2</td>\n      <td>1.0</td>\n      <td>0.0</td>\n      <td>0</td>\n    </tr>\n    <tr>\n      <th>22</th>\n      <td>6.3</td>\n      <td>2.5</td>\n      <td>5.0</td>\n      <td>1.9</td>\n      <td>1.0</td>\n      <td>2.0</td>\n      <td>2</td>\n    </tr>\n    <tr>\n      <th>23</th>\n      <td>6.8</td>\n      <td>3.2</td>\n      <td>5.9</td>\n      <td>2.3</td>\n      <td>1.0</td>\n      <td>2.0</td>\n      <td>2</td>\n    </tr>\n    <tr>\n      <th>24</th>\n      <td>4.9</td>\n      <td>2.4</td>\n      <td>3.3</td>\n      <td>1.0</td>\n      <td>1.0</td>\n      <td>1.0</td>\n      <td>1</td>\n    </tr>\n    <tr>\n      <th>25</th>\n      <td>4.9</td>\n      <td>3.1</td>\n      <td>1.5</td>\n      <td>0.1</td>\n      <td>1.0</td>\n      <td>0.0</td>\n      <td>0</td>\n    </tr>\n    <tr>\n      <th>26</th>\n      <td>6.5</td>\n      <td>2.8</td>\n      <td>4.6</td>\n      <td>1.5</td>\n      <td>1.0</td>\n      <td>1.0</td>\n      <td>1</td>\n    </tr>\n    <tr>\n      <th>27</th>\n      <td>5.9</td>\n      <td>3.0</td>\n      <td>5.1</td>\n      <td>1.8</td>\n      <td>1.0</td>\n      <td>2.0</td>\n      <td>2</td>\n    </tr>\n    <tr>\n      <th>28</th>\n      <td>5.1</td>\n      <td>3.4</td>\n      <td>1.5</td>\n      <td>0.2</td>\n      <td>1.0</td>\n      <td>0.0</td>\n      <td>0</td>\n    </tr>\n    <tr>\n      <th>29</th>\n      <td>6.9</td>\n      <td>3.1</td>\n      <td>4.9</td>\n      <td>1.5</td>\n      <td>1.0</td>\n      <td>1.0</td>\n      <td>1</td>\n    </tr>\n    <tr>\n      <th>30</th>\n      <td>6.0</td>\n      <td>2.2</td>\n      <td>4.0</td>\n      <td>1.0</td>\n      <td>1.0</td>\n      <td>1.0</td>\n      <td>1</td>\n    </tr>\n    <tr>\n      <th>31</th>\n      <td>6.9</td>\n      <td>3.1</td>\n      <td>5.4</td>\n      <td>2.1</td>\n      <td>1.0</td>\n      <td>2.0</td>\n      <td>2</td>\n    </tr>\n    <tr>\n      <th>32</th>\n      <td>5.0</td>\n      <td>3.6</td>\n      <td>1.4</td>\n      <td>0.2</td>\n      <td>1.0</td>\n      <td>0.0</td>\n      <td>0</td>\n    </tr>\n    <tr>\n      <th>33</th>\n      <td>7.7</td>\n      <td>2.6</td>\n      <td>6.9</td>\n      <td>2.3</td>\n      <td>1.0</td>\n      <td>2.0</td>\n      <td>2</td>\n    </tr>\n    <tr>\n      <th>34</th>\n      <td>5.7</td>\n      <td>2.8</td>\n      <td>4.1</td>\n      <td>1.3</td>\n      <td>1.0</td>\n      <td>1.0</td>\n      <td>1</td>\n    </tr>\n    <tr>\n      <th>35</th>\n      <td>6.9</td>\n      <td>3.2</td>\n      <td>5.7</td>\n      <td>2.3</td>\n      <td>1.0</td>\n      <td>2.0</td>\n      <td>2</td>\n    </tr>\n    <tr>\n      <th>36</th>\n      <td>6.6</td>\n      <td>3.0</td>\n      <td>4.4</td>\n      <td>1.4</td>\n      <td>1.0</td>\n      <td>1.0</td>\n      <td>1</td>\n    </tr>\n    <tr>\n      <th>37</th>\n      <td>5.2</td>\n      <td>4.1</td>\n      <td>1.5</td>\n      <td>0.1</td>\n      <td>1.0</td>\n      <td>0.0</td>\n      <td>0</td>\n    </tr>\n    <tr>\n      <th>38</th>\n      <td>4.6</td>\n      <td>3.2</td>\n      <td>1.4</td>\n      <td>0.2</td>\n      <td>1.0</td>\n      <td>0.0</td>\n      <td>0</td>\n    </tr>\n    <tr>\n      <th>39</th>\n      <td>6.1</td>\n      <td>2.8</td>\n      <td>4.7</td>\n      <td>1.2</td>\n      <td>1.0</td>\n      <td>1.0</td>\n      <td>1</td>\n    </tr>\n    <tr>\n      <th>40</th>\n      <td>5.5</td>\n      <td>2.4</td>\n      <td>3.8</td>\n      <td>1.1</td>\n      <td>1.0</td>\n      <td>1.0</td>\n      <td>1</td>\n    </tr>\n    <tr>\n      <th>41</th>\n      <td>7.7</td>\n      <td>3.8</td>\n      <td>6.7</td>\n      <td>2.2</td>\n      <td>1.0</td>\n      <td>2.0</td>\n      <td>2</td>\n    </tr>\n    <tr>\n      <th>42</th>\n      <td>5.7</td>\n      <td>2.6</td>\n      <td>3.5</td>\n      <td>1.0</td>\n      <td>1.0</td>\n      <td>1.0</td>\n      <td>1</td>\n    </tr>\n    <tr>\n      <th>43</th>\n      <td>4.9</td>\n      <td>3.1</td>\n      <td>1.5</td>\n      <td>0.1</td>\n      <td>1.0</td>\n      <td>0.0</td>\n      <td>0</td>\n    </tr>\n    <tr>\n      <th>44</th>\n      <td>6.7</td>\n      <td>3.3</td>\n      <td>5.7</td>\n      <td>2.1</td>\n      <td>1.0</td>\n      <td>2.0</td>\n      <td>2</td>\n    </tr>\n  </tbody>\n</table>\n</div>"
     },
     "metadata": {},
     "execution_count": 69
    }
   ],
   "source": [
    "results\n"
   ]
  },
  {
   "cell_type": "code",
   "execution_count": 70,
   "metadata": {},
   "outputs": [],
   "source": [
    "compare = results['prediction'] == results['actual']\n",
    "correct = compare.value_counts()[1]\n",
    "accuracy = correct/len(results)"
   ]
  },
  {
   "cell_type": "code",
   "execution_count": 71,
   "metadata": {},
   "outputs": [
    {
     "output_type": "execute_result",
     "data": {
      "text/plain": [
       "100.0"
      ]
     },
     "metadata": {},
     "execution_count": 71
    }
   ],
   "source": [
    "accuracy * 100"
   ]
  },
  {
   "cell_type": "code",
   "execution_count": 73,
   "metadata": {},
   "outputs": [
    {
     "output_type": "execute_result",
     "data": {
      "text/plain": [
       "0     True\n",
       "1     True\n",
       "2     True\n",
       "3     True\n",
       "4     True\n",
       "5     True\n",
       "6     True\n",
       "7     True\n",
       "8     True\n",
       "9     True\n",
       "10    True\n",
       "11    True\n",
       "12    True\n",
       "13    True\n",
       "14    True\n",
       "15    True\n",
       "16    True\n",
       "17    True\n",
       "18    True\n",
       "19    True\n",
       "20    True\n",
       "21    True\n",
       "22    True\n",
       "23    True\n",
       "24    True\n",
       "25    True\n",
       "26    True\n",
       "27    True\n",
       "28    True\n",
       "29    True\n",
       "30    True\n",
       "31    True\n",
       "32    True\n",
       "33    True\n",
       "34    True\n",
       "35    True\n",
       "36    True\n",
       "37    True\n",
       "38    True\n",
       "39    True\n",
       "40    True\n",
       "41    True\n",
       "42    True\n",
       "43    True\n",
       "44    True\n",
       "dtype: bool"
      ]
     },
     "metadata": {},
     "execution_count": 73
    }
   ],
   "source": [
    "compare"
   ]
  },
  {
   "cell_type": "code",
   "execution_count": null,
   "metadata": {},
   "outputs": [],
   "source": []
  }
 ]
}