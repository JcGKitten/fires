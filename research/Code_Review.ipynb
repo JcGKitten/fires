{
 "cells": [
  {
   "cell_type": "markdown",
   "metadata": {},
   "source": [
    "## FIRES Code Review\n",
    "- GLM Models\n",
    "- DataStreams\n",
    "- MNIST\n",
    "- FIRES"
   ]
  },
  {
   "cell_type": "markdown",
   "metadata": {},
   "source": [
    "### GLM Models"
   ]
  },
  {
   "cell_type": "code",
   "execution_count": null,
   "metadata": {},
   "outputs": [],
   "source": [
    "import numpy as np\n",
    "import pandas as pd\n"
   ]
  },
  {
   "cell_type": "code",
   "execution_count": null,
   "metadata": {},
   "outputs": [],
   "source": [
    "import statsmodels.api as sm\n",
    "# to use formulas in R style\n",
    "# import statsmodels.formula.api\n",
    "\n",
    "bi_link = sm.families.links.log\n",
    "bi_family = sm.families.Binomial()"
   ]
  },
  {
   "cell_type": "code",
   "execution_count": null,
   "metadata": {},
   "outputs": [],
   "source": [
    "from sklearn.linear_model import LogisticRegression\n",
    "\n",
    "# maybe here is a good one for multiclass https://acadgild.com/blog/logistic-regression-multiclass-classification"
   ]
  },
  {
   "source": [
    "### MNIST Data"
   ],
   "cell_type": "markdown",
   "metadata": {}
  },
  {
   "cell_type": "code",
   "execution_count": null,
   "metadata": {},
   "outputs": [],
   "source": [
    "from keras.datasets import mnist\n",
    "\n",
    "(train_X, train_y), (test_x, test_y) = mnist.load_data()\n",
    "\n",
    "print(train_X.shape)\n",
    "print(test_x.shape)\n",
    "\n",
    "train_X = train_X.reshape((len(train_X), np.prod(train_X.shape[1:])))\n",
    "test_x = test_x.reshape((len(test_x), np.prod(test_x.shape[1:])))\n",
    "\n",
    "print(train_X.shape)\n",
    "print(test_x.shape)"
   ]
  },
  {
   "cell_type": "code",
   "execution_count": null,
   "metadata": {},
   "outputs": [],
   "source": [
    "train_y\n",
    "print(train_y)\n",
    "\n",
    "train_threes = np.multiply(train_y==2, 1)\n",
    "train_threes\n",
    "\n",
    "test_threes = np.multiply(test_y==2, 1)"
   ]
  },
  {
   "source": [
    "### Creating glm model for MNIST"
   ],
   "cell_type": "markdown",
   "metadata": {}
  },
  {
   "cell_type": "code",
   "execution_count": null,
   "metadata": {},
   "outputs": [],
   "source": [
    "exog, endog = train_X, train_threes\n",
    "bi_glm_model = sm.GLM(endog, exog, family=bi_family)\n",
    "res = bi_glm_model.fit()"
   ]
  },
  {
   "cell_type": "code",
   "execution_count": null,
   "metadata": {},
   "outputs": [],
   "source": [
    "res.params\n"
   ]
  },
  {
   "source": [
    "### Preparing FIRES Model"
   ],
   "cell_type": "markdown",
   "metadata": {}
  },
  {
   "cell_type": "code",
   "execution_count": null,
   "metadata": {},
   "outputs": [],
   "source": [
    "from fires import FIRES"
   ]
  },
  {
   "cell_type": "code",
   "execution_count": null,
   "metadata": {},
   "outputs": [],
   "source": []
  }
 ],
 "metadata": {
  "kernelspec": {
   "display_name": "Python 3",
   "language": "python",
   "name": "python3"
  },
  "language_info": {
   "codemirror_mode": {
    "name": "ipython",
    "version": 3
   },
   "file_extension": ".py",
   "mimetype": "text/x-python",
   "name": "python",
   "nbconvert_exporter": "python",
   "pygments_lexer": "ipython3",
   "version": "3.8.5-final"
  }
 },
 "nbformat": 4,
 "nbformat_minor": 4
}