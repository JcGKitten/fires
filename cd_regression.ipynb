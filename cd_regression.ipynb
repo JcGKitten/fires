{
 "metadata": {
  "language_info": {
   "codemirror_mode": {
    "name": "ipython",
    "version": 3
   },
   "file_extension": ".py",
   "mimetype": "text/x-python",
   "name": "python",
   "nbconvert_exporter": "python",
   "pygments_lexer": "ipython3",
   "version": "3.8.5"
  },
  "orig_nbformat": 2,
  "kernelspec": {
   "name": "python385jvsc74a57bd09e4c97bd779caefcb7cd845411b070731e96d735053e38eececd02f8b1decf55",
   "display_name": "Python 3.8.5 64-bit ('base': conda)"
  }
 },
 "nbformat": 4,
 "nbformat_minor": 2,
 "cells": [
  {
   "source": [
    "## Concept Drift in Regression Data"
   ],
   "cell_type": "markdown",
   "metadata": {}
  },
  {
   "cell_type": "code",
   "execution_count": null,
   "metadata": {},
   "outputs": [],
   "source": [
    "# import the functions needed for validate and comparsion\n",
    "\n",
    "import numpy as np\n",
    "import cupy as cp\n",
    "import pandas as pd\n",
    "from timeit import default_timer as timer\n",
    "import os\n",
    "\n",
    "from sklearn.model_selection import train_test_split\n",
    "#mean_squared_error: mse squared=true, rmse squared=false\n",
    "from sklearn.metrics import mean_squared_error\n",
    "from skmultiflow.data import ConceptDriftStream, FileStream\n",
    "from sklearn.linear_model import SGDRegressor\n",
    "from skmultiflow.data.regression_generator import RegressionGenerator\n",
    "from sklearn.preprocessing import MinMaxScaler\n",
    "\n",
    "\n",
    "# using plotly for plots\n",
    "import plotly.express as px\n",
    "from plotly.subplots import make_subplots\n"
   ]
  },
  {
   "cell_type": "code",
   "execution_count": null,
   "metadata": {},
   "outputs": [],
   "source": [
    "from fires import FIRES"
   ]
  },
  {
   "cell_type": "code",
   "execution_count": null,
   "metadata": {},
   "outputs": [],
   "source": [
    "from stability import stability_factor"
   ]
  },
  {
   "cell_type": "code",
   "execution_count": null,
   "metadata": {},
   "outputs": [],
   "source": [
    "stream = ConceptDriftStream(stream=RegressionGenerator(random_state=42, n_features=100, n_informative=25), drift_stream=RegressionGenerator(random_state=52, n_features=100, n_informative=25), position=10100, width=10)\n",
    "\n",
    "dataset_name = \"Concept_drift_10\"\n",
    "n_selected_ftr = 25\n",
    "n_window = 100\n",
    "batch_size = 10"
   ]
  },
  {
   "cell_type": "code",
   "execution_count": null,
   "metadata": {},
   "outputs": [],
   "source": [
    "\n",
    "stream = ConceptDriftStream(stream=RegressionGenerator(random_state=42, n_features=100, n_informative=25), drift_stream=RegressionGenerator(random_state=52, n_features=100, n_informative=25), position=10100, width=1000)\n",
    "\n",
    "dataset_name = \"Concept_drift_1000\"\n",
    "n_selected_ftr = 25\n",
    "n_window = 100\n",
    "batch_size = 10"
   ]
  },
  {
   "cell_type": "code",
   "execution_count": null,
   "metadata": {},
   "outputs": [],
   "source": [
    "# prepare folder for plots\n",
    "folder = \"plots/regression/{}\".format(dataset_name)\n",
    "if not os.path.exists(folder):\n",
    "    os.makedirs(folder)\n",
    "\n",
    "export_type = \"pdf\" # \"png\", \"jpeg\", \"webp\", \"pdf\", \"svg\""
   ]
  },
  {
   "cell_type": "code",
   "execution_count": null,
   "metadata": {},
   "outputs": [],
   "source": [
    "# use SGDRegressor as predictor\n",
    "stream.restart()\n",
    "predictor = SGDRegressor()\n",
    "scaler = MinMaxScaler()\n",
    "scaler_y = MinMaxScaler()\n",
    "X, y = stream.next_sample(batch_size=100)\n",
    "scaler.partial_fit(X)\n",
    "scaler_y.partial_fit(y.reshape(-1,1))\n",
    "\n",
    "X = scaler.transform(X)\n",
    "y = scaler_y.transform(y.reshape(-1,1))\n",
    "predictor.partial_fit(X,y)"
   ]
  },
  {
   "cell_type": "code",
   "execution_count": null,
   "metadata": {},
   "outputs": [],
   "source": [
    "fires_model = FIRES(n_total_ftr=stream.n_features,\n",
    "                    target_values=None,\n",
    "                    mu_init=0,\n",
    "                    sigma_init=1,\n",
    "                    model='regression')  "
   ]
  },
  {
   "cell_type": "code",
   "execution_count": null,
   "metadata": {
    "tags": [
     "outputPrepend"
    ]
   },
   "outputs": [],
   "source": [
    "\n",
    "fires_rmse = []\n",
    "\n",
    "\n",
    "fires_selected_ftrs = []\n",
    "fires_stability = []\n",
    "\n",
    "start_time_all = timer()\n",
    "for i in range(2000):\n",
    "    # Load a new sample\n",
    "    x, y = stream.next_sample(batch_size=10)\n",
    "    scaler.partial_fit(x)\n",
    "    scaler_y.partial_fit(y.reshape(-1,1))\n",
    "    x = scaler.transform(x)\n",
    "    y = scaler_y.transform(y.reshape(-1,1))\n",
    "    # Select features\n",
    "    ftr_weights = fires_model.weigh_features(x,y)\n",
    "    ftr_selection = np.argsort(ftr_weights)[::-1][:n_selected_ftr]\n",
    "\n",
    "    # Truncate x (retain only selected features, 'remove' all others, e.g. by replacing them with 0)\n",
    "    x_reduced = np.zeros(x.shape)\n",
    "    x_reduced[:, ftr_selection] = x[:, ftr_selection]\n",
    "\n",
    "    # stability test\n",
    "    ftr_array = np.zeros(stream.n_features)\n",
    "    ftr_array[ftr_selection] = 1\n",
    "    fires_selected_ftrs.append(ftr_array)\n",
    "\n",
    "    if len(fires_selected_ftrs) >= 10:\n",
    "        stability = stability_factor(fires_selected_ftrs[-10:])\n",
    "        fires_stability.append(stability)\n",
    "\n",
    "\n",
    "    # Test\n",
    "    y_pred = predictor.predict(x_reduced)\n",
    "    \n",
    "    fires_rmse.append(mean_squared_error(y, y_pred, squared=False))\n",
    "\n",
    "\n",
    "    # Train\n",
    "    predictor.partial_fit(x_reduced, y)\n",
    "\n",
    "# Restart the FileStream\n",
    "fires_rmse = pd.Series(fires_rmse).rolling(window=n_window).mean().iloc[n_window-1:].values\n",
    "end_time_all = timer()\n",
    "fires_run_time = timer() - start_time_all\n",
    "print(\"The whole fires run took {}\".format(fires_run_time))"
   ]
  },
  {
   "cell_type": "code",
   "execution_count": null,
   "metadata": {},
   "outputs": [],
   "source": [
    "# use SGDRegressor as predictor\n",
    "stream.restart()\n",
    "predictor = SGDRegressor()\n",
    "scaler = MinMaxScaler()\n",
    "scaler_y = MinMaxScaler()\n",
    "X, y = stream.next_sample(batch_size=100)\n",
    "scaler.partial_fit(X)\n",
    "scaler_y.partial_fit(y.reshape(-1,1))\n",
    "\n",
    "X = scaler.transform(X)\n",
    "y = scaler_y.transform(y.reshape(-1,1))\n",
    "predictor.partial_fit(X,y)"
   ]
  },
  {
   "cell_type": "code",
   "execution_count": null,
   "metadata": {},
   "outputs": [],
   "source": [
    "sgdr_model = SGDRegressor(penalty=\"l1\") #penalty could be elasticnet as well\n",
    "#n_selectey_ftrs?"
   ]
  },
  {
   "cell_type": "code",
   "execution_count": null,
   "metadata": {
    "tags": [
     "outputPrepend"
    ]
   },
   "outputs": [],
   "source": [
    "sgdr_rmse = []\n",
    "\n",
    "sgdr_selected_ftrs = []\n",
    "sgdr_stability = []\n",
    "\n",
    "start_time_all = timer()\n",
    "for i in range(2000):\n",
    "    # Load a new sample\n",
    "    x, y = stream.next_sample(batch_size=10)\n",
    "    scaler.partial_fit(x)\n",
    "    scaler_y.partial_fit(y.reshape(-1,1))\n",
    "    x = scaler.transform(x)\n",
    "    y = scaler_y.transform(y.reshape(-1,1))\n",
    "    # Select features\n",
    "    sgdr_model.partial_fit(x,y)\n",
    "    ftr_weights = sgdr_model.coef_\n",
    "    ftr_selection = np.argsort(ftr_weights)[::-1][:n_selected_ftr]\n",
    "\n",
    "    # Truncate x (retain only selected features, 'remove' all others, e.g. by replacing them with 0)\n",
    "    x_reduced = np.zeros(x.shape)\n",
    "    x_reduced[:, ftr_selection] = x[:, ftr_selection]\n",
    "\n",
    "    # stability test\n",
    "    ftr_array = np.zeros(stream.n_features)\n",
    "    ftr_array[ftr_selection] = 1\n",
    "    sgdr_selected_ftrs.append(ftr_array)\n",
    "\n",
    "    if len(sgdr_selected_ftrs) >= 10:\n",
    "        stability = stability_factor(sgdr_selected_ftrs[-10:])\n",
    "        sgdr_stability.append(stability)\n",
    "\n",
    "\n",
    "    # Test\n",
    "    y_pred = predictor.predict(x_reduced)\n",
    "    \n",
    "    sgdr_rmse.append(mean_squared_error(y, y_pred, squared=False))\n",
    "    \n",
    "    \n",
    "\n",
    "\n",
    "    # Train\n",
    "    predictor.partial_fit(x_reduced, y)\n",
    "\n",
    "# Restart the FileStream\n",
    "sgdr_rmse = pd.Series(sgdr_rmse).rolling(window=n_window).mean().iloc[n_window-1:].values\n",
    "end_time_all = timer()\n",
    "sgdr_run_time = timer() - start_time_all\n",
    "print(\"The whole sgdr run took {}\".format(sgdr_run_time))\n"
   ]
  },
  {
   "cell_type": "code",
   "execution_count": null,
   "metadata": {},
   "outputs": [],
   "source": [
    "# stability\n",
    "title = \"Stability on dataset {}\".format(dataset_name)\n",
    "col_names = [\"FIRES\", \"SGDR\"]\n",
    "d = {\"FIRES\":fires_stability, \"SGDR\":sgdr_stability}\n",
    "df = pd.DataFrame(d, columns=col_names)\n",
    "fig = px.line(df, y = col_names, title=title, labels={\"index\":\"batches\", \"value\":\"stability\"}, color_discrete_map={'FIRES': 'red', \"SGDR\": \"green\"})\n",
    "stability_trace = fig[\"data\"]\n",
    "fig.show()"
   ]
  },
  {
   "cell_type": "code",
   "execution_count": null,
   "metadata": {},
   "outputs": [],
   "source": [
    "title = \"RMSE on dataset {}\".format(dataset_name)\n",
    "col_names = [\"FIRES\", \"SGDR\"]\n",
    "d = {\"FIRES\":fires_rmse, \"SGDR\":sgdr_rmse}\n",
    "df = pd.DataFrame(d, columns=col_names)\n",
    "fig = px.line(df, y = col_names, title=title, labels={\"index\":\"batches\", \"value\":\"rmse\"}, color_discrete_map={'FIRES': 'red', \"SGDR\": \"green\"})\n",
    "rmse_trace = fig[\"data\"]\n",
    "fig.show()"
   ]
  },
  {
   "cell_type": "code",
   "execution_count": null,
   "metadata": {},
   "outputs": [],
   "source": [
    "fig = make_subplots(rows=2, cols=1, shared_xaxes=True, vertical_spacing=0.1) # subplot_titles=(\"Stability\",\"Accuracy\", \"F1-Score\"),\n",
    "for i in range(len(stability_trace)):\n",
    "    stability_trace[i][\"showlegend\"] = False\n",
    "    if stability_trace[i][\"name\"] == \"FIRES\":\n",
    "        trace = stability_trace[i]\n",
    "    else:\n",
    "        fig.add_trace(stability_trace[i], row=1, col=1)\n",
    "fig.add_trace(trace, row=1, col=1)\n",
    "for i in range(len(rmse_trace)):\n",
    "    fig.add_trace(rmse_trace[i], row=2, col=1)\n",
    "fig.update_xaxes(title_text=\"batches\", row=2, col=1)\n",
    "fig.update_yaxes(title_text=\"Stability\", row=1, col=1)\n",
    "fig.update_yaxes(title_text=\"RMSE\", row=2, col=1)\n",
    "\n",
    "fig.write_image(\"{}/{}.{}\".format(folder, dataset_name, export_type))\n",
    "fig.show()"
   ]
  }
 ]
}