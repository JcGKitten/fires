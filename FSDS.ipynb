{
 "metadata": {
  "language_info": {
   "codemirror_mode": {
    "name": "ipython",
    "version": 3
   },
   "file_extension": ".py",
   "mimetype": "text/x-python",
   "name": "python",
   "nbconvert_exporter": "python",
   "pygments_lexer": "ipython3",
   "version": "3.8.5-final"
  },
  "orig_nbformat": 2,
  "kernelspec": {
   "name": "python3",
   "display_name": "Python 3",
   "language": "python"
  }
 },
 "nbformat": 4,
 "nbformat_minor": 2,
 "cells": [
  {
   "cell_type": "code",
   "execution_count": 1,
   "metadata": {},
   "outputs": [],
   "source": [
    "import numpy as np\n",
    "import numpy.linalg as ln\n",
    "\n",
    "class StreamFeatWeight:\n",
    "    \"\"\"\n",
    "    Streaming update of feature weights at time t\n",
    "    Input  : Yt: m by nt matrix, \n",
    "             B : sketch matrix size m by l\n",
    "    Output : Feature importance score\n",
    "    \"\"\"\n",
    "   \n",
    "    def __init__(self, m, k, l=0):\n",
    "        \"\"\"\n",
    "        m : no of features initially\n",
    "        k : no of singular vectors (this can be the same as the number of clusters in the dataset)\n",
    "        l : sketch size for a sketched matrix B( m-by-l )\n",
    "        \"\"\"\n",
    "\n",
    "        self.m = m\n",
    "        self.k = k\n",
    "        if l < 1: self.l = int(np.sqrt(self.m))\n",
    "        else: self.l = l\n",
    "\n",
    "    def low_rank_approximation(self, Yt):\n",
    "        \"\"\"\n",
    "        Calculation of low rank approximation\n",
    "        sketched matrix B is updated on basis of new inputs at timestep t\n",
    "        \n",
    "        :param Yt: m-by-nt input matrix from data stream \n",
    "        Yt is the data items introduced at time step t\n",
    "        \n",
    "        output: weight of each feature\n",
    "        \"\"\"\n",
    "        #Step 1\n",
    "        # combine current sketched matrix with input at time t(Yt)\n",
    "       \n",
    "        if hasattr(self, 'B'): #(object, name)\n",
    "            C = np.hstack((self.B, Yt)) # C is m by (n+l) matrix\n",
    "            n = Yt.shape[1] # it will be n_t\n",
    "        else:\n",
    "            # an initial sketch matrix for Y0\n",
    "            self.B = Yt[:, :self.l]\n",
    "            C = np.hstack((self.B, Yt[:, self.l:]))\n",
    "            n = Yt.shape[1] - self.l\n",
    "        \n",
    "        # Step 2 :Singular value decomposition\n",
    "        U, s, V = ln.svd(C, full_matrices=False)  \n",
    "        \n",
    "        U = U[:, :self.l]\n",
    "        s = s[:self.l]\n",
    "        V = V[:, :self.l]\n",
    "     \n",
    "        # Step 3 : shrink singular values in Frequent Directions algorithm\n",
    "       \n",
    "        delta = s[-1] ** 2 #shrink values on the basis of squared smallest singlar value\n",
    "        s = np.sqrt(s ** 2 - delta)\n",
    "\n",
    "        # Step 4 : update sketched matrix B\n",
    "    \n",
    "        self.B = np.dot(U, np.diag(s))\n",
    "\n",
    "        # In Section 5.1, for all experiments,\n",
    "        # the authors have set alpha = 2^3 * sigma_k based on the pre-experiment\n",
    "        alpha = (2 ** 3) * s[self.k-1]\n",
    "\n",
    "        # Step 5: solving the ridge regression by using the top-k singular values\n",
    "       \n",
    "        D = np.diag(s[:self.k] / (s[:self.k] ** 2 + alpha))\n",
    "        #step 6: X: m by k matrix (k <= l)\n",
    "        X = np.dot(U[:, :self.k], D)\n",
    "        \n",
    "        #step 7: returning maximum value of X\n",
    "        return np.amax(abs(X), axis=1)"
   ]
  },
  {
   "cell_type": "code",
   "execution_count": 2,
   "metadata": {},
   "outputs": [],
   "source": [
    "# paint mnist\n",
    "import matplotlib.pyplot as plt\n",
    "\n",
    "def paint_digit(digit_values):\n",
    "    plt.figure()\n",
    "    plt.imshow(digit_values.reshape(28,28))\n",
    "    plt.gray()\n",
    "    plt.xticks([])\n",
    "    plt.yticks([])\n",
    "    \n",
    "    plt.show"
   ]
  },
  {
   "cell_type": "code",
   "execution_count": 10,
   "metadata": {},
   "outputs": [],
   "source": [
    "from skmultiflow.data import FileStream\n",
    "from skmultiflow.neural_networks import PerceptronMask\n",
    "from sklearn.metrics import accuracy_score\n",
    "\n",
    "stream = FileStream('datasets/Multiclass/mnist_train_normalized.csv', target_idx=0)\n",
    "stream.prepare_for_use()\n"
   ]
  },
  {
   "cell_type": "code",
   "execution_count": 11,
   "metadata": {},
   "outputs": [
    {
     "output_type": "execute_result",
     "data": {
      "text/plain": [
       "PerceptronMask(alpha=0.0001, class_weight=None, early_stopping=False, eta0=1.0,\n",
       "               fit_intercept=True, max_iter=1000, n_iter_no_change=5,\n",
       "               n_jobs=None, penalty=None, random_state=0, shuffle=True,\n",
       "               tol=0.001, validation_fraction=0.1, verbose=0, warm_start=False)"
      ]
     },
     "metadata": {},
     "execution_count": 11
    }
   ],
   "source": [
    "predictor = PerceptronMask()\n",
    "x,y = stream.next_sample(batch_size=100)\n",
    "predictor.partial_fit(x,y, stream.target_values)"
   ]
  },
  {
   "cell_type": "code",
   "execution_count": 12,
   "metadata": {},
   "outputs": [
    {
     "output_type": "stream",
     "name": "stdout",
     "text": [
      "ball\n"
     ]
    }
   ],
   "source": [
    "fsds = StreamFeatWeight(m=stream.n_features, k=stream.n_classes)\n",
    "fsds.low_rank_approximation(x.T)\n",
    "print(\"ball\")"
   ]
  },
  {
   "cell_type": "code",
   "execution_count": 13,
   "metadata": {},
   "outputs": [],
   "source": [
    "n_selected_ftr = 100\n",
    "\n",
    "while stream.has_more_samples():\n",
    "    # Load a new sample\n",
    "    x, y = stream.next_sample(batch_size=100)\n",
    "\n",
    "    # Select features\n",
    "    ftr_weights = fsds.low_rank_approximation(x.T) \n",
    "    ftr_selection = np.argsort(ftr_weights)[::-1][:n_selected_ftr]\n",
    "\n",
    "    # Truncate x (retain only selected features, 'remove' all others, e.g. by replacing them with 0)\n",
    "    x_reduced = np.zeros(x.shape)\n",
    "    x_reduced[:, ftr_selection] = x[:, ftr_selection]\n",
    "\n",
    "    # Test\n",
    "    y_pred = predictor.predict(x_reduced)\n",
    "    #print(accuracy_score(y, y_pred))\n",
    "\n",
    "    # Train\n",
    "    predictor.partial_fit(x_reduced, y)\n",
    "\n",
    "# Restart the FileStream\n",
    "stream.restart()"
   ]
  },
  {
   "cell_type": "code",
   "execution_count": 15,
   "metadata": {},
   "outputs": [],
   "source": [
    "selected_features = np.zeros((784))\n",
    "selected_features[ftr_selection] = 1"
   ]
  },
  {
   "cell_type": "code",
   "execution_count": 16,
   "metadata": {},
   "outputs": [
    {
     "output_type": "display_data",
     "data": {
      "text/plain": "<Figure size 432x288 with 1 Axes>",
      "image/svg+xml": "<?xml version=\"1.0\" encoding=\"utf-8\" standalone=\"no\"?>\n<!DOCTYPE svg PUBLIC \"-//W3C//DTD SVG 1.1//EN\"\n  \"http://www.w3.org/Graphics/SVG/1.1/DTD/svg11.dtd\">\n<!-- Created with matplotlib (https://matplotlib.org/) -->\n<svg height=\"235.34pt\" version=\"1.1\" viewBox=\"0 0 235.34 235.34\" width=\"235.34pt\" xmlns=\"http://www.w3.org/2000/svg\" xmlns:xlink=\"http://www.w3.org/1999/xlink\">\n <metadata>\n  <rdf:RDF xmlns:cc=\"http://creativecommons.org/ns#\" xmlns:dc=\"http://purl.org/dc/elements/1.1/\" xmlns:rdf=\"http://www.w3.org/1999/02/22-rdf-syntax-ns#\">\n   <cc:Work>\n    <dc:type rdf:resource=\"http://purl.org/dc/dcmitype/StillImage\"/>\n    <dc:date>2021-01-09T16:26:38.226186</dc:date>\n    <dc:format>image/svg+xml</dc:format>\n    <dc:creator>\n     <cc:Agent>\n      <dc:title>Matplotlib v3.3.2, https://matplotlib.org/</dc:title>\n     </cc:Agent>\n    </dc:creator>\n   </cc:Work>\n  </rdf:RDF>\n </metadata>\n <defs>\n  <style type=\"text/css\">*{stroke-linecap:butt;stroke-linejoin:round;}</style>\n </defs>\n <g id=\"figure_1\">\n  <g id=\"patch_1\">\n   <path d=\"M 0 235.34 \nL 235.34 235.34 \nL 235.34 0 \nL 0 0 \nz\n\" style=\"fill:none;\"/>\n  </g>\n  <g id=\"axes_1\">\n   <g id=\"patch_2\">\n    <path d=\"M 10.7 224.64 \nL 228.14 224.64 \nL 228.14 7.2 \nL 10.7 7.2 \nz\n\" style=\"fill:#ffffff;\"/>\n   </g>\n   <g clip-path=\"url(#p33aa920e74)\">\n    <image height=\"218\" id=\"image4c78f55106\" transform=\"scale(1 -1)translate(0 -218)\" width=\"218\" x=\"10.7\" xlink:href=\"data:image/png;base64,\niVBORw0KGgoAAAANSUhEUgAAANoAAADaCAYAAADAHVzbAAADSklEQVR4nO3d0W3jMBBAQelw/bfsayCxAen4SFMzBcTOx8MCWqx8HsfxOoCh/sz+AvAEQoOA0CAgNAgIDQJCg4DQICA0CAgNAkKDgNAgIDQICA0CQoOA0CAgNAgIDQJCg4DQICA0CAgNAkKDgNAgIDQICA0CQoOA0CAgNAgIDQJCg8Df2V9gV6/X9V/DOs/zP34TVmCiQUBoEBAaBIQGAaFBQGgQEBoE7NE29GmHZ0/XM9EgIDQICA0CQoOA0CAgNAgIDQLncRzXD6f41Z17tJns2MYw0SAgNAgIDQJCg4DQICA0CAgNAvZoE3zrju047NmuMtEgIDQICA0CQoOA0CAgNAh43dwEnx6Rf/Pjf35mokFAaBAQGgSEBgGhQUBoEBAaBJzJbGjmHs4Zzc9MNAgIDQJCg4DQICA0CAgNAkKDgHu0Dbl3W4+JBgGhQUBoEBAaBIQGAaFBQGgQcI82weg91p2bsJW/2zcz0SAgNAgIDQJCg4DQICA0CDz28f7dx9grn6KMfIQ+8v/a+dG/iQYBoUFAaBAQGgSEBgGhQUBoENj2dXOj91if/v7KpyozP3vnXdk7JhoEhAYBoUFAaBAQGgSEBgGhQcA92gQr75Ls0cYw0SAgNAgIDQJCg4DQICA0CAgNAtveo3HNyu+r/GYmGgSEBgGhQUBoEBAaBIQGAaFB4LH3aKO92zfN3lU99SZsJhMNAkKDgNAgIDQICA0CQoOAx/sXjfzZprufPZLVwDUmGgSEBgGhQUBoEBAaBIQGAaFBwOvmBrlzJrOymfvDb2aiQUBoEBAaBIQGAaFBQGgQEBoE3KMNcudmbPbr6N6xJ7vGRIOA0CAgNAgIDQJCg4DQICA0CLhHW5CfbdqPiQYBoUFAaBAQGgSEBgGhQUBoEHCPtqC7e7SVf5vtqTs8Ew0CQoOA0CAgNAgIDQJCg4DH+wtyJrMfEw0CQoOA0CAgNAgIDQJCg4DQIGCPBgETDQJCg4DQICA0CAgNAkKDgNAgIDQICA0CQoOA0CAgNAgIDQJCg4DQICA0CAgNAkKDgNAgIDQICA0CQoOA0CAgNAgIDQJCg4DQICA0CAgNAkKDgNAgIDQICA0CQoOA0CAgNAgIDQJCg8A/OfJrpQbUJnMAAAAASUVORK5CYII=\" y=\"-6.64\"/>\n   </g>\n   <g id=\"matplotlib.axis_1\"/>\n   <g id=\"matplotlib.axis_2\"/>\n   <g id=\"patch_3\">\n    <path d=\"M 10.7 224.64 \nL 10.7 7.2 \n\" style=\"fill:none;stroke:#000000;stroke-linecap:square;stroke-linejoin:miter;stroke-width:0.8;\"/>\n   </g>\n   <g id=\"patch_4\">\n    <path d=\"M 228.14 224.64 \nL 228.14 7.2 \n\" style=\"fill:none;stroke:#000000;stroke-linecap:square;stroke-linejoin:miter;stroke-width:0.8;\"/>\n   </g>\n   <g id=\"patch_5\">\n    <path d=\"M 10.7 224.64 \nL 228.14 224.64 \n\" style=\"fill:none;stroke:#000000;stroke-linecap:square;stroke-linejoin:miter;stroke-width:0.8;\"/>\n   </g>\n   <g id=\"patch_6\">\n    <path d=\"M 10.7 7.2 \nL 228.14 7.2 \n\" style=\"fill:none;stroke:#000000;stroke-linecap:square;stroke-linejoin:miter;stroke-width:0.8;\"/>\n   </g>\n  </g>\n </g>\n <defs>\n  <clipPath id=\"p33aa920e74\">\n   <rect height=\"217.44\" width=\"217.44\" x=\"10.7\" y=\"7.2\"/>\n  </clipPath>\n </defs>\n</svg>\n",
      "image/png": "[encoded data removed]"
     },
     "metadata": {}
    }
   ],
   "source": [
    "paint_digit(selected_features)"
   ]
  },
  {
   "cell_type": "code",
   "execution_count": null,
   "metadata": {},
   "outputs": [],
   "source": []
  }
 ]
}