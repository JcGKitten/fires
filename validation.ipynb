{
 "metadata": {
  "language_info": {
   "codemirror_mode": {
    "name": "ipython",
    "version": 3
   },
   "file_extension": ".py",
   "mimetype": "text/x-python",
   "name": "python",
   "nbconvert_exporter": "python",
   "pygments_lexer": "ipython3",
   "version": "3.8.5"
  },
  "orig_nbformat": 2,
  "kernelspec": {
   "name": "python3",
   "display_name": "Python 3",
   "language": "python"
  }
 },
 "nbformat": 4,
 "nbformat_minor": 2,
 "cells": [
  {
   "source": [
    "# Validation notebook\n",
    "Here the FIRES implementation for multiclass and regression is validated and compared to other online features selcetion algorithms.\n"
   ],
   "cell_type": "markdown",
   "metadata": {}
  },
  {
   "cell_type": "code",
   "execution_count": 105,
   "metadata": {},
   "outputs": [],
   "source": [
    "# import the functions needed for validate and comparsion\n",
    "\n",
    "import numpy as np\n",
    "import cupy as cp\n",
    "import pandas as pd\n",
    "from timeit import default_timer as timer\n",
    "\n",
    "#from sklearn.model_selection import train_test_split\n",
    "from sklearn.metrics import accuracy_score, precision_score, recall_score, f1_score\n",
    "from skmultiflow.data import FileStream, RandomRBFGenerator, ConceptDriftStream\n",
    "from skmultiflow.neural_networks import PerceptronMask\n",
    "from skmultiflow.trees import HoeffdingTreeClassifier, ExtremelyFastDecisionTreeClassifier\n",
    "\n",
    "\n",
    "# using plotly for plots\n",
    "#import plotly.graph_objects as go\n",
    "import plotly.express as px\n",
    "from plotly.subplots import make_subplots\n"
   ]
  },
  {
   "cell_type": "code",
   "execution_count": 106,
   "metadata": {},
   "outputs": [],
   "source": [
    "# paint mnist\n",
    "def paint_digit(digit_values):\n",
    "    fig = px.imshow(digit_values.reshape(28,28), binary_string=True)\n",
    "    fig.update_layout(coloraxis_showscale=False)\n",
    "    fig.update_xaxes(showticklabels=False)\n",
    "    fig.update_yaxes(showticklabels=False)\n",
    "    #fig.show()\n",
    "    return(fig)"
   ]
  },
  {
   "cell_type": "code",
   "execution_count": 107,
   "metadata": {},
   "outputs": [],
   "source": [
    "# stability measurment as proposed in \"Measurment the Stability of Feature Selection\"\n",
    "\n",
    "# TODO: check for case where nothing changes\n",
    "\n",
    "\n",
    "def pearson_stability_ij(arr1,arr2):\n",
    "    d = len(arr1)\n",
    "    k_i = np.sum(arr1)\n",
    "    k_j = np.sum(arr2)\n",
    "\n",
    "    # catch edge cases as proposed in the paper under 4.1\n",
    "    if (k_i == 0 or k_i == d) and k_i != k_j :\n",
    "        return 0\n",
    "    elif (k_j == 0 or k_j == d) and k_i != k_j :\n",
    "        return 0\n",
    "    elif (k_i == 0 or k_i == d) and k_i == k_j :\n",
    "        return 1\n",
    "    x_hat_i = k_i / d\n",
    "    x_hat_j = k_j / d\n",
    "    arr1 = arr1 - x_hat_i\n",
    "    arr2 = arr2 - x_hat_j\n",
    "    dividend = 1/d * np.sum(arr1*arr2)\n",
    "    divisor = np.sqrt(1/d*np.sum(arr1**2))*np.sqrt(1/d*np.sum(arr2**2))\n",
    "    return dividend/divisor\n",
    "\n",
    "def stability_factor(selected_ftrs):\n",
    "   M = len(selected_ftrs)\n",
    "   sum_stabilities = 0\n",
    "   for i in range(M):\n",
    "       for j in range(i+1, M):\n",
    "           sum_stabilities += pearson_stability_ij(selected_ftrs[i], selected_ftrs[j])\n",
    "   return 1/(M*(M-1))*sum_stabilities * 2   "
   ]
  },
  {
   "cell_type": "code",
   "execution_count": 108,
   "metadata": {},
   "outputs": [],
   "source": [
    "# import algorithms\n",
    "from fires import FIRES\n",
    "from ofs import OFS, MC_OFS\n",
    "from ofssgr import OFSSGD, MC_OFSSGD\n",
    "from fsds import StreamFeatWeight"
   ]
  },
  {
   "source": [
    "## Multiclass Data\n",
    "\n",
    "Here the FIRES softmax implementation is compared to the FSDS, OFS and OFSSGD oun multiclass data.\n"
   ],
   "cell_type": "markdown",
   "metadata": {}
  },
  {
   "source": [
    "### Load Datasets as Streaming Data"
   ],
   "cell_type": "markdown",
   "metadata": {}
  },
  {
   "cell_type": "code",
   "execution_count": 109,
   "metadata": {},
   "outputs": [],
   "source": [
    "# MNIST data normalized\n",
    "stream = FileStream('datasets/Multiclass/mnist_train_normalized.csv', target_idx=0)\n",
    "stream.prepare_for_use()\n",
    "dataset_name = \"mnist_norm\"\n",
    "n_selected_ftr = 100\n",
    "n_window = 10\n",
    "batch_size = 100\n",
    "weights = None\n",
    "\n",
    "check_ftrs = False\n",
    "\n",
    "# load test data\n",
    "test_data = pd.read_csv('datasets/Multiclass/mnist_test_normalized.csv', header=None)\n",
    "test_y = test_data[0].to_numpy()\n",
    "test_x = test_data.drop(columns=0).to_numpy()\n"
   ]
  },
  {
   "cell_type": "code",
   "execution_count": null,
   "metadata": {},
   "outputs": [],
   "source": [
    "# MNIST data\n",
    "stream = FileStream('datasets/Multiclass/mnist_train.csv', target_idx=0)\n",
    "stream.prepare_for_use()\n",
    "dataset_name = \"mnist\"\n",
    "n_selected_ftr = 100\n",
    "n_window = 10\n",
    "batch_size = 100\n",
    "weights = None\n",
    "\n",
    "check_ftrs = False\n",
    "\n",
    "# load test data\n",
    "test_data = pd.read_csv('datasets/Multiclass/mnist_test.csv', header=None)\n",
    "test_y = test_data[0].to_numpy()\n",
    "test_x = test_data.drop(columns=0).to_numpy()"
   ]
  },
  {
   "cell_type": "code",
   "execution_count": 113,
   "metadata": {},
   "outputs": [],
   "source": [
    "# Human Activity Recognition\n",
    "# labels changed from [1,...,6] to [0,...,5]\n",
    "# rows shuffled\n",
    "# split into train set with 7352 instances and test set with 2948\n",
    "stream = FileStream('datasets/Multiclass/har_train.csv', target_idx = 561)\n",
    "stream.prepare_for_use()\n",
    "dataset_name = \"har\"\n",
    "n_selected_ftr = 100\n",
    "n_window = 10\n",
    "batch_size = 50\n",
    "weights = None\n",
    "\n",
    "check_ftrs = False\n",
    "\n",
    "\n",
    "# load test data\n",
    "test_data = pd.read_csv('datasets/Multiclass/har_test.csv')\n",
    "test_y = test_data[\"Class\"].to_numpy()\n",
    "test_x = test_data.drop(columns=\"Class\").to_numpy()\n"
   ]
  },
  {
   "cell_type": "code",
   "execution_count": 117,
   "metadata": {},
   "outputs": [],
   "source": [
    "# Covtype scaled to 0,1\n",
    "# https://archive.ics.uci.edu/ml/datasets/covertype\n",
    "\n",
    "# rows shuffled\n",
    "# split into train set with 400000 instances and test set with 180000\n",
    "stream = FileStream('datasets/Multiclass/covtype.scale01.test.csv', target_idx = 0)\n",
    "stream.prepare_for_use()\n",
    "dataset_name = \"covtype\"\n",
    "n_selected_ftr = 25\n",
    "n_window = 50\n",
    "batch_size = 100\n",
    "weights = [0.36460521, 0.48759922, 0.06153746, 0.00472796, 0.01633873, 0.02989095, 0.03530048]\n",
    "\n",
    "check_ftrs = False\n",
    "\n",
    "# load test data\n",
    "test_data = pd.read_csv('datasets/Multiclass/covtype.scale01.train.csv', header=None)\n",
    "test_y = test_data[0].to_numpy()\n",
    "test_x = test_data.drop(columns=0).to_numpy()"
   ]
  },
  {
   "cell_type": "code",
   "execution_count": 121,
   "metadata": {},
   "outputs": [],
   "source": [
    "def find_true_ftrs_indices(label_names, start_char):\n",
    "    indices = []\n",
    "    for i in range(len(label_names)):\n",
    "        if label_names[i].startswith(start_char):\n",
    "            indices.append(i)\n",
    "\n",
    "    return indices"
   ]
  },
  {
   "cell_type": "code",
   "execution_count": 122,
   "metadata": {},
   "outputs": [],
   "source": [
    "# synthetic dataset 1 (see data_generation.ipynb)\n",
    "stream = FileStream('datasets/Multiclass/dataset_1_train.csv', target_idx=100)\n",
    "stream.prepare_for_use()\n",
    "dataset_name = \"syn_ds_1\"\n",
    "n_selected_ftr = 20 # 15 are really informative\n",
    "n_window = 10\n",
    "batch_size = 50\n",
    "weights = None\n",
    "\n",
    "# load test data\n",
    "test_data = pd.read_csv(\"datasets/Multiclass/dataset_1_test.csv\")\n",
    "test_y = test_data[\"label\"].to_numpy()\n",
    "test_x = test_data.drop(columns=\"label\").to_numpy()\n",
    "\n",
    "# get index of real ftrs\n",
    "true_ftrs = find_true_ftrs_indices(test_data.columns, \"y\")\n",
    "check_ftrs = True"
   ]
  },
  {
   "cell_type": "code",
   "execution_count": null,
   "metadata": {},
   "outputs": [],
   "source": [
    "# synthetic dataset 2 (see data_generation.ipynb)\n",
    "stream = FileStream('datasets/Multiclass/dataset_2_train.csv', target_idx=500)\n",
    "stream.prepare_for_use()\n",
    "dataset_name = \"syn_ds_2\"\n",
    "n_selected_ftr = 30 # 25 are really informative\n",
    "n_window = 10\n",
    "batch_size = 100\n",
    "weights = None\n",
    "\n",
    "# load test data\n",
    "test_data = pd.read_csv(\"datasets/Multiclass/dataset_2_test.csv\")\n",
    "test_y = test_data[\"label\"].to_numpy()\n",
    "test_x = test_data.drop(columns=\"label\").to_numpy()\n",
    "\n",
    "# get index of real ftrs\n",
    "true_ftrs = find_true_ftrs_indices(test_data.columns, \"y\")\n",
    "check_ftrs = True"
   ]
  },
  {
   "cell_type": "code",
   "execution_count": null,
   "metadata": {},
   "outputs": [],
   "source": [
    "# synthetic dataset 3 (see data_generation.ipynb)\n",
    "stream = FileStream('datasets/Multiclass/dataset_3_train.csv', target_idx=250)\n",
    "stream.prepare_for_use()\n",
    "dataset_name = \"syn_ds_3\"\n",
    "n_selected_ftr = 20 # 20 are really informative\n",
    "n_window = 10\n",
    "batch_size = 20\n",
    "weights = [0.1, 0.05, 0.15, 0.2, 0.025, 0.125, 0.075, 0.275]\n",
    "\n",
    "# load test data\n",
    "test_data = pd.read_csv(\"datasets/Multiclass/dataset_3_test.csv\")\n",
    "test_y = test_data[\"label\"].to_numpy()\n",
    "test_x = test_data.drop(columns=\"label\").to_numpy()\n",
    "\n",
    "# get index of real ftrs\n",
    "true_ftrs = find_true_ftrs_indices(test_data.columns, \"y\")\n",
    "check_ftrs = True"
   ]
  },
  {
   "cell_type": "code",
   "execution_count": 69,
   "metadata": {},
   "outputs": [],
   "source": [
    "# synthetic dataset 4 (see data_generation.ipynb)\n",
    "stream = FileStream('datasets/Multiclass/dataset_4_train.csv', target_idx=210)\n",
    "stream.prepare_for_use()\n",
    "dataset_name = \"syn_ds_4\"\n",
    "n_selected_ftr = 100\n",
    "n_window = 10\n",
    "batch_size = 100\n",
    "weights=None\n",
    "check_ftrs = False\n",
    "\n",
    "# load test data\n",
    "test_data = pd.read_csv(\"datasets/Multiclass/dataset_4_test.csv\")\n",
    "test_y = test_data[\"label\"].to_numpy()\n",
    "test_x = test_data.drop(columns=\"label\").to_numpy()"
   ]
  },
  {
   "source": [
    "### Test without feature selection\n"
   ],
   "cell_type": "markdown",
   "metadata": {}
  },
  {
   "cell_type": "code",
   "execution_count": 123,
   "metadata": {},
   "outputs": [],
   "source": [
    "#pred_algo = \"perceptron\"\n",
    "#pred_algo = \"hoeffding\"\n",
    "pred_algo = 'fast_decision'"
   ]
  },
  {
   "cell_type": "code",
   "execution_count": 124,
   "metadata": {},
   "outputs": [],
   "source": [
    "stream.restart()\n",
    "if pred_algo ==\"perceptron\":\n",
    "    predictor = PerceptronMask()\n",
    "elif pred_algo == \"hoeffding\":\n",
    "    predictor = HoeffdingTreeClassifier()\n",
    "elif pred_algo == 'fast_decision':\n",
    "    predictor = ExtremelyFastDecisionTreeClassifier()\n",
    "x,y = stream.next_sample(batch_size=batch_size)\n",
    "predictor.partial_fit(x,y, stream.target_values)"
   ]
  },
  {
   "cell_type": "code",
   "execution_count": 125,
   "metadata": {},
   "outputs": [],
   "source": [
    "accuarcy_pure = []\n",
    "f1_pure = []\n",
    "precision = []\n",
    "recall = []\n",
    "while stream.has_more_samples():\n",
    "    x, y = stream.next_sample(batch_size=batch_size)\n",
    "    y_pred = predictor.predict(x)\n",
    "    \n",
    "    accuarcy_pure.append(accuracy_score(y, y_pred))\n",
    "    f1_pure.append(f1_score(y, y_pred, stream.target_values, \n",
    "    average=\"weighted\" ))\n",
    "    precision.append(precision_score(y, y_pred, stream.target_values,\n",
    "    average=\"weighted\"))\n",
    "    recall.append(recall_score(y, y_pred, stream.target_values,\n",
    "    average=\"weighted\"))\n",
    "\n",
    "    predictor.partial_fit(x,y)\n",
    "\n",
    "pure_moving_average = pd.Series(accuarcy_pure).rolling(window=n_window).mean().iloc[n_window-1:].values\n",
    "pure_f1 = pd.Series(f1_pure).rolling(window=n_window).mean().iloc[n_window-1:].values"
   ]
  },
  {
   "cell_type": "code",
   "execution_count": 126,
   "metadata": {},
   "outputs": [
    {
     "output_type": "stream",
     "name": "stdout",
     "text": [
      "For the test dataset the previous trained predictor reached: 0.373\n"
     ]
    }
   ],
   "source": [
    "y_pred = predictor.predict(test_x)\n",
    "accuracy_no_ofs = accuracy_score(test_y, y_pred)\n",
    "print(\"For the test dataset the previous trained predictor reached: {}\".format(accuracy_no_ofs))"
   ]
  },
  {
   "cell_type": "code",
   "execution_count": 127,
   "metadata": {},
   "outputs": [],
   "source": [
    "precision = pd.Series(precision).rolling(window=n_window).mean().iloc[n_window-1:].values\n",
    "recall = pd.Series(recall).rolling(window=n_window).mean().iloc[n_window-1:].values\n",
    "f1_pure = pd.Series(f1_pure).rolling(window=n_window).mean().iloc[n_window-1:].values"
   ]
  },
  {
   "cell_type": "code",
   "execution_count": 128,
   "metadata": {},
   "outputs": [],
   "source": [
    "col_names = [\"accuracy\",\"f1\", \"precision\", \"recall\"]\n",
    "d = {\"accuracy\":pure_moving_average, \"f1\":f1_pure, \"precision\":precision,\n",
    "\"recall\":recall}\n",
    "df = pd.DataFrame(d, columns=col_names)"
   ]
  },
  {
   "cell_type": "code",
   "execution_count": 129,
   "metadata": {},
   "outputs": [],
   "source": [
    "\n",
    "fig = px.line(df)\n",
    "#fig.show()"
   ]
  },
  {
   "source": [
    "### FIRES Framework"
   ],
   "cell_type": "markdown",
   "metadata": {}
  },
  {
   "cell_type": "code",
   "execution_count": 130,
   "metadata": {},
   "outputs": [
    {
     "output_type": "execute_result",
     "data": {
      "text/plain": [
       "HoeffdingTreeClassifier(binary_split=False, grace_period=200,\n",
       "                        leaf_prediction='nba', max_byte_size=33554432,\n",
       "                        memory_estimate_period=1000000, nb_threshold=0,\n",
       "                        no_preprune=False, nominal_attributes=None,\n",
       "                        remove_poor_atts=False, split_confidence=1e-07,\n",
       "                        split_criterion='info_gain', stop_mem_management=False,\n",
       "                        tie_threshold=0.05)"
      ]
     },
     "metadata": {},
     "execution_count": 130
    }
   ],
   "source": [
    "stream.restart()\n",
    "if pred_algo ==\"perceptron\":\n",
    "    predictor = PerceptronMask()\n",
    "elif pred_algo == \"hoeffding\":\n",
    "    predictor = HoeffdingTreeClassifier()\n",
    "elif pred_algo == 'fast_decision':\n",
    "    predictor = ExtremelyFastDecisionTreeClassifier()\n",
    "x,y = stream.next_sample(batch_size=batch_size)\n",
    "predictor.partial_fit(x,y, stream.target_values)"
   ]
  },
  {
   "cell_type": "code",
   "execution_count": 131,
   "metadata": {},
   "outputs": [],
   "source": [
    "fires_model = FIRES(n_total_ftr=stream.n_features,\n",
    "                    target_values=stream.target_values,\n",
    "                    mu_init=0,\n",
    "                    sigma_init=1,\n",
    "                    model='softmax',\n",
    "                    class_probabilities=weights)               "
   ]
  },
  {
   "cell_type": "code",
   "execution_count": 132,
   "metadata": {
    "tags": []
   },
   "outputs": [
    {
     "output_type": "stream",
     "name": "stdout",
     "text": [
      "The whole FIRES run took 92.26784272100122\n"
     ]
    }
   ],
   "source": [
    "fires_cuda_accuracy = []\n",
    "fires_f1 = []\n",
    "fires_cuda_times = []\n",
    "\n",
    "fires_cuda_selected_ftrs = []\n",
    "fires_cuda_stability = []\n",
    "\n",
    "start_time_all = timer()\n",
    "while stream.has_more_samples():\n",
    "    # Load a new sample\n",
    "    x, y = stream.next_sample(batch_size=batch_size)\n",
    "    # Select features\n",
    "    start_time = timer()\n",
    "    ftr_weights = fires_model.weigh_features(x,y)\n",
    "    ftr_selection = np.argsort(ftr_weights)[::-1][:n_selected_ftr]\n",
    "    fires_cuda_times.append(timer()-start_time)\n",
    "\n",
    "    # Truncate x (retain only selected features, 'remove' all others, e.g. by replacing them with 0)\n",
    "    x_reduced = np.zeros(x.shape)\n",
    "    x_reduced[:, ftr_selection] = x[:, ftr_selection]\n",
    "\n",
    "    # stability test\n",
    "    ftr_array = np.zeros(stream.n_features)\n",
    "    ftr_array[ftr_selection] = 1\n",
    "    fires_cuda_selected_ftrs.append(ftr_array)\n",
    "\n",
    "    if len(fires_cuda_selected_ftrs) >= 10:\n",
    "        stability = stability_factor(fires_cuda_selected_ftrs[-10:])\n",
    "        fires_cuda_stability.append(stability)\n",
    "\n",
    "\n",
    "    # Test\n",
    "    y_pred = predictor.predict(x_reduced)\n",
    "    \n",
    "    fires_cuda_accuracy.append(accuracy_score(y, y_pred))\n",
    "    fires_f1.append(f1_score(y, y_pred, average=\"weighted\",\n",
    "    labels=stream.target_values))\n",
    "\n",
    "\n",
    "    # Train\n",
    "    predictor.partial_fit(x_reduced, y)\n",
    "\n",
    "# Restart the FileStream\n",
    "end_time_all = timer()\n",
    "fires_cuda_run_time = timer() - start_time_all\n",
    "print(\"The whole FIRES run took {}\".format(fires_cuda_run_time))\n",
    "\n",
    "fires_moving_average = pd.Series(fires_cuda_accuracy).rolling(window=n_window).mean().iloc[n_window-1:].values\n",
    "fires_f1 = pd.Series(fires_f1).rolling(window=n_window).mean().iloc[n_window-1:].values\n",
    "\n",
    "if dataset_name == \"mnist\" or dataset_name == \"mnist_norm\":\n",
    "    selection_array = np.zeros((784))\n",
    "    selection_array[ftr_selection] = 1\n",
    "    mnist_fig_fires = paint_digit(selection_array)\n"
   ]
  },
  {
   "cell_type": "code",
   "execution_count": 133,
   "metadata": {},
   "outputs": [
    {
     "output_type": "stream",
     "name": "stdout",
     "text": [
      "FIRES found 10.588235294117647% of the true informative features.\n"
     ]
    }
   ],
   "source": [
    "if check_ftrs:\n",
    "    true_selected_ftr = set(ftr_selection)&set(true_ftrs)\n",
    "    fires_perc_ftr_found = len(true_selected_ftr) / len(true_ftrs) * 100\n",
    "    print(\"FIRES found {}% of the true informative features.\".format(fires_perc_ftr_found))"
   ]
  },
  {
   "cell_type": "code",
   "execution_count": 134,
   "metadata": {},
   "outputs": [
    {
     "output_type": "stream",
     "name": "stdout",
     "text": [
      "For the test dataset the previous trained predictor reached: 0.0972\n"
     ]
    }
   ],
   "source": [
    "test_x_selected = np.zeros(test_x.shape)\n",
    "test_x_selected[:,ftr_selection] = test_x[:,ftr_selection]\n",
    "y_pred = predictor.predict(test_x)\n",
    "accuracy_fires = accuracy_score(test_y, y_pred)\n",
    "print(\"For the test dataset the previous trained predictor reached: {}\".format(accuracy_fires))"
   ]
  },
  {
   "source": [
    "### FSDS algorithm\n"
   ],
   "cell_type": "markdown",
   "metadata": {}
  },
  {
   "cell_type": "code",
   "execution_count": 135,
   "metadata": {},
   "outputs": [
    {
     "output_type": "execute_result",
     "data": {
      "text/plain": [
       "HoeffdingTreeClassifier(binary_split=False, grace_period=200,\n",
       "                        leaf_prediction='nba', max_byte_size=33554432,\n",
       "                        memory_estimate_period=1000000, nb_threshold=0,\n",
       "                        no_preprune=False, nominal_attributes=None,\n",
       "                        remove_poor_atts=False, split_confidence=1e-07,\n",
       "                        split_criterion='info_gain', stop_mem_management=False,\n",
       "                        tie_threshold=0.05)"
      ]
     },
     "metadata": {},
     "execution_count": 135
    }
   ],
   "source": [
    "stream.restart()\n",
    "if pred_algo ==\"perceptron\":\n",
    "    predictor = PerceptronMask()\n",
    "elif pred_algo == \"hoeffding\":\n",
    "    predictor = HoeffdingTreeClassifier()\n",
    "elif pred_algo == 'fast_decision':\n",
    "    predictor = ExtremelyFastDecisionTreeClassifier()\n",
    "x,y = stream.next_sample(batch_size=batch_size)\n",
    "predictor.partial_fit(x,y, stream.target_values)"
   ]
  },
  {
   "cell_type": "code",
   "execution_count": 136,
   "metadata": {
    "tags": []
   },
   "outputs": [
    {
     "output_type": "stream",
     "name": "stdout",
     "text": [
      "The whole fsds run took 87.9497992889992\n"
     ]
    }
   ],
   "source": [
    "fsds_model = StreamFeatWeight(m=stream.n_features, k=stream.n_classes)\n",
    "fsds_model.low_rank_approximation(x.T) # needs some pretraining in the first run\n",
    "\n",
    "fsds_selected_ftrs = []\n",
    "fsds_stability = []\n",
    "\n",
    "fsds_accuracy = []\n",
    "fsds_f1 = []\n",
    "fsds_times = []\n",
    "\n",
    "start_time_all = timer()\n",
    "while stream.has_more_samples():\n",
    "    # Load a new sample\n",
    "    x, y = stream.next_sample(batch_size=batch_size)\n",
    "    # Select features\n",
    "    start_time = timer()\n",
    "    ftr_weights = fsds_model.low_rank_approximation(x.T)\n",
    "    ftr_selection = np.argsort(ftr_weights)[::-1][:n_selected_ftr]\n",
    "    fsds_times.append(timer()-start_time)\n",
    "\n",
    "    # Truncate x (retain only selected features, 'remove' all others, e.g. by replacing them with 0)\n",
    "    x_reduced = np.zeros(x.shape)\n",
    "    x_reduced[:, ftr_selection] = x[:, ftr_selection]\n",
    "\n",
    "     # stability test\n",
    "    ftr_array = np.zeros(stream.n_features)\n",
    "    ftr_array[ftr_selection] = 1\n",
    "    fsds_selected_ftrs.append(ftr_array)\n",
    "\n",
    "    if len(fsds_selected_ftrs) >= 10:\n",
    "        stability = stability_factor(fsds_selected_ftrs[-10:])\n",
    "        fsds_stability.append(stability)\n",
    "\n",
    "    # Test\n",
    "    y_pred = predictor.predict(x_reduced)\n",
    "    \n",
    "    fsds_accuracy.append(accuracy_score(y, y_pred))\n",
    "    fsds_f1.append(f1_score(y, y_pred, average=\"weighted\", \n",
    "    labels=stream.target_values))\n",
    "\n",
    "\n",
    "    # Train\n",
    "    predictor.partial_fit(x_reduced, y)\n",
    "\n",
    "# Restart the FileStream\n",
    "end_time_all = timer()\n",
    "fsds_run_time = timer() - start_time_all\n",
    "print(\"The whole fsds run took {}\".format(fsds_run_time))\n",
    "\n",
    "fsds_moving_average = pd.Series(fsds_accuracy).rolling(window=n_window).mean().iloc[n_window-1:].values\n",
    "fsds_f1 = pd.Series(fsds_f1).rolling(window=n_window).mean().iloc[n_window-1:].values\n",
    "\n",
    "if dataset_name == \"mnist\" or dataset_name == \"mnist_norm\":\n",
    "    \n",
    "    selection_array = np.zeros((784))\n",
    "    selection_array[ftr_selection] = 1\n",
    "\n",
    "    mnist_fig_fsds = paint_digit(selection_array)\n"
   ]
  },
  {
   "cell_type": "code",
   "execution_count": 137,
   "metadata": {},
   "outputs": [
    {
     "output_type": "stream",
     "name": "stdout",
     "text": [
      "FSDS found 18.823529411764707% of the true informative features.\n"
     ]
    }
   ],
   "source": [
    "if check_ftrs:\n",
    "    true_selected_ftr = set(ftr_selection)&set(true_ftrs)\n",
    "    fsds_perc_ftr_found = len(true_selected_ftr) / len(true_ftrs) * 100\n",
    "    print(\"FSDS found {}% of the true informative features.\".format(fsds_perc_ftr_found))"
   ]
  },
  {
   "cell_type": "code",
   "execution_count": 138,
   "metadata": {},
   "outputs": [
    {
     "output_type": "stream",
     "name": "stdout",
     "text": [
      "For the test dataset the previous trained predictor reached: 0.0972\n"
     ]
    }
   ],
   "source": [
    "test_x_selected = np.zeros(test_x.shape)\n",
    "test_x_selected[:,ftr_selection] = test_x[:,ftr_selection]\n",
    "y_pred = predictor.predict(test_x)\n",
    "accuracy_fsds = accuracy_score(test_y, y_pred)\n",
    "print(\"For the test dataset the previous trained predictor reached: {}\".format(accuracy_fsds))"
   ]
  },
  {
   "source": [
    "### OFS algorithm"
   ],
   "cell_type": "markdown",
   "metadata": {}
  },
  {
   "cell_type": "code",
   "execution_count": 139,
   "metadata": {},
   "outputs": [
    {
     "output_type": "execute_result",
     "data": {
      "text/plain": [
       "HoeffdingTreeClassifier(binary_split=False, grace_period=200,\n",
       "                        leaf_prediction='nba', max_byte_size=33554432,\n",
       "                        memory_estimate_period=1000000, nb_threshold=0,\n",
       "                        no_preprune=False, nominal_attributes=None,\n",
       "                        remove_poor_atts=False, split_confidence=1e-07,\n",
       "                        split_criterion='info_gain', stop_mem_management=False,\n",
       "                        tie_threshold=0.05)"
      ]
     },
     "metadata": {},
     "execution_count": 139
    }
   ],
   "source": [
    "stream.restart()\n",
    "if pred_algo ==\"perceptron\":\n",
    "    predictor = PerceptronMask()\n",
    "elif pred_algo == \"hoeffding\":\n",
    "    predictor = HoeffdingTreeClassifier()\n",
    "elif pred_algo == 'fast_decision':\n",
    "    predictor = ExtremelyFastDecisionTreeClassifier()\n",
    "x,y = stream.next_sample(batch_size=batch_size)\n",
    "predictor.partial_fit(x,y, stream.target_values)"
   ]
  },
  {
   "cell_type": "code",
   "execution_count": 140,
   "metadata": {
    "tags": []
   },
   "outputs": [
    {
     "output_type": "stream",
     "name": "stdout",
     "text": [
      "The whole ofs run took 94.56627853499958\n"
     ]
    }
   ],
   "source": [
    "ofs = MC_OFS(regularization_param = 0.01, step_size = 0.1, n_selected_ftr=n_selected_ftr, n_total_ftr=stream.n_num_features, n_classes=stream.n_classes)\n",
    "\n",
    "ofs_accuracy = []\n",
    "ofs_f1 = []\n",
    "ofs_selected_ftrs = []\n",
    "ofs_stability = []\n",
    "\n",
    "start_time_all = timer()\n",
    "while stream.has_more_samples():\n",
    "    # Load a new sample\n",
    "    x, y = stream.next_sample(batch_size=batch_size)\n",
    "\n",
    "    # Select features\n",
    "    for idx, label in enumerate(y):\n",
    "        ofs.train(x[idx],label)\n",
    "\n",
    "    ftr_selection = ofs.get_feature_indices()\n",
    "    # Truncate x (retain only selected features, 'remove' all others, e.g. by replacing them with 0)\n",
    "    x_reduced = np.zeros(x.shape)\n",
    "    x_reduced[:, ftr_selection] = x[:, ftr_selection]\n",
    "\n",
    "     # stability test\n",
    "    ftr_array = np.zeros(stream.n_features)\n",
    "    ftr_array[ftr_selection] = 1\n",
    "    ofs_selected_ftrs.append(ftr_array)\n",
    "\n",
    "    if len(ofs_selected_ftrs) >= 10:\n",
    "        stability = stability_factor(ofs_selected_ftrs[-10:])\n",
    "        ofs_stability.append(stability)\n",
    "\n",
    "    # Test\n",
    "    y_pred = predictor.predict(x_reduced)\n",
    "    ofs_accuracy.append(accuracy_score(y, y_pred))\n",
    "    ofs_f1.append(f1_score(y,y_pred, labels=stream.target_values,\n",
    "    average=\"weighted\"))\n",
    "\n",
    "    # Train\n",
    "    predictor.partial_fit(x_reduced, y)\n",
    "\n",
    "end_time_all = timer()\n",
    "ofs_run_time = timer() - start_time_all\n",
    "print(\"The whole ofs run took {}\".format(ofs_run_time))\n",
    "\n",
    "ofs_moving_average = pd.Series(ofs_accuracy).rolling(window=n_window).mean().iloc[n_window-1:].values\n",
    "ofs_f1 = pd.Series(ofs_f1).rolling(window=n_window).mean().iloc[n_window-1:].values\n",
    "\n",
    "if dataset_name == \"mnist\" or dataset_name == \"mnist_norm\":\n",
    "    selection_array = np.zeros((784))\n",
    "    selection_array[ftr_selection] = 1\n",
    "    mnist_fig_ofs = paint_digit(selection_array)\n",
    "# Restart the FileStream\n",
    "stream.restart()"
   ]
  },
  {
   "cell_type": "code",
   "execution_count": 141,
   "metadata": {},
   "outputs": [
    {
     "output_type": "stream",
     "name": "stdout",
     "text": [
      "OFS found 18.823529411764707% of the true informative features.\n"
     ]
    }
   ],
   "source": [
    "if check_ftrs:\n",
    "    true_selected_ftr = set(ftr_selection)&set(true_ftrs)\n",
    "    ofs_perc_ftr_found = len(true_selected_ftr) / len(true_ftrs)* 100\n",
    "    print(\"OFS found {}% of the true informative features.\".format(fsds_perc_ftr_found))"
   ]
  },
  {
   "cell_type": "code",
   "execution_count": 142,
   "metadata": {},
   "outputs": [
    {
     "output_type": "stream",
     "name": "stdout",
     "text": [
      "For the test dataset the previous trained predictor reached: 0.0972\n"
     ]
    }
   ],
   "source": [
    "test_x_selected = np.zeros(test_x.shape)\n",
    "test_x_selected[:,ftr_selection] = test_x[:,ftr_selection]\n",
    "y_pred = predictor.predict(test_x)\n",
    "accuracy_ofs = accuracy_score(test_y, y_pred)\n",
    "print(\"For the test dataset the previous trained predictor reached: {}\".format(accuracy_ofs))"
   ]
  },
  {
   "source": [
    "### OFSSGR algorithm"
   ],
   "cell_type": "markdown",
   "metadata": {}
  },
  {
   "cell_type": "code",
   "execution_count": 143,
   "metadata": {},
   "outputs": [
    {
     "output_type": "execute_result",
     "data": {
      "text/plain": [
       "HoeffdingTreeClassifier(binary_split=False, grace_period=200,\n",
       "                        leaf_prediction='nba', max_byte_size=33554432,\n",
       "                        memory_estimate_period=1000000, nb_threshold=0,\n",
       "                        no_preprune=False, nominal_attributes=None,\n",
       "                        remove_poor_atts=False, split_confidence=1e-07,\n",
       "                        split_criterion='info_gain', stop_mem_management=False,\n",
       "                        tie_threshold=0.05)"
      ]
     },
     "metadata": {},
     "execution_count": 143
    }
   ],
   "source": [
    "stream.restart()\n",
    "if pred_algo ==\"perceptron\":\n",
    "    predictor = PerceptronMask()\n",
    "elif pred_algo == \"hoeffding\":\n",
    "    predictor = HoeffdingTreeClassifier()\n",
    "elif pred_algo == 'fast_decision':\n",
    "    predictor = ExtremelyFastDecisionTreeClassifier()\n",
    "x,y = stream.next_sample(batch_size=batch_size)\n",
    "predictor.partial_fit(x,y, stream.target_values)"
   ]
  },
  {
   "cell_type": "code",
   "execution_count": 144,
   "metadata": {},
   "outputs": [
    {
     "output_type": "stream",
     "name": "stdout",
     "text": [
      "The whole ofssgd run took 117.58011511599943\n"
     ]
    }
   ],
   "source": [
    "ofssgd_model = MC_OFSSGD(reduction_threshold=0.4, reduction_value=0.1, regularization_param=0.01, step_size=0.2, n_total_ftrs=stream.n_num_features, n_classes=stream.n_classes)\n",
    "\n",
    "ofssgd_accuracy = []\n",
    "ofssgd_f1 = []\n",
    "ofssgd_selected_ftrs = []\n",
    "ofssgd_stability = []\n",
    "\n",
    "start_time_all = timer()\n",
    "while stream.has_more_samples():\n",
    "    # Load a new sample\n",
    "    x, y = stream.next_sample(batch_size=batch_size)\n",
    "\n",
    "    # Select features\n",
    "    for idx, label in enumerate(y):\n",
    "        ofssgd_model.train(x[idx],label)\n",
    "\n",
    "    ftr_selection = ofssgd_model.get_feature_indices()\n",
    "    # Truncate x (retain only selected features, 'remove' all others, e.g. by replacing them with 0)\n",
    "    x_reduced = np.zeros(x.shape)\n",
    "    x_reduced[:, ftr_selection] = x[:, ftr_selection]\n",
    "\n",
    "    # stability test\n",
    "    ftr_array = np.zeros(stream.n_features)\n",
    "    ftr_array[ftr_selection] = 1\n",
    "    ofssgd_selected_ftrs.append(ftr_array)\n",
    "\n",
    "    if len(ofssgd_selected_ftrs) >= 10:\n",
    "        stability = stability_factor(ofssgd_selected_ftrs[-10:])\n",
    "        ofssgd_stability.append(stability)\n",
    "\n",
    "    # Test\n",
    "    y_pred = predictor.predict(x_reduced)\n",
    "    ofssgd_accuracy.append(accuracy_score(y, y_pred))\n",
    "    ofssgd_f1.append(f1_score(y, y_pred, labels=stream.target_values,\n",
    "    average=\"weighted\"))\n",
    "\n",
    "    # Train\n",
    "    predictor.partial_fit(x_reduced, y)\n",
    "\n",
    "end_time_all = timer()\n",
    "ofssgd_run_time = timer() - start_time_all\n",
    "print(\"The whole ofssgd run took {}\".format(ofssgd_run_time))\n",
    "\n",
    "ofssgd_moving_average = pd.Series(ofssgd_accuracy).rolling(window=n_window).mean().iloc[n_window-1:].values\n",
    "ofssgd_f1 = pd.Series(ofssgd_f1).rolling(window=n_window).mean().iloc[n_window-1:].values\n",
    "\n",
    "if dataset_name == \"mnist\" or dataset_name == \"mnist_norm\":\n",
    "    selection_array = np.zeros((784))\n",
    "    selection_array[ftr_selection] = 1\n",
    "    mnist_fig_ofssgd = paint_digit(selection_array)\n"
   ]
  },
  {
   "cell_type": "code",
   "execution_count": 146,
   "metadata": {},
   "outputs": [
    {
     "output_type": "stream",
     "name": "stdout",
     "text": [
      "OFSSGD found 100.0% of the true informative features.\n"
     ]
    }
   ],
   "source": [
    "if check_ftrs:\n",
    "    true_selected_ftr = set(ftr_selection)&set(true_ftrs)\n",
    "    ofssgd_perc_ftr_found = len(true_selected_ftr) / len(true_ftrs) * 100\n",
    "    print(\"OFSSGD found {}% of the true informative features.\".format(ofssgd_perc_ftr_found))"
   ]
  },
  {
   "cell_type": "code",
   "execution_count": 147,
   "metadata": {},
   "outputs": [
    {
     "output_type": "stream",
     "name": "stdout",
     "text": [
      "For the test dataset the previous trained predictor reached: 0.373\n"
     ]
    }
   ],
   "source": [
    "test_x_selected = np.zeros(test_x.shape)\n",
    "test_x_selected[:,ftr_selection] = test_x[:,ftr_selection]\n",
    "y_pred = predictor.predict(test_x)\n",
    "accuracy_ofssgd = accuracy_score(test_y, y_pred)\n",
    "print(\"For the test dataset the previous trained predictor reached: {}\".format(accuracy_ofssgd))"
   ]
  },
  {
   "source": [
    "### Pick n random ftrs in each iteration as benchmark"
   ],
   "cell_type": "markdown",
   "metadata": {}
  },
  {
   "cell_type": "code",
   "execution_count": 148,
   "metadata": {},
   "outputs": [
    {
     "output_type": "execute_result",
     "data": {
      "text/plain": [
       "HoeffdingTreeClassifier(binary_split=False, grace_period=200,\n",
       "                        leaf_prediction='nba', max_byte_size=33554432,\n",
       "                        memory_estimate_period=1000000, nb_threshold=0,\n",
       "                        no_preprune=False, nominal_attributes=None,\n",
       "                        remove_poor_atts=False, split_confidence=1e-07,\n",
       "                        split_criterion='info_gain', stop_mem_management=False,\n",
       "                        tie_threshold=0.05)"
      ]
     },
     "metadata": {},
     "execution_count": 148
    }
   ],
   "source": [
    "stream.restart()\n",
    "if pred_algo ==\"perceptron\":\n",
    "    predictor = PerceptronMask()\n",
    "elif pred_algo == \"hoeffding\":\n",
    "    predictor = HoeffdingTreeClassifier()\n",
    "elif pred_algo == 'fast_decision':\n",
    "    predictor = ExtremelyFastDecisionTreeClassifier()\n",
    "x,y = stream.next_sample(batch_size=batch_size)\n",
    "predictor.partial_fit(x,y, stream.target_values)"
   ]
  },
  {
   "cell_type": "code",
   "execution_count": 149,
   "metadata": {},
   "outputs": [
    {
     "output_type": "stream",
     "name": "stdout",
     "text": [
      "The whole random run took 108.8902986489993\n"
     ]
    }
   ],
   "source": [
    "random_accuracy = []\n",
    "random_f1 = []\n",
    "random_selected_ftrs = []\n",
    "random_stability = []\n",
    "\n",
    "start_time_all = timer()\n",
    "while stream.has_more_samples():\n",
    "    # Load a new sample\n",
    "    x, y = stream.next_sample(batch_size=batch_size)\n",
    "\n",
    "    \n",
    "    # select features\n",
    "    ftr_selection = np.random.choice(len(x[0]), n_selected_ftr)\n",
    "\n",
    "    # Truncate x (retain only selected features, 'remove' all others, e.g. by replacing them with 0)\n",
    "    x_reduced = np.zeros(x.shape)\n",
    "    x_reduced[:, ftr_selection] = x[:, ftr_selection]\n",
    "\n",
    "    # stability test\n",
    "    ftr_array = np.zeros(stream.n_features)\n",
    "    ftr_array[ftr_selection] = 1\n",
    "    random_selected_ftrs.append(ftr_array)\n",
    "\n",
    "    if len(random_selected_ftrs) >= 10:\n",
    "        stability = stability_factor(random_selected_ftrs[-10:])\n",
    "        random_stability.append(stability)\n",
    "\n",
    "    # Test\n",
    "    y_pred = predictor.predict(x_reduced)\n",
    "    random_accuracy.append(accuracy_score(y, y_pred))\n",
    "    random_f1.append(f1_score(y, y_pred, labels=stream.target_values,\n",
    "    average=\"weighted\"))\n",
    "\n",
    "    # Train\n",
    "    predictor.partial_fit(x_reduced, y)\n",
    "\n",
    "end_time_all = timer()\n",
    "random_run_time = timer() - start_time_all\n",
    "print(\"The whole random run took {}\".format(random_run_time))\n",
    "random_moving_average = pd.Series(random_accuracy).rolling(window=n_window).mean().iloc[n_window-1:].values\n",
    "random_f1 = pd.Series(random_f1).rolling(window=n_window).mean().iloc[n_window-1:].values\n"
   ]
  },
  {
   "source": [
    "### Plot all\n"
   ],
   "cell_type": "markdown",
   "metadata": {}
  },
  {
   "cell_type": "code",
   "execution_count": 150,
   "metadata": {},
   "outputs": [
    {
     "output_type": "display_data",
     "data": {
      "application/vnd.plotly.v1+json": {
       "config": {
        "plotlyServerURL": "https://plot.ly"
       },
       "data": [
        {
         "hovertemplate": "variable=FIRES<br>batches=%{x}<br>stability=%{y}<extra></extra>",
         "legendgroup": "FIRES",
         "line": {
          "color": "red",
          "dash": "solid"
         },
         "mode": "lines",
         "name": "FIRES",
         "showlegend": true,
         "type": "scattergl",
         "x": [
          0,
          1,
          2,
          3,
          4,
          5,
          6,
          7,
          8,
          9,
          10,
          11,
          12,
          13,
          14,
          15,
          16,
          17,
          18,
          19,
          20,
          21,
          22,
          23,
          24,
          25,
          26,
          27,
          28,
          29,
          30,
          31,
          32,
          33,
          34,
          35,
          36,
          37,
          38,
          39,
          40,
          41,
          42,
          43,
          44,
          45,
          46,
          47,
          48,
          49,
          50,
          51,
          52,
          53,
          54,
          55,
          56,
          57,
          58,
          59,
          60,
          61,
          62,
          63,
          64,
          65,
          66,
          67,
          68,
          69,
          70,
          71,
          72,
          73,
          74,
          75,
          76,
          77,
          78,
          79,
          80,
          81,
          82,
          83,
          84,
          85,
          86,
          87,
          88,
          89,
          90,
          91,
          92,
          93,
          94,
          95,
          96,
          97,
          98,
          99,
          100,
          101,
          102,
          103,
          104,
          105,
          106,
          107,
          108,
          109,
          110,
          111,
          112,
          113,
          114,
          115,
          116,
          117,
          118,
          119,
          120,
          121,
          122,
          123,
          124,
          125,
          126,
          127,
          128,
          129,
          130,
          131,
          132,
          133,
          134,
          135,
          136,
          137,
          138,
          139,
          140,
          141,
          142,
          143,
          144,
          145,
          146,
          147,
          148,
          149,
          150,
          151,
          152,
          153,
          154,
          155,
          156,
          157,
          158,
          159,
          160,
          161,
          162,
          163,
          164,
          165,
          166,
          167,
          168,
          169,
          170,
          171,
          172,
          173,
          174,
          175,
          176,
          177,
          178,
          179,
          180,
          181,
          182,
          183,
          184,
          185,
          186,
          187,
          188,
          189,
          190,
          191,
          192,
          193,
          194,
          195,
          196,
          197,
          198,
          199,
          200,
          201,
          202,
          203,
          204,
          205,
          206,
          207,
          208,
          209,
          210,
          211,
          212,
          213,
          214,
          215,
          216,
          217,
          218,
          219,
          220,
          221,
          222,
          223,
          224,
          225,
          226,
          227,
          228,
          229,
          230,
          231,
          232,
          233,
          234,
          235,
          236,
          237,
          238,
          239,
          240,
          241,
          242,
          243,
          244,
          245,
          246,
          247,
          248,
          249,
          250,
          251,
          252,
          253,
          254,
          255,
          256,
          257,
          258,
          259,
          260,
          261,
          262,
          263,
          264,
          265,
          266,
          267,
          268,
          269,
          270,
          271,
          272,
          273,
          274,
          275,
          276,
          277,
          278,
          279,
          280,
          281,
          282,
          283,
          284,
          285,
          286,
          287,
          288,
          289
         ],
         "xaxis": "x",
         "y": [
          0.3652777777777778,
          0.41111111111111115,
          0.44861111111111107,
          0.4916666666666667,
          0.5361111111111111,
          0.5916666666666667,
          0.6041666666666667,
          0.6180555555555555,
          0.6083333333333334,
          0.6097222222222223,
          0.6263888888888889,
          0.6152777777777778,
          0.6305555555555555,
          0.6402777777777778,
          0.6749999999999999,
          0.7000000000000001,
          0.7361111111111112,
          0.7819444444444444,
          0.7944444444444443,
          0.811111111111111,
          0.8291666666666667,
          0.8375,
          0.8430555555555556,
          0.8458333333333333,
          0.8375,
          0.8402777777777778,
          0.8486111111111111,
          0.8541666666666667,
          0.8583333333333334,
          0.851388888888889,
          0.8569444444444445,
          0.8541666666666667,
          0.8583333333333334,
          0.85,
          0.8527777777777779,
          0.8402777777777777,
          0.8388888888888889,
          0.8222222222222223,
          0.8194444444444445,
          0.8263888888888887,
          0.8444444444444444,
          0.8541666666666667,
          0.8638888888888889,
          0.875,
          0.8875000000000001,
          0.888888888888889,
          0.8930555555555556,
          0.9041666666666667,
          0.9194444444444445,
          0.9333333333333333,
          0.9486111111111112,
          0.9486111111111112,
          0.9486111111111112,
          0.9319444444444445,
          0.9277777777777778,
          0.9291666666666667,
          0.9152777777777779,
          0.8930555555555556,
          0.8875000000000001,
          0.8819444444444445,
          0.8666666666666667,
          0.851388888888889,
          0.8291666666666667,
          0.8250000000000001,
          0.8194444444444445,
          0.8250000000000001,
          0.8444444444444444,
          0.848611111111111,
          0.8583333333333332,
          0.8805555555555555,
          0.8986111111111111,
          0.9166666666666667,
          0.9055555555555554,
          0.9027777777777777,
          0.9013888888888888,
          0.9125000000000001,
          0.913888888888889,
          0.9152777777777779,
          0.9152777777777779,
          0.9236111111111112,
          0.9305555555555556,
          0.9305555555555556,
          0.9388888888888889,
          0.9472222222222223,
          0.9361111111111111,
          0.9347222222222222,
          0.9361111111111111,
          0.9416666666666667,
          0.9375,
          0.9319444444444445,
          0.9333333333333332,
          0.9361111111111111,
          0.9416666666666667,
          0.9388888888888889,
          0.9430555555555556,
          0.9444444444444443,
          0.936111111111111,
          0.9333333333333332,
          0.9333333333333333,
          0.9277777777777778,
          0.9263888888888889,
          0.925,
          0.9263888888888889,
          0.9291666666666667,
          0.922222222222222,
          0.9208333333333334,
          0.9208333333333334,
          0.9166666666666667,
          0.9222222222222223,
          0.9125000000000001,
          0.9055555555555556,
          0.9027777777777778,
          0.9055555555555556,
          0.8958333333333334,
          0.9055555555555556,
          0.9236111111111109,
          0.9347222222222221,
          0.9430555555555556,
          0.9486111111111112,
          0.9500000000000001,
          0.9458333333333332,
          0.9472222222222221,
          0.9541666666666665,
          0.9652777777777777,
          0.9597222222222221,
          0.9569444444444444,
          0.9388888888888888,
          0.9319444444444444,
          0.9249999999999998,
          0.9166666666666665,
          0.913888888888889,
          0.9111111111111111,
          0.9111111111111111,
          0.9152777777777779,
          0.9111111111111111,
          0.9083333333333333,
          0.9027777777777778,
          0.9041666666666667,
          0.9069444444444444,
          0.9152777777777779,
          0.913888888888889,
          0.9208333333333334,
          0.9263888888888889,
          0.9305555555555556,
          0.9347222222222222,
          0.9305555555555556,
          0.9291666666666667,
          0.9208333333333332,
          0.9180555555555554,
          0.9208333333333334,
          0.9194444444444443,
          0.9277777777777777,
          0.9319444444444445,
          0.9416666666666665,
          0.9541666666666667,
          0.9541666666666667,
          0.9416666666666665,
          0.9333333333333332,
          0.9236111111111109,
          0.9208333333333332,
          0.925,
          0.9263888888888889,
          0.9277777777777778,
          0.9263888888888889,
          0.9305555555555556,
          0.9402777777777778,
          0.9402777777777778,
          0.9430555555555556,
          0.9569444444444445,
          0.976388888888889,
          0.9875,
          1,
          1,
          1,
          1,
          1,
          1,
          0.9875,
          0.9777777777777779,
          0.9777777777777779,
          0.9680555555555556,
          0.9569444444444445,
          0.9472222222222223,
          0.9402777777777778,
          0.9333333333333333,
          0.9305555555555556,
          0.9277777777777778,
          0.9361111111111111,
          0.9458333333333334,
          0.9472222222222223,
          0.9472222222222223,
          0.9347222222222222,
          0.9263888888888889,
          0.9208333333333334,
          0.8958333333333334,
          0.8847222222222223,
          0.8763888888888889,
          0.8763888888888889,
          0.8763888888888889,
          0.8819444444444445,
          0.8930555555555556,
          0.9013888888888889,
          0.9180555555555556,
          0.9319444444444445,
          0.9277777777777778,
          0.9152777777777779,
          0.9111111111111111,
          0.9152777777777779,
          0.9236111111111112,
          0.9416666666666667,
          0.9500000000000001,
          0.9430555555555556,
          0.9416666666666667,
          0.9388888888888889,
          0.9458333333333334,
          0.9472222222222223,
          0.951388888888889,
          0.9583333333333334,
          0.9583333333333334,
          0.9555555555555556,
          0.9444444444444445,
          0.9388888888888889,
          0.9361111111111111,
          0.9277777777777778,
          0.925,
          0.9277777777777778,
          0.9361111111111111,
          0.9500000000000001,
          0.9708333333333333,
          0.9777777777777779,
          0.9708333333333333,
          0.9583333333333334,
          0.9555555555555556,
          0.9486111111111112,
          0.9402777777777778,
          0.9277777777777778,
          0.9222222222222223,
          0.9194444444444445,
          0.9222222222222223,
          0.9305555555555556,
          0.9375,
          0.9416666666666667,
          0.9458333333333334,
          0.9555555555555556,
          0.9652777777777778,
          0.9583333333333334,
          0.9708333333333333,
          0.9708333333333333,
          0.9583333333333334,
          0.9402777777777778,
          0.9277777777777778,
          0.9236111111111112,
          0.9263888888888889,
          0.925,
          0.9180555555555556,
          0.925,
          0.9277777777777778,
          0.9375,
          0.9333333333333333,
          0.9291666666666667,
          0.9333333333333333,
          0.9375,
          0.9444444444444445,
          0.9486111111111112,
          0.9486111111111112,
          0.9486111111111112,
          0.9486111111111112,
          0.9569444444444445,
          0.9611111111111111,
          0.9680555555555556,
          0.9777777777777779,
          0.9680555555555556,
          0.9680555555555556,
          0.9652777777777778,
          0.9444444444444445,
          0.9402777777777778,
          0.9305555555555556,
          0.9263888888888889,
          0.9277777777777778,
          0.9347222222222222,
          0.9472222222222223,
          0.9583333333333334,
          0.9777777777777779,
          0.9875,
          0.9875,
          0.9875,
          0.9875,
          0.9875,
          0.9875,
          0.9875
         ],
         "yaxis": "y"
        },
        {
         "hovertemplate": "variable=OFS<br>batches=%{x}<br>stability=%{y}<extra></extra>",
         "legendgroup": "OFS",
         "line": {
          "color": "purple",
          "dash": "solid"
         },
         "mode": "lines",
         "name": "OFS",
         "showlegend": true,
         "type": "scattergl",
         "x": [
          0,
          1,
          2,
          3,
          4,
          5,
          6,
          7,
          8,
          9,
          10,
          11,
          12,
          13,
          14,
          15,
          16,
          17,
          18,
          19,
          20,
          21,
          22,
          23,
          24,
          25,
          26,
          27,
          28,
          29,
          30,
          31,
          32,
          33,
          34,
          35,
          36,
          37,
          38,
          39,
          40,
          41,
          42,
          43,
          44,
          45,
          46,
          47,
          48,
          49,
          50,
          51,
          52,
          53,
          54,
          55,
          56,
          57,
          58,
          59,
          60,
          61,
          62,
          63,
          64,
          65,
          66,
          67,
          68,
          69,
          70,
          71,
          72,
          73,
          74,
          75,
          76,
          77,
          78,
          79,
          80,
          81,
          82,
          83,
          84,
          85,
          86,
          87,
          88,
          89,
          90,
          91,
          92,
          93,
          94,
          95,
          96,
          97,
          98,
          99,
          100,
          101,
          102,
          103,
          104,
          105,
          106,
          107,
          108,
          109,
          110,
          111,
          112,
          113,
          114,
          115,
          116,
          117,
          118,
          119,
          120,
          121,
          122,
          123,
          124,
          125,
          126,
          127,
          128,
          129,
          130,
          131,
          132,
          133,
          134,
          135,
          136,
          137,
          138,
          139,
          140,
          141,
          142,
          143,
          144,
          145,
          146,
          147,
          148,
          149,
          150,
          151,
          152,
          153,
          154,
          155,
          156,
          157,
          158,
          159,
          160,
          161,
          162,
          163,
          164,
          165,
          166,
          167,
          168,
          169,
          170,
          171,
          172,
          173,
          174,
          175,
          176,
          177,
          178,
          179,
          180,
          181,
          182,
          183,
          184,
          185,
          186,
          187,
          188,
          189,
          190,
          191,
          192,
          193,
          194,
          195,
          196,
          197,
          198,
          199,
          200,
          201,
          202,
          203,
          204,
          205,
          206,
          207,
          208,
          209,
          210,
          211,
          212,
          213,
          214,
          215,
          216,
          217,
          218,
          219,
          220,
          221,
          222,
          223,
          224,
          225,
          226,
          227,
          228,
          229,
          230,
          231,
          232,
          233,
          234,
          235,
          236,
          237,
          238,
          239,
          240,
          241,
          242,
          243,
          244,
          245,
          246,
          247,
          248,
          249,
          250,
          251,
          252,
          253,
          254,
          255,
          256,
          257,
          258,
          259,
          260,
          261,
          262,
          263,
          264,
          265,
          266,
          267,
          268,
          269,
          270,
          271,
          272,
          273,
          274,
          275,
          276,
          277,
          278,
          279,
          280,
          281,
          282,
          283,
          284,
          285,
          286,
          287,
          288,
          289
         ],
         "xaxis": "x",
         "y": [
          0.897480326330229,
          0.9032560825933148,
          0.913363656053715,
          0.9234712295141148,
          0.9364666811060575,
          0.9364666811060577,
          0.937910620171829,
          0.937910620171829,
          0.9393545592376004,
          0.9407984983033716,
          0.9407984983033717,
          0.9422424373691433,
          0.9451303155006863,
          0.9436863764349149,
          0.9335788029745147,
          0.9220272904483431,
          0.9119197169879428,
          0.9104757779221715,
          0.9003682044617711,
          0.8974803263302282,
          0.8931485091329142,
          0.8873727528698285,
          0.891704570067143,
          0.8945924481986861,
          0.8902606310013714,
          0.8902606310013713,
          0.8917045700671427,
          0.896036387264457,
          0.8974803263302287,
          0.9018121435275431,
          0.9090318388564003,
          0.9104757779221717,
          0.9191394123168004,
          0.9306909248429719,
          0.9451303155006862,
          0.9494621326980001,
          0.9537939498953142,
          0.9610136452241712,
          0.966789401487257,
          0.9624575842899431,
          0.9639015233557148,
          0.9696772796188006,
          0.965345462421486,
          0.9581257670926286,
          0.9537939498953146,
          0.9523500108295433,
          0.9494621326980004,
          0.9480181936322291,
          0.9494621326980005,
          0.935022742040286,
          0.9263591076456575,
          0.9278030467114289,
          0.9321348639087432,
          0.9350227420402858,
          0.9407984983033716,
          0.9494621326979997,
          0.9422424373691429,
          0.9364666811060575,
          0.9263591076456573,
          0.9263591076456572,
          0.9176954732510284,
          0.906143960724857,
          0.8974803263302286,
          0.8945924481986859,
          0.8960363872644576,
          0.9003682044617718,
          0.9075878997906289,
          0.9018121435275431,
          0.9061439607248574,
          0.9061439607248571,
          0.9090318388563999,
          0.9047000216590858,
          0.9061439607248571,
          0.9104757779221716,
          0.9061439607248575,
          0.9047000216590858,
          0.9032560825933147,
          0.9018121435275432,
          0.9090318388564004,
          0.9090318388564003,
          0.9104757779221716,
          0.9104757779221716,
          0.9104757779221715,
          0.9104757779221716,
          0.9061439607248574,
          0.9104757779221719,
          0.9133636560537148,
          0.9162515341852578,
          0.9220272904483435,
          0.9379106201718291,
          0.9393545592376004,
          0.9335788029745147,
          0.9191394123168002,
          0.9205833513825716,
          0.9176954732510287,
          0.914807595119486,
          0.9104757779221716,
          0.9104757779221716,
          0.9075878997906289,
          0.9061439607248574,
          0.9104757779221717,
          0.9119197169879433,
          0.9205833513825716,
          0.9278030467114289,
          0.9176954732510287,
          0.9119197169879429,
          0.9032560825933141,
          0.9018121435275429,
          0.9003682044617715,
          0.904700021659086,
          0.9032560825933145,
          0.9104757779221716,
          0.9191394123168002,
          0.9191394123168002,
          0.9220272904483434,
          0.9162515341852575,
          0.9249151685798859,
          0.9148075951194857,
          0.9061439607248569,
          0.9003682044617712,
          0.8931485091329143,
          0.8931485091329144,
          0.9003682044617718,
          0.9104757779221716,
          0.9205833513825717,
          0.9306909248429718,
          0.9422424373691434,
          0.9422424373691433,
          0.9306909248429718,
          0.9162515341852572,
          0.9249151685798859,
          0.9263591076456573,
          0.9205833513825719,
          0.9205833513825717,
          0.9220272904483431,
          0.9292469857772003,
          0.9407984983033715,
          0.9581257670926284,
          0.9667894014872572,
          0.9768969749476571,
          0.9870045484080572,
          0.9870045484080575,
          0.9870045484080575,
          0.9870045484080575,
          0.9870045484080575,
          0.9870045484080575,
          0.9740090968161146,
          0.9624575842899432,
          0.9537939498953147,
          0.9364666811060575,
          0.9306909248429718,
          0.9364666811060575,
          0.922027290448343,
          0.9205833513825716,
          0.9119197169879432,
          0.9075878997906287,
          0.9061439607248575,
          0.9018121435275432,
          0.9061439607248577,
          0.9191394123168004,
          0.9321348639087432,
          0.9480181936322291,
          0.9480181936322291,
          0.9566818280268573,
          0.9639015233557144,
          0.9537939498953147,
          0.9451303155006863,
          0.9509060717637721,
          0.9537939498953147,
          0.9523500108295431,
          0.9537939498953144,
          0.9509060717637716,
          0.9393545592376,
          0.9393545592376004,
          0.9422424373691433,
          0.9321348639087431,
          0.9249151685798861,
          0.9191394123168004,
          0.9191394123168005,
          0.923471229514115,
          0.9292469857772006,
          0.9407984983033719,
          0.9393545592376006,
          0.937910620171829,
          0.9278030467114289,
          0.9176954732510287,
          0.9104757779221715,
          0.904700021659086,
          0.8989242653960002,
          0.8960363872644572,
          0.891704570067143,
          0.8931485091329144,
          0.9003682044617715,
          0.9075878997906289,
          0.9104757779221717,
          0.9148075951194858,
          0.9191394123168002,
          0.9176954732510287,
          0.9162515341852574,
          0.9162515341852575,
          0.9176954732510288,
          0.9220272904483433,
          0.9292469857772006,
          0.9422424373691434,
          0.9422424373691433,
          0.9436863764349146,
          0.9480181936322287,
          0.9509060717637714,
          0.956681828026857,
          0.9653454624214854,
          0.965345462421486,
          0.9667894014872574,
          0.9480181936322288,
          0.9494621326980005,
          0.9306909248429716,
          0.9148075951194855,
          0.9075878997906284,
          0.8989242653959999,
          0.8917045700671428,
          0.8873727528698284,
          0.8844848747382857,
          0.8844848747382859,
          0.8917045700671431,
          0.8974803263302287,
          0.8974803263302289,
          0.8931485091329143,
          0.8945924481986856,
          0.8931485091329142,
          0.8917045700671428,
          0.896036387264457,
          0.8945924481986859,
          0.8945924481986859,
          0.8989242653960001,
          0.9003682044617712,
          0.8974803263302286,
          0.8902606310013713,
          0.8873727528698284,
          0.8844848747382857,
          0.8830409356725145,
          0.8830409356725143,
          0.8859288138040572,
          0.8873727528698285,
          0.8917045700671431,
          0.8931485091329144,
          0.8960363872644572,
          0.8902606310013714,
          0.8902606310013714,
          0.8902606310013716,
          0.8960363872644572,
          0.9003682044617716,
          0.9075878997906289,
          0.9119197169879433,
          0.9263591076456575,
          0.937910620171829,
          0.9494621326980005,
          0.9509060717637721,
          0.9523500108295434,
          0.9465742545664578,
          0.9422424373691436,
          0.9393545592376006,
          0.9379106201718291,
          0.9364666811060577,
          0.937910620171829,
          0.9364666811060575,
          0.9364666811060577,
          0.937910620171829,
          0.9292469857772003,
          0.9249151685798861,
          0.9205833513825717,
          0.9191394123168005,
          0.9133636560537145,
          0.9104757779221715,
          0.9133636560537143,
          0.9090318388564003,
          0.9119197169879432,
          0.9148075951194863,
          0.9191394123168007,
          0.9292469857772003,
          0.9306909248429718,
          0.9234712295141144,
          0.9162515341852575,
          0.9133636560537148,
          0.9148075951194863,
          0.9104757779221716,
          0.9090318388564,
          0.9104757779221715,
          0.9032560825933144,
          0.9003682044617716,
          0.8960363872644569,
          0.8945924481986857
         ],
         "yaxis": "y"
        },
        {
         "hovertemplate": "variable=OFSSGD<br>batches=%{x}<br>stability=%{y}<extra></extra>",
         "legendgroup": "OFSSGD",
         "line": {
          "color": "yellow",
          "dash": "solid"
         },
         "mode": "lines",
         "name": "OFSSGD",
         "showlegend": true,
         "type": "scattergl",
         "x": [
          0,
          1,
          2,
          3,
          4,
          5,
          6,
          7,
          8,
          9,
          10,
          11,
          12,
          13,
          14,
          15,
          16,
          17,
          18,
          19,
          20,
          21,
          22,
          23,
          24,
          25,
          26,
          27,
          28,
          29,
          30,
          31,
          32,
          33,
          34,
          35,
          36,
          37,
          38,
          39,
          40,
          41,
          42,
          43,
          44,
          45,
          46,
          47,
          48,
          49,
          50,
          51,
          52,
          53,
          54,
          55,
          56,
          57,
          58,
          59,
          60,
          61,
          62,
          63,
          64,
          65,
          66,
          67,
          68,
          69,
          70,
          71,
          72,
          73,
          74,
          75,
          76,
          77,
          78,
          79,
          80,
          81,
          82,
          83,
          84,
          85,
          86,
          87,
          88,
          89,
          90,
          91,
          92,
          93,
          94,
          95,
          96,
          97,
          98,
          99,
          100,
          101,
          102,
          103,
          104,
          105,
          106,
          107,
          108,
          109,
          110,
          111,
          112,
          113,
          114,
          115,
          116,
          117,
          118,
          119,
          120,
          121,
          122,
          123,
          124,
          125,
          126,
          127,
          128,
          129,
          130,
          131,
          132,
          133,
          134,
          135,
          136,
          137,
          138,
          139,
          140,
          141,
          142,
          143,
          144,
          145,
          146,
          147,
          148,
          149,
          150,
          151,
          152,
          153,
          154,
          155,
          156,
          157,
          158,
          159,
          160,
          161,
          162,
          163,
          164,
          165,
          166,
          167,
          168,
          169,
          170,
          171,
          172,
          173,
          174,
          175,
          176,
          177,
          178,
          179,
          180,
          181,
          182,
          183,
          184,
          185,
          186,
          187,
          188,
          189,
          190,
          191,
          192,
          193,
          194,
          195,
          196,
          197,
          198,
          199,
          200,
          201,
          202,
          203,
          204,
          205,
          206,
          207,
          208,
          209,
          210,
          211,
          212,
          213,
          214,
          215,
          216,
          217,
          218,
          219,
          220,
          221,
          222,
          223,
          224,
          225,
          226,
          227,
          228,
          229,
          230,
          231,
          232,
          233,
          234,
          235,
          236,
          237,
          238,
          239,
          240,
          241,
          242,
          243,
          244,
          245,
          246,
          247,
          248,
          249,
          250,
          251,
          252,
          253,
          254,
          255,
          256,
          257,
          258,
          259,
          260,
          261,
          262,
          263,
          264,
          265,
          266,
          267,
          268,
          269,
          270,
          271,
          272,
          273,
          274,
          275,
          276,
          277,
          278,
          279,
          280,
          281,
          282,
          283,
          284,
          285,
          286,
          287,
          288,
          289
         ],
         "xaxis": "x",
         "y": [
          1,
          1,
          1,
          1,
          1,
          1,
          1,
          1,
          1,
          1,
          1,
          1,
          1,
          1,
          1,
          1,
          1,
          1,
          1,
          1,
          1,
          1,
          1,
          1,
          1,
          1,
          1,
          1,
          1,
          1,
          1,
          1,
          1,
          1,
          1,
          1,
          1,
          1,
          1,
          1,
          1,
          1,
          1,
          1,
          1,
          1,
          1,
          1,
          1,
          1,
          1,
          1,
          1,
          1,
          1,
          1,
          1,
          1,
          1,
          1,
          1,
          1,
          1,
          1,
          1,
          1,
          1,
          1,
          1,
          1,
          1,
          1,
          1,
          1,
          1,
          1,
          1,
          1,
          1,
          1,
          1,
          1,
          1,
          1,
          1,
          1,
          1,
          1,
          1,
          1,
          1,
          1,
          1,
          1,
          1,
          1,
          1,
          1,
          1,
          1,
          1,
          1,
          1,
          1,
          1,
          1,
          1,
          1,
          1,
          1,
          1,
          1,
          1,
          1,
          1,
          1,
          1,
          1,
          1,
          1,
          1,
          1,
          1,
          1,
          1,
          1,
          1,
          1,
          1,
          1,
          1,
          1,
          1,
          1,
          1,
          1,
          1,
          1,
          1,
          1,
          1,
          1,
          1,
          1,
          1,
          1,
          1,
          1,
          1,
          1,
          1,
          1,
          1,
          1,
          1,
          1,
          1,
          1,
          1,
          1,
          1,
          1,
          1,
          1,
          1,
          1,
          1,
          1,
          1,
          1,
          1,
          1,
          1,
          1,
          1,
          1,
          1,
          1,
          1,
          1,
          1,
          1,
          1,
          1,
          1,
          1,
          1,
          1,
          1,
          1,
          1,
          1,
          1,
          1,
          1,
          1,
          1,
          1,
          1,
          1,
          1,
          1,
          1,
          1,
          1,
          1,
          1,
          1,
          1,
          1,
          1,
          1,
          1,
          1,
          1,
          1,
          1,
          1,
          1,
          1,
          1,
          1,
          1,
          1,
          1,
          1,
          1,
          1,
          1,
          1,
          1,
          1,
          1,
          1,
          1,
          1,
          1,
          1,
          1,
          1,
          1,
          1,
          1,
          1,
          1,
          1,
          1,
          1,
          1,
          1,
          1,
          1,
          1,
          1,
          1,
          1,
          1,
          1,
          1,
          1,
          1,
          1,
          1,
          1,
          1,
          1,
          1,
          1,
          1,
          1,
          1,
          1,
          1,
          1,
          1,
          1,
          1,
          1,
          1,
          1,
          1,
          1,
          1,
          1,
          1,
          1,
          1,
          1,
          1,
          1
         ],
         "yaxis": "y"
        },
        {
         "hovertemplate": "variable=FSDS<br>batches=%{x}<br>stability=%{y}<extra></extra>",
         "legendgroup": "FSDS",
         "line": {
          "color": "green",
          "dash": "solid"
         },
         "mode": "lines",
         "name": "FSDS",
         "showlegend": true,
         "type": "scattergl",
         "x": [
          0,
          1,
          2,
          3,
          4,
          5,
          6,
          7,
          8,
          9,
          10,
          11,
          12,
          13,
          14,
          15,
          16,
          17,
          18,
          19,
          20,
          21,
          22,
          23,
          24,
          25,
          26,
          27,
          28,
          29,
          30,
          31,
          32,
          33,
          34,
          35,
          36,
          37,
          38,
          39,
          40,
          41,
          42,
          43,
          44,
          45,
          46,
          47,
          48,
          49,
          50,
          51,
          52,
          53,
          54,
          55,
          56,
          57,
          58,
          59,
          60,
          61,
          62,
          63,
          64,
          65,
          66,
          67,
          68,
          69,
          70,
          71,
          72,
          73,
          74,
          75,
          76,
          77,
          78,
          79,
          80,
          81,
          82,
          83,
          84,
          85,
          86,
          87,
          88,
          89,
          90,
          91,
          92,
          93,
          94,
          95,
          96,
          97,
          98,
          99,
          100,
          101,
          102,
          103,
          104,
          105,
          106,
          107,
          108,
          109,
          110,
          111,
          112,
          113,
          114,
          115,
          116,
          117,
          118,
          119,
          120,
          121,
          122,
          123,
          124,
          125,
          126,
          127,
          128,
          129,
          130,
          131,
          132,
          133,
          134,
          135,
          136,
          137,
          138,
          139,
          140,
          141,
          142,
          143,
          144,
          145,
          146,
          147,
          148,
          149,
          150,
          151,
          152,
          153,
          154,
          155,
          156,
          157,
          158,
          159,
          160,
          161,
          162,
          163,
          164,
          165,
          166,
          167,
          168,
          169,
          170,
          171,
          172,
          173,
          174,
          175,
          176,
          177,
          178,
          179,
          180,
          181,
          182,
          183,
          184,
          185,
          186,
          187,
          188,
          189,
          190,
          191,
          192,
          193,
          194,
          195,
          196,
          197,
          198,
          199,
          200,
          201,
          202,
          203,
          204,
          205,
          206,
          207,
          208,
          209,
          210,
          211,
          212,
          213,
          214,
          215,
          216,
          217,
          218,
          219,
          220,
          221,
          222,
          223,
          224,
          225,
          226,
          227,
          228,
          229,
          230,
          231,
          232,
          233,
          234,
          235,
          236,
          237,
          238,
          239,
          240,
          241,
          242,
          243,
          244,
          245,
          246,
          247,
          248,
          249,
          250,
          251,
          252,
          253,
          254,
          255,
          256,
          257,
          258,
          259,
          260,
          261,
          262,
          263,
          264,
          265,
          266,
          267,
          268,
          269,
          270,
          271,
          272,
          273,
          274,
          275,
          276,
          277,
          278,
          279,
          280,
          281,
          282,
          283,
          284,
          285,
          286,
          287,
          288,
          289
         ],
         "xaxis": "x",
         "y": [
          1,
          1,
          1,
          1,
          1,
          1,
          1,
          1,
          1,
          1,
          1,
          1,
          1,
          1,
          1,
          1,
          1,
          1,
          1,
          1,
          1,
          1,
          1,
          1,
          1,
          1,
          1,
          1,
          1,
          1,
          1,
          1,
          1,
          1,
          1,
          1,
          1,
          1,
          1,
          1,
          1,
          1,
          1,
          1,
          1,
          1,
          1,
          1,
          1,
          1,
          1,
          1,
          1,
          1,
          1,
          1,
          1,
          1,
          1,
          1,
          1,
          1,
          1,
          1,
          1,
          1,
          1,
          1,
          1,
          1,
          1,
          1,
          1,
          1,
          1,
          1,
          1,
          1,
          1,
          1,
          1,
          1,
          1,
          1,
          1,
          1,
          1,
          1,
          1,
          1,
          1,
          1,
          1,
          1,
          1,
          1,
          1,
          1,
          1,
          1,
          1,
          1,
          1,
          1,
          1,
          1,
          1,
          1,
          1,
          1,
          1,
          1,
          1,
          1,
          1,
          1,
          1,
          1,
          1,
          1,
          1,
          1,
          1,
          1,
          1,
          1,
          1,
          1,
          1,
          1,
          1,
          1,
          1,
          1,
          1,
          1,
          1,
          1,
          1,
          1,
          1,
          1,
          1,
          1,
          1,
          1,
          1,
          1,
          1,
          1,
          1,
          1,
          1,
          1,
          1,
          1,
          1,
          1,
          1,
          1,
          1,
          1,
          1,
          1,
          1,
          1,
          1,
          1,
          1,
          1,
          1,
          1,
          1,
          1,
          1,
          1,
          1,
          1,
          1,
          1,
          1,
          1,
          1,
          1,
          1,
          1,
          1,
          1,
          1,
          1,
          1,
          1,
          1,
          1,
          1,
          1,
          1,
          1,
          1,
          1,
          1,
          1,
          1,
          1,
          1,
          1,
          1,
          1,
          1,
          1,
          1,
          1,
          1,
          1,
          1,
          1,
          1,
          1,
          1,
          1,
          1,
          1,
          1,
          1,
          1,
          1,
          1,
          1,
          1,
          1,
          1,
          1,
          1,
          1,
          1,
          1,
          1,
          1,
          1,
          1,
          1,
          1,
          1,
          1,
          1,
          1,
          1,
          1,
          1,
          1,
          1,
          1,
          1,
          1,
          1,
          1,
          1,
          1,
          1,
          1,
          1,
          1,
          1,
          1,
          1,
          1,
          1,
          1,
          1,
          1,
          1,
          1,
          1,
          1,
          1,
          1,
          1,
          1,
          1,
          1,
          1,
          1,
          1,
          1,
          1,
          1,
          1,
          1,
          1,
          1
         ],
         "yaxis": "y"
        }
       ],
       "layout": {
        "legend": {
         "title": {
          "text": "variable"
         },
         "tracegroupgap": 0
        },
        "template": {
         "data": {
          "bar": [
           {
            "error_x": {
             "color": "#2a3f5f"
            },
            "error_y": {
             "color": "#2a3f5f"
            },
            "marker": {
             "line": {
              "color": "#E5ECF6",
              "width": 0.5
             }
            },
            "type": "bar"
           }
          ],
          "barpolar": [
           {
            "marker": {
             "line": {
              "color": "#E5ECF6",
              "width": 0.5
             }
            },
            "type": "barpolar"
           }
          ],
          "carpet": [
           {
            "aaxis": {
             "endlinecolor": "#2a3f5f",
             "gridcolor": "white",
             "linecolor": "white",
             "minorgridcolor": "white",
             "startlinecolor": "#2a3f5f"
            },
            "baxis": {
             "endlinecolor": "#2a3f5f",
             "gridcolor": "white",
             "linecolor": "white",
             "minorgridcolor": "white",
             "startlinecolor": "#2a3f5f"
            },
            "type": "carpet"
           }
          ],
          "choropleth": [
           {
            "colorbar": {
             "outlinewidth": 0,
             "ticks": ""
            },
            "type": "choropleth"
           }
          ],
          "contour": [
           {
            "colorbar": {
             "outlinewidth": 0,
             "ticks": ""
            },
            "colorscale": [
             [
              0,
              "#0d0887"
             ],
             [
              0.1111111111111111,
              "#46039f"
             ],
             [
              0.2222222222222222,
              "#7201a8"
             ],
             [
              0.3333333333333333,
              "#9c179e"
             ],
             [
              0.4444444444444444,
              "#bd3786"
             ],
             [
              0.5555555555555556,
              "#d8576b"
             ],
             [
              0.6666666666666666,
              "#ed7953"
             ],
             [
              0.7777777777777778,
              "#fb9f3a"
             ],
             [
              0.8888888888888888,
              "#fdca26"
             ],
             [
              1,
              "#f0f921"
             ]
            ],
            "type": "contour"
           }
          ],
          "contourcarpet": [
           {
            "colorbar": {
             "outlinewidth": 0,
             "ticks": ""
            },
            "type": "contourcarpet"
           }
          ],
          "heatmap": [
           {
            "colorbar": {
             "outlinewidth": 0,
             "ticks": ""
            },
            "colorscale": [
             [
              0,
              "#0d0887"
             ],
             [
              0.1111111111111111,
              "#46039f"
             ],
             [
              0.2222222222222222,
              "#7201a8"
             ],
             [
              0.3333333333333333,
              "#9c179e"
             ],
             [
              0.4444444444444444,
              "#bd3786"
             ],
             [
              0.5555555555555556,
              "#d8576b"
             ],
             [
              0.6666666666666666,
              "#ed7953"
             ],
             [
              0.7777777777777778,
              "#fb9f3a"
             ],
             [
              0.8888888888888888,
              "#fdca26"
             ],
             [
              1,
              "#f0f921"
             ]
            ],
            "type": "heatmap"
           }
          ],
          "heatmapgl": [
           {
            "colorbar": {
             "outlinewidth": 0,
             "ticks": ""
            },
            "colorscale": [
             [
              0,
              "#0d0887"
             ],
             [
              0.1111111111111111,
              "#46039f"
             ],
             [
              0.2222222222222222,
              "#7201a8"
             ],
             [
              0.3333333333333333,
              "#9c179e"
             ],
             [
              0.4444444444444444,
              "#bd3786"
             ],
             [
              0.5555555555555556,
              "#d8576b"
             ],
             [
              0.6666666666666666,
              "#ed7953"
             ],
             [
              0.7777777777777778,
              "#fb9f3a"
             ],
             [
              0.8888888888888888,
              "#fdca26"
             ],
             [
              1,
              "#f0f921"
             ]
            ],
            "type": "heatmapgl"
           }
          ],
          "histogram": [
           {
            "marker": {
             "colorbar": {
              "outlinewidth": 0,
              "ticks": ""
             }
            },
            "type": "histogram"
           }
          ],
          "histogram2d": [
           {
            "colorbar": {
             "outlinewidth": 0,
             "ticks": ""
            },
            "colorscale": [
             [
              0,
              "#0d0887"
             ],
             [
              0.1111111111111111,
              "#46039f"
             ],
             [
              0.2222222222222222,
              "#7201a8"
             ],
             [
              0.3333333333333333,
              "#9c179e"
             ],
             [
              0.4444444444444444,
              "#bd3786"
             ],
             [
              0.5555555555555556,
              "#d8576b"
             ],
             [
              0.6666666666666666,
              "#ed7953"
             ],
             [
              0.7777777777777778,
              "#fb9f3a"
             ],
             [
              0.8888888888888888,
              "#fdca26"
             ],
             [
              1,
              "#f0f921"
             ]
            ],
            "type": "histogram2d"
           }
          ],
          "histogram2dcontour": [
           {
            "colorbar": {
             "outlinewidth": 0,
             "ticks": ""
            },
            "colorscale": [
             [
              0,
              "#0d0887"
             ],
             [
              0.1111111111111111,
              "#46039f"
             ],
             [
              0.2222222222222222,
              "#7201a8"
             ],
             [
              0.3333333333333333,
              "#9c179e"
             ],
             [
              0.4444444444444444,
              "#bd3786"
             ],
             [
              0.5555555555555556,
              "#d8576b"
             ],
             [
              0.6666666666666666,
              "#ed7953"
             ],
             [
              0.7777777777777778,
              "#fb9f3a"
             ],
             [
              0.8888888888888888,
              "#fdca26"
             ],
             [
              1,
              "#f0f921"
             ]
            ],
            "type": "histogram2dcontour"
           }
          ],
          "mesh3d": [
           {
            "colorbar": {
             "outlinewidth": 0,
             "ticks": ""
            },
            "type": "mesh3d"
           }
          ],
          "parcoords": [
           {
            "line": {
             "colorbar": {
              "outlinewidth": 0,
              "ticks": ""
             }
            },
            "type": "parcoords"
           }
          ],
          "pie": [
           {
            "automargin": true,
            "type": "pie"
           }
          ],
          "scatter": [
           {
            "marker": {
             "colorbar": {
              "outlinewidth": 0,
              "ticks": ""
             }
            },
            "type": "scatter"
           }
          ],
          "scatter3d": [
           {
            "line": {
             "colorbar": {
              "outlinewidth": 0,
              "ticks": ""
             }
            },
            "marker": {
             "colorbar": {
              "outlinewidth": 0,
              "ticks": ""
             }
            },
            "type": "scatter3d"
           }
          ],
          "scattercarpet": [
           {
            "marker": {
             "colorbar": {
              "outlinewidth": 0,
              "ticks": ""
             }
            },
            "type": "scattercarpet"
           }
          ],
          "scattergeo": [
           {
            "marker": {
             "colorbar": {
              "outlinewidth": 0,
              "ticks": ""
             }
            },
            "type": "scattergeo"
           }
          ],
          "scattergl": [
           {
            "marker": {
             "colorbar": {
              "outlinewidth": 0,
              "ticks": ""
             }
            },
            "type": "scattergl"
           }
          ],
          "scattermapbox": [
           {
            "marker": {
             "colorbar": {
              "outlinewidth": 0,
              "ticks": ""
             }
            },
            "type": "scattermapbox"
           }
          ],
          "scatterpolar": [
           {
            "marker": {
             "colorbar": {
              "outlinewidth": 0,
              "ticks": ""
             }
            },
            "type": "scatterpolar"
           }
          ],
          "scatterpolargl": [
           {
            "marker": {
             "colorbar": {
              "outlinewidth": 0,
              "ticks": ""
             }
            },
            "type": "scatterpolargl"
           }
          ],
          "scatterternary": [
           {
            "marker": {
             "colorbar": {
              "outlinewidth": 0,
              "ticks": ""
             }
            },
            "type": "scatterternary"
           }
          ],
          "surface": [
           {
            "colorbar": {
             "outlinewidth": 0,
             "ticks": ""
            },
            "colorscale": [
             [
              0,
              "#0d0887"
             ],
             [
              0.1111111111111111,
              "#46039f"
             ],
             [
              0.2222222222222222,
              "#7201a8"
             ],
             [
              0.3333333333333333,
              "#9c179e"
             ],
             [
              0.4444444444444444,
              "#bd3786"
             ],
             [
              0.5555555555555556,
              "#d8576b"
             ],
             [
              0.6666666666666666,
              "#ed7953"
             ],
             [
              0.7777777777777778,
              "#fb9f3a"
             ],
             [
              0.8888888888888888,
              "#fdca26"
             ],
             [
              1,
              "#f0f921"
             ]
            ],
            "type": "surface"
           }
          ],
          "table": [
           {
            "cells": {
             "fill": {
              "color": "#EBF0F8"
             },
             "line": {
              "color": "white"
             }
            },
            "header": {
             "fill": {
              "color": "#C8D4E3"
             },
             "line": {
              "color": "white"
             }
            },
            "type": "table"
           }
          ]
         },
         "layout": {
          "annotationdefaults": {
           "arrowcolor": "#2a3f5f",
           "arrowhead": 0,
           "arrowwidth": 1
          },
          "autotypenumbers": "strict",
          "coloraxis": {
           "colorbar": {
            "outlinewidth": 0,
            "ticks": ""
           }
          },
          "colorscale": {
           "diverging": [
            [
             0,
             "#8e0152"
            ],
            [
             0.1,
             "#c51b7d"
            ],
            [
             0.2,
             "#de77ae"
            ],
            [
             0.3,
             "#f1b6da"
            ],
            [
             0.4,
             "#fde0ef"
            ],
            [
             0.5,
             "#f7f7f7"
            ],
            [
             0.6,
             "#e6f5d0"
            ],
            [
             0.7,
             "#b8e186"
            ],
            [
             0.8,
             "#7fbc41"
            ],
            [
             0.9,
             "#4d9221"
            ],
            [
             1,
             "#276419"
            ]
           ],
           "sequential": [
            [
             0,
             "#0d0887"
            ],
            [
             0.1111111111111111,
             "#46039f"
            ],
            [
             0.2222222222222222,
             "#7201a8"
            ],
            [
             0.3333333333333333,
             "#9c179e"
            ],
            [
             0.4444444444444444,
             "#bd3786"
            ],
            [
             0.5555555555555556,
             "#d8576b"
            ],
            [
             0.6666666666666666,
             "#ed7953"
            ],
            [
             0.7777777777777778,
             "#fb9f3a"
            ],
            [
             0.8888888888888888,
             "#fdca26"
            ],
            [
             1,
             "#f0f921"
            ]
           ],
           "sequentialminus": [
            [
             0,
             "#0d0887"
            ],
            [
             0.1111111111111111,
             "#46039f"
            ],
            [
             0.2222222222222222,
             "#7201a8"
            ],
            [
             0.3333333333333333,
             "#9c179e"
            ],
            [
             0.4444444444444444,
             "#bd3786"
            ],
            [
             0.5555555555555556,
             "#d8576b"
            ],
            [
             0.6666666666666666,
             "#ed7953"
            ],
            [
             0.7777777777777778,
             "#fb9f3a"
            ],
            [
             0.8888888888888888,
             "#fdca26"
            ],
            [
             1,
             "#f0f921"
            ]
           ]
          },
          "colorway": [
           "#636efa",
           "#EF553B",
           "#00cc96",
           "#ab63fa",
           "#FFA15A",
           "#19d3f3",
           "#FF6692",
           "#B6E880",
           "#FF97FF",
           "#FECB52"
          ],
          "font": {
           "color": "#2a3f5f"
          },
          "geo": {
           "bgcolor": "white",
           "lakecolor": "white",
           "landcolor": "#E5ECF6",
           "showlakes": true,
           "showland": true,
           "subunitcolor": "white"
          },
          "hoverlabel": {
           "align": "left"
          },
          "hovermode": "closest",
          "mapbox": {
           "style": "light"
          },
          "paper_bgcolor": "white",
          "plot_bgcolor": "#E5ECF6",
          "polar": {
           "angularaxis": {
            "gridcolor": "white",
            "linecolor": "white",
            "ticks": ""
           },
           "bgcolor": "#E5ECF6",
           "radialaxis": {
            "gridcolor": "white",
            "linecolor": "white",
            "ticks": ""
           }
          },
          "scene": {
           "xaxis": {
            "backgroundcolor": "#E5ECF6",
            "gridcolor": "white",
            "gridwidth": 2,
            "linecolor": "white",
            "showbackground": true,
            "ticks": "",
            "zerolinecolor": "white"
           },
           "yaxis": {
            "backgroundcolor": "#E5ECF6",
            "gridcolor": "white",
            "gridwidth": 2,
            "linecolor": "white",
            "showbackground": true,
            "ticks": "",
            "zerolinecolor": "white"
           },
           "zaxis": {
            "backgroundcolor": "#E5ECF6",
            "gridcolor": "white",
            "gridwidth": 2,
            "linecolor": "white",
            "showbackground": true,
            "ticks": "",
            "zerolinecolor": "white"
           }
          },
          "shapedefaults": {
           "line": {
            "color": "#2a3f5f"
           }
          },
          "ternary": {
           "aaxis": {
            "gridcolor": "white",
            "linecolor": "white",
            "ticks": ""
           },
           "baxis": {
            "gridcolor": "white",
            "linecolor": "white",
            "ticks": ""
           },
           "bgcolor": "#E5ECF6",
           "caxis": {
            "gridcolor": "white",
            "linecolor": "white",
            "ticks": ""
           }
          },
          "title": {
           "x": 0.05
          },
          "xaxis": {
           "automargin": true,
           "gridcolor": "white",
           "linecolor": "white",
           "ticks": "",
           "title": {
            "standoff": 15
           },
           "zerolinecolor": "white",
           "zerolinewidth": 2
          },
          "yaxis": {
           "automargin": true,
           "gridcolor": "white",
           "linecolor": "white",
           "ticks": "",
           "title": {
            "standoff": 15
           },
           "zerolinecolor": "white",
           "zerolinewidth": 2
          }
         }
        },
        "title": {
         "text": "Stability on dataset syn_ds_1"
        },
        "xaxis": {
         "anchor": "y",
         "domain": [
          0,
          1
         ],
         "title": {
          "text": "batches"
         }
        },
        "yaxis": {
         "anchor": "x",
         "domain": [
          0,
          1
         ],
         "title": {
          "text": "stability"
         }
        }
       }
      }
     },
     "metadata": {}
    }
   ],
   "source": [
    "# stability\n",
    "title = \"Stability on dataset {}\".format(dataset_name)\n",
    "col_names = [\"FIRES\", \"OFS\", \"OFSSGD\", \"FSDS\"]\n",
    "d = {\"FIRES\":fires_cuda_stability, \"OFS\":ofs_stability, \"OFSSGD\":ofssgd_stability, \"FSDS\":fsds_stability} #\"random\":random_stability\n",
    "df = pd.DataFrame(d, columns=col_names)\n",
    "fig = px.line(df, y = col_names, title=title, labels={\"index\":\"batches\", \"value\":\"stability\"},color_discrete_map={'FIRES': 'red', \n",
    "                                                   'FSDS': 'green', 'OFS': 'purple', \"OFSSGD\":\"yellow\"} )\n",
    "fig.show()"
   ]
  },
  {
   "cell_type": "code",
   "execution_count": 151,
   "metadata": {},
   "outputs": [
    {
     "output_type": "display_data",
     "data": {
      "application/vnd.plotly.v1+json": {
       "config": {
        "plotlyServerURL": "https://plot.ly"
       },
       "data": [
        {
         "hovertemplate": "variable=Pure<br>batches=%{x}<br>accuracy=%{y}<extra></extra>",
         "legendgroup": "Pure",
         "line": {
          "color": "blue",
          "dash": "solid"
         },
         "mode": "lines",
         "name": "Pure",
         "showlegend": true,
         "type": "scattergl",
         "x": [
          0,
          1,
          2,
          3,
          4,
          5,
          6,
          7,
          8,
          9,
          10,
          11,
          12,
          13,
          14,
          15,
          16,
          17,
          18,
          19,
          20,
          21,
          22,
          23,
          24,
          25,
          26,
          27,
          28,
          29,
          30,
          31,
          32,
          33,
          34,
          35,
          36,
          37,
          38,
          39,
          40,
          41,
          42,
          43,
          44,
          45,
          46,
          47,
          48,
          49,
          50,
          51,
          52,
          53,
          54,
          55,
          56,
          57,
          58,
          59,
          60,
          61,
          62,
          63,
          64,
          65,
          66,
          67,
          68,
          69,
          70,
          71,
          72,
          73,
          74,
          75,
          76,
          77,
          78,
          79,
          80,
          81,
          82,
          83,
          84,
          85,
          86,
          87,
          88,
          89,
          90,
          91,
          92,
          93,
          94,
          95,
          96,
          97,
          98,
          99,
          100,
          101,
          102,
          103,
          104,
          105,
          106,
          107,
          108,
          109,
          110,
          111,
          112,
          113,
          114,
          115,
          116,
          117,
          118,
          119,
          120,
          121,
          122,
          123,
          124,
          125,
          126,
          127,
          128,
          129,
          130,
          131,
          132,
          133,
          134,
          135,
          136,
          137,
          138,
          139,
          140,
          141,
          142,
          143,
          144,
          145,
          146,
          147,
          148,
          149,
          150,
          151,
          152,
          153,
          154,
          155,
          156,
          157,
          158,
          159,
          160,
          161,
          162,
          163,
          164,
          165,
          166,
          167,
          168,
          169,
          170,
          171,
          172,
          173,
          174,
          175,
          176,
          177,
          178,
          179,
          180,
          181,
          182,
          183,
          184,
          185,
          186,
          187,
          188,
          189,
          190,
          191,
          192,
          193,
          194,
          195,
          196,
          197,
          198,
          199,
          200,
          201,
          202,
          203,
          204,
          205,
          206,
          207,
          208,
          209,
          210,
          211,
          212,
          213,
          214,
          215,
          216,
          217,
          218,
          219,
          220,
          221,
          222,
          223,
          224,
          225,
          226,
          227,
          228,
          229,
          230,
          231,
          232,
          233,
          234,
          235,
          236,
          237,
          238,
          239,
          240,
          241,
          242,
          243,
          244,
          245,
          246,
          247,
          248,
          249,
          250,
          251,
          252,
          253,
          254,
          255,
          256,
          257,
          258,
          259,
          260,
          261,
          262,
          263,
          264,
          265,
          266,
          267,
          268,
          269,
          270,
          271,
          272,
          273,
          274,
          275,
          276,
          277,
          278,
          279,
          280,
          281,
          282,
          283,
          284,
          285,
          286,
          287,
          288,
          289
         ],
         "xaxis": "x",
         "y": [
          0.186,
          0.196,
          0.196,
          0.21600000000000003,
          0.21200000000000002,
          0.22999999999999998,
          0.22600000000000003,
          0.23399999999999999,
          0.244,
          0.254,
          0.266,
          0.27399999999999997,
          0.28,
          0.27,
          0.27,
          0.266,
          0.28200000000000003,
          0.276,
          0.27399999999999997,
          0.276,
          0.26999999999999996,
          0.264,
          0.27199999999999996,
          0.28200000000000003,
          0.27999999999999997,
          0.276,
          0.27599999999999997,
          0.268,
          0.27,
          0.264,
          0.26,
          0.27199999999999996,
          0.28400000000000003,
          0.282,
          0.28200000000000003,
          0.282,
          0.27799999999999997,
          0.284,
          0.286,
          0.302,
          0.326,
          0.31799999999999995,
          0.308,
          0.306,
          0.31400000000000006,
          0.318,
          0.326,
          0.33799999999999997,
          0.35000000000000003,
          0.33799999999999997,
          0.308,
          0.306,
          0.292,
          0.274,
          0.26999999999999996,
          0.27,
          0.256,
          0.254,
          0.254,
          0.258,
          0.27999999999999997,
          0.28800000000000003,
          0.304,
          0.32599999999999996,
          0.33,
          0.33399999999999996,
          0.34199999999999997,
          0.34,
          0.346,
          0.34199999999999997,
          0.336,
          0.33799999999999997,
          0.33999999999999997,
          0.338,
          0.33799999999999997,
          0.336,
          0.32599999999999996,
          0.32199999999999995,
          0.31,
          0.316,
          0.32199999999999995,
          0.324,
          0.322,
          0.32799999999999996,
          0.328,
          0.33399999999999996,
          0.346,
          0.35,
          0.358,
          0.364,
          0.362,
          0.37,
          0.36,
          0.354,
          0.362,
          0.364,
          0.366,
          0.368,
          0.358,
          0.364,
          0.364,
          0.346,
          0.358,
          0.368,
          0.358,
          0.346,
          0.346,
          0.34,
          0.33599999999999997,
          0.33199999999999996,
          0.332,
          0.34600000000000003,
          0.348,
          0.33999999999999997,
          0.34,
          0.352,
          0.35,
          0.348,
          0.36,
          0.354,
          0.36,
          0.354,
          0.356,
          0.362,
          0.358,
          0.358,
          0.35000000000000003,
          0.348,
          0.332,
          0.336,
          0.322,
          0.31,
          0.304,
          0.29800000000000004,
          0.304,
          0.304,
          0.31799999999999995,
          0.328,
          0.352,
          0.354,
          0.364,
          0.38,
          0.388,
          0.40199999999999997,
          0.41,
          0.4,
          0.39,
          0.388,
          0.376,
          0.372,
          0.372,
          0.374,
          0.364,
          0.36,
          0.366,
          0.366,
          0.362,
          0.374,
          0.376,
          0.376,
          0.372,
          0.374,
          0.37,
          0.36,
          0.34199999999999997,
          0.34199999999999997,
          0.35200000000000004,
          0.33999999999999997,
          0.34199999999999997,
          0.346,
          0.34600000000000003,
          0.34199999999999997,
          0.348,
          0.34400000000000003,
          0.352,
          0.37,
          0.376,
          0.38,
          0.384,
          0.366,
          0.378,
          0.384,
          0.382,
          0.378,
          0.392,
          0.376,
          0.364,
          0.34800000000000003,
          0.348,
          0.36,
          0.35,
          0.34,
          0.358,
          0.374,
          0.364,
          0.37,
          0.368,
          0.388,
          0.392,
          0.396,
          0.394,
          0.40599999999999997,
          0.39,
          0.384,
          0.374,
          0.366,
          0.382,
          0.37,
          0.36,
          0.354,
          0.358,
          0.348,
          0.354,
          0.362,
          0.36,
          0.37,
          0.368,
          0.372,
          0.372,
          0.376,
          0.374,
          0.374,
          0.382,
          0.382,
          0.4,
          0.392,
          0.394,
          0.398,
          0.396,
          0.40800000000000003,
          0.398,
          0.402,
          0.396,
          0.39,
          0.378,
          0.382,
          0.382,
          0.374,
          0.378,
          0.366,
          0.378,
          0.38,
          0.38,
          0.372,
          0.372,
          0.386,
          0.384,
          0.39,
          0.386,
          0.382,
          0.38,
          0.376,
          0.372,
          0.394,
          0.394,
          0.392,
          0.382,
          0.374,
          0.372,
          0.39,
          0.394,
          0.388,
          0.384,
          0.378,
          0.37,
          0.35,
          0.35200000000000004,
          0.352,
          0.358,
          0.34,
          0.34800000000000003,
          0.33799999999999997,
          0.35,
          0.34400000000000003,
          0.354,
          0.35,
          0.35600000000000004,
          0.362,
          0.358,
          0.356,
          0.34600000000000003,
          0.358,
          0.348,
          0.356,
          0.356,
          0.38,
          0.372,
          0.368,
          0.368,
          0.36300000000000004
         ],
         "yaxis": "y"
        },
        {
         "hovertemplate": "variable=FIRES<br>batches=%{x}<br>accuracy=%{y}<extra></extra>",
         "legendgroup": "FIRES",
         "line": {
          "color": "red",
          "dash": "solid"
         },
         "mode": "lines",
         "name": "FIRES",
         "showlegend": true,
         "type": "scattergl",
         "x": [
          0,
          1,
          2,
          3,
          4,
          5,
          6,
          7,
          8,
          9,
          10,
          11,
          12,
          13,
          14,
          15,
          16,
          17,
          18,
          19,
          20,
          21,
          22,
          23,
          24,
          25,
          26,
          27,
          28,
          29,
          30,
          31,
          32,
          33,
          34,
          35,
          36,
          37,
          38,
          39,
          40,
          41,
          42,
          43,
          44,
          45,
          46,
          47,
          48,
          49,
          50,
          51,
          52,
          53,
          54,
          55,
          56,
          57,
          58,
          59,
          60,
          61,
          62,
          63,
          64,
          65,
          66,
          67,
          68,
          69,
          70,
          71,
          72,
          73,
          74,
          75,
          76,
          77,
          78,
          79,
          80,
          81,
          82,
          83,
          84,
          85,
          86,
          87,
          88,
          89,
          90,
          91,
          92,
          93,
          94,
          95,
          96,
          97,
          98,
          99,
          100,
          101,
          102,
          103,
          104,
          105,
          106,
          107,
          108,
          109,
          110,
          111,
          112,
          113,
          114,
          115,
          116,
          117,
          118,
          119,
          120,
          121,
          122,
          123,
          124,
          125,
          126,
          127,
          128,
          129,
          130,
          131,
          132,
          133,
          134,
          135,
          136,
          137,
          138,
          139,
          140,
          141,
          142,
          143,
          144,
          145,
          146,
          147,
          148,
          149,
          150,
          151,
          152,
          153,
          154,
          155,
          156,
          157,
          158,
          159,
          160,
          161,
          162,
          163,
          164,
          165,
          166,
          167,
          168,
          169,
          170,
          171,
          172,
          173,
          174,
          175,
          176,
          177,
          178,
          179,
          180,
          181,
          182,
          183,
          184,
          185,
          186,
          187,
          188,
          189,
          190,
          191,
          192,
          193,
          194,
          195,
          196,
          197,
          198,
          199,
          200,
          201,
          202,
          203,
          204,
          205,
          206,
          207,
          208,
          209,
          210,
          211,
          212,
          213,
          214,
          215,
          216,
          217,
          218,
          219,
          220,
          221,
          222,
          223,
          224,
          225,
          226,
          227,
          228,
          229,
          230,
          231,
          232,
          233,
          234,
          235,
          236,
          237,
          238,
          239,
          240,
          241,
          242,
          243,
          244,
          245,
          246,
          247,
          248,
          249,
          250,
          251,
          252,
          253,
          254,
          255,
          256,
          257,
          258,
          259,
          260,
          261,
          262,
          263,
          264,
          265,
          266,
          267,
          268,
          269,
          270,
          271,
          272,
          273,
          274,
          275,
          276,
          277,
          278,
          279,
          280,
          281,
          282,
          283,
          284,
          285,
          286,
          287,
          288,
          289
         ],
         "xaxis": "x",
         "y": [
          0.09,
          0.09,
          0.098,
          0.10200000000000001,
          0.11399999999999999,
          0.11200000000000002,
          0.11000000000000001,
          0.10600000000000001,
          0.11000000000000001,
          0.11399999999999999,
          0.11400000000000002,
          0.118,
          0.11200000000000002,
          0.11400000000000002,
          0.10400000000000001,
          0.10800000000000001,
          0.11000000000000001,
          0.11200000000000002,
          0.10600000000000001,
          0.10200000000000001,
          0.098,
          0.09,
          0.092,
          0.088,
          0.094,
          0.09,
          0.092,
          0.092,
          0.10200000000000001,
          0.10800000000000001,
          0.11199999999999999,
          0.11400000000000002,
          0.122,
          0.126,
          0.126,
          0.13999999999999999,
          0.134,
          0.128,
          0.12200000000000003,
          0.126,
          0.12400000000000003,
          0.122,
          0.12200000000000003,
          0.118,
          0.11600000000000002,
          0.10400000000000001,
          0.10600000000000001,
          0.11800000000000002,
          0.12,
          0.11400000000000002,
          0.10400000000000001,
          0.11000000000000001,
          0.098,
          0.094,
          0.09000000000000001,
          0.092,
          0.094,
          0.082,
          0.076,
          0.074,
          0.082,
          0.076,
          0.078,
          0.078,
          0.074,
          0.08,
          0.08600000000000001,
          0.094,
          0.096,
          0.09,
          0.086,
          0.084,
          0.096,
          0.10200000000000001,
          0.11000000000000001,
          0.10800000000000001,
          0.10200000000000001,
          0.092,
          0.10200000000000001,
          0.10600000000000001,
          0.118,
          0.126,
          0.11200000000000002,
          0.10600000000000001,
          0.10400000000000001,
          0.098,
          0.098,
          0.10800000000000001,
          0.098,
          0.1,
          0.094,
          0.094,
          0.096,
          0.10200000000000001,
          0.10400000000000001,
          0.10600000000000001,
          0.11000000000000001,
          0.10600000000000001,
          0.10600000000000001,
          0.10600000000000001,
          0.09999999999999999,
          0.096,
          0.09,
          0.1,
          0.10600000000000001,
          0.10400000000000001,
          0.10200000000000001,
          0.10200000000000001,
          0.096,
          0.096,
          0.10400000000000001,
          0.11399999999999999,
          0.11599999999999999,
          0.12,
          0.11200000000000002,
          0.11399999999999999,
          0.11400000000000002,
          0.11200000000000002,
          0.126,
          0.13399999999999998,
          0.134,
          0.128,
          0.128,
          0.11600000000000002,
          0.11599999999999999,
          0.11600000000000002,
          0.124,
          0.12600000000000003,
          0.124,
          0.12200000000000003,
          0.118,
          0.12200000000000003,
          0.13,
          0.13000000000000003,
          0.148,
          0.16,
          0.156,
          0.16,
          0.154,
          0.146,
          0.15,
          0.13799999999999998,
          0.13,
          0.12800000000000003,
          0.10399999999999998,
          0.094,
          0.086,
          0.086,
          0.092,
          0.09,
          0.09,
          0.092,
          0.09,
          0.08399999999999999,
          0.09,
          0.08399999999999999,
          0.08800000000000001,
          0.08,
          0.078,
          0.08199999999999999,
          0.078,
          0.08600000000000001,
          0.098,
          0.10600000000000001,
          0.11200000000000002,
          0.118,
          0.12000000000000002,
          0.122,
          0.11600000000000002,
          0.11600000000000002,
          0.12,
          0.11800000000000002,
          0.11199999999999999,
          0.10400000000000001,
          0.092,
          0.09,
          0.086,
          0.092,
          0.092,
          0.098,
          0.096,
          0.094,
          0.09000000000000001,
          0.10200000000000001,
          0.11000000000000001,
          0.11000000000000001,
          0.11000000000000001,
          0.1,
          0.098,
          0.094,
          0.10800000000000001,
          0.11000000000000001,
          0.118,
          0.10600000000000001,
          0.11200000000000002,
          0.10999999999999999,
          0.11200000000000002,
          0.11200000000000002,
          0.11599999999999999,
          0.11200000000000002,
          0.096,
          0.09,
          0.088,
          0.09,
          0.09,
          0.09,
          0.086,
          0.094,
          0.092,
          0.096,
          0.096,
          0.092,
          0.10200000000000001,
          0.11000000000000001,
          0.098,
          0.1,
          0.10800000000000001,
          0.10200000000000001,
          0.1,
          0.1,
          0.11000000000000001,
          0.11599999999999999,
          0.10600000000000001,
          0.10200000000000001,
          0.10400000000000001,
          0.1,
          0.1,
          0.096,
          0.10600000000000001,
          0.10600000000000001,
          0.094,
          0.096,
          0.098,
          0.096,
          0.096,
          0.096,
          0.08600000000000001,
          0.092,
          0.094,
          0.096,
          0.098,
          0.1,
          0.1,
          0.096,
          0.098,
          0.10200000000000001,
          0.10800000000000001,
          0.11000000000000001,
          0.10400000000000001,
          0.10800000000000001,
          0.10399999999999998,
          0.098,
          0.094,
          0.10400000000000001,
          0.11000000000000001,
          0.10999999999999999,
          0.10400000000000001,
          0.10600000000000001,
          0.10400000000000001,
          0.1,
          0.10600000000000001,
          0.11199999999999999,
          0.11200000000000002,
          0.10200000000000001,
          0.10200000000000001,
          0.1,
          0.10400000000000001,
          0.1,
          0.096,
          0.088,
          0.092,
          0.094,
          0.094,
          0.10400000000000001,
          0.10200000000000001,
          0.1,
          0.10200000000000001,
          0.10600000000000001,
          0.11000000000000001,
          0.11000000000000001,
          0.10800000000000001,
          0.11400000000000002,
          0.11599999999999999,
          0.11000000000000001,
          0.11000000000000001,
          0.11199999999999999,
          0.11000000000000001,
          0.10800000000000001,
          0.11399999999999999,
          0.12041666666666669
         ],
         "yaxis": "y"
        },
        {
         "hovertemplate": "variable=OFS<br>batches=%{x}<br>accuracy=%{y}<extra></extra>",
         "legendgroup": "OFS",
         "line": {
          "color": "purple",
          "dash": "solid"
         },
         "mode": "lines",
         "name": "OFS",
         "showlegend": true,
         "type": "scattergl",
         "x": [
          0,
          1,
          2,
          3,
          4,
          5,
          6,
          7,
          8,
          9,
          10,
          11,
          12,
          13,
          14,
          15,
          16,
          17,
          18,
          19,
          20,
          21,
          22,
          23,
          24,
          25,
          26,
          27,
          28,
          29,
          30,
          31,
          32,
          33,
          34,
          35,
          36,
          37,
          38,
          39,
          40,
          41,
          42,
          43,
          44,
          45,
          46,
          47,
          48,
          49,
          50,
          51,
          52,
          53,
          54,
          55,
          56,
          57,
          58,
          59,
          60,
          61,
          62,
          63,
          64,
          65,
          66,
          67,
          68,
          69,
          70,
          71,
          72,
          73,
          74,
          75,
          76,
          77,
          78,
          79,
          80,
          81,
          82,
          83,
          84,
          85,
          86,
          87,
          88,
          89,
          90,
          91,
          92,
          93,
          94,
          95,
          96,
          97,
          98,
          99,
          100,
          101,
          102,
          103,
          104,
          105,
          106,
          107,
          108,
          109,
          110,
          111,
          112,
          113,
          114,
          115,
          116,
          117,
          118,
          119,
          120,
          121,
          122,
          123,
          124,
          125,
          126,
          127,
          128,
          129,
          130,
          131,
          132,
          133,
          134,
          135,
          136,
          137,
          138,
          139,
          140,
          141,
          142,
          143,
          144,
          145,
          146,
          147,
          148,
          149,
          150,
          151,
          152,
          153,
          154,
          155,
          156,
          157,
          158,
          159,
          160,
          161,
          162,
          163,
          164,
          165,
          166,
          167,
          168,
          169,
          170,
          171,
          172,
          173,
          174,
          175,
          176,
          177,
          178,
          179,
          180,
          181,
          182,
          183,
          184,
          185,
          186,
          187,
          188,
          189,
          190,
          191,
          192,
          193,
          194,
          195,
          196,
          197,
          198,
          199,
          200,
          201,
          202,
          203,
          204,
          205,
          206,
          207,
          208,
          209,
          210,
          211,
          212,
          213,
          214,
          215,
          216,
          217,
          218,
          219,
          220,
          221,
          222,
          223,
          224,
          225,
          226,
          227,
          228,
          229,
          230,
          231,
          232,
          233,
          234,
          235,
          236,
          237,
          238,
          239,
          240,
          241,
          242,
          243,
          244,
          245,
          246,
          247,
          248,
          249,
          250,
          251,
          252,
          253,
          254,
          255,
          256,
          257,
          258,
          259,
          260,
          261,
          262,
          263,
          264,
          265,
          266,
          267,
          268,
          269,
          270,
          271,
          272,
          273,
          274,
          275,
          276,
          277,
          278,
          279,
          280,
          281,
          282,
          283,
          284,
          285,
          286,
          287,
          288,
          289
         ],
         "xaxis": "x",
         "y": [
          0.096,
          0.09,
          0.10200000000000001,
          0.10200000000000001,
          0.11400000000000002,
          0.11199999999999999,
          0.11000000000000001,
          0.11800000000000002,
          0.12,
          0.11400000000000002,
          0.11399999999999999,
          0.11800000000000002,
          0.11199999999999999,
          0.11400000000000002,
          0.10400000000000001,
          0.10800000000000001,
          0.10999999999999999,
          0.11200000000000002,
          0.10600000000000001,
          0.10200000000000001,
          0.098,
          0.09,
          0.092,
          0.08800000000000001,
          0.094,
          0.098,
          0.1,
          0.08800000000000001,
          0.098,
          0.10200000000000001,
          0.10600000000000001,
          0.10600000000000001,
          0.10800000000000001,
          0.10800000000000001,
          0.10600000000000001,
          0.10200000000000001,
          0.094,
          0.098,
          0.092,
          0.1,
          0.098,
          0.098,
          0.10200000000000001,
          0.1,
          0.1,
          0.09999999999999999,
          0.10600000000000001,
          0.122,
          0.12399999999999997,
          0.11199999999999999,
          0.10200000000000001,
          0.10800000000000001,
          0.098,
          0.096,
          0.092,
          0.092,
          0.10200000000000001,
          0.092,
          0.094,
          0.1,
          0.11399999999999999,
          0.11600000000000002,
          0.11599999999999999,
          0.11199999999999999,
          0.11200000000000002,
          0.11600000000000002,
          0.11000000000000001,
          0.11399999999999999,
          0.10800000000000001,
          0.1,
          0.092,
          0.084,
          0.092,
          0.10400000000000001,
          0.10800000000000001,
          0.10600000000000001,
          0.11400000000000002,
          0.1,
          0.10200000000000001,
          0.11000000000000001,
          0.118,
          0.12000000000000002,
          0.11399999999999999,
          0.10600000000000001,
          0.10400000000000001,
          0.10800000000000001,
          0.096,
          0.11000000000000001,
          0.10799999999999998,
          0.10400000000000001,
          0.10200000000000001,
          0.10200000000000001,
          0.096,
          0.10400000000000001,
          0.10600000000000001,
          0.092,
          0.094,
          0.09,
          0.08600000000000001,
          0.092,
          0.09,
          0.1,
          0.1,
          0.10600000000000001,
          0.10600000000000001,
          0.11199999999999999,
          0.12000000000000002,
          0.118,
          0.12,
          0.11200000000000002,
          0.10800000000000001,
          0.098,
          0.10200000000000001,
          0.09,
          0.094,
          0.094,
          0.09000000000000001,
          0.1,
          0.10400000000000001,
          0.118,
          0.122,
          0.12000000000000002,
          0.11400000000000002,
          0.11399999999999999,
          0.10400000000000001,
          0.10400000000000001,
          0.1,
          0.09,
          0.094,
          0.086,
          0.08,
          0.086,
          0.088,
          0.094,
          0.10400000000000001,
          0.11399999999999999,
          0.11800000000000002,
          0.124,
          0.11800000000000002,
          0.11200000000000002,
          0.12,
          0.11800000000000002,
          0.12000000000000002,
          0.11399999999999999,
          0.1,
          0.094,
          0.088,
          0.086,
          0.092,
          0.09,
          0.09200000000000001,
          0.092,
          0.096,
          0.1,
          0.10400000000000001,
          0.10200000000000001,
          0.11400000000000002,
          0.11000000000000001,
          0.10600000000000001,
          0.11200000000000002,
          0.10800000000000001,
          0.11400000000000002,
          0.11199999999999999,
          0.11400000000000002,
          0.122,
          0.12200000000000003,
          0.11399999999999999,
          0.11400000000000002,
          0.11000000000000001,
          0.10799999999999998,
          0.10600000000000001,
          0.10200000000000001,
          0.098,
          0.08800000000000001,
          0.07799999999999999,
          0.076,
          0.072,
          0.076,
          0.08199999999999999,
          0.088,
          0.09,
          0.08800000000000001,
          0.092,
          0.098,
          0.10800000000000001,
          0.11200000000000002,
          0.122,
          0.118,
          0.11400000000000002,
          0.12,
          0.118,
          0.12200000000000003,
          0.124,
          0.118,
          0.124,
          0.12200000000000003,
          0.11400000000000002,
          0.10800000000000001,
          0.10800000000000001,
          0.10400000000000001,
          0.10600000000000001,
          0.096,
          0.1,
          0.10400000000000001,
          0.094,
          0.096,
          0.09,
          0.1,
          0.098,
          0.094,
          0.10800000000000001,
          0.11599999999999999,
          0.11000000000000001,
          0.118,
          0.12,
          0.118,
          0.13,
          0.124,
          0.13,
          0.126,
          0.11199999999999999,
          0.11000000000000001,
          0.11599999999999999,
          0.12600000000000003,
          0.122,
          0.11800000000000002,
          0.11399999999999999,
          0.12000000000000002,
          0.12200000000000003,
          0.13,
          0.132,
          0.14200000000000002,
          0.14400000000000002,
          0.12800000000000003,
          0.128,
          0.13,
          0.12800000000000003,
          0.13,
          0.132,
          0.13,
          0.12800000000000003,
          0.118,
          0.12,
          0.12,
          0.136,
          0.146,
          0.152,
          0.156,
          0.154,
          0.148,
          0.154,
          0.148,
          0.154,
          0.17,
          0.156,
          0.14600000000000002,
          0.134,
          0.128,
          0.12400000000000003,
          0.13,
          0.13200000000000003,
          0.14600000000000002,
          0.14,
          0.13,
          0.134,
          0.13999999999999999,
          0.146,
          0.15,
          0.16,
          0.15,
          0.148,
          0.148,
          0.144,
          0.134,
          0.132,
          0.132,
          0.13,
          0.12200000000000003,
          0.11399999999999999,
          0.12200000000000003,
          0.12,
          0.11200000000000002,
          0.11400000000000002,
          0.128,
          0.14,
          0.13999999999999999,
          0.14800000000000002,
          0.152,
          0.154,
          0.15450000000000003
         ],
         "yaxis": "y"
        },
        {
         "hovertemplate": "variable=OFSSGD<br>batches=%{x}<br>accuracy=%{y}<extra></extra>",
         "legendgroup": "OFSSGD",
         "line": {
          "color": "yellow",
          "dash": "solid"
         },
         "mode": "lines",
         "name": "OFSSGD",
         "showlegend": true,
         "type": "scattergl",
         "x": [
          0,
          1,
          2,
          3,
          4,
          5,
          6,
          7,
          8,
          9,
          10,
          11,
          12,
          13,
          14,
          15,
          16,
          17,
          18,
          19,
          20,
          21,
          22,
          23,
          24,
          25,
          26,
          27,
          28,
          29,
          30,
          31,
          32,
          33,
          34,
          35,
          36,
          37,
          38,
          39,
          40,
          41,
          42,
          43,
          44,
          45,
          46,
          47,
          48,
          49,
          50,
          51,
          52,
          53,
          54,
          55,
          56,
          57,
          58,
          59,
          60,
          61,
          62,
          63,
          64,
          65,
          66,
          67,
          68,
          69,
          70,
          71,
          72,
          73,
          74,
          75,
          76,
          77,
          78,
          79,
          80,
          81,
          82,
          83,
          84,
          85,
          86,
          87,
          88,
          89,
          90,
          91,
          92,
          93,
          94,
          95,
          96,
          97,
          98,
          99,
          100,
          101,
          102,
          103,
          104,
          105,
          106,
          107,
          108,
          109,
          110,
          111,
          112,
          113,
          114,
          115,
          116,
          117,
          118,
          119,
          120,
          121,
          122,
          123,
          124,
          125,
          126,
          127,
          128,
          129,
          130,
          131,
          132,
          133,
          134,
          135,
          136,
          137,
          138,
          139,
          140,
          141,
          142,
          143,
          144,
          145,
          146,
          147,
          148,
          149,
          150,
          151,
          152,
          153,
          154,
          155,
          156,
          157,
          158,
          159,
          160,
          161,
          162,
          163,
          164,
          165,
          166,
          167,
          168,
          169,
          170,
          171,
          172,
          173,
          174,
          175,
          176,
          177,
          178,
          179,
          180,
          181,
          182,
          183,
          184,
          185,
          186,
          187,
          188,
          189,
          190,
          191,
          192,
          193,
          194,
          195,
          196,
          197,
          198,
          199,
          200,
          201,
          202,
          203,
          204,
          205,
          206,
          207,
          208,
          209,
          210,
          211,
          212,
          213,
          214,
          215,
          216,
          217,
          218,
          219,
          220,
          221,
          222,
          223,
          224,
          225,
          226,
          227,
          228,
          229,
          230,
          231,
          232,
          233,
          234,
          235,
          236,
          237,
          238,
          239,
          240,
          241,
          242,
          243,
          244,
          245,
          246,
          247,
          248,
          249,
          250,
          251,
          252,
          253,
          254,
          255,
          256,
          257,
          258,
          259,
          260,
          261,
          262,
          263,
          264,
          265,
          266,
          267,
          268,
          269,
          270,
          271,
          272,
          273,
          274,
          275,
          276,
          277,
          278,
          279,
          280,
          281,
          282,
          283,
          284,
          285,
          286,
          287,
          288,
          289
         ],
         "xaxis": "x",
         "y": [
          0.186,
          0.196,
          0.196,
          0.21600000000000003,
          0.21200000000000002,
          0.22999999999999998,
          0.22600000000000003,
          0.23399999999999999,
          0.244,
          0.254,
          0.266,
          0.27399999999999997,
          0.28,
          0.27,
          0.27,
          0.266,
          0.28200000000000003,
          0.276,
          0.27399999999999997,
          0.276,
          0.26999999999999996,
          0.264,
          0.27199999999999996,
          0.28200000000000003,
          0.27999999999999997,
          0.276,
          0.27599999999999997,
          0.268,
          0.27,
          0.264,
          0.26,
          0.27199999999999996,
          0.28400000000000003,
          0.282,
          0.28200000000000003,
          0.282,
          0.27799999999999997,
          0.284,
          0.286,
          0.302,
          0.326,
          0.31799999999999995,
          0.308,
          0.306,
          0.31400000000000006,
          0.318,
          0.326,
          0.33799999999999997,
          0.35000000000000003,
          0.33799999999999997,
          0.308,
          0.306,
          0.292,
          0.274,
          0.26999999999999996,
          0.27,
          0.256,
          0.254,
          0.254,
          0.258,
          0.27999999999999997,
          0.28800000000000003,
          0.304,
          0.32599999999999996,
          0.33,
          0.33399999999999996,
          0.34199999999999997,
          0.34,
          0.346,
          0.34199999999999997,
          0.336,
          0.33799999999999997,
          0.33999999999999997,
          0.338,
          0.33799999999999997,
          0.336,
          0.32599999999999996,
          0.32199999999999995,
          0.31,
          0.316,
          0.32199999999999995,
          0.324,
          0.322,
          0.32799999999999996,
          0.328,
          0.33399999999999996,
          0.346,
          0.35,
          0.358,
          0.364,
          0.362,
          0.37,
          0.36,
          0.354,
          0.362,
          0.364,
          0.366,
          0.368,
          0.358,
          0.364,
          0.364,
          0.346,
          0.358,
          0.368,
          0.358,
          0.346,
          0.346,
          0.34,
          0.33599999999999997,
          0.33199999999999996,
          0.332,
          0.34600000000000003,
          0.348,
          0.33999999999999997,
          0.34,
          0.352,
          0.35,
          0.348,
          0.36,
          0.354,
          0.36,
          0.354,
          0.356,
          0.362,
          0.358,
          0.358,
          0.35000000000000003,
          0.348,
          0.332,
          0.336,
          0.322,
          0.31,
          0.304,
          0.29800000000000004,
          0.304,
          0.304,
          0.31799999999999995,
          0.328,
          0.352,
          0.354,
          0.364,
          0.38,
          0.388,
          0.40199999999999997,
          0.41,
          0.4,
          0.39,
          0.388,
          0.376,
          0.372,
          0.372,
          0.374,
          0.364,
          0.36,
          0.366,
          0.366,
          0.362,
          0.374,
          0.376,
          0.376,
          0.372,
          0.374,
          0.37,
          0.36,
          0.34199999999999997,
          0.34199999999999997,
          0.35200000000000004,
          0.33999999999999997,
          0.34199999999999997,
          0.346,
          0.34600000000000003,
          0.34199999999999997,
          0.348,
          0.34400000000000003,
          0.352,
          0.37,
          0.376,
          0.38,
          0.384,
          0.366,
          0.378,
          0.384,
          0.382,
          0.378,
          0.392,
          0.376,
          0.364,
          0.34800000000000003,
          0.348,
          0.36,
          0.35,
          0.34,
          0.358,
          0.374,
          0.364,
          0.37,
          0.368,
          0.388,
          0.392,
          0.396,
          0.394,
          0.40599999999999997,
          0.39,
          0.384,
          0.374,
          0.366,
          0.382,
          0.37,
          0.36,
          0.354,
          0.358,
          0.348,
          0.354,
          0.362,
          0.36,
          0.37,
          0.368,
          0.372,
          0.372,
          0.376,
          0.374,
          0.374,
          0.382,
          0.382,
          0.4,
          0.392,
          0.394,
          0.398,
          0.396,
          0.40800000000000003,
          0.398,
          0.402,
          0.396,
          0.39,
          0.378,
          0.382,
          0.382,
          0.374,
          0.378,
          0.366,
          0.378,
          0.38,
          0.38,
          0.372,
          0.372,
          0.386,
          0.384,
          0.39,
          0.386,
          0.382,
          0.38,
          0.376,
          0.372,
          0.394,
          0.394,
          0.392,
          0.382,
          0.374,
          0.372,
          0.39,
          0.394,
          0.388,
          0.384,
          0.378,
          0.37,
          0.35,
          0.35200000000000004,
          0.352,
          0.358,
          0.34,
          0.34800000000000003,
          0.33799999999999997,
          0.35,
          0.34400000000000003,
          0.354,
          0.35,
          0.35600000000000004,
          0.362,
          0.358,
          0.356,
          0.34600000000000003,
          0.358,
          0.348,
          0.356,
          0.356,
          0.38,
          0.372,
          0.368,
          0.368,
          0.36300000000000004
         ],
         "yaxis": "y"
        },
        {
         "hovertemplate": "variable=FSDS<br>batches=%{x}<br>accuracy=%{y}<extra></extra>",
         "legendgroup": "FSDS",
         "line": {
          "color": "green",
          "dash": "solid"
         },
         "mode": "lines",
         "name": "FSDS",
         "showlegend": true,
         "type": "scattergl",
         "x": [
          0,
          1,
          2,
          3,
          4,
          5,
          6,
          7,
          8,
          9,
          10,
          11,
          12,
          13,
          14,
          15,
          16,
          17,
          18,
          19,
          20,
          21,
          22,
          23,
          24,
          25,
          26,
          27,
          28,
          29,
          30,
          31,
          32,
          33,
          34,
          35,
          36,
          37,
          38,
          39,
          40,
          41,
          42,
          43,
          44,
          45,
          46,
          47,
          48,
          49,
          50,
          51,
          52,
          53,
          54,
          55,
          56,
          57,
          58,
          59,
          60,
          61,
          62,
          63,
          64,
          65,
          66,
          67,
          68,
          69,
          70,
          71,
          72,
          73,
          74,
          75,
          76,
          77,
          78,
          79,
          80,
          81,
          82,
          83,
          84,
          85,
          86,
          87,
          88,
          89,
          90,
          91,
          92,
          93,
          94,
          95,
          96,
          97,
          98,
          99,
          100,
          101,
          102,
          103,
          104,
          105,
          106,
          107,
          108,
          109,
          110,
          111,
          112,
          113,
          114,
          115,
          116,
          117,
          118,
          119,
          120,
          121,
          122,
          123,
          124,
          125,
          126,
          127,
          128,
          129,
          130,
          131,
          132,
          133,
          134,
          135,
          136,
          137,
          138,
          139,
          140,
          141,
          142,
          143,
          144,
          145,
          146,
          147,
          148,
          149,
          150,
          151,
          152,
          153,
          154,
          155,
          156,
          157,
          158,
          159,
          160,
          161,
          162,
          163,
          164,
          165,
          166,
          167,
          168,
          169,
          170,
          171,
          172,
          173,
          174,
          175,
          176,
          177,
          178,
          179,
          180,
          181,
          182,
          183,
          184,
          185,
          186,
          187,
          188,
          189,
          190,
          191,
          192,
          193,
          194,
          195,
          196,
          197,
          198,
          199,
          200,
          201,
          202,
          203,
          204,
          205,
          206,
          207,
          208,
          209,
          210,
          211,
          212,
          213,
          214,
          215,
          216,
          217,
          218,
          219,
          220,
          221,
          222,
          223,
          224,
          225,
          226,
          227,
          228,
          229,
          230,
          231,
          232,
          233,
          234,
          235,
          236,
          237,
          238,
          239,
          240,
          241,
          242,
          243,
          244,
          245,
          246,
          247,
          248,
          249,
          250,
          251,
          252,
          253,
          254,
          255,
          256,
          257,
          258,
          259,
          260,
          261,
          262,
          263,
          264,
          265,
          266,
          267,
          268,
          269,
          270,
          271,
          272,
          273,
          274,
          275,
          276,
          277,
          278,
          279,
          280,
          281,
          282,
          283,
          284,
          285,
          286,
          287,
          288,
          289
         ],
         "xaxis": "x",
         "y": [
          0.09,
          0.09,
          0.10200000000000001,
          0.10200000000000001,
          0.11399999999999999,
          0.11200000000000002,
          0.11000000000000001,
          0.118,
          0.12,
          0.11399999999999999,
          0.11400000000000002,
          0.118,
          0.11200000000000002,
          0.11400000000000002,
          0.10400000000000001,
          0.10800000000000001,
          0.11000000000000001,
          0.11200000000000002,
          0.10600000000000001,
          0.10200000000000001,
          0.098,
          0.09,
          0.092,
          0.088,
          0.094,
          0.098,
          0.1,
          0.088,
          0.08800000000000001,
          0.088,
          0.08800000000000001,
          0.094,
          0.096,
          0.09,
          0.088,
          0.084,
          0.076,
          0.08,
          0.078,
          0.082,
          0.08399999999999999,
          0.078,
          0.082,
          0.086,
          0.084,
          0.08199999999999999,
          0.08600000000000001,
          0.1,
          0.10800000000000001,
          0.10800000000000001,
          0.098,
          0.10400000000000001,
          0.094,
          0.092,
          0.09,
          0.092,
          0.10200000000000001,
          0.09,
          0.086,
          0.088,
          0.098,
          0.094,
          0.096,
          0.092,
          0.094,
          0.092,
          0.09,
          0.096,
          0.096,
          0.092,
          0.08600000000000001,
          0.08399999999999999,
          0.078,
          0.09,
          0.092,
          0.098,
          0.092,
          0.084,
          0.094,
          0.092,
          0.10400000000000001,
          0.11000000000000001,
          0.11400000000000002,
          0.10599999999999998,
          0.10400000000000001,
          0.098,
          0.098,
          0.10800000000000001,
          0.098,
          0.1,
          0.096,
          0.096,
          0.098,
          0.10400000000000001,
          0.10600000000000001,
          0.10800000000000001,
          0.11199999999999999,
          0.10800000000000001,
          0.10200000000000001,
          0.10200000000000001,
          0.094,
          0.09,
          0.084,
          0.094,
          0.1,
          0.098,
          0.096,
          0.096,
          0.096,
          0.096,
          0.10200000000000001,
          0.10200000000000001,
          0.10600000000000001,
          0.092,
          0.088,
          0.088,
          0.082,
          0.074,
          0.082,
          0.084,
          0.088,
          0.09,
          0.084,
          0.086,
          0.078,
          0.078,
          0.086,
          0.09200000000000001,
          0.09,
          0.094,
          0.088,
          0.09200000000000001,
          0.10400000000000001,
          0.10600000000000001,
          0.128,
          0.142,
          0.14400000000000002,
          0.15,
          0.15000000000000002,
          0.14200000000000002,
          0.146,
          0.136,
          0.128,
          0.12400000000000003,
          0.098,
          0.088,
          0.07999999999999999,
          0.078,
          0.084,
          0.082,
          0.082,
          0.084,
          0.08199999999999999,
          0.08,
          0.088,
          0.082,
          0.08600000000000001,
          0.08199999999999999,
          0.076,
          0.082,
          0.078,
          0.086,
          0.098,
          0.10600000000000001,
          0.11200000000000002,
          0.118,
          0.11800000000000002,
          0.11800000000000002,
          0.11599999999999999,
          0.11400000000000002,
          0.11800000000000002,
          0.11599999999999999,
          0.11000000000000001,
          0.10200000000000001,
          0.09,
          0.088,
          0.086,
          0.092,
          0.092,
          0.098,
          0.096,
          0.094,
          0.092,
          0.098,
          0.10600000000000001,
          0.1,
          0.1,
          0.088,
          0.08600000000000001,
          0.08199999999999999,
          0.086,
          0.09,
          0.092,
          0.084,
          0.09000000000000001,
          0.094,
          0.096,
          0.098,
          0.10200000000000001,
          0.098,
          0.092,
          0.08399999999999999,
          0.086,
          0.09,
          0.09,
          0.09,
          0.086,
          0.094,
          0.092,
          0.096,
          0.096,
          0.092,
          0.10200000000000001,
          0.11000000000000001,
          0.098,
          0.1,
          0.10800000000000001,
          0.10200000000000001,
          0.10400000000000001,
          0.10400000000000001,
          0.11000000000000001,
          0.11600000000000002,
          0.10600000000000001,
          0.10400000000000001,
          0.10800000000000001,
          0.10400000000000001,
          0.10400000000000001,
          0.1,
          0.10600000000000001,
          0.10600000000000001,
          0.098,
          0.1,
          0.10200000000000001,
          0.098,
          0.096,
          0.096,
          0.086,
          0.09200000000000001,
          0.094,
          0.096,
          0.098,
          0.1,
          0.096,
          0.092,
          0.094,
          0.10600000000000001,
          0.11199999999999999,
          0.11400000000000002,
          0.10400000000000001,
          0.10200000000000001,
          0.10400000000000001,
          0.096,
          0.096,
          0.10400000000000001,
          0.10200000000000001,
          0.092,
          0.08600000000000001,
          0.08600000000000001,
          0.088,
          0.088,
          0.08800000000000001,
          0.094,
          0.094,
          0.084,
          0.088,
          0.088,
          0.094,
          0.092,
          0.09,
          0.084,
          0.088,
          0.09,
          0.09,
          0.10200000000000001,
          0.10400000000000001,
          0.10200000000000001,
          0.10200000000000001,
          0.10600000000000001,
          0.10799999999999998,
          0.10800000000000001,
          0.10600000000000001,
          0.11400000000000002,
          0.11599999999999999,
          0.11000000000000001,
          0.11000000000000001,
          0.11199999999999999,
          0.11000000000000001,
          0.10800000000000001,
          0.11400000000000002,
          0.12041666666666669
         ],
         "yaxis": "y"
        },
        {
         "hovertemplate": "variable=random<br>batches=%{x}<br>accuracy=%{y}<extra></extra>",
         "legendgroup": "random",
         "line": {
          "color": "cyan",
          "dash": "solid"
         },
         "mode": "lines",
         "name": "random",
         "showlegend": true,
         "type": "scattergl",
         "x": [
          0,
          1,
          2,
          3,
          4,
          5,
          6,
          7,
          8,
          9,
          10,
          11,
          12,
          13,
          14,
          15,
          16,
          17,
          18,
          19,
          20,
          21,
          22,
          23,
          24,
          25,
          26,
          27,
          28,
          29,
          30,
          31,
          32,
          33,
          34,
          35,
          36,
          37,
          38,
          39,
          40,
          41,
          42,
          43,
          44,
          45,
          46,
          47,
          48,
          49,
          50,
          51,
          52,
          53,
          54,
          55,
          56,
          57,
          58,
          59,
          60,
          61,
          62,
          63,
          64,
          65,
          66,
          67,
          68,
          69,
          70,
          71,
          72,
          73,
          74,
          75,
          76,
          77,
          78,
          79,
          80,
          81,
          82,
          83,
          84,
          85,
          86,
          87,
          88,
          89,
          90,
          91,
          92,
          93,
          94,
          95,
          96,
          97,
          98,
          99,
          100,
          101,
          102,
          103,
          104,
          105,
          106,
          107,
          108,
          109,
          110,
          111,
          112,
          113,
          114,
          115,
          116,
          117,
          118,
          119,
          120,
          121,
          122,
          123,
          124,
          125,
          126,
          127,
          128,
          129,
          130,
          131,
          132,
          133,
          134,
          135,
          136,
          137,
          138,
          139,
          140,
          141,
          142,
          143,
          144,
          145,
          146,
          147,
          148,
          149,
          150,
          151,
          152,
          153,
          154,
          155,
          156,
          157,
          158,
          159,
          160,
          161,
          162,
          163,
          164,
          165,
          166,
          167,
          168,
          169,
          170,
          171,
          172,
          173,
          174,
          175,
          176,
          177,
          178,
          179,
          180,
          181,
          182,
          183,
          184,
          185,
          186,
          187,
          188,
          189,
          190,
          191,
          192,
          193,
          194,
          195,
          196,
          197,
          198,
          199,
          200,
          201,
          202,
          203,
          204,
          205,
          206,
          207,
          208,
          209,
          210,
          211,
          212,
          213,
          214,
          215,
          216,
          217,
          218,
          219,
          220,
          221,
          222,
          223,
          224,
          225,
          226,
          227,
          228,
          229,
          230,
          231,
          232,
          233,
          234,
          235,
          236,
          237,
          238,
          239,
          240,
          241,
          242,
          243,
          244,
          245,
          246,
          247,
          248,
          249,
          250,
          251,
          252,
          253,
          254,
          255,
          256,
          257,
          258,
          259,
          260,
          261,
          262,
          263,
          264,
          265,
          266,
          267,
          268,
          269,
          270,
          271,
          272,
          273,
          274,
          275,
          276,
          277,
          278,
          279,
          280,
          281,
          282,
          283,
          284,
          285,
          286,
          287,
          288,
          289
         ],
         "xaxis": "x",
         "y": [
          0.096,
          0.096,
          0.10800000000000001,
          0.10800000000000001,
          0.11400000000000002,
          0.11199999999999999,
          0.11000000000000001,
          0.11400000000000002,
          0.11399999999999999,
          0.11400000000000002,
          0.11399999999999999,
          0.11800000000000002,
          0.11199999999999999,
          0.11400000000000002,
          0.10400000000000001,
          0.10800000000000001,
          0.10999999999999999,
          0.10600000000000001,
          0.1,
          0.096,
          0.08600000000000001,
          0.078,
          0.074,
          0.068,
          0.074,
          0.08,
          0.07999999999999999,
          0.088,
          0.096,
          0.098,
          0.10800000000000001,
          0.122,
          0.132,
          0.13,
          0.12400000000000003,
          0.128,
          0.128,
          0.132,
          0.12800000000000003,
          0.128,
          0.122,
          0.11600000000000002,
          0.11400000000000002,
          0.12200000000000003,
          0.122,
          0.10800000000000001,
          0.11199999999999999,
          0.11400000000000002,
          0.124,
          0.12200000000000003,
          0.118,
          0.11600000000000002,
          0.12,
          0.11400000000000002,
          0.118,
          0.118,
          0.11400000000000002,
          0.1,
          0.094,
          0.1,
          0.10800000000000001,
          0.10800000000000001,
          0.10200000000000001,
          0.10200000000000001,
          0.10600000000000001,
          0.10999999999999999,
          0.11400000000000002,
          0.122,
          0.11600000000000002,
          0.11599999999999999,
          0.11199999999999999,
          0.10600000000000001,
          0.1,
          0.10400000000000001,
          0.10800000000000001,
          0.11200000000000002,
          0.10800000000000001,
          0.1,
          0.11000000000000001,
          0.10400000000000001,
          0.11200000000000002,
          0.11000000000000001,
          0.11199999999999999,
          0.11600000000000002,
          0.11600000000000002,
          0.12,
          0.122,
          0.128,
          0.11400000000000002,
          0.12,
          0.11400000000000002,
          0.11600000000000002,
          0.11599999999999999,
          0.11000000000000001,
          0.10200000000000001,
          0.08600000000000001,
          0.086,
          0.08199999999999999,
          0.096,
          0.092,
          0.092,
          0.098,
          0.10200000000000001,
          0.11000000000000001,
          0.10600000000000001,
          0.12,
          0.11399999999999999,
          0.122,
          0.11800000000000002,
          0.122,
          0.13,
          0.12400000000000003,
          0.12,
          0.11200000000000002,
          0.11599999999999999,
          0.11000000000000001,
          0.126,
          0.12400000000000003,
          0.12,
          0.12000000000000002,
          0.11199999999999999,
          0.12600000000000003,
          0.134,
          0.134,
          0.14200000000000002,
          0.14,
          0.126,
          0.12,
          0.12000000000000002,
          0.124,
          0.12800000000000003,
          0.11599999999999999,
          0.11600000000000002,
          0.12,
          0.10800000000000001,
          0.11199999999999999,
          0.11600000000000002,
          0.12,
          0.13399999999999998,
          0.126,
          0.12200000000000003,
          0.13999999999999999,
          0.13399999999999998,
          0.132,
          0.148,
          0.146,
          0.154,
          0.15,
          0.138,
          0.13999999999999999,
          0.142,
          0.12000000000000002,
          0.126,
          0.126,
          0.11199999999999999,
          0.12200000000000003,
          0.10599999999999998,
          0.11600000000000002,
          0.11599999999999999,
          0.11400000000000002,
          0.122,
          0.13199999999999998,
          0.13,
          0.13599999999999998,
          0.136,
          0.13,
          0.14200000000000002,
          0.13599999999999998,
          0.136,
          0.13999999999999999,
          0.134,
          0.134,
          0.128,
          0.12200000000000003,
          0.118,
          0.11600000000000002,
          0.11000000000000001,
          0.10800000000000001,
          0.11199999999999999,
          0.10200000000000001,
          0.10800000000000001,
          0.118,
          0.12,
          0.128,
          0.13799999999999998,
          0.14200000000000002,
          0.15,
          0.146,
          0.13599999999999998,
          0.152,
          0.144,
          0.136,
          0.13799999999999998,
          0.128,
          0.13,
          0.12999999999999998,
          0.126,
          0.128,
          0.126,
          0.126,
          0.13,
          0.12,
          0.11800000000000002,
          0.118,
          0.11800000000000002,
          0.11399999999999999,
          0.11000000000000001,
          0.11599999999999999,
          0.11800000000000002,
          0.11399999999999999,
          0.11000000000000001,
          0.124,
          0.12999999999999998,
          0.132,
          0.12800000000000003,
          0.138,
          0.142,
          0.134,
          0.13999999999999999,
          0.138,
          0.13799999999999998,
          0.13,
          0.12400000000000003,
          0.122,
          0.11600000000000002,
          0.10800000000000001,
          0.10200000000000001,
          0.1,
          0.098,
          0.094,
          0.088,
          0.086,
          0.088,
          0.092,
          0.10200000000000001,
          0.10600000000000001,
          0.11599999999999999,
          0.12400000000000003,
          0.128,
          0.13599999999999998,
          0.144,
          0.148,
          0.144,
          0.14200000000000002,
          0.14,
          0.13,
          0.132,
          0.12800000000000003,
          0.128,
          0.11600000000000002,
          0.10800000000000001,
          0.10600000000000001,
          0.11800000000000002,
          0.11399999999999999,
          0.10800000000000001,
          0.10999999999999999,
          0.10200000000000001,
          0.11000000000000001,
          0.11000000000000001,
          0.118,
          0.126,
          0.128,
          0.11800000000000002,
          0.126,
          0.124,
          0.12800000000000003,
          0.132,
          0.13,
          0.13,
          0.12800000000000003,
          0.13999999999999999,
          0.136,
          0.142,
          0.14,
          0.14,
          0.13000000000000003,
          0.13,
          0.12400000000000003,
          0.12,
          0.12400000000000003,
          0.11599999999999999,
          0.11800000000000002,
          0.11399999999999999,
          0.12,
          0.13399999999999998,
          0.142,
          0.142,
          0.144,
          0.148,
          0.14858333333333335
         ],
         "yaxis": "y"
        }
       ],
       "layout": {
        "legend": {
         "title": {
          "text": "variable"
         },
         "tracegroupgap": 0
        },
        "template": {
         "data": {
          "bar": [
           {
            "error_x": {
             "color": "#2a3f5f"
            },
            "error_y": {
             "color": "#2a3f5f"
            },
            "marker": {
             "line": {
              "color": "#E5ECF6",
              "width": 0.5
             }
            },
            "type": "bar"
           }
          ],
          "barpolar": [
           {
            "marker": {
             "line": {
              "color": "#E5ECF6",
              "width": 0.5
             }
            },
            "type": "barpolar"
           }
          ],
          "carpet": [
           {
            "aaxis": {
             "endlinecolor": "#2a3f5f",
             "gridcolor": "white",
             "linecolor": "white",
             "minorgridcolor": "white",
             "startlinecolor": "#2a3f5f"
            },
            "baxis": {
             "endlinecolor": "#2a3f5f",
             "gridcolor": "white",
             "linecolor": "white",
             "minorgridcolor": "white",
             "startlinecolor": "#2a3f5f"
            },
            "type": "carpet"
           }
          ],
          "choropleth": [
           {
            "colorbar": {
             "outlinewidth": 0,
             "ticks": ""
            },
            "type": "choropleth"
           }
          ],
          "contour": [
           {
            "colorbar": {
             "outlinewidth": 0,
             "ticks": ""
            },
            "colorscale": [
             [
              0,
              "#0d0887"
             ],
             [
              0.1111111111111111,
              "#46039f"
             ],
             [
              0.2222222222222222,
              "#7201a8"
             ],
             [
              0.3333333333333333,
              "#9c179e"
             ],
             [
              0.4444444444444444,
              "#bd3786"
             ],
             [
              0.5555555555555556,
              "#d8576b"
             ],
             [
              0.6666666666666666,
              "#ed7953"
             ],
             [
              0.7777777777777778,
              "#fb9f3a"
             ],
             [
              0.8888888888888888,
              "#fdca26"
             ],
             [
              1,
              "#f0f921"
             ]
            ],
            "type": "contour"
           }
          ],
          "contourcarpet": [
           {
            "colorbar": {
             "outlinewidth": 0,
             "ticks": ""
            },
            "type": "contourcarpet"
           }
          ],
          "heatmap": [
           {
            "colorbar": {
             "outlinewidth": 0,
             "ticks": ""
            },
            "colorscale": [
             [
              0,
              "#0d0887"
             ],
             [
              0.1111111111111111,
              "#46039f"
             ],
             [
              0.2222222222222222,
              "#7201a8"
             ],
             [
              0.3333333333333333,
              "#9c179e"
             ],
             [
              0.4444444444444444,
              "#bd3786"
             ],
             [
              0.5555555555555556,
              "#d8576b"
             ],
             [
              0.6666666666666666,
              "#ed7953"
             ],
             [
              0.7777777777777778,
              "#fb9f3a"
             ],
             [
              0.8888888888888888,
              "#fdca26"
             ],
             [
              1,
              "#f0f921"
             ]
            ],
            "type": "heatmap"
           }
          ],
          "heatmapgl": [
           {
            "colorbar": {
             "outlinewidth": 0,
             "ticks": ""
            },
            "colorscale": [
             [
              0,
              "#0d0887"
             ],
             [
              0.1111111111111111,
              "#46039f"
             ],
             [
              0.2222222222222222,
              "#7201a8"
             ],
             [
              0.3333333333333333,
              "#9c179e"
             ],
             [
              0.4444444444444444,
              "#bd3786"
             ],
             [
              0.5555555555555556,
              "#d8576b"
             ],
             [
              0.6666666666666666,
              "#ed7953"
             ],
             [
              0.7777777777777778,
              "#fb9f3a"
             ],
             [
              0.8888888888888888,
              "#fdca26"
             ],
             [
              1,
              "#f0f921"
             ]
            ],
            "type": "heatmapgl"
           }
          ],
          "histogram": [
           {
            "marker": {
             "colorbar": {
              "outlinewidth": 0,
              "ticks": ""
             }
            },
            "type": "histogram"
           }
          ],
          "histogram2d": [
           {
            "colorbar": {
             "outlinewidth": 0,
             "ticks": ""
            },
            "colorscale": [
             [
              0,
              "#0d0887"
             ],
             [
              0.1111111111111111,
              "#46039f"
             ],
             [
              0.2222222222222222,
              "#7201a8"
             ],
             [
              0.3333333333333333,
              "#9c179e"
             ],
             [
              0.4444444444444444,
              "#bd3786"
             ],
             [
              0.5555555555555556,
              "#d8576b"
             ],
             [
              0.6666666666666666,
              "#ed7953"
             ],
             [
              0.7777777777777778,
              "#fb9f3a"
             ],
             [
              0.8888888888888888,
              "#fdca26"
             ],
             [
              1,
              "#f0f921"
             ]
            ],
            "type": "histogram2d"
           }
          ],
          "histogram2dcontour": [
           {
            "colorbar": {
             "outlinewidth": 0,
             "ticks": ""
            },
            "colorscale": [
             [
              0,
              "#0d0887"
             ],
             [
              0.1111111111111111,
              "#46039f"
             ],
             [
              0.2222222222222222,
              "#7201a8"
             ],
             [
              0.3333333333333333,
              "#9c179e"
             ],
             [
              0.4444444444444444,
              "#bd3786"
             ],
             [
              0.5555555555555556,
              "#d8576b"
             ],
             [
              0.6666666666666666,
              "#ed7953"
             ],
             [
              0.7777777777777778,
              "#fb9f3a"
             ],
             [
              0.8888888888888888,
              "#fdca26"
             ],
             [
              1,
              "#f0f921"
             ]
            ],
            "type": "histogram2dcontour"
           }
          ],
          "mesh3d": [
           {
            "colorbar": {
             "outlinewidth": 0,
             "ticks": ""
            },
            "type": "mesh3d"
           }
          ],
          "parcoords": [
           {
            "line": {
             "colorbar": {
              "outlinewidth": 0,
              "ticks": ""
             }
            },
            "type": "parcoords"
           }
          ],
          "pie": [
           {
            "automargin": true,
            "type": "pie"
           }
          ],
          "scatter": [
           {
            "marker": {
             "colorbar": {
              "outlinewidth": 0,
              "ticks": ""
             }
            },
            "type": "scatter"
           }
          ],
          "scatter3d": [
           {
            "line": {
             "colorbar": {
              "outlinewidth": 0,
              "ticks": ""
             }
            },
            "marker": {
             "colorbar": {
              "outlinewidth": 0,
              "ticks": ""
             }
            },
            "type": "scatter3d"
           }
          ],
          "scattercarpet": [
           {
            "marker": {
             "colorbar": {
              "outlinewidth": 0,
              "ticks": ""
             }
            },
            "type": "scattercarpet"
           }
          ],
          "scattergeo": [
           {
            "marker": {
             "colorbar": {
              "outlinewidth": 0,
              "ticks": ""
             }
            },
            "type": "scattergeo"
           }
          ],
          "scattergl": [
           {
            "marker": {
             "colorbar": {
              "outlinewidth": 0,
              "ticks": ""
             }
            },
            "type": "scattergl"
           }
          ],
          "scattermapbox": [
           {
            "marker": {
             "colorbar": {
              "outlinewidth": 0,
              "ticks": ""
             }
            },
            "type": "scattermapbox"
           }
          ],
          "scatterpolar": [
           {
            "marker": {
             "colorbar": {
              "outlinewidth": 0,
              "ticks": ""
             }
            },
            "type": "scatterpolar"
           }
          ],
          "scatterpolargl": [
           {
            "marker": {
             "colorbar": {
              "outlinewidth": 0,
              "ticks": ""
             }
            },
            "type": "scatterpolargl"
           }
          ],
          "scatterternary": [
           {
            "marker": {
             "colorbar": {
              "outlinewidth": 0,
              "ticks": ""
             }
            },
            "type": "scatterternary"
           }
          ],
          "surface": [
           {
            "colorbar": {
             "outlinewidth": 0,
             "ticks": ""
            },
            "colorscale": [
             [
              0,
              "#0d0887"
             ],
             [
              0.1111111111111111,
              "#46039f"
             ],
             [
              0.2222222222222222,
              "#7201a8"
             ],
             [
              0.3333333333333333,
              "#9c179e"
             ],
             [
              0.4444444444444444,
              "#bd3786"
             ],
             [
              0.5555555555555556,
              "#d8576b"
             ],
             [
              0.6666666666666666,
              "#ed7953"
             ],
             [
              0.7777777777777778,
              "#fb9f3a"
             ],
             [
              0.8888888888888888,
              "#fdca26"
             ],
             [
              1,
              "#f0f921"
             ]
            ],
            "type": "surface"
           }
          ],
          "table": [
           {
            "cells": {
             "fill": {
              "color": "#EBF0F8"
             },
             "line": {
              "color": "white"
             }
            },
            "header": {
             "fill": {
              "color": "#C8D4E3"
             },
             "line": {
              "color": "white"
             }
            },
            "type": "table"
           }
          ]
         },
         "layout": {
          "annotationdefaults": {
           "arrowcolor": "#2a3f5f",
           "arrowhead": 0,
           "arrowwidth": 1
          },
          "autotypenumbers": "strict",
          "coloraxis": {
           "colorbar": {
            "outlinewidth": 0,
            "ticks": ""
           }
          },
          "colorscale": {
           "diverging": [
            [
             0,
             "#8e0152"
            ],
            [
             0.1,
             "#c51b7d"
            ],
            [
             0.2,
             "#de77ae"
            ],
            [
             0.3,
             "#f1b6da"
            ],
            [
             0.4,
             "#fde0ef"
            ],
            [
             0.5,
             "#f7f7f7"
            ],
            [
             0.6,
             "#e6f5d0"
            ],
            [
             0.7,
             "#b8e186"
            ],
            [
             0.8,
             "#7fbc41"
            ],
            [
             0.9,
             "#4d9221"
            ],
            [
             1,
             "#276419"
            ]
           ],
           "sequential": [
            [
             0,
             "#0d0887"
            ],
            [
             0.1111111111111111,
             "#46039f"
            ],
            [
             0.2222222222222222,
             "#7201a8"
            ],
            [
             0.3333333333333333,
             "#9c179e"
            ],
            [
             0.4444444444444444,
             "#bd3786"
            ],
            [
             0.5555555555555556,
             "#d8576b"
            ],
            [
             0.6666666666666666,
             "#ed7953"
            ],
            [
             0.7777777777777778,
             "#fb9f3a"
            ],
            [
             0.8888888888888888,
             "#fdca26"
            ],
            [
             1,
             "#f0f921"
            ]
           ],
           "sequentialminus": [
            [
             0,
             "#0d0887"
            ],
            [
             0.1111111111111111,
             "#46039f"
            ],
            [
             0.2222222222222222,
             "#7201a8"
            ],
            [
             0.3333333333333333,
             "#9c179e"
            ],
            [
             0.4444444444444444,
             "#bd3786"
            ],
            [
             0.5555555555555556,
             "#d8576b"
            ],
            [
             0.6666666666666666,
             "#ed7953"
            ],
            [
             0.7777777777777778,
             "#fb9f3a"
            ],
            [
             0.8888888888888888,
             "#fdca26"
            ],
            [
             1,
             "#f0f921"
            ]
           ]
          },
          "colorway": [
           "#636efa",
           "#EF553B",
           "#00cc96",
           "#ab63fa",
           "#FFA15A",
           "#19d3f3",
           "#FF6692",
           "#B6E880",
           "#FF97FF",
           "#FECB52"
          ],
          "font": {
           "color": "#2a3f5f"
          },
          "geo": {
           "bgcolor": "white",
           "lakecolor": "white",
           "landcolor": "#E5ECF6",
           "showlakes": true,
           "showland": true,
           "subunitcolor": "white"
          },
          "hoverlabel": {
           "align": "left"
          },
          "hovermode": "closest",
          "mapbox": {
           "style": "light"
          },
          "paper_bgcolor": "white",
          "plot_bgcolor": "#E5ECF6",
          "polar": {
           "angularaxis": {
            "gridcolor": "white",
            "linecolor": "white",
            "ticks": ""
           },
           "bgcolor": "#E5ECF6",
           "radialaxis": {
            "gridcolor": "white",
            "linecolor": "white",
            "ticks": ""
           }
          },
          "scene": {
           "xaxis": {
            "backgroundcolor": "#E5ECF6",
            "gridcolor": "white",
            "gridwidth": 2,
            "linecolor": "white",
            "showbackground": true,
            "ticks": "",
            "zerolinecolor": "white"
           },
           "yaxis": {
            "backgroundcolor": "#E5ECF6",
            "gridcolor": "white",
            "gridwidth": 2,
            "linecolor": "white",
            "showbackground": true,
            "ticks": "",
            "zerolinecolor": "white"
           },
           "zaxis": {
            "backgroundcolor": "#E5ECF6",
            "gridcolor": "white",
            "gridwidth": 2,
            "linecolor": "white",
            "showbackground": true,
            "ticks": "",
            "zerolinecolor": "white"
           }
          },
          "shapedefaults": {
           "line": {
            "color": "#2a3f5f"
           }
          },
          "ternary": {
           "aaxis": {
            "gridcolor": "white",
            "linecolor": "white",
            "ticks": ""
           },
           "baxis": {
            "gridcolor": "white",
            "linecolor": "white",
            "ticks": ""
           },
           "bgcolor": "#E5ECF6",
           "caxis": {
            "gridcolor": "white",
            "linecolor": "white",
            "ticks": ""
           }
          },
          "title": {
           "x": 0.05
          },
          "xaxis": {
           "automargin": true,
           "gridcolor": "white",
           "linecolor": "white",
           "ticks": "",
           "title": {
            "standoff": 15
           },
           "zerolinecolor": "white",
           "zerolinewidth": 2
          },
          "yaxis": {
           "automargin": true,
           "gridcolor": "white",
           "linecolor": "white",
           "ticks": "",
           "title": {
            "standoff": 15
           },
           "zerolinecolor": "white",
           "zerolinewidth": 2
          }
         }
        },
        "title": {
         "text": "Moving averages over accuracy while learning with window 10 on dataset syn_ds_1"
        },
        "xaxis": {
         "anchor": "y",
         "domain": [
          0,
          1
         ],
         "title": {
          "text": "batches"
         }
        },
        "yaxis": {
         "anchor": "x",
         "domain": [
          0,
          1
         ],
         "title": {
          "text": "accuracy"
         }
        }
       }
      }
     },
     "metadata": {}
    }
   ],
   "source": [
    "#moving averages\n",
    "title = \"Moving averages over accuracy while learning with window {} on dataset {}\".format(n_window, dataset_name)\n",
    "col_names = [\"Pure\",\"FIRES\", \"OFS\", \"OFSSGD\", \"FSDS\", \"random\"]\n",
    "d = {\"Pure\":pure_moving_average, \"FIRES\":fires_moving_average, \"OFS\":ofs_moving_average, \n",
    "\"OFSSGD\":ofssgd_moving_average, \"FSDS\":fsds_moving_average, \"random\":random_moving_average}\n",
    "df = pd.DataFrame(d, columns=col_names)\n",
    "fig = px.line(df, y=col_names, title=title, labels={\"index\":\"batches\", \"value\":\"accuracy\"}, color_discrete_map={\"Pure\":\"blue\",'FIRES': 'red', \n",
    "                                                   'FSDS': 'green', 'OFS': 'purple', \"OFSSGD\":\"yellow\", \"random\":\"cyan\"})\n",
    "fig.show()\n"
   ]
  },
  {
   "cell_type": "code",
   "execution_count": 152,
   "metadata": {},
   "outputs": [
    {
     "output_type": "display_data",
     "data": {
      "application/vnd.plotly.v1+json": {
       "config": {
        "plotlyServerURL": "https://plot.ly"
       },
       "data": [
        {
         "hovertemplate": "variable=Pure<br>batches=%{x}<br>accuracy=%{y}<extra></extra>",
         "legendgroup": "Pure",
         "line": {
          "color": "blue",
          "dash": "solid"
         },
         "mode": "lines",
         "name": "Pure",
         "showlegend": true,
         "type": "scattergl",
         "x": [
          0,
          1,
          2,
          3,
          4,
          5,
          6,
          7,
          8,
          9,
          10,
          11,
          12,
          13,
          14,
          15,
          16,
          17,
          18,
          19,
          20,
          21,
          22,
          23,
          24,
          25,
          26,
          27,
          28,
          29,
          30,
          31,
          32,
          33,
          34,
          35,
          36,
          37,
          38,
          39,
          40,
          41,
          42,
          43,
          44,
          45,
          46,
          47,
          48,
          49,
          50,
          51,
          52,
          53,
          54,
          55,
          56,
          57,
          58,
          59,
          60,
          61,
          62,
          63,
          64,
          65,
          66,
          67,
          68,
          69,
          70,
          71,
          72,
          73,
          74,
          75,
          76,
          77,
          78,
          79,
          80,
          81,
          82,
          83,
          84,
          85,
          86,
          87,
          88,
          89,
          90,
          91,
          92,
          93,
          94,
          95,
          96,
          97,
          98,
          99,
          100,
          101,
          102,
          103,
          104,
          105,
          106,
          107,
          108,
          109,
          110,
          111,
          112,
          113,
          114,
          115,
          116,
          117,
          118,
          119,
          120,
          121,
          122,
          123,
          124,
          125,
          126,
          127,
          128,
          129,
          130,
          131,
          132,
          133,
          134,
          135,
          136,
          137,
          138,
          139,
          140,
          141,
          142,
          143,
          144,
          145,
          146,
          147,
          148,
          149,
          150,
          151,
          152,
          153,
          154,
          155,
          156,
          157,
          158,
          159,
          160,
          161,
          162,
          163,
          164,
          165,
          166,
          167,
          168,
          169,
          170,
          171,
          172,
          173,
          174,
          175,
          176,
          177,
          178,
          179,
          180,
          181,
          182,
          183,
          184,
          185,
          186,
          187,
          188,
          189,
          190,
          191,
          192,
          193,
          194,
          195,
          196,
          197,
          198,
          199,
          200,
          201,
          202,
          203,
          204,
          205,
          206,
          207,
          208,
          209,
          210,
          211,
          212,
          213,
          214,
          215,
          216,
          217,
          218,
          219,
          220,
          221,
          222,
          223,
          224,
          225,
          226,
          227,
          228,
          229,
          230,
          231,
          232,
          233,
          234,
          235,
          236,
          237,
          238,
          239,
          240,
          241,
          242,
          243,
          244,
          245,
          246,
          247,
          248,
          249,
          250,
          251,
          252,
          253,
          254,
          255,
          256,
          257,
          258,
          259,
          260,
          261,
          262,
          263,
          264,
          265,
          266,
          267,
          268,
          269,
          270,
          271,
          272,
          273,
          274,
          275,
          276,
          277,
          278,
          279,
          280,
          281,
          282,
          283,
          284,
          285,
          286,
          287,
          288,
          289
         ],
         "xaxis": "x",
         "y": [
          0.16440141188301752,
          0.17752983901144465,
          0.18846647325842372,
          0.21670500139695187,
          0.21290992457834562,
          0.22931856593698702,
          0.22613977630556575,
          0.23427963644542596,
          0.2432502214160109,
          0.2504664449585502,
          0.2635946500867553,
          0.27473288962499487,
          0.28119001093505736,
          0.2724063168513633,
          0.2713112452562917,
          0.26859102658607303,
          0.28358180247684894,
          0.2761575600526065,
          0.2746294659245124,
          0.27439320744614865,
          0.2663844162373574,
          0.25980057785351907,
          0.26843063603063605,
          0.2794522144522144,
          0.2797175602175602,
          0.2752837104072398,
          0.2730031354266648,
          0.26650619315325197,
          0.26740491665197547,
          0.2646055604526193,
          0.2609831828302417,
          0.2698619707090295,
          0.27969795694501576,
          0.2763967195858837,
          0.27505533874450283,
          0.2754002996659343,
          0.2726925296581643,
          0.2766693809114862,
          0.2782217840638893,
          0.2897796484217537,
          0.3137954659375712,
          0.3078116275537328,
          0.2974038464459517,
          0.29540230880230883,
          0.3016681527622704,
          0.30475013043372173,
          0.3124718087554001,
          0.32477371795730925,
          0.33622024569857384,
          0.32790271878104693,
          0.29802283200116014,
          0.2971429563212845,
          0.28200744738577554,
          0.2661024360228694,
          0.2633138964578593,
          0.26271382810515936,
          0.24760224165239642,
          0.2470749689251237,
          0.24475671174370867,
          0.24929038591267688,
          0.27132530654759757,
          0.27736412002170513,
          0.2955290550866402,
          0.31564556606104593,
          0.3189783293761622,
          0.32397463073562144,
          0.3343286414308086,
          0.33252782002998715,
          0.34153735832794657,
          0.33672509374354576,
          0.3309820812005332,
          0.3330629532696406,
          0.3346265896332769,
          0.33080970651639385,
          0.3320975853042726,
          0.32808724009392737,
          0.3196802470869343,
          0.3156550278617152,
          0.3025209763576636,
          0.31142577716401243,
          0.31716414990238523,
          0.31968243749714337,
          0.31789881936089365,
          0.3264644093264836,
          0.32425834872042303,
          0.33402220708428143,
          0.34406172312379746,
          0.3485467825088568,
          0.35466354907562336,
          0.3582920284393968,
          0.35521872396609233,
          0.36431253015989856,
          0.35701114441114445,
          0.3472694361194361,
          0.35579035964035965,
          0.35563602508602504,
          0.3590890340653498,
          0.36011976999608575,
          0.352348208224524,
          0.35438080895712476,
          0.3552311854811855,
          0.33755556110556106,
          0.34392084027084024,
          0.35746671515618883,
          0.3477468794363531,
          0.33339829077011734,
          0.33102271546822626,
          0.3269306075761184,
          0.3240122370577479,
          0.32329764054315135,
          0.32155695432878095,
          0.334899578371405,
          0.33835667682850346,
          0.32923987842223135,
          0.3274504678328208,
          0.3396687146187146,
          0.33905619380619384,
          0.33342939837939833,
          0.3423445720945721,
          0.33562975357975355,
          0.3421721445221445,
          0.33718912753912755,
          0.3447364135864136,
          0.3510507926713809,
          0.35192511834570656,
          0.35076654391360274,
          0.34490042114747993,
          0.34852596227302113,
          0.3353782100252688,
          0.3421911539440951,
          0.3263280559309971,
          0.31308765189059307,
          0.30356764705882355,
          0.29921820303879126,
          0.30442714964773787,
          0.30882750419515126,
          0.32346828563593266,
          0.3319415901092372,
          0.35810978857743564,
          0.35968649944826414,
          0.3719131894249541,
          0.3903498361116008,
          0.3977128613216848,
          0.4126492798051622,
          0.42105616181204414,
          0.410342540139599,
          0.39630074859780745,
          0.39333711223417106,
          0.38279878389584276,
          0.3800912247882836,
          0.3817514756485345,
          0.3816001547472136,
          0.3719136001253648,
          0.36601032627503216,
          0.3710201109348168,
          0.370948667998668,
          0.3694032134532135,
          0.380465318015318,
          0.37971378066378064,
          0.3777513875013875,
          0.3735742887831123,
          0.37745658426540774,
          0.3737839346927582,
          0.3643604196457137,
          0.3433927209193194,
          0.34369769372429215,
          0.3517133891399876,
          0.3369251773517758,
          0.3378913611679596,
          0.34052370660030506,
          0.3406606219725145,
          0.33265576016765275,
          0.34188728419917674,
          0.33657373304444915,
          0.3460829350388174,
          0.3635526086400699,
          0.3705481020355633,
          0.3756115829990443,
          0.3815722612097225,
          0.36560457334203467,
          0.3762222680656117,
          0.383987504789672,
          0.3787205495227167,
          0.37780815407502716,
          0.3893561890465915,
          0.37309163255045613,
          0.360627918486742,
          0.34866174022056373,
          0.3467704286081995,
          0.3584776880154589,
          0.35258935412712505,
          0.3441649321438795,
          0.36183748181642916,
          0.37191844529739265,
          0.3652372598162072,
          0.37048320276215013,
          0.36620955418850154,
          0.38315509753404486,
          0.38716814296814295,
          0.3893935397935398,
          0.38144748584748583,
          0.39162187812187815,
          0.3730177267177267,
          0.36889116439116443,
          0.3606233909880968,
          0.3524279446044152,
          0.3696432071196777,
          0.35849513297160357,
          0.34811354789001847,
          0.34511261418320244,
          0.35176958074605136,
          0.3439817019581725,
          0.3547421676362853,
          0.36051488380900143,
          0.3565386835386835,
          0.36509172232995757,
          0.36489820473644,
          0.3689047315429668,
          0.3699292292674645,
          0.3772666709107885,
          0.3759102038484391,
          0.3728334817401381,
          0.37688427147328074,
          0.3807288596336583,
          0.39711382695391984,
          0.3910022107923037,
          0.3927856482698588,
          0.39606484129905184,
          0.3950693896918355,
          0.4023263160987619,
          0.3947846342511977,
          0.4023687156668581,
          0.40054527113753113,
          0.3908835153494596,
          0.3801820710421329,
          0.38458506804512993,
          0.3844868757317673,
          0.37563710883200047,
          0.3783101939168502,
          0.3646499375065938,
          0.3713443888069275,
          0.3714712286337673,
          0.3690003008687219,
          0.3626193728722332,
          0.3624433599962204,
          0.37684519704805747,
          0.37689107631498936,
          0.38484165351556654,
          0.381285320959234,
          0.3813925470664601,
          0.380004523978437,
          0.37593797941189244,
          0.3718469260208391,
          0.39548360528360527,
          0.39774151404151403,
          0.3934971861471862,
          0.3803630647130647,
          0.37140536718183775,
          0.36896423054070115,
          0.38304661482308544,
          0.38617076289723345,
          0.37856905349552405,
          0.37603601986249047,
          0.37239774702421763,
          0.3615452994717701,
          0.3377772897037603,
          0.3381565770830477,
          0.33755919864449274,
          0.3431170852023793,
          0.32488005785064605,
          0.3349712131865383,
          0.326901371916697,
          0.3382658857654214,
          0.3290558569053925,
          0.3393286507781864,
          0.3402209584704941,
          0.3512047968543325,
          0.3557656170798586,
          0.34982274491933935,
          0.34692750453880483,
          0.33934712176368526,
          0.3523512940619752,
          0.3447544458809165,
          0.3540679634091399,
          0.3541254836666602,
          0.37789282743400393,
          0.3663814277226042,
          0.36466363440481087,
          0.3691470993059228,
          0.367170888479712
         ],
         "yaxis": "y"
        },
        {
         "hovertemplate": "variable=FIRES<br>batches=%{x}<br>accuracy=%{y}<extra></extra>",
         "legendgroup": "FIRES",
         "line": {
          "color": "red",
          "dash": "solid"
         },
         "mode": "lines",
         "name": "FIRES",
         "showlegend": true,
         "type": "scattergl",
         "x": [
          0,
          1,
          2,
          3,
          4,
          5,
          6,
          7,
          8,
          9,
          10,
          11,
          12,
          13,
          14,
          15,
          16,
          17,
          18,
          19,
          20,
          21,
          22,
          23,
          24,
          25,
          26,
          27,
          28,
          29,
          30,
          31,
          32,
          33,
          34,
          35,
          36,
          37,
          38,
          39,
          40,
          41,
          42,
          43,
          44,
          45,
          46,
          47,
          48,
          49,
          50,
          51,
          52,
          53,
          54,
          55,
          56,
          57,
          58,
          59,
          60,
          61,
          62,
          63,
          64,
          65,
          66,
          67,
          68,
          69,
          70,
          71,
          72,
          73,
          74,
          75,
          76,
          77,
          78,
          79,
          80,
          81,
          82,
          83,
          84,
          85,
          86,
          87,
          88,
          89,
          90,
          91,
          92,
          93,
          94,
          95,
          96,
          97,
          98,
          99,
          100,
          101,
          102,
          103,
          104,
          105,
          106,
          107,
          108,
          109,
          110,
          111,
          112,
          113,
          114,
          115,
          116,
          117,
          118,
          119,
          120,
          121,
          122,
          123,
          124,
          125,
          126,
          127,
          128,
          129,
          130,
          131,
          132,
          133,
          134,
          135,
          136,
          137,
          138,
          139,
          140,
          141,
          142,
          143,
          144,
          145,
          146,
          147,
          148,
          149,
          150,
          151,
          152,
          153,
          154,
          155,
          156,
          157,
          158,
          159,
          160,
          161,
          162,
          163,
          164,
          165,
          166,
          167,
          168,
          169,
          170,
          171,
          172,
          173,
          174,
          175,
          176,
          177,
          178,
          179,
          180,
          181,
          182,
          183,
          184,
          185,
          186,
          187,
          188,
          189,
          190,
          191,
          192,
          193,
          194,
          195,
          196,
          197,
          198,
          199,
          200,
          201,
          202,
          203,
          204,
          205,
          206,
          207,
          208,
          209,
          210,
          211,
          212,
          213,
          214,
          215,
          216,
          217,
          218,
          219,
          220,
          221,
          222,
          223,
          224,
          225,
          226,
          227,
          228,
          229,
          230,
          231,
          232,
          233,
          234,
          235,
          236,
          237,
          238,
          239,
          240,
          241,
          242,
          243,
          244,
          245,
          246,
          247,
          248,
          249,
          250,
          251,
          252,
          253,
          254,
          255,
          256,
          257,
          258,
          259,
          260,
          261,
          262,
          263,
          264,
          265,
          266,
          267,
          268,
          269,
          270,
          271,
          272,
          273,
          274,
          275,
          276,
          277,
          278,
          279,
          280,
          281,
          282,
          283,
          284,
          285,
          286,
          287,
          288,
          289
         ],
         "xaxis": "x",
         "y": [
          0.03307549473078941,
          0.032284980896797315,
          0.03435731058561145,
          0.032596920975221835,
          0.03727026458076883,
          0.036764324678602515,
          0.0362583847764362,
          0.025741634076156088,
          0.024475853345259077,
          0.025185887015292747,
          0.025185887015292747,
          0.026806301688338995,
          0.02421069040307254,
          0.025077858322872036,
          0.02077151808432841,
          0.021910454619491364,
          0.02241639452165768,
          0.023283562441457177,
          0.021391379153047473,
          0.020252442617884524,
          0.018866199231641137,
          0.016106848023431937,
          0.01686009477667869,
          0.015239680103632436,
          0.017684124548076878,
          0.016558250422202755,
          0.01729614216009449,
          0.023512447629650737,
          0.02983849335192288,
          0.03415715163284531,
          0.035543395019088694,
          0.03809491896683905,
          0.046199568826783034,
          0.049731037358251566,
          0.05374243336964758,
          0.06271577917278062,
          0.06217201259453128,
          0.057249809046445374,
          0.05206269985933619,
          0.051478589398843165,
          0.05075901267926645,
          0.04822055114080491,
          0.04643538180034145,
          0.04495994528716908,
          0.042205712098973634,
          0.03372524378871809,
          0.03302517872690937,
          0.034959146980877626,
          0.035712393734124374,
          0.03311678244885792,
          0.031264930597006066,
          0.03314405147612695,
          0.02543832757040304,
          0.022243359016943923,
          0.01854175174929892,
          0.019174748382295555,
          0.02676216976594335,
          0.022345200068973652,
          0.021438636362409946,
          0.02154045454422813,
          0.024078916082689663,
          0.022574154177927762,
          0.026380635659409242,
          0.029385600902706165,
          0.030105177622282885,
          0.0349166254337307,
          0.031559049676154936,
          0.037555851305897746,
          0.04034226849231494,
          0.03874879910455983,
          0.03652406305629437,
          0.035771121879823786,
          0.04530167743537934,
          0.04721746690906355,
          0.047884133575730216,
          0.04469310043732865,
          0.04096919471342293,
          0.03340194139700202,
          0.03444218476944878,
          0.03479489944022276,
          0.03889496705347496,
          0.04115267013470745,
          0.027815633097670406,
          0.022894878380689276,
          0.022141631627442527,
          0.019888220321399638,
          0.01988822032139964,
          0.023622768141829047,
          0.01931642790328542,
          0.020267434721106887,
          0.019178316942333934,
          0.019178316942333934,
          0.01981131357533057,
          0.02170349686374027,
          0.022456743616987025,
          0.02308974024998366,
          0.024475983636227043,
          0.022633619104207338,
          0.02633732280791104,
          0.025892255892255894,
          0.022875272875272877,
          0.021489029489029487,
          0.019978539978539978,
          0.025341537636619605,
          0.028261634488919846,
          0.027628637855923212,
          0.02687539110267646,
          0.02687539110267646,
          0.022064933586336592,
          0.022064933586336592,
          0.027259943981346985,
          0.032661425462828464,
          0.03406801886942187,
          0.04039763204878068,
          0.03823943995838519,
          0.0395431436620889,
          0.040157394276339506,
          0.04040978704486131,
          0.04845901524678038,
          0.05547383006159519,
          0.053826330978801996,
          0.05140437019448827,
          0.054111137111781504,
          0.045987153725323464,
          0.04553186917247794,
          0.04574326039563387,
          0.05212013028878283,
          0.052457925110448625,
          0.051394999835497446,
          0.04899729868607216,
          0.046503797193822236,
          0.05245464686702485,
          0.05159723059908226,
          0.05137415570874877,
          0.06074610692826097,
          0.06598025304572434,
          0.06060954721137102,
          0.06186172415320314,
          0.056004537023497544,
          0.0508814834559417,
          0.05446907138913405,
          0.04471715219721486,
          0.04183276111659736,
          0.042709430778172686,
          0.03232416507768959,
          0.026961167419609973,
          0.024201816211400766,
          0.026057114017043397,
          0.028349566847232076,
          0.027978013871905516,
          0.02564690562923541,
          0.02596251454861791,
          0.025590961573291354,
          0.019476556062659425,
          0.019430003581324334,
          0.017537820292914633,
          0.020972657006330702,
          0.016213000059503945,
          0.019570142916646802,
          0.021122915725233563,
          0.019689919092236934,
          0.022449270300446134,
          0.026632806062929264,
          0.029392157271138464,
          0.03198776855640492,
          0.033879951844814626,
          0.034617721700231543,
          0.03492646955614921,
          0.02874857198202522,
          0.028073292050931335,
          0.029459535437174722,
          0.028592367517375223,
          0.0259193212653816,
          0.0231599700571724,
          0.01905386926141643,
          0.01830062250816968,
          0.01463395584150301,
          0.017229567126769468,
          0.017229567126769468,
          0.019482978432812357,
          0.018729731679565605,
          0.019457448407282328,
          0.018682744849970075,
          0.030115387678839322,
          0.03237912394257558,
          0.03622993979339143,
          0.03640645673586582,
          0.036526512762011354,
          0.036154959786684794,
          0.03453454511363854,
          0.04828421573287438,
          0.04993841728971286,
          0.05426885207232155,
          0.04410479004738996,
          0.0486444725870725,
          0.044160660103260016,
          0.04461713979378226,
          0.04076253594720732,
          0.0416400288247002,
          0.04050109228953725,
          0.026118425037304778,
          0.021857385873628697,
          0.01905490140157901,
          0.018292260499807672,
          0.016672674812425372,
          0.01667267481242537,
          0.015546800686551242,
          0.018306151894760446,
          0.018470966709575265,
          0.019609903244738214,
          0.019609903244738214,
          0.018996026924979544,
          0.02435902458305917,
          0.027587632501322255,
          0.022775352360612313,
          0.023408348993608948,
          0.02615463779252932,
          0.02390122648648644,
          0.023393331749644333,
          0.023393331749644336,
          0.029461479897792485,
          0.03056823371042865,
          0.025205236052349023,
          0.02491302349601321,
          0.025715259694475818,
          0.02457632315931287,
          0.02457632315931287,
          0.02369883028181999,
          0.026295321509890168,
          0.026295321509890168,
          0.0197212334595757,
          0.020354230092572333,
          0.021221398012371835,
          0.01891799928344119,
          0.01862170298714489,
          0.018621702987144894,
          0.015490798803609132,
          0.017001288314098643,
          0.01797648492631885,
          0.018729731679565605,
          0.019235671581731915,
          0.01998891833497867,
          0.02542886435387206,
          0.02732350304851075,
          0.027956499681507384,
          0.033259659090570624,
          0.03477014860106013,
          0.03552339535430689,
          0.03589221094651079,
          0.040744695418560475,
          0.04039284356670863,
          0.039769241082236576,
          0.032813775495192044,
          0.038660954982371536,
          0.0506269001483167,
          0.049066717678456814,
          0.04762062888353081,
          0.05038797582230632,
          0.046967069254313716,
          0.044242244356732116,
          0.04549224435673211,
          0.04794055353547607,
          0.0510269105746633,
          0.04472382757071073,
          0.03965668171865922,
          0.03644200666624832,
          0.03760837518145404,
          0.03415639212408015,
          0.03325622845795904,
          0.028870865802258457,
          0.030351168832561486,
          0.03200178681361425,
          0.02881053466953192,
          0.029967410776932768,
          0.02468902613608536,
          0.02416072424929291,
          0.024440444529013193,
          0.02599224856741107,
          0.026715895291057796,
          0.026709862108554028,
          0.025717654316346227,
          0.026337567736259653,
          0.027090814489506405,
          0.024495203204239948,
          0.024495203204239945,
          0.025001143106406266,
          0.02436814647340963,
          0.023500978553610132,
          0.025754389859653014,
          0.027412106356992157
         ],
         "yaxis": "y"
        },
        {
         "hovertemplate": "variable=OFS<br>batches=%{x}<br>accuracy=%{y}<extra></extra>",
         "legendgroup": "OFS",
         "line": {
          "color": "purple",
          "dash": "solid"
         },
         "mode": "lines",
         "name": "OFS",
         "showlegend": true,
         "type": "scattergl",
         "x": [
          0,
          1,
          2,
          3,
          4,
          5,
          6,
          7,
          8,
          9,
          10,
          11,
          12,
          13,
          14,
          15,
          16,
          17,
          18,
          19,
          20,
          21,
          22,
          23,
          24,
          25,
          26,
          27,
          28,
          29,
          30,
          31,
          32,
          33,
          34,
          35,
          36,
          37,
          38,
          39,
          40,
          41,
          42,
          43,
          44,
          45,
          46,
          47,
          48,
          49,
          50,
          51,
          52,
          53,
          54,
          55,
          56,
          57,
          58,
          59,
          60,
          61,
          62,
          63,
          64,
          65,
          66,
          67,
          68,
          69,
          70,
          71,
          72,
          73,
          74,
          75,
          76,
          77,
          78,
          79,
          80,
          81,
          82,
          83,
          84,
          85,
          86,
          87,
          88,
          89,
          90,
          91,
          92,
          93,
          94,
          95,
          96,
          97,
          98,
          99,
          100,
          101,
          102,
          103,
          104,
          105,
          106,
          107,
          108,
          109,
          110,
          111,
          112,
          113,
          114,
          115,
          116,
          117,
          118,
          119,
          120,
          121,
          122,
          123,
          124,
          125,
          126,
          127,
          128,
          129,
          130,
          131,
          132,
          133,
          134,
          135,
          136,
          137,
          138,
          139,
          140,
          141,
          142,
          143,
          144,
          145,
          146,
          147,
          148,
          149,
          150,
          151,
          152,
          153,
          154,
          155,
          156,
          157,
          158,
          159,
          160,
          161,
          162,
          163,
          164,
          165,
          166,
          167,
          168,
          169,
          170,
          171,
          172,
          173,
          174,
          175,
          176,
          177,
          178,
          179,
          180,
          181,
          182,
          183,
          184,
          185,
          186,
          187,
          188,
          189,
          190,
          191,
          192,
          193,
          194,
          195,
          196,
          197,
          198,
          199,
          200,
          201,
          202,
          203,
          204,
          205,
          206,
          207,
          208,
          209,
          210,
          211,
          212,
          213,
          214,
          215,
          216,
          217,
          218,
          219,
          220,
          221,
          222,
          223,
          224,
          225,
          226,
          227,
          228,
          229,
          230,
          231,
          232,
          233,
          234,
          235,
          236,
          237,
          238,
          239,
          240,
          241,
          242,
          243,
          244,
          245,
          246,
          247,
          248,
          249,
          250,
          251,
          252,
          253,
          254,
          255,
          256,
          257,
          258,
          259,
          260,
          261,
          262,
          263,
          264,
          265,
          266,
          267,
          268,
          269,
          270,
          271,
          272,
          273,
          274,
          275,
          276,
          277,
          278,
          279,
          280,
          281,
          282,
          283,
          284,
          285,
          286,
          287,
          288,
          289
         ],
         "xaxis": "x",
         "y": [
          0.023615065389043347,
          0.018120115894093854,
          0.02096411494719888,
          0.020964114947198877,
          0.025776395087908827,
          0.02527045518574251,
          0.024764515283576188,
          0.027028251547312455,
          0.027781498300559204,
          0.025185887015292747,
          0.025185887015292747,
          0.026806301688338995,
          0.024210690403072537,
          0.025077858322872036,
          0.02077151808432841,
          0.02191045461949136,
          0.022416394521657678,
          0.023283562441457177,
          0.021391379153047476,
          0.020252442617884524,
          0.01886619923164114,
          0.016106848023431937,
          0.016860094776678693,
          0.015239680103632436,
          0.01749309140967532,
          0.01911350608272157,
          0.019746502715718206,
          0.01638633759703916,
          0.02243258251009872,
          0.02357151904526167,
          0.024957762431505055,
          0.024957762431505055,
          0.025824930351304554,
          0.025824930351304554,
          0.024957762431505055,
          0.023337347758458804,
          0.021597597312826004,
          0.022198411223295852,
          0.017291102845399243,
          0.022794133148429544,
          0.022040886395182792,
          0.022040886395182792,
          0.02409381532768353,
          0.023581755958481308,
          0.02584249521922057,
          0.027945882028489726,
          0.0320597583482484,
          0.046103445716550936,
          0.04690344571655093,
          0.04099399830122116,
          0.03917581648303935,
          0.041265801969251246,
          0.03695946173070762,
          0.036332584564746896,
          0.03268560191776425,
          0.030582215108495087,
          0.033250038135141644,
          0.0252721131643118,
          0.03088625457845321,
          0.03553682753490852,
          0.041589459113855885,
          0.04581153269245121,
          0.04704651557449291,
          0.04645060362480738,
          0.04708360025780402,
          0.04889504806925182,
          0.04520472867105229,
          0.04568730719745728,
          0.04077806088821098,
          0.0353965742897031,
          0.03299727604408907,
          0.028396215598702007,
          0.03184678783699803,
          0.03867808865000616,
          0.04112657349849101,
          0.04231079668271419,
          0.04876037930135342,
          0.042104221665885434,
          0.0457710437327075,
          0.05466733892687503,
          0.057241790324455345,
          0.05689409961350569,
          0.055230906477794085,
          0.0489955176144715,
          0.05115179001590518,
          0.05561793720205237,
          0.04718372844784362,
          0.051026092979863324,
          0.047015785826699026,
          0.03869354152948602,
          0.035037185370000945,
          0.03636718119811943,
          0.03495963402830811,
          0.04060391815705394,
          0.03684764575562026,
          0.02798143885906853,
          0.03263709344413488,
          0.03288066468177188,
          0.03309551728948163,
          0.04271045659853858,
          0.0486933744936516,
          0.05651200855996369,
          0.0540598346469202,
          0.05966143892499507,
          0.06177255003610619,
          0.06258952616342714,
          0.0718846513054563,
          0.0726097754436337,
          0.07377502092166989,
          0.06394865791269819,
          0.056644311446156594,
          0.04663831354542185,
          0.04747567264365051,
          0.03829801370128569,
          0.039853569256841234,
          0.03987770198685632,
          0.03281096784380639,
          0.038744730680795036,
          0.03758121300711824,
          0.04570440141291534,
          0.05303217919069312,
          0.05304699400550793,
          0.051940240192871766,
          0.05067424692687851,
          0.04504679594648635,
          0.04504679594648635,
          0.03937756517725558,
          0.02998439078408118,
          0.03223404152948745,
          0.03255143283383528,
          0.02473555981796226,
          0.02676632904873149,
          0.02776897875726355,
          0.03216985021695855,
          0.04233442452757748,
          0.0491628559001265,
          0.050201452391354574,
          0.05269216857172593,
          0.04843153076270102,
          0.03962671807470539,
          0.0414362418842292,
          0.042736507136218585,
          0.042334671338156375,
          0.03763750358216509,
          0.026845478291153996,
          0.021333573529249236,
          0.022015856158900286,
          0.02104065954668008,
          0.023355474361494894,
          0.02374289574514269,
          0.025488448305789592,
          0.02537120692647925,
          0.034755598007096745,
          0.03984151256615709,
          0.041315712772555434,
          0.044711317168159834,
          0.054004967961810625,
          0.05677225382352373,
          0.05652186622662451,
          0.06055090304511366,
          0.058729160008276285,
          0.06546728475442028,
          0.05958625708643608,
          0.05675375383341863,
          0.05927384952719854,
          0.05591551221233948,
          0.04777370957053684,
          0.043419679069447506,
          0.04087594901928791,
          0.0370602455341321,
          0.03644736038007047,
          0.03304782348285915,
          0.03015553736785214,
          0.027238680007058858,
          0.023546905115283963,
          0.022715987240887827,
          0.01981209113699172,
          0.02600657133147192,
          0.03530068897853074,
          0.03745928546975881,
          0.037395114346764166,
          0.03146091521256503,
          0.03135577781710505,
          0.03434612659875818,
          0.04098765150140217,
          0.045272144785895446,
          0.05511411730612884,
          0.05236106589220786,
          0.04743898797012994,
          0.059815687294197686,
          0.06114555742406781,
          0.062827375605886,
          0.06349404227255265,
          0.06039221077072117,
          0.0613782804956718,
          0.060166803084194385,
          0.04987907631820676,
          0.046173277904856855,
          0.047875843631812826,
          0.040592955223924414,
          0.042511569942539136,
          0.03950136586090648,
          0.04594021168347323,
          0.04673750244302814,
          0.04407047877600448,
          0.04324931475484045,
          0.04194162244714815,
          0.04466183253577929,
          0.038738487588044095,
          0.0381108420853986,
          0.04696442135636917,
          0.0540040372027077,
          0.05031789905544924,
          0.0535241449890862,
          0.052849288314229526,
          0.05282870845835556,
          0.06060726323691033,
          0.0574847561144032,
          0.06390761325726035,
          0.05951702139298427,
          0.05251106116963276,
          0.047620470043747504,
          0.04823289164866283,
          0.06085553579217812,
          0.06255923949588182,
          0.059229435005145034,
          0.05474660672231675,
          0.061916977092687134,
          0.06366934959823037,
          0.06804483473015832,
          0.06679721568253928,
          0.07424386512918872,
          0.08080466177489103,
          0.06558640634610928,
          0.06532473162791283,
          0.06595160879387355,
          0.06400128199648793,
          0.06351874231394825,
          0.06071713903917424,
          0.062186458225734806,
          0.06070497674425331,
          0.05522903046830705,
          0.051427443166719745,
          0.05450536524464182,
          0.06444328613382129,
          0.07665730628733725,
          0.08471470379179358,
          0.0897437488208386,
          0.09449451805160783,
          0.08949918005626985,
          0.09767326227035207,
          0.09339026907307314,
          0.10466117360713559,
          0.12082552722737154,
          0.11394052684763434,
          0.10308705091180545,
          0.09675068727544181,
          0.09145901598377053,
          0.08375020479495934,
          0.08413656843132297,
          0.08528606975693684,
          0.09406651588887797,
          0.08234063299983718,
          0.0694680542713761,
          0.06723790664122847,
          0.07140332017506307,
          0.0714945831945797,
          0.07379761349761,
          0.08238129648129298,
          0.0804863689450611,
          0.07535855260113222,
          0.07742969135846593,
          0.0744361388117219,
          0.0692235831730793,
          0.06813168683412414,
          0.06965254781009347,
          0.06846360587374899,
          0.06258437399451712,
          0.055758932769075883,
          0.057653860305307766,
          0.057557756409203874,
          0.05342725995530316,
          0.05565322356924087,
          0.062005835642676754,
          0.06817347065737059,
          0.06789241888182165,
          0.07482834650646343,
          0.0771922048703218,
          0.07917662045473738,
          0.07887190920853678
         ],
         "yaxis": "y"
        },
        {
         "hovertemplate": "variable=OFSSGD<br>batches=%{x}<br>accuracy=%{y}<extra></extra>",
         "legendgroup": "OFSSGD",
         "line": {
          "color": "yellow",
          "dash": "solid"
         },
         "mode": "lines",
         "name": "OFSSGD",
         "showlegend": true,
         "type": "scattergl",
         "x": [
          0,
          1,
          2,
          3,
          4,
          5,
          6,
          7,
          8,
          9,
          10,
          11,
          12,
          13,
          14,
          15,
          16,
          17,
          18,
          19,
          20,
          21,
          22,
          23,
          24,
          25,
          26,
          27,
          28,
          29,
          30,
          31,
          32,
          33,
          34,
          35,
          36,
          37,
          38,
          39,
          40,
          41,
          42,
          43,
          44,
          45,
          46,
          47,
          48,
          49,
          50,
          51,
          52,
          53,
          54,
          55,
          56,
          57,
          58,
          59,
          60,
          61,
          62,
          63,
          64,
          65,
          66,
          67,
          68,
          69,
          70,
          71,
          72,
          73,
          74,
          75,
          76,
          77,
          78,
          79,
          80,
          81,
          82,
          83,
          84,
          85,
          86,
          87,
          88,
          89,
          90,
          91,
          92,
          93,
          94,
          95,
          96,
          97,
          98,
          99,
          100,
          101,
          102,
          103,
          104,
          105,
          106,
          107,
          108,
          109,
          110,
          111,
          112,
          113,
          114,
          115,
          116,
          117,
          118,
          119,
          120,
          121,
          122,
          123,
          124,
          125,
          126,
          127,
          128,
          129,
          130,
          131,
          132,
          133,
          134,
          135,
          136,
          137,
          138,
          139,
          140,
          141,
          142,
          143,
          144,
          145,
          146,
          147,
          148,
          149,
          150,
          151,
          152,
          153,
          154,
          155,
          156,
          157,
          158,
          159,
          160,
          161,
          162,
          163,
          164,
          165,
          166,
          167,
          168,
          169,
          170,
          171,
          172,
          173,
          174,
          175,
          176,
          177,
          178,
          179,
          180,
          181,
          182,
          183,
          184,
          185,
          186,
          187,
          188,
          189,
          190,
          191,
          192,
          193,
          194,
          195,
          196,
          197,
          198,
          199,
          200,
          201,
          202,
          203,
          204,
          205,
          206,
          207,
          208,
          209,
          210,
          211,
          212,
          213,
          214,
          215,
          216,
          217,
          218,
          219,
          220,
          221,
          222,
          223,
          224,
          225,
          226,
          227,
          228,
          229,
          230,
          231,
          232,
          233,
          234,
          235,
          236,
          237,
          238,
          239,
          240,
          241,
          242,
          243,
          244,
          245,
          246,
          247,
          248,
          249,
          250,
          251,
          252,
          253,
          254,
          255,
          256,
          257,
          258,
          259,
          260,
          261,
          262,
          263,
          264,
          265,
          266,
          267,
          268,
          269,
          270,
          271,
          272,
          273,
          274,
          275,
          276,
          277,
          278,
          279,
          280,
          281,
          282,
          283,
          284,
          285,
          286,
          287,
          288,
          289
         ],
         "xaxis": "x",
         "y": [
          0.16440141188301752,
          0.17752983901144465,
          0.18846647325842372,
          0.21670500139695187,
          0.21290992457834562,
          0.22931856593698702,
          0.22613977630556575,
          0.23427963644542596,
          0.2432502214160109,
          0.2504664449585502,
          0.2635946500867553,
          0.27473288962499487,
          0.28119001093505736,
          0.2724063168513633,
          0.2713112452562917,
          0.26859102658607303,
          0.28358180247684894,
          0.2761575600526065,
          0.2746294659245124,
          0.27439320744614865,
          0.2663844162373574,
          0.25980057785351907,
          0.26843063603063605,
          0.2794522144522144,
          0.2797175602175602,
          0.2752837104072398,
          0.2730031354266648,
          0.26650619315325197,
          0.26740491665197547,
          0.2646055604526193,
          0.2609831828302417,
          0.2698619707090295,
          0.27969795694501576,
          0.2763967195858837,
          0.27505533874450283,
          0.2754002996659343,
          0.2726925296581643,
          0.2766693809114862,
          0.2782217840638893,
          0.2897796484217537,
          0.3137954659375712,
          0.3078116275537328,
          0.2974038464459517,
          0.29540230880230883,
          0.3016681527622704,
          0.30475013043372173,
          0.3124718087554001,
          0.32477371795730925,
          0.33622024569857384,
          0.32790271878104693,
          0.29802283200116014,
          0.2971429563212845,
          0.28200744738577554,
          0.2661024360228694,
          0.2633138964578593,
          0.26271382810515936,
          0.24760224165239642,
          0.2470749689251237,
          0.24475671174370867,
          0.24929038591267688,
          0.27132530654759757,
          0.27736412002170513,
          0.2955290550866402,
          0.31564556606104593,
          0.3189783293761622,
          0.32397463073562144,
          0.3343286414308086,
          0.33252782002998715,
          0.34153735832794657,
          0.33672509374354576,
          0.3309820812005332,
          0.3330629532696406,
          0.3346265896332769,
          0.33080970651639385,
          0.3320975853042726,
          0.32808724009392737,
          0.3196802470869343,
          0.3156550278617152,
          0.3025209763576636,
          0.31142577716401243,
          0.31716414990238523,
          0.31968243749714337,
          0.31789881936089365,
          0.3264644093264836,
          0.32425834872042303,
          0.33402220708428143,
          0.34406172312379746,
          0.3485467825088568,
          0.35466354907562336,
          0.3582920284393968,
          0.35521872396609233,
          0.36431253015989856,
          0.35701114441114445,
          0.3472694361194361,
          0.35579035964035965,
          0.35563602508602504,
          0.3590890340653498,
          0.36011976999608575,
          0.352348208224524,
          0.35438080895712476,
          0.3552311854811855,
          0.33755556110556106,
          0.34392084027084024,
          0.35746671515618883,
          0.3477468794363531,
          0.33339829077011734,
          0.33102271546822626,
          0.3269306075761184,
          0.3240122370577479,
          0.32329764054315135,
          0.32155695432878095,
          0.334899578371405,
          0.33835667682850346,
          0.32923987842223135,
          0.3274504678328208,
          0.3396687146187146,
          0.33905619380619384,
          0.33342939837939833,
          0.3423445720945721,
          0.33562975357975355,
          0.3421721445221445,
          0.33718912753912755,
          0.3447364135864136,
          0.3510507926713809,
          0.35192511834570656,
          0.35076654391360274,
          0.34490042114747993,
          0.34852596227302113,
          0.3353782100252688,
          0.3421911539440951,
          0.3263280559309971,
          0.31308765189059307,
          0.30356764705882355,
          0.29921820303879126,
          0.30442714964773787,
          0.30882750419515126,
          0.32346828563593266,
          0.3319415901092372,
          0.35810978857743564,
          0.35968649944826414,
          0.3719131894249541,
          0.3903498361116008,
          0.3977128613216848,
          0.4126492798051622,
          0.42105616181204414,
          0.410342540139599,
          0.39630074859780745,
          0.39333711223417106,
          0.38279878389584276,
          0.3800912247882836,
          0.3817514756485345,
          0.3816001547472136,
          0.3719136001253648,
          0.36601032627503216,
          0.3710201109348168,
          0.370948667998668,
          0.3694032134532135,
          0.380465318015318,
          0.37971378066378064,
          0.3777513875013875,
          0.3735742887831123,
          0.37745658426540774,
          0.3737839346927582,
          0.3643604196457137,
          0.3433927209193194,
          0.34369769372429215,
          0.3517133891399876,
          0.3369251773517758,
          0.3378913611679596,
          0.34052370660030506,
          0.3406606219725145,
          0.33265576016765275,
          0.34188728419917674,
          0.33657373304444915,
          0.3460829350388174,
          0.3635526086400699,
          0.3705481020355633,
          0.3756115829990443,
          0.3815722612097225,
          0.36560457334203467,
          0.3762222680656117,
          0.383987504789672,
          0.3787205495227167,
          0.37780815407502716,
          0.3893561890465915,
          0.37309163255045613,
          0.360627918486742,
          0.34866174022056373,
          0.3467704286081995,
          0.3584776880154589,
          0.35258935412712505,
          0.3441649321438795,
          0.36183748181642916,
          0.37191844529739265,
          0.3652372598162072,
          0.37048320276215013,
          0.36620955418850154,
          0.38315509753404486,
          0.38716814296814295,
          0.3893935397935398,
          0.38144748584748583,
          0.39162187812187815,
          0.3730177267177267,
          0.36889116439116443,
          0.3606233909880968,
          0.3524279446044152,
          0.3696432071196777,
          0.35849513297160357,
          0.34811354789001847,
          0.34511261418320244,
          0.35176958074605136,
          0.3439817019581725,
          0.3547421676362853,
          0.36051488380900143,
          0.3565386835386835,
          0.36509172232995757,
          0.36489820473644,
          0.3689047315429668,
          0.3699292292674645,
          0.3772666709107885,
          0.3759102038484391,
          0.3728334817401381,
          0.37688427147328074,
          0.3807288596336583,
          0.39711382695391984,
          0.3910022107923037,
          0.3927856482698588,
          0.39606484129905184,
          0.3950693896918355,
          0.4023263160987619,
          0.3947846342511977,
          0.4023687156668581,
          0.40054527113753113,
          0.3908835153494596,
          0.3801820710421329,
          0.38458506804512993,
          0.3844868757317673,
          0.37563710883200047,
          0.3783101939168502,
          0.3646499375065938,
          0.3713443888069275,
          0.3714712286337673,
          0.3690003008687219,
          0.3626193728722332,
          0.3624433599962204,
          0.37684519704805747,
          0.37689107631498936,
          0.38484165351556654,
          0.381285320959234,
          0.3813925470664601,
          0.380004523978437,
          0.37593797941189244,
          0.3718469260208391,
          0.39548360528360527,
          0.39774151404151403,
          0.3934971861471862,
          0.3803630647130647,
          0.37140536718183775,
          0.36896423054070115,
          0.38304661482308544,
          0.38617076289723345,
          0.37856905349552405,
          0.37603601986249047,
          0.37239774702421763,
          0.3615452994717701,
          0.3377772897037603,
          0.3381565770830477,
          0.33755919864449274,
          0.3431170852023793,
          0.32488005785064605,
          0.3349712131865383,
          0.326901371916697,
          0.3382658857654214,
          0.3290558569053925,
          0.3393286507781864,
          0.3402209584704941,
          0.3512047968543325,
          0.3557656170798586,
          0.34982274491933935,
          0.34692750453880483,
          0.33934712176368526,
          0.3523512940619752,
          0.3447544458809165,
          0.3540679634091399,
          0.3541254836666602,
          0.37789282743400393,
          0.3663814277226042,
          0.36466363440481087,
          0.3691470993059228,
          0.367170888479712
         ],
         "yaxis": "y"
        },
        {
         "hovertemplate": "variable=FSDS<br>batches=%{x}<br>accuracy=%{y}<extra></extra>",
         "legendgroup": "FSDS",
         "line": {
          "color": "green",
          "dash": "solid"
         },
         "mode": "lines",
         "name": "FSDS",
         "showlegend": true,
         "type": "scattergl",
         "x": [
          0,
          1,
          2,
          3,
          4,
          5,
          6,
          7,
          8,
          9,
          10,
          11,
          12,
          13,
          14,
          15,
          16,
          17,
          18,
          19,
          20,
          21,
          22,
          23,
          24,
          25,
          26,
          27,
          28,
          29,
          30,
          31,
          32,
          33,
          34,
          35,
          36,
          37,
          38,
          39,
          40,
          41,
          42,
          43,
          44,
          45,
          46,
          47,
          48,
          49,
          50,
          51,
          52,
          53,
          54,
          55,
          56,
          57,
          58,
          59,
          60,
          61,
          62,
          63,
          64,
          65,
          66,
          67,
          68,
          69,
          70,
          71,
          72,
          73,
          74,
          75,
          76,
          77,
          78,
          79,
          80,
          81,
          82,
          83,
          84,
          85,
          86,
          87,
          88,
          89,
          90,
          91,
          92,
          93,
          94,
          95,
          96,
          97,
          98,
          99,
          100,
          101,
          102,
          103,
          104,
          105,
          106,
          107,
          108,
          109,
          110,
          111,
          112,
          113,
          114,
          115,
          116,
          117,
          118,
          119,
          120,
          121,
          122,
          123,
          124,
          125,
          126,
          127,
          128,
          129,
          130,
          131,
          132,
          133,
          134,
          135,
          136,
          137,
          138,
          139,
          140,
          141,
          142,
          143,
          144,
          145,
          146,
          147,
          148,
          149,
          150,
          151,
          152,
          153,
          154,
          155,
          156,
          157,
          158,
          159,
          160,
          161,
          162,
          163,
          164,
          165,
          166,
          167,
          168,
          169,
          170,
          171,
          172,
          173,
          174,
          175,
          176,
          177,
          178,
          179,
          180,
          181,
          182,
          183,
          184,
          185,
          186,
          187,
          188,
          189,
          190,
          191,
          192,
          193,
          194,
          195,
          196,
          197,
          198,
          199,
          200,
          201,
          202,
          203,
          204,
          205,
          206,
          207,
          208,
          209,
          210,
          211,
          212,
          213,
          214,
          215,
          216,
          217,
          218,
          219,
          220,
          221,
          222,
          223,
          224,
          225,
          226,
          227,
          228,
          229,
          230,
          231,
          232,
          233,
          234,
          235,
          236,
          237,
          238,
          239,
          240,
          241,
          242,
          243,
          244,
          245,
          246,
          247,
          248,
          249,
          250,
          251,
          252,
          253,
          254,
          255,
          256,
          257,
          258,
          259,
          260,
          261,
          262,
          263,
          264,
          265,
          266,
          267,
          268,
          269,
          270,
          271,
          272,
          273,
          274,
          275,
          276,
          277,
          278,
          279,
          280,
          281,
          282,
          283,
          284,
          285,
          286,
          287,
          288,
          289
         ],
         "xaxis": "x",
         "y": [
          0.01892737812080688,
          0.01750270279613155,
          0.020964114947198877,
          0.020964114947198877,
          0.02577639508790882,
          0.02527045518574251,
          0.024764515283576188,
          0.027028251547312455,
          0.027781498300559204,
          0.025185887015292747,
          0.025185887015292747,
          0.026806301688338995,
          0.02421069040307254,
          0.025077858322872036,
          0.02077151808432841,
          0.021910454619491364,
          0.02241639452165768,
          0.023283562441457177,
          0.021391379153047473,
          0.020252442617884524,
          0.018866199231641137,
          0.016106848023431937,
          0.01686009477667869,
          0.015239680103632436,
          0.01749309140967532,
          0.019113506082721575,
          0.019746502715718206,
          0.01638633759703916,
          0.01638633759703916,
          0.016386337597039155,
          0.01638633759703916,
          0.01827852088544886,
          0.01914568880524836,
          0.01763519929475885,
          0.016768031374959348,
          0.015147616701913096,
          0.013407866256280298,
          0.014008680166750146,
          0.013637127191423588,
          0.014776063726586538,
          0.015409060359583171,
          0.01351687707117347,
          0.01556980600367421,
          0.01644729888116709,
          0.015694052127920338,
          0.015061055494923703,
          0.01566186940539355,
          0.021649290789041355,
          0.023913027052777612,
          0.023913027052777612,
          0.022094845234595796,
          0.0239870285230055,
          0.01968068828446187,
          0.019174748382295555,
          0.018541751749298917,
          0.019174748382295555,
          0.022909296202724964,
          0.01742781472124348,
          0.016041571335000095,
          0.016794818088246847,
          0.018612999906428666,
          0.017226756520185276,
          0.01785975315318191,
          0.017258939242712063,
          0.017891935875708698,
          0.017258939242712063,
          0.016283742630491857,
          0.01853715393653474,
          0.018537153936534743,
          0.017150910550291356,
          0.015640421039801844,
          0.015134481137635528,
          0.013623991627146018,
          0.01698415674582507,
          0.017737403499071817,
          0.019990814805114707,
          0.017737403499071817,
          0.01497805229086262,
          0.019284392529406245,
          0.018778452627239928,
          0.022884553422995897,
          0.0247767367114056,
          0.02565422958889848,
          0.02289487838068928,
          0.022141631627442527,
          0.019888220321399638,
          0.01988822032139964,
          0.023622768141829047,
          0.01931642790328542,
          0.019822367805451737,
          0.01798000327343203,
          0.01798000327343203,
          0.018612999906428666,
          0.020505183194838367,
          0.021258429948085116,
          0.02189142658108175,
          0.023277669967325137,
          0.021435305435305432,
          0.02032855162266927,
          0.020328551622669267,
          0.018064815358933006,
          0.01667857197268962,
          0.015168082462200107,
          0.02053108012027973,
          0.02345117697257998,
          0.022818180339583344,
          0.022064933586336592,
          0.022064933586336592,
          0.022064933586336592,
          0.022064933586336592,
          0.0235754230968261,
          0.023575423096826104,
          0.02445291597431898,
          0.017703674929995968,
          0.015650745997495222,
          0.015650745997495226,
          0.014140256487005712,
          0.01187652022326945,
          0.013616270668902248,
          0.01424926730189888,
          0.01586968197494513,
          0.016502678607941766,
          0.015395924795305601,
          0.016028921428302235,
          0.013269570220093032,
          0.013269570220093032,
          0.015533306483829296,
          0.017043795994318805,
          0.016410799361322174,
          0.01803121403436842,
          0.01577780272832554,
          0.01739821740137179,
          0.02075838252005084,
          0.021511629273297594,
          0.03308238399027873,
          0.03983162503460174,
          0.040698792954401236,
          0.0432944042396677,
          0.0432944042396677,
          0.0405350530314585,
          0.041921296417701884,
          0.03879039223416612,
          0.03603104102595692,
          0.03464479763971353,
          0.02247322901226255,
          0.01711023135418292,
          0.01435088014597372,
          0.013375683533753513,
          0.0156290948397964,
          0.015257541864469839,
          0.015257541864469837,
          0.0156290948397964,
          0.015257541864469837,
          0.014751601962303521,
          0.016491352407936317,
          0.014599169119526616,
          0.015738105654689565,
          0.014117690981643316,
          0.011864279675600432,
          0.01337476918608994,
          0.011988525799846555,
          0.014747877008055757,
          0.018853977803811726,
          0.02161332901202093,
          0.024208940297287387,
          0.02610112358569709,
          0.02610112358569709,
          0.02610112358569709,
          0.025595183683530774,
          0.02496218705053414,
          0.026348430436777526,
          0.025481262516978027,
          0.022885651231711567,
          0.020126300023502366,
          0.016020199227746397,
          0.015266952474499645,
          0.014633955841503014,
          0.01722956712676947,
          0.01722956712676947,
          0.019482978432812353,
          0.0187297316795656,
          0.01797648492631885,
          0.017343488293322218,
          0.019235671581731915,
          0.021499407845468183,
          0.01998891833497867,
          0.01998891833497867,
          0.0158828175392227,
          0.015511264563896144,
          0.01389084989084989,
          0.015511264563896144,
          0.017131679236942393,
          0.017764675869939028,
          0.015500939606202763,
          0.018421036458503008,
          0.019298529335995886,
          0.019931525968992517,
          0.02030307894431908,
          0.021180571821811954,
          0.020041635286649005,
          0.01778822398060612,
          0.015028872772396918,
          0.01578211952564367,
          0.01665961240313655,
          0.01665961240313655,
          0.01665961240313655,
          0.015520675867973599,
          0.018280027076182797,
          0.017774087174016483,
          0.01891302370917943,
          0.01891302370917943,
          0.018312209798709584,
          0.02367520745678921,
          0.026903815375052303,
          0.022091535234342353,
          0.02272453186733899,
          0.02548388307554819,
          0.023230471769505306,
          0.023736411671671627,
          0.023736411671671627,
          0.025989822977714506,
          0.027096576790350674,
          0.021733579132271048,
          0.02075838252005084,
          0.021897319055213794,
          0.02075838252005084,
          0.020758382520050838,
          0.019880889642557964,
          0.02213430094860085,
          0.022134300948600846,
          0.019374949740391646,
          0.02000794637338828,
          0.02087511429318778,
          0.01925469962014153,
          0.01862170298714489,
          0.018621702987144894,
          0.015490798803609132,
          0.017001288314098643,
          0.01797648492631885,
          0.018729731679565605,
          0.019235671581731915,
          0.01998891833497867,
          0.01836850366193242,
          0.017229567126769468,
          0.017862563759766102,
          0.022674843900476048,
          0.02418533341096556,
          0.024938580164212312,
          0.021204032343782903,
          0.02045078559053615,
          0.021083782223532785,
          0.01882004595979652,
          0.01882004595979652,
          0.021579397168005724,
          0.02094640053500909,
          0.01664006029646546,
          0.015129570785975951,
          0.01512957078597595,
          0.015635510688142267,
          0.015635510688142267,
          0.015635510688142267,
          0.01714600019863178,
          0.01714600019863178,
          0.014015096015096016,
          0.015401339401339401,
          0.015401339401339403,
          0.016911828911828915,
          0.01615858215858216,
          0.015652642256415845,
          0.014142152745926331,
          0.015762567418972584,
          0.016515814172219333,
          0.016515814172219333,
          0.02062191496797531,
          0.021489082887774805,
          0.020983142985608487,
          0.020983142985608487,
          0.022603557658654738,
          0.023109497560821056,
          0.023109497560821056,
          0.022242329641021553,
          0.026337567736259653,
          0.02709081448950641,
          0.024495203204239948,
          0.024495203204239945,
          0.025001143106406266,
          0.02436814647340963,
          0.02350097855361013,
          0.025754389859653014,
          0.027412106356992157
         ],
         "yaxis": "y"
        },
        {
         "hovertemplate": "variable=random<br>batches=%{x}<br>accuracy=%{y}<extra></extra>",
         "legendgroup": "random",
         "line": {
          "color": "cyan",
          "dash": "solid"
         },
         "mode": "lines",
         "name": "random",
         "showlegend": true,
         "type": "scattergl",
         "x": [
          0,
          1,
          2,
          3,
          4,
          5,
          6,
          7,
          8,
          9,
          10,
          11,
          12,
          13,
          14,
          15,
          16,
          17,
          18,
          19,
          20,
          21,
          22,
          23,
          24,
          25,
          26,
          27,
          28,
          29,
          30,
          31,
          32,
          33,
          34,
          35,
          36,
          37,
          38,
          39,
          40,
          41,
          42,
          43,
          44,
          45,
          46,
          47,
          48,
          49,
          50,
          51,
          52,
          53,
          54,
          55,
          56,
          57,
          58,
          59,
          60,
          61,
          62,
          63,
          64,
          65,
          66,
          67,
          68,
          69,
          70,
          71,
          72,
          73,
          74,
          75,
          76,
          77,
          78,
          79,
          80,
          81,
          82,
          83,
          84,
          85,
          86,
          87,
          88,
          89,
          90,
          91,
          92,
          93,
          94,
          95,
          96,
          97,
          98,
          99,
          100,
          101,
          102,
          103,
          104,
          105,
          106,
          107,
          108,
          109,
          110,
          111,
          112,
          113,
          114,
          115,
          116,
          117,
          118,
          119,
          120,
          121,
          122,
          123,
          124,
          125,
          126,
          127,
          128,
          129,
          130,
          131,
          132,
          133,
          134,
          135,
          136,
          137,
          138,
          139,
          140,
          141,
          142,
          143,
          144,
          145,
          146,
          147,
          148,
          149,
          150,
          151,
          152,
          153,
          154,
          155,
          156,
          157,
          158,
          159,
          160,
          161,
          162,
          163,
          164,
          165,
          166,
          167,
          168,
          169,
          170,
          171,
          172,
          173,
          174,
          175,
          176,
          177,
          178,
          179,
          180,
          181,
          182,
          183,
          184,
          185,
          186,
          187,
          188,
          189,
          190,
          191,
          192,
          193,
          194,
          195,
          196,
          197,
          198,
          199,
          200,
          201,
          202,
          203,
          204,
          205,
          206,
          207,
          208,
          209,
          210,
          211,
          212,
          213,
          214,
          215,
          216,
          217,
          218,
          219,
          220,
          221,
          222,
          223,
          224,
          225,
          226,
          227,
          228,
          229,
          230,
          231,
          232,
          233,
          234,
          235,
          236,
          237,
          238,
          239,
          240,
          241,
          242,
          243,
          244,
          245,
          246,
          247,
          248,
          249,
          250,
          251,
          252,
          253,
          254,
          255,
          256,
          257,
          258,
          259,
          260,
          261,
          262,
          263,
          264,
          265,
          266,
          267,
          268,
          269,
          270,
          271,
          272,
          273,
          274,
          275,
          276,
          277,
          278,
          279,
          280,
          281,
          282,
          283,
          284,
          285,
          286,
          287,
          288,
          289
         ],
         "xaxis": "x",
         "y": [
          0.03527731035848683,
          0.03423834931952579,
          0.037406428137259785,
          0.03740642813725978,
          0.04032652498956002,
          0.03982058508739371,
          0.039314645185227384,
          0.040097184867767074,
          0.033843895673301407,
          0.025185887015292747,
          0.025185887015292747,
          0.026806301688338995,
          0.02421069040307254,
          0.025077858322872036,
          0.02077151808432841,
          0.021910454619491364,
          0.02241639452165768,
          0.027444965950229105,
          0.025552782661819408,
          0.024413846126656452,
          0.023556703269513597,
          0.020797352061304394,
          0.021799093614770088,
          0.02395610151914641,
          0.032817511316040084,
          0.04109301900618192,
          0.04501039792356083,
          0.04946127232737642,
          0.06056883631351976,
          0.06385300566464723,
          0.07256190835615862,
          0.08578462385745347,
          0.09648118400228949,
          0.09525787397897947,
          0.09177491536053697,
          0.0973764639474514,
          0.09848818555917302,
          0.1000145876800024,
          0.09578538209747611,
          0.09931287655423886,
          0.09151468814844176,
          0.09204736788700385,
          0.08836935986961289,
          0.09595161095186398,
          0.09794594560272038,
          0.08689428615106093,
          0.09023555599233077,
          0.0914632860553011,
          0.10016562634625621,
          0.0962706768513067,
          0.09546385866948852,
          0.08718995595952443,
          0.09205855116750258,
          0.08819289460184601,
          0.08994135633589127,
          0.0873465581801175,
          0.08499100262456195,
          0.07560590945686009,
          0.07161717760048117,
          0.07818105816436174,
          0.08323934693441522,
          0.08831093235382671,
          0.08105840710130147,
          0.07745205789495227,
          0.08044259484338394,
          0.08763109034124214,
          0.0876046606306019,
          0.09290775949252429,
          0.0847577594925243,
          0.08193125266601747,
          0.08115579217879228,
          0.07685680227980238,
          0.07556098698398708,
          0.08131582103882114,
          0.08543621828863016,
          0.08483258523382362,
          0.08275303203848096,
          0.07803001975664514,
          0.09044617027279565,
          0.08886668309330847,
          0.09390051462125766,
          0.09130564282638585,
          0.09077849161502412,
          0.0885660596025921,
          0.08400371241865925,
          0.09160340282113603,
          0.09252647974421295,
          0.09965813240527738,
          0.08585581250295747,
          0.09102491007205504,
          0.08566784622087355,
          0.08563283295827408,
          0.08746792067757232,
          0.0880429789526306,
          0.08858536178718734,
          0.07417021027203582,
          0.07736740196922752,
          0.07190241597482977,
          0.08447425995843846,
          0.07745607814025665,
          0.07981718925136774,
          0.08671130009068494,
          0.08229917887856372,
          0.08692140110078596,
          0.0820573318367167,
          0.09288871510772845,
          0.08800776272677606,
          0.09708102981056946,
          0.09081394773172267,
          0.09286070097847592,
          0.09948999390776884,
          0.0921971966973515,
          0.09448880508895989,
          0.09218262682278162,
          0.0913398817247424,
          0.084867922813155,
          0.09449014503537723,
          0.08884893256363843,
          0.0854091279238338,
          0.08818068969539558,
          0.0819569523216582,
          0.09472751509222097,
          0.09975450444273973,
          0.09741313581137111,
          0.10940157225510168,
          0.10630088915441856,
          0.09726970334676217,
          0.09511542651248535,
          0.09801066460772342,
          0.10737916277622159,
          0.109060115157174,
          0.09750993668067973,
          0.1008236621708758,
          0.1054765000737137,
          0.0944351565541093,
          0.10452293935953919,
          0.11006570247877287,
          0.11271832763139804,
          0.12670350911657952,
          0.11735161656468696,
          0.11317979116786156,
          0.12862721275212524,
          0.12399816343886541,
          0.11986084628978355,
          0.12922922573642387,
          0.1228906847286229,
          0.1296119640684781,
          0.12312822780474184,
          0.11072941357549282,
          0.10960306436914362,
          0.11373361992469917,
          0.0956943854749384,
          0.09971593118069463,
          0.10412573510226326,
          0.09366967449620266,
          0.10149056844518009,
          0.08594921506172146,
          0.09488588172838812,
          0.09302938460232578,
          0.09216395042865631,
          0.09534810988954212,
          0.1061482894485452,
          0.10008068907506248,
          0.10206390030827373,
          0.10731390030827373,
          0.1051085806151791,
          0.1179939893241172,
          0.11840507306795958,
          0.11975572241860892,
          0.12436337881450062,
          0.11814450436100507,
          0.11358635378750923,
          0.11250502386423558,
          0.1056418377671785,
          0.09766723459257534,
          0.09609729033393542,
          0.08732892536557044,
          0.07993133368522015,
          0.0780845138384003,
          0.07022895828284476,
          0.07851577411579061,
          0.09304666763261764,
          0.09590077391281086,
          0.09775206219533855,
          0.10432926277253911,
          0.11013452417780052,
          0.11525455708606873,
          0.11605773168924334,
          0.11101705306961733,
          0.12040394878260001,
          0.11099629238670831,
          0.0977999830751049,
          0.09813156565474239,
          0.09577453795034627,
          0.10014269153589117,
          0.09494798820001135,
          0.09242575748954536,
          0.09512976751460801,
          0.09418063884007888,
          0.09809783669434767,
          0.10260384083513444,
          0.09707722764440359,
          0.09263642867728883,
          0.09427370904398094,
          0.09431927303683954,
          0.09544290300164598,
          0.09134748175622473,
          0.0942691127568031,
          0.09443060344003291,
          0.08693393284196912,
          0.08289166496491865,
          0.09162146294471661,
          0.10262688361100687,
          0.10108790494261641,
          0.09790406859409417,
          0.10161554600557159,
          0.10905494484202924,
          0.10193300752009193,
          0.11135381497350808,
          0.1075702015281299,
          0.10954897569513937,
          0.10853053037234624,
          0.10100767976757344,
          0.10317230990867417,
          0.09802701076337501,
          0.09437621711258136,
          0.08571795380725923,
          0.08502940161870705,
          0.07986035399965943,
          0.07966987780918323,
          0.07453212928319941,
          0.07251534317076112,
          0.0722402323167029,
          0.07482968142968144,
          0.08420848302024773,
          0.0846287728753202,
          0.09240532965187698,
          0.09696440215831789,
          0.0996394721863291,
          0.1035149326735543,
          0.10895937711799875,
          0.11566096441958604,
          0.11413482389344551,
          0.11026619644246512,
          0.10566307250757648,
          0.10106537835745266,
          0.10774949815921953,
          0.10545597589201305,
          0.10975364806433023,
          0.10245596535488284,
          0.09590040979932726,
          0.08778152868044616,
          0.09917559897796473,
          0.09807755976227844,
          0.09459298316240773,
          0.0930306370118263,
          0.08444201953382262,
          0.09342798444610333,
          0.09190542539595807,
          0.09838303064095462,
          0.10860183405975803,
          0.11053668254460651,
          0.10413095723543293,
          0.10854925788902772,
          0.10435279552785945,
          0.1088258793068256,
          0.1096331852858707,
          0.1042236614763469,
          0.10226467894434206,
          0.09929134720361901,
          0.1059410919668649,
          0.10135018287595583,
          0.1039938823137729,
          0.10478770287229935,
          0.10603121725265585,
          0.09841693153837013,
          0.10071412323556181,
          0.09946339063482922,
          0.10060186034632124,
          0.10648852988593197,
          0.10009074193780076,
          0.10367904398662912,
          0.09654807364977644,
          0.09993427176538633,
          0.11163765493192737,
          0.11649739519166764,
          0.1165449280509652,
          0.11519132931052437,
          0.11788655075574579,
          0.11641303013618057
         ],
         "yaxis": "y"
        }
       ],
       "layout": {
        "legend": {
         "title": {
          "text": "variable"
         },
         "tracegroupgap": 0
        },
        "template": {
         "data": {
          "bar": [
           {
            "error_x": {
             "color": "#2a3f5f"
            },
            "error_y": {
             "color": "#2a3f5f"
            },
            "marker": {
             "line": {
              "color": "#E5ECF6",
              "width": 0.5
             }
            },
            "type": "bar"
           }
          ],
          "barpolar": [
           {
            "marker": {
             "line": {
              "color": "#E5ECF6",
              "width": 0.5
             }
            },
            "type": "barpolar"
           }
          ],
          "carpet": [
           {
            "aaxis": {
             "endlinecolor": "#2a3f5f",
             "gridcolor": "white",
             "linecolor": "white",
             "minorgridcolor": "white",
             "startlinecolor": "#2a3f5f"
            },
            "baxis": {
             "endlinecolor": "#2a3f5f",
             "gridcolor": "white",
             "linecolor": "white",
             "minorgridcolor": "white",
             "startlinecolor": "#2a3f5f"
            },
            "type": "carpet"
           }
          ],
          "choropleth": [
           {
            "colorbar": {
             "outlinewidth": 0,
             "ticks": ""
            },
            "type": "choropleth"
           }
          ],
          "contour": [
           {
            "colorbar": {
             "outlinewidth": 0,
             "ticks": ""
            },
            "colorscale": [
             [
              0,
              "#0d0887"
             ],
             [
              0.1111111111111111,
              "#46039f"
             ],
             [
              0.2222222222222222,
              "#7201a8"
             ],
             [
              0.3333333333333333,
              "#9c179e"
             ],
             [
              0.4444444444444444,
              "#bd3786"
             ],
             [
              0.5555555555555556,
              "#d8576b"
             ],
             [
              0.6666666666666666,
              "#ed7953"
             ],
             [
              0.7777777777777778,
              "#fb9f3a"
             ],
             [
              0.8888888888888888,
              "#fdca26"
             ],
             [
              1,
              "#f0f921"
             ]
            ],
            "type": "contour"
           }
          ],
          "contourcarpet": [
           {
            "colorbar": {
             "outlinewidth": 0,
             "ticks": ""
            },
            "type": "contourcarpet"
           }
          ],
          "heatmap": [
           {
            "colorbar": {
             "outlinewidth": 0,
             "ticks": ""
            },
            "colorscale": [
             [
              0,
              "#0d0887"
             ],
             [
              0.1111111111111111,
              "#46039f"
             ],
             [
              0.2222222222222222,
              "#7201a8"
             ],
             [
              0.3333333333333333,
              "#9c179e"
             ],
             [
              0.4444444444444444,
              "#bd3786"
             ],
             [
              0.5555555555555556,
              "#d8576b"
             ],
             [
              0.6666666666666666,
              "#ed7953"
             ],
             [
              0.7777777777777778,
              "#fb9f3a"
             ],
             [
              0.8888888888888888,
              "#fdca26"
             ],
             [
              1,
              "#f0f921"
             ]
            ],
            "type": "heatmap"
           }
          ],
          "heatmapgl": [
           {
            "colorbar": {
             "outlinewidth": 0,
             "ticks": ""
            },
            "colorscale": [
             [
              0,
              "#0d0887"
             ],
             [
              0.1111111111111111,
              "#46039f"
             ],
             [
              0.2222222222222222,
              "#7201a8"
             ],
             [
              0.3333333333333333,
              "#9c179e"
             ],
             [
              0.4444444444444444,
              "#bd3786"
             ],
             [
              0.5555555555555556,
              "#d8576b"
             ],
             [
              0.6666666666666666,
              "#ed7953"
             ],
             [
              0.7777777777777778,
              "#fb9f3a"
             ],
             [
              0.8888888888888888,
              "#fdca26"
             ],
             [
              1,
              "#f0f921"
             ]
            ],
            "type": "heatmapgl"
           }
          ],
          "histogram": [
           {
            "marker": {
             "colorbar": {
              "outlinewidth": 0,
              "ticks": ""
             }
            },
            "type": "histogram"
           }
          ],
          "histogram2d": [
           {
            "colorbar": {
             "outlinewidth": 0,
             "ticks": ""
            },
            "colorscale": [
             [
              0,
              "#0d0887"
             ],
             [
              0.1111111111111111,
              "#46039f"
             ],
             [
              0.2222222222222222,
              "#7201a8"
             ],
             [
              0.3333333333333333,
              "#9c179e"
             ],
             [
              0.4444444444444444,
              "#bd3786"
             ],
             [
              0.5555555555555556,
              "#d8576b"
             ],
             [
              0.6666666666666666,
              "#ed7953"
             ],
             [
              0.7777777777777778,
              "#fb9f3a"
             ],
             [
              0.8888888888888888,
              "#fdca26"
             ],
             [
              1,
              "#f0f921"
             ]
            ],
            "type": "histogram2d"
           }
          ],
          "histogram2dcontour": [
           {
            "colorbar": {
             "outlinewidth": 0,
             "ticks": ""
            },
            "colorscale": [
             [
              0,
              "#0d0887"
             ],
             [
              0.1111111111111111,
              "#46039f"
             ],
             [
              0.2222222222222222,
              "#7201a8"
             ],
             [
              0.3333333333333333,
              "#9c179e"
             ],
             [
              0.4444444444444444,
              "#bd3786"
             ],
             [
              0.5555555555555556,
              "#d8576b"
             ],
             [
              0.6666666666666666,
              "#ed7953"
             ],
             [
              0.7777777777777778,
              "#fb9f3a"
             ],
             [
              0.8888888888888888,
              "#fdca26"
             ],
             [
              1,
              "#f0f921"
             ]
            ],
            "type": "histogram2dcontour"
           }
          ],
          "mesh3d": [
           {
            "colorbar": {
             "outlinewidth": 0,
             "ticks": ""
            },
            "type": "mesh3d"
           }
          ],
          "parcoords": [
           {
            "line": {
             "colorbar": {
              "outlinewidth": 0,
              "ticks": ""
             }
            },
            "type": "parcoords"
           }
          ],
          "pie": [
           {
            "automargin": true,
            "type": "pie"
           }
          ],
          "scatter": [
           {
            "marker": {
             "colorbar": {
              "outlinewidth": 0,
              "ticks": ""
             }
            },
            "type": "scatter"
           }
          ],
          "scatter3d": [
           {
            "line": {
             "colorbar": {
              "outlinewidth": 0,
              "ticks": ""
             }
            },
            "marker": {
             "colorbar": {
              "outlinewidth": 0,
              "ticks": ""
             }
            },
            "type": "scatter3d"
           }
          ],
          "scattercarpet": [
           {
            "marker": {
             "colorbar": {
              "outlinewidth": 0,
              "ticks": ""
             }
            },
            "type": "scattercarpet"
           }
          ],
          "scattergeo": [
           {
            "marker": {
             "colorbar": {
              "outlinewidth": 0,
              "ticks": ""
             }
            },
            "type": "scattergeo"
           }
          ],
          "scattergl": [
           {
            "marker": {
             "colorbar": {
              "outlinewidth": 0,
              "ticks": ""
             }
            },
            "type": "scattergl"
           }
          ],
          "scattermapbox": [
           {
            "marker": {
             "colorbar": {
              "outlinewidth": 0,
              "ticks": ""
             }
            },
            "type": "scattermapbox"
           }
          ],
          "scatterpolar": [
           {
            "marker": {
             "colorbar": {
              "outlinewidth": 0,
              "ticks": ""
             }
            },
            "type": "scatterpolar"
           }
          ],
          "scatterpolargl": [
           {
            "marker": {
             "colorbar": {
              "outlinewidth": 0,
              "ticks": ""
             }
            },
            "type": "scatterpolargl"
           }
          ],
          "scatterternary": [
           {
            "marker": {
             "colorbar": {
              "outlinewidth": 0,
              "ticks": ""
             }
            },
            "type": "scatterternary"
           }
          ],
          "surface": [
           {
            "colorbar": {
             "outlinewidth": 0,
             "ticks": ""
            },
            "colorscale": [
             [
              0,
              "#0d0887"
             ],
             [
              0.1111111111111111,
              "#46039f"
             ],
             [
              0.2222222222222222,
              "#7201a8"
             ],
             [
              0.3333333333333333,
              "#9c179e"
             ],
             [
              0.4444444444444444,
              "#bd3786"
             ],
             [
              0.5555555555555556,
              "#d8576b"
             ],
             [
              0.6666666666666666,
              "#ed7953"
             ],
             [
              0.7777777777777778,
              "#fb9f3a"
             ],
             [
              0.8888888888888888,
              "#fdca26"
             ],
             [
              1,
              "#f0f921"
             ]
            ],
            "type": "surface"
           }
          ],
          "table": [
           {
            "cells": {
             "fill": {
              "color": "#EBF0F8"
             },
             "line": {
              "color": "white"
             }
            },
            "header": {
             "fill": {
              "color": "#C8D4E3"
             },
             "line": {
              "color": "white"
             }
            },
            "type": "table"
           }
          ]
         },
         "layout": {
          "annotationdefaults": {
           "arrowcolor": "#2a3f5f",
           "arrowhead": 0,
           "arrowwidth": 1
          },
          "autotypenumbers": "strict",
          "coloraxis": {
           "colorbar": {
            "outlinewidth": 0,
            "ticks": ""
           }
          },
          "colorscale": {
           "diverging": [
            [
             0,
             "#8e0152"
            ],
            [
             0.1,
             "#c51b7d"
            ],
            [
             0.2,
             "#de77ae"
            ],
            [
             0.3,
             "#f1b6da"
            ],
            [
             0.4,
             "#fde0ef"
            ],
            [
             0.5,
             "#f7f7f7"
            ],
            [
             0.6,
             "#e6f5d0"
            ],
            [
             0.7,
             "#b8e186"
            ],
            [
             0.8,
             "#7fbc41"
            ],
            [
             0.9,
             "#4d9221"
            ],
            [
             1,
             "#276419"
            ]
           ],
           "sequential": [
            [
             0,
             "#0d0887"
            ],
            [
             0.1111111111111111,
             "#46039f"
            ],
            [
             0.2222222222222222,
             "#7201a8"
            ],
            [
             0.3333333333333333,
             "#9c179e"
            ],
            [
             0.4444444444444444,
             "#bd3786"
            ],
            [
             0.5555555555555556,
             "#d8576b"
            ],
            [
             0.6666666666666666,
             "#ed7953"
            ],
            [
             0.7777777777777778,
             "#fb9f3a"
            ],
            [
             0.8888888888888888,
             "#fdca26"
            ],
            [
             1,
             "#f0f921"
            ]
           ],
           "sequentialminus": [
            [
             0,
             "#0d0887"
            ],
            [
             0.1111111111111111,
             "#46039f"
            ],
            [
             0.2222222222222222,
             "#7201a8"
            ],
            [
             0.3333333333333333,
             "#9c179e"
            ],
            [
             0.4444444444444444,
             "#bd3786"
            ],
            [
             0.5555555555555556,
             "#d8576b"
            ],
            [
             0.6666666666666666,
             "#ed7953"
            ],
            [
             0.7777777777777778,
             "#fb9f3a"
            ],
            [
             0.8888888888888888,
             "#fdca26"
            ],
            [
             1,
             "#f0f921"
            ]
           ]
          },
          "colorway": [
           "#636efa",
           "#EF553B",
           "#00cc96",
           "#ab63fa",
           "#FFA15A",
           "#19d3f3",
           "#FF6692",
           "#B6E880",
           "#FF97FF",
           "#FECB52"
          ],
          "font": {
           "color": "#2a3f5f"
          },
          "geo": {
           "bgcolor": "white",
           "lakecolor": "white",
           "landcolor": "#E5ECF6",
           "showlakes": true,
           "showland": true,
           "subunitcolor": "white"
          },
          "hoverlabel": {
           "align": "left"
          },
          "hovermode": "closest",
          "mapbox": {
           "style": "light"
          },
          "paper_bgcolor": "white",
          "plot_bgcolor": "#E5ECF6",
          "polar": {
           "angularaxis": {
            "gridcolor": "white",
            "linecolor": "white",
            "ticks": ""
           },
           "bgcolor": "#E5ECF6",
           "radialaxis": {
            "gridcolor": "white",
            "linecolor": "white",
            "ticks": ""
           }
          },
          "scene": {
           "xaxis": {
            "backgroundcolor": "#E5ECF6",
            "gridcolor": "white",
            "gridwidth": 2,
            "linecolor": "white",
            "showbackground": true,
            "ticks": "",
            "zerolinecolor": "white"
           },
           "yaxis": {
            "backgroundcolor": "#E5ECF6",
            "gridcolor": "white",
            "gridwidth": 2,
            "linecolor": "white",
            "showbackground": true,
            "ticks": "",
            "zerolinecolor": "white"
           },
           "zaxis": {
            "backgroundcolor": "#E5ECF6",
            "gridcolor": "white",
            "gridwidth": 2,
            "linecolor": "white",
            "showbackground": true,
            "ticks": "",
            "zerolinecolor": "white"
           }
          },
          "shapedefaults": {
           "line": {
            "color": "#2a3f5f"
           }
          },
          "ternary": {
           "aaxis": {
            "gridcolor": "white",
            "linecolor": "white",
            "ticks": ""
           },
           "baxis": {
            "gridcolor": "white",
            "linecolor": "white",
            "ticks": ""
           },
           "bgcolor": "#E5ECF6",
           "caxis": {
            "gridcolor": "white",
            "linecolor": "white",
            "ticks": ""
           }
          },
          "title": {
           "x": 0.05
          },
          "xaxis": {
           "automargin": true,
           "gridcolor": "white",
           "linecolor": "white",
           "ticks": "",
           "title": {
            "standoff": 15
           },
           "zerolinecolor": "white",
           "zerolinewidth": 2
          },
          "yaxis": {
           "automargin": true,
           "gridcolor": "white",
           "linecolor": "white",
           "ticks": "",
           "title": {
            "standoff": 15
           },
           "zerolinecolor": "white",
           "zerolinewidth": 2
          }
         }
        },
        "title": {
         "text": "Moving averages over f1 while learning with window 10 on dataset syn_ds_1"
        },
        "xaxis": {
         "anchor": "y",
         "domain": [
          0,
          1
         ],
         "title": {
          "text": "batches"
         }
        },
        "yaxis": {
         "anchor": "x",
         "domain": [
          0,
          1
         ],
         "title": {
          "text": "accuracy"
         }
        }
       }
      }
     },
     "metadata": {}
    }
   ],
   "source": [
    "#moving averages\n",
    "title = \"Moving averages over f1 while learning with window {} on dataset {}\".format(n_window, dataset_name)\n",
    "col_names = [\"Pure\",\"FIRES\", \"OFS\", \"OFSSGD\", \"FSDS\", \"random\"]\n",
    "d = {\"Pure\":pure_f1, \"FIRES\":fires_f1, \"OFS\":ofs_f1, \n",
    "\"OFSSGD\":ofssgd_f1, \"FSDS\":fsds_f1, \"random\":random_f1}\n",
    "df = pd.DataFrame(d, columns=col_names)\n",
    "fig = px.line(df, y=col_names, title=title, labels={\"index\":\"batches\", \"value\":\"accuracy\"}, color_discrete_map={\"Pure\":\"blue\",'FIRES': 'red', \n",
    "                                                   'FSDS': 'green', 'OFS': 'purple', \"OFSSGD\":\"yellow\", \"random\":\"cyan\"})\n",
    "fig.show()"
   ]
  },
  {
   "cell_type": "code",
   "execution_count": 153,
   "metadata": {},
   "outputs": [],
   "source": [
    "if dataset_name == \"mnist\" or dataset_name == \"mnist_norm\":\n",
    "    trace1 = mnist_fig_fires['data'][0]\n",
    "    trace2 = mnist_fig_fsds['data'][0]\n",
    "    trace3 = mnist_fig_ofs['data'][0]\n",
    "    trace4 = mnist_fig_ofssgd['data'][0]\n",
    "    fig = make_subplots(rows=1, cols=4, subplot_titles=(\"FIRES\", \"FSDS\", \"OFS\", \"OFSSGD\"))\n",
    "    fig.add_trace(trace1, row=1,col=1)\n",
    "    fig.add_trace(trace2, row=1,col=2)\n",
    "    fig.add_trace(trace3, row=1,col=3)\n",
    "    fig.add_trace(trace4, row=1,col=4)\n",
    "    fig.update_xaxes(\n",
    "        visible=False \n",
    "    )\n",
    "    fig.update_yaxes(\n",
    "        visible=False\n",
    "    )\n",
    "    fig.show()\n"
   ]
  },
  {
   "cell_type": "code",
   "execution_count": 154,
   "metadata": {},
   "outputs": [
    {
     "output_type": "display_data",
     "data": {
      "application/vnd.plotly.v1+json": {
       "config": {
        "plotlyServerURL": "https://plot.ly"
       },
       "data": [
        {
         "alignmentgroup": "True",
         "hovertemplate": "color=Pure<br>=%{x}<br>accuracy=%{y}<extra></extra>",
         "legendgroup": "Pure",
         "marker": {
          "color": "blue"
         },
         "name": "Pure",
         "offsetgroup": "Pure",
         "orientation": "v",
         "showlegend": true,
         "textposition": "auto",
         "type": "bar",
         "x": [
          "Pure"
         ],
         "xaxis": "x",
         "y": [
          0.373
         ],
         "yaxis": "y"
        },
        {
         "alignmentgroup": "True",
         "hovertemplate": "color=FIRES<br>=%{x}<br>accuracy=%{y}<extra></extra>",
         "legendgroup": "FIRES",
         "marker": {
          "color": "red"
         },
         "name": "FIRES",
         "offsetgroup": "FIRES",
         "orientation": "v",
         "showlegend": true,
         "textposition": "auto",
         "type": "bar",
         "x": [
          "FIRES"
         ],
         "xaxis": "x",
         "y": [
          0.0972
         ],
         "yaxis": "y"
        },
        {
         "alignmentgroup": "True",
         "hovertemplate": "color=FSDS<br>=%{x}<br>accuracy=%{y}<extra></extra>",
         "legendgroup": "FSDS",
         "marker": {
          "color": "green"
         },
         "name": "FSDS",
         "offsetgroup": "FSDS",
         "orientation": "v",
         "showlegend": true,
         "textposition": "auto",
         "type": "bar",
         "x": [
          "FSDS"
         ],
         "xaxis": "x",
         "y": [
          0.0972
         ],
         "yaxis": "y"
        },
        {
         "alignmentgroup": "True",
         "hovertemplate": "color=OFS<br>=%{x}<br>accuracy=%{y}<extra></extra>",
         "legendgroup": "OFS",
         "marker": {
          "color": "purple"
         },
         "name": "OFS",
         "offsetgroup": "OFS",
         "orientation": "v",
         "showlegend": true,
         "textposition": "auto",
         "type": "bar",
         "x": [
          "OFS"
         ],
         "xaxis": "x",
         "y": [
          0.0972
         ],
         "yaxis": "y"
        },
        {
         "alignmentgroup": "True",
         "hovertemplate": "color=OFSSGD<br>=%{x}<br>accuracy=%{y}<extra></extra>",
         "legendgroup": "OFSSGD",
         "marker": {
          "color": "yellow"
         },
         "name": "OFSSGD",
         "offsetgroup": "OFSSGD",
         "orientation": "v",
         "showlegend": true,
         "textposition": "auto",
         "type": "bar",
         "x": [
          "OFSSGD"
         ],
         "xaxis": "x",
         "y": [
          0.373
         ],
         "yaxis": "y"
        }
       ],
       "layout": {
        "barmode": "relative",
        "legend": {
         "title": {
          "text": "color"
         },
         "tracegroupgap": 0
        },
        "template": {
         "data": {
          "bar": [
           {
            "error_x": {
             "color": "#2a3f5f"
            },
            "error_y": {
             "color": "#2a3f5f"
            },
            "marker": {
             "line": {
              "color": "#E5ECF6",
              "width": 0.5
             }
            },
            "type": "bar"
           }
          ],
          "barpolar": [
           {
            "marker": {
             "line": {
              "color": "#E5ECF6",
              "width": 0.5
             }
            },
            "type": "barpolar"
           }
          ],
          "carpet": [
           {
            "aaxis": {
             "endlinecolor": "#2a3f5f",
             "gridcolor": "white",
             "linecolor": "white",
             "minorgridcolor": "white",
             "startlinecolor": "#2a3f5f"
            },
            "baxis": {
             "endlinecolor": "#2a3f5f",
             "gridcolor": "white",
             "linecolor": "white",
             "minorgridcolor": "white",
             "startlinecolor": "#2a3f5f"
            },
            "type": "carpet"
           }
          ],
          "choropleth": [
           {
            "colorbar": {
             "outlinewidth": 0,
             "ticks": ""
            },
            "type": "choropleth"
           }
          ],
          "contour": [
           {
            "colorbar": {
             "outlinewidth": 0,
             "ticks": ""
            },
            "colorscale": [
             [
              0,
              "#0d0887"
             ],
             [
              0.1111111111111111,
              "#46039f"
             ],
             [
              0.2222222222222222,
              "#7201a8"
             ],
             [
              0.3333333333333333,
              "#9c179e"
             ],
             [
              0.4444444444444444,
              "#bd3786"
             ],
             [
              0.5555555555555556,
              "#d8576b"
             ],
             [
              0.6666666666666666,
              "#ed7953"
             ],
             [
              0.7777777777777778,
              "#fb9f3a"
             ],
             [
              0.8888888888888888,
              "#fdca26"
             ],
             [
              1,
              "#f0f921"
             ]
            ],
            "type": "contour"
           }
          ],
          "contourcarpet": [
           {
            "colorbar": {
             "outlinewidth": 0,
             "ticks": ""
            },
            "type": "contourcarpet"
           }
          ],
          "heatmap": [
           {
            "colorbar": {
             "outlinewidth": 0,
             "ticks": ""
            },
            "colorscale": [
             [
              0,
              "#0d0887"
             ],
             [
              0.1111111111111111,
              "#46039f"
             ],
             [
              0.2222222222222222,
              "#7201a8"
             ],
             [
              0.3333333333333333,
              "#9c179e"
             ],
             [
              0.4444444444444444,
              "#bd3786"
             ],
             [
              0.5555555555555556,
              "#d8576b"
             ],
             [
              0.6666666666666666,
              "#ed7953"
             ],
             [
              0.7777777777777778,
              "#fb9f3a"
             ],
             [
              0.8888888888888888,
              "#fdca26"
             ],
             [
              1,
              "#f0f921"
             ]
            ],
            "type": "heatmap"
           }
          ],
          "heatmapgl": [
           {
            "colorbar": {
             "outlinewidth": 0,
             "ticks": ""
            },
            "colorscale": [
             [
              0,
              "#0d0887"
             ],
             [
              0.1111111111111111,
              "#46039f"
             ],
             [
              0.2222222222222222,
              "#7201a8"
             ],
             [
              0.3333333333333333,
              "#9c179e"
             ],
             [
              0.4444444444444444,
              "#bd3786"
             ],
             [
              0.5555555555555556,
              "#d8576b"
             ],
             [
              0.6666666666666666,
              "#ed7953"
             ],
             [
              0.7777777777777778,
              "#fb9f3a"
             ],
             [
              0.8888888888888888,
              "#fdca26"
             ],
             [
              1,
              "#f0f921"
             ]
            ],
            "type": "heatmapgl"
           }
          ],
          "histogram": [
           {
            "marker": {
             "colorbar": {
              "outlinewidth": 0,
              "ticks": ""
             }
            },
            "type": "histogram"
           }
          ],
          "histogram2d": [
           {
            "colorbar": {
             "outlinewidth": 0,
             "ticks": ""
            },
            "colorscale": [
             [
              0,
              "#0d0887"
             ],
             [
              0.1111111111111111,
              "#46039f"
             ],
             [
              0.2222222222222222,
              "#7201a8"
             ],
             [
              0.3333333333333333,
              "#9c179e"
             ],
             [
              0.4444444444444444,
              "#bd3786"
             ],
             [
              0.5555555555555556,
              "#d8576b"
             ],
             [
              0.6666666666666666,
              "#ed7953"
             ],
             [
              0.7777777777777778,
              "#fb9f3a"
             ],
             [
              0.8888888888888888,
              "#fdca26"
             ],
             [
              1,
              "#f0f921"
             ]
            ],
            "type": "histogram2d"
           }
          ],
          "histogram2dcontour": [
           {
            "colorbar": {
             "outlinewidth": 0,
             "ticks": ""
            },
            "colorscale": [
             [
              0,
              "#0d0887"
             ],
             [
              0.1111111111111111,
              "#46039f"
             ],
             [
              0.2222222222222222,
              "#7201a8"
             ],
             [
              0.3333333333333333,
              "#9c179e"
             ],
             [
              0.4444444444444444,
              "#bd3786"
             ],
             [
              0.5555555555555556,
              "#d8576b"
             ],
             [
              0.6666666666666666,
              "#ed7953"
             ],
             [
              0.7777777777777778,
              "#fb9f3a"
             ],
             [
              0.8888888888888888,
              "#fdca26"
             ],
             [
              1,
              "#f0f921"
             ]
            ],
            "type": "histogram2dcontour"
           }
          ],
          "mesh3d": [
           {
            "colorbar": {
             "outlinewidth": 0,
             "ticks": ""
            },
            "type": "mesh3d"
           }
          ],
          "parcoords": [
           {
            "line": {
             "colorbar": {
              "outlinewidth": 0,
              "ticks": ""
             }
            },
            "type": "parcoords"
           }
          ],
          "pie": [
           {
            "automargin": true,
            "type": "pie"
           }
          ],
          "scatter": [
           {
            "marker": {
             "colorbar": {
              "outlinewidth": 0,
              "ticks": ""
             }
            },
            "type": "scatter"
           }
          ],
          "scatter3d": [
           {
            "line": {
             "colorbar": {
              "outlinewidth": 0,
              "ticks": ""
             }
            },
            "marker": {
             "colorbar": {
              "outlinewidth": 0,
              "ticks": ""
             }
            },
            "type": "scatter3d"
           }
          ],
          "scattercarpet": [
           {
            "marker": {
             "colorbar": {
              "outlinewidth": 0,
              "ticks": ""
             }
            },
            "type": "scattercarpet"
           }
          ],
          "scattergeo": [
           {
            "marker": {
             "colorbar": {
              "outlinewidth": 0,
              "ticks": ""
             }
            },
            "type": "scattergeo"
           }
          ],
          "scattergl": [
           {
            "marker": {
             "colorbar": {
              "outlinewidth": 0,
              "ticks": ""
             }
            },
            "type": "scattergl"
           }
          ],
          "scattermapbox": [
           {
            "marker": {
             "colorbar": {
              "outlinewidth": 0,
              "ticks": ""
             }
            },
            "type": "scattermapbox"
           }
          ],
          "scatterpolar": [
           {
            "marker": {
             "colorbar": {
              "outlinewidth": 0,
              "ticks": ""
             }
            },
            "type": "scatterpolar"
           }
          ],
          "scatterpolargl": [
           {
            "marker": {
             "colorbar": {
              "outlinewidth": 0,
              "ticks": ""
             }
            },
            "type": "scatterpolargl"
           }
          ],
          "scatterternary": [
           {
            "marker": {
             "colorbar": {
              "outlinewidth": 0,
              "ticks": ""
             }
            },
            "type": "scatterternary"
           }
          ],
          "surface": [
           {
            "colorbar": {
             "outlinewidth": 0,
             "ticks": ""
            },
            "colorscale": [
             [
              0,
              "#0d0887"
             ],
             [
              0.1111111111111111,
              "#46039f"
             ],
             [
              0.2222222222222222,
              "#7201a8"
             ],
             [
              0.3333333333333333,
              "#9c179e"
             ],
             [
              0.4444444444444444,
              "#bd3786"
             ],
             [
              0.5555555555555556,
              "#d8576b"
             ],
             [
              0.6666666666666666,
              "#ed7953"
             ],
             [
              0.7777777777777778,
              "#fb9f3a"
             ],
             [
              0.8888888888888888,
              "#fdca26"
             ],
             [
              1,
              "#f0f921"
             ]
            ],
            "type": "surface"
           }
          ],
          "table": [
           {
            "cells": {
             "fill": {
              "color": "#EBF0F8"
             },
             "line": {
              "color": "white"
             }
            },
            "header": {
             "fill": {
              "color": "#C8D4E3"
             },
             "line": {
              "color": "white"
             }
            },
            "type": "table"
           }
          ]
         },
         "layout": {
          "annotationdefaults": {
           "arrowcolor": "#2a3f5f",
           "arrowhead": 0,
           "arrowwidth": 1
          },
          "autotypenumbers": "strict",
          "coloraxis": {
           "colorbar": {
            "outlinewidth": 0,
            "ticks": ""
           }
          },
          "colorscale": {
           "diverging": [
            [
             0,
             "#8e0152"
            ],
            [
             0.1,
             "#c51b7d"
            ],
            [
             0.2,
             "#de77ae"
            ],
            [
             0.3,
             "#f1b6da"
            ],
            [
             0.4,
             "#fde0ef"
            ],
            [
             0.5,
             "#f7f7f7"
            ],
            [
             0.6,
             "#e6f5d0"
            ],
            [
             0.7,
             "#b8e186"
            ],
            [
             0.8,
             "#7fbc41"
            ],
            [
             0.9,
             "#4d9221"
            ],
            [
             1,
             "#276419"
            ]
           ],
           "sequential": [
            [
             0,
             "#0d0887"
            ],
            [
             0.1111111111111111,
             "#46039f"
            ],
            [
             0.2222222222222222,
             "#7201a8"
            ],
            [
             0.3333333333333333,
             "#9c179e"
            ],
            [
             0.4444444444444444,
             "#bd3786"
            ],
            [
             0.5555555555555556,
             "#d8576b"
            ],
            [
             0.6666666666666666,
             "#ed7953"
            ],
            [
             0.7777777777777778,
             "#fb9f3a"
            ],
            [
             0.8888888888888888,
             "#fdca26"
            ],
            [
             1,
             "#f0f921"
            ]
           ],
           "sequentialminus": [
            [
             0,
             "#0d0887"
            ],
            [
             0.1111111111111111,
             "#46039f"
            ],
            [
             0.2222222222222222,
             "#7201a8"
            ],
            [
             0.3333333333333333,
             "#9c179e"
            ],
            [
             0.4444444444444444,
             "#bd3786"
            ],
            [
             0.5555555555555556,
             "#d8576b"
            ],
            [
             0.6666666666666666,
             "#ed7953"
            ],
            [
             0.7777777777777778,
             "#fb9f3a"
            ],
            [
             0.8888888888888888,
             "#fdca26"
            ],
            [
             1,
             "#f0f921"
            ]
           ]
          },
          "colorway": [
           "#636efa",
           "#EF553B",
           "#00cc96",
           "#ab63fa",
           "#FFA15A",
           "#19d3f3",
           "#FF6692",
           "#B6E880",
           "#FF97FF",
           "#FECB52"
          ],
          "font": {
           "color": "#2a3f5f"
          },
          "geo": {
           "bgcolor": "white",
           "lakecolor": "white",
           "landcolor": "#E5ECF6",
           "showlakes": true,
           "showland": true,
           "subunitcolor": "white"
          },
          "hoverlabel": {
           "align": "left"
          },
          "hovermode": "closest",
          "mapbox": {
           "style": "light"
          },
          "paper_bgcolor": "white",
          "plot_bgcolor": "#E5ECF6",
          "polar": {
           "angularaxis": {
            "gridcolor": "white",
            "linecolor": "white",
            "ticks": ""
           },
           "bgcolor": "#E5ECF6",
           "radialaxis": {
            "gridcolor": "white",
            "linecolor": "white",
            "ticks": ""
           }
          },
          "scene": {
           "xaxis": {
            "backgroundcolor": "#E5ECF6",
            "gridcolor": "white",
            "gridwidth": 2,
            "linecolor": "white",
            "showbackground": true,
            "ticks": "",
            "zerolinecolor": "white"
           },
           "yaxis": {
            "backgroundcolor": "#E5ECF6",
            "gridcolor": "white",
            "gridwidth": 2,
            "linecolor": "white",
            "showbackground": true,
            "ticks": "",
            "zerolinecolor": "white"
           },
           "zaxis": {
            "backgroundcolor": "#E5ECF6",
            "gridcolor": "white",
            "gridwidth": 2,
            "linecolor": "white",
            "showbackground": true,
            "ticks": "",
            "zerolinecolor": "white"
           }
          },
          "shapedefaults": {
           "line": {
            "color": "#2a3f5f"
           }
          },
          "ternary": {
           "aaxis": {
            "gridcolor": "white",
            "linecolor": "white",
            "ticks": ""
           },
           "baxis": {
            "gridcolor": "white",
            "linecolor": "white",
            "ticks": ""
           },
           "bgcolor": "#E5ECF6",
           "caxis": {
            "gridcolor": "white",
            "linecolor": "white",
            "ticks": ""
           }
          },
          "title": {
           "x": 0.05
          },
          "xaxis": {
           "automargin": true,
           "gridcolor": "white",
           "linecolor": "white",
           "ticks": "",
           "title": {
            "standoff": 15
           },
           "zerolinecolor": "white",
           "zerolinewidth": 2
          },
          "yaxis": {
           "automargin": true,
           "gridcolor": "white",
           "linecolor": "white",
           "ticks": "",
           "title": {
            "standoff": 15
           },
           "zerolinecolor": "white",
           "zerolinewidth": 2
          }
         }
        },
        "title": {
         "text": "Accuracy on test data"
        },
        "xaxis": {
         "anchor": "y",
         "domain": [
          0,
          1
         ],
         "title": {
          "text": ""
         }
        },
        "yaxis": {
         "anchor": "x",
         "domain": [
          0,
          1
         ],
         "title": {
          "text": "accuracy"
         }
        }
       }
      }
     },
     "metadata": {}
    }
   ],
   "source": [
    "# accuracy on test data\n",
    "col_names = [\"Pure\",\"FIRES\",\"FSDS\", \"OFS\", \"OFSSGD\"]\n",
    "values = [accuracy_no_ofs, accuracy_fires, accuracy_fsds, accuracy_ofs, accuracy_ofssgd]\n",
    "fig = px.bar(x=col_names, y=values, title=\"Accuracy on test data\", labels={\"y\":\"accuracy\", \"x\":\"\"}, color=col_names, color_discrete_map={\"Pure\":\"blue\",'FIRES': 'red',\n",
    "                                                   'FSDS': 'green', 'OFS': 'purple', \"OFSSGD\":\"yellow\"})\n",
    "fig.show()"
   ]
  },
  {
   "cell_type": "code",
   "execution_count": 155,
   "metadata": {},
   "outputs": [
    {
     "output_type": "display_data",
     "data": {
      "application/vnd.plotly.v1+json": {
       "config": {
        "plotlyServerURL": "https://plot.ly"
       },
       "data": [
        {
         "alignmentgroup": "True",
         "hovertemplate": "color=FIRES<br>=%{x}<br>s=%{y}<extra></extra>",
         "legendgroup": "FIRES",
         "marker": {
          "color": "red"
         },
         "name": "FIRES",
         "offsetgroup": "FIRES",
         "orientation": "v",
         "showlegend": true,
         "textposition": "auto",
         "type": "bar",
         "x": [
          "FIRES"
         ],
         "xaxis": "x",
         "y": [
          92.26784272100122
         ],
         "yaxis": "y"
        },
        {
         "alignmentgroup": "True",
         "hovertemplate": "color=FSDS<br>=%{x}<br>s=%{y}<extra></extra>",
         "legendgroup": "FSDS",
         "marker": {
          "color": "green"
         },
         "name": "FSDS",
         "offsetgroup": "FSDS",
         "orientation": "v",
         "showlegend": true,
         "textposition": "auto",
         "type": "bar",
         "x": [
          "FSDS"
         ],
         "xaxis": "x",
         "y": [
          87.9497992889992
         ],
         "yaxis": "y"
        },
        {
         "alignmentgroup": "True",
         "hovertemplate": "color=OFS<br>=%{x}<br>s=%{y}<extra></extra>",
         "legendgroup": "OFS",
         "marker": {
          "color": "purple"
         },
         "name": "OFS",
         "offsetgroup": "OFS",
         "orientation": "v",
         "showlegend": true,
         "textposition": "auto",
         "type": "bar",
         "x": [
          "OFS"
         ],
         "xaxis": "x",
         "y": [
          94.56627853499958
         ],
         "yaxis": "y"
        },
        {
         "alignmentgroup": "True",
         "hovertemplate": "color=OFSSGD<br>=%{x}<br>s=%{y}<extra></extra>",
         "legendgroup": "OFSSGD",
         "marker": {
          "color": "yellow"
         },
         "name": "OFSSGD",
         "offsetgroup": "OFSSGD",
         "orientation": "v",
         "showlegend": true,
         "textposition": "auto",
         "type": "bar",
         "x": [
          "OFSSGD"
         ],
         "xaxis": "x",
         "y": [
          117.58011511599943
         ],
         "yaxis": "y"
        }
       ],
       "layout": {
        "barmode": "relative",
        "legend": {
         "title": {
          "text": "color"
         },
         "tracegroupgap": 0
        },
        "template": {
         "data": {
          "bar": [
           {
            "error_x": {
             "color": "#2a3f5f"
            },
            "error_y": {
             "color": "#2a3f5f"
            },
            "marker": {
             "line": {
              "color": "#E5ECF6",
              "width": 0.5
             }
            },
            "type": "bar"
           }
          ],
          "barpolar": [
           {
            "marker": {
             "line": {
              "color": "#E5ECF6",
              "width": 0.5
             }
            },
            "type": "barpolar"
           }
          ],
          "carpet": [
           {
            "aaxis": {
             "endlinecolor": "#2a3f5f",
             "gridcolor": "white",
             "linecolor": "white",
             "minorgridcolor": "white",
             "startlinecolor": "#2a3f5f"
            },
            "baxis": {
             "endlinecolor": "#2a3f5f",
             "gridcolor": "white",
             "linecolor": "white",
             "minorgridcolor": "white",
             "startlinecolor": "#2a3f5f"
            },
            "type": "carpet"
           }
          ],
          "choropleth": [
           {
            "colorbar": {
             "outlinewidth": 0,
             "ticks": ""
            },
            "type": "choropleth"
           }
          ],
          "contour": [
           {
            "colorbar": {
             "outlinewidth": 0,
             "ticks": ""
            },
            "colorscale": [
             [
              0,
              "#0d0887"
             ],
             [
              0.1111111111111111,
              "#46039f"
             ],
             [
              0.2222222222222222,
              "#7201a8"
             ],
             [
              0.3333333333333333,
              "#9c179e"
             ],
             [
              0.4444444444444444,
              "#bd3786"
             ],
             [
              0.5555555555555556,
              "#d8576b"
             ],
             [
              0.6666666666666666,
              "#ed7953"
             ],
             [
              0.7777777777777778,
              "#fb9f3a"
             ],
             [
              0.8888888888888888,
              "#fdca26"
             ],
             [
              1,
              "#f0f921"
             ]
            ],
            "type": "contour"
           }
          ],
          "contourcarpet": [
           {
            "colorbar": {
             "outlinewidth": 0,
             "ticks": ""
            },
            "type": "contourcarpet"
           }
          ],
          "heatmap": [
           {
            "colorbar": {
             "outlinewidth": 0,
             "ticks": ""
            },
            "colorscale": [
             [
              0,
              "#0d0887"
             ],
             [
              0.1111111111111111,
              "#46039f"
             ],
             [
              0.2222222222222222,
              "#7201a8"
             ],
             [
              0.3333333333333333,
              "#9c179e"
             ],
             [
              0.4444444444444444,
              "#bd3786"
             ],
             [
              0.5555555555555556,
              "#d8576b"
             ],
             [
              0.6666666666666666,
              "#ed7953"
             ],
             [
              0.7777777777777778,
              "#fb9f3a"
             ],
             [
              0.8888888888888888,
              "#fdca26"
             ],
             [
              1,
              "#f0f921"
             ]
            ],
            "type": "heatmap"
           }
          ],
          "heatmapgl": [
           {
            "colorbar": {
             "outlinewidth": 0,
             "ticks": ""
            },
            "colorscale": [
             [
              0,
              "#0d0887"
             ],
             [
              0.1111111111111111,
              "#46039f"
             ],
             [
              0.2222222222222222,
              "#7201a8"
             ],
             [
              0.3333333333333333,
              "#9c179e"
             ],
             [
              0.4444444444444444,
              "#bd3786"
             ],
             [
              0.5555555555555556,
              "#d8576b"
             ],
             [
              0.6666666666666666,
              "#ed7953"
             ],
             [
              0.7777777777777778,
              "#fb9f3a"
             ],
             [
              0.8888888888888888,
              "#fdca26"
             ],
             [
              1,
              "#f0f921"
             ]
            ],
            "type": "heatmapgl"
           }
          ],
          "histogram": [
           {
            "marker": {
             "colorbar": {
              "outlinewidth": 0,
              "ticks": ""
             }
            },
            "type": "histogram"
           }
          ],
          "histogram2d": [
           {
            "colorbar": {
             "outlinewidth": 0,
             "ticks": ""
            },
            "colorscale": [
             [
              0,
              "#0d0887"
             ],
             [
              0.1111111111111111,
              "#46039f"
             ],
             [
              0.2222222222222222,
              "#7201a8"
             ],
             [
              0.3333333333333333,
              "#9c179e"
             ],
             [
              0.4444444444444444,
              "#bd3786"
             ],
             [
              0.5555555555555556,
              "#d8576b"
             ],
             [
              0.6666666666666666,
              "#ed7953"
             ],
             [
              0.7777777777777778,
              "#fb9f3a"
             ],
             [
              0.8888888888888888,
              "#fdca26"
             ],
             [
              1,
              "#f0f921"
             ]
            ],
            "type": "histogram2d"
           }
          ],
          "histogram2dcontour": [
           {
            "colorbar": {
             "outlinewidth": 0,
             "ticks": ""
            },
            "colorscale": [
             [
              0,
              "#0d0887"
             ],
             [
              0.1111111111111111,
              "#46039f"
             ],
             [
              0.2222222222222222,
              "#7201a8"
             ],
             [
              0.3333333333333333,
              "#9c179e"
             ],
             [
              0.4444444444444444,
              "#bd3786"
             ],
             [
              0.5555555555555556,
              "#d8576b"
             ],
             [
              0.6666666666666666,
              "#ed7953"
             ],
             [
              0.7777777777777778,
              "#fb9f3a"
             ],
             [
              0.8888888888888888,
              "#fdca26"
             ],
             [
              1,
              "#f0f921"
             ]
            ],
            "type": "histogram2dcontour"
           }
          ],
          "mesh3d": [
           {
            "colorbar": {
             "outlinewidth": 0,
             "ticks": ""
            },
            "type": "mesh3d"
           }
          ],
          "parcoords": [
           {
            "line": {
             "colorbar": {
              "outlinewidth": 0,
              "ticks": ""
             }
            },
            "type": "parcoords"
           }
          ],
          "pie": [
           {
            "automargin": true,
            "type": "pie"
           }
          ],
          "scatter": [
           {
            "marker": {
             "colorbar": {
              "outlinewidth": 0,
              "ticks": ""
             }
            },
            "type": "scatter"
           }
          ],
          "scatter3d": [
           {
            "line": {
             "colorbar": {
              "outlinewidth": 0,
              "ticks": ""
             }
            },
            "marker": {
             "colorbar": {
              "outlinewidth": 0,
              "ticks": ""
             }
            },
            "type": "scatter3d"
           }
          ],
          "scattercarpet": [
           {
            "marker": {
             "colorbar": {
              "outlinewidth": 0,
              "ticks": ""
             }
            },
            "type": "scattercarpet"
           }
          ],
          "scattergeo": [
           {
            "marker": {
             "colorbar": {
              "outlinewidth": 0,
              "ticks": ""
             }
            },
            "type": "scattergeo"
           }
          ],
          "scattergl": [
           {
            "marker": {
             "colorbar": {
              "outlinewidth": 0,
              "ticks": ""
             }
            },
            "type": "scattergl"
           }
          ],
          "scattermapbox": [
           {
            "marker": {
             "colorbar": {
              "outlinewidth": 0,
              "ticks": ""
             }
            },
            "type": "scattermapbox"
           }
          ],
          "scatterpolar": [
           {
            "marker": {
             "colorbar": {
              "outlinewidth": 0,
              "ticks": ""
             }
            },
            "type": "scatterpolar"
           }
          ],
          "scatterpolargl": [
           {
            "marker": {
             "colorbar": {
              "outlinewidth": 0,
              "ticks": ""
             }
            },
            "type": "scatterpolargl"
           }
          ],
          "scatterternary": [
           {
            "marker": {
             "colorbar": {
              "outlinewidth": 0,
              "ticks": ""
             }
            },
            "type": "scatterternary"
           }
          ],
          "surface": [
           {
            "colorbar": {
             "outlinewidth": 0,
             "ticks": ""
            },
            "colorscale": [
             [
              0,
              "#0d0887"
             ],
             [
              0.1111111111111111,
              "#46039f"
             ],
             [
              0.2222222222222222,
              "#7201a8"
             ],
             [
              0.3333333333333333,
              "#9c179e"
             ],
             [
              0.4444444444444444,
              "#bd3786"
             ],
             [
              0.5555555555555556,
              "#d8576b"
             ],
             [
              0.6666666666666666,
              "#ed7953"
             ],
             [
              0.7777777777777778,
              "#fb9f3a"
             ],
             [
              0.8888888888888888,
              "#fdca26"
             ],
             [
              1,
              "#f0f921"
             ]
            ],
            "type": "surface"
           }
          ],
          "table": [
           {
            "cells": {
             "fill": {
              "color": "#EBF0F8"
             },
             "line": {
              "color": "white"
             }
            },
            "header": {
             "fill": {
              "color": "#C8D4E3"
             },
             "line": {
              "color": "white"
             }
            },
            "type": "table"
           }
          ]
         },
         "layout": {
          "annotationdefaults": {
           "arrowcolor": "#2a3f5f",
           "arrowhead": 0,
           "arrowwidth": 1
          },
          "autotypenumbers": "strict",
          "coloraxis": {
           "colorbar": {
            "outlinewidth": 0,
            "ticks": ""
           }
          },
          "colorscale": {
           "diverging": [
            [
             0,
             "#8e0152"
            ],
            [
             0.1,
             "#c51b7d"
            ],
            [
             0.2,
             "#de77ae"
            ],
            [
             0.3,
             "#f1b6da"
            ],
            [
             0.4,
             "#fde0ef"
            ],
            [
             0.5,
             "#f7f7f7"
            ],
            [
             0.6,
             "#e6f5d0"
            ],
            [
             0.7,
             "#b8e186"
            ],
            [
             0.8,
             "#7fbc41"
            ],
            [
             0.9,
             "#4d9221"
            ],
            [
             1,
             "#276419"
            ]
           ],
           "sequential": [
            [
             0,
             "#0d0887"
            ],
            [
             0.1111111111111111,
             "#46039f"
            ],
            [
             0.2222222222222222,
             "#7201a8"
            ],
            [
             0.3333333333333333,
             "#9c179e"
            ],
            [
             0.4444444444444444,
             "#bd3786"
            ],
            [
             0.5555555555555556,
             "#d8576b"
            ],
            [
             0.6666666666666666,
             "#ed7953"
            ],
            [
             0.7777777777777778,
             "#fb9f3a"
            ],
            [
             0.8888888888888888,
             "#fdca26"
            ],
            [
             1,
             "#f0f921"
            ]
           ],
           "sequentialminus": [
            [
             0,
             "#0d0887"
            ],
            [
             0.1111111111111111,
             "#46039f"
            ],
            [
             0.2222222222222222,
             "#7201a8"
            ],
            [
             0.3333333333333333,
             "#9c179e"
            ],
            [
             0.4444444444444444,
             "#bd3786"
            ],
            [
             0.5555555555555556,
             "#d8576b"
            ],
            [
             0.6666666666666666,
             "#ed7953"
            ],
            [
             0.7777777777777778,
             "#fb9f3a"
            ],
            [
             0.8888888888888888,
             "#fdca26"
            ],
            [
             1,
             "#f0f921"
            ]
           ]
          },
          "colorway": [
           "#636efa",
           "#EF553B",
           "#00cc96",
           "#ab63fa",
           "#FFA15A",
           "#19d3f3",
           "#FF6692",
           "#B6E880",
           "#FF97FF",
           "#FECB52"
          ],
          "font": {
           "color": "#2a3f5f"
          },
          "geo": {
           "bgcolor": "white",
           "lakecolor": "white",
           "landcolor": "#E5ECF6",
           "showlakes": true,
           "showland": true,
           "subunitcolor": "white"
          },
          "hoverlabel": {
           "align": "left"
          },
          "hovermode": "closest",
          "mapbox": {
           "style": "light"
          },
          "paper_bgcolor": "white",
          "plot_bgcolor": "#E5ECF6",
          "polar": {
           "angularaxis": {
            "gridcolor": "white",
            "linecolor": "white",
            "ticks": ""
           },
           "bgcolor": "#E5ECF6",
           "radialaxis": {
            "gridcolor": "white",
            "linecolor": "white",
            "ticks": ""
           }
          },
          "scene": {
           "xaxis": {
            "backgroundcolor": "#E5ECF6",
            "gridcolor": "white",
            "gridwidth": 2,
            "linecolor": "white",
            "showbackground": true,
            "ticks": "",
            "zerolinecolor": "white"
           },
           "yaxis": {
            "backgroundcolor": "#E5ECF6",
            "gridcolor": "white",
            "gridwidth": 2,
            "linecolor": "white",
            "showbackground": true,
            "ticks": "",
            "zerolinecolor": "white"
           },
           "zaxis": {
            "backgroundcolor": "#E5ECF6",
            "gridcolor": "white",
            "gridwidth": 2,
            "linecolor": "white",
            "showbackground": true,
            "ticks": "",
            "zerolinecolor": "white"
           }
          },
          "shapedefaults": {
           "line": {
            "color": "#2a3f5f"
           }
          },
          "ternary": {
           "aaxis": {
            "gridcolor": "white",
            "linecolor": "white",
            "ticks": ""
           },
           "baxis": {
            "gridcolor": "white",
            "linecolor": "white",
            "ticks": ""
           },
           "bgcolor": "#E5ECF6",
           "caxis": {
            "gridcolor": "white",
            "linecolor": "white",
            "ticks": ""
           }
          },
          "title": {
           "x": 0.05
          },
          "xaxis": {
           "automargin": true,
           "gridcolor": "white",
           "linecolor": "white",
           "ticks": "",
           "title": {
            "standoff": 15
           },
           "zerolinecolor": "white",
           "zerolinewidth": 2
          },
          "yaxis": {
           "automargin": true,
           "gridcolor": "white",
           "linecolor": "white",
           "ticks": "",
           "title": {
            "standoff": 15
           },
           "zerolinecolor": "white",
           "zerolinewidth": 2
          }
         }
        },
        "title": {
         "text": "Runtime"
        },
        "xaxis": {
         "anchor": "y",
         "domain": [
          0,
          1
         ],
         "title": {
          "text": ""
         }
        },
        "yaxis": {
         "anchor": "x",
         "domain": [
          0,
          1
         ],
         "title": {
          "text": "s"
         }
        }
       }
      }
     },
     "metadata": {}
    }
   ],
   "source": [
    "# run times\n",
    "col_names = [\"FIRES\",\"FSDS\", \"OFS\", \"OFSSGD\"]\n",
    "values = [fires_cuda_run_time, fsds_run_time, ofs_run_time, ofssgd_run_time]\n",
    "fig = px.bar(x=col_names, y=values, title=\"Runtime\", labels={\"y\":\"s\", \"x\":\"\"}, color=col_names, color_discrete_map={'FIRES': 'red', \n",
    "                                                   'FSDS': 'green', 'OFS': 'purple', \"OFSSGD\":\"yellow\"})\n",
    "fig.show()"
   ]
  },
  {
   "cell_type": "code",
   "execution_count": 156,
   "metadata": {},
   "outputs": [
    {
     "output_type": "display_data",
     "data": {
      "application/vnd.plotly.v1+json": {
       "config": {
        "plotlyServerURL": "https://plot.ly"
       },
       "data": [
        {
         "alignmentgroup": "True",
         "hovertemplate": "color=FIRES<br>=%{x}<br>%=%{y}<extra></extra>",
         "legendgroup": "FIRES",
         "marker": {
          "color": "red"
         },
         "name": "FIRES",
         "offsetgroup": "FIRES",
         "orientation": "v",
         "showlegend": true,
         "textposition": "auto",
         "type": "bar",
         "x": [
          "FIRES"
         ],
         "xaxis": "x",
         "y": [
          10.588235294117647
         ],
         "yaxis": "y"
        },
        {
         "alignmentgroup": "True",
         "hovertemplate": "color=FSDS<br>=%{x}<br>%=%{y}<extra></extra>",
         "legendgroup": "FSDS",
         "marker": {
          "color": "green"
         },
         "name": "FSDS",
         "offsetgroup": "FSDS",
         "orientation": "v",
         "showlegend": true,
         "textposition": "auto",
         "type": "bar",
         "x": [
          "FSDS"
         ],
         "xaxis": "x",
         "y": [
          18.823529411764707
         ],
         "yaxis": "y"
        },
        {
         "alignmentgroup": "True",
         "hovertemplate": "color=OFS<br>=%{x}<br>%=%{y}<extra></extra>",
         "legendgroup": "OFS",
         "marker": {
          "color": "purple"
         },
         "name": "OFS",
         "offsetgroup": "OFS",
         "orientation": "v",
         "showlegend": true,
         "textposition": "auto",
         "type": "bar",
         "x": [
          "OFS"
         ],
         "xaxis": "x",
         "y": [
          4.705882352941177
         ],
         "yaxis": "y"
        },
        {
         "alignmentgroup": "True",
         "hovertemplate": "color=OFSSGD<br>=%{x}<br>%=%{y}<extra></extra>",
         "legendgroup": "OFSSGD",
         "marker": {
          "color": "yellow"
         },
         "name": "OFSSGD",
         "offsetgroup": "OFSSGD",
         "orientation": "v",
         "showlegend": true,
         "textposition": "auto",
         "type": "bar",
         "x": [
          "OFSSGD"
         ],
         "xaxis": "x",
         "y": [
          100
         ],
         "yaxis": "y"
        }
       ],
       "layout": {
        "barmode": "relative",
        "legend": {
         "title": {
          "text": "color"
         },
         "tracegroupgap": 0
        },
        "template": {
         "data": {
          "bar": [
           {
            "error_x": {
             "color": "#2a3f5f"
            },
            "error_y": {
             "color": "#2a3f5f"
            },
            "marker": {
             "line": {
              "color": "#E5ECF6",
              "width": 0.5
             }
            },
            "type": "bar"
           }
          ],
          "barpolar": [
           {
            "marker": {
             "line": {
              "color": "#E5ECF6",
              "width": 0.5
             }
            },
            "type": "barpolar"
           }
          ],
          "carpet": [
           {
            "aaxis": {
             "endlinecolor": "#2a3f5f",
             "gridcolor": "white",
             "linecolor": "white",
             "minorgridcolor": "white",
             "startlinecolor": "#2a3f5f"
            },
            "baxis": {
             "endlinecolor": "#2a3f5f",
             "gridcolor": "white",
             "linecolor": "white",
             "minorgridcolor": "white",
             "startlinecolor": "#2a3f5f"
            },
            "type": "carpet"
           }
          ],
          "choropleth": [
           {
            "colorbar": {
             "outlinewidth": 0,
             "ticks": ""
            },
            "type": "choropleth"
           }
          ],
          "contour": [
           {
            "colorbar": {
             "outlinewidth": 0,
             "ticks": ""
            },
            "colorscale": [
             [
              0,
              "#0d0887"
             ],
             [
              0.1111111111111111,
              "#46039f"
             ],
             [
              0.2222222222222222,
              "#7201a8"
             ],
             [
              0.3333333333333333,
              "#9c179e"
             ],
             [
              0.4444444444444444,
              "#bd3786"
             ],
             [
              0.5555555555555556,
              "#d8576b"
             ],
             [
              0.6666666666666666,
              "#ed7953"
             ],
             [
              0.7777777777777778,
              "#fb9f3a"
             ],
             [
              0.8888888888888888,
              "#fdca26"
             ],
             [
              1,
              "#f0f921"
             ]
            ],
            "type": "contour"
           }
          ],
          "contourcarpet": [
           {
            "colorbar": {
             "outlinewidth": 0,
             "ticks": ""
            },
            "type": "contourcarpet"
           }
          ],
          "heatmap": [
           {
            "colorbar": {
             "outlinewidth": 0,
             "ticks": ""
            },
            "colorscale": [
             [
              0,
              "#0d0887"
             ],
             [
              0.1111111111111111,
              "#46039f"
             ],
             [
              0.2222222222222222,
              "#7201a8"
             ],
             [
              0.3333333333333333,
              "#9c179e"
             ],
             [
              0.4444444444444444,
              "#bd3786"
             ],
             [
              0.5555555555555556,
              "#d8576b"
             ],
             [
              0.6666666666666666,
              "#ed7953"
             ],
             [
              0.7777777777777778,
              "#fb9f3a"
             ],
             [
              0.8888888888888888,
              "#fdca26"
             ],
             [
              1,
              "#f0f921"
             ]
            ],
            "type": "heatmap"
           }
          ],
          "heatmapgl": [
           {
            "colorbar": {
             "outlinewidth": 0,
             "ticks": ""
            },
            "colorscale": [
             [
              0,
              "#0d0887"
             ],
             [
              0.1111111111111111,
              "#46039f"
             ],
             [
              0.2222222222222222,
              "#7201a8"
             ],
             [
              0.3333333333333333,
              "#9c179e"
             ],
             [
              0.4444444444444444,
              "#bd3786"
             ],
             [
              0.5555555555555556,
              "#d8576b"
             ],
             [
              0.6666666666666666,
              "#ed7953"
             ],
             [
              0.7777777777777778,
              "#fb9f3a"
             ],
             [
              0.8888888888888888,
              "#fdca26"
             ],
             [
              1,
              "#f0f921"
             ]
            ],
            "type": "heatmapgl"
           }
          ],
          "histogram": [
           {
            "marker": {
             "colorbar": {
              "outlinewidth": 0,
              "ticks": ""
             }
            },
            "type": "histogram"
           }
          ],
          "histogram2d": [
           {
            "colorbar": {
             "outlinewidth": 0,
             "ticks": ""
            },
            "colorscale": [
             [
              0,
              "#0d0887"
             ],
             [
              0.1111111111111111,
              "#46039f"
             ],
             [
              0.2222222222222222,
              "#7201a8"
             ],
             [
              0.3333333333333333,
              "#9c179e"
             ],
             [
              0.4444444444444444,
              "#bd3786"
             ],
             [
              0.5555555555555556,
              "#d8576b"
             ],
             [
              0.6666666666666666,
              "#ed7953"
             ],
             [
              0.7777777777777778,
              "#fb9f3a"
             ],
             [
              0.8888888888888888,
              "#fdca26"
             ],
             [
              1,
              "#f0f921"
             ]
            ],
            "type": "histogram2d"
           }
          ],
          "histogram2dcontour": [
           {
            "colorbar": {
             "outlinewidth": 0,
             "ticks": ""
            },
            "colorscale": [
             [
              0,
              "#0d0887"
             ],
             [
              0.1111111111111111,
              "#46039f"
             ],
             [
              0.2222222222222222,
              "#7201a8"
             ],
             [
              0.3333333333333333,
              "#9c179e"
             ],
             [
              0.4444444444444444,
              "#bd3786"
             ],
             [
              0.5555555555555556,
              "#d8576b"
             ],
             [
              0.6666666666666666,
              "#ed7953"
             ],
             [
              0.7777777777777778,
              "#fb9f3a"
             ],
             [
              0.8888888888888888,
              "#fdca26"
             ],
             [
              1,
              "#f0f921"
             ]
            ],
            "type": "histogram2dcontour"
           }
          ],
          "mesh3d": [
           {
            "colorbar": {
             "outlinewidth": 0,
             "ticks": ""
            },
            "type": "mesh3d"
           }
          ],
          "parcoords": [
           {
            "line": {
             "colorbar": {
              "outlinewidth": 0,
              "ticks": ""
             }
            },
            "type": "parcoords"
           }
          ],
          "pie": [
           {
            "automargin": true,
            "type": "pie"
           }
          ],
          "scatter": [
           {
            "marker": {
             "colorbar": {
              "outlinewidth": 0,
              "ticks": ""
             }
            },
            "type": "scatter"
           }
          ],
          "scatter3d": [
           {
            "line": {
             "colorbar": {
              "outlinewidth": 0,
              "ticks": ""
             }
            },
            "marker": {
             "colorbar": {
              "outlinewidth": 0,
              "ticks": ""
             }
            },
            "type": "scatter3d"
           }
          ],
          "scattercarpet": [
           {
            "marker": {
             "colorbar": {
              "outlinewidth": 0,
              "ticks": ""
             }
            },
            "type": "scattercarpet"
           }
          ],
          "scattergeo": [
           {
            "marker": {
             "colorbar": {
              "outlinewidth": 0,
              "ticks": ""
             }
            },
            "type": "scattergeo"
           }
          ],
          "scattergl": [
           {
            "marker": {
             "colorbar": {
              "outlinewidth": 0,
              "ticks": ""
             }
            },
            "type": "scattergl"
           }
          ],
          "scattermapbox": [
           {
            "marker": {
             "colorbar": {
              "outlinewidth": 0,
              "ticks": ""
             }
            },
            "type": "scattermapbox"
           }
          ],
          "scatterpolar": [
           {
            "marker": {
             "colorbar": {
              "outlinewidth": 0,
              "ticks": ""
             }
            },
            "type": "scatterpolar"
           }
          ],
          "scatterpolargl": [
           {
            "marker": {
             "colorbar": {
              "outlinewidth": 0,
              "ticks": ""
             }
            },
            "type": "scatterpolargl"
           }
          ],
          "scatterternary": [
           {
            "marker": {
             "colorbar": {
              "outlinewidth": 0,
              "ticks": ""
             }
            },
            "type": "scatterternary"
           }
          ],
          "surface": [
           {
            "colorbar": {
             "outlinewidth": 0,
             "ticks": ""
            },
            "colorscale": [
             [
              0,
              "#0d0887"
             ],
             [
              0.1111111111111111,
              "#46039f"
             ],
             [
              0.2222222222222222,
              "#7201a8"
             ],
             [
              0.3333333333333333,
              "#9c179e"
             ],
             [
              0.4444444444444444,
              "#bd3786"
             ],
             [
              0.5555555555555556,
              "#d8576b"
             ],
             [
              0.6666666666666666,
              "#ed7953"
             ],
             [
              0.7777777777777778,
              "#fb9f3a"
             ],
             [
              0.8888888888888888,
              "#fdca26"
             ],
             [
              1,
              "#f0f921"
             ]
            ],
            "type": "surface"
           }
          ],
          "table": [
           {
            "cells": {
             "fill": {
              "color": "#EBF0F8"
             },
             "line": {
              "color": "white"
             }
            },
            "header": {
             "fill": {
              "color": "#C8D4E3"
             },
             "line": {
              "color": "white"
             }
            },
            "type": "table"
           }
          ]
         },
         "layout": {
          "annotationdefaults": {
           "arrowcolor": "#2a3f5f",
           "arrowhead": 0,
           "arrowwidth": 1
          },
          "autotypenumbers": "strict",
          "coloraxis": {
           "colorbar": {
            "outlinewidth": 0,
            "ticks": ""
           }
          },
          "colorscale": {
           "diverging": [
            [
             0,
             "#8e0152"
            ],
            [
             0.1,
             "#c51b7d"
            ],
            [
             0.2,
             "#de77ae"
            ],
            [
             0.3,
             "#f1b6da"
            ],
            [
             0.4,
             "#fde0ef"
            ],
            [
             0.5,
             "#f7f7f7"
            ],
            [
             0.6,
             "#e6f5d0"
            ],
            [
             0.7,
             "#b8e186"
            ],
            [
             0.8,
             "#7fbc41"
            ],
            [
             0.9,
             "#4d9221"
            ],
            [
             1,
             "#276419"
            ]
           ],
           "sequential": [
            [
             0,
             "#0d0887"
            ],
            [
             0.1111111111111111,
             "#46039f"
            ],
            [
             0.2222222222222222,
             "#7201a8"
            ],
            [
             0.3333333333333333,
             "#9c179e"
            ],
            [
             0.4444444444444444,
             "#bd3786"
            ],
            [
             0.5555555555555556,
             "#d8576b"
            ],
            [
             0.6666666666666666,
             "#ed7953"
            ],
            [
             0.7777777777777778,
             "#fb9f3a"
            ],
            [
             0.8888888888888888,
             "#fdca26"
            ],
            [
             1,
             "#f0f921"
            ]
           ],
           "sequentialminus": [
            [
             0,
             "#0d0887"
            ],
            [
             0.1111111111111111,
             "#46039f"
            ],
            [
             0.2222222222222222,
             "#7201a8"
            ],
            [
             0.3333333333333333,
             "#9c179e"
            ],
            [
             0.4444444444444444,
             "#bd3786"
            ],
            [
             0.5555555555555556,
             "#d8576b"
            ],
            [
             0.6666666666666666,
             "#ed7953"
            ],
            [
             0.7777777777777778,
             "#fb9f3a"
            ],
            [
             0.8888888888888888,
             "#fdca26"
            ],
            [
             1,
             "#f0f921"
            ]
           ]
          },
          "colorway": [
           "#636efa",
           "#EF553B",
           "#00cc96",
           "#ab63fa",
           "#FFA15A",
           "#19d3f3",
           "#FF6692",
           "#B6E880",
           "#FF97FF",
           "#FECB52"
          ],
          "font": {
           "color": "#2a3f5f"
          },
          "geo": {
           "bgcolor": "white",
           "lakecolor": "white",
           "landcolor": "#E5ECF6",
           "showlakes": true,
           "showland": true,
           "subunitcolor": "white"
          },
          "hoverlabel": {
           "align": "left"
          },
          "hovermode": "closest",
          "mapbox": {
           "style": "light"
          },
          "paper_bgcolor": "white",
          "plot_bgcolor": "#E5ECF6",
          "polar": {
           "angularaxis": {
            "gridcolor": "white",
            "linecolor": "white",
            "ticks": ""
           },
           "bgcolor": "#E5ECF6",
           "radialaxis": {
            "gridcolor": "white",
            "linecolor": "white",
            "ticks": ""
           }
          },
          "scene": {
           "xaxis": {
            "backgroundcolor": "#E5ECF6",
            "gridcolor": "white",
            "gridwidth": 2,
            "linecolor": "white",
            "showbackground": true,
            "ticks": "",
            "zerolinecolor": "white"
           },
           "yaxis": {
            "backgroundcolor": "#E5ECF6",
            "gridcolor": "white",
            "gridwidth": 2,
            "linecolor": "white",
            "showbackground": true,
            "ticks": "",
            "zerolinecolor": "white"
           },
           "zaxis": {
            "backgroundcolor": "#E5ECF6",
            "gridcolor": "white",
            "gridwidth": 2,
            "linecolor": "white",
            "showbackground": true,
            "ticks": "",
            "zerolinecolor": "white"
           }
          },
          "shapedefaults": {
           "line": {
            "color": "#2a3f5f"
           }
          },
          "ternary": {
           "aaxis": {
            "gridcolor": "white",
            "linecolor": "white",
            "ticks": ""
           },
           "baxis": {
            "gridcolor": "white",
            "linecolor": "white",
            "ticks": ""
           },
           "bgcolor": "#E5ECF6",
           "caxis": {
            "gridcolor": "white",
            "linecolor": "white",
            "ticks": ""
           }
          },
          "title": {
           "x": 0.05
          },
          "xaxis": {
           "automargin": true,
           "gridcolor": "white",
           "linecolor": "white",
           "ticks": "",
           "title": {
            "standoff": 15
           },
           "zerolinecolor": "white",
           "zerolinewidth": 2
          },
          "yaxis": {
           "automargin": true,
           "gridcolor": "white",
           "linecolor": "white",
           "ticks": "",
           "title": {
            "standoff": 15
           },
           "zerolinecolor": "white",
           "zerolinewidth": 2
          }
         }
        },
        "title": {
         "text": "True labels found"
        },
        "xaxis": {
         "anchor": "y",
         "domain": [
          0,
          1
         ],
         "title": {
          "text": ""
         }
        },
        "yaxis": {
         "anchor": "x",
         "domain": [
          0,
          1
         ],
         "title": {
          "text": "%"
         }
        }
       }
      }
     },
     "metadata": {}
    }
   ],
   "source": [
    "if check_ftrs:\n",
    "    col_names = [\"FIRES\",\"FSDS\", \"OFS\", \"OFSSGD\"]\n",
    "    values = [fires_perc_ftr_found, fsds_perc_ftr_found, ofs_perc_ftr_found, ofssgd_perc_ftr_found]\n",
    "    fig = px.bar(x=col_names, y=values, title=\"True labels found\", labels={\"y\":\"%\", \"x\":\"\"}, color=col_names, color_discrete_map={'FIRES': 'red', \n",
    "                                                   'FSDS': 'green', 'OFS': 'purple', \"OFSSGD\":\"yellow\"})\n",
    "    fig.show()"
   ]
  },
  {
   "cell_type": "code",
   "execution_count": null,
   "metadata": {},
   "outputs": [],
   "source": []
  }
 ]
}