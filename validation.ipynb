{
 "metadata": {
  "language_info": {
   "codemirror_mode": {
    "name": "ipython",
    "version": 3
   },
   "file_extension": ".py",
   "mimetype": "text/x-python",
   "name": "python",
   "nbconvert_exporter": "python",
   "pygments_lexer": "ipython3",
   "version": "3.8.5-final"
  },
  "orig_nbformat": 2,
  "kernelspec": {
   "name": "python3",
   "display_name": "Python 3",
   "language": "python"
  }
 },
 "nbformat": 4,
 "nbformat_minor": 2,
 "cells": [
  {
   "source": [
    "# Validation notebook\n",
    "Here the FIRES implementation for multiclass and regression is validated and compared to other online features selcetion algorithms.\n"
   ],
   "cell_type": "markdown",
   "metadata": {}
  },
  {
   "cell_type": "code",
   "execution_count": 1,
   "metadata": {},
   "outputs": [],
   "source": [
    "# import the functions needed for validate and comparsion\n",
    "\n",
    "import numpy as np\n",
    "import cupy as cp\n",
    "import pandas as pd\n",
    "from timeit import default_timer as timer\n",
    "\n",
    "#from sklearn.model_selection import train_test_split\n",
    "from sklearn.metrics import accuracy_score, precision_score, recall_score, f1_score\n",
    "from skmultiflow.data import FileStream, RandomRBFGenerator, ConceptDriftStream\n",
    "from skmultiflow.neural_networks import PerceptronMask\n",
    "from skmultiflow.trees import HoeffdingTreeClassifier, ExtremelyFastDecisionTreeClassifier\n",
    "\n",
    "\n",
    "# using plotly for plots\n",
    "#import plotly.graph_objects as go\n",
    "import plotly.express as px\n",
    "from plotly.subplots import make_subplots\n"
   ]
  },
  {
   "cell_type": "code",
   "execution_count": 2,
   "metadata": {},
   "outputs": [],
   "source": [
    "# paint mnist\n",
    "def paint_digit(digit_values):\n",
    "    fig = px.imshow(digit_values.reshape(28,28), binary_string=True)\n",
    "    fig.update_layout(coloraxis_showscale=False)\n",
    "    fig.update_xaxes(showticklabels=False)\n",
    "    fig.update_yaxes(showticklabels=False)\n",
    "    #fig.show()\n",
    "    return(fig)"
   ]
  },
  {
   "cell_type": "code",
   "execution_count": 3,
   "metadata": {},
   "outputs": [],
   "source": [
    "# stability measurment as proposed in \"Measurment the Stability of Feature Selection\"\n",
    "\n",
    "# TODO: check for case where nothing changes\n",
    "\n",
    "\n",
    "def pearson_stability_ij(arr1,arr2):\n",
    "    d = len(arr1)\n",
    "    k_i = np.sum(arr1)\n",
    "    k_j = np.sum(arr2)\n",
    "\n",
    "    # catch edge cases as proposed in the paper under 4.1\n",
    "    if (k_i == 0 or k_i == d) and k_i != k_j :\n",
    "        return 0\n",
    "    elif (k_j == 0 or k_j == d) and k_i != k_j :\n",
    "        return 0\n",
    "    elif (k_i == 0 or k_i == d) and k_i == k_j :\n",
    "        return 1\n",
    "    x_hat_i = k_i / d\n",
    "    x_hat_j = k_j / d\n",
    "    arr1 = arr1 - x_hat_i\n",
    "    arr2 = arr2 - x_hat_j\n",
    "    dividend = 1/d * np.sum(arr1*arr2)\n",
    "    divisor = np.sqrt(1/d*np.sum(arr1**2))*np.sqrt(1/d*np.sum(arr2**2))\n",
    "    return dividend/divisor\n",
    "\n",
    "def stability_factor(selected_ftrs):\n",
    "   M = len(selected_ftrs)\n",
    "   sum_stabilities = 0\n",
    "   for i in range(M):\n",
    "       for j in range(i+1, M):\n",
    "           sum_stabilities += pearson_stability_ij(selected_ftrs[i], selected_ftrs[j])\n",
    "   return 1/(M*(M-1))*sum_stabilities * 2   "
   ]
  },
  {
   "cell_type": "code",
   "execution_count": 4,
   "metadata": {},
   "outputs": [],
   "source": [
    "# import algorithms\n",
    "from fires import FIRES\n",
    "from ofs import OFS, MC_OFS\n",
    "from ofssgr import OFSSGD, MC_OFSSGD\n",
    "from fsds import StreamFeatWeight"
   ]
  },
  {
   "source": [
    "## Multiclass Data\n",
    "\n",
    "Here the FIRES softmax implementation is compared to the FSDS, OFS and OFSSGD oun multiclass data.\n"
   ],
   "cell_type": "markdown",
   "metadata": {}
  },
  {
   "source": [
    "### Load Datasets as Streaming Data"
   ],
   "cell_type": "markdown",
   "metadata": {}
  },
  {
   "cell_type": "code",
   "execution_count": null,
   "metadata": {},
   "outputs": [],
   "source": [
    "# MNIST data normalized\n",
    "stream = FileStream('datasets/Multiclass/mnist_train_normalized.csv', target_idx=0)\n",
    "stream.prepare_for_use()\n",
    "dataset_name = \"mnist_norm\"\n",
    "n_selected_ftr = 100\n",
    "n_window = 10\n",
    "batch_size = 100\n",
    "weights = None\n",
    "\n",
    "check_ftrs = False\n",
    "\n",
    "# load test data\n",
    "test_data = pd.read_csv('datasets/Multiclass/mnist_test_normalized.csv', header=None)\n",
    "test_y = test_data[0].to_numpy()\n",
    "test_x = test_data.drop(columns=0).to_numpy()\n"
   ]
  },
  {
   "cell_type": "code",
   "execution_count": null,
   "metadata": {},
   "outputs": [],
   "source": [
    "# MNIST data\n",
    "stream = FileStream('datasets/Multiclass/mnist_train.csv', target_idx=0)\n",
    "stream.prepare_for_use()\n",
    "dataset_name = \"mnist\"\n",
    "n_selected_ftr = 100\n",
    "n_window = 10\n",
    "batch_size = 100\n",
    "weights = None\n",
    "\n",
    "check_ftrs = False\n",
    "\n",
    "# load test data\n",
    "test_data = pd.read_csv('datasets/Multiclass/mnist_test.csv', header=None)\n",
    "test_y = test_data[0].to_numpy()\n",
    "test_x = test_data.drop(columns=0).to_numpy()"
   ]
  },
  {
   "cell_type": "code",
   "execution_count": null,
   "metadata": {},
   "outputs": [],
   "source": [
    "# Human Activity Recognition\n",
    "# labels changed from [1,...,6] to [0,...,5]\n",
    "# rows shuffled\n",
    "# split into train set with 7352 instances and test set with 2948\n",
    "stream = FileStream('datasets/Multiclass/har_train.csv', target_idx = 561)\n",
    "stream.prepare_for_use()\n",
    "dataset_name = \"har\"\n",
    "n_selected_ftr = 100\n",
    "n_window = 10\n",
    "batch_size = 50\n",
    "weights = None\n",
    "\n",
    "check_ftrs = False\n",
    "\n",
    "\n",
    "# load test data\n",
    "test_data = pd.read_csv('datasets/Multiclass/har_test.csv')\n",
    "test_y = test_data[\"Class\"].to_numpy()\n",
    "test_x = test_data.drop(columns=\"Class\").to_numpy()\n"
   ]
  },
  {
   "cell_type": "code",
   "execution_count": null,
   "metadata": {},
   "outputs": [],
   "source": [
    "# Covtype scaled to 0,1\n",
    "# https://archive.ics.uci.edu/ml/datasets/covertype\n",
    "\n",
    "# rows shuffled\n",
    "# split into train set with 400000 instances and test set with 180000\n",
    "stream = FileStream('datasets/Multiclass/covtype.scale01.test.csv', target_idx = 0)\n",
    "stream.prepare_for_use()\n",
    "dataset_name = \"covtype\"\n",
    "n_selected_ftr = 25\n",
    "n_window = 50\n",
    "batch_size = 100\n",
    "weights = [0.36460521, 0.48759922, 0.06153746, 0.00472796, 0.01633873, 0.02989095, 0.03530048]\n",
    "\n",
    "check_ftrs = False\n",
    "\n",
    "# load test data\n",
    "test_data = pd.read_csv('datasets/Multiclass/covtype.scale01.train.csv', header=None)\n",
    "test_y = test_data[0].to_numpy()\n",
    "test_x = test_data.drop(columns=0).to_numpy()"
   ]
  },
  {
   "cell_type": "code",
   "execution_count": 5,
   "metadata": {},
   "outputs": [],
   "source": [
    "def find_true_ftrs_indices(label_names, start_char):\n",
    "    indices = []\n",
    "    for i in range(len(label_names)):\n",
    "        if label_names[i].startswith(start_char):\n",
    "            indices.append(i)\n",
    "\n",
    "    return indices"
   ]
  },
  {
   "cell_type": "code",
   "execution_count": 6,
   "metadata": {},
   "outputs": [],
   "source": [
    "# synthetic dataset 1 (see data_generation.ipynb)\n",
    "stream = FileStream('datasets/Multiclass/dataset_1_train.csv', target_idx=100)\n",
    "stream.prepare_for_use()\n",
    "dataset_name = \"syn_ds_1\"\n",
    "n_selected_ftr = 20 # 15 are really informative\n",
    "n_window = 10\n",
    "batch_size = 50\n",
    "weights = None\n",
    "\n",
    "# load test data\n",
    "test_data = pd.read_csv(\"datasets/Multiclass/dataset_1_test.csv\")\n",
    "test_y = test_data[\"label\"].to_numpy()\n",
    "test_x = test_data.drop(columns=\"label\").to_numpy()\n",
    "\n",
    "# get index of real ftrs\n",
    "true_ftrs = find_true_ftrs_indices(test_data.columns, \"y\")\n",
    "check_ftrs = True"
   ]
  },
  {
   "cell_type": "code",
   "execution_count": null,
   "metadata": {},
   "outputs": [],
   "source": [
    "# synthetic dataset 2 (see data_generation.ipynb)\n",
    "stream = FileStream('datasets/Multiclass/dataset_2_train.csv', target_idx=500)\n",
    "stream.prepare_for_use()\n",
    "dataset_name = \"syn_ds_2\"\n",
    "n_selected_ftr = 30 # 25 are really informative\n",
    "n_window = 10\n",
    "batch_size = 100\n",
    "weights = None\n",
    "\n",
    "# load test data\n",
    "test_data = pd.read_csv(\"datasets/Multiclass/dataset_2_test.csv\")\n",
    "test_y = test_data[\"label\"].to_numpy()\n",
    "test_x = test_data.drop(columns=\"label\").to_numpy()\n",
    "\n",
    "# get index of real ftrs\n",
    "true_ftrs = find_true_ftrs_indices(test_data.columns, \"y\")\n",
    "check_ftrs = True"
   ]
  },
  {
   "cell_type": "code",
   "execution_count": null,
   "metadata": {},
   "outputs": [],
   "source": [
    "# synthetic dataset 3 (see data_generation.ipynb)\n",
    "stream = FileStream('datasets/Multiclass/dataset_3_train.csv', target_idx=250)\n",
    "stream.prepare_for_use()\n",
    "dataset_name = \"syn_ds_3\"\n",
    "n_selected_ftr = 20 # 20 are really informative\n",
    "n_window = 10\n",
    "batch_size = 20\n",
    "weights = [0.1, 0.05, 0.15, 0.2, 0.025, 0.125, 0.075, 0.275]\n",
    "\n",
    "# load test data\n",
    "test_data = pd.read_csv(\"datasets/Multiclass/dataset_3_test.csv\")\n",
    "test_y = test_data[\"label\"].to_numpy()\n",
    "test_x = test_data.drop(columns=\"label\").to_numpy()\n",
    "\n",
    "# get index of real ftrs\n",
    "true_ftrs = find_true_ftrs_indices(test_data.columns, \"y\")\n",
    "check_ftrs = True"
   ]
  },
  {
   "cell_type": "code",
   "execution_count": null,
   "metadata": {},
   "outputs": [],
   "source": [
    "# synthetic dataset 4 (see data_generation.ipynb)\n",
    "stream = FileStream('datasets/Multiclass/dataset_4_train.csv', target_idx=210)\n",
    "stream.prepare_for_use()\n",
    "dataset_name = \"syn_ds_4\"\n",
    "n_selected_ftr = 100\n",
    "n_window = 10\n",
    "batch_size = 100\n",
    "weights=None\n",
    "check_ftrs = False\n",
    "\n",
    "# load test data\n",
    "test_data = pd.read_csv(\"datasets/Multiclass/dataset_4_test.csv\")\n",
    "test_y = test_data[\"label\"].to_numpy()\n",
    "test_x = test_data.drop(columns=\"label\").to_numpy()"
   ]
  },
  {
   "source": [
    "### Test without feature selection\n"
   ],
   "cell_type": "markdown",
   "metadata": {}
  },
  {
   "cell_type": "code",
   "execution_count": 42,
   "metadata": {},
   "outputs": [],
   "source": [
    "pred_algo = \"perceptron\"\n",
    "#pred_algo = \"hoeffding\"\n",
    "#pred_algo = 'fast_decision'"
   ]
  },
  {
   "cell_type": "code",
   "execution_count": 43,
   "metadata": {},
   "outputs": [
    {
     "output_type": "execute_result",
     "data": {
      "text/plain": [
       "PerceptronMask(alpha=0.0001, class_weight=None, early_stopping=False, eta0=1.0,\n",
       "               fit_intercept=True, max_iter=1000, n_iter_no_change=5,\n",
       "               n_jobs=None, penalty=None, random_state=0, shuffle=True,\n",
       "               tol=0.001, validation_fraction=0.1, verbose=0, warm_start=False)"
      ]
     },
     "metadata": {},
     "execution_count": 43
    }
   ],
   "source": [
    "stream.restart()\n",
    "if pred_algo ==\"perceptron\":\n",
    "    predictor = PerceptronMask()\n",
    "elif pred_algo == \"hoeffding\":\n",
    "    predictor = HoeffdingTreeClassifier(leaf_prediction=\"mc\")\n",
    "elif pred_algo == 'fast_decision':\n",
    "    predictor = ExtremelyFastDecisionTreeClassifier(split_criterion=\"info_gain\", split_confidence=0.0001, leaf_prediction=\"mc\")\n",
    "x,y = stream.next_sample(batch_size=batch_size)\n",
    "predictor.partial_fit(x,y, stream.target_values)"
   ]
  },
  {
   "cell_type": "code",
   "execution_count": 44,
   "metadata": {},
   "outputs": [],
   "source": [
    "accuarcy_pure = []\n",
    "f1_pure = []\n",
    "precision = []\n",
    "recall = []\n",
    "while stream.has_more_samples():\n",
    "    x, y = stream.next_sample(batch_size=batch_size)\n",
    "    y_pred = predictor.predict(x)\n",
    "    \n",
    "    accuarcy_pure.append(accuracy_score(y, y_pred))\n",
    "    f1_pure.append(f1_score(y, y_pred, stream.target_values, \n",
    "    average=\"weighted\" ))\n",
    "    precision.append(precision_score(y, y_pred, stream.target_values,\n",
    "    average=\"weighted\"))\n",
    "    recall.append(recall_score(y, y_pred, stream.target_values,\n",
    "    average=\"weighted\"))\n",
    "\n",
    "    predictor.partial_fit(x,y)\n",
    "\n",
    "pure_moving_average = pd.Series(accuarcy_pure).rolling(window=n_window).mean().iloc[n_window-1:].values\n",
    "pure_f1 = pd.Series(f1_pure).rolling(window=n_window).mean().iloc[n_window-1:].values"
   ]
  },
  {
   "cell_type": "code",
   "execution_count": 45,
   "metadata": {},
   "outputs": [
    {
     "output_type": "stream",
     "name": "stdout",
     "text": [
      "For the test dataset the previous trained predictor reached: 0.2302\n"
     ]
    }
   ],
   "source": [
    "y_pred = predictor.predict(test_x)\n",
    "accuracy_no_ofs = accuracy_score(test_y, y_pred)\n",
    "print(\"For the test dataset the previous trained predictor reached: {}\".format(accuracy_no_ofs))"
   ]
  },
  {
   "cell_type": "code",
   "execution_count": 46,
   "metadata": {},
   "outputs": [],
   "source": [
    "precision = pd.Series(precision).rolling(window=n_window).mean().iloc[n_window-1:].values\n",
    "recall = pd.Series(recall).rolling(window=n_window).mean().iloc[n_window-1:].values\n",
    "f1_pure = pd.Series(f1_pure).rolling(window=n_window).mean().iloc[n_window-1:].values"
   ]
  },
  {
   "cell_type": "code",
   "execution_count": 47,
   "metadata": {},
   "outputs": [],
   "source": [
    "col_names = [\"accuracy\",\"f1\", \"precision\", \"recall\"]\n",
    "d = {\"accuracy\":pure_moving_average, \"f1\":f1_pure, \"precision\":precision,\n",
    "\"recall\":recall}\n",
    "df = pd.DataFrame(d, columns=col_names)"
   ]
  },
  {
   "cell_type": "code",
   "execution_count": 48,
   "metadata": {},
   "outputs": [
    {
     "output_type": "display_data",
     "data": {
      "application/vnd.plotly.v1+json": {
       "config": {
        "plotlyServerURL": "https://plot.ly"
       },
       "data": [
        {
         "hovertemplate": "variable=accuracy<br>index=%{x}<br>value=%{y}<extra></extra>",
         "legendgroup": "accuracy",
         "line": {
          "color": "#636efa",
          "dash": "solid"
         },
         "mode": "lines",
         "name": "accuracy",
         "showlegend": true,
         "type": "scattergl",
         "x": [
          0,
          1,
          2,
          3,
          4,
          5,
          6,
          7,
          8,
          9,
          10,
          11,
          12,
          13,
          14,
          15,
          16,
          17,
          18,
          19,
          20,
          21,
          22,
          23,
          24,
          25,
          26,
          27,
          28,
          29,
          30,
          31,
          32,
          33,
          34,
          35,
          36,
          37,
          38,
          39,
          40,
          41,
          42,
          43,
          44,
          45,
          46,
          47,
          48,
          49,
          50,
          51,
          52,
          53,
          54,
          55,
          56,
          57,
          58,
          59,
          60,
          61,
          62,
          63,
          64,
          65,
          66,
          67,
          68,
          69,
          70,
          71,
          72,
          73,
          74,
          75,
          76,
          77,
          78,
          79,
          80,
          81,
          82,
          83,
          84,
          85,
          86,
          87,
          88,
          89,
          90,
          91,
          92,
          93,
          94,
          95,
          96,
          97,
          98,
          99,
          100,
          101,
          102,
          103,
          104,
          105,
          106,
          107,
          108,
          109,
          110,
          111,
          112,
          113,
          114,
          115,
          116,
          117,
          118,
          119,
          120,
          121,
          122,
          123,
          124,
          125,
          126,
          127,
          128,
          129,
          130,
          131,
          132,
          133,
          134,
          135,
          136,
          137,
          138,
          139,
          140,
          141,
          142,
          143,
          144,
          145,
          146,
          147,
          148,
          149,
          150,
          151,
          152,
          153,
          154,
          155,
          156,
          157,
          158,
          159,
          160,
          161,
          162,
          163,
          164,
          165,
          166,
          167,
          168,
          169,
          170,
          171,
          172,
          173,
          174,
          175,
          176,
          177,
          178,
          179,
          180,
          181,
          182,
          183,
          184,
          185,
          186,
          187,
          188,
          189,
          190,
          191,
          192,
          193,
          194,
          195,
          196,
          197,
          198,
          199,
          200,
          201,
          202,
          203,
          204,
          205,
          206,
          207,
          208,
          209,
          210,
          211,
          212,
          213,
          214,
          215,
          216,
          217,
          218,
          219,
          220,
          221,
          222,
          223,
          224,
          225,
          226,
          227,
          228,
          229,
          230,
          231,
          232,
          233,
          234,
          235,
          236,
          237,
          238,
          239,
          240,
          241,
          242,
          243,
          244,
          245,
          246,
          247,
          248,
          249,
          250,
          251,
          252,
          253,
          254,
          255,
          256,
          257,
          258,
          259,
          260,
          261,
          262,
          263,
          264,
          265,
          266,
          267,
          268,
          269,
          270,
          271,
          272,
          273,
          274,
          275,
          276,
          277,
          278,
          279,
          280,
          281,
          282,
          283,
          284,
          285,
          286,
          287,
          288,
          289
         ],
         "xaxis": "x",
         "y": [
          0.13999999999999999,
          0.15199999999999997,
          0.16799999999999998,
          0.174,
          0.178,
          0.172,
          0.16799999999999998,
          0.16999999999999998,
          0.188,
          0.192,
          0.192,
          0.186,
          0.192,
          0.182,
          0.166,
          0.186,
          0.198,
          0.194,
          0.16799999999999998,
          0.17400000000000002,
          0.172,
          0.16799999999999998,
          0.152,
          0.166,
          0.18,
          0.156,
          0.162,
          0.16199999999999998,
          0.17400000000000002,
          0.16799999999999998,
          0.16599999999999998,
          0.17,
          0.16999999999999998,
          0.176,
          0.174,
          0.18,
          0.178,
          0.184,
          0.196,
          0.192,
          0.20600000000000002,
          0.21200000000000002,
          0.22000000000000003,
          0.21000000000000002,
          0.20400000000000001,
          0.21400000000000002,
          0.21200000000000002,
          0.21000000000000002,
          0.21200000000000002,
          0.22999999999999998,
          0.21600000000000003,
          0.21000000000000002,
          0.192,
          0.186,
          0.196,
          0.186,
          0.19,
          0.182,
          0.176,
          0.16799999999999998,
          0.174,
          0.188,
          0.2,
          0.21200000000000002,
          0.21000000000000002,
          0.22599999999999998,
          0.22599999999999998,
          0.24400000000000005,
          0.254,
          0.25000000000000006,
          0.244,
          0.23600000000000004,
          0.248,
          0.24,
          0.24400000000000005,
          0.23000000000000004,
          0.23400000000000004,
          0.21600000000000003,
          0.21600000000000003,
          0.21400000000000002,
          0.22000000000000003,
          0.22000000000000003,
          0.21400000000000002,
          0.21000000000000002,
          0.2,
          0.20400000000000001,
          0.202,
          0.22200000000000003,
          0.21000000000000002,
          0.22599999999999998,
          0.21799999999999997,
          0.22200000000000003,
          0.22799999999999998,
          0.22800000000000004,
          0.22400000000000003,
          0.22199999999999998,
          0.22200000000000003,
          0.20800000000000002,
          0.20600000000000002,
          0.188,
          0.202,
          0.188,
          0.184,
          0.186,
          0.192,
          0.202,
          0.188,
          0.188,
          0.186,
          0.19,
          0.19,
          0.202,
          0.2,
          0.21200000000000002,
          0.21200000000000002,
          0.20400000000000001,
          0.22199999999999998,
          0.22400000000000003,
          0.23400000000000004,
          0.23399999999999999,
          0.22800000000000004,
          0.22599999999999998,
          0.22200000000000003,
          0.22400000000000003,
          0.22600000000000003,
          0.22600000000000003,
          0.22000000000000003,
          0.22799999999999998,
          0.21600000000000003,
          0.21800000000000003,
          0.22400000000000003,
          0.22000000000000003,
          0.22400000000000003,
          0.20800000000000002,
          0.202,
          0.21200000000000002,
          0.21600000000000003,
          0.21000000000000002,
          0.21800000000000003,
          0.22199999999999998,
          0.22000000000000003,
          0.22599999999999998,
          0.23200000000000004,
          0.25,
          0.262,
          0.266,
          0.264,
          0.266,
          0.25999999999999995,
          0.262,
          0.252,
          0.242,
          0.238,
          0.23199999999999998,
          0.21800000000000003,
          0.2,
          0.20400000000000001,
          0.21000000000000002,
          0.20600000000000002,
          0.21000000000000002,
          0.21000000000000002,
          0.20400000000000001,
          0.202,
          0.196,
          0.20400000000000001,
          0.202,
          0.188,
          0.17200000000000001,
          0.174,
          0.16599999999999998,
          0.17,
          0.19,
          0.188,
          0.2,
          0.198,
          0.21400000000000002,
          0.21399999999999997,
          0.22200000000000003,
          0.23199999999999998,
          0.22800000000000004,
          0.236,
          0.23800000000000004,
          0.24,
          0.23200000000000004,
          0.22999999999999998,
          0.22800000000000004,
          0.236,
          0.23199999999999998,
          0.23200000000000004,
          0.23399999999999999,
          0.23400000000000004,
          0.21999999999999997,
          0.21000000000000002,
          0.21600000000000003,
          0.22599999999999998,
          0.21400000000000002,
          0.21400000000000002,
          0.21400000000000002,
          0.20800000000000002,
          0.21000000000000002,
          0.2,
          0.20400000000000001,
          0.21200000000000002,
          0.198,
          0.184,
          0.19,
          0.194,
          0.192,
          0.19,
          0.186,
          0.194,
          0.192,
          0.194,
          0.21000000000000002,
          0.22000000000000003,
          0.21800000000000003,
          0.22199999999999998,
          0.23199999999999998,
          0.23600000000000004,
          0.236,
          0.22199999999999998,
          0.22999999999999998,
          0.238,
          0.22800000000000004,
          0.23199999999999998,
          0.22400000000000003,
          0.21200000000000002,
          0.21000000000000002,
          0.21200000000000002,
          0.21999999999999997,
          0.22000000000000003,
          0.21000000000000002,
          0.20400000000000001,
          0.21000000000000002,
          0.21000000000000002,
          0.22199999999999998,
          0.23400000000000004,
          0.23399999999999999,
          0.23400000000000004,
          0.22799999999999998,
          0.22799999999999998,
          0.22800000000000004,
          0.238,
          0.23600000000000004,
          0.22999999999999998,
          0.22200000000000003,
          0.21600000000000003,
          0.21400000000000002,
          0.21400000000000002,
          0.21999999999999997,
          0.23400000000000004,
          0.236,
          0.22599999999999998,
          0.22399999999999998,
          0.21599999999999997,
          0.23200000000000004,
          0.23199999999999998,
          0.23000000000000004,
          0.21799999999999997,
          0.21200000000000002,
          0.20600000000000002,
          0.20400000000000001,
          0.20600000000000002,
          0.20600000000000002,
          0.21200000000000002,
          0.2,
          0.194,
          0.194,
          0.20400000000000001,
          0.202,
          0.21000000000000002,
          0.21200000000000002,
          0.21200000000000002,
          0.20800000000000002,
          0.21000000000000002,
          0.20400000000000001,
          0.198,
          0.2,
          0.194,
          0.2,
          0.188,
          0.188,
          0.182,
          0.196,
          0.19,
          0.194,
          0.2,
          0.198,
          0.20800000000000002,
          0.20475000000000004
         ],
         "yaxis": "y"
        },
        {
         "hovertemplate": "variable=f1<br>index=%{x}<br>value=%{y}<extra></extra>",
         "legendgroup": "f1",
         "line": {
          "color": "#EF553B",
          "dash": "solid"
         },
         "mode": "lines",
         "name": "f1",
         "showlegend": true,
         "type": "scattergl",
         "x": [
          0,
          1,
          2,
          3,
          4,
          5,
          6,
          7,
          8,
          9,
          10,
          11,
          12,
          13,
          14,
          15,
          16,
          17,
          18,
          19,
          20,
          21,
          22,
          23,
          24,
          25,
          26,
          27,
          28,
          29,
          30,
          31,
          32,
          33,
          34,
          35,
          36,
          37,
          38,
          39,
          40,
          41,
          42,
          43,
          44,
          45,
          46,
          47,
          48,
          49,
          50,
          51,
          52,
          53,
          54,
          55,
          56,
          57,
          58,
          59,
          60,
          61,
          62,
          63,
          64,
          65,
          66,
          67,
          68,
          69,
          70,
          71,
          72,
          73,
          74,
          75,
          76,
          77,
          78,
          79,
          80,
          81,
          82,
          83,
          84,
          85,
          86,
          87,
          88,
          89,
          90,
          91,
          92,
          93,
          94,
          95,
          96,
          97,
          98,
          99,
          100,
          101,
          102,
          103,
          104,
          105,
          106,
          107,
          108,
          109,
          110,
          111,
          112,
          113,
          114,
          115,
          116,
          117,
          118,
          119,
          120,
          121,
          122,
          123,
          124,
          125,
          126,
          127,
          128,
          129,
          130,
          131,
          132,
          133,
          134,
          135,
          136,
          137,
          138,
          139,
          140,
          141,
          142,
          143,
          144,
          145,
          146,
          147,
          148,
          149,
          150,
          151,
          152,
          153,
          154,
          155,
          156,
          157,
          158,
          159,
          160,
          161,
          162,
          163,
          164,
          165,
          166,
          167,
          168,
          169,
          170,
          171,
          172,
          173,
          174,
          175,
          176,
          177,
          178,
          179,
          180,
          181,
          182,
          183,
          184,
          185,
          186,
          187,
          188,
          189,
          190,
          191,
          192,
          193,
          194,
          195,
          196,
          197,
          198,
          199,
          200,
          201,
          202,
          203,
          204,
          205,
          206,
          207,
          208,
          209,
          210,
          211,
          212,
          213,
          214,
          215,
          216,
          217,
          218,
          219,
          220,
          221,
          222,
          223,
          224,
          225,
          226,
          227,
          228,
          229,
          230,
          231,
          232,
          233,
          234,
          235,
          236,
          237,
          238,
          239,
          240,
          241,
          242,
          243,
          244,
          245,
          246,
          247,
          248,
          249,
          250,
          251,
          252,
          253,
          254,
          255,
          256,
          257,
          258,
          259,
          260,
          261,
          262,
          263,
          264,
          265,
          266,
          267,
          268,
          269,
          270,
          271,
          272,
          273,
          274,
          275,
          276,
          277,
          278,
          279,
          280,
          281,
          282,
          283,
          284,
          285,
          286,
          287,
          288,
          289
         ],
         "xaxis": "x",
         "y": [
          0.12960522712581538,
          0.1392656333862216,
          0.15568032980091803,
          0.1590219659425542,
          0.15975009859421624,
          0.15682402793285147,
          0.15453262521791933,
          0.1557847175700117,
          0.17455377073906486,
          0.18053914415477884,
          0.1855813519469866,
          0.1813792207448554,
          0.1892697191353538,
          0.1807165445321792,
          0.16689513391665095,
          0.1830289713210766,
          0.19400890641865876,
          0.1898826437923961,
          0.16160247951223183,
          0.16723653568653568,
          0.16500659895659894,
          0.15952890997890998,
          0.14610021122668182,
          0.15885879708526768,
          0.17352756622462503,
          0.15097826650473709,
          0.1533672513760749,
          0.15470895411777763,
          0.16522843463725817,
          0.15902115694762756,
          0.15643654156301215,
          0.16160840303487362,
          0.1591468253968254,
          0.1683375859434683,
          0.16600844841433077,
          0.17144178174766408,
          0.17755136660724896,
          0.1809877524436348,
          0.19765660058895354,
          0.19187100840336133,
          0.20564948548183842,
          0.2116950177273707,
          0.22160541843777137,
          0.20928804561451617,
          0.2018878493195831,
          0.21167118265291637,
          0.20237021793136342,
          0.2027929799646518,
          0.20271165540685665,
          0.22145864175384303,
          0.2105786883738896,
          0.20385104085800682,
          0.18339556300252896,
          0.17747879088575685,
          0.18536049514640848,
          0.17754534363125696,
          0.18337060072710226,
          0.1762257385717138,
          0.17011880237065996,
          0.16500125325311082,
          0.16753999229184985,
          0.18207405561414852,
          0.1913788175189104,
          0.203978551118644,
          0.2058063671622495,
          0.22001437582025818,
          0.22318935639523874,
          0.24184332464920702,
          0.2516392163392163,
          0.24403712953712953,
          0.2389075434369552,
          0.22862793415734592,
          0.24453887289181409,
          0.235873937826879,
          0.23939964545258663,
          0.22558349656879068,
          0.224234678067031,
          0.2048384057119351,
          0.20838821146174089,
          0.20940797503150446,
          0.21790619250031015,
          0.21984368801133508,
          0.21145655880067643,
          0.2092232254673431,
          0.19848858233269998,
          0.2035028997146644,
          0.20500736257206845,
          0.2278494113729408,
          0.2118804137039431,
          0.22426980764333707,
          0.2144174932910227,
          0.2145844266844267,
          0.22217172827172824,
          0.22034499944499947,
          0.21742912642912643,
          0.21551563991563988,
          0.2151223599929482,
          0.1953690205219617,
          0.1926713065400372,
          0.17719728056601122,
          0.1897660451347758,
          0.18046503503376568,
          0.17788084643254923,
          0.17910656515826795,
          0.1833551610068638,
          0.19140179215349495,
          0.17669455592567046,
          0.17762564836264527,
          0.17609702201822947,
          0.18065575217695962,
          0.1794542869754944,
          0.1887206206418281,
          0.18111232804003702,
          0.1967100636377726,
          0.19685945868716764,
          0.1941246823523913,
          0.21385980278751177,
          0.21961038814986183,
          0.22899756763704132,
          0.2255521130915868,
          0.2198895090289827,
          0.22066539980487349,
          0.22477158952158954,
          0.2236286358568967,
          0.22653237656063743,
          0.22173773786599874,
          0.21555559223385315,
          0.223335934114195,
          0.2128255223037832,
          0.21953331451157537,
          0.22454024091850178,
          0.22302451220277306,
          0.22216972254798342,
          0.20881968031968032,
          0.20291503385503384,
          0.2161464690864691,
          0.2189854895431366,
          0.21162358478123183,
          0.22083381665462162,
          0.222404113024918,
          0.22264403976484473,
          0.2250580202288252,
          0.23259245409561197,
          0.24869788200103987,
          0.26223556209871995,
          0.2664419113050692,
          0.26473613538164625,
          0.2663168435623544,
          0.25965051223286517,
          0.2603831416949064,
          0.2516614078731726,
          0.24140303846480315,
          0.23705138848080026,
          0.229883751439479,
          0.21718708144280902,
          0.19654350279923036,
          0.20253989529562286,
          0.20577183002755758,
          0.20096663522236277,
          0.20897770650402228,
          0.20800092772724352,
          0.20222185124816705,
          0.20012437650069229,
          0.19721191586191586,
          0.20092193917193915,
          0.19897893772893774,
          0.18275339660339662,
          0.16821804306804305,
          0.17138275613275614,
          0.16197922632922632,
          0.1663555167055167,
          0.18608581973581975,
          0.18425672105672106,
          0.19420385888621183,
          0.19461374899610193,
          0.21071376727847319,
          0.2112511410158469,
          0.21979962586433172,
          0.2292487434134493,
          0.22649101225571813,
          0.235309305074011,
          0.23913311459782047,
          0.23896892976304743,
          0.23295990382166853,
          0.22943960190136664,
          0.22766570194511374,
          0.2343486079280197,
          0.23237961025902204,
          0.2309450448244566,
          0.22991333405156938,
          0.2298525503907857,
          0.2136518177900531,
          0.20548678282501812,
          0.20694646425469956,
          0.2177016313098666,
          0.2036304191886545,
          0.20017730563554093,
          0.2003906110435832,
          0.19486986512283727,
          0.20013110192525052,
          0.18988013067427928,
          0.19484578723993584,
          0.20257733804207487,
          0.18837392811866496,
          0.1753852129123027,
          0.1844166797546391,
          0.19292230746026678,
          0.18990582744904996,
          0.18729563372120916,
          0.1824156803412558,
          0.19058697980202893,
          0.19050216788192292,
          0.1923608258905809,
          0.20802841059345972,
          0.21787417985687604,
          0.21571168130115498,
          0.22178982537929906,
          0.23718309877257243,
          0.23974693885405957,
          0.23701919992632065,
          0.2227346803523274,
          0.2324843607373019,
          0.23931050681344795,
          0.2304498818175289,
          0.23386185872950577,
          0.22484202464202463,
          0.2082729048729049,
          0.2013948495948496,
          0.20308821938295624,
          0.21019474618948303,
          0.21092557092030778,
          0.19603570523044206,
          0.19168423447897132,
          0.19712123081596766,
          0.1962857329804698,
          0.20783041052514734,
          0.22215148944622629,
          0.2202258484205853,
          0.2237620790973732,
          0.21927875131404542,
          0.21683164286693696,
          0.21736870580399997,
          0.22369642253171668,
          0.22389271279116482,
          0.21873109662954865,
          0.2095503288593072,
          0.20571972612870443,
          0.20469742620640458,
          0.2018188302925145,
          0.20849465446833867,
          0.2271847643584486,
          0.2274794474531317,
          0.22381832670253723,
          0.22219712801818065,
          0.2154200051410578,
          0.2308445513550777,
          0.22921130421006586,
          0.2246264446252062,
          0.2155074747062363,
          0.20642640022516184,
          0.1990030236017852,
          0.1985625581848492,
          0.19735084719202364,
          0.19360760938407995,
          0.19720462348109408,
          0.188309890436361,
          0.18463898617722146,
          0.18736444405267932,
          0.1945098985981339,
          0.1944608652785123,
          0.20233199414964123,
          0.20499394451437794,
          0.20558251607353775,
          0.2052907818359831,
          0.20756151110671234,
          0.19879159768679894,
          0.18929148843932125,
          0.19303053272836554,
          0.19024440251870592,
          0.1978795608244525,
          0.18445215489704653,
          0.18474328481975538,
          0.17883251225898283,
          0.1907646760016729,
          0.18295541859241551,
          0.1888509700997317,
          0.19832665932278937,
          0.19318365787978792,
          0.20080177832143775,
          0.19533362829407722
         ],
         "yaxis": "y"
        },
        {
         "hovertemplate": "variable=precision<br>index=%{x}<br>value=%{y}<extra></extra>",
         "legendgroup": "precision",
         "line": {
          "color": "#00cc96",
          "dash": "solid"
         },
         "mode": "lines",
         "name": "precision",
         "showlegend": true,
         "type": "scattergl",
         "x": [
          0,
          1,
          2,
          3,
          4,
          5,
          6,
          7,
          8,
          9,
          10,
          11,
          12,
          13,
          14,
          15,
          16,
          17,
          18,
          19,
          20,
          21,
          22,
          23,
          24,
          25,
          26,
          27,
          28,
          29,
          30,
          31,
          32,
          33,
          34,
          35,
          36,
          37,
          38,
          39,
          40,
          41,
          42,
          43,
          44,
          45,
          46,
          47,
          48,
          49,
          50,
          51,
          52,
          53,
          54,
          55,
          56,
          57,
          58,
          59,
          60,
          61,
          62,
          63,
          64,
          65,
          66,
          67,
          68,
          69,
          70,
          71,
          72,
          73,
          74,
          75,
          76,
          77,
          78,
          79,
          80,
          81,
          82,
          83,
          84,
          85,
          86,
          87,
          88,
          89,
          90,
          91,
          92,
          93,
          94,
          95,
          96,
          97,
          98,
          99,
          100,
          101,
          102,
          103,
          104,
          105,
          106,
          107,
          108,
          109,
          110,
          111,
          112,
          113,
          114,
          115,
          116,
          117,
          118,
          119,
          120,
          121,
          122,
          123,
          124,
          125,
          126,
          127,
          128,
          129,
          130,
          131,
          132,
          133,
          134,
          135,
          136,
          137,
          138,
          139,
          140,
          141,
          142,
          143,
          144,
          145,
          146,
          147,
          148,
          149,
          150,
          151,
          152,
          153,
          154,
          155,
          156,
          157,
          158,
          159,
          160,
          161,
          162,
          163,
          164,
          165,
          166,
          167,
          168,
          169,
          170,
          171,
          172,
          173,
          174,
          175,
          176,
          177,
          178,
          179,
          180,
          181,
          182,
          183,
          184,
          185,
          186,
          187,
          188,
          189,
          190,
          191,
          192,
          193,
          194,
          195,
          196,
          197,
          198,
          199,
          200,
          201,
          202,
          203,
          204,
          205,
          206,
          207,
          208,
          209,
          210,
          211,
          212,
          213,
          214,
          215,
          216,
          217,
          218,
          219,
          220,
          221,
          222,
          223,
          224,
          225,
          226,
          227,
          228,
          229,
          230,
          231,
          232,
          233,
          234,
          235,
          236,
          237,
          238,
          239,
          240,
          241,
          242,
          243,
          244,
          245,
          246,
          247,
          248,
          249,
          250,
          251,
          252,
          253,
          254,
          255,
          256,
          257,
          258,
          259,
          260,
          261,
          262,
          263,
          264,
          265,
          266,
          267,
          268,
          269,
          270,
          271,
          272,
          273,
          274,
          275,
          276,
          277,
          278,
          279,
          280,
          281,
          282,
          283,
          284,
          285,
          286,
          287,
          288,
          289
         ],
         "xaxis": "x",
         "y": [
          0.14543184038184037,
          0.15415803085803087,
          0.1729173382173382,
          0.1759125763125763,
          0.16841019536019536,
          0.17253717948717945,
          0.1704800366300366,
          0.1754800366300366,
          0.19738479853479854,
          0.21288223443223445,
          0.2217309523809524,
          0.21661190476190476,
          0.2244525974025974,
          0.21459069264069264,
          0.20147988677988676,
          0.21642433122433125,
          0.22812274392274393,
          0.22022787212787215,
          0.18656596736596737,
          0.18443869463869464,
          0.1819053613053613,
          0.17484345654345657,
          0.164898001998002,
          0.17830276390276392,
          0.19536356976356978,
          0.1655302364302364,
          0.16511198246198247,
          0.16649256854256853,
          0.1780481240981241,
          0.16905317460317462,
          0.16835317460317462,
          0.17839126984126982,
          0.17188015873015872,
          0.18513015873015873,
          0.18262063492063493,
          0.18858095238095238,
          0.2130055555555556,
          0.22858650793650792,
          0.2629461038961039,
          0.25621118326118325,
          0.26937784992784997,
          0.27342070707070704,
          0.2872762626262626,
          0.2745929292929293,
          0.26413261183261183,
          0.2731702741702741,
          0.24490995670995672,
          0.23617027417027417,
          0.22194083694083694,
          0.24106464646464643,
          0.23046464646464643,
          0.22466464646464646,
          0.19928210678210678,
          0.1911773448773449,
          0.19947056277056277,
          0.20386147186147188,
          0.21541702741702742,
          0.20786147186147189,
          0.20097575757575759,
          0.2020090909090909,
          0.21196464646464647,
          0.22972178932178933,
          0.2390075036075036,
          0.2502186147186147,
          0.2620301587301587,
          0.2712190476190476,
          0.27913333333333334,
          0.2982285714285714,
          0.3124571428571429,
          0.30484603174603175,
          0.29005714285714285,
          0.27892380952380946,
          0.30422619047619043,
          0.2948706349206349,
          0.2960357142857143,
          0.2757642857142857,
          0.268224358974359,
          0.2460576923076923,
          0.2530124542124542,
          0.24979499389499385,
          0.26376166056166056,
          0.26213741813741814,
          0.24699852924852922,
          0.247276307026307,
          0.2298667832167832,
          0.2366493228993229,
          0.23998448773448774,
          0.26720829725829726,
          0.24303448773448774,
          0.2545106782106782,
          0.2402313131313131,
          0.24843650793650793,
          0.26842539682539684,
          0.26500793650793647,
          0.26190793650793653,
          0.25988888888888884,
          0.2586269841269841,
          0.2314031746031746,
          0.227731746031746,
          0.21309365079365078,
          0.22658968253968254,
          0.2088087301587301,
          0.19572388167388166,
          0.19679848484848483,
          0.20770324675324675,
          0.2137655844155844,
          0.19542705627705625,
          0.1987422077922078,
          0.19906976911976912,
          0.20340310245310245,
          0.1992435786435786,
          0.2055411976911977,
          0.19369271284271283,
          0.22008556998557,
          0.2169641414141414,
          0.22737886002886004,
          0.2543932123432123,
          0.2669113941613942,
          0.28482907092907095,
          0.2788147852147852,
          0.27845764235764237,
          0.28457668997668994,
          0.3049211344211344,
          0.2955634421134421,
          0.2968483627483628,
          0.2808633699633699,
          0.2727065934065934,
          0.27912326007326005,
          0.25816056166056167,
          0.27063199023199025,
          0.2702557997557998,
          0.27026770451770454,
          0.2578565934065934,
          0.25042857142857144,
          0.2425088023088023,
          0.2595691197691198,
          0.2581492784992785,
          0.24703261183261188,
          0.25622784992784997,
          0.2544897546897547,
          0.2543945165945166,
          0.25514054834054833,
          0.2607021645021645,
          0.2680378787878788,
          0.28814090909090906,
          0.3020742424242424,
          0.3012369408369408,
          0.3031036075036075,
          0.30027344877344875,
          0.2999269286269286,
          0.2925650238650238,
          0.2832570873570873,
          0.28200023310023303,
          0.27439244089244086,
          0.25936156066156063,
          0.22463933843933842,
          0.23432981462981464,
          0.23893933843933843,
          0.22956095016095018,
          0.2477122322122322,
          0.24599318459318456,
          0.23537651792651793,
          0.22837175602175602,
          0.23174877899877896,
          0.23113925518925518,
          0.23279481074481073,
          0.21195671550671547,
          0.19363290598290597,
          0.19754621489621488,
          0.1800462148962149,
          0.18709383394383391,
          0.2145840936840937,
          0.21459275169275166,
          0.2235012987012987,
          0.22562907647907643,
          0.23880526695526694,
          0.2397671717171717,
          0.2526195526695526,
          0.2642108225108225,
          0.26144415584415587,
          0.2693378066378066,
          0.27456897546897546,
          0.27506984126984124,
          0.2671011544011544,
          0.2622170274170274,
          0.2694027417027417,
          0.2760575036075036,
          0.27301464646464646,
          0.2670582972582973,
          0.264936075036075,
          0.2651233766233766,
          0.23965194805194803,
          0.2313022533022533,
          0.2270407814407814,
          0.2389163225663226,
          0.21358472083472085,
          0.20904337884337884,
          0.21656242646242646,
          0.2148195693195693,
          0.23754179154179153,
          0.22646560106560107,
          0.23254179154179155,
          0.2385010101010101,
          0.2250089466089466,
          0.21183419913419912,
          0.22280389610389612,
          0.2334539682539683,
          0.22538730158730158,
          0.22051399711399716,
          0.20602106782106783,
          0.2156988455988456,
          0.22162265512265514,
          0.22413694083694083,
          0.24127344877344878,
          0.251205772005772,
          0.25107799422799426,
          0.25977900432900436,
          0.2862869408369408,
          0.2903380230880231,
          0.2790067765567765,
          0.2663670104749052,
          0.2754717723796671,
          0.2863384390463338,
          0.2759082803161751,
          0.28371636112425586,
          0.27524413890203364,
          0.2524843986422934,
          0.23207170022959497,
          0.232294899252794,
          0.24299136944926417,
          0.2421962148962149,
          0.22992478632478636,
          0.22121367521367521,
          0.22630891330891328,
          0.22153517593517594,
          0.23003041403041405,
          0.257098667998668,
          0.2560629537129537,
          0.2593603896103896,
          0.2508420634920635,
          0.24542063492063493,
          0.23974206349206345,
          0.24261984126984126,
          0.24460714285714286,
          0.23981825396825399,
          0.22995634920634922,
          0.22078333333333333,
          0.22274603174603175,
          0.21954300144300146,
          0.2283176046176046,
          0.2558128427128427,
          0.25279141414141415,
          0.2551136363636363,
          0.25700295815295815,
          0.26051507936507934,
          0.281534126984127,
          0.27538174603174603,
          0.26461190476190477,
          0.25918001443001437,
          0.2468657287157287,
          0.23796017316017318,
          0.24964430014430014,
          0.2547204906204906,
          0.24561370851370853,
          0.23656825396825396,
          0.22299841269841267,
          0.2340269841269841,
          0.23722222222222217,
          0.24149754689754693,
          0.242040404040404,
          0.24659595959595962,
          0.239023088023088,
          0.24011515151515148,
          0.24228816738816739,
          0.2476691197691198,
          0.2379707070707071,
          0.21603261183261183,
          0.2243040404040404,
          0.22336204906204907,
          0.23563823953823954,
          0.22162157287157286,
          0.22584126984126981,
          0.21960028860028857,
          0.23484387834387835,
          0.22197208347208344,
          0.22858160728160729,
          0.24176414696414694,
          0.23116414696414694,
          0.23911652791652793,
          0.23314688505938505
         ],
         "yaxis": "y"
        },
        {
         "hovertemplate": "variable=recall<br>index=%{x}<br>value=%{y}<extra></extra>",
         "legendgroup": "recall",
         "line": {
          "color": "#ab63fa",
          "dash": "solid"
         },
         "mode": "lines",
         "name": "recall",
         "showlegend": true,
         "type": "scattergl",
         "x": [
          0,
          1,
          2,
          3,
          4,
          5,
          6,
          7,
          8,
          9,
          10,
          11,
          12,
          13,
          14,
          15,
          16,
          17,
          18,
          19,
          20,
          21,
          22,
          23,
          24,
          25,
          26,
          27,
          28,
          29,
          30,
          31,
          32,
          33,
          34,
          35,
          36,
          37,
          38,
          39,
          40,
          41,
          42,
          43,
          44,
          45,
          46,
          47,
          48,
          49,
          50,
          51,
          52,
          53,
          54,
          55,
          56,
          57,
          58,
          59,
          60,
          61,
          62,
          63,
          64,
          65,
          66,
          67,
          68,
          69,
          70,
          71,
          72,
          73,
          74,
          75,
          76,
          77,
          78,
          79,
          80,
          81,
          82,
          83,
          84,
          85,
          86,
          87,
          88,
          89,
          90,
          91,
          92,
          93,
          94,
          95,
          96,
          97,
          98,
          99,
          100,
          101,
          102,
          103,
          104,
          105,
          106,
          107,
          108,
          109,
          110,
          111,
          112,
          113,
          114,
          115,
          116,
          117,
          118,
          119,
          120,
          121,
          122,
          123,
          124,
          125,
          126,
          127,
          128,
          129,
          130,
          131,
          132,
          133,
          134,
          135,
          136,
          137,
          138,
          139,
          140,
          141,
          142,
          143,
          144,
          145,
          146,
          147,
          148,
          149,
          150,
          151,
          152,
          153,
          154,
          155,
          156,
          157,
          158,
          159,
          160,
          161,
          162,
          163,
          164,
          165,
          166,
          167,
          168,
          169,
          170,
          171,
          172,
          173,
          174,
          175,
          176,
          177,
          178,
          179,
          180,
          181,
          182,
          183,
          184,
          185,
          186,
          187,
          188,
          189,
          190,
          191,
          192,
          193,
          194,
          195,
          196,
          197,
          198,
          199,
          200,
          201,
          202,
          203,
          204,
          205,
          206,
          207,
          208,
          209,
          210,
          211,
          212,
          213,
          214,
          215,
          216,
          217,
          218,
          219,
          220,
          221,
          222,
          223,
          224,
          225,
          226,
          227,
          228,
          229,
          230,
          231,
          232,
          233,
          234,
          235,
          236,
          237,
          238,
          239,
          240,
          241,
          242,
          243,
          244,
          245,
          246,
          247,
          248,
          249,
          250,
          251,
          252,
          253,
          254,
          255,
          256,
          257,
          258,
          259,
          260,
          261,
          262,
          263,
          264,
          265,
          266,
          267,
          268,
          269,
          270,
          271,
          272,
          273,
          274,
          275,
          276,
          277,
          278,
          279,
          280,
          281,
          282,
          283,
          284,
          285,
          286,
          287,
          288,
          289
         ],
         "xaxis": "x",
         "y": [
          0.13999999999999999,
          0.15199999999999997,
          0.16799999999999998,
          0.174,
          0.178,
          0.172,
          0.16799999999999998,
          0.16999999999999998,
          0.188,
          0.192,
          0.192,
          0.186,
          0.192,
          0.182,
          0.166,
          0.186,
          0.198,
          0.194,
          0.16799999999999998,
          0.17400000000000002,
          0.172,
          0.16799999999999998,
          0.152,
          0.166,
          0.18,
          0.156,
          0.162,
          0.16199999999999998,
          0.17400000000000002,
          0.16799999999999998,
          0.16599999999999998,
          0.17,
          0.16999999999999998,
          0.176,
          0.174,
          0.18,
          0.178,
          0.184,
          0.196,
          0.192,
          0.20600000000000002,
          0.21200000000000002,
          0.22000000000000003,
          0.21000000000000002,
          0.20400000000000001,
          0.21400000000000002,
          0.21200000000000002,
          0.21000000000000002,
          0.21200000000000002,
          0.22999999999999998,
          0.21600000000000003,
          0.21000000000000002,
          0.192,
          0.186,
          0.196,
          0.186,
          0.19,
          0.182,
          0.176,
          0.16799999999999998,
          0.174,
          0.188,
          0.2,
          0.21200000000000002,
          0.21000000000000002,
          0.22599999999999998,
          0.22599999999999998,
          0.24400000000000005,
          0.254,
          0.25000000000000006,
          0.244,
          0.23600000000000004,
          0.248,
          0.24,
          0.24400000000000005,
          0.23000000000000004,
          0.23400000000000004,
          0.21600000000000003,
          0.21600000000000003,
          0.21400000000000002,
          0.22000000000000003,
          0.22000000000000003,
          0.21400000000000002,
          0.21000000000000002,
          0.2,
          0.20400000000000001,
          0.202,
          0.22200000000000003,
          0.21000000000000002,
          0.22599999999999998,
          0.21799999999999997,
          0.22200000000000003,
          0.22799999999999998,
          0.22800000000000004,
          0.22400000000000003,
          0.22199999999999998,
          0.22200000000000003,
          0.20800000000000002,
          0.20600000000000002,
          0.188,
          0.202,
          0.188,
          0.184,
          0.186,
          0.192,
          0.202,
          0.188,
          0.188,
          0.186,
          0.19,
          0.19,
          0.202,
          0.2,
          0.21200000000000002,
          0.21200000000000002,
          0.20400000000000001,
          0.22199999999999998,
          0.22400000000000003,
          0.23400000000000004,
          0.23399999999999999,
          0.22800000000000004,
          0.22599999999999998,
          0.22200000000000003,
          0.22400000000000003,
          0.22600000000000003,
          0.22600000000000003,
          0.22000000000000003,
          0.22799999999999998,
          0.21600000000000003,
          0.21800000000000003,
          0.22400000000000003,
          0.22000000000000003,
          0.22400000000000003,
          0.20800000000000002,
          0.202,
          0.21200000000000002,
          0.21600000000000003,
          0.21000000000000002,
          0.21800000000000003,
          0.22199999999999998,
          0.22000000000000003,
          0.22599999999999998,
          0.23200000000000004,
          0.25,
          0.262,
          0.266,
          0.264,
          0.266,
          0.25999999999999995,
          0.262,
          0.252,
          0.242,
          0.238,
          0.23199999999999998,
          0.21800000000000003,
          0.2,
          0.20400000000000001,
          0.21000000000000002,
          0.20600000000000002,
          0.21000000000000002,
          0.21000000000000002,
          0.20400000000000001,
          0.202,
          0.196,
          0.20400000000000001,
          0.202,
          0.188,
          0.17200000000000001,
          0.174,
          0.16599999999999998,
          0.17,
          0.19,
          0.188,
          0.2,
          0.198,
          0.21400000000000002,
          0.21399999999999997,
          0.22200000000000003,
          0.23199999999999998,
          0.22800000000000004,
          0.236,
          0.23800000000000004,
          0.24,
          0.23200000000000004,
          0.22999999999999998,
          0.22800000000000004,
          0.236,
          0.23199999999999998,
          0.23200000000000004,
          0.23399999999999999,
          0.23400000000000004,
          0.21999999999999997,
          0.21000000000000002,
          0.21600000000000003,
          0.22599999999999998,
          0.21400000000000002,
          0.21400000000000002,
          0.21400000000000002,
          0.20800000000000002,
          0.21000000000000002,
          0.2,
          0.20400000000000001,
          0.21200000000000002,
          0.198,
          0.184,
          0.19,
          0.194,
          0.192,
          0.19,
          0.186,
          0.194,
          0.192,
          0.194,
          0.21000000000000002,
          0.22000000000000003,
          0.21800000000000003,
          0.22199999999999998,
          0.23199999999999998,
          0.23600000000000004,
          0.236,
          0.22199999999999998,
          0.22999999999999998,
          0.238,
          0.22800000000000004,
          0.23199999999999998,
          0.22400000000000003,
          0.21200000000000002,
          0.21000000000000002,
          0.21200000000000002,
          0.21999999999999997,
          0.22000000000000003,
          0.21000000000000002,
          0.20400000000000001,
          0.21000000000000002,
          0.21000000000000002,
          0.22199999999999998,
          0.23400000000000004,
          0.23399999999999999,
          0.23400000000000004,
          0.22799999999999998,
          0.22799999999999998,
          0.22800000000000004,
          0.238,
          0.23600000000000004,
          0.22999999999999998,
          0.22200000000000003,
          0.21600000000000003,
          0.21400000000000002,
          0.21400000000000002,
          0.21999999999999997,
          0.23400000000000004,
          0.236,
          0.22599999999999998,
          0.22399999999999998,
          0.21599999999999997,
          0.23200000000000004,
          0.23199999999999998,
          0.23000000000000004,
          0.21799999999999997,
          0.21200000000000002,
          0.20600000000000002,
          0.20400000000000001,
          0.20600000000000002,
          0.20600000000000002,
          0.21200000000000002,
          0.2,
          0.194,
          0.194,
          0.20400000000000001,
          0.202,
          0.21000000000000002,
          0.21200000000000002,
          0.21200000000000002,
          0.20800000000000002,
          0.21000000000000002,
          0.20400000000000001,
          0.198,
          0.2,
          0.194,
          0.2,
          0.188,
          0.188,
          0.182,
          0.196,
          0.19,
          0.194,
          0.2,
          0.198,
          0.20800000000000002,
          0.20475000000000004
         ],
         "yaxis": "y"
        }
       ],
       "layout": {
        "legend": {
         "title": {
          "text": "variable"
         },
         "tracegroupgap": 0
        },
        "margin": {
         "t": 60
        },
        "template": {
         "data": {
          "bar": [
           {
            "error_x": {
             "color": "#2a3f5f"
            },
            "error_y": {
             "color": "#2a3f5f"
            },
            "marker": {
             "line": {
              "color": "#E5ECF6",
              "width": 0.5
             }
            },
            "type": "bar"
           }
          ],
          "barpolar": [
           {
            "marker": {
             "line": {
              "color": "#E5ECF6",
              "width": 0.5
             }
            },
            "type": "barpolar"
           }
          ],
          "carpet": [
           {
            "aaxis": {
             "endlinecolor": "#2a3f5f",
             "gridcolor": "white",
             "linecolor": "white",
             "minorgridcolor": "white",
             "startlinecolor": "#2a3f5f"
            },
            "baxis": {
             "endlinecolor": "#2a3f5f",
             "gridcolor": "white",
             "linecolor": "white",
             "minorgridcolor": "white",
             "startlinecolor": "#2a3f5f"
            },
            "type": "carpet"
           }
          ],
          "choropleth": [
           {
            "colorbar": {
             "outlinewidth": 0,
             "ticks": ""
            },
            "type": "choropleth"
           }
          ],
          "contour": [
           {
            "colorbar": {
             "outlinewidth": 0,
             "ticks": ""
            },
            "colorscale": [
             [
              0,
              "#0d0887"
             ],
             [
              0.1111111111111111,
              "#46039f"
             ],
             [
              0.2222222222222222,
              "#7201a8"
             ],
             [
              0.3333333333333333,
              "#9c179e"
             ],
             [
              0.4444444444444444,
              "#bd3786"
             ],
             [
              0.5555555555555556,
              "#d8576b"
             ],
             [
              0.6666666666666666,
              "#ed7953"
             ],
             [
              0.7777777777777778,
              "#fb9f3a"
             ],
             [
              0.8888888888888888,
              "#fdca26"
             ],
             [
              1,
              "#f0f921"
             ]
            ],
            "type": "contour"
           }
          ],
          "contourcarpet": [
           {
            "colorbar": {
             "outlinewidth": 0,
             "ticks": ""
            },
            "type": "contourcarpet"
           }
          ],
          "heatmap": [
           {
            "colorbar": {
             "outlinewidth": 0,
             "ticks": ""
            },
            "colorscale": [
             [
              0,
              "#0d0887"
             ],
             [
              0.1111111111111111,
              "#46039f"
             ],
             [
              0.2222222222222222,
              "#7201a8"
             ],
             [
              0.3333333333333333,
              "#9c179e"
             ],
             [
              0.4444444444444444,
              "#bd3786"
             ],
             [
              0.5555555555555556,
              "#d8576b"
             ],
             [
              0.6666666666666666,
              "#ed7953"
             ],
             [
              0.7777777777777778,
              "#fb9f3a"
             ],
             [
              0.8888888888888888,
              "#fdca26"
             ],
             [
              1,
              "#f0f921"
             ]
            ],
            "type": "heatmap"
           }
          ],
          "heatmapgl": [
           {
            "colorbar": {
             "outlinewidth": 0,
             "ticks": ""
            },
            "colorscale": [
             [
              0,
              "#0d0887"
             ],
             [
              0.1111111111111111,
              "#46039f"
             ],
             [
              0.2222222222222222,
              "#7201a8"
             ],
             [
              0.3333333333333333,
              "#9c179e"
             ],
             [
              0.4444444444444444,
              "#bd3786"
             ],
             [
              0.5555555555555556,
              "#d8576b"
             ],
             [
              0.6666666666666666,
              "#ed7953"
             ],
             [
              0.7777777777777778,
              "#fb9f3a"
             ],
             [
              0.8888888888888888,
              "#fdca26"
             ],
             [
              1,
              "#f0f921"
             ]
            ],
            "type": "heatmapgl"
           }
          ],
          "histogram": [
           {
            "marker": {
             "colorbar": {
              "outlinewidth": 0,
              "ticks": ""
             }
            },
            "type": "histogram"
           }
          ],
          "histogram2d": [
           {
            "colorbar": {
             "outlinewidth": 0,
             "ticks": ""
            },
            "colorscale": [
             [
              0,
              "#0d0887"
             ],
             [
              0.1111111111111111,
              "#46039f"
             ],
             [
              0.2222222222222222,
              "#7201a8"
             ],
             [
              0.3333333333333333,
              "#9c179e"
             ],
             [
              0.4444444444444444,
              "#bd3786"
             ],
             [
              0.5555555555555556,
              "#d8576b"
             ],
             [
              0.6666666666666666,
              "#ed7953"
             ],
             [
              0.7777777777777778,
              "#fb9f3a"
             ],
             [
              0.8888888888888888,
              "#fdca26"
             ],
             [
              1,
              "#f0f921"
             ]
            ],
            "type": "histogram2d"
           }
          ],
          "histogram2dcontour": [
           {
            "colorbar": {
             "outlinewidth": 0,
             "ticks": ""
            },
            "colorscale": [
             [
              0,
              "#0d0887"
             ],
             [
              0.1111111111111111,
              "#46039f"
             ],
             [
              0.2222222222222222,
              "#7201a8"
             ],
             [
              0.3333333333333333,
              "#9c179e"
             ],
             [
              0.4444444444444444,
              "#bd3786"
             ],
             [
              0.5555555555555556,
              "#d8576b"
             ],
             [
              0.6666666666666666,
              "#ed7953"
             ],
             [
              0.7777777777777778,
              "#fb9f3a"
             ],
             [
              0.8888888888888888,
              "#fdca26"
             ],
             [
              1,
              "#f0f921"
             ]
            ],
            "type": "histogram2dcontour"
           }
          ],
          "mesh3d": [
           {
            "colorbar": {
             "outlinewidth": 0,
             "ticks": ""
            },
            "type": "mesh3d"
           }
          ],
          "parcoords": [
           {
            "line": {
             "colorbar": {
              "outlinewidth": 0,
              "ticks": ""
             }
            },
            "type": "parcoords"
           }
          ],
          "pie": [
           {
            "automargin": true,
            "type": "pie"
           }
          ],
          "scatter": [
           {
            "marker": {
             "colorbar": {
              "outlinewidth": 0,
              "ticks": ""
             }
            },
            "type": "scatter"
           }
          ],
          "scatter3d": [
           {
            "line": {
             "colorbar": {
              "outlinewidth": 0,
              "ticks": ""
             }
            },
            "marker": {
             "colorbar": {
              "outlinewidth": 0,
              "ticks": ""
             }
            },
            "type": "scatter3d"
           }
          ],
          "scattercarpet": [
           {
            "marker": {
             "colorbar": {
              "outlinewidth": 0,
              "ticks": ""
             }
            },
            "type": "scattercarpet"
           }
          ],
          "scattergeo": [
           {
            "marker": {
             "colorbar": {
              "outlinewidth": 0,
              "ticks": ""
             }
            },
            "type": "scattergeo"
           }
          ],
          "scattergl": [
           {
            "marker": {
             "colorbar": {
              "outlinewidth": 0,
              "ticks": ""
             }
            },
            "type": "scattergl"
           }
          ],
          "scattermapbox": [
           {
            "marker": {
             "colorbar": {
              "outlinewidth": 0,
              "ticks": ""
             }
            },
            "type": "scattermapbox"
           }
          ],
          "scatterpolar": [
           {
            "marker": {
             "colorbar": {
              "outlinewidth": 0,
              "ticks": ""
             }
            },
            "type": "scatterpolar"
           }
          ],
          "scatterpolargl": [
           {
            "marker": {
             "colorbar": {
              "outlinewidth": 0,
              "ticks": ""
             }
            },
            "type": "scatterpolargl"
           }
          ],
          "scatterternary": [
           {
            "marker": {
             "colorbar": {
              "outlinewidth": 0,
              "ticks": ""
             }
            },
            "type": "scatterternary"
           }
          ],
          "surface": [
           {
            "colorbar": {
             "outlinewidth": 0,
             "ticks": ""
            },
            "colorscale": [
             [
              0,
              "#0d0887"
             ],
             [
              0.1111111111111111,
              "#46039f"
             ],
             [
              0.2222222222222222,
              "#7201a8"
             ],
             [
              0.3333333333333333,
              "#9c179e"
             ],
             [
              0.4444444444444444,
              "#bd3786"
             ],
             [
              0.5555555555555556,
              "#d8576b"
             ],
             [
              0.6666666666666666,
              "#ed7953"
             ],
             [
              0.7777777777777778,
              "#fb9f3a"
             ],
             [
              0.8888888888888888,
              "#fdca26"
             ],
             [
              1,
              "#f0f921"
             ]
            ],
            "type": "surface"
           }
          ],
          "table": [
           {
            "cells": {
             "fill": {
              "color": "#EBF0F8"
             },
             "line": {
              "color": "white"
             }
            },
            "header": {
             "fill": {
              "color": "#C8D4E3"
             },
             "line": {
              "color": "white"
             }
            },
            "type": "table"
           }
          ]
         },
         "layout": {
          "annotationdefaults": {
           "arrowcolor": "#2a3f5f",
           "arrowhead": 0,
           "arrowwidth": 1
          },
          "autotypenumbers": "strict",
          "coloraxis": {
           "colorbar": {
            "outlinewidth": 0,
            "ticks": ""
           }
          },
          "colorscale": {
           "diverging": [
            [
             0,
             "#8e0152"
            ],
            [
             0.1,
             "#c51b7d"
            ],
            [
             0.2,
             "#de77ae"
            ],
            [
             0.3,
             "#f1b6da"
            ],
            [
             0.4,
             "#fde0ef"
            ],
            [
             0.5,
             "#f7f7f7"
            ],
            [
             0.6,
             "#e6f5d0"
            ],
            [
             0.7,
             "#b8e186"
            ],
            [
             0.8,
             "#7fbc41"
            ],
            [
             0.9,
             "#4d9221"
            ],
            [
             1,
             "#276419"
            ]
           ],
           "sequential": [
            [
             0,
             "#0d0887"
            ],
            [
             0.1111111111111111,
             "#46039f"
            ],
            [
             0.2222222222222222,
             "#7201a8"
            ],
            [
             0.3333333333333333,
             "#9c179e"
            ],
            [
             0.4444444444444444,
             "#bd3786"
            ],
            [
             0.5555555555555556,
             "#d8576b"
            ],
            [
             0.6666666666666666,
             "#ed7953"
            ],
            [
             0.7777777777777778,
             "#fb9f3a"
            ],
            [
             0.8888888888888888,
             "#fdca26"
            ],
            [
             1,
             "#f0f921"
            ]
           ],
           "sequentialminus": [
            [
             0,
             "#0d0887"
            ],
            [
             0.1111111111111111,
             "#46039f"
            ],
            [
             0.2222222222222222,
             "#7201a8"
            ],
            [
             0.3333333333333333,
             "#9c179e"
            ],
            [
             0.4444444444444444,
             "#bd3786"
            ],
            [
             0.5555555555555556,
             "#d8576b"
            ],
            [
             0.6666666666666666,
             "#ed7953"
            ],
            [
             0.7777777777777778,
             "#fb9f3a"
            ],
            [
             0.8888888888888888,
             "#fdca26"
            ],
            [
             1,
             "#f0f921"
            ]
           ]
          },
          "colorway": [
           "#636efa",
           "#EF553B",
           "#00cc96",
           "#ab63fa",
           "#FFA15A",
           "#19d3f3",
           "#FF6692",
           "#B6E880",
           "#FF97FF",
           "#FECB52"
          ],
          "font": {
           "color": "#2a3f5f"
          },
          "geo": {
           "bgcolor": "white",
           "lakecolor": "white",
           "landcolor": "#E5ECF6",
           "showlakes": true,
           "showland": true,
           "subunitcolor": "white"
          },
          "hoverlabel": {
           "align": "left"
          },
          "hovermode": "closest",
          "mapbox": {
           "style": "light"
          },
          "paper_bgcolor": "white",
          "plot_bgcolor": "#E5ECF6",
          "polar": {
           "angularaxis": {
            "gridcolor": "white",
            "linecolor": "white",
            "ticks": ""
           },
           "bgcolor": "#E5ECF6",
           "radialaxis": {
            "gridcolor": "white",
            "linecolor": "white",
            "ticks": ""
           }
          },
          "scene": {
           "xaxis": {
            "backgroundcolor": "#E5ECF6",
            "gridcolor": "white",
            "gridwidth": 2,
            "linecolor": "white",
            "showbackground": true,
            "ticks": "",
            "zerolinecolor": "white"
           },
           "yaxis": {
            "backgroundcolor": "#E5ECF6",
            "gridcolor": "white",
            "gridwidth": 2,
            "linecolor": "white",
            "showbackground": true,
            "ticks": "",
            "zerolinecolor": "white"
           },
           "zaxis": {
            "backgroundcolor": "#E5ECF6",
            "gridcolor": "white",
            "gridwidth": 2,
            "linecolor": "white",
            "showbackground": true,
            "ticks": "",
            "zerolinecolor": "white"
           }
          },
          "shapedefaults": {
           "line": {
            "color": "#2a3f5f"
           }
          },
          "ternary": {
           "aaxis": {
            "gridcolor": "white",
            "linecolor": "white",
            "ticks": ""
           },
           "baxis": {
            "gridcolor": "white",
            "linecolor": "white",
            "ticks": ""
           },
           "bgcolor": "#E5ECF6",
           "caxis": {
            "gridcolor": "white",
            "linecolor": "white",
            "ticks": ""
           }
          },
          "title": {
           "x": 0.05
          },
          "xaxis": {
           "automargin": true,
           "gridcolor": "white",
           "linecolor": "white",
           "ticks": "",
           "title": {
            "standoff": 15
           },
           "zerolinecolor": "white",
           "zerolinewidth": 2
          },
          "yaxis": {
           "automargin": true,
           "gridcolor": "white",
           "linecolor": "white",
           "ticks": "",
           "title": {
            "standoff": 15
           },
           "zerolinecolor": "white",
           "zerolinewidth": 2
          }
         }
        },
        "xaxis": {
         "anchor": "y",
         "domain": [
          0,
          1
         ],
         "title": {
          "text": "index"
         }
        },
        "yaxis": {
         "anchor": "x",
         "domain": [
          0,
          1
         ],
         "title": {
          "text": "value"
         }
        }
       }
      }
     },
     "metadata": {}
    }
   ],
   "source": [
    "\n",
    "fig = px.line(df)\n",
    "fig.show()"
   ]
  },
  {
   "source": [
    "### FIRES Framework"
   ],
   "cell_type": "markdown",
   "metadata": {}
  },
  {
   "cell_type": "code",
   "execution_count": 49,
   "metadata": {},
   "outputs": [
    {
     "output_type": "execute_result",
     "data": {
      "text/plain": [
       "PerceptronMask(alpha=0.0001, class_weight=None, early_stopping=False, eta0=1.0,\n",
       "               fit_intercept=True, max_iter=1000, n_iter_no_change=5,\n",
       "               n_jobs=None, penalty=None, random_state=0, shuffle=True,\n",
       "               tol=0.001, validation_fraction=0.1, verbose=0, warm_start=False)"
      ]
     },
     "metadata": {},
     "execution_count": 49
    }
   ],
   "source": [
    "stream.restart()\n",
    "if pred_algo ==\"perceptron\":\n",
    "    predictor = PerceptronMask()\n",
    "elif pred_algo == \"hoeffding\":\n",
    "    predictor = HoeffdingTreeClassifier(leaf_prediction=\"mc\")\n",
    "elif pred_algo == 'fast_decision':\n",
    "    predictor = ExtremelyFastDecisionTreeClassifier(split_criterion=\"info_gain\", split_confidence=0.0001, leaf_prediction=\"mc\")\n",
    "x,y = stream.next_sample(batch_size=batch_size)\n",
    "predictor.partial_fit(x,y, stream.target_values)"
   ]
  },
  {
   "cell_type": "code",
   "execution_count": 50,
   "metadata": {},
   "outputs": [],
   "source": [
    "fires_model = FIRES(n_total_ftr=stream.n_features,\n",
    "                    target_values=stream.target_values,\n",
    "                    mu_init=0,\n",
    "                    sigma_init=1,\n",
    "                    model='softmax',\n",
    "                    class_probabilities=weights)               "
   ]
  },
  {
   "cell_type": "code",
   "execution_count": 51,
   "metadata": {
    "tags": []
   },
   "outputs": [
    {
     "output_type": "stream",
     "name": "stdout",
     "text": [
      "The whole FIRES run took 6.727390777999972\n"
     ]
    }
   ],
   "source": [
    "fires_cuda_accuracy = []\n",
    "fires_f1 = []\n",
    "fires_cuda_times = []\n",
    "\n",
    "fires_cuda_selected_ftrs = []\n",
    "fires_cuda_stability = []\n",
    "\n",
    "start_time_all = timer()\n",
    "while stream.has_more_samples():\n",
    "    # Load a new sample\n",
    "    x, y = stream.next_sample(batch_size=batch_size)\n",
    "    # Select features\n",
    "    start_time = timer()\n",
    "    ftr_weights = fires_model.weigh_features(x,y)\n",
    "    ftr_selection = np.argsort(ftr_weights)[::-1][:n_selected_ftr]\n",
    "    fires_cuda_times.append(timer()-start_time)\n",
    "\n",
    "    # Truncate x (retain only selected features, 'remove' all others, e.g. by replacing them with 0)\n",
    "    x_reduced = np.zeros(x.shape)\n",
    "    x_reduced[:, ftr_selection] = x[:, ftr_selection]\n",
    "\n",
    "    # stability test\n",
    "    ftr_array = np.zeros(stream.n_features)\n",
    "    ftr_array[ftr_selection] = 1\n",
    "    fires_cuda_selected_ftrs.append(ftr_array)\n",
    "\n",
    "    if len(fires_cuda_selected_ftrs) >= 10:\n",
    "        stability = stability_factor(fires_cuda_selected_ftrs[-10:])\n",
    "        fires_cuda_stability.append(stability)\n",
    "\n",
    "\n",
    "    # Test\n",
    "    y_pred = predictor.predict(x_reduced)\n",
    "    \n",
    "    fires_cuda_accuracy.append(accuracy_score(y, y_pred))\n",
    "    fires_f1.append(f1_score(y, y_pred, average=\"weighted\",\n",
    "    labels=stream.target_values))\n",
    "\n",
    "\n",
    "    # Train\n",
    "    predictor.partial_fit(x_reduced, y)\n",
    "\n",
    "# Restart the FileStream\n",
    "end_time_all = timer()\n",
    "fires_cuda_run_time = timer() - start_time_all\n",
    "print(\"The whole FIRES run took {}\".format(fires_cuda_run_time))\n",
    "\n",
    "fires_moving_average = pd.Series(fires_cuda_accuracy).rolling(window=n_window).mean().iloc[n_window-1:].values\n",
    "fires_f1 = pd.Series(fires_f1).rolling(window=n_window).mean().iloc[n_window-1:].values\n",
    "\n",
    "if dataset_name == \"mnist\" or dataset_name == \"mnist_norm\":\n",
    "    selection_array = np.zeros((784))\n",
    "    selection_array[ftr_selection] = 1\n",
    "    mnist_fig_fires = paint_digit(selection_array)\n"
   ]
  },
  {
   "cell_type": "code",
   "execution_count": 52,
   "metadata": {},
   "outputs": [
    {
     "output_type": "stream",
     "name": "stdout",
     "text": [
      "FIRES found 10.588235294117647% of the true informative features.\n"
     ]
    }
   ],
   "source": [
    "if check_ftrs:\n",
    "    true_selected_ftr = set(ftr_selection)&set(true_ftrs)\n",
    "    fires_perc_ftr_found = len(true_selected_ftr) / len(true_ftrs) * 100\n",
    "    print(\"FIRES found {}% of the true informative features.\".format(fires_perc_ftr_found))"
   ]
  },
  {
   "cell_type": "code",
   "execution_count": 53,
   "metadata": {},
   "outputs": [
    {
     "output_type": "stream",
     "name": "stdout",
     "text": [
      "For the test dataset the previous trained predictor reached: 0.176\n"
     ]
    }
   ],
   "source": [
    "test_x_selected = np.zeros(test_x.shape)\n",
    "test_x_selected[:,ftr_selection] = test_x[:,ftr_selection]\n",
    "y_pred = predictor.predict(test_x)\n",
    "accuracy_fires = accuracy_score(test_y, y_pred)\n",
    "print(\"For the test dataset the previous trained predictor reached: {}\".format(accuracy_fires))"
   ]
  },
  {
   "source": [
    "### FSDS algorithm\n"
   ],
   "cell_type": "markdown",
   "metadata": {}
  },
  {
   "cell_type": "code",
   "execution_count": 54,
   "metadata": {},
   "outputs": [
    {
     "output_type": "execute_result",
     "data": {
      "text/plain": [
       "PerceptronMask(alpha=0.0001, class_weight=None, early_stopping=False, eta0=1.0,\n",
       "               fit_intercept=True, max_iter=1000, n_iter_no_change=5,\n",
       "               n_jobs=None, penalty=None, random_state=0, shuffle=True,\n",
       "               tol=0.001, validation_fraction=0.1, verbose=0, warm_start=False)"
      ]
     },
     "metadata": {},
     "execution_count": 54
    }
   ],
   "source": [
    "stream.restart()\n",
    "if pred_algo ==\"perceptron\":\n",
    "    predictor = PerceptronMask()\n",
    "elif pred_algo == \"hoeffding\":\n",
    "    predictor = HoeffdingTreeClassifier(leaf_prediction=\"mc\")\n",
    "elif pred_algo == 'fast_decision':\n",
    "    predictor = ExtremelyFastDecisionTreeClassifier(split_criterion=\"info_gain\", split_confidence=0.0001, leaf_prediction=\"mc\")\n",
    "x,y = stream.next_sample(batch_size=batch_size)\n",
    "predictor.partial_fit(x,y, stream.target_values)"
   ]
  },
  {
   "cell_type": "code",
   "execution_count": 55,
   "metadata": {
    "tags": []
   },
   "outputs": [
    {
     "output_type": "stream",
     "name": "stdout",
     "text": [
      "The whole fsds run took 2.6712729170003513\n"
     ]
    }
   ],
   "source": [
    "fsds_model = StreamFeatWeight(m=stream.n_features, k=stream.n_classes)\n",
    "fsds_model.low_rank_approximation(x.T) # needs some pretraining in the first run\n",
    "\n",
    "fsds_selected_ftrs = []\n",
    "fsds_stability = []\n",
    "\n",
    "fsds_accuracy = []\n",
    "fsds_f1 = []\n",
    "fsds_times = []\n",
    "\n",
    "start_time_all = timer()\n",
    "while stream.has_more_samples():\n",
    "    # Load a new sample\n",
    "    x, y = stream.next_sample(batch_size=batch_size)\n",
    "    # Select features\n",
    "    start_time = timer()\n",
    "    ftr_weights = fsds_model.low_rank_approximation(x.T)\n",
    "    ftr_selection = np.argsort(ftr_weights)[::-1][:n_selected_ftr]\n",
    "    fsds_times.append(timer()-start_time)\n",
    "\n",
    "    # Truncate x (retain only selected features, 'remove' all others, e.g. by replacing them with 0)\n",
    "    x_reduced = np.zeros(x.shape)\n",
    "    x_reduced[:, ftr_selection] = x[:, ftr_selection]\n",
    "\n",
    "     # stability test\n",
    "    ftr_array = np.zeros(stream.n_features)\n",
    "    ftr_array[ftr_selection] = 1\n",
    "    fsds_selected_ftrs.append(ftr_array)\n",
    "\n",
    "    if len(fsds_selected_ftrs) >= 10:\n",
    "        stability = stability_factor(fsds_selected_ftrs[-10:])\n",
    "        fsds_stability.append(stability)\n",
    "\n",
    "    # Test\n",
    "    y_pred = predictor.predict(x_reduced)\n",
    "    \n",
    "    fsds_accuracy.append(accuracy_score(y, y_pred))\n",
    "    fsds_f1.append(f1_score(y, y_pred, average=\"weighted\", \n",
    "    labels=stream.target_values))\n",
    "\n",
    "\n",
    "    # Train\n",
    "    predictor.partial_fit(x_reduced, y)\n",
    "\n",
    "# Restart the FileStream\n",
    "end_time_all = timer()\n",
    "fsds_run_time = timer() - start_time_all\n",
    "print(\"The whole fsds run took {}\".format(fsds_run_time))\n",
    "\n",
    "fsds_moving_average = pd.Series(fsds_accuracy).rolling(window=n_window).mean().iloc[n_window-1:].values\n",
    "fsds_f1 = pd.Series(fsds_f1).rolling(window=n_window).mean().iloc[n_window-1:].values\n",
    "\n",
    "if dataset_name == \"mnist\" or dataset_name == \"mnist_norm\":\n",
    "    \n",
    "    selection_array = np.zeros((784))\n",
    "    selection_array[ftr_selection] = 1\n",
    "\n",
    "    mnist_fig_fsds = paint_digit(selection_array)\n"
   ]
  },
  {
   "cell_type": "code",
   "execution_count": 56,
   "metadata": {},
   "outputs": [
    {
     "output_type": "stream",
     "name": "stdout",
     "text": [
      "FSDS found 18.823529411764707% of the true informative features.\n"
     ]
    }
   ],
   "source": [
    "if check_ftrs:\n",
    "    true_selected_ftr = set(ftr_selection)&set(true_ftrs)\n",
    "    fsds_perc_ftr_found = len(true_selected_ftr) / len(true_ftrs) * 100\n",
    "    print(\"FSDS found {}% of the true informative features.\".format(fsds_perc_ftr_found))"
   ]
  },
  {
   "cell_type": "code",
   "execution_count": 57,
   "metadata": {},
   "outputs": [
    {
     "output_type": "stream",
     "name": "stdout",
     "text": [
      "For the test dataset the previous trained predictor reached: 0.1256\n"
     ]
    }
   ],
   "source": [
    "test_x_selected = np.zeros(test_x.shape)\n",
    "test_x_selected[:,ftr_selection] = test_x[:,ftr_selection]\n",
    "y_pred = predictor.predict(test_x)\n",
    "accuracy_fsds = accuracy_score(test_y, y_pred)\n",
    "print(\"For the test dataset the previous trained predictor reached: {}\".format(accuracy_fsds))"
   ]
  },
  {
   "source": [
    "### OFS algorithm"
   ],
   "cell_type": "markdown",
   "metadata": {}
  },
  {
   "cell_type": "code",
   "execution_count": 58,
   "metadata": {},
   "outputs": [
    {
     "output_type": "execute_result",
     "data": {
      "text/plain": [
       "PerceptronMask(alpha=0.0001, class_weight=None, early_stopping=False, eta0=1.0,\n",
       "               fit_intercept=True, max_iter=1000, n_iter_no_change=5,\n",
       "               n_jobs=None, penalty=None, random_state=0, shuffle=True,\n",
       "               tol=0.001, validation_fraction=0.1, verbose=0, warm_start=False)"
      ]
     },
     "metadata": {},
     "execution_count": 58
    }
   ],
   "source": [
    "stream.restart()\n",
    "if pred_algo ==\"perceptron\":\n",
    "    predictor = PerceptronMask()\n",
    "elif pred_algo == \"hoeffding\":\n",
    "    predictor = HoeffdingTreeClassifier(leaf_prediction=\"mc\")\n",
    "elif pred_algo == 'fast_decision':\n",
    "    predictor = ExtremelyFastDecisionTreeClassifier(split_criterion=\"info_gain\", split_confidence=0.0001, leaf_prediction=\"mc\")\n",
    "x,y = stream.next_sample(batch_size=batch_size)\n",
    "predictor.partial_fit(x,y, stream.target_values)"
   ]
  },
  {
   "cell_type": "code",
   "execution_count": 59,
   "metadata": {
    "tags": []
   },
   "outputs": [
    {
     "output_type": "stream",
     "name": "stdout",
     "text": [
      "The whole ofs run took 3.3520009240000945\n"
     ]
    }
   ],
   "source": [
    "ofs = MC_OFS(regularization_param = 0.01, step_size = 0.1, n_selected_ftr=n_selected_ftr, n_total_ftr=stream.n_num_features, n_classes=stream.n_classes)\n",
    "\n",
    "ofs_accuracy = []\n",
    "ofs_f1 = []\n",
    "ofs_selected_ftrs = []\n",
    "ofs_stability = []\n",
    "\n",
    "start_time_all = timer()\n",
    "while stream.has_more_samples():\n",
    "    # Load a new sample\n",
    "    x, y = stream.next_sample(batch_size=batch_size)\n",
    "\n",
    "    # Select features\n",
    "    for idx, label in enumerate(y):\n",
    "        ofs.train(x[idx],label)\n",
    "\n",
    "    ftr_selection = ofs.get_feature_indices()\n",
    "    # Truncate x (retain only selected features, 'remove' all others, e.g. by replacing them with 0)\n",
    "    x_reduced = np.zeros(x.shape)\n",
    "    x_reduced[:, ftr_selection] = x[:, ftr_selection]\n",
    "\n",
    "     # stability test\n",
    "    ftr_array = np.zeros(stream.n_features)\n",
    "    ftr_array[ftr_selection] = 1\n",
    "    ofs_selected_ftrs.append(ftr_array)\n",
    "\n",
    "    if len(ofs_selected_ftrs) >= 10:\n",
    "        stability = stability_factor(ofs_selected_ftrs[-10:])\n",
    "        ofs_stability.append(stability)\n",
    "\n",
    "    # Test\n",
    "    y_pred = predictor.predict(x_reduced)\n",
    "    ofs_accuracy.append(accuracy_score(y, y_pred))\n",
    "    ofs_f1.append(f1_score(y,y_pred, labels=stream.target_values,\n",
    "    average=\"weighted\"))\n",
    "\n",
    "    # Train\n",
    "    predictor.partial_fit(x_reduced, y)\n",
    "\n",
    "end_time_all = timer()\n",
    "ofs_run_time = timer() - start_time_all\n",
    "print(\"The whole ofs run took {}\".format(ofs_run_time))\n",
    "\n",
    "ofs_moving_average = pd.Series(ofs_accuracy).rolling(window=n_window).mean().iloc[n_window-1:].values\n",
    "ofs_f1 = pd.Series(ofs_f1).rolling(window=n_window).mean().iloc[n_window-1:].values\n",
    "\n",
    "if dataset_name == \"mnist\" or dataset_name == \"mnist_norm\":\n",
    "    selection_array = np.zeros((784))\n",
    "    selection_array[ftr_selection] = 1\n",
    "    mnist_fig_ofs = paint_digit(selection_array)\n",
    "# Restart the FileStream\n",
    "stream.restart()"
   ]
  },
  {
   "cell_type": "code",
   "execution_count": 60,
   "metadata": {},
   "outputs": [
    {
     "output_type": "stream",
     "name": "stdout",
     "text": [
      "OFS found 18.823529411764707% of the true informative features.\n"
     ]
    }
   ],
   "source": [
    "if check_ftrs:\n",
    "    true_selected_ftr = set(ftr_selection)&set(true_ftrs)\n",
    "    ofs_perc_ftr_found = len(true_selected_ftr) / len(true_ftrs)* 100\n",
    "    print(\"OFS found {}% of the true informative features.\".format(fsds_perc_ftr_found))"
   ]
  },
  {
   "cell_type": "code",
   "execution_count": 61,
   "metadata": {},
   "outputs": [
    {
     "output_type": "stream",
     "name": "stdout",
     "text": [
      "For the test dataset the previous trained predictor reached: 0.1828\n"
     ]
    }
   ],
   "source": [
    "test_x_selected = np.zeros(test_x.shape)\n",
    "test_x_selected[:,ftr_selection] = test_x[:,ftr_selection]\n",
    "y_pred = predictor.predict(test_x)\n",
    "accuracy_ofs = accuracy_score(test_y, y_pred)\n",
    "print(\"For the test dataset the previous trained predictor reached: {}\".format(accuracy_ofs))"
   ]
  },
  {
   "source": [
    "### OFSSGR algorithm"
   ],
   "cell_type": "markdown",
   "metadata": {}
  },
  {
   "cell_type": "code",
   "execution_count": 62,
   "metadata": {},
   "outputs": [
    {
     "output_type": "execute_result",
     "data": {
      "text/plain": [
       "PerceptronMask(alpha=0.0001, class_weight=None, early_stopping=False, eta0=1.0,\n",
       "               fit_intercept=True, max_iter=1000, n_iter_no_change=5,\n",
       "               n_jobs=None, penalty=None, random_state=0, shuffle=True,\n",
       "               tol=0.001, validation_fraction=0.1, verbose=0, warm_start=False)"
      ]
     },
     "metadata": {},
     "execution_count": 62
    }
   ],
   "source": [
    "stream.restart()\n",
    "if pred_algo ==\"perceptron\":\n",
    "    predictor = PerceptronMask()\n",
    "elif pred_algo == \"hoeffding\":\n",
    "    predictor = HoeffdingTreeClassifier(leaf_prediction=\"mc\")\n",
    "elif pred_algo == 'fast_decision':\n",
    "    predictor = ExtremelyFastDecisionTreeClassifier(split_criterion=\"info_gain\", split_confidence=0.0001, leaf_prediction=\"mc\")\n",
    "x,y = stream.next_sample(batch_size=batch_size)\n",
    "predictor.partial_fit(x,y, stream.target_values)"
   ]
  },
  {
   "cell_type": "code",
   "execution_count": 63,
   "metadata": {},
   "outputs": [
    {
     "output_type": "stream",
     "name": "stdout",
     "text": [
      "The whole ofssgd run took 8.306478385000446\n"
     ]
    }
   ],
   "source": [
    "ofssgd_model = MC_OFSSGD(reduction_threshold=0.4, reduction_value=0.1, regularization_param=0.01, step_size=0.2, n_total_ftrs=stream.n_num_features, n_classes=stream.n_classes)\n",
    "\n",
    "ofssgd_accuracy = []\n",
    "ofssgd_f1 = []\n",
    "ofssgd_selected_ftrs = []\n",
    "ofssgd_stability = []\n",
    "\n",
    "start_time_all = timer()\n",
    "while stream.has_more_samples():\n",
    "    # Load a new sample\n",
    "    x, y = stream.next_sample(batch_size=batch_size)\n",
    "\n",
    "    # Select features\n",
    "    for idx, label in enumerate(y):\n",
    "        ofssgd_model.train(x[idx],label)\n",
    "\n",
    "    ftr_selection = ofssgd_model.get_feature_indices()\n",
    "    # Truncate x (retain only selected features, 'remove' all others, e.g. by replacing them with 0)\n",
    "    x_reduced = np.zeros(x.shape)\n",
    "    x_reduced[:, ftr_selection] = x[:, ftr_selection]\n",
    "\n",
    "    # stability test\n",
    "    ftr_array = np.zeros(stream.n_features)\n",
    "    ftr_array[ftr_selection] = 1\n",
    "    ofssgd_selected_ftrs.append(ftr_array)\n",
    "\n",
    "    if len(ofssgd_selected_ftrs) >= 10:\n",
    "        stability = stability_factor(ofssgd_selected_ftrs[-10:])\n",
    "        ofssgd_stability.append(stability)\n",
    "\n",
    "    # Test\n",
    "    y_pred = predictor.predict(x_reduced)\n",
    "    ofssgd_accuracy.append(accuracy_score(y, y_pred))\n",
    "    ofssgd_f1.append(f1_score(y, y_pred, labels=stream.target_values,\n",
    "    average=\"weighted\"))\n",
    "\n",
    "    # Train\n",
    "    predictor.partial_fit(x_reduced, y)\n",
    "\n",
    "end_time_all = timer()\n",
    "ofssgd_run_time = timer() - start_time_all\n",
    "print(\"The whole ofssgd run took {}\".format(ofssgd_run_time))\n",
    "\n",
    "ofssgd_moving_average = pd.Series(ofssgd_accuracy).rolling(window=n_window).mean().iloc[n_window-1:].values\n",
    "ofssgd_f1 = pd.Series(ofssgd_f1).rolling(window=n_window).mean().iloc[n_window-1:].values\n",
    "\n",
    "if dataset_name == \"mnist\" or dataset_name == \"mnist_norm\":\n",
    "    selection_array = np.zeros((784))\n",
    "    selection_array[ftr_selection] = 1\n",
    "    mnist_fig_ofssgd = paint_digit(selection_array)\n"
   ]
  },
  {
   "cell_type": "code",
   "execution_count": 64,
   "metadata": {},
   "outputs": [
    {
     "output_type": "stream",
     "name": "stdout",
     "text": [
      "OFSSGD found 100.0% of the true informative features.\n"
     ]
    }
   ],
   "source": [
    "if check_ftrs:\n",
    "    true_selected_ftr = set(ftr_selection)&set(true_ftrs)\n",
    "    ofssgd_perc_ftr_found = len(true_selected_ftr) / len(true_ftrs) * 100\n",
    "    print(\"OFSSGD found {}% of the true informative features.\".format(ofssgd_perc_ftr_found))"
   ]
  },
  {
   "cell_type": "code",
   "execution_count": 65,
   "metadata": {},
   "outputs": [
    {
     "output_type": "stream",
     "name": "stdout",
     "text": [
      "For the test dataset the previous trained predictor reached: 0.2302\n"
     ]
    }
   ],
   "source": [
    "test_x_selected = np.zeros(test_x.shape)\n",
    "test_x_selected[:,ftr_selection] = test_x[:,ftr_selection]\n",
    "y_pred = predictor.predict(test_x)\n",
    "accuracy_ofssgd = accuracy_score(test_y, y_pred)\n",
    "print(\"For the test dataset the previous trained predictor reached: {}\".format(accuracy_ofssgd))"
   ]
  },
  {
   "source": [
    "### Pick n random ftrs in each iteration as benchmark"
   ],
   "cell_type": "markdown",
   "metadata": {}
  },
  {
   "cell_type": "code",
   "execution_count": 66,
   "metadata": {},
   "outputs": [
    {
     "output_type": "execute_result",
     "data": {
      "text/plain": [
       "PerceptronMask(alpha=0.0001, class_weight=None, early_stopping=False, eta0=1.0,\n",
       "               fit_intercept=True, max_iter=1000, n_iter_no_change=5,\n",
       "               n_jobs=None, penalty=None, random_state=0, shuffle=True,\n",
       "               tol=0.001, validation_fraction=0.1, verbose=0, warm_start=False)"
      ]
     },
     "metadata": {},
     "execution_count": 66
    }
   ],
   "source": [
    "stream.restart()\n",
    "if pred_algo ==\"perceptron\":\n",
    "    predictor = PerceptronMask()\n",
    "elif pred_algo == \"hoeffding\":\n",
    "    predictor = HoeffdingTreeClassifier(leaf_prediction=\"mc\")\n",
    "elif pred_algo == 'fast_decision':\n",
    "    predictor = ExtremelyFastDecisionTreeClassifier(split_criterion=\"info_gain\", split_confidence=0.0001, leaf_prediction=\"mc\")\n",
    "x,y = stream.next_sample(batch_size=batch_size)\n",
    "predictor.partial_fit(x,y, stream.target_values)"
   ]
  },
  {
   "cell_type": "code",
   "execution_count": 67,
   "metadata": {},
   "outputs": [
    {
     "output_type": "stream",
     "name": "stdout",
     "text": [
      "The whole random run took 1.9431266470000992\n"
     ]
    }
   ],
   "source": [
    "random_accuracy = []\n",
    "random_f1 = []\n",
    "random_selected_ftrs = []\n",
    "random_stability = []\n",
    "\n",
    "start_time_all = timer()\n",
    "while stream.has_more_samples():\n",
    "    # Load a new sample\n",
    "    x, y = stream.next_sample(batch_size=batch_size)\n",
    "\n",
    "    \n",
    "    # select features\n",
    "    ftr_selection = np.random.choice(len(x[0]), n_selected_ftr)\n",
    "\n",
    "    # Truncate x (retain only selected features, 'remove' all others, e.g. by replacing them with 0)\n",
    "    x_reduced = np.zeros(x.shape)\n",
    "    x_reduced[:, ftr_selection] = x[:, ftr_selection]\n",
    "\n",
    "    # stability test\n",
    "    ftr_array = np.zeros(stream.n_features)\n",
    "    ftr_array[ftr_selection] = 1\n",
    "    random_selected_ftrs.append(ftr_array)\n",
    "\n",
    "    if len(random_selected_ftrs) >= 10:\n",
    "        stability = stability_factor(random_selected_ftrs[-10:])\n",
    "        random_stability.append(stability)\n",
    "\n",
    "    # Test\n",
    "    y_pred = predictor.predict(x_reduced)\n",
    "    random_accuracy.append(accuracy_score(y, y_pred))\n",
    "    random_f1.append(f1_score(y, y_pred, labels=stream.target_values,\n",
    "    average=\"weighted\"))\n",
    "\n",
    "    # Train\n",
    "    predictor.partial_fit(x_reduced, y)\n",
    "\n",
    "end_time_all = timer()\n",
    "random_run_time = timer() - start_time_all\n",
    "print(\"The whole random run took {}\".format(random_run_time))\n",
    "random_moving_average = pd.Series(random_accuracy).rolling(window=n_window).mean().iloc[n_window-1:].values\n",
    "random_f1 = pd.Series(random_f1).rolling(window=n_window).mean().iloc[n_window-1:].values\n"
   ]
  },
  {
   "source": [
    "### Plot all\n"
   ],
   "cell_type": "markdown",
   "metadata": {}
  },
  {
   "cell_type": "code",
   "execution_count": 68,
   "metadata": {},
   "outputs": [
    {
     "output_type": "display_data",
     "data": {
      "application/vnd.plotly.v1+json": {
       "config": {
        "plotlyServerURL": "https://plot.ly"
       },
       "data": [
        {
         "hovertemplate": "variable=FIRES<br>batches=%{x}<br>stability=%{y}<extra></extra>",
         "legendgroup": "FIRES",
         "line": {
          "color": "red",
          "dash": "solid"
         },
         "mode": "lines",
         "name": "FIRES",
         "showlegend": true,
         "type": "scattergl",
         "x": [
          0,
          1,
          2,
          3,
          4,
          5,
          6,
          7,
          8,
          9,
          10,
          11,
          12,
          13,
          14,
          15,
          16,
          17,
          18,
          19,
          20,
          21,
          22,
          23,
          24,
          25,
          26,
          27,
          28,
          29,
          30,
          31,
          32,
          33,
          34,
          35,
          36,
          37,
          38,
          39,
          40,
          41,
          42,
          43,
          44,
          45,
          46,
          47,
          48,
          49,
          50,
          51,
          52,
          53,
          54,
          55,
          56,
          57,
          58,
          59,
          60,
          61,
          62,
          63,
          64,
          65,
          66,
          67,
          68,
          69,
          70,
          71,
          72,
          73,
          74,
          75,
          76,
          77,
          78,
          79,
          80,
          81,
          82,
          83,
          84,
          85,
          86,
          87,
          88,
          89,
          90,
          91,
          92,
          93,
          94,
          95,
          96,
          97,
          98,
          99,
          100,
          101,
          102,
          103,
          104,
          105,
          106,
          107,
          108,
          109,
          110,
          111,
          112,
          113,
          114,
          115,
          116,
          117,
          118,
          119,
          120,
          121,
          122,
          123,
          124,
          125,
          126,
          127,
          128,
          129,
          130,
          131,
          132,
          133,
          134,
          135,
          136,
          137,
          138,
          139,
          140,
          141,
          142,
          143,
          144,
          145,
          146,
          147,
          148,
          149,
          150,
          151,
          152,
          153,
          154,
          155,
          156,
          157,
          158,
          159,
          160,
          161,
          162,
          163,
          164,
          165,
          166,
          167,
          168,
          169,
          170,
          171,
          172,
          173,
          174,
          175,
          176,
          177,
          178,
          179,
          180,
          181,
          182,
          183,
          184,
          185,
          186,
          187,
          188,
          189,
          190,
          191,
          192,
          193,
          194,
          195,
          196,
          197,
          198,
          199,
          200,
          201,
          202,
          203,
          204,
          205,
          206,
          207,
          208,
          209,
          210,
          211,
          212,
          213,
          214,
          215,
          216,
          217,
          218,
          219,
          220,
          221,
          222,
          223,
          224,
          225,
          226,
          227,
          228,
          229,
          230,
          231,
          232,
          233,
          234,
          235,
          236,
          237,
          238,
          239,
          240,
          241,
          242,
          243,
          244,
          245,
          246,
          247,
          248,
          249,
          250,
          251,
          252,
          253,
          254,
          255,
          256,
          257,
          258,
          259,
          260,
          261,
          262,
          263,
          264,
          265,
          266,
          267,
          268,
          269,
          270,
          271,
          272,
          273,
          274,
          275,
          276,
          277,
          278,
          279,
          280,
          281,
          282,
          283,
          284,
          285,
          286,
          287,
          288,
          289
         ],
         "xaxis": "x",
         "y": [
          0.5319444444444444,
          0.5541666666666667,
          0.5777777777777778,
          0.5680555555555555,
          0.5569444444444445,
          0.5819444444444445,
          0.6097222222222223,
          0.6208333333333333,
          0.6305555555555555,
          0.6347222222222223,
          0.6458333333333334,
          0.6875,
          0.7222222222222222,
          0.7166666666666667,
          0.7319444444444445,
          0.7402777777777778,
          0.7597222222222223,
          0.75,
          0.7472222222222222,
          0.7722222222222223,
          0.7597222222222223,
          0.7444444444444445,
          0.7402777777777778,
          0.7444444444444445,
          0.7513888888888889,
          0.7458333333333333,
          0.7611111111111112,
          0.7722222222222223,
          0.7819444444444444,
          0.7847222222222222,
          0.788888888888889,
          0.7972222222222223,
          0.7902777777777779,
          0.7847222222222222,
          0.7875,
          0.8083333333333333,
          0.8138888888888889,
          0.8347222222222223,
          0.8555555555555556,
          0.8791666666666667,
          0.9,
          0.9,
          0.8861111111111112,
          0.8875000000000001,
          0.8833333333333334,
          0.8777777777777778,
          0.8763888888888889,
          0.875,
          0.8777777777777778,
          0.8708333333333333,
          0.8680555555555556,
          0.8847222222222223,
          0.8930555555555556,
          0.8791666666666667,
          0.8722222222222222,
          0.8694444444444445,
          0.8597222222222223,
          0.8541666666666667,
          0.8708333333333333,
          0.8736111111111111,
          0.8833333333333334,
          0.8930555555555556,
          0.9013888888888889,
          0.888888888888889,
          0.8875000000000001,
          0.9069444444444444,
          0.9125000000000001,
          0.9263888888888889,
          0.9333333333333333,
          0.9319444444444445,
          0.9277777777777778,
          0.9277777777777778,
          0.9222222222222223,
          0.913888888888889,
          0.9111111111111111,
          0.9180555555555556,
          0.9208333333333334,
          0.925,
          0.9347222222222222,
          0.9319444444444445,
          0.9375,
          0.9347222222222222,
          0.925,
          0.9180555555555556,
          0.9152777777777779,
          0.9083333333333333,
          0.9041666666666667,
          0.9013888888888889,
          0.9027777777777778,
          0.8986111111111111,
          0.9055555555555556,
          0.9041666666666667,
          0.8972222222222223,
          0.9,
          0.9083333333333333,
          0.9069444444444444,
          0.9097222222222222,
          0.9125000000000001,
          0.913888888888889,
          0.9166666666666667,
          0.9097222222222222,
          0.9055555555555556,
          0.9125000000000001,
          0.9097222222222222,
          0.9111111111111111,
          0.9097222222222222,
          0.9152777777777776,
          0.9152777777777779,
          0.9152777777777776,
          0.9,
          0.8902777777777776,
          0.8916666666666665,
          0.8888888888888887,
          0.9,
          0.9083333333333333,
          0.9111111111111111,
          0.8972222222222223,
          0.8986111111111111,
          0.8986111111111111,
          0.9013888888888889,
          0.9027777777777778,
          0.9125000000000001,
          0.9125000000000001,
          0.9055555555555556,
          0.9097222222222222,
          0.9083333333333333,
          0.9083333333333333,
          0.9083333333333333,
          0.9097222222222224,
          0.9180555555555556,
          0.9277777777777778,
          0.9430555555555556,
          0.9597222222222223,
          0.9680555555555556,
          0.976388888888889,
          0.976388888888889,
          0.976388888888889,
          0.976388888888889,
          0.9875,
          1,
          1,
          1,
          1,
          1,
          0.9875,
          0.9652777777777778,
          0.9583333333333334,
          0.9430555555555556,
          0.9333333333333333,
          0.9291666666666667,
          0.925,
          0.9263888888888889,
          0.9333333333333333,
          0.9416666666666667,
          0.9430555555555556,
          0.951388888888889,
          0.9541666666666667,
          0.9555555555555556,
          0.9597222222222223,
          0.9597222222222223,
          0.9500000000000001,
          0.9458333333333334,
          0.9472222222222223,
          0.9430555555555556,
          0.9527777777777778,
          0.9541666666666667,
          0.9583333333333334,
          0.9652777777777778,
          0.9750000000000001,
          1,
          0.9875,
          0.9777777777777779,
          0.9708333333333333,
          0.9666666666666667,
          0.9652777777777778,
          0.9666666666666667,
          0.9708333333333333,
          0.9777777777777779,
          0.9875,
          1,
          1,
          0.9875,
          0.9777777777777779,
          0.9708333333333333,
          0.9625,
          0.9486111111111112,
          0.9458333333333334,
          0.9458333333333334,
          0.9486111111111112,
          0.9541666666666667,
          0.9430555555555556,
          0.9291666666666667,
          0.9208333333333334,
          0.9180555555555556,
          0.9152777777777779,
          0.9097222222222222,
          0.9125000000000001,
          0.9194444444444445,
          0.9305555555555556,
          0.9430555555555556,
          0.9416666666666667,
          0.9375,
          0.9430555555555556,
          0.951388888888889,
          0.951388888888889,
          0.9569444444444445,
          0.9680555555555556,
          0.9680555555555556,
          0.9583333333333334,
          0.9680555555555556,
          0.9680555555555558,
          0.9708333333333333,
          0.9666666666666667,
          0.9652777777777778,
          0.9666666666666667,
          0.9708333333333333,
          0.9708333333333333,
          0.9708333333333333,
          0.9666666666666667,
          0.9625,
          0.9486111111111112,
          0.9486111111111112,
          0.9472222222222223,
          0.9444444444444445,
          0.9472222222222223,
          0.9555555555555556,
          0.9569444444444445,
          0.9611111111111111,
          0.9680555555555556,
          0.9638888888888889,
          0.9555555555555556,
          0.9583333333333335,
          0.9611111111111111,
          0.9569444444444445,
          0.9555555555555556,
          0.9541666666666667,
          0.9486111111111112,
          0.9486111111111113,
          0.9541666666666667,
          0.9541666666666667,
          0.9569444444444446,
          0.9625,
          0.9680555555555556,
          0.976388888888889,
          0.9875,
          1,
          0.9875,
          0.9875,
          0.9777777777777779,
          0.9583333333333334,
          0.9444444444444445,
          0.9333333333333333,
          0.9277777777777778,
          0.9319444444444445,
          0.9388888888888889,
          0.9444444444444445,
          0.9388888888888889,
          0.9500000000000001,
          0.951388888888889,
          0.9486111111111112,
          0.9486111111111112,
          0.9500000000000001,
          0.9541666666666667,
          0.9541666666666667,
          0.9569444444444445,
          0.9569444444444445,
          0.9555555555555556,
          0.9597222222222223,
          0.9666666666666667,
          0.9666666666666667,
          0.9666666666666667,
          0.9666666666666667,
          0.9666666666666667,
          0.9708333333333333,
          0.9680555555555556,
          0.9638888888888889,
          0.9652777777777778,
          0.9652777777777778,
          0.9652777777777778,
          0.9652777777777778,
          0.9569444444444445,
          0.951388888888889,
          0.9444444444444445,
          0.9402777777777778,
          0.9458333333333334,
          0.9458333333333334,
          0.9541666666666667,
          0.9555555555555556,
          0.9597222222222223,
          0.9652777777777778
         ],
         "yaxis": "y"
        },
        {
         "hovertemplate": "variable=OFS<br>batches=%{x}<br>stability=%{y}<extra></extra>",
         "legendgroup": "OFS",
         "line": {
          "color": "purple",
          "dash": "solid"
         },
         "mode": "lines",
         "name": "OFS",
         "showlegend": true,
         "type": "scattergl",
         "x": [
          0,
          1,
          2,
          3,
          4,
          5,
          6,
          7,
          8,
          9,
          10,
          11,
          12,
          13,
          14,
          15,
          16,
          17,
          18,
          19,
          20,
          21,
          22,
          23,
          24,
          25,
          26,
          27,
          28,
          29,
          30,
          31,
          32,
          33,
          34,
          35,
          36,
          37,
          38,
          39,
          40,
          41,
          42,
          43,
          44,
          45,
          46,
          47,
          48,
          49,
          50,
          51,
          52,
          53,
          54,
          55,
          56,
          57,
          58,
          59,
          60,
          61,
          62,
          63,
          64,
          65,
          66,
          67,
          68,
          69,
          70,
          71,
          72,
          73,
          74,
          75,
          76,
          77,
          78,
          79,
          80,
          81,
          82,
          83,
          84,
          85,
          86,
          87,
          88,
          89,
          90,
          91,
          92,
          93,
          94,
          95,
          96,
          97,
          98,
          99,
          100,
          101,
          102,
          103,
          104,
          105,
          106,
          107,
          108,
          109,
          110,
          111,
          112,
          113,
          114,
          115,
          116,
          117,
          118,
          119,
          120,
          121,
          122,
          123,
          124,
          125,
          126,
          127,
          128,
          129,
          130,
          131,
          132,
          133,
          134,
          135,
          136,
          137,
          138,
          139,
          140,
          141,
          142,
          143,
          144,
          145,
          146,
          147,
          148,
          149,
          150,
          151,
          152,
          153,
          154,
          155,
          156,
          157,
          158,
          159,
          160,
          161,
          162,
          163,
          164,
          165,
          166,
          167,
          168,
          169,
          170,
          171,
          172,
          173,
          174,
          175,
          176,
          177,
          178,
          179,
          180,
          181,
          182,
          183,
          184,
          185,
          186,
          187,
          188,
          189,
          190,
          191,
          192,
          193,
          194,
          195,
          196,
          197,
          198,
          199,
          200,
          201,
          202,
          203,
          204,
          205,
          206,
          207,
          208,
          209,
          210,
          211,
          212,
          213,
          214,
          215,
          216,
          217,
          218,
          219,
          220,
          221,
          222,
          223,
          224,
          225,
          226,
          227,
          228,
          229,
          230,
          231,
          232,
          233,
          234,
          235,
          236,
          237,
          238,
          239,
          240,
          241,
          242,
          243,
          244,
          245,
          246,
          247,
          248,
          249,
          250,
          251,
          252,
          253,
          254,
          255,
          256,
          257,
          258,
          259,
          260,
          261,
          262,
          263,
          264,
          265,
          266,
          267,
          268,
          269,
          270,
          271,
          272,
          273,
          274,
          275,
          276,
          277,
          278,
          279,
          280,
          281,
          282,
          283,
          284,
          285,
          286,
          287,
          288,
          289
         ],
         "xaxis": "x",
         "y": [
          0.897480326330229,
          0.9032560825933148,
          0.913363656053715,
          0.9234712295141148,
          0.9364666811060575,
          0.9364666811060577,
          0.937910620171829,
          0.937910620171829,
          0.9393545592376004,
          0.9407984983033716,
          0.9407984983033717,
          0.9422424373691433,
          0.9451303155006863,
          0.9436863764349149,
          0.9335788029745147,
          0.9220272904483431,
          0.9119197169879428,
          0.9104757779221715,
          0.9003682044617711,
          0.8974803263302282,
          0.8931485091329142,
          0.8873727528698285,
          0.891704570067143,
          0.8945924481986861,
          0.8902606310013714,
          0.8902606310013713,
          0.8917045700671427,
          0.896036387264457,
          0.8974803263302287,
          0.9018121435275431,
          0.9090318388564003,
          0.9104757779221717,
          0.9191394123168004,
          0.9306909248429719,
          0.9451303155006862,
          0.9494621326980001,
          0.9537939498953142,
          0.9610136452241712,
          0.966789401487257,
          0.9624575842899431,
          0.9639015233557148,
          0.9696772796188006,
          0.965345462421486,
          0.9581257670926286,
          0.9537939498953146,
          0.9523500108295433,
          0.9494621326980004,
          0.9480181936322291,
          0.9494621326980005,
          0.935022742040286,
          0.9263591076456575,
          0.9278030467114289,
          0.9321348639087432,
          0.9350227420402858,
          0.9407984983033716,
          0.9494621326979997,
          0.9422424373691429,
          0.9364666811060575,
          0.9263591076456573,
          0.9263591076456572,
          0.9176954732510284,
          0.906143960724857,
          0.8974803263302286,
          0.8945924481986859,
          0.8960363872644576,
          0.9003682044617718,
          0.9075878997906289,
          0.9018121435275431,
          0.9061439607248574,
          0.9061439607248571,
          0.9090318388563999,
          0.9047000216590858,
          0.9061439607248571,
          0.9104757779221716,
          0.9061439607248575,
          0.9047000216590858,
          0.9032560825933147,
          0.9018121435275432,
          0.9090318388564004,
          0.9090318388564003,
          0.9104757779221716,
          0.9104757779221716,
          0.9104757779221715,
          0.9104757779221716,
          0.9061439607248574,
          0.9104757779221719,
          0.9133636560537148,
          0.9162515341852578,
          0.9220272904483435,
          0.9379106201718291,
          0.9393545592376004,
          0.9335788029745147,
          0.9191394123168002,
          0.9205833513825716,
          0.9176954732510287,
          0.914807595119486,
          0.9104757779221716,
          0.9104757779221716,
          0.9075878997906289,
          0.9061439607248574,
          0.9104757779221717,
          0.9119197169879433,
          0.9205833513825716,
          0.9278030467114289,
          0.9176954732510287,
          0.9119197169879429,
          0.9032560825933141,
          0.9018121435275429,
          0.9003682044617715,
          0.904700021659086,
          0.9032560825933145,
          0.9104757779221716,
          0.9191394123168002,
          0.9191394123168002,
          0.9220272904483434,
          0.9162515341852575,
          0.9249151685798859,
          0.9148075951194857,
          0.9061439607248569,
          0.9003682044617712,
          0.8931485091329143,
          0.8931485091329144,
          0.9003682044617718,
          0.9104757779221716,
          0.9205833513825717,
          0.9306909248429718,
          0.9422424373691434,
          0.9422424373691433,
          0.9306909248429718,
          0.9162515341852572,
          0.9249151685798859,
          0.9263591076456573,
          0.9205833513825719,
          0.9205833513825717,
          0.9220272904483431,
          0.9292469857772003,
          0.9407984983033715,
          0.9581257670926284,
          0.9667894014872572,
          0.9768969749476571,
          0.9870045484080572,
          0.9870045484080575,
          0.9870045484080575,
          0.9870045484080575,
          0.9870045484080575,
          0.9870045484080575,
          0.9740090968161146,
          0.9624575842899432,
          0.9537939498953147,
          0.9364666811060575,
          0.9306909248429718,
          0.9364666811060575,
          0.922027290448343,
          0.9205833513825716,
          0.9119197169879432,
          0.9075878997906287,
          0.9061439607248575,
          0.9018121435275432,
          0.9061439607248577,
          0.9191394123168004,
          0.9321348639087432,
          0.9480181936322291,
          0.9480181936322291,
          0.9566818280268573,
          0.9639015233557144,
          0.9537939498953147,
          0.9451303155006863,
          0.9509060717637721,
          0.9537939498953147,
          0.9523500108295431,
          0.9537939498953144,
          0.9509060717637716,
          0.9393545592376,
          0.9393545592376004,
          0.9422424373691433,
          0.9321348639087431,
          0.9249151685798861,
          0.9191394123168004,
          0.9191394123168005,
          0.923471229514115,
          0.9292469857772006,
          0.9407984983033719,
          0.9393545592376006,
          0.937910620171829,
          0.9278030467114289,
          0.9176954732510287,
          0.9104757779221715,
          0.904700021659086,
          0.8989242653960002,
          0.8960363872644572,
          0.891704570067143,
          0.8931485091329144,
          0.9003682044617715,
          0.9075878997906289,
          0.9104757779221717,
          0.9148075951194858,
          0.9191394123168002,
          0.9176954732510287,
          0.9162515341852574,
          0.9162515341852575,
          0.9176954732510288,
          0.9220272904483433,
          0.9292469857772006,
          0.9422424373691434,
          0.9422424373691433,
          0.9436863764349146,
          0.9480181936322287,
          0.9509060717637714,
          0.956681828026857,
          0.9653454624214854,
          0.965345462421486,
          0.9667894014872574,
          0.9480181936322288,
          0.9494621326980005,
          0.9306909248429716,
          0.9148075951194855,
          0.9075878997906284,
          0.8989242653959999,
          0.8917045700671428,
          0.8873727528698284,
          0.8844848747382857,
          0.8844848747382859,
          0.8917045700671431,
          0.8974803263302287,
          0.8974803263302289,
          0.8931485091329143,
          0.8945924481986856,
          0.8931485091329142,
          0.8917045700671428,
          0.896036387264457,
          0.8945924481986859,
          0.8945924481986859,
          0.8989242653960001,
          0.9003682044617712,
          0.8974803263302286,
          0.8902606310013713,
          0.8873727528698284,
          0.8844848747382857,
          0.8830409356725145,
          0.8830409356725143,
          0.8859288138040572,
          0.8873727528698285,
          0.8917045700671431,
          0.8931485091329144,
          0.8960363872644572,
          0.8902606310013714,
          0.8902606310013714,
          0.8902606310013716,
          0.8960363872644572,
          0.9003682044617716,
          0.9075878997906289,
          0.9119197169879433,
          0.9263591076456575,
          0.937910620171829,
          0.9494621326980005,
          0.9509060717637721,
          0.9523500108295434,
          0.9465742545664578,
          0.9422424373691436,
          0.9393545592376006,
          0.9379106201718291,
          0.9364666811060577,
          0.937910620171829,
          0.9364666811060575,
          0.9364666811060577,
          0.937910620171829,
          0.9292469857772003,
          0.9249151685798861,
          0.9205833513825717,
          0.9191394123168005,
          0.9133636560537145,
          0.9104757779221715,
          0.9133636560537143,
          0.9090318388564003,
          0.9119197169879432,
          0.9148075951194863,
          0.9191394123168007,
          0.9292469857772003,
          0.9306909248429718,
          0.9234712295141144,
          0.9162515341852575,
          0.9133636560537148,
          0.9148075951194863,
          0.9104757779221716,
          0.9090318388564,
          0.9104757779221715,
          0.9032560825933144,
          0.9003682044617716,
          0.8960363872644569,
          0.8945924481986857
         ],
         "yaxis": "y"
        },
        {
         "hovertemplate": "variable=OFSSGD<br>batches=%{x}<br>stability=%{y}<extra></extra>",
         "legendgroup": "OFSSGD",
         "line": {
          "color": "yellow",
          "dash": "solid"
         },
         "mode": "lines",
         "name": "OFSSGD",
         "showlegend": true,
         "type": "scattergl",
         "x": [
          0,
          1,
          2,
          3,
          4,
          5,
          6,
          7,
          8,
          9,
          10,
          11,
          12,
          13,
          14,
          15,
          16,
          17,
          18,
          19,
          20,
          21,
          22,
          23,
          24,
          25,
          26,
          27,
          28,
          29,
          30,
          31,
          32,
          33,
          34,
          35,
          36,
          37,
          38,
          39,
          40,
          41,
          42,
          43,
          44,
          45,
          46,
          47,
          48,
          49,
          50,
          51,
          52,
          53,
          54,
          55,
          56,
          57,
          58,
          59,
          60,
          61,
          62,
          63,
          64,
          65,
          66,
          67,
          68,
          69,
          70,
          71,
          72,
          73,
          74,
          75,
          76,
          77,
          78,
          79,
          80,
          81,
          82,
          83,
          84,
          85,
          86,
          87,
          88,
          89,
          90,
          91,
          92,
          93,
          94,
          95,
          96,
          97,
          98,
          99,
          100,
          101,
          102,
          103,
          104,
          105,
          106,
          107,
          108,
          109,
          110,
          111,
          112,
          113,
          114,
          115,
          116,
          117,
          118,
          119,
          120,
          121,
          122,
          123,
          124,
          125,
          126,
          127,
          128,
          129,
          130,
          131,
          132,
          133,
          134,
          135,
          136,
          137,
          138,
          139,
          140,
          141,
          142,
          143,
          144,
          145,
          146,
          147,
          148,
          149,
          150,
          151,
          152,
          153,
          154,
          155,
          156,
          157,
          158,
          159,
          160,
          161,
          162,
          163,
          164,
          165,
          166,
          167,
          168,
          169,
          170,
          171,
          172,
          173,
          174,
          175,
          176,
          177,
          178,
          179,
          180,
          181,
          182,
          183,
          184,
          185,
          186,
          187,
          188,
          189,
          190,
          191,
          192,
          193,
          194,
          195,
          196,
          197,
          198,
          199,
          200,
          201,
          202,
          203,
          204,
          205,
          206,
          207,
          208,
          209,
          210,
          211,
          212,
          213,
          214,
          215,
          216,
          217,
          218,
          219,
          220,
          221,
          222,
          223,
          224,
          225,
          226,
          227,
          228,
          229,
          230,
          231,
          232,
          233,
          234,
          235,
          236,
          237,
          238,
          239,
          240,
          241,
          242,
          243,
          244,
          245,
          246,
          247,
          248,
          249,
          250,
          251,
          252,
          253,
          254,
          255,
          256,
          257,
          258,
          259,
          260,
          261,
          262,
          263,
          264,
          265,
          266,
          267,
          268,
          269,
          270,
          271,
          272,
          273,
          274,
          275,
          276,
          277,
          278,
          279,
          280,
          281,
          282,
          283,
          284,
          285,
          286,
          287,
          288,
          289
         ],
         "xaxis": "x",
         "y": [
          1,
          1,
          1,
          1,
          1,
          1,
          1,
          1,
          1,
          1,
          1,
          1,
          1,
          1,
          1,
          1,
          1,
          1,
          1,
          1,
          1,
          1,
          1,
          1,
          1,
          1,
          1,
          1,
          1,
          1,
          1,
          1,
          1,
          1,
          1,
          1,
          1,
          1,
          1,
          1,
          1,
          1,
          1,
          1,
          1,
          1,
          1,
          1,
          1,
          1,
          1,
          1,
          1,
          1,
          1,
          1,
          1,
          1,
          1,
          1,
          1,
          1,
          1,
          1,
          1,
          1,
          1,
          1,
          1,
          1,
          1,
          1,
          1,
          1,
          1,
          1,
          1,
          1,
          1,
          1,
          1,
          1,
          1,
          1,
          1,
          1,
          1,
          1,
          1,
          1,
          1,
          1,
          1,
          1,
          1,
          1,
          1,
          1,
          1,
          1,
          1,
          1,
          1,
          1,
          1,
          1,
          1,
          1,
          1,
          1,
          1,
          1,
          1,
          1,
          1,
          1,
          1,
          1,
          1,
          1,
          1,
          1,
          1,
          1,
          1,
          1,
          1,
          1,
          1,
          1,
          1,
          1,
          1,
          1,
          1,
          1,
          1,
          1,
          1,
          1,
          1,
          1,
          1,
          1,
          1,
          1,
          1,
          1,
          1,
          1,
          1,
          1,
          1,
          1,
          1,
          1,
          1,
          1,
          1,
          1,
          1,
          1,
          1,
          1,
          1,
          1,
          1,
          1,
          1,
          1,
          1,
          1,
          1,
          1,
          1,
          1,
          1,
          1,
          1,
          1,
          1,
          1,
          1,
          1,
          1,
          1,
          1,
          1,
          1,
          1,
          1,
          1,
          1,
          1,
          1,
          1,
          1,
          1,
          1,
          1,
          1,
          1,
          1,
          1,
          1,
          1,
          1,
          1,
          1,
          1,
          1,
          1,
          1,
          1,
          1,
          1,
          1,
          1,
          1,
          1,
          1,
          1,
          1,
          1,
          1,
          1,
          1,
          1,
          1,
          1,
          1,
          1,
          1,
          1,
          1,
          1,
          1,
          1,
          1,
          1,
          1,
          1,
          1,
          1,
          1,
          1,
          1,
          1,
          1,
          1,
          1,
          1,
          1,
          1,
          1,
          1,
          1,
          1,
          1,
          1,
          1,
          1,
          1,
          1,
          1,
          1,
          1,
          1,
          1,
          1,
          1,
          1,
          1,
          1,
          1,
          1,
          1,
          1,
          1,
          1,
          1,
          1,
          1,
          1,
          1,
          1,
          1,
          1,
          1,
          1
         ],
         "yaxis": "y"
        },
        {
         "hovertemplate": "variable=FSDS<br>batches=%{x}<br>stability=%{y}<extra></extra>",
         "legendgroup": "FSDS",
         "line": {
          "color": "green",
          "dash": "solid"
         },
         "mode": "lines",
         "name": "FSDS",
         "showlegend": true,
         "type": "scattergl",
         "x": [
          0,
          1,
          2,
          3,
          4,
          5,
          6,
          7,
          8,
          9,
          10,
          11,
          12,
          13,
          14,
          15,
          16,
          17,
          18,
          19,
          20,
          21,
          22,
          23,
          24,
          25,
          26,
          27,
          28,
          29,
          30,
          31,
          32,
          33,
          34,
          35,
          36,
          37,
          38,
          39,
          40,
          41,
          42,
          43,
          44,
          45,
          46,
          47,
          48,
          49,
          50,
          51,
          52,
          53,
          54,
          55,
          56,
          57,
          58,
          59,
          60,
          61,
          62,
          63,
          64,
          65,
          66,
          67,
          68,
          69,
          70,
          71,
          72,
          73,
          74,
          75,
          76,
          77,
          78,
          79,
          80,
          81,
          82,
          83,
          84,
          85,
          86,
          87,
          88,
          89,
          90,
          91,
          92,
          93,
          94,
          95,
          96,
          97,
          98,
          99,
          100,
          101,
          102,
          103,
          104,
          105,
          106,
          107,
          108,
          109,
          110,
          111,
          112,
          113,
          114,
          115,
          116,
          117,
          118,
          119,
          120,
          121,
          122,
          123,
          124,
          125,
          126,
          127,
          128,
          129,
          130,
          131,
          132,
          133,
          134,
          135,
          136,
          137,
          138,
          139,
          140,
          141,
          142,
          143,
          144,
          145,
          146,
          147,
          148,
          149,
          150,
          151,
          152,
          153,
          154,
          155,
          156,
          157,
          158,
          159,
          160,
          161,
          162,
          163,
          164,
          165,
          166,
          167,
          168,
          169,
          170,
          171,
          172,
          173,
          174,
          175,
          176,
          177,
          178,
          179,
          180,
          181,
          182,
          183,
          184,
          185,
          186,
          187,
          188,
          189,
          190,
          191,
          192,
          193,
          194,
          195,
          196,
          197,
          198,
          199,
          200,
          201,
          202,
          203,
          204,
          205,
          206,
          207,
          208,
          209,
          210,
          211,
          212,
          213,
          214,
          215,
          216,
          217,
          218,
          219,
          220,
          221,
          222,
          223,
          224,
          225,
          226,
          227,
          228,
          229,
          230,
          231,
          232,
          233,
          234,
          235,
          236,
          237,
          238,
          239,
          240,
          241,
          242,
          243,
          244,
          245,
          246,
          247,
          248,
          249,
          250,
          251,
          252,
          253,
          254,
          255,
          256,
          257,
          258,
          259,
          260,
          261,
          262,
          263,
          264,
          265,
          266,
          267,
          268,
          269,
          270,
          271,
          272,
          273,
          274,
          275,
          276,
          277,
          278,
          279,
          280,
          281,
          282,
          283,
          284,
          285,
          286,
          287,
          288,
          289
         ],
         "xaxis": "x",
         "y": [
          1,
          1,
          1,
          1,
          1,
          1,
          1,
          1,
          1,
          1,
          1,
          1,
          1,
          1,
          1,
          1,
          1,
          1,
          1,
          1,
          1,
          1,
          1,
          1,
          1,
          1,
          1,
          1,
          1,
          1,
          1,
          1,
          1,
          1,
          1,
          1,
          1,
          1,
          1,
          1,
          1,
          1,
          1,
          1,
          1,
          1,
          1,
          1,
          1,
          1,
          1,
          1,
          1,
          1,
          1,
          1,
          1,
          1,
          1,
          1,
          1,
          1,
          1,
          1,
          1,
          1,
          1,
          1,
          1,
          1,
          1,
          1,
          1,
          1,
          1,
          1,
          1,
          1,
          1,
          1,
          1,
          1,
          1,
          1,
          1,
          1,
          1,
          1,
          1,
          1,
          1,
          1,
          1,
          1,
          1,
          1,
          1,
          1,
          1,
          1,
          1,
          1,
          1,
          1,
          1,
          1,
          1,
          1,
          1,
          1,
          1,
          1,
          1,
          1,
          1,
          1,
          1,
          1,
          1,
          1,
          1,
          1,
          1,
          1,
          1,
          1,
          1,
          1,
          1,
          1,
          1,
          1,
          1,
          1,
          1,
          1,
          1,
          1,
          1,
          1,
          1,
          1,
          1,
          1,
          1,
          1,
          1,
          1,
          1,
          1,
          1,
          1,
          1,
          1,
          1,
          1,
          1,
          1,
          1,
          1,
          1,
          1,
          1,
          1,
          1,
          1,
          1,
          1,
          1,
          1,
          1,
          1,
          1,
          1,
          1,
          1,
          1,
          1,
          1,
          1,
          1,
          1,
          1,
          1,
          1,
          1,
          1,
          1,
          1,
          1,
          1,
          1,
          1,
          1,
          1,
          1,
          1,
          1,
          1,
          1,
          1,
          1,
          1,
          1,
          1,
          1,
          1,
          1,
          1,
          1,
          1,
          1,
          1,
          1,
          1,
          1,
          1,
          1,
          1,
          1,
          1,
          1,
          1,
          1,
          1,
          1,
          1,
          1,
          1,
          1,
          1,
          1,
          1,
          1,
          1,
          1,
          1,
          1,
          1,
          1,
          1,
          1,
          1,
          1,
          1,
          1,
          1,
          1,
          1,
          1,
          1,
          1,
          1,
          1,
          1,
          1,
          1,
          1,
          1,
          1,
          1,
          1,
          1,
          1,
          1,
          1,
          1,
          1,
          1,
          1,
          1,
          1,
          1,
          1,
          1,
          1,
          1,
          1,
          1,
          1,
          1,
          1,
          1,
          1,
          1,
          1,
          1,
          1,
          1,
          1
         ],
         "yaxis": "y"
        }
       ],
       "layout": {
        "legend": {
         "title": {
          "text": "variable"
         },
         "tracegroupgap": 0
        },
        "template": {
         "data": {
          "bar": [
           {
            "error_x": {
             "color": "#2a3f5f"
            },
            "error_y": {
             "color": "#2a3f5f"
            },
            "marker": {
             "line": {
              "color": "#E5ECF6",
              "width": 0.5
             }
            },
            "type": "bar"
           }
          ],
          "barpolar": [
           {
            "marker": {
             "line": {
              "color": "#E5ECF6",
              "width": 0.5
             }
            },
            "type": "barpolar"
           }
          ],
          "carpet": [
           {
            "aaxis": {
             "endlinecolor": "#2a3f5f",
             "gridcolor": "white",
             "linecolor": "white",
             "minorgridcolor": "white",
             "startlinecolor": "#2a3f5f"
            },
            "baxis": {
             "endlinecolor": "#2a3f5f",
             "gridcolor": "white",
             "linecolor": "white",
             "minorgridcolor": "white",
             "startlinecolor": "#2a3f5f"
            },
            "type": "carpet"
           }
          ],
          "choropleth": [
           {
            "colorbar": {
             "outlinewidth": 0,
             "ticks": ""
            },
            "type": "choropleth"
           }
          ],
          "contour": [
           {
            "colorbar": {
             "outlinewidth": 0,
             "ticks": ""
            },
            "colorscale": [
             [
              0,
              "#0d0887"
             ],
             [
              0.1111111111111111,
              "#46039f"
             ],
             [
              0.2222222222222222,
              "#7201a8"
             ],
             [
              0.3333333333333333,
              "#9c179e"
             ],
             [
              0.4444444444444444,
              "#bd3786"
             ],
             [
              0.5555555555555556,
              "#d8576b"
             ],
             [
              0.6666666666666666,
              "#ed7953"
             ],
             [
              0.7777777777777778,
              "#fb9f3a"
             ],
             [
              0.8888888888888888,
              "#fdca26"
             ],
             [
              1,
              "#f0f921"
             ]
            ],
            "type": "contour"
           }
          ],
          "contourcarpet": [
           {
            "colorbar": {
             "outlinewidth": 0,
             "ticks": ""
            },
            "type": "contourcarpet"
           }
          ],
          "heatmap": [
           {
            "colorbar": {
             "outlinewidth": 0,
             "ticks": ""
            },
            "colorscale": [
             [
              0,
              "#0d0887"
             ],
             [
              0.1111111111111111,
              "#46039f"
             ],
             [
              0.2222222222222222,
              "#7201a8"
             ],
             [
              0.3333333333333333,
              "#9c179e"
             ],
             [
              0.4444444444444444,
              "#bd3786"
             ],
             [
              0.5555555555555556,
              "#d8576b"
             ],
             [
              0.6666666666666666,
              "#ed7953"
             ],
             [
              0.7777777777777778,
              "#fb9f3a"
             ],
             [
              0.8888888888888888,
              "#fdca26"
             ],
             [
              1,
              "#f0f921"
             ]
            ],
            "type": "heatmap"
           }
          ],
          "heatmapgl": [
           {
            "colorbar": {
             "outlinewidth": 0,
             "ticks": ""
            },
            "colorscale": [
             [
              0,
              "#0d0887"
             ],
             [
              0.1111111111111111,
              "#46039f"
             ],
             [
              0.2222222222222222,
              "#7201a8"
             ],
             [
              0.3333333333333333,
              "#9c179e"
             ],
             [
              0.4444444444444444,
              "#bd3786"
             ],
             [
              0.5555555555555556,
              "#d8576b"
             ],
             [
              0.6666666666666666,
              "#ed7953"
             ],
             [
              0.7777777777777778,
              "#fb9f3a"
             ],
             [
              0.8888888888888888,
              "#fdca26"
             ],
             [
              1,
              "#f0f921"
             ]
            ],
            "type": "heatmapgl"
           }
          ],
          "histogram": [
           {
            "marker": {
             "colorbar": {
              "outlinewidth": 0,
              "ticks": ""
             }
            },
            "type": "histogram"
           }
          ],
          "histogram2d": [
           {
            "colorbar": {
             "outlinewidth": 0,
             "ticks": ""
            },
            "colorscale": [
             [
              0,
              "#0d0887"
             ],
             [
              0.1111111111111111,
              "#46039f"
             ],
             [
              0.2222222222222222,
              "#7201a8"
             ],
             [
              0.3333333333333333,
              "#9c179e"
             ],
             [
              0.4444444444444444,
              "#bd3786"
             ],
             [
              0.5555555555555556,
              "#d8576b"
             ],
             [
              0.6666666666666666,
              "#ed7953"
             ],
             [
              0.7777777777777778,
              "#fb9f3a"
             ],
             [
              0.8888888888888888,
              "#fdca26"
             ],
             [
              1,
              "#f0f921"
             ]
            ],
            "type": "histogram2d"
           }
          ],
          "histogram2dcontour": [
           {
            "colorbar": {
             "outlinewidth": 0,
             "ticks": ""
            },
            "colorscale": [
             [
              0,
              "#0d0887"
             ],
             [
              0.1111111111111111,
              "#46039f"
             ],
             [
              0.2222222222222222,
              "#7201a8"
             ],
             [
              0.3333333333333333,
              "#9c179e"
             ],
             [
              0.4444444444444444,
              "#bd3786"
             ],
             [
              0.5555555555555556,
              "#d8576b"
             ],
             [
              0.6666666666666666,
              "#ed7953"
             ],
             [
              0.7777777777777778,
              "#fb9f3a"
             ],
             [
              0.8888888888888888,
              "#fdca26"
             ],
             [
              1,
              "#f0f921"
             ]
            ],
            "type": "histogram2dcontour"
           }
          ],
          "mesh3d": [
           {
            "colorbar": {
             "outlinewidth": 0,
             "ticks": ""
            },
            "type": "mesh3d"
           }
          ],
          "parcoords": [
           {
            "line": {
             "colorbar": {
              "outlinewidth": 0,
              "ticks": ""
             }
            },
            "type": "parcoords"
           }
          ],
          "pie": [
           {
            "automargin": true,
            "type": "pie"
           }
          ],
          "scatter": [
           {
            "marker": {
             "colorbar": {
              "outlinewidth": 0,
              "ticks": ""
             }
            },
            "type": "scatter"
           }
          ],
          "scatter3d": [
           {
            "line": {
             "colorbar": {
              "outlinewidth": 0,
              "ticks": ""
             }
            },
            "marker": {
             "colorbar": {
              "outlinewidth": 0,
              "ticks": ""
             }
            },
            "type": "scatter3d"
           }
          ],
          "scattercarpet": [
           {
            "marker": {
             "colorbar": {
              "outlinewidth": 0,
              "ticks": ""
             }
            },
            "type": "scattercarpet"
           }
          ],
          "scattergeo": [
           {
            "marker": {
             "colorbar": {
              "outlinewidth": 0,
              "ticks": ""
             }
            },
            "type": "scattergeo"
           }
          ],
          "scattergl": [
           {
            "marker": {
             "colorbar": {
              "outlinewidth": 0,
              "ticks": ""
             }
            },
            "type": "scattergl"
           }
          ],
          "scattermapbox": [
           {
            "marker": {
             "colorbar": {
              "outlinewidth": 0,
              "ticks": ""
             }
            },
            "type": "scattermapbox"
           }
          ],
          "scatterpolar": [
           {
            "marker": {
             "colorbar": {
              "outlinewidth": 0,
              "ticks": ""
             }
            },
            "type": "scatterpolar"
           }
          ],
          "scatterpolargl": [
           {
            "marker": {
             "colorbar": {
              "outlinewidth": 0,
              "ticks": ""
             }
            },
            "type": "scatterpolargl"
           }
          ],
          "scatterternary": [
           {
            "marker": {
             "colorbar": {
              "outlinewidth": 0,
              "ticks": ""
             }
            },
            "type": "scatterternary"
           }
          ],
          "surface": [
           {
            "colorbar": {
             "outlinewidth": 0,
             "ticks": ""
            },
            "colorscale": [
             [
              0,
              "#0d0887"
             ],
             [
              0.1111111111111111,
              "#46039f"
             ],
             [
              0.2222222222222222,
              "#7201a8"
             ],
             [
              0.3333333333333333,
              "#9c179e"
             ],
             [
              0.4444444444444444,
              "#bd3786"
             ],
             [
              0.5555555555555556,
              "#d8576b"
             ],
             [
              0.6666666666666666,
              "#ed7953"
             ],
             [
              0.7777777777777778,
              "#fb9f3a"
             ],
             [
              0.8888888888888888,
              "#fdca26"
             ],
             [
              1,
              "#f0f921"
             ]
            ],
            "type": "surface"
           }
          ],
          "table": [
           {
            "cells": {
             "fill": {
              "color": "#EBF0F8"
             },
             "line": {
              "color": "white"
             }
            },
            "header": {
             "fill": {
              "color": "#C8D4E3"
             },
             "line": {
              "color": "white"
             }
            },
            "type": "table"
           }
          ]
         },
         "layout": {
          "annotationdefaults": {
           "arrowcolor": "#2a3f5f",
           "arrowhead": 0,
           "arrowwidth": 1
          },
          "autotypenumbers": "strict",
          "coloraxis": {
           "colorbar": {
            "outlinewidth": 0,
            "ticks": ""
           }
          },
          "colorscale": {
           "diverging": [
            [
             0,
             "#8e0152"
            ],
            [
             0.1,
             "#c51b7d"
            ],
            [
             0.2,
             "#de77ae"
            ],
            [
             0.3,
             "#f1b6da"
            ],
            [
             0.4,
             "#fde0ef"
            ],
            [
             0.5,
             "#f7f7f7"
            ],
            [
             0.6,
             "#e6f5d0"
            ],
            [
             0.7,
             "#b8e186"
            ],
            [
             0.8,
             "#7fbc41"
            ],
            [
             0.9,
             "#4d9221"
            ],
            [
             1,
             "#276419"
            ]
           ],
           "sequential": [
            [
             0,
             "#0d0887"
            ],
            [
             0.1111111111111111,
             "#46039f"
            ],
            [
             0.2222222222222222,
             "#7201a8"
            ],
            [
             0.3333333333333333,
             "#9c179e"
            ],
            [
             0.4444444444444444,
             "#bd3786"
            ],
            [
             0.5555555555555556,
             "#d8576b"
            ],
            [
             0.6666666666666666,
             "#ed7953"
            ],
            [
             0.7777777777777778,
             "#fb9f3a"
            ],
            [
             0.8888888888888888,
             "#fdca26"
            ],
            [
             1,
             "#f0f921"
            ]
           ],
           "sequentialminus": [
            [
             0,
             "#0d0887"
            ],
            [
             0.1111111111111111,
             "#46039f"
            ],
            [
             0.2222222222222222,
             "#7201a8"
            ],
            [
             0.3333333333333333,
             "#9c179e"
            ],
            [
             0.4444444444444444,
             "#bd3786"
            ],
            [
             0.5555555555555556,
             "#d8576b"
            ],
            [
             0.6666666666666666,
             "#ed7953"
            ],
            [
             0.7777777777777778,
             "#fb9f3a"
            ],
            [
             0.8888888888888888,
             "#fdca26"
            ],
            [
             1,
             "#f0f921"
            ]
           ]
          },
          "colorway": [
           "#636efa",
           "#EF553B",
           "#00cc96",
           "#ab63fa",
           "#FFA15A",
           "#19d3f3",
           "#FF6692",
           "#B6E880",
           "#FF97FF",
           "#FECB52"
          ],
          "font": {
           "color": "#2a3f5f"
          },
          "geo": {
           "bgcolor": "white",
           "lakecolor": "white",
           "landcolor": "#E5ECF6",
           "showlakes": true,
           "showland": true,
           "subunitcolor": "white"
          },
          "hoverlabel": {
           "align": "left"
          },
          "hovermode": "closest",
          "mapbox": {
           "style": "light"
          },
          "paper_bgcolor": "white",
          "plot_bgcolor": "#E5ECF6",
          "polar": {
           "angularaxis": {
            "gridcolor": "white",
            "linecolor": "white",
            "ticks": ""
           },
           "bgcolor": "#E5ECF6",
           "radialaxis": {
            "gridcolor": "white",
            "linecolor": "white",
            "ticks": ""
           }
          },
          "scene": {
           "xaxis": {
            "backgroundcolor": "#E5ECF6",
            "gridcolor": "white",
            "gridwidth": 2,
            "linecolor": "white",
            "showbackground": true,
            "ticks": "",
            "zerolinecolor": "white"
           },
           "yaxis": {
            "backgroundcolor": "#E5ECF6",
            "gridcolor": "white",
            "gridwidth": 2,
            "linecolor": "white",
            "showbackground": true,
            "ticks": "",
            "zerolinecolor": "white"
           },
           "zaxis": {
            "backgroundcolor": "#E5ECF6",
            "gridcolor": "white",
            "gridwidth": 2,
            "linecolor": "white",
            "showbackground": true,
            "ticks": "",
            "zerolinecolor": "white"
           }
          },
          "shapedefaults": {
           "line": {
            "color": "#2a3f5f"
           }
          },
          "ternary": {
           "aaxis": {
            "gridcolor": "white",
            "linecolor": "white",
            "ticks": ""
           },
           "baxis": {
            "gridcolor": "white",
            "linecolor": "white",
            "ticks": ""
           },
           "bgcolor": "#E5ECF6",
           "caxis": {
            "gridcolor": "white",
            "linecolor": "white",
            "ticks": ""
           }
          },
          "title": {
           "x": 0.05
          },
          "xaxis": {
           "automargin": true,
           "gridcolor": "white",
           "linecolor": "white",
           "ticks": "",
           "title": {
            "standoff": 15
           },
           "zerolinecolor": "white",
           "zerolinewidth": 2
          },
          "yaxis": {
           "automargin": true,
           "gridcolor": "white",
           "linecolor": "white",
           "ticks": "",
           "title": {
            "standoff": 15
           },
           "zerolinecolor": "white",
           "zerolinewidth": 2
          }
         }
        },
        "title": {
         "text": "Stability on dataset syn_ds_1"
        },
        "xaxis": {
         "anchor": "y",
         "domain": [
          0,
          1
         ],
         "title": {
          "text": "batches"
         }
        },
        "yaxis": {
         "anchor": "x",
         "domain": [
          0,
          1
         ],
         "title": {
          "text": "stability"
         }
        }
       }
      }
     },
     "metadata": {}
    }
   ],
   "source": [
    "# stability\n",
    "title = \"Stability on dataset {}\".format(dataset_name)\n",
    "col_names = [\"FIRES\", \"OFS\", \"OFSSGD\", \"FSDS\"]\n",
    "d = {\"FIRES\":fires_cuda_stability, \"OFS\":ofs_stability, \"OFSSGD\":ofssgd_stability, \"FSDS\":fsds_stability} #\"random\":random_stability\n",
    "df = pd.DataFrame(d, columns=col_names)\n",
    "fig = px.line(df, y = col_names, title=title, labels={\"index\":\"batches\", \"value\":\"stability\"},color_discrete_map={'FIRES': 'red', \n",
    "                                                   'FSDS': 'green', 'OFS': 'purple', \"OFSSGD\":\"yellow\"} )\n",
    "fig.show()"
   ]
  },
  {
   "cell_type": "code",
   "execution_count": 69,
   "metadata": {},
   "outputs": [
    {
     "output_type": "display_data",
     "data": {
      "application/vnd.plotly.v1+json": {
       "config": {
        "plotlyServerURL": "https://plot.ly"
       },
       "data": [
        {
         "hovertemplate": "variable=Pure<br>batches=%{x}<br>accuracy=%{y}<extra></extra>",
         "legendgroup": "Pure",
         "line": {
          "color": "blue",
          "dash": "solid"
         },
         "mode": "lines",
         "name": "Pure",
         "showlegend": true,
         "type": "scattergl",
         "x": [
          0,
          1,
          2,
          3,
          4,
          5,
          6,
          7,
          8,
          9,
          10,
          11,
          12,
          13,
          14,
          15,
          16,
          17,
          18,
          19,
          20,
          21,
          22,
          23,
          24,
          25,
          26,
          27,
          28,
          29,
          30,
          31,
          32,
          33,
          34,
          35,
          36,
          37,
          38,
          39,
          40,
          41,
          42,
          43,
          44,
          45,
          46,
          47,
          48,
          49,
          50,
          51,
          52,
          53,
          54,
          55,
          56,
          57,
          58,
          59,
          60,
          61,
          62,
          63,
          64,
          65,
          66,
          67,
          68,
          69,
          70,
          71,
          72,
          73,
          74,
          75,
          76,
          77,
          78,
          79,
          80,
          81,
          82,
          83,
          84,
          85,
          86,
          87,
          88,
          89,
          90,
          91,
          92,
          93,
          94,
          95,
          96,
          97,
          98,
          99,
          100,
          101,
          102,
          103,
          104,
          105,
          106,
          107,
          108,
          109,
          110,
          111,
          112,
          113,
          114,
          115,
          116,
          117,
          118,
          119,
          120,
          121,
          122,
          123,
          124,
          125,
          126,
          127,
          128,
          129,
          130,
          131,
          132,
          133,
          134,
          135,
          136,
          137,
          138,
          139,
          140,
          141,
          142,
          143,
          144,
          145,
          146,
          147,
          148,
          149,
          150,
          151,
          152,
          153,
          154,
          155,
          156,
          157,
          158,
          159,
          160,
          161,
          162,
          163,
          164,
          165,
          166,
          167,
          168,
          169,
          170,
          171,
          172,
          173,
          174,
          175,
          176,
          177,
          178,
          179,
          180,
          181,
          182,
          183,
          184,
          185,
          186,
          187,
          188,
          189,
          190,
          191,
          192,
          193,
          194,
          195,
          196,
          197,
          198,
          199,
          200,
          201,
          202,
          203,
          204,
          205,
          206,
          207,
          208,
          209,
          210,
          211,
          212,
          213,
          214,
          215,
          216,
          217,
          218,
          219,
          220,
          221,
          222,
          223,
          224,
          225,
          226,
          227,
          228,
          229,
          230,
          231,
          232,
          233,
          234,
          235,
          236,
          237,
          238,
          239,
          240,
          241,
          242,
          243,
          244,
          245,
          246,
          247,
          248,
          249,
          250,
          251,
          252,
          253,
          254,
          255,
          256,
          257,
          258,
          259,
          260,
          261,
          262,
          263,
          264,
          265,
          266,
          267,
          268,
          269,
          270,
          271,
          272,
          273,
          274,
          275,
          276,
          277,
          278,
          279,
          280,
          281,
          282,
          283,
          284,
          285,
          286,
          287,
          288,
          289
         ],
         "xaxis": "x",
         "y": [
          0.13999999999999999,
          0.15199999999999997,
          0.16799999999999998,
          0.174,
          0.178,
          0.172,
          0.16799999999999998,
          0.16999999999999998,
          0.188,
          0.192,
          0.192,
          0.186,
          0.192,
          0.182,
          0.166,
          0.186,
          0.198,
          0.194,
          0.16799999999999998,
          0.17400000000000002,
          0.172,
          0.16799999999999998,
          0.152,
          0.166,
          0.18,
          0.156,
          0.162,
          0.16199999999999998,
          0.17400000000000002,
          0.16799999999999998,
          0.16599999999999998,
          0.17,
          0.16999999999999998,
          0.176,
          0.174,
          0.18,
          0.178,
          0.184,
          0.196,
          0.192,
          0.20600000000000002,
          0.21200000000000002,
          0.22000000000000003,
          0.21000000000000002,
          0.20400000000000001,
          0.21400000000000002,
          0.21200000000000002,
          0.21000000000000002,
          0.21200000000000002,
          0.22999999999999998,
          0.21600000000000003,
          0.21000000000000002,
          0.192,
          0.186,
          0.196,
          0.186,
          0.19,
          0.182,
          0.176,
          0.16799999999999998,
          0.174,
          0.188,
          0.2,
          0.21200000000000002,
          0.21000000000000002,
          0.22599999999999998,
          0.22599999999999998,
          0.24400000000000005,
          0.254,
          0.25000000000000006,
          0.244,
          0.23600000000000004,
          0.248,
          0.24,
          0.24400000000000005,
          0.23000000000000004,
          0.23400000000000004,
          0.21600000000000003,
          0.21600000000000003,
          0.21400000000000002,
          0.22000000000000003,
          0.22000000000000003,
          0.21400000000000002,
          0.21000000000000002,
          0.2,
          0.20400000000000001,
          0.202,
          0.22200000000000003,
          0.21000000000000002,
          0.22599999999999998,
          0.21799999999999997,
          0.22200000000000003,
          0.22799999999999998,
          0.22800000000000004,
          0.22400000000000003,
          0.22199999999999998,
          0.22200000000000003,
          0.20800000000000002,
          0.20600000000000002,
          0.188,
          0.202,
          0.188,
          0.184,
          0.186,
          0.192,
          0.202,
          0.188,
          0.188,
          0.186,
          0.19,
          0.19,
          0.202,
          0.2,
          0.21200000000000002,
          0.21200000000000002,
          0.20400000000000001,
          0.22199999999999998,
          0.22400000000000003,
          0.23400000000000004,
          0.23399999999999999,
          0.22800000000000004,
          0.22599999999999998,
          0.22200000000000003,
          0.22400000000000003,
          0.22600000000000003,
          0.22600000000000003,
          0.22000000000000003,
          0.22799999999999998,
          0.21600000000000003,
          0.21800000000000003,
          0.22400000000000003,
          0.22000000000000003,
          0.22400000000000003,
          0.20800000000000002,
          0.202,
          0.21200000000000002,
          0.21600000000000003,
          0.21000000000000002,
          0.21800000000000003,
          0.22199999999999998,
          0.22000000000000003,
          0.22599999999999998,
          0.23200000000000004,
          0.25,
          0.262,
          0.266,
          0.264,
          0.266,
          0.25999999999999995,
          0.262,
          0.252,
          0.242,
          0.238,
          0.23199999999999998,
          0.21800000000000003,
          0.2,
          0.20400000000000001,
          0.21000000000000002,
          0.20600000000000002,
          0.21000000000000002,
          0.21000000000000002,
          0.20400000000000001,
          0.202,
          0.196,
          0.20400000000000001,
          0.202,
          0.188,
          0.17200000000000001,
          0.174,
          0.16599999999999998,
          0.17,
          0.19,
          0.188,
          0.2,
          0.198,
          0.21400000000000002,
          0.21399999999999997,
          0.22200000000000003,
          0.23199999999999998,
          0.22800000000000004,
          0.236,
          0.23800000000000004,
          0.24,
          0.23200000000000004,
          0.22999999999999998,
          0.22800000000000004,
          0.236,
          0.23199999999999998,
          0.23200000000000004,
          0.23399999999999999,
          0.23400000000000004,
          0.21999999999999997,
          0.21000000000000002,
          0.21600000000000003,
          0.22599999999999998,
          0.21400000000000002,
          0.21400000000000002,
          0.21400000000000002,
          0.20800000000000002,
          0.21000000000000002,
          0.2,
          0.20400000000000001,
          0.21200000000000002,
          0.198,
          0.184,
          0.19,
          0.194,
          0.192,
          0.19,
          0.186,
          0.194,
          0.192,
          0.194,
          0.21000000000000002,
          0.22000000000000003,
          0.21800000000000003,
          0.22199999999999998,
          0.23199999999999998,
          0.23600000000000004,
          0.236,
          0.22199999999999998,
          0.22999999999999998,
          0.238,
          0.22800000000000004,
          0.23199999999999998,
          0.22400000000000003,
          0.21200000000000002,
          0.21000000000000002,
          0.21200000000000002,
          0.21999999999999997,
          0.22000000000000003,
          0.21000000000000002,
          0.20400000000000001,
          0.21000000000000002,
          0.21000000000000002,
          0.22199999999999998,
          0.23400000000000004,
          0.23399999999999999,
          0.23400000000000004,
          0.22799999999999998,
          0.22799999999999998,
          0.22800000000000004,
          0.238,
          0.23600000000000004,
          0.22999999999999998,
          0.22200000000000003,
          0.21600000000000003,
          0.21400000000000002,
          0.21400000000000002,
          0.21999999999999997,
          0.23400000000000004,
          0.236,
          0.22599999999999998,
          0.22399999999999998,
          0.21599999999999997,
          0.23200000000000004,
          0.23199999999999998,
          0.23000000000000004,
          0.21799999999999997,
          0.21200000000000002,
          0.20600000000000002,
          0.20400000000000001,
          0.20600000000000002,
          0.20600000000000002,
          0.21200000000000002,
          0.2,
          0.194,
          0.194,
          0.20400000000000001,
          0.202,
          0.21000000000000002,
          0.21200000000000002,
          0.21200000000000002,
          0.20800000000000002,
          0.21000000000000002,
          0.20400000000000001,
          0.198,
          0.2,
          0.194,
          0.2,
          0.188,
          0.188,
          0.182,
          0.196,
          0.19,
          0.194,
          0.2,
          0.198,
          0.20800000000000002,
          0.20475000000000004
         ],
         "yaxis": "y"
        },
        {
         "hovertemplate": "variable=FIRES<br>batches=%{x}<br>accuracy=%{y}<extra></extra>",
         "legendgroup": "FIRES",
         "line": {
          "color": "red",
          "dash": "solid"
         },
         "mode": "lines",
         "name": "FIRES",
         "showlegend": true,
         "type": "scattergl",
         "x": [
          0,
          1,
          2,
          3,
          4,
          5,
          6,
          7,
          8,
          9,
          10,
          11,
          12,
          13,
          14,
          15,
          16,
          17,
          18,
          19,
          20,
          21,
          22,
          23,
          24,
          25,
          26,
          27,
          28,
          29,
          30,
          31,
          32,
          33,
          34,
          35,
          36,
          37,
          38,
          39,
          40,
          41,
          42,
          43,
          44,
          45,
          46,
          47,
          48,
          49,
          50,
          51,
          52,
          53,
          54,
          55,
          56,
          57,
          58,
          59,
          60,
          61,
          62,
          63,
          64,
          65,
          66,
          67,
          68,
          69,
          70,
          71,
          72,
          73,
          74,
          75,
          76,
          77,
          78,
          79,
          80,
          81,
          82,
          83,
          84,
          85,
          86,
          87,
          88,
          89,
          90,
          91,
          92,
          93,
          94,
          95,
          96,
          97,
          98,
          99,
          100,
          101,
          102,
          103,
          104,
          105,
          106,
          107,
          108,
          109,
          110,
          111,
          112,
          113,
          114,
          115,
          116,
          117,
          118,
          119,
          120,
          121,
          122,
          123,
          124,
          125,
          126,
          127,
          128,
          129,
          130,
          131,
          132,
          133,
          134,
          135,
          136,
          137,
          138,
          139,
          140,
          141,
          142,
          143,
          144,
          145,
          146,
          147,
          148,
          149,
          150,
          151,
          152,
          153,
          154,
          155,
          156,
          157,
          158,
          159,
          160,
          161,
          162,
          163,
          164,
          165,
          166,
          167,
          168,
          169,
          170,
          171,
          172,
          173,
          174,
          175,
          176,
          177,
          178,
          179,
          180,
          181,
          182,
          183,
          184,
          185,
          186,
          187,
          188,
          189,
          190,
          191,
          192,
          193,
          194,
          195,
          196,
          197,
          198,
          199,
          200,
          201,
          202,
          203,
          204,
          205,
          206,
          207,
          208,
          209,
          210,
          211,
          212,
          213,
          214,
          215,
          216,
          217,
          218,
          219,
          220,
          221,
          222,
          223,
          224,
          225,
          226,
          227,
          228,
          229,
          230,
          231,
          232,
          233,
          234,
          235,
          236,
          237,
          238,
          239,
          240,
          241,
          242,
          243,
          244,
          245,
          246,
          247,
          248,
          249,
          250,
          251,
          252,
          253,
          254,
          255,
          256,
          257,
          258,
          259,
          260,
          261,
          262,
          263,
          264,
          265,
          266,
          267,
          268,
          269,
          270,
          271,
          272,
          273,
          274,
          275,
          276,
          277,
          278,
          279,
          280,
          281,
          282,
          283,
          284,
          285,
          286,
          287,
          288,
          289
         ],
         "xaxis": "x",
         "y": [
          0.098,
          0.096,
          0.098,
          0.1,
          0.096,
          0.1,
          0.10200000000000001,
          0.10200000000000001,
          0.10999999999999999,
          0.1,
          0.11000000000000001,
          0.118,
          0.128,
          0.122,
          0.13799999999999998,
          0.14,
          0.13799999999999998,
          0.136,
          0.128,
          0.146,
          0.146,
          0.138,
          0.128,
          0.142,
          0.14400000000000002,
          0.13599999999999998,
          0.146,
          0.154,
          0.154,
          0.146,
          0.144,
          0.16199999999999998,
          0.162,
          0.16399999999999998,
          0.156,
          0.166,
          0.15999999999999998,
          0.156,
          0.164,
          0.162,
          0.184,
          0.17600000000000002,
          0.182,
          0.178,
          0.184,
          0.182,
          0.184,
          0.188,
          0.186,
          0.192,
          0.174,
          0.16599999999999998,
          0.15999999999999998,
          0.16,
          0.164,
          0.16599999999999998,
          0.174,
          0.18,
          0.19,
          0.178,
          0.18,
          0.19,
          0.20400000000000001,
          0.20400000000000001,
          0.198,
          0.2,
          0.196,
          0.184,
          0.18,
          0.184,
          0.184,
          0.182,
          0.17600000000000002,
          0.174,
          0.186,
          0.176,
          0.174,
          0.184,
          0.176,
          0.192,
          0.19,
          0.19,
          0.192,
          0.196,
          0.17800000000000002,
          0.184,
          0.196,
          0.188,
          0.19,
          0.182,
          0.186,
          0.198,
          0.194,
          0.186,
          0.20999999999999996,
          0.21600000000000003,
          0.20600000000000002,
          0.22999999999999998,
          0.22199999999999998,
          0.22400000000000003,
          0.21600000000000003,
          0.21799999999999997,
          0.21800000000000003,
          0.22399999999999998,
          0.20400000000000001,
          0.2,
          0.194,
          0.16799999999999998,
          0.184,
          0.188,
          0.192,
          0.18,
          0.186,
          0.192,
          0.188,
          0.182,
          0.176,
          0.182,
          0.16999999999999998,
          0.164,
          0.176,
          0.174,
          0.16599999999999998,
          0.176,
          0.18,
          0.198,
          0.21200000000000002,
          0.21000000000000002,
          0.22000000000000003,
          0.21999999999999997,
          0.21400000000000002,
          0.22000000000000003,
          0.22199999999999998,
          0.20400000000000001,
          0.21600000000000003,
          0.21600000000000003,
          0.22800000000000004,
          0.23199999999999998,
          0.23600000000000004,
          0.236,
          0.24000000000000005,
          0.254,
          0.258,
          0.262,
          0.254,
          0.24800000000000005,
          0.23199999999999998,
          0.22600000000000003,
          0.21400000000000002,
          0.21400000000000002,
          0.20800000000000002,
          0.192,
          0.184,
          0.188,
          0.186,
          0.176,
          0.188,
          0.184,
          0.188,
          0.19,
          0.186,
          0.186,
          0.188,
          0.182,
          0.186,
          0.2,
          0.19,
          0.198,
          0.188,
          0.186,
          0.194,
          0.194,
          0.2,
          0.20600000000000002,
          0.202,
          0.196,
          0.196,
          0.19,
          0.196,
          0.21200000000000002,
          0.21600000000000003,
          0.21800000000000003,
          0.22000000000000003,
          0.21800000000000003,
          0.21999999999999997,
          0.22400000000000003,
          0.22999999999999998,
          0.23400000000000004,
          0.242,
          0.22200000000000003,
          0.21600000000000003,
          0.20600000000000002,
          0.198,
          0.2,
          0.192,
          0.182,
          0.17600000000000002,
          0.184,
          0.184,
          0.194,
          0.198,
          0.22000000000000003,
          0.21799999999999997,
          0.20600000000000002,
          0.20600000000000002,
          0.21200000000000002,
          0.21200000000000002,
          0.20600000000000002,
          0.20800000000000002,
          0.20400000000000001,
          0.202,
          0.188,
          0.198,
          0.20800000000000002,
          0.21200000000000002,
          0.21200000000000002,
          0.20800000000000002,
          0.21000000000000002,
          0.20800000000000002,
          0.22399999999999998,
          0.22400000000000003,
          0.22399999999999998,
          0.21800000000000003,
          0.21400000000000002,
          0.22600000000000003,
          0.21399999999999997,
          0.20800000000000002,
          0.20800000000000002,
          0.20400000000000001,
          0.194,
          0.192,
          0.192,
          0.198,
          0.20400000000000001,
          0.194,
          0.2,
          0.21600000000000003,
          0.21800000000000003,
          0.21200000000000002,
          0.2,
          0.196,
          0.194,
          0.192,
          0.192,
          0.19,
          0.186,
          0.182,
          0.184,
          0.182,
          0.192,
          0.194,
          0.2,
          0.194,
          0.19,
          0.186,
          0.194,
          0.19,
          0.194,
          0.20400000000000001,
          0.192,
          0.2,
          0.2,
          0.202,
          0.20400000000000001,
          0.20600000000000002,
          0.202,
          0.198,
          0.188,
          0.182,
          0.186,
          0.17400000000000002,
          0.16199999999999998,
          0.16799999999999998,
          0.162,
          0.17,
          0.15999999999999998,
          0.164,
          0.168,
          0.16399999999999998,
          0.16599999999999998,
          0.174,
          0.184,
          0.18,
          0.192,
          0.194,
          0.20800000000000002,
          0.20600000000000002,
          0.20400000000000001,
          0.21000000000000002,
          0.21283333333333335
         ],
         "yaxis": "y"
        },
        {
         "hovertemplate": "variable=OFS<br>batches=%{x}<br>accuracy=%{y}<extra></extra>",
         "legendgroup": "OFS",
         "line": {
          "color": "purple",
          "dash": "solid"
         },
         "mode": "lines",
         "name": "OFS",
         "showlegend": true,
         "type": "scattergl",
         "x": [
          0,
          1,
          2,
          3,
          4,
          5,
          6,
          7,
          8,
          9,
          10,
          11,
          12,
          13,
          14,
          15,
          16,
          17,
          18,
          19,
          20,
          21,
          22,
          23,
          24,
          25,
          26,
          27,
          28,
          29,
          30,
          31,
          32,
          33,
          34,
          35,
          36,
          37,
          38,
          39,
          40,
          41,
          42,
          43,
          44,
          45,
          46,
          47,
          48,
          49,
          50,
          51,
          52,
          53,
          54,
          55,
          56,
          57,
          58,
          59,
          60,
          61,
          62,
          63,
          64,
          65,
          66,
          67,
          68,
          69,
          70,
          71,
          72,
          73,
          74,
          75,
          76,
          77,
          78,
          79,
          80,
          81,
          82,
          83,
          84,
          85,
          86,
          87,
          88,
          89,
          90,
          91,
          92,
          93,
          94,
          95,
          96,
          97,
          98,
          99,
          100,
          101,
          102,
          103,
          104,
          105,
          106,
          107,
          108,
          109,
          110,
          111,
          112,
          113,
          114,
          115,
          116,
          117,
          118,
          119,
          120,
          121,
          122,
          123,
          124,
          125,
          126,
          127,
          128,
          129,
          130,
          131,
          132,
          133,
          134,
          135,
          136,
          137,
          138,
          139,
          140,
          141,
          142,
          143,
          144,
          145,
          146,
          147,
          148,
          149,
          150,
          151,
          152,
          153,
          154,
          155,
          156,
          157,
          158,
          159,
          160,
          161,
          162,
          163,
          164,
          165,
          166,
          167,
          168,
          169,
          170,
          171,
          172,
          173,
          174,
          175,
          176,
          177,
          178,
          179,
          180,
          181,
          182,
          183,
          184,
          185,
          186,
          187,
          188,
          189,
          190,
          191,
          192,
          193,
          194,
          195,
          196,
          197,
          198,
          199,
          200,
          201,
          202,
          203,
          204,
          205,
          206,
          207,
          208,
          209,
          210,
          211,
          212,
          213,
          214,
          215,
          216,
          217,
          218,
          219,
          220,
          221,
          222,
          223,
          224,
          225,
          226,
          227,
          228,
          229,
          230,
          231,
          232,
          233,
          234,
          235,
          236,
          237,
          238,
          239,
          240,
          241,
          242,
          243,
          244,
          245,
          246,
          247,
          248,
          249,
          250,
          251,
          252,
          253,
          254,
          255,
          256,
          257,
          258,
          259,
          260,
          261,
          262,
          263,
          264,
          265,
          266,
          267,
          268,
          269,
          270,
          271,
          272,
          273,
          274,
          275,
          276,
          277,
          278,
          279,
          280,
          281,
          282,
          283,
          284,
          285,
          286,
          287,
          288,
          289
         ],
         "xaxis": "x",
         "y": [
          0.142,
          0.142,
          0.156,
          0.156,
          0.152,
          0.158,
          0.162,
          0.16199999999999998,
          0.17400000000000002,
          0.16599999999999998,
          0.15799999999999997,
          0.162,
          0.166,
          0.174,
          0.182,
          0.20600000000000002,
          0.21400000000000002,
          0.22000000000000003,
          0.21599999999999997,
          0.22799999999999998,
          0.23000000000000004,
          0.23399999999999999,
          0.23000000000000004,
          0.24,
          0.236,
          0.21000000000000002,
          0.20600000000000002,
          0.2,
          0.202,
          0.198,
          0.20600000000000002,
          0.20600000000000002,
          0.202,
          0.198,
          0.194,
          0.2,
          0.194,
          0.19,
          0.19,
          0.184,
          0.186,
          0.198,
          0.21399999999999997,
          0.21600000000000003,
          0.22400000000000003,
          0.22199999999999998,
          0.23800000000000004,
          0.23399999999999999,
          0.236,
          0.254,
          0.242,
          0.22400000000000003,
          0.20400000000000001,
          0.196,
          0.194,
          0.198,
          0.2,
          0.20400000000000001,
          0.21400000000000002,
          0.20400000000000001,
          0.198,
          0.21600000000000003,
          0.23399999999999999,
          0.24,
          0.244,
          0.252,
          0.248,
          0.256,
          0.256,
          0.25,
          0.258,
          0.25,
          0.25,
          0.25000000000000006,
          0.248,
          0.24400000000000005,
          0.248,
          0.254,
          0.248,
          0.256,
          0.254,
          0.26199999999999996,
          0.258,
          0.25199999999999995,
          0.238,
          0.242,
          0.242,
          0.23399999999999999,
          0.24,
          0.23199999999999998,
          0.22999999999999998,
          0.22000000000000003,
          0.21199999999999997,
          0.21399999999999997,
          0.22599999999999998,
          0.21999999999999997,
          0.21399999999999997,
          0.21399999999999997,
          0.21400000000000002,
          0.21999999999999997,
          0.23199999999999998,
          0.23600000000000004,
          0.24,
          0.23600000000000004,
          0.23399999999999999,
          0.23800000000000004,
          0.23200000000000004,
          0.23400000000000004,
          0.22000000000000003,
          0.22200000000000003,
          0.21200000000000002,
          0.21200000000000002,
          0.22000000000000003,
          0.22599999999999998,
          0.23000000000000004,
          0.21799999999999997,
          0.22800000000000004,
          0.22199999999999998,
          0.23400000000000004,
          0.23199999999999998,
          0.24400000000000005,
          0.242,
          0.23200000000000004,
          0.25,
          0.248,
          0.254,
          0.24799999999999994,
          0.248,
          0.246,
          0.254,
          0.23800000000000004,
          0.23399999999999999,
          0.238,
          0.21000000000000002,
          0.196,
          0.20800000000000002,
          0.22600000000000003,
          0.23199999999999998,
          0.242,
          0.23600000000000004,
          0.242,
          0.238,
          0.24400000000000005,
          0.252,
          0.26,
          0.25,
          0.238,
          0.22800000000000004,
          0.21600000000000003,
          0.21200000000000002,
          0.21400000000000002,
          0.21200000000000002,
          0.20600000000000002,
          0.21600000000000003,
          0.21800000000000003,
          0.21800000000000003,
          0.20400000000000001,
          0.21600000000000003,
          0.202,
          0.198,
          0.192,
          0.20400000000000001,
          0.198,
          0.19,
          0.19,
          0.18,
          0.194,
          0.188,
          0.194,
          0.196,
          0.2,
          0.198,
          0.20800000000000002,
          0.21200000000000002,
          0.20800000000000002,
          0.22200000000000003,
          0.20800000000000002,
          0.21000000000000002,
          0.21800000000000003,
          0.22999999999999998,
          0.24000000000000005,
          0.246,
          0.23600000000000004,
          0.236,
          0.23400000000000004,
          0.22799999999999998,
          0.238,
          0.23400000000000004,
          0.238,
          0.22200000000000003,
          0.21000000000000002,
          0.196,
          0.20400000000000001,
          0.21600000000000003,
          0.22999999999999998,
          0.23200000000000004,
          0.22799999999999998,
          0.22599999999999998,
          0.22800000000000004,
          0.24,
          0.24200000000000005,
          0.254,
          0.25400000000000006,
          0.23199999999999998,
          0.22200000000000003,
          0.21600000000000003,
          0.22400000000000003,
          0.22399999999999998,
          0.22000000000000003,
          0.22200000000000003,
          0.22799999999999998,
          0.20800000000000002,
          0.20800000000000002,
          0.22400000000000003,
          0.22400000000000003,
          0.23600000000000004,
          0.23399999999999999,
          0.24000000000000005,
          0.24,
          0.23600000000000004,
          0.22399999999999998,
          0.23399999999999999,
          0.22800000000000004,
          0.22799999999999998,
          0.236,
          0.22799999999999998,
          0.22599999999999998,
          0.23200000000000004,
          0.23200000000000004,
          0.23399999999999999,
          0.236,
          0.23600000000000004,
          0.246,
          0.24000000000000005,
          0.238,
          0.24600000000000005,
          0.254,
          0.248,
          0.246,
          0.23600000000000004,
          0.238,
          0.246,
          0.242,
          0.252,
          0.244,
          0.23199999999999998,
          0.22599999999999998,
          0.22999999999999998,
          0.236,
          0.242,
          0.25,
          0.24,
          0.23200000000000004,
          0.22599999999999998,
          0.23000000000000004,
          0.238,
          0.23200000000000004,
          0.23200000000000004,
          0.22400000000000003,
          0.22999999999999998,
          0.22800000000000004,
          0.23600000000000004,
          0.244,
          0.242,
          0.252,
          0.252,
          0.258,
          0.25,
          0.242,
          0.238,
          0.23199999999999998,
          0.22200000000000003,
          0.21400000000000002,
          0.21000000000000002,
          0.20800000000000002,
          0.192,
          0.194,
          0.20800000000000002,
          0.21399999999999997,
          0.22000000000000003,
          0.22199999999999998,
          0.22999999999999998,
          0.242,
          0.248,
          0.254,
          0.262,
          0.254,
          0.25,
          0.256,
          0.24475000000000002
         ],
         "yaxis": "y"
        },
        {
         "hovertemplate": "variable=OFSSGD<br>batches=%{x}<br>accuracy=%{y}<extra></extra>",
         "legendgroup": "OFSSGD",
         "line": {
          "color": "yellow",
          "dash": "solid"
         },
         "mode": "lines",
         "name": "OFSSGD",
         "showlegend": true,
         "type": "scattergl",
         "x": [
          0,
          1,
          2,
          3,
          4,
          5,
          6,
          7,
          8,
          9,
          10,
          11,
          12,
          13,
          14,
          15,
          16,
          17,
          18,
          19,
          20,
          21,
          22,
          23,
          24,
          25,
          26,
          27,
          28,
          29,
          30,
          31,
          32,
          33,
          34,
          35,
          36,
          37,
          38,
          39,
          40,
          41,
          42,
          43,
          44,
          45,
          46,
          47,
          48,
          49,
          50,
          51,
          52,
          53,
          54,
          55,
          56,
          57,
          58,
          59,
          60,
          61,
          62,
          63,
          64,
          65,
          66,
          67,
          68,
          69,
          70,
          71,
          72,
          73,
          74,
          75,
          76,
          77,
          78,
          79,
          80,
          81,
          82,
          83,
          84,
          85,
          86,
          87,
          88,
          89,
          90,
          91,
          92,
          93,
          94,
          95,
          96,
          97,
          98,
          99,
          100,
          101,
          102,
          103,
          104,
          105,
          106,
          107,
          108,
          109,
          110,
          111,
          112,
          113,
          114,
          115,
          116,
          117,
          118,
          119,
          120,
          121,
          122,
          123,
          124,
          125,
          126,
          127,
          128,
          129,
          130,
          131,
          132,
          133,
          134,
          135,
          136,
          137,
          138,
          139,
          140,
          141,
          142,
          143,
          144,
          145,
          146,
          147,
          148,
          149,
          150,
          151,
          152,
          153,
          154,
          155,
          156,
          157,
          158,
          159,
          160,
          161,
          162,
          163,
          164,
          165,
          166,
          167,
          168,
          169,
          170,
          171,
          172,
          173,
          174,
          175,
          176,
          177,
          178,
          179,
          180,
          181,
          182,
          183,
          184,
          185,
          186,
          187,
          188,
          189,
          190,
          191,
          192,
          193,
          194,
          195,
          196,
          197,
          198,
          199,
          200,
          201,
          202,
          203,
          204,
          205,
          206,
          207,
          208,
          209,
          210,
          211,
          212,
          213,
          214,
          215,
          216,
          217,
          218,
          219,
          220,
          221,
          222,
          223,
          224,
          225,
          226,
          227,
          228,
          229,
          230,
          231,
          232,
          233,
          234,
          235,
          236,
          237,
          238,
          239,
          240,
          241,
          242,
          243,
          244,
          245,
          246,
          247,
          248,
          249,
          250,
          251,
          252,
          253,
          254,
          255,
          256,
          257,
          258,
          259,
          260,
          261,
          262,
          263,
          264,
          265,
          266,
          267,
          268,
          269,
          270,
          271,
          272,
          273,
          274,
          275,
          276,
          277,
          278,
          279,
          280,
          281,
          282,
          283,
          284,
          285,
          286,
          287,
          288,
          289
         ],
         "xaxis": "x",
         "y": [
          0.13999999999999999,
          0.15199999999999997,
          0.16799999999999998,
          0.174,
          0.178,
          0.172,
          0.16799999999999998,
          0.16999999999999998,
          0.188,
          0.192,
          0.192,
          0.186,
          0.192,
          0.182,
          0.166,
          0.186,
          0.198,
          0.194,
          0.16799999999999998,
          0.17400000000000002,
          0.172,
          0.16799999999999998,
          0.152,
          0.166,
          0.18,
          0.156,
          0.162,
          0.16199999999999998,
          0.17400000000000002,
          0.16799999999999998,
          0.16599999999999998,
          0.17,
          0.16999999999999998,
          0.176,
          0.174,
          0.18,
          0.178,
          0.184,
          0.196,
          0.192,
          0.20600000000000002,
          0.21200000000000002,
          0.22000000000000003,
          0.21000000000000002,
          0.20400000000000001,
          0.21400000000000002,
          0.21200000000000002,
          0.21000000000000002,
          0.21200000000000002,
          0.22999999999999998,
          0.21600000000000003,
          0.21000000000000002,
          0.192,
          0.186,
          0.196,
          0.186,
          0.19,
          0.182,
          0.176,
          0.16799999999999998,
          0.174,
          0.188,
          0.2,
          0.21200000000000002,
          0.21000000000000002,
          0.22599999999999998,
          0.22599999999999998,
          0.24400000000000005,
          0.254,
          0.25000000000000006,
          0.244,
          0.23600000000000004,
          0.248,
          0.24,
          0.24400000000000005,
          0.23000000000000004,
          0.23400000000000004,
          0.21600000000000003,
          0.21600000000000003,
          0.21400000000000002,
          0.22000000000000003,
          0.22000000000000003,
          0.21400000000000002,
          0.21000000000000002,
          0.2,
          0.20400000000000001,
          0.202,
          0.22200000000000003,
          0.21000000000000002,
          0.22599999999999998,
          0.21799999999999997,
          0.22200000000000003,
          0.22799999999999998,
          0.22800000000000004,
          0.22400000000000003,
          0.22199999999999998,
          0.22200000000000003,
          0.20800000000000002,
          0.20600000000000002,
          0.188,
          0.202,
          0.188,
          0.184,
          0.186,
          0.192,
          0.202,
          0.188,
          0.188,
          0.186,
          0.19,
          0.19,
          0.202,
          0.2,
          0.21200000000000002,
          0.21200000000000002,
          0.20400000000000001,
          0.22199999999999998,
          0.22400000000000003,
          0.23400000000000004,
          0.23399999999999999,
          0.22800000000000004,
          0.22599999999999998,
          0.22200000000000003,
          0.22400000000000003,
          0.22600000000000003,
          0.22600000000000003,
          0.22000000000000003,
          0.22799999999999998,
          0.21600000000000003,
          0.21800000000000003,
          0.22400000000000003,
          0.22000000000000003,
          0.22400000000000003,
          0.20800000000000002,
          0.202,
          0.21200000000000002,
          0.21600000000000003,
          0.21000000000000002,
          0.21800000000000003,
          0.22199999999999998,
          0.22000000000000003,
          0.22599999999999998,
          0.23200000000000004,
          0.25,
          0.262,
          0.266,
          0.264,
          0.266,
          0.25999999999999995,
          0.262,
          0.252,
          0.242,
          0.238,
          0.23199999999999998,
          0.21800000000000003,
          0.2,
          0.20400000000000001,
          0.21000000000000002,
          0.20600000000000002,
          0.21000000000000002,
          0.21000000000000002,
          0.20400000000000001,
          0.202,
          0.196,
          0.20400000000000001,
          0.202,
          0.188,
          0.17200000000000001,
          0.174,
          0.16599999999999998,
          0.17,
          0.19,
          0.188,
          0.2,
          0.198,
          0.21400000000000002,
          0.21399999999999997,
          0.22200000000000003,
          0.23199999999999998,
          0.22800000000000004,
          0.236,
          0.23800000000000004,
          0.24,
          0.23200000000000004,
          0.22999999999999998,
          0.22800000000000004,
          0.236,
          0.23199999999999998,
          0.23200000000000004,
          0.23399999999999999,
          0.23400000000000004,
          0.21999999999999997,
          0.21000000000000002,
          0.21600000000000003,
          0.22599999999999998,
          0.21400000000000002,
          0.21400000000000002,
          0.21400000000000002,
          0.20800000000000002,
          0.21000000000000002,
          0.2,
          0.20400000000000001,
          0.21200000000000002,
          0.198,
          0.184,
          0.19,
          0.194,
          0.192,
          0.19,
          0.186,
          0.194,
          0.192,
          0.194,
          0.21000000000000002,
          0.22000000000000003,
          0.21800000000000003,
          0.22199999999999998,
          0.23199999999999998,
          0.23600000000000004,
          0.236,
          0.22199999999999998,
          0.22999999999999998,
          0.238,
          0.22800000000000004,
          0.23199999999999998,
          0.22400000000000003,
          0.21200000000000002,
          0.21000000000000002,
          0.21200000000000002,
          0.21999999999999997,
          0.22000000000000003,
          0.21000000000000002,
          0.20400000000000001,
          0.21000000000000002,
          0.21000000000000002,
          0.22199999999999998,
          0.23400000000000004,
          0.23399999999999999,
          0.23400000000000004,
          0.22799999999999998,
          0.22799999999999998,
          0.22800000000000004,
          0.238,
          0.23600000000000004,
          0.22999999999999998,
          0.22200000000000003,
          0.21600000000000003,
          0.21400000000000002,
          0.21400000000000002,
          0.21999999999999997,
          0.23400000000000004,
          0.236,
          0.22599999999999998,
          0.22399999999999998,
          0.21599999999999997,
          0.23200000000000004,
          0.23199999999999998,
          0.23000000000000004,
          0.21799999999999997,
          0.21200000000000002,
          0.20600000000000002,
          0.20400000000000001,
          0.20600000000000002,
          0.20600000000000002,
          0.21200000000000002,
          0.2,
          0.194,
          0.194,
          0.20400000000000001,
          0.202,
          0.21000000000000002,
          0.21200000000000002,
          0.21200000000000002,
          0.20800000000000002,
          0.21000000000000002,
          0.20400000000000001,
          0.198,
          0.2,
          0.194,
          0.2,
          0.188,
          0.188,
          0.182,
          0.196,
          0.19,
          0.194,
          0.2,
          0.198,
          0.20800000000000002,
          0.20475000000000004
         ],
         "yaxis": "y"
        },
        {
         "hovertemplate": "variable=FSDS<br>batches=%{x}<br>accuracy=%{y}<extra></extra>",
         "legendgroup": "FSDS",
         "line": {
          "color": "green",
          "dash": "solid"
         },
         "mode": "lines",
         "name": "FSDS",
         "showlegend": true,
         "type": "scattergl",
         "x": [
          0,
          1,
          2,
          3,
          4,
          5,
          6,
          7,
          8,
          9,
          10,
          11,
          12,
          13,
          14,
          15,
          16,
          17,
          18,
          19,
          20,
          21,
          22,
          23,
          24,
          25,
          26,
          27,
          28,
          29,
          30,
          31,
          32,
          33,
          34,
          35,
          36,
          37,
          38,
          39,
          40,
          41,
          42,
          43,
          44,
          45,
          46,
          47,
          48,
          49,
          50,
          51,
          52,
          53,
          54,
          55,
          56,
          57,
          58,
          59,
          60,
          61,
          62,
          63,
          64,
          65,
          66,
          67,
          68,
          69,
          70,
          71,
          72,
          73,
          74,
          75,
          76,
          77,
          78,
          79,
          80,
          81,
          82,
          83,
          84,
          85,
          86,
          87,
          88,
          89,
          90,
          91,
          92,
          93,
          94,
          95,
          96,
          97,
          98,
          99,
          100,
          101,
          102,
          103,
          104,
          105,
          106,
          107,
          108,
          109,
          110,
          111,
          112,
          113,
          114,
          115,
          116,
          117,
          118,
          119,
          120,
          121,
          122,
          123,
          124,
          125,
          126,
          127,
          128,
          129,
          130,
          131,
          132,
          133,
          134,
          135,
          136,
          137,
          138,
          139,
          140,
          141,
          142,
          143,
          144,
          145,
          146,
          147,
          148,
          149,
          150,
          151,
          152,
          153,
          154,
          155,
          156,
          157,
          158,
          159,
          160,
          161,
          162,
          163,
          164,
          165,
          166,
          167,
          168,
          169,
          170,
          171,
          172,
          173,
          174,
          175,
          176,
          177,
          178,
          179,
          180,
          181,
          182,
          183,
          184,
          185,
          186,
          187,
          188,
          189,
          190,
          191,
          192,
          193,
          194,
          195,
          196,
          197,
          198,
          199,
          200,
          201,
          202,
          203,
          204,
          205,
          206,
          207,
          208,
          209,
          210,
          211,
          212,
          213,
          214,
          215,
          216,
          217,
          218,
          219,
          220,
          221,
          222,
          223,
          224,
          225,
          226,
          227,
          228,
          229,
          230,
          231,
          232,
          233,
          234,
          235,
          236,
          237,
          238,
          239,
          240,
          241,
          242,
          243,
          244,
          245,
          246,
          247,
          248,
          249,
          250,
          251,
          252,
          253,
          254,
          255,
          256,
          257,
          258,
          259,
          260,
          261,
          262,
          263,
          264,
          265,
          266,
          267,
          268,
          269,
          270,
          271,
          272,
          273,
          274,
          275,
          276,
          277,
          278,
          279,
          280,
          281,
          282,
          283,
          284,
          285,
          286,
          287,
          288,
          289
         ],
         "xaxis": "x",
         "y": [
          0.13,
          0.12400000000000003,
          0.126,
          0.12800000000000003,
          0.132,
          0.13399999999999998,
          0.128,
          0.12800000000000003,
          0.13,
          0.12400000000000003,
          0.13,
          0.136,
          0.144,
          0.13799999999999998,
          0.134,
          0.14,
          0.146,
          0.13799999999999998,
          0.138,
          0.14800000000000002,
          0.144,
          0.14200000000000002,
          0.138,
          0.138,
          0.13799999999999998,
          0.132,
          0.14400000000000002,
          0.148,
          0.146,
          0.13,
          0.12600000000000003,
          0.128,
          0.128,
          0.13,
          0.13000000000000003,
          0.126,
          0.11400000000000002,
          0.11599999999999999,
          0.12000000000000002,
          0.118,
          0.11800000000000002,
          0.11600000000000002,
          0.10800000000000001,
          0.10600000000000001,
          0.11800000000000002,
          0.12,
          0.11200000000000002,
          0.11400000000000002,
          0.11199999999999999,
          0.12600000000000003,
          0.132,
          0.12799999999999997,
          0.146,
          0.146,
          0.132,
          0.12999999999999998,
          0.136,
          0.13599999999999998,
          0.138,
          0.13,
          0.13,
          0.132,
          0.12000000000000002,
          0.124,
          0.13799999999999998,
          0.14200000000000002,
          0.13999999999999999,
          0.132,
          0.122,
          0.12000000000000002,
          0.118,
          0.11800000000000002,
          0.11599999999999999,
          0.11200000000000002,
          0.11800000000000002,
          0.11200000000000002,
          0.10400000000000001,
          0.10200000000000001,
          0.10400000000000001,
          0.11000000000000001,
          0.10400000000000001,
          0.10600000000000001,
          0.11400000000000002,
          0.12799999999999997,
          0.10600000000000001,
          0.10600000000000001,
          0.122,
          0.13599999999999998,
          0.146,
          0.144,
          0.146,
          0.14,
          0.136,
          0.12200000000000003,
          0.136,
          0.132,
          0.12800000000000003,
          0.126,
          0.12,
          0.11400000000000002,
          0.10800000000000001,
          0.10600000000000001,
          0.11200000000000002,
          0.11400000000000002,
          0.10600000000000001,
          0.11600000000000002,
          0.10799999999999998,
          0.096,
          0.1,
          0.11800000000000002,
          0.12,
          0.124,
          0.11400000000000002,
          0.122,
          0.118,
          0.11400000000000002,
          0.11200000000000002,
          0.11000000000000001,
          0.10800000000000001,
          0.086,
          0.096,
          0.096,
          0.10600000000000001,
          0.096,
          0.10200000000000001,
          0.10200000000000001,
          0.11200000000000002,
          0.118,
          0.11200000000000002,
          0.12000000000000002,
          0.11399999999999999,
          0.11200000000000002,
          0.10800000000000001,
          0.10800000000000001,
          0.10400000000000001,
          0.11200000000000002,
          0.11200000000000002,
          0.118,
          0.12600000000000003,
          0.124,
          0.12,
          0.13,
          0.13399999999999998,
          0.138,
          0.142,
          0.138,
          0.13599999999999998,
          0.136,
          0.13599999999999998,
          0.14,
          0.148,
          0.14200000000000002,
          0.14400000000000002,
          0.136,
          0.12800000000000003,
          0.126,
          0.12000000000000002,
          0.118,
          0.11400000000000002,
          0.11599999999999999,
          0.10800000000000001,
          0.10800000000000001,
          0.098,
          0.10400000000000001,
          0.11400000000000002,
          0.10799999999999998,
          0.124,
          0.11599999999999999,
          0.11600000000000002,
          0.10800000000000001,
          0.11399999999999999,
          0.11000000000000001,
          0.124,
          0.126,
          0.11400000000000002,
          0.122,
          0.11000000000000001,
          0.11599999999999999,
          0.11600000000000002,
          0.124,
          0.12200000000000003,
          0.132,
          0.11800000000000002,
          0.126,
          0.128,
          0.126,
          0.13399999999999998,
          0.134,
          0.13599999999999998,
          0.138,
          0.13799999999999998,
          0.134,
          0.13199999999999998,
          0.12,
          0.118,
          0.12000000000000002,
          0.11600000000000002,
          0.11400000000000002,
          0.11000000000000001,
          0.10400000000000001,
          0.098,
          0.088,
          0.09,
          0.092,
          0.1,
          0.096,
          0.1,
          0.098,
          0.096,
          0.098,
          0.10999999999999999,
          0.12799999999999997,
          0.126,
          0.13599999999999998,
          0.132,
          0.13399999999999998,
          0.142,
          0.142,
          0.152,
          0.16399999999999998,
          0.156,
          0.14400000000000002,
          0.144,
          0.142,
          0.15,
          0.15,
          0.136,
          0.13999999999999999,
          0.138,
          0.13,
          0.13999999999999999,
          0.13999999999999999,
          0.154,
          0.142,
          0.132,
          0.13,
          0.126,
          0.128,
          0.128,
          0.11800000000000002,
          0.11399999999999999,
          0.11000000000000001,
          0.098,
          0.10200000000000001,
          0.10800000000000001,
          0.10800000000000001,
          0.11400000000000002,
          0.10800000000000001,
          0.10200000000000001,
          0.10600000000000001,
          0.10200000000000001,
          0.11599999999999999,
          0.12000000000000002,
          0.126,
          0.11600000000000002,
          0.122,
          0.12200000000000003,
          0.128,
          0.13,
          0.14,
          0.154,
          0.14800000000000002,
          0.13799999999999998,
          0.132,
          0.142,
          0.14400000000000002,
          0.146,
          0.14,
          0.13599999999999998,
          0.136,
          0.136,
          0.13199999999999998,
          0.15,
          0.152,
          0.158,
          0.152,
          0.154,
          0.16199999999999998,
          0.17,
          0.16599999999999998,
          0.15,
          0.14600000000000002,
          0.14,
          0.13799999999999998,
          0.132,
          0.13599999999999998,
          0.128,
          0.122,
          0.124,
          0.11841666666666666
         ],
         "yaxis": "y"
        },
        {
         "hovertemplate": "variable=random<br>batches=%{x}<br>accuracy=%{y}<extra></extra>",
         "legendgroup": "random",
         "line": {
          "color": "cyan",
          "dash": "solid"
         },
         "mode": "lines",
         "name": "random",
         "showlegend": true,
         "type": "scattergl",
         "x": [
          0,
          1,
          2,
          3,
          4,
          5,
          6,
          7,
          8,
          9,
          10,
          11,
          12,
          13,
          14,
          15,
          16,
          17,
          18,
          19,
          20,
          21,
          22,
          23,
          24,
          25,
          26,
          27,
          28,
          29,
          30,
          31,
          32,
          33,
          34,
          35,
          36,
          37,
          38,
          39,
          40,
          41,
          42,
          43,
          44,
          45,
          46,
          47,
          48,
          49,
          50,
          51,
          52,
          53,
          54,
          55,
          56,
          57,
          58,
          59,
          60,
          61,
          62,
          63,
          64,
          65,
          66,
          67,
          68,
          69,
          70,
          71,
          72,
          73,
          74,
          75,
          76,
          77,
          78,
          79,
          80,
          81,
          82,
          83,
          84,
          85,
          86,
          87,
          88,
          89,
          90,
          91,
          92,
          93,
          94,
          95,
          96,
          97,
          98,
          99,
          100,
          101,
          102,
          103,
          104,
          105,
          106,
          107,
          108,
          109,
          110,
          111,
          112,
          113,
          114,
          115,
          116,
          117,
          118,
          119,
          120,
          121,
          122,
          123,
          124,
          125,
          126,
          127,
          128,
          129,
          130,
          131,
          132,
          133,
          134,
          135,
          136,
          137,
          138,
          139,
          140,
          141,
          142,
          143,
          144,
          145,
          146,
          147,
          148,
          149,
          150,
          151,
          152,
          153,
          154,
          155,
          156,
          157,
          158,
          159,
          160,
          161,
          162,
          163,
          164,
          165,
          166,
          167,
          168,
          169,
          170,
          171,
          172,
          173,
          174,
          175,
          176,
          177,
          178,
          179,
          180,
          181,
          182,
          183,
          184,
          185,
          186,
          187,
          188,
          189,
          190,
          191,
          192,
          193,
          194,
          195,
          196,
          197,
          198,
          199,
          200,
          201,
          202,
          203,
          204,
          205,
          206,
          207,
          208,
          209,
          210,
          211,
          212,
          213,
          214,
          215,
          216,
          217,
          218,
          219,
          220,
          221,
          222,
          223,
          224,
          225,
          226,
          227,
          228,
          229,
          230,
          231,
          232,
          233,
          234,
          235,
          236,
          237,
          238,
          239,
          240,
          241,
          242,
          243,
          244,
          245,
          246,
          247,
          248,
          249,
          250,
          251,
          252,
          253,
          254,
          255,
          256,
          257,
          258,
          259,
          260,
          261,
          262,
          263,
          264,
          265,
          266,
          267,
          268,
          269,
          270,
          271,
          272,
          273,
          274,
          275,
          276,
          277,
          278,
          279,
          280,
          281,
          282,
          283,
          284,
          285,
          286,
          287,
          288,
          289
         ],
         "xaxis": "x",
         "y": [
          0.10800000000000001,
          0.11399999999999999,
          0.122,
          0.126,
          0.124,
          0.12999999999999998,
          0.124,
          0.13,
          0.126,
          0.126,
          0.12400000000000003,
          0.11400000000000002,
          0.11599999999999999,
          0.10800000000000001,
          0.10800000000000001,
          0.11000000000000001,
          0.11199999999999999,
          0.10800000000000001,
          0.10600000000000001,
          0.10600000000000001,
          0.11400000000000002,
          0.11399999999999999,
          0.10800000000000001,
          0.11399999999999999,
          0.124,
          0.124,
          0.13,
          0.13799999999999998,
          0.13999999999999999,
          0.14,
          0.12600000000000003,
          0.12,
          0.118,
          0.124,
          0.12400000000000003,
          0.11399999999999999,
          0.10600000000000001,
          0.10600000000000001,
          0.1,
          0.10200000000000001,
          0.11000000000000001,
          0.10999999999999999,
          0.10800000000000001,
          0.1,
          0.092,
          0.10400000000000001,
          0.10400000000000001,
          0.096,
          0.11400000000000002,
          0.122,
          0.118,
          0.126,
          0.13599999999999998,
          0.138,
          0.142,
          0.134,
          0.142,
          0.144,
          0.13,
          0.13,
          0.132,
          0.124,
          0.11400000000000002,
          0.118,
          0.11200000000000002,
          0.11199999999999999,
          0.11399999999999999,
          0.11800000000000002,
          0.128,
          0.11800000000000002,
          0.12,
          0.132,
          0.132,
          0.124,
          0.128,
          0.132,
          0.13,
          0.128,
          0.124,
          0.124,
          0.12,
          0.11200000000000002,
          0.11000000000000001,
          0.11399999999999999,
          0.11600000000000002,
          0.11599999999999999,
          0.11600000000000002,
          0.124,
          0.12000000000000002,
          0.124,
          0.12200000000000003,
          0.126,
          0.13,
          0.13,
          0.13,
          0.12800000000000003,
          0.12,
          0.11000000000000001,
          0.10999999999999999,
          0.10800000000000001,
          0.11200000000000002,
          0.10800000000000001,
          0.11400000000000002,
          0.11600000000000002,
          0.11600000000000002,
          0.11599999999999999,
          0.11800000000000002,
          0.118,
          0.11600000000000002,
          0.122,
          0.11600000000000002,
          0.11800000000000002,
          0.12,
          0.122,
          0.11199999999999999,
          0.11200000000000002,
          0.11199999999999999,
          0.11599999999999999,
          0.11600000000000002,
          0.11199999999999999,
          0.118,
          0.12000000000000002,
          0.11399999999999999,
          0.118,
          0.13,
          0.13,
          0.132,
          0.134,
          0.138,
          0.134,
          0.126,
          0.12200000000000003,
          0.124,
          0.10800000000000001,
          0.10400000000000001,
          0.10400000000000001,
          0.094,
          0.094,
          0.098,
          0.1,
          0.098,
          0.1,
          0.10400000000000001,
          0.10600000000000001,
          0.10200000000000001,
          0.1,
          0.11400000000000002,
          0.11200000000000002,
          0.11400000000000002,
          0.11599999999999999,
          0.122,
          0.128,
          0.12200000000000003,
          0.128,
          0.134,
          0.13599999999999998,
          0.13,
          0.13,
          0.124,
          0.13,
          0.122,
          0.11200000000000002,
          0.12,
          0.122,
          0.118,
          0.124,
          0.126,
          0.126,
          0.126,
          0.11400000000000002,
          0.118,
          0.122,
          0.10800000000000001,
          0.098,
          0.098,
          0.092,
          0.096,
          0.098,
          0.1,
          0.10600000000000001,
          0.10999999999999999,
          0.11200000000000002,
          0.11000000000000001,
          0.12,
          0.126,
          0.132,
          0.12600000000000003,
          0.10800000000000001,
          0.1,
          0.098,
          0.096,
          0.092,
          0.10200000000000001,
          0.096,
          0.1,
          0.086,
          0.09,
          0.10200000000000001,
          0.11599999999999999,
          0.11200000000000002,
          0.12000000000000002,
          0.11599999999999999,
          0.11800000000000002,
          0.12,
          0.12200000000000003,
          0.128,
          0.128,
          0.12,
          0.10800000000000001,
          0.11199999999999999,
          0.11200000000000002,
          0.118,
          0.11000000000000001,
          0.11000000000000001,
          0.09,
          0.086,
          0.086,
          0.088,
          0.09,
          0.098,
          0.092,
          0.09,
          0.098,
          0.10200000000000001,
          0.118,
          0.118,
          0.11600000000000002,
          0.13,
          0.13599999999999998,
          0.124,
          0.11800000000000002,
          0.126,
          0.12200000000000003,
          0.12,
          0.11600000000000002,
          0.132,
          0.13399999999999998,
          0.128,
          0.126,
          0.124,
          0.134,
          0.132,
          0.132,
          0.128,
          0.13,
          0.118,
          0.12200000000000003,
          0.12,
          0.12600000000000003,
          0.128,
          0.11599999999999999,
          0.11400000000000002,
          0.10600000000000001,
          0.10800000000000001,
          0.10400000000000001,
          0.1,
          0.10400000000000001,
          0.10200000000000001,
          0.094,
          0.098,
          0.11000000000000001,
          0.10600000000000001,
          0.11800000000000002,
          0.118,
          0.11000000000000001,
          0.122,
          0.11800000000000002,
          0.128,
          0.12800000000000003,
          0.124,
          0.12200000000000003,
          0.124,
          0.12799999999999997,
          0.132,
          0.134,
          0.124,
          0.12,
          0.11400000000000002,
          0.11199999999999999,
          0.12200000000000003,
          0.124,
          0.12200000000000003,
          0.124,
          0.13,
          0.13,
          0.13200000000000003,
          0.134,
          0.13000000000000003,
          0.132,
          0.12433333333333334
         ],
         "yaxis": "y"
        }
       ],
       "layout": {
        "legend": {
         "title": {
          "text": "variable"
         },
         "tracegroupgap": 0
        },
        "template": {
         "data": {
          "bar": [
           {
            "error_x": {
             "color": "#2a3f5f"
            },
            "error_y": {
             "color": "#2a3f5f"
            },
            "marker": {
             "line": {
              "color": "#E5ECF6",
              "width": 0.5
             }
            },
            "type": "bar"
           }
          ],
          "barpolar": [
           {
            "marker": {
             "line": {
              "color": "#E5ECF6",
              "width": 0.5
             }
            },
            "type": "barpolar"
           }
          ],
          "carpet": [
           {
            "aaxis": {
             "endlinecolor": "#2a3f5f",
             "gridcolor": "white",
             "linecolor": "white",
             "minorgridcolor": "white",
             "startlinecolor": "#2a3f5f"
            },
            "baxis": {
             "endlinecolor": "#2a3f5f",
             "gridcolor": "white",
             "linecolor": "white",
             "minorgridcolor": "white",
             "startlinecolor": "#2a3f5f"
            },
            "type": "carpet"
           }
          ],
          "choropleth": [
           {
            "colorbar": {
             "outlinewidth": 0,
             "ticks": ""
            },
            "type": "choropleth"
           }
          ],
          "contour": [
           {
            "colorbar": {
             "outlinewidth": 0,
             "ticks": ""
            },
            "colorscale": [
             [
              0,
              "#0d0887"
             ],
             [
              0.1111111111111111,
              "#46039f"
             ],
             [
              0.2222222222222222,
              "#7201a8"
             ],
             [
              0.3333333333333333,
              "#9c179e"
             ],
             [
              0.4444444444444444,
              "#bd3786"
             ],
             [
              0.5555555555555556,
              "#d8576b"
             ],
             [
              0.6666666666666666,
              "#ed7953"
             ],
             [
              0.7777777777777778,
              "#fb9f3a"
             ],
             [
              0.8888888888888888,
              "#fdca26"
             ],
             [
              1,
              "#f0f921"
             ]
            ],
            "type": "contour"
           }
          ],
          "contourcarpet": [
           {
            "colorbar": {
             "outlinewidth": 0,
             "ticks": ""
            },
            "type": "contourcarpet"
           }
          ],
          "heatmap": [
           {
            "colorbar": {
             "outlinewidth": 0,
             "ticks": ""
            },
            "colorscale": [
             [
              0,
              "#0d0887"
             ],
             [
              0.1111111111111111,
              "#46039f"
             ],
             [
              0.2222222222222222,
              "#7201a8"
             ],
             [
              0.3333333333333333,
              "#9c179e"
             ],
             [
              0.4444444444444444,
              "#bd3786"
             ],
             [
              0.5555555555555556,
              "#d8576b"
             ],
             [
              0.6666666666666666,
              "#ed7953"
             ],
             [
              0.7777777777777778,
              "#fb9f3a"
             ],
             [
              0.8888888888888888,
              "#fdca26"
             ],
             [
              1,
              "#f0f921"
             ]
            ],
            "type": "heatmap"
           }
          ],
          "heatmapgl": [
           {
            "colorbar": {
             "outlinewidth": 0,
             "ticks": ""
            },
            "colorscale": [
             [
              0,
              "#0d0887"
             ],
             [
              0.1111111111111111,
              "#46039f"
             ],
             [
              0.2222222222222222,
              "#7201a8"
             ],
             [
              0.3333333333333333,
              "#9c179e"
             ],
             [
              0.4444444444444444,
              "#bd3786"
             ],
             [
              0.5555555555555556,
              "#d8576b"
             ],
             [
              0.6666666666666666,
              "#ed7953"
             ],
             [
              0.7777777777777778,
              "#fb9f3a"
             ],
             [
              0.8888888888888888,
              "#fdca26"
             ],
             [
              1,
              "#f0f921"
             ]
            ],
            "type": "heatmapgl"
           }
          ],
          "histogram": [
           {
            "marker": {
             "colorbar": {
              "outlinewidth": 0,
              "ticks": ""
             }
            },
            "type": "histogram"
           }
          ],
          "histogram2d": [
           {
            "colorbar": {
             "outlinewidth": 0,
             "ticks": ""
            },
            "colorscale": [
             [
              0,
              "#0d0887"
             ],
             [
              0.1111111111111111,
              "#46039f"
             ],
             [
              0.2222222222222222,
              "#7201a8"
             ],
             [
              0.3333333333333333,
              "#9c179e"
             ],
             [
              0.4444444444444444,
              "#bd3786"
             ],
             [
              0.5555555555555556,
              "#d8576b"
             ],
             [
              0.6666666666666666,
              "#ed7953"
             ],
             [
              0.7777777777777778,
              "#fb9f3a"
             ],
             [
              0.8888888888888888,
              "#fdca26"
             ],
             [
              1,
              "#f0f921"
             ]
            ],
            "type": "histogram2d"
           }
          ],
          "histogram2dcontour": [
           {
            "colorbar": {
             "outlinewidth": 0,
             "ticks": ""
            },
            "colorscale": [
             [
              0,
              "#0d0887"
             ],
             [
              0.1111111111111111,
              "#46039f"
             ],
             [
              0.2222222222222222,
              "#7201a8"
             ],
             [
              0.3333333333333333,
              "#9c179e"
             ],
             [
              0.4444444444444444,
              "#bd3786"
             ],
             [
              0.5555555555555556,
              "#d8576b"
             ],
             [
              0.6666666666666666,
              "#ed7953"
             ],
             [
              0.7777777777777778,
              "#fb9f3a"
             ],
             [
              0.8888888888888888,
              "#fdca26"
             ],
             [
              1,
              "#f0f921"
             ]
            ],
            "type": "histogram2dcontour"
           }
          ],
          "mesh3d": [
           {
            "colorbar": {
             "outlinewidth": 0,
             "ticks": ""
            },
            "type": "mesh3d"
           }
          ],
          "parcoords": [
           {
            "line": {
             "colorbar": {
              "outlinewidth": 0,
              "ticks": ""
             }
            },
            "type": "parcoords"
           }
          ],
          "pie": [
           {
            "automargin": true,
            "type": "pie"
           }
          ],
          "scatter": [
           {
            "marker": {
             "colorbar": {
              "outlinewidth": 0,
              "ticks": ""
             }
            },
            "type": "scatter"
           }
          ],
          "scatter3d": [
           {
            "line": {
             "colorbar": {
              "outlinewidth": 0,
              "ticks": ""
             }
            },
            "marker": {
             "colorbar": {
              "outlinewidth": 0,
              "ticks": ""
             }
            },
            "type": "scatter3d"
           }
          ],
          "scattercarpet": [
           {
            "marker": {
             "colorbar": {
              "outlinewidth": 0,
              "ticks": ""
             }
            },
            "type": "scattercarpet"
           }
          ],
          "scattergeo": [
           {
            "marker": {
             "colorbar": {
              "outlinewidth": 0,
              "ticks": ""
             }
            },
            "type": "scattergeo"
           }
          ],
          "scattergl": [
           {
            "marker": {
             "colorbar": {
              "outlinewidth": 0,
              "ticks": ""
             }
            },
            "type": "scattergl"
           }
          ],
          "scattermapbox": [
           {
            "marker": {
             "colorbar": {
              "outlinewidth": 0,
              "ticks": ""
             }
            },
            "type": "scattermapbox"
           }
          ],
          "scatterpolar": [
           {
            "marker": {
             "colorbar": {
              "outlinewidth": 0,
              "ticks": ""
             }
            },
            "type": "scatterpolar"
           }
          ],
          "scatterpolargl": [
           {
            "marker": {
             "colorbar": {
              "outlinewidth": 0,
              "ticks": ""
             }
            },
            "type": "scatterpolargl"
           }
          ],
          "scatterternary": [
           {
            "marker": {
             "colorbar": {
              "outlinewidth": 0,
              "ticks": ""
             }
            },
            "type": "scatterternary"
           }
          ],
          "surface": [
           {
            "colorbar": {
             "outlinewidth": 0,
             "ticks": ""
            },
            "colorscale": [
             [
              0,
              "#0d0887"
             ],
             [
              0.1111111111111111,
              "#46039f"
             ],
             [
              0.2222222222222222,
              "#7201a8"
             ],
             [
              0.3333333333333333,
              "#9c179e"
             ],
             [
              0.4444444444444444,
              "#bd3786"
             ],
             [
              0.5555555555555556,
              "#d8576b"
             ],
             [
              0.6666666666666666,
              "#ed7953"
             ],
             [
              0.7777777777777778,
              "#fb9f3a"
             ],
             [
              0.8888888888888888,
              "#fdca26"
             ],
             [
              1,
              "#f0f921"
             ]
            ],
            "type": "surface"
           }
          ],
          "table": [
           {
            "cells": {
             "fill": {
              "color": "#EBF0F8"
             },
             "line": {
              "color": "white"
             }
            },
            "header": {
             "fill": {
              "color": "#C8D4E3"
             },
             "line": {
              "color": "white"
             }
            },
            "type": "table"
           }
          ]
         },
         "layout": {
          "annotationdefaults": {
           "arrowcolor": "#2a3f5f",
           "arrowhead": 0,
           "arrowwidth": 1
          },
          "autotypenumbers": "strict",
          "coloraxis": {
           "colorbar": {
            "outlinewidth": 0,
            "ticks": ""
           }
          },
          "colorscale": {
           "diverging": [
            [
             0,
             "#8e0152"
            ],
            [
             0.1,
             "#c51b7d"
            ],
            [
             0.2,
             "#de77ae"
            ],
            [
             0.3,
             "#f1b6da"
            ],
            [
             0.4,
             "#fde0ef"
            ],
            [
             0.5,
             "#f7f7f7"
            ],
            [
             0.6,
             "#e6f5d0"
            ],
            [
             0.7,
             "#b8e186"
            ],
            [
             0.8,
             "#7fbc41"
            ],
            [
             0.9,
             "#4d9221"
            ],
            [
             1,
             "#276419"
            ]
           ],
           "sequential": [
            [
             0,
             "#0d0887"
            ],
            [
             0.1111111111111111,
             "#46039f"
            ],
            [
             0.2222222222222222,
             "#7201a8"
            ],
            [
             0.3333333333333333,
             "#9c179e"
            ],
            [
             0.4444444444444444,
             "#bd3786"
            ],
            [
             0.5555555555555556,
             "#d8576b"
            ],
            [
             0.6666666666666666,
             "#ed7953"
            ],
            [
             0.7777777777777778,
             "#fb9f3a"
            ],
            [
             0.8888888888888888,
             "#fdca26"
            ],
            [
             1,
             "#f0f921"
            ]
           ],
           "sequentialminus": [
            [
             0,
             "#0d0887"
            ],
            [
             0.1111111111111111,
             "#46039f"
            ],
            [
             0.2222222222222222,
             "#7201a8"
            ],
            [
             0.3333333333333333,
             "#9c179e"
            ],
            [
             0.4444444444444444,
             "#bd3786"
            ],
            [
             0.5555555555555556,
             "#d8576b"
            ],
            [
             0.6666666666666666,
             "#ed7953"
            ],
            [
             0.7777777777777778,
             "#fb9f3a"
            ],
            [
             0.8888888888888888,
             "#fdca26"
            ],
            [
             1,
             "#f0f921"
            ]
           ]
          },
          "colorway": [
           "#636efa",
           "#EF553B",
           "#00cc96",
           "#ab63fa",
           "#FFA15A",
           "#19d3f3",
           "#FF6692",
           "#B6E880",
           "#FF97FF",
           "#FECB52"
          ],
          "font": {
           "color": "#2a3f5f"
          },
          "geo": {
           "bgcolor": "white",
           "lakecolor": "white",
           "landcolor": "#E5ECF6",
           "showlakes": true,
           "showland": true,
           "subunitcolor": "white"
          },
          "hoverlabel": {
           "align": "left"
          },
          "hovermode": "closest",
          "mapbox": {
           "style": "light"
          },
          "paper_bgcolor": "white",
          "plot_bgcolor": "#E5ECF6",
          "polar": {
           "angularaxis": {
            "gridcolor": "white",
            "linecolor": "white",
            "ticks": ""
           },
           "bgcolor": "#E5ECF6",
           "radialaxis": {
            "gridcolor": "white",
            "linecolor": "white",
            "ticks": ""
           }
          },
          "scene": {
           "xaxis": {
            "backgroundcolor": "#E5ECF6",
            "gridcolor": "white",
            "gridwidth": 2,
            "linecolor": "white",
            "showbackground": true,
            "ticks": "",
            "zerolinecolor": "white"
           },
           "yaxis": {
            "backgroundcolor": "#E5ECF6",
            "gridcolor": "white",
            "gridwidth": 2,
            "linecolor": "white",
            "showbackground": true,
            "ticks": "",
            "zerolinecolor": "white"
           },
           "zaxis": {
            "backgroundcolor": "#E5ECF6",
            "gridcolor": "white",
            "gridwidth": 2,
            "linecolor": "white",
            "showbackground": true,
            "ticks": "",
            "zerolinecolor": "white"
           }
          },
          "shapedefaults": {
           "line": {
            "color": "#2a3f5f"
           }
          },
          "ternary": {
           "aaxis": {
            "gridcolor": "white",
            "linecolor": "white",
            "ticks": ""
           },
           "baxis": {
            "gridcolor": "white",
            "linecolor": "white",
            "ticks": ""
           },
           "bgcolor": "#E5ECF6",
           "caxis": {
            "gridcolor": "white",
            "linecolor": "white",
            "ticks": ""
           }
          },
          "title": {
           "x": 0.05
          },
          "xaxis": {
           "automargin": true,
           "gridcolor": "white",
           "linecolor": "white",
           "ticks": "",
           "title": {
            "standoff": 15
           },
           "zerolinecolor": "white",
           "zerolinewidth": 2
          },
          "yaxis": {
           "automargin": true,
           "gridcolor": "white",
           "linecolor": "white",
           "ticks": "",
           "title": {
            "standoff": 15
           },
           "zerolinecolor": "white",
           "zerolinewidth": 2
          }
         }
        },
        "title": {
         "text": "Moving averages over accuracy while learning with window 10 on dataset syn_ds_1"
        },
        "xaxis": {
         "anchor": "y",
         "domain": [
          0,
          1
         ],
         "title": {
          "text": "batches"
         }
        },
        "yaxis": {
         "anchor": "x",
         "domain": [
          0,
          1
         ],
         "title": {
          "text": "accuracy"
         }
        }
       }
      }
     },
     "metadata": {}
    }
   ],
   "source": [
    "#moving averages\n",
    "title = \"Moving averages over accuracy while learning with window {} on dataset {}\".format(n_window, dataset_name)\n",
    "col_names = [\"Pure\",\"FIRES\", \"OFS\", \"OFSSGD\", \"FSDS\", \"random\"]\n",
    "d = {\"Pure\":pure_moving_average, \"FIRES\":fires_moving_average, \"OFS\":ofs_moving_average, \n",
    "\"OFSSGD\":ofssgd_moving_average, \"FSDS\":fsds_moving_average, \"random\":random_moving_average}\n",
    "df = pd.DataFrame(d, columns=col_names)\n",
    "fig = px.line(df, y=col_names, title=title, labels={\"index\":\"batches\", \"value\":\"accuracy\"}, color_discrete_map={\"Pure\":\"blue\",'FIRES': 'red', \n",
    "                                                   'FSDS': 'green', 'OFS': 'purple', \"OFSSGD\":\"yellow\", \"random\":\"cyan\"})\n",
    "fig.show()\n"
   ]
  },
  {
   "cell_type": "code",
   "execution_count": 70,
   "metadata": {},
   "outputs": [
    {
     "output_type": "display_data",
     "data": {
      "application/vnd.plotly.v1+json": {
       "config": {
        "plotlyServerURL": "https://plot.ly"
       },
       "data": [
        {
         "hovertemplate": "variable=Pure<br>batches=%{x}<br>accuracy=%{y}<extra></extra>",
         "legendgroup": "Pure",
         "line": {
          "color": "blue",
          "dash": "solid"
         },
         "mode": "lines",
         "name": "Pure",
         "showlegend": true,
         "type": "scattergl",
         "x": [
          0,
          1,
          2,
          3,
          4,
          5,
          6,
          7,
          8,
          9,
          10,
          11,
          12,
          13,
          14,
          15,
          16,
          17,
          18,
          19,
          20,
          21,
          22,
          23,
          24,
          25,
          26,
          27,
          28,
          29,
          30,
          31,
          32,
          33,
          34,
          35,
          36,
          37,
          38,
          39,
          40,
          41,
          42,
          43,
          44,
          45,
          46,
          47,
          48,
          49,
          50,
          51,
          52,
          53,
          54,
          55,
          56,
          57,
          58,
          59,
          60,
          61,
          62,
          63,
          64,
          65,
          66,
          67,
          68,
          69,
          70,
          71,
          72,
          73,
          74,
          75,
          76,
          77,
          78,
          79,
          80,
          81,
          82,
          83,
          84,
          85,
          86,
          87,
          88,
          89,
          90,
          91,
          92,
          93,
          94,
          95,
          96,
          97,
          98,
          99,
          100,
          101,
          102,
          103,
          104,
          105,
          106,
          107,
          108,
          109,
          110,
          111,
          112,
          113,
          114,
          115,
          116,
          117,
          118,
          119,
          120,
          121,
          122,
          123,
          124,
          125,
          126,
          127,
          128,
          129,
          130,
          131,
          132,
          133,
          134,
          135,
          136,
          137,
          138,
          139,
          140,
          141,
          142,
          143,
          144,
          145,
          146,
          147,
          148,
          149,
          150,
          151,
          152,
          153,
          154,
          155,
          156,
          157,
          158,
          159,
          160,
          161,
          162,
          163,
          164,
          165,
          166,
          167,
          168,
          169,
          170,
          171,
          172,
          173,
          174,
          175,
          176,
          177,
          178,
          179,
          180,
          181,
          182,
          183,
          184,
          185,
          186,
          187,
          188,
          189,
          190,
          191,
          192,
          193,
          194,
          195,
          196,
          197,
          198,
          199,
          200,
          201,
          202,
          203,
          204,
          205,
          206,
          207,
          208,
          209,
          210,
          211,
          212,
          213,
          214,
          215,
          216,
          217,
          218,
          219,
          220,
          221,
          222,
          223,
          224,
          225,
          226,
          227,
          228,
          229,
          230,
          231,
          232,
          233,
          234,
          235,
          236,
          237,
          238,
          239,
          240,
          241,
          242,
          243,
          244,
          245,
          246,
          247,
          248,
          249,
          250,
          251,
          252,
          253,
          254,
          255,
          256,
          257,
          258,
          259,
          260,
          261,
          262,
          263,
          264,
          265,
          266,
          267,
          268,
          269,
          270,
          271,
          272,
          273,
          274,
          275,
          276,
          277,
          278,
          279,
          280,
          281,
          282,
          283,
          284,
          285,
          286,
          287,
          288,
          289
         ],
         "xaxis": "x",
         "y": [
          0.12960522712581538,
          0.1392656333862216,
          0.15568032980091803,
          0.1590219659425542,
          0.15975009859421624,
          0.15682402793285147,
          0.15453262521791933,
          0.1557847175700117,
          0.17455377073906486,
          0.18053914415477884,
          0.1855813519469866,
          0.1813792207448554,
          0.1892697191353538,
          0.1807165445321792,
          0.16689513391665095,
          0.1830289713210766,
          0.19400890641865876,
          0.1898826437923961,
          0.16160247951223183,
          0.16723653568653568,
          0.16500659895659894,
          0.15952890997890998,
          0.14610021122668182,
          0.15885879708526768,
          0.17352756622462503,
          0.15097826650473709,
          0.1533672513760749,
          0.15470895411777763,
          0.16522843463725817,
          0.15902115694762756,
          0.15643654156301215,
          0.16160840303487362,
          0.1591468253968254,
          0.1683375859434683,
          0.16600844841433077,
          0.17144178174766408,
          0.17755136660724896,
          0.1809877524436348,
          0.19765660058895354,
          0.19187100840336133,
          0.20564948548183842,
          0.2116950177273707,
          0.22160541843777137,
          0.20928804561451617,
          0.2018878493195831,
          0.21167118265291637,
          0.20237021793136342,
          0.2027929799646518,
          0.20271165540685665,
          0.22145864175384303,
          0.2105786883738896,
          0.20385104085800682,
          0.18339556300252896,
          0.17747879088575685,
          0.18536049514640848,
          0.17754534363125696,
          0.18337060072710226,
          0.1762257385717138,
          0.17011880237065996,
          0.16500125325311082,
          0.16753999229184985,
          0.18207405561414852,
          0.1913788175189104,
          0.203978551118644,
          0.2058063671622495,
          0.22001437582025818,
          0.22318935639523874,
          0.24184332464920702,
          0.2516392163392163,
          0.24403712953712953,
          0.2389075434369552,
          0.22862793415734592,
          0.24453887289181409,
          0.235873937826879,
          0.23939964545258663,
          0.22558349656879068,
          0.224234678067031,
          0.2048384057119351,
          0.20838821146174089,
          0.20940797503150446,
          0.21790619250031015,
          0.21984368801133508,
          0.21145655880067643,
          0.2092232254673431,
          0.19848858233269998,
          0.2035028997146644,
          0.20500736257206845,
          0.2278494113729408,
          0.2118804137039431,
          0.22426980764333707,
          0.2144174932910227,
          0.2145844266844267,
          0.22217172827172824,
          0.22034499944499947,
          0.21742912642912643,
          0.21551563991563988,
          0.2151223599929482,
          0.1953690205219617,
          0.1926713065400372,
          0.17719728056601122,
          0.1897660451347758,
          0.18046503503376568,
          0.17788084643254923,
          0.17910656515826795,
          0.1833551610068638,
          0.19140179215349495,
          0.17669455592567046,
          0.17762564836264527,
          0.17609702201822947,
          0.18065575217695962,
          0.1794542869754944,
          0.1887206206418281,
          0.18111232804003702,
          0.1967100636377726,
          0.19685945868716764,
          0.1941246823523913,
          0.21385980278751177,
          0.21961038814986183,
          0.22899756763704132,
          0.2255521130915868,
          0.2198895090289827,
          0.22066539980487349,
          0.22477158952158954,
          0.2236286358568967,
          0.22653237656063743,
          0.22173773786599874,
          0.21555559223385315,
          0.223335934114195,
          0.2128255223037832,
          0.21953331451157537,
          0.22454024091850178,
          0.22302451220277306,
          0.22216972254798342,
          0.20881968031968032,
          0.20291503385503384,
          0.2161464690864691,
          0.2189854895431366,
          0.21162358478123183,
          0.22083381665462162,
          0.222404113024918,
          0.22264403976484473,
          0.2250580202288252,
          0.23259245409561197,
          0.24869788200103987,
          0.26223556209871995,
          0.2664419113050692,
          0.26473613538164625,
          0.2663168435623544,
          0.25965051223286517,
          0.2603831416949064,
          0.2516614078731726,
          0.24140303846480315,
          0.23705138848080026,
          0.229883751439479,
          0.21718708144280902,
          0.19654350279923036,
          0.20253989529562286,
          0.20577183002755758,
          0.20096663522236277,
          0.20897770650402228,
          0.20800092772724352,
          0.20222185124816705,
          0.20012437650069229,
          0.19721191586191586,
          0.20092193917193915,
          0.19897893772893774,
          0.18275339660339662,
          0.16821804306804305,
          0.17138275613275614,
          0.16197922632922632,
          0.1663555167055167,
          0.18608581973581975,
          0.18425672105672106,
          0.19420385888621183,
          0.19461374899610193,
          0.21071376727847319,
          0.2112511410158469,
          0.21979962586433172,
          0.2292487434134493,
          0.22649101225571813,
          0.235309305074011,
          0.23913311459782047,
          0.23896892976304743,
          0.23295990382166853,
          0.22943960190136664,
          0.22766570194511374,
          0.2343486079280197,
          0.23237961025902204,
          0.2309450448244566,
          0.22991333405156938,
          0.2298525503907857,
          0.2136518177900531,
          0.20548678282501812,
          0.20694646425469956,
          0.2177016313098666,
          0.2036304191886545,
          0.20017730563554093,
          0.2003906110435832,
          0.19486986512283727,
          0.20013110192525052,
          0.18988013067427928,
          0.19484578723993584,
          0.20257733804207487,
          0.18837392811866496,
          0.1753852129123027,
          0.1844166797546391,
          0.19292230746026678,
          0.18990582744904996,
          0.18729563372120916,
          0.1824156803412558,
          0.19058697980202893,
          0.19050216788192292,
          0.1923608258905809,
          0.20802841059345972,
          0.21787417985687604,
          0.21571168130115498,
          0.22178982537929906,
          0.23718309877257243,
          0.23974693885405957,
          0.23701919992632065,
          0.2227346803523274,
          0.2324843607373019,
          0.23931050681344795,
          0.2304498818175289,
          0.23386185872950577,
          0.22484202464202463,
          0.2082729048729049,
          0.2013948495948496,
          0.20308821938295624,
          0.21019474618948303,
          0.21092557092030778,
          0.19603570523044206,
          0.19168423447897132,
          0.19712123081596766,
          0.1962857329804698,
          0.20783041052514734,
          0.22215148944622629,
          0.2202258484205853,
          0.2237620790973732,
          0.21927875131404542,
          0.21683164286693696,
          0.21736870580399997,
          0.22369642253171668,
          0.22389271279116482,
          0.21873109662954865,
          0.2095503288593072,
          0.20571972612870443,
          0.20469742620640458,
          0.2018188302925145,
          0.20849465446833867,
          0.2271847643584486,
          0.2274794474531317,
          0.22381832670253723,
          0.22219712801818065,
          0.2154200051410578,
          0.2308445513550777,
          0.22921130421006586,
          0.2246264446252062,
          0.2155074747062363,
          0.20642640022516184,
          0.1990030236017852,
          0.1985625581848492,
          0.19735084719202364,
          0.19360760938407995,
          0.19720462348109408,
          0.188309890436361,
          0.18463898617722146,
          0.18736444405267932,
          0.1945098985981339,
          0.1944608652785123,
          0.20233199414964123,
          0.20499394451437794,
          0.20558251607353775,
          0.2052907818359831,
          0.20756151110671234,
          0.19879159768679894,
          0.18929148843932125,
          0.19303053272836554,
          0.19024440251870592,
          0.1978795608244525,
          0.18445215489704653,
          0.18474328481975538,
          0.17883251225898283,
          0.1907646760016729,
          0.18295541859241551,
          0.1888509700997317,
          0.19832665932278937,
          0.19318365787978792,
          0.20080177832143775,
          0.19533362829407722
         ],
         "yaxis": "y"
        },
        {
         "hovertemplate": "variable=FIRES<br>batches=%{x}<br>accuracy=%{y}<extra></extra>",
         "legendgroup": "FIRES",
         "line": {
          "color": "red",
          "dash": "solid"
         },
         "mode": "lines",
         "name": "FIRES",
         "showlegend": true,
         "type": "scattergl",
         "x": [
          0,
          1,
          2,
          3,
          4,
          5,
          6,
          7,
          8,
          9,
          10,
          11,
          12,
          13,
          14,
          15,
          16,
          17,
          18,
          19,
          20,
          21,
          22,
          23,
          24,
          25,
          26,
          27,
          28,
          29,
          30,
          31,
          32,
          33,
          34,
          35,
          36,
          37,
          38,
          39,
          40,
          41,
          42,
          43,
          44,
          45,
          46,
          47,
          48,
          49,
          50,
          51,
          52,
          53,
          54,
          55,
          56,
          57,
          58,
          59,
          60,
          61,
          62,
          63,
          64,
          65,
          66,
          67,
          68,
          69,
          70,
          71,
          72,
          73,
          74,
          75,
          76,
          77,
          78,
          79,
          80,
          81,
          82,
          83,
          84,
          85,
          86,
          87,
          88,
          89,
          90,
          91,
          92,
          93,
          94,
          95,
          96,
          97,
          98,
          99,
          100,
          101,
          102,
          103,
          104,
          105,
          106,
          107,
          108,
          109,
          110,
          111,
          112,
          113,
          114,
          115,
          116,
          117,
          118,
          119,
          120,
          121,
          122,
          123,
          124,
          125,
          126,
          127,
          128,
          129,
          130,
          131,
          132,
          133,
          134,
          135,
          136,
          137,
          138,
          139,
          140,
          141,
          142,
          143,
          144,
          145,
          146,
          147,
          148,
          149,
          150,
          151,
          152,
          153,
          154,
          155,
          156,
          157,
          158,
          159,
          160,
          161,
          162,
          163,
          164,
          165,
          166,
          167,
          168,
          169,
          170,
          171,
          172,
          173,
          174,
          175,
          176,
          177,
          178,
          179,
          180,
          181,
          182,
          183,
          184,
          185,
          186,
          187,
          188,
          189,
          190,
          191,
          192,
          193,
          194,
          195,
          196,
          197,
          198,
          199,
          200,
          201,
          202,
          203,
          204,
          205,
          206,
          207,
          208,
          209,
          210,
          211,
          212,
          213,
          214,
          215,
          216,
          217,
          218,
          219,
          220,
          221,
          222,
          223,
          224,
          225,
          226,
          227,
          228,
          229,
          230,
          231,
          232,
          233,
          234,
          235,
          236,
          237,
          238,
          239,
          240,
          241,
          242,
          243,
          244,
          245,
          246,
          247,
          248,
          249,
          250,
          251,
          252,
          253,
          254,
          255,
          256,
          257,
          258,
          259,
          260,
          261,
          262,
          263,
          264,
          265,
          266,
          267,
          268,
          269,
          270,
          271,
          272,
          273,
          274,
          275,
          276,
          277,
          278,
          279,
          280,
          281,
          282,
          283,
          284,
          285,
          286,
          287,
          288,
          289
         ],
         "xaxis": "x",
         "y": [
          0.08858165271261247,
          0.08542520915616891,
          0.08645153968838179,
          0.08837278510962722,
          0.08307901221585431,
          0.08723280695912275,
          0.08564769873401454,
          0.08492693322501373,
          0.09140422435493642,
          0.08416537723714194,
          0.09338038445214916,
          0.10391025458201927,
          0.1138390861369378,
          0.11143688833474001,
          0.12795996525781692,
          0.12816667358217232,
          0.1297032969587957,
          0.12685507851057726,
          0.12027174517724389,
          0.13431385044040178,
          0.13397416790071928,
          0.1233754101367441,
          0.11257584931109632,
          0.12135657034444894,
          0.1256337820216606,
          0.11892315539338691,
          0.1292088696791012,
          0.13876832982679663,
          0.13900776098387485,
          0.13676954780386602,
          0.13409189212621034,
          0.15274286434239995,
          0.15395113940067498,
          0.16152799412489813,
          0.1505708427795115,
          0.16072542153409025,
          0.15574879815746687,
          0.15357724748591622,
          0.16165301779403946,
          0.16000941279223013,
          0.18197929715623212,
          0.17717946365639864,
          0.18260553203246704,
          0.1740683254482016,
          0.18030137866949011,
          0.17610186239628964,
          0.17713043382486107,
          0.17828726588169314,
          0.1738694392638665,
          0.17708073354234344,
          0.159178614746107,
          0.14874434901184128,
          0.1427870618545541,
          0.14476596008051118,
          0.14612258240555456,
          0.150230814524313,
          0.156055789549288,
          0.16182077750251125,
          0.17323713500122168,
          0.1599465060223574,
          0.15689319266904406,
          0.16776482104067245,
          0.1824001660877822,
          0.17828868149394467,
          0.174540182418201,
          0.17556173630291277,
          0.16972334136451786,
          0.158543634796576,
          0.15473756905289412,
          0.15882414913947424,
          0.16337566429098938,
          0.1575824241977493,
          0.15099032479388516,
          0.15257177275768605,
          0.16152798190801287,
          0.1536846252646562,
          0.15222415993019706,
          0.1628284889345261,
          0.1535465642372763,
          0.17217839906911112,
          0.17429961119032325,
          0.17609541538612744,
          0.179200852054722,
          0.18195616341003337,
          0.16656051232908814,
          0.17321527717208832,
          0.18733347132743416,
          0.18149557588953874,
          0.18490249576704684,
          0.17229147345602455,
          0.1733581401226912,
          0.18515717442172552,
          0.18118842883982206,
          0.17640211515350834,
          0.20146119028889928,
          0.20518325972273344,
          0.19468720648116936,
          0.21411846724938663,
          0.20896795371063778,
          0.21184850649119058,
          0.2092707287134128,
          0.2127695233827957,
          0.2144024293657017,
          0.2179115202747926,
          0.19763456857152512,
          0.1907355786725352,
          0.18655471117402064,
          0.16413104281339574,
          0.17866657951611511,
          0.18246413620778945,
          0.18026644501009828,
          0.1659098858829509,
          0.1707666790897441,
          0.17776553872683903,
          0.1720339147952151,
          0.17307994654124687,
          0.16550310116440145,
          0.17231089337219369,
          0.15682976631211926,
          0.15273474042297572,
          0.16673274242097771,
          0.1672294679177032,
          0.15821504345327875,
          0.16639339066730371,
          0.17045992413383718,
          0.1810153099245171,
          0.19487152038072755,
          0.18909056799977514,
          0.203332620099722,
          0.20466318953029142,
          0.1949223969894989,
          0.20250546294315308,
          0.20276626880395895,
          0.18884922401300114,
          0.2004977685718905,
          0.20064041807924587,
          0.21435643539526322,
          0.22207576312635563,
          0.22287411506681282,
          0.2196881764440321,
          0.22494356549942118,
          0.23735184153710898,
          0.2449266001118675,
          0.2473923787776462,
          0.2408294328306712,
          0.23976249976373815,
          0.22145203245327086,
          0.21417657196604564,
          0.2033765331160068,
          0.20178782416413998,
          0.19821106758738338,
          0.18208942256573835,
          0.17396041562496672,
          0.17510763507218616,
          0.17203052796876325,
          0.16139707253530783,
          0.17570512471704425,
          0.17194538445730395,
          0.17506389547844656,
          0.17967695376518908,
          0.17285857214680744,
          0.1729001971884325,
          0.17150379620379622,
          0.17238210210841792,
          0.17605309777941358,
          0.1884798377061535,
          0.18118821879874514,
          0.1860707584812848,
          0.17738056913846387,
          0.1775807198649304,
          0.18354741983163034,
          0.17846293764714816,
          0.18647505885926935,
          0.1880090628669576,
          0.1888732264811212,
          0.1813907880045651,
          0.17662370537958771,
          0.17311851057439293,
          0.18113739169327406,
          0.19473016558604792,
          0.20016186721774956,
          0.20447120428591017,
          0.20696992778463366,
          0.2045011243658302,
          0.2028843133990193,
          0.2068574465610069,
          0.21254418074185874,
          0.21504677814445614,
          0.22183229262997065,
          0.20325536955304754,
          0.1948820317797098,
          0.1875836837225382,
          0.18102318866204312,
          0.18068704147589595,
          0.17258877307762757,
          0.1643319210201563,
          0.156844461420932,
          0.16690714084676933,
          0.16896753927187363,
          0.17579684330117767,
          0.1828393119436463,
          0.20729845280278716,
          0.20337494297927736,
          0.1916320858364202,
          0.1928210968254312,
          0.19855504131231688,
          0.1975069266818493,
          0.18970355461531935,
          0.1879845716375128,
          0.18889935860493137,
          0.18968658804216082,
          0.17799704425261703,
          0.18812171957729235,
          0.194606873638917,
          0.19996498219702552,
          0.20168156626655076,
          0.19984926001071512,
          0.20548961965107476,
          0.2012118738674466,
          0.21671961291202776,
          0.21349508188749672,
          0.2080482620406769,
          0.20468116247357732,
          0.20657219888814318,
          0.21435108666703093,
          0.20058652443188046,
          0.19481385657685965,
          0.1896406898742812,
          0.1887433910946295,
          0.1761664639282286,
          0.1783985707103354,
          0.17592909019085487,
          0.1815241116125017,
          0.18600882339195032,
          0.1773831823663093,
          0.18544865480237,
          0.20345722531682284,
          0.2079267401157494,
          0.20268894621030845,
          0.1916110267441537,
          0.182922937056064,
          0.18823397601710296,
          0.18505617071267227,
          0.18629503927445104,
          0.18683927151280094,
          0.18187111627622465,
          0.1764245184296268,
          0.17740988861499699,
          0.1741934661485745,
          0.1829127997561434,
          0.19028746953081319,
          0.19002850627184992,
          0.18521356500396746,
          0.17992539369814914,
          0.17705605192880736,
          0.18215220139337787,
          0.1782790856202621,
          0.1808868112279877,
          0.1909776713482596,
          0.17849715186774012,
          0.18342453092143493,
          0.1880784991754032,
          0.1902606399104851,
          0.1901194885781573,
          0.19073324279779388,
          0.19039471465926575,
          0.18867591124046232,
          0.1784549100194611,
          0.17188649477457524,
          0.17718231855863437,
          0.16692650127650127,
          0.15159902874902875,
          0.15340705775705776,
          0.14973538857656504,
          0.15940932020049664,
          0.14842150801268447,
          0.14906533728282953,
          0.15608676030425256,
          0.15402085888540998,
          0.1591527152643252,
          0.164301448883647,
          0.17557893218465973,
          0.17267013727586483,
          0.18277612018184772,
          0.18123698709271466,
          0.19721570837143593,
          0.1986401330695448,
          0.19490722023074963,
          0.19843162915515858,
          0.19572563008886537
         ],
         "yaxis": "y"
        },
        {
         "hovertemplate": "variable=OFS<br>batches=%{x}<br>accuracy=%{y}<extra></extra>",
         "legendgroup": "OFS",
         "line": {
          "color": "purple",
          "dash": "solid"
         },
         "mode": "lines",
         "name": "OFS",
         "showlegend": true,
         "type": "scattergl",
         "x": [
          0,
          1,
          2,
          3,
          4,
          5,
          6,
          7,
          8,
          9,
          10,
          11,
          12,
          13,
          14,
          15,
          16,
          17,
          18,
          19,
          20,
          21,
          22,
          23,
          24,
          25,
          26,
          27,
          28,
          29,
          30,
          31,
          32,
          33,
          34,
          35,
          36,
          37,
          38,
          39,
          40,
          41,
          42,
          43,
          44,
          45,
          46,
          47,
          48,
          49,
          50,
          51,
          52,
          53,
          54,
          55,
          56,
          57,
          58,
          59,
          60,
          61,
          62,
          63,
          64,
          65,
          66,
          67,
          68,
          69,
          70,
          71,
          72,
          73,
          74,
          75,
          76,
          77,
          78,
          79,
          80,
          81,
          82,
          83,
          84,
          85,
          86,
          87,
          88,
          89,
          90,
          91,
          92,
          93,
          94,
          95,
          96,
          97,
          98,
          99,
          100,
          101,
          102,
          103,
          104,
          105,
          106,
          107,
          108,
          109,
          110,
          111,
          112,
          113,
          114,
          115,
          116,
          117,
          118,
          119,
          120,
          121,
          122,
          123,
          124,
          125,
          126,
          127,
          128,
          129,
          130,
          131,
          132,
          133,
          134,
          135,
          136,
          137,
          138,
          139,
          140,
          141,
          142,
          143,
          144,
          145,
          146,
          147,
          148,
          149,
          150,
          151,
          152,
          153,
          154,
          155,
          156,
          157,
          158,
          159,
          160,
          161,
          162,
          163,
          164,
          165,
          166,
          167,
          168,
          169,
          170,
          171,
          172,
          173,
          174,
          175,
          176,
          177,
          178,
          179,
          180,
          181,
          182,
          183,
          184,
          185,
          186,
          187,
          188,
          189,
          190,
          191,
          192,
          193,
          194,
          195,
          196,
          197,
          198,
          199,
          200,
          201,
          202,
          203,
          204,
          205,
          206,
          207,
          208,
          209,
          210,
          211,
          212,
          213,
          214,
          215,
          216,
          217,
          218,
          219,
          220,
          221,
          222,
          223,
          224,
          225,
          226,
          227,
          228,
          229,
          230,
          231,
          232,
          233,
          234,
          235,
          236,
          237,
          238,
          239,
          240,
          241,
          242,
          243,
          244,
          245,
          246,
          247,
          248,
          249,
          250,
          251,
          252,
          253,
          254,
          255,
          256,
          257,
          258,
          259,
          260,
          261,
          262,
          263,
          264,
          265,
          266,
          267,
          268,
          269,
          270,
          271,
          272,
          273,
          274,
          275,
          276,
          277,
          278,
          279,
          280,
          281,
          282,
          283,
          284,
          285,
          286,
          287,
          288,
          289
         ],
         "xaxis": "x",
         "y": [
          0.12646390650972694,
          0.12500671925253967,
          0.13949694014276057,
          0.13738411962994007,
          0.13735588120170164,
          0.1422245680703885,
          0.14757348712518994,
          0.14479832193949843,
          0.15441490185081516,
          0.15147423467485385,
          0.14873308226001725,
          0.15236188737303288,
          0.15248984830099382,
          0.1584035737911899,
          0.16676214854976465,
          0.18984639763401373,
          0.19943627428642907,
          0.20389719147381688,
          0.20035380503569358,
          0.21132962921151774,
          0.214480172235745,
          0.2186902218352683,
          0.21719325213829857,
          0.22927816134673723,
          0.22463170780028366,
          0.19595118831976416,
          0.18935893495908976,
          0.187539745609082,
          0.18974820381754018,
          0.1810653089346453,
          0.18490716357123677,
          0.18448065207104108,
          0.1805010982914873,
          0.18085899594938498,
          0.17528463697502597,
          0.1877893322797213,
          0.1839971244875135,
          0.17694829708303392,
          0.17704194261878473,
          0.17476226673910883,
          0.18054954375517845,
          0.19581725969936498,
          0.21207069254103308,
          0.21214364736398794,
          0.2208905553579547,
          0.21667563106655985,
          0.23173161718570387,
          0.22947363738772406,
          0.2290338713058527,
          0.2480952295554463,
          0.23456869530538263,
          0.21368012244033915,
          0.19118413999141554,
          0.1853192992765748,
          0.18300302731324403,
          0.1871187841054714,
          0.1870886022474258,
          0.1913873884285649,
          0.20742375206492855,
          0.1980461100990513,
          0.19470407435701553,
          0.21131450685537373,
          0.23020024660581936,
          0.2377240476413851,
          0.24042663524985505,
          0.2504889285121484,
          0.2474169482048739,
          0.2542885378467422,
          0.24830187538639553,
          0.24026897495349506,
          0.24594308972760986,
          0.23531987981059185,
          0.23679390578461784,
          0.23115652311225068,
          0.23079765844750363,
          0.2237327488472999,
          0.22712971854426964,
          0.23279411905603858,
          0.2306272794628832,
          0.24122181825742195,
          0.23958396721957093,
          0.25263840297988904,
          0.24647987028451426,
          0.24093168035954413,
          0.2265918110784984,
          0.2314393158612973,
          0.2322773333993148,
          0.23023952219091534,
          0.23351574270243,
          0.22155713464382196,
          0.2172954407821281,
          0.2045156872023745,
          0.19754463836816777,
          0.2013285600020894,
          0.20943899205369795,
          0.20203460754931343,
          0.20241722493193084,
          0.1974757376610318,
          0.20094777181882445,
          0.20556681943787206,
          0.21941447178552442,
          0.22646647076693519,
          0.23093566268612706,
          0.2287067220189511,
          0.22937165708388618,
          0.2360670394792686,
          0.22379320220543128,
          0.22490540111763022,
          0.20998320927438577,
          0.21635566492331196,
          0.20445918950330716,
          0.20117147068617655,
          0.2084578343225402,
          0.21155333620627736,
          0.2163506722036134,
          0.20239061004355122,
          0.21070773736067855,
          0.20796716682010802,
          0.22091538526832646,
          0.21857906407318173,
          0.23571424523189227,
          0.2359356793533264,
          0.22422006163770872,
          0.24413923135687837,
          0.23949124600889307,
          0.24533500225264931,
          0.24356664162776695,
          0.24197201403313934,
          0.24118110494223027,
          0.25245280709628537,
          0.2334965189399972,
          0.23402232646580473,
          0.2392011899999314,
          0.20791939336519363,
          0.1983237261668948,
          0.208722198283014,
          0.2263477572650947,
          0.23059830671564416,
          0.23600826342560088,
          0.224987786929273,
          0.2314036377451238,
          0.2231913222828083,
          0.22999474313096605,
          0.237120678959843,
          0.24665457459637027,
          0.2348581074927824,
          0.22239239542707034,
          0.21406845270312763,
          0.20232723313837866,
          0.19743684272383963,
          0.19981293329993022,
          0.19810566834266524,
          0.19282698943643214,
          0.20424567630511903,
          0.20018436408792445,
          0.20432055160182094,
          0.18860006098133034,
          0.20005194243321175,
          0.18684348010091043,
          0.18594671020414053,
          0.1798141094715398,
          0.19120312046055082,
          0.18587227555726007,
          0.18262233660732113,
          0.18666057190143875,
          0.17488940299466613,
          0.18833731064257378,
          0.18286480537006852,
          0.19230532975796133,
          0.19230512995776156,
          0.19476327181590342,
          0.19150429549810352,
          0.20117226086606893,
          0.20202970342351145,
          0.19828867778248582,
          0.21457113392283672,
          0.20458916034086316,
          0.20486180991351272,
          0.20873604678774957,
          0.22310430075600354,
          0.2351327389844418,
          0.2394868534973798,
          0.23311412622465255,
          0.23209760940813573,
          0.2292960554065817,
          0.22013728493728496,
          0.22881253717043187,
          0.22835098760888234,
          0.23546686062475536,
          0.21809634225423696,
          0.2050082303661251,
          0.19225759766549239,
          0.19923912724702197,
          0.20944978325767796,
          0.22210852451641924,
          0.22514799674010194,
          0.22111381324214138,
          0.2163977293260575,
          0.2192912913196195,
          0.23148980391813206,
          0.23605421728254544,
          0.2513993554776836,
          0.24830906798739613,
          0.22658775792490965,
          0.2198956056327573,
          0.218349406802348,
          0.2249280464633406,
          0.22165012438541848,
          0.21439032862562274,
          0.21782063165592577,
          0.21919466285348638,
          0.19996045261927614,
          0.19878722584604938,
          0.21440057589469355,
          0.2146960020371785,
          0.22346100925218573,
          0.22131822393292983,
          0.23489491390961978,
          0.23336235805967265,
          0.22959807789539247,
          0.2200892925630777,
          0.23142177119555635,
          0.22339006956385474,
          0.2262348085881603,
          0.23260108740738034,
          0.22372123425399776,
          0.22425200348476698,
          0.22417531350807698,
          0.2256546226047774,
          0.2298264063765612,
          0.22994040349055828,
          0.22174272078111085,
          0.23681831185670194,
          0.22703068369538962,
          0.22161105128102032,
          0.22734279731276633,
          0.234151540856804,
          0.23023267638793957,
          0.22979000794527113,
          0.21455595311121628,
          0.2166841582394214,
          0.23435424632127416,
          0.22765525642228432,
          0.24075641082343865,
          0.23516608652785123,
          0.2216325197678139,
          0.2118098679098679,
          0.21441641136641137,
          0.21609943944943946,
          0.22223190698190698,
          0.2330171217671218,
          0.21996912531912532,
          0.21376377102429736,
          0.2081317807923071,
          0.21225403696750447,
          0.22301038617385366,
          0.2180504741904123,
          0.2142219138618519,
          0.20968358160587258,
          0.21494651866880968,
          0.21057366407242567,
          0.21605023194899356,
          0.22483196542020073,
          0.22582607686431216,
          0.23541637480166894,
          0.23728823072352484,
          0.2445272413860649,
          0.2400960947549183,
          0.23285900243547303,
          0.23250340900929137,
          0.22884496157437334,
          0.219909186238598,
          0.2126181492054557,
          0.2049935974070649,
          0.20487520352024996,
          0.18937432106936752,
          0.19203696953201596,
          0.20809269713774356,
          0.21336528011032657,
          0.21516291058442763,
          0.21658289060440766,
          0.22367724526935057,
          0.233656094490305,
          0.23844083084098563,
          0.24379618776476358,
          0.2508789383475142,
          0.24487503114360704,
          0.2406162399348158,
          0.24566520325220015,
          0.2389486610797756
         ],
         "yaxis": "y"
        },
        {
         "hovertemplate": "variable=OFSSGD<br>batches=%{x}<br>accuracy=%{y}<extra></extra>",
         "legendgroup": "OFSSGD",
         "line": {
          "color": "yellow",
          "dash": "solid"
         },
         "mode": "lines",
         "name": "OFSSGD",
         "showlegend": true,
         "type": "scattergl",
         "x": [
          0,
          1,
          2,
          3,
          4,
          5,
          6,
          7,
          8,
          9,
          10,
          11,
          12,
          13,
          14,
          15,
          16,
          17,
          18,
          19,
          20,
          21,
          22,
          23,
          24,
          25,
          26,
          27,
          28,
          29,
          30,
          31,
          32,
          33,
          34,
          35,
          36,
          37,
          38,
          39,
          40,
          41,
          42,
          43,
          44,
          45,
          46,
          47,
          48,
          49,
          50,
          51,
          52,
          53,
          54,
          55,
          56,
          57,
          58,
          59,
          60,
          61,
          62,
          63,
          64,
          65,
          66,
          67,
          68,
          69,
          70,
          71,
          72,
          73,
          74,
          75,
          76,
          77,
          78,
          79,
          80,
          81,
          82,
          83,
          84,
          85,
          86,
          87,
          88,
          89,
          90,
          91,
          92,
          93,
          94,
          95,
          96,
          97,
          98,
          99,
          100,
          101,
          102,
          103,
          104,
          105,
          106,
          107,
          108,
          109,
          110,
          111,
          112,
          113,
          114,
          115,
          116,
          117,
          118,
          119,
          120,
          121,
          122,
          123,
          124,
          125,
          126,
          127,
          128,
          129,
          130,
          131,
          132,
          133,
          134,
          135,
          136,
          137,
          138,
          139,
          140,
          141,
          142,
          143,
          144,
          145,
          146,
          147,
          148,
          149,
          150,
          151,
          152,
          153,
          154,
          155,
          156,
          157,
          158,
          159,
          160,
          161,
          162,
          163,
          164,
          165,
          166,
          167,
          168,
          169,
          170,
          171,
          172,
          173,
          174,
          175,
          176,
          177,
          178,
          179,
          180,
          181,
          182,
          183,
          184,
          185,
          186,
          187,
          188,
          189,
          190,
          191,
          192,
          193,
          194,
          195,
          196,
          197,
          198,
          199,
          200,
          201,
          202,
          203,
          204,
          205,
          206,
          207,
          208,
          209,
          210,
          211,
          212,
          213,
          214,
          215,
          216,
          217,
          218,
          219,
          220,
          221,
          222,
          223,
          224,
          225,
          226,
          227,
          228,
          229,
          230,
          231,
          232,
          233,
          234,
          235,
          236,
          237,
          238,
          239,
          240,
          241,
          242,
          243,
          244,
          245,
          246,
          247,
          248,
          249,
          250,
          251,
          252,
          253,
          254,
          255,
          256,
          257,
          258,
          259,
          260,
          261,
          262,
          263,
          264,
          265,
          266,
          267,
          268,
          269,
          270,
          271,
          272,
          273,
          274,
          275,
          276,
          277,
          278,
          279,
          280,
          281,
          282,
          283,
          284,
          285,
          286,
          287,
          288,
          289
         ],
         "xaxis": "x",
         "y": [
          0.12960522712581538,
          0.1392656333862216,
          0.15568032980091803,
          0.1590219659425542,
          0.15975009859421624,
          0.15682402793285147,
          0.15453262521791933,
          0.1557847175700117,
          0.17455377073906486,
          0.18053914415477884,
          0.1855813519469866,
          0.1813792207448554,
          0.1892697191353538,
          0.1807165445321792,
          0.16689513391665095,
          0.1830289713210766,
          0.19400890641865876,
          0.1898826437923961,
          0.16160247951223183,
          0.16723653568653568,
          0.16500659895659894,
          0.15952890997890998,
          0.14610021122668182,
          0.15885879708526768,
          0.17352756622462503,
          0.15097826650473709,
          0.1533672513760749,
          0.15470895411777763,
          0.16522843463725817,
          0.15902115694762756,
          0.15643654156301215,
          0.16160840303487362,
          0.1591468253968254,
          0.1683375859434683,
          0.16600844841433077,
          0.17144178174766408,
          0.17755136660724896,
          0.1809877524436348,
          0.19765660058895354,
          0.19187100840336133,
          0.20564948548183842,
          0.2116950177273707,
          0.22160541843777137,
          0.20928804561451617,
          0.2018878493195831,
          0.21167118265291637,
          0.20237021793136342,
          0.2027929799646518,
          0.20271165540685665,
          0.22145864175384303,
          0.2105786883738896,
          0.20385104085800682,
          0.18339556300252896,
          0.17747879088575685,
          0.18536049514640848,
          0.17754534363125696,
          0.18337060072710226,
          0.1762257385717138,
          0.17011880237065996,
          0.16500125325311082,
          0.16753999229184985,
          0.18207405561414852,
          0.1913788175189104,
          0.203978551118644,
          0.2058063671622495,
          0.22001437582025818,
          0.22318935639523874,
          0.24184332464920702,
          0.2516392163392163,
          0.24403712953712953,
          0.2389075434369552,
          0.22862793415734592,
          0.24453887289181409,
          0.235873937826879,
          0.23939964545258663,
          0.22558349656879068,
          0.224234678067031,
          0.2048384057119351,
          0.20838821146174089,
          0.20940797503150446,
          0.21790619250031015,
          0.21984368801133508,
          0.21145655880067643,
          0.2092232254673431,
          0.19848858233269998,
          0.2035028997146644,
          0.20500736257206845,
          0.2278494113729408,
          0.2118804137039431,
          0.22426980764333707,
          0.2144174932910227,
          0.2145844266844267,
          0.22217172827172824,
          0.22034499944499947,
          0.21742912642912643,
          0.21551563991563988,
          0.2151223599929482,
          0.1953690205219617,
          0.1926713065400372,
          0.17719728056601122,
          0.1897660451347758,
          0.18046503503376568,
          0.17788084643254923,
          0.17910656515826795,
          0.1833551610068638,
          0.19140179215349495,
          0.17669455592567046,
          0.17762564836264527,
          0.17609702201822947,
          0.18065575217695962,
          0.1794542869754944,
          0.1887206206418281,
          0.18111232804003702,
          0.1967100636377726,
          0.19685945868716764,
          0.1941246823523913,
          0.21385980278751177,
          0.21961038814986183,
          0.22899756763704132,
          0.2255521130915868,
          0.2198895090289827,
          0.22066539980487349,
          0.22477158952158954,
          0.2236286358568967,
          0.22653237656063743,
          0.22173773786599874,
          0.21555559223385315,
          0.223335934114195,
          0.2128255223037832,
          0.21953331451157537,
          0.22454024091850178,
          0.22302451220277306,
          0.22216972254798342,
          0.20881968031968032,
          0.20291503385503384,
          0.2161464690864691,
          0.2189854895431366,
          0.21162358478123183,
          0.22083381665462162,
          0.222404113024918,
          0.22264403976484473,
          0.2250580202288252,
          0.23259245409561197,
          0.24869788200103987,
          0.26223556209871995,
          0.2664419113050692,
          0.26473613538164625,
          0.2663168435623544,
          0.25965051223286517,
          0.2603831416949064,
          0.2516614078731726,
          0.24140303846480315,
          0.23705138848080026,
          0.229883751439479,
          0.21718708144280902,
          0.19654350279923036,
          0.20253989529562286,
          0.20577183002755758,
          0.20096663522236277,
          0.20897770650402228,
          0.20800092772724352,
          0.20222185124816705,
          0.20012437650069229,
          0.19721191586191586,
          0.20092193917193915,
          0.19897893772893774,
          0.18275339660339662,
          0.16821804306804305,
          0.17138275613275614,
          0.16197922632922632,
          0.1663555167055167,
          0.18608581973581975,
          0.18425672105672106,
          0.19420385888621183,
          0.19461374899610193,
          0.21071376727847319,
          0.2112511410158469,
          0.21979962586433172,
          0.2292487434134493,
          0.22649101225571813,
          0.235309305074011,
          0.23913311459782047,
          0.23896892976304743,
          0.23295990382166853,
          0.22943960190136664,
          0.22766570194511374,
          0.2343486079280197,
          0.23237961025902204,
          0.2309450448244566,
          0.22991333405156938,
          0.2298525503907857,
          0.2136518177900531,
          0.20548678282501812,
          0.20694646425469956,
          0.2177016313098666,
          0.2036304191886545,
          0.20017730563554093,
          0.2003906110435832,
          0.19486986512283727,
          0.20013110192525052,
          0.18988013067427928,
          0.19484578723993584,
          0.20257733804207487,
          0.18837392811866496,
          0.1753852129123027,
          0.1844166797546391,
          0.19292230746026678,
          0.18990582744904996,
          0.18729563372120916,
          0.1824156803412558,
          0.19058697980202893,
          0.19050216788192292,
          0.1923608258905809,
          0.20802841059345972,
          0.21787417985687604,
          0.21571168130115498,
          0.22178982537929906,
          0.23718309877257243,
          0.23974693885405957,
          0.23701919992632065,
          0.2227346803523274,
          0.2324843607373019,
          0.23931050681344795,
          0.2304498818175289,
          0.23386185872950577,
          0.22484202464202463,
          0.2082729048729049,
          0.2013948495948496,
          0.20308821938295624,
          0.21019474618948303,
          0.21092557092030778,
          0.19603570523044206,
          0.19168423447897132,
          0.19712123081596766,
          0.1962857329804698,
          0.20783041052514734,
          0.22215148944622629,
          0.2202258484205853,
          0.2237620790973732,
          0.21927875131404542,
          0.21683164286693696,
          0.21736870580399997,
          0.22369642253171668,
          0.22389271279116482,
          0.21873109662954865,
          0.2095503288593072,
          0.20571972612870443,
          0.20469742620640458,
          0.2018188302925145,
          0.20849465446833867,
          0.2271847643584486,
          0.2274794474531317,
          0.22381832670253723,
          0.22219712801818065,
          0.2154200051410578,
          0.2308445513550777,
          0.22921130421006586,
          0.2246264446252062,
          0.2155074747062363,
          0.20642640022516184,
          0.1990030236017852,
          0.1985625581848492,
          0.19735084719202364,
          0.19360760938407995,
          0.19720462348109408,
          0.188309890436361,
          0.18463898617722146,
          0.18736444405267932,
          0.1945098985981339,
          0.1944608652785123,
          0.20233199414964123,
          0.20499394451437794,
          0.20558251607353775,
          0.2052907818359831,
          0.20756151110671234,
          0.19879159768679894,
          0.18929148843932125,
          0.19303053272836554,
          0.19024440251870592,
          0.1978795608244525,
          0.18445215489704653,
          0.18474328481975538,
          0.17883251225898283,
          0.1907646760016729,
          0.18295541859241551,
          0.1888509700997317,
          0.19832665932278937,
          0.19318365787978792,
          0.20080177832143775,
          0.19533362829407722
         ],
         "yaxis": "y"
        },
        {
         "hovertemplate": "variable=FSDS<br>batches=%{x}<br>accuracy=%{y}<extra></extra>",
         "legendgroup": "FSDS",
         "line": {
          "color": "green",
          "dash": "solid"
         },
         "mode": "lines",
         "name": "FSDS",
         "showlegend": true,
         "type": "scattergl",
         "x": [
          0,
          1,
          2,
          3,
          4,
          5,
          6,
          7,
          8,
          9,
          10,
          11,
          12,
          13,
          14,
          15,
          16,
          17,
          18,
          19,
          20,
          21,
          22,
          23,
          24,
          25,
          26,
          27,
          28,
          29,
          30,
          31,
          32,
          33,
          34,
          35,
          36,
          37,
          38,
          39,
          40,
          41,
          42,
          43,
          44,
          45,
          46,
          47,
          48,
          49,
          50,
          51,
          52,
          53,
          54,
          55,
          56,
          57,
          58,
          59,
          60,
          61,
          62,
          63,
          64,
          65,
          66,
          67,
          68,
          69,
          70,
          71,
          72,
          73,
          74,
          75,
          76,
          77,
          78,
          79,
          80,
          81,
          82,
          83,
          84,
          85,
          86,
          87,
          88,
          89,
          90,
          91,
          92,
          93,
          94,
          95,
          96,
          97,
          98,
          99,
          100,
          101,
          102,
          103,
          104,
          105,
          106,
          107,
          108,
          109,
          110,
          111,
          112,
          113,
          114,
          115,
          116,
          117,
          118,
          119,
          120,
          121,
          122,
          123,
          124,
          125,
          126,
          127,
          128,
          129,
          130,
          131,
          132,
          133,
          134,
          135,
          136,
          137,
          138,
          139,
          140,
          141,
          142,
          143,
          144,
          145,
          146,
          147,
          148,
          149,
          150,
          151,
          152,
          153,
          154,
          155,
          156,
          157,
          158,
          159,
          160,
          161,
          162,
          163,
          164,
          165,
          166,
          167,
          168,
          169,
          170,
          171,
          172,
          173,
          174,
          175,
          176,
          177,
          178,
          179,
          180,
          181,
          182,
          183,
          184,
          185,
          186,
          187,
          188,
          189,
          190,
          191,
          192,
          193,
          194,
          195,
          196,
          197,
          198,
          199,
          200,
          201,
          202,
          203,
          204,
          205,
          206,
          207,
          208,
          209,
          210,
          211,
          212,
          213,
          214,
          215,
          216,
          217,
          218,
          219,
          220,
          221,
          222,
          223,
          224,
          225,
          226,
          227,
          228,
          229,
          230,
          231,
          232,
          233,
          234,
          235,
          236,
          237,
          238,
          239,
          240,
          241,
          242,
          243,
          244,
          245,
          246,
          247,
          248,
          249,
          250,
          251,
          252,
          253,
          254,
          255,
          256,
          257,
          258,
          259,
          260,
          261,
          262,
          263,
          264,
          265,
          266,
          267,
          268,
          269,
          270,
          271,
          272,
          273,
          274,
          275,
          276,
          277,
          278,
          279,
          280,
          281,
          282,
          283,
          284,
          285,
          286,
          287,
          288,
          289
         ],
         "xaxis": "x",
         "y": [
          0.12708280151221327,
          0.12190848693789871,
          0.12618851279439516,
          0.12860394442159148,
          0.13035053884883605,
          0.1326150410133382,
          0.129454213605452,
          0.12923272398396238,
          0.12640011215135055,
          0.11794000559124398,
          0.12582042647754724,
          0.13248709314421386,
          0.13748854523006493,
          0.13090873206077808,
          0.12269196219493703,
          0.125363879166854,
          0.13021326866624347,
          0.12118396463693945,
          0.12112324496445508,
          0.12826786700907714,
          0.12680901475022485,
          0.12164262819560304,
          0.11913575342785872,
          0.11636030519188414,
          0.12068762348762348,
          0.11467992475360896,
          0.12419835072048695,
          0.12880186485341286,
          0.13018004484335755,
          0.1164544371177498,
          0.10949289865621137,
          0.11367256841885325,
          0.11479161603790086,
          0.11950803850432334,
          0.118107389153674,
          0.11868381262700149,
          0.10931141840615526,
          0.11192402148934658,
          0.11327489868232901,
          0.11320310381053415,
          0.11489174849917885,
          0.11526894148163498,
          0.10482122906333431,
          0.10088777362987889,
          0.11113431042641568,
          0.1121066655223002,
          0.10368698226438164,
          0.10446988824728762,
          0.10188824182353592,
          0.11488982912512324,
          0.12344427467956878,
          0.11468871912401324,
          0.13207820263671657,
          0.1328983383833229,
          0.1195095937945783,
          0.11607799500121481,
          0.12161042335717258,
          0.12266923121598043,
          0.12796031790706713,
          0.12034660939335862,
          0.11620969630644554,
          0.11787514197189122,
          0.10974361618773383,
          0.11359649631414337,
          0.1270250677427148,
          0.1312464101258219,
          0.13426132070543836,
          0.12589859846036316,
          0.11437161433337903,
          0.11058373554550024,
          0.10671706887883359,
          0.10844051210227681,
          0.10302494216496774,
          0.10122205616208173,
          0.10610354776988913,
          0.09780246682469054,
          0.08659147781370154,
          0.08548562288431719,
          0.08805485365354795,
          0.09321563796727345,
          0.09119558449133762,
          0.09365272734848047,
          0.10468234989984215,
          0.11557431381827665,
          0.09777218728983435,
          0.09995381122145827,
          0.11195651440063203,
          0.12587202242202242,
          0.13438691863691862,
          0.13354921124627006,
          0.1353437957467369,
          0.1299470924500336,
          0.12571741297917768,
          0.11172804646334059,
          0.1202391575744517,
          0.11646626380155793,
          0.11289086220968576,
          0.10657397909280261,
          0.10212610941861718,
          0.09683160392411168,
          0.09194192138442914,
          0.0909648151573229,
          0.094756776790461,
          0.09910309713678135,
          0.09249097592466013,
          0.10101565124933547,
          0.09482515207530688,
          0.08727707792723273,
          0.0902447167211873,
          0.10981223808870869,
          0.10925625518272578,
          0.11000112697759756,
          0.10334507192154249,
          0.1118942251075378,
          0.11028141634767019,
          0.10717578864204251,
          0.10540052469030796,
          0.10299881528859856,
          0.10038356387334715,
          0.07663747107725435,
          0.0847801506199339,
          0.08603750698905498,
          0.09341636146790945,
          0.08303096609273079,
          0.0895638325726561,
          0.08874299066946126,
          0.0965925633190339,
          0.10249854622501682,
          0.09698868941516,
          0.10706192173839232,
          0.10312559140206198,
          0.10132790869261457,
          0.09923238754709343,
          0.09739114055878761,
          0.09498918695683403,
          0.10452474747474746,
          0.10571147186147185,
          0.10597691752691754,
          0.1133679709179709,
          0.10974473859473859,
          0.10603562417974184,
          0.11750171364583128,
          0.11880201889613655,
          0.12528804398216162,
          0.12669317218728982,
          0.11886140983199807,
          0.1195857965563848,
          0.12425637042695867,
          0.12620299112652053,
          0.13044033448491654,
          0.1364401757169559,
          0.12975763603441623,
          0.13317924775602794,
          0.12439452137130155,
          0.11661898448988232,
          0.11615670667481812,
          0.1087344844525959,
          0.10607103221855545,
          0.10010720182809967,
          0.10253346153330674,
          0.09699951127304068,
          0.0984178262913557,
          0.08575909613262553,
          0.09216099423452365,
          0.10195240543769954,
          0.09846982223143215,
          0.11478520684681674,
          0.10778312722709008,
          0.10853211508134109,
          0.09886461591384191,
          0.10232413972336571,
          0.09643088736169231,
          0.1122335735643785,
          0.11482215165295659,
          0.10473008685500947,
          0.11290310272802533,
          0.10162151829938207,
          0.10681508290471138,
          0.10934679680484634,
          0.11820917244090619,
          0.11663481346654721,
          0.1268256238257786,
          0.1124394277995826,
          0.119830481190636,
          0.12186222722238202,
          0.11955111611127092,
          0.12778398259119622,
          0.13067710529236845,
          0.13097985972747583,
          0.13328431725824913,
          0.13776502543895733,
          0.13137968463596947,
          0.12724635574264057,
          0.11620934275562758,
          0.11478510033138516,
          0.11592103106731591,
          0.11087658662287145,
          0.1084186235333294,
          0.10505526303761599,
          0.09783518311753606,
          0.08830105613340908,
          0.08107089022089023,
          0.08717980352980352,
          0.08902576312576313,
          0.09434744144744144,
          0.09152817737817738,
          0.09573284591225768,
          0.09108149726090901,
          0.0886549238343356,
          0.09111920954862131,
          0.10320001762942939,
          0.12494640457581634,
          0.12311048363401304,
          0.12475663748016688,
          0.12443386221621515,
          0.124404375036728,
          0.1308760262613204,
          0.13151209607386077,
          0.14066267882444353,
          0.15204573204573205,
          0.14294724719724722,
          0.12692137307137305,
          0.1261119837678661,
          0.13021128446716684,
          0.13403662383368264,
          0.13475345437156583,
          0.12227249480825333,
          0.12828257884186675,
          0.1258017152610032,
          0.11808032525572572,
          0.13054937287477333,
          0.13133888336428384,
          0.14353863916403964,
          0.13425472308012354,
          0.12491950040805877,
          0.12547562110195035,
          0.12258282500915425,
          0.1232854988059457,
          0.12374623397720719,
          0.11421480164142703,
          0.10679120856783395,
          0.10407692285354823,
          0.09181122188784727,
          0.09488215095877633,
          0.09995070696417445,
          0.09600269745734141,
          0.09790979519052612,
          0.0898312972179105,
          0.08325468903077599,
          0.08683050210658906,
          0.08522102498240605,
          0.09743199179337286,
          0.10468798579936686,
          0.10906763947902057,
          0.10226763947902055,
          0.10714123255261362,
          0.11178737689898681,
          0.11836320107481098,
          0.1221578534812281,
          0.1317153143210419,
          0.14312834899878243,
          0.13655461162504506,
          0.12505402887446232,
          0.11830007759698162,
          0.1273616160585201,
          0.13334516584206985,
          0.13366699313758137,
          0.12934065281124105,
          0.12479984655867007,
          0.1254401409048468,
          0.12655563097033687,
          0.12393485174955762,
          0.14133485174955762,
          0.14536659778130365,
          0.15225570867041455,
          0.14520975462446048,
          0.14456676166970284,
          0.1505264353293765,
          0.15849380129674248,
          0.15464836046306635,
          0.14154417196150942,
          0.13666018927752674,
          0.13247464149197893,
          0.12949046715238666,
          0.12234934161126113,
          0.126485122497042,
          0.12348381530749952,
          0.12075048197416619,
          0.12056297340430466,
          0.11498080557213686
         ],
         "yaxis": "y"
        },
        {
         "hovertemplate": "variable=random<br>batches=%{x}<br>accuracy=%{y}<extra></extra>",
         "legendgroup": "random",
         "line": {
          "color": "cyan",
          "dash": "solid"
         },
         "mode": "lines",
         "name": "random",
         "showlegend": true,
         "type": "scattergl",
         "x": [
          0,
          1,
          2,
          3,
          4,
          5,
          6,
          7,
          8,
          9,
          10,
          11,
          12,
          13,
          14,
          15,
          16,
          17,
          18,
          19,
          20,
          21,
          22,
          23,
          24,
          25,
          26,
          27,
          28,
          29,
          30,
          31,
          32,
          33,
          34,
          35,
          36,
          37,
          38,
          39,
          40,
          41,
          42,
          43,
          44,
          45,
          46,
          47,
          48,
          49,
          50,
          51,
          52,
          53,
          54,
          55,
          56,
          57,
          58,
          59,
          60,
          61,
          62,
          63,
          64,
          65,
          66,
          67,
          68,
          69,
          70,
          71,
          72,
          73,
          74,
          75,
          76,
          77,
          78,
          79,
          80,
          81,
          82,
          83,
          84,
          85,
          86,
          87,
          88,
          89,
          90,
          91,
          92,
          93,
          94,
          95,
          96,
          97,
          98,
          99,
          100,
          101,
          102,
          103,
          104,
          105,
          106,
          107,
          108,
          109,
          110,
          111,
          112,
          113,
          114,
          115,
          116,
          117,
          118,
          119,
          120,
          121,
          122,
          123,
          124,
          125,
          126,
          127,
          128,
          129,
          130,
          131,
          132,
          133,
          134,
          135,
          136,
          137,
          138,
          139,
          140,
          141,
          142,
          143,
          144,
          145,
          146,
          147,
          148,
          149,
          150,
          151,
          152,
          153,
          154,
          155,
          156,
          157,
          158,
          159,
          160,
          161,
          162,
          163,
          164,
          165,
          166,
          167,
          168,
          169,
          170,
          171,
          172,
          173,
          174,
          175,
          176,
          177,
          178,
          179,
          180,
          181,
          182,
          183,
          184,
          185,
          186,
          187,
          188,
          189,
          190,
          191,
          192,
          193,
          194,
          195,
          196,
          197,
          198,
          199,
          200,
          201,
          202,
          203,
          204,
          205,
          206,
          207,
          208,
          209,
          210,
          211,
          212,
          213,
          214,
          215,
          216,
          217,
          218,
          219,
          220,
          221,
          222,
          223,
          224,
          225,
          226,
          227,
          228,
          229,
          230,
          231,
          232,
          233,
          234,
          235,
          236,
          237,
          238,
          239,
          240,
          241,
          242,
          243,
          244,
          245,
          246,
          247,
          248,
          249,
          250,
          251,
          252,
          253,
          254,
          255,
          256,
          257,
          258,
          259,
          260,
          261,
          262,
          263,
          264,
          265,
          266,
          267,
          268,
          269,
          270,
          271,
          272,
          273,
          274,
          275,
          276,
          277,
          278,
          279,
          280,
          281,
          282,
          283,
          284,
          285,
          286,
          287,
          288,
          289
         ],
         "xaxis": "x",
         "y": [
          0.09368938897135828,
          0.10170240340790213,
          0.10926777137327011,
          0.11685698705954459,
          0.11596504566760321,
          0.11785256370512125,
          0.1156309950776703,
          0.12226718699033276,
          0.12253213942919824,
          0.12133531403237285,
          0.122098763654646,
          0.10887006294359236,
          0.10888336140983201,
          0.09871081239022415,
          0.09704231422172599,
          0.10381105659046837,
          0.10431719694134556,
          0.10107476393575465,
          0.09653095480371023,
          0.09948040535316077,
          0.10652979844373034,
          0.10753199232827715,
          0.10106834421168787,
          0.10700644120241642,
          0.1175753056712809,
          0.11591969461566984,
          0.11888516164292177,
          0.12725865949010381,
          0.13069407701375663,
          0.12820176932144894,
          0.11310811852779816,
          0.10770578752546715,
          0.10720765232733195,
          0.11714964191668997,
          0.11764177200882006,
          0.10859713769576469,
          0.10360385199595727,
          0.10181941503628811,
          0.09533573205260512,
          0.09764684316371623,
          0.10893731935419244,
          0.10789744694589895,
          0.10563807298652501,
          0.08903417688262891,
          0.08049552664397866,
          0.09186501388188695,
          0.09091037641409158,
          0.0833864258548469,
          0.10059528366370471,
          0.10397604832388115,
          0.09677345092128373,
          0.10691268537104451,
          0.11160480991316904,
          0.11688173299009212,
          0.11937953518789432,
          0.10978664441853296,
          0.11661127953573773,
          0.11838790291236112,
          0.1045096311840894,
          0.1086272113163754,
          0.11297397305137244,
          0.10388824737354149,
          0.09896004224533636,
          0.10531767350296764,
          0.10319924700193243,
          0.10530631803547405,
          0.10975784787818035,
          0.11626782678815928,
          0.12399438356471604,
          0.11392206372769031,
          0.11506621108360238,
          0.12396339723078853,
          0.12660387342126472,
          0.11816931908671038,
          0.12040056610056608,
          0.12466383061383061,
          0.12075034507975684,
          0.11692201785142961,
          0.11301136622235694,
          0.11422978571136466,
          0.11008743394548348,
          0.10568469224274177,
          0.10067516843321796,
          0.10265294621099574,
          0.10383438699243652,
          0.1033148568150116,
          0.10432151740588273,
          0.11532324900761434,
          0.11441225561504201,
          0.11605670005948643,
          0.11278599821231401,
          0.11612686845318425,
          0.12325500698132279,
          0.12413348405979988,
          0.12353466066097647,
          0.12100612779033833,
          0.10965453213453213,
          0.09749642357642357,
          0.09361952223215382,
          0.09362211963475121,
          0.09852781394044552,
          0.09321442907969224,
          0.09550484977011293,
          0.09928318138002348,
          0.09884188933873145,
          0.10066499956184168,
          0.10374280175964386,
          0.10257493629177841,
          0.10348524736357553,
          0.10753321755643737,
          0.10203871206193187,
          0.10498478580243287,
          0.10596855366855366,
          0.1096756255440466,
          0.10122367749209853,
          0.09747376307902623,
          0.10110200150726464,
          0.10334578713340323,
          0.10533950583300429,
          0.10106116045976725,
          0.10753423738284418,
          0.10693161843316641,
          0.1037576956926802,
          0.10514937068435522,
          0.1128446087795933,
          0.11645859245673489,
          0.1146306701210726,
          0.11792358113163066,
          0.11968414327480152,
          0.11659739113804937,
          0.10826664247494777,
          0.10707921878752409,
          0.10691894631146212,
          0.09103409782661363,
          0.08916962896214478,
          0.08959626802356645,
          0.08222672116175953,
          0.08133372396287998,
          0.08581473723775515,
          0.08709397303463799,
          0.08530329312631103,
          0.08924502916804708,
          0.09181614693916484,
          0.09057572069873861,
          0.08980905403207194,
          0.08378412437235967,
          0.09797215856039386,
          0.09897655547067312,
          0.10110467702232409,
          0.104397113997114,
          0.11149235209235209,
          0.11659812409812409,
          0.11413237155001861,
          0.12241102622867328,
          0.127444962880257,
          0.13391222894752305,
          0.12531510385039796,
          0.12280621040466241,
          0.11658414358259558,
          0.12431396814399912,
          0.11594400477403574,
          0.10422494605497704,
          0.11033746294984685,
          0.1120227276851116,
          0.10695143916970543,
          0.10924154905981531,
          0.11298397330223957,
          0.11401942907453744,
          0.11560282345793182,
          0.1026603004838299,
          0.10613722356075297,
          0.11037226629579573,
          0.097560977584507,
          0.08952233289586231,
          0.09007918290859468,
          0.08631374834316011,
          0.09145819278760456,
          0.09146443099384276,
          0.09138019008854922,
          0.0969649386732978,
          0.10132111582947496,
          0.10156313112412182,
          0.10057412013511084,
          0.1071500304992565,
          0.11267485469466894,
          0.11691266982071935,
          0.10941111581916534,
          0.0944621536702032,
          0.08918607711517927,
          0.08752667219261648,
          0.0859616372275815,
          0.08907578798910068,
          0.0966971444104571,
          0.09372123404631144,
          0.0966915970166744,
          0.08598235331919542,
          0.0909227962096383,
          0.1029276802145223,
          0.11363143201827412,
          0.1106616439116439,
          0.12078872663284428,
          0.11174110758522522,
          0.11546092763445703,
          0.11885437340437341,
          0.12147688422688423,
          0.12555299830888067,
          0.12560312040900276,
          0.11759823640411877,
          0.10740870130154016,
          0.11218445887729775,
          0.10892869781689274,
          0.1164149866914169,
          0.10847307762009606,
          0.10681296518351305,
          0.08773071410126196,
          0.08462126668593219,
          0.08326986253452803,
          0.08780319586786137,
          0.08853085950856848,
          0.09674833501551768,
          0.09200894808665708,
          0.08915423815950133,
          0.09574076274602591,
          0.09656640377166693,
          0.1111389577876992,
          0.1106889577876992,
          0.10782357317231459,
          0.1190356943844358,
          0.1257502242989657,
          0.11178556264483037,
          0.1042983831576509,
          0.11374983229331055,
          0.11037197681545508,
          0.1083580316962468,
          0.10378894937192151,
          0.12219046452343665,
          0.12413302926863298,
          0.11574111007671377,
          0.11172572546132917,
          0.1093447730803768,
          0.11953125326685696,
          0.11289987353547726,
          0.11481190039750411,
          0.11413353782440469,
          0.12064031144294303,
          0.1071630387156703,
          0.11153201243201243,
          0.11146963591963595,
          0.11780638805638806,
          0.11957695082695083,
          0.1072468808968809,
          0.10791549398314104,
          0.09939553061317767,
          0.10251253125959008,
          0.09467847642553526,
          0.08714709114414997,
          0.0926000454362347,
          0.09117875006493933,
          0.08462792194569016,
          0.08850418457195279,
          0.0998925922427134,
          0.09752617695865105,
          0.10768056292356334,
          0.10654815023820947,
          0.1003313435155204,
          0.11368848637266324,
          0.10729680063658391,
          0.11528688114431147,
          0.11401671881609962,
          0.1110434864928673,
          0.10919664836367622,
          0.11526184982887769,
          0.1167477999984192,
          0.11986577613992475,
          0.12244448762451858,
          0.11142067810070906,
          0.1084900181174175,
          0.10442494593469824,
          0.10491148390653034,
          0.1108792827743292,
          0.11576384265888909,
          0.10746297685802328,
          0.11545600735693615,
          0.11834039139395176,
          0.11780951116307155,
          0.1207800739336343,
          0.12465459356604866,
          0.12186997818143327,
          0.12340474145737304,
          0.11626118501381658
         ],
         "yaxis": "y"
        }
       ],
       "layout": {
        "legend": {
         "title": {
          "text": "variable"
         },
         "tracegroupgap": 0
        },
        "template": {
         "data": {
          "bar": [
           {
            "error_x": {
             "color": "#2a3f5f"
            },
            "error_y": {
             "color": "#2a3f5f"
            },
            "marker": {
             "line": {
              "color": "#E5ECF6",
              "width": 0.5
             }
            },
            "type": "bar"
           }
          ],
          "barpolar": [
           {
            "marker": {
             "line": {
              "color": "#E5ECF6",
              "width": 0.5
             }
            },
            "type": "barpolar"
           }
          ],
          "carpet": [
           {
            "aaxis": {
             "endlinecolor": "#2a3f5f",
             "gridcolor": "white",
             "linecolor": "white",
             "minorgridcolor": "white",
             "startlinecolor": "#2a3f5f"
            },
            "baxis": {
             "endlinecolor": "#2a3f5f",
             "gridcolor": "white",
             "linecolor": "white",
             "minorgridcolor": "white",
             "startlinecolor": "#2a3f5f"
            },
            "type": "carpet"
           }
          ],
          "choropleth": [
           {
            "colorbar": {
             "outlinewidth": 0,
             "ticks": ""
            },
            "type": "choropleth"
           }
          ],
          "contour": [
           {
            "colorbar": {
             "outlinewidth": 0,
             "ticks": ""
            },
            "colorscale": [
             [
              0,
              "#0d0887"
             ],
             [
              0.1111111111111111,
              "#46039f"
             ],
             [
              0.2222222222222222,
              "#7201a8"
             ],
             [
              0.3333333333333333,
              "#9c179e"
             ],
             [
              0.4444444444444444,
              "#bd3786"
             ],
             [
              0.5555555555555556,
              "#d8576b"
             ],
             [
              0.6666666666666666,
              "#ed7953"
             ],
             [
              0.7777777777777778,
              "#fb9f3a"
             ],
             [
              0.8888888888888888,
              "#fdca26"
             ],
             [
              1,
              "#f0f921"
             ]
            ],
            "type": "contour"
           }
          ],
          "contourcarpet": [
           {
            "colorbar": {
             "outlinewidth": 0,
             "ticks": ""
            },
            "type": "contourcarpet"
           }
          ],
          "heatmap": [
           {
            "colorbar": {
             "outlinewidth": 0,
             "ticks": ""
            },
            "colorscale": [
             [
              0,
              "#0d0887"
             ],
             [
              0.1111111111111111,
              "#46039f"
             ],
             [
              0.2222222222222222,
              "#7201a8"
             ],
             [
              0.3333333333333333,
              "#9c179e"
             ],
             [
              0.4444444444444444,
              "#bd3786"
             ],
             [
              0.5555555555555556,
              "#d8576b"
             ],
             [
              0.6666666666666666,
              "#ed7953"
             ],
             [
              0.7777777777777778,
              "#fb9f3a"
             ],
             [
              0.8888888888888888,
              "#fdca26"
             ],
             [
              1,
              "#f0f921"
             ]
            ],
            "type": "heatmap"
           }
          ],
          "heatmapgl": [
           {
            "colorbar": {
             "outlinewidth": 0,
             "ticks": ""
            },
            "colorscale": [
             [
              0,
              "#0d0887"
             ],
             [
              0.1111111111111111,
              "#46039f"
             ],
             [
              0.2222222222222222,
              "#7201a8"
             ],
             [
              0.3333333333333333,
              "#9c179e"
             ],
             [
              0.4444444444444444,
              "#bd3786"
             ],
             [
              0.5555555555555556,
              "#d8576b"
             ],
             [
              0.6666666666666666,
              "#ed7953"
             ],
             [
              0.7777777777777778,
              "#fb9f3a"
             ],
             [
              0.8888888888888888,
              "#fdca26"
             ],
             [
              1,
              "#f0f921"
             ]
            ],
            "type": "heatmapgl"
           }
          ],
          "histogram": [
           {
            "marker": {
             "colorbar": {
              "outlinewidth": 0,
              "ticks": ""
             }
            },
            "type": "histogram"
           }
          ],
          "histogram2d": [
           {
            "colorbar": {
             "outlinewidth": 0,
             "ticks": ""
            },
            "colorscale": [
             [
              0,
              "#0d0887"
             ],
             [
              0.1111111111111111,
              "#46039f"
             ],
             [
              0.2222222222222222,
              "#7201a8"
             ],
             [
              0.3333333333333333,
              "#9c179e"
             ],
             [
              0.4444444444444444,
              "#bd3786"
             ],
             [
              0.5555555555555556,
              "#d8576b"
             ],
             [
              0.6666666666666666,
              "#ed7953"
             ],
             [
              0.7777777777777778,
              "#fb9f3a"
             ],
             [
              0.8888888888888888,
              "#fdca26"
             ],
             [
              1,
              "#f0f921"
             ]
            ],
            "type": "histogram2d"
           }
          ],
          "histogram2dcontour": [
           {
            "colorbar": {
             "outlinewidth": 0,
             "ticks": ""
            },
            "colorscale": [
             [
              0,
              "#0d0887"
             ],
             [
              0.1111111111111111,
              "#46039f"
             ],
             [
              0.2222222222222222,
              "#7201a8"
             ],
             [
              0.3333333333333333,
              "#9c179e"
             ],
             [
              0.4444444444444444,
              "#bd3786"
             ],
             [
              0.5555555555555556,
              "#d8576b"
             ],
             [
              0.6666666666666666,
              "#ed7953"
             ],
             [
              0.7777777777777778,
              "#fb9f3a"
             ],
             [
              0.8888888888888888,
              "#fdca26"
             ],
             [
              1,
              "#f0f921"
             ]
            ],
            "type": "histogram2dcontour"
           }
          ],
          "mesh3d": [
           {
            "colorbar": {
             "outlinewidth": 0,
             "ticks": ""
            },
            "type": "mesh3d"
           }
          ],
          "parcoords": [
           {
            "line": {
             "colorbar": {
              "outlinewidth": 0,
              "ticks": ""
             }
            },
            "type": "parcoords"
           }
          ],
          "pie": [
           {
            "automargin": true,
            "type": "pie"
           }
          ],
          "scatter": [
           {
            "marker": {
             "colorbar": {
              "outlinewidth": 0,
              "ticks": ""
             }
            },
            "type": "scatter"
           }
          ],
          "scatter3d": [
           {
            "line": {
             "colorbar": {
              "outlinewidth": 0,
              "ticks": ""
             }
            },
            "marker": {
             "colorbar": {
              "outlinewidth": 0,
              "ticks": ""
             }
            },
            "type": "scatter3d"
           }
          ],
          "scattercarpet": [
           {
            "marker": {
             "colorbar": {
              "outlinewidth": 0,
              "ticks": ""
             }
            },
            "type": "scattercarpet"
           }
          ],
          "scattergeo": [
           {
            "marker": {
             "colorbar": {
              "outlinewidth": 0,
              "ticks": ""
             }
            },
            "type": "scattergeo"
           }
          ],
          "scattergl": [
           {
            "marker": {
             "colorbar": {
              "outlinewidth": 0,
              "ticks": ""
             }
            },
            "type": "scattergl"
           }
          ],
          "scattermapbox": [
           {
            "marker": {
             "colorbar": {
              "outlinewidth": 0,
              "ticks": ""
             }
            },
            "type": "scattermapbox"
           }
          ],
          "scatterpolar": [
           {
            "marker": {
             "colorbar": {
              "outlinewidth": 0,
              "ticks": ""
             }
            },
            "type": "scatterpolar"
           }
          ],
          "scatterpolargl": [
           {
            "marker": {
             "colorbar": {
              "outlinewidth": 0,
              "ticks": ""
             }
            },
            "type": "scatterpolargl"
           }
          ],
          "scatterternary": [
           {
            "marker": {
             "colorbar": {
              "outlinewidth": 0,
              "ticks": ""
             }
            },
            "type": "scatterternary"
           }
          ],
          "surface": [
           {
            "colorbar": {
             "outlinewidth": 0,
             "ticks": ""
            },
            "colorscale": [
             [
              0,
              "#0d0887"
             ],
             [
              0.1111111111111111,
              "#46039f"
             ],
             [
              0.2222222222222222,
              "#7201a8"
             ],
             [
              0.3333333333333333,
              "#9c179e"
             ],
             [
              0.4444444444444444,
              "#bd3786"
             ],
             [
              0.5555555555555556,
              "#d8576b"
             ],
             [
              0.6666666666666666,
              "#ed7953"
             ],
             [
              0.7777777777777778,
              "#fb9f3a"
             ],
             [
              0.8888888888888888,
              "#fdca26"
             ],
             [
              1,
              "#f0f921"
             ]
            ],
            "type": "surface"
           }
          ],
          "table": [
           {
            "cells": {
             "fill": {
              "color": "#EBF0F8"
             },
             "line": {
              "color": "white"
             }
            },
            "header": {
             "fill": {
              "color": "#C8D4E3"
             },
             "line": {
              "color": "white"
             }
            },
            "type": "table"
           }
          ]
         },
         "layout": {
          "annotationdefaults": {
           "arrowcolor": "#2a3f5f",
           "arrowhead": 0,
           "arrowwidth": 1
          },
          "autotypenumbers": "strict",
          "coloraxis": {
           "colorbar": {
            "outlinewidth": 0,
            "ticks": ""
           }
          },
          "colorscale": {
           "diverging": [
            [
             0,
             "#8e0152"
            ],
            [
             0.1,
             "#c51b7d"
            ],
            [
             0.2,
             "#de77ae"
            ],
            [
             0.3,
             "#f1b6da"
            ],
            [
             0.4,
             "#fde0ef"
            ],
            [
             0.5,
             "#f7f7f7"
            ],
            [
             0.6,
             "#e6f5d0"
            ],
            [
             0.7,
             "#b8e186"
            ],
            [
             0.8,
             "#7fbc41"
            ],
            [
             0.9,
             "#4d9221"
            ],
            [
             1,
             "#276419"
            ]
           ],
           "sequential": [
            [
             0,
             "#0d0887"
            ],
            [
             0.1111111111111111,
             "#46039f"
            ],
            [
             0.2222222222222222,
             "#7201a8"
            ],
            [
             0.3333333333333333,
             "#9c179e"
            ],
            [
             0.4444444444444444,
             "#bd3786"
            ],
            [
             0.5555555555555556,
             "#d8576b"
            ],
            [
             0.6666666666666666,
             "#ed7953"
            ],
            [
             0.7777777777777778,
             "#fb9f3a"
            ],
            [
             0.8888888888888888,
             "#fdca26"
            ],
            [
             1,
             "#f0f921"
            ]
           ],
           "sequentialminus": [
            [
             0,
             "#0d0887"
            ],
            [
             0.1111111111111111,
             "#46039f"
            ],
            [
             0.2222222222222222,
             "#7201a8"
            ],
            [
             0.3333333333333333,
             "#9c179e"
            ],
            [
             0.4444444444444444,
             "#bd3786"
            ],
            [
             0.5555555555555556,
             "#d8576b"
            ],
            [
             0.6666666666666666,
             "#ed7953"
            ],
            [
             0.7777777777777778,
             "#fb9f3a"
            ],
            [
             0.8888888888888888,
             "#fdca26"
            ],
            [
             1,
             "#f0f921"
            ]
           ]
          },
          "colorway": [
           "#636efa",
           "#EF553B",
           "#00cc96",
           "#ab63fa",
           "#FFA15A",
           "#19d3f3",
           "#FF6692",
           "#B6E880",
           "#FF97FF",
           "#FECB52"
          ],
          "font": {
           "color": "#2a3f5f"
          },
          "geo": {
           "bgcolor": "white",
           "lakecolor": "white",
           "landcolor": "#E5ECF6",
           "showlakes": true,
           "showland": true,
           "subunitcolor": "white"
          },
          "hoverlabel": {
           "align": "left"
          },
          "hovermode": "closest",
          "mapbox": {
           "style": "light"
          },
          "paper_bgcolor": "white",
          "plot_bgcolor": "#E5ECF6",
          "polar": {
           "angularaxis": {
            "gridcolor": "white",
            "linecolor": "white",
            "ticks": ""
           },
           "bgcolor": "#E5ECF6",
           "radialaxis": {
            "gridcolor": "white",
            "linecolor": "white",
            "ticks": ""
           }
          },
          "scene": {
           "xaxis": {
            "backgroundcolor": "#E5ECF6",
            "gridcolor": "white",
            "gridwidth": 2,
            "linecolor": "white",
            "showbackground": true,
            "ticks": "",
            "zerolinecolor": "white"
           },
           "yaxis": {
            "backgroundcolor": "#E5ECF6",
            "gridcolor": "white",
            "gridwidth": 2,
            "linecolor": "white",
            "showbackground": true,
            "ticks": "",
            "zerolinecolor": "white"
           },
           "zaxis": {
            "backgroundcolor": "#E5ECF6",
            "gridcolor": "white",
            "gridwidth": 2,
            "linecolor": "white",
            "showbackground": true,
            "ticks": "",
            "zerolinecolor": "white"
           }
          },
          "shapedefaults": {
           "line": {
            "color": "#2a3f5f"
           }
          },
          "ternary": {
           "aaxis": {
            "gridcolor": "white",
            "linecolor": "white",
            "ticks": ""
           },
           "baxis": {
            "gridcolor": "white",
            "linecolor": "white",
            "ticks": ""
           },
           "bgcolor": "#E5ECF6",
           "caxis": {
            "gridcolor": "white",
            "linecolor": "white",
            "ticks": ""
           }
          },
          "title": {
           "x": 0.05
          },
          "xaxis": {
           "automargin": true,
           "gridcolor": "white",
           "linecolor": "white",
           "ticks": "",
           "title": {
            "standoff": 15
           },
           "zerolinecolor": "white",
           "zerolinewidth": 2
          },
          "yaxis": {
           "automargin": true,
           "gridcolor": "white",
           "linecolor": "white",
           "ticks": "",
           "title": {
            "standoff": 15
           },
           "zerolinecolor": "white",
           "zerolinewidth": 2
          }
         }
        },
        "title": {
         "text": "Moving averages over f1 while learning with window 10 on dataset syn_ds_1"
        },
        "xaxis": {
         "anchor": "y",
         "domain": [
          0,
          1
         ],
         "title": {
          "text": "batches"
         }
        },
        "yaxis": {
         "anchor": "x",
         "domain": [
          0,
          1
         ],
         "title": {
          "text": "accuracy"
         }
        }
       }
      }
     },
     "metadata": {}
    }
   ],
   "source": [
    "#moving averages\n",
    "title = \"Moving averages over f1 while learning with window {} on dataset {}\".format(n_window, dataset_name)\n",
    "col_names = [\"Pure\",\"FIRES\", \"OFS\", \"OFSSGD\", \"FSDS\", \"random\"]\n",
    "d = {\"Pure\":pure_f1, \"FIRES\":fires_f1, \"OFS\":ofs_f1, \n",
    "\"OFSSGD\":ofssgd_f1, \"FSDS\":fsds_f1, \"random\":random_f1}\n",
    "df = pd.DataFrame(d, columns=col_names)\n",
    "fig = px.line(df, y=col_names, title=title, labels={\"index\":\"batches\", \"value\":\"accuracy\"}, color_discrete_map={\"Pure\":\"blue\",'FIRES': 'red', \n",
    "                                                   'FSDS': 'green', 'OFS': 'purple', \"OFSSGD\":\"yellow\", \"random\":\"cyan\"})\n",
    "fig.show()"
   ]
  },
  {
   "cell_type": "code",
   "execution_count": 72,
   "metadata": {},
   "outputs": [],
   "source": [
    "if dataset_name == \"mnist\" or dataset_name == \"mnist_norm\":\n",
    "    trace1 = mnist_fig_fires['data'][0]\n",
    "    trace2 = mnist_fig_fsds['data'][0]\n",
    "    trace3 = mnist_fig_ofs['data'][0]\n",
    "    trace4 = mnist_fig_ofssgd['data'][0]\n",
    "    fig = make_subplots(rows=1, cols=4, subplot_titles=(\"FIRES\", \"FSDS\", \"OFS\", \"OFSSGD\"))\n",
    "    fig.add_trace(trace1, row=1,col=1)\n",
    "    fig.add_trace(trace2, row=1,col=2)\n",
    "    fig.add_trace(trace3, row=1,col=3)\n",
    "    fig.add_trace(trace4, row=1,col=4)\n",
    "    fig.update_xaxes(\n",
    "        visible=False \n",
    "    )\n",
    "    fig.update_yaxes(\n",
    "        visible=False\n",
    "    )\n",
    "    fig.show()\n"
   ]
  },
  {
   "cell_type": "code",
   "execution_count": 73,
   "metadata": {},
   "outputs": [
    {
     "output_type": "display_data",
     "data": {
      "application/vnd.plotly.v1+json": {
       "config": {
        "plotlyServerURL": "https://plot.ly"
       },
       "data": [
        {
         "alignmentgroup": "True",
         "hovertemplate": "color=Pure<br>=%{x}<br>accuracy=%{y}<extra></extra>",
         "legendgroup": "Pure",
         "marker": {
          "color": "blue"
         },
         "name": "Pure",
         "offsetgroup": "Pure",
         "orientation": "v",
         "showlegend": true,
         "textposition": "auto",
         "type": "bar",
         "x": [
          "Pure"
         ],
         "xaxis": "x",
         "y": [
          0.2302
         ],
         "yaxis": "y"
        },
        {
         "alignmentgroup": "True",
         "hovertemplate": "color=FIRES<br>=%{x}<br>accuracy=%{y}<extra></extra>",
         "legendgroup": "FIRES",
         "marker": {
          "color": "red"
         },
         "name": "FIRES",
         "offsetgroup": "FIRES",
         "orientation": "v",
         "showlegend": true,
         "textposition": "auto",
         "type": "bar",
         "x": [
          "FIRES"
         ],
         "xaxis": "x",
         "y": [
          0.176
         ],
         "yaxis": "y"
        },
        {
         "alignmentgroup": "True",
         "hovertemplate": "color=FSDS<br>=%{x}<br>accuracy=%{y}<extra></extra>",
         "legendgroup": "FSDS",
         "marker": {
          "color": "green"
         },
         "name": "FSDS",
         "offsetgroup": "FSDS",
         "orientation": "v",
         "showlegend": true,
         "textposition": "auto",
         "type": "bar",
         "x": [
          "FSDS"
         ],
         "xaxis": "x",
         "y": [
          0.1256
         ],
         "yaxis": "y"
        },
        {
         "alignmentgroup": "True",
         "hovertemplate": "color=OFS<br>=%{x}<br>accuracy=%{y}<extra></extra>",
         "legendgroup": "OFS",
         "marker": {
          "color": "purple"
         },
         "name": "OFS",
         "offsetgroup": "OFS",
         "orientation": "v",
         "showlegend": true,
         "textposition": "auto",
         "type": "bar",
         "x": [
          "OFS"
         ],
         "xaxis": "x",
         "y": [
          0.1828
         ],
         "yaxis": "y"
        },
        {
         "alignmentgroup": "True",
         "hovertemplate": "color=OFSSGD<br>=%{x}<br>accuracy=%{y}<extra></extra>",
         "legendgroup": "OFSSGD",
         "marker": {
          "color": "yellow"
         },
         "name": "OFSSGD",
         "offsetgroup": "OFSSGD",
         "orientation": "v",
         "showlegend": true,
         "textposition": "auto",
         "type": "bar",
         "x": [
          "OFSSGD"
         ],
         "xaxis": "x",
         "y": [
          0.2302
         ],
         "yaxis": "y"
        }
       ],
       "layout": {
        "barmode": "relative",
        "legend": {
         "title": {
          "text": "color"
         },
         "tracegroupgap": 0
        },
        "template": {
         "data": {
          "bar": [
           {
            "error_x": {
             "color": "#2a3f5f"
            },
            "error_y": {
             "color": "#2a3f5f"
            },
            "marker": {
             "line": {
              "color": "#E5ECF6",
              "width": 0.5
             }
            },
            "type": "bar"
           }
          ],
          "barpolar": [
           {
            "marker": {
             "line": {
              "color": "#E5ECF6",
              "width": 0.5
             }
            },
            "type": "barpolar"
           }
          ],
          "carpet": [
           {
            "aaxis": {
             "endlinecolor": "#2a3f5f",
             "gridcolor": "white",
             "linecolor": "white",
             "minorgridcolor": "white",
             "startlinecolor": "#2a3f5f"
            },
            "baxis": {
             "endlinecolor": "#2a3f5f",
             "gridcolor": "white",
             "linecolor": "white",
             "minorgridcolor": "white",
             "startlinecolor": "#2a3f5f"
            },
            "type": "carpet"
           }
          ],
          "choropleth": [
           {
            "colorbar": {
             "outlinewidth": 0,
             "ticks": ""
            },
            "type": "choropleth"
           }
          ],
          "contour": [
           {
            "colorbar": {
             "outlinewidth": 0,
             "ticks": ""
            },
            "colorscale": [
             [
              0,
              "#0d0887"
             ],
             [
              0.1111111111111111,
              "#46039f"
             ],
             [
              0.2222222222222222,
              "#7201a8"
             ],
             [
              0.3333333333333333,
              "#9c179e"
             ],
             [
              0.4444444444444444,
              "#bd3786"
             ],
             [
              0.5555555555555556,
              "#d8576b"
             ],
             [
              0.6666666666666666,
              "#ed7953"
             ],
             [
              0.7777777777777778,
              "#fb9f3a"
             ],
             [
              0.8888888888888888,
              "#fdca26"
             ],
             [
              1,
              "#f0f921"
             ]
            ],
            "type": "contour"
           }
          ],
          "contourcarpet": [
           {
            "colorbar": {
             "outlinewidth": 0,
             "ticks": ""
            },
            "type": "contourcarpet"
           }
          ],
          "heatmap": [
           {
            "colorbar": {
             "outlinewidth": 0,
             "ticks": ""
            },
            "colorscale": [
             [
              0,
              "#0d0887"
             ],
             [
              0.1111111111111111,
              "#46039f"
             ],
             [
              0.2222222222222222,
              "#7201a8"
             ],
             [
              0.3333333333333333,
              "#9c179e"
             ],
             [
              0.4444444444444444,
              "#bd3786"
             ],
             [
              0.5555555555555556,
              "#d8576b"
             ],
             [
              0.6666666666666666,
              "#ed7953"
             ],
             [
              0.7777777777777778,
              "#fb9f3a"
             ],
             [
              0.8888888888888888,
              "#fdca26"
             ],
             [
              1,
              "#f0f921"
             ]
            ],
            "type": "heatmap"
           }
          ],
          "heatmapgl": [
           {
            "colorbar": {
             "outlinewidth": 0,
             "ticks": ""
            },
            "colorscale": [
             [
              0,
              "#0d0887"
             ],
             [
              0.1111111111111111,
              "#46039f"
             ],
             [
              0.2222222222222222,
              "#7201a8"
             ],
             [
              0.3333333333333333,
              "#9c179e"
             ],
             [
              0.4444444444444444,
              "#bd3786"
             ],
             [
              0.5555555555555556,
              "#d8576b"
             ],
             [
              0.6666666666666666,
              "#ed7953"
             ],
             [
              0.7777777777777778,
              "#fb9f3a"
             ],
             [
              0.8888888888888888,
              "#fdca26"
             ],
             [
              1,
              "#f0f921"
             ]
            ],
            "type": "heatmapgl"
           }
          ],
          "histogram": [
           {
            "marker": {
             "colorbar": {
              "outlinewidth": 0,
              "ticks": ""
             }
            },
            "type": "histogram"
           }
          ],
          "histogram2d": [
           {
            "colorbar": {
             "outlinewidth": 0,
             "ticks": ""
            },
            "colorscale": [
             [
              0,
              "#0d0887"
             ],
             [
              0.1111111111111111,
              "#46039f"
             ],
             [
              0.2222222222222222,
              "#7201a8"
             ],
             [
              0.3333333333333333,
              "#9c179e"
             ],
             [
              0.4444444444444444,
              "#bd3786"
             ],
             [
              0.5555555555555556,
              "#d8576b"
             ],
             [
              0.6666666666666666,
              "#ed7953"
             ],
             [
              0.7777777777777778,
              "#fb9f3a"
             ],
             [
              0.8888888888888888,
              "#fdca26"
             ],
             [
              1,
              "#f0f921"
             ]
            ],
            "type": "histogram2d"
           }
          ],
          "histogram2dcontour": [
           {
            "colorbar": {
             "outlinewidth": 0,
             "ticks": ""
            },
            "colorscale": [
             [
              0,
              "#0d0887"
             ],
             [
              0.1111111111111111,
              "#46039f"
             ],
             [
              0.2222222222222222,
              "#7201a8"
             ],
             [
              0.3333333333333333,
              "#9c179e"
             ],
             [
              0.4444444444444444,
              "#bd3786"
             ],
             [
              0.5555555555555556,
              "#d8576b"
             ],
             [
              0.6666666666666666,
              "#ed7953"
             ],
             [
              0.7777777777777778,
              "#fb9f3a"
             ],
             [
              0.8888888888888888,
              "#fdca26"
             ],
             [
              1,
              "#f0f921"
             ]
            ],
            "type": "histogram2dcontour"
           }
          ],
          "mesh3d": [
           {
            "colorbar": {
             "outlinewidth": 0,
             "ticks": ""
            },
            "type": "mesh3d"
           }
          ],
          "parcoords": [
           {
            "line": {
             "colorbar": {
              "outlinewidth": 0,
              "ticks": ""
             }
            },
            "type": "parcoords"
           }
          ],
          "pie": [
           {
            "automargin": true,
            "type": "pie"
           }
          ],
          "scatter": [
           {
            "marker": {
             "colorbar": {
              "outlinewidth": 0,
              "ticks": ""
             }
            },
            "type": "scatter"
           }
          ],
          "scatter3d": [
           {
            "line": {
             "colorbar": {
              "outlinewidth": 0,
              "ticks": ""
             }
            },
            "marker": {
             "colorbar": {
              "outlinewidth": 0,
              "ticks": ""
             }
            },
            "type": "scatter3d"
           }
          ],
          "scattercarpet": [
           {
            "marker": {
             "colorbar": {
              "outlinewidth": 0,
              "ticks": ""
             }
            },
            "type": "scattercarpet"
           }
          ],
          "scattergeo": [
           {
            "marker": {
             "colorbar": {
              "outlinewidth": 0,
              "ticks": ""
             }
            },
            "type": "scattergeo"
           }
          ],
          "scattergl": [
           {
            "marker": {
             "colorbar": {
              "outlinewidth": 0,
              "ticks": ""
             }
            },
            "type": "scattergl"
           }
          ],
          "scattermapbox": [
           {
            "marker": {
             "colorbar": {
              "outlinewidth": 0,
              "ticks": ""
             }
            },
            "type": "scattermapbox"
           }
          ],
          "scatterpolar": [
           {
            "marker": {
             "colorbar": {
              "outlinewidth": 0,
              "ticks": ""
             }
            },
            "type": "scatterpolar"
           }
          ],
          "scatterpolargl": [
           {
            "marker": {
             "colorbar": {
              "outlinewidth": 0,
              "ticks": ""
             }
            },
            "type": "scatterpolargl"
           }
          ],
          "scatterternary": [
           {
            "marker": {
             "colorbar": {
              "outlinewidth": 0,
              "ticks": ""
             }
            },
            "type": "scatterternary"
           }
          ],
          "surface": [
           {
            "colorbar": {
             "outlinewidth": 0,
             "ticks": ""
            },
            "colorscale": [
             [
              0,
              "#0d0887"
             ],
             [
              0.1111111111111111,
              "#46039f"
             ],
             [
              0.2222222222222222,
              "#7201a8"
             ],
             [
              0.3333333333333333,
              "#9c179e"
             ],
             [
              0.4444444444444444,
              "#bd3786"
             ],
             [
              0.5555555555555556,
              "#d8576b"
             ],
             [
              0.6666666666666666,
              "#ed7953"
             ],
             [
              0.7777777777777778,
              "#fb9f3a"
             ],
             [
              0.8888888888888888,
              "#fdca26"
             ],
             [
              1,
              "#f0f921"
             ]
            ],
            "type": "surface"
           }
          ],
          "table": [
           {
            "cells": {
             "fill": {
              "color": "#EBF0F8"
             },
             "line": {
              "color": "white"
             }
            },
            "header": {
             "fill": {
              "color": "#C8D4E3"
             },
             "line": {
              "color": "white"
             }
            },
            "type": "table"
           }
          ]
         },
         "layout": {
          "annotationdefaults": {
           "arrowcolor": "#2a3f5f",
           "arrowhead": 0,
           "arrowwidth": 1
          },
          "autotypenumbers": "strict",
          "coloraxis": {
           "colorbar": {
            "outlinewidth": 0,
            "ticks": ""
           }
          },
          "colorscale": {
           "diverging": [
            [
             0,
             "#8e0152"
            ],
            [
             0.1,
             "#c51b7d"
            ],
            [
             0.2,
             "#de77ae"
            ],
            [
             0.3,
             "#f1b6da"
            ],
            [
             0.4,
             "#fde0ef"
            ],
            [
             0.5,
             "#f7f7f7"
            ],
            [
             0.6,
             "#e6f5d0"
            ],
            [
             0.7,
             "#b8e186"
            ],
            [
             0.8,
             "#7fbc41"
            ],
            [
             0.9,
             "#4d9221"
            ],
            [
             1,
             "#276419"
            ]
           ],
           "sequential": [
            [
             0,
             "#0d0887"
            ],
            [
             0.1111111111111111,
             "#46039f"
            ],
            [
             0.2222222222222222,
             "#7201a8"
            ],
            [
             0.3333333333333333,
             "#9c179e"
            ],
            [
             0.4444444444444444,
             "#bd3786"
            ],
            [
             0.5555555555555556,
             "#d8576b"
            ],
            [
             0.6666666666666666,
             "#ed7953"
            ],
            [
             0.7777777777777778,
             "#fb9f3a"
            ],
            [
             0.8888888888888888,
             "#fdca26"
            ],
            [
             1,
             "#f0f921"
            ]
           ],
           "sequentialminus": [
            [
             0,
             "#0d0887"
            ],
            [
             0.1111111111111111,
             "#46039f"
            ],
            [
             0.2222222222222222,
             "#7201a8"
            ],
            [
             0.3333333333333333,
             "#9c179e"
            ],
            [
             0.4444444444444444,
             "#bd3786"
            ],
            [
             0.5555555555555556,
             "#d8576b"
            ],
            [
             0.6666666666666666,
             "#ed7953"
            ],
            [
             0.7777777777777778,
             "#fb9f3a"
            ],
            [
             0.8888888888888888,
             "#fdca26"
            ],
            [
             1,
             "#f0f921"
            ]
           ]
          },
          "colorway": [
           "#636efa",
           "#EF553B",
           "#00cc96",
           "#ab63fa",
           "#FFA15A",
           "#19d3f3",
           "#FF6692",
           "#B6E880",
           "#FF97FF",
           "#FECB52"
          ],
          "font": {
           "color": "#2a3f5f"
          },
          "geo": {
           "bgcolor": "white",
           "lakecolor": "white",
           "landcolor": "#E5ECF6",
           "showlakes": true,
           "showland": true,
           "subunitcolor": "white"
          },
          "hoverlabel": {
           "align": "left"
          },
          "hovermode": "closest",
          "mapbox": {
           "style": "light"
          },
          "paper_bgcolor": "white",
          "plot_bgcolor": "#E5ECF6",
          "polar": {
           "angularaxis": {
            "gridcolor": "white",
            "linecolor": "white",
            "ticks": ""
           },
           "bgcolor": "#E5ECF6",
           "radialaxis": {
            "gridcolor": "white",
            "linecolor": "white",
            "ticks": ""
           }
          },
          "scene": {
           "xaxis": {
            "backgroundcolor": "#E5ECF6",
            "gridcolor": "white",
            "gridwidth": 2,
            "linecolor": "white",
            "showbackground": true,
            "ticks": "",
            "zerolinecolor": "white"
           },
           "yaxis": {
            "backgroundcolor": "#E5ECF6",
            "gridcolor": "white",
            "gridwidth": 2,
            "linecolor": "white",
            "showbackground": true,
            "ticks": "",
            "zerolinecolor": "white"
           },
           "zaxis": {
            "backgroundcolor": "#E5ECF6",
            "gridcolor": "white",
            "gridwidth": 2,
            "linecolor": "white",
            "showbackground": true,
            "ticks": "",
            "zerolinecolor": "white"
           }
          },
          "shapedefaults": {
           "line": {
            "color": "#2a3f5f"
           }
          },
          "ternary": {
           "aaxis": {
            "gridcolor": "white",
            "linecolor": "white",
            "ticks": ""
           },
           "baxis": {
            "gridcolor": "white",
            "linecolor": "white",
            "ticks": ""
           },
           "bgcolor": "#E5ECF6",
           "caxis": {
            "gridcolor": "white",
            "linecolor": "white",
            "ticks": ""
           }
          },
          "title": {
           "x": 0.05
          },
          "xaxis": {
           "automargin": true,
           "gridcolor": "white",
           "linecolor": "white",
           "ticks": "",
           "title": {
            "standoff": 15
           },
           "zerolinecolor": "white",
           "zerolinewidth": 2
          },
          "yaxis": {
           "automargin": true,
           "gridcolor": "white",
           "linecolor": "white",
           "ticks": "",
           "title": {
            "standoff": 15
           },
           "zerolinecolor": "white",
           "zerolinewidth": 2
          }
         }
        },
        "title": {
         "text": "Accuracy on test data"
        },
        "xaxis": {
         "anchor": "y",
         "domain": [
          0,
          1
         ],
         "title": {
          "text": ""
         }
        },
        "yaxis": {
         "anchor": "x",
         "domain": [
          0,
          1
         ],
         "title": {
          "text": "accuracy"
         }
        }
       }
      }
     },
     "metadata": {}
    }
   ],
   "source": [
    "# accuracy on test data\n",
    "col_names = [\"Pure\",\"FIRES\",\"FSDS\", \"OFS\", \"OFSSGD\"]\n",
    "values = [accuracy_no_ofs, accuracy_fires, accuracy_fsds, accuracy_ofs, accuracy_ofssgd]\n",
    "fig = px.bar(x=col_names, y=values, title=\"Accuracy on test data\", labels={\"y\":\"accuracy\", \"x\":\"\"}, color=col_names, color_discrete_map={\"Pure\":\"blue\",'FIRES': 'red',\n",
    "                                                   'FSDS': 'green', 'OFS': 'purple', \"OFSSGD\":\"yellow\"})\n",
    "fig.show()"
   ]
  },
  {
   "cell_type": "code",
   "execution_count": 74,
   "metadata": {},
   "outputs": [
    {
     "output_type": "display_data",
     "data": {
      "application/vnd.plotly.v1+json": {
       "config": {
        "plotlyServerURL": "https://plot.ly"
       },
       "data": [
        {
         "alignmentgroup": "True",
         "hovertemplate": "color=FIRES<br>=%{x}<br>s=%{y}<extra></extra>",
         "legendgroup": "FIRES",
         "marker": {
          "color": "red"
         },
         "name": "FIRES",
         "offsetgroup": "FIRES",
         "orientation": "v",
         "showlegend": true,
         "textposition": "auto",
         "type": "bar",
         "x": [
          "FIRES"
         ],
         "xaxis": "x",
         "y": [
          6.727390777999972
         ],
         "yaxis": "y"
        },
        {
         "alignmentgroup": "True",
         "hovertemplate": "color=FSDS<br>=%{x}<br>s=%{y}<extra></extra>",
         "legendgroup": "FSDS",
         "marker": {
          "color": "green"
         },
         "name": "FSDS",
         "offsetgroup": "FSDS",
         "orientation": "v",
         "showlegend": true,
         "textposition": "auto",
         "type": "bar",
         "x": [
          "FSDS"
         ],
         "xaxis": "x",
         "y": [
          2.6712729170003513
         ],
         "yaxis": "y"
        },
        {
         "alignmentgroup": "True",
         "hovertemplate": "color=OFS<br>=%{x}<br>s=%{y}<extra></extra>",
         "legendgroup": "OFS",
         "marker": {
          "color": "purple"
         },
         "name": "OFS",
         "offsetgroup": "OFS",
         "orientation": "v",
         "showlegend": true,
         "textposition": "auto",
         "type": "bar",
         "x": [
          "OFS"
         ],
         "xaxis": "x",
         "y": [
          3.3520009240000945
         ],
         "yaxis": "y"
        },
        {
         "alignmentgroup": "True",
         "hovertemplate": "color=OFSSGD<br>=%{x}<br>s=%{y}<extra></extra>",
         "legendgroup": "OFSSGD",
         "marker": {
          "color": "yellow"
         },
         "name": "OFSSGD",
         "offsetgroup": "OFSSGD",
         "orientation": "v",
         "showlegend": true,
         "textposition": "auto",
         "type": "bar",
         "x": [
          "OFSSGD"
         ],
         "xaxis": "x",
         "y": [
          8.306478385000446
         ],
         "yaxis": "y"
        }
       ],
       "layout": {
        "barmode": "relative",
        "legend": {
         "title": {
          "text": "color"
         },
         "tracegroupgap": 0
        },
        "template": {
         "data": {
          "bar": [
           {
            "error_x": {
             "color": "#2a3f5f"
            },
            "error_y": {
             "color": "#2a3f5f"
            },
            "marker": {
             "line": {
              "color": "#E5ECF6",
              "width": 0.5
             }
            },
            "type": "bar"
           }
          ],
          "barpolar": [
           {
            "marker": {
             "line": {
              "color": "#E5ECF6",
              "width": 0.5
             }
            },
            "type": "barpolar"
           }
          ],
          "carpet": [
           {
            "aaxis": {
             "endlinecolor": "#2a3f5f",
             "gridcolor": "white",
             "linecolor": "white",
             "minorgridcolor": "white",
             "startlinecolor": "#2a3f5f"
            },
            "baxis": {
             "endlinecolor": "#2a3f5f",
             "gridcolor": "white",
             "linecolor": "white",
             "minorgridcolor": "white",
             "startlinecolor": "#2a3f5f"
            },
            "type": "carpet"
           }
          ],
          "choropleth": [
           {
            "colorbar": {
             "outlinewidth": 0,
             "ticks": ""
            },
            "type": "choropleth"
           }
          ],
          "contour": [
           {
            "colorbar": {
             "outlinewidth": 0,
             "ticks": ""
            },
            "colorscale": [
             [
              0,
              "#0d0887"
             ],
             [
              0.1111111111111111,
              "#46039f"
             ],
             [
              0.2222222222222222,
              "#7201a8"
             ],
             [
              0.3333333333333333,
              "#9c179e"
             ],
             [
              0.4444444444444444,
              "#bd3786"
             ],
             [
              0.5555555555555556,
              "#d8576b"
             ],
             [
              0.6666666666666666,
              "#ed7953"
             ],
             [
              0.7777777777777778,
              "#fb9f3a"
             ],
             [
              0.8888888888888888,
              "#fdca26"
             ],
             [
              1,
              "#f0f921"
             ]
            ],
            "type": "contour"
           }
          ],
          "contourcarpet": [
           {
            "colorbar": {
             "outlinewidth": 0,
             "ticks": ""
            },
            "type": "contourcarpet"
           }
          ],
          "heatmap": [
           {
            "colorbar": {
             "outlinewidth": 0,
             "ticks": ""
            },
            "colorscale": [
             [
              0,
              "#0d0887"
             ],
             [
              0.1111111111111111,
              "#46039f"
             ],
             [
              0.2222222222222222,
              "#7201a8"
             ],
             [
              0.3333333333333333,
              "#9c179e"
             ],
             [
              0.4444444444444444,
              "#bd3786"
             ],
             [
              0.5555555555555556,
              "#d8576b"
             ],
             [
              0.6666666666666666,
              "#ed7953"
             ],
             [
              0.7777777777777778,
              "#fb9f3a"
             ],
             [
              0.8888888888888888,
              "#fdca26"
             ],
             [
              1,
              "#f0f921"
             ]
            ],
            "type": "heatmap"
           }
          ],
          "heatmapgl": [
           {
            "colorbar": {
             "outlinewidth": 0,
             "ticks": ""
            },
            "colorscale": [
             [
              0,
              "#0d0887"
             ],
             [
              0.1111111111111111,
              "#46039f"
             ],
             [
              0.2222222222222222,
              "#7201a8"
             ],
             [
              0.3333333333333333,
              "#9c179e"
             ],
             [
              0.4444444444444444,
              "#bd3786"
             ],
             [
              0.5555555555555556,
              "#d8576b"
             ],
             [
              0.6666666666666666,
              "#ed7953"
             ],
             [
              0.7777777777777778,
              "#fb9f3a"
             ],
             [
              0.8888888888888888,
              "#fdca26"
             ],
             [
              1,
              "#f0f921"
             ]
            ],
            "type": "heatmapgl"
           }
          ],
          "histogram": [
           {
            "marker": {
             "colorbar": {
              "outlinewidth": 0,
              "ticks": ""
             }
            },
            "type": "histogram"
           }
          ],
          "histogram2d": [
           {
            "colorbar": {
             "outlinewidth": 0,
             "ticks": ""
            },
            "colorscale": [
             [
              0,
              "#0d0887"
             ],
             [
              0.1111111111111111,
              "#46039f"
             ],
             [
              0.2222222222222222,
              "#7201a8"
             ],
             [
              0.3333333333333333,
              "#9c179e"
             ],
             [
              0.4444444444444444,
              "#bd3786"
             ],
             [
              0.5555555555555556,
              "#d8576b"
             ],
             [
              0.6666666666666666,
              "#ed7953"
             ],
             [
              0.7777777777777778,
              "#fb9f3a"
             ],
             [
              0.8888888888888888,
              "#fdca26"
             ],
             [
              1,
              "#f0f921"
             ]
            ],
            "type": "histogram2d"
           }
          ],
          "histogram2dcontour": [
           {
            "colorbar": {
             "outlinewidth": 0,
             "ticks": ""
            },
            "colorscale": [
             [
              0,
              "#0d0887"
             ],
             [
              0.1111111111111111,
              "#46039f"
             ],
             [
              0.2222222222222222,
              "#7201a8"
             ],
             [
              0.3333333333333333,
              "#9c179e"
             ],
             [
              0.4444444444444444,
              "#bd3786"
             ],
             [
              0.5555555555555556,
              "#d8576b"
             ],
             [
              0.6666666666666666,
              "#ed7953"
             ],
             [
              0.7777777777777778,
              "#fb9f3a"
             ],
             [
              0.8888888888888888,
              "#fdca26"
             ],
             [
              1,
              "#f0f921"
             ]
            ],
            "type": "histogram2dcontour"
           }
          ],
          "mesh3d": [
           {
            "colorbar": {
             "outlinewidth": 0,
             "ticks": ""
            },
            "type": "mesh3d"
           }
          ],
          "parcoords": [
           {
            "line": {
             "colorbar": {
              "outlinewidth": 0,
              "ticks": ""
             }
            },
            "type": "parcoords"
           }
          ],
          "pie": [
           {
            "automargin": true,
            "type": "pie"
           }
          ],
          "scatter": [
           {
            "marker": {
             "colorbar": {
              "outlinewidth": 0,
              "ticks": ""
             }
            },
            "type": "scatter"
           }
          ],
          "scatter3d": [
           {
            "line": {
             "colorbar": {
              "outlinewidth": 0,
              "ticks": ""
             }
            },
            "marker": {
             "colorbar": {
              "outlinewidth": 0,
              "ticks": ""
             }
            },
            "type": "scatter3d"
           }
          ],
          "scattercarpet": [
           {
            "marker": {
             "colorbar": {
              "outlinewidth": 0,
              "ticks": ""
             }
            },
            "type": "scattercarpet"
           }
          ],
          "scattergeo": [
           {
            "marker": {
             "colorbar": {
              "outlinewidth": 0,
              "ticks": ""
             }
            },
            "type": "scattergeo"
           }
          ],
          "scattergl": [
           {
            "marker": {
             "colorbar": {
              "outlinewidth": 0,
              "ticks": ""
             }
            },
            "type": "scattergl"
           }
          ],
          "scattermapbox": [
           {
            "marker": {
             "colorbar": {
              "outlinewidth": 0,
              "ticks": ""
             }
            },
            "type": "scattermapbox"
           }
          ],
          "scatterpolar": [
           {
            "marker": {
             "colorbar": {
              "outlinewidth": 0,
              "ticks": ""
             }
            },
            "type": "scatterpolar"
           }
          ],
          "scatterpolargl": [
           {
            "marker": {
             "colorbar": {
              "outlinewidth": 0,
              "ticks": ""
             }
            },
            "type": "scatterpolargl"
           }
          ],
          "scatterternary": [
           {
            "marker": {
             "colorbar": {
              "outlinewidth": 0,
              "ticks": ""
             }
            },
            "type": "scatterternary"
           }
          ],
          "surface": [
           {
            "colorbar": {
             "outlinewidth": 0,
             "ticks": ""
            },
            "colorscale": [
             [
              0,
              "#0d0887"
             ],
             [
              0.1111111111111111,
              "#46039f"
             ],
             [
              0.2222222222222222,
              "#7201a8"
             ],
             [
              0.3333333333333333,
              "#9c179e"
             ],
             [
              0.4444444444444444,
              "#bd3786"
             ],
             [
              0.5555555555555556,
              "#d8576b"
             ],
             [
              0.6666666666666666,
              "#ed7953"
             ],
             [
              0.7777777777777778,
              "#fb9f3a"
             ],
             [
              0.8888888888888888,
              "#fdca26"
             ],
             [
              1,
              "#f0f921"
             ]
            ],
            "type": "surface"
           }
          ],
          "table": [
           {
            "cells": {
             "fill": {
              "color": "#EBF0F8"
             },
             "line": {
              "color": "white"
             }
            },
            "header": {
             "fill": {
              "color": "#C8D4E3"
             },
             "line": {
              "color": "white"
             }
            },
            "type": "table"
           }
          ]
         },
         "layout": {
          "annotationdefaults": {
           "arrowcolor": "#2a3f5f",
           "arrowhead": 0,
           "arrowwidth": 1
          },
          "autotypenumbers": "strict",
          "coloraxis": {
           "colorbar": {
            "outlinewidth": 0,
            "ticks": ""
           }
          },
          "colorscale": {
           "diverging": [
            [
             0,
             "#8e0152"
            ],
            [
             0.1,
             "#c51b7d"
            ],
            [
             0.2,
             "#de77ae"
            ],
            [
             0.3,
             "#f1b6da"
            ],
            [
             0.4,
             "#fde0ef"
            ],
            [
             0.5,
             "#f7f7f7"
            ],
            [
             0.6,
             "#e6f5d0"
            ],
            [
             0.7,
             "#b8e186"
            ],
            [
             0.8,
             "#7fbc41"
            ],
            [
             0.9,
             "#4d9221"
            ],
            [
             1,
             "#276419"
            ]
           ],
           "sequential": [
            [
             0,
             "#0d0887"
            ],
            [
             0.1111111111111111,
             "#46039f"
            ],
            [
             0.2222222222222222,
             "#7201a8"
            ],
            [
             0.3333333333333333,
             "#9c179e"
            ],
            [
             0.4444444444444444,
             "#bd3786"
            ],
            [
             0.5555555555555556,
             "#d8576b"
            ],
            [
             0.6666666666666666,
             "#ed7953"
            ],
            [
             0.7777777777777778,
             "#fb9f3a"
            ],
            [
             0.8888888888888888,
             "#fdca26"
            ],
            [
             1,
             "#f0f921"
            ]
           ],
           "sequentialminus": [
            [
             0,
             "#0d0887"
            ],
            [
             0.1111111111111111,
             "#46039f"
            ],
            [
             0.2222222222222222,
             "#7201a8"
            ],
            [
             0.3333333333333333,
             "#9c179e"
            ],
            [
             0.4444444444444444,
             "#bd3786"
            ],
            [
             0.5555555555555556,
             "#d8576b"
            ],
            [
             0.6666666666666666,
             "#ed7953"
            ],
            [
             0.7777777777777778,
             "#fb9f3a"
            ],
            [
             0.8888888888888888,
             "#fdca26"
            ],
            [
             1,
             "#f0f921"
            ]
           ]
          },
          "colorway": [
           "#636efa",
           "#EF553B",
           "#00cc96",
           "#ab63fa",
           "#FFA15A",
           "#19d3f3",
           "#FF6692",
           "#B6E880",
           "#FF97FF",
           "#FECB52"
          ],
          "font": {
           "color": "#2a3f5f"
          },
          "geo": {
           "bgcolor": "white",
           "lakecolor": "white",
           "landcolor": "#E5ECF6",
           "showlakes": true,
           "showland": true,
           "subunitcolor": "white"
          },
          "hoverlabel": {
           "align": "left"
          },
          "hovermode": "closest",
          "mapbox": {
           "style": "light"
          },
          "paper_bgcolor": "white",
          "plot_bgcolor": "#E5ECF6",
          "polar": {
           "angularaxis": {
            "gridcolor": "white",
            "linecolor": "white",
            "ticks": ""
           },
           "bgcolor": "#E5ECF6",
           "radialaxis": {
            "gridcolor": "white",
            "linecolor": "white",
            "ticks": ""
           }
          },
          "scene": {
           "xaxis": {
            "backgroundcolor": "#E5ECF6",
            "gridcolor": "white",
            "gridwidth": 2,
            "linecolor": "white",
            "showbackground": true,
            "ticks": "",
            "zerolinecolor": "white"
           },
           "yaxis": {
            "backgroundcolor": "#E5ECF6",
            "gridcolor": "white",
            "gridwidth": 2,
            "linecolor": "white",
            "showbackground": true,
            "ticks": "",
            "zerolinecolor": "white"
           },
           "zaxis": {
            "backgroundcolor": "#E5ECF6",
            "gridcolor": "white",
            "gridwidth": 2,
            "linecolor": "white",
            "showbackground": true,
            "ticks": "",
            "zerolinecolor": "white"
           }
          },
          "shapedefaults": {
           "line": {
            "color": "#2a3f5f"
           }
          },
          "ternary": {
           "aaxis": {
            "gridcolor": "white",
            "linecolor": "white",
            "ticks": ""
           },
           "baxis": {
            "gridcolor": "white",
            "linecolor": "white",
            "ticks": ""
           },
           "bgcolor": "#E5ECF6",
           "caxis": {
            "gridcolor": "white",
            "linecolor": "white",
            "ticks": ""
           }
          },
          "title": {
           "x": 0.05
          },
          "xaxis": {
           "automargin": true,
           "gridcolor": "white",
           "linecolor": "white",
           "ticks": "",
           "title": {
            "standoff": 15
           },
           "zerolinecolor": "white",
           "zerolinewidth": 2
          },
          "yaxis": {
           "automargin": true,
           "gridcolor": "white",
           "linecolor": "white",
           "ticks": "",
           "title": {
            "standoff": 15
           },
           "zerolinecolor": "white",
           "zerolinewidth": 2
          }
         }
        },
        "title": {
         "text": "Runtime"
        },
        "xaxis": {
         "anchor": "y",
         "domain": [
          0,
          1
         ],
         "title": {
          "text": ""
         }
        },
        "yaxis": {
         "anchor": "x",
         "domain": [
          0,
          1
         ],
         "title": {
          "text": "s"
         }
        }
       }
      }
     },
     "metadata": {}
    }
   ],
   "source": [
    "# run times\n",
    "col_names = [\"FIRES\",\"FSDS\", \"OFS\", \"OFSSGD\"]\n",
    "values = [fires_cuda_run_time, fsds_run_time, ofs_run_time, ofssgd_run_time]\n",
    "fig = px.bar(x=col_names, y=values, title=\"Runtime\", labels={\"y\":\"s\", \"x\":\"\"}, color=col_names, color_discrete_map={'FIRES': 'red', \n",
    "                                                   'FSDS': 'green', 'OFS': 'purple', \"OFSSGD\":\"yellow\"})\n",
    "fig.show()"
   ]
  },
  {
   "cell_type": "code",
   "execution_count": 75,
   "metadata": {},
   "outputs": [
    {
     "output_type": "display_data",
     "data": {
      "application/vnd.plotly.v1+json": {
       "config": {
        "plotlyServerURL": "https://plot.ly"
       },
       "data": [
        {
         "alignmentgroup": "True",
         "hovertemplate": "color=FIRES<br>=%{x}<br>%=%{y}<extra></extra>",
         "legendgroup": "FIRES",
         "marker": {
          "color": "red"
         },
         "name": "FIRES",
         "offsetgroup": "FIRES",
         "orientation": "v",
         "showlegend": true,
         "textposition": "auto",
         "type": "bar",
         "x": [
          "FIRES"
         ],
         "xaxis": "x",
         "y": [
          10.588235294117647
         ],
         "yaxis": "y"
        },
        {
         "alignmentgroup": "True",
         "hovertemplate": "color=FSDS<br>=%{x}<br>%=%{y}<extra></extra>",
         "legendgroup": "FSDS",
         "marker": {
          "color": "green"
         },
         "name": "FSDS",
         "offsetgroup": "FSDS",
         "orientation": "v",
         "showlegend": true,
         "textposition": "auto",
         "type": "bar",
         "x": [
          "FSDS"
         ],
         "xaxis": "x",
         "y": [
          18.823529411764707
         ],
         "yaxis": "y"
        },
        {
         "alignmentgroup": "True",
         "hovertemplate": "color=OFS<br>=%{x}<br>%=%{y}<extra></extra>",
         "legendgroup": "OFS",
         "marker": {
          "color": "purple"
         },
         "name": "OFS",
         "offsetgroup": "OFS",
         "orientation": "v",
         "showlegend": true,
         "textposition": "auto",
         "type": "bar",
         "x": [
          "OFS"
         ],
         "xaxis": "x",
         "y": [
          4.705882352941177
         ],
         "yaxis": "y"
        },
        {
         "alignmentgroup": "True",
         "hovertemplate": "color=OFSSGD<br>=%{x}<br>%=%{y}<extra></extra>",
         "legendgroup": "OFSSGD",
         "marker": {
          "color": "yellow"
         },
         "name": "OFSSGD",
         "offsetgroup": "OFSSGD",
         "orientation": "v",
         "showlegend": true,
         "textposition": "auto",
         "type": "bar",
         "x": [
          "OFSSGD"
         ],
         "xaxis": "x",
         "y": [
          100
         ],
         "yaxis": "y"
        }
       ],
       "layout": {
        "barmode": "relative",
        "legend": {
         "title": {
          "text": "color"
         },
         "tracegroupgap": 0
        },
        "template": {
         "data": {
          "bar": [
           {
            "error_x": {
             "color": "#2a3f5f"
            },
            "error_y": {
             "color": "#2a3f5f"
            },
            "marker": {
             "line": {
              "color": "#E5ECF6",
              "width": 0.5
             }
            },
            "type": "bar"
           }
          ],
          "barpolar": [
           {
            "marker": {
             "line": {
              "color": "#E5ECF6",
              "width": 0.5
             }
            },
            "type": "barpolar"
           }
          ],
          "carpet": [
           {
            "aaxis": {
             "endlinecolor": "#2a3f5f",
             "gridcolor": "white",
             "linecolor": "white",
             "minorgridcolor": "white",
             "startlinecolor": "#2a3f5f"
            },
            "baxis": {
             "endlinecolor": "#2a3f5f",
             "gridcolor": "white",
             "linecolor": "white",
             "minorgridcolor": "white",
             "startlinecolor": "#2a3f5f"
            },
            "type": "carpet"
           }
          ],
          "choropleth": [
           {
            "colorbar": {
             "outlinewidth": 0,
             "ticks": ""
            },
            "type": "choropleth"
           }
          ],
          "contour": [
           {
            "colorbar": {
             "outlinewidth": 0,
             "ticks": ""
            },
            "colorscale": [
             [
              0,
              "#0d0887"
             ],
             [
              0.1111111111111111,
              "#46039f"
             ],
             [
              0.2222222222222222,
              "#7201a8"
             ],
             [
              0.3333333333333333,
              "#9c179e"
             ],
             [
              0.4444444444444444,
              "#bd3786"
             ],
             [
              0.5555555555555556,
              "#d8576b"
             ],
             [
              0.6666666666666666,
              "#ed7953"
             ],
             [
              0.7777777777777778,
              "#fb9f3a"
             ],
             [
              0.8888888888888888,
              "#fdca26"
             ],
             [
              1,
              "#f0f921"
             ]
            ],
            "type": "contour"
           }
          ],
          "contourcarpet": [
           {
            "colorbar": {
             "outlinewidth": 0,
             "ticks": ""
            },
            "type": "contourcarpet"
           }
          ],
          "heatmap": [
           {
            "colorbar": {
             "outlinewidth": 0,
             "ticks": ""
            },
            "colorscale": [
             [
              0,
              "#0d0887"
             ],
             [
              0.1111111111111111,
              "#46039f"
             ],
             [
              0.2222222222222222,
              "#7201a8"
             ],
             [
              0.3333333333333333,
              "#9c179e"
             ],
             [
              0.4444444444444444,
              "#bd3786"
             ],
             [
              0.5555555555555556,
              "#d8576b"
             ],
             [
              0.6666666666666666,
              "#ed7953"
             ],
             [
              0.7777777777777778,
              "#fb9f3a"
             ],
             [
              0.8888888888888888,
              "#fdca26"
             ],
             [
              1,
              "#f0f921"
             ]
            ],
            "type": "heatmap"
           }
          ],
          "heatmapgl": [
           {
            "colorbar": {
             "outlinewidth": 0,
             "ticks": ""
            },
            "colorscale": [
             [
              0,
              "#0d0887"
             ],
             [
              0.1111111111111111,
              "#46039f"
             ],
             [
              0.2222222222222222,
              "#7201a8"
             ],
             [
              0.3333333333333333,
              "#9c179e"
             ],
             [
              0.4444444444444444,
              "#bd3786"
             ],
             [
              0.5555555555555556,
              "#d8576b"
             ],
             [
              0.6666666666666666,
              "#ed7953"
             ],
             [
              0.7777777777777778,
              "#fb9f3a"
             ],
             [
              0.8888888888888888,
              "#fdca26"
             ],
             [
              1,
              "#f0f921"
             ]
            ],
            "type": "heatmapgl"
           }
          ],
          "histogram": [
           {
            "marker": {
             "colorbar": {
              "outlinewidth": 0,
              "ticks": ""
             }
            },
            "type": "histogram"
           }
          ],
          "histogram2d": [
           {
            "colorbar": {
             "outlinewidth": 0,
             "ticks": ""
            },
            "colorscale": [
             [
              0,
              "#0d0887"
             ],
             [
              0.1111111111111111,
              "#46039f"
             ],
             [
              0.2222222222222222,
              "#7201a8"
             ],
             [
              0.3333333333333333,
              "#9c179e"
             ],
             [
              0.4444444444444444,
              "#bd3786"
             ],
             [
              0.5555555555555556,
              "#d8576b"
             ],
             [
              0.6666666666666666,
              "#ed7953"
             ],
             [
              0.7777777777777778,
              "#fb9f3a"
             ],
             [
              0.8888888888888888,
              "#fdca26"
             ],
             [
              1,
              "#f0f921"
             ]
            ],
            "type": "histogram2d"
           }
          ],
          "histogram2dcontour": [
           {
            "colorbar": {
             "outlinewidth": 0,
             "ticks": ""
            },
            "colorscale": [
             [
              0,
              "#0d0887"
             ],
             [
              0.1111111111111111,
              "#46039f"
             ],
             [
              0.2222222222222222,
              "#7201a8"
             ],
             [
              0.3333333333333333,
              "#9c179e"
             ],
             [
              0.4444444444444444,
              "#bd3786"
             ],
             [
              0.5555555555555556,
              "#d8576b"
             ],
             [
              0.6666666666666666,
              "#ed7953"
             ],
             [
              0.7777777777777778,
              "#fb9f3a"
             ],
             [
              0.8888888888888888,
              "#fdca26"
             ],
             [
              1,
              "#f0f921"
             ]
            ],
            "type": "histogram2dcontour"
           }
          ],
          "mesh3d": [
           {
            "colorbar": {
             "outlinewidth": 0,
             "ticks": ""
            },
            "type": "mesh3d"
           }
          ],
          "parcoords": [
           {
            "line": {
             "colorbar": {
              "outlinewidth": 0,
              "ticks": ""
             }
            },
            "type": "parcoords"
           }
          ],
          "pie": [
           {
            "automargin": true,
            "type": "pie"
           }
          ],
          "scatter": [
           {
            "marker": {
             "colorbar": {
              "outlinewidth": 0,
              "ticks": ""
             }
            },
            "type": "scatter"
           }
          ],
          "scatter3d": [
           {
            "line": {
             "colorbar": {
              "outlinewidth": 0,
              "ticks": ""
             }
            },
            "marker": {
             "colorbar": {
              "outlinewidth": 0,
              "ticks": ""
             }
            },
            "type": "scatter3d"
           }
          ],
          "scattercarpet": [
           {
            "marker": {
             "colorbar": {
              "outlinewidth": 0,
              "ticks": ""
             }
            },
            "type": "scattercarpet"
           }
          ],
          "scattergeo": [
           {
            "marker": {
             "colorbar": {
              "outlinewidth": 0,
              "ticks": ""
             }
            },
            "type": "scattergeo"
           }
          ],
          "scattergl": [
           {
            "marker": {
             "colorbar": {
              "outlinewidth": 0,
              "ticks": ""
             }
            },
            "type": "scattergl"
           }
          ],
          "scattermapbox": [
           {
            "marker": {
             "colorbar": {
              "outlinewidth": 0,
              "ticks": ""
             }
            },
            "type": "scattermapbox"
           }
          ],
          "scatterpolar": [
           {
            "marker": {
             "colorbar": {
              "outlinewidth": 0,
              "ticks": ""
             }
            },
            "type": "scatterpolar"
           }
          ],
          "scatterpolargl": [
           {
            "marker": {
             "colorbar": {
              "outlinewidth": 0,
              "ticks": ""
             }
            },
            "type": "scatterpolargl"
           }
          ],
          "scatterternary": [
           {
            "marker": {
             "colorbar": {
              "outlinewidth": 0,
              "ticks": ""
             }
            },
            "type": "scatterternary"
           }
          ],
          "surface": [
           {
            "colorbar": {
             "outlinewidth": 0,
             "ticks": ""
            },
            "colorscale": [
             [
              0,
              "#0d0887"
             ],
             [
              0.1111111111111111,
              "#46039f"
             ],
             [
              0.2222222222222222,
              "#7201a8"
             ],
             [
              0.3333333333333333,
              "#9c179e"
             ],
             [
              0.4444444444444444,
              "#bd3786"
             ],
             [
              0.5555555555555556,
              "#d8576b"
             ],
             [
              0.6666666666666666,
              "#ed7953"
             ],
             [
              0.7777777777777778,
              "#fb9f3a"
             ],
             [
              0.8888888888888888,
              "#fdca26"
             ],
             [
              1,
              "#f0f921"
             ]
            ],
            "type": "surface"
           }
          ],
          "table": [
           {
            "cells": {
             "fill": {
              "color": "#EBF0F8"
             },
             "line": {
              "color": "white"
             }
            },
            "header": {
             "fill": {
              "color": "#C8D4E3"
             },
             "line": {
              "color": "white"
             }
            },
            "type": "table"
           }
          ]
         },
         "layout": {
          "annotationdefaults": {
           "arrowcolor": "#2a3f5f",
           "arrowhead": 0,
           "arrowwidth": 1
          },
          "autotypenumbers": "strict",
          "coloraxis": {
           "colorbar": {
            "outlinewidth": 0,
            "ticks": ""
           }
          },
          "colorscale": {
           "diverging": [
            [
             0,
             "#8e0152"
            ],
            [
             0.1,
             "#c51b7d"
            ],
            [
             0.2,
             "#de77ae"
            ],
            [
             0.3,
             "#f1b6da"
            ],
            [
             0.4,
             "#fde0ef"
            ],
            [
             0.5,
             "#f7f7f7"
            ],
            [
             0.6,
             "#e6f5d0"
            ],
            [
             0.7,
             "#b8e186"
            ],
            [
             0.8,
             "#7fbc41"
            ],
            [
             0.9,
             "#4d9221"
            ],
            [
             1,
             "#276419"
            ]
           ],
           "sequential": [
            [
             0,
             "#0d0887"
            ],
            [
             0.1111111111111111,
             "#46039f"
            ],
            [
             0.2222222222222222,
             "#7201a8"
            ],
            [
             0.3333333333333333,
             "#9c179e"
            ],
            [
             0.4444444444444444,
             "#bd3786"
            ],
            [
             0.5555555555555556,
             "#d8576b"
            ],
            [
             0.6666666666666666,
             "#ed7953"
            ],
            [
             0.7777777777777778,
             "#fb9f3a"
            ],
            [
             0.8888888888888888,
             "#fdca26"
            ],
            [
             1,
             "#f0f921"
            ]
           ],
           "sequentialminus": [
            [
             0,
             "#0d0887"
            ],
            [
             0.1111111111111111,
             "#46039f"
            ],
            [
             0.2222222222222222,
             "#7201a8"
            ],
            [
             0.3333333333333333,
             "#9c179e"
            ],
            [
             0.4444444444444444,
             "#bd3786"
            ],
            [
             0.5555555555555556,
             "#d8576b"
            ],
            [
             0.6666666666666666,
             "#ed7953"
            ],
            [
             0.7777777777777778,
             "#fb9f3a"
            ],
            [
             0.8888888888888888,
             "#fdca26"
            ],
            [
             1,
             "#f0f921"
            ]
           ]
          },
          "colorway": [
           "#636efa",
           "#EF553B",
           "#00cc96",
           "#ab63fa",
           "#FFA15A",
           "#19d3f3",
           "#FF6692",
           "#B6E880",
           "#FF97FF",
           "#FECB52"
          ],
          "font": {
           "color": "#2a3f5f"
          },
          "geo": {
           "bgcolor": "white",
           "lakecolor": "white",
           "landcolor": "#E5ECF6",
           "showlakes": true,
           "showland": true,
           "subunitcolor": "white"
          },
          "hoverlabel": {
           "align": "left"
          },
          "hovermode": "closest",
          "mapbox": {
           "style": "light"
          },
          "paper_bgcolor": "white",
          "plot_bgcolor": "#E5ECF6",
          "polar": {
           "angularaxis": {
            "gridcolor": "white",
            "linecolor": "white",
            "ticks": ""
           },
           "bgcolor": "#E5ECF6",
           "radialaxis": {
            "gridcolor": "white",
            "linecolor": "white",
            "ticks": ""
           }
          },
          "scene": {
           "xaxis": {
            "backgroundcolor": "#E5ECF6",
            "gridcolor": "white",
            "gridwidth": 2,
            "linecolor": "white",
            "showbackground": true,
            "ticks": "",
            "zerolinecolor": "white"
           },
           "yaxis": {
            "backgroundcolor": "#E5ECF6",
            "gridcolor": "white",
            "gridwidth": 2,
            "linecolor": "white",
            "showbackground": true,
            "ticks": "",
            "zerolinecolor": "white"
           },
           "zaxis": {
            "backgroundcolor": "#E5ECF6",
            "gridcolor": "white",
            "gridwidth": 2,
            "linecolor": "white",
            "showbackground": true,
            "ticks": "",
            "zerolinecolor": "white"
           }
          },
          "shapedefaults": {
           "line": {
            "color": "#2a3f5f"
           }
          },
          "ternary": {
           "aaxis": {
            "gridcolor": "white",
            "linecolor": "white",
            "ticks": ""
           },
           "baxis": {
            "gridcolor": "white",
            "linecolor": "white",
            "ticks": ""
           },
           "bgcolor": "#E5ECF6",
           "caxis": {
            "gridcolor": "white",
            "linecolor": "white",
            "ticks": ""
           }
          },
          "title": {
           "x": 0.05
          },
          "xaxis": {
           "automargin": true,
           "gridcolor": "white",
           "linecolor": "white",
           "ticks": "",
           "title": {
            "standoff": 15
           },
           "zerolinecolor": "white",
           "zerolinewidth": 2
          },
          "yaxis": {
           "automargin": true,
           "gridcolor": "white",
           "linecolor": "white",
           "ticks": "",
           "title": {
            "standoff": 15
           },
           "zerolinecolor": "white",
           "zerolinewidth": 2
          }
         }
        },
        "title": {
         "text": "True labels found"
        },
        "xaxis": {
         "anchor": "y",
         "domain": [
          0,
          1
         ],
         "title": {
          "text": ""
         }
        },
        "yaxis": {
         "anchor": "x",
         "domain": [
          0,
          1
         ],
         "title": {
          "text": "%"
         }
        }
       }
      }
     },
     "metadata": {}
    }
   ],
   "source": [
    "if check_ftrs:\n",
    "    col_names = [\"FIRES\",\"FSDS\", \"OFS\", \"OFSSGD\"]\n",
    "    values = [fires_perc_ftr_found, fsds_perc_ftr_found, ofs_perc_ftr_found, ofssgd_perc_ftr_found]\n",
    "    fig = px.bar(x=col_names, y=values, title=\"True labels found\", labels={\"y\":\"%\", \"x\":\"\"}, color=col_names, color_discrete_map={'FIRES': 'red', \n",
    "                                                   'FSDS': 'green', 'OFS': 'purple', \"OFSSGD\":\"yellow\"})\n",
    "    fig.show()"
   ]
  },
  {
   "cell_type": "code",
   "execution_count": null,
   "metadata": {},
   "outputs": [],
   "source": []
  }
 ]
}