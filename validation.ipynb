{
 "metadata": {
  "language_info": {
   "codemirror_mode": {
    "name": "ipython",
    "version": 3
   },
   "file_extension": ".py",
   "mimetype": "text/x-python",
   "name": "python",
   "nbconvert_exporter": "python",
   "pygments_lexer": "ipython3",
   "version": "3.8.5-final"
  },
  "orig_nbformat": 2,
  "kernelspec": {
   "name": "python3",
   "display_name": "Python 3",
   "language": "python"
  }
 },
 "nbformat": 4,
 "nbformat_minor": 2,
 "cells": [
  {
   "source": [
    "# Validation notebook\n",
    "Here the FIRES implementation for multiclass and regression is validated and compared to other online features selcetion algorithms.\n"
   ],
   "cell_type": "markdown",
   "metadata": {}
  },
  {
   "cell_type": "code",
   "execution_count": 1,
   "metadata": {},
   "outputs": [],
   "source": [
    "# import the functions needed for validate and comparsion\n",
    "\n",
    "import numpy as np\n",
    "import cupy as cp\n",
    "import pandas as pd\n",
    "from timeit import default_timer as timer\n",
    "\n",
    "from sklearn.model_selection import train_test_split\n",
    "from sklearn.metrics import accuracy_score, precision_score, recall_score, f1_score\n",
    "from skmultiflow.data import FileStream\n",
    "from skmultiflow.neural_networks import PerceptronMask\n",
    "from sklearn.linear_model import SGDRegressor\n",
    "\n",
    "# using plotly for plots\n",
    "#import plotly.graph_objects as go\n",
    "import plotly.express as px\n",
    "from plotly.subplots import make_subplots\n"
   ]
  },
  {
   "cell_type": "code",
   "execution_count": 2,
   "metadata": {},
   "outputs": [],
   "source": [
    "# paint mnist\n",
    "def paint_digit(digit_values):\n",
    "    fig = px.imshow(digit_values.reshape(28,28), binary_string=True)\n",
    "    fig.update_layout(coloraxis_showscale=False)\n",
    "    fig.update_xaxes(showticklabels=False)\n",
    "    fig.update_yaxes(showticklabels=False)\n",
    "    fig.show()\n",
    "    return(fig)"
   ]
  },
  {
   "cell_type": "code",
   "execution_count": 3,
   "metadata": {},
   "outputs": [],
   "source": [
    "# stability measurment as proposed in \"Measurment the Stability of Feature Selection\"\n",
    "\n",
    "def pearson_stability_ij(arr1,arr2):\n",
    "    d = len(arr1)\n",
    "    k_i = np.sum(arr1)\n",
    "    k_j = np.sum(arr2)\n",
    "    x_hat_i = k_i / d\n",
    "    x_hat_j = k_j / d\n",
    "    arr1 = arr1 - x_hat_i\n",
    "    arr2 = arr2 - x_hat_j\n",
    "    dividend = 1/d * np.sum(arr1*arr2)\n",
    "    divisor = np.sqrt(1/d*np.sum(arr1**2))*np.sqrt(1/d*np.sum(arr2**2))\n",
    "    return dividend/divisor\n",
    "\n",
    "def stability_factor(selected_ftrs):\n",
    "   M = len(selected_ftrs)\n",
    "   sum_stabilities = 0\n",
    "   for i in range(M):\n",
    "       for j in range(i+1, M):\n",
    "           sum_stabilities += pearson_stability_ij(selected_ftrs[i], selected_ftrs[j])\n",
    "   return 1/(M*(M-1))*sum_stabilities * 2   "
   ]
  },
  {
   "cell_type": "code",
   "execution_count": 4,
   "metadata": {},
   "outputs": [],
   "source": [
    "# import algorithms\n",
    "from fires import FIRES\n",
    "from fires_cuda import FIRES as FC\n",
    "from ofs import OFS, MC_OFS\n",
    "from ofssgr import OFSSGD, MC_OFSSGD\n",
    "from fsds import StreamFeatWeight"
   ]
  },
  {
   "source": [
    "## Multiclass Data\n",
    "\n",
    "Here the FIRES softmax implementation is compared to the FSDS, OFS and OFSSGD oun multiclass data.\n"
   ],
   "cell_type": "markdown",
   "metadata": {}
  },
  {
   "source": [
    "### Load Datasets as Streaming Data"
   ],
   "cell_type": "markdown",
   "metadata": {}
  },
  {
   "cell_type": "code",
   "execution_count": 32,
   "metadata": {},
   "outputs": [],
   "source": [
    "# MNIST data\n",
    "stream = FileStream('datasets/Multiclass/mnist_train_normalized.csv', target_idx=0)\n",
    "stream.prepare_for_use()\n",
    "dataset_name = \"mnist\"\n",
    "n_selected_ftr = 100\n",
    "n_window = 10\n",
    "batch_size = 100\n",
    "\n",
    "# load test data\n",
    "test_data = pd.read_csv('datasets/Multiclass/mnist_test_normalized.csv', header=None)\n",
    "test_y = test_data[0].to_numpy()\n",
    "test_x = test_data.drop(columns=0).to_numpy()\n"
   ]
  },
  {
   "cell_type": "code",
   "execution_count": null,
   "metadata": {},
   "outputs": [],
   "source": [
    "# Human Activity Recognition\n",
    "# labels changed from [1,...,6] to [0,...,5]\n",
    "# rows shuffled\n",
    "# split into train set with 7352 instances and test set with 2948\n",
    "stream = FileStream('datasets/Multiclass/har_train.csv', target_idx = 561)\n",
    "stream.prepare_for_use()\n",
    "dataset_name = \"har\"\n",
    "n_selected_ftr = 100\n",
    "n_window = 10\n",
    "\n",
    "\n",
    "# load test data\n",
    "test_data = pd.read_csv('datasets/Multiclass/har_test.csv')\n",
    "test_y = test_data[\"Class\"].to_numpy()\n",
    "test_x = test_data.drop(columns=\"Class\").to_numpy()\n"
   ]
  },
  {
   "cell_type": "code",
   "execution_count": null,
   "metadata": {},
   "outputs": [],
   "source": [
    "# Covtype scaled to 0,1\n",
    "# https://archive.ics.uci.edu/ml/datasets/covertype\n",
    "\n",
    "# rows shuffled\n",
    "# split into train set with 400000 instances and test set with 180000\n",
    "stream = FileStream('datasets/Multiclass/covtype.scale01.test.csv', target_idx = 0)\n",
    "stream.prepare_for_use()\n",
    "dataset_name = \"covtype\"\n",
    "n_selected_ftr = 25\n",
    "n_window = 50\n",
    "\n",
    "# load test data\n",
    "test_data = pd.read_csv('datasets/Multiclass/covtype.scale01.train.csv', header=None)\n",
    "test_y = test_data[0].to_numpy()\n",
    "test_x = test_data.drop(columns=0).to_numpy()"
   ]
  },
  {
   "source": [
    "### Test Perceptron\n",
    "the same model is used for all algorithms\n"
   ],
   "cell_type": "markdown",
   "metadata": {}
  },
  {
   "cell_type": "code",
   "execution_count": 6,
   "metadata": {},
   "outputs": [
    {
     "output_type": "execute_result",
     "data": {
      "text/plain": [
       "PerceptronMask(alpha=0.0001, class_weight=None, early_stopping=False, eta0=1.0,\n",
       "               fit_intercept=True, max_iter=1000, n_iter_no_change=5,\n",
       "               n_jobs=None, penalty=None, random_state=0, shuffle=True,\n",
       "               tol=0.001, validation_fraction=0.1, verbose=0, warm_start=False)"
      ]
     },
     "metadata": {},
     "execution_count": 6
    }
   ],
   "source": [
    "predictor = PerceptronMask()\n",
    "x,y = stream.next_sample(batch_size=100)\n",
    "predictor.partial_fit(x,y, stream.target_values)"
   ]
  },
  {
   "source": [
    "### Test without feature selection\n"
   ],
   "cell_type": "markdown",
   "metadata": {}
  },
  {
   "cell_type": "code",
   "execution_count": 7,
   "metadata": {},
   "outputs": [],
   "source": [
    "accuarcy_pure = []\n",
    "while stream.has_more_samples():\n",
    "    x, y = stream.next_sample(batch_size=100)\n",
    "    y_pred = predictor.predict(x)\n",
    "    accuarcy_pure.append(accuracy_score(y, y_pred))\n",
    "    predictor.partial_fit(x,y)\n",
    "\n",
    "    \n"
   ]
  },
  {
   "cell_type": "code",
   "execution_count": 8,
   "metadata": {},
   "outputs": [
    {
     "output_type": "display_data",
     "data": {
      "application/vnd.plotly.v1+json": {
       "config": {
        "plotlyServerURL": "https://plot.ly"
       },
       "data": [
        {
         "hovertemplate": "batches=%{x}<br>accuracy=%{y}<extra></extra>",
         "legendgroup": "",
         "line": {
          "color": "#636efa",
          "dash": "solid"
         },
         "mode": "lines",
         "name": "",
         "orientation": "v",
         "showlegend": false,
         "type": "scatter",
         "x": [
          0,
          1,
          2,
          3,
          4,
          5,
          6,
          7,
          8,
          9,
          10,
          11,
          12,
          13,
          14,
          15,
          16,
          17,
          18,
          19,
          20,
          21,
          22,
          23,
          24,
          25,
          26,
          27,
          28,
          29,
          30,
          31,
          32,
          33,
          34,
          35,
          36,
          37,
          38,
          39,
          40,
          41,
          42,
          43,
          44,
          45,
          46,
          47,
          48,
          49,
          50,
          51,
          52,
          53,
          54,
          55,
          56,
          57,
          58,
          59,
          60,
          61,
          62,
          63,
          64,
          65,
          66,
          67,
          68,
          69,
          70,
          71,
          72,
          73,
          74,
          75,
          76,
          77,
          78,
          79,
          80,
          81,
          82,
          83,
          84,
          85,
          86,
          87,
          88,
          89,
          90,
          91,
          92,
          93,
          94,
          95,
          96,
          97,
          98,
          99,
          100,
          101,
          102,
          103,
          104,
          105,
          106,
          107,
          108,
          109,
          110,
          111,
          112,
          113,
          114,
          115,
          116,
          117,
          118,
          119,
          120,
          121,
          122,
          123,
          124,
          125,
          126,
          127,
          128,
          129,
          130,
          131,
          132,
          133,
          134,
          135,
          136,
          137,
          138,
          139,
          140,
          141,
          142,
          143,
          144,
          145,
          146,
          147,
          148,
          149,
          150,
          151,
          152,
          153,
          154,
          155,
          156,
          157,
          158,
          159,
          160,
          161,
          162,
          163,
          164,
          165,
          166,
          167,
          168,
          169,
          170,
          171,
          172,
          173,
          174,
          175,
          176,
          177,
          178,
          179,
          180,
          181,
          182,
          183,
          184,
          185,
          186,
          187,
          188,
          189,
          190,
          191,
          192,
          193,
          194,
          195,
          196,
          197,
          198,
          199,
          200,
          201,
          202,
          203,
          204,
          205,
          206,
          207,
          208,
          209,
          210,
          211,
          212,
          213,
          214,
          215,
          216,
          217,
          218,
          219,
          220,
          221,
          222,
          223,
          224,
          225,
          226,
          227,
          228,
          229,
          230,
          231,
          232,
          233,
          234,
          235,
          236,
          237,
          238,
          239,
          240,
          241,
          242,
          243,
          244,
          245,
          246,
          247,
          248,
          249,
          250,
          251,
          252,
          253,
          254,
          255,
          256,
          257,
          258,
          259,
          260,
          261,
          262,
          263,
          264,
          265,
          266,
          267,
          268,
          269,
          270,
          271,
          272,
          273,
          274,
          275,
          276,
          277,
          278,
          279,
          280,
          281,
          282,
          283,
          284,
          285,
          286,
          287,
          288,
          289,
          290,
          291,
          292,
          293,
          294,
          295,
          296,
          297,
          298,
          299,
          300,
          301,
          302,
          303,
          304,
          305,
          306,
          307,
          308,
          309,
          310,
          311,
          312,
          313,
          314,
          315,
          316,
          317,
          318,
          319,
          320,
          321,
          322,
          323,
          324,
          325,
          326,
          327,
          328,
          329,
          330,
          331,
          332,
          333,
          334,
          335,
          336,
          337,
          338,
          339,
          340,
          341,
          342,
          343,
          344,
          345,
          346,
          347,
          348,
          349,
          350,
          351,
          352,
          353,
          354,
          355,
          356,
          357,
          358,
          359,
          360,
          361,
          362,
          363,
          364,
          365,
          366,
          367,
          368,
          369,
          370,
          371,
          372,
          373,
          374,
          375,
          376,
          377,
          378,
          379,
          380,
          381,
          382,
          383,
          384,
          385,
          386,
          387,
          388,
          389,
          390,
          391,
          392,
          393,
          394,
          395,
          396,
          397,
          398,
          399,
          400,
          401,
          402,
          403,
          404,
          405,
          406,
          407,
          408,
          409,
          410,
          411,
          412,
          413,
          414,
          415,
          416,
          417,
          418,
          419,
          420,
          421,
          422,
          423,
          424,
          425,
          426,
          427,
          428,
          429,
          430,
          431,
          432,
          433,
          434,
          435,
          436,
          437,
          438,
          439,
          440,
          441,
          442,
          443,
          444,
          445,
          446,
          447,
          448,
          449,
          450,
          451,
          452,
          453,
          454,
          455,
          456,
          457,
          458,
          459,
          460,
          461,
          462,
          463,
          464,
          465,
          466,
          467,
          468,
          469,
          470,
          471,
          472,
          473,
          474,
          475,
          476,
          477,
          478,
          479,
          480,
          481,
          482,
          483,
          484,
          485,
          486,
          487,
          488,
          489,
          490,
          491,
          492,
          493,
          494,
          495,
          496,
          497,
          498,
          499,
          500,
          501,
          502,
          503,
          504,
          505,
          506,
          507,
          508,
          509,
          510,
          511,
          512,
          513,
          514,
          515,
          516,
          517,
          518,
          519,
          520,
          521,
          522,
          523,
          524,
          525,
          526,
          527,
          528,
          529,
          530,
          531,
          532,
          533,
          534,
          535,
          536,
          537,
          538,
          539,
          540,
          541,
          542,
          543,
          544,
          545,
          546,
          547,
          548,
          549,
          550,
          551,
          552,
          553,
          554,
          555,
          556,
          557,
          558,
          559,
          560,
          561,
          562,
          563,
          564,
          565,
          566,
          567,
          568,
          569,
          570,
          571,
          572,
          573,
          574,
          575,
          576,
          577,
          578,
          579,
          580,
          581,
          582,
          583,
          584,
          585,
          586,
          587,
          588,
          589,
          590,
          591,
          592,
          593,
          594,
          595,
          596,
          597,
          598
         ],
         "xaxis": "x",
         "y": [
          0.57,
          0.66,
          0.74,
          0.68,
          0.67,
          0.71,
          0.77,
          0.78,
          0.81,
          0.68,
          0.78,
          0.69,
          0.78,
          0.81,
          0.73,
          0.86,
          0.83,
          0.76,
          0.8,
          0.79,
          0.82,
          0.85,
          0.8,
          0.82,
          0.95,
          0.81,
          0.82,
          0.82,
          0.79,
          0.78,
          0.83,
          0.81,
          0.81,
          0.9,
          0.8,
          0.86,
          0.83,
          0.86,
          0.84,
          0.82,
          0.86,
          0.77,
          0.82,
          0.87,
          0.91,
          0.77,
          0.81,
          0.87,
          0.86,
          0.66,
          0.73,
          0.82,
          0.85,
          0.86,
          0.88,
          0.89,
          0.77,
          0.78,
          0.93,
          0.91,
          0.87,
          0.82,
          0.83,
          0.87,
          0.85,
          0.89,
          0.85,
          0.74,
          0.81,
          0.86,
          0.9,
          0.78,
          0.8,
          0.89,
          0.85,
          0.82,
          0.79,
          0.73,
          0.85,
          0.86,
          0.8,
          0.84,
          0.89,
          0.83,
          0.91,
          0.75,
          0.67,
          0.75,
          0.82,
          0.92,
          0.86,
          0.85,
          0.85,
          0.88,
          0.85,
          0.9,
          0.84,
          0.9,
          0.87,
          0.87,
          0.86,
          0.73,
          0.87,
          0.84,
          0.9,
          0.93,
          0.85,
          0.86,
          0.75,
          0.89,
          0.89,
          0.87,
          0.87,
          0.88,
          0.83,
          0.85,
          0.88,
          0.78,
          0.82,
          0.73,
          0.91,
          0.85,
          0.88,
          0.86,
          0.81,
          0.77,
          0.84,
          0.83,
          0.78,
          0.74,
          0.75,
          0.92,
          0.87,
          0.87,
          0.9,
          0.8,
          0.82,
          0.88,
          0.81,
          0.83,
          0.81,
          0.86,
          0.77,
          0.89,
          0.87,
          0.75,
          0.79,
          0.71,
          0.85,
          0.89,
          0.81,
          0.86,
          0.83,
          0.85,
          0.86,
          0.91,
          0.73,
          0.77,
          0.85,
          0.77,
          0.88,
          0.85,
          0.85,
          0.9,
          0.89,
          0.83,
          0.82,
          0.91,
          0.8,
          0.82,
          0.89,
          0.85,
          0.9,
          0.78,
          0.82,
          0.89,
          0.73,
          0.78,
          0.92,
          0.86,
          0.91,
          0.89,
          0.87,
          0.83,
          0.87,
          0.9,
          0.89,
          0.9,
          0.89,
          0.85,
          0.93,
          0.89,
          0.86,
          0.88,
          0.81,
          0.88,
          0.94,
          0.79,
          0.88,
          0.89,
          0.87,
          0.85,
          0.91,
          0.91,
          0.83,
          0.86,
          0.87,
          0.8,
          0.77,
          0.88,
          0.86,
          0.9,
          0.84,
          0.88,
          0.86,
          0.9,
          0.91,
          0.91,
          0.92,
          0.92,
          0.78,
          0.83,
          0.93,
          0.82,
          0.67,
          0.8,
          0.85,
          0.84,
          0.95,
          0.85,
          0.87,
          0.84,
          0.91,
          0.86,
          0.9,
          0.86,
          0.79,
          0.81,
          0.89,
          0.78,
          0.89,
          0.84,
          0.92,
          0.87,
          0.91,
          0.81,
          0.92,
          0.87,
          0.85,
          0.89,
          0.87,
          0.89,
          0.86,
          0.9,
          0.9,
          0.88,
          0.89,
          0.9,
          0.86,
          0.91,
          0.85,
          0.85,
          0.85,
          0.9,
          0.9,
          0.83,
          0.81,
          0.8,
          0.92,
          0.9,
          0.86,
          0.87,
          0.86,
          0.85,
          0.9,
          0.81,
          0.91,
          0.85,
          0.85,
          0.92,
          0.85,
          0.91,
          0.9,
          0.91,
          0.76,
          0.83,
          0.85,
          0.85,
          0.88,
          0.85,
          0.75,
          0.84,
          0.81,
          0.91,
          0.83,
          0.83,
          0.85,
          0.86,
          0.8,
          0.82,
          0.89,
          0.87,
          0.87,
          0.81,
          0.81,
          0.8,
          0.9,
          0.82,
          0.85,
          0.87,
          0.84,
          0.85,
          0.81,
          0.83,
          0.85,
          0.76,
          0.72,
          0.84,
          0.85,
          0.84,
          0.8,
          0.88,
          0.74,
          0.77,
          0.84,
          0.92,
          0.91,
          0.9,
          0.88,
          0.88,
          0.94,
          0.83,
          0.81,
          0.9,
          0.88,
          0.93,
          0.88,
          0.92,
          0.92,
          0.89,
          0.87,
          0.94,
          0.93,
          0.83,
          0.79,
          0.82,
          0.82,
          0.76,
          0.89,
          0.9,
          0.86,
          0.9,
          0.88,
          0.86,
          0.94,
          0.85,
          0.85,
          0.91,
          0.87,
          0.89,
          0.88,
          0.87,
          0.91,
          0.89,
          0.86,
          0.92,
          0.9,
          0.87,
          0.89,
          0.83,
          0.78,
          0.83,
          0.84,
          0.83,
          0.79,
          0.85,
          0.84,
          0.89,
          0.86,
          0.87,
          0.93,
          0.87,
          0.83,
          0.9,
          0.83,
          0.81,
          0.86,
          0.91,
          0.92,
          0.89,
          0.87,
          0.82,
          0.8,
          0.74,
          0.83,
          0.89,
          0.87,
          0.87,
          0.83,
          0.86,
          0.86,
          0.87,
          0.91,
          0.82,
          0.78,
          0.86,
          0.92,
          0.9,
          0.89,
          0.91,
          0.88,
          0.82,
          0.74,
          0.83,
          0.81,
          0.9,
          0.87,
          0.86,
          0.87,
          0.87,
          0.87,
          0.88,
          0.82,
          0.78,
          0.85,
          0.88,
          0.86,
          0.86,
          0.8,
          0.89,
          0.92,
          0.82,
          0.93,
          0.91,
          0.77,
          0.9,
          0.88,
          0.86,
          0.83,
          0.79,
          0.82,
          0.86,
          0.85,
          0.82,
          0.88,
          0.93,
          0.85,
          0.81,
          0.81,
          0.81,
          0.86,
          0.87,
          0.92,
          0.83,
          0.84,
          0.84,
          0.82,
          0.81,
          0.9,
          0.74,
          0.81,
          0.83,
          0.76,
          0.81,
          0.93,
          0.89,
          0.87,
          0.87,
          0.87,
          0.9,
          0.87,
          0.81,
          0.83,
          0.83,
          0.78,
          0.83,
          0.85,
          0.89,
          0.8,
          0.88,
          0.93,
          0.86,
          0.83,
          0.92,
          0.85,
          0.9,
          0.88,
          0.91,
          0.77,
          0.84,
          0.87,
          0.81,
          0.92,
          0.85,
          0.84,
          0.82,
          0.9,
          0.8,
          0.87,
          0.84,
          0.84,
          0.84,
          0.74,
          0.84,
          0.87,
          0.87,
          0.83,
          0.93,
          0.84,
          0.92,
          0.87,
          0.83,
          0.93,
          0.87,
          0.93,
          0.89,
          0.87,
          0.88,
          0.84,
          0.88,
          0.76,
          0.75,
          0.83,
          0.92,
          0.94,
          0.83,
          0.83,
          0.84,
          0.81,
          0.9,
          0.84,
          0.93,
          0.93,
          0.91,
          0.9,
          0.89,
          0.89,
          0.86,
          0.8,
          0.8,
          0.89,
          0.92,
          0.9,
          0.92,
          0.86,
          0.89,
          0.9,
          0.84,
          0.82,
          0.89,
          0.91,
          0.89,
          0.91,
          0.88,
          0.87,
          0.81,
          0.91,
          0.85,
          0.95,
          0.88,
          0.86,
          0.85,
          0.75,
          0.81,
          0.92,
          0.84,
          0.89,
          0.95,
          0.92,
          0.89,
          0.94,
          0.89,
          0.81,
          0.88,
          0.85,
          0.86,
          0.8,
          0.93,
          0.96,
          0.85,
          0.91,
          0.96,
          0.9,
          0.85,
          0.86,
          0.94,
          0.93,
          0.88,
          0.96,
          0.98,
          0.98,
          0.94,
          0.86,
          0.93,
          0.98,
          0.89,
          0.82,
          1,
          0.93
         ],
         "yaxis": "y"
        }
       ],
       "layout": {
        "legend": {
         "tracegroupgap": 0
        },
        "template": {
         "data": {
          "bar": [
           {
            "error_x": {
             "color": "#2a3f5f"
            },
            "error_y": {
             "color": "#2a3f5f"
            },
            "marker": {
             "line": {
              "color": "#E5ECF6",
              "width": 0.5
             }
            },
            "type": "bar"
           }
          ],
          "barpolar": [
           {
            "marker": {
             "line": {
              "color": "#E5ECF6",
              "width": 0.5
             }
            },
            "type": "barpolar"
           }
          ],
          "carpet": [
           {
            "aaxis": {
             "endlinecolor": "#2a3f5f",
             "gridcolor": "white",
             "linecolor": "white",
             "minorgridcolor": "white",
             "startlinecolor": "#2a3f5f"
            },
            "baxis": {
             "endlinecolor": "#2a3f5f",
             "gridcolor": "white",
             "linecolor": "white",
             "minorgridcolor": "white",
             "startlinecolor": "#2a3f5f"
            },
            "type": "carpet"
           }
          ],
          "choropleth": [
           {
            "colorbar": {
             "outlinewidth": 0,
             "ticks": ""
            },
            "type": "choropleth"
           }
          ],
          "contour": [
           {
            "colorbar": {
             "outlinewidth": 0,
             "ticks": ""
            },
            "colorscale": [
             [
              0,
              "#0d0887"
             ],
             [
              0.1111111111111111,
              "#46039f"
             ],
             [
              0.2222222222222222,
              "#7201a8"
             ],
             [
              0.3333333333333333,
              "#9c179e"
             ],
             [
              0.4444444444444444,
              "#bd3786"
             ],
             [
              0.5555555555555556,
              "#d8576b"
             ],
             [
              0.6666666666666666,
              "#ed7953"
             ],
             [
              0.7777777777777778,
              "#fb9f3a"
             ],
             [
              0.8888888888888888,
              "#fdca26"
             ],
             [
              1,
              "#f0f921"
             ]
            ],
            "type": "contour"
           }
          ],
          "contourcarpet": [
           {
            "colorbar": {
             "outlinewidth": 0,
             "ticks": ""
            },
            "type": "contourcarpet"
           }
          ],
          "heatmap": [
           {
            "colorbar": {
             "outlinewidth": 0,
             "ticks": ""
            },
            "colorscale": [
             [
              0,
              "#0d0887"
             ],
             [
              0.1111111111111111,
              "#46039f"
             ],
             [
              0.2222222222222222,
              "#7201a8"
             ],
             [
              0.3333333333333333,
              "#9c179e"
             ],
             [
              0.4444444444444444,
              "#bd3786"
             ],
             [
              0.5555555555555556,
              "#d8576b"
             ],
             [
              0.6666666666666666,
              "#ed7953"
             ],
             [
              0.7777777777777778,
              "#fb9f3a"
             ],
             [
              0.8888888888888888,
              "#fdca26"
             ],
             [
              1,
              "#f0f921"
             ]
            ],
            "type": "heatmap"
           }
          ],
          "heatmapgl": [
           {
            "colorbar": {
             "outlinewidth": 0,
             "ticks": ""
            },
            "colorscale": [
             [
              0,
              "#0d0887"
             ],
             [
              0.1111111111111111,
              "#46039f"
             ],
             [
              0.2222222222222222,
              "#7201a8"
             ],
             [
              0.3333333333333333,
              "#9c179e"
             ],
             [
              0.4444444444444444,
              "#bd3786"
             ],
             [
              0.5555555555555556,
              "#d8576b"
             ],
             [
              0.6666666666666666,
              "#ed7953"
             ],
             [
              0.7777777777777778,
              "#fb9f3a"
             ],
             [
              0.8888888888888888,
              "#fdca26"
             ],
             [
              1,
              "#f0f921"
             ]
            ],
            "type": "heatmapgl"
           }
          ],
          "histogram": [
           {
            "marker": {
             "colorbar": {
              "outlinewidth": 0,
              "ticks": ""
             }
            },
            "type": "histogram"
           }
          ],
          "histogram2d": [
           {
            "colorbar": {
             "outlinewidth": 0,
             "ticks": ""
            },
            "colorscale": [
             [
              0,
              "#0d0887"
             ],
             [
              0.1111111111111111,
              "#46039f"
             ],
             [
              0.2222222222222222,
              "#7201a8"
             ],
             [
              0.3333333333333333,
              "#9c179e"
             ],
             [
              0.4444444444444444,
              "#bd3786"
             ],
             [
              0.5555555555555556,
              "#d8576b"
             ],
             [
              0.6666666666666666,
              "#ed7953"
             ],
             [
              0.7777777777777778,
              "#fb9f3a"
             ],
             [
              0.8888888888888888,
              "#fdca26"
             ],
             [
              1,
              "#f0f921"
             ]
            ],
            "type": "histogram2d"
           }
          ],
          "histogram2dcontour": [
           {
            "colorbar": {
             "outlinewidth": 0,
             "ticks": ""
            },
            "colorscale": [
             [
              0,
              "#0d0887"
             ],
             [
              0.1111111111111111,
              "#46039f"
             ],
             [
              0.2222222222222222,
              "#7201a8"
             ],
             [
              0.3333333333333333,
              "#9c179e"
             ],
             [
              0.4444444444444444,
              "#bd3786"
             ],
             [
              0.5555555555555556,
              "#d8576b"
             ],
             [
              0.6666666666666666,
              "#ed7953"
             ],
             [
              0.7777777777777778,
              "#fb9f3a"
             ],
             [
              0.8888888888888888,
              "#fdca26"
             ],
             [
              1,
              "#f0f921"
             ]
            ],
            "type": "histogram2dcontour"
           }
          ],
          "mesh3d": [
           {
            "colorbar": {
             "outlinewidth": 0,
             "ticks": ""
            },
            "type": "mesh3d"
           }
          ],
          "parcoords": [
           {
            "line": {
             "colorbar": {
              "outlinewidth": 0,
              "ticks": ""
             }
            },
            "type": "parcoords"
           }
          ],
          "pie": [
           {
            "automargin": true,
            "type": "pie"
           }
          ],
          "scatter": [
           {
            "marker": {
             "colorbar": {
              "outlinewidth": 0,
              "ticks": ""
             }
            },
            "type": "scatter"
           }
          ],
          "scatter3d": [
           {
            "line": {
             "colorbar": {
              "outlinewidth": 0,
              "ticks": ""
             }
            },
            "marker": {
             "colorbar": {
              "outlinewidth": 0,
              "ticks": ""
             }
            },
            "type": "scatter3d"
           }
          ],
          "scattercarpet": [
           {
            "marker": {
             "colorbar": {
              "outlinewidth": 0,
              "ticks": ""
             }
            },
            "type": "scattercarpet"
           }
          ],
          "scattergeo": [
           {
            "marker": {
             "colorbar": {
              "outlinewidth": 0,
              "ticks": ""
             }
            },
            "type": "scattergeo"
           }
          ],
          "scattergl": [
           {
            "marker": {
             "colorbar": {
              "outlinewidth": 0,
              "ticks": ""
             }
            },
            "type": "scattergl"
           }
          ],
          "scattermapbox": [
           {
            "marker": {
             "colorbar": {
              "outlinewidth": 0,
              "ticks": ""
             }
            },
            "type": "scattermapbox"
           }
          ],
          "scatterpolar": [
           {
            "marker": {
             "colorbar": {
              "outlinewidth": 0,
              "ticks": ""
             }
            },
            "type": "scatterpolar"
           }
          ],
          "scatterpolargl": [
           {
            "marker": {
             "colorbar": {
              "outlinewidth": 0,
              "ticks": ""
             }
            },
            "type": "scatterpolargl"
           }
          ],
          "scatterternary": [
           {
            "marker": {
             "colorbar": {
              "outlinewidth": 0,
              "ticks": ""
             }
            },
            "type": "scatterternary"
           }
          ],
          "surface": [
           {
            "colorbar": {
             "outlinewidth": 0,
             "ticks": ""
            },
            "colorscale": [
             [
              0,
              "#0d0887"
             ],
             [
              0.1111111111111111,
              "#46039f"
             ],
             [
              0.2222222222222222,
              "#7201a8"
             ],
             [
              0.3333333333333333,
              "#9c179e"
             ],
             [
              0.4444444444444444,
              "#bd3786"
             ],
             [
              0.5555555555555556,
              "#d8576b"
             ],
             [
              0.6666666666666666,
              "#ed7953"
             ],
             [
              0.7777777777777778,
              "#fb9f3a"
             ],
             [
              0.8888888888888888,
              "#fdca26"
             ],
             [
              1,
              "#f0f921"
             ]
            ],
            "type": "surface"
           }
          ],
          "table": [
           {
            "cells": {
             "fill": {
              "color": "#EBF0F8"
             },
             "line": {
              "color": "white"
             }
            },
            "header": {
             "fill": {
              "color": "#C8D4E3"
             },
             "line": {
              "color": "white"
             }
            },
            "type": "table"
           }
          ]
         },
         "layout": {
          "annotationdefaults": {
           "arrowcolor": "#2a3f5f",
           "arrowhead": 0,
           "arrowwidth": 1
          },
          "autotypenumbers": "strict",
          "coloraxis": {
           "colorbar": {
            "outlinewidth": 0,
            "ticks": ""
           }
          },
          "colorscale": {
           "diverging": [
            [
             0,
             "#8e0152"
            ],
            [
             0.1,
             "#c51b7d"
            ],
            [
             0.2,
             "#de77ae"
            ],
            [
             0.3,
             "#f1b6da"
            ],
            [
             0.4,
             "#fde0ef"
            ],
            [
             0.5,
             "#f7f7f7"
            ],
            [
             0.6,
             "#e6f5d0"
            ],
            [
             0.7,
             "#b8e186"
            ],
            [
             0.8,
             "#7fbc41"
            ],
            [
             0.9,
             "#4d9221"
            ],
            [
             1,
             "#276419"
            ]
           ],
           "sequential": [
            [
             0,
             "#0d0887"
            ],
            [
             0.1111111111111111,
             "#46039f"
            ],
            [
             0.2222222222222222,
             "#7201a8"
            ],
            [
             0.3333333333333333,
             "#9c179e"
            ],
            [
             0.4444444444444444,
             "#bd3786"
            ],
            [
             0.5555555555555556,
             "#d8576b"
            ],
            [
             0.6666666666666666,
             "#ed7953"
            ],
            [
             0.7777777777777778,
             "#fb9f3a"
            ],
            [
             0.8888888888888888,
             "#fdca26"
            ],
            [
             1,
             "#f0f921"
            ]
           ],
           "sequentialminus": [
            [
             0,
             "#0d0887"
            ],
            [
             0.1111111111111111,
             "#46039f"
            ],
            [
             0.2222222222222222,
             "#7201a8"
            ],
            [
             0.3333333333333333,
             "#9c179e"
            ],
            [
             0.4444444444444444,
             "#bd3786"
            ],
            [
             0.5555555555555556,
             "#d8576b"
            ],
            [
             0.6666666666666666,
             "#ed7953"
            ],
            [
             0.7777777777777778,
             "#fb9f3a"
            ],
            [
             0.8888888888888888,
             "#fdca26"
            ],
            [
             1,
             "#f0f921"
            ]
           ]
          },
          "colorway": [
           "#636efa",
           "#EF553B",
           "#00cc96",
           "#ab63fa",
           "#FFA15A",
           "#19d3f3",
           "#FF6692",
           "#B6E880",
           "#FF97FF",
           "#FECB52"
          ],
          "font": {
           "color": "#2a3f5f"
          },
          "geo": {
           "bgcolor": "white",
           "lakecolor": "white",
           "landcolor": "#E5ECF6",
           "showlakes": true,
           "showland": true,
           "subunitcolor": "white"
          },
          "hoverlabel": {
           "align": "left"
          },
          "hovermode": "closest",
          "mapbox": {
           "style": "light"
          },
          "paper_bgcolor": "white",
          "plot_bgcolor": "#E5ECF6",
          "polar": {
           "angularaxis": {
            "gridcolor": "white",
            "linecolor": "white",
            "ticks": ""
           },
           "bgcolor": "#E5ECF6",
           "radialaxis": {
            "gridcolor": "white",
            "linecolor": "white",
            "ticks": ""
           }
          },
          "scene": {
           "xaxis": {
            "backgroundcolor": "#E5ECF6",
            "gridcolor": "white",
            "gridwidth": 2,
            "linecolor": "white",
            "showbackground": true,
            "ticks": "",
            "zerolinecolor": "white"
           },
           "yaxis": {
            "backgroundcolor": "#E5ECF6",
            "gridcolor": "white",
            "gridwidth": 2,
            "linecolor": "white",
            "showbackground": true,
            "ticks": "",
            "zerolinecolor": "white"
           },
           "zaxis": {
            "backgroundcolor": "#E5ECF6",
            "gridcolor": "white",
            "gridwidth": 2,
            "linecolor": "white",
            "showbackground": true,
            "ticks": "",
            "zerolinecolor": "white"
           }
          },
          "shapedefaults": {
           "line": {
            "color": "#2a3f5f"
           }
          },
          "ternary": {
           "aaxis": {
            "gridcolor": "white",
            "linecolor": "white",
            "ticks": ""
           },
           "baxis": {
            "gridcolor": "white",
            "linecolor": "white",
            "ticks": ""
           },
           "bgcolor": "#E5ECF6",
           "caxis": {
            "gridcolor": "white",
            "linecolor": "white",
            "ticks": ""
           }
          },
          "title": {
           "x": 0.05
          },
          "xaxis": {
           "automargin": true,
           "gridcolor": "white",
           "linecolor": "white",
           "ticks": "",
           "title": {
            "standoff": 15
           },
           "zerolinecolor": "white",
           "zerolinewidth": 2
          },
          "yaxis": {
           "automargin": true,
           "gridcolor": "white",
           "linecolor": "white",
           "ticks": "",
           "title": {
            "standoff": 15
           },
           "zerolinecolor": "white",
           "zerolinewidth": 2
          }
         }
        },
        "title": {
         "text": "Accuracy without ftr selection"
        },
        "xaxis": {
         "anchor": "y",
         "domain": [
          0,
          1
         ],
         "title": {
          "text": "batches"
         }
        },
        "yaxis": {
         "anchor": "x",
         "domain": [
          0,
          1
         ],
         "title": {
          "text": "accuracy"
         }
        }
       }
      }
     },
     "metadata": {}
    }
   ],
   "source": [
    "fig = px.line(y = accuarcy_pure, title=\"Accuracy without ftr selection\", labels={\"x\":\"batches\", \"y\":\"accuracy\"})\n",
    "fig.show()"
   ]
  },
  {
   "cell_type": "code",
   "execution_count": 11,
   "metadata": {},
   "outputs": [
    {
     "output_type": "stream",
     "name": "stdout",
     "text": [
      "For the test dataset the previous trained predictor reached: 0.8499\n"
     ]
    }
   ],
   "source": [
    "y_pred = predictor.predict(test_x)\n",
    "accuracy_no_ofs = accuracy_score(test_y, y_pred)\n",
    "print(\"For the test dataset the previous trained predictor reached: {}\".format(accuracy_no_ofs))"
   ]
  },
  {
   "source": [
    "### FIRES Framework"
   ],
   "cell_type": "markdown",
   "metadata": {}
  },
  {
   "cell_type": "code",
   "execution_count": 12,
   "metadata": {},
   "outputs": [
    {
     "output_type": "execute_result",
     "data": {
      "text/plain": [
       "PerceptronMask(alpha=0.0001, class_weight=None, early_stopping=False, eta0=1.0,\n",
       "               fit_intercept=True, max_iter=1000, n_iter_no_change=5,\n",
       "               n_jobs=None, penalty=None, random_state=0, shuffle=True,\n",
       "               tol=0.001, validation_fraction=0.1, verbose=0, warm_start=False)"
      ]
     },
     "metadata": {},
     "execution_count": 12
    }
   ],
   "source": [
    "stream.restart()\n",
    "predictor = PerceptronMask()\n",
    "x,y = stream.next_sample(batch_size=100)\n",
    "predictor.partial_fit(x,y, stream.target_values)"
   ]
  },
  {
   "cell_type": "code",
   "execution_count": 13,
   "metadata": {},
   "outputs": [],
   "source": [
    "# still without d, regularizer set 0.1 without being in the derivatives\n",
    "fires_model = FC(n_total_ftr=stream.n_features,\n",
    "                    target_values=stream.target_values,\n",
    "                    mu_init=0,\n",
    "                    sigma_init=1,\n",
    "                    model='softmax')               "
   ]
  },
  {
   "cell_type": "code",
   "execution_count": 14,
   "metadata": {
    "tags": []
   },
   "outputs": [
    {
     "output_type": "stream",
     "name": "stdout",
     "text": [
      "The whole fires_cuda run took 82.63893011099935\n"
     ]
    }
   ],
   "source": [
    "fires_cuda_accuracy = []\n",
    "#fsds_f1 = []\n",
    "fires_cuda_times = []\n",
    "\n",
    "fires_cuda_selected_ftrs = []\n",
    "fires_cuda_stability = []\n",
    "\n",
    "start_time_all = timer()\n",
    "while stream.has_more_samples():\n",
    "    # Load a new sample\n",
    "    x, y = stream.next_sample(batch_size=100)\n",
    "    # Select features\n",
    "    start_time = timer()\n",
    "    ftr_weights = fires_model.weigh_features(x,y)\n",
    "    ftr_selection = np.argsort(ftr_weights)[::-1][:n_selected_ftr]\n",
    "    fires_cuda_times.append(timer()-start_time)\n",
    "\n",
    "    # Truncate x (retain only selected features, 'remove' all others, e.g. by replacing them with 0)\n",
    "    x_reduced = np.zeros(x.shape)\n",
    "    x_reduced[:, ftr_selection] = x[:, ftr_selection]\n",
    "\n",
    "    # stability test\n",
    "    ftr_array = np.zeros(stream.n_features)\n",
    "    ftr_array[ftr_selection] = 1\n",
    "    fires_cuda_selected_ftrs.append(ftr_array)\n",
    "\n",
    "    if len(fires_cuda_selected_ftrs) >= 10:\n",
    "        stability = stability_factor(fires_cuda_selected_ftrs[-10:])\n",
    "        fires_cuda_stability.append(stability)\n",
    "\n",
    "\n",
    "    # Test\n",
    "    y_pred = predictor.predict(x_reduced)\n",
    "    \n",
    "    fires_cuda_accuracy.append(accuracy_score(y, y_pred))\n",
    "    #fsds_f1.append(f1_score(y, y_pred, average=None, labels=stream.target_values))\n",
    "\n",
    "\n",
    "    # Train\n",
    "    predictor.partial_fit(x_reduced, y)\n",
    "\n",
    "# Restart the FileStream\n",
    "end_time_all = timer()\n",
    "fires_cuda_run_time = timer() - start_time_all\n",
    "print(\"The whole fires_cuda run took {}\".format(fires_cuda_run_time))\n",
    "fires_moving_average = pd.Series(fires_cuda_accuracy).rolling(window=n_window).mean().iloc[n_window-1:].values\n",
    "stream.restart()"
   ]
  },
  {
   "cell_type": "code",
   "execution_count": null,
   "metadata": {},
   "outputs": [],
   "source": [
    "fig = px.line(y = fires_cuda_accuracy, title=\"Accuracy for Fires algorithm\", labels={\"x\":\"batches\", \"y\":\"accuracy\"})\n",
    "fig.show()"
   ]
  },
  {
   "cell_type": "code",
   "execution_count": null,
   "metadata": {},
   "outputs": [],
   "source": [
    "fig = px.line(y = fires_cuda_stability, title=\"Stability for Fires algorithm\", labels={\"x\":\"batches\", \"y\":\"accuracy\"})\n",
    "fig.show()"
   ]
  },
  {
   "cell_type": "code",
   "execution_count": 15,
   "metadata": {},
   "outputs": [
    {
     "output_type": "display_data",
     "data": {
      "application/vnd.plotly.v1+json": {
       "config": {
        "plotlyServerURL": "https://plot.ly"
       },
       "data": [
        {
         "hovertemplate": "x: %{x}<br>y: %{y}<extra></extra>",
         "name": "0",
         "source": "data:image/png;base64,iVBORw0KGgoAAAANSUhEUgAAABwAAAAcCAAAAABXZoBIAAAAXUlEQVR4XtWQwQ7AMAhC6bL//2V7MasPu507Dk2VIATpTxiYgqvr+Sm5fCWSa5uA0nHXYYjyqmQ49bPwLWRIwUzV8ytts9wFemnItUxrLEmLtCl+oRdfTntDbnsWJkYBDSNPjCgfAAAAAElFTkSuQmCC",
         "type": "image",
         "xaxis": "x",
         "yaxis": "y"
        }
       ],
       "layout": {
        "coloraxis": {
         "showscale": false
        },
        "margin": {
         "t": 60
        },
        "template": {
         "data": {
          "bar": [
           {
            "error_x": {
             "color": "#2a3f5f"
            },
            "error_y": {
             "color": "#2a3f5f"
            },
            "marker": {
             "line": {
              "color": "#E5ECF6",
              "width": 0.5
             }
            },
            "type": "bar"
           }
          ],
          "barpolar": [
           {
            "marker": {
             "line": {
              "color": "#E5ECF6",
              "width": 0.5
             }
            },
            "type": "barpolar"
           }
          ],
          "carpet": [
           {
            "aaxis": {
             "endlinecolor": "#2a3f5f",
             "gridcolor": "white",
             "linecolor": "white",
             "minorgridcolor": "white",
             "startlinecolor": "#2a3f5f"
            },
            "baxis": {
             "endlinecolor": "#2a3f5f",
             "gridcolor": "white",
             "linecolor": "white",
             "minorgridcolor": "white",
             "startlinecolor": "#2a3f5f"
            },
            "type": "carpet"
           }
          ],
          "choropleth": [
           {
            "colorbar": {
             "outlinewidth": 0,
             "ticks": ""
            },
            "type": "choropleth"
           }
          ],
          "contour": [
           {
            "colorbar": {
             "outlinewidth": 0,
             "ticks": ""
            },
            "colorscale": [
             [
              0,
              "#0d0887"
             ],
             [
              0.1111111111111111,
              "#46039f"
             ],
             [
              0.2222222222222222,
              "#7201a8"
             ],
             [
              0.3333333333333333,
              "#9c179e"
             ],
             [
              0.4444444444444444,
              "#bd3786"
             ],
             [
              0.5555555555555556,
              "#d8576b"
             ],
             [
              0.6666666666666666,
              "#ed7953"
             ],
             [
              0.7777777777777778,
              "#fb9f3a"
             ],
             [
              0.8888888888888888,
              "#fdca26"
             ],
             [
              1,
              "#f0f921"
             ]
            ],
            "type": "contour"
           }
          ],
          "contourcarpet": [
           {
            "colorbar": {
             "outlinewidth": 0,
             "ticks": ""
            },
            "type": "contourcarpet"
           }
          ],
          "heatmap": [
           {
            "colorbar": {
             "outlinewidth": 0,
             "ticks": ""
            },
            "colorscale": [
             [
              0,
              "#0d0887"
             ],
             [
              0.1111111111111111,
              "#46039f"
             ],
             [
              0.2222222222222222,
              "#7201a8"
             ],
             [
              0.3333333333333333,
              "#9c179e"
             ],
             [
              0.4444444444444444,
              "#bd3786"
             ],
             [
              0.5555555555555556,
              "#d8576b"
             ],
             [
              0.6666666666666666,
              "#ed7953"
             ],
             [
              0.7777777777777778,
              "#fb9f3a"
             ],
             [
              0.8888888888888888,
              "#fdca26"
             ],
             [
              1,
              "#f0f921"
             ]
            ],
            "type": "heatmap"
           }
          ],
          "heatmapgl": [
           {
            "colorbar": {
             "outlinewidth": 0,
             "ticks": ""
            },
            "colorscale": [
             [
              0,
              "#0d0887"
             ],
             [
              0.1111111111111111,
              "#46039f"
             ],
             [
              0.2222222222222222,
              "#7201a8"
             ],
             [
              0.3333333333333333,
              "#9c179e"
             ],
             [
              0.4444444444444444,
              "#bd3786"
             ],
             [
              0.5555555555555556,
              "#d8576b"
             ],
             [
              0.6666666666666666,
              "#ed7953"
             ],
             [
              0.7777777777777778,
              "#fb9f3a"
             ],
             [
              0.8888888888888888,
              "#fdca26"
             ],
             [
              1,
              "#f0f921"
             ]
            ],
            "type": "heatmapgl"
           }
          ],
          "histogram": [
           {
            "marker": {
             "colorbar": {
              "outlinewidth": 0,
              "ticks": ""
             }
            },
            "type": "histogram"
           }
          ],
          "histogram2d": [
           {
            "colorbar": {
             "outlinewidth": 0,
             "ticks": ""
            },
            "colorscale": [
             [
              0,
              "#0d0887"
             ],
             [
              0.1111111111111111,
              "#46039f"
             ],
             [
              0.2222222222222222,
              "#7201a8"
             ],
             [
              0.3333333333333333,
              "#9c179e"
             ],
             [
              0.4444444444444444,
              "#bd3786"
             ],
             [
              0.5555555555555556,
              "#d8576b"
             ],
             [
              0.6666666666666666,
              "#ed7953"
             ],
             [
              0.7777777777777778,
              "#fb9f3a"
             ],
             [
              0.8888888888888888,
              "#fdca26"
             ],
             [
              1,
              "#f0f921"
             ]
            ],
            "type": "histogram2d"
           }
          ],
          "histogram2dcontour": [
           {
            "colorbar": {
             "outlinewidth": 0,
             "ticks": ""
            },
            "colorscale": [
             [
              0,
              "#0d0887"
             ],
             [
              0.1111111111111111,
              "#46039f"
             ],
             [
              0.2222222222222222,
              "#7201a8"
             ],
             [
              0.3333333333333333,
              "#9c179e"
             ],
             [
              0.4444444444444444,
              "#bd3786"
             ],
             [
              0.5555555555555556,
              "#d8576b"
             ],
             [
              0.6666666666666666,
              "#ed7953"
             ],
             [
              0.7777777777777778,
              "#fb9f3a"
             ],
             [
              0.8888888888888888,
              "#fdca26"
             ],
             [
              1,
              "#f0f921"
             ]
            ],
            "type": "histogram2dcontour"
           }
          ],
          "mesh3d": [
           {
            "colorbar": {
             "outlinewidth": 0,
             "ticks": ""
            },
            "type": "mesh3d"
           }
          ],
          "parcoords": [
           {
            "line": {
             "colorbar": {
              "outlinewidth": 0,
              "ticks": ""
             }
            },
            "type": "parcoords"
           }
          ],
          "pie": [
           {
            "automargin": true,
            "type": "pie"
           }
          ],
          "scatter": [
           {
            "marker": {
             "colorbar": {
              "outlinewidth": 0,
              "ticks": ""
             }
            },
            "type": "scatter"
           }
          ],
          "scatter3d": [
           {
            "line": {
             "colorbar": {
              "outlinewidth": 0,
              "ticks": ""
             }
            },
            "marker": {
             "colorbar": {
              "outlinewidth": 0,
              "ticks": ""
             }
            },
            "type": "scatter3d"
           }
          ],
          "scattercarpet": [
           {
            "marker": {
             "colorbar": {
              "outlinewidth": 0,
              "ticks": ""
             }
            },
            "type": "scattercarpet"
           }
          ],
          "scattergeo": [
           {
            "marker": {
             "colorbar": {
              "outlinewidth": 0,
              "ticks": ""
             }
            },
            "type": "scattergeo"
           }
          ],
          "scattergl": [
           {
            "marker": {
             "colorbar": {
              "outlinewidth": 0,
              "ticks": ""
             }
            },
            "type": "scattergl"
           }
          ],
          "scattermapbox": [
           {
            "marker": {
             "colorbar": {
              "outlinewidth": 0,
              "ticks": ""
             }
            },
            "type": "scattermapbox"
           }
          ],
          "scatterpolar": [
           {
            "marker": {
             "colorbar": {
              "outlinewidth": 0,
              "ticks": ""
             }
            },
            "type": "scatterpolar"
           }
          ],
          "scatterpolargl": [
           {
            "marker": {
             "colorbar": {
              "outlinewidth": 0,
              "ticks": ""
             }
            },
            "type": "scatterpolargl"
           }
          ],
          "scatterternary": [
           {
            "marker": {
             "colorbar": {
              "outlinewidth": 0,
              "ticks": ""
             }
            },
            "type": "scatterternary"
           }
          ],
          "surface": [
           {
            "colorbar": {
             "outlinewidth": 0,
             "ticks": ""
            },
            "colorscale": [
             [
              0,
              "#0d0887"
             ],
             [
              0.1111111111111111,
              "#46039f"
             ],
             [
              0.2222222222222222,
              "#7201a8"
             ],
             [
              0.3333333333333333,
              "#9c179e"
             ],
             [
              0.4444444444444444,
              "#bd3786"
             ],
             [
              0.5555555555555556,
              "#d8576b"
             ],
             [
              0.6666666666666666,
              "#ed7953"
             ],
             [
              0.7777777777777778,
              "#fb9f3a"
             ],
             [
              0.8888888888888888,
              "#fdca26"
             ],
             [
              1,
              "#f0f921"
             ]
            ],
            "type": "surface"
           }
          ],
          "table": [
           {
            "cells": {
             "fill": {
              "color": "#EBF0F8"
             },
             "line": {
              "color": "white"
             }
            },
            "header": {
             "fill": {
              "color": "#C8D4E3"
             },
             "line": {
              "color": "white"
             }
            },
            "type": "table"
           }
          ]
         },
         "layout": {
          "annotationdefaults": {
           "arrowcolor": "#2a3f5f",
           "arrowhead": 0,
           "arrowwidth": 1
          },
          "autotypenumbers": "strict",
          "coloraxis": {
           "colorbar": {
            "outlinewidth": 0,
            "ticks": ""
           }
          },
          "colorscale": {
           "diverging": [
            [
             0,
             "#8e0152"
            ],
            [
             0.1,
             "#c51b7d"
            ],
            [
             0.2,
             "#de77ae"
            ],
            [
             0.3,
             "#f1b6da"
            ],
            [
             0.4,
             "#fde0ef"
            ],
            [
             0.5,
             "#f7f7f7"
            ],
            [
             0.6,
             "#e6f5d0"
            ],
            [
             0.7,
             "#b8e186"
            ],
            [
             0.8,
             "#7fbc41"
            ],
            [
             0.9,
             "#4d9221"
            ],
            [
             1,
             "#276419"
            ]
           ],
           "sequential": [
            [
             0,
             "#0d0887"
            ],
            [
             0.1111111111111111,
             "#46039f"
            ],
            [
             0.2222222222222222,
             "#7201a8"
            ],
            [
             0.3333333333333333,
             "#9c179e"
            ],
            [
             0.4444444444444444,
             "#bd3786"
            ],
            [
             0.5555555555555556,
             "#d8576b"
            ],
            [
             0.6666666666666666,
             "#ed7953"
            ],
            [
             0.7777777777777778,
             "#fb9f3a"
            ],
            [
             0.8888888888888888,
             "#fdca26"
            ],
            [
             1,
             "#f0f921"
            ]
           ],
           "sequentialminus": [
            [
             0,
             "#0d0887"
            ],
            [
             0.1111111111111111,
             "#46039f"
            ],
            [
             0.2222222222222222,
             "#7201a8"
            ],
            [
             0.3333333333333333,
             "#9c179e"
            ],
            [
             0.4444444444444444,
             "#bd3786"
            ],
            [
             0.5555555555555556,
             "#d8576b"
            ],
            [
             0.6666666666666666,
             "#ed7953"
            ],
            [
             0.7777777777777778,
             "#fb9f3a"
            ],
            [
             0.8888888888888888,
             "#fdca26"
            ],
            [
             1,
             "#f0f921"
            ]
           ]
          },
          "colorway": [
           "#636efa",
           "#EF553B",
           "#00cc96",
           "#ab63fa",
           "#FFA15A",
           "#19d3f3",
           "#FF6692",
           "#B6E880",
           "#FF97FF",
           "#FECB52"
          ],
          "font": {
           "color": "#2a3f5f"
          },
          "geo": {
           "bgcolor": "white",
           "lakecolor": "white",
           "landcolor": "#E5ECF6",
           "showlakes": true,
           "showland": true,
           "subunitcolor": "white"
          },
          "hoverlabel": {
           "align": "left"
          },
          "hovermode": "closest",
          "mapbox": {
           "style": "light"
          },
          "paper_bgcolor": "white",
          "plot_bgcolor": "#E5ECF6",
          "polar": {
           "angularaxis": {
            "gridcolor": "white",
            "linecolor": "white",
            "ticks": ""
           },
           "bgcolor": "#E5ECF6",
           "radialaxis": {
            "gridcolor": "white",
            "linecolor": "white",
            "ticks": ""
           }
          },
          "scene": {
           "xaxis": {
            "backgroundcolor": "#E5ECF6",
            "gridcolor": "white",
            "gridwidth": 2,
            "linecolor": "white",
            "showbackground": true,
            "ticks": "",
            "zerolinecolor": "white"
           },
           "yaxis": {
            "backgroundcolor": "#E5ECF6",
            "gridcolor": "white",
            "gridwidth": 2,
            "linecolor": "white",
            "showbackground": true,
            "ticks": "",
            "zerolinecolor": "white"
           },
           "zaxis": {
            "backgroundcolor": "#E5ECF6",
            "gridcolor": "white",
            "gridwidth": 2,
            "linecolor": "white",
            "showbackground": true,
            "ticks": "",
            "zerolinecolor": "white"
           }
          },
          "shapedefaults": {
           "line": {
            "color": "#2a3f5f"
           }
          },
          "ternary": {
           "aaxis": {
            "gridcolor": "white",
            "linecolor": "white",
            "ticks": ""
           },
           "baxis": {
            "gridcolor": "white",
            "linecolor": "white",
            "ticks": ""
           },
           "bgcolor": "#E5ECF6",
           "caxis": {
            "gridcolor": "white",
            "linecolor": "white",
            "ticks": ""
           }
          },
          "title": {
           "x": 0.05
          },
          "xaxis": {
           "automargin": true,
           "gridcolor": "white",
           "linecolor": "white",
           "ticks": "",
           "title": {
            "standoff": 15
           },
           "zerolinecolor": "white",
           "zerolinewidth": 2
          },
          "yaxis": {
           "automargin": true,
           "gridcolor": "white",
           "linecolor": "white",
           "ticks": "",
           "title": {
            "standoff": 15
           },
           "zerolinecolor": "white",
           "zerolinewidth": 2
          }
         }
        },
        "xaxis": {
         "anchor": "y",
         "domain": [
          0,
          1
         ],
         "showticklabels": false
        },
        "yaxis": {
         "anchor": "x",
         "domain": [
          0,
          1
         ],
         "showticklabels": false
        }
       }
      }
     },
     "metadata": {}
    }
   ],
   "source": [
    "if dataset_name == \"mnist\":\n",
    "    img = np.zeros((784))\n",
    "    img[ftr_selection] = 1\n",
    "    mnist_fig_fires = paint_digit(img)\n"
   ]
  },
  {
   "cell_type": "code",
   "execution_count": 16,
   "metadata": {},
   "outputs": [
    {
     "output_type": "stream",
     "name": "stdout",
     "text": [
      "For the test dataset the previous trained predictor reached: 0.7096\n"
     ]
    }
   ],
   "source": [
    "test_x_selected = np.zeros(test_x.shape)\n",
    "test_x_selected[:,ftr_selection] = test_x[:,ftr_selection]\n",
    "y_pred = predictor.predict(test_x)\n",
    "accuracy_fires = accuracy_score(test_y, y_pred)\n",
    "print(\"For the test dataset the previous trained predictor reached: {}\".format(accuracy_fires))"
   ]
  },
  {
   "source": [
    "### FIRES without cuda\n",
    "\n",
    "Only one batch because of long calculation time"
   ],
   "cell_type": "markdown",
   "metadata": {}
  },
  {
   "cell_type": "code",
   "execution_count": null,
   "metadata": {},
   "outputs": [],
   "source": [
    "stream.restart()\n",
    "print(\"Choosen dataset: {}\".format(dataset_name))\n",
    "predictor = PerceptronMask()\n",
    "x,y = stream.next_sample(batch_size=100)\n",
    "predictor.partial_fit(x,y, stream.target_values)"
   ]
  },
  {
   "cell_type": "code",
   "execution_count": null,
   "metadata": {},
   "outputs": [],
   "source": [
    "fires_model = FIRES(n_total_ftr=stream.n_features,\n",
    "                    target_values=stream.target_values,\n",
    "                    mu_init=0,\n",
    "                    sigma_init=1,\n",
    "                    model='softmax')\n",
    "print(fires_model.n_mc_samples)\n",
    "\n",
    "\n",
    "x, y = stream.next_sample(batch_size=100)\n",
    "# Select features\n",
    "start_time = timer()\n",
    "ftr_weights = fires_model.weigh_features(x, y)  # Get feature weights with FIRES\n",
    "ftr_selection = np.argsort(ftr_weights)[::-1][:n_selected_ftr]\n",
    "print(timer()-start_time)     "
   ]
  },
  {
   "source": [
    "### FSDS algorithm\n"
   ],
   "cell_type": "markdown",
   "metadata": {}
  },
  {
   "cell_type": "code",
   "execution_count": 17,
   "metadata": {},
   "outputs": [
    {
     "output_type": "stream",
     "name": "stdout",
     "text": [
      "Choosen dataset: mnist\n"
     ]
    },
    {
     "output_type": "execute_result",
     "data": {
      "text/plain": [
       "PerceptronMask(alpha=0.0001, class_weight=None, early_stopping=False, eta0=1.0,\n",
       "               fit_intercept=True, max_iter=1000, n_iter_no_change=5,\n",
       "               n_jobs=None, penalty=None, random_state=0, shuffle=True,\n",
       "               tol=0.001, validation_fraction=0.1, verbose=0, warm_start=False)"
      ]
     },
     "metadata": {},
     "execution_count": 17
    }
   ],
   "source": [
    "stream.restart()\n",
    "print(\"Choosen dataset: {}\".format(dataset_name))\n",
    "predictor = PerceptronMask()\n",
    "x,y = stream.next_sample(batch_size=100)\n",
    "predictor.partial_fit(x,y, stream.target_values)"
   ]
  },
  {
   "cell_type": "code",
   "execution_count": 18,
   "metadata": {
    "tags": []
   },
   "outputs": [
    {
     "output_type": "stream",
     "name": "stdout",
     "text": [
      "The whole fsds run took 9.188813579000453\n"
     ]
    }
   ],
   "source": [
    "fsds_model = StreamFeatWeight(m=stream.n_features, k=stream.n_classes)\n",
    "fsds_model.low_rank_approximation(x.T) # needs some pretraining in the first run\n",
    "\n",
    "fsds_selected_ftrs = []\n",
    "fsds_stability = []\n",
    "\n",
    "fsds_accuracy = []\n",
    "#fsds_f1 = []\n",
    "fsds_times = []\n",
    "\n",
    "start_time_all = timer()\n",
    "while stream.has_more_samples():\n",
    "    # Load a new sample\n",
    "    x, y = stream.next_sample(batch_size=100)\n",
    "    # Select features\n",
    "    start_time = timer()\n",
    "    ftr_weights = fsds_model.low_rank_approximation(x.T)\n",
    "    ftr_selection = np.argsort(ftr_weights)[::-1][:n_selected_ftr]\n",
    "    fsds_times.append(timer()-start_time)\n",
    "\n",
    "    # Truncate x (retain only selected features, 'remove' all others, e.g. by replacing them with 0)\n",
    "    x_reduced = np.zeros(x.shape)\n",
    "    x_reduced[:, ftr_selection] = x[:, ftr_selection]\n",
    "\n",
    "     # stability test\n",
    "    ftr_array = np.zeros(stream.n_features)\n",
    "    ftr_array[ftr_selection] = 1\n",
    "    fsds_selected_ftrs.append(ftr_array)\n",
    "\n",
    "    if len(fsds_selected_ftrs) >= 10:\n",
    "        stability = stability_factor(fsds_selected_ftrs[-10:])\n",
    "        fsds_stability.append(stability)\n",
    "\n",
    "    # Test\n",
    "    y_pred = predictor.predict(x_reduced)\n",
    "    \n",
    "    fsds_accuracy.append(accuracy_score(y, y_pred))\n",
    "    #fsds_f1.append(f1_score(y, y_pred, average=None, labels=stream.target_values))\n",
    "\n",
    "\n",
    "    # Train\n",
    "    predictor.partial_fit(x_reduced, y)\n",
    "\n",
    "# Restart the FileStream\n",
    "end_time_all = timer()\n",
    "fsds_run_time = timer() - start_time_all\n",
    "print(\"The whole fsds run took {}\".format(fsds_run_time))\n",
    "fsds_moving_average = pd.Series(fsds_accuracy).rolling(window=n_window).mean().iloc[n_window-1:].values\n",
    "stream.restart()"
   ]
  },
  {
   "cell_type": "code",
   "execution_count": null,
   "metadata": {},
   "outputs": [],
   "source": [
    "fig = px.line(y = fsds_accuracy, title=\"Accuracy for FSDS algorithm\", labels={\"x\":\"batches\", \"y\":\"accuracy\"})\n",
    "fig.show()"
   ]
  },
  {
   "cell_type": "code",
   "execution_count": null,
   "metadata": {},
   "outputs": [],
   "source": [
    "fig = px.line(y = fsds_stability, title=\"Stability for FSDS algorithm\", labels={\"x\":\"batches\", \"y\":\"accuracy\"})\n",
    "fig.show()"
   ]
  },
  {
   "cell_type": "code",
   "execution_count": 19,
   "metadata": {},
   "outputs": [
    {
     "output_type": "display_data",
     "data": {
      "application/vnd.plotly.v1+json": {
       "config": {
        "plotlyServerURL": "https://plot.ly"
       },
       "data": [
        {
         "hovertemplate": "x: %{x}<br>y: %{y}<extra></extra>",
         "name": "0",
         "source": "data:image/png;base64,iVBORw0KGgoAAAANSUhEUgAAABwAAAAcCAAAAABXZoBIAAAAcElEQVR4Xs2QQRLAIAgDl/7/z+lBRYLttdOchLgYgZ8prJI3rnIGCJBKkVJvOGmcmZrUdis5J3rGJaE6tFxTFmt8DwT1yTQH6FPTDIhhxYYtmiDqCo/cdb090PNXgGO7RnpWN4d3pBiSGtwDvXDf6QYxYR8RdEhnCwAAAABJRU5ErkJggg==",
         "type": "image",
         "xaxis": "x",
         "yaxis": "y"
        }
       ],
       "layout": {
        "coloraxis": {
         "showscale": false
        },
        "margin": {
         "t": 60
        },
        "template": {
         "data": {
          "bar": [
           {
            "error_x": {
             "color": "#2a3f5f"
            },
            "error_y": {
             "color": "#2a3f5f"
            },
            "marker": {
             "line": {
              "color": "#E5ECF6",
              "width": 0.5
             }
            },
            "type": "bar"
           }
          ],
          "barpolar": [
           {
            "marker": {
             "line": {
              "color": "#E5ECF6",
              "width": 0.5
             }
            },
            "type": "barpolar"
           }
          ],
          "carpet": [
           {
            "aaxis": {
             "endlinecolor": "#2a3f5f",
             "gridcolor": "white",
             "linecolor": "white",
             "minorgridcolor": "white",
             "startlinecolor": "#2a3f5f"
            },
            "baxis": {
             "endlinecolor": "#2a3f5f",
             "gridcolor": "white",
             "linecolor": "white",
             "minorgridcolor": "white",
             "startlinecolor": "#2a3f5f"
            },
            "type": "carpet"
           }
          ],
          "choropleth": [
           {
            "colorbar": {
             "outlinewidth": 0,
             "ticks": ""
            },
            "type": "choropleth"
           }
          ],
          "contour": [
           {
            "colorbar": {
             "outlinewidth": 0,
             "ticks": ""
            },
            "colorscale": [
             [
              0,
              "#0d0887"
             ],
             [
              0.1111111111111111,
              "#46039f"
             ],
             [
              0.2222222222222222,
              "#7201a8"
             ],
             [
              0.3333333333333333,
              "#9c179e"
             ],
             [
              0.4444444444444444,
              "#bd3786"
             ],
             [
              0.5555555555555556,
              "#d8576b"
             ],
             [
              0.6666666666666666,
              "#ed7953"
             ],
             [
              0.7777777777777778,
              "#fb9f3a"
             ],
             [
              0.8888888888888888,
              "#fdca26"
             ],
             [
              1,
              "#f0f921"
             ]
            ],
            "type": "contour"
           }
          ],
          "contourcarpet": [
           {
            "colorbar": {
             "outlinewidth": 0,
             "ticks": ""
            },
            "type": "contourcarpet"
           }
          ],
          "heatmap": [
           {
            "colorbar": {
             "outlinewidth": 0,
             "ticks": ""
            },
            "colorscale": [
             [
              0,
              "#0d0887"
             ],
             [
              0.1111111111111111,
              "#46039f"
             ],
             [
              0.2222222222222222,
              "#7201a8"
             ],
             [
              0.3333333333333333,
              "#9c179e"
             ],
             [
              0.4444444444444444,
              "#bd3786"
             ],
             [
              0.5555555555555556,
              "#d8576b"
             ],
             [
              0.6666666666666666,
              "#ed7953"
             ],
             [
              0.7777777777777778,
              "#fb9f3a"
             ],
             [
              0.8888888888888888,
              "#fdca26"
             ],
             [
              1,
              "#f0f921"
             ]
            ],
            "type": "heatmap"
           }
          ],
          "heatmapgl": [
           {
            "colorbar": {
             "outlinewidth": 0,
             "ticks": ""
            },
            "colorscale": [
             [
              0,
              "#0d0887"
             ],
             [
              0.1111111111111111,
              "#46039f"
             ],
             [
              0.2222222222222222,
              "#7201a8"
             ],
             [
              0.3333333333333333,
              "#9c179e"
             ],
             [
              0.4444444444444444,
              "#bd3786"
             ],
             [
              0.5555555555555556,
              "#d8576b"
             ],
             [
              0.6666666666666666,
              "#ed7953"
             ],
             [
              0.7777777777777778,
              "#fb9f3a"
             ],
             [
              0.8888888888888888,
              "#fdca26"
             ],
             [
              1,
              "#f0f921"
             ]
            ],
            "type": "heatmapgl"
           }
          ],
          "histogram": [
           {
            "marker": {
             "colorbar": {
              "outlinewidth": 0,
              "ticks": ""
             }
            },
            "type": "histogram"
           }
          ],
          "histogram2d": [
           {
            "colorbar": {
             "outlinewidth": 0,
             "ticks": ""
            },
            "colorscale": [
             [
              0,
              "#0d0887"
             ],
             [
              0.1111111111111111,
              "#46039f"
             ],
             [
              0.2222222222222222,
              "#7201a8"
             ],
             [
              0.3333333333333333,
              "#9c179e"
             ],
             [
              0.4444444444444444,
              "#bd3786"
             ],
             [
              0.5555555555555556,
              "#d8576b"
             ],
             [
              0.6666666666666666,
              "#ed7953"
             ],
             [
              0.7777777777777778,
              "#fb9f3a"
             ],
             [
              0.8888888888888888,
              "#fdca26"
             ],
             [
              1,
              "#f0f921"
             ]
            ],
            "type": "histogram2d"
           }
          ],
          "histogram2dcontour": [
           {
            "colorbar": {
             "outlinewidth": 0,
             "ticks": ""
            },
            "colorscale": [
             [
              0,
              "#0d0887"
             ],
             [
              0.1111111111111111,
              "#46039f"
             ],
             [
              0.2222222222222222,
              "#7201a8"
             ],
             [
              0.3333333333333333,
              "#9c179e"
             ],
             [
              0.4444444444444444,
              "#bd3786"
             ],
             [
              0.5555555555555556,
              "#d8576b"
             ],
             [
              0.6666666666666666,
              "#ed7953"
             ],
             [
              0.7777777777777778,
              "#fb9f3a"
             ],
             [
              0.8888888888888888,
              "#fdca26"
             ],
             [
              1,
              "#f0f921"
             ]
            ],
            "type": "histogram2dcontour"
           }
          ],
          "mesh3d": [
           {
            "colorbar": {
             "outlinewidth": 0,
             "ticks": ""
            },
            "type": "mesh3d"
           }
          ],
          "parcoords": [
           {
            "line": {
             "colorbar": {
              "outlinewidth": 0,
              "ticks": ""
             }
            },
            "type": "parcoords"
           }
          ],
          "pie": [
           {
            "automargin": true,
            "type": "pie"
           }
          ],
          "scatter": [
           {
            "marker": {
             "colorbar": {
              "outlinewidth": 0,
              "ticks": ""
             }
            },
            "type": "scatter"
           }
          ],
          "scatter3d": [
           {
            "line": {
             "colorbar": {
              "outlinewidth": 0,
              "ticks": ""
             }
            },
            "marker": {
             "colorbar": {
              "outlinewidth": 0,
              "ticks": ""
             }
            },
            "type": "scatter3d"
           }
          ],
          "scattercarpet": [
           {
            "marker": {
             "colorbar": {
              "outlinewidth": 0,
              "ticks": ""
             }
            },
            "type": "scattercarpet"
           }
          ],
          "scattergeo": [
           {
            "marker": {
             "colorbar": {
              "outlinewidth": 0,
              "ticks": ""
             }
            },
            "type": "scattergeo"
           }
          ],
          "scattergl": [
           {
            "marker": {
             "colorbar": {
              "outlinewidth": 0,
              "ticks": ""
             }
            },
            "type": "scattergl"
           }
          ],
          "scattermapbox": [
           {
            "marker": {
             "colorbar": {
              "outlinewidth": 0,
              "ticks": ""
             }
            },
            "type": "scattermapbox"
           }
          ],
          "scatterpolar": [
           {
            "marker": {
             "colorbar": {
              "outlinewidth": 0,
              "ticks": ""
             }
            },
            "type": "scatterpolar"
           }
          ],
          "scatterpolargl": [
           {
            "marker": {
             "colorbar": {
              "outlinewidth": 0,
              "ticks": ""
             }
            },
            "type": "scatterpolargl"
           }
          ],
          "scatterternary": [
           {
            "marker": {
             "colorbar": {
              "outlinewidth": 0,
              "ticks": ""
             }
            },
            "type": "scatterternary"
           }
          ],
          "surface": [
           {
            "colorbar": {
             "outlinewidth": 0,
             "ticks": ""
            },
            "colorscale": [
             [
              0,
              "#0d0887"
             ],
             [
              0.1111111111111111,
              "#46039f"
             ],
             [
              0.2222222222222222,
              "#7201a8"
             ],
             [
              0.3333333333333333,
              "#9c179e"
             ],
             [
              0.4444444444444444,
              "#bd3786"
             ],
             [
              0.5555555555555556,
              "#d8576b"
             ],
             [
              0.6666666666666666,
              "#ed7953"
             ],
             [
              0.7777777777777778,
              "#fb9f3a"
             ],
             [
              0.8888888888888888,
              "#fdca26"
             ],
             [
              1,
              "#f0f921"
             ]
            ],
            "type": "surface"
           }
          ],
          "table": [
           {
            "cells": {
             "fill": {
              "color": "#EBF0F8"
             },
             "line": {
              "color": "white"
             }
            },
            "header": {
             "fill": {
              "color": "#C8D4E3"
             },
             "line": {
              "color": "white"
             }
            },
            "type": "table"
           }
          ]
         },
         "layout": {
          "annotationdefaults": {
           "arrowcolor": "#2a3f5f",
           "arrowhead": 0,
           "arrowwidth": 1
          },
          "autotypenumbers": "strict",
          "coloraxis": {
           "colorbar": {
            "outlinewidth": 0,
            "ticks": ""
           }
          },
          "colorscale": {
           "diverging": [
            [
             0,
             "#8e0152"
            ],
            [
             0.1,
             "#c51b7d"
            ],
            [
             0.2,
             "#de77ae"
            ],
            [
             0.3,
             "#f1b6da"
            ],
            [
             0.4,
             "#fde0ef"
            ],
            [
             0.5,
             "#f7f7f7"
            ],
            [
             0.6,
             "#e6f5d0"
            ],
            [
             0.7,
             "#b8e186"
            ],
            [
             0.8,
             "#7fbc41"
            ],
            [
             0.9,
             "#4d9221"
            ],
            [
             1,
             "#276419"
            ]
           ],
           "sequential": [
            [
             0,
             "#0d0887"
            ],
            [
             0.1111111111111111,
             "#46039f"
            ],
            [
             0.2222222222222222,
             "#7201a8"
            ],
            [
             0.3333333333333333,
             "#9c179e"
            ],
            [
             0.4444444444444444,
             "#bd3786"
            ],
            [
             0.5555555555555556,
             "#d8576b"
            ],
            [
             0.6666666666666666,
             "#ed7953"
            ],
            [
             0.7777777777777778,
             "#fb9f3a"
            ],
            [
             0.8888888888888888,
             "#fdca26"
            ],
            [
             1,
             "#f0f921"
            ]
           ],
           "sequentialminus": [
            [
             0,
             "#0d0887"
            ],
            [
             0.1111111111111111,
             "#46039f"
            ],
            [
             0.2222222222222222,
             "#7201a8"
            ],
            [
             0.3333333333333333,
             "#9c179e"
            ],
            [
             0.4444444444444444,
             "#bd3786"
            ],
            [
             0.5555555555555556,
             "#d8576b"
            ],
            [
             0.6666666666666666,
             "#ed7953"
            ],
            [
             0.7777777777777778,
             "#fb9f3a"
            ],
            [
             0.8888888888888888,
             "#fdca26"
            ],
            [
             1,
             "#f0f921"
            ]
           ]
          },
          "colorway": [
           "#636efa",
           "#EF553B",
           "#00cc96",
           "#ab63fa",
           "#FFA15A",
           "#19d3f3",
           "#FF6692",
           "#B6E880",
           "#FF97FF",
           "#FECB52"
          ],
          "font": {
           "color": "#2a3f5f"
          },
          "geo": {
           "bgcolor": "white",
           "lakecolor": "white",
           "landcolor": "#E5ECF6",
           "showlakes": true,
           "showland": true,
           "subunitcolor": "white"
          },
          "hoverlabel": {
           "align": "left"
          },
          "hovermode": "closest",
          "mapbox": {
           "style": "light"
          },
          "paper_bgcolor": "white",
          "plot_bgcolor": "#E5ECF6",
          "polar": {
           "angularaxis": {
            "gridcolor": "white",
            "linecolor": "white",
            "ticks": ""
           },
           "bgcolor": "#E5ECF6",
           "radialaxis": {
            "gridcolor": "white",
            "linecolor": "white",
            "ticks": ""
           }
          },
          "scene": {
           "xaxis": {
            "backgroundcolor": "#E5ECF6",
            "gridcolor": "white",
            "gridwidth": 2,
            "linecolor": "white",
            "showbackground": true,
            "ticks": "",
            "zerolinecolor": "white"
           },
           "yaxis": {
            "backgroundcolor": "#E5ECF6",
            "gridcolor": "white",
            "gridwidth": 2,
            "linecolor": "white",
            "showbackground": true,
            "ticks": "",
            "zerolinecolor": "white"
           },
           "zaxis": {
            "backgroundcolor": "#E5ECF6",
            "gridcolor": "white",
            "gridwidth": 2,
            "linecolor": "white",
            "showbackground": true,
            "ticks": "",
            "zerolinecolor": "white"
           }
          },
          "shapedefaults": {
           "line": {
            "color": "#2a3f5f"
           }
          },
          "ternary": {
           "aaxis": {
            "gridcolor": "white",
            "linecolor": "white",
            "ticks": ""
           },
           "baxis": {
            "gridcolor": "white",
            "linecolor": "white",
            "ticks": ""
           },
           "bgcolor": "#E5ECF6",
           "caxis": {
            "gridcolor": "white",
            "linecolor": "white",
            "ticks": ""
           }
          },
          "title": {
           "x": 0.05
          },
          "xaxis": {
           "automargin": true,
           "gridcolor": "white",
           "linecolor": "white",
           "ticks": "",
           "title": {
            "standoff": 15
           },
           "zerolinecolor": "white",
           "zerolinewidth": 2
          },
          "yaxis": {
           "automargin": true,
           "gridcolor": "white",
           "linecolor": "white",
           "ticks": "",
           "title": {
            "standoff": 15
           },
           "zerolinecolor": "white",
           "zerolinewidth": 2
          }
         }
        },
        "xaxis": {
         "anchor": "y",
         "domain": [
          0,
          1
         ],
         "showticklabels": false
        },
        "yaxis": {
         "anchor": "x",
         "domain": [
          0,
          1
         ],
         "showticklabels": false
        }
       }
      }
     },
     "metadata": {}
    }
   ],
   "source": [
    "if dataset_name == \"mnist\":\n",
    "    img = np.zeros((784))\n",
    "    img[ftr_selection] = 1\n",
    "    mnist_fig_fsds = paint_digit(img)\n"
   ]
  },
  {
   "cell_type": "code",
   "execution_count": 20,
   "metadata": {},
   "outputs": [
    {
     "output_type": "stream",
     "name": "stdout",
     "text": [
      "For the test dataset the previous trained predictor reached: 0.7148\n"
     ]
    }
   ],
   "source": [
    "test_x_selected = np.zeros(test_x.shape)\n",
    "test_x_selected[:,ftr_selection] = test_x[:,ftr_selection]\n",
    "y_pred = predictor.predict(test_x)\n",
    "accuracy_fsds = accuracy_score(test_y, y_pred)\n",
    "print(\"For the test dataset the previous trained predictor reached: {}\".format(accuracy_fsds))"
   ]
  },
  {
   "source": [
    "### OFS algorithm"
   ],
   "cell_type": "markdown",
   "metadata": {}
  },
  {
   "cell_type": "code",
   "execution_count": 21,
   "metadata": {},
   "outputs": [
    {
     "output_type": "execute_result",
     "data": {
      "text/plain": [
       "PerceptronMask(alpha=0.0001, class_weight=None, early_stopping=False, eta0=1.0,\n",
       "               fit_intercept=True, max_iter=1000, n_iter_no_change=5,\n",
       "               n_jobs=None, penalty=None, random_state=0, shuffle=True,\n",
       "               tol=0.001, validation_fraction=0.1, verbose=0, warm_start=False)"
      ]
     },
     "metadata": {},
     "execution_count": 21
    }
   ],
   "source": [
    "stream.restart()\n",
    "predictor = PerceptronMask()\n",
    "x,y = stream.next_sample(batch_size=100)\n",
    "predictor.partial_fit(x,y, stream.target_values)"
   ]
  },
  {
   "cell_type": "code",
   "execution_count": 22,
   "metadata": {
    "tags": []
   },
   "outputs": [
    {
     "output_type": "stream",
     "name": "stdout",
     "text": [
      "The whole ofs run took 7.24586362700029\n"
     ]
    }
   ],
   "source": [
    "ofs = MC_OFS(regularization_param = 0.01, step_size = 0.1, n_selected_ftr=n_selected_ftr, n_total_ftr=stream.n_num_features, n_classes=stream.n_classes)\n",
    "\n",
    "ofs_accuracy = []\n",
    "ofs_selected_ftrs = []\n",
    "ofs_stability = []\n",
    "\n",
    "start_time_all = timer()\n",
    "while stream.has_more_samples():\n",
    "    # Load a new sample\n",
    "    x, y = stream.next_sample(batch_size=100)\n",
    "\n",
    "    # Select features\n",
    "    for idx, label in enumerate(y):\n",
    "        ofs.train(x[idx],label)\n",
    "\n",
    "    ftr_selection = ofs.get_feature_indices()\n",
    "    # Truncate x (retain only selected features, 'remove' all others, e.g. by replacing them with 0)\n",
    "    x_reduced = np.zeros(x.shape)\n",
    "    x_reduced[:, ftr_selection] = x[:, ftr_selection]\n",
    "\n",
    "     # stability test\n",
    "    ftr_array = np.zeros(stream.n_features)\n",
    "    ftr_array[ftr_selection] = 1\n",
    "    ofs_selected_ftrs.append(ftr_array)\n",
    "\n",
    "    if len(ofs_selected_ftrs) >= 10:\n",
    "        stability = stability_factor(ofs_selected_ftrs[-10:])\n",
    "        ofs_stability.append(stability)\n",
    "\n",
    "    # Test\n",
    "    y_pred = predictor.predict(x_reduced)\n",
    "    ofs_accuracy.append(accuracy_score(y, y_pred))\n",
    "\n",
    "    # Train\n",
    "    predictor.partial_fit(x_reduced, y)\n",
    "\n",
    "end_time_all = timer()\n",
    "ofs_run_time = timer() - start_time_all\n",
    "print(\"The whole ofs run took {}\".format(ofs_run_time))\n",
    "ofs_moving_average = pd.Series(ofs_accuracy).rolling(window=n_window).mean().iloc[n_window-1:].values\n",
    "# Restart the FileStream\n",
    "stream.restart()"
   ]
  },
  {
   "cell_type": "code",
   "execution_count": null,
   "metadata": {},
   "outputs": [],
   "source": [
    "fig = px.line(y = ofs_accuracy, title=\"Accuracy for OFS algorithm\", labels={\"x\":\"batches\", \"y\":\"accuracy\"})\n",
    "fig.show()"
   ]
  },
  {
   "cell_type": "code",
   "execution_count": null,
   "metadata": {},
   "outputs": [],
   "source": [
    "fig = px.line(y = ofs_stability, title=\"Stability for OFS algorithm\", labels={\"x\":\"batches\", \"y\":\"stability\"})\n",
    "fig.show()"
   ]
  },
  {
   "cell_type": "code",
   "execution_count": 23,
   "metadata": {},
   "outputs": [
    {
     "output_type": "display_data",
     "data": {
      "application/vnd.plotly.v1+json": {
       "config": {
        "plotlyServerURL": "https://plot.ly"
       },
       "data": [
        {
         "hovertemplate": "x: %{x}<br>y: %{y}<extra></extra>",
         "name": "0",
         "source": "data:image/png;base64,iVBORw0KGgoAAAANSUhEUgAAABwAAAAcCAAAAABXZoBIAAAAe0lEQVR4XsWSQRKAMAgDg///83qAAqL15riHHoA0oVPpd5iFAvTWJ3p+Hr3lIMmkPAt6KZVhNYcTPBKC4UmEAcOmJzIfbxdX2ug9QDiGWVDXptIkZuiVs2lbIMm47pmBTPkQqa1J7s+zlMhCst1oR2w6ywv8Jzyxq3/ACYOrN+ur0Y/WAAAAAElFTkSuQmCC",
         "type": "image",
         "xaxis": "x",
         "yaxis": "y"
        }
       ],
       "layout": {
        "coloraxis": {
         "showscale": false
        },
        "margin": {
         "t": 60
        },
        "template": {
         "data": {
          "bar": [
           {
            "error_x": {
             "color": "#2a3f5f"
            },
            "error_y": {
             "color": "#2a3f5f"
            },
            "marker": {
             "line": {
              "color": "#E5ECF6",
              "width": 0.5
             }
            },
            "type": "bar"
           }
          ],
          "barpolar": [
           {
            "marker": {
             "line": {
              "color": "#E5ECF6",
              "width": 0.5
             }
            },
            "type": "barpolar"
           }
          ],
          "carpet": [
           {
            "aaxis": {
             "endlinecolor": "#2a3f5f",
             "gridcolor": "white",
             "linecolor": "white",
             "minorgridcolor": "white",
             "startlinecolor": "#2a3f5f"
            },
            "baxis": {
             "endlinecolor": "#2a3f5f",
             "gridcolor": "white",
             "linecolor": "white",
             "minorgridcolor": "white",
             "startlinecolor": "#2a3f5f"
            },
            "type": "carpet"
           }
          ],
          "choropleth": [
           {
            "colorbar": {
             "outlinewidth": 0,
             "ticks": ""
            },
            "type": "choropleth"
           }
          ],
          "contour": [
           {
            "colorbar": {
             "outlinewidth": 0,
             "ticks": ""
            },
            "colorscale": [
             [
              0,
              "#0d0887"
             ],
             [
              0.1111111111111111,
              "#46039f"
             ],
             [
              0.2222222222222222,
              "#7201a8"
             ],
             [
              0.3333333333333333,
              "#9c179e"
             ],
             [
              0.4444444444444444,
              "#bd3786"
             ],
             [
              0.5555555555555556,
              "#d8576b"
             ],
             [
              0.6666666666666666,
              "#ed7953"
             ],
             [
              0.7777777777777778,
              "#fb9f3a"
             ],
             [
              0.8888888888888888,
              "#fdca26"
             ],
             [
              1,
              "#f0f921"
             ]
            ],
            "type": "contour"
           }
          ],
          "contourcarpet": [
           {
            "colorbar": {
             "outlinewidth": 0,
             "ticks": ""
            },
            "type": "contourcarpet"
           }
          ],
          "heatmap": [
           {
            "colorbar": {
             "outlinewidth": 0,
             "ticks": ""
            },
            "colorscale": [
             [
              0,
              "#0d0887"
             ],
             [
              0.1111111111111111,
              "#46039f"
             ],
             [
              0.2222222222222222,
              "#7201a8"
             ],
             [
              0.3333333333333333,
              "#9c179e"
             ],
             [
              0.4444444444444444,
              "#bd3786"
             ],
             [
              0.5555555555555556,
              "#d8576b"
             ],
             [
              0.6666666666666666,
              "#ed7953"
             ],
             [
              0.7777777777777778,
              "#fb9f3a"
             ],
             [
              0.8888888888888888,
              "#fdca26"
             ],
             [
              1,
              "#f0f921"
             ]
            ],
            "type": "heatmap"
           }
          ],
          "heatmapgl": [
           {
            "colorbar": {
             "outlinewidth": 0,
             "ticks": ""
            },
            "colorscale": [
             [
              0,
              "#0d0887"
             ],
             [
              0.1111111111111111,
              "#46039f"
             ],
             [
              0.2222222222222222,
              "#7201a8"
             ],
             [
              0.3333333333333333,
              "#9c179e"
             ],
             [
              0.4444444444444444,
              "#bd3786"
             ],
             [
              0.5555555555555556,
              "#d8576b"
             ],
             [
              0.6666666666666666,
              "#ed7953"
             ],
             [
              0.7777777777777778,
              "#fb9f3a"
             ],
             [
              0.8888888888888888,
              "#fdca26"
             ],
             [
              1,
              "#f0f921"
             ]
            ],
            "type": "heatmapgl"
           }
          ],
          "histogram": [
           {
            "marker": {
             "colorbar": {
              "outlinewidth": 0,
              "ticks": ""
             }
            },
            "type": "histogram"
           }
          ],
          "histogram2d": [
           {
            "colorbar": {
             "outlinewidth": 0,
             "ticks": ""
            },
            "colorscale": [
             [
              0,
              "#0d0887"
             ],
             [
              0.1111111111111111,
              "#46039f"
             ],
             [
              0.2222222222222222,
              "#7201a8"
             ],
             [
              0.3333333333333333,
              "#9c179e"
             ],
             [
              0.4444444444444444,
              "#bd3786"
             ],
             [
              0.5555555555555556,
              "#d8576b"
             ],
             [
              0.6666666666666666,
              "#ed7953"
             ],
             [
              0.7777777777777778,
              "#fb9f3a"
             ],
             [
              0.8888888888888888,
              "#fdca26"
             ],
             [
              1,
              "#f0f921"
             ]
            ],
            "type": "histogram2d"
           }
          ],
          "histogram2dcontour": [
           {
            "colorbar": {
             "outlinewidth": 0,
             "ticks": ""
            },
            "colorscale": [
             [
              0,
              "#0d0887"
             ],
             [
              0.1111111111111111,
              "#46039f"
             ],
             [
              0.2222222222222222,
              "#7201a8"
             ],
             [
              0.3333333333333333,
              "#9c179e"
             ],
             [
              0.4444444444444444,
              "#bd3786"
             ],
             [
              0.5555555555555556,
              "#d8576b"
             ],
             [
              0.6666666666666666,
              "#ed7953"
             ],
             [
              0.7777777777777778,
              "#fb9f3a"
             ],
             [
              0.8888888888888888,
              "#fdca26"
             ],
             [
              1,
              "#f0f921"
             ]
            ],
            "type": "histogram2dcontour"
           }
          ],
          "mesh3d": [
           {
            "colorbar": {
             "outlinewidth": 0,
             "ticks": ""
            },
            "type": "mesh3d"
           }
          ],
          "parcoords": [
           {
            "line": {
             "colorbar": {
              "outlinewidth": 0,
              "ticks": ""
             }
            },
            "type": "parcoords"
           }
          ],
          "pie": [
           {
            "automargin": true,
            "type": "pie"
           }
          ],
          "scatter": [
           {
            "marker": {
             "colorbar": {
              "outlinewidth": 0,
              "ticks": ""
             }
            },
            "type": "scatter"
           }
          ],
          "scatter3d": [
           {
            "line": {
             "colorbar": {
              "outlinewidth": 0,
              "ticks": ""
             }
            },
            "marker": {
             "colorbar": {
              "outlinewidth": 0,
              "ticks": ""
             }
            },
            "type": "scatter3d"
           }
          ],
          "scattercarpet": [
           {
            "marker": {
             "colorbar": {
              "outlinewidth": 0,
              "ticks": ""
             }
            },
            "type": "scattercarpet"
           }
          ],
          "scattergeo": [
           {
            "marker": {
             "colorbar": {
              "outlinewidth": 0,
              "ticks": ""
             }
            },
            "type": "scattergeo"
           }
          ],
          "scattergl": [
           {
            "marker": {
             "colorbar": {
              "outlinewidth": 0,
              "ticks": ""
             }
            },
            "type": "scattergl"
           }
          ],
          "scattermapbox": [
           {
            "marker": {
             "colorbar": {
              "outlinewidth": 0,
              "ticks": ""
             }
            },
            "type": "scattermapbox"
           }
          ],
          "scatterpolar": [
           {
            "marker": {
             "colorbar": {
              "outlinewidth": 0,
              "ticks": ""
             }
            },
            "type": "scatterpolar"
           }
          ],
          "scatterpolargl": [
           {
            "marker": {
             "colorbar": {
              "outlinewidth": 0,
              "ticks": ""
             }
            },
            "type": "scatterpolargl"
           }
          ],
          "scatterternary": [
           {
            "marker": {
             "colorbar": {
              "outlinewidth": 0,
              "ticks": ""
             }
            },
            "type": "scatterternary"
           }
          ],
          "surface": [
           {
            "colorbar": {
             "outlinewidth": 0,
             "ticks": ""
            },
            "colorscale": [
             [
              0,
              "#0d0887"
             ],
             [
              0.1111111111111111,
              "#46039f"
             ],
             [
              0.2222222222222222,
              "#7201a8"
             ],
             [
              0.3333333333333333,
              "#9c179e"
             ],
             [
              0.4444444444444444,
              "#bd3786"
             ],
             [
              0.5555555555555556,
              "#d8576b"
             ],
             [
              0.6666666666666666,
              "#ed7953"
             ],
             [
              0.7777777777777778,
              "#fb9f3a"
             ],
             [
              0.8888888888888888,
              "#fdca26"
             ],
             [
              1,
              "#f0f921"
             ]
            ],
            "type": "surface"
           }
          ],
          "table": [
           {
            "cells": {
             "fill": {
              "color": "#EBF0F8"
             },
             "line": {
              "color": "white"
             }
            },
            "header": {
             "fill": {
              "color": "#C8D4E3"
             },
             "line": {
              "color": "white"
             }
            },
            "type": "table"
           }
          ]
         },
         "layout": {
          "annotationdefaults": {
           "arrowcolor": "#2a3f5f",
           "arrowhead": 0,
           "arrowwidth": 1
          },
          "autotypenumbers": "strict",
          "coloraxis": {
           "colorbar": {
            "outlinewidth": 0,
            "ticks": ""
           }
          },
          "colorscale": {
           "diverging": [
            [
             0,
             "#8e0152"
            ],
            [
             0.1,
             "#c51b7d"
            ],
            [
             0.2,
             "#de77ae"
            ],
            [
             0.3,
             "#f1b6da"
            ],
            [
             0.4,
             "#fde0ef"
            ],
            [
             0.5,
             "#f7f7f7"
            ],
            [
             0.6,
             "#e6f5d0"
            ],
            [
             0.7,
             "#b8e186"
            ],
            [
             0.8,
             "#7fbc41"
            ],
            [
             0.9,
             "#4d9221"
            ],
            [
             1,
             "#276419"
            ]
           ],
           "sequential": [
            [
             0,
             "#0d0887"
            ],
            [
             0.1111111111111111,
             "#46039f"
            ],
            [
             0.2222222222222222,
             "#7201a8"
            ],
            [
             0.3333333333333333,
             "#9c179e"
            ],
            [
             0.4444444444444444,
             "#bd3786"
            ],
            [
             0.5555555555555556,
             "#d8576b"
            ],
            [
             0.6666666666666666,
             "#ed7953"
            ],
            [
             0.7777777777777778,
             "#fb9f3a"
            ],
            [
             0.8888888888888888,
             "#fdca26"
            ],
            [
             1,
             "#f0f921"
            ]
           ],
           "sequentialminus": [
            [
             0,
             "#0d0887"
            ],
            [
             0.1111111111111111,
             "#46039f"
            ],
            [
             0.2222222222222222,
             "#7201a8"
            ],
            [
             0.3333333333333333,
             "#9c179e"
            ],
            [
             0.4444444444444444,
             "#bd3786"
            ],
            [
             0.5555555555555556,
             "#d8576b"
            ],
            [
             0.6666666666666666,
             "#ed7953"
            ],
            [
             0.7777777777777778,
             "#fb9f3a"
            ],
            [
             0.8888888888888888,
             "#fdca26"
            ],
            [
             1,
             "#f0f921"
            ]
           ]
          },
          "colorway": [
           "#636efa",
           "#EF553B",
           "#00cc96",
           "#ab63fa",
           "#FFA15A",
           "#19d3f3",
           "#FF6692",
           "#B6E880",
           "#FF97FF",
           "#FECB52"
          ],
          "font": {
           "color": "#2a3f5f"
          },
          "geo": {
           "bgcolor": "white",
           "lakecolor": "white",
           "landcolor": "#E5ECF6",
           "showlakes": true,
           "showland": true,
           "subunitcolor": "white"
          },
          "hoverlabel": {
           "align": "left"
          },
          "hovermode": "closest",
          "mapbox": {
           "style": "light"
          },
          "paper_bgcolor": "white",
          "plot_bgcolor": "#E5ECF6",
          "polar": {
           "angularaxis": {
            "gridcolor": "white",
            "linecolor": "white",
            "ticks": ""
           },
           "bgcolor": "#E5ECF6",
           "radialaxis": {
            "gridcolor": "white",
            "linecolor": "white",
            "ticks": ""
           }
          },
          "scene": {
           "xaxis": {
            "backgroundcolor": "#E5ECF6",
            "gridcolor": "white",
            "gridwidth": 2,
            "linecolor": "white",
            "showbackground": true,
            "ticks": "",
            "zerolinecolor": "white"
           },
           "yaxis": {
            "backgroundcolor": "#E5ECF6",
            "gridcolor": "white",
            "gridwidth": 2,
            "linecolor": "white",
            "showbackground": true,
            "ticks": "",
            "zerolinecolor": "white"
           },
           "zaxis": {
            "backgroundcolor": "#E5ECF6",
            "gridcolor": "white",
            "gridwidth": 2,
            "linecolor": "white",
            "showbackground": true,
            "ticks": "",
            "zerolinecolor": "white"
           }
          },
          "shapedefaults": {
           "line": {
            "color": "#2a3f5f"
           }
          },
          "ternary": {
           "aaxis": {
            "gridcolor": "white",
            "linecolor": "white",
            "ticks": ""
           },
           "baxis": {
            "gridcolor": "white",
            "linecolor": "white",
            "ticks": ""
           },
           "bgcolor": "#E5ECF6",
           "caxis": {
            "gridcolor": "white",
            "linecolor": "white",
            "ticks": ""
           }
          },
          "title": {
           "x": 0.05
          },
          "xaxis": {
           "automargin": true,
           "gridcolor": "white",
           "linecolor": "white",
           "ticks": "",
           "title": {
            "standoff": 15
           },
           "zerolinecolor": "white",
           "zerolinewidth": 2
          },
          "yaxis": {
           "automargin": true,
           "gridcolor": "white",
           "linecolor": "white",
           "ticks": "",
           "title": {
            "standoff": 15
           },
           "zerolinecolor": "white",
           "zerolinewidth": 2
          }
         }
        },
        "xaxis": {
         "anchor": "y",
         "domain": [
          0,
          1
         ],
         "showticklabels": false
        },
        "yaxis": {
         "anchor": "x",
         "domain": [
          0,
          1
         ],
         "showticklabels": false
        }
       }
      }
     },
     "metadata": {}
    }
   ],
   "source": [
    "if dataset_name == \"mnist\":\n",
    "    img = np.zeros((784))\n",
    "    img[ftr_selection] = 1\n",
    "    mnist_fig_ofs = paint_digit(img)\n"
   ]
  },
  {
   "cell_type": "code",
   "execution_count": 24,
   "metadata": {},
   "outputs": [
    {
     "output_type": "stream",
     "name": "stdout",
     "text": [
      "For the test dataset the previous trained predictor reached: 0.7718\n"
     ]
    }
   ],
   "source": [
    "test_x_selected = np.zeros(test_x.shape)\n",
    "test_x_selected[:,ftr_selection] = test_x[:,ftr_selection]\n",
    "y_pred = predictor.predict(test_x)\n",
    "accuracy_ofs = accuracy_score(test_y, y_pred)\n",
    "print(\"For the test dataset the previous trained predictor reached: {}\".format(accuracy_ofs))"
   ]
  },
  {
   "source": [
    "### OFSSGR algorithm"
   ],
   "cell_type": "markdown",
   "metadata": {}
  },
  {
   "cell_type": "code",
   "execution_count": 25,
   "metadata": {},
   "outputs": [
    {
     "output_type": "execute_result",
     "data": {
      "text/plain": [
       "PerceptronMask(alpha=0.0001, class_weight=None, early_stopping=False, eta0=1.0,\n",
       "               fit_intercept=True, max_iter=1000, n_iter_no_change=5,\n",
       "               n_jobs=None, penalty=None, random_state=0, shuffle=True,\n",
       "               tol=0.001, validation_fraction=0.1, verbose=0, warm_start=False)"
      ]
     },
     "metadata": {},
     "execution_count": 25
    }
   ],
   "source": [
    "stream.restart()\n",
    "predictor = PerceptronMask()\n",
    "x,y = stream.next_sample(batch_size=100)\n",
    "predictor.partial_fit(x,y, stream.target_values)"
   ]
  },
  {
   "cell_type": "code",
   "execution_count": 26,
   "metadata": {},
   "outputs": [
    {
     "output_type": "stream",
     "name": "stdout",
     "text": [
      "The whole ofssgd run took 116.7071866289998\n"
     ]
    }
   ],
   "source": [
    "ofssgd_model = MC_OFSSGD(reduction_threshold=0.4, reduction_value=0.1, regularization_param=0.01, step_size=0.2, n_total_ftrs=stream.n_num_features, n_classes=stream.n_classes)\n",
    "\n",
    "ofssgd_accuracy = []\n",
    "ofssgd_selected_ftrs = []\n",
    "ofssgd_stability = []\n",
    "\n",
    "start_time_all = timer()\n",
    "while stream.has_more_samples():\n",
    "    # Load a new sample\n",
    "    x, y = stream.next_sample(batch_size=100)\n",
    "\n",
    "    # Select features\n",
    "    for idx, label in enumerate(y):\n",
    "        ofssgd_model.train(x[idx],label)\n",
    "\n",
    "    ftr_selection = ofssgd_model.get_feature_indices()\n",
    "    # Truncate x (retain only selected features, 'remove' all others, e.g. by replacing them with 0)\n",
    "    x_reduced = np.zeros(x.shape)\n",
    "    x_reduced[:, ftr_selection] = x[:, ftr_selection]\n",
    "\n",
    "    # stability test\n",
    "    ftr_array = np.zeros(stream.n_features)\n",
    "    ftr_array[ftr_selection] = 1\n",
    "    ofssgd_selected_ftrs.append(ftr_array)\n",
    "\n",
    "    if len(ofssgd_selected_ftrs) >= 10:\n",
    "        stability = stability_factor(ofssgd_selected_ftrs[-10:])\n",
    "        ofssgd_stability.append(stability)\n",
    "\n",
    "    # Test\n",
    "    y_pred = predictor.predict(x_reduced)\n",
    "    ofssgd_accuracy.append(accuracy_score(y, y_pred))\n",
    "\n",
    "    # Train\n",
    "    predictor.partial_fit(x_reduced, y)\n",
    "\n",
    "end_time_all = timer()\n",
    "ofssgd_run_time = timer() - start_time_all\n",
    "print(\"The whole ofssgd run took {}\".format(ofssgd_run_time))\n",
    "ofssgd_moving_average = pd.Series(ofssgd_accuracy).rolling(window=n_window).mean().iloc[n_window-1:].values\n",
    "# Restart the FileStream\n",
    "stream.restart()"
   ]
  },
  {
   "cell_type": "code",
   "execution_count": null,
   "metadata": {},
   "outputs": [],
   "source": [
    "fig = px.line(y = ofssgd_accuracy, title=\"Accuracy for OFSSGD algorithm\", labels={\"x\":\"batches\", \"y\":\"accuracy\"})\n",
    "fig.show()"
   ]
  },
  {
   "cell_type": "code",
   "execution_count": null,
   "metadata": {},
   "outputs": [],
   "source": [
    "fig = px.line(y = ofssgd_stability, title=\"Stability for OFSSGD algorithm\", labels={\"x\":\"batches\", \"y\":\"stability\"})\n",
    "fig.show()"
   ]
  },
  {
   "cell_type": "code",
   "execution_count": 27,
   "metadata": {},
   "outputs": [
    {
     "output_type": "display_data",
     "data": {
      "application/vnd.plotly.v1+json": {
       "config": {
        "plotlyServerURL": "https://plot.ly"
       },
       "data": [
        {
         "hovertemplate": "x: %{x}<br>y: %{y}<extra></extra>",
         "name": "0",
         "source": "data:image/png;base64,iVBORw0KGgoAAAANSUhEUgAAABwAAAAcCAAAAABXZoBIAAAAh0lEQVR4Xp2RUQ6AMAhDH8b7X3l+DDbKMCY2uiCFliH8hdUEjJW9lYCR4ivF4FzIqWxqM38XsiSYkMIZ4ql9g3MgwZathnEkxvJl5qld4Pk3zwFBNhuGIKfP2loEafGncesZZS/TznQ/kH8fP5tU2nhuGb+KwXwEdbdSUaeV5j1Q1dw4LvqNB1B/FTOMTe3xAAAAAElFTkSuQmCC",
         "type": "image",
         "xaxis": "x",
         "yaxis": "y"
        }
       ],
       "layout": {
        "coloraxis": {
         "showscale": false
        },
        "margin": {
         "t": 60
        },
        "template": {
         "data": {
          "bar": [
           {
            "error_x": {
             "color": "#2a3f5f"
            },
            "error_y": {
             "color": "#2a3f5f"
            },
            "marker": {
             "line": {
              "color": "#E5ECF6",
              "width": 0.5
             }
            },
            "type": "bar"
           }
          ],
          "barpolar": [
           {
            "marker": {
             "line": {
              "color": "#E5ECF6",
              "width": 0.5
             }
            },
            "type": "barpolar"
           }
          ],
          "carpet": [
           {
            "aaxis": {
             "endlinecolor": "#2a3f5f",
             "gridcolor": "white",
             "linecolor": "white",
             "minorgridcolor": "white",
             "startlinecolor": "#2a3f5f"
            },
            "baxis": {
             "endlinecolor": "#2a3f5f",
             "gridcolor": "white",
             "linecolor": "white",
             "minorgridcolor": "white",
             "startlinecolor": "#2a3f5f"
            },
            "type": "carpet"
           }
          ],
          "choropleth": [
           {
            "colorbar": {
             "outlinewidth": 0,
             "ticks": ""
            },
            "type": "choropleth"
           }
          ],
          "contour": [
           {
            "colorbar": {
             "outlinewidth": 0,
             "ticks": ""
            },
            "colorscale": [
             [
              0,
              "#0d0887"
             ],
             [
              0.1111111111111111,
              "#46039f"
             ],
             [
              0.2222222222222222,
              "#7201a8"
             ],
             [
              0.3333333333333333,
              "#9c179e"
             ],
             [
              0.4444444444444444,
              "#bd3786"
             ],
             [
              0.5555555555555556,
              "#d8576b"
             ],
             [
              0.6666666666666666,
              "#ed7953"
             ],
             [
              0.7777777777777778,
              "#fb9f3a"
             ],
             [
              0.8888888888888888,
              "#fdca26"
             ],
             [
              1,
              "#f0f921"
             ]
            ],
            "type": "contour"
           }
          ],
          "contourcarpet": [
           {
            "colorbar": {
             "outlinewidth": 0,
             "ticks": ""
            },
            "type": "contourcarpet"
           }
          ],
          "heatmap": [
           {
            "colorbar": {
             "outlinewidth": 0,
             "ticks": ""
            },
            "colorscale": [
             [
              0,
              "#0d0887"
             ],
             [
              0.1111111111111111,
              "#46039f"
             ],
             [
              0.2222222222222222,
              "#7201a8"
             ],
             [
              0.3333333333333333,
              "#9c179e"
             ],
             [
              0.4444444444444444,
              "#bd3786"
             ],
             [
              0.5555555555555556,
              "#d8576b"
             ],
             [
              0.6666666666666666,
              "#ed7953"
             ],
             [
              0.7777777777777778,
              "#fb9f3a"
             ],
             [
              0.8888888888888888,
              "#fdca26"
             ],
             [
              1,
              "#f0f921"
             ]
            ],
            "type": "heatmap"
           }
          ],
          "heatmapgl": [
           {
            "colorbar": {
             "outlinewidth": 0,
             "ticks": ""
            },
            "colorscale": [
             [
              0,
              "#0d0887"
             ],
             [
              0.1111111111111111,
              "#46039f"
             ],
             [
              0.2222222222222222,
              "#7201a8"
             ],
             [
              0.3333333333333333,
              "#9c179e"
             ],
             [
              0.4444444444444444,
              "#bd3786"
             ],
             [
              0.5555555555555556,
              "#d8576b"
             ],
             [
              0.6666666666666666,
              "#ed7953"
             ],
             [
              0.7777777777777778,
              "#fb9f3a"
             ],
             [
              0.8888888888888888,
              "#fdca26"
             ],
             [
              1,
              "#f0f921"
             ]
            ],
            "type": "heatmapgl"
           }
          ],
          "histogram": [
           {
            "marker": {
             "colorbar": {
              "outlinewidth": 0,
              "ticks": ""
             }
            },
            "type": "histogram"
           }
          ],
          "histogram2d": [
           {
            "colorbar": {
             "outlinewidth": 0,
             "ticks": ""
            },
            "colorscale": [
             [
              0,
              "#0d0887"
             ],
             [
              0.1111111111111111,
              "#46039f"
             ],
             [
              0.2222222222222222,
              "#7201a8"
             ],
             [
              0.3333333333333333,
              "#9c179e"
             ],
             [
              0.4444444444444444,
              "#bd3786"
             ],
             [
              0.5555555555555556,
              "#d8576b"
             ],
             [
              0.6666666666666666,
              "#ed7953"
             ],
             [
              0.7777777777777778,
              "#fb9f3a"
             ],
             [
              0.8888888888888888,
              "#fdca26"
             ],
             [
              1,
              "#f0f921"
             ]
            ],
            "type": "histogram2d"
           }
          ],
          "histogram2dcontour": [
           {
            "colorbar": {
             "outlinewidth": 0,
             "ticks": ""
            },
            "colorscale": [
             [
              0,
              "#0d0887"
             ],
             [
              0.1111111111111111,
              "#46039f"
             ],
             [
              0.2222222222222222,
              "#7201a8"
             ],
             [
              0.3333333333333333,
              "#9c179e"
             ],
             [
              0.4444444444444444,
              "#bd3786"
             ],
             [
              0.5555555555555556,
              "#d8576b"
             ],
             [
              0.6666666666666666,
              "#ed7953"
             ],
             [
              0.7777777777777778,
              "#fb9f3a"
             ],
             [
              0.8888888888888888,
              "#fdca26"
             ],
             [
              1,
              "#f0f921"
             ]
            ],
            "type": "histogram2dcontour"
           }
          ],
          "mesh3d": [
           {
            "colorbar": {
             "outlinewidth": 0,
             "ticks": ""
            },
            "type": "mesh3d"
           }
          ],
          "parcoords": [
           {
            "line": {
             "colorbar": {
              "outlinewidth": 0,
              "ticks": ""
             }
            },
            "type": "parcoords"
           }
          ],
          "pie": [
           {
            "automargin": true,
            "type": "pie"
           }
          ],
          "scatter": [
           {
            "marker": {
             "colorbar": {
              "outlinewidth": 0,
              "ticks": ""
             }
            },
            "type": "scatter"
           }
          ],
          "scatter3d": [
           {
            "line": {
             "colorbar": {
              "outlinewidth": 0,
              "ticks": ""
             }
            },
            "marker": {
             "colorbar": {
              "outlinewidth": 0,
              "ticks": ""
             }
            },
            "type": "scatter3d"
           }
          ],
          "scattercarpet": [
           {
            "marker": {
             "colorbar": {
              "outlinewidth": 0,
              "ticks": ""
             }
            },
            "type": "scattercarpet"
           }
          ],
          "scattergeo": [
           {
            "marker": {
             "colorbar": {
              "outlinewidth": 0,
              "ticks": ""
             }
            },
            "type": "scattergeo"
           }
          ],
          "scattergl": [
           {
            "marker": {
             "colorbar": {
              "outlinewidth": 0,
              "ticks": ""
             }
            },
            "type": "scattergl"
           }
          ],
          "scattermapbox": [
           {
            "marker": {
             "colorbar": {
              "outlinewidth": 0,
              "ticks": ""
             }
            },
            "type": "scattermapbox"
           }
          ],
          "scatterpolar": [
           {
            "marker": {
             "colorbar": {
              "outlinewidth": 0,
              "ticks": ""
             }
            },
            "type": "scatterpolar"
           }
          ],
          "scatterpolargl": [
           {
            "marker": {
             "colorbar": {
              "outlinewidth": 0,
              "ticks": ""
             }
            },
            "type": "scatterpolargl"
           }
          ],
          "scatterternary": [
           {
            "marker": {
             "colorbar": {
              "outlinewidth": 0,
              "ticks": ""
             }
            },
            "type": "scatterternary"
           }
          ],
          "surface": [
           {
            "colorbar": {
             "outlinewidth": 0,
             "ticks": ""
            },
            "colorscale": [
             [
              0,
              "#0d0887"
             ],
             [
              0.1111111111111111,
              "#46039f"
             ],
             [
              0.2222222222222222,
              "#7201a8"
             ],
             [
              0.3333333333333333,
              "#9c179e"
             ],
             [
              0.4444444444444444,
              "#bd3786"
             ],
             [
              0.5555555555555556,
              "#d8576b"
             ],
             [
              0.6666666666666666,
              "#ed7953"
             ],
             [
              0.7777777777777778,
              "#fb9f3a"
             ],
             [
              0.8888888888888888,
              "#fdca26"
             ],
             [
              1,
              "#f0f921"
             ]
            ],
            "type": "surface"
           }
          ],
          "table": [
           {
            "cells": {
             "fill": {
              "color": "#EBF0F8"
             },
             "line": {
              "color": "white"
             }
            },
            "header": {
             "fill": {
              "color": "#C8D4E3"
             },
             "line": {
              "color": "white"
             }
            },
            "type": "table"
           }
          ]
         },
         "layout": {
          "annotationdefaults": {
           "arrowcolor": "#2a3f5f",
           "arrowhead": 0,
           "arrowwidth": 1
          },
          "autotypenumbers": "strict",
          "coloraxis": {
           "colorbar": {
            "outlinewidth": 0,
            "ticks": ""
           }
          },
          "colorscale": {
           "diverging": [
            [
             0,
             "#8e0152"
            ],
            [
             0.1,
             "#c51b7d"
            ],
            [
             0.2,
             "#de77ae"
            ],
            [
             0.3,
             "#f1b6da"
            ],
            [
             0.4,
             "#fde0ef"
            ],
            [
             0.5,
             "#f7f7f7"
            ],
            [
             0.6,
             "#e6f5d0"
            ],
            [
             0.7,
             "#b8e186"
            ],
            [
             0.8,
             "#7fbc41"
            ],
            [
             0.9,
             "#4d9221"
            ],
            [
             1,
             "#276419"
            ]
           ],
           "sequential": [
            [
             0,
             "#0d0887"
            ],
            [
             0.1111111111111111,
             "#46039f"
            ],
            [
             0.2222222222222222,
             "#7201a8"
            ],
            [
             0.3333333333333333,
             "#9c179e"
            ],
            [
             0.4444444444444444,
             "#bd3786"
            ],
            [
             0.5555555555555556,
             "#d8576b"
            ],
            [
             0.6666666666666666,
             "#ed7953"
            ],
            [
             0.7777777777777778,
             "#fb9f3a"
            ],
            [
             0.8888888888888888,
             "#fdca26"
            ],
            [
             1,
             "#f0f921"
            ]
           ],
           "sequentialminus": [
            [
             0,
             "#0d0887"
            ],
            [
             0.1111111111111111,
             "#46039f"
            ],
            [
             0.2222222222222222,
             "#7201a8"
            ],
            [
             0.3333333333333333,
             "#9c179e"
            ],
            [
             0.4444444444444444,
             "#bd3786"
            ],
            [
             0.5555555555555556,
             "#d8576b"
            ],
            [
             0.6666666666666666,
             "#ed7953"
            ],
            [
             0.7777777777777778,
             "#fb9f3a"
            ],
            [
             0.8888888888888888,
             "#fdca26"
            ],
            [
             1,
             "#f0f921"
            ]
           ]
          },
          "colorway": [
           "#636efa",
           "#EF553B",
           "#00cc96",
           "#ab63fa",
           "#FFA15A",
           "#19d3f3",
           "#FF6692",
           "#B6E880",
           "#FF97FF",
           "#FECB52"
          ],
          "font": {
           "color": "#2a3f5f"
          },
          "geo": {
           "bgcolor": "white",
           "lakecolor": "white",
           "landcolor": "#E5ECF6",
           "showlakes": true,
           "showland": true,
           "subunitcolor": "white"
          },
          "hoverlabel": {
           "align": "left"
          },
          "hovermode": "closest",
          "mapbox": {
           "style": "light"
          },
          "paper_bgcolor": "white",
          "plot_bgcolor": "#E5ECF6",
          "polar": {
           "angularaxis": {
            "gridcolor": "white",
            "linecolor": "white",
            "ticks": ""
           },
           "bgcolor": "#E5ECF6",
           "radialaxis": {
            "gridcolor": "white",
            "linecolor": "white",
            "ticks": ""
           }
          },
          "scene": {
           "xaxis": {
            "backgroundcolor": "#E5ECF6",
            "gridcolor": "white",
            "gridwidth": 2,
            "linecolor": "white",
            "showbackground": true,
            "ticks": "",
            "zerolinecolor": "white"
           },
           "yaxis": {
            "backgroundcolor": "#E5ECF6",
            "gridcolor": "white",
            "gridwidth": 2,
            "linecolor": "white",
            "showbackground": true,
            "ticks": "",
            "zerolinecolor": "white"
           },
           "zaxis": {
            "backgroundcolor": "#E5ECF6",
            "gridcolor": "white",
            "gridwidth": 2,
            "linecolor": "white",
            "showbackground": true,
            "ticks": "",
            "zerolinecolor": "white"
           }
          },
          "shapedefaults": {
           "line": {
            "color": "#2a3f5f"
           }
          },
          "ternary": {
           "aaxis": {
            "gridcolor": "white",
            "linecolor": "white",
            "ticks": ""
           },
           "baxis": {
            "gridcolor": "white",
            "linecolor": "white",
            "ticks": ""
           },
           "bgcolor": "#E5ECF6",
           "caxis": {
            "gridcolor": "white",
            "linecolor": "white",
            "ticks": ""
           }
          },
          "title": {
           "x": 0.05
          },
          "xaxis": {
           "automargin": true,
           "gridcolor": "white",
           "linecolor": "white",
           "ticks": "",
           "title": {
            "standoff": 15
           },
           "zerolinecolor": "white",
           "zerolinewidth": 2
          },
          "yaxis": {
           "automargin": true,
           "gridcolor": "white",
           "linecolor": "white",
           "ticks": "",
           "title": {
            "standoff": 15
           },
           "zerolinecolor": "white",
           "zerolinewidth": 2
          }
         }
        },
        "xaxis": {
         "anchor": "y",
         "domain": [
          0,
          1
         ],
         "showticklabels": false
        },
        "yaxis": {
         "anchor": "x",
         "domain": [
          0,
          1
         ],
         "showticklabels": false
        }
       }
      }
     },
     "metadata": {}
    }
   ],
   "source": [
    "if dataset_name == \"mnist\":\n",
    "    img = np.zeros((784))\n",
    "    img[ftr_selection] = 1\n",
    "    mnist_fig_ofssgd = paint_digit(img)\n"
   ]
  },
  {
   "cell_type": "code",
   "execution_count": 28,
   "metadata": {},
   "outputs": [
    {
     "output_type": "stream",
     "name": "stdout",
     "text": [
      "For the test dataset the previous trained predictor reached: 0.8328\n"
     ]
    }
   ],
   "source": [
    "test_x_selected = np.zeros(test_x.shape)\n",
    "test_x_selected[:,ftr_selection] = test_x[:,ftr_selection]\n",
    "y_pred = predictor.predict(test_x)\n",
    "accuracy_ofssgd = accuracy_score(test_y, y_pred)\n",
    "print(\"For the test dataset the previous trained predictor reached: {}\".format(accuracy_ofssgd))"
   ]
  },
  {
   "source": [
    "### Pick n random ftrs in each iteration as benchmark"
   ],
   "cell_type": "markdown",
   "metadata": {}
  },
  {
   "cell_type": "code",
   "execution_count": null,
   "metadata": {},
   "outputs": [],
   "source": [
    "stream.restart()\n",
    "predictor = PerceptronMask()\n",
    "x,y = stream.next_sample(batch_size=100)\n",
    "predictor.partial_fit(x,y, stream.target_values)"
   ]
  },
  {
   "source": [
    "### Plot all\n"
   ],
   "cell_type": "markdown",
   "metadata": {}
  },
  {
   "cell_type": "code",
   "execution_count": 29,
   "metadata": {},
   "outputs": [
    {
     "output_type": "display_data",
     "data": {
      "application/vnd.plotly.v1+json": {
       "config": {
        "plotlyServerURL": "https://plot.ly"
       },
       "data": [
        {
         "hovertemplate": "variable=FIRES<br>batches=%{x}<br>stability=%{y}<extra></extra>",
         "legendgroup": "FIRES",
         "line": {
          "color": "#636efa",
          "dash": "solid"
         },
         "mode": "lines",
         "name": "FIRES",
         "showlegend": true,
         "type": "scattergl",
         "x": [
          0,
          1,
          2,
          3,
          4,
          5,
          6,
          7,
          8,
          9,
          10,
          11,
          12,
          13,
          14,
          15,
          16,
          17,
          18,
          19,
          20,
          21,
          22,
          23,
          24,
          25,
          26,
          27,
          28,
          29,
          30,
          31,
          32,
          33,
          34,
          35,
          36,
          37,
          38,
          39,
          40,
          41,
          42,
          43,
          44,
          45,
          46,
          47,
          48,
          49,
          50,
          51,
          52,
          53,
          54,
          55,
          56,
          57,
          58,
          59,
          60,
          61,
          62,
          63,
          64,
          65,
          66,
          67,
          68,
          69,
          70,
          71,
          72,
          73,
          74,
          75,
          76,
          77,
          78,
          79,
          80,
          81,
          82,
          83,
          84,
          85,
          86,
          87,
          88,
          89,
          90,
          91,
          92,
          93,
          94,
          95,
          96,
          97,
          98,
          99,
          100,
          101,
          102,
          103,
          104,
          105,
          106,
          107,
          108,
          109,
          110,
          111,
          112,
          113,
          114,
          115,
          116,
          117,
          118,
          119,
          120,
          121,
          122,
          123,
          124,
          125,
          126,
          127,
          128,
          129,
          130,
          131,
          132,
          133,
          134,
          135,
          136,
          137,
          138,
          139,
          140,
          141,
          142,
          143,
          144,
          145,
          146,
          147,
          148,
          149,
          150,
          151,
          152,
          153,
          154,
          155,
          156,
          157,
          158,
          159,
          160,
          161,
          162,
          163,
          164,
          165,
          166,
          167,
          168,
          169,
          170,
          171,
          172,
          173,
          174,
          175,
          176,
          177,
          178,
          179,
          180,
          181,
          182,
          183,
          184,
          185,
          186,
          187,
          188,
          189,
          190,
          191,
          192,
          193,
          194,
          195,
          196,
          197,
          198,
          199,
          200,
          201,
          202,
          203,
          204,
          205,
          206,
          207,
          208,
          209,
          210,
          211,
          212,
          213,
          214,
          215,
          216,
          217,
          218,
          219,
          220,
          221,
          222,
          223,
          224,
          225,
          226,
          227,
          228,
          229,
          230,
          231,
          232,
          233,
          234,
          235,
          236,
          237,
          238,
          239,
          240,
          241,
          242,
          243,
          244,
          245,
          246,
          247,
          248,
          249,
          250,
          251,
          252,
          253,
          254,
          255,
          256,
          257,
          258,
          259,
          260,
          261,
          262,
          263,
          264,
          265,
          266,
          267,
          268,
          269,
          270,
          271,
          272,
          273,
          274,
          275,
          276,
          277,
          278,
          279,
          280,
          281,
          282,
          283,
          284,
          285,
          286,
          287,
          288,
          289,
          290,
          291,
          292,
          293,
          294,
          295,
          296,
          297,
          298,
          299,
          300,
          301,
          302,
          303,
          304,
          305,
          306,
          307,
          308,
          309,
          310,
          311,
          312,
          313,
          314,
          315,
          316,
          317,
          318,
          319,
          320,
          321,
          322,
          323,
          324,
          325,
          326,
          327,
          328,
          329,
          330,
          331,
          332,
          333,
          334,
          335,
          336,
          337,
          338,
          339,
          340,
          341,
          342,
          343,
          344,
          345,
          346,
          347,
          348,
          349,
          350,
          351,
          352,
          353,
          354,
          355,
          356,
          357,
          358,
          359,
          360,
          361,
          362,
          363,
          364,
          365,
          366,
          367,
          368,
          369,
          370,
          371,
          372,
          373,
          374,
          375,
          376,
          377,
          378,
          379,
          380,
          381,
          382,
          383,
          384,
          385,
          386,
          387,
          388,
          389,
          390,
          391,
          392,
          393,
          394,
          395,
          396,
          397,
          398,
          399,
          400,
          401,
          402,
          403,
          404,
          405,
          406,
          407,
          408,
          409,
          410,
          411,
          412,
          413,
          414,
          415,
          416,
          417,
          418,
          419,
          420,
          421,
          422,
          423,
          424,
          425,
          426,
          427,
          428,
          429,
          430,
          431,
          432,
          433,
          434,
          435,
          436,
          437,
          438,
          439,
          440,
          441,
          442,
          443,
          444,
          445,
          446,
          447,
          448,
          449,
          450,
          451,
          452,
          453,
          454,
          455,
          456,
          457,
          458,
          459,
          460,
          461,
          462,
          463,
          464,
          465,
          466,
          467,
          468,
          469,
          470,
          471,
          472,
          473,
          474,
          475,
          476,
          477,
          478,
          479,
          480,
          481,
          482,
          483,
          484,
          485,
          486,
          487,
          488,
          489,
          490,
          491,
          492,
          493,
          494,
          495,
          496,
          497,
          498,
          499,
          500,
          501,
          502,
          503,
          504,
          505,
          506,
          507,
          508,
          509,
          510,
          511,
          512,
          513,
          514,
          515,
          516,
          517,
          518,
          519,
          520,
          521,
          522,
          523,
          524,
          525,
          526,
          527,
          528,
          529,
          530,
          531,
          532,
          533,
          534,
          535,
          536,
          537,
          538,
          539,
          540,
          541,
          542,
          543,
          544,
          545,
          546,
          547,
          548,
          549,
          550,
          551,
          552,
          553,
          554,
          555,
          556,
          557,
          558,
          559,
          560,
          561,
          562,
          563,
          564,
          565,
          566,
          567,
          568,
          569,
          570,
          571,
          572,
          573,
          574,
          575,
          576,
          577,
          578,
          579,
          580,
          581,
          582,
          583,
          584,
          585,
          586,
          587,
          588,
          589
         ],
         "xaxis": "x",
         "y": [
          0.9090682261208577,
          0.9258791423001947,
          0.9465107212475626,
          0.9569538661468481,
          0.962557504873294,
          0.9658687459389209,
          0.9666328784925272,
          0.9701988304093565,
          0.9732553606237817,
          0.9747836257309939,
          0.9755477582846002,
          0.9745289148797919,
          0.9719818063677709,
          0.96943469785575,
          0.9661234567901229,
          0.9671423001949314,
          0.9686705653021438,
          0.9740194931773877,
          0.9773307342430149,
          0.9775854450942171,
          0.9793684210526318,
          0.9803872644574398,
          0.9834437946718647,
          0.9844626380766733,
          0.9852267706302793,
          0.9849720597790769,
          0.9875191682910979,
          0.9887927225471089,
          0.9865003248862899,
          0.9852267706302794,
          0.9849720597790775,
          0.9867550357374919,
          0.9865003248862899,
          0.9862456140350879,
          0.9880285899935023,
          0.9870097465886938,
          0.985481481481481,
          0.9836985055230664,
          0.9819155295646519,
          0.9811513970110459,
          0.9814061078622482,
          0.9821702404158543,
          0.9839532163742692,
          0.9849720597790775,
          0.9877738791423003,
          0.9877738791423004,
          0.9880285899935023,
          0.987009746588694,
          0.9870097465886941,
          0.9880285899935023,
          0.9890474333983102,
          0.9910851202079268,
          0.9941416504223519,
          0.9956699155295647,
          0.9977076023391814,
          0.9977076023391814,
          0.995924626380767,
          0.9941416504223525,
          0.990575698505523,
          0.9880285899935018,
          0.9865003248862895,
          0.9859909031838857,
          0.9865003248862899,
          0.9880285899935022,
          0.9905756985055229,
          0.9936322287199482,
          0.9956699155295647,
          0.995924626380767,
          0.9946510721247565,
          0.99388693957115,
          0.9936322287199477,
          0.9938869395711497,
          0.9946510721247562,
          0.9941416504223523,
          0.9941416504223525,
          0.9946510721247565,
          0.99388693957115,
          0.9936322287199477,
          0.9926133853151395,
          0.9921039636127357,
          0.992868096166342,
          0.9941416504223523,
          0.9959246263807668,
          0.9959246263807668,
          0.9959246263807665,
          0.9959246263807664,
          0.9941416504223523,
          0.9926133853151401,
          0.9926133853151399,
          0.993122807017544,
          0.9926133853151395,
          0.9926133853151394,
          0.9910851202079272,
          0.9905756985055231,
          0.9910851202079274,
          0.9926133853151398,
          0.9936322287199477,
          0.9938869395711497,
          0.9946510721247562,
          0.9959246263807668,
          0.9977076023391814,
          1,
          1,
          1,
          1,
          1,
          1,
          0.9977076023391814,
          0.9977076023391814,
          0.995669915529565,
          0.9941416504223525,
          0.9941416504223525,
          0.993122807017544,
          0.9926133853151395,
          0.9918492527615335,
          0.9915945419103316,
          0.9900662768031189,
          0.9900662768031189,
          0.9900662768031191,
          0.9903209876543211,
          0.991085120207927,
          0.9895568551007146,
          0.9885380116959059,
          0.9880285899935018,
          0.9880285899935023,
          0.9880285899935024,
          0.9887927225471087,
          0.9877738791423004,
          0.9885380116959065,
          0.9898115659519169,
          0.9915945419103311,
          0.9915945419103311,
          0.9926133853151394,
          0.9941416504223519,
          0.9956699155295645,
          0.9977076023391814,
          0.9977076023391814,
          1,
          0.9977076023391814,
          0.995924626380767,
          0.9946510721247565,
          0.99388693957115,
          0.9936322287199477,
          0.9926133853151395,
          0.9931228070175439,
          0.9941416504223523,
          0.9956699155295647,
          0.9959246263807668,
          0.9946510721247563,
          0.9938869395711503,
          0.9938869395711503,
          0.99388693957115,
          0.9938869395711503,
          0.9946510721247563,
          0.9931228070175436,
          0.9921039636127355,
          0.9915945419103315,
          0.9921039636127357,
          0.9921039636127357,
          0.9931228070175441,
          0.993122807017544,
          0.9931228070175439,
          0.9931228070175436,
          0.9931228070175436,
          0.9941416504223519,
          0.9956699155295645,
          0.9977076023391814,
          0.9977076023391814,
          1,
          1,
          1,
          0.9977076023391814,
          0.995924626380767,
          0.9946510721247565,
          0.99388693957115,
          0.9936322287199477,
          0.9938869395711497,
          0.9946510721247562,
          0.9959246263807668,
          0.9977076023391814,
          0.9977076023391814,
          0.995924626380767,
          0.9946510721247565,
          0.99388693957115,
          0.99388693957115,
          0.9938869395711503,
          0.9938869395711503,
          0.993632228719948,
          0.99388693957115,
          0.9946510721247565,
          0.9946510721247563,
          0.994651072124756,
          0.994651072124756,
          0.9946510721247562,
          0.9959246263807668,
          0.9977076023391814,
          1,
          1,
          1,
          1,
          1,
          1,
          1,
          1,
          1,
          1,
          1,
          1,
          1,
          0.9977076023391814,
          0.995924626380767,
          0.9946510721247565,
          0.99388693957115,
          0.9936322287199477,
          0.9938869395711497,
          0.9946510721247562,
          0.9959246263807668,
          0.9977076023391814,
          0.9977076023391814,
          0.995924626380767,
          0.9946510721247565,
          0.99388693957115,
          0.99388693957115,
          0.9938869395711503,
          0.9938869395711503,
          0.99388693957115,
          0.9938869395711497,
          0.9938869395711497,
          0.9946510721247562,
          0.9959246263807668,
          0.9977076023391814,
          1,
          1,
          1,
          1,
          1,
          1,
          1,
          1,
          1,
          1,
          1,
          1,
          1,
          0.9977076023391814,
          0.9977076023391814,
          0.9977076023391814,
          0.9977076023391814,
          0.9977076023391814,
          0.9977076023391812,
          0.9977076023391811,
          0.9977076023391811,
          0.9956699155295647,
          0.9941416504223525,
          0.9946510721247565,
          0.99388693957115,
          0.9936322287199477,
          0.9938869395711497,
          0.9946510721247562,
          0.9959246263807668,
          0.9977076023391814,
          0.9977076023391814,
          0.995924626380767,
          0.9946510721247565,
          0.99388693957115,
          0.99388693957115,
          0.9938869395711503,
          0.9936322287199482,
          0.9938869395711503,
          0.9946510721247563,
          0.9959246263807668,
          0.9946510721247563,
          0.9938869395711503,
          0.9938869395711503,
          0.9938869395711503,
          0.9946510721247563,
          0.9959246263807668,
          0.9959246263807665,
          0.9959246263807664,
          0.9959246263807665,
          0.9959246263807668,
          0.9977076023391814,
          1,
          1,
          1,
          1,
          1,
          1,
          1,
          1,
          1,
          1,
          1,
          1,
          1,
          1,
          1,
          1,
          1,
          1,
          1,
          1,
          1,
          1,
          1,
          1,
          1,
          1,
          1,
          1,
          1,
          1,
          1,
          1,
          1,
          1,
          1,
          1,
          1,
          1,
          1,
          1,
          1,
          1,
          1,
          1,
          1,
          1,
          1,
          1,
          1,
          1,
          1,
          1,
          1,
          1,
          1,
          1,
          1,
          1,
          1,
          1,
          1,
          1,
          1,
          1,
          1,
          1,
          1,
          1,
          1,
          1,
          1,
          1,
          1,
          1,
          1,
          1,
          1,
          1,
          1,
          1,
          1,
          1,
          1,
          1,
          1,
          1,
          1,
          1,
          1,
          1,
          1,
          1,
          1,
          1,
          1,
          1,
          1,
          1,
          1,
          1,
          1,
          1,
          1,
          1,
          1,
          1,
          1,
          1,
          1,
          1,
          1,
          1,
          1,
          1,
          1,
          1,
          1,
          1,
          1,
          1,
          1,
          1,
          1,
          1,
          1,
          1,
          1,
          1,
          1,
          1,
          1,
          1,
          1,
          1,
          1,
          1,
          1,
          1,
          0.9977076023391814,
          0.995924626380767,
          0.9946510721247565,
          0.99388693957115,
          0.9936322287199477,
          0.9926133853151395,
          0.9931228070175439,
          0.9931228070175441,
          0.9928680961663421,
          0.9941416504223525,
          0.9941416504223523,
          0.9941416504223523,
          0.9941416504223521,
          0.9941416504223519,
          0.9941416504223516,
          0.9956699155295645,
          0.9956699155295647,
          0.9977076023391814,
          1,
          1,
          1,
          1,
          1,
          1,
          1,
          1,
          1,
          1,
          1,
          0.9977076023391814,
          0.995924626380767,
          0.9946510721247565,
          0.99388693957115,
          0.9926133853151395,
          0.9918492527615335,
          0.9915945419103315,
          0.9918492527615335,
          0.9926133853151394,
          0.9936322287199478,
          0.9936322287199482,
          0.9936322287199482,
          0.993632228719948,
          0.9936322287199477,
          0.9938869395711497,
          0.9931228070175439,
          0.9928680961663421,
          0.9941416504223525,
          0.9946510721247565,
          0.99388693957115,
          0.9938869395711503,
          0.9938869395711503,
          0.99388693957115,
          0.993632228719948,
          0.993632228719948,
          0.99388693957115,
          0.9946510721247563,
          0.9946510721247563,
          0.9959246263807666,
          0.9977076023391811,
          0.9977076023391811,
          0.995924626380767,
          0.9946510721247567,
          0.9946510721247565,
          0.99388693957115,
          0.9936322287199477,
          0.9926133853151395,
          0.9921039636127357,
          0.9921039636127357,
          0.993122807017544,
          0.993122807017544,
          0.9921039636127357,
          0.9915945419103315,
          0.9915945419103313,
          0.9921039636127352,
          0.9931228070175435,
          0.9941416504223519,
          0.9956699155295647,
          0.9977076023391814,
          1,
          1,
          1,
          1,
          1,
          1,
          1,
          1,
          1,
          1,
          1,
          1,
          1,
          1,
          1,
          1,
          1,
          1,
          1,
          1,
          1,
          1,
          1,
          1,
          1,
          1,
          1,
          1,
          1,
          1,
          1,
          1,
          1,
          1,
          1,
          1,
          1,
          1,
          1,
          1,
          1,
          1,
          1,
          1,
          1,
          1,
          1,
          1,
          1,
          1,
          1,
          1,
          1,
          1,
          1,
          1,
          1,
          1,
          1,
          1,
          1,
          1,
          1,
          1,
          1,
          1,
          1,
          1,
          1,
          1,
          1,
          1,
          1,
          1,
          1,
          1,
          1,
          1,
          1,
          1,
          1,
          1,
          1,
          1,
          1,
          1,
          1,
          1,
          1,
          1,
          1,
          1
         ],
         "yaxis": "y"
        },
        {
         "hovertemplate": "variable=OFS<br>batches=%{x}<br>stability=%{y}<extra></extra>",
         "legendgroup": "OFS",
         "line": {
          "color": "#EF553B",
          "dash": "solid"
         },
         "mode": "lines",
         "name": "OFS",
         "showlegend": true,
         "type": "scattergl",
         "x": [
          0,
          1,
          2,
          3,
          4,
          5,
          6,
          7,
          8,
          9,
          10,
          11,
          12,
          13,
          14,
          15,
          16,
          17,
          18,
          19,
          20,
          21,
          22,
          23,
          24,
          25,
          26,
          27,
          28,
          29,
          30,
          31,
          32,
          33,
          34,
          35,
          36,
          37,
          38,
          39,
          40,
          41,
          42,
          43,
          44,
          45,
          46,
          47,
          48,
          49,
          50,
          51,
          52,
          53,
          54,
          55,
          56,
          57,
          58,
          59,
          60,
          61,
          62,
          63,
          64,
          65,
          66,
          67,
          68,
          69,
          70,
          71,
          72,
          73,
          74,
          75,
          76,
          77,
          78,
          79,
          80,
          81,
          82,
          83,
          84,
          85,
          86,
          87,
          88,
          89,
          90,
          91,
          92,
          93,
          94,
          95,
          96,
          97,
          98,
          99,
          100,
          101,
          102,
          103,
          104,
          105,
          106,
          107,
          108,
          109,
          110,
          111,
          112,
          113,
          114,
          115,
          116,
          117,
          118,
          119,
          120,
          121,
          122,
          123,
          124,
          125,
          126,
          127,
          128,
          129,
          130,
          131,
          132,
          133,
          134,
          135,
          136,
          137,
          138,
          139,
          140,
          141,
          142,
          143,
          144,
          145,
          146,
          147,
          148,
          149,
          150,
          151,
          152,
          153,
          154,
          155,
          156,
          157,
          158,
          159,
          160,
          161,
          162,
          163,
          164,
          165,
          166,
          167,
          168,
          169,
          170,
          171,
          172,
          173,
          174,
          175,
          176,
          177,
          178,
          179,
          180,
          181,
          182,
          183,
          184,
          185,
          186,
          187,
          188,
          189,
          190,
          191,
          192,
          193,
          194,
          195,
          196,
          197,
          198,
          199,
          200,
          201,
          202,
          203,
          204,
          205,
          206,
          207,
          208,
          209,
          210,
          211,
          212,
          213,
          214,
          215,
          216,
          217,
          218,
          219,
          220,
          221,
          222,
          223,
          224,
          225,
          226,
          227,
          228,
          229,
          230,
          231,
          232,
          233,
          234,
          235,
          236,
          237,
          238,
          239,
          240,
          241,
          242,
          243,
          244,
          245,
          246,
          247,
          248,
          249,
          250,
          251,
          252,
          253,
          254,
          255,
          256,
          257,
          258,
          259,
          260,
          261,
          262,
          263,
          264,
          265,
          266,
          267,
          268,
          269,
          270,
          271,
          272,
          273,
          274,
          275,
          276,
          277,
          278,
          279,
          280,
          281,
          282,
          283,
          284,
          285,
          286,
          287,
          288,
          289,
          290,
          291,
          292,
          293,
          294,
          295,
          296,
          297,
          298,
          299,
          300,
          301,
          302,
          303,
          304,
          305,
          306,
          307,
          308,
          309,
          310,
          311,
          312,
          313,
          314,
          315,
          316,
          317,
          318,
          319,
          320,
          321,
          322,
          323,
          324,
          325,
          326,
          327,
          328,
          329,
          330,
          331,
          332,
          333,
          334,
          335,
          336,
          337,
          338,
          339,
          340,
          341,
          342,
          343,
          344,
          345,
          346,
          347,
          348,
          349,
          350,
          351,
          352,
          353,
          354,
          355,
          356,
          357,
          358,
          359,
          360,
          361,
          362,
          363,
          364,
          365,
          366,
          367,
          368,
          369,
          370,
          371,
          372,
          373,
          374,
          375,
          376,
          377,
          378,
          379,
          380,
          381,
          382,
          383,
          384,
          385,
          386,
          387,
          388,
          389,
          390,
          391,
          392,
          393,
          394,
          395,
          396,
          397,
          398,
          399,
          400,
          401,
          402,
          403,
          404,
          405,
          406,
          407,
          408,
          409,
          410,
          411,
          412,
          413,
          414,
          415,
          416,
          417,
          418,
          419,
          420,
          421,
          422,
          423,
          424,
          425,
          426,
          427,
          428,
          429,
          430,
          431,
          432,
          433,
          434,
          435,
          436,
          437,
          438,
          439,
          440,
          441,
          442,
          443,
          444,
          445,
          446,
          447,
          448,
          449,
          450,
          451,
          452,
          453,
          454,
          455,
          456,
          457,
          458,
          459,
          460,
          461,
          462,
          463,
          464,
          465,
          466,
          467,
          468,
          469,
          470,
          471,
          472,
          473,
          474,
          475,
          476,
          477,
          478,
          479,
          480,
          481,
          482,
          483,
          484,
          485,
          486,
          487,
          488,
          489,
          490,
          491,
          492,
          493,
          494,
          495,
          496,
          497,
          498,
          499,
          500,
          501,
          502,
          503,
          504,
          505,
          506,
          507,
          508,
          509,
          510,
          511,
          512,
          513,
          514,
          515,
          516,
          517,
          518,
          519,
          520,
          521,
          522,
          523,
          524,
          525,
          526,
          527,
          528,
          529,
          530,
          531,
          532,
          533,
          534,
          535,
          536,
          537,
          538,
          539,
          540,
          541,
          542,
          543,
          544,
          545,
          546,
          547,
          548,
          549,
          550,
          551,
          552,
          553,
          554,
          555,
          556,
          557,
          558,
          559,
          560,
          561,
          562,
          563,
          564,
          565,
          566,
          567,
          568,
          569,
          570,
          571,
          572,
          573,
          574,
          575,
          576,
          577,
          578,
          579,
          580,
          581,
          582,
          583,
          584,
          585,
          586,
          587,
          588,
          589
         ],
         "xaxis": "x",
         "y": [
          0.7025004300916711,
          0.7330724929751695,
          0.7436057247249462,
          0.7556804050234708,
          0.7741777876084447,
          0.7931889863763344,
          0.7998685967542416,
          0.8152830822417197,
          0.8247886816256647,
          0.8337804648266937,
          0.8422584318448066,
          0.8515071231372935,
          0.8587005496981167,
          0.8576729173322848,
          0.848424226039798,
          0.8330097405523197,
          0.8276146706317024,
          0.8265870382658704,
          0.8286423029975343,
          0.830697567729198,
          0.8378909942900211,
          0.8479104098568819,
          0.8507363988629196,
          0.8522778474116675,
          0.8525347555031254,
          0.8502225826800037,
          0.847396593673966,
          0.8435429723020965,
          0.8466258693995921,
          0.8422584318448066,
          0.8409738913875168,
          0.8481673179483399,
          0.8499656745885457,
          0.8497087664970877,
          0.8504794907714617,
          0.8509933069543776,
          0.8551038364177052,
          0.8589574577895747,
          0.8635818034358181,
          0.8653801600760239,
          0.8741150351855949,
          0.8756564837343427,
          0.8802808293805862,
          0.8843913588439136,
          0.8828499102951658,
          0.8787393808318383,
          0.872830494728305,
          0.8653801600760239,
          0.8625541710699862,
          0.8664077924418557,
          0.8653801600760239,
          0.8669216086247717,
          0.8653801600760239,
          0.86460943580165,
          0.8664077924418557,
          0.873601219002679,
          0.8779686565574644,
          0.8802808293805862,
          0.8831068183866239,
          0.8807946455635021,
          0.8882449802157832,
          0.8869604397584934,
          0.8874742559414093,
          0.8872173478499513,
          0.8838775426609977,
          0.8789962889232963,
          0.8771979322830905,
          0.8738581270941369,
          0.8682061490820615,
          0.8700045057222674,
          0.8738581270941369,
          0.8777117484660064,
          0.88105155365496,
          0.8802808293805862,
          0.8805377374720441,
          0.8859328073926614,
          0.889529520673073,
          0.8833637264780818,
          0.8828499102951658,
          0.8774548403745485,
          0.8761702999172586,
          0.8807946455635021,
          0.8841344507524557,
          0.8831068183866239,
          0.8723166785453891,
          0.8705183219051833,
          0.8679492409906036,
          0.8597281820639485,
          0.8607558144297804,
          0.8664077924418557,
          0.8661508843503978,
          0.8630679872529021,
          0.8602419982468645,
          0.8622972629785283,
          0.8615265387041543,
          0.865123251984566,
          0.8687199652649775,
          0.872573586636847,
          0.8792531970147542,
          0.8823360941122499,
          0.8874742559414093,
          0.8879880721243252,
          0.8869604397584934,
          0.889272612581615,
          0.8954384067766064,
          0.9013472928801397,
          0.9010903847886816,
          0.8964660391424383,
          0.8972367634168121,
          0.9005765686057657,
          0.9054578223434672,
          0.9023749252459715,
          0.8998058443313919,
          0.8990351200570179,
          0.8992920281484759,
          0.8926124177705687,
          0.8861897154841194,
          0.8833637264780818,
          0.873601219002679,
          0.8782255646489224,
          0.8823360941122499,
          0.8843913588439136,
          0.8864466235755775,
          0.8915847854047368,
          0.9039163737947193,
          0.9013472928801397,
          0.9003196605143078,
          0.8956953148680643,
          0.8861897154841194,
          0.8828499102951658,
          0.8723166785453891,
          0.8661508843503978,
          0.8538192959604151,
          0.8450844208508441,
          0.8437998803935542,
          0.8417446156618906,
          0.8407169832960588,
          0.8455982370337602,
          0.8497087664970877,
          0.8479104098568819,
          0.8522778474116675,
          0.8597281820639485,
          0.8658939762589398,
          0.8751426675514268,
          0.8836206345695398,
          0.9008334766972237,
          0.897750579599728,
          0.8915847854047368,
          0.8867035316670354,
          0.8831068183866239,
          0.8769410241916326,
          0.8777117484660064,
          0.8741150351855949,
          0.8712890461795572,
          0.8738581270941369,
          0.8730874028197629,
          0.8782255646489224,
          0.8838775426609977,
          0.8831068183866239,
          0.8831068183866239,
          0.8843913588439136,
          0.8864466235755775,
          0.8882449802157832,
          0.8928693258620266,
          0.8938969582278585,
          0.8913278773132789,
          0.8936400501364006,
          0.8949245905936904,
          0.8910709692218208,
          0.8928693258620266,
          0.890043336855989,
          0.8846482669353716,
          0.8820791860207919,
          0.8795101051062122,
          0.8800239212891282,
          0.8802808293805862,
          0.8851620831182876,
          0.8877311640328672,
          0.8962091310509802,
          0.9023749252459715,
          0.8998058443313919,
          0.89877821196556,
          0.9000627524228498,
          0.8995489362399338,
          0.8951814986851484,
          0.8931262339534847,
          0.8874742559414093,
          0.8874742559414093,
          0.8877311640328672,
          0.8926124177705687,
          0.8936400501364006,
          0.8913278773132789,
          0.8849051750268296,
          0.8774548403745485,
          0.8764272080087165,
          0.8718028623624732,
          0.8707752299966413,
          0.8700045057222674,
          0.8687199652649775,
          0.8774548403745485,
          0.8836206345695398,
          0.890300244947447,
          0.8949245905936904,
          0.8859328073926614,
          0.8825930022037078,
          0.8800239212891282,
          0.8838775426609977,
          0.8856758993012035,
          0.8915847854047368,
          0.8974936715082701,
          0.9036594657032614,
          0.906999270892215,
          0.9062285466178411,
          0.9046870980690933,
          0.9005765686057657,
          0.8908140611303629,
          0.8797670131976703,
          0.872830494728305,
          0.8715459542710152,
          0.8738581270941369,
          0.8730874028197629,
          0.872830494728305,
          0.8797670131976703,
          0.8869604397584934,
          0.88105155365496,
          0.8792531970147542,
          0.8777117484660064,
          0.8825930022037078,
          0.8825930022037078,
          0.8825930022037078,
          0.8792531970147542,
          0.8836206345695398,
          0.8836206345695398,
          0.8905571530389049,
          0.881822277929334,
          0.8743719432770528,
          0.8779686565574644,
          0.8843913588439136,
          0.8851620831182876,
          0.8887587963986991,
          0.8890157044901571,
          0.8920986015876528,
          0.8969798553253542,
          0.8992920281484759,
          0.8938969582278585,
          0.8926124177705687,
          0.8928693258620266,
          0.8936400501364006,
          0.8959522229595223,
          0.8949245905936904,
          0.8964660391424383,
          0.9005765686057657,
          0.9041732818861773,
          0.907256178983673,
          0.9093114437153367,
          0.9085407194409628,
          0.9080269032580469,
          0.9005765686057657,
          0.8908140611303629,
          0.8879880721243252,
          0.890043336855989,
          0.890300244947447,
          0.8918416934961948,
          0.898264395782644,
          0.8995489362399338,
          0.9005765686057657,
          0.8962091310509802,
          0.9003196605143078,
          0.9018611090630556,
          0.8980074876911861,
          0.8998058443313919,
          0.898264395782644,
          0.8931262339534847,
          0.8887587963986991,
          0.8838775426609977,
          0.8800239212891282,
          0.8774548403745485,
          0.8748857594599688,
          0.8753995756428847,
          0.8764272080087165,
          0.88105155365496,
          0.8777117484660064,
          0.8820791860207919,
          0.8828499102951658,
          0.8872173478499513,
          0.8820791860207919,
          0.8792531970147542,
          0.8761702999172586,
          0.8712890461795572,
          0.8679492409906036,
          0.8658939762589398,
          0.8617834467956124,
          0.8597281820639485,
          0.8638387115272761,
          0.8694906895393514,
          0.8769410241916326,
          0.8859328073926614,
          0.8885018883072412,
          0.8787393808318383,
          0.8741150351855949,
          0.8712890461795572,
          0.8694906895393514,
          0.8723166785453891,
          0.8766841161001746,
          0.8823360941122499,
          0.8825930022037078,
          0.890043336855989,
          0.9003196605143078,
          0.9028887414288875,
          0.8995489362399338,
          0.8959522229595223,
          0.8926124177705687,
          0.8938969582278585,
          0.8931262339534847,
          0.8908140611303629,
          0.8885018883072412,
          0.8885018883072412,
          0.8956953148680643,
          0.8946676825022325,
          0.898521303874102,
          0.9005765686057657,
          0.9064854547092991,
          0.9100821679897106,
          0.9141926974530381,
          0.9129081569957483,
          0.9105959841726265,
          0.9046870980690933,
          0.9041732818861773,
          0.907256178983673,
          0.9082838113495049,
          0.9059716385263831,
          0.9082838113495049,
          0.9103390760811686,
          0.9116236165384585,
          0.9147065136359541,
          0.9175325026419917,
          0.9159910540932439,
          0.9041732818861773,
          0.8905571530389049,
          0.881822277929334,
          0.872830494728305,
          0.8723166785453891,
          0.8761702999172586,
          0.8761702999172586,
          0.8779686565574644,
          0.8825930022037078,
          0.8864466235755775,
          0.8887587963986991,
          0.8882449802157832,
          0.8859328073926614,
          0.8828499102951658,
          0.88105155365496,
          0.8769410241916326,
          0.8805377374720441,
          0.8761702999172586,
          0.8782255646489224,
          0.8792531970147542,
          0.8797670131976703,
          0.8851620831182876,
          0.8915847854047368,
          0.8931262339534847,
          0.8938969582278585,
          0.8998058443313919,
          0.8956953148680643,
          0.8877311640328672,
          0.8769410241916326,
          0.8761702999172586,
          0.8779686565574644,
          0.8779686565574644,
          0.8833637264780818,
          0.8859328073926614,
          0.8915847854047368,
          0.8967229472338962,
          0.8992920281484759,
          0.9044301899776352,
          0.9057147304349251,
          0.9028887414288875,
          0.8974936715082701,
          0.8913278773132789,
          0.8867035316670354,
          0.8753995756428847,
          0.8602419982468645,
          0.8512502150458355,
          0.8445706046679283,
          0.8399462590216848,
          0.8435429723020965,
          0.8489380422227139,
          0.8502225826800037,
          0.847396593673966,
          0.8533054797774993,
          0.8576729173322848,
          0.8661508843503978,
          0.8769410241916326,
          0.8802808293805862,
          0.8882449802157832,
          0.8933831420449426,
          0.897750579599728,
          0.89877821196556,
          0.8905571530389049,
          0.8874742559414093,
          0.8774548403745485,
          0.8664077924418557,
          0.8602419982468645,
          0.8553607445091631,
          0.8512502150458355,
          0.8455982370337602,
          0.8437998803935545,
          0.8479104098568819,
          0.8576729173322848,
          0.8669216086247717,
          0.8682061490820615,
          0.8705183219051833,
          0.8777117484660064,
          0.881308461746418,
          0.8730874028197629,
          0.8671785167162297,
          0.8671785167162297,
          0.8666647005333138,
          0.8720597704539311,
          0.873344310911221,
          0.873344310911221,
          0.8715459542710152,
          0.8756564837343427,
          0.8764272080087165,
          0.8766841161001746,
          0.8769410241916326,
          0.8859328073926614,
          0.8908140611303629,
          0.8954384067766064,
          0.8941538663193165,
          0.8938969582278585,
          0.8933831420449426,
          0.8882449802157832,
          0.889529520673073,
          0.8910709692218208,
          0.8959522229595223,
          0.9041732818861773,
          0.9090545356238787,
          0.9139357893615802,
          0.915477237910328,
          0.9057147304349251,
          0.8967229472338962,
          0.8956953148680643,
          0.890300244947447,
          0.8887587963986991,
          0.8910709692218208,
          0.8908140611303629,
          0.8918416934961948,
          0.8918416934961948,
          0.8928693258620266,
          0.8936400501364006,
          0.8962091310509802,
          0.8946676825022325,
          0.8951814986851484,
          0.8949245905936904,
          0.8967229472338962,
          0.9018611090630556,
          0.9075130870751309,
          0.907256178983673,
          0.9052009142520092,
          0.9059716385263831,
          0.9018611090630556,
          0.8969798553253542,
          0.8920986015876528,
          0.8923555096791107,
          0.8928693258620266,
          0.8926124177705687,
          0.8920986015876528,
          0.8936400501364006,
          0.8913278773132789,
          0.8882449802157832,
          0.8926124177705687,
          0.8931262339534847,
          0.8972367634168121,
          0.9008334766972237,
          0.9000627524228498,
          0.9000627524228498,
          0.9046870980690933,
          0.906742362800757,
          0.9049440061605513,
          0.8946676825022325,
          0.889529520673073,
          0.8828499102951658,
          0.881822277929334,
          0.8797670131976703,
          0.8820791860207919,
          0.8841344507524557,
          0.8877311640328672,
          0.898264395782644,
          0.9046870980690933,
          0.9118805246299164,
          0.9147065136359541,
          0.9170186864590758,
          0.9203584916480294,
          0.9139357893615802,
          0.9111098003555425,
          0.9118805246299164,
          0.9046870980690933,
          0.9057147304349251,
          0.9111098003555425,
          0.9111098003555425,
          0.9052009142520092,
          0.9082838113495049,
          0.9100821679897106,
          0.9105959841726265,
          0.9080269032580469,
          0.9087976275324208,
          0.9116236165384585,
          0.915477237910328,
          0.9085407194409628,
          0.9113667084470005,
          0.9082838113495049,
          0.9095683518067947,
          0.9064854547092991,
          0.9028887414288875,
          0.9049440061605513,
          0.9023749252459715,
          0.8969798553253542,
          0.8967229472338962,
          0.8964660391424383,
          0.8897864287645311,
          0.8820791860207919,
          0.8774548403745485,
          0.8761702999172586,
          0.8782255646489224,
          0.8795101051062122,
          0.8849051750268296,
          0.8882449802157832,
          0.8913278773132789,
          0.8967229472338962,
          0.8897864287645311,
          0.8846482669353716,
          0.881565369837876,
          0.8777117484660064,
          0.8759133918258006,
          0.8774548403745485,
          0.8851620831182876,
          0.8910709692218208,
          0.8964660391424383,
          0.8998058443313919,
          0.9028887414288875,
          0.9016042009715977,
          0.9077699951665889,
          0.9082838113495049,
          0.9095683518067947,
          0.907256178983673,
          0.9057147304349251,
          0.8995489362399338,
          0.8962091310509802,
          0.8951814986851484,
          0.8936400501364006,
          0.8931262339534847,
          0.8877311640328672,
          0.8836206345695398,
          0.8831068183866239,
          0.8823360941122499,
          0.8751426675514268,
          0.8730874028197629,
          0.8718028623624732,
          0.8761702999172586,
          0.8782255646489224,
          0.8843913588439136,
          0.889272612581615,
          0.8861897154841194,
          0.8887587963986991,
          0.8823360941122499,
          0.8800239212891282,
          0.8753995756428847,
          0.8766841161001746,
          0.8864466235755775,
          0.8944107744107744,
          0.9016042009715977,
          0.9085407194409628,
          0.9057147304349251,
          0.9054578223434672,
          0.9062285466178411,
          0.9085407194409628,
          0.9113667084470005,
          0.9118805246299164,
          0.9090545356238787,
          0.9090545356238787,
          0.9139357893615802,
          0.9144496055444962,
          0.9098252598982527,
          0.9059716385263831,
          0.9049440061605513,
          0.9054578223434672,
          0.9041732818861773,
          0.9034025576118034,
          0.9016042009715977
         ],
         "yaxis": "y"
        },
        {
         "hovertemplate": "variable=OFSSGD<br>batches=%{x}<br>stability=%{y}<extra></extra>",
         "legendgroup": "OFSSGD",
         "line": {
          "color": "#00cc96",
          "dash": "solid"
         },
         "mode": "lines",
         "name": "OFSSGD",
         "showlegend": true,
         "type": "scattergl",
         "x": [
          0,
          1,
          2,
          3,
          4,
          5,
          6,
          7,
          8,
          9,
          10,
          11,
          12,
          13,
          14,
          15,
          16,
          17,
          18,
          19,
          20,
          21,
          22,
          23,
          24,
          25,
          26,
          27,
          28,
          29,
          30,
          31,
          32,
          33,
          34,
          35,
          36,
          37,
          38,
          39,
          40,
          41,
          42,
          43,
          44,
          45,
          46,
          47,
          48,
          49,
          50,
          51,
          52,
          53,
          54,
          55,
          56,
          57,
          58,
          59,
          60,
          61,
          62,
          63,
          64,
          65,
          66,
          67,
          68,
          69,
          70,
          71,
          72,
          73,
          74,
          75,
          76,
          77,
          78,
          79,
          80,
          81,
          82,
          83,
          84,
          85,
          86,
          87,
          88,
          89,
          90,
          91,
          92,
          93,
          94,
          95,
          96,
          97,
          98,
          99,
          100,
          101,
          102,
          103,
          104,
          105,
          106,
          107,
          108,
          109,
          110,
          111,
          112,
          113,
          114,
          115,
          116,
          117,
          118,
          119,
          120,
          121,
          122,
          123,
          124,
          125,
          126,
          127,
          128,
          129,
          130,
          131,
          132,
          133,
          134,
          135,
          136,
          137,
          138,
          139,
          140,
          141,
          142,
          143,
          144,
          145,
          146,
          147,
          148,
          149,
          150,
          151,
          152,
          153,
          154,
          155,
          156,
          157,
          158,
          159,
          160,
          161,
          162,
          163,
          164,
          165,
          166,
          167,
          168,
          169,
          170,
          171,
          172,
          173,
          174,
          175,
          176,
          177,
          178,
          179,
          180,
          181,
          182,
          183,
          184,
          185,
          186,
          187,
          188,
          189,
          190,
          191,
          192,
          193,
          194,
          195,
          196,
          197,
          198,
          199,
          200,
          201,
          202,
          203,
          204,
          205,
          206,
          207,
          208,
          209,
          210,
          211,
          212,
          213,
          214,
          215,
          216,
          217,
          218,
          219,
          220,
          221,
          222,
          223,
          224,
          225,
          226,
          227,
          228,
          229,
          230,
          231,
          232,
          233,
          234,
          235,
          236,
          237,
          238,
          239,
          240,
          241,
          242,
          243,
          244,
          245,
          246,
          247,
          248,
          249,
          250,
          251,
          252,
          253,
          254,
          255,
          256,
          257,
          258,
          259,
          260,
          261,
          262,
          263,
          264,
          265,
          266,
          267,
          268,
          269,
          270,
          271,
          272,
          273,
          274,
          275,
          276,
          277,
          278,
          279,
          280,
          281,
          282,
          283,
          284,
          285,
          286,
          287,
          288,
          289,
          290,
          291,
          292,
          293,
          294,
          295,
          296,
          297,
          298,
          299,
          300,
          301,
          302,
          303,
          304,
          305,
          306,
          307,
          308,
          309,
          310,
          311,
          312,
          313,
          314,
          315,
          316,
          317,
          318,
          319,
          320,
          321,
          322,
          323,
          324,
          325,
          326,
          327,
          328,
          329,
          330,
          331,
          332,
          333,
          334,
          335,
          336,
          337,
          338,
          339,
          340,
          341,
          342,
          343,
          344,
          345,
          346,
          347,
          348,
          349,
          350,
          351,
          352,
          353,
          354,
          355,
          356,
          357,
          358,
          359,
          360,
          361,
          362,
          363,
          364,
          365,
          366,
          367,
          368,
          369,
          370,
          371,
          372,
          373,
          374,
          375,
          376,
          377,
          378,
          379,
          380,
          381,
          382,
          383,
          384,
          385,
          386,
          387,
          388,
          389,
          390,
          391,
          392,
          393,
          394,
          395,
          396,
          397,
          398,
          399,
          400,
          401,
          402,
          403,
          404,
          405,
          406,
          407,
          408,
          409,
          410,
          411,
          412,
          413,
          414,
          415,
          416,
          417,
          418,
          419,
          420,
          421,
          422,
          423,
          424,
          425,
          426,
          427,
          428,
          429,
          430,
          431,
          432,
          433,
          434,
          435,
          436,
          437,
          438,
          439,
          440,
          441,
          442,
          443,
          444,
          445,
          446,
          447,
          448,
          449,
          450,
          451,
          452,
          453,
          454,
          455,
          456,
          457,
          458,
          459,
          460,
          461,
          462,
          463,
          464,
          465,
          466,
          467,
          468,
          469,
          470,
          471,
          472,
          473,
          474,
          475,
          476,
          477,
          478,
          479,
          480,
          481,
          482,
          483,
          484,
          485,
          486,
          487,
          488,
          489,
          490,
          491,
          492,
          493,
          494,
          495,
          496,
          497,
          498,
          499,
          500,
          501,
          502,
          503,
          504,
          505,
          506,
          507,
          508,
          509,
          510,
          511,
          512,
          513,
          514,
          515,
          516,
          517,
          518,
          519,
          520,
          521,
          522,
          523,
          524,
          525,
          526,
          527,
          528,
          529,
          530,
          531,
          532,
          533,
          534,
          535,
          536,
          537,
          538,
          539,
          540,
          541,
          542,
          543,
          544,
          545,
          546,
          547,
          548,
          549,
          550,
          551,
          552,
          553,
          554,
          555,
          556,
          557,
          558,
          559,
          560,
          561,
          562,
          563,
          564,
          565,
          566,
          567,
          568,
          569,
          570,
          571,
          572,
          573,
          574,
          575,
          576,
          577,
          578,
          579,
          580,
          581,
          582,
          583,
          584,
          585,
          586,
          587,
          588,
          589
         ],
         "xaxis": "x",
         "y": [
          0.7282950806388255,
          0.7321345173704786,
          0.7264765898609115,
          0.7312276805788044,
          0.7238976511549106,
          0.7218647806140556,
          0.7148797594095866,
          0.7208287886509568,
          0.7284430453737762,
          0.7355197016987934,
          0.7247321952468098,
          0.7351368403395472,
          0.7371268849453878,
          0.7470892155423254,
          0.7387982015130647,
          0.7459537162659381,
          0.7387215946066784,
          0.7402885548608777,
          0.745427223629574,
          0.7437388366176113,
          0.7466222969232107,
          0.7408673811313836,
          0.7332314963288853,
          0.7340763318519266,
          0.7229455717806933,
          0.7048973152655083,
          0.7042972152126883,
          0.6979699475697253,
          0.6880702986874012,
          0.6824208583175444,
          0.6907114357595927,
          0.6916319204585285,
          0.7024514644822938,
          0.6916756846332326,
          0.6977079968025564,
          0.7141650336649995,
          0.7108309932884417,
          0.6772064070561024,
          0.6729263130430949,
          0.6665889231099257,
          0.6694350068560635,
          0.6776166995656924,
          0.665717273597095,
          0.6810437098165945,
          0.6729676471904429,
          0.660544909279121,
          0.6686118088145271,
          0.7022591998136517,
          0.7139844857260398,
          0.7065685562514196,
          0.7122019087523194,
          0.7104746799408476,
          0.7168070705796619,
          0.7130248564112481,
          0.7228144992766207,
          0.7090822439662849,
          0.7037714773313779,
          0.6938294853783169,
          0.6968687902302964,
          0.7083874874302405,
          0.6960851661692834,
          0.6908461765483892,
          0.6865977734392217,
          0.6869136285009242,
          0.6964174542416013,
          0.7102596902213524,
          0.7150478530895424,
          0.7204765647099652,
          0.720548214801728,
          0.7139544909667858,
          0.72775201620998,
          0.7306786916149703,
          0.7313964099860605,
          0.7289613774444086,
          0.7304099137194172,
          0.736074017340532,
          0.7378715221144437,
          0.7393250172725998,
          0.7416676433406325,
          0.7357840308203619,
          0.7269020250291582,
          0.7289512321942171,
          0.7162542847689268,
          0.7201017273330382,
          0.7081232423324411,
          0.6948527624250977,
          0.6960571769558814,
          0.6907070597374745,
          0.6944506480218915,
          0.6860651081121528,
          0.6899724206188765,
          0.689101828564315,
          0.7080680329978927,
          0.70321978293563,
          0.708977232574449,
          0.713141941670078,
          0.7038996558185141,
          0.7081749162821338,
          0.716771393340688,
          0.7339462241622817,
          0.7184285154662402,
          0.7102978681607921,
          0.7088076244520707,
          0.7212295151484316,
          0.7108427595706801,
          0.7043775474022727,
          0.7055675319566492,
          0.7080862213998999,
          0.699312090664446,
          0.6991919363487065,
          0.6995234112083065,
          0.7089873511534163,
          0.7117657715329554,
          0.7145346333075314,
          0.7298468456993736,
          0.7373392162699849,
          0.7340837572983773,
          0.7344552287775302,
          0.7632476913763065,
          0.7538952883733658,
          0.7519682956482809,
          0.7369980520546711,
          0.7371615847105274,
          0.7401261966381466,
          0.7361371860286086,
          0.7376120338379678,
          0.7274491227949881,
          0.7286414078888099,
          0.7221273764709505,
          0.7284857859982523,
          0.7369455639597768,
          0.731207218143928,
          0.7243156583630309,
          0.7105117222944056,
          0.7056793900552144,
          0.6960240016541955,
          0.7002651609720453,
          0.6647010018662559,
          0.6810198821837571,
          0.6873411688703822,
          0.6824263393977327,
          0.6777325848578485,
          0.6907684645294311,
          0.6809067746576317,
          0.6722634842151999,
          0.680108631617166,
          0.6802289439004904,
          0.7082739408378224,
          0.7078541436946644,
          0.6957807090400997,
          0.6984173922517339,
          0.7060379000370441,
          0.6958854908321487,
          0.698173949860579,
          0.716440794828163,
          0.6994408554031519,
          0.6903673586084883,
          0.6923842095299069,
          0.6802364767049517,
          0.6825619262786219,
          0.6683509733521951,
          0.6725311110306368,
          0.6729226542816129,
          0.6686326821324646,
          0.6597802718122501,
          0.6771349139971653,
          0.6756663361618277,
          0.6802378702078882,
          0.7003706579830861,
          0.7096938738618246,
          0.7197779428639332,
          0.7167286438931065,
          0.7125028916952373,
          0.7141787983435426,
          0.7171982995409826,
          0.6999403299017709,
          0.6987400632747458,
          0.686291395818581,
          0.679502704225156,
          0.6779813119203735,
          0.6693552950634805,
          0.6652941010812236,
          0.6751105097077984,
          0.6851443701415139,
          0.6888612245520711,
          0.6986255596468307,
          0.7134952507239898,
          0.7320658344702748,
          0.7192277245092888,
          0.7143355925418348,
          0.724596538111844,
          0.7187151699464889,
          0.7166138922487899,
          0.7103379892265382,
          0.7110882925571645,
          0.71132933553812,
          0.7121609904645965,
          0.6929142028967503,
          0.69639044877193,
          0.6996676978511555,
          0.7056201108238149,
          0.7037799785390835,
          0.7052402288877675,
          0.6962958399213536,
          0.7069778356570967,
          0.7042731882019648,
          0.6973098296690085,
          0.7078688054482799,
          0.7124357124610051,
          0.7221482730549983,
          0.7180049616583053,
          0.7217986446802899,
          0.7223138058628386,
          0.7240203421889435,
          0.7140619285251018,
          0.7203180143462251,
          0.7304474483451633,
          0.7253756028832582,
          0.7264937609460305,
          0.7209206035345801,
          0.7297162370559382,
          0.7232720400014463,
          0.7295459508166479,
          0.7394311020498013,
          0.7435894856429192,
          0.7378847354977403,
          0.7305901162280958,
          0.7429517107323536,
          0.7377633583524905,
          0.7418089458426997,
          0.7388441813205944,
          0.7392770570216515,
          0.7235711972036285,
          0.7156264088799353,
          0.7000528515484066,
          0.6931966882892323,
          0.6912785038620068,
          0.6892980000362872,
          0.6975252635757708,
          0.694065162914782,
          0.6928104718848455,
          0.696177993851206,
          0.7038318212956768,
          0.7112692547364309,
          0.7341646769010614,
          0.7283166659113531,
          0.7306422152640542,
          0.731062096096443,
          0.7294695828901417,
          0.7273955745305255,
          0.7190291129943921,
          0.720588907586132,
          0.7173379939367681,
          0.7147286968430732,
          0.6974982526182643,
          0.6920930559724408,
          0.6950132532676411,
          0.6957080799479528,
          0.6950035259233251,
          0.6968152792587201,
          0.7090345875959064,
          0.708682253434466,
          0.7100822435750238,
          0.6959470519087011,
          0.7065109200423985,
          0.7025632154925487,
          0.7008550302000311,
          0.6972505246500094,
          0.6941034934757856,
          0.7064882913965013,
          0.6966674501867812,
          0.6935353068008967,
          0.688240518201047,
          0.7072166975654629,
          0.7165860472710553,
          0.722158711973302,
          0.7341515353988657,
          0.7389407167831427,
          0.7282897837464118,
          0.7128982286577268,
          0.7072290113063262,
          0.7065398643199899,
          0.7136186840622041,
          0.7212230380541865,
          0.7164941129146789,
          0.7218250837354815,
          0.7145741991732306,
          0.7083661604467263,
          0.718371289398739,
          0.7223092145326768,
          0.7305903354919987,
          0.7237880331880154,
          0.7220344355627049,
          0.704908649438282,
          0.7033683755282447,
          0.6899726654101549,
          0.6804061973511012,
          0.6925154867447283,
          0.6992564888315794,
          0.7125709059444728,
          0.7115291727785777,
          0.7065405783294287,
          0.6997046735302149,
          0.6989348074671304,
          0.6853203210716069,
          0.6949896654320851,
          0.6954573003931672,
          0.6930197750888345,
          0.6847500837130189,
          0.6753635166385389,
          0.6771881434543794,
          0.6816801115756813,
          0.6863716016583017,
          0.7008251217641824,
          0.706007783618216,
          0.698388855436928,
          0.7103252355869161,
          0.7244143933167968,
          0.7186898450787507,
          0.7220891854317212,
          0.7170069839748142,
          0.718319035024355,
          0.718981413987048,
          0.7041877815156925,
          0.7123349889481942,
          0.7108377925573907,
          0.7062708866671058,
          0.7054494022526203,
          0.7100120862663697,
          0.7042771341765321,
          0.7006281594789444,
          0.6986292945629639,
          0.6978957621678054,
          0.7071643144093108,
          0.7012632198133139,
          0.7065591768109225,
          0.7096018828208458,
          0.7119910060142843,
          0.6995767545766453,
          0.7071283738173669,
          0.7132482015171712,
          0.7115089928947815,
          0.7050050504492354,
          0.7110232754002738,
          0.7207720909714211,
          0.7149873510179231,
          0.7050432508557777,
          0.6948722565314428,
          0.7083599869135008,
          0.7039599194358799,
          0.6937367131414368,
          0.6918000278755841,
          0.6884055452451951,
          0.691707649511182,
          0.6837194180109598,
          0.7173045884333116,
          0.7156681303011084,
          0.7056661086224514,
          0.701222423642335,
          0.6916622623089759,
          0.6963069773915386,
          0.7048259120966504,
          0.7084180790298107,
          0.7106826973455236,
          0.7241787474958478,
          0.7169421873034444,
          0.7218898230246948,
          0.7229523802545226,
          0.7167841486212091,
          0.7243276109855942,
          0.7188386247536307,
          0.7112519025454477,
          0.7133633265735168,
          0.7188229247365889,
          0.7154603371828053,
          0.7128242675324049,
          0.7026092491828961,
          0.7004769130679837,
          0.7044895190833595,
          0.6989437663201139,
          0.6875328216350765,
          0.6893053649377653,
          0.6868667467777771,
          0.686763974357261,
          0.6947483491169274,
          0.6994028183569301,
          0.7084150689929417,
          0.7043475487614776,
          0.6978020301529355,
          0.702565531994584,
          0.7168584880678711,
          0.706528794674931,
          0.7046209708881003,
          0.7027049203006371,
          0.7059326155758997,
          0.6934771103196654,
          0.6996736312834758,
          0.7128604747917665,
          0.7159330402700966,
          0.7087988575998428,
          0.6993729171685519,
          0.7016889361462786,
          0.7066237350073487,
          0.7012139800166539,
          0.6947208617295176,
          0.7043662970237101,
          0.7074767248312837,
          0.6946414973521218,
          0.6964545300703454,
          0.7108150458722197,
          0.7247867285374939,
          0.718865664318152,
          0.7139566933835994,
          0.7069012532675899,
          0.6981691830844093,
          0.7079326568563333,
          0.7096455551574731,
          0.7255359031150903,
          0.7292470651506697,
          0.7289099294406476,
          0.7188424666637842,
          0.7255456411579995,
          0.7328118938680469,
          0.7367019799324517,
          0.7526829007642003,
          0.733520598781885,
          0.7406578285342066,
          0.7266708821331539,
          0.7229799340619858,
          0.7047530490020112,
          0.692960524543249,
          0.6826225397748302,
          0.6766328154560496,
          0.6672271146317245,
          0.6526914891353011,
          0.6589788299618317,
          0.6531931061423535,
          0.6647402789344842,
          0.6691846053623521,
          0.6715212332796177,
          0.6874866878902953,
          0.6941789728770712,
          0.70319099811572,
          0.7155645046828555,
          0.7214628208579149,
          0.7237388917720056,
          0.721565786196115,
          0.71537348817435,
          0.7117712623016885,
          0.6945040661788797,
          0.6858505278904264,
          0.6880657747294066,
          0.6888740123504552,
          0.6829308467523099,
          0.6943251512433309,
          0.6915626259716029,
          0.6976099170855695,
          0.6988396047153715,
          0.7160228556449874,
          0.7535877119896158,
          0.7611624542925955,
          0.7589547345361792,
          0.759844210213317,
          0.7652979899962188,
          0.7619534965146827,
          0.7550763961214262,
          0.7624871286623233,
          0.7550042764036831,
          0.7466615713007362,
          0.7437295225441652,
          0.7371495963105558,
          0.7388692247599387,
          0.7389526119923608,
          0.7475569621304679,
          0.7349444241606882,
          0.7263245054124698,
          0.7159223541930431,
          0.7308587955601152,
          0.7283092747334438,
          0.7159734262406691,
          0.7107231578232474,
          0.7121758182619036,
          0.7087445943340716,
          0.7194089847753895,
          0.71300910223465,
          0.7221125949420624,
          0.7238404946632089,
          0.7195437747449279,
          0.7069832254662928,
          0.7182967233307376,
          0.719964407800663,
          0.7153791796569934,
          0.714798052350751,
          0.7093137741808272,
          0.7195776202575609,
          0.7181096480228611,
          0.7038844438456273,
          0.7007136107519618,
          0.7128285595556504,
          0.7108916625362705,
          0.7182077845667293,
          0.6917174197843675,
          0.6980174263464173,
          0.6956748163344653,
          0.7001300460498886,
          0.7073403755211738,
          0.707721605462895,
          0.7154278622180185,
          0.6996755056432693,
          0.692352982834273,
          0.685658458621471,
          0.7169743566322132,
          0.7119214437741421,
          0.7161492081806202,
          0.7060645233059252,
          0.7085472385017513,
          0.7069916866178771,
          0.700723180850425,
          0.7089956553116057,
          0.7040241477059028,
          0.7059129635425102,
          0.7069710630662384,
          0.7169213436637114,
          0.704551913130829,
          0.7184169985233396,
          0.7111989867737987,
          0.7226157442898139,
          0.7152879213988481,
          0.6914956118957057,
          0.6892217886793531,
          0.6813969897958673,
          0.6734968422774738,
          0.6752658817994331,
          0.688469118968382,
          0.6926120757356092,
          0.6904878807352064,
          0.6852507053192168,
          0.6937569126519412,
          0.7152000772263658,
          0.7217843611259549,
          0.7377219279235983,
          0.7415698908975314,
          0.7398398730126914,
          0.7387406472292886,
          0.7333097645897864,
          0.7425002714724983,
          0.7404407138837457,
          0.7418087834231175,
          0.7484235559807022,
          0.7458684414942266,
          0.7396291524209694,
          0.7287916615374698,
          0.7225455036169285,
          0.7034144851106422,
          0.7062018799949453,
          0.7002123823327302,
          0.7036327575402533,
          0.6923530396854596,
          0.6912431319415032,
          0.681044619572956,
          0.6808562334754668,
          0.6909713459200013,
          0.6919563627036466,
          0.6982522589810811,
          0.701842390145709,
          0.7106369864331772,
          0.6988578782200484,
          0.7020801963384983,
          0.7019567481489561,
          0.7087153611544733,
          0.7099339840404842,
          0.7174506119941771,
          0.7081268725800673,
          0.7094797944476215,
          0.7092264404496308,
          0.6882367748705682,
          0.6793695485168512,
          0.669291627855042,
          0.6661209538755934,
          0.6664335217270337,
          0.677519535766917,
          0.6805561916579798,
          0.6723020688170056,
          0.6609340223755011,
          0.6677867781921134,
          0.6930175068366763,
          0.7069485700566478,
          0.7240053614965148,
          0.7411857768229245,
          0.7351889224275024
         ],
         "yaxis": "y"
        },
        {
         "hovertemplate": "variable=FSDS<br>batches=%{x}<br>stability=%{y}<extra></extra>",
         "legendgroup": "FSDS",
         "line": {
          "color": "#ab63fa",
          "dash": "solid"
         },
         "mode": "lines",
         "name": "FSDS",
         "showlegend": true,
         "type": "scattergl",
         "x": [
          0,
          1,
          2,
          3,
          4,
          5,
          6,
          7,
          8,
          9,
          10,
          11,
          12,
          13,
          14,
          15,
          16,
          17,
          18,
          19,
          20,
          21,
          22,
          23,
          24,
          25,
          26,
          27,
          28,
          29,
          30,
          31,
          32,
          33,
          34,
          35,
          36,
          37,
          38,
          39,
          40,
          41,
          42,
          43,
          44,
          45,
          46,
          47,
          48,
          49,
          50,
          51,
          52,
          53,
          54,
          55,
          56,
          57,
          58,
          59,
          60,
          61,
          62,
          63,
          64,
          65,
          66,
          67,
          68,
          69,
          70,
          71,
          72,
          73,
          74,
          75,
          76,
          77,
          78,
          79,
          80,
          81,
          82,
          83,
          84,
          85,
          86,
          87,
          88,
          89,
          90,
          91,
          92,
          93,
          94,
          95,
          96,
          97,
          98,
          99,
          100,
          101,
          102,
          103,
          104,
          105,
          106,
          107,
          108,
          109,
          110,
          111,
          112,
          113,
          114,
          115,
          116,
          117,
          118,
          119,
          120,
          121,
          122,
          123,
          124,
          125,
          126,
          127,
          128,
          129,
          130,
          131,
          132,
          133,
          134,
          135,
          136,
          137,
          138,
          139,
          140,
          141,
          142,
          143,
          144,
          145,
          146,
          147,
          148,
          149,
          150,
          151,
          152,
          153,
          154,
          155,
          156,
          157,
          158,
          159,
          160,
          161,
          162,
          163,
          164,
          165,
          166,
          167,
          168,
          169,
          170,
          171,
          172,
          173,
          174,
          175,
          176,
          177,
          178,
          179,
          180,
          181,
          182,
          183,
          184,
          185,
          186,
          187,
          188,
          189,
          190,
          191,
          192,
          193,
          194,
          195,
          196,
          197,
          198,
          199,
          200,
          201,
          202,
          203,
          204,
          205,
          206,
          207,
          208,
          209,
          210,
          211,
          212,
          213,
          214,
          215,
          216,
          217,
          218,
          219,
          220,
          221,
          222,
          223,
          224,
          225,
          226,
          227,
          228,
          229,
          230,
          231,
          232,
          233,
          234,
          235,
          236,
          237,
          238,
          239,
          240,
          241,
          242,
          243,
          244,
          245,
          246,
          247,
          248,
          249,
          250,
          251,
          252,
          253,
          254,
          255,
          256,
          257,
          258,
          259,
          260,
          261,
          262,
          263,
          264,
          265,
          266,
          267,
          268,
          269,
          270,
          271,
          272,
          273,
          274,
          275,
          276,
          277,
          278,
          279,
          280,
          281,
          282,
          283,
          284,
          285,
          286,
          287,
          288,
          289,
          290,
          291,
          292,
          293,
          294,
          295,
          296,
          297,
          298,
          299,
          300,
          301,
          302,
          303,
          304,
          305,
          306,
          307,
          308,
          309,
          310,
          311,
          312,
          313,
          314,
          315,
          316,
          317,
          318,
          319,
          320,
          321,
          322,
          323,
          324,
          325,
          326,
          327,
          328,
          329,
          330,
          331,
          332,
          333,
          334,
          335,
          336,
          337,
          338,
          339,
          340,
          341,
          342,
          343,
          344,
          345,
          346,
          347,
          348,
          349,
          350,
          351,
          352,
          353,
          354,
          355,
          356,
          357,
          358,
          359,
          360,
          361,
          362,
          363,
          364,
          365,
          366,
          367,
          368,
          369,
          370,
          371,
          372,
          373,
          374,
          375,
          376,
          377,
          378,
          379,
          380,
          381,
          382,
          383,
          384,
          385,
          386,
          387,
          388,
          389,
          390,
          391,
          392,
          393,
          394,
          395,
          396,
          397,
          398,
          399,
          400,
          401,
          402,
          403,
          404,
          405,
          406,
          407,
          408,
          409,
          410,
          411,
          412,
          413,
          414,
          415,
          416,
          417,
          418,
          419,
          420,
          421,
          422,
          423,
          424,
          425,
          426,
          427,
          428,
          429,
          430,
          431,
          432,
          433,
          434,
          435,
          436,
          437,
          438,
          439,
          440,
          441,
          442,
          443,
          444,
          445,
          446,
          447,
          448,
          449,
          450,
          451,
          452,
          453,
          454,
          455,
          456,
          457,
          458,
          459,
          460,
          461,
          462,
          463,
          464,
          465,
          466,
          467,
          468,
          469,
          470,
          471,
          472,
          473,
          474,
          475,
          476,
          477,
          478,
          479,
          480,
          481,
          482,
          483,
          484,
          485,
          486,
          487,
          488,
          489,
          490,
          491,
          492,
          493,
          494,
          495,
          496,
          497,
          498,
          499,
          500,
          501,
          502,
          503,
          504,
          505,
          506,
          507,
          508,
          509,
          510,
          511,
          512,
          513,
          514,
          515,
          516,
          517,
          518,
          519,
          520,
          521,
          522,
          523,
          524,
          525,
          526,
          527,
          528,
          529,
          530,
          531,
          532,
          533,
          534,
          535,
          536,
          537,
          538,
          539,
          540,
          541,
          542,
          543,
          544,
          545,
          546,
          547,
          548,
          549,
          550,
          551,
          552,
          553,
          554,
          555,
          556,
          557,
          558,
          559,
          560,
          561,
          562,
          563,
          564,
          565,
          566,
          567,
          568,
          569,
          570,
          571,
          572,
          573,
          574,
          575,
          576,
          577,
          578,
          579,
          580,
          581,
          582,
          583,
          584,
          585,
          586,
          587,
          588,
          589
         ],
         "xaxis": "x",
         "y": [
          0.6232826510721248,
          0.650282001299545,
          0.6912904483430798,
          0.7109031838856399,
          0.7470721247563352,
          0.7919012345679011,
          0.8087121507472385,
          0.8255230669265757,
          0.8380038986354775,
          0.8405510071474983,
          0.8489564652371672,
          0.8543053931124108,
          0.8489564652371673,
          0.8507394411955819,
          0.8527771280051981,
          0.8400415854450941,
          0.8288343079922026,
          0.8255230669265755,
          0.8245042235217674,
          0.8293437296946069,
          0.8311267056530216,
          0.8352020792722548,
          0.8461546458739443,
          0.8586354775828459,
          0.8619467186484727,
          0.8708615984405457,
          0.8797764782326185,
          0.8879272254710856,
          0.9027004548408061,
          0.9083040935672515,
          0.9154359974009092,
          0.9116153346328784,
          0.910087069525666,
          0.9121247563352827,
          0.9187472384665366,
          0.9212943469785572,
          0.9202755035737489,
          0.9098323586744638,
          0.8884366471734891,
          0.8830877192982451,
          0.8757011046133851,
          0.8688239116309291,
          0.8700974658869396,
          0.8741728395061726,
          0.8774840805717998,
          0.8841065627030542,
          0.8925120207927227,
          0.8968421052631578,
          0.8960779727095515,
          0.8856348278102665,
          0.8807953216374267,
          0.8815594541910332,
          0.8800311890838206,
          0.8920025990903181,
          0.9042287199480179,
          0.9088135152696555,
          0.916454840805718,
          0.928426250812216,
          0.9335204678362573,
          0.9314827810266406,
          0.9309733593242367,
          0.9381052631578946,
          0.9467654320987652,
          0.948803118908382,
          0.9498219623131904,
          0.9490578297595842,
          0.9503313840155945,
          0.9526237816764132,
          0.9549161793372317,
          0.9561897335932422,
          0.9564444444444441,
          0.9592462638076669,
          0.9572085769980501,
          0.9610292397660815,
          0.965104613385315,
          0.9727459389213776,
          0.9747836257309941,
          0.971981806367771,
          0.9668875893437295,
          0.9630669265756985,
          0.9551708901884342,
          0.9538973359324237,
          0.9309733593242364,
          0.9121247563352827,
          0.9021910331384018,
          0.8988797920727744,
          0.9021910331384012,
          0.911360623781676,
          0.9243508771929819,
          0.9370864197530859,
          0.9482936972059776,
          0.9656140350877188,
          0.966632878492527,
          0.9648499025341126,
          0.961793372319688,
          0.9554256010396361,
          0.9533879142300197,
          0.9449824561403511,
          0.9454918778427553,
          0.945746588693957,
          0.9462560103963611,
          0.9485484080571801,
          0.9490578297595842,
          0.9495672514619881,
          0.9493125406107858,
          0.9510955165692004,
          0.9564444444444443,
          0.970198830409357,
          0.9727459389213773,
          0.9724912280701754,
          0.9806419753086415,
          0.9801325536062373,
          0.9793684210526309,
          0.9747836257309939,
          0.9686705653021441,
          0.9656140350877194,
          0.9623027940220923,
          0.9630669265756985,
          0.9653593242365168,
          0.9679064327485375,
          0.9740194931773877,
          0.9773307342430145,
          0.9747836257309942,
          0.9666328784925274,
          0.9651046133853148,
          0.9579727095516568,
          0.9538973359324237,
          0.9521143599740091,
          0.9516049382716052,
          0.9488031189083828,
          0.9493125406107864,
          0.9472748538011697,
          0.9373411306042886,
          0.9322469135802469,
          0.9238414554905785,
          0.9177283950617282,
          0.9167095516569196,
          0.9169642625081219,
          0.9253697205977905,
          0.9355581546458736,
          0.9467654320987651,
          0.9635763482781022,
          0.9679064327485379,
          0.9714723846653672,
          0.9775854450942172,
          0.9839532163742691,
          0.9875191682910981,
          0.9880285899935024,
          0.9895568551007146,
          0.9865003248862892,
          0.9847173489278748,
          0.9811513970110456,
          0.9791137102014291,
          0.9793684210526313,
          0.9755477582846002,
          0.9737647823261858,
          0.9730006497725793,
          0.9755477582845998,
          0.9793684210526312,
          0.9765666016894087,
          0.9752930474333983,
          0.9717270955165691,
          0.9671423001949319,
          0.9661234567901236,
          0.9696894087069525,
          0.9732553606237817,
          0.9750383365821963,
          0.9770760233918125,
          0.9755477582846,
          0.9701988304093565,
          0.9656140350877191,
          0.9628122157244963,
          0.9617933723196882,
          0.9630669265756984,
          0.9661234567901229,
          0.9681611435997396,
          0.9668875893437295,
          0.9704535412605586,
          0.9701988304093565,
          0.9696894087069522,
          0.9676517218973358,
          0.9663781676413254,
          0.9625575048732942,
          0.9681611435997396,
          0.9717270955165687,
          0.9758024691358017,
          0.9750383365821954,
          0.9727459389213773,
          0.9610292397660819,
          0.9610292397660818,
          0.9579727095516568,
          0.9533879142300199,
          0.9516049382716053,
          0.9528784925276154,
          0.9521143599740091,
          0.9488031189083816,
          0.9419259259259256,
          0.9330110461338529,
          0.9317374918778427,
          0.9274074074074075,
          0.9248602988953868,
          0.9256244314489929,
          0.9314827810266405,
          0.9388693957115009,
          0.946256010396361,
          0.9551708901884335,
          0.9694346978557502,
          0.9758024691358022,
          0.9750383365821961,
          0.9763118908382065,
          0.9709629629629627,
          0.9668875893437295,
          0.9648499025341131,
          0.9635763482781026,
          0.9600103963612736,
          0.9635763482781022,
          0.9661234567901232,
          0.9699441195581546,
          0.9730006497725798,
          0.9740194931773878,
          0.9694346978557505,
          0.9717270955165691,
          0.9686705653021439,
          0.9671423001949314,
          0.9704535412605585,
          0.9701988304093567,
          0.9704535412605589,
          0.9712176738141651,
          0.9732553606237817,
          0.9760571799870046,
          0.9854814814814815,
          0.9870097465886937,
          0.9829343729694605,
          0.9803872644574396,
          0.9770760233918127,
          0.97427420402859,
          0.9707082521117608,
          0.9722365172189732,
          0.9724912280701751,
          0.9742742040285898,
          0.9763118908382062,
          0.9765666016894085,
          0.9765666016894087,
          0.9752930474333983,
          0.9732553606237818,
          0.9712176738141651,
          0.9727459389213772,
          0.975293047433398,
          0.9798778427550359,
          0.9834437946718652,
          0.986245614035088,
          0.9854814814814815,
          0.9872644574398959,
          0.9885380116959059,
          0.9880285899935022,
          0.9875191682910981,
          0.9875191682910981,
          0.9867550357374918,
          0.9875191682910979,
          0.9880285899935022,
          0.989556855100715,
          0.9898115659519169,
          0.9880285899935018,
          0.9880285899935018,
          0.9885380116959062,
          0.9870097465886941,
          0.9834437946718647,
          0.9816608187134497,
          0.9826796621182583,
          0.9831890838206626,
          0.9839532163742691,
          0.984207927225471,
          0.9826796621182583,
          0.982170240415854,
          0.9819155295646521,
          0.9788589993502272,
          0.9783495776478228,
          0.9798778427550354,
          0.9788589993502275,
          0.9811513970110464,
          0.9842079272254712,
          0.9859909031838857,
          0.9865003248862896,
          0.9867550357374917,
          0.9852267706302793,
          0.984207927225471,
          0.9844626380766733,
          0.9834437946718647,
          0.987264457439896,
          0.9898115659519169,
          0.9913398310591296,
          0.9918492527615336,
          0.9938869395711503,
          0.9923586744639377,
          0.9923586744639377,
          0.9923586744639379,
          0.9923586744639376,
          0.9938869395711499,
          0.9938869395711499,
          0.9938869395711499,
          0.9956699155295645,
          0.9954152046783628,
          0.9954152046783628,
          0.9954152046783628,
          0.993632228719948,
          0.9921039636127355,
          0.9910851202079274,
          0.9905756985055231,
          0.9887927225471087,
          0.9880285899935023,
          0.9880285899935023,
          0.9890474333983106,
          0.9905756985055231,
          0.9877738791422997,
          0.9836985055230664,
          0.9788589993502269,
          0.9755477582846003,
          0.9747836257309941,
          0.9752930474333984,
          0.976821312540611,
          0.9788589993502275,
          0.9819155295646523,
          0.9849720597790771,
          0.9854814814814812,
          0.9849720597790775,
          0.9849720597790775,
          0.9865003248862899,
          0.9865003248862899,
          0.9852267706302791,
          0.985990903183885,
          0.9836985055230666,
          0.9829343729694605,
          0.9824249512670565,
          0.982934372969461,
          0.9839532163742689,
          0.9849720597790771,
          0.987264457439896,
          0.9877738791423003,
          0.9885380116959064,
          0.9887927225471084,
          0.9895568551007147,
          0.9887927225471083,
          0.9877738791423004,
          0.9875191682910984,
          0.9882833008447046,
          0.9895568551007148,
          0.9910851202079272,
          0.991085120207927,
          0.9910851202079272,
          0.9915945419103316,
          0.9926133853151398,
          0.9938869395711499,
          0.9938869395711499,
          0.9946510721247562,
          0.9941416504223521,
          0.9941416504223525,
          0.9908304093567252,
          0.9898115659519167,
          0.9877738791423003,
          0.9880285899935026,
          0.9887927225471087,
          0.9900662768031191,
          0.9918492527615335,
          0.9918492527615331,
          0.989811565951917,
          0.9880285899935026,
          0.989556855100715,
          0.9893021442495125,
          0.9836985055230667,
          0.977840155945419,
          0.9740194931773879,
          0.9737647823261858,
          0.9737647823261859,
          0.9747836257309942,
          0.9740194931773877,
          0.9755477582846003,
          0.9755477582846005,
          0.97427420402859,
          0.9755477582846,
          0.9760571799870044,
          0.974528914879792,
          0.9712176738141648,
          0.9701988304093562,
          0.9724912280701754,
          0.9724912280701755,
          0.9760571799870044,
          0.9806419753086419,
          0.9844626380766734,
          0.9844626380766737,
          0.9862456140350877,
          0.9877738791423,
          0.9893021442495127,
          0.9918492527615336,
          0.990320987654321,
          0.9898115659519167,
          0.9859909031838853,
          0.9844626380766729,
          0.9826796621182586,
          0.9819155295646524,
          0.9819155295646523,
          0.9824249512670561,
          0.9834437946718644,
          0.9854814814814815,
          0.987009746588694,
          0.9880285899935024,
          0.9885380116959067,
          0.9865003248862896,
          0.985481481481481,
          0.9865003248862895,
          0.9865003248862892,
          0.9849720597790768,
          0.9796231319038333,
          0.9758024691358024,
          0.96816114359974,
          0.9625575048732942,
          0.9595009746588691,
          0.9615386614684855,
          0.9651046133853145,
          0.9668875893437293,
          0.9712176738141649,
          0.9755477582846005,
          0.9796231319038337,
          0.9857361923326836,
          0.981915529564652,
          0.9814061078622478,
          0.982170240415854,
          0.9806419753086414,
          0.9798778427550354,
          0.9791137102014293,
          0.9775854450942166,
          0.9786042884990249,
          0.9770760233918125,
          0.9765666016894083,
          0.9806419753086417,
          0.9816608187134501,
          0.9806419753086419,
          0.9730006497725796,
          0.9689252761533464,
          0.9663781676413256,
          0.9696894087069524,
          0.9747836257309942,
          0.9750383365821961,
          0.9745289148797919,
          0.974528914879792,
          0.9745289148797923,
          0.9722365172189735,
          0.9709629629629627,
          0.9747836257309941,
          0.9763118908382061,
          0.9793684210526307,
          0.9786042884990246,
          0.9803872644574395,
          0.9806419753086418,
          0.9770760233918127,
          0.9719818063677713,
          0.9699441195581546,
          0.968415854450942,
          0.9676517218973355,
          0.9686705653021436,
          0.9707082521117603,
          0.9730006497725793,
          0.9712176738141648,
          0.9709629629629627,
          0.9719818063677712,
          0.9752930474333984,
          0.9793684210526317,
          0.9826796621182586,
          0.9875191682910981,
          0.9895568551007148,
          0.9875191682910979,
          0.9847173489278749,
          0.9824249512670562,
          0.9842079272254711,
          0.984207927225471,
          0.9816608187134498,
          0.9839532163742682,
          0.9854814814814808,
          0.9875191682910978,
          0.9880285899935023,
          0.9880285899935026,
          0.9875191682910985,
          0.9849720597790774,
          0.9824249512670559,
          0.9808966861598436,
          0.98166081871345,
          0.9722365172189735,
          0.9635763482781027,
          0.9579727095516567,
          0.9559350227420401,
          0.9569538661468489,
          0.9617933723196883,
          0.9645951916829111,
          0.9701988304093566,
          0.9788589993502275,
          0.9900662768031189,
          0.9905756985055231,
          0.988028589993502,
          0.9808966861598437,
          0.9750383365821961,
          0.970962962962963,
          0.9676517218973358,
          0.9668875893437293,
          0.9681611435997396,
          0.9709629629629624,
          0.9712176738141648,
          0.9727459389213776,
          0.9724912280701757,
          0.9719818063677715,
          0.9724912280701757,
          0.9724912280701757,
          0.9730006497725796,
          0.9780948667966212,
          0.9824249512670561,
          0.9857361923326828,
          0.9836985055230661,
          0.984207927225471,
          0.983698505523067,
          0.9839532163742689,
          0.9857361923326835,
          0.9857361923326832,
          0.9867550357374918,
          0.9887927225471083,
          0.9903209876543204,
          0.9880285899935022,
          0.9819155295646521,
          0.9763118908382066,
          0.9773307342430148,
          0.9786042884990249,
          0.9834437946718643,
          0.9842079272254707,
          0.9854814814814815,
          0.9872644574398959,
          0.9895568551007146,
          0.9877738791423004,
          0.989556855100715,
          0.9959246263807668,
          0.9959246263807668,
          0.9959246263807666,
          0.9959246263807668,
          0.9895568551007143,
          0.9839532163742685,
          0.9798778427550354,
          0.9717270955165689,
          0.9671423001949315,
          0.9651046133853148,
          0.965868745938921,
          0.969179987004548,
          0.9732553606237812,
          0.9758024691358022,
          0.9740194931773878,
          0.9730006497725793,
          0.971472384665367,
          0.9717270955165694,
          0.9745289148797923,
          0.979623131903834,
          0.9842079272254711,
          0.9880285899935023,
          0.9908304093567252,
          0.9893021442495127,
          0.9898115659519167,
          0.9890474333983108,
          0.9885380116959065,
          0.9900662768031191,
          0.9921039636127357,
          0.9931228070175439,
          0.9880285899935018,
          0.9862456140350873,
          0.9834437946718645,
          0.9842079272254708,
          0.984207927225471,
          0.9834437946718644,
          0.9831890838206621,
          0.9831890838206622,
          0.981151397011046,
          0.979368421052632,
          0.9791137102014296,
          0.9806419753086419,
          0.9839532163742689,
          0.984717348927875,
          0.9801325536062374,
          0.9775854450942166,
          0.9770760233918125,
          0.9793684210526314,
          0.9791137102014295,
          0.9750383365821964,
          0.9745289148797922,
          0.9732553606237818,
          0.9709629629629632,
          0.9704535412605589,
          0.9732553606237818
         ],
         "yaxis": "y"
        }
       ],
       "layout": {
        "legend": {
         "title": {
          "text": "variable"
         },
         "tracegroupgap": 0
        },
        "template": {
         "data": {
          "bar": [
           {
            "error_x": {
             "color": "#2a3f5f"
            },
            "error_y": {
             "color": "#2a3f5f"
            },
            "marker": {
             "line": {
              "color": "#E5ECF6",
              "width": 0.5
             }
            },
            "type": "bar"
           }
          ],
          "barpolar": [
           {
            "marker": {
             "line": {
              "color": "#E5ECF6",
              "width": 0.5
             }
            },
            "type": "barpolar"
           }
          ],
          "carpet": [
           {
            "aaxis": {
             "endlinecolor": "#2a3f5f",
             "gridcolor": "white",
             "linecolor": "white",
             "minorgridcolor": "white",
             "startlinecolor": "#2a3f5f"
            },
            "baxis": {
             "endlinecolor": "#2a3f5f",
             "gridcolor": "white",
             "linecolor": "white",
             "minorgridcolor": "white",
             "startlinecolor": "#2a3f5f"
            },
            "type": "carpet"
           }
          ],
          "choropleth": [
           {
            "colorbar": {
             "outlinewidth": 0,
             "ticks": ""
            },
            "type": "choropleth"
           }
          ],
          "contour": [
           {
            "colorbar": {
             "outlinewidth": 0,
             "ticks": ""
            },
            "colorscale": [
             [
              0,
              "#0d0887"
             ],
             [
              0.1111111111111111,
              "#46039f"
             ],
             [
              0.2222222222222222,
              "#7201a8"
             ],
             [
              0.3333333333333333,
              "#9c179e"
             ],
             [
              0.4444444444444444,
              "#bd3786"
             ],
             [
              0.5555555555555556,
              "#d8576b"
             ],
             [
              0.6666666666666666,
              "#ed7953"
             ],
             [
              0.7777777777777778,
              "#fb9f3a"
             ],
             [
              0.8888888888888888,
              "#fdca26"
             ],
             [
              1,
              "#f0f921"
             ]
            ],
            "type": "contour"
           }
          ],
          "contourcarpet": [
           {
            "colorbar": {
             "outlinewidth": 0,
             "ticks": ""
            },
            "type": "contourcarpet"
           }
          ],
          "heatmap": [
           {
            "colorbar": {
             "outlinewidth": 0,
             "ticks": ""
            },
            "colorscale": [
             [
              0,
              "#0d0887"
             ],
             [
              0.1111111111111111,
              "#46039f"
             ],
             [
              0.2222222222222222,
              "#7201a8"
             ],
             [
              0.3333333333333333,
              "#9c179e"
             ],
             [
              0.4444444444444444,
              "#bd3786"
             ],
             [
              0.5555555555555556,
              "#d8576b"
             ],
             [
              0.6666666666666666,
              "#ed7953"
             ],
             [
              0.7777777777777778,
              "#fb9f3a"
             ],
             [
              0.8888888888888888,
              "#fdca26"
             ],
             [
              1,
              "#f0f921"
             ]
            ],
            "type": "heatmap"
           }
          ],
          "heatmapgl": [
           {
            "colorbar": {
             "outlinewidth": 0,
             "ticks": ""
            },
            "colorscale": [
             [
              0,
              "#0d0887"
             ],
             [
              0.1111111111111111,
              "#46039f"
             ],
             [
              0.2222222222222222,
              "#7201a8"
             ],
             [
              0.3333333333333333,
              "#9c179e"
             ],
             [
              0.4444444444444444,
              "#bd3786"
             ],
             [
              0.5555555555555556,
              "#d8576b"
             ],
             [
              0.6666666666666666,
              "#ed7953"
             ],
             [
              0.7777777777777778,
              "#fb9f3a"
             ],
             [
              0.8888888888888888,
              "#fdca26"
             ],
             [
              1,
              "#f0f921"
             ]
            ],
            "type": "heatmapgl"
           }
          ],
          "histogram": [
           {
            "marker": {
             "colorbar": {
              "outlinewidth": 0,
              "ticks": ""
             }
            },
            "type": "histogram"
           }
          ],
          "histogram2d": [
           {
            "colorbar": {
             "outlinewidth": 0,
             "ticks": ""
            },
            "colorscale": [
             [
              0,
              "#0d0887"
             ],
             [
              0.1111111111111111,
              "#46039f"
             ],
             [
              0.2222222222222222,
              "#7201a8"
             ],
             [
              0.3333333333333333,
              "#9c179e"
             ],
             [
              0.4444444444444444,
              "#bd3786"
             ],
             [
              0.5555555555555556,
              "#d8576b"
             ],
             [
              0.6666666666666666,
              "#ed7953"
             ],
             [
              0.7777777777777778,
              "#fb9f3a"
             ],
             [
              0.8888888888888888,
              "#fdca26"
             ],
             [
              1,
              "#f0f921"
             ]
            ],
            "type": "histogram2d"
           }
          ],
          "histogram2dcontour": [
           {
            "colorbar": {
             "outlinewidth": 0,
             "ticks": ""
            },
            "colorscale": [
             [
              0,
              "#0d0887"
             ],
             [
              0.1111111111111111,
              "#46039f"
             ],
             [
              0.2222222222222222,
              "#7201a8"
             ],
             [
              0.3333333333333333,
              "#9c179e"
             ],
             [
              0.4444444444444444,
              "#bd3786"
             ],
             [
              0.5555555555555556,
              "#d8576b"
             ],
             [
              0.6666666666666666,
              "#ed7953"
             ],
             [
              0.7777777777777778,
              "#fb9f3a"
             ],
             [
              0.8888888888888888,
              "#fdca26"
             ],
             [
              1,
              "#f0f921"
             ]
            ],
            "type": "histogram2dcontour"
           }
          ],
          "mesh3d": [
           {
            "colorbar": {
             "outlinewidth": 0,
             "ticks": ""
            },
            "type": "mesh3d"
           }
          ],
          "parcoords": [
           {
            "line": {
             "colorbar": {
              "outlinewidth": 0,
              "ticks": ""
             }
            },
            "type": "parcoords"
           }
          ],
          "pie": [
           {
            "automargin": true,
            "type": "pie"
           }
          ],
          "scatter": [
           {
            "marker": {
             "colorbar": {
              "outlinewidth": 0,
              "ticks": ""
             }
            },
            "type": "scatter"
           }
          ],
          "scatter3d": [
           {
            "line": {
             "colorbar": {
              "outlinewidth": 0,
              "ticks": ""
             }
            },
            "marker": {
             "colorbar": {
              "outlinewidth": 0,
              "ticks": ""
             }
            },
            "type": "scatter3d"
           }
          ],
          "scattercarpet": [
           {
            "marker": {
             "colorbar": {
              "outlinewidth": 0,
              "ticks": ""
             }
            },
            "type": "scattercarpet"
           }
          ],
          "scattergeo": [
           {
            "marker": {
             "colorbar": {
              "outlinewidth": 0,
              "ticks": ""
             }
            },
            "type": "scattergeo"
           }
          ],
          "scattergl": [
           {
            "marker": {
             "colorbar": {
              "outlinewidth": 0,
              "ticks": ""
             }
            },
            "type": "scattergl"
           }
          ],
          "scattermapbox": [
           {
            "marker": {
             "colorbar": {
              "outlinewidth": 0,
              "ticks": ""
             }
            },
            "type": "scattermapbox"
           }
          ],
          "scatterpolar": [
           {
            "marker": {
             "colorbar": {
              "outlinewidth": 0,
              "ticks": ""
             }
            },
            "type": "scatterpolar"
           }
          ],
          "scatterpolargl": [
           {
            "marker": {
             "colorbar": {
              "outlinewidth": 0,
              "ticks": ""
             }
            },
            "type": "scatterpolargl"
           }
          ],
          "scatterternary": [
           {
            "marker": {
             "colorbar": {
              "outlinewidth": 0,
              "ticks": ""
             }
            },
            "type": "scatterternary"
           }
          ],
          "surface": [
           {
            "colorbar": {
             "outlinewidth": 0,
             "ticks": ""
            },
            "colorscale": [
             [
              0,
              "#0d0887"
             ],
             [
              0.1111111111111111,
              "#46039f"
             ],
             [
              0.2222222222222222,
              "#7201a8"
             ],
             [
              0.3333333333333333,
              "#9c179e"
             ],
             [
              0.4444444444444444,
              "#bd3786"
             ],
             [
              0.5555555555555556,
              "#d8576b"
             ],
             [
              0.6666666666666666,
              "#ed7953"
             ],
             [
              0.7777777777777778,
              "#fb9f3a"
             ],
             [
              0.8888888888888888,
              "#fdca26"
             ],
             [
              1,
              "#f0f921"
             ]
            ],
            "type": "surface"
           }
          ],
          "table": [
           {
            "cells": {
             "fill": {
              "color": "#EBF0F8"
             },
             "line": {
              "color": "white"
             }
            },
            "header": {
             "fill": {
              "color": "#C8D4E3"
             },
             "line": {
              "color": "white"
             }
            },
            "type": "table"
           }
          ]
         },
         "layout": {
          "annotationdefaults": {
           "arrowcolor": "#2a3f5f",
           "arrowhead": 0,
           "arrowwidth": 1
          },
          "autotypenumbers": "strict",
          "coloraxis": {
           "colorbar": {
            "outlinewidth": 0,
            "ticks": ""
           }
          },
          "colorscale": {
           "diverging": [
            [
             0,
             "#8e0152"
            ],
            [
             0.1,
             "#c51b7d"
            ],
            [
             0.2,
             "#de77ae"
            ],
            [
             0.3,
             "#f1b6da"
            ],
            [
             0.4,
             "#fde0ef"
            ],
            [
             0.5,
             "#f7f7f7"
            ],
            [
             0.6,
             "#e6f5d0"
            ],
            [
             0.7,
             "#b8e186"
            ],
            [
             0.8,
             "#7fbc41"
            ],
            [
             0.9,
             "#4d9221"
            ],
            [
             1,
             "#276419"
            ]
           ],
           "sequential": [
            [
             0,
             "#0d0887"
            ],
            [
             0.1111111111111111,
             "#46039f"
            ],
            [
             0.2222222222222222,
             "#7201a8"
            ],
            [
             0.3333333333333333,
             "#9c179e"
            ],
            [
             0.4444444444444444,
             "#bd3786"
            ],
            [
             0.5555555555555556,
             "#d8576b"
            ],
            [
             0.6666666666666666,
             "#ed7953"
            ],
            [
             0.7777777777777778,
             "#fb9f3a"
            ],
            [
             0.8888888888888888,
             "#fdca26"
            ],
            [
             1,
             "#f0f921"
            ]
           ],
           "sequentialminus": [
            [
             0,
             "#0d0887"
            ],
            [
             0.1111111111111111,
             "#46039f"
            ],
            [
             0.2222222222222222,
             "#7201a8"
            ],
            [
             0.3333333333333333,
             "#9c179e"
            ],
            [
             0.4444444444444444,
             "#bd3786"
            ],
            [
             0.5555555555555556,
             "#d8576b"
            ],
            [
             0.6666666666666666,
             "#ed7953"
            ],
            [
             0.7777777777777778,
             "#fb9f3a"
            ],
            [
             0.8888888888888888,
             "#fdca26"
            ],
            [
             1,
             "#f0f921"
            ]
           ]
          },
          "colorway": [
           "#636efa",
           "#EF553B",
           "#00cc96",
           "#ab63fa",
           "#FFA15A",
           "#19d3f3",
           "#FF6692",
           "#B6E880",
           "#FF97FF",
           "#FECB52"
          ],
          "font": {
           "color": "#2a3f5f"
          },
          "geo": {
           "bgcolor": "white",
           "lakecolor": "white",
           "landcolor": "#E5ECF6",
           "showlakes": true,
           "showland": true,
           "subunitcolor": "white"
          },
          "hoverlabel": {
           "align": "left"
          },
          "hovermode": "closest",
          "mapbox": {
           "style": "light"
          },
          "paper_bgcolor": "white",
          "plot_bgcolor": "#E5ECF6",
          "polar": {
           "angularaxis": {
            "gridcolor": "white",
            "linecolor": "white",
            "ticks": ""
           },
           "bgcolor": "#E5ECF6",
           "radialaxis": {
            "gridcolor": "white",
            "linecolor": "white",
            "ticks": ""
           }
          },
          "scene": {
           "xaxis": {
            "backgroundcolor": "#E5ECF6",
            "gridcolor": "white",
            "gridwidth": 2,
            "linecolor": "white",
            "showbackground": true,
            "ticks": "",
            "zerolinecolor": "white"
           },
           "yaxis": {
            "backgroundcolor": "#E5ECF6",
            "gridcolor": "white",
            "gridwidth": 2,
            "linecolor": "white",
            "showbackground": true,
            "ticks": "",
            "zerolinecolor": "white"
           },
           "zaxis": {
            "backgroundcolor": "#E5ECF6",
            "gridcolor": "white",
            "gridwidth": 2,
            "linecolor": "white",
            "showbackground": true,
            "ticks": "",
            "zerolinecolor": "white"
           }
          },
          "shapedefaults": {
           "line": {
            "color": "#2a3f5f"
           }
          },
          "ternary": {
           "aaxis": {
            "gridcolor": "white",
            "linecolor": "white",
            "ticks": ""
           },
           "baxis": {
            "gridcolor": "white",
            "linecolor": "white",
            "ticks": ""
           },
           "bgcolor": "#E5ECF6",
           "caxis": {
            "gridcolor": "white",
            "linecolor": "white",
            "ticks": ""
           }
          },
          "title": {
           "x": 0.05
          },
          "xaxis": {
           "automargin": true,
           "gridcolor": "white",
           "linecolor": "white",
           "ticks": "",
           "title": {
            "standoff": 15
           },
           "zerolinecolor": "white",
           "zerolinewidth": 2
          },
          "yaxis": {
           "automargin": true,
           "gridcolor": "white",
           "linecolor": "white",
           "ticks": "",
           "title": {
            "standoff": 15
           },
           "zerolinecolor": "white",
           "zerolinewidth": 2
          }
         }
        },
        "title": {
         "text": "Stability on dataset mnist"
        },
        "xaxis": {
         "anchor": "y",
         "domain": [
          0,
          1
         ],
         "title": {
          "text": "batches"
         }
        },
        "yaxis": {
         "anchor": "x",
         "domain": [
          0,
          1
         ],
         "title": {
          "text": "stability"
         }
        }
       }
      }
     },
     "metadata": {}
    }
   ],
   "source": [
    "# stability\n",
    "title = \"Stability on dataset {}\".format(dataset_name)\n",
    "col_names = [\"FIRES\", \"OFS\", \"OFSSGD\", \"FSDS\"]\n",
    "d = {\"FIRES\":fires_cuda_stability, \"OFS\":ofs_stability, \n",
    "\"OFSSGD\":ofssgd_stability, \"FSDS\":fsds_stability}\n",
    "df = pd.DataFrame(d, columns=col_names)\n",
    "fig = px.line(df, y = col_names, title=title, labels={\"index\":\"batches\", \"value\":\"stability\"})\n",
    "fig.show()"
   ]
  },
  {
   "cell_type": "code",
   "execution_count": 30,
   "metadata": {},
   "outputs": [
    {
     "output_type": "display_data",
     "data": {
      "application/vnd.plotly.v1+json": {
       "config": {
        "plotlyServerURL": "https://plot.ly"
       },
       "data": [
        {
         "hovertemplate": "variable=FIRES<br>batches=%{x}<br>accuracy=%{y}<extra></extra>",
         "legendgroup": "FIRES",
         "line": {
          "color": "#636efa",
          "dash": "solid"
         },
         "mode": "lines",
         "name": "FIRES",
         "showlegend": true,
         "type": "scattergl",
         "x": [
          0,
          1,
          2,
          3,
          4,
          5,
          6,
          7,
          8,
          9,
          10,
          11,
          12,
          13,
          14,
          15,
          16,
          17,
          18,
          19,
          20,
          21,
          22,
          23,
          24,
          25,
          26,
          27,
          28,
          29,
          30,
          31,
          32,
          33,
          34,
          35,
          36,
          37,
          38,
          39,
          40,
          41,
          42,
          43,
          44,
          45,
          46,
          47,
          48,
          49,
          50,
          51,
          52,
          53,
          54,
          55,
          56,
          57,
          58,
          59,
          60,
          61,
          62,
          63,
          64,
          65,
          66,
          67,
          68,
          69,
          70,
          71,
          72,
          73,
          74,
          75,
          76,
          77,
          78,
          79,
          80,
          81,
          82,
          83,
          84,
          85,
          86,
          87,
          88,
          89,
          90,
          91,
          92,
          93,
          94,
          95,
          96,
          97,
          98,
          99,
          100,
          101,
          102,
          103,
          104,
          105,
          106,
          107,
          108,
          109,
          110,
          111,
          112,
          113,
          114,
          115,
          116,
          117,
          118,
          119,
          120,
          121,
          122,
          123,
          124,
          125,
          126,
          127,
          128,
          129,
          130,
          131,
          132,
          133,
          134,
          135,
          136,
          137,
          138,
          139,
          140,
          141,
          142,
          143,
          144,
          145,
          146,
          147,
          148,
          149,
          150,
          151,
          152,
          153,
          154,
          155,
          156,
          157,
          158,
          159,
          160,
          161,
          162,
          163,
          164,
          165,
          166,
          167,
          168,
          169,
          170,
          171,
          172,
          173,
          174,
          175,
          176,
          177,
          178,
          179,
          180,
          181,
          182,
          183,
          184,
          185,
          186,
          187,
          188,
          189,
          190,
          191,
          192,
          193,
          194,
          195,
          196,
          197,
          198,
          199,
          200,
          201,
          202,
          203,
          204,
          205,
          206,
          207,
          208,
          209,
          210,
          211,
          212,
          213,
          214,
          215,
          216,
          217,
          218,
          219,
          220,
          221,
          222,
          223,
          224,
          225,
          226,
          227,
          228,
          229,
          230,
          231,
          232,
          233,
          234,
          235,
          236,
          237,
          238,
          239,
          240,
          241,
          242,
          243,
          244,
          245,
          246,
          247,
          248,
          249,
          250,
          251,
          252,
          253,
          254,
          255,
          256,
          257,
          258,
          259,
          260,
          261,
          262,
          263,
          264,
          265,
          266,
          267,
          268,
          269,
          270,
          271,
          272,
          273,
          274,
          275,
          276,
          277,
          278,
          279,
          280,
          281,
          282,
          283,
          284,
          285,
          286,
          287,
          288,
          289,
          290,
          291,
          292,
          293,
          294,
          295,
          296,
          297,
          298,
          299,
          300,
          301,
          302,
          303,
          304,
          305,
          306,
          307,
          308,
          309,
          310,
          311,
          312,
          313,
          314,
          315,
          316,
          317,
          318,
          319,
          320,
          321,
          322,
          323,
          324,
          325,
          326,
          327,
          328,
          329,
          330,
          331,
          332,
          333,
          334,
          335,
          336,
          337,
          338,
          339,
          340,
          341,
          342,
          343,
          344,
          345,
          346,
          347,
          348,
          349,
          350,
          351,
          352,
          353,
          354,
          355,
          356,
          357,
          358,
          359,
          360,
          361,
          362,
          363,
          364,
          365,
          366,
          367,
          368,
          369,
          370,
          371,
          372,
          373,
          374,
          375,
          376,
          377,
          378,
          379,
          380,
          381,
          382,
          383,
          384,
          385,
          386,
          387,
          388,
          389,
          390,
          391,
          392,
          393,
          394,
          395,
          396,
          397,
          398,
          399,
          400,
          401,
          402,
          403,
          404,
          405,
          406,
          407,
          408,
          409,
          410,
          411,
          412,
          413,
          414,
          415,
          416,
          417,
          418,
          419,
          420,
          421,
          422,
          423,
          424,
          425,
          426,
          427,
          428,
          429,
          430,
          431,
          432,
          433,
          434,
          435,
          436,
          437,
          438,
          439,
          440,
          441,
          442,
          443,
          444,
          445,
          446,
          447,
          448,
          449,
          450,
          451,
          452,
          453,
          454,
          455,
          456,
          457,
          458,
          459,
          460,
          461,
          462,
          463,
          464,
          465,
          466,
          467,
          468,
          469,
          470,
          471,
          472,
          473,
          474,
          475,
          476,
          477,
          478,
          479,
          480,
          481,
          482,
          483,
          484,
          485,
          486,
          487,
          488,
          489,
          490,
          491,
          492,
          493,
          494,
          495,
          496,
          497,
          498,
          499,
          500,
          501,
          502,
          503,
          504,
          505,
          506,
          507,
          508,
          509,
          510,
          511,
          512,
          513,
          514,
          515,
          516,
          517,
          518,
          519,
          520,
          521,
          522,
          523,
          524,
          525,
          526,
          527,
          528,
          529,
          530,
          531,
          532,
          533,
          534,
          535,
          536,
          537,
          538,
          539,
          540,
          541,
          542,
          543,
          544,
          545,
          546,
          547,
          548,
          549,
          550,
          551,
          552,
          553,
          554,
          555,
          556,
          557,
          558,
          559,
          560,
          561,
          562,
          563,
          564,
          565,
          566,
          567,
          568,
          569,
          570,
          571,
          572,
          573,
          574,
          575,
          576,
          577,
          578,
          579,
          580,
          581,
          582,
          583,
          584,
          585,
          586,
          587,
          588,
          589
         ],
         "xaxis": "x",
         "y": [
          0.513,
          0.536,
          0.536,
          0.534,
          0.5359999999999999,
          0.5439999999999999,
          0.563,
          0.5700000000000001,
          0.5880000000000001,
          0.592,
          0.6,
          0.619,
          0.638,
          0.651,
          0.649,
          0.662,
          0.6529999999999999,
          0.646,
          0.651,
          0.6519999999999999,
          0.664,
          0.6519999999999999,
          0.637,
          0.617,
          0.635,
          0.635,
          0.628,
          0.6380000000000001,
          0.63,
          0.632,
          0.627,
          0.634,
          0.635,
          0.638,
          0.63,
          0.629,
          0.632,
          0.623,
          0.624,
          0.617,
          0.601,
          0.5900000000000001,
          0.5999999999999999,
          0.613,
          0.62,
          0.624,
          0.622,
          0.621,
          0.623,
          0.623,
          0.647,
          0.657,
          0.662,
          0.675,
          0.6769999999999999,
          0.671,
          0.679,
          0.692,
          0.6839999999999999,
          0.683,
          0.6819999999999999,
          0.683,
          0.669,
          0.655,
          0.638,
          0.646,
          0.64,
          0.632,
          0.6260000000000001,
          0.631,
          0.635,
          0.6359999999999999,
          0.6439999999999999,
          0.645,
          0.661,
          0.654,
          0.65,
          0.639,
          0.642,
          0.638,
          0.639,
          0.642,
          0.652,
          0.652,
          0.654,
          0.651,
          0.655,
          0.674,
          0.692,
          0.704,
          0.6940000000000001,
          0.7020000000000001,
          0.679,
          0.693,
          0.6859999999999999,
          0.6880000000000001,
          0.6759999999999999,
          0.675,
          0.6689999999999999,
          0.662,
          0.6729999999999999,
          0.671,
          0.697,
          0.6970000000000001,
          0.709,
          0.702,
          0.7140000000000001,
          0.6980000000000001,
          0.6940000000000001,
          0.6960000000000001,
          0.671,
          0.662,
          0.662,
          0.655,
          0.639,
          0.65,
          0.646,
          0.658,
          0.661,
          0.65,
          0.655,
          0.647,
          0.648,
          0.639,
          0.653,
          0.651,
          0.65,
          0.658,
          0.6619999999999999,
          0.6659999999999999,
          0.667,
          0.671,
          0.6619999999999999,
          0.661,
          0.6519999999999999,
          0.649,
          0.637,
          0.628,
          0.615,
          0.618,
          0.631,
          0.623,
          0.625,
          0.6369999999999999,
          0.645,
          0.6479999999999999,
          0.667,
          0.661,
          0.663,
          0.659,
          0.6479999999999999,
          0.6689999999999999,
          0.673,
          0.678,
          0.6849999999999999,
          0.6950000000000001,
          0.693,
          0.707,
          0.708,
          0.7140000000000001,
          0.7140000000000001,
          0.704,
          0.696,
          0.6679999999999999,
          0.655,
          0.632,
          0.635,
          0.619,
          0.631,
          0.631,
          0.643,
          0.648,
          0.645,
          0.667,
          0.663,
          0.678,
          0.6769999999999999,
          0.693,
          0.689,
          0.6910000000000001,
          0.681,
          0.6779999999999999,
          0.6849999999999999,
          0.6819999999999999,
          0.688,
          0.6819999999999999,
          0.6849999999999999,
          0.6900000000000001,
          0.6809999999999999,
          0.6839999999999999,
          0.6809999999999999,
          0.669,
          0.661,
          0.6599999999999999,
          0.663,
          0.672,
          0.6769999999999999,
          0.679,
          0.679,
          0.67,
          0.671,
          0.69,
          0.706,
          0.7050000000000001,
          0.71,
          0.706,
          0.6990000000000001,
          0.704,
          0.726,
          0.74,
          0.752,
          0.734,
          0.721,
          0.721,
          0.6970000000000001,
          0.678,
          0.683,
          0.671,
          0.656,
          0.6529999999999999,
          0.655,
          0.669,
          0.679,
          0.688,
          0.702,
          0.716,
          0.713,
          0.703,
          0.7,
          0.7,
          0.6869999999999999,
          0.678,
          0.664,
          0.667,
          0.6639999999999999,
          0.6619999999999999,
          0.654,
          0.649,
          0.645,
          0.643,
          0.656,
          0.6639999999999999,
          0.6639999999999999,
          0.654,
          0.662,
          0.678,
          0.6839999999999999,
          0.7050000000000001,
          0.717,
          0.717,
          0.716,
          0.726,
          0.728,
          0.726,
          0.726,
          0.716,
          0.7,
          0.69,
          0.688,
          0.6799999999999999,
          0.6819999999999999,
          0.669,
          0.686,
          0.692,
          0.6940000000000001,
          0.689,
          0.7070000000000001,
          0.697,
          0.699,
          0.717,
          0.726,
          0.724,
          0.7070000000000001,
          0.7030000000000001,
          0.682,
          0.693,
          0.6769999999999999,
          0.686,
          0.685,
          0.675,
          0.657,
          0.651,
          0.651,
          0.647,
          0.6719999999999999,
          0.677,
          0.6980000000000001,
          0.702,
          0.692,
          0.6769999999999999,
          0.663,
          0.6639999999999999,
          0.6719999999999999,
          0.6900000000000001,
          0.674,
          0.656,
          0.646,
          0.6460000000000001,
          0.649,
          0.6699999999999999,
          0.684,
          0.6950000000000001,
          0.686,
          0.6719999999999999,
          0.663,
          0.654,
          0.649,
          0.633,
          0.641,
          0.625,
          0.621,
          0.6140000000000001,
          0.604,
          0.5980000000000001,
          0.61,
          0.616,
          0.621,
          0.631,
          0.627,
          0.635,
          0.645,
          0.649,
          0.664,
          0.663,
          0.663,
          0.667,
          0.674,
          0.671,
          0.6789999999999999,
          0.688,
          0.682,
          0.6880000000000001,
          0.698,
          0.7110000000000001,
          0.714,
          0.717,
          0.713,
          0.7130000000000001,
          0.6930000000000001,
          0.677,
          0.6799999999999999,
          0.6769999999999999,
          0.674,
          0.67,
          0.674,
          0.6799999999999999,
          0.679,
          0.678,
          0.6900000000000001,
          0.6950000000000001,
          0.679,
          0.663,
          0.6599999999999999,
          0.658,
          0.6439999999999999,
          0.637,
          0.627,
          0.642,
          0.633,
          0.6449999999999999,
          0.6609999999999999,
          0.6689999999999999,
          0.664,
          0.6649999999999999,
          0.678,
          0.675,
          0.6839999999999999,
          0.674,
          0.682,
          0.676,
          0.668,
          0.651,
          0.659,
          0.661,
          0.666,
          0.667,
          0.663,
          0.661,
          0.662,
          0.655,
          0.671,
          0.6880000000000001,
          0.6940000000000001,
          0.678,
          0.662,
          0.664,
          0.675,
          0.671,
          0.664,
          0.665,
          0.6599999999999999,
          0.6609999999999999,
          0.655,
          0.682,
          0.686,
          0.679,
          0.674,
          0.687,
          0.698,
          0.706,
          0.7050000000000001,
          0.704,
          0.7,
          0.671,
          0.6769999999999999,
          0.6759999999999999,
          0.6799999999999999,
          0.6809999999999999,
          0.675,
          0.6679999999999999,
          0.662,
          0.667,
          0.669,
          0.6769999999999999,
          0.67,
          0.678,
          0.68,
          0.678,
          0.678,
          0.6649999999999999,
          0.654,
          0.644,
          0.6439999999999999,
          0.664,
          0.681,
          0.6799999999999999,
          0.683,
          0.687,
          0.6799999999999999,
          0.692,
          0.693,
          0.7030000000000001,
          0.6900000000000001,
          0.6819999999999999,
          0.6769999999999999,
          0.679,
          0.6789999999999999,
          0.6759999999999999,
          0.682,
          0.687,
          0.693,
          0.6859999999999999,
          0.7,
          0.708,
          0.6990000000000001,
          0.71,
          0.7020000000000001,
          0.7020000000000001,
          0.7,
          0.705,
          0.6970000000000001,
          0.7050000000000001,
          0.6980000000000001,
          0.666,
          0.671,
          0.6659999999999999,
          0.6679999999999999,
          0.6689999999999999,
          0.674,
          0.66,
          0.6769999999999999,
          0.6719999999999999,
          0.672,
          0.6759999999999999,
          0.666,
          0.661,
          0.652,
          0.645,
          0.658,
          0.6719999999999999,
          0.662,
          0.6719999999999999,
          0.6839999999999999,
          0.6990000000000001,
          0.712,
          0.716,
          0.7190000000000001,
          0.717,
          0.709,
          0.6940000000000001,
          0.6940000000000001,
          0.682,
          0.672,
          0.681,
          0.673,
          0.655,
          0.654,
          0.658,
          0.655,
          0.667,
          0.6719999999999999,
          0.687,
          0.6839999999999999,
          0.6649999999999999,
          0.6559999999999999,
          0.658,
          0.6689999999999999,
          0.666,
          0.676,
          0.6719999999999999,
          0.6759999999999999,
          0.664,
          0.667,
          0.677,
          0.6970000000000001,
          0.72,
          0.7210000000000001,
          0.7260000000000001,
          0.727,
          0.7270000000000001,
          0.72,
          0.71,
          0.71,
          0.709,
          0.6960000000000001,
          0.6940000000000001,
          0.692,
          0.692,
          0.678,
          0.6759999999999999,
          0.678,
          0.6799999999999999,
          0.675,
          0.686,
          0.6990000000000001,
          0.696,
          0.692,
          0.701,
          0.705,
          0.7,
          0.693,
          0.7010000000000001,
          0.7190000000000001,
          0.71,
          0.6990000000000001,
          0.6990000000000001,
          0.702,
          0.682,
          0.683,
          0.668,
          0.6779999999999999,
          0.6849999999999999,
          0.6769999999999999,
          0.678,
          0.673,
          0.6779999999999999,
          0.6839999999999999,
          0.692,
          0.697,
          0.72,
          0.73,
          0.716,
          0.724,
          0.721,
          0.725,
          0.7220000000000001,
          0.716,
          0.712,
          0.7190000000000001,
          0.724,
          0.7020000000000001,
          0.722,
          0.7100000000000001,
          0.717,
          0.716,
          0.706,
          0.7060000000000001,
          0.712,
          0.71,
          0.709,
          0.723,
          0.718,
          0.7289999999999999,
          0.724,
          0.732,
          0.741,
          0.747,
          0.759,
          0.756,
          0.765,
          0.778,
          0.789,
          0.7899999999999999,
          0.7809999999999999,
          0.775,
          0.774,
          0.749,
          0.733,
          0.738,
          0.725
         ],
         "yaxis": "y"
        },
        {
         "hovertemplate": "variable=OFS<br>batches=%{x}<br>accuracy=%{y}<extra></extra>",
         "legendgroup": "OFS",
         "line": {
          "color": "#EF553B",
          "dash": "solid"
         },
         "mode": "lines",
         "name": "OFS",
         "showlegend": true,
         "type": "scattergl",
         "x": [
          0,
          1,
          2,
          3,
          4,
          5,
          6,
          7,
          8,
          9,
          10,
          11,
          12,
          13,
          14,
          15,
          16,
          17,
          18,
          19,
          20,
          21,
          22,
          23,
          24,
          25,
          26,
          27,
          28,
          29,
          30,
          31,
          32,
          33,
          34,
          35,
          36,
          37,
          38,
          39,
          40,
          41,
          42,
          43,
          44,
          45,
          46,
          47,
          48,
          49,
          50,
          51,
          52,
          53,
          54,
          55,
          56,
          57,
          58,
          59,
          60,
          61,
          62,
          63,
          64,
          65,
          66,
          67,
          68,
          69,
          70,
          71,
          72,
          73,
          74,
          75,
          76,
          77,
          78,
          79,
          80,
          81,
          82,
          83,
          84,
          85,
          86,
          87,
          88,
          89,
          90,
          91,
          92,
          93,
          94,
          95,
          96,
          97,
          98,
          99,
          100,
          101,
          102,
          103,
          104,
          105,
          106,
          107,
          108,
          109,
          110,
          111,
          112,
          113,
          114,
          115,
          116,
          117,
          118,
          119,
          120,
          121,
          122,
          123,
          124,
          125,
          126,
          127,
          128,
          129,
          130,
          131,
          132,
          133,
          134,
          135,
          136,
          137,
          138,
          139,
          140,
          141,
          142,
          143,
          144,
          145,
          146,
          147,
          148,
          149,
          150,
          151,
          152,
          153,
          154,
          155,
          156,
          157,
          158,
          159,
          160,
          161,
          162,
          163,
          164,
          165,
          166,
          167,
          168,
          169,
          170,
          171,
          172,
          173,
          174,
          175,
          176,
          177,
          178,
          179,
          180,
          181,
          182,
          183,
          184,
          185,
          186,
          187,
          188,
          189,
          190,
          191,
          192,
          193,
          194,
          195,
          196,
          197,
          198,
          199,
          200,
          201,
          202,
          203,
          204,
          205,
          206,
          207,
          208,
          209,
          210,
          211,
          212,
          213,
          214,
          215,
          216,
          217,
          218,
          219,
          220,
          221,
          222,
          223,
          224,
          225,
          226,
          227,
          228,
          229,
          230,
          231,
          232,
          233,
          234,
          235,
          236,
          237,
          238,
          239,
          240,
          241,
          242,
          243,
          244,
          245,
          246,
          247,
          248,
          249,
          250,
          251,
          252,
          253,
          254,
          255,
          256,
          257,
          258,
          259,
          260,
          261,
          262,
          263,
          264,
          265,
          266,
          267,
          268,
          269,
          270,
          271,
          272,
          273,
          274,
          275,
          276,
          277,
          278,
          279,
          280,
          281,
          282,
          283,
          284,
          285,
          286,
          287,
          288,
          289,
          290,
          291,
          292,
          293,
          294,
          295,
          296,
          297,
          298,
          299,
          300,
          301,
          302,
          303,
          304,
          305,
          306,
          307,
          308,
          309,
          310,
          311,
          312,
          313,
          314,
          315,
          316,
          317,
          318,
          319,
          320,
          321,
          322,
          323,
          324,
          325,
          326,
          327,
          328,
          329,
          330,
          331,
          332,
          333,
          334,
          335,
          336,
          337,
          338,
          339,
          340,
          341,
          342,
          343,
          344,
          345,
          346,
          347,
          348,
          349,
          350,
          351,
          352,
          353,
          354,
          355,
          356,
          357,
          358,
          359,
          360,
          361,
          362,
          363,
          364,
          365,
          366,
          367,
          368,
          369,
          370,
          371,
          372,
          373,
          374,
          375,
          376,
          377,
          378,
          379,
          380,
          381,
          382,
          383,
          384,
          385,
          386,
          387,
          388,
          389,
          390,
          391,
          392,
          393,
          394,
          395,
          396,
          397,
          398,
          399,
          400,
          401,
          402,
          403,
          404,
          405,
          406,
          407,
          408,
          409,
          410,
          411,
          412,
          413,
          414,
          415,
          416,
          417,
          418,
          419,
          420,
          421,
          422,
          423,
          424,
          425,
          426,
          427,
          428,
          429,
          430,
          431,
          432,
          433,
          434,
          435,
          436,
          437,
          438,
          439,
          440,
          441,
          442,
          443,
          444,
          445,
          446,
          447,
          448,
          449,
          450,
          451,
          452,
          453,
          454,
          455,
          456,
          457,
          458,
          459,
          460,
          461,
          462,
          463,
          464,
          465,
          466,
          467,
          468,
          469,
          470,
          471,
          472,
          473,
          474,
          475,
          476,
          477,
          478,
          479,
          480,
          481,
          482,
          483,
          484,
          485,
          486,
          487,
          488,
          489,
          490,
          491,
          492,
          493,
          494,
          495,
          496,
          497,
          498,
          499,
          500,
          501,
          502,
          503,
          504,
          505,
          506,
          507,
          508,
          509,
          510,
          511,
          512,
          513,
          514,
          515,
          516,
          517,
          518,
          519,
          520,
          521,
          522,
          523,
          524,
          525,
          526,
          527,
          528,
          529,
          530,
          531,
          532,
          533,
          534,
          535,
          536,
          537,
          538,
          539,
          540,
          541,
          542,
          543,
          544,
          545,
          546,
          547,
          548,
          549,
          550,
          551,
          552,
          553,
          554,
          555,
          556,
          557,
          558,
          559,
          560,
          561,
          562,
          563,
          564,
          565,
          566,
          567,
          568,
          569,
          570,
          571,
          572,
          573,
          574,
          575,
          576,
          577,
          578,
          579,
          580,
          581,
          582,
          583,
          584,
          585,
          586,
          587,
          588,
          589
         ],
         "xaxis": "x",
         "y": [
          0.602,
          0.615,
          0.6090000000000001,
          0.6180000000000001,
          0.623,
          0.63,
          0.6599999999999999,
          0.673,
          0.6849999999999999,
          0.682,
          0.691,
          0.711,
          0.73,
          0.739,
          0.738,
          0.738,
          0.736,
          0.729,
          0.733,
          0.74,
          0.7310000000000001,
          0.732,
          0.73,
          0.732,
          0.753,
          0.752,
          0.758,
          0.768,
          0.7649999999999999,
          0.767,
          0.788,
          0.792,
          0.8009999999999999,
          0.7949999999999999,
          0.788,
          0.8019999999999999,
          0.792,
          0.7769999999999999,
          0.777,
          0.7699999999999999,
          0.754,
          0.74,
          0.743,
          0.7499999999999999,
          0.747,
          0.746,
          0.75,
          0.7619999999999999,
          0.756,
          0.767,
          0.779,
          0.792,
          0.792,
          0.7949999999999999,
          0.794,
          0.7969999999999999,
          0.799,
          0.806,
          0.805,
          0.7949999999999999,
          0.796,
          0.7929999999999999,
          0.7729999999999999,
          0.764,
          0.76,
          0.748,
          0.7369999999999999,
          0.724,
          0.723,
          0.73,
          0.731,
          0.726,
          0.739,
          0.7369999999999999,
          0.736,
          0.727,
          0.7270000000000001,
          0.709,
          0.71,
          0.708,
          0.711,
          0.712,
          0.7140000000000001,
          0.716,
          0.717,
          0.729,
          0.735,
          0.766,
          0.782,
          0.792,
          0.7849999999999999,
          0.795,
          0.7869999999999999,
          0.783,
          0.7939999999999999,
          0.8039999999999999,
          0.799,
          0.792,
          0.7849999999999999,
          0.7769999999999999,
          0.791,
          0.788,
          0.805,
          0.808,
          0.804,
          0.788,
          0.7949999999999999,
          0.798,
          0.804,
          0.8089999999999999,
          0.784,
          0.788,
          0.7739999999999999,
          0.7699999999999999,
          0.757,
          0.756,
          0.747,
          0.747,
          0.744,
          0.736,
          0.727,
          0.719,
          0.726,
          0.726,
          0.745,
          0.7649999999999999,
          0.772,
          0.771,
          0.767,
          0.7689999999999999,
          0.772,
          0.7659999999999999,
          0.7619999999999999,
          0.752,
          0.74,
          0.729,
          0.718,
          0.705,
          0.6990000000000001,
          0.697,
          0.718,
          0.7130000000000001,
          0.725,
          0.742,
          0.7310000000000001,
          0.728,
          0.749,
          0.7470000000000001,
          0.744,
          0.7390000000000001,
          0.732,
          0.744,
          0.736,
          0.7310000000000001,
          0.752,
          0.7529999999999999,
          0.746,
          0.759,
          0.766,
          0.768,
          0.7649999999999999,
          0.769,
          0.761,
          0.76,
          0.752,
          0.739,
          0.733,
          0.719,
          0.72,
          0.727,
          0.7350000000000001,
          0.735,
          0.736,
          0.742,
          0.731,
          0.743,
          0.758,
          0.78,
          0.78,
          0.7689999999999999,
          0.771,
          0.764,
          0.7649999999999999,
          0.764,
          0.775,
          0.773,
          0.764,
          0.7609999999999999,
          0.763,
          0.782,
          0.771,
          0.768,
          0.765,
          0.775,
          0.781,
          0.7889999999999999,
          0.7909999999999999,
          0.791,
          0.788,
          0.7689999999999999,
          0.7689999999999999,
          0.7769999999999999,
          0.7909999999999999,
          0.7689999999999999,
          0.772,
          0.763,
          0.759,
          0.762,
          0.772,
          0.79,
          0.8019999999999999,
          0.8029999999999999,
          0.794,
          0.808,
          0.7889999999999999,
          0.776,
          0.773,
          0.762,
          0.7529999999999999,
          0.7529999999999999,
          0.747,
          0.751,
          0.756,
          0.752,
          0.767,
          0.782,
          0.784,
          0.7859999999999999,
          0.774,
          0.7769999999999999,
          0.778,
          0.769,
          0.762,
          0.772,
          0.773,
          0.774,
          0.77,
          0.763,
          0.779,
          0.765,
          0.772,
          0.784,
          0.777,
          0.775,
          0.7769999999999999,
          0.7819999999999999,
          0.7899999999999999,
          0.798,
          0.792,
          0.7889999999999999,
          0.792,
          0.783,
          0.7949999999999999,
          0.7889999999999999,
          0.781,
          0.7809999999999999,
          0.7709999999999999,
          0.772,
          0.76,
          0.774,
          0.765,
          0.762,
          0.7649999999999999,
          0.762,
          0.759,
          0.761,
          0.7609999999999999,
          0.761,
          0.772,
          0.7729999999999999,
          0.775,
          0.7819999999999999,
          0.779,
          0.776,
          0.78,
          0.7739999999999999,
          0.774,
          0.767,
          0.7739999999999999,
          0.771,
          0.766,
          0.7549999999999999,
          0.749,
          0.756,
          0.761,
          0.7539999999999999,
          0.7689999999999999,
          0.7779999999999999,
          0.7669999999999999,
          0.751,
          0.7449999999999999,
          0.7449999999999999,
          0.7529999999999999,
          0.755,
          0.752,
          0.755,
          0.744,
          0.748,
          0.754,
          0.7659999999999999,
          0.774,
          0.779,
          0.766,
          0.756,
          0.754,
          0.76,
          0.752,
          0.734,
          0.729,
          0.7310000000000001,
          0.725,
          0.725,
          0.736,
          0.7350000000000001,
          0.725,
          0.7230000000000001,
          0.74,
          0.759,
          0.7649999999999999,
          0.755,
          0.758,
          0.761,
          0.757,
          0.767,
          0.776,
          0.7709999999999999,
          0.773,
          0.7709999999999999,
          0.784,
          0.8,
          0.8039999999999999,
          0.8109999999999999,
          0.8219999999999998,
          0.82,
          0.819,
          0.821,
          0.808,
          0.808,
          0.7929999999999999,
          0.778,
          0.77,
          0.759,
          0.753,
          0.752,
          0.754,
          0.767,
          0.775,
          0.776,
          0.7819999999999999,
          0.7939999999999999,
          0.7949999999999999,
          0.7979999999999999,
          0.8049999999999999,
          0.8109999999999999,
          0.8039999999999999,
          0.7989999999999999,
          0.7959999999999999,
          0.7899999999999999,
          0.781,
          0.78,
          0.784,
          0.779,
          0.7779999999999999,
          0.763,
          0.762,
          0.753,
          0.751,
          0.748,
          0.76,
          0.7589999999999999,
          0.7649999999999999,
          0.774,
          0.7699999999999999,
          0.779,
          0.7899999999999999,
          0.796,
          0.8049999999999999,
          0.8049999999999999,
          0.8049999999999999,
          0.807,
          0.7969999999999999,
          0.8,
          0.8,
          0.791,
          0.768,
          0.7689999999999999,
          0.767,
          0.763,
          0.755,
          0.7390000000000001,
          0.744,
          0.735,
          0.7270000000000001,
          0.7409999999999999,
          0.762,
          0.7510000000000001,
          0.748,
          0.766,
          0.768,
          0.7809999999999999,
          0.783,
          0.786,
          0.79,
          0.775,
          0.774,
          0.77,
          0.7769999999999999,
          0.763,
          0.765,
          0.7630000000000001,
          0.7630000000000001,
          0.765,
          0.768,
          0.773,
          0.772,
          0.78,
          0.77,
          0.78,
          0.779,
          0.7649999999999999,
          0.756,
          0.749,
          0.751,
          0.764,
          0.776,
          0.782,
          0.781,
          0.78,
          0.78,
          0.794,
          0.7969999999999999,
          0.8029999999999999,
          0.8,
          0.7939999999999999,
          0.789,
          0.7929999999999999,
          0.807,
          0.8019999999999999,
          0.7969999999999999,
          0.795,
          0.791,
          0.7869999999999999,
          0.7929999999999999,
          0.8039999999999999,
          0.7949999999999999,
          0.795,
          0.786,
          0.79,
          0.788,
          0.7899999999999999,
          0.796,
          0.7959999999999999,
          0.792,
          0.7729999999999999,
          0.778,
          0.773,
          0.779,
          0.776,
          0.782,
          0.78,
          0.779,
          0.7859999999999999,
          0.7809999999999999,
          0.7889999999999999,
          0.785,
          0.7769999999999999,
          0.757,
          0.749,
          0.758,
          0.759,
          0.764,
          0.772,
          0.781,
          0.7789999999999999,
          0.7899999999999999,
          0.8,
          0.8220000000000001,
          0.8380000000000001,
          0.8320000000000001,
          0.827,
          0.8240000000000001,
          0.807,
          0.795,
          0.792,
          0.775,
          0.76,
          0.751,
          0.742,
          0.743,
          0.741,
          0.739,
          0.748,
          0.76,
          0.7629999999999999,
          0.754,
          0.767,
          0.764,
          0.7569999999999999,
          0.755,
          0.7689999999999999,
          0.784,
          0.779,
          0.766,
          0.7709999999999999,
          0.783,
          0.792,
          0.7989999999999999,
          0.8089999999999999,
          0.813,
          0.8049999999999999,
          0.791,
          0.7789999999999999,
          0.776,
          0.776,
          0.788,
          0.7879999999999999,
          0.786,
          0.784,
          0.773,
          0.764,
          0.768,
          0.78,
          0.7929999999999999,
          0.7969999999999999,
          0.8,
          0.7929999999999999,
          0.795,
          0.8039999999999999,
          0.8150000000000001,
          0.8230000000000001,
          0.8089999999999999,
          0.8099999999999999,
          0.812,
          0.8089999999999999,
          0.798,
          0.8019999999999999,
          0.8059999999999998,
          0.7969999999999999,
          0.789,
          0.78,
          0.795,
          0.796,
          0.792,
          0.792,
          0.791,
          0.7889999999999999,
          0.776,
          0.7710000000000001,
          0.7779999999999999,
          0.7939999999999999,
          0.7969999999999999,
          0.807,
          0.8009999999999999,
          0.799,
          0.8019999999999999,
          0.805,
          0.8139999999999998,
          0.825,
          0.8239999999999998,
          0.825,
          0.819,
          0.819,
          0.8299999999999998,
          0.8240000000000001,
          0.827,
          0.82,
          0.8150000000000001,
          0.8030000000000002,
          0.8039999999999999,
          0.8029999999999999,
          0.8139999999999998,
          0.808,
          0.8049999999999999,
          0.817,
          0.8210000000000001,
          0.8299999999999998,
          0.836,
          0.85,
          0.8480000000000001,
          0.86,
          0.866,
          0.876,
          0.884,
          0.8709999999999999,
          0.8720000000000001,
          0.867,
          0.8640000000000001,
          0.8560000000000001,
          0.8720000000000001,
          0.858
         ],
         "yaxis": "y"
        },
        {
         "hovertemplate": "variable=OFSSGD<br>batches=%{x}<br>accuracy=%{y}<extra></extra>",
         "legendgroup": "OFSSGD",
         "line": {
          "color": "#00cc96",
          "dash": "solid"
         },
         "mode": "lines",
         "name": "OFSSGD",
         "showlegend": true,
         "type": "scattergl",
         "x": [
          0,
          1,
          2,
          3,
          4,
          5,
          6,
          7,
          8,
          9,
          10,
          11,
          12,
          13,
          14,
          15,
          16,
          17,
          18,
          19,
          20,
          21,
          22,
          23,
          24,
          25,
          26,
          27,
          28,
          29,
          30,
          31,
          32,
          33,
          34,
          35,
          36,
          37,
          38,
          39,
          40,
          41,
          42,
          43,
          44,
          45,
          46,
          47,
          48,
          49,
          50,
          51,
          52,
          53,
          54,
          55,
          56,
          57,
          58,
          59,
          60,
          61,
          62,
          63,
          64,
          65,
          66,
          67,
          68,
          69,
          70,
          71,
          72,
          73,
          74,
          75,
          76,
          77,
          78,
          79,
          80,
          81,
          82,
          83,
          84,
          85,
          86,
          87,
          88,
          89,
          90,
          91,
          92,
          93,
          94,
          95,
          96,
          97,
          98,
          99,
          100,
          101,
          102,
          103,
          104,
          105,
          106,
          107,
          108,
          109,
          110,
          111,
          112,
          113,
          114,
          115,
          116,
          117,
          118,
          119,
          120,
          121,
          122,
          123,
          124,
          125,
          126,
          127,
          128,
          129,
          130,
          131,
          132,
          133,
          134,
          135,
          136,
          137,
          138,
          139,
          140,
          141,
          142,
          143,
          144,
          145,
          146,
          147,
          148,
          149,
          150,
          151,
          152,
          153,
          154,
          155,
          156,
          157,
          158,
          159,
          160,
          161,
          162,
          163,
          164,
          165,
          166,
          167,
          168,
          169,
          170,
          171,
          172,
          173,
          174,
          175,
          176,
          177,
          178,
          179,
          180,
          181,
          182,
          183,
          184,
          185,
          186,
          187,
          188,
          189,
          190,
          191,
          192,
          193,
          194,
          195,
          196,
          197,
          198,
          199,
          200,
          201,
          202,
          203,
          204,
          205,
          206,
          207,
          208,
          209,
          210,
          211,
          212,
          213,
          214,
          215,
          216,
          217,
          218,
          219,
          220,
          221,
          222,
          223,
          224,
          225,
          226,
          227,
          228,
          229,
          230,
          231,
          232,
          233,
          234,
          235,
          236,
          237,
          238,
          239,
          240,
          241,
          242,
          243,
          244,
          245,
          246,
          247,
          248,
          249,
          250,
          251,
          252,
          253,
          254,
          255,
          256,
          257,
          258,
          259,
          260,
          261,
          262,
          263,
          264,
          265,
          266,
          267,
          268,
          269,
          270,
          271,
          272,
          273,
          274,
          275,
          276,
          277,
          278,
          279,
          280,
          281,
          282,
          283,
          284,
          285,
          286,
          287,
          288,
          289,
          290,
          291,
          292,
          293,
          294,
          295,
          296,
          297,
          298,
          299,
          300,
          301,
          302,
          303,
          304,
          305,
          306,
          307,
          308,
          309,
          310,
          311,
          312,
          313,
          314,
          315,
          316,
          317,
          318,
          319,
          320,
          321,
          322,
          323,
          324,
          325,
          326,
          327,
          328,
          329,
          330,
          331,
          332,
          333,
          334,
          335,
          336,
          337,
          338,
          339,
          340,
          341,
          342,
          343,
          344,
          345,
          346,
          347,
          348,
          349,
          350,
          351,
          352,
          353,
          354,
          355,
          356,
          357,
          358,
          359,
          360,
          361,
          362,
          363,
          364,
          365,
          366,
          367,
          368,
          369,
          370,
          371,
          372,
          373,
          374,
          375,
          376,
          377,
          378,
          379,
          380,
          381,
          382,
          383,
          384,
          385,
          386,
          387,
          388,
          389,
          390,
          391,
          392,
          393,
          394,
          395,
          396,
          397,
          398,
          399,
          400,
          401,
          402,
          403,
          404,
          405,
          406,
          407,
          408,
          409,
          410,
          411,
          412,
          413,
          414,
          415,
          416,
          417,
          418,
          419,
          420,
          421,
          422,
          423,
          424,
          425,
          426,
          427,
          428,
          429,
          430,
          431,
          432,
          433,
          434,
          435,
          436,
          437,
          438,
          439,
          440,
          441,
          442,
          443,
          444,
          445,
          446,
          447,
          448,
          449,
          450,
          451,
          452,
          453,
          454,
          455,
          456,
          457,
          458,
          459,
          460,
          461,
          462,
          463,
          464,
          465,
          466,
          467,
          468,
          469,
          470,
          471,
          472,
          473,
          474,
          475,
          476,
          477,
          478,
          479,
          480,
          481,
          482,
          483,
          484,
          485,
          486,
          487,
          488,
          489,
          490,
          491,
          492,
          493,
          494,
          495,
          496,
          497,
          498,
          499,
          500,
          501,
          502,
          503,
          504,
          505,
          506,
          507,
          508,
          509,
          510,
          511,
          512,
          513,
          514,
          515,
          516,
          517,
          518,
          519,
          520,
          521,
          522,
          523,
          524,
          525,
          526,
          527,
          528,
          529,
          530,
          531,
          532,
          533,
          534,
          535,
          536,
          537,
          538,
          539,
          540,
          541,
          542,
          543,
          544,
          545,
          546,
          547,
          548,
          549,
          550,
          551,
          552,
          553,
          554,
          555,
          556,
          557,
          558,
          559,
          560,
          561,
          562,
          563,
          564,
          565,
          566,
          567,
          568,
          569,
          570,
          571,
          572,
          573,
          574,
          575,
          576,
          577,
          578,
          579,
          580,
          581,
          582,
          583,
          584,
          585,
          586,
          587,
          588,
          589
         ],
         "xaxis": "x",
         "y": [
          0.67,
          0.678,
          0.673,
          0.674,
          0.6839999999999999,
          0.692,
          0.7130000000000001,
          0.7190000000000001,
          0.736,
          0.7369999999999999,
          0.752,
          0.776,
          0.7939999999999999,
          0.8059999999999998,
          0.806,
          0.817,
          0.818,
          0.8119999999999999,
          0.812,
          0.812,
          0.8099999999999999,
          0.805,
          0.806,
          0.8119999999999999,
          0.8130000000000001,
          0.812,
          0.805,
          0.8019999999999999,
          0.796,
          0.789,
          0.792,
          0.796,
          0.8,
          0.791,
          0.797,
          0.795,
          0.8029999999999999,
          0.796,
          0.795,
          0.799,
          0.796,
          0.7869999999999999,
          0.7809999999999999,
          0.784,
          0.78,
          0.779,
          0.7809999999999999,
          0.79,
          0.782,
          0.7859999999999999,
          0.7969999999999999,
          0.8099999999999999,
          0.8109999999999999,
          0.8140000000000001,
          0.817,
          0.82,
          0.8210000000000001,
          0.8210000000000001,
          0.8140000000000001,
          0.806,
          0.798,
          0.791,
          0.783,
          0.784,
          0.784,
          0.7889999999999999,
          0.773,
          0.778,
          0.791,
          0.7969999999999999,
          0.8049999999999999,
          0.7899999999999999,
          0.7949999999999999,
          0.7859999999999999,
          0.779,
          0.778,
          0.7859999999999999,
          0.751,
          0.745,
          0.732,
          0.731,
          0.745,
          0.7459999999999999,
          0.753,
          0.756,
          0.75,
          0.757,
          0.796,
          0.813,
          0.8310000000000001,
          0.8240000000000001,
          0.8210000000000001,
          0.818,
          0.8240000000000001,
          0.826,
          0.8320000000000001,
          0.8400000000000001,
          0.8380000000000001,
          0.8310000000000001,
          0.8210000000000001,
          0.8290000000000001,
          0.8310000000000001,
          0.836,
          0.8360000000000001,
          0.8320000000000001,
          0.827,
          0.8150000000000001,
          0.8109999999999999,
          0.805,
          0.8089999999999999,
          0.8009999999999999,
          0.8109999999999999,
          0.8150000000000001,
          0.8140000000000001,
          0.818,
          0.8190000000000002,
          0.8029999999999999,
          0.806,
          0.8109999999999999,
          0.7979999999999999,
          0.791,
          0.776,
          0.7849999999999999,
          0.779,
          0.788,
          0.791,
          0.799,
          0.7950000000000002,
          0.8,
          0.805,
          0.8119999999999999,
          0.8130000000000001,
          0.8,
          0.791,
          0.79,
          0.791,
          0.788,
          0.7710000000000001,
          0.753,
          0.762,
          0.768,
          0.77,
          0.776,
          0.784,
          0.775,
          0.77,
          0.795,
          0.807,
          0.8109999999999999,
          0.8089999999999999,
          0.796,
          0.7929999999999999,
          0.794,
          0.7979999999999999,
          0.799,
          0.7979999999999999,
          0.78,
          0.792,
          0.808,
          0.812,
          0.819,
          0.8220000000000001,
          0.8140000000000001,
          0.8150000000000001,
          0.808,
          0.799,
          0.805,
          0.786,
          0.775,
          0.781,
          0.7849999999999999,
          0.794,
          0.799,
          0.791,
          0.8009999999999999,
          0.8140000000000001,
          0.817,
          0.835,
          0.849,
          0.8379999999999999,
          0.837,
          0.828,
          0.8300000000000001,
          0.8379999999999999,
          0.836,
          0.8300000000000001,
          0.834,
          0.8390000000000001,
          0.835,
          0.841,
          0.842,
          0.835,
          0.829,
          0.837,
          0.842,
          0.8460000000000001,
          0.8379999999999999,
          0.829,
          0.8300000000000001,
          0.8240000000000001,
          0.8240000000000001,
          0.835,
          0.837,
          0.821,
          0.8240000000000001,
          0.8160000000000001,
          0.813,
          0.82,
          0.8220000000000001,
          0.834,
          0.8300000000000001,
          0.8310000000000001,
          0.827,
          0.8380000000000001,
          0.817,
          0.8109999999999999,
          0.8160000000000001,
          0.806,
          0.8,
          0.7929999999999999,
          0.799,
          0.799,
          0.8030000000000002,
          0.806,
          0.8210000000000001,
          0.833,
          0.834,
          0.835,
          0.8320000000000001,
          0.833,
          0.8270000000000002,
          0.828,
          0.8300000000000001,
          0.829,
          0.8160000000000001,
          0.8160000000000001,
          0.8089999999999999,
          0.8140000000000001,
          0.8150000000000001,
          0.807,
          0.807,
          0.799,
          0.8,
          0.7979999999999999,
          0.8089999999999999,
          0.8089999999999999,
          0.8150000000000001,
          0.8150000000000001,
          0.819,
          0.8240000000000001,
          0.834,
          0.8400000000000001,
          0.833,
          0.8230000000000001,
          0.818,
          0.817,
          0.8109999999999999,
          0.797,
          0.788,
          0.782,
          0.773,
          0.773,
          0.773,
          0.7779999999999999,
          0.788,
          0.783,
          0.7889999999999999,
          0.796,
          0.8109999999999999,
          0.8220000000000001,
          0.8219999999999998,
          0.826,
          0.8390000000000001,
          0.841,
          0.836,
          0.836,
          0.8320000000000001,
          0.837,
          0.8240000000000001,
          0.8130000000000001,
          0.8140000000000001,
          0.799,
          0.7899999999999999,
          0.785,
          0.792,
          0.8039999999999999,
          0.8109999999999999,
          0.807,
          0.806,
          0.806,
          0.8009999999999999,
          0.8039999999999999,
          0.8,
          0.805,
          0.798,
          0.782,
          0.77,
          0.769,
          0.772,
          0.773,
          0.7779999999999999,
          0.783,
          0.782,
          0.77,
          0.7729999999999999,
          0.792,
          0.787,
          0.786,
          0.787,
          0.79,
          0.7909999999999999,
          0.787,
          0.7969999999999999,
          0.791,
          0.78,
          0.75,
          0.764,
          0.775,
          0.777,
          0.782,
          0.784,
          0.7969999999999999,
          0.795,
          0.8029999999999999,
          0.817,
          0.834,
          0.829,
          0.828,
          0.837,
          0.837,
          0.841,
          0.836,
          0.843,
          0.8620000000000001,
          0.8560000000000001,
          0.8480000000000001,
          0.8530000000000001,
          0.8460000000000001,
          0.833,
          0.8300000000000001,
          0.8230000000000001,
          0.8240000000000001,
          0.8140000000000001,
          0.806,
          0.8089999999999999,
          0.8240000000000001,
          0.8220000000000001,
          0.8219999999999998,
          0.8280000000000001,
          0.8320000000000001,
          0.825,
          0.8210000000000001,
          0.828,
          0.829,
          0.825,
          0.8240000000000001,
          0.829,
          0.8310000000000001,
          0.8210000000000001,
          0.819,
          0.8230000000000001,
          0.8109999999999999,
          0.799,
          0.7869999999999999,
          0.784,
          0.78,
          0.7779999999999999,
          0.774,
          0.783,
          0.782,
          0.786,
          0.807,
          0.806,
          0.808,
          0.8119999999999999,
          0.8099999999999999,
          0.8029999999999999,
          0.8099999999999999,
          0.8099999999999999,
          0.8099999999999999,
          0.8099999999999999,
          0.806,
          0.8140000000000001,
          0.812,
          0.8029999999999999,
          0.8089999999999999,
          0.813,
          0.807,
          0.8009999999999999,
          0.795,
          0.791,
          0.783,
          0.7769999999999999,
          0.793,
          0.795,
          0.785,
          0.788,
          0.799,
          0.807,
          0.8150000000000001,
          0.8230000000000001,
          0.828,
          0.833,
          0.8109999999999999,
          0.818,
          0.828,
          0.828,
          0.819,
          0.819,
          0.8140000000000001,
          0.812,
          0.8099999999999999,
          0.8130000000000001,
          0.825,
          0.826,
          0.826,
          0.8230000000000001,
          0.826,
          0.8230000000000001,
          0.826,
          0.8220000000000001,
          0.826,
          0.817,
          0.8240000000000001,
          0.8300000000000001,
          0.826,
          0.8230000000000001,
          0.8210000000000001,
          0.818,
          0.818,
          0.8089999999999999,
          0.8039999999999999,
          0.807,
          0.8009999999999999,
          0.792,
          0.798,
          0.8099999999999999,
          0.8089999999999999,
          0.807,
          0.799,
          0.807,
          0.8099999999999999,
          0.8109999999999999,
          0.818,
          0.817,
          0.8150000000000001,
          0.806,
          0.8039999999999999,
          0.791,
          0.796,
          0.791,
          0.787,
          0.78,
          0.759,
          0.7620000000000001,
          0.7580000000000001,
          0.767,
          0.768,
          0.788,
          0.7939999999999999,
          0.807,
          0.807,
          0.805,
          0.8220000000000001,
          0.819,
          0.827,
          0.808,
          0.808,
          0.8,
          0.796,
          0.7929999999999999,
          0.8019999999999999,
          0.8240000000000001,
          0.817,
          0.8220000000000001,
          0.82,
          0.834,
          0.8450000000000001,
          0.8550000000000001,
          0.8469999999999999,
          0.844,
          0.8379999999999999,
          0.826,
          0.841,
          0.833,
          0.8240000000000001,
          0.817,
          0.808,
          0.799,
          0.808,
          0.806,
          0.805,
          0.8059999999999998,
          0.792,
          0.793,
          0.7989999999999999,
          0.794,
          0.788,
          0.791,
          0.791,
          0.8009999999999999,
          0.789,
          0.7889999999999999,
          0.7889999999999999,
          0.7989999999999999,
          0.807,
          0.8119999999999999,
          0.827,
          0.825,
          0.821,
          0.8109999999999999,
          0.8119999999999999,
          0.8,
          0.807,
          0.8009999999999999,
          0.8009999999999999,
          0.799,
          0.788,
          0.792,
          0.7769999999999999,
          0.7849999999999999,
          0.7969999999999999,
          0.8030000000000002,
          0.806,
          0.8150000000000001,
          0.804,
          0.8150000000000001,
          0.8109999999999999,
          0.8109999999999999,
          0.8220000000000001,
          0.8099999999999999,
          0.8099999999999999,
          0.826,
          0.829,
          0.8290000000000001,
          0.833,
          0.828,
          0.8400000000000001,
          0.8370000000000001,
          0.841,
          0.849,
          0.8560000000000001,
          0.8530000000000001,
          0.851,
          0.8480000000000001,
          0.849,
          0.841,
          0.835,
          0.844,
          0.8540000000000001,
          0.86,
          0.8549999999999999,
          0.844,
          0.8370000000000001,
          0.829,
          0.8220000000000001,
          0.829,
          0.8360000000000001,
          0.835,
          0.835,
          0.8300000000000001,
          0.834,
          0.834,
          0.8380000000000001,
          0.843,
          0.849,
          0.8459999999999999,
          0.8400000000000001,
          0.844,
          0.843,
          0.8390000000000001,
          0.8380000000000001,
          0.8470000000000001,
          0.843,
          0.844,
          0.849,
          0.8539999999999999,
          0.857,
          0.851,
          0.86,
          0.8729999999999999,
          0.877,
          0.882,
          0.8789999999999999,
          0.8869999999999999,
          0.893,
          0.8949999999999999,
          0.889,
          0.9,
          0.8859999999999999
         ],
         "yaxis": "y"
        },
        {
         "hovertemplate": "variable=FSDS<br>batches=%{x}<br>accuracy=%{y}<extra></extra>",
         "legendgroup": "FSDS",
         "line": {
          "color": "#ab63fa",
          "dash": "solid"
         },
         "mode": "lines",
         "name": "FSDS",
         "showlegend": true,
         "type": "scattergl",
         "x": [
          0,
          1,
          2,
          3,
          4,
          5,
          6,
          7,
          8,
          9,
          10,
          11,
          12,
          13,
          14,
          15,
          16,
          17,
          18,
          19,
          20,
          21,
          22,
          23,
          24,
          25,
          26,
          27,
          28,
          29,
          30,
          31,
          32,
          33,
          34,
          35,
          36,
          37,
          38,
          39,
          40,
          41,
          42,
          43,
          44,
          45,
          46,
          47,
          48,
          49,
          50,
          51,
          52,
          53,
          54,
          55,
          56,
          57,
          58,
          59,
          60,
          61,
          62,
          63,
          64,
          65,
          66,
          67,
          68,
          69,
          70,
          71,
          72,
          73,
          74,
          75,
          76,
          77,
          78,
          79,
          80,
          81,
          82,
          83,
          84,
          85,
          86,
          87,
          88,
          89,
          90,
          91,
          92,
          93,
          94,
          95,
          96,
          97,
          98,
          99,
          100,
          101,
          102,
          103,
          104,
          105,
          106,
          107,
          108,
          109,
          110,
          111,
          112,
          113,
          114,
          115,
          116,
          117,
          118,
          119,
          120,
          121,
          122,
          123,
          124,
          125,
          126,
          127,
          128,
          129,
          130,
          131,
          132,
          133,
          134,
          135,
          136,
          137,
          138,
          139,
          140,
          141,
          142,
          143,
          144,
          145,
          146,
          147,
          148,
          149,
          150,
          151,
          152,
          153,
          154,
          155,
          156,
          157,
          158,
          159,
          160,
          161,
          162,
          163,
          164,
          165,
          166,
          167,
          168,
          169,
          170,
          171,
          172,
          173,
          174,
          175,
          176,
          177,
          178,
          179,
          180,
          181,
          182,
          183,
          184,
          185,
          186,
          187,
          188,
          189,
          190,
          191,
          192,
          193,
          194,
          195,
          196,
          197,
          198,
          199,
          200,
          201,
          202,
          203,
          204,
          205,
          206,
          207,
          208,
          209,
          210,
          211,
          212,
          213,
          214,
          215,
          216,
          217,
          218,
          219,
          220,
          221,
          222,
          223,
          224,
          225,
          226,
          227,
          228,
          229,
          230,
          231,
          232,
          233,
          234,
          235,
          236,
          237,
          238,
          239,
          240,
          241,
          242,
          243,
          244,
          245,
          246,
          247,
          248,
          249,
          250,
          251,
          252,
          253,
          254,
          255,
          256,
          257,
          258,
          259,
          260,
          261,
          262,
          263,
          264,
          265,
          266,
          267,
          268,
          269,
          270,
          271,
          272,
          273,
          274,
          275,
          276,
          277,
          278,
          279,
          280,
          281,
          282,
          283,
          284,
          285,
          286,
          287,
          288,
          289,
          290,
          291,
          292,
          293,
          294,
          295,
          296,
          297,
          298,
          299,
          300,
          301,
          302,
          303,
          304,
          305,
          306,
          307,
          308,
          309,
          310,
          311,
          312,
          313,
          314,
          315,
          316,
          317,
          318,
          319,
          320,
          321,
          322,
          323,
          324,
          325,
          326,
          327,
          328,
          329,
          330,
          331,
          332,
          333,
          334,
          335,
          336,
          337,
          338,
          339,
          340,
          341,
          342,
          343,
          344,
          345,
          346,
          347,
          348,
          349,
          350,
          351,
          352,
          353,
          354,
          355,
          356,
          357,
          358,
          359,
          360,
          361,
          362,
          363,
          364,
          365,
          366,
          367,
          368,
          369,
          370,
          371,
          372,
          373,
          374,
          375,
          376,
          377,
          378,
          379,
          380,
          381,
          382,
          383,
          384,
          385,
          386,
          387,
          388,
          389,
          390,
          391,
          392,
          393,
          394,
          395,
          396,
          397,
          398,
          399,
          400,
          401,
          402,
          403,
          404,
          405,
          406,
          407,
          408,
          409,
          410,
          411,
          412,
          413,
          414,
          415,
          416,
          417,
          418,
          419,
          420,
          421,
          422,
          423,
          424,
          425,
          426,
          427,
          428,
          429,
          430,
          431,
          432,
          433,
          434,
          435,
          436,
          437,
          438,
          439,
          440,
          441,
          442,
          443,
          444,
          445,
          446,
          447,
          448,
          449,
          450,
          451,
          452,
          453,
          454,
          455,
          456,
          457,
          458,
          459,
          460,
          461,
          462,
          463,
          464,
          465,
          466,
          467,
          468,
          469,
          470,
          471,
          472,
          473,
          474,
          475,
          476,
          477,
          478,
          479,
          480,
          481,
          482,
          483,
          484,
          485,
          486,
          487,
          488,
          489,
          490,
          491,
          492,
          493,
          494,
          495,
          496,
          497,
          498,
          499,
          500,
          501,
          502,
          503,
          504,
          505,
          506,
          507,
          508,
          509,
          510,
          511,
          512,
          513,
          514,
          515,
          516,
          517,
          518,
          519,
          520,
          521,
          522,
          523,
          524,
          525,
          526,
          527,
          528,
          529,
          530,
          531,
          532,
          533,
          534,
          535,
          536,
          537,
          538,
          539,
          540,
          541,
          542,
          543,
          544,
          545,
          546,
          547,
          548,
          549,
          550,
          551,
          552,
          553,
          554,
          555,
          556,
          557,
          558,
          559,
          560,
          561,
          562,
          563,
          564,
          565,
          566,
          567,
          568,
          569,
          570,
          571,
          572,
          573,
          574,
          575,
          576,
          577,
          578,
          579,
          580,
          581,
          582,
          583,
          584,
          585,
          586,
          587,
          588,
          589
         ],
         "xaxis": "x",
         "y": [
          0.5549999999999999,
          0.569,
          0.575,
          0.591,
          0.612,
          0.626,
          0.644,
          0.66,
          0.669,
          0.671,
          0.678,
          0.6990000000000001,
          0.72,
          0.728,
          0.709,
          0.705,
          0.6900000000000001,
          0.683,
          0.683,
          0.687,
          0.683,
          0.664,
          0.656,
          0.647,
          0.669,
          0.667,
          0.6779999999999999,
          0.6799999999999999,
          0.679,
          0.6809999999999999,
          0.693,
          0.703,
          0.704,
          0.6980000000000001,
          0.6910000000000001,
          0.7100000000000001,
          0.7030000000000001,
          0.6910000000000001,
          0.6839999999999999,
          0.688,
          0.675,
          0.659,
          0.6639999999999999,
          0.671,
          0.671,
          0.6619999999999999,
          0.666,
          0.667,
          0.674,
          0.671,
          0.6940000000000001,
          0.716,
          0.716,
          0.724,
          0.724,
          0.7350000000000001,
          0.741,
          0.752,
          0.744,
          0.736,
          0.712,
          0.709,
          0.693,
          0.68,
          0.6779999999999999,
          0.667,
          0.663,
          0.655,
          0.656,
          0.663,
          0.6769999999999999,
          0.6759999999999999,
          0.682,
          0.69,
          0.688,
          0.697,
          0.6869999999999999,
          0.661,
          0.6619999999999999,
          0.6619999999999999,
          0.655,
          0.65,
          0.6569999999999999,
          0.6519999999999999,
          0.666,
          0.655,
          0.6689999999999999,
          0.702,
          0.725,
          0.727,
          0.7310000000000001,
          0.746,
          0.735,
          0.745,
          0.74,
          0.737,
          0.743,
          0.7430000000000001,
          0.724,
          0.734,
          0.74,
          0.7270000000000001,
          0.743,
          0.7430000000000001,
          0.739,
          0.7310000000000001,
          0.724,
          0.7209999999999999,
          0.727,
          0.718,
          0.6910000000000001,
          0.702,
          0.701,
          0.699,
          0.6910000000000001,
          0.711,
          0.7030000000000001,
          0.706,
          0.7,
          0.6910000000000001,
          0.692,
          0.671,
          0.671,
          0.666,
          0.6699999999999999,
          0.672,
          0.6719999999999999,
          0.6759999999999999,
          0.6779999999999999,
          0.681,
          0.697,
          0.7,
          0.692,
          0.673,
          0.672,
          0.659,
          0.649,
          0.6380000000000001,
          0.631,
          0.632,
          0.635,
          0.64,
          0.651,
          0.6689999999999999,
          0.6759999999999999,
          0.6809999999999999,
          0.702,
          0.704,
          0.704,
          0.701,
          0.694,
          0.7030000000000001,
          0.702,
          0.7120000000000001,
          0.7190000000000001,
          0.7270000000000001,
          0.722,
          0.726,
          0.738,
          0.739,
          0.7430000000000001,
          0.74,
          0.728,
          0.708,
          0.6859999999999999,
          0.662,
          0.6599999999999999,
          0.654,
          0.645,
          0.656,
          0.6559999999999999,
          0.6599999999999999,
          0.6759999999999999,
          0.683,
          0.7010000000000001,
          0.715,
          0.72,
          0.731,
          0.742,
          0.733,
          0.737,
          0.725,
          0.72,
          0.7220000000000001,
          0.718,
          0.7230000000000001,
          0.729,
          0.732,
          0.733,
          0.736,
          0.735,
          0.743,
          0.735,
          0.732,
          0.743,
          0.74,
          0.732,
          0.732,
          0.729,
          0.7270000000000001,
          0.7190000000000001,
          0.724,
          0.7390000000000001,
          0.7390000000000001,
          0.738,
          0.7390000000000001,
          0.7449999999999999,
          0.7529999999999999,
          0.767,
          0.7849999999999999,
          0.8,
          0.7929999999999999,
          0.7849999999999999,
          0.7959999999999999,
          0.779,
          0.763,
          0.754,
          0.7350000000000001,
          0.7150000000000001,
          0.6900000000000001,
          0.6849999999999999,
          0.6890000000000001,
          0.6940000000000001,
          0.699,
          0.712,
          0.732,
          0.736,
          0.727,
          0.724,
          0.741,
          0.743,
          0.745,
          0.733,
          0.7290000000000001,
          0.7210000000000001,
          0.713,
          0.6970000000000001,
          0.6900000000000001,
          0.6980000000000001,
          0.683,
          0.682,
          0.6769999999999999,
          0.6839999999999999,
          0.682,
          0.693,
          0.704,
          0.7230000000000001,
          0.752,
          0.763,
          0.772,
          0.7689999999999999,
          0.771,
          0.765,
          0.754,
          0.749,
          0.739,
          0.726,
          0.719,
          0.7060000000000001,
          0.708,
          0.713,
          0.712,
          0.722,
          0.728,
          0.719,
          0.726,
          0.745,
          0.745,
          0.748,
          0.751,
          0.753,
          0.756,
          0.7529999999999999,
          0.7529999999999999,
          0.768,
          0.774,
          0.757,
          0.755,
          0.754,
          0.745,
          0.736,
          0.7220000000000001,
          0.717,
          0.7219999999999999,
          0.7230000000000001,
          0.718,
          0.731,
          0.728,
          0.725,
          0.719,
          0.712,
          0.716,
          0.7180000000000001,
          0.725,
          0.702,
          0.6950000000000001,
          0.6849999999999999,
          0.687,
          0.694,
          0.71,
          0.725,
          0.732,
          0.731,
          0.7130000000000001,
          0.717,
          0.717,
          0.7150000000000001,
          0.709,
          0.7060000000000001,
          0.697,
          0.6910000000000001,
          0.6859999999999999,
          0.6809999999999999,
          0.6779999999999999,
          0.678,
          0.663,
          0.6729999999999999,
          0.692,
          0.698,
          0.708,
          0.7030000000000001,
          0.707,
          0.7140000000000001,
          0.725,
          0.729,
          0.745,
          0.757,
          0.7380000000000001,
          0.7350000000000001,
          0.729,
          0.735,
          0.74,
          0.756,
          0.758,
          0.756,
          0.756,
          0.737,
          0.739,
          0.734,
          0.718,
          0.716,
          0.712,
          0.6990000000000001,
          0.7020000000000001,
          0.7100000000000001,
          0.716,
          0.7150000000000001,
          0.714,
          0.72,
          0.733,
          0.736,
          0.736,
          0.745,
          0.736,
          0.729,
          0.732,
          0.7290000000000001,
          0.742,
          0.731,
          0.745,
          0.738,
          0.732,
          0.72,
          0.7260000000000001,
          0.725,
          0.713,
          0.7230000000000001,
          0.717,
          0.72,
          0.709,
          0.7190000000000001,
          0.7230000000000001,
          0.723,
          0.725,
          0.726,
          0.737,
          0.725,
          0.725,
          0.734,
          0.7390000000000001,
          0.743,
          0.751,
          0.7580000000000001,
          0.741,
          0.7340000000000001,
          0.728,
          0.7430000000000001,
          0.732,
          0.733,
          0.722,
          0.716,
          0.7100000000000001,
          0.705,
          0.724,
          0.713,
          0.6980000000000001,
          0.702,
          0.725,
          0.724,
          0.735,
          0.737,
          0.741,
          0.739,
          0.719,
          0.74,
          0.7449999999999999,
          0.738,
          0.723,
          0.724,
          0.7180000000000001,
          0.723,
          0.717,
          0.714,
          0.718,
          0.717,
          0.729,
          0.7230000000000001,
          0.731,
          0.725,
          0.718,
          0.7030000000000001,
          0.6990000000000001,
          0.696,
          0.7140000000000001,
          0.726,
          0.721,
          0.731,
          0.7340000000000001,
          0.733,
          0.737,
          0.739,
          0.743,
          0.754,
          0.743,
          0.7299999999999999,
          0.746,
          0.748,
          0.746,
          0.742,
          0.749,
          0.748,
          0.741,
          0.741,
          0.756,
          0.7530000000000001,
          0.744,
          0.737,
          0.723,
          0.72,
          0.718,
          0.7150000000000001,
          0.725,
          0.724,
          0.704,
          0.7150000000000001,
          0.718,
          0.719,
          0.736,
          0.75,
          0.754,
          0.768,
          0.767,
          0.7550000000000001,
          0.754,
          0.742,
          0.732,
          0.7130000000000001,
          0.7,
          0.6980000000000001,
          0.6910000000000001,
          0.679,
          0.687,
          0.7060000000000001,
          0.72,
          0.729,
          0.7270000000000001,
          0.748,
          0.759,
          0.76,
          0.752,
          0.75,
          0.733,
          0.7110000000000001,
          0.713,
          0.7170000000000001,
          0.71,
          0.6930000000000001,
          0.685,
          0.682,
          0.6869999999999999,
          0.6990000000000001,
          0.706,
          0.719,
          0.7030000000000001,
          0.6859999999999999,
          0.6940000000000001,
          0.696,
          0.6910000000000001,
          0.695,
          0.7090000000000001,
          0.716,
          0.72,
          0.718,
          0.727,
          0.736,
          0.7529999999999999,
          0.7739999999999999,
          0.768,
          0.768,
          0.7649999999999999,
          0.755,
          0.735,
          0.732,
          0.734,
          0.745,
          0.74,
          0.7390000000000001,
          0.754,
          0.741,
          0.726,
          0.728,
          0.7350000000000001,
          0.737,
          0.7430000000000001,
          0.734,
          0.735,
          0.727,
          0.741,
          0.752,
          0.7569999999999999,
          0.748,
          0.758,
          0.765,
          0.767,
          0.774,
          0.7659999999999999,
          0.775,
          0.763,
          0.766,
          0.763,
          0.7630000000000001,
          0.76,
          0.767,
          0.766,
          0.76,
          0.765,
          0.762,
          0.751,
          0.75,
          0.76,
          0.7739999999999999,
          0.783,
          0.77,
          0.7550000000000001,
          0.749,
          0.7510000000000001,
          0.748,
          0.76,
          0.762,
          0.765,
          0.7430000000000001,
          0.748,
          0.748,
          0.755,
          0.758,
          0.751,
          0.747,
          0.734,
          0.7300000000000001,
          0.728,
          0.75,
          0.7470000000000001,
          0.766,
          0.765,
          0.781,
          0.779,
          0.783,
          0.8019999999999999,
          0.806,
          0.8150000000000001,
          0.82,
          0.8230000000000001,
          0.8139999999999998,
          0.8109999999999999,
          0.8089999999999999,
          0.8140000000000001,
          0.8099999999999999,
          0.8029999999999999,
          0.817,
          0.8029999999999999
         ],
         "yaxis": "y"
        }
       ],
       "layout": {
        "legend": {
         "title": {
          "text": "variable"
         },
         "tracegroupgap": 0
        },
        "template": {
         "data": {
          "bar": [
           {
            "error_x": {
             "color": "#2a3f5f"
            },
            "error_y": {
             "color": "#2a3f5f"
            },
            "marker": {
             "line": {
              "color": "#E5ECF6",
              "width": 0.5
             }
            },
            "type": "bar"
           }
          ],
          "barpolar": [
           {
            "marker": {
             "line": {
              "color": "#E5ECF6",
              "width": 0.5
             }
            },
            "type": "barpolar"
           }
          ],
          "carpet": [
           {
            "aaxis": {
             "endlinecolor": "#2a3f5f",
             "gridcolor": "white",
             "linecolor": "white",
             "minorgridcolor": "white",
             "startlinecolor": "#2a3f5f"
            },
            "baxis": {
             "endlinecolor": "#2a3f5f",
             "gridcolor": "white",
             "linecolor": "white",
             "minorgridcolor": "white",
             "startlinecolor": "#2a3f5f"
            },
            "type": "carpet"
           }
          ],
          "choropleth": [
           {
            "colorbar": {
             "outlinewidth": 0,
             "ticks": ""
            },
            "type": "choropleth"
           }
          ],
          "contour": [
           {
            "colorbar": {
             "outlinewidth": 0,
             "ticks": ""
            },
            "colorscale": [
             [
              0,
              "#0d0887"
             ],
             [
              0.1111111111111111,
              "#46039f"
             ],
             [
              0.2222222222222222,
              "#7201a8"
             ],
             [
              0.3333333333333333,
              "#9c179e"
             ],
             [
              0.4444444444444444,
              "#bd3786"
             ],
             [
              0.5555555555555556,
              "#d8576b"
             ],
             [
              0.6666666666666666,
              "#ed7953"
             ],
             [
              0.7777777777777778,
              "#fb9f3a"
             ],
             [
              0.8888888888888888,
              "#fdca26"
             ],
             [
              1,
              "#f0f921"
             ]
            ],
            "type": "contour"
           }
          ],
          "contourcarpet": [
           {
            "colorbar": {
             "outlinewidth": 0,
             "ticks": ""
            },
            "type": "contourcarpet"
           }
          ],
          "heatmap": [
           {
            "colorbar": {
             "outlinewidth": 0,
             "ticks": ""
            },
            "colorscale": [
             [
              0,
              "#0d0887"
             ],
             [
              0.1111111111111111,
              "#46039f"
             ],
             [
              0.2222222222222222,
              "#7201a8"
             ],
             [
              0.3333333333333333,
              "#9c179e"
             ],
             [
              0.4444444444444444,
              "#bd3786"
             ],
             [
              0.5555555555555556,
              "#d8576b"
             ],
             [
              0.6666666666666666,
              "#ed7953"
             ],
             [
              0.7777777777777778,
              "#fb9f3a"
             ],
             [
              0.8888888888888888,
              "#fdca26"
             ],
             [
              1,
              "#f0f921"
             ]
            ],
            "type": "heatmap"
           }
          ],
          "heatmapgl": [
           {
            "colorbar": {
             "outlinewidth": 0,
             "ticks": ""
            },
            "colorscale": [
             [
              0,
              "#0d0887"
             ],
             [
              0.1111111111111111,
              "#46039f"
             ],
             [
              0.2222222222222222,
              "#7201a8"
             ],
             [
              0.3333333333333333,
              "#9c179e"
             ],
             [
              0.4444444444444444,
              "#bd3786"
             ],
             [
              0.5555555555555556,
              "#d8576b"
             ],
             [
              0.6666666666666666,
              "#ed7953"
             ],
             [
              0.7777777777777778,
              "#fb9f3a"
             ],
             [
              0.8888888888888888,
              "#fdca26"
             ],
             [
              1,
              "#f0f921"
             ]
            ],
            "type": "heatmapgl"
           }
          ],
          "histogram": [
           {
            "marker": {
             "colorbar": {
              "outlinewidth": 0,
              "ticks": ""
             }
            },
            "type": "histogram"
           }
          ],
          "histogram2d": [
           {
            "colorbar": {
             "outlinewidth": 0,
             "ticks": ""
            },
            "colorscale": [
             [
              0,
              "#0d0887"
             ],
             [
              0.1111111111111111,
              "#46039f"
             ],
             [
              0.2222222222222222,
              "#7201a8"
             ],
             [
              0.3333333333333333,
              "#9c179e"
             ],
             [
              0.4444444444444444,
              "#bd3786"
             ],
             [
              0.5555555555555556,
              "#d8576b"
             ],
             [
              0.6666666666666666,
              "#ed7953"
             ],
             [
              0.7777777777777778,
              "#fb9f3a"
             ],
             [
              0.8888888888888888,
              "#fdca26"
             ],
             [
              1,
              "#f0f921"
             ]
            ],
            "type": "histogram2d"
           }
          ],
          "histogram2dcontour": [
           {
            "colorbar": {
             "outlinewidth": 0,
             "ticks": ""
            },
            "colorscale": [
             [
              0,
              "#0d0887"
             ],
             [
              0.1111111111111111,
              "#46039f"
             ],
             [
              0.2222222222222222,
              "#7201a8"
             ],
             [
              0.3333333333333333,
              "#9c179e"
             ],
             [
              0.4444444444444444,
              "#bd3786"
             ],
             [
              0.5555555555555556,
              "#d8576b"
             ],
             [
              0.6666666666666666,
              "#ed7953"
             ],
             [
              0.7777777777777778,
              "#fb9f3a"
             ],
             [
              0.8888888888888888,
              "#fdca26"
             ],
             [
              1,
              "#f0f921"
             ]
            ],
            "type": "histogram2dcontour"
           }
          ],
          "mesh3d": [
           {
            "colorbar": {
             "outlinewidth": 0,
             "ticks": ""
            },
            "type": "mesh3d"
           }
          ],
          "parcoords": [
           {
            "line": {
             "colorbar": {
              "outlinewidth": 0,
              "ticks": ""
             }
            },
            "type": "parcoords"
           }
          ],
          "pie": [
           {
            "automargin": true,
            "type": "pie"
           }
          ],
          "scatter": [
           {
            "marker": {
             "colorbar": {
              "outlinewidth": 0,
              "ticks": ""
             }
            },
            "type": "scatter"
           }
          ],
          "scatter3d": [
           {
            "line": {
             "colorbar": {
              "outlinewidth": 0,
              "ticks": ""
             }
            },
            "marker": {
             "colorbar": {
              "outlinewidth": 0,
              "ticks": ""
             }
            },
            "type": "scatter3d"
           }
          ],
          "scattercarpet": [
           {
            "marker": {
             "colorbar": {
              "outlinewidth": 0,
              "ticks": ""
             }
            },
            "type": "scattercarpet"
           }
          ],
          "scattergeo": [
           {
            "marker": {
             "colorbar": {
              "outlinewidth": 0,
              "ticks": ""
             }
            },
            "type": "scattergeo"
           }
          ],
          "scattergl": [
           {
            "marker": {
             "colorbar": {
              "outlinewidth": 0,
              "ticks": ""
             }
            },
            "type": "scattergl"
           }
          ],
          "scattermapbox": [
           {
            "marker": {
             "colorbar": {
              "outlinewidth": 0,
              "ticks": ""
             }
            },
            "type": "scattermapbox"
           }
          ],
          "scatterpolar": [
           {
            "marker": {
             "colorbar": {
              "outlinewidth": 0,
              "ticks": ""
             }
            },
            "type": "scatterpolar"
           }
          ],
          "scatterpolargl": [
           {
            "marker": {
             "colorbar": {
              "outlinewidth": 0,
              "ticks": ""
             }
            },
            "type": "scatterpolargl"
           }
          ],
          "scatterternary": [
           {
            "marker": {
             "colorbar": {
              "outlinewidth": 0,
              "ticks": ""
             }
            },
            "type": "scatterternary"
           }
          ],
          "surface": [
           {
            "colorbar": {
             "outlinewidth": 0,
             "ticks": ""
            },
            "colorscale": [
             [
              0,
              "#0d0887"
             ],
             [
              0.1111111111111111,
              "#46039f"
             ],
             [
              0.2222222222222222,
              "#7201a8"
             ],
             [
              0.3333333333333333,
              "#9c179e"
             ],
             [
              0.4444444444444444,
              "#bd3786"
             ],
             [
              0.5555555555555556,
              "#d8576b"
             ],
             [
              0.6666666666666666,
              "#ed7953"
             ],
             [
              0.7777777777777778,
              "#fb9f3a"
             ],
             [
              0.8888888888888888,
              "#fdca26"
             ],
             [
              1,
              "#f0f921"
             ]
            ],
            "type": "surface"
           }
          ],
          "table": [
           {
            "cells": {
             "fill": {
              "color": "#EBF0F8"
             },
             "line": {
              "color": "white"
             }
            },
            "header": {
             "fill": {
              "color": "#C8D4E3"
             },
             "line": {
              "color": "white"
             }
            },
            "type": "table"
           }
          ]
         },
         "layout": {
          "annotationdefaults": {
           "arrowcolor": "#2a3f5f",
           "arrowhead": 0,
           "arrowwidth": 1
          },
          "autotypenumbers": "strict",
          "coloraxis": {
           "colorbar": {
            "outlinewidth": 0,
            "ticks": ""
           }
          },
          "colorscale": {
           "diverging": [
            [
             0,
             "#8e0152"
            ],
            [
             0.1,
             "#c51b7d"
            ],
            [
             0.2,
             "#de77ae"
            ],
            [
             0.3,
             "#f1b6da"
            ],
            [
             0.4,
             "#fde0ef"
            ],
            [
             0.5,
             "#f7f7f7"
            ],
            [
             0.6,
             "#e6f5d0"
            ],
            [
             0.7,
             "#b8e186"
            ],
            [
             0.8,
             "#7fbc41"
            ],
            [
             0.9,
             "#4d9221"
            ],
            [
             1,
             "#276419"
            ]
           ],
           "sequential": [
            [
             0,
             "#0d0887"
            ],
            [
             0.1111111111111111,
             "#46039f"
            ],
            [
             0.2222222222222222,
             "#7201a8"
            ],
            [
             0.3333333333333333,
             "#9c179e"
            ],
            [
             0.4444444444444444,
             "#bd3786"
            ],
            [
             0.5555555555555556,
             "#d8576b"
            ],
            [
             0.6666666666666666,
             "#ed7953"
            ],
            [
             0.7777777777777778,
             "#fb9f3a"
            ],
            [
             0.8888888888888888,
             "#fdca26"
            ],
            [
             1,
             "#f0f921"
            ]
           ],
           "sequentialminus": [
            [
             0,
             "#0d0887"
            ],
            [
             0.1111111111111111,
             "#46039f"
            ],
            [
             0.2222222222222222,
             "#7201a8"
            ],
            [
             0.3333333333333333,
             "#9c179e"
            ],
            [
             0.4444444444444444,
             "#bd3786"
            ],
            [
             0.5555555555555556,
             "#d8576b"
            ],
            [
             0.6666666666666666,
             "#ed7953"
            ],
            [
             0.7777777777777778,
             "#fb9f3a"
            ],
            [
             0.8888888888888888,
             "#fdca26"
            ],
            [
             1,
             "#f0f921"
            ]
           ]
          },
          "colorway": [
           "#636efa",
           "#EF553B",
           "#00cc96",
           "#ab63fa",
           "#FFA15A",
           "#19d3f3",
           "#FF6692",
           "#B6E880",
           "#FF97FF",
           "#FECB52"
          ],
          "font": {
           "color": "#2a3f5f"
          },
          "geo": {
           "bgcolor": "white",
           "lakecolor": "white",
           "landcolor": "#E5ECF6",
           "showlakes": true,
           "showland": true,
           "subunitcolor": "white"
          },
          "hoverlabel": {
           "align": "left"
          },
          "hovermode": "closest",
          "mapbox": {
           "style": "light"
          },
          "paper_bgcolor": "white",
          "plot_bgcolor": "#E5ECF6",
          "polar": {
           "angularaxis": {
            "gridcolor": "white",
            "linecolor": "white",
            "ticks": ""
           },
           "bgcolor": "#E5ECF6",
           "radialaxis": {
            "gridcolor": "white",
            "linecolor": "white",
            "ticks": ""
           }
          },
          "scene": {
           "xaxis": {
            "backgroundcolor": "#E5ECF6",
            "gridcolor": "white",
            "gridwidth": 2,
            "linecolor": "white",
            "showbackground": true,
            "ticks": "",
            "zerolinecolor": "white"
           },
           "yaxis": {
            "backgroundcolor": "#E5ECF6",
            "gridcolor": "white",
            "gridwidth": 2,
            "linecolor": "white",
            "showbackground": true,
            "ticks": "",
            "zerolinecolor": "white"
           },
           "zaxis": {
            "backgroundcolor": "#E5ECF6",
            "gridcolor": "white",
            "gridwidth": 2,
            "linecolor": "white",
            "showbackground": true,
            "ticks": "",
            "zerolinecolor": "white"
           }
          },
          "shapedefaults": {
           "line": {
            "color": "#2a3f5f"
           }
          },
          "ternary": {
           "aaxis": {
            "gridcolor": "white",
            "linecolor": "white",
            "ticks": ""
           },
           "baxis": {
            "gridcolor": "white",
            "linecolor": "white",
            "ticks": ""
           },
           "bgcolor": "#E5ECF6",
           "caxis": {
            "gridcolor": "white",
            "linecolor": "white",
            "ticks": ""
           }
          },
          "title": {
           "x": 0.05
          },
          "xaxis": {
           "automargin": true,
           "gridcolor": "white",
           "linecolor": "white",
           "ticks": "",
           "title": {
            "standoff": 15
           },
           "zerolinecolor": "white",
           "zerolinewidth": 2
          },
          "yaxis": {
           "automargin": true,
           "gridcolor": "white",
           "linecolor": "white",
           "ticks": "",
           "title": {
            "standoff": 15
           },
           "zerolinecolor": "white",
           "zerolinewidth": 2
          }
         }
        },
        "title": {
         "text": "Moving averages over accuracy while learning with window 10 on dataset mnist"
        },
        "xaxis": {
         "anchor": "y",
         "domain": [
          0,
          1
         ],
         "title": {
          "text": "batches"
         }
        },
        "yaxis": {
         "anchor": "x",
         "domain": [
          0,
          1
         ],
         "title": {
          "text": "accuracy"
         }
        }
       }
      }
     },
     "metadata": {}
    }
   ],
   "source": [
    "#moving averages\n",
    "title = \"Moving averages over accuracy while learning with window {} on dataset {}\".format(n_window, dataset_name)\n",
    "col_names = [\"FIRES\", \"OFS\", \"OFSSGD\", \"FSDS\"]\n",
    "d = {\"FIRES\":fires_moving_average, \"OFS\":ofs_moving_average, \n",
    "\"OFSSGD\":ofssgd_moving_average, \"FSDS\":fsds_moving_average}\n",
    "df = pd.DataFrame(d, columns=col_names)\n",
    "fig = px.line(df, y=col_names, title=title, labels={\"index\":\"batches\", \"value\":\"accuracy\"})\n",
    "fig.show()\n"
   ]
  },
  {
   "cell_type": "code",
   "execution_count": 31,
   "metadata": {},
   "outputs": [
    {
     "output_type": "display_data",
     "data": {
      "application/vnd.plotly.v1+json": {
       "config": {
        "plotlyServerURL": "https://plot.ly"
       },
       "data": [
        {
         "hovertemplate": "x: %{x}<br>y: %{y}<extra></extra>",
         "name": "0",
         "source": "data:image/png;base64,iVBORw0KGgoAAAANSUhEUgAAABwAAAAcCAAAAABXZoBIAAAAXUlEQVR4XtWQwQ7AMAhC6bL//2V7MasPu507Dk2VIATpTxiYgqvr+Sm5fCWSa5uA0nHXYYjyqmQ49bPwLWRIwUzV8ytts9wFemnItUxrLEmLtCl+oRdfTntDbnsWJkYBDSNPjCgfAAAAAElFTkSuQmCC",
         "type": "image",
         "xaxis": "x",
         "yaxis": "y"
        },
        {
         "hovertemplate": "x: %{x}<br>y: %{y}<extra></extra>",
         "name": "0",
         "source": "data:image/png;base64,iVBORw0KGgoAAAANSUhEUgAAABwAAAAcCAAAAABXZoBIAAAAcElEQVR4Xs2QQRLAIAgDl/7/z+lBRYLttdOchLgYgZ8prJI3rnIGCJBKkVJvOGmcmZrUdis5J3rGJaE6tFxTFmt8DwT1yTQH6FPTDIhhxYYtmiDqCo/cdb090PNXgGO7RnpWN4d3pBiSGtwDvXDf6QYxYR8RdEhnCwAAAABJRU5ErkJggg==",
         "type": "image",
         "xaxis": "x2",
         "yaxis": "y2"
        },
        {
         "hovertemplate": "x: %{x}<br>y: %{y}<extra></extra>",
         "name": "0",
         "source": "data:image/png;base64,iVBORw0KGgoAAAANSUhEUgAAABwAAAAcCAAAAABXZoBIAAAAe0lEQVR4XsWSQRKAMAgDg///83qAAqL15riHHoA0oVPpd5iFAvTWJ3p+Hr3lIMmkPAt6KZVhNYcTPBKC4UmEAcOmJzIfbxdX2ug9QDiGWVDXptIkZuiVs2lbIMm47pmBTPkQqa1J7s+zlMhCst1oR2w6ywv8Jzyxq3/ACYOrN+ur0Y/WAAAAAElFTkSuQmCC",
         "type": "image",
         "xaxis": "x3",
         "yaxis": "y3"
        },
        {
         "hovertemplate": "x: %{x}<br>y: %{y}<extra></extra>",
         "name": "0",
         "source": "data:image/png;base64,iVBORw0KGgoAAAANSUhEUgAAABwAAAAcCAAAAABXZoBIAAAAh0lEQVR4Xp2RUQ6AMAhDH8b7X3l+DDbKMCY2uiCFliH8hdUEjJW9lYCR4ivF4FzIqWxqM38XsiSYkMIZ4ql9g3MgwZathnEkxvJl5qld4Pk3zwFBNhuGIKfP2loEafGncesZZS/TznQ/kH8fP5tU2nhuGb+KwXwEdbdSUaeV5j1Q1dw4LvqNB1B/FTOMTe3xAAAAAElFTkSuQmCC",
         "type": "image",
         "xaxis": "x4",
         "yaxis": "y4"
        }
       ],
       "layout": {
        "annotations": [
         {
          "font": {
           "size": 16
          },
          "showarrow": false,
          "text": "FIRES",
          "x": 0.10625,
          "xanchor": "center",
          "xref": "paper",
          "y": 1,
          "yanchor": "bottom",
          "yref": "paper"
         },
         {
          "font": {
           "size": 16
          },
          "showarrow": false,
          "text": "FSDS",
          "x": 0.36875,
          "xanchor": "center",
          "xref": "paper",
          "y": 1,
          "yanchor": "bottom",
          "yref": "paper"
         },
         {
          "font": {
           "size": 16
          },
          "showarrow": false,
          "text": "OFS",
          "x": 0.6312500000000001,
          "xanchor": "center",
          "xref": "paper",
          "y": 1,
          "yanchor": "bottom",
          "yref": "paper"
         },
         {
          "font": {
           "size": 16
          },
          "showarrow": false,
          "text": "OFSSGD",
          "x": 0.89375,
          "xanchor": "center",
          "xref": "paper",
          "y": 1,
          "yanchor": "bottom",
          "yref": "paper"
         }
        ],
        "template": {
         "data": {
          "bar": [
           {
            "error_x": {
             "color": "#2a3f5f"
            },
            "error_y": {
             "color": "#2a3f5f"
            },
            "marker": {
             "line": {
              "color": "#E5ECF6",
              "width": 0.5
             }
            },
            "type": "bar"
           }
          ],
          "barpolar": [
           {
            "marker": {
             "line": {
              "color": "#E5ECF6",
              "width": 0.5
             }
            },
            "type": "barpolar"
           }
          ],
          "carpet": [
           {
            "aaxis": {
             "endlinecolor": "#2a3f5f",
             "gridcolor": "white",
             "linecolor": "white",
             "minorgridcolor": "white",
             "startlinecolor": "#2a3f5f"
            },
            "baxis": {
             "endlinecolor": "#2a3f5f",
             "gridcolor": "white",
             "linecolor": "white",
             "minorgridcolor": "white",
             "startlinecolor": "#2a3f5f"
            },
            "type": "carpet"
           }
          ],
          "choropleth": [
           {
            "colorbar": {
             "outlinewidth": 0,
             "ticks": ""
            },
            "type": "choropleth"
           }
          ],
          "contour": [
           {
            "colorbar": {
             "outlinewidth": 0,
             "ticks": ""
            },
            "colorscale": [
             [
              0,
              "#0d0887"
             ],
             [
              0.1111111111111111,
              "#46039f"
             ],
             [
              0.2222222222222222,
              "#7201a8"
             ],
             [
              0.3333333333333333,
              "#9c179e"
             ],
             [
              0.4444444444444444,
              "#bd3786"
             ],
             [
              0.5555555555555556,
              "#d8576b"
             ],
             [
              0.6666666666666666,
              "#ed7953"
             ],
             [
              0.7777777777777778,
              "#fb9f3a"
             ],
             [
              0.8888888888888888,
              "#fdca26"
             ],
             [
              1,
              "#f0f921"
             ]
            ],
            "type": "contour"
           }
          ],
          "contourcarpet": [
           {
            "colorbar": {
             "outlinewidth": 0,
             "ticks": ""
            },
            "type": "contourcarpet"
           }
          ],
          "heatmap": [
           {
            "colorbar": {
             "outlinewidth": 0,
             "ticks": ""
            },
            "colorscale": [
             [
              0,
              "#0d0887"
             ],
             [
              0.1111111111111111,
              "#46039f"
             ],
             [
              0.2222222222222222,
              "#7201a8"
             ],
             [
              0.3333333333333333,
              "#9c179e"
             ],
             [
              0.4444444444444444,
              "#bd3786"
             ],
             [
              0.5555555555555556,
              "#d8576b"
             ],
             [
              0.6666666666666666,
              "#ed7953"
             ],
             [
              0.7777777777777778,
              "#fb9f3a"
             ],
             [
              0.8888888888888888,
              "#fdca26"
             ],
             [
              1,
              "#f0f921"
             ]
            ],
            "type": "heatmap"
           }
          ],
          "heatmapgl": [
           {
            "colorbar": {
             "outlinewidth": 0,
             "ticks": ""
            },
            "colorscale": [
             [
              0,
              "#0d0887"
             ],
             [
              0.1111111111111111,
              "#46039f"
             ],
             [
              0.2222222222222222,
              "#7201a8"
             ],
             [
              0.3333333333333333,
              "#9c179e"
             ],
             [
              0.4444444444444444,
              "#bd3786"
             ],
             [
              0.5555555555555556,
              "#d8576b"
             ],
             [
              0.6666666666666666,
              "#ed7953"
             ],
             [
              0.7777777777777778,
              "#fb9f3a"
             ],
             [
              0.8888888888888888,
              "#fdca26"
             ],
             [
              1,
              "#f0f921"
             ]
            ],
            "type": "heatmapgl"
           }
          ],
          "histogram": [
           {
            "marker": {
             "colorbar": {
              "outlinewidth": 0,
              "ticks": ""
             }
            },
            "type": "histogram"
           }
          ],
          "histogram2d": [
           {
            "colorbar": {
             "outlinewidth": 0,
             "ticks": ""
            },
            "colorscale": [
             [
              0,
              "#0d0887"
             ],
             [
              0.1111111111111111,
              "#46039f"
             ],
             [
              0.2222222222222222,
              "#7201a8"
             ],
             [
              0.3333333333333333,
              "#9c179e"
             ],
             [
              0.4444444444444444,
              "#bd3786"
             ],
             [
              0.5555555555555556,
              "#d8576b"
             ],
             [
              0.6666666666666666,
              "#ed7953"
             ],
             [
              0.7777777777777778,
              "#fb9f3a"
             ],
             [
              0.8888888888888888,
              "#fdca26"
             ],
             [
              1,
              "#f0f921"
             ]
            ],
            "type": "histogram2d"
           }
          ],
          "histogram2dcontour": [
           {
            "colorbar": {
             "outlinewidth": 0,
             "ticks": ""
            },
            "colorscale": [
             [
              0,
              "#0d0887"
             ],
             [
              0.1111111111111111,
              "#46039f"
             ],
             [
              0.2222222222222222,
              "#7201a8"
             ],
             [
              0.3333333333333333,
              "#9c179e"
             ],
             [
              0.4444444444444444,
              "#bd3786"
             ],
             [
              0.5555555555555556,
              "#d8576b"
             ],
             [
              0.6666666666666666,
              "#ed7953"
             ],
             [
              0.7777777777777778,
              "#fb9f3a"
             ],
             [
              0.8888888888888888,
              "#fdca26"
             ],
             [
              1,
              "#f0f921"
             ]
            ],
            "type": "histogram2dcontour"
           }
          ],
          "mesh3d": [
           {
            "colorbar": {
             "outlinewidth": 0,
             "ticks": ""
            },
            "type": "mesh3d"
           }
          ],
          "parcoords": [
           {
            "line": {
             "colorbar": {
              "outlinewidth": 0,
              "ticks": ""
             }
            },
            "type": "parcoords"
           }
          ],
          "pie": [
           {
            "automargin": true,
            "type": "pie"
           }
          ],
          "scatter": [
           {
            "marker": {
             "colorbar": {
              "outlinewidth": 0,
              "ticks": ""
             }
            },
            "type": "scatter"
           }
          ],
          "scatter3d": [
           {
            "line": {
             "colorbar": {
              "outlinewidth": 0,
              "ticks": ""
             }
            },
            "marker": {
             "colorbar": {
              "outlinewidth": 0,
              "ticks": ""
             }
            },
            "type": "scatter3d"
           }
          ],
          "scattercarpet": [
           {
            "marker": {
             "colorbar": {
              "outlinewidth": 0,
              "ticks": ""
             }
            },
            "type": "scattercarpet"
           }
          ],
          "scattergeo": [
           {
            "marker": {
             "colorbar": {
              "outlinewidth": 0,
              "ticks": ""
             }
            },
            "type": "scattergeo"
           }
          ],
          "scattergl": [
           {
            "marker": {
             "colorbar": {
              "outlinewidth": 0,
              "ticks": ""
             }
            },
            "type": "scattergl"
           }
          ],
          "scattermapbox": [
           {
            "marker": {
             "colorbar": {
              "outlinewidth": 0,
              "ticks": ""
             }
            },
            "type": "scattermapbox"
           }
          ],
          "scatterpolar": [
           {
            "marker": {
             "colorbar": {
              "outlinewidth": 0,
              "ticks": ""
             }
            },
            "type": "scatterpolar"
           }
          ],
          "scatterpolargl": [
           {
            "marker": {
             "colorbar": {
              "outlinewidth": 0,
              "ticks": ""
             }
            },
            "type": "scatterpolargl"
           }
          ],
          "scatterternary": [
           {
            "marker": {
             "colorbar": {
              "outlinewidth": 0,
              "ticks": ""
             }
            },
            "type": "scatterternary"
           }
          ],
          "surface": [
           {
            "colorbar": {
             "outlinewidth": 0,
             "ticks": ""
            },
            "colorscale": [
             [
              0,
              "#0d0887"
             ],
             [
              0.1111111111111111,
              "#46039f"
             ],
             [
              0.2222222222222222,
              "#7201a8"
             ],
             [
              0.3333333333333333,
              "#9c179e"
             ],
             [
              0.4444444444444444,
              "#bd3786"
             ],
             [
              0.5555555555555556,
              "#d8576b"
             ],
             [
              0.6666666666666666,
              "#ed7953"
             ],
             [
              0.7777777777777778,
              "#fb9f3a"
             ],
             [
              0.8888888888888888,
              "#fdca26"
             ],
             [
              1,
              "#f0f921"
             ]
            ],
            "type": "surface"
           }
          ],
          "table": [
           {
            "cells": {
             "fill": {
              "color": "#EBF0F8"
             },
             "line": {
              "color": "white"
             }
            },
            "header": {
             "fill": {
              "color": "#C8D4E3"
             },
             "line": {
              "color": "white"
             }
            },
            "type": "table"
           }
          ]
         },
         "layout": {
          "annotationdefaults": {
           "arrowcolor": "#2a3f5f",
           "arrowhead": 0,
           "arrowwidth": 1
          },
          "autotypenumbers": "strict",
          "coloraxis": {
           "colorbar": {
            "outlinewidth": 0,
            "ticks": ""
           }
          },
          "colorscale": {
           "diverging": [
            [
             0,
             "#8e0152"
            ],
            [
             0.1,
             "#c51b7d"
            ],
            [
             0.2,
             "#de77ae"
            ],
            [
             0.3,
             "#f1b6da"
            ],
            [
             0.4,
             "#fde0ef"
            ],
            [
             0.5,
             "#f7f7f7"
            ],
            [
             0.6,
             "#e6f5d0"
            ],
            [
             0.7,
             "#b8e186"
            ],
            [
             0.8,
             "#7fbc41"
            ],
            [
             0.9,
             "#4d9221"
            ],
            [
             1,
             "#276419"
            ]
           ],
           "sequential": [
            [
             0,
             "#0d0887"
            ],
            [
             0.1111111111111111,
             "#46039f"
            ],
            [
             0.2222222222222222,
             "#7201a8"
            ],
            [
             0.3333333333333333,
             "#9c179e"
            ],
            [
             0.4444444444444444,
             "#bd3786"
            ],
            [
             0.5555555555555556,
             "#d8576b"
            ],
            [
             0.6666666666666666,
             "#ed7953"
            ],
            [
             0.7777777777777778,
             "#fb9f3a"
            ],
            [
             0.8888888888888888,
             "#fdca26"
            ],
            [
             1,
             "#f0f921"
            ]
           ],
           "sequentialminus": [
            [
             0,
             "#0d0887"
            ],
            [
             0.1111111111111111,
             "#46039f"
            ],
            [
             0.2222222222222222,
             "#7201a8"
            ],
            [
             0.3333333333333333,
             "#9c179e"
            ],
            [
             0.4444444444444444,
             "#bd3786"
            ],
            [
             0.5555555555555556,
             "#d8576b"
            ],
            [
             0.6666666666666666,
             "#ed7953"
            ],
            [
             0.7777777777777778,
             "#fb9f3a"
            ],
            [
             0.8888888888888888,
             "#fdca26"
            ],
            [
             1,
             "#f0f921"
            ]
           ]
          },
          "colorway": [
           "#636efa",
           "#EF553B",
           "#00cc96",
           "#ab63fa",
           "#FFA15A",
           "#19d3f3",
           "#FF6692",
           "#B6E880",
           "#FF97FF",
           "#FECB52"
          ],
          "font": {
           "color": "#2a3f5f"
          },
          "geo": {
           "bgcolor": "white",
           "lakecolor": "white",
           "landcolor": "#E5ECF6",
           "showlakes": true,
           "showland": true,
           "subunitcolor": "white"
          },
          "hoverlabel": {
           "align": "left"
          },
          "hovermode": "closest",
          "mapbox": {
           "style": "light"
          },
          "paper_bgcolor": "white",
          "plot_bgcolor": "#E5ECF6",
          "polar": {
           "angularaxis": {
            "gridcolor": "white",
            "linecolor": "white",
            "ticks": ""
           },
           "bgcolor": "#E5ECF6",
           "radialaxis": {
            "gridcolor": "white",
            "linecolor": "white",
            "ticks": ""
           }
          },
          "scene": {
           "xaxis": {
            "backgroundcolor": "#E5ECF6",
            "gridcolor": "white",
            "gridwidth": 2,
            "linecolor": "white",
            "showbackground": true,
            "ticks": "",
            "zerolinecolor": "white"
           },
           "yaxis": {
            "backgroundcolor": "#E5ECF6",
            "gridcolor": "white",
            "gridwidth": 2,
            "linecolor": "white",
            "showbackground": true,
            "ticks": "",
            "zerolinecolor": "white"
           },
           "zaxis": {
            "backgroundcolor": "#E5ECF6",
            "gridcolor": "white",
            "gridwidth": 2,
            "linecolor": "white",
            "showbackground": true,
            "ticks": "",
            "zerolinecolor": "white"
           }
          },
          "shapedefaults": {
           "line": {
            "color": "#2a3f5f"
           }
          },
          "ternary": {
           "aaxis": {
            "gridcolor": "white",
            "linecolor": "white",
            "ticks": ""
           },
           "baxis": {
            "gridcolor": "white",
            "linecolor": "white",
            "ticks": ""
           },
           "bgcolor": "#E5ECF6",
           "caxis": {
            "gridcolor": "white",
            "linecolor": "white",
            "ticks": ""
           }
          },
          "title": {
           "x": 0.05
          },
          "xaxis": {
           "automargin": true,
           "gridcolor": "white",
           "linecolor": "white",
           "ticks": "",
           "title": {
            "standoff": 15
           },
           "zerolinecolor": "white",
           "zerolinewidth": 2
          },
          "yaxis": {
           "automargin": true,
           "gridcolor": "white",
           "linecolor": "white",
           "ticks": "",
           "title": {
            "standoff": 15
           },
           "zerolinecolor": "white",
           "zerolinewidth": 2
          }
         }
        },
        "xaxis": {
         "anchor": "y",
         "domain": [
          0,
          0.2125
         ],
         "visible": false
        },
        "xaxis2": {
         "anchor": "y2",
         "domain": [
          0.2625,
          0.475
         ],
         "visible": false
        },
        "xaxis3": {
         "anchor": "y3",
         "domain": [
          0.525,
          0.7375
         ],
         "visible": false
        },
        "xaxis4": {
         "anchor": "y4",
         "domain": [
          0.7875,
          1
         ],
         "visible": false
        },
        "yaxis": {
         "anchor": "x",
         "domain": [
          0,
          1
         ],
         "visible": false
        },
        "yaxis2": {
         "anchor": "x2",
         "domain": [
          0,
          1
         ],
         "visible": false
        },
        "yaxis3": {
         "anchor": "x3",
         "domain": [
          0,
          1
         ],
         "visible": false
        },
        "yaxis4": {
         "anchor": "x4",
         "domain": [
          0,
          1
         ],
         "visible": false
        }
       }
      }
     },
     "metadata": {}
    }
   ],
   "source": [
    "trace1 = mnist_fig_fires['data'][0]\n",
    "trace2 = mnist_fig_fsds['data'][0]\n",
    "trace3 = mnist_fig_ofs['data'][0]\n",
    "trace4 = mnist_fig_ofssgd['data'][0]\n",
    "fig = make_subplots(rows=1, cols=4, subplot_titles=(\"FIRES\", \"FSDS\", \"OFS\", \"OFSSGD\"))\n",
    "fig.add_trace(trace1, row=1,col=1)\n",
    "fig.add_trace(trace2, row=1,col=2)\n",
    "fig.add_trace(trace3, row=1,col=3)\n",
    "fig.add_trace(trace4, row=1,col=4)\n",
    "fig.update_xaxes(\n",
    "    visible=False \n",
    ")\n",
    "fig.update_yaxes(\n",
    "    visible=False\n",
    ")\n"
   ]
  },
  {
   "cell_type": "code",
   "execution_count": 41,
   "metadata": {},
   "outputs": [
    {
     "output_type": "display_data",
     "data": {
      "application/vnd.plotly.v1+json": {
       "config": {
        "plotlyServerURL": "https://plot.ly"
       },
       "data": [
        {
         "alignmentgroup": "True",
         "hovertemplate": "color=Pure<br>=%{x}<br>accuracy=%{y}<extra></extra>",
         "legendgroup": "Pure",
         "marker": {
          "color": "#636efa"
         },
         "name": "Pure",
         "offsetgroup": "Pure",
         "orientation": "v",
         "showlegend": true,
         "textposition": "auto",
         "type": "bar",
         "x": [
          "Pure"
         ],
         "xaxis": "x",
         "y": [
          0.8499
         ],
         "yaxis": "y"
        },
        {
         "alignmentgroup": "True",
         "hovertemplate": "color=FIRES<br>=%{x}<br>accuracy=%{y}<extra></extra>",
         "legendgroup": "FIRES",
         "marker": {
          "color": "#EF553B"
         },
         "name": "FIRES",
         "offsetgroup": "FIRES",
         "orientation": "v",
         "showlegend": true,
         "textposition": "auto",
         "type": "bar",
         "x": [
          "FIRES"
         ],
         "xaxis": "x",
         "y": [
          0.7096
         ],
         "yaxis": "y"
        },
        {
         "alignmentgroup": "True",
         "hovertemplate": "color=OFS<br>=%{x}<br>accuracy=%{y}<extra></extra>",
         "legendgroup": "OFS",
         "marker": {
          "color": "#00cc96"
         },
         "name": "OFS",
         "offsetgroup": "OFS",
         "orientation": "v",
         "showlegend": true,
         "textposition": "auto",
         "type": "bar",
         "x": [
          "OFS"
         ],
         "xaxis": "x",
         "y": [
          0.7148
         ],
         "yaxis": "y"
        },
        {
         "alignmentgroup": "True",
         "hovertemplate": "color=OFSSGD<br>=%{x}<br>accuracy=%{y}<extra></extra>",
         "legendgroup": "OFSSGD",
         "marker": {
          "color": "#ab63fa"
         },
         "name": "OFSSGD",
         "offsetgroup": "OFSSGD",
         "orientation": "v",
         "showlegend": true,
         "textposition": "auto",
         "type": "bar",
         "x": [
          "OFSSGD"
         ],
         "xaxis": "x",
         "y": [
          0.7718
         ],
         "yaxis": "y"
        },
        {
         "alignmentgroup": "True",
         "hovertemplate": "color=FSDS<br>=%{x}<br>accuracy=%{y}<extra></extra>",
         "legendgroup": "FSDS",
         "marker": {
          "color": "#FFA15A"
         },
         "name": "FSDS",
         "offsetgroup": "FSDS",
         "orientation": "v",
         "showlegend": true,
         "textposition": "auto",
         "type": "bar",
         "x": [
          "FSDS"
         ],
         "xaxis": "x",
         "y": [
          0.8328
         ],
         "yaxis": "y"
        }
       ],
       "layout": {
        "barmode": "relative",
        "legend": {
         "title": {
          "text": "color"
         },
         "tracegroupgap": 0
        },
        "template": {
         "data": {
          "bar": [
           {
            "error_x": {
             "color": "#2a3f5f"
            },
            "error_y": {
             "color": "#2a3f5f"
            },
            "marker": {
             "line": {
              "color": "#E5ECF6",
              "width": 0.5
             }
            },
            "type": "bar"
           }
          ],
          "barpolar": [
           {
            "marker": {
             "line": {
              "color": "#E5ECF6",
              "width": 0.5
             }
            },
            "type": "barpolar"
           }
          ],
          "carpet": [
           {
            "aaxis": {
             "endlinecolor": "#2a3f5f",
             "gridcolor": "white",
             "linecolor": "white",
             "minorgridcolor": "white",
             "startlinecolor": "#2a3f5f"
            },
            "baxis": {
             "endlinecolor": "#2a3f5f",
             "gridcolor": "white",
             "linecolor": "white",
             "minorgridcolor": "white",
             "startlinecolor": "#2a3f5f"
            },
            "type": "carpet"
           }
          ],
          "choropleth": [
           {
            "colorbar": {
             "outlinewidth": 0,
             "ticks": ""
            },
            "type": "choropleth"
           }
          ],
          "contour": [
           {
            "colorbar": {
             "outlinewidth": 0,
             "ticks": ""
            },
            "colorscale": [
             [
              0,
              "#0d0887"
             ],
             [
              0.1111111111111111,
              "#46039f"
             ],
             [
              0.2222222222222222,
              "#7201a8"
             ],
             [
              0.3333333333333333,
              "#9c179e"
             ],
             [
              0.4444444444444444,
              "#bd3786"
             ],
             [
              0.5555555555555556,
              "#d8576b"
             ],
             [
              0.6666666666666666,
              "#ed7953"
             ],
             [
              0.7777777777777778,
              "#fb9f3a"
             ],
             [
              0.8888888888888888,
              "#fdca26"
             ],
             [
              1,
              "#f0f921"
             ]
            ],
            "type": "contour"
           }
          ],
          "contourcarpet": [
           {
            "colorbar": {
             "outlinewidth": 0,
             "ticks": ""
            },
            "type": "contourcarpet"
           }
          ],
          "heatmap": [
           {
            "colorbar": {
             "outlinewidth": 0,
             "ticks": ""
            },
            "colorscale": [
             [
              0,
              "#0d0887"
             ],
             [
              0.1111111111111111,
              "#46039f"
             ],
             [
              0.2222222222222222,
              "#7201a8"
             ],
             [
              0.3333333333333333,
              "#9c179e"
             ],
             [
              0.4444444444444444,
              "#bd3786"
             ],
             [
              0.5555555555555556,
              "#d8576b"
             ],
             [
              0.6666666666666666,
              "#ed7953"
             ],
             [
              0.7777777777777778,
              "#fb9f3a"
             ],
             [
              0.8888888888888888,
              "#fdca26"
             ],
             [
              1,
              "#f0f921"
             ]
            ],
            "type": "heatmap"
           }
          ],
          "heatmapgl": [
           {
            "colorbar": {
             "outlinewidth": 0,
             "ticks": ""
            },
            "colorscale": [
             [
              0,
              "#0d0887"
             ],
             [
              0.1111111111111111,
              "#46039f"
             ],
             [
              0.2222222222222222,
              "#7201a8"
             ],
             [
              0.3333333333333333,
              "#9c179e"
             ],
             [
              0.4444444444444444,
              "#bd3786"
             ],
             [
              0.5555555555555556,
              "#d8576b"
             ],
             [
              0.6666666666666666,
              "#ed7953"
             ],
             [
              0.7777777777777778,
              "#fb9f3a"
             ],
             [
              0.8888888888888888,
              "#fdca26"
             ],
             [
              1,
              "#f0f921"
             ]
            ],
            "type": "heatmapgl"
           }
          ],
          "histogram": [
           {
            "marker": {
             "colorbar": {
              "outlinewidth": 0,
              "ticks": ""
             }
            },
            "type": "histogram"
           }
          ],
          "histogram2d": [
           {
            "colorbar": {
             "outlinewidth": 0,
             "ticks": ""
            },
            "colorscale": [
             [
              0,
              "#0d0887"
             ],
             [
              0.1111111111111111,
              "#46039f"
             ],
             [
              0.2222222222222222,
              "#7201a8"
             ],
             [
              0.3333333333333333,
              "#9c179e"
             ],
             [
              0.4444444444444444,
              "#bd3786"
             ],
             [
              0.5555555555555556,
              "#d8576b"
             ],
             [
              0.6666666666666666,
              "#ed7953"
             ],
             [
              0.7777777777777778,
              "#fb9f3a"
             ],
             [
              0.8888888888888888,
              "#fdca26"
             ],
             [
              1,
              "#f0f921"
             ]
            ],
            "type": "histogram2d"
           }
          ],
          "histogram2dcontour": [
           {
            "colorbar": {
             "outlinewidth": 0,
             "ticks": ""
            },
            "colorscale": [
             [
              0,
              "#0d0887"
             ],
             [
              0.1111111111111111,
              "#46039f"
             ],
             [
              0.2222222222222222,
              "#7201a8"
             ],
             [
              0.3333333333333333,
              "#9c179e"
             ],
             [
              0.4444444444444444,
              "#bd3786"
             ],
             [
              0.5555555555555556,
              "#d8576b"
             ],
             [
              0.6666666666666666,
              "#ed7953"
             ],
             [
              0.7777777777777778,
              "#fb9f3a"
             ],
             [
              0.8888888888888888,
              "#fdca26"
             ],
             [
              1,
              "#f0f921"
             ]
            ],
            "type": "histogram2dcontour"
           }
          ],
          "mesh3d": [
           {
            "colorbar": {
             "outlinewidth": 0,
             "ticks": ""
            },
            "type": "mesh3d"
           }
          ],
          "parcoords": [
           {
            "line": {
             "colorbar": {
              "outlinewidth": 0,
              "ticks": ""
             }
            },
            "type": "parcoords"
           }
          ],
          "pie": [
           {
            "automargin": true,
            "type": "pie"
           }
          ],
          "scatter": [
           {
            "marker": {
             "colorbar": {
              "outlinewidth": 0,
              "ticks": ""
             }
            },
            "type": "scatter"
           }
          ],
          "scatter3d": [
           {
            "line": {
             "colorbar": {
              "outlinewidth": 0,
              "ticks": ""
             }
            },
            "marker": {
             "colorbar": {
              "outlinewidth": 0,
              "ticks": ""
             }
            },
            "type": "scatter3d"
           }
          ],
          "scattercarpet": [
           {
            "marker": {
             "colorbar": {
              "outlinewidth": 0,
              "ticks": ""
             }
            },
            "type": "scattercarpet"
           }
          ],
          "scattergeo": [
           {
            "marker": {
             "colorbar": {
              "outlinewidth": 0,
              "ticks": ""
             }
            },
            "type": "scattergeo"
           }
          ],
          "scattergl": [
           {
            "marker": {
             "colorbar": {
              "outlinewidth": 0,
              "ticks": ""
             }
            },
            "type": "scattergl"
           }
          ],
          "scattermapbox": [
           {
            "marker": {
             "colorbar": {
              "outlinewidth": 0,
              "ticks": ""
             }
            },
            "type": "scattermapbox"
           }
          ],
          "scatterpolar": [
           {
            "marker": {
             "colorbar": {
              "outlinewidth": 0,
              "ticks": ""
             }
            },
            "type": "scatterpolar"
           }
          ],
          "scatterpolargl": [
           {
            "marker": {
             "colorbar": {
              "outlinewidth": 0,
              "ticks": ""
             }
            },
            "type": "scatterpolargl"
           }
          ],
          "scatterternary": [
           {
            "marker": {
             "colorbar": {
              "outlinewidth": 0,
              "ticks": ""
             }
            },
            "type": "scatterternary"
           }
          ],
          "surface": [
           {
            "colorbar": {
             "outlinewidth": 0,
             "ticks": ""
            },
            "colorscale": [
             [
              0,
              "#0d0887"
             ],
             [
              0.1111111111111111,
              "#46039f"
             ],
             [
              0.2222222222222222,
              "#7201a8"
             ],
             [
              0.3333333333333333,
              "#9c179e"
             ],
             [
              0.4444444444444444,
              "#bd3786"
             ],
             [
              0.5555555555555556,
              "#d8576b"
             ],
             [
              0.6666666666666666,
              "#ed7953"
             ],
             [
              0.7777777777777778,
              "#fb9f3a"
             ],
             [
              0.8888888888888888,
              "#fdca26"
             ],
             [
              1,
              "#f0f921"
             ]
            ],
            "type": "surface"
           }
          ],
          "table": [
           {
            "cells": {
             "fill": {
              "color": "#EBF0F8"
             },
             "line": {
              "color": "white"
             }
            },
            "header": {
             "fill": {
              "color": "#C8D4E3"
             },
             "line": {
              "color": "white"
             }
            },
            "type": "table"
           }
          ]
         },
         "layout": {
          "annotationdefaults": {
           "arrowcolor": "#2a3f5f",
           "arrowhead": 0,
           "arrowwidth": 1
          },
          "autotypenumbers": "strict",
          "coloraxis": {
           "colorbar": {
            "outlinewidth": 0,
            "ticks": ""
           }
          },
          "colorscale": {
           "diverging": [
            [
             0,
             "#8e0152"
            ],
            [
             0.1,
             "#c51b7d"
            ],
            [
             0.2,
             "#de77ae"
            ],
            [
             0.3,
             "#f1b6da"
            ],
            [
             0.4,
             "#fde0ef"
            ],
            [
             0.5,
             "#f7f7f7"
            ],
            [
             0.6,
             "#e6f5d0"
            ],
            [
             0.7,
             "#b8e186"
            ],
            [
             0.8,
             "#7fbc41"
            ],
            [
             0.9,
             "#4d9221"
            ],
            [
             1,
             "#276419"
            ]
           ],
           "sequential": [
            [
             0,
             "#0d0887"
            ],
            [
             0.1111111111111111,
             "#46039f"
            ],
            [
             0.2222222222222222,
             "#7201a8"
            ],
            [
             0.3333333333333333,
             "#9c179e"
            ],
            [
             0.4444444444444444,
             "#bd3786"
            ],
            [
             0.5555555555555556,
             "#d8576b"
            ],
            [
             0.6666666666666666,
             "#ed7953"
            ],
            [
             0.7777777777777778,
             "#fb9f3a"
            ],
            [
             0.8888888888888888,
             "#fdca26"
            ],
            [
             1,
             "#f0f921"
            ]
           ],
           "sequentialminus": [
            [
             0,
             "#0d0887"
            ],
            [
             0.1111111111111111,
             "#46039f"
            ],
            [
             0.2222222222222222,
             "#7201a8"
            ],
            [
             0.3333333333333333,
             "#9c179e"
            ],
            [
             0.4444444444444444,
             "#bd3786"
            ],
            [
             0.5555555555555556,
             "#d8576b"
            ],
            [
             0.6666666666666666,
             "#ed7953"
            ],
            [
             0.7777777777777778,
             "#fb9f3a"
            ],
            [
             0.8888888888888888,
             "#fdca26"
            ],
            [
             1,
             "#f0f921"
            ]
           ]
          },
          "colorway": [
           "#636efa",
           "#EF553B",
           "#00cc96",
           "#ab63fa",
           "#FFA15A",
           "#19d3f3",
           "#FF6692",
           "#B6E880",
           "#FF97FF",
           "#FECB52"
          ],
          "font": {
           "color": "#2a3f5f"
          },
          "geo": {
           "bgcolor": "white",
           "lakecolor": "white",
           "landcolor": "#E5ECF6",
           "showlakes": true,
           "showland": true,
           "subunitcolor": "white"
          },
          "hoverlabel": {
           "align": "left"
          },
          "hovermode": "closest",
          "mapbox": {
           "style": "light"
          },
          "paper_bgcolor": "white",
          "plot_bgcolor": "#E5ECF6",
          "polar": {
           "angularaxis": {
            "gridcolor": "white",
            "linecolor": "white",
            "ticks": ""
           },
           "bgcolor": "#E5ECF6",
           "radialaxis": {
            "gridcolor": "white",
            "linecolor": "white",
            "ticks": ""
           }
          },
          "scene": {
           "xaxis": {
            "backgroundcolor": "#E5ECF6",
            "gridcolor": "white",
            "gridwidth": 2,
            "linecolor": "white",
            "showbackground": true,
            "ticks": "",
            "zerolinecolor": "white"
           },
           "yaxis": {
            "backgroundcolor": "#E5ECF6",
            "gridcolor": "white",
            "gridwidth": 2,
            "linecolor": "white",
            "showbackground": true,
            "ticks": "",
            "zerolinecolor": "white"
           },
           "zaxis": {
            "backgroundcolor": "#E5ECF6",
            "gridcolor": "white",
            "gridwidth": 2,
            "linecolor": "white",
            "showbackground": true,
            "ticks": "",
            "zerolinecolor": "white"
           }
          },
          "shapedefaults": {
           "line": {
            "color": "#2a3f5f"
           }
          },
          "ternary": {
           "aaxis": {
            "gridcolor": "white",
            "linecolor": "white",
            "ticks": ""
           },
           "baxis": {
            "gridcolor": "white",
            "linecolor": "white",
            "ticks": ""
           },
           "bgcolor": "#E5ECF6",
           "caxis": {
            "gridcolor": "white",
            "linecolor": "white",
            "ticks": ""
           }
          },
          "title": {
           "x": 0.05
          },
          "xaxis": {
           "automargin": true,
           "gridcolor": "white",
           "linecolor": "white",
           "ticks": "",
           "title": {
            "standoff": 15
           },
           "zerolinecolor": "white",
           "zerolinewidth": 2
          },
          "yaxis": {
           "automargin": true,
           "gridcolor": "white",
           "linecolor": "white",
           "ticks": "",
           "title": {
            "standoff": 15
           },
           "zerolinecolor": "white",
           "zerolinewidth": 2
          }
         }
        },
        "title": {
         "text": "Accuracy on test data"
        },
        "xaxis": {
         "anchor": "y",
         "domain": [
          0,
          1
         ],
         "title": {
          "text": ""
         }
        },
        "yaxis": {
         "anchor": "x",
         "domain": [
          0,
          1
         ],
         "title": {
          "text": "accuracy"
         }
        }
       }
      }
     },
     "metadata": {}
    }
   ],
   "source": [
    "# accuracy on test data\n",
    "col_names = [\"Pure\",\"FIRES\",\"FSDS\", \"OFS\", \"OFSSGD\"]\n",
    "values = [accuracy_no_ofs, accuracy_fires, accuracy_fsds, accuracy_ofs, accuracy_ofssgd]\n",
    "fig = px.bar(x=col_names, y=values, title=\"Accuracy on test data\", labels={\"y\":\"accuracy\", \"x\":\"\"}, color=col_names)\n",
    "fig.show()"
   ]
  },
  {
   "cell_type": "code",
   "execution_count": 42,
   "metadata": {},
   "outputs": [
    {
     "output_type": "display_data",
     "data": {
      "application/vnd.plotly.v1+json": {
       "config": {
        "plotlyServerURL": "https://plot.ly"
       },
       "data": [
        {
         "alignmentgroup": "True",
         "hovertemplate": "color=FIRES<br>=%{x}<br>accuracy=%{y}<extra></extra>",
         "legendgroup": "FIRES",
         "marker": {
          "color": "#636efa"
         },
         "name": "FIRES",
         "offsetgroup": "FIRES",
         "orientation": "v",
         "showlegend": true,
         "textposition": "auto",
         "type": "bar",
         "x": [
          "FIRES"
         ],
         "xaxis": "x",
         "y": [
          82.63893011099935
         ],
         "yaxis": "y"
        },
        {
         "alignmentgroup": "True",
         "hovertemplate": "color=FSDS<br>=%{x}<br>accuracy=%{y}<extra></extra>",
         "legendgroup": "FSDS",
         "marker": {
          "color": "#EF553B"
         },
         "name": "FSDS",
         "offsetgroup": "FSDS",
         "orientation": "v",
         "showlegend": true,
         "textposition": "auto",
         "type": "bar",
         "x": [
          "FSDS"
         ],
         "xaxis": "x",
         "y": [
          9.188813579000453
         ],
         "yaxis": "y"
        },
        {
         "alignmentgroup": "True",
         "hovertemplate": "color=OFS<br>=%{x}<br>accuracy=%{y}<extra></extra>",
         "legendgroup": "OFS",
         "marker": {
          "color": "#00cc96"
         },
         "name": "OFS",
         "offsetgroup": "OFS",
         "orientation": "v",
         "showlegend": true,
         "textposition": "auto",
         "type": "bar",
         "x": [
          "OFS"
         ],
         "xaxis": "x",
         "y": [
          7.24586362700029
         ],
         "yaxis": "y"
        },
        {
         "alignmentgroup": "True",
         "hovertemplate": "color=OFSSGD<br>=%{x}<br>accuracy=%{y}<extra></extra>",
         "legendgroup": "OFSSGD",
         "marker": {
          "color": "#ab63fa"
         },
         "name": "OFSSGD",
         "offsetgroup": "OFSSGD",
         "orientation": "v",
         "showlegend": true,
         "textposition": "auto",
         "type": "bar",
         "x": [
          "OFSSGD"
         ],
         "xaxis": "x",
         "y": [
          116.7071866289998
         ],
         "yaxis": "y"
        }
       ],
       "layout": {
        "barmode": "relative",
        "legend": {
         "title": {
          "text": "color"
         },
         "tracegroupgap": 0
        },
        "template": {
         "data": {
          "bar": [
           {
            "error_x": {
             "color": "#2a3f5f"
            },
            "error_y": {
             "color": "#2a3f5f"
            },
            "marker": {
             "line": {
              "color": "#E5ECF6",
              "width": 0.5
             }
            },
            "type": "bar"
           }
          ],
          "barpolar": [
           {
            "marker": {
             "line": {
              "color": "#E5ECF6",
              "width": 0.5
             }
            },
            "type": "barpolar"
           }
          ],
          "carpet": [
           {
            "aaxis": {
             "endlinecolor": "#2a3f5f",
             "gridcolor": "white",
             "linecolor": "white",
             "minorgridcolor": "white",
             "startlinecolor": "#2a3f5f"
            },
            "baxis": {
             "endlinecolor": "#2a3f5f",
             "gridcolor": "white",
             "linecolor": "white",
             "minorgridcolor": "white",
             "startlinecolor": "#2a3f5f"
            },
            "type": "carpet"
           }
          ],
          "choropleth": [
           {
            "colorbar": {
             "outlinewidth": 0,
             "ticks": ""
            },
            "type": "choropleth"
           }
          ],
          "contour": [
           {
            "colorbar": {
             "outlinewidth": 0,
             "ticks": ""
            },
            "colorscale": [
             [
              0,
              "#0d0887"
             ],
             [
              0.1111111111111111,
              "#46039f"
             ],
             [
              0.2222222222222222,
              "#7201a8"
             ],
             [
              0.3333333333333333,
              "#9c179e"
             ],
             [
              0.4444444444444444,
              "#bd3786"
             ],
             [
              0.5555555555555556,
              "#d8576b"
             ],
             [
              0.6666666666666666,
              "#ed7953"
             ],
             [
              0.7777777777777778,
              "#fb9f3a"
             ],
             [
              0.8888888888888888,
              "#fdca26"
             ],
             [
              1,
              "#f0f921"
             ]
            ],
            "type": "contour"
           }
          ],
          "contourcarpet": [
           {
            "colorbar": {
             "outlinewidth": 0,
             "ticks": ""
            },
            "type": "contourcarpet"
           }
          ],
          "heatmap": [
           {
            "colorbar": {
             "outlinewidth": 0,
             "ticks": ""
            },
            "colorscale": [
             [
              0,
              "#0d0887"
             ],
             [
              0.1111111111111111,
              "#46039f"
             ],
             [
              0.2222222222222222,
              "#7201a8"
             ],
             [
              0.3333333333333333,
              "#9c179e"
             ],
             [
              0.4444444444444444,
              "#bd3786"
             ],
             [
              0.5555555555555556,
              "#d8576b"
             ],
             [
              0.6666666666666666,
              "#ed7953"
             ],
             [
              0.7777777777777778,
              "#fb9f3a"
             ],
             [
              0.8888888888888888,
              "#fdca26"
             ],
             [
              1,
              "#f0f921"
             ]
            ],
            "type": "heatmap"
           }
          ],
          "heatmapgl": [
           {
            "colorbar": {
             "outlinewidth": 0,
             "ticks": ""
            },
            "colorscale": [
             [
              0,
              "#0d0887"
             ],
             [
              0.1111111111111111,
              "#46039f"
             ],
             [
              0.2222222222222222,
              "#7201a8"
             ],
             [
              0.3333333333333333,
              "#9c179e"
             ],
             [
              0.4444444444444444,
              "#bd3786"
             ],
             [
              0.5555555555555556,
              "#d8576b"
             ],
             [
              0.6666666666666666,
              "#ed7953"
             ],
             [
              0.7777777777777778,
              "#fb9f3a"
             ],
             [
              0.8888888888888888,
              "#fdca26"
             ],
             [
              1,
              "#f0f921"
             ]
            ],
            "type": "heatmapgl"
           }
          ],
          "histogram": [
           {
            "marker": {
             "colorbar": {
              "outlinewidth": 0,
              "ticks": ""
             }
            },
            "type": "histogram"
           }
          ],
          "histogram2d": [
           {
            "colorbar": {
             "outlinewidth": 0,
             "ticks": ""
            },
            "colorscale": [
             [
              0,
              "#0d0887"
             ],
             [
              0.1111111111111111,
              "#46039f"
             ],
             [
              0.2222222222222222,
              "#7201a8"
             ],
             [
              0.3333333333333333,
              "#9c179e"
             ],
             [
              0.4444444444444444,
              "#bd3786"
             ],
             [
              0.5555555555555556,
              "#d8576b"
             ],
             [
              0.6666666666666666,
              "#ed7953"
             ],
             [
              0.7777777777777778,
              "#fb9f3a"
             ],
             [
              0.8888888888888888,
              "#fdca26"
             ],
             [
              1,
              "#f0f921"
             ]
            ],
            "type": "histogram2d"
           }
          ],
          "histogram2dcontour": [
           {
            "colorbar": {
             "outlinewidth": 0,
             "ticks": ""
            },
            "colorscale": [
             [
              0,
              "#0d0887"
             ],
             [
              0.1111111111111111,
              "#46039f"
             ],
             [
              0.2222222222222222,
              "#7201a8"
             ],
             [
              0.3333333333333333,
              "#9c179e"
             ],
             [
              0.4444444444444444,
              "#bd3786"
             ],
             [
              0.5555555555555556,
              "#d8576b"
             ],
             [
              0.6666666666666666,
              "#ed7953"
             ],
             [
              0.7777777777777778,
              "#fb9f3a"
             ],
             [
              0.8888888888888888,
              "#fdca26"
             ],
             [
              1,
              "#f0f921"
             ]
            ],
            "type": "histogram2dcontour"
           }
          ],
          "mesh3d": [
           {
            "colorbar": {
             "outlinewidth": 0,
             "ticks": ""
            },
            "type": "mesh3d"
           }
          ],
          "parcoords": [
           {
            "line": {
             "colorbar": {
              "outlinewidth": 0,
              "ticks": ""
             }
            },
            "type": "parcoords"
           }
          ],
          "pie": [
           {
            "automargin": true,
            "type": "pie"
           }
          ],
          "scatter": [
           {
            "marker": {
             "colorbar": {
              "outlinewidth": 0,
              "ticks": ""
             }
            },
            "type": "scatter"
           }
          ],
          "scatter3d": [
           {
            "line": {
             "colorbar": {
              "outlinewidth": 0,
              "ticks": ""
             }
            },
            "marker": {
             "colorbar": {
              "outlinewidth": 0,
              "ticks": ""
             }
            },
            "type": "scatter3d"
           }
          ],
          "scattercarpet": [
           {
            "marker": {
             "colorbar": {
              "outlinewidth": 0,
              "ticks": ""
             }
            },
            "type": "scattercarpet"
           }
          ],
          "scattergeo": [
           {
            "marker": {
             "colorbar": {
              "outlinewidth": 0,
              "ticks": ""
             }
            },
            "type": "scattergeo"
           }
          ],
          "scattergl": [
           {
            "marker": {
             "colorbar": {
              "outlinewidth": 0,
              "ticks": ""
             }
            },
            "type": "scattergl"
           }
          ],
          "scattermapbox": [
           {
            "marker": {
             "colorbar": {
              "outlinewidth": 0,
              "ticks": ""
             }
            },
            "type": "scattermapbox"
           }
          ],
          "scatterpolar": [
           {
            "marker": {
             "colorbar": {
              "outlinewidth": 0,
              "ticks": ""
             }
            },
            "type": "scatterpolar"
           }
          ],
          "scatterpolargl": [
           {
            "marker": {
             "colorbar": {
              "outlinewidth": 0,
              "ticks": ""
             }
            },
            "type": "scatterpolargl"
           }
          ],
          "scatterternary": [
           {
            "marker": {
             "colorbar": {
              "outlinewidth": 0,
              "ticks": ""
             }
            },
            "type": "scatterternary"
           }
          ],
          "surface": [
           {
            "colorbar": {
             "outlinewidth": 0,
             "ticks": ""
            },
            "colorscale": [
             [
              0,
              "#0d0887"
             ],
             [
              0.1111111111111111,
              "#46039f"
             ],
             [
              0.2222222222222222,
              "#7201a8"
             ],
             [
              0.3333333333333333,
              "#9c179e"
             ],
             [
              0.4444444444444444,
              "#bd3786"
             ],
             [
              0.5555555555555556,
              "#d8576b"
             ],
             [
              0.6666666666666666,
              "#ed7953"
             ],
             [
              0.7777777777777778,
              "#fb9f3a"
             ],
             [
              0.8888888888888888,
              "#fdca26"
             ],
             [
              1,
              "#f0f921"
             ]
            ],
            "type": "surface"
           }
          ],
          "table": [
           {
            "cells": {
             "fill": {
              "color": "#EBF0F8"
             },
             "line": {
              "color": "white"
             }
            },
            "header": {
             "fill": {
              "color": "#C8D4E3"
             },
             "line": {
              "color": "white"
             }
            },
            "type": "table"
           }
          ]
         },
         "layout": {
          "annotationdefaults": {
           "arrowcolor": "#2a3f5f",
           "arrowhead": 0,
           "arrowwidth": 1
          },
          "autotypenumbers": "strict",
          "coloraxis": {
           "colorbar": {
            "outlinewidth": 0,
            "ticks": ""
           }
          },
          "colorscale": {
           "diverging": [
            [
             0,
             "#8e0152"
            ],
            [
             0.1,
             "#c51b7d"
            ],
            [
             0.2,
             "#de77ae"
            ],
            [
             0.3,
             "#f1b6da"
            ],
            [
             0.4,
             "#fde0ef"
            ],
            [
             0.5,
             "#f7f7f7"
            ],
            [
             0.6,
             "#e6f5d0"
            ],
            [
             0.7,
             "#b8e186"
            ],
            [
             0.8,
             "#7fbc41"
            ],
            [
             0.9,
             "#4d9221"
            ],
            [
             1,
             "#276419"
            ]
           ],
           "sequential": [
            [
             0,
             "#0d0887"
            ],
            [
             0.1111111111111111,
             "#46039f"
            ],
            [
             0.2222222222222222,
             "#7201a8"
            ],
            [
             0.3333333333333333,
             "#9c179e"
            ],
            [
             0.4444444444444444,
             "#bd3786"
            ],
            [
             0.5555555555555556,
             "#d8576b"
            ],
            [
             0.6666666666666666,
             "#ed7953"
            ],
            [
             0.7777777777777778,
             "#fb9f3a"
            ],
            [
             0.8888888888888888,
             "#fdca26"
            ],
            [
             1,
             "#f0f921"
            ]
           ],
           "sequentialminus": [
            [
             0,
             "#0d0887"
            ],
            [
             0.1111111111111111,
             "#46039f"
            ],
            [
             0.2222222222222222,
             "#7201a8"
            ],
            [
             0.3333333333333333,
             "#9c179e"
            ],
            [
             0.4444444444444444,
             "#bd3786"
            ],
            [
             0.5555555555555556,
             "#d8576b"
            ],
            [
             0.6666666666666666,
             "#ed7953"
            ],
            [
             0.7777777777777778,
             "#fb9f3a"
            ],
            [
             0.8888888888888888,
             "#fdca26"
            ],
            [
             1,
             "#f0f921"
            ]
           ]
          },
          "colorway": [
           "#636efa",
           "#EF553B",
           "#00cc96",
           "#ab63fa",
           "#FFA15A",
           "#19d3f3",
           "#FF6692",
           "#B6E880",
           "#FF97FF",
           "#FECB52"
          ],
          "font": {
           "color": "#2a3f5f"
          },
          "geo": {
           "bgcolor": "white",
           "lakecolor": "white",
           "landcolor": "#E5ECF6",
           "showlakes": true,
           "showland": true,
           "subunitcolor": "white"
          },
          "hoverlabel": {
           "align": "left"
          },
          "hovermode": "closest",
          "mapbox": {
           "style": "light"
          },
          "paper_bgcolor": "white",
          "plot_bgcolor": "#E5ECF6",
          "polar": {
           "angularaxis": {
            "gridcolor": "white",
            "linecolor": "white",
            "ticks": ""
           },
           "bgcolor": "#E5ECF6",
           "radialaxis": {
            "gridcolor": "white",
            "linecolor": "white",
            "ticks": ""
           }
          },
          "scene": {
           "xaxis": {
            "backgroundcolor": "#E5ECF6",
            "gridcolor": "white",
            "gridwidth": 2,
            "linecolor": "white",
            "showbackground": true,
            "ticks": "",
            "zerolinecolor": "white"
           },
           "yaxis": {
            "backgroundcolor": "#E5ECF6",
            "gridcolor": "white",
            "gridwidth": 2,
            "linecolor": "white",
            "showbackground": true,
            "ticks": "",
            "zerolinecolor": "white"
           },
           "zaxis": {
            "backgroundcolor": "#E5ECF6",
            "gridcolor": "white",
            "gridwidth": 2,
            "linecolor": "white",
            "showbackground": true,
            "ticks": "",
            "zerolinecolor": "white"
           }
          },
          "shapedefaults": {
           "line": {
            "color": "#2a3f5f"
           }
          },
          "ternary": {
           "aaxis": {
            "gridcolor": "white",
            "linecolor": "white",
            "ticks": ""
           },
           "baxis": {
            "gridcolor": "white",
            "linecolor": "white",
            "ticks": ""
           },
           "bgcolor": "#E5ECF6",
           "caxis": {
            "gridcolor": "white",
            "linecolor": "white",
            "ticks": ""
           }
          },
          "title": {
           "x": 0.05
          },
          "xaxis": {
           "automargin": true,
           "gridcolor": "white",
           "linecolor": "white",
           "ticks": "",
           "title": {
            "standoff": 15
           },
           "zerolinecolor": "white",
           "zerolinewidth": 2
          },
          "yaxis": {
           "automargin": true,
           "gridcolor": "white",
           "linecolor": "white",
           "ticks": "",
           "title": {
            "standoff": 15
           },
           "zerolinecolor": "white",
           "zerolinewidth": 2
          }
         }
        },
        "title": {
         "text": "Accuracy on test data"
        },
        "xaxis": {
         "anchor": "y",
         "domain": [
          0,
          1
         ],
         "title": {
          "text": ""
         }
        },
        "yaxis": {
         "anchor": "x",
         "domain": [
          0,
          1
         ],
         "title": {
          "text": "accuracy"
         }
        }
       }
      }
     },
     "metadata": {}
    }
   ],
   "source": [
    "# runtimes\n",
    "col_names = [\"FIRES\",\"FSDS\", \"OFS\", \"OFSSGD\"]\n",
    "values = [fires_cuda_run_time, fsds_run_time, ofs_run_time, ofssgd_run_time]\n",
    "fig = px.bar(x=col_names, y=values, title=\"Accuracy on test data\", labels={\"y\":\"accuracy\", \"x\":\"\"}, color=col_names)\n",
    "fig.show()"
   ]
  },
  {
   "source": [
    "## Regression Data\n",
    "The FIRES Model can't be compared to a real datastream algorithm, instead the SGDRegressor form scikit learn\n"
   ],
   "cell_type": "markdown",
   "metadata": {}
  },
  {
   "source": [
    "### Load Datasets as Streaming Data"
   ],
   "cell_type": "markdown",
   "metadata": {}
  },
  {
   "cell_type": "code",
   "execution_count": null,
   "metadata": {},
   "outputs": [],
   "source": [
    "stream = FileStream('datasets/Regression/ailerons.csv', target_idx=0)\n",
    "stream.prepare_for_use()\n",
    "dataset_name = \"ailerons\"\n",
    "n_selected_ftr = 10\n",
    "\n",
    "# load test data\n",
    "test_data = pd.read_csv('datasets/Multiclass/mnist_test_normalized.csv')\n",
    "test_y = test_data[40].to_numpy()\n",
    "test_x = test_data.drop(columns=\"40\").to_numpy()"
   ]
  },
  {
   "cell_type": "code",
   "execution_count": null,
   "metadata": {},
   "outputs": [],
   "source": [
    "# use SGDRegressor as predictor\n",
    "predictor = SGDRegressor()\n",
    "X, y = stream.next_sample(batch_size=100)\n",
    "predictor.partial_fit(X,y)"
   ]
  },
  {
   "source": [
    "### FIRES for Regression"
   ],
   "cell_type": "markdown",
   "metadata": {}
  },
  {
   "cell_type": "code",
   "execution_count": null,
   "metadata": {},
   "outputs": [],
   "source": [
    "fires_model = FC(n_total_ftr=stream.n_features,\n",
    "                 mu_init=0,\n",
    "                 sigma_init=1,\n",
    "                 model='regression')  "
   ]
  },
  {
   "cell_type": "code",
   "execution_count": null,
   "metadata": {},
   "outputs": [],
   "source": [
    "fires_cuda_accuracy = []\n",
    "#fsds_f1 = []\n",
    "fires_cuda_times = []\n",
    "\n",
    "fires_cuda_selected_ftrs = []\n",
    "fires_cuda_stability = []\n",
    "\n",
    "start_time_all = timer()\n",
    "while stream.has_more_samples():\n",
    "    # Load a new sample\n",
    "    x, y = stream.next_sample(batch_size=100)\n",
    "    # Select features\n",
    "    start_time = timer()\n",
    "    ftr_weights = fires_model.weigh_features(x,y)\n",
    "    ftr_selection = np.argsort(ftr_weights)[::-1][:n_selected_ftr]\n",
    "    fires_cuda_times.append(timer()-start_time)\n",
    "\n",
    "    # Truncate x (retain only selected features, 'remove' all others, e.g. by replacing them with 0)\n",
    "    x_reduced = np.zeros(x.shape)\n",
    "    x_reduced[:, ftr_selection] = x[:, ftr_selection]\n",
    "\n",
    "    # stability test\n",
    "    ftr_array = np.zeros(stream.n_features)\n",
    "    ftr_array[ftr_selection] = 1\n",
    "    fires_cuda_selected_ftrs.append(ftr_array)\n",
    "\n",
    "    if len(fires_cuda_selected_ftrs) >= 10:\n",
    "        stability = stability_factor(fires_cuda_selected_ftrs[-10:])\n",
    "        fires_cuda_stability.append(stability)\n",
    "\n",
    "\n",
    "    # Test\n",
    "    y_pred = predictor.predict(x_reduced)\n",
    "    \n",
    "    fires_cuda_accuracy.append(accuracy_score(y, y_pred))\n",
    "    \n",
    "\n",
    "\n",
    "    # Train\n",
    "    predictor.partial_fit(x_reduced, y)\n",
    "\n",
    "# Restart the FileStream\n",
    "end_time_all = timer()\n",
    "fires_cuda_run_time = timer() - start_time_all\n",
    "print(\"The whole fires_cuda run took {}\".format(fires_cuda_run_time))\n",
    "stream.restart()"
   ]
  },
  {
   "cell_type": "code",
   "execution_count": null,
   "metadata": {},
   "outputs": [],
   "source": [
    "fig = px.line(y = fires_cuda_accuracy, title=\"Accuracy for Fires algorithm\", labels={\"x\":\"batches\", \"y\":\"accuracy\"})\n",
    "fig.show()"
   ]
  },
  {
   "cell_type": "code",
   "execution_count": null,
   "metadata": {},
   "outputs": [],
   "source": [
    "fig = px.line(y = fires_cuda_stability, title=\"Stability for Fires algorithm\", labels={\"x\":\"batches\", \"y\":\"accuracy\"})\n",
    "fig.show()"
   ]
  },
  {
   "cell_type": "code",
   "execution_count": null,
   "metadata": {},
   "outputs": [],
   "source": [
    "y_pred = predictor.predict(test_x)\n",
    "accuracy = accuracy_score(test_y, y_pred)\n",
    "print(\"For the test dataset the previous trained predictor reached: {}\".format(accuracy))"
   ]
  },
  {
   "source": [
    "### Feature selection via SGDRegressor"
   ],
   "cell_type": "markdown",
   "metadata": {}
  },
  {
   "cell_type": "code",
   "execution_count": null,
   "metadata": {},
   "outputs": [],
   "source": [
    "sgdr_model = SGDRegressor(penalty=\"l1\") #penalty could be elasticnet as well\n",
    "#n_selectey_ftrs?"
   ]
  },
  {
   "cell_type": "code",
   "execution_count": null,
   "metadata": {},
   "outputs": [],
   "source": [
    "sgdr_accuracy = []\n",
    "#fsds_f1 = []\n",
    "sgdr_times = []\n",
    "\n",
    "sgdr_selected_ftrs = []\n",
    "sgdr_stability = []\n",
    "\n",
    "start_time_all = timer()\n",
    "while stream.has_more_samples():\n",
    "    # Load a new sample\n",
    "    x, y = stream.next_sample(batch_size=100)\n",
    "    # Select features\n",
    "    start_time = timer()\n",
    "    sgdr_model.partial_fit(x,y)\n",
    "    ftr_weights = sgdr_model.coef_\n",
    "    ftr_selection = np.argsort(ftr_weights)[::-1][:n_selected_ftr]\n",
    "    sgdr_times.append(timer()-start_time)\n",
    "\n",
    "    # Truncate x (retain only selected features, 'remove' all others, e.g. by replacing them with 0)\n",
    "    x_reduced = np.zeros(x.shape)\n",
    "    x_reduced[:, ftr_selection] = x[:, ftr_selection]\n",
    "\n",
    "    # stability test\n",
    "    ftr_array = np.zeros(stream.n_features)\n",
    "    ftr_array[ftr_selection] = 1\n",
    "    sgdr_selected_ftrs.append(ftr_array)\n",
    "\n",
    "    if len(sgdr_selected_ftrs) >= 10:\n",
    "        stability = stability_factor(sgdr_selected_ftrs[-10:])\n",
    "        sgdr_stability.append(stability)\n",
    "\n",
    "\n",
    "    # Test\n",
    "    y_pred = predictor.predict(x_reduced)\n",
    "    \n",
    "    sgdr_accuracy.append(accuracy_score(y, y_pred))\n",
    "    \n",
    "\n",
    "\n",
    "    # Train\n",
    "    predictor.partial_fit(x_reduced, y)\n",
    "\n",
    "# Restart the FileStream\n",
    "end_time_all = timer()\n",
    "sgdr_run_time = timer() - start_time_all\n",
    "print(\"The whole sgdr run took {}\".format(sgdr_run_time))\n",
    "stream.restart()"
   ]
  }
 ]
}