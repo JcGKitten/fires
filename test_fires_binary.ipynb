{
 "metadata": {
  "language_info": {
   "codemirror_mode": {
    "name": "ipython",
    "version": 3
   },
   "file_extension": ".py",
   "mimetype": "text/x-python",
   "name": "python",
   "nbconvert_exporter": "python",
   "pygments_lexer": "ipython3",
   "version": "3.8.5-final"
  },
  "orig_nbformat": 2,
  "kernelspec": {
   "name": "python3",
   "display_name": "Python 3",
   "language": "python"
  }
 },
 "nbformat": 4,
 "nbformat_minor": 2,
 "cells": [
  {
   "cell_type": "code",
   "execution_count": 5,
   "metadata": {},
   "outputs": [],
   "source": [
    "import numpy as np\n",
    "from skmultiflow.data import FileStream\n",
    "from skmultiflow.neural_networks import PerceptronMask\n",
    "from fires import FIRES\n",
    "from sklearn.metrics import accuracy_score"
   ]
  },
  {
   "cell_type": "code",
   "execution_count": 46,
   "metadata": {},
   "outputs": [],
   "source": [
    "# Load data as scikit-multiflow FileStream\n",
    "#\n",
    "stream = FileStream('../datasets/binary/mnist_train_binary.csv', target_idx=0)\n",
    "stream.prepare_for_use()"
   ]
  },
  {
   "cell_type": "code",
   "execution_count": 42,
   "metadata": {},
   "outputs": [],
   "source": [
    "x, y = stream.next_sample(batch_size=5)"
   ]
  },
  {
   "cell_type": "code",
   "execution_count": 43,
   "metadata": {},
   "outputs": [
    {
     "output_type": "execute_result",
     "data": {
      "text/plain": [
       "array([[0, 0, 0, ..., 0, 0, 0],\n",
       "       [0, 0, 0, ..., 0, 0, 0],\n",
       "       [0, 0, 0, ..., 0, 0, 0],\n",
       "       [0, 0, 0, ..., 0, 0, 0],\n",
       "       [0, 0, 0, ..., 0, 0, 0]])"
      ]
     },
     "metadata": {},
     "execution_count": 43
    }
   ],
   "source": [
    "x"
   ]
  },
  {
   "cell_type": "code",
   "execution_count": 44,
   "metadata": {},
   "outputs": [
    {
     "output_type": "execute_result",
     "data": {
      "text/plain": [
       "array([0, 0, 0, 0, 0])"
      ]
     },
     "metadata": {},
     "execution_count": 44
    }
   ],
   "source": [
    "y"
   ]
  },
  {
   "cell_type": "code",
   "execution_count": 19,
   "metadata": {},
   "outputs": [],
   "source": [
    "# for mnist\n",
    "y = (y == 3).astype(int)"
   ]
  },
  {
   "cell_type": "code",
   "execution_count": 47,
   "metadata": {},
   "outputs": [
    {
     "output_type": "execute_result",
     "data": {
      "text/plain": [
       "[0, 1]"
      ]
     },
     "metadata": {},
     "execution_count": 47
    }
   ],
   "source": [
    "stream.target_values\n"
   ]
  },
  {
   "cell_type": "code",
   "execution_count": 48,
   "metadata": {},
   "outputs": [
    {
     "output_type": "execute_result",
     "data": {
      "text/plain": [
       "PerceptronMask(alpha=0.0001, class_weight=None, early_stopping=False, eta0=1.0,\n",
       "               fit_intercept=True, max_iter=1000, n_iter_no_change=5,\n",
       "               n_jobs=None, penalty=None, random_state=0, shuffle=True,\n",
       "               tol=0.001, validation_fraction=0.1, verbose=0, warm_start=False)"
      ]
     },
     "metadata": {},
     "execution_count": 48
    }
   ],
   "source": [
    "# Initial fit of the predictive model\n",
    "predictor = PerceptronMask()\n",
    "x,y = stream.next_sample(batch_size=100)\n",
    "predictor.partial_fit(x,y, stream.target_values)"
   ]
  },
  {
   "cell_type": "code",
   "execution_count": 58,
   "metadata": {},
   "outputs": [],
   "source": [
    "# paint mnist\n",
    "import matplotlib.pyplot as plt\n",
    "\n",
    "def paint_digit(digit_values):\n",
    "    plt.figure()\n",
    "    plt.imshow(digit_values.reshape(28,28))\n",
    "    plt.gray()\n",
    "    plt.xticks([])\n",
    "    plt.yticks([])\n",
    "    \n",
    "    plt.show"
   ]
  },
  {
   "cell_type": "code",
   "execution_count": 62,
   "metadata": {},
   "outputs": [
    {
     "output_type": "display_data",
     "data": {
      "text/plain": "<Figure size 432x288 with 1 Axes>",
      "image/svg+xml": "<?xml version=\"1.0\" encoding=\"utf-8\" standalone=\"no\"?>\n<!DOCTYPE svg PUBLIC \"-//W3C//DTD SVG 1.1//EN\"\n  \"http://www.w3.org/Graphics/SVG/1.1/DTD/svg11.dtd\">\n<!-- Created with matplotlib (https://matplotlib.org/) -->\n<svg height=\"235.34pt\" version=\"1.1\" viewBox=\"0 0 235.34 235.34\" width=\"235.34pt\" xmlns=\"http://www.w3.org/2000/svg\" xmlns:xlink=\"http://www.w3.org/1999/xlink\">\n <metadata>\n  <rdf:RDF xmlns:cc=\"http://creativecommons.org/ns#\" xmlns:dc=\"http://purl.org/dc/elements/1.1/\" xmlns:rdf=\"http://www.w3.org/1999/02/22-rdf-syntax-ns#\">\n   <cc:Work>\n    <dc:type rdf:resource=\"http://purl.org/dc/dcmitype/StillImage\"/>\n    <dc:date>2020-12-20T13:59:53.742999</dc:date>\n    <dc:format>image/svg+xml</dc:format>\n    <dc:creator>\n     <cc:Agent>\n      <dc:title>Matplotlib v3.3.2, https://matplotlib.org/</dc:title>\n     </cc:Agent>\n    </dc:creator>\n   </cc:Work>\n  </rdf:RDF>\n </metadata>\n <defs>\n  <style type=\"text/css\">*{stroke-linecap:butt;stroke-linejoin:round;}</style>\n </defs>\n <g id=\"figure_1\">\n  <g id=\"patch_1\">\n   <path d=\"M 0 235.34 \nL 235.34 235.34 \nL 235.34 0 \nL 0 0 \nz\n\" style=\"fill:none;\"/>\n  </g>\n  <g id=\"axes_1\">\n   <g id=\"patch_2\">\n    <path d=\"M 10.7 224.64 \nL 228.14 224.64 \nL 228.14 7.2 \nL 10.7 7.2 \nz\n\" style=\"fill:#ffffff;\"/>\n   </g>\n   <g clip-path=\"url(#p3dfb6da1f4)\">\n    <image height=\"218\" id=\"image3f86ceb184\" transform=\"scale(1 -1)translate(0 -218)\" width=\"218\" x=\"10.7\" xlink:href=\"data:image/png;base64,\niVBORw0KGgoAAAANSUhEUgAAANoAAADaCAYAAADAHVzbAAAGlUlEQVR4nO3dS4jP+x/H8fFPdFIsrEazYGHLSC6JUZayk2uxZOOSa6lhNUuFLKYpWUi510hIipTbwqWsrdwlC5fU0PBfnzq/9/ecYV5mxuOxffXt9z0dzz41337f37i2trYfbcCw+t/vvgH4EwgNAoQGAUKDAKFBgNAgQGgQIDQIEBoECA0ChAYBQoMAoUGA0CBAaBAgNAgQGgQIDQKEBgFCgwChQYDQIEBoECA0CBAaBAgNAoQGAUKDAKFBgNAgYPzvvoHh0t7eXu6bN28u9+7u7nIfN25cuf/40frXsI4cOVJe29vbW+5Pnz4td0YeJxoECA0ChAYBQoMAoUGA0CBAaBAwrq2trfUDnxGuo6Oj5Xbu3Lny2nnz5v3UZ//Mc7Qm79+/L/fTp0+X+/bt24f82QwPJxoECA0ChAYBQoMAoUGA0CBAaBAwqp+jrVq1quV26tSpYf3st2/flvvHjx9bbjNnzvzVt/M39+7dK/ebN2+23A4cOPCrb4c2JxpECA0ChAYBQoMAoUGA0CBAaBAwZt/r2GRwcLDc+/r6yv348ePlXn2nbOHCheW1GzZsKPfZs2eX+6JFi8q9+h5f0zO+pndS3r9/v9z/VE40CBAaBAgNAoQGAUKDAKFBwKj+8371yrem18G9efOm3Ldt2zake/o3nj9/Xu5Nr8prsmPHjnLfv39/y2316tXltd++fSt3f97/Z040CBAaBAgNAoQGAUKDAKFBgNAgYFQ/R6t+GqnpZ5P6+/t/8d2MHIcOHSr36nVze/bsKa9dv359uU+aNKncV65cWe5jlRMNAoQGAUKDAKFBgNAgQGgQIDQI+GN/tqnpO2EzZswY0j2NdhMnTiz37u7uct+3b1+5v3z5suW2adOm8tpr166V+0jmRIMAoUGA0CBAaBAgNAgQGgQIDQJG9ffRfkbT86L29vZyf/369a+8nRFjYGCg3Ht6esp9/Pj6n9TevXtbbrt27SqvvXPnTrl//vy53H8nJxoECA0ChAYBQoMAoUGA0CBgVH9NZsWKFS23s2fPltdOmDCh3Hfv3l3uhw8fLnf+2eDgYMut6RWBvb295b5169Yh3VOCEw0ChAYBQoMAoUGA0CBAaBAgNAgY1c/RKnfv3i33BQsWlPutW7fKfdmyZf/5nqiflX3//r28tun/6ZIlS4Z0TwlONAgQGgQIDQKEBgFCgwChQYDQIGDMvm5u586d5X779u1y7+rqKvelS5eWe9NzuD9V9ays6ftoo5kTDQKEBgFCgwChQYDQIEBoECA0CBizz9EeP35c7leuXCn35cuXl/vFixfLfc2aNS23Bw8elNf+9ddf5f7ixYtyZ+RxokGA0CBAaBAgNAgQGgQIDQKEBgFj9jnawMBAuTf9/tmnT5/Kfe3ateV+4sSJltvr16/La3t6esr9/Pnz5T5WPXv27HffwpA50SBAaBAgNAgQGgQIDQKEBgFj9mebflZnZ2e537hxo9wnT5485M++evVqua9bt67cm16FN2vWrJbbsWPHymvfvXtX7k0GBwdbbl++fCmvbfrvevTo0ZDuKcGJBgFCgwChQYDQIEBoECA0CBAaBHiONkRz584t9+vXr7fcpkyZ8lOf3fSTUJcuXSr3gwcPttxevXpVXrtixYpynz59ern39/e33M6cOVNe2/TVpJHMiQYBQoMAoUGA0CBAaBAgNAgQGgSM2dfNDbeHDx+W++XLl1tuTd8na9LV1VXuTd/b+vGj9aPT9vb28to5c+aU+4YNG8r9+/fvQ7qv0c6JBgFCgwChQYDQIEBoECA0CBAaBHiONkw2b97ccuvr6yuvPXnyZLl3dHQM6Z7+jaZ3I37+/Lncm57hVZ48eTLka0c6JxoECA0ChAYBQoMAoUGA0CBAaBDgvY4j0Pz588v9woUL5T5t2rRyr7739enTp/Lar1+/lvvUqVPLffHixS23pmd4TZ89kjnRIEBoECA0CBAaBAgNAoQGAf68Pwp1dnaW+40bN8p98uTJv/Bu/u7Dhw/l3vTn/7HKiQYBQoMAoUGA0CBAaBAgNAgQGgR4jjYGzZ07t9y3bNnSctu4cWN57YkTJ8r96NGj5d70VZixyokGAUKDAKFBgNAgQGgQIDQIEBoEeI4GAU40CBAaBAgNAoQGAUKDAKFBgNAgQGgQIDQIEBoECA0ChAYBQoMAoUGA0CBAaBAgNAgQGgQIDQKEBgFCgwChQYDQIEBoECA0CBAaBAgNAoQGAUKDAKFBwP8BDZI5UYEhtHEAAAAASUVORK5CYII=\" y=\"-6.64\"/>\n   </g>\n   <g id=\"matplotlib.axis_1\"/>\n   <g id=\"matplotlib.axis_2\"/>\n   <g id=\"patch_3\">\n    <path d=\"M 10.7 224.64 \nL 10.7 7.2 \n\" style=\"fill:none;stroke:#000000;stroke-linecap:square;stroke-linejoin:miter;stroke-width:0.8;\"/>\n   </g>\n   <g id=\"patch_4\">\n    <path d=\"M 228.14 224.64 \nL 228.14 7.2 \n\" style=\"fill:none;stroke:#000000;stroke-linecap:square;stroke-linejoin:miter;stroke-width:0.8;\"/>\n   </g>\n   <g id=\"patch_5\">\n    <path d=\"M 10.7 224.64 \nL 228.14 224.64 \n\" style=\"fill:none;stroke:#000000;stroke-linecap:square;stroke-linejoin:miter;stroke-width:0.8;\"/>\n   </g>\n   <g id=\"patch_6\">\n    <path d=\"M 10.7 7.2 \nL 228.14 7.2 \n\" style=\"fill:none;stroke:#000000;stroke-linecap:square;stroke-linejoin:miter;stroke-width:0.8;\"/>\n   </g>\n  </g>\n </g>\n <defs>\n  <clipPath id=\"p3dfb6da1f4\">\n   <rect height=\"217.44\" width=\"217.44\" x=\"10.7\" y=\"7.2\"/>\n  </clipPath>\n </defs>\n</svg>\n",
      "image/png": "[encoded data removed]"
     },
     "metadata": {}
    }
   ],
   "source": [
    "paint_digit(x[0])"
   ]
  },
  {
   "cell_type": "code",
   "execution_count": 63,
   "metadata": {},
   "outputs": [],
   "source": [
    "fires_model = FIRES(n_total_ftr=stream.n_features,\n",
    "                    target_values=stream.target_values,\n",
    "                    mu_init=0,\n",
    "                    sigma_init=1,\n",
    "                    model='probit')"
   ]
  },
  {
   "cell_type": "code",
   "execution_count": 71,
   "metadata": {},
   "outputs": [
    {
     "output_type": "stream",
     "name": "stdout",
     "text": [
      "[573 601 546 518 545 574 519 490 462 491 600 210 463 237 572 602 238 291\n 461 435 265 293 434 407 517 264 211 236 547 379 489 629 321 294 292 266\n 406 433 263 209 319 408 239 318 320 381 436 599 380 464 322 492 571 628\n 544 460 182 267 378 575 183 346 290 212 603 409 352 347 353 240 298 235\n 488 630 350 241 354 326 486 520 516 373 570 270 351 349 598 262 325 459\n 543 487 271 295 405 348 268 345 465 493]\n"
     ]
    }
   ],
   "source": [
    "n_selected_ftr = 100\n",
    "\n",
    "x,y = stream.next_sample(batch_size=10)\n",
    "ftr_weights = fires_model.weigh_features(x,y)\n",
    "ftr_selection = np.argsort(ftr_weights)[::-1][:n_selected_ftr]\n",
    "print(ftr_selection)\n",
    "paint_digits = np.zeros(784)\n",
    "paint_digits[ftr_selection] = 1 \n",
    "\n",
    "x_reduced = np.zeros(x.shape)\n",
    "x_reduced[:, ftr_selection] = x[:, ftr_selection]\n",
    "\n"
   ]
  },
  {
   "cell_type": "code",
   "execution_count": 66,
   "metadata": {},
   "outputs": [
    {
     "output_type": "execute_result",
     "data": {
      "text/plain": [
       "array([0., 0., 0., 0., 0., 0., 0., 0., 0., 0., 0., 0., 0., 0., 0., 0., 0.,\n",
       "       0., 0., 0., 0., 0., 0., 0., 0., 0., 0., 0., 0., 0., 0., 0., 0., 0.,\n",
       "       0., 0., 0., 0., 0., 0., 0., 0., 0., 0., 0., 0., 0., 0., 0., 0., 0.,\n",
       "       0., 0., 0., 0., 0., 0., 0., 0., 0., 0., 0., 0., 0., 0., 0., 0., 0.,\n",
       "       0., 0., 0., 0., 0., 0., 0., 0., 0., 0., 0., 0., 0., 0., 0., 0., 0.,\n",
       "       0., 0., 0., 0., 0., 0., 0., 0., 0., 0., 0., 0., 0., 0., 0., 0., 0.,\n",
       "       0., 0., 0., 0., 0., 0., 0., 0., 0., 0., 0., 0., 0., 0., 0., 0., 0.,\n",
       "       0., 0., 0., 0., 0., 0., 0., 0., 0., 0., 0., 0., 0., 0., 0., 0., 0.,\n",
       "       0., 0., 0., 0., 0., 0., 0., 0., 0., 0., 0., 0., 0., 0., 0., 0., 0.,\n",
       "       0., 0., 0., 0., 0., 0., 0., 0., 0., 0., 0., 0., 0., 0., 0., 0., 0.,\n",
       "       0., 0., 0., 0., 0., 0., 0., 0., 0., 0., 0., 1., 1., 1., 0., 0., 0.,\n",
       "       0., 0., 0., 0., 0., 0., 0., 0., 0., 0., 0., 0., 0., 0., 0., 0., 0.,\n",
       "       0., 0., 0., 0., 1., 1., 1., 1., 1., 1., 1., 0., 0., 0., 0., 0., 0.,\n",
       "       0., 0., 0., 0., 0., 0., 0., 0., 0., 0., 0., 0., 0., 0., 1., 1., 1.,\n",
       "       1., 1., 1., 1., 1., 1., 1., 0., 0., 0., 0., 0., 0., 0., 0., 0., 0.,\n",
       "       0., 0., 0., 0., 0., 0., 0., 1., 1., 1., 1., 1., 1., 1., 1., 1., 1.,\n",
       "       1., 0., 0., 0., 0., 0., 0., 0., 0., 0., 0., 0., 0., 0., 0., 0., 0.,\n",
       "       0., 1., 1., 1., 1., 1., 1., 1., 0., 1., 0., 0., 0., 0., 0., 0., 0.,\n",
       "       0., 0., 0., 0., 0., 0., 0., 0., 0., 0., 0., 1., 1., 1., 0., 1., 1.,\n",
       "       1., 0., 0., 0., 0., 0., 0., 0., 0., 0., 0., 0., 0., 0., 0., 0., 0.,\n",
       "       0., 0., 0., 0., 1., 1., 1., 0., 0., 1., 1., 0., 0., 0., 0., 0., 0.,\n",
       "       0., 0., 0., 0., 0., 0., 0., 0., 0., 0., 0., 0., 0., 0., 0., 1., 1.,\n",
       "       0., 0., 0., 1., 1., 1., 0., 0., 0., 0., 0., 0., 0., 0., 0., 0., 0.,\n",
       "       0., 0., 0., 0., 0., 0., 0., 0., 0., 1., 1., 0., 0., 0., 1., 1., 1.,\n",
       "       0., 0., 0., 0., 0., 0., 0., 0., 0., 0., 0., 0., 0., 0., 0., 0., 0.,\n",
       "       0., 0., 0., 1., 1., 0., 0., 1., 1., 1., 0., 0., 0., 0., 0., 0., 0.,\n",
       "       0., 0., 0., 0., 0., 0., 0., 0., 0., 0., 0., 0., 0., 0., 1., 0., 0.,\n",
       "       0., 0., 1., 1., 0., 0., 0., 0., 0., 0., 0., 0., 0., 0., 0., 0., 0.,\n",
       "       0., 0., 0., 0., 0., 0., 0., 0., 0., 0., 0., 0., 0., 1., 1., 1., 1.,\n",
       "       0., 0., 0., 1., 0., 0., 0., 0., 0., 0., 0., 0., 0., 0., 0., 0., 0.,\n",
       "       0., 0., 0., 0., 0., 0., 0., 1., 1., 1., 1., 0., 0., 0., 0., 0., 0.,\n",
       "       0., 0., 0., 0., 0., 0., 0., 0., 0., 0., 0., 0., 0., 0., 0., 0., 0.,\n",
       "       0., 1., 1., 1., 1., 0., 0., 0., 0., 0., 0., 0., 0., 0., 0., 0., 0.,\n",
       "       0., 0., 0., 0., 0., 0., 0., 0., 0., 1., 1., 1., 1., 1., 1., 1., 0.,\n",
       "       0., 0., 0., 0., 0., 0., 0., 0., 0., 0., 0., 0., 0., 0., 0., 0., 0.,\n",
       "       0., 0., 0., 1., 1., 1., 1., 1., 1., 1., 0., 0., 0., 0., 0., 0., 0.,\n",
       "       0., 0., 0., 0., 0., 0., 0., 0., 0., 0., 0., 0., 0., 0., 0., 0., 1.,\n",
       "       1., 1., 1., 0., 0., 0., 0., 0., 0., 0., 0., 0., 0., 0., 0., 0., 0.,\n",
       "       0., 0., 0., 0., 0., 0., 0., 0., 0., 0., 1., 0., 0., 0., 0., 0., 0.,\n",
       "       0., 0., 0., 0., 0., 0., 0., 0., 0., 0., 0., 0., 0., 0., 0., 0., 0.,\n",
       "       0., 0., 0., 0., 0., 0., 0., 0., 0., 0., 0., 0., 0., 0., 0., 0., 0.,\n",
       "       0., 0., 0., 0., 0., 0., 0., 0., 0., 0., 0., 0., 0., 0., 0., 0., 0.,\n",
       "       0., 0., 0., 0., 0., 0., 0., 0., 0., 0., 0., 0., 0., 0., 0., 0., 0.,\n",
       "       0., 0., 0., 0., 0., 0., 0., 0., 0., 0., 0., 0., 0., 0., 0., 0., 0.,\n",
       "       0., 0., 0., 0., 0., 0., 0., 0., 0., 0., 0., 0., 0., 0., 0., 0., 0.,\n",
       "       0., 0., 0., 0., 0., 0., 0., 0., 0., 0., 0., 0., 0., 0., 0., 0., 0.,\n",
       "       0., 0.])"
      ]
     },
     "metadata": {},
     "execution_count": 66
    }
   ],
   "source": [
    "paint_digits"
   ]
  },
  {
   "cell_type": "code",
   "execution_count": 72,
   "metadata": {},
   "outputs": [
    {
     "output_type": "display_data",
     "data": {
      "text/plain": "<Figure size 432x288 with 1 Axes>",
      "image/svg+xml": "<?xml version=\"1.0\" encoding=\"utf-8\" standalone=\"no\"?>\n<!DOCTYPE svg PUBLIC \"-//W3C//DTD SVG 1.1//EN\"\n  \"http://www.w3.org/Graphics/SVG/1.1/DTD/svg11.dtd\">\n<!-- Created with matplotlib (https://matplotlib.org/) -->\n<svg height=\"235.34pt\" version=\"1.1\" viewBox=\"0 0 235.34 235.34\" width=\"235.34pt\" xmlns=\"http://www.w3.org/2000/svg\" xmlns:xlink=\"http://www.w3.org/1999/xlink\">\n <metadata>\n  <rdf:RDF xmlns:cc=\"http://creativecommons.org/ns#\" xmlns:dc=\"http://purl.org/dc/elements/1.1/\" xmlns:rdf=\"http://www.w3.org/1999/02/22-rdf-syntax-ns#\">\n   <cc:Work>\n    <dc:type rdf:resource=\"http://purl.org/dc/dcmitype/StillImage\"/>\n    <dc:date>2020-12-20T14:29:04.619794</dc:date>\n    <dc:format>image/svg+xml</dc:format>\n    <dc:creator>\n     <cc:Agent>\n      <dc:title>Matplotlib v3.3.2, https://matplotlib.org/</dc:title>\n     </cc:Agent>\n    </dc:creator>\n   </cc:Work>\n  </rdf:RDF>\n </metadata>\n <defs>\n  <style type=\"text/css\">*{stroke-linecap:butt;stroke-linejoin:round;}</style>\n </defs>\n <g id=\"figure_1\">\n  <g id=\"patch_1\">\n   <path d=\"M 0 235.34 \nL 235.34 235.34 \nL 235.34 0 \nL 0 0 \nz\n\" style=\"fill:none;\"/>\n  </g>\n  <g id=\"axes_1\">\n   <g id=\"patch_2\">\n    <path d=\"M 10.7 224.64 \nL 228.14 224.64 \nL 228.14 7.2 \nL 10.7 7.2 \nz\n\" style=\"fill:#ffffff;\"/>\n   </g>\n   <g clip-path=\"url(#p3c3b615763)\">\n    <image height=\"218\" id=\"imagee644b810ac\" transform=\"scale(1 -1)translate(0 -218)\" width=\"218\" x=\"10.7\" xlink:href=\"data:image/png;base64,\niVBORw0KGgoAAAANSUhEUgAAANoAAADaCAYAAADAHVzbAAADGklEQVR4nO3dW2qEQBBAUQ3Z/5bNdyCTIZq+7eOcBcjMx6XAott1WZZtAYb6mP0D4AmEBgGhQUBoEBAaBIQGAaFBQGgQEBoEhAYBoUFAaBAQGgSEBgGhQUBoEBAaBIQGAaFBQGgQEBoEhAYBoUFAaBAQGgSEBgGhQUBoEBAaBIQGAaFBQGgQEBoEhAYBoUFAaBAQGgSEBoHP2T/gibZtG/r8dV2HPp+/M9EgIDQICA0CQoOA0CAgNAgIDQLrsixjlzo3NXoXNpI9W89Eg4DQICA0CAgNAkKDgNAgIDQICA0CQoOA0CAgNAgIDQJCg4DQIOC6uZ3eHTW58jEa/p+JBgGhQUBoEBAaBIQGAaFBQGgQcN3cBGfesbmKbgwTDQJCg4DQICA0CAgNAkKDgNAgYI+205l3YSPZs+1jokFAaBAQGgSEBgGhQUBoEBAaBNzruJN7HfkLEw0CQoOA0CAgNAgIDQJCg4BjMic0czXgGMwYJhoEhAYBoUFAaBAQGgSEBgGhQcAxGb55t8OzZ9vHRIOA0CAgNAgIDQJCg4DQICA0CNijvTBzn+Qqu/sx0SAgNAgIDQJCg4DQICA0CAgNAu51fMGuah/n1X5mokFAaBAQGgSEBgGhQUBoEBAaBJxHe+HKZ8KO7LLO/L+uzESDgNAgIDQICA0CQoOA0CDg9f4NHbkq78prjTMz0SAgNAgIDQJCg4DQICA0CAgNAvZoD/TbLuzodXEzP3d1ZiYaBIQGAaFBQGgQEBoEhAYBoUHAZ5sGueu5rafuwY4y0SAgNAgIDQJCg4DQICA0CAgNAvZoJzRzB2dPNoaJBgGhQUBoEBAaBIQGAaFBQGgQsEe7oKN7NruynokGAaFBQGgQEBoEhAYBoUHA630ImGgQEBoEhAYBoUFAaBAQGgSEBgGhQUBoEBAaBIQGAaFBQGgQEBoEhAYBoUFAaBAQGgSEBgGhQUBoEBAaBIQGAaFBQGgQEBoEhAYBoUFAaBAQGgSEBgGhQUBoEBAaBIQGAaFBQGgQEBoEhAYBoUFAaBAQGgSEBgGhQUBoEBAaBL4AFFxHsX2PM7gAAAAASUVORK5CYII=\" y=\"-6.64\"/>\n   </g>\n   <g id=\"matplotlib.axis_1\"/>\n   <g id=\"matplotlib.axis_2\"/>\n   <g id=\"patch_3\">\n    <path d=\"M 10.7 224.64 \nL 10.7 7.2 \n\" style=\"fill:none;stroke:#000000;stroke-linecap:square;stroke-linejoin:miter;stroke-width:0.8;\"/>\n   </g>\n   <g id=\"patch_4\">\n    <path d=\"M 228.14 224.64 \nL 228.14 7.2 \n\" style=\"fill:none;stroke:#000000;stroke-linecap:square;stroke-linejoin:miter;stroke-width:0.8;\"/>\n   </g>\n   <g id=\"patch_5\">\n    <path d=\"M 10.7 224.64 \nL 228.14 224.64 \n\" style=\"fill:none;stroke:#000000;stroke-linecap:square;stroke-linejoin:miter;stroke-width:0.8;\"/>\n   </g>\n   <g id=\"patch_6\">\n    <path d=\"M 10.7 7.2 \nL 228.14 7.2 \n\" style=\"fill:none;stroke:#000000;stroke-linecap:square;stroke-linejoin:miter;stroke-width:0.8;\"/>\n   </g>\n  </g>\n </g>\n <defs>\n  <clipPath id=\"p3c3b615763\">\n   <rect height=\"217.44\" width=\"217.44\" x=\"10.7\" y=\"7.2\"/>\n  </clipPath>\n </defs>\n</svg>\n",
      "image/png": "[encoded data removed]"
     },
     "metadata": {}
    }
   ],
   "source": [
    "paint_digit(paint_digits)"
   ]
  },
  {
   "cell_type": "code",
   "execution_count": 73,
   "metadata": {},
   "outputs": [
    {
     "output_type": "execute_result",
     "data": {
      "text/plain": [
       "array([ 0.00000000e+00,  0.00000000e+00,  0.00000000e+00,  0.00000000e+00,\n",
       "        0.00000000e+00,  0.00000000e+00,  0.00000000e+00,  0.00000000e+00,\n",
       "        0.00000000e+00,  0.00000000e+00,  0.00000000e+00,  0.00000000e+00,\n",
       "        0.00000000e+00,  0.00000000e+00,  0.00000000e+00,  0.00000000e+00,\n",
       "        0.00000000e+00,  0.00000000e+00,  0.00000000e+00,  0.00000000e+00,\n",
       "        0.00000000e+00,  0.00000000e+00,  0.00000000e+00,  0.00000000e+00,\n",
       "        0.00000000e+00,  0.00000000e+00,  0.00000000e+00,  0.00000000e+00,\n",
       "        0.00000000e+00,  0.00000000e+00,  0.00000000e+00,  0.00000000e+00,\n",
       "        0.00000000e+00,  0.00000000e+00,  0.00000000e+00,  0.00000000e+00,\n",
       "        0.00000000e+00,  0.00000000e+00,  0.00000000e+00,  0.00000000e+00,\n",
       "        0.00000000e+00,  0.00000000e+00,  0.00000000e+00,  0.00000000e+00,\n",
       "        0.00000000e+00,  0.00000000e+00,  0.00000000e+00,  0.00000000e+00,\n",
       "        0.00000000e+00,  0.00000000e+00,  0.00000000e+00,  0.00000000e+00,\n",
       "        0.00000000e+00,  0.00000000e+00,  0.00000000e+00,  0.00000000e+00,\n",
       "        0.00000000e+00,  0.00000000e+00,  0.00000000e+00,  0.00000000e+00,\n",
       "        0.00000000e+00,  0.00000000e+00,  0.00000000e+00,  0.00000000e+00,\n",
       "        0.00000000e+00,  0.00000000e+00,  0.00000000e+00, -1.34728802e-05,\n",
       "       -7.87645306e-05, -8.77464507e-05, -7.73826967e-05, -1.20910464e-05,\n",
       "       -1.69527713e-05, -1.00592751e-04, -1.61594905e-04, -1.18235271e-04,\n",
       "       -1.04324747e-05,  0.00000000e+00,  0.00000000e+00,  0.00000000e+00,\n",
       "        0.00000000e+00,  0.00000000e+00,  0.00000000e+00,  0.00000000e+00,\n",
       "        0.00000000e+00,  0.00000000e+00,  0.00000000e+00,  0.00000000e+00,\n",
       "        0.00000000e+00,  0.00000000e+00,  0.00000000e+00,  0.00000000e+00,\n",
       "        0.00000000e+00,  0.00000000e+00,  0.00000000e+00, -7.11644443e-05,\n",
       "       -8.74009922e-05, -8.74009922e-05, -1.17834081e-04, -2.52197206e-04,\n",
       "       -3.05315959e-04, -3.21136719e-04, -3.02447547e-04, -2.65495314e-04,\n",
       "       -7.74726596e-05,  0.00000000e+00,  0.00000000e+00,  0.00000000e+00,\n",
       "        0.00000000e+00,  0.00000000e+00,  0.00000000e+00,  0.00000000e+00,\n",
       "        0.00000000e+00,  0.00000000e+00,  0.00000000e+00,  0.00000000e+00,\n",
       "        0.00000000e+00,  0.00000000e+00,  0.00000000e+00, -2.91036057e-05,\n",
       "       -8.66260265e-05, -4.51961877e-05, -2.22444174e-05, -5.16830072e-05,\n",
       "       -1.81927924e-04, -1.63697769e-04, -6.06131928e-04, -7.74986971e-04,\n",
       "       -8.57151678e-04, -8.41874320e-04, -5.38925610e-04, -3.89535839e-04,\n",
       "       -3.04960073e-04, -5.10922282e-05,  0.00000000e+00,  0.00000000e+00,\n",
       "        0.00000000e+00,  0.00000000e+00,  0.00000000e+00,  0.00000000e+00,\n",
       "        0.00000000e+00,  0.00000000e+00,  0.00000000e+00,  0.00000000e+00,\n",
       "        0.00000000e+00,  0.00000000e+00, -2.80764197e-05, -8.25172822e-05,\n",
       "       -1.52313852e-04, -1.69159475e-04, -1.97322917e-04, -2.28242600e-04,\n",
       "       -3.01779140e-04, -5.47582149e-04, -9.69636596e-04, -1.27559537e-03,\n",
       "       -1.41843103e-03, -1.05737231e-03, -6.35824499e-04, -4.39733710e-04,\n",
       "       -2.16460187e-04, -1.47130378e-04, -1.51088831e-04, -8.87527475e-05,\n",
       "       -6.54701492e-05, -8.39104236e-05,  0.00000000e+00,  0.00000000e+00,\n",
       "        0.00000000e+00,  0.00000000e+00,  0.00000000e+00,  0.00000000e+00,\n",
       "       -5.26434015e-07, -1.21676518e-05, -4.72667170e-05, -1.05525735e-04,\n",
       "       -1.10509134e-04, -6.26849745e-05, -2.26624911e-04, -3.57608122e-04,\n",
       "       -6.90195755e-04, -1.31719102e-03, -1.77847749e-03, -1.76228720e-03,\n",
       "       -1.36305387e-03, -1.07172644e-03, -7.31760775e-04, -4.70988525e-04,\n",
       "       -2.99360909e-04, -2.33293526e-04, -2.42348481e-04, -1.67495331e-04,\n",
       "       -1.18644385e-04, -3.15560567e-05,  0.00000000e+00,  0.00000000e+00,\n",
       "        0.00000000e+00,  0.00000000e+00,  0.00000000e+00,  0.00000000e+00,\n",
       "       -2.19416257e-05,  1.01735422e-05, -1.97661267e-05, -2.62426616e-04,\n",
       "       -1.70091648e-04, -1.92008688e-04, -3.69753898e-04, -7.29358994e-04,\n",
       "       -1.33976014e-03, -1.99202741e-03, -2.41712390e-03, -2.13547477e-03,\n",
       "       -1.71304839e-03, -1.41986481e-03, -1.03124670e-03, -7.57278436e-04,\n",
       "       -8.48945941e-04, -4.78776181e-04, -2.65507727e-04, -2.01191260e-04,\n",
       "       -1.57024517e-04, -5.03883100e-05,  0.00000000e+00,  0.00000000e+00,\n",
       "        0.00000000e+00,  0.00000000e+00,  0.00000000e+00,  0.00000000e+00,\n",
       "       -4.07859132e-05,  5.94590441e-05, -1.34062598e-04, -3.50319279e-04,\n",
       "       -4.64092374e-04, -5.51508261e-04, -9.40746389e-04, -1.64773453e-03,\n",
       "       -2.13069431e-03, -2.31214364e-03, -2.26056851e-03, -1.97316241e-03,\n",
       "       -1.66691237e-03, -1.61780138e-03, -1.41798381e-03, -1.36843330e-03,\n",
       "       -1.20123533e-03, -7.82519572e-04, -4.28641542e-04, -3.23510514e-04,\n",
       "       -2.12638532e-04, -9.83771767e-05,  0.00000000e+00,  0.00000000e+00,\n",
       "        0.00000000e+00,  0.00000000e+00,  0.00000000e+00,  0.00000000e+00,\n",
       "       -6.58643651e-05, -9.60488037e-05, -2.95948477e-04, -5.41857789e-04,\n",
       "       -6.33979892e-04, -1.06509502e-03, -1.52802670e-03, -2.00232886e-03,\n",
       "       -2.14724936e-03, -2.20462803e-03, -2.03335954e-03, -1.77657310e-03,\n",
       "       -1.45999019e-03, -1.42777667e-03, -1.54686530e-03, -1.48123185e-03,\n",
       "       -1.08431572e-03, -8.21621473e-04, -5.02445136e-04, -3.22407361e-04,\n",
       "       -2.08430024e-04, -1.91955467e-05,  0.00000000e+00,  0.00000000e+00,\n",
       "        0.00000000e+00,  0.00000000e+00,  0.00000000e+00,  0.00000000e+00,\n",
       "       -5.79077417e-05, -2.36104134e-04, -6.01571238e-04, -7.90107589e-04,\n",
       "       -7.81284310e-04, -1.20223635e-03, -1.73236447e-03, -2.23202805e-03,\n",
       "       -2.04032991e-03, -2.15941835e-03, -2.05147998e-03, -1.48125541e-03,\n",
       "       -1.22800864e-03, -1.36425491e-03, -1.65911679e-03, -1.25687481e-03,\n",
       "       -9.83133931e-04, -6.36634958e-04, -3.87194492e-04, -3.24270429e-04,\n",
       "       -1.92246036e-04,  0.00000000e+00,  0.00000000e+00,  0.00000000e+00,\n",
       "        0.00000000e+00,  0.00000000e+00,  0.00000000e+00,  0.00000000e+00,\n",
       "       -6.58042519e-06, -2.47690874e-04, -5.63059670e-04, -7.63404483e-04,\n",
       "       -9.79155731e-04, -1.31734025e-03, -1.96040312e-03, -1.98828474e-03,\n",
       "       -1.93446388e-03, -2.06849351e-03, -1.87961266e-03, -1.33560002e-03,\n",
       "       -1.33917790e-03, -1.51281513e-03, -1.61374115e-03, -1.15576952e-03,\n",
       "       -7.56813088e-04, -4.40988322e-04, -2.96908969e-04, -2.90564566e-04,\n",
       "       -2.10296888e-04,  0.00000000e+00,  0.00000000e+00,  0.00000000e+00,\n",
       "        0.00000000e+00,  0.00000000e+00,  0.00000000e+00, -1.43465889e-06,\n",
       "       -5.20063847e-05, -2.79005275e-04, -5.04647585e-04, -7.24016538e-04,\n",
       "       -1.16677752e-03, -1.45245503e-03, -1.76073393e-03, -1.68193188e-03,\n",
       "       -1.46171761e-03, -1.53595888e-03, -1.61874438e-03, -1.54228390e-03,\n",
       "       -1.68254837e-03, -1.67345687e-03, -1.61432986e-03, -1.02046693e-03,\n",
       "       -5.65026239e-04, -2.58395435e-04, -3.18709686e-04, -3.09077837e-04,\n",
       "       -2.00968179e-04,  0.00000000e+00,  0.00000000e+00,  0.00000000e+00,\n",
       "        0.00000000e+00,  0.00000000e+00,  0.00000000e+00, -3.12038308e-05,\n",
       "       -7.71129153e-05, -2.55901238e-04, -4.27164882e-04, -7.96338790e-04,\n",
       "       -1.29409771e-03, -1.58752895e-03, -1.41843385e-03, -9.61269805e-04,\n",
       "       -7.75670989e-04, -1.25533170e-03, -1.77123587e-03, -2.07964554e-03,\n",
       "       -1.88368556e-03, -1.90325596e-03, -1.35619044e-03, -8.16329612e-04,\n",
       "       -5.01353620e-04, -2.91756409e-04, -3.73621563e-04, -2.94045320e-04,\n",
       "       -1.82503755e-04,  0.00000000e+00,  0.00000000e+00,  0.00000000e+00,\n",
       "        0.00000000e+00,  0.00000000e+00,  0.00000000e+00, -6.02556733e-05,\n",
       "       -9.11008394e-05, -2.58930288e-04, -4.96713046e-04, -7.80319674e-04,\n",
       "       -1.16980604e-03, -1.33321347e-03, -1.08728712e-03, -7.50437165e-04,\n",
       "       -8.47288568e-04, -1.48027871e-03, -2.02514119e-03, -2.14674980e-03,\n",
       "       -1.97299904e-03, -1.69102590e-03, -8.58036986e-04, -7.59055876e-04,\n",
       "       -6.07547955e-04, -3.82773799e-04, -3.46226036e-04, -2.99881130e-04,\n",
       "       -1.64643086e-04, -8.26810721e-06, -4.88569972e-06,  0.00000000e+00,\n",
       "        0.00000000e+00,  0.00000000e+00,  0.00000000e+00, -7.17329444e-07,\n",
       "       -2.65411894e-05, -3.53897390e-04, -4.74525134e-04, -7.66105220e-04,\n",
       "       -1.15445338e-03, -1.22933134e-03, -9.61703558e-04, -8.88109547e-04,\n",
       "       -1.22161444e-03, -2.01504576e-03, -2.15233234e-03, -2.21858794e-03,\n",
       "       -1.90075520e-03, -1.38088528e-03, -7.95002116e-04, -7.06250893e-04,\n",
       "       -8.25823014e-04, -6.52846772e-04, -4.82673295e-04, -3.76834803e-04,\n",
       "       -2.15026566e-04, -9.54590560e-05, -8.19294260e-05,  0.00000000e+00,\n",
       "        0.00000000e+00,  0.00000000e+00,  0.00000000e+00,  0.00000000e+00,\n",
       "        0.00000000e+00, -2.93574353e-04, -5.06760212e-04, -7.28055502e-04,\n",
       "       -1.13625757e-03, -1.33532686e-03, -1.34788471e-03, -1.50806240e-03,\n",
       "       -1.79303420e-03, -2.22577717e-03, -2.47541625e-03, -2.36183303e-03,\n",
       "       -1.88420985e-03, -1.44349989e-03, -1.07583907e-03, -9.75035638e-04,\n",
       "       -1.09713862e-03, -8.70284635e-04, -5.88333412e-04, -4.32959527e-04,\n",
       "       -2.64613117e-04, -9.95569334e-05, -4.17163591e-05,  0.00000000e+00,\n",
       "        0.00000000e+00,  0.00000000e+00,  0.00000000e+00,  0.00000000e+00,\n",
       "       -1.15203595e-05, -2.84260631e-04, -5.87649256e-04, -7.00173027e-04,\n",
       "       -1.10291736e-03, -1.40503451e-03, -1.60744367e-03, -1.49552831e-03,\n",
       "       -1.62762710e-03, -2.07996378e-03, -2.55007056e-03, -2.46003177e-03,\n",
       "       -1.87214044e-03, -1.43295240e-03, -1.15377880e-03, -1.07150588e-03,\n",
       "       -1.16106955e-03, -7.85908702e-04, -5.44378009e-04, -4.86151159e-04,\n",
       "       -2.79668218e-04, -7.51611119e-05,  0.00000000e+00,  0.00000000e+00,\n",
       "        0.00000000e+00,  0.00000000e+00,  0.00000000e+00,  0.00000000e+00,\n",
       "       -1.71525353e-05, -2.78359049e-04, -4.97635285e-04, -6.76211780e-04,\n",
       "       -9.56719611e-04, -1.22803440e-03, -1.28071943e-03, -1.32502865e-03,\n",
       "       -1.59331912e-03, -2.14680785e-03, -2.65102190e-03, -2.55518406e-03,\n",
       "       -1.60108326e-03, -1.29843473e-03, -9.92230634e-04, -9.04204680e-04,\n",
       "       -8.45507327e-04, -5.66943077e-04, -3.98797259e-04, -3.27258343e-04,\n",
       "       -1.46843544e-04, -1.36257477e-05,  0.00000000e+00,  0.00000000e+00,\n",
       "        0.00000000e+00,  0.00000000e+00,  0.00000000e+00,  0.00000000e+00,\n",
       "        5.02858310e-06, -2.56037301e-04, -5.67159124e-04, -6.71362353e-04,\n",
       "       -1.00114443e-03, -1.23989876e-03, -1.40429245e-03, -1.50320885e-03,\n",
       "       -1.83333299e-03, -2.59560604e-03, -2.75441612e-03, -2.11030740e-03,\n",
       "       -1.42868621e-03, -1.09016205e-03, -9.03695342e-04, -8.72652493e-04,\n",
       "       -6.67651697e-04, -4.15311523e-04, -2.33360730e-04, -1.64902469e-04,\n",
       "       -1.85991566e-05,  0.00000000e+00,  0.00000000e+00,  0.00000000e+00,\n",
       "        0.00000000e+00,  0.00000000e+00,  5.94808862e-06,  8.14059098e-05,\n",
       "        1.38232681e-04, -1.53931630e-06, -4.20859906e-04, -7.22596960e-04,\n",
       "       -9.25319922e-04, -1.36056708e-03, -1.55781562e-03, -1.86898280e-03,\n",
       "       -2.29502210e-03, -3.00975771e-03, -2.59057750e-03, -1.77111960e-03,\n",
       "       -1.27615527e-03, -8.76558990e-04, -7.03921333e-04, -6.98810106e-04,\n",
       "       -5.07940812e-04, -2.83833138e-04, -1.16374784e-04, -3.60304533e-05,\n",
       "        0.00000000e+00,  0.00000000e+00,  0.00000000e+00,  0.00000000e+00,\n",
       "        0.00000000e+00,  0.00000000e+00,  3.59859362e-05,  1.08074949e-04,\n",
       "        2.66815664e-04,  2.61452181e-04,  6.30661832e-05, -3.14233584e-04,\n",
       "       -5.52762464e-04, -1.08349329e-03, -1.53374775e-03, -1.88929841e-03,\n",
       "       -2.43732496e-03, -2.79266136e-03, -2.26966524e-03, -1.69983530e-03,\n",
       "       -1.14629077e-03, -6.47187238e-04, -4.92788198e-04, -4.77748653e-04,\n",
       "       -3.25263774e-04, -1.57830651e-04, -2.72827148e-05,  0.00000000e+00,\n",
       "        0.00000000e+00,  0.00000000e+00,  0.00000000e+00,  0.00000000e+00,\n",
       "        0.00000000e+00,  0.00000000e+00,  1.51676260e-05,  9.67752902e-05,\n",
       "        2.47963802e-04,  2.90873331e-04,  2.47364268e-04,  5.80327637e-05,\n",
       "       -2.09388518e-04, -6.59094232e-04, -1.10100679e-03, -1.34867463e-03,\n",
       "       -1.84276508e-03, -2.06914050e-03, -1.62459829e-03, -1.03708416e-03,\n",
       "       -6.45884987e-04, -3.46621494e-04, -2.26108998e-04, -4.05066966e-04,\n",
       "       -2.48700439e-04, -6.96278127e-05,  0.00000000e+00,  0.00000000e+00,\n",
       "        0.00000000e+00,  0.00000000e+00,  0.00000000e+00,  0.00000000e+00,\n",
       "        0.00000000e+00,  0.00000000e+00,  0.00000000e+00,  2.25851731e-05,\n",
       "        1.36557047e-04,  2.22073436e-04,  2.90105307e-04,  1.51409536e-04,\n",
       "       -1.22633791e-04, -5.04271160e-04, -7.72053558e-04, -1.13269274e-03,\n",
       "       -1.31999243e-03, -1.17661063e-03, -9.85812772e-04, -4.26521320e-04,\n",
       "       -1.28062873e-04,  2.34914573e-05, -1.91355385e-04, -3.30406213e-04,\n",
       "       -1.91094192e-04, -5.92343976e-05,  0.00000000e+00,  0.00000000e+00,\n",
       "        0.00000000e+00,  0.00000000e+00,  0.00000000e+00,  0.00000000e+00,\n",
       "        0.00000000e+00,  0.00000000e+00,  0.00000000e+00,  1.48913229e-06,\n",
       "        6.45290659e-06,  4.44257800e-05,  4.22707740e-05, -6.38396232e-05,\n",
       "       -2.08505066e-04, -2.63286048e-04, -4.70304640e-04, -5.51786397e-04,\n",
       "       -5.22701410e-04, -2.99714170e-04, -2.02077864e-04, -8.33924218e-05,\n",
       "       -1.85891595e-05, -4.10871494e-05, -1.38183437e-04, -2.01597596e-04,\n",
       "       -1.19666010e-04,  0.00000000e+00,  0.00000000e+00,  0.00000000e+00,\n",
       "        0.00000000e+00,  0.00000000e+00,  0.00000000e+00,  0.00000000e+00,\n",
       "        0.00000000e+00,  0.00000000e+00,  0.00000000e+00,  0.00000000e+00,\n",
       "        0.00000000e+00, -1.43667063e-06, -6.98509683e-05, -1.42272494e-04,\n",
       "       -1.53414864e-04, -1.83445769e-04, -1.14367351e-04, -1.86084697e-04,\n",
       "       -1.80607158e-04, -1.70403013e-04, -1.64202592e-04, -1.48934763e-04,\n",
       "       -9.25262036e-05, -1.88304712e-06, -8.12229925e-05, -1.77480852e-04,\n",
       "       -6.13334051e-05,  0.00000000e+00,  0.00000000e+00,  0.00000000e+00,\n",
       "        0.00000000e+00,  0.00000000e+00,  0.00000000e+00,  0.00000000e+00,\n",
       "        0.00000000e+00,  0.00000000e+00,  0.00000000e+00,  0.00000000e+00,\n",
       "        0.00000000e+00, -4.23817836e-05, -1.10523257e-04, -9.37148449e-05,\n",
       "       -1.53552324e-04, -5.69493694e-05, -9.48985267e-05, -2.00651286e-04,\n",
       "       -7.83793591e-05, -1.12946433e-05, -1.09146525e-04, -8.19778913e-05,\n",
       "       -3.12585822e-05, -3.76609424e-07, -6.85451379e-05, -9.56024291e-05,\n",
       "        0.00000000e+00,  0.00000000e+00,  0.00000000e+00,  0.00000000e+00,\n",
       "        0.00000000e+00,  0.00000000e+00,  0.00000000e+00,  0.00000000e+00,\n",
       "        0.00000000e+00,  0.00000000e+00,  0.00000000e+00,  0.00000000e+00,\n",
       "        0.00000000e+00,  0.00000000e+00, -1.96538396e-05, -8.68906594e-05,\n",
       "       -8.68906594e-05,  0.00000000e+00,  0.00000000e+00,  0.00000000e+00,\n",
       "        0.00000000e+00,  0.00000000e+00,  0.00000000e+00,  0.00000000e+00,\n",
       "        0.00000000e+00,  0.00000000e+00,  0.00000000e+00,  0.00000000e+00,\n",
       "        0.00000000e+00,  0.00000000e+00,  0.00000000e+00,  0.00000000e+00,\n",
       "        0.00000000e+00,  0.00000000e+00,  0.00000000e+00,  0.00000000e+00])"
      ]
     },
     "metadata": {},
     "execution_count": 73
    }
   ],
   "source": [
    "fires_model.mu\n"
   ]
  },
  {
   "cell_type": "code",
   "execution_count": null,
   "metadata": {},
   "outputs": [],
   "source": []
  }
 ]
}