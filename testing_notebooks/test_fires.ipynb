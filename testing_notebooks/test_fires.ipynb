{
 "metadata": {
  "language_info": {
   "codemirror_mode": {
    "name": "ipython",
    "version": 3
   },
   "file_extension": ".py",
   "mimetype": "text/x-python",
   "name": "python",
   "nbconvert_exporter": "python",
   "pygments_lexer": "ipython3",
   "version": "3.8.5-final"
  },
  "orig_nbformat": 2,
  "kernelspec": {
   "name": "python3",
   "display_name": "Python 3",
   "language": "python"
  }
 },
 "nbformat": 4,
 "nbformat_minor": 2,
 "cells": [
  {
   "cell_type": "code",
   "execution_count": 1,
   "metadata": {},
   "outputs": [],
   "source": [
    "import numpy as np\n",
    "from skmultiflow.data import FileStream\n",
    "from skmultiflow.neural_networks import PerceptronMask\n",
    "from fires import FIRES\n",
    "from sklearn.metrics import accuracy_score"
   ]
  },
  {
   "cell_type": "code",
   "execution_count": 2,
   "metadata": {},
   "outputs": [],
   "source": [
    "# paint mnist\n",
    "import matplotlib.pyplot as plt\n",
    "\n",
    "def paint_digit(digit_values):\n",
    "    plt.figure()\n",
    "    plt.imshow(digit_values.reshape(28,28))\n",
    "    plt.gray()\n",
    "    plt.xticks([])\n",
    "    plt.yticks([])\n",
    "    \n",
    "    plt.show"
   ]
  },
  {
   "source": [
    "### Test binary version"
   ],
   "cell_type": "markdown",
   "metadata": {}
  },
  {
   "cell_type": "code",
   "execution_count": null,
   "metadata": {},
   "outputs": [],
   "source": [
    "# Load data as scikit-multiflow FileStream\n",
    "#\n",
    "stream = FileStream('datasets/binary/mnist_train_binary.csv', target_idx=0)\n",
    "stream.prepare_for_use()"
   ]
  },
  {
   "cell_type": "code",
   "execution_count": null,
   "metadata": {},
   "outputs": [],
   "source": [
    "# Initial fit of the predictive model\n",
    "predictor = PerceptronMask()\n",
    "x,y = stream.next_sample(batch_size=100)\n",
    "predictor.partial_fit(x,y, stream.target_values)"
   ]
  },
  {
   "cell_type": "code",
   "execution_count": null,
   "metadata": {},
   "outputs": [],
   "source": [
    "fires_model = FIRES(n_total_ftr=stream.n_features,\n",
    "                    target_values=stream.target_values,\n",
    "                    mu_init=0,\n",
    "                    sigma_init=1,\n",
    "                    model='probit')"
   ]
  },
  {
   "cell_type": "code",
   "execution_count": null,
   "metadata": {
    "tags": []
   },
   "outputs": [],
   "source": [
    "n_selected_ftr = 100\n",
    "\n",
    "while stream.has_more_samples():\n",
    "    # Load a new sample\n",
    "    x, y = stream.next_sample(batch_size=10)\n",
    "\n",
    "    # Select features\n",
    "    ftr_weights = fires_model.weigh_features(x, y)  # Get feature weights with FIRES\n",
    "    ftr_selection = np.argsort(ftr_weights)[::-1][:n_selected_ftr]\n",
    "\n",
    "    # Truncate x (retain only selected features, 'remove' all others, e.g. by replacing them with 0)\n",
    "    x_reduced = np.zeros(x.shape)\n",
    "    x_reduced[:, ftr_selection] = x[:, ftr_selection]\n",
    "\n",
    "    # Test\n",
    "    y_pred = predictor.predict(x)\n",
    "    print(accuracy_score(y, y_pred))\n",
    "\n",
    "    # Train\n",
    "    predictor.partial_fit(x, y)\n",
    "\n",
    "# Restart the FileStream\n",
    "stream.restart()"
   ]
  },
  {
   "cell_type": "code",
   "execution_count": null,
   "metadata": {},
   "outputs": [],
   "source": [
    "paint_digits = np.zeros(784)\n",
    "paint_digits[ftr_selection] = 1\n",
    "\n",
    "\n",
    "paint_digit(paint_digits)"
   ]
  },
  {
   "source": [
    "### Test multiclass version"
   ],
   "cell_type": "markdown",
   "metadata": {}
  },
  {
   "cell_type": "code",
   "execution_count": 3,
   "metadata": {},
   "outputs": [],
   "source": [
    "# test multiclass\n",
    "stream = FileStream('datasets/Multiclass/mnist_train_normalized.csv', target_idx=0)\n",
    "stream.prepare_for_use()\n"
   ]
  },
  {
   "cell_type": "code",
   "execution_count": 4,
   "metadata": {},
   "outputs": [
    {
     "output_type": "execute_result",
     "data": {
      "text/plain": [
       "PerceptronMask(alpha=0.0001, class_weight=None, early_stopping=False, eta0=1.0,\n",
       "               fit_intercept=True, max_iter=1000, n_iter_no_change=5,\n",
       "               n_jobs=None, penalty=None, random_state=0, shuffle=True,\n",
       "               tol=0.001, validation_fraction=0.1, verbose=0, warm_start=False)"
      ]
     },
     "metadata": {},
     "execution_count": 4
    }
   ],
   "source": [
    "\n",
    "# Initial fit of the predictive model\n",
    "predictor = PerceptronMask()\n",
    "x,y = stream.next_sample(batch_size=100)\n",
    "predictor.partial_fit(x,y, stream.target_values)"
   ]
  },
  {
   "cell_type": "code",
   "execution_count": 5,
   "metadata": {},
   "outputs": [],
   "source": [
    "fires_model = FIRES(n_total_ftr=stream.n_features,\n",
    "                    target_values=stream.target_values,\n",
    "                    mu_init=0,\n",
    "                    sigma_init=1,\n",
    "                    model='softmax')"
   ]
  },
  {
   "cell_type": "code",
   "execution_count": 6,
   "metadata": {},
   "outputs": [
    {
     "output_type": "stream",
     "name": "stdout",
     "text": [
      "1 2\n",
      "obs_class: 5, n obs: 1\n",
      "0.0\n",
      "1 2\n",
      "obs_class: 7, n obs: 1\n",
      "1.0\n",
      "1 2\n",
      "obs_class: 1, n obs: 1\n",
      "1.0\n",
      "1 2\n",
      "obs_class: 7, n obs: 1\n",
      "0.0\n",
      "1 2\n",
      "obs_class: 1, n obs: 1\n",
      "1.0\n"
     ]
    }
   ],
   "source": [
    "n_selected_ftr = 100\n",
    "i = 0\n",
    "while i < 5:  #stream.has_more_samples():\n",
    "    # Load a new sample\n",
    "    x, y = stream.next_sample()\n",
    "    # Select features\n",
    "    ftr_weights = fires_model.weigh_features(x, y)  # Get feature weights with FIRES\n",
    "    ftr_selection = np.argsort(ftr_weights)[::-1][:n_selected_ftr]\n",
    "\n",
    "    # Truncate x (retain only selected features, 'remove' all others, e.g. by replacing them with 0)\n",
    "    x_reduced = np.zeros(x.shape)\n",
    "    x_reduced[:, ftr_selection] = x[:, ftr_selection]\n",
    "\n",
    "    # Test\n",
    "    y_pred = predictor.predict(x)\n",
    "    print(accuracy_score(y, y_pred))\n",
    "\n",
    "    # Train\n",
    "    predictor.partial_fit(x, y)\n",
    "    i += 1\n",
    "# Restart the FileStream\n",
    "stream.restart()"
   ]
  },
  {
   "source": [
    "### test regression version"
   ],
   "cell_type": "markdown",
   "metadata": {}
  },
  {
   "cell_type": "code",
   "execution_count": 3,
   "metadata": {},
   "outputs": [
    {
     "output_type": "execute_result",
     "data": {
      "text/plain": [
       "7153"
      ]
     },
     "metadata": {},
     "execution_count": 3
    }
   ],
   "source": [
    "stream = FileStream('datasets/Regression/ailerons.csv', target_idx=40)\n",
    "stream.prepare_for_use()\n",
    "stream.n_remaining_samples()"
   ]
  },
  {
   "cell_type": "code",
   "execution_count": null,
   "metadata": {},
   "outputs": [],
   "source": [
    "#TODO: find predictor"
   ]
  },
  {
   "cell_type": "code",
   "execution_count": 4,
   "metadata": {},
   "outputs": [],
   "source": [
    "fires_model = FIRES(n_total_ftr=stream.n_features,\n",
    "                    target_values=None,\n",
    "                    mu_init=0,\n",
    "                    sigma_init=1,\n",
    "                    model='regression')"
   ]
  },
  {
   "cell_type": "code",
   "execution_count": 6,
   "metadata": {},
   "outputs": [],
   "source": [
    "x, y = stream.next_sample(batch_size=100)\n",
    "n_selected_ftr = 15\n",
    "# Select features\n",
    "ftr_weights = fires_model.weigh_features(x, y)  # Get feature weights with FIRES\n",
    "ftr_selection = np.argsort(ftr_weights)[::-1][:n_selected_ftr]\n",
    "\n",
    "# Truncate x (retain only selected features, 'remove' all others, e.g. by replacing them with 0)\n",
    "x_reduced = np.zeros(x.shape)\n",
    "x_reduced[:, ftr_selection] = x[:, ftr_selection]"
   ]
  },
  {
   "cell_type": "code",
   "execution_count": 10,
   "metadata": {},
   "outputs": [
    {
     "output_type": "execute_result",
     "data": {
      "text/plain": [
       "array([[ 4.7e+02, -3.9e+01,  2.0e-02,  1.2e-01,  3.9e-01, -6.0e-01,\n",
       "        -1.2e+01,  8.0e+00,  0.0e+00, -1.6e+00,  0.0e+00,  3.4e-02,\n",
       "         0.0e+00,  0.0e+00,  0.0e+00,  0.0e+00,  3.4e-02,  3.4e-02,\n",
       "         0.0e+00,  3.4e-02,  0.0e+00,  0.0e+00,  3.4e-02,  0.0e+00,\n",
       "         0.0e+00,  0.0e+00,  0.0e+00,  0.0e+00,  0.0e+00,  0.0e+00,\n",
       "         0.0e+00,  0.0e+00,  0.0e+00,  0.0e+00,  0.0e+00,  0.0e+00,\n",
       "         0.0e+00,  0.0e+00,  9.0e-01,  0.0e+00]])"
      ]
     },
     "metadata": {},
     "execution_count": 10
    }
   ],
   "source": [
    "x_reduced"
   ]
  },
  {
   "cell_type": "code",
   "execution_count": null,
   "metadata": {},
   "outputs": [],
   "source": []
  }
 ]
}