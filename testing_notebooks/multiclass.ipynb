{
 "metadata": {
  "language_info": {
   "codemirror_mode": {
    "name": "ipython",
    "version": 3
   },
   "file_extension": ".py",
   "mimetype": "text/x-python",
   "name": "python",
   "nbconvert_exporter": "python",
   "pygments_lexer": "ipython3",
   "version": "3.8.5-final"
  },
  "orig_nbformat": 2,
  "kernelspec": {
   "name": "python3",
   "display_name": "Python 3",
   "language": "python"
  }
 },
 "nbformat": 4,
 "nbformat_minor": 2,
 "cells": [
  {
   "source": [
    "## Multiclass Case"
   ],
   "cell_type": "markdown",
   "metadata": {}
  },
  {
   "cell_type": "code",
   "execution_count": 1,
   "metadata": {},
   "outputs": [],
   "source": [
    "# libraries\n",
    "import numpy as np\n",
    "import cupy as cp"
   ]
  },
  {
   "cell_type": "code",
   "execution_count": 25,
   "metadata": {},
   "outputs": [],
   "source": [
    "# other test variables, which are self parameters\n",
    "# classes schould be given as int from 0 to k\n",
    "n_total_ftr = 3\n",
    "target_values = [0,1]\n",
    "mu = cp.ones((n_total_ftr, len(target_values))) * 0\n",
    "sigma = cp.ones((n_total_ftr, len(target_values))) * 1\n",
    "penalty_s = 0.01\n",
    "penalty_r = 0.01\n",
    "epochs = 1\n",
    "lr_mu = 1\n",
    "lr_sigma = 1\n",
    "n_mc_samples = 2 #10000 # monte carlo samples\n",
    "\n",
    "# create 3d array with all r for current observation \n",
    "# r^cl_j = r[l, j, c]\n",
    "#needs to be specified only if we got right model\n",
    "#r = np.random.randn(monte_carlo, n_total_ftr, len(target_values))\n",
    "\n",
    "# maybe set param amount_classes from target_values"
   ]
  },
  {
   "cell_type": "code",
   "execution_count": 26,
   "metadata": {},
   "outputs": [],
   "source": [
    "def __softmax( x, y):\n",
    "\n",
    "        \"\"\"\n",
    "        Update the distribution parameters mu and sigma by optimizing them in terms of the (log) likelihood.\n",
    "        Here we assume a multinominal distributed target variable. We use a Multinominal model as our base model.\n",
    "        Funciton with cupy functions.\n",
    "\n",
    "        :param x: (np.ndarray) Batch of observations (numeric values only, consider normalizing data for better results)\n",
    "        :param y: (np.ndarray) Batch of labels: type integer e.g. 0,1,2,3,4 etc.\n",
    "        \"\"\"\n",
    "        global sigma\n",
    "        global mu\n",
    "        global epochs\n",
    "        global lr_mu\n",
    "        global lr_sigma\n",
    "        global n_mc_samples\n",
    "        if len(x.shape) != 2:\n",
    "            x = x.reshape(1,len(x))\n",
    "    \n",
    "        observed_classes = np.unique(y)\n",
    "\n",
    "        for obs_class in observed_classes:\n",
    "            observations_index = np.where(y == obs_class)[0]\n",
    "            x_obs = cp.array(x[observations_index])\n",
    "            print(\"x:\")\n",
    "            print(x_obs)\n",
    "            n_obs = len(x_obs)\n",
    "            print(\"y: {}\".format(obs_class))\n",
    "            #print(\"obs_class: {}, n obs: {}\".format(obs_class, n_obs))\n",
    "\n",
    "            for epoch in range(epochs):\n",
    "                    \n",
    "                    # Iterative update of mu and sigma\n",
    "                    try:\n",
    "                        # o number of obs, l number of samples, j features,\n",
    "                        # c classes\n",
    "                        \n",
    "                        # r shape: oxlxjxc\n",
    "                        r = cp.random.randn(n_obs, n_mc_samples,\n",
    "                                            n_total_ftr,\n",
    "                                            len(target_values))\n",
    "\n",
    "                        r[0,:,:,:] = cp.array(([[0.5,0.5],[0.5,0.5],[0.5,0.5]],[[1,1],[1,1],[1,1]]))\n",
    "                        r.reshape(1,2,3,2)\n",
    "                        print(r)\n",
    "                        \n",
    "\n",
    "                        # theta shape: oxlxjxc\n",
    "                        theta = (r * sigma + mu)\n",
    "                        print(\"theta:{}\".format(theta.shape))\n",
    "                        # eta shape: oxlxc\n",
    "                        # multiply all ftr_cols with given ftr_vector x\n",
    "                        print(theta)\n",
    "                        eta = cp.einsum(\"oljc,oj->oljc\", theta, x_obs) \n",
    "\n",
    "                        # sum up all theta^cl_j * x_tj so we got l samples\n",
    "                        # for all c classes\n",
    "                        eta = cp.einsum(\"oljc->olc\", eta) \n",
    "                        print(\"eta: {}\".format(eta.shape))\n",
    "                        print(eta)\n",
    "\n",
    "                        # get a for numerical stability, shape oxl\n",
    "                        a = cp.amax(eta, axis=2) * -1\n",
    "                        print(\"a: {}\".format(a.shape))\n",
    "                        print(a)\n",
    "\n",
    "                        eta = cp.einsum(\"olc->col\", eta) + a\n",
    "                        eta = cp.einsum(\"col->olc\", eta)\n",
    "                        print(\"eta with a: {}\".format(eta.shape))\n",
    "                        print(eta)\n",
    "\n",
    "\n",
    "                        eta = cp.exp(eta) # we only need them exp\n",
    "                        print(\"finally eta: {}\".format(eta.shape))\n",
    "                        print(eta)\n",
    "\n",
    "                        # eta_sum shape: oxl\n",
    "                        eta_sum = cp.einsum(\"olc->ol\", eta)\n",
    "                        print(\"sums:{}\".format(eta_sum.shape))\n",
    "                        print(eta_sum)\n",
    "                        \n",
    "                        # calculate softmax only for all classes\n",
    "                        # divide all etas by eta_sum\n",
    "                        softmax_all = np.einsum(\"olc,ol->olc\", eta, (1/eta_sum))\n",
    "\n",
    "                        print(\"softmax: {}\".format(softmax_all.shape))\n",
    "                        \n",
    "                        # marginal shape: o\n",
    "                        marginal = cp.einsum(\"ol->o\",\n",
    "                                             softmax_all[:,:,obs_class]) / \\\n",
    "                                   n_mc_samples\n",
    "\n",
    "                        print(\"marginal: {}\".format(marginal.shape))\n",
    "                        print(marginal)\n",
    "\n",
    "\n",
    "                        # calculate softmax derivative to theta\n",
    "                        softmax_c = softmax_all[:,:,obs_class]\n",
    "                        print(\"sm_c:{}\".format(softmax_c.shape))\n",
    "\n",
    "                        # first calculate derivative for all as k != c\n",
    "                        softmax_derivative = -1 * cp.einsum(\"oj,ol,olc->oljc\",\n",
    "                                                            (x_obs),\n",
    "                                                            softmax_c,\n",
    "                                                            softmax_all)\n",
    "                        print(\"derivavtive: {}\".format(softmax_derivative.shape))\n",
    "                        print(softmax_derivative)\n",
    "\n",
    "                        # then for observed class c\n",
    "                        softmax_derivative_c = cp.einsum(\"oj,ol,ol->olj\",\n",
    "                                                         x_obs,\n",
    "                                                         softmax_c,\n",
    "                                                         (1-softmax_c))\n",
    "                        print(\"derivative c: {}\".format(softmax_derivative_c.shape))\n",
    "                        print(softmax_derivative_c)\n",
    "\n",
    "                        softmax_derivative[:,:,:,obs_class] = \\\n",
    "                            softmax_derivative_c\n",
    "                        \n",
    "                        print(\"end derivative: {}\".format(softmax_derivative.shape))\n",
    "                        print(softmax_derivative)\n",
    "\n",
    "                        nabla_mu = cp.einsum(\"oljc->ojc\", softmax_derivative) /\\\n",
    "                                   n_mc_samples\n",
    "\n",
    "                        print(\"nabla_mu: {}\".format(nabla_mu.shape))\n",
    "                        print(nabla_mu)\n",
    "\n",
    "                        \n",
    "                        \n",
    "                        \n",
    "                        nabla_sigma = cp.einsum(\"oljc,oljc->ojc\",\n",
    "                                                softmax_derivative,r) / \\\n",
    "                                      n_mc_samples\n",
    "                        print(\"nablu_sigma: {}\".format(nabla_sigma.shape))\n",
    "                        print(nabla_sigma)\n",
    "                                    \n",
    "\n",
    "                        nabla_mu = cp.einsum(\"ojc->jco\", nabla_mu)\n",
    "                        mu += lr_mu * \\\n",
    "                                                cp.einsum(\"jco->jc\",\n",
    "                                                          (nabla_mu/ marginal))\n",
    "                        print(\"mu:\")\n",
    "                        print(mu)\n",
    "\n",
    "                        nabla_sigma = cp.einsum(\"ojc->jco\", nabla_sigma)\n",
    "                        sigma += lr_sigma * \\\n",
    "                                                   cp.einsum(\"jco->jc\",\n",
    "                                                             (nabla_sigma / \n",
    "                                                             marginal))\n",
    "                        print(\"sigma:\")\n",
    "                        print(sigma)\n",
    "\n",
    "                    except TypeError as e:\n",
    "                            raise TypeError('All features must be a numeric data type.') from e"
   ]
  },
  {
   "cell_type": "code",
   "execution_count": 27,
   "metadata": {},
   "outputs": [
    {
     "output_type": "stream",
     "name": "stdout",
     "text": [
      "x:\n",
      "[[1 2 3]]\n",
      "y: 1\n",
      "[[[[0.5 0.5]\n",
      "   [0.5 0.5]\n",
      "   [0.5 0.5]]\n",
      "\n",
      "  [[1.  1. ]\n",
      "   [1.  1. ]\n",
      "   [1.  1. ]]]]\n",
      "theta:(1, 2, 3, 2)\n",
      "[[[[0.5 0.5]\n",
      "   [0.5 0.5]\n",
      "   [0.5 0.5]]\n",
      "\n",
      "  [[1.  1. ]\n",
      "   [1.  1. ]\n",
      "   [1.  1. ]]]]\n",
      "eta: (1, 2, 2)\n",
      "[[[3. 3.]\n",
      "  [6. 6.]]]\n",
      "a: (1, 2)\n",
      "[[-3. -6.]]\n",
      "eta with a: (1, 2, 2)\n",
      "[[[0. 0.]\n",
      "  [0. 0.]]]\n",
      "finally eta: (1, 2, 2)\n",
      "[[[1. 1.]\n",
      "  [1. 1.]]]\n",
      "sums:(1, 2)\n",
      "[[2. 2.]]\n",
      "softmax: (1, 2, 2)\n",
      "marginal: (1,)\n",
      "[0.5]\n",
      "sm_c:(1, 2)\n",
      "derivavtive: (1, 2, 3, 2)\n",
      "[[[[-0.25 -0.25]\n",
      "   [-0.5  -0.5 ]\n",
      "   [-0.75 -0.75]]\n",
      "\n",
      "  [[-0.25 -0.25]\n",
      "   [-0.5  -0.5 ]\n",
      "   [-0.75 -0.75]]]]\n",
      "derivative c: (1, 2, 3)\n",
      "[[[0.25 0.5  0.75]\n",
      "  [0.25 0.5  0.75]]]\n",
      "end derivative: (1, 2, 3, 2)\n",
      "[[[[-0.25  0.25]\n",
      "   [-0.5   0.5 ]\n",
      "   [-0.75  0.75]]\n",
      "\n",
      "  [[-0.25  0.25]\n",
      "   [-0.5   0.5 ]\n",
      "   [-0.75  0.75]]]]\n",
      "nabla_mu: (1, 3, 2)\n",
      "[[[-0.25  0.25]\n",
      "  [-0.5   0.5 ]\n",
      "  [-0.75  0.75]]]\n",
      "nablu_sigma: (1, 3, 2)\n",
      "[[[-0.1875  0.1875]\n",
      "  [-0.375   0.375 ]\n",
      "  [-0.5625  0.5625]]]\n",
      "mu:\n",
      "[[-0.5  0.5]\n",
      " [-1.   1. ]\n",
      " [-1.5  1.5]]\n",
      "sigma:\n",
      "[[ 0.625  1.375]\n",
      " [ 0.25   1.75 ]\n",
      " [-0.125  2.125]]\n"
     ]
    }
   ],
   "source": [
    "#test runs\n",
    "__softmax(np.array((1,2,3)),1)"
   ]
  },
  {
   "cell_type": "code",
   "execution_count": 19,
   "metadata": {},
   "outputs": [
    {
     "output_type": "execute_result",
     "data": {
      "text/plain": [
       "array([[1., 1.],\n",
       "       [1., 1.],\n",
       "       [1., 1.]])"
      ]
     },
     "metadata": {},
     "execution_count": 19
    }
   ],
   "source": [
    "sigma"
   ]
  },
  {
   "cell_type": "code",
   "execution_count": 9,
   "metadata": {},
   "outputs": [
    {
     "output_type": "execute_result",
     "data": {
      "text/plain": [
       "(2, 3, 2)"
      ]
     },
     "metadata": {},
     "execution_count": 9
    }
   ],
   "source": [
    "r.reshape(1,2,3,2)\n",
    "r.shape"
   ]
  },
  {
   "cell_type": "code",
   "execution_count": 49,
   "metadata": {},
   "outputs": [
    {
     "output_type": "execute_result",
     "data": {
      "text/plain": [
       "array([[list([-0.558, 1.555]), list([0, 325, -0.726]),\n",
       "        list([0.347, -0.159])],\n",
       "       [list([-0.955, 0.283]), list([0.115, -1.637]),\n",
       "        list([-0.516, 0.161])]], dtype=object)"
      ]
     },
     "metadata": {},
     "execution_count": 49
    }
   ],
   "source": [
    "np.array([[ [-0.558, 1.555], [0.325, -0.726], [0.347,-0.159]], [[-0.955, 0.283], [0.115,-1.637], [-0.516,0.161]]])"
   ]
  },
  {
   "cell_type": "code",
   "execution_count": null,
   "metadata": {},
   "outputs": [],
   "source": [
    "#for getting gaussnorm r ~ N(0,1) size samples x features\n",
    "test = np.random.randn(10000,100)\n",
    "print(test)\n",
    "print(test[1])\n",
    "print(test[9, 9])"
   ]
  },
  {
   "cell_type": "code",
   "execution_count": null,
   "metadata": {},
   "outputs": [],
   "source": [
    "#how to calculate theta^cl_t\n",
    "print(np.array([1,2,3,4,5]) * np.array([2,3,4,5,6]) + np.ones(5))\n",
    "\n",
    "#for sampling create Matrix with all r monte_carlo X \n"
   ]
  },
  {
   "cell_type": "code",
   "execution_count": null,
   "metadata": {},
   "outputs": [],
   "source": [
    "# get theta at time t and for all featurs for class c is number of feature\n",
    "theta_c = sigma[:,c] * np.random.randn(total_features) + mu[:,c]"
   ]
  },
  {
   "cell_type": "code",
   "execution_count": 38,
   "metadata": {},
   "outputs": [
    {
     "output_type": "execute_result",
     "data": {
      "text/plain": [
       "array([[ 2,  4,  6],\n",
       "       [ 4,  8, 12],\n",
       "       [ 6, 12, 18],\n",
       "       [ 8, 16, 24]])"
      ]
     },
     "metadata": {},
     "execution_count": 38
    }
   ],
   "source": [
    "bla = np.array([1,2,3,4])\n",
    "np.sum(np.exp(bla))\n",
    "bla2 = np.array((2,4,6))\n",
    "np.einsum(\"i,j->ij\", bla, bla2) * bla2"
   ]
  },
  {
   "cell_type": "code",
   "execution_count": 43,
   "metadata": {},
   "outputs": [
    {
     "output_type": "execute_result",
     "data": {
      "text/plain": [
       "array([[ 2.,  4.,  6.],\n",
       "       [ 4.,  8., 12.],\n",
       "       [ 6., 12., 18.],\n",
       "       [ 8., 16., 24.]])"
      ]
     },
     "metadata": {},
     "execution_count": 43
    }
   ],
   "source": [
    "(np.einsum(\"j,l->jl\", bla, bla2) * bla2) / bla2"
   ]
  },
  {
   "cell_type": "code",
   "execution_count": 6,
   "metadata": {},
   "outputs": [
    {
     "output_type": "stream",
     "name": "stdout",
     "text": [
      "[[1 1 1 1]\n [2 2 2 2]\n [1 2 3 4]]\n[[[ 1  2  3  4  5]\n  [ 1  2  3  4  5]\n  [ 1  2  3  4  5]\n  [ 1  2  3  4  5]]\n\n [[ 4  4  4  4  4]\n  [ 4  4  4  4  4]\n  [ 4  4  4  4  4]\n  [ 4  4  4  4  4]]\n\n [[ 3  3  3  3  3]\n  [ 6  6  6  6  6]\n  [ 9  9  9  9  9]\n  [12 12 12 12 12]]]\n"
     ]
    },
    {
     "output_type": "execute_result",
     "data": {
      "text/plain": [
       "array([[ 5,  5,  5,  5],\n",
       "       [ 4,  4,  4,  4],\n",
       "       [ 3,  6,  9, 12]])"
      ]
     },
     "metadata": {},
     "execution_count": 6
    }
   ],
   "source": [
    "# tests for derivative o = 3, j = 4, l = 5 entries\n",
    "X = np.array([[1,1,1,1], [2,2,2,2], [1,2,3,4]])\n",
    "print(X)\n",
    "eta = np.array([[1,2,3,4,5], [2,2,2,2,2], [3,3,3,3,3]])\n",
    "sums_eta = np.array((5,5,5,5,5))\n",
    "x_eta = np.einsum(\"oj,ol->ojl\", X, eta)\n",
    "print(x_eta)\n",
    "final = np.einsum(\"ojl,ol->ojl\", x_eta, (sums_eta-eta)) / sums_eta**2\n",
    "x_eta[:,:,4]"
   ]
  },
  {
   "cell_type": "code",
   "execution_count": 54,
   "metadata": {},
   "outputs": [
    {
     "output_type": "execute_result",
     "data": {
      "text/plain": [
       "array([[4, 3, 2, 1, 0],\n",
       "       [3, 3, 3, 3, 3],\n",
       "       [2, 2, 2, 2, 2]])"
      ]
     },
     "metadata": {},
     "execution_count": 54
    }
   ],
   "source": [
    "sums_eta - eta"
   ]
  },
  {
   "cell_type": "code",
   "execution_count": 12,
   "metadata": {},
   "outputs": [
    {
     "output_type": "stream",
     "name": "stdout",
     "text": [
      "[[ 5  4  4]\n [ 5  4  7]\n [ 5  4 10]\n [ 5  4 13]]\n"
     ]
    },
    {
     "output_type": "execute_result",
     "data": {
      "text/plain": [
       "array([[ 5,  4,  5],\n",
       "       [ 5,  4,  8],\n",
       "       [ 5,  4, 11],\n",
       "       [ 5,  4, 14]])"
      ]
     },
     "metadata": {},
     "execution_count": 12
    }
   ],
   "source": [
    "bla = x_eta[:,:,4].T\n",
    "print(bla)\n",
    "bla[:,2] += np.array((1,1,1,1))\n",
    "bla"
   ]
  },
  {
   "cell_type": "code",
   "execution_count": null,
   "metadata": {},
   "outputs": [],
   "source": [
    "test = np.random.randn(2,3,4) #monte, features, classes\n",
    "print(test.shape)\n",
    "print(\"----------\")\n",
    "print(test[1])\n",
    "print(\"-------\")\n",
    "print(test[1,1])\n",
    "print(\"--------\")\n",
    "print(test[1,:,1])"
   ]
  },
  {
   "cell_type": "code",
   "execution_count": 3,
   "metadata": {},
   "outputs": [],
   "source": [
    "test = np.array([[(1,2),(3,4)], [(5,6),(7,8)]])\n",
    "ones = np.ones((2,2))\n",
    "twos = np.ones((2,2)) * 2"
   ]
  },
  {
   "cell_type": "code",
   "execution_count": 4,
   "metadata": {},
   "outputs": [
    {
     "output_type": "execute_result",
     "data": {
      "text/plain": [
       "array([[[ 3.,  5.],\n",
       "        [ 7.,  9.]],\n",
       "\n",
       "       [[11., 13.],\n",
       "        [15., 17.]]])"
      ]
     },
     "metadata": {},
     "execution_count": 4
    }
   ],
   "source": [
    "test * twos + ones"
   ]
  },
  {
   "cell_type": "code",
   "execution_count": 4,
   "metadata": {},
   "outputs": [],
   "source": [
    "test1 = test[0]\n",
    "#print(test1)\n",
    "#(test1.T * np.array([1,2])).T\n"
   ]
  },
  {
   "cell_type": "code",
   "execution_count": 9,
   "metadata": {},
   "outputs": [
    {
     "output_type": "stream",
     "name": "stdout",
     "text": [
      "[[1 2]\n [6 8]]\n"
     ]
    },
    {
     "output_type": "execute_result",
     "data": {
      "text/plain": [
       "2"
      ]
     },
     "metadata": {},
     "execution_count": 9
    }
   ],
   "source": [
    "c = np.einsum(\"ij,i->ij\", test1, np.array((1,2)))\n",
    "print(c)\n",
    "c[0,1] #feature class"
   ]
  },
  {
   "cell_type": "code",
   "execution_count": 5,
   "metadata": {},
   "outputs": [
    {
     "output_type": "execute_result",
     "data": {
      "text/plain": [
       "array([[1, 2],\n",
       "       [3, 4]])"
      ]
     },
     "metadata": {},
     "execution_count": 5
    }
   ],
   "source": [
    "test1"
   ]
  },
  {
   "cell_type": "code",
   "execution_count": 6,
   "metadata": {},
   "outputs": [
    {
     "output_type": "execute_result",
     "data": {
      "text/plain": [
       "array([4, 6])"
      ]
     },
     "metadata": {},
     "execution_count": 6
    }
   ],
   "source": [
    "np.einsum(\"ij->j\", test1) # for nabla"
   ]
  },
  {
   "cell_type": "code",
   "execution_count": 7,
   "metadata": {},
   "outputs": [
    {
     "output_type": "execute_result",
     "data": {
      "text/plain": [
       "array([3, 7])"
      ]
     },
     "metadata": {},
     "execution_count": 7
    }
   ],
   "source": [
    "np.einsum(\"ij->i\", test1)"
   ]
  },
  {
   "cell_type": "code",
   "execution_count": 101,
   "metadata": {},
   "outputs": [
    {
     "output_type": "execute_result",
     "data": {
      "text/plain": [
       "array([[[1, 2],\n",
       "        [3, 4]],\n",
       "\n",
       "       [[5, 6],\n",
       "        [7, 8]]])"
      ]
     },
     "metadata": {},
     "execution_count": 101
    }
   ],
   "source": [
    "test"
   ]
  },
  {
   "cell_type": "code",
   "execution_count": 102,
   "metadata": {},
   "outputs": [
    {
     "output_type": "stream",
     "name": "stdout",
     "text": [
      "[[ 4  6]\n [12 14]]\n"
     ]
    },
    {
     "output_type": "execute_result",
     "data": {
      "text/plain": [
       "6"
      ]
     },
     "metadata": {},
     "execution_count": 102
    }
   ],
   "source": [
    "blub = np.einsum(\"ijk->ik\", test)\n",
    "print(blub) # -> blub[sample, class]\n",
    "blub[0, 1]"
   ]
  },
  {
   "cell_type": "code",
   "execution_count": null,
   "metadata": {},
   "outputs": [],
   "source": [
    "a = np.arange(25).reshape(5,5)\n",
    "b = np.arange(5)\n",
    "a\n",
    "print(test)\n",
    "test2 = np.einsum(\"ijk,j->ijk\", test, np.array((1,2)))\n"
   ]
  },
  {
   "cell_type": "code",
   "execution_count": 127,
   "metadata": {},
   "outputs": [
    {
     "output_type": "stream",
     "name": "stdout",
     "text": [
      "[1. 2.]\n3.0\nresult:  [0.33333333 0.66666667]\n[3. 4.]\n7.0\nresult:  [0.42857143 0.57142857]\n[5. 6.]\n11.0\nresult:  [0.45454545 0.54545455]\n"
     ]
    },
    {
     "output_type": "execute_result",
     "data": {
      "text/plain": [
       "array([[0.33333333, 0.66666667],\n",
       "       [0.42857143, 0.57142857],\n",
       "       [0.45454545, 0.54545455]])"
      ]
     },
     "metadata": {},
     "execution_count": 127
    }
   ],
   "source": [
    "#test for softmax\n",
    "\n",
    "def fun_test(x):\n",
    "    print(x)\n",
    "    result = np.empty(len(x))\n",
    "    sum_all = np.sum(x)\n",
    "    print(sum_all)\n",
    "    for idx, entry in enumerate(x):\n",
    "        result[idx] = entry/sum_all\n",
    "    print(\"result: \", result)\n",
    "    return result\n",
    "\n",
    "\n",
    "fun_test_v = np.vectorize(fun_test)\n",
    "\n",
    "test_array = np.array([[1,2],[3,4],[5,6]], dtype=np.float)\n",
    "\n",
    "for idx, x in enumerate(test_array):\n",
    "    test_array[idx] = fun_test(x)\n",
    "\n",
    "test_array"
   ]
  },
  {
   "cell_type": "code",
   "execution_count": 2,
   "metadata": {},
   "outputs": [
    {
     "output_type": "execute_result",
     "data": {
      "text/plain": [
       "array([1., 1., 1., 1., 1., 1.])"
      ]
     },
     "metadata": {},
     "execution_count": 2
    }
   ],
   "source": [
    "a = np.array((1,2,3,4,5,6))\n",
    "a / a"
   ]
  },
  {
   "cell_type": "code",
   "execution_count": 25,
   "metadata": {},
   "outputs": [
    {
     "output_type": "execute_result",
     "data": {
      "text/plain": [
       "array([[  2.71828183,   7.3890561 ,  20.08553692,  54.59815003,\n",
       "        148.4131591 ],\n",
       "       [  2.71828183,   7.3890561 ,  20.08553692,  54.59815003,\n",
       "        148.4131591 ],\n",
       "       [  2.71828183,   7.3890561 ,  20.08553692,  54.59815003,\n",
       "        148.4131591 ],\n",
       "       [  2.71828183,   7.3890561 ,  20.08553692,  54.59815003,\n",
       "        148.4131591 ]])"
      ]
     },
     "metadata": {},
     "execution_count": 25
    }
   ],
   "source": [
    "# test for simultaneous caclculations\n",
    "test_matrix = np.array([[1,2,3,4,5],\n",
    "                        [1,2,3,4,5],\n",
    "                        [1,2,3,4,5],\n",
    "                        [1,2,3,4,5]])\n",
    "test_matrix[:,[0,1,0,2,3]]\n",
    "test_matrix.T / np.array((1,2,3,4))\n",
    "np.exp(test_matrix)"
   ]
  },
  {
   "cell_type": "code",
   "execution_count": 14,
   "metadata": {},
   "outputs": [
    {
     "output_type": "execute_result",
     "data": {
      "text/plain": [
       "array([1., 1., 1., 1.])"
      ]
     },
     "metadata": {},
     "execution_count": 14
    }
   ],
   "source": [
    "np.ones(4)"
   ]
  },
  {
   "source": [
    "\n"
   ],
   "cell_type": "markdown",
   "metadata": {}
  },
  {
   "cell_type": "code",
   "execution_count": 35,
   "metadata": {},
   "outputs": [
    {
     "output_type": "error",
     "ename": "TypeError",
     "evalue": "iteration over a 0-d array",
     "traceback": [
      "\u001b[0;31m---------------------------------------------------------------------------\u001b[0m",
      "\u001b[0;31mTypeError\u001b[0m                                 Traceback (most recent call last)",
      "\u001b[0;32m<ipython-input-35-590b80798ad1>\u001b[0m in \u001b[0;36m<module>\u001b[0;34m\u001b[0m\n\u001b[0;32m----> 1\u001b[0;31m \u001b[0;32mfor\u001b[0m \u001b[0mi\u001b[0m \u001b[0;32min\u001b[0m \u001b[0mnp\u001b[0m\u001b[0;34m.\u001b[0m\u001b[0marray\u001b[0m\u001b[0;34m(\u001b[0m\u001b[0;34m(\u001b[0m\u001b[0;36m1\u001b[0m\u001b[0;34m)\u001b[0m\u001b[0;34m)\u001b[0m\u001b[0;34m:\u001b[0m\u001b[0;34m\u001b[0m\u001b[0;34m\u001b[0m\u001b[0m\n\u001b[0m\u001b[1;32m      2\u001b[0m     \u001b[0mprint\u001b[0m\u001b[0;34m(\u001b[0m\u001b[0mi\u001b[0m\u001b[0;34m)\u001b[0m\u001b[0;34m\u001b[0m\u001b[0;34m\u001b[0m\u001b[0m\n",
      "\u001b[0;31mTypeError\u001b[0m: iteration over a 0-d array"
     ]
    }
   ],
   "source": [
    "for i in np.array((1)):\n",
    "    print(i)"
   ]
  },
  {
   "cell_type": "code",
   "execution_count": 11,
   "metadata": {},
   "outputs": [],
   "source": [
    "test = np.array((1))"
   ]
  },
  {
   "cell_type": "code",
   "execution_count": 8,
   "metadata": {},
   "outputs": [
    {
     "output_type": "execute_result",
     "data": {
      "text/plain": [
       "numpy.ndarray"
      ]
     },
     "metadata": {},
     "execution_count": 8
    }
   ],
   "source": [
    "type(test)"
   ]
  },
  {
   "cell_type": "code",
   "execution_count": 10,
   "metadata": {},
   "outputs": [
    {
     "output_type": "execute_result",
     "data": {
      "text/plain": [
       "True"
      ]
     },
     "metadata": {},
     "execution_count": 10
    }
   ],
   "source": [
    "test.shape == (2,)\n"
   ]
  },
  {
   "cell_type": "code",
   "execution_count": 14,
   "metadata": {},
   "outputs": [
    {
     "output_type": "error",
     "ename": "TypeError",
     "evalue": "iteration over a 0-d array",
     "traceback": [
      "\u001b[0;31m---------------------------------------------------------------------------\u001b[0m",
      "\u001b[0;31mTypeError\u001b[0m                                 Traceback (most recent call last)",
      "\u001b[0;32m<ipython-input-14-7bbec3698b5a>\u001b[0m in \u001b[0;36m<module>\u001b[0;34m\u001b[0m\n\u001b[0;32m----> 1\u001b[0;31m \u001b[0;32mfor\u001b[0m \u001b[0midx\u001b[0m\u001b[0;34m,\u001b[0m \u001b[0mx\u001b[0m \u001b[0;32min\u001b[0m \u001b[0mnp\u001b[0m\u001b[0;34m.\u001b[0m\u001b[0mnditer\u001b[0m\u001b[0;34m(\u001b[0m\u001b[0mtest\u001b[0m\u001b[0;34m)\u001b[0m\u001b[0;34m:\u001b[0m\u001b[0;34m\u001b[0m\u001b[0;34m\u001b[0m\u001b[0m\n\u001b[0m\u001b[1;32m      2\u001b[0m     \u001b[0mprint\u001b[0m\u001b[0;34m(\u001b[0m\u001b[0midx\u001b[0m\u001b[0;34m,\u001b[0m \u001b[0mx\u001b[0m\u001b[0;34m)\u001b[0m\u001b[0;34m\u001b[0m\u001b[0;34m\u001b[0m\u001b[0m\n",
      "\u001b[0;31mTypeError\u001b[0m: iteration over a 0-d array"
     ]
    }
   ],
   "source": [
    "for idx, x in np.nditer(test):\n",
    "    print(idx, x)"
   ]
  },
  {
   "cell_type": "code",
   "execution_count": 46,
   "metadata": {},
   "outputs": [
    {
     "output_type": "execute_result",
     "data": {
      "text/plain": [
       "array([5.e-324])"
      ]
     },
     "metadata": {},
     "execution_count": 46
    }
   ],
   "source": [
    "np.ndarray((1), buffer=np.array([1]))"
   ]
  },
  {
   "source": [
    "# for sigma resizing\n",
    "test = np.array([[-1,3],[5,-3]])\n",
    "\n",
    "test[test<0] = 0\n",
    "test"
   ],
   "cell_type": "code",
   "metadata": {},
   "execution_count": 58,
   "outputs": [
    {
     "output_type": "execute_result",
     "data": {
      "text/plain": [
       "array([[0, 3],\n",
       "       [5, 0]])"
      ]
     },
     "metadata": {},
     "execution_count": 58
    }
   ]
  },
  {
   "cell_type": "code",
   "execution_count": 50,
   "metadata": {},
   "outputs": [
    {
     "output_type": "stream",
     "name": "stdout",
     "text": [
      "1, 2\n"
     ]
    }
   ],
   "source": [
    "a, b = 1,2\n",
    "print(\"{}, {}\".format(a,b))"
   ]
  },
  {
   "cell_type": "code",
   "execution_count": 53,
   "metadata": {},
   "outputs": [
    {
     "output_type": "execute_result",
     "data": {
      "text/plain": [
       "2"
      ]
     },
     "metadata": {},
     "execution_count": 53
    }
   ],
   "source": [
    "len(test.shape)\n"
   ]
  },
  {
   "cell_type": "code",
   "execution_count": 55,
   "metadata": {},
   "outputs": [
    {
     "output_type": "execute_result",
     "data": {
      "text/plain": [
       "1"
      ]
     },
     "metadata": {},
     "execution_count": 55
    }
   ],
   "source": [
    "len(np.array((1,2,3,4)).shape)"
   ]
  },
  {
   "cell_type": "code",
   "execution_count": 57,
   "metadata": {},
   "outputs": [
    {
     "output_type": "execute_result",
     "data": {
      "text/plain": [
       "array([1.5, 2.5])"
      ]
     },
     "metadata": {},
     "execution_count": 57
    }
   ],
   "source": [
    "np.mean(test, axis=1)"
   ]
  },
  {
   "cell_type": "code",
   "execution_count": 61,
   "metadata": {},
   "outputs": [
    {
     "output_type": "execute_result",
     "data": {
      "text/plain": [
       "()"
      ]
     },
     "metadata": {},
     "execution_count": 61
    }
   ],
   "source": [
    "np.array((1)).shape"
   ]
  },
  {
   "cell_type": "code",
   "execution_count": 60,
   "metadata": {},
   "outputs": [
    {
     "output_type": "error",
     "ename": "TypeError",
     "evalue": "len() of unsized object",
     "traceback": [
      "\u001b[0;31m---------------------------------------------------------------------------\u001b[0m",
      "\u001b[0;31mTypeError\u001b[0m                                 Traceback (most recent call last)",
      "\u001b[0;32m<ipython-input-60-e0e1d53e550c>\u001b[0m in \u001b[0;36m<module>\u001b[0;34m\u001b[0m\n\u001b[0;32m----> 1\u001b[0;31m \u001b[0mlen\u001b[0m\u001b[0;34m(\u001b[0m\u001b[0mnp\u001b[0m\u001b[0;34m.\u001b[0m\u001b[0marray\u001b[0m\u001b[0;34m(\u001b[0m\u001b[0;34m(\u001b[0m\u001b[0;36m1\u001b[0m\u001b[0;34m)\u001b[0m\u001b[0;34m)\u001b[0m\u001b[0;34m)\u001b[0m\u001b[0;34m\u001b[0m\u001b[0;34m\u001b[0m\u001b[0m\n\u001b[0m",
      "\u001b[0;31mTypeError\u001b[0m: len() of unsized object"
     ]
    }
   ],
   "source": [
    "len(np.array((1)))"
   ]
  },
  {
   "cell_type": "code",
   "execution_count": 62,
   "metadata": {},
   "outputs": [
    {
     "output_type": "execute_result",
     "data": {
      "text/plain": [
       "11"
      ]
     },
     "metadata": {},
     "execution_count": 62
    }
   ],
   "source": [
    "np.array((5)) + 6"
   ]
  },
  {
   "cell_type": "code",
   "execution_count": 70,
   "metadata": {},
   "outputs": [
    {
     "output_type": "stream",
     "name": "stdout",
     "text": [
      "0 5\n1 3\n2 4\n3 5\n"
     ]
    }
   ],
   "source": [
    "for idx, x in enumerate(np.nditer(np.array((5,3,4,5)))):\n",
    "    print(idx, x)"
   ]
  },
  {
   "cell_type": "code",
   "execution_count": 72,
   "metadata": {},
   "outputs": [
    {
     "output_type": "execute_result",
     "data": {
      "text/plain": [
       "<enumerate at 0x7ff8e6a38180>"
      ]
     },
     "metadata": {},
     "execution_count": 72
    }
   ],
   "source": [
    "enumerate(np.nditer(3))"
   ]
  },
  {
   "cell_type": "code",
   "execution_count": 3,
   "metadata": {},
   "outputs": [
    {
     "output_type": "stream",
     "name": "stdout",
     "text": [
      "bla\n"
     ]
    }
   ],
   "source": [
    "if True or \\\n",
    "False:\n",
    "    print(\"bla\")"
   ]
  },
  {
   "cell_type": "code",
   "execution_count": 7,
   "metadata": {},
   "outputs": [
    {
     "output_type": "execute_result",
     "data": {
      "text/plain": [
       "array([[0.2, 0.3, 0.5],\n",
       "       [0.2, 0.3, 0.5],\n",
       "       [0.2, 0.3, 0.5]])"
      ]
     },
     "metadata": {},
     "execution_count": 7
    }
   ],
   "source": [
    "import numpy as np\n",
    "probs = np.array((0.2, 0.3, 0.5))\n",
    "mu = np.ones((3,3))\n",
    "mu * probs"
   ]
  },
  {
   "cell_type": "code",
   "execution_count": 10,
   "metadata": {},
   "outputs": [
    {
     "output_type": "execute_result",
     "data": {
      "text/plain": [
       "array([1., 1., 1.])"
      ]
     },
     "metadata": {},
     "execution_count": 10
    }
   ],
   "source": [
    "np.sum(mu*probs, axis=1)"
   ]
  },
  {
   "cell_type": "code",
   "execution_count": null,
   "metadata": {},
   "outputs": [],
   "source": []
  }
 ]
}