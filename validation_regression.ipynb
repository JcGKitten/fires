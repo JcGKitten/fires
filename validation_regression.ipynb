{
 "metadata": {
  "language_info": {
   "codemirror_mode": {
    "name": "ipython",
    "version": 3
   },
   "file_extension": ".py",
   "mimetype": "text/x-python",
   "name": "python",
   "nbconvert_exporter": "python",
   "pygments_lexer": "ipython3",
   "version": "3.9.2-final"
  },
  "orig_nbformat": 2,
  "kernelspec": {
   "name": "python39164bit782dbb36b7b848238b8e7e5b770c6244",
   "display_name": "Python 3.9.1 64-bit"
  }
 },
 "nbformat": 4,
 "nbformat_minor": 2,
 "cells": [
  {
   "source": [
    "## Regression Data\n",
    "The FIRES Model can't be compared to a real datastream algorithm, instead the SGDRegressor form scikit learn"
   ],
   "cell_type": "markdown",
   "metadata": {}
  },
  {
   "cell_type": "code",
   "execution_count": 4,
   "metadata": {},
   "outputs": [],
   "source": [
    "# import the functions needed for validate and comparsion\n",
    "\n",
    "import numpy as np\n",
    "import cupy as cp\n",
    "import pandas as pd\n",
    "from timeit import default_timer as timer\n",
    "import os\n",
    "\n",
    "from sklearn.model_selection import train_test_split\n",
    "#mean_squared_error: mse squared=true, rmse squared=false\n",
    "from sklearn.metrics import mean_squared_error, r2_score, mean_absolute_error\n",
    "from skmultiflow.data import FileStream\n",
    "from sklearn.linear_model import SGDRegressor\n",
    "from skmultiflow.data.regression_generator import RegressionGenerator\n",
    "\n",
    "\n",
    "# using plotly for plots\n",
    "import plotly.express as px\n",
    "from plotly.subplots import make_subplots\n"
   ]
  },
  {
   "cell_type": "code",
   "execution_count": 5,
   "metadata": {},
   "outputs": [],
   "source": [
    "from fires import FIRES"
   ]
  },
  {
   "cell_type": "code",
   "execution_count": 1,
   "metadata": {},
   "outputs": [],
   "source": [
    "from stability import stability_factor"
   ]
  },
  {
   "source": [
    "### Load Datasets as Streaming Data"
   ],
   "cell_type": "markdown",
   "metadata": {}
  },
  {
   "cell_type": "code",
   "execution_count": 7,
   "metadata": {},
   "outputs": [
    {
     "output_type": "stream",
     "name": "stderr",
     "text": [
      "/home/kitten/anaconda3/lib/python3.8/site-packages/skmultiflow/data/base_stream.py:191: FutureWarning: 'prepare_for_use' has been deprecated in v0.5.0 and will be removed in v0.7.0.\nNew instances of the Stream class are now ready to use after instantiation.\n  warnings.warn(\n"
     ]
    }
   ],
   "source": [
    "stream = FileStream('datasets/Regression/ailerons_norm.csv', target_idx=40)\n",
    "stream.prepare_for_use()\n",
    "dataset_name = \"ailerons_norm\"\n",
    "n_selected_ftr = 10\n",
    "\n",
    "# load test data\n",
    "test_data = pd.read_csv('datasets/Regression/ailerons_test_norm.csv', header=None)\n",
    "test_y = test_data[40].to_numpy()\n",
    "test_x = test_data.drop(columns=40).to_numpy()"
   ]
  },
  {
   "cell_type": "code",
   "execution_count": 49,
   "metadata": {},
   "outputs": [
    {
     "output_type": "stream",
     "name": "stderr",
     "text": [
      "/home/kitten/anaconda3/lib/python3.8/site-packages/skmultiflow/data/base_stream.py:191: FutureWarning:\n\n'prepare_for_use' has been deprecated in v0.5.0 and will be removed in v0.7.0.\nNew instances of the Stream class are now ready to use after instantiation.\n\n"
     ]
    }
   ],
   "source": [
    "# normalized data\n",
    "stream = FileStream('datasets/Regression/dataset_1_norm_train.csv', target_idx=150)\n",
    "stream.prepare_for_use()\n",
    "dataset_name = \"dataset_1_normalized\"\n",
    "n_selected_ftr = 38 #25 are informative\n",
    "\n",
    "# load test data\n",
    "test_data = pd.read_csv('datasets/Regression/dataset_1_norm_test.csv')\n",
    "test_x = test_data.drop(columns=\"y\").to_numpy()\n",
    "test_y = test_data[\"y\"].to_numpy()"
   ]
  },
  {
   "cell_type": "code",
   "execution_count": 50,
   "metadata": {},
   "outputs": [],
   "source": [
    "# prepare folder for plots\n",
    "folder = \"plots/regression/{}\".format(dataset_name)\n",
    "if not os.path.exists(folder):\n",
    "    os.makedirs(folder)\n",
    "\n",
    "export_type = \"pdf\" # \"png\", \"jpeg\", \"webp\", \"pdf\", \"svg\""
   ]
  },
  {
   "source": [
    "### Without FS"
   ],
   "cell_type": "markdown",
   "metadata": {}
  },
  {
   "cell_type": "code",
   "execution_count": 51,
   "metadata": {},
   "outputs": [
    {
     "output_type": "execute_result",
     "data": {
      "text/plain": [
       "SGDRegressor()"
      ]
     },
     "metadata": {},
     "execution_count": 51
    }
   ],
   "source": [
    "stream.restart()\n",
    "predictor = SGDRegressor()\n",
    "X, y = stream.next_sample(batch_size=100)\n",
    "predictor.partial_fit(X,y)"
   ]
  },
  {
   "cell_type": "code",
   "execution_count": 52,
   "metadata": {},
   "outputs": [],
   "source": [
    "pure_rmse = []\n",
    "while stream.has_more_samples():\n",
    "    x, y = stream.next_sample(batch_size=100)\n",
    "\n",
    "    # Test\n",
    "    y_pred = predictor.predict(x)\n",
    "    \n",
    "    pure_rmse.append(mean_squared_error(y, y_pred, squared=False))\n",
    "\n",
    "    # Train\n",
    "    predictor.partial_fit(x, y)\n",
    "\n",
    "\n",
    "y_pred = predictor.predict(test_x)\n",
    "pure_rmse_test = mean_squared_error(test_y, y_pred, squared=False)"
   ]
  },
  {
   "source": [
    "### FIRES for Regression"
   ],
   "cell_type": "markdown",
   "metadata": {}
  },
  {
   "cell_type": "code",
   "execution_count": 53,
   "metadata": {},
   "outputs": [
    {
     "output_type": "execute_result",
     "data": {
      "text/plain": [
       "SGDRegressor()"
      ]
     },
     "metadata": {},
     "execution_count": 53
    }
   ],
   "source": [
    "# use SGDRegressor as predictor\n",
    "stream.restart()\n",
    "predictor = SGDRegressor()\n",
    "X, y = stream.next_sample(batch_size=100)\n",
    "predictor.partial_fit(X,y)"
   ]
  },
  {
   "cell_type": "code",
   "execution_count": 54,
   "metadata": {},
   "outputs": [],
   "source": [
    "fires_model = FIRES(n_total_ftr=stream.n_features,\n",
    "                    target_values=None,\n",
    "                    mu_init=0,\n",
    "                    sigma_init=1,\n",
    "                    model='regression')  "
   ]
  },
  {
   "cell_type": "code",
   "execution_count": 55,
   "metadata": {},
   "outputs": [
    {
     "output_type": "stream",
     "name": "stdout",
     "text": [
      "The whole fires run took 8.39037617799977\n"
     ]
    }
   ],
   "source": [
    "fires_mse = []\n",
    "fires_rmse = []\n",
    "fires_msa = []\n",
    "fires_r2 = []\n",
    "fires_times = []\n",
    "\n",
    "fires_selected_ftrs = []\n",
    "fires_stability = [0,0,0,0,0,0,0,0,0,0]\n",
    "\n",
    "start_time_all = timer()\n",
    "while stream.has_more_samples():\n",
    "    # Load a new sample\n",
    "    x, y = stream.next_sample(batch_size=100)\n",
    "    # Select features\n",
    "    start_time = timer()\n",
    "    ftr_weights = fires_model.weigh_features(x,y)\n",
    "    ftr_selection = np.argsort(ftr_weights)[::-1][:n_selected_ftr]\n",
    "    fires_times.append(timer()-start_time)\n",
    "\n",
    "    # Truncate x (retain only selected features, 'remove' all others, e.g. by replacing them with 0)\n",
    "    x_reduced = np.zeros(x.shape)\n",
    "    x_reduced[:, ftr_selection] = x[:, ftr_selection]\n",
    "\n",
    "    # stability test\n",
    "    ftr_array = np.zeros(stream.n_features)\n",
    "    ftr_array[ftr_selection] = 1\n",
    "    fires_selected_ftrs.append(ftr_array)\n",
    "\n",
    "    if len(fires_selected_ftrs) >= 10:\n",
    "        stability = stability_factor(fires_selected_ftrs[-10:])\n",
    "        fires_stability.append(stability)\n",
    "\n",
    "\n",
    "    # Test\n",
    "    y_pred = predictor.predict(x_reduced)\n",
    "    \n",
    "    fires_mse.append(mean_squared_error(y, y_pred, squared=True))\n",
    "    fires_rmse.append(mean_squared_error(y, y_pred, squared=False))\n",
    "    fires_r2.append(r2_score(y,y_pred))\n",
    "    \n",
    "\n",
    "\n",
    "    # Train\n",
    "    predictor.partial_fit(x_reduced, y)\n",
    "\n",
    "# Restart the FileStream\n",
    "end_time_all = timer()\n",
    "fires_run_time = timer() - start_time_all\n",
    "print(\"The whole fires run took {}\".format(fires_run_time))\n"
   ]
  },
  {
   "cell_type": "code",
   "execution_count": 56,
   "metadata": {},
   "outputs": [
    {
     "output_type": "stream",
     "name": "stdout",
     "text": [
      "For the test dataset the previous trained predictor reached: 0.3512403699277188\n"
     ]
    }
   ],
   "source": [
    "y_pred = predictor.predict(test_x)\n",
    "fires_mse_test = mean_squared_error(test_y, y_pred, squared=False)\n",
    "print(\"For the test dataset the previous trained predictor reached: {}\".format(fires_mse_test))"
   ]
  },
  {
   "source": [
    "### Feature selection via SGDRegressor\n"
   ],
   "cell_type": "markdown",
   "metadata": {}
  },
  {
   "cell_type": "code",
   "execution_count": 57,
   "metadata": {},
   "outputs": [
    {
     "output_type": "execute_result",
     "data": {
      "text/plain": [
       "SGDRegressor()"
      ]
     },
     "metadata": {},
     "execution_count": 57
    }
   ],
   "source": [
    "# use SGDRegressor as predictor\n",
    "stream.restart()\n",
    "predictor = SGDRegressor()\n",
    "X, y = stream.next_sample(batch_size=100)\n",
    "predictor.partial_fit(X,y)"
   ]
  },
  {
   "cell_type": "code",
   "execution_count": 58,
   "metadata": {},
   "outputs": [],
   "source": [
    "sgdr_model = SGDRegressor(penalty=\"l1\") #penalty could be elasticnet as well\n",
    "#n_selectey_ftrs?"
   ]
  },
  {
   "cell_type": "code",
   "execution_count": 59,
   "metadata": {},
   "outputs": [
    {
     "output_type": "stream",
     "name": "stdout",
     "text": [
      "The whole sgdr run took 0.46406184800025585\n"
     ]
    }
   ],
   "source": [
    "sgdr_mse = []\n",
    "sgdr_rmse = []\n",
    "sgdr_mae = []\n",
    "sgdr_r2 = []\n",
    "\n",
    "sgdr_times = []\n",
    "\n",
    "sgdr_selected_ftrs = []\n",
    "sgdr_stability = [0,0,0,0,0,0,0,0,0,0]\n",
    "\n",
    "start_time_all = timer()\n",
    "while stream.has_more_samples():\n",
    "    # Load a new sample\n",
    "    x, y = stream.next_sample(batch_size=100)\n",
    "    # Select features\n",
    "    start_time = timer()\n",
    "    sgdr_model.partial_fit(x,y)\n",
    "    ftr_weights = sgdr_model.coef_\n",
    "    ftr_selection = np.argsort(ftr_weights)[::-1][:n_selected_ftr]\n",
    "    sgdr_times.append(timer()-start_time)\n",
    "\n",
    "    # Truncate x (retain only selected features, 'remove' all others, e.g. by replacing them with 0)\n",
    "    x_reduced = np.zeros(x.shape)\n",
    "    x_reduced[:, ftr_selection] = x[:, ftr_selection]\n",
    "\n",
    "    # stability test\n",
    "    ftr_array = np.zeros(stream.n_features)\n",
    "    ftr_array[ftr_selection] = 1\n",
    "    sgdr_selected_ftrs.append(ftr_array)\n",
    "\n",
    "    if len(sgdr_selected_ftrs) >= 10:\n",
    "        stability = stability_factor(sgdr_selected_ftrs[-10:])\n",
    "        sgdr_stability.append(stability)\n",
    "\n",
    "\n",
    "    # Test\n",
    "    y_pred = predictor.predict(x_reduced)\n",
    "    \n",
    "    sgdr_mse.append(mean_squared_error(y, y_pred))\n",
    "    sgdr_rmse.append(mean_squared_error(y, y_pred, squared=False))\n",
    "    sgdr_r2.append(r2_score(y,y_pred))\n",
    "\n",
    "    \n",
    "\n",
    "\n",
    "    # Train\n",
    "    predictor.partial_fit(x_reduced, y)\n",
    "\n",
    "# Restart the FileStream\n",
    "end_time_all = timer()\n",
    "sgdr_run_time = timer() - start_time_all\n",
    "print(\"The whole sgdr run took {}\".format(sgdr_run_time))\n",
    "stream.restart()"
   ]
  },
  {
   "cell_type": "code",
   "execution_count": 60,
   "metadata": {},
   "outputs": [
    {
     "output_type": "stream",
     "name": "stdout",
     "text": [
      "For the test dataset the previous trained predictor reached: 0.4988061261940327\n"
     ]
    }
   ],
   "source": [
    "y_pred = predictor.predict(test_x)\n",
    "sgdr_mse_test = mean_squared_error(test_y, y_pred, squared=False)\n",
    "print(\"For the test dataset the previous trained predictor reached: {}\".format(sgdr_mse_test))"
   ]
  },
  {
   "source": [
    "### Random FS\n"
   ],
   "cell_type": "markdown",
   "metadata": {}
  },
  {
   "cell_type": "code",
   "execution_count": 61,
   "metadata": {},
   "outputs": [
    {
     "output_type": "execute_result",
     "data": {
      "text/plain": [
       "SGDRegressor()"
      ]
     },
     "metadata": {},
     "execution_count": 61
    }
   ],
   "source": [
    "stream.restart()\n",
    "predictor = SGDRegressor()\n",
    "X, y = stream.next_sample(batch_size=100)\n",
    "predictor.partial_fit(X,y)"
   ]
  },
  {
   "cell_type": "code",
   "execution_count": 62,
   "metadata": {},
   "outputs": [],
   "source": [
    "random_rmse = []\n",
    "\n",
    "while stream.has_more_samples():\n",
    "    # Load a new sample\n",
    "    x, y = stream.next_sample(batch_size=100)\n",
    "\n",
    "    \n",
    "    # select features\n",
    "    ftr_selection = np.random.choice(len(x[0]), n_selected_ftr)\n",
    "\n",
    "    # Truncate x (retain only selected features, 'remove' all others, e.g. by replacing them with 0)\n",
    "    x_reduced = np.zeros(x.shape)\n",
    "    x_reduced[:, ftr_selection] = x[:, ftr_selection]\n",
    "\n",
    "\n",
    "    # Test\n",
    "    y_pred = predictor.predict(x_reduced)\n",
    "\n",
    "    random_rmse.append(mean_squared_error(y, y_pred, squared=False))\n",
    "    \n",
    "\n",
    "    # Train\n",
    "    predictor.partial_fit(x_reduced, y)"
   ]
  },
  {
   "cell_type": "code",
   "execution_count": 63,
   "metadata": {},
   "outputs": [],
   "source": [
    "y_pred = predictor.predict(test_x)\n",
    "random_rmse_test = mean_squared_error(test_y, y_pred, squared=False)"
   ]
  },
  {
   "source": [
    "### Plot all\n"
   ],
   "cell_type": "markdown",
   "metadata": {}
  },
  {
   "cell_type": "code",
   "execution_count": 64,
   "metadata": {},
   "outputs": [
    {
     "output_type": "display_data",
     "data": {
      "application/vnd.plotly.v1+json": {
       "config": {
        "plotlyServerURL": "https://plot.ly"
       },
       "data": [
        {
         "hovertemplate": "variable=FIRES<br>batches=%{x}<br>stability=%{y}<extra></extra>",
         "legendgroup": "FIRES",
         "line": {
          "color": "red",
          "dash": "solid"
         },
         "mode": "lines",
         "name": "FIRES",
         "orientation": "v",
         "showlegend": true,
         "type": "scatter",
         "x": [
          0,
          1,
          2,
          3,
          4,
          5,
          6,
          7,
          8,
          9,
          10,
          11,
          12,
          13,
          14,
          15,
          16,
          17,
          18,
          19,
          20,
          21,
          22,
          23,
          24,
          25,
          26,
          27,
          28,
          29,
          30,
          31,
          32,
          33,
          34,
          35,
          36,
          37,
          38,
          39,
          40,
          41,
          42,
          43,
          44,
          45,
          46,
          47,
          48,
          49,
          50,
          51,
          52,
          53,
          54,
          55,
          56,
          57,
          58,
          59,
          60,
          61,
          62,
          63,
          64,
          65,
          66,
          67,
          68,
          69,
          70,
          71,
          72,
          73,
          74,
          75,
          76,
          77,
          78,
          79,
          80,
          81,
          82,
          83,
          84,
          85,
          86,
          87,
          88,
          89,
          90,
          91,
          92,
          93,
          94,
          95,
          96,
          97,
          98,
          99,
          100,
          101,
          102,
          103,
          104,
          105,
          106,
          107,
          108,
          109,
          110,
          111,
          112,
          113,
          114,
          115,
          116,
          117,
          118,
          119,
          120,
          121,
          122,
          123,
          124,
          125,
          126,
          127,
          128,
          129,
          130,
          131,
          132,
          133,
          134,
          135,
          136,
          137,
          138,
          139,
          140,
          141,
          142,
          143,
          144,
          145,
          146,
          147,
          148,
          149,
          150,
          151,
          152,
          153,
          154,
          155,
          156,
          157,
          158,
          159,
          160,
          161,
          162,
          163,
          164,
          165,
          166,
          167,
          168,
          169
         ],
         "xaxis": "x",
         "y": [
          0,
          0,
          0,
          0,
          0,
          0,
          0,
          0,
          0,
          0,
          1,
          1,
          1,
          1,
          1,
          1,
          1,
          1,
          1,
          1,
          1,
          1,
          1,
          1,
          1,
          1,
          1,
          1,
          1,
          1,
          1,
          1,
          1,
          1,
          1,
          1,
          1,
          1,
          1,
          1,
          1,
          1,
          1,
          1,
          1,
          1,
          1,
          1,
          1,
          1,
          1,
          1,
          1,
          1,
          1,
          1,
          1,
          1,
          1,
          1,
          1,
          1,
          1,
          1,
          0.9929511278195492,
          0.9874686716791985,
          0.9835526315789479,
          0.9812030075187974,
          0.9804197994987472,
          0.9812030075187974,
          0.9835526315789477,
          0.987468671679198,
          0.9929511278195489,
          1,
          1,
          1,
          1,
          1,
          1,
          1,
          1,
          1,
          1,
          1,
          1,
          1,
          1,
          1,
          1,
          1,
          1,
          1,
          1,
          1,
          1,
          1,
          1,
          1,
          1,
          1,
          1,
          1,
          1,
          1,
          1,
          1,
          1,
          1,
          1,
          1,
          0.9929511278195492,
          0.9874686716791985,
          0.9835526315789479,
          0.9812030075187974,
          0.9804197994987472,
          0.9812030075187974,
          0.9835526315789477,
          0.987468671679198,
          0.9929511278195489,
          1,
          1,
          1,
          1,
          1,
          1,
          1,
          1,
          1,
          1,
          1,
          1,
          1,
          1,
          1,
          1,
          1,
          1,
          1,
          1,
          1,
          1,
          1,
          1,
          1,
          1,
          1,
          1,
          1,
          1,
          1,
          1,
          1,
          1,
          1,
          1,
          1,
          1,
          1,
          1,
          1,
          1,
          1,
          1,
          1,
          1,
          1,
          1,
          1,
          1,
          1
         ],
         "yaxis": "y"
        },
        {
         "hovertemplate": "variable=SGDR<br>batches=%{x}<br>stability=%{y}<extra></extra>",
         "legendgroup": "SGDR",
         "line": {
          "color": "green",
          "dash": "solid"
         },
         "mode": "lines",
         "name": "SGDR",
         "orientation": "v",
         "showlegend": true,
         "type": "scatter",
         "x": [
          0,
          1,
          2,
          3,
          4,
          5,
          6,
          7,
          8,
          9,
          10,
          11,
          12,
          13,
          14,
          15,
          16,
          17,
          18,
          19,
          20,
          21,
          22,
          23,
          24,
          25,
          26,
          27,
          28,
          29,
          30,
          31,
          32,
          33,
          34,
          35,
          36,
          37,
          38,
          39,
          40,
          41,
          42,
          43,
          44,
          45,
          46,
          47,
          48,
          49,
          50,
          51,
          52,
          53,
          54,
          55,
          56,
          57,
          58,
          59,
          60,
          61,
          62,
          63,
          64,
          65,
          66,
          67,
          68,
          69,
          70,
          71,
          72,
          73,
          74,
          75,
          76,
          77,
          78,
          79,
          80,
          81,
          82,
          83,
          84,
          85,
          86,
          87,
          88,
          89,
          90,
          91,
          92,
          93,
          94,
          95,
          96,
          97,
          98,
          99,
          100,
          101,
          102,
          103,
          104,
          105,
          106,
          107,
          108,
          109,
          110,
          111,
          112,
          113,
          114,
          115,
          116,
          117,
          118,
          119,
          120,
          121,
          122,
          123,
          124,
          125,
          126,
          127,
          128,
          129,
          130,
          131,
          132,
          133,
          134,
          135,
          136,
          137,
          138,
          139,
          140,
          141,
          142,
          143,
          144,
          145,
          146,
          147,
          148,
          149,
          150,
          151,
          152,
          153,
          154,
          155,
          156,
          157,
          158,
          159,
          160,
          161,
          162,
          163,
          164,
          165,
          166,
          167,
          168,
          169
         ],
         "xaxis": "x",
         "y": [
          0,
          0,
          0,
          0,
          0,
          0,
          0,
          0,
          0,
          0,
          0.7470238095238096,
          0.7924498746867167,
          0.8104636591478697,
          0.818295739348371,
          0.8363095238095241,
          0.8394423558897247,
          0.8300438596491229,
          0.8292606516290726,
          0.824561403508772,
          0.8276942355889727,
          0.8496240601503763,
          0.8801691729323313,
          0.8872180451127826,
          0.8825187969924816,
          0.8833020050125313,
          0.8833020050125312,
          0.884868421052632,
          0.8864348370927324,
          0.8864348370927321,
          0.8864348370927317,
          0.8872180451127821,
          0.8903508771929827,
          0.899749373433584,
          0.9083646616541359,
          0.9067982456140355,
          0.9091478696741856,
          0.9107142857142858,
          0.9146303258145363,
          0.9342105263157895,
          0.9404761904761908,
          0.9451754385964919,
          0.9428258145363415,
          0.9475250626566423,
          0.9592731829573939,
          0.953007518796993,
          0.9389097744360906,
          0.9334273182957399,
          0.9271616541353388,
          0.9271616541353388,
          0.9255952380952386,
          0.9248120300751884,
          0.9334273182957399,
          0.9357769423558902,
          0.942825814536341,
          0.9459586466165416,
          0.9451754385964917,
          0.946741854636592,
          0.9490914786967425,
          0.953790726817043,
          0.9663220551378451,
          0.9655388471177951,
          0.9686716791979956,
          0.965538847117795,
          0.9639724310776949,
          0.9600563909774443,
          0.9545739348370932,
          0.9498746867167924,
          0.9420426065162908,
          0.9357769423558899,
          0.9334273182957394,
          0.929511278195489,
          0.930294486215539,
          0.93577694235589,
          0.9436090225563915,
          0.9490914786967426,
          0.9608395989974943,
          0.9757205513784466,
          0.9780701754385969,
          0.9788533834586471,
          0.9812030075187974,
          0.9804197994987472,
          0.9804197994987472,
          0.9804197994987472,
          0.9812030075187974,
          0.9835526315789477,
          0.987468671679198,
          0.9929511278195489,
          1,
          1,
          1,
          1,
          0.9929511278195492,
          0.9874686716791985,
          0.9835526315789479,
          0.9741541353383464,
          0.9678884711779453,
          0.959273182957394,
          0.9530075187969931,
          0.9451754385964917,
          0.9451754385964917,
          0.942825814536341,
          0.9428258145363411,
          0.9451754385964919,
          0.9537907268170434,
          0.9624060150375945,
          0.9741541353383464,
          0.9780701754385969,
          0.978070175438597,
          0.9819862155388475,
          0.9757205513784464,
          0.980419799498747,
          0.985902255639098,
          0.9929511278195492,
          0.9929511278195492,
          0.992951127819549,
          0.9929511278195492,
          0.9929511278195492,
          0.9929511278195489,
          0.9929511278195489,
          1,
          1,
          1,
          0.9929511278195492,
          0.9874686716791985,
          0.9819862155388477,
          0.9788533834586471,
          0.9749373433583967,
          0.9725877192982463,
          0.9718045112781961,
          0.9725877192982462,
          0.9678884711779454,
          0.9663220551378451,
          0.9655388471177948,
          0.9678884711779453,
          0.9647556390977449,
          0.9671052631578954,
          0.9718045112781961,
          0.9702380952380959,
          0.9702380952380959,
          0.9718045112781961,
          0.9639724310776949,
          0.9639724310776949,
          0.9655388471177951,
          0.9678884711779454,
          0.9710213032581456,
          0.9686716791979956,
          0.9725877192982461,
          0.9702380952380957,
          0.9694548872180457,
          0.9702380952380957,
          0.9757205513784466,
          0.9788533834586469,
          0.9835526315789477,
          0.9874686716791982,
          0.9874686716791982,
          0.9835526315789477,
          0.9835526315789479,
          0.9812030075187974,
          0.9804197994987472,
          0.9812030075187974,
          0.9835526315789477,
          0.987468671679198,
          0.9929511278195489,
          1,
          1,
          1,
          1,
          1,
          1,
          1
         ],
         "yaxis": "y"
        }
       ],
       "layout": {
        "legend": {
         "title": {
          "text": "variable"
         },
         "tracegroupgap": 0
        },
        "template": {
         "data": {
          "bar": [
           {
            "error_x": {
             "color": "#2a3f5f"
            },
            "error_y": {
             "color": "#2a3f5f"
            },
            "marker": {
             "line": {
              "color": "#E5ECF6",
              "width": 0.5
             }
            },
            "type": "bar"
           }
          ],
          "barpolar": [
           {
            "marker": {
             "line": {
              "color": "#E5ECF6",
              "width": 0.5
             }
            },
            "type": "barpolar"
           }
          ],
          "carpet": [
           {
            "aaxis": {
             "endlinecolor": "#2a3f5f",
             "gridcolor": "white",
             "linecolor": "white",
             "minorgridcolor": "white",
             "startlinecolor": "#2a3f5f"
            },
            "baxis": {
             "endlinecolor": "#2a3f5f",
             "gridcolor": "white",
             "linecolor": "white",
             "minorgridcolor": "white",
             "startlinecolor": "#2a3f5f"
            },
            "type": "carpet"
           }
          ],
          "choropleth": [
           {
            "colorbar": {
             "outlinewidth": 0,
             "ticks": ""
            },
            "type": "choropleth"
           }
          ],
          "contour": [
           {
            "colorbar": {
             "outlinewidth": 0,
             "ticks": ""
            },
            "colorscale": [
             [
              0,
              "#0d0887"
             ],
             [
              0.1111111111111111,
              "#46039f"
             ],
             [
              0.2222222222222222,
              "#7201a8"
             ],
             [
              0.3333333333333333,
              "#9c179e"
             ],
             [
              0.4444444444444444,
              "#bd3786"
             ],
             [
              0.5555555555555556,
              "#d8576b"
             ],
             [
              0.6666666666666666,
              "#ed7953"
             ],
             [
              0.7777777777777778,
              "#fb9f3a"
             ],
             [
              0.8888888888888888,
              "#fdca26"
             ],
             [
              1,
              "#f0f921"
             ]
            ],
            "type": "contour"
           }
          ],
          "contourcarpet": [
           {
            "colorbar": {
             "outlinewidth": 0,
             "ticks": ""
            },
            "type": "contourcarpet"
           }
          ],
          "heatmap": [
           {
            "colorbar": {
             "outlinewidth": 0,
             "ticks": ""
            },
            "colorscale": [
             [
              0,
              "#0d0887"
             ],
             [
              0.1111111111111111,
              "#46039f"
             ],
             [
              0.2222222222222222,
              "#7201a8"
             ],
             [
              0.3333333333333333,
              "#9c179e"
             ],
             [
              0.4444444444444444,
              "#bd3786"
             ],
             [
              0.5555555555555556,
              "#d8576b"
             ],
             [
              0.6666666666666666,
              "#ed7953"
             ],
             [
              0.7777777777777778,
              "#fb9f3a"
             ],
             [
              0.8888888888888888,
              "#fdca26"
             ],
             [
              1,
              "#f0f921"
             ]
            ],
            "type": "heatmap"
           }
          ],
          "heatmapgl": [
           {
            "colorbar": {
             "outlinewidth": 0,
             "ticks": ""
            },
            "colorscale": [
             [
              0,
              "#0d0887"
             ],
             [
              0.1111111111111111,
              "#46039f"
             ],
             [
              0.2222222222222222,
              "#7201a8"
             ],
             [
              0.3333333333333333,
              "#9c179e"
             ],
             [
              0.4444444444444444,
              "#bd3786"
             ],
             [
              0.5555555555555556,
              "#d8576b"
             ],
             [
              0.6666666666666666,
              "#ed7953"
             ],
             [
              0.7777777777777778,
              "#fb9f3a"
             ],
             [
              0.8888888888888888,
              "#fdca26"
             ],
             [
              1,
              "#f0f921"
             ]
            ],
            "type": "heatmapgl"
           }
          ],
          "histogram": [
           {
            "marker": {
             "colorbar": {
              "outlinewidth": 0,
              "ticks": ""
             }
            },
            "type": "histogram"
           }
          ],
          "histogram2d": [
           {
            "colorbar": {
             "outlinewidth": 0,
             "ticks": ""
            },
            "colorscale": [
             [
              0,
              "#0d0887"
             ],
             [
              0.1111111111111111,
              "#46039f"
             ],
             [
              0.2222222222222222,
              "#7201a8"
             ],
             [
              0.3333333333333333,
              "#9c179e"
             ],
             [
              0.4444444444444444,
              "#bd3786"
             ],
             [
              0.5555555555555556,
              "#d8576b"
             ],
             [
              0.6666666666666666,
              "#ed7953"
             ],
             [
              0.7777777777777778,
              "#fb9f3a"
             ],
             [
              0.8888888888888888,
              "#fdca26"
             ],
             [
              1,
              "#f0f921"
             ]
            ],
            "type": "histogram2d"
           }
          ],
          "histogram2dcontour": [
           {
            "colorbar": {
             "outlinewidth": 0,
             "ticks": ""
            },
            "colorscale": [
             [
              0,
              "#0d0887"
             ],
             [
              0.1111111111111111,
              "#46039f"
             ],
             [
              0.2222222222222222,
              "#7201a8"
             ],
             [
              0.3333333333333333,
              "#9c179e"
             ],
             [
              0.4444444444444444,
              "#bd3786"
             ],
             [
              0.5555555555555556,
              "#d8576b"
             ],
             [
              0.6666666666666666,
              "#ed7953"
             ],
             [
              0.7777777777777778,
              "#fb9f3a"
             ],
             [
              0.8888888888888888,
              "#fdca26"
             ],
             [
              1,
              "#f0f921"
             ]
            ],
            "type": "histogram2dcontour"
           }
          ],
          "mesh3d": [
           {
            "colorbar": {
             "outlinewidth": 0,
             "ticks": ""
            },
            "type": "mesh3d"
           }
          ],
          "parcoords": [
           {
            "line": {
             "colorbar": {
              "outlinewidth": 0,
              "ticks": ""
             }
            },
            "type": "parcoords"
           }
          ],
          "pie": [
           {
            "automargin": true,
            "type": "pie"
           }
          ],
          "scatter": [
           {
            "marker": {
             "colorbar": {
              "outlinewidth": 0,
              "ticks": ""
             }
            },
            "type": "scatter"
           }
          ],
          "scatter3d": [
           {
            "line": {
             "colorbar": {
              "outlinewidth": 0,
              "ticks": ""
             }
            },
            "marker": {
             "colorbar": {
              "outlinewidth": 0,
              "ticks": ""
             }
            },
            "type": "scatter3d"
           }
          ],
          "scattercarpet": [
           {
            "marker": {
             "colorbar": {
              "outlinewidth": 0,
              "ticks": ""
             }
            },
            "type": "scattercarpet"
           }
          ],
          "scattergeo": [
           {
            "marker": {
             "colorbar": {
              "outlinewidth": 0,
              "ticks": ""
             }
            },
            "type": "scattergeo"
           }
          ],
          "scattergl": [
           {
            "marker": {
             "colorbar": {
              "outlinewidth": 0,
              "ticks": ""
             }
            },
            "type": "scattergl"
           }
          ],
          "scattermapbox": [
           {
            "marker": {
             "colorbar": {
              "outlinewidth": 0,
              "ticks": ""
             }
            },
            "type": "scattermapbox"
           }
          ],
          "scatterpolar": [
           {
            "marker": {
             "colorbar": {
              "outlinewidth": 0,
              "ticks": ""
             }
            },
            "type": "scatterpolar"
           }
          ],
          "scatterpolargl": [
           {
            "marker": {
             "colorbar": {
              "outlinewidth": 0,
              "ticks": ""
             }
            },
            "type": "scatterpolargl"
           }
          ],
          "scatterternary": [
           {
            "marker": {
             "colorbar": {
              "outlinewidth": 0,
              "ticks": ""
             }
            },
            "type": "scatterternary"
           }
          ],
          "surface": [
           {
            "colorbar": {
             "outlinewidth": 0,
             "ticks": ""
            },
            "colorscale": [
             [
              0,
              "#0d0887"
             ],
             [
              0.1111111111111111,
              "#46039f"
             ],
             [
              0.2222222222222222,
              "#7201a8"
             ],
             [
              0.3333333333333333,
              "#9c179e"
             ],
             [
              0.4444444444444444,
              "#bd3786"
             ],
             [
              0.5555555555555556,
              "#d8576b"
             ],
             [
              0.6666666666666666,
              "#ed7953"
             ],
             [
              0.7777777777777778,
              "#fb9f3a"
             ],
             [
              0.8888888888888888,
              "#fdca26"
             ],
             [
              1,
              "#f0f921"
             ]
            ],
            "type": "surface"
           }
          ],
          "table": [
           {
            "cells": {
             "fill": {
              "color": "#EBF0F8"
             },
             "line": {
              "color": "white"
             }
            },
            "header": {
             "fill": {
              "color": "#C8D4E3"
             },
             "line": {
              "color": "white"
             }
            },
            "type": "table"
           }
          ]
         },
         "layout": {
          "annotationdefaults": {
           "arrowcolor": "#2a3f5f",
           "arrowhead": 0,
           "arrowwidth": 1
          },
          "autotypenumbers": "strict",
          "coloraxis": {
           "colorbar": {
            "outlinewidth": 0,
            "ticks": ""
           }
          },
          "colorscale": {
           "diverging": [
            [
             0,
             "#8e0152"
            ],
            [
             0.1,
             "#c51b7d"
            ],
            [
             0.2,
             "#de77ae"
            ],
            [
             0.3,
             "#f1b6da"
            ],
            [
             0.4,
             "#fde0ef"
            ],
            [
             0.5,
             "#f7f7f7"
            ],
            [
             0.6,
             "#e6f5d0"
            ],
            [
             0.7,
             "#b8e186"
            ],
            [
             0.8,
             "#7fbc41"
            ],
            [
             0.9,
             "#4d9221"
            ],
            [
             1,
             "#276419"
            ]
           ],
           "sequential": [
            [
             0,
             "#0d0887"
            ],
            [
             0.1111111111111111,
             "#46039f"
            ],
            [
             0.2222222222222222,
             "#7201a8"
            ],
            [
             0.3333333333333333,
             "#9c179e"
            ],
            [
             0.4444444444444444,
             "#bd3786"
            ],
            [
             0.5555555555555556,
             "#d8576b"
            ],
            [
             0.6666666666666666,
             "#ed7953"
            ],
            [
             0.7777777777777778,
             "#fb9f3a"
            ],
            [
             0.8888888888888888,
             "#fdca26"
            ],
            [
             1,
             "#f0f921"
            ]
           ],
           "sequentialminus": [
            [
             0,
             "#0d0887"
            ],
            [
             0.1111111111111111,
             "#46039f"
            ],
            [
             0.2222222222222222,
             "#7201a8"
            ],
            [
             0.3333333333333333,
             "#9c179e"
            ],
            [
             0.4444444444444444,
             "#bd3786"
            ],
            [
             0.5555555555555556,
             "#d8576b"
            ],
            [
             0.6666666666666666,
             "#ed7953"
            ],
            [
             0.7777777777777778,
             "#fb9f3a"
            ],
            [
             0.8888888888888888,
             "#fdca26"
            ],
            [
             1,
             "#f0f921"
            ]
           ]
          },
          "colorway": [
           "#636efa",
           "#EF553B",
           "#00cc96",
           "#ab63fa",
           "#FFA15A",
           "#19d3f3",
           "#FF6692",
           "#B6E880",
           "#FF97FF",
           "#FECB52"
          ],
          "font": {
           "color": "#2a3f5f"
          },
          "geo": {
           "bgcolor": "white",
           "lakecolor": "white",
           "landcolor": "#E5ECF6",
           "showlakes": true,
           "showland": true,
           "subunitcolor": "white"
          },
          "hoverlabel": {
           "align": "left"
          },
          "hovermode": "closest",
          "mapbox": {
           "style": "light"
          },
          "paper_bgcolor": "white",
          "plot_bgcolor": "#E5ECF6",
          "polar": {
           "angularaxis": {
            "gridcolor": "white",
            "linecolor": "white",
            "ticks": ""
           },
           "bgcolor": "#E5ECF6",
           "radialaxis": {
            "gridcolor": "white",
            "linecolor": "white",
            "ticks": ""
           }
          },
          "scene": {
           "xaxis": {
            "backgroundcolor": "#E5ECF6",
            "gridcolor": "white",
            "gridwidth": 2,
            "linecolor": "white",
            "showbackground": true,
            "ticks": "",
            "zerolinecolor": "white"
           },
           "yaxis": {
            "backgroundcolor": "#E5ECF6",
            "gridcolor": "white",
            "gridwidth": 2,
            "linecolor": "white",
            "showbackground": true,
            "ticks": "",
            "zerolinecolor": "white"
           },
           "zaxis": {
            "backgroundcolor": "#E5ECF6",
            "gridcolor": "white",
            "gridwidth": 2,
            "linecolor": "white",
            "showbackground": true,
            "ticks": "",
            "zerolinecolor": "white"
           }
          },
          "shapedefaults": {
           "line": {
            "color": "#2a3f5f"
           }
          },
          "ternary": {
           "aaxis": {
            "gridcolor": "white",
            "linecolor": "white",
            "ticks": ""
           },
           "baxis": {
            "gridcolor": "white",
            "linecolor": "white",
            "ticks": ""
           },
           "bgcolor": "#E5ECF6",
           "caxis": {
            "gridcolor": "white",
            "linecolor": "white",
            "ticks": ""
           }
          },
          "title": {
           "x": 0.05
          },
          "xaxis": {
           "automargin": true,
           "gridcolor": "white",
           "linecolor": "white",
           "ticks": "",
           "title": {
            "standoff": 15
           },
           "zerolinecolor": "white",
           "zerolinewidth": 2
          },
          "yaxis": {
           "automargin": true,
           "gridcolor": "white",
           "linecolor": "white",
           "ticks": "",
           "title": {
            "standoff": 15
           },
           "zerolinecolor": "white",
           "zerolinewidth": 2
          }
         }
        },
        "title": {
         "text": "Stability on dataset dataset_1_normalized"
        },
        "xaxis": {
         "anchor": "y",
         "domain": [
          0,
          1
         ],
         "title": {
          "text": "batches"
         }
        },
        "yaxis": {
         "anchor": "x",
         "domain": [
          0,
          1
         ],
         "title": {
          "text": "stability"
         }
        }
       }
      }
     },
     "metadata": {}
    }
   ],
   "source": [
    "# stability\n",
    "title = \"Stability on dataset {}\".format(dataset_name)\n",
    "col_names = [\"FIRES\", \"SGDR\"]\n",
    "d = {\"FIRES\":fires_stability, \"SGDR\":sgdr_stability}\n",
    "df = pd.DataFrame(d, columns=col_names)\n",
    "fig = px.line(df, y = col_names, title=title, labels={\"index\":\"batches\", \"value\":\"stability\"}, color_discrete_map={'FIRES': 'red', \"SGDR\": \"green\"})\n",
    "stability_trace = fig[\"data\"]\n",
    "fig.show()"
   ]
  },
  {
   "cell_type": "code",
   "execution_count": 65,
   "metadata": {},
   "outputs": [
    {
     "output_type": "display_data",
     "data": {
      "application/vnd.plotly.v1+json": {
       "config": {
        "plotlyServerURL": "https://plot.ly"
       },
       "data": [
        {
         "hovertemplate": "variable=Pure<br>batches=%{x}<br>rmse=%{y}<extra></extra>",
         "legendgroup": "Pure",
         "line": {
          "color": "blue",
          "dash": "solid"
         },
         "mode": "lines",
         "name": "Pure",
         "orientation": "v",
         "showlegend": true,
         "type": "scatter",
         "x": [
          0,
          1,
          2,
          3,
          4,
          5,
          6,
          7,
          8,
          9,
          10,
          11,
          12,
          13,
          14,
          15,
          16,
          17,
          18,
          19,
          20,
          21,
          22,
          23,
          24,
          25,
          26,
          27,
          28,
          29,
          30,
          31,
          32,
          33,
          34,
          35,
          36,
          37,
          38,
          39,
          40,
          41,
          42,
          43,
          44,
          45,
          46,
          47,
          48,
          49,
          50,
          51,
          52,
          53,
          54,
          55,
          56,
          57,
          58,
          59,
          60,
          61,
          62,
          63,
          64,
          65,
          66,
          67,
          68,
          69,
          70,
          71,
          72,
          73,
          74,
          75,
          76,
          77,
          78,
          79,
          80,
          81,
          82,
          83,
          84,
          85,
          86,
          87,
          88,
          89,
          90,
          91,
          92,
          93,
          94,
          95,
          96,
          97,
          98,
          99,
          100,
          101,
          102,
          103,
          104,
          105,
          106,
          107,
          108,
          109,
          110,
          111,
          112,
          113,
          114,
          115,
          116,
          117,
          118,
          119,
          120,
          121,
          122,
          123,
          124,
          125,
          126,
          127,
          128,
          129,
          130,
          131,
          132,
          133,
          134,
          135,
          136,
          137,
          138,
          139,
          140,
          141,
          142,
          143,
          144,
          145,
          146,
          147,
          148,
          149,
          150,
          151,
          152,
          153,
          154,
          155,
          156,
          157,
          158,
          159,
          160,
          161,
          162,
          163,
          164,
          165,
          166,
          167,
          168
         ],
         "xaxis": "x",
         "y": [
          0.11654774375986947,
          0.12114380719278207,
          0.13485168134270242,
          0.10023371234402798,
          0.13547054652018628,
          0.0939503719435775,
          0.14268357116798241,
          0.1198245942895915,
          0.1028551648789569,
          0.10721498249286422,
          0.1262809417992219,
          0.11564326593582992,
          0.11491300461692595,
          0.11034215400851818,
          0.12044769599132034,
          0.11317974094346148,
          0.11671727721617564,
          0.1181921391330968,
          0.12362653827821973,
          0.11738935192646953,
          0.12640604080850518,
          0.11657440012963756,
          0.12246707193916086,
          0.1032745182570313,
          0.10471692706507267,
          0.12181394795127397,
          0.1095390173302118,
          0.11414592174145848,
          0.11599301886445643,
          0.09353534316210621,
          0.11610754433622729,
          0.10523177002708532,
          0.11052558004869818,
          0.10495952001001363,
          0.10848906122952495,
          0.1112952292025739,
          0.10426342041199732,
          0.11703238158236355,
          0.10236483232539184,
          0.09586695324318127,
          0.11457445915089111,
          0.09719931066712023,
          0.11330265135034175,
          0.10238900214569674,
          0.09385749525928956,
          0.09069968494179252,
          0.1217968139061521,
          0.09604095672540724,
          0.12293755728250622,
          0.10417543991248836,
          0.09894497241087383,
          0.10280404080148352,
          0.10617719348352109,
          0.10627766684444345,
          0.10410766379586961,
          0.11622994708550612,
          0.10334359895222316,
          0.10599296757345325,
          0.1099234583236204,
          0.10799177613620979,
          0.11481714307830702,
          0.10706610051518829,
          0.11641998824976035,
          0.11388876732004459,
          0.11025499158993288,
          0.11031331247863568,
          0.10489114355275346,
          0.09696506690902157,
          0.09193666210133972,
          0.10283123357439442,
          0.09804259229088871,
          0.10255665016482343,
          0.09525608305388368,
          0.09951208297363535,
          0.10199461328631458,
          0.11779602611621244,
          0.10281933620432072,
          0.10880898264492984,
          0.10213500633734982,
          0.10509735866084059,
          0.11451589622451398,
          0.10580030559761419,
          0.11196112278821103,
          0.09784171389666842,
          0.09808453404999488,
          0.09595399393405704,
          0.09201079862438805,
          0.10912470505794288,
          0.09437604923283882,
          0.09946335387748417,
          0.10174052495176909,
          0.08647251618598477,
          0.09468431566260353,
          0.10885076696039217,
          0.09335683412518539,
          0.0975802371808214,
          0.09776913101071202,
          0.09733425814598899,
          0.10444180826926547,
          0.09384019728611843,
          0.10881182272978322,
          0.1047807088007348,
          0.10766248414268319,
          0.09720532298797477,
          0.10373119366322837,
          0.09328406023062949,
          0.09609320445197952,
          0.10327066894441435,
          0.08831380937185555,
          0.08632460950698875,
          0.10546452036563106,
          0.10590648876566784,
          0.08954994889923981,
          0.09448756513353072,
          0.0962920682660954,
          0.08949695726476264,
          0.09480425113316059,
          0.11452304283890051,
          0.09697422281093754,
          0.09323149595441792,
          0.09871089129422492,
          0.10016141298952386,
          0.10351997572104478,
          0.09371321392174407,
          0.09584125792859682,
          0.10396623409755482,
          0.09144527300545269,
          0.10315301692466201,
          0.09873401827831017,
          0.09092435473057554,
          0.10970989569360141,
          0.10387691754543173,
          0.0965306846532803,
          0.10102550780363646,
          0.09405972467081486,
          0.0867699983654703,
          0.08263383188622188,
          0.09020630299339667,
          0.09615609017945241,
          0.08897112324100422,
          0.08657259569449333,
          0.08717195476615461,
          0.08201059054084943,
          0.09652459367879124,
          0.0856748240648577,
          0.09846214349692678,
          0.08673430514524591,
          0.09028713619585887,
          0.08653009383212852,
          0.09110773177773286,
          0.0895279598066828,
          0.08434996185983241,
          0.09381338489338287,
          0.10441040388068891,
          0.08313819757150327,
          0.08740489736614175,
          0.11064272351622237,
          0.11240602592767765,
          0.09461985962222495,
          0.08592506366949386,
          0.0969340606493731,
          0.07902190814200638,
          0.08422584809741585,
          0.08358023061482882,
          0.0935844552653969,
          0.08965597648396365,
          0.08727701622543471,
          0.09820481242967734,
          0.09111517298359208
         ],
         "yaxis": "y"
        },
        {
         "hovertemplate": "variable=FIRES<br>batches=%{x}<br>rmse=%{y}<extra></extra>",
         "legendgroup": "FIRES",
         "line": {
          "color": "red",
          "dash": "solid"
         },
         "mode": "lines",
         "name": "FIRES",
         "orientation": "v",
         "showlegend": true,
         "type": "scatter",
         "x": [
          0,
          1,
          2,
          3,
          4,
          5,
          6,
          7,
          8,
          9,
          10,
          11,
          12,
          13,
          14,
          15,
          16,
          17,
          18,
          19,
          20,
          21,
          22,
          23,
          24,
          25,
          26,
          27,
          28,
          29,
          30,
          31,
          32,
          33,
          34,
          35,
          36,
          37,
          38,
          39,
          40,
          41,
          42,
          43,
          44,
          45,
          46,
          47,
          48,
          49,
          50,
          51,
          52,
          53,
          54,
          55,
          56,
          57,
          58,
          59,
          60,
          61,
          62,
          63,
          64,
          65,
          66,
          67,
          68,
          69,
          70,
          71,
          72,
          73,
          74,
          75,
          76,
          77,
          78,
          79,
          80,
          81,
          82,
          83,
          84,
          85,
          86,
          87,
          88,
          89,
          90,
          91,
          92,
          93,
          94,
          95,
          96,
          97,
          98,
          99,
          100,
          101,
          102,
          103,
          104,
          105,
          106,
          107,
          108,
          109,
          110,
          111,
          112,
          113,
          114,
          115,
          116,
          117,
          118,
          119,
          120,
          121,
          122,
          123,
          124,
          125,
          126,
          127,
          128,
          129,
          130,
          131,
          132,
          133,
          134,
          135,
          136,
          137,
          138,
          139,
          140,
          141,
          142,
          143,
          144,
          145,
          146,
          147,
          148,
          149,
          150,
          151,
          152,
          153,
          154,
          155,
          156,
          157,
          158,
          159,
          160,
          161,
          162,
          163,
          164,
          165,
          166,
          167,
          168
         ],
         "xaxis": "x",
         "y": [
          0.3469716233467649,
          0.12374300865411474,
          0.13596840478497987,
          0.09827280501241871,
          0.13329155738851173,
          0.09629600269732067,
          0.12130198717635093,
          0.11971608113831192,
          0.10480861857079556,
          0.1082492705493516,
          0.12570684860412323,
          0.11585935304672644,
          0.11778725844905182,
          0.11415122242580839,
          0.1185297394618913,
          0.1176699911718594,
          0.11956257360268259,
          0.12098897000249352,
          0.11668377158873405,
          0.12363213748725631,
          0.1325576194616594,
          0.12047542628497548,
          0.12056984986763246,
          0.10589366842844455,
          0.10885017911544535,
          0.12465988202369191,
          0.11501489770466244,
          0.11712208211886475,
          0.12046173775402642,
          0.0951345977018103,
          0.1190361187583553,
          0.11014947901715008,
          0.11475477829321665,
          0.11226306841354904,
          0.11744411178768131,
          0.11571195678931304,
          0.10846244238330573,
          0.1215797541886863,
          0.10701254455339855,
          0.10498673999268344,
          0.12446386691188283,
          0.10397213408066328,
          0.12218333587635226,
          0.10740001797983324,
          0.1012634143799407,
          0.09773497763557111,
          0.13033818870466907,
          0.09865132818098502,
          0.12943059015005723,
          0.10970991259583847,
          0.1073177744296522,
          0.11174754780384025,
          0.11326590384912101,
          0.11433293561769842,
          0.11125378357132726,
          0.12332734079550098,
          0.11636999862811177,
          0.11313990255481568,
          0.11819518182819369,
          0.11679812335118221,
          0.12255139165217484,
          0.12864473755580463,
          0.11515138023488365,
          0.12378109815128045,
          0.11505690303257654,
          0.11748779464846111,
          0.11228953734074763,
          0.10373348351882584,
          0.09878839499532868,
          0.11180216755743799,
          0.10751416835118893,
          0.11215669888379605,
          0.10420432546429523,
          0.10672788570734948,
          0.11333242576203269,
          0.12440753442641898,
          0.11529370712781126,
          0.11802297843390341,
          0.11142190481561161,
          0.11466427773714008,
          0.12367418892249171,
          0.10893096576480056,
          0.12199515687713954,
          0.11079357430433204,
          0.10784970913200827,
          0.10692450399871936,
          0.10144495494325836,
          0.1217593211444269,
          0.10634264283020915,
          0.1113479788138187,
          0.11066254878485095,
          0.10135587490729177,
          0.10625388670230403,
          0.12332235575828247,
          0.10818167237653009,
          0.11125326289398241,
          0.10750890805226336,
          0.11278081562901063,
          0.11805207166556356,
          0.10802304692820196,
          0.12457048078323764,
          0.11936468143577923,
          0.12024967234718584,
          0.11032478410784893,
          0.12009759495581908,
          0.10742774443063044,
          0.1088696309209198,
          0.117951980921705,
          0.10030345818431335,
          0.0996440537948106,
          0.12092508450395731,
          0.1163671461889909,
          0.10301550804030774,
          0.11121783743557999,
          0.10788397917668653,
          0.10136449649710007,
          0.108285667812436,
          0.12837523451685431,
          0.11038874543415732,
          0.1046551594891679,
          0.10997320154411623,
          0.1155892300411548,
          0.11873398860604166,
          0.1074653871025107,
          0.10867360068991226,
          0.11967634362127089,
          0.10689931056982713,
          0.12070122347457997,
          0.11551459702423542,
          0.10682756036655838,
          0.12598751240768655,
          0.12346555618028476,
          0.11475687399453603,
          0.12281675276825352,
          0.10764392735688624,
          0.10242363636770506,
          0.09913162341680994,
          0.1019968951570734,
          0.11045220196161543,
          0.10255768366547931,
          0.10661513263149427,
          0.10227432519640046,
          0.09574700823437221,
          0.11186643923468155,
          0.09756745196608789,
          0.11652235004989435,
          0.10267715093269913,
          0.10837141400627875,
          0.10404681565996289,
          0.10612079878573501,
          0.10620824923412456,
          0.10072900303714488,
          0.1113335542482105,
          0.12405852120757273,
          0.09989966894681909,
          0.10755195207402846,
          0.1324943021481446,
          0.1159540615308542,
          0.11610680898307899,
          0.10363920243546305,
          0.11282751787282226,
          0.09449060267732011,
          0.10078599411020805,
          0.1006554757872917,
          0.11281203873433544,
          0.10661283126958625,
          0.10335527619974705,
          0.11668481471263516,
          0.11206659794020225
         ],
         "yaxis": "y"
        },
        {
         "hovertemplate": "variable=SGDR<br>batches=%{x}<br>rmse=%{y}<extra></extra>",
         "legendgroup": "SGDR",
         "line": {
          "color": "green",
          "dash": "solid"
         },
         "mode": "lines",
         "name": "SGDR",
         "orientation": "v",
         "showlegend": true,
         "type": "scatter",
         "x": [
          0,
          1,
          2,
          3,
          4,
          5,
          6,
          7,
          8,
          9,
          10,
          11,
          12,
          13,
          14,
          15,
          16,
          17,
          18,
          19,
          20,
          21,
          22,
          23,
          24,
          25,
          26,
          27,
          28,
          29,
          30,
          31,
          32,
          33,
          34,
          35,
          36,
          37,
          38,
          39,
          40,
          41,
          42,
          43,
          44,
          45,
          46,
          47,
          48,
          49,
          50,
          51,
          52,
          53,
          54,
          55,
          56,
          57,
          58,
          59,
          60,
          61,
          62,
          63,
          64,
          65,
          66,
          67,
          68,
          69,
          70,
          71,
          72,
          73,
          74,
          75,
          76,
          77,
          78,
          79,
          80,
          81,
          82,
          83,
          84,
          85,
          86,
          87,
          88,
          89,
          90,
          91,
          92,
          93,
          94,
          95,
          96,
          97,
          98,
          99,
          100,
          101,
          102,
          103,
          104,
          105,
          106,
          107,
          108,
          109,
          110,
          111,
          112,
          113,
          114,
          115,
          116,
          117,
          118,
          119,
          120,
          121,
          122,
          123,
          124,
          125,
          126,
          127,
          128,
          129,
          130,
          131,
          132,
          133,
          134,
          135,
          136,
          137,
          138,
          139,
          140,
          141,
          142,
          143,
          144,
          145,
          146,
          147,
          148,
          149,
          150,
          151,
          152,
          153,
          154,
          155,
          156,
          157,
          158,
          159,
          160,
          161,
          162,
          163,
          164,
          165,
          166,
          167,
          168
         ],
         "xaxis": "x",
         "y": [
          0.34218075561315997,
          0.13544382741808478,
          0.13714511667000914,
          0.09352428095214112,
          0.12190859602888232,
          0.0871604454132367,
          0.11239205174512894,
          0.1129332030889675,
          0.09302039482711104,
          0.10112496714504475,
          0.11879447015783401,
          0.1100944598394949,
          0.10557896495955973,
          0.10093608597533939,
          0.1097598092866731,
          0.10379286047913894,
          0.1083870948159184,
          0.11112790568361983,
          0.10716769736070274,
          0.10810724111968946,
          0.11658987333250367,
          0.11746243673057417,
          0.10661332875900091,
          0.09564405844517533,
          0.09910523675674464,
          0.11303038752382064,
          0.10321415694263676,
          0.10711203895610681,
          0.10925704591171619,
          0.0858869169314405,
          0.10755924652648473,
          0.09663906800731402,
          0.10128816867850525,
          0.10136254509433333,
          0.1029411136913844,
          0.10375821178223908,
          0.09955974744365957,
          0.1090348897759458,
          0.09594933020145435,
          0.09062118649533606,
          0.11013819952559097,
          0.09171697543472954,
          0.10711032780386952,
          0.09580896170587222,
          0.0895572029661766,
          0.0861739793919927,
          0.11458516167631434,
          0.08663993651906443,
          0.11656724801580225,
          0.10135262957563619,
          0.09401152071539319,
          0.09797370900694363,
          0.10049500790727804,
          0.10086908101036555,
          0.09789907381120305,
          0.11054055588404456,
          0.09917594626497658,
          0.09887858186686906,
          0.10419999146382487,
          0.10305763097286441,
          0.10746995331255013,
          0.1155377101807286,
          0.10144044341834282,
          0.10848825785830933,
          0.10306230396314249,
          0.1050434951475768,
          0.09926033614427385,
          0.09302016832654507,
          0.08689446595337717,
          0.10074318641357179,
          0.09443855877555134,
          0.09962354794500661,
          0.09113642887720663,
          0.09416338911854444,
          0.10048035004693778,
          0.11263983841299732,
          0.1004683464135205,
          0.10361023634948385,
          0.10013206942980332,
          0.09798067951106486,
          0.10924196368640415,
          0.09536280131987061,
          0.10695058542507181,
          0.09515229768454508,
          0.09363528881989745,
          0.09394617265811298,
          0.0906199855169805,
          0.10499829305909684,
          0.0920447046013329,
          0.094779831965119,
          0.09877556802733117,
          0.08368551993942008,
          0.0937192037287329,
          0.10667453517758564,
          0.09247481885670311,
          0.09351099741380937,
          0.09461144879205079,
          0.09536927006099494,
          0.09883936343765844,
          0.09112311628269916,
          0.10624324017522577,
          0.10232243798690609,
          0.10472295887071596,
          0.09541031723262401,
          0.1013131006189363,
          0.09245330609399874,
          0.09448872222479884,
          0.10135886462497519,
          0.08519567667849665,
          0.0847091603444933,
          0.10266884659570465,
          0.10267470644506253,
          0.08845485582064222,
          0.09497129683773751,
          0.09449289740729405,
          0.08874667095126364,
          0.09364804891029266,
          0.11240424876956226,
          0.0957247130415584,
          0.09423351172952764,
          0.09614394297940689,
          0.09962133547465077,
          0.10286732349988838,
          0.09465486981188317,
          0.09525762505189139,
          0.10464030625415917,
          0.09183878374348578,
          0.10229045751605519,
          0.09890553043915244,
          0.09060543927679961,
          0.10981932404351868,
          0.10364265732983041,
          0.0954751843086889,
          0.1013214962473449,
          0.09221439334064549,
          0.08513310310110933,
          0.08303763752132963,
          0.0893952820309325,
          0.09634984451912514,
          0.08891146191872878,
          0.08753064759575652,
          0.08832290724516248,
          0.08219126736777757,
          0.09694058972863709,
          0.08236479582789351,
          0.09578580368078428,
          0.08708326730222396,
          0.09061938944516765,
          0.08724234245563907,
          0.09137150605792628,
          0.09024274231428626,
          0.08403063470857697,
          0.0933322804291473,
          0.10420226378556569,
          0.08428820186233191,
          0.08917448854121547,
          0.11128152761778685,
          0.10086770219761343,
          0.09522797677897557,
          0.0855539150811968,
          0.09723582702657847,
          0.08050102489988882,
          0.08518140979641876,
          0.08429136101868548,
          0.09287829361881628,
          0.09137829741997172,
          0.0876928082832743,
          0.09834747517159936,
          0.0928997802633015
         ],
         "yaxis": "y"
        },
        {
         "hovertemplate": "variable=Random<br>batches=%{x}<br>rmse=%{y}<extra></extra>",
         "legendgroup": "Random",
         "line": {
          "color": "cyan",
          "dash": "solid"
         },
         "mode": "lines",
         "name": "Random",
         "orientation": "v",
         "showlegend": true,
         "type": "scatter",
         "x": [
          0,
          1,
          2,
          3,
          4,
          5,
          6,
          7,
          8,
          9,
          10,
          11,
          12,
          13,
          14,
          15,
          16,
          17,
          18,
          19,
          20,
          21,
          22,
          23,
          24,
          25,
          26,
          27,
          28,
          29,
          30,
          31,
          32,
          33,
          34,
          35,
          36,
          37,
          38,
          39,
          40,
          41,
          42,
          43,
          44,
          45,
          46,
          47,
          48,
          49,
          50,
          51,
          52,
          53,
          54,
          55,
          56,
          57,
          58,
          59,
          60,
          61,
          62,
          63,
          64,
          65,
          66,
          67,
          68,
          69,
          70,
          71,
          72,
          73,
          74,
          75,
          76,
          77,
          78,
          79,
          80,
          81,
          82,
          83,
          84,
          85,
          86,
          87,
          88,
          89,
          90,
          91,
          92,
          93,
          94,
          95,
          96,
          97,
          98,
          99,
          100,
          101,
          102,
          103,
          104,
          105,
          106,
          107,
          108,
          109,
          110,
          111,
          112,
          113,
          114,
          115,
          116,
          117,
          118,
          119,
          120,
          121,
          122,
          123,
          124,
          125,
          126,
          127,
          128,
          129,
          130,
          131,
          132,
          133,
          134,
          135,
          136,
          137,
          138,
          139,
          140,
          141,
          142,
          143,
          144,
          145,
          146,
          147,
          148,
          149,
          150,
          151,
          152,
          153,
          154,
          155,
          156,
          157,
          158,
          159,
          160,
          161,
          162,
          163,
          164,
          165,
          166,
          167,
          168
         ],
         "xaxis": "x",
         "y": [
          0.3773730546644571,
          0.2981331643793217,
          0.19125116476620704,
          0.1963629826602956,
          0.1899040825955054,
          0.1569282321174349,
          0.12511230471321177,
          0.12067329373435373,
          0.10427306626346086,
          0.11252740439505948,
          0.13462110194509122,
          0.1392842227759488,
          0.12226490011074355,
          0.11337366438071937,
          0.12756921673082933,
          0.11608380220689878,
          0.12248047321424264,
          0.1284622111155514,
          0.12979232065103097,
          0.13435521624011984,
          0.13199895660996414,
          0.12680650480246353,
          0.12366307031228341,
          0.11503950002281349,
          0.12418382493466372,
          0.13423572562110295,
          0.15359041127398762,
          0.12562814877777975,
          0.13009037465095752,
          0.10320889929026023,
          0.12879452970930969,
          0.11508083759069637,
          0.12104636716467988,
          0.12884547597970472,
          0.12354646605317594,
          0.1297716302098432,
          0.1162518770244573,
          0.12824647661881905,
          0.11290430924330247,
          0.10564443957765153,
          0.12792515374279395,
          0.10919023576831137,
          0.12905068713169734,
          0.1155657694737624,
          0.10509242498822859,
          0.10524352736343802,
          0.1393701404331261,
          0.11006394361472016,
          0.14522372278386408,
          0.11977255024221568,
          0.11090190312476865,
          0.11993917124664265,
          0.14699076018504686,
          0.1173620790031497,
          0.1399938550080155,
          0.1346509840048457,
          0.11613988853973438,
          0.12311068542303988,
          0.1256903825484001,
          0.13927787420258605,
          0.12921483722302274,
          0.11594459412719026,
          0.11956003434665116,
          0.13415003334793396,
          0.13614497676654652,
          0.12843906113677017,
          0.12215765879355871,
          0.11619939221251828,
          0.10987844360009778,
          0.13880129154863155,
          0.12513054946252578,
          0.12240688900306863,
          0.1145953633504935,
          0.11866310456484366,
          0.12110124342802957,
          0.13481274129106915,
          0.11926897254782091,
          0.1296834353013914,
          0.11658514635386737,
          0.11811086926918021,
          0.15543460381342875,
          0.13888501376371787,
          0.12868423066882118,
          0.11892209569353561,
          0.12100074383429213,
          0.12776798357525534,
          0.113551521835117,
          0.12804342419128378,
          0.11520092344500746,
          0.11519005249764012,
          0.1218586445222025,
          0.10536928715553183,
          0.11633569377279664,
          0.12827694846949625,
          0.11545514092290196,
          0.11408400053363994,
          0.11265031598607714,
          0.12900206699024197,
          0.13499742567823525,
          0.12071715535681121,
          0.13290118754161062,
          0.12241419249105054,
          0.13239736196259977,
          0.11968998094001843,
          0.12648293736204522,
          0.11437745655118532,
          0.12181185935471062,
          0.12265799265601886,
          0.1217856709254492,
          0.11028996785181797,
          0.1368390548929975,
          0.13614091821438642,
          0.11328190451673134,
          0.11886042824734773,
          0.1205691127333623,
          0.11121530003751488,
          0.11989924438729649,
          0.14048355073386454,
          0.12420008268039563,
          0.1273136892573627,
          0.12227926815323742,
          0.13240730034856546,
          0.13495686477784136,
          0.11901437445344382,
          0.1199354019040472,
          0.15081172136798512,
          0.12188848562690471,
          0.13116813791176737,
          0.1273585508288445,
          0.12338898857476291,
          0.1400256584724735,
          0.13375172867986693,
          0.12034573187358842,
          0.14212898098378055,
          0.12123336056467546,
          0.11558253566974584,
          0.12086858639436242,
          0.11863954480572503,
          0.1190563237087427,
          0.11407942951466593,
          0.11202242761321145,
          0.11104546844646299,
          0.10802237972400172,
          0.1242698016024864,
          0.10788350984666356,
          0.14192118591155192,
          0.12422392346554087,
          0.1107740812800828,
          0.11795392903810026,
          0.12887245839311884,
          0.14382479862097994,
          0.12809526044510441,
          0.13683613560973032,
          0.1349419126444429,
          0.11101761474438328,
          0.12416854820796663,
          0.1404889217619388,
          0.1274302062581178,
          0.12670162482230252,
          0.1186026719425509,
          0.12281079332451182,
          0.10280757425115764,
          0.11893628689680297,
          0.11458517470327238,
          0.1233311654360326,
          0.12083461352971603,
          0.13489831946905728,
          0.12914800330457094,
          0.1262695683965863
         ],
         "yaxis": "y"
        }
       ],
       "layout": {
        "legend": {
         "title": {
          "text": "variable"
         },
         "tracegroupgap": 0
        },
        "template": {
         "data": {
          "bar": [
           {
            "error_x": {
             "color": "#2a3f5f"
            },
            "error_y": {
             "color": "#2a3f5f"
            },
            "marker": {
             "line": {
              "color": "#E5ECF6",
              "width": 0.5
             }
            },
            "type": "bar"
           }
          ],
          "barpolar": [
           {
            "marker": {
             "line": {
              "color": "#E5ECF6",
              "width": 0.5
             }
            },
            "type": "barpolar"
           }
          ],
          "carpet": [
           {
            "aaxis": {
             "endlinecolor": "#2a3f5f",
             "gridcolor": "white",
             "linecolor": "white",
             "minorgridcolor": "white",
             "startlinecolor": "#2a3f5f"
            },
            "baxis": {
             "endlinecolor": "#2a3f5f",
             "gridcolor": "white",
             "linecolor": "white",
             "minorgridcolor": "white",
             "startlinecolor": "#2a3f5f"
            },
            "type": "carpet"
           }
          ],
          "choropleth": [
           {
            "colorbar": {
             "outlinewidth": 0,
             "ticks": ""
            },
            "type": "choropleth"
           }
          ],
          "contour": [
           {
            "colorbar": {
             "outlinewidth": 0,
             "ticks": ""
            },
            "colorscale": [
             [
              0,
              "#0d0887"
             ],
             [
              0.1111111111111111,
              "#46039f"
             ],
             [
              0.2222222222222222,
              "#7201a8"
             ],
             [
              0.3333333333333333,
              "#9c179e"
             ],
             [
              0.4444444444444444,
              "#bd3786"
             ],
             [
              0.5555555555555556,
              "#d8576b"
             ],
             [
              0.6666666666666666,
              "#ed7953"
             ],
             [
              0.7777777777777778,
              "#fb9f3a"
             ],
             [
              0.8888888888888888,
              "#fdca26"
             ],
             [
              1,
              "#f0f921"
             ]
            ],
            "type": "contour"
           }
          ],
          "contourcarpet": [
           {
            "colorbar": {
             "outlinewidth": 0,
             "ticks": ""
            },
            "type": "contourcarpet"
           }
          ],
          "heatmap": [
           {
            "colorbar": {
             "outlinewidth": 0,
             "ticks": ""
            },
            "colorscale": [
             [
              0,
              "#0d0887"
             ],
             [
              0.1111111111111111,
              "#46039f"
             ],
             [
              0.2222222222222222,
              "#7201a8"
             ],
             [
              0.3333333333333333,
              "#9c179e"
             ],
             [
              0.4444444444444444,
              "#bd3786"
             ],
             [
              0.5555555555555556,
              "#d8576b"
             ],
             [
              0.6666666666666666,
              "#ed7953"
             ],
             [
              0.7777777777777778,
              "#fb9f3a"
             ],
             [
              0.8888888888888888,
              "#fdca26"
             ],
             [
              1,
              "#f0f921"
             ]
            ],
            "type": "heatmap"
           }
          ],
          "heatmapgl": [
           {
            "colorbar": {
             "outlinewidth": 0,
             "ticks": ""
            },
            "colorscale": [
             [
              0,
              "#0d0887"
             ],
             [
              0.1111111111111111,
              "#46039f"
             ],
             [
              0.2222222222222222,
              "#7201a8"
             ],
             [
              0.3333333333333333,
              "#9c179e"
             ],
             [
              0.4444444444444444,
              "#bd3786"
             ],
             [
              0.5555555555555556,
              "#d8576b"
             ],
             [
              0.6666666666666666,
              "#ed7953"
             ],
             [
              0.7777777777777778,
              "#fb9f3a"
             ],
             [
              0.8888888888888888,
              "#fdca26"
             ],
             [
              1,
              "#f0f921"
             ]
            ],
            "type": "heatmapgl"
           }
          ],
          "histogram": [
           {
            "marker": {
             "colorbar": {
              "outlinewidth": 0,
              "ticks": ""
             }
            },
            "type": "histogram"
           }
          ],
          "histogram2d": [
           {
            "colorbar": {
             "outlinewidth": 0,
             "ticks": ""
            },
            "colorscale": [
             [
              0,
              "#0d0887"
             ],
             [
              0.1111111111111111,
              "#46039f"
             ],
             [
              0.2222222222222222,
              "#7201a8"
             ],
             [
              0.3333333333333333,
              "#9c179e"
             ],
             [
              0.4444444444444444,
              "#bd3786"
             ],
             [
              0.5555555555555556,
              "#d8576b"
             ],
             [
              0.6666666666666666,
              "#ed7953"
             ],
             [
              0.7777777777777778,
              "#fb9f3a"
             ],
             [
              0.8888888888888888,
              "#fdca26"
             ],
             [
              1,
              "#f0f921"
             ]
            ],
            "type": "histogram2d"
           }
          ],
          "histogram2dcontour": [
           {
            "colorbar": {
             "outlinewidth": 0,
             "ticks": ""
            },
            "colorscale": [
             [
              0,
              "#0d0887"
             ],
             [
              0.1111111111111111,
              "#46039f"
             ],
             [
              0.2222222222222222,
              "#7201a8"
             ],
             [
              0.3333333333333333,
              "#9c179e"
             ],
             [
              0.4444444444444444,
              "#bd3786"
             ],
             [
              0.5555555555555556,
              "#d8576b"
             ],
             [
              0.6666666666666666,
              "#ed7953"
             ],
             [
              0.7777777777777778,
              "#fb9f3a"
             ],
             [
              0.8888888888888888,
              "#fdca26"
             ],
             [
              1,
              "#f0f921"
             ]
            ],
            "type": "histogram2dcontour"
           }
          ],
          "mesh3d": [
           {
            "colorbar": {
             "outlinewidth": 0,
             "ticks": ""
            },
            "type": "mesh3d"
           }
          ],
          "parcoords": [
           {
            "line": {
             "colorbar": {
              "outlinewidth": 0,
              "ticks": ""
             }
            },
            "type": "parcoords"
           }
          ],
          "pie": [
           {
            "automargin": true,
            "type": "pie"
           }
          ],
          "scatter": [
           {
            "marker": {
             "colorbar": {
              "outlinewidth": 0,
              "ticks": ""
             }
            },
            "type": "scatter"
           }
          ],
          "scatter3d": [
           {
            "line": {
             "colorbar": {
              "outlinewidth": 0,
              "ticks": ""
             }
            },
            "marker": {
             "colorbar": {
              "outlinewidth": 0,
              "ticks": ""
             }
            },
            "type": "scatter3d"
           }
          ],
          "scattercarpet": [
           {
            "marker": {
             "colorbar": {
              "outlinewidth": 0,
              "ticks": ""
             }
            },
            "type": "scattercarpet"
           }
          ],
          "scattergeo": [
           {
            "marker": {
             "colorbar": {
              "outlinewidth": 0,
              "ticks": ""
             }
            },
            "type": "scattergeo"
           }
          ],
          "scattergl": [
           {
            "marker": {
             "colorbar": {
              "outlinewidth": 0,
              "ticks": ""
             }
            },
            "type": "scattergl"
           }
          ],
          "scattermapbox": [
           {
            "marker": {
             "colorbar": {
              "outlinewidth": 0,
              "ticks": ""
             }
            },
            "type": "scattermapbox"
           }
          ],
          "scatterpolar": [
           {
            "marker": {
             "colorbar": {
              "outlinewidth": 0,
              "ticks": ""
             }
            },
            "type": "scatterpolar"
           }
          ],
          "scatterpolargl": [
           {
            "marker": {
             "colorbar": {
              "outlinewidth": 0,
              "ticks": ""
             }
            },
            "type": "scatterpolargl"
           }
          ],
          "scatterternary": [
           {
            "marker": {
             "colorbar": {
              "outlinewidth": 0,
              "ticks": ""
             }
            },
            "type": "scatterternary"
           }
          ],
          "surface": [
           {
            "colorbar": {
             "outlinewidth": 0,
             "ticks": ""
            },
            "colorscale": [
             [
              0,
              "#0d0887"
             ],
             [
              0.1111111111111111,
              "#46039f"
             ],
             [
              0.2222222222222222,
              "#7201a8"
             ],
             [
              0.3333333333333333,
              "#9c179e"
             ],
             [
              0.4444444444444444,
              "#bd3786"
             ],
             [
              0.5555555555555556,
              "#d8576b"
             ],
             [
              0.6666666666666666,
              "#ed7953"
             ],
             [
              0.7777777777777778,
              "#fb9f3a"
             ],
             [
              0.8888888888888888,
              "#fdca26"
             ],
             [
              1,
              "#f0f921"
             ]
            ],
            "type": "surface"
           }
          ],
          "table": [
           {
            "cells": {
             "fill": {
              "color": "#EBF0F8"
             },
             "line": {
              "color": "white"
             }
            },
            "header": {
             "fill": {
              "color": "#C8D4E3"
             },
             "line": {
              "color": "white"
             }
            },
            "type": "table"
           }
          ]
         },
         "layout": {
          "annotationdefaults": {
           "arrowcolor": "#2a3f5f",
           "arrowhead": 0,
           "arrowwidth": 1
          },
          "autotypenumbers": "strict",
          "coloraxis": {
           "colorbar": {
            "outlinewidth": 0,
            "ticks": ""
           }
          },
          "colorscale": {
           "diverging": [
            [
             0,
             "#8e0152"
            ],
            [
             0.1,
             "#c51b7d"
            ],
            [
             0.2,
             "#de77ae"
            ],
            [
             0.3,
             "#f1b6da"
            ],
            [
             0.4,
             "#fde0ef"
            ],
            [
             0.5,
             "#f7f7f7"
            ],
            [
             0.6,
             "#e6f5d0"
            ],
            [
             0.7,
             "#b8e186"
            ],
            [
             0.8,
             "#7fbc41"
            ],
            [
             0.9,
             "#4d9221"
            ],
            [
             1,
             "#276419"
            ]
           ],
           "sequential": [
            [
             0,
             "#0d0887"
            ],
            [
             0.1111111111111111,
             "#46039f"
            ],
            [
             0.2222222222222222,
             "#7201a8"
            ],
            [
             0.3333333333333333,
             "#9c179e"
            ],
            [
             0.4444444444444444,
             "#bd3786"
            ],
            [
             0.5555555555555556,
             "#d8576b"
            ],
            [
             0.6666666666666666,
             "#ed7953"
            ],
            [
             0.7777777777777778,
             "#fb9f3a"
            ],
            [
             0.8888888888888888,
             "#fdca26"
            ],
            [
             1,
             "#f0f921"
            ]
           ],
           "sequentialminus": [
            [
             0,
             "#0d0887"
            ],
            [
             0.1111111111111111,
             "#46039f"
            ],
            [
             0.2222222222222222,
             "#7201a8"
            ],
            [
             0.3333333333333333,
             "#9c179e"
            ],
            [
             0.4444444444444444,
             "#bd3786"
            ],
            [
             0.5555555555555556,
             "#d8576b"
            ],
            [
             0.6666666666666666,
             "#ed7953"
            ],
            [
             0.7777777777777778,
             "#fb9f3a"
            ],
            [
             0.8888888888888888,
             "#fdca26"
            ],
            [
             1,
             "#f0f921"
            ]
           ]
          },
          "colorway": [
           "#636efa",
           "#EF553B",
           "#00cc96",
           "#ab63fa",
           "#FFA15A",
           "#19d3f3",
           "#FF6692",
           "#B6E880",
           "#FF97FF",
           "#FECB52"
          ],
          "font": {
           "color": "#2a3f5f"
          },
          "geo": {
           "bgcolor": "white",
           "lakecolor": "white",
           "landcolor": "#E5ECF6",
           "showlakes": true,
           "showland": true,
           "subunitcolor": "white"
          },
          "hoverlabel": {
           "align": "left"
          },
          "hovermode": "closest",
          "mapbox": {
           "style": "light"
          },
          "paper_bgcolor": "white",
          "plot_bgcolor": "#E5ECF6",
          "polar": {
           "angularaxis": {
            "gridcolor": "white",
            "linecolor": "white",
            "ticks": ""
           },
           "bgcolor": "#E5ECF6",
           "radialaxis": {
            "gridcolor": "white",
            "linecolor": "white",
            "ticks": ""
           }
          },
          "scene": {
           "xaxis": {
            "backgroundcolor": "#E5ECF6",
            "gridcolor": "white",
            "gridwidth": 2,
            "linecolor": "white",
            "showbackground": true,
            "ticks": "",
            "zerolinecolor": "white"
           },
           "yaxis": {
            "backgroundcolor": "#E5ECF6",
            "gridcolor": "white",
            "gridwidth": 2,
            "linecolor": "white",
            "showbackground": true,
            "ticks": "",
            "zerolinecolor": "white"
           },
           "zaxis": {
            "backgroundcolor": "#E5ECF6",
            "gridcolor": "white",
            "gridwidth": 2,
            "linecolor": "white",
            "showbackground": true,
            "ticks": "",
            "zerolinecolor": "white"
           }
          },
          "shapedefaults": {
           "line": {
            "color": "#2a3f5f"
           }
          },
          "ternary": {
           "aaxis": {
            "gridcolor": "white",
            "linecolor": "white",
            "ticks": ""
           },
           "baxis": {
            "gridcolor": "white",
            "linecolor": "white",
            "ticks": ""
           },
           "bgcolor": "#E5ECF6",
           "caxis": {
            "gridcolor": "white",
            "linecolor": "white",
            "ticks": ""
           }
          },
          "title": {
           "x": 0.05
          },
          "xaxis": {
           "automargin": true,
           "gridcolor": "white",
           "linecolor": "white",
           "ticks": "",
           "title": {
            "standoff": 15
           },
           "zerolinecolor": "white",
           "zerolinewidth": 2
          },
          "yaxis": {
           "automargin": true,
           "gridcolor": "white",
           "linecolor": "white",
           "ticks": "",
           "title": {
            "standoff": 15
           },
           "zerolinecolor": "white",
           "zerolinewidth": 2
          }
         }
        },
        "title": {
         "text": "RMSE on dataset dataset_1_normalized"
        },
        "xaxis": {
         "anchor": "y",
         "domain": [
          0,
          1
         ],
         "title": {
          "text": "batches"
         }
        },
        "yaxis": {
         "anchor": "x",
         "domain": [
          0,
          1
         ],
         "title": {
          "text": "rmse"
         }
        }
       }
      }
     },
     "metadata": {}
    }
   ],
   "source": [
    "title = \"RMSE on dataset {}\".format(dataset_name)\n",
    "col_names = [\"Pure\", \"FIRES\", \"SGDR\", \"Random\"]\n",
    "d = {\"Pure\":pure_rmse, \"FIRES\":fires_rmse, \"SGDR\":sgdr_rmse, \"Random\":random_rmse}\n",
    "df = pd.DataFrame(d, columns=col_names)\n",
    "fig = px.line(df, y = col_names, title=title, labels={\"index\":\"batches\", \"value\":\"rmse\"}, color_discrete_map={\"Pure\":'blue','FIRES': 'red', \"SGDR\": \"green\", \"Random\":\"cyan\"})\n",
    "rmse_trace = fig[\"data\"]\n",
    "fig.show()"
   ]
  },
  {
   "cell_type": "code",
   "execution_count": 66,
   "metadata": {},
   "outputs": [
    {
     "output_type": "execute_result",
     "data": {
      "text/plain": [
       "169"
      ]
     },
     "metadata": {},
     "execution_count": 66
    }
   ],
   "source": [
    "len(pure_rmse)"
   ]
  },
  {
   "cell_type": "code",
   "execution_count": 67,
   "metadata": {},
   "outputs": [
    {
     "output_type": "display_data",
     "data": {
      "application/vnd.plotly.v1+json": {
       "config": {
        "plotlyServerURL": "https://plot.ly"
       },
       "data": [
        {
         "hovertemplate": "variable=SGDR<br>batches=%{x}<br>stability=%{y}<extra></extra>",
         "legendgroup": "SGDR",
         "line": {
          "color": "green",
          "dash": "solid"
         },
         "mode": "lines",
         "name": "SGDR",
         "orientation": "v",
         "showlegend": false,
         "type": "scatter",
         "x": [
          0,
          1,
          2,
          3,
          4,
          5,
          6,
          7,
          8,
          9,
          10,
          11,
          12,
          13,
          14,
          15,
          16,
          17,
          18,
          19,
          20,
          21,
          22,
          23,
          24,
          25,
          26,
          27,
          28,
          29,
          30,
          31,
          32,
          33,
          34,
          35,
          36,
          37,
          38,
          39,
          40,
          41,
          42,
          43,
          44,
          45,
          46,
          47,
          48,
          49,
          50,
          51,
          52,
          53,
          54,
          55,
          56,
          57,
          58,
          59,
          60,
          61,
          62,
          63,
          64,
          65,
          66,
          67,
          68,
          69,
          70,
          71,
          72,
          73,
          74,
          75,
          76,
          77,
          78,
          79,
          80,
          81,
          82,
          83,
          84,
          85,
          86,
          87,
          88,
          89,
          90,
          91,
          92,
          93,
          94,
          95,
          96,
          97,
          98,
          99,
          100,
          101,
          102,
          103,
          104,
          105,
          106,
          107,
          108,
          109,
          110,
          111,
          112,
          113,
          114,
          115,
          116,
          117,
          118,
          119,
          120,
          121,
          122,
          123,
          124,
          125,
          126,
          127,
          128,
          129,
          130,
          131,
          132,
          133,
          134,
          135,
          136,
          137,
          138,
          139,
          140,
          141,
          142,
          143,
          144,
          145,
          146,
          147,
          148,
          149,
          150,
          151,
          152,
          153,
          154,
          155,
          156,
          157,
          158,
          159,
          160,
          161,
          162,
          163,
          164,
          165,
          166,
          167,
          168,
          169
         ],
         "xaxis": "x",
         "y": [
          0,
          0,
          0,
          0,
          0,
          0,
          0,
          0,
          0,
          0,
          0.7470238095238096,
          0.7924498746867167,
          0.8104636591478697,
          0.818295739348371,
          0.8363095238095241,
          0.8394423558897247,
          0.8300438596491229,
          0.8292606516290726,
          0.824561403508772,
          0.8276942355889727,
          0.8496240601503763,
          0.8801691729323313,
          0.8872180451127826,
          0.8825187969924816,
          0.8833020050125313,
          0.8833020050125312,
          0.884868421052632,
          0.8864348370927324,
          0.8864348370927321,
          0.8864348370927317,
          0.8872180451127821,
          0.8903508771929827,
          0.899749373433584,
          0.9083646616541359,
          0.9067982456140355,
          0.9091478696741856,
          0.9107142857142858,
          0.9146303258145363,
          0.9342105263157895,
          0.9404761904761908,
          0.9451754385964919,
          0.9428258145363415,
          0.9475250626566423,
          0.9592731829573939,
          0.953007518796993,
          0.9389097744360906,
          0.9334273182957399,
          0.9271616541353388,
          0.9271616541353388,
          0.9255952380952386,
          0.9248120300751884,
          0.9334273182957399,
          0.9357769423558902,
          0.942825814536341,
          0.9459586466165416,
          0.9451754385964917,
          0.946741854636592,
          0.9490914786967425,
          0.953790726817043,
          0.9663220551378451,
          0.9655388471177951,
          0.9686716791979956,
          0.965538847117795,
          0.9639724310776949,
          0.9600563909774443,
          0.9545739348370932,
          0.9498746867167924,
          0.9420426065162908,
          0.9357769423558899,
          0.9334273182957394,
          0.929511278195489,
          0.930294486215539,
          0.93577694235589,
          0.9436090225563915,
          0.9490914786967426,
          0.9608395989974943,
          0.9757205513784466,
          0.9780701754385969,
          0.9788533834586471,
          0.9812030075187974,
          0.9804197994987472,
          0.9804197994987472,
          0.9804197994987472,
          0.9812030075187974,
          0.9835526315789477,
          0.987468671679198,
          0.9929511278195489,
          1,
          1,
          1,
          1,
          0.9929511278195492,
          0.9874686716791985,
          0.9835526315789479,
          0.9741541353383464,
          0.9678884711779453,
          0.959273182957394,
          0.9530075187969931,
          0.9451754385964917,
          0.9451754385964917,
          0.942825814536341,
          0.9428258145363411,
          0.9451754385964919,
          0.9537907268170434,
          0.9624060150375945,
          0.9741541353383464,
          0.9780701754385969,
          0.978070175438597,
          0.9819862155388475,
          0.9757205513784464,
          0.980419799498747,
          0.985902255639098,
          0.9929511278195492,
          0.9929511278195492,
          0.992951127819549,
          0.9929511278195492,
          0.9929511278195492,
          0.9929511278195489,
          0.9929511278195489,
          1,
          1,
          1,
          0.9929511278195492,
          0.9874686716791985,
          0.9819862155388477,
          0.9788533834586471,
          0.9749373433583967,
          0.9725877192982463,
          0.9718045112781961,
          0.9725877192982462,
          0.9678884711779454,
          0.9663220551378451,
          0.9655388471177948,
          0.9678884711779453,
          0.9647556390977449,
          0.9671052631578954,
          0.9718045112781961,
          0.9702380952380959,
          0.9702380952380959,
          0.9718045112781961,
          0.9639724310776949,
          0.9639724310776949,
          0.9655388471177951,
          0.9678884711779454,
          0.9710213032581456,
          0.9686716791979956,
          0.9725877192982461,
          0.9702380952380957,
          0.9694548872180457,
          0.9702380952380957,
          0.9757205513784466,
          0.9788533834586469,
          0.9835526315789477,
          0.9874686716791982,
          0.9874686716791982,
          0.9835526315789477,
          0.9835526315789479,
          0.9812030075187974,
          0.9804197994987472,
          0.9812030075187974,
          0.9835526315789477,
          0.987468671679198,
          0.9929511278195489,
          1,
          1,
          1,
          1,
          1,
          1,
          1
         ],
         "yaxis": "y"
        },
        {
         "hovertemplate": "variable=FIRES<br>batches=%{x}<br>stability=%{y}<extra></extra>",
         "legendgroup": "FIRES",
         "line": {
          "color": "red",
          "dash": "solid"
         },
         "mode": "lines",
         "name": "FIRES",
         "orientation": "v",
         "showlegend": false,
         "type": "scatter",
         "x": [
          0,
          1,
          2,
          3,
          4,
          5,
          6,
          7,
          8,
          9,
          10,
          11,
          12,
          13,
          14,
          15,
          16,
          17,
          18,
          19,
          20,
          21,
          22,
          23,
          24,
          25,
          26,
          27,
          28,
          29,
          30,
          31,
          32,
          33,
          34,
          35,
          36,
          37,
          38,
          39,
          40,
          41,
          42,
          43,
          44,
          45,
          46,
          47,
          48,
          49,
          50,
          51,
          52,
          53,
          54,
          55,
          56,
          57,
          58,
          59,
          60,
          61,
          62,
          63,
          64,
          65,
          66,
          67,
          68,
          69,
          70,
          71,
          72,
          73,
          74,
          75,
          76,
          77,
          78,
          79,
          80,
          81,
          82,
          83,
          84,
          85,
          86,
          87,
          88,
          89,
          90,
          91,
          92,
          93,
          94,
          95,
          96,
          97,
          98,
          99,
          100,
          101,
          102,
          103,
          104,
          105,
          106,
          107,
          108,
          109,
          110,
          111,
          112,
          113,
          114,
          115,
          116,
          117,
          118,
          119,
          120,
          121,
          122,
          123,
          124,
          125,
          126,
          127,
          128,
          129,
          130,
          131,
          132,
          133,
          134,
          135,
          136,
          137,
          138,
          139,
          140,
          141,
          142,
          143,
          144,
          145,
          146,
          147,
          148,
          149,
          150,
          151,
          152,
          153,
          154,
          155,
          156,
          157,
          158,
          159,
          160,
          161,
          162,
          163,
          164,
          165,
          166,
          167,
          168,
          169
         ],
         "xaxis": "x",
         "y": [
          0,
          0,
          0,
          0,
          0,
          0,
          0,
          0,
          0,
          0,
          1,
          1,
          1,
          1,
          1,
          1,
          1,
          1,
          1,
          1,
          1,
          1,
          1,
          1,
          1,
          1,
          1,
          1,
          1,
          1,
          1,
          1,
          1,
          1,
          1,
          1,
          1,
          1,
          1,
          1,
          1,
          1,
          1,
          1,
          1,
          1,
          1,
          1,
          1,
          1,
          1,
          1,
          1,
          1,
          1,
          1,
          1,
          1,
          1,
          1,
          1,
          1,
          1,
          1,
          0.9929511278195492,
          0.9874686716791985,
          0.9835526315789479,
          0.9812030075187974,
          0.9804197994987472,
          0.9812030075187974,
          0.9835526315789477,
          0.987468671679198,
          0.9929511278195489,
          1,
          1,
          1,
          1,
          1,
          1,
          1,
          1,
          1,
          1,
          1,
          1,
          1,
          1,
          1,
          1,
          1,
          1,
          1,
          1,
          1,
          1,
          1,
          1,
          1,
          1,
          1,
          1,
          1,
          1,
          1,
          1,
          1,
          1,
          1,
          1,
          1,
          0.9929511278195492,
          0.9874686716791985,
          0.9835526315789479,
          0.9812030075187974,
          0.9804197994987472,
          0.9812030075187974,
          0.9835526315789477,
          0.987468671679198,
          0.9929511278195489,
          1,
          1,
          1,
          1,
          1,
          1,
          1,
          1,
          1,
          1,
          1,
          1,
          1,
          1,
          1,
          1,
          1,
          1,
          1,
          1,
          1,
          1,
          1,
          1,
          1,
          1,
          1,
          1,
          1,
          1,
          1,
          1,
          1,
          1,
          1,
          1,
          1,
          1,
          1,
          1,
          1,
          1,
          1,
          1,
          1,
          1,
          1,
          1,
          1,
          1,
          1
         ],
         "yaxis": "y"
        },
        {
         "hovertemplate": "variable=Pure<br>batches=%{x}<br>rmse=%{y}<extra></extra>",
         "legendgroup": "Pure",
         "line": {
          "color": "blue",
          "dash": "solid"
         },
         "mode": "lines",
         "name": "Pure",
         "orientation": "v",
         "showlegend": true,
         "type": "scatter",
         "x": [
          0,
          1,
          2,
          3,
          4,
          5,
          6,
          7,
          8,
          9,
          10,
          11,
          12,
          13,
          14,
          15,
          16,
          17,
          18,
          19,
          20,
          21,
          22,
          23,
          24,
          25,
          26,
          27,
          28,
          29,
          30,
          31,
          32,
          33,
          34,
          35,
          36,
          37,
          38,
          39,
          40,
          41,
          42,
          43,
          44,
          45,
          46,
          47,
          48,
          49,
          50,
          51,
          52,
          53,
          54,
          55,
          56,
          57,
          58,
          59,
          60,
          61,
          62,
          63,
          64,
          65,
          66,
          67,
          68,
          69,
          70,
          71,
          72,
          73,
          74,
          75,
          76,
          77,
          78,
          79,
          80,
          81,
          82,
          83,
          84,
          85,
          86,
          87,
          88,
          89,
          90,
          91,
          92,
          93,
          94,
          95,
          96,
          97,
          98,
          99,
          100,
          101,
          102,
          103,
          104,
          105,
          106,
          107,
          108,
          109,
          110,
          111,
          112,
          113,
          114,
          115,
          116,
          117,
          118,
          119,
          120,
          121,
          122,
          123,
          124,
          125,
          126,
          127,
          128,
          129,
          130,
          131,
          132,
          133,
          134,
          135,
          136,
          137,
          138,
          139,
          140,
          141,
          142,
          143,
          144,
          145,
          146,
          147,
          148,
          149,
          150,
          151,
          152,
          153,
          154,
          155,
          156,
          157,
          158,
          159,
          160,
          161,
          162,
          163,
          164,
          165,
          166,
          167,
          168
         ],
         "xaxis": "x2",
         "y": [
          0.11654774375986947,
          0.12114380719278207,
          0.13485168134270242,
          0.10023371234402798,
          0.13547054652018628,
          0.0939503719435775,
          0.14268357116798241,
          0.1198245942895915,
          0.1028551648789569,
          0.10721498249286422,
          0.1262809417992219,
          0.11564326593582992,
          0.11491300461692595,
          0.11034215400851818,
          0.12044769599132034,
          0.11317974094346148,
          0.11671727721617564,
          0.1181921391330968,
          0.12362653827821973,
          0.11738935192646953,
          0.12640604080850518,
          0.11657440012963756,
          0.12246707193916086,
          0.1032745182570313,
          0.10471692706507267,
          0.12181394795127397,
          0.1095390173302118,
          0.11414592174145848,
          0.11599301886445643,
          0.09353534316210621,
          0.11610754433622729,
          0.10523177002708532,
          0.11052558004869818,
          0.10495952001001363,
          0.10848906122952495,
          0.1112952292025739,
          0.10426342041199732,
          0.11703238158236355,
          0.10236483232539184,
          0.09586695324318127,
          0.11457445915089111,
          0.09719931066712023,
          0.11330265135034175,
          0.10238900214569674,
          0.09385749525928956,
          0.09069968494179252,
          0.1217968139061521,
          0.09604095672540724,
          0.12293755728250622,
          0.10417543991248836,
          0.09894497241087383,
          0.10280404080148352,
          0.10617719348352109,
          0.10627766684444345,
          0.10410766379586961,
          0.11622994708550612,
          0.10334359895222316,
          0.10599296757345325,
          0.1099234583236204,
          0.10799177613620979,
          0.11481714307830702,
          0.10706610051518829,
          0.11641998824976035,
          0.11388876732004459,
          0.11025499158993288,
          0.11031331247863568,
          0.10489114355275346,
          0.09696506690902157,
          0.09193666210133972,
          0.10283123357439442,
          0.09804259229088871,
          0.10255665016482343,
          0.09525608305388368,
          0.09951208297363535,
          0.10199461328631458,
          0.11779602611621244,
          0.10281933620432072,
          0.10880898264492984,
          0.10213500633734982,
          0.10509735866084059,
          0.11451589622451398,
          0.10580030559761419,
          0.11196112278821103,
          0.09784171389666842,
          0.09808453404999488,
          0.09595399393405704,
          0.09201079862438805,
          0.10912470505794288,
          0.09437604923283882,
          0.09946335387748417,
          0.10174052495176909,
          0.08647251618598477,
          0.09468431566260353,
          0.10885076696039217,
          0.09335683412518539,
          0.0975802371808214,
          0.09776913101071202,
          0.09733425814598899,
          0.10444180826926547,
          0.09384019728611843,
          0.10881182272978322,
          0.1047807088007348,
          0.10766248414268319,
          0.09720532298797477,
          0.10373119366322837,
          0.09328406023062949,
          0.09609320445197952,
          0.10327066894441435,
          0.08831380937185555,
          0.08632460950698875,
          0.10546452036563106,
          0.10590648876566784,
          0.08954994889923981,
          0.09448756513353072,
          0.0962920682660954,
          0.08949695726476264,
          0.09480425113316059,
          0.11452304283890051,
          0.09697422281093754,
          0.09323149595441792,
          0.09871089129422492,
          0.10016141298952386,
          0.10351997572104478,
          0.09371321392174407,
          0.09584125792859682,
          0.10396623409755482,
          0.09144527300545269,
          0.10315301692466201,
          0.09873401827831017,
          0.09092435473057554,
          0.10970989569360141,
          0.10387691754543173,
          0.0965306846532803,
          0.10102550780363646,
          0.09405972467081486,
          0.0867699983654703,
          0.08263383188622188,
          0.09020630299339667,
          0.09615609017945241,
          0.08897112324100422,
          0.08657259569449333,
          0.08717195476615461,
          0.08201059054084943,
          0.09652459367879124,
          0.0856748240648577,
          0.09846214349692678,
          0.08673430514524591,
          0.09028713619585887,
          0.08653009383212852,
          0.09110773177773286,
          0.0895279598066828,
          0.08434996185983241,
          0.09381338489338287,
          0.10441040388068891,
          0.08313819757150327,
          0.08740489736614175,
          0.11064272351622237,
          0.11240602592767765,
          0.09461985962222495,
          0.08592506366949386,
          0.0969340606493731,
          0.07902190814200638,
          0.08422584809741585,
          0.08358023061482882,
          0.0935844552653969,
          0.08965597648396365,
          0.08727701622543471,
          0.09820481242967734,
          0.09111517298359208
         ],
         "yaxis": "y2"
        },
        {
         "hovertemplate": "variable=SGDR<br>batches=%{x}<br>rmse=%{y}<extra></extra>",
         "legendgroup": "SGDR",
         "line": {
          "color": "green",
          "dash": "solid"
         },
         "mode": "lines",
         "name": "SGDR",
         "orientation": "v",
         "showlegend": true,
         "type": "scatter",
         "x": [
          0,
          1,
          2,
          3,
          4,
          5,
          6,
          7,
          8,
          9,
          10,
          11,
          12,
          13,
          14,
          15,
          16,
          17,
          18,
          19,
          20,
          21,
          22,
          23,
          24,
          25,
          26,
          27,
          28,
          29,
          30,
          31,
          32,
          33,
          34,
          35,
          36,
          37,
          38,
          39,
          40,
          41,
          42,
          43,
          44,
          45,
          46,
          47,
          48,
          49,
          50,
          51,
          52,
          53,
          54,
          55,
          56,
          57,
          58,
          59,
          60,
          61,
          62,
          63,
          64,
          65,
          66,
          67,
          68,
          69,
          70,
          71,
          72,
          73,
          74,
          75,
          76,
          77,
          78,
          79,
          80,
          81,
          82,
          83,
          84,
          85,
          86,
          87,
          88,
          89,
          90,
          91,
          92,
          93,
          94,
          95,
          96,
          97,
          98,
          99,
          100,
          101,
          102,
          103,
          104,
          105,
          106,
          107,
          108,
          109,
          110,
          111,
          112,
          113,
          114,
          115,
          116,
          117,
          118,
          119,
          120,
          121,
          122,
          123,
          124,
          125,
          126,
          127,
          128,
          129,
          130,
          131,
          132,
          133,
          134,
          135,
          136,
          137,
          138,
          139,
          140,
          141,
          142,
          143,
          144,
          145,
          146,
          147,
          148,
          149,
          150,
          151,
          152,
          153,
          154,
          155,
          156,
          157,
          158,
          159,
          160,
          161,
          162,
          163,
          164,
          165,
          166,
          167,
          168
         ],
         "xaxis": "x2",
         "y": [
          0.34218075561315997,
          0.13544382741808478,
          0.13714511667000914,
          0.09352428095214112,
          0.12190859602888232,
          0.0871604454132367,
          0.11239205174512894,
          0.1129332030889675,
          0.09302039482711104,
          0.10112496714504475,
          0.11879447015783401,
          0.1100944598394949,
          0.10557896495955973,
          0.10093608597533939,
          0.1097598092866731,
          0.10379286047913894,
          0.1083870948159184,
          0.11112790568361983,
          0.10716769736070274,
          0.10810724111968946,
          0.11658987333250367,
          0.11746243673057417,
          0.10661332875900091,
          0.09564405844517533,
          0.09910523675674464,
          0.11303038752382064,
          0.10321415694263676,
          0.10711203895610681,
          0.10925704591171619,
          0.0858869169314405,
          0.10755924652648473,
          0.09663906800731402,
          0.10128816867850525,
          0.10136254509433333,
          0.1029411136913844,
          0.10375821178223908,
          0.09955974744365957,
          0.1090348897759458,
          0.09594933020145435,
          0.09062118649533606,
          0.11013819952559097,
          0.09171697543472954,
          0.10711032780386952,
          0.09580896170587222,
          0.0895572029661766,
          0.0861739793919927,
          0.11458516167631434,
          0.08663993651906443,
          0.11656724801580225,
          0.10135262957563619,
          0.09401152071539319,
          0.09797370900694363,
          0.10049500790727804,
          0.10086908101036555,
          0.09789907381120305,
          0.11054055588404456,
          0.09917594626497658,
          0.09887858186686906,
          0.10419999146382487,
          0.10305763097286441,
          0.10746995331255013,
          0.1155377101807286,
          0.10144044341834282,
          0.10848825785830933,
          0.10306230396314249,
          0.1050434951475768,
          0.09926033614427385,
          0.09302016832654507,
          0.08689446595337717,
          0.10074318641357179,
          0.09443855877555134,
          0.09962354794500661,
          0.09113642887720663,
          0.09416338911854444,
          0.10048035004693778,
          0.11263983841299732,
          0.1004683464135205,
          0.10361023634948385,
          0.10013206942980332,
          0.09798067951106486,
          0.10924196368640415,
          0.09536280131987061,
          0.10695058542507181,
          0.09515229768454508,
          0.09363528881989745,
          0.09394617265811298,
          0.0906199855169805,
          0.10499829305909684,
          0.0920447046013329,
          0.094779831965119,
          0.09877556802733117,
          0.08368551993942008,
          0.0937192037287329,
          0.10667453517758564,
          0.09247481885670311,
          0.09351099741380937,
          0.09461144879205079,
          0.09536927006099494,
          0.09883936343765844,
          0.09112311628269916,
          0.10624324017522577,
          0.10232243798690609,
          0.10472295887071596,
          0.09541031723262401,
          0.1013131006189363,
          0.09245330609399874,
          0.09448872222479884,
          0.10135886462497519,
          0.08519567667849665,
          0.0847091603444933,
          0.10266884659570465,
          0.10267470644506253,
          0.08845485582064222,
          0.09497129683773751,
          0.09449289740729405,
          0.08874667095126364,
          0.09364804891029266,
          0.11240424876956226,
          0.0957247130415584,
          0.09423351172952764,
          0.09614394297940689,
          0.09962133547465077,
          0.10286732349988838,
          0.09465486981188317,
          0.09525762505189139,
          0.10464030625415917,
          0.09183878374348578,
          0.10229045751605519,
          0.09890553043915244,
          0.09060543927679961,
          0.10981932404351868,
          0.10364265732983041,
          0.0954751843086889,
          0.1013214962473449,
          0.09221439334064549,
          0.08513310310110933,
          0.08303763752132963,
          0.0893952820309325,
          0.09634984451912514,
          0.08891146191872878,
          0.08753064759575652,
          0.08832290724516248,
          0.08219126736777757,
          0.09694058972863709,
          0.08236479582789351,
          0.09578580368078428,
          0.08708326730222396,
          0.09061938944516765,
          0.08724234245563907,
          0.09137150605792628,
          0.09024274231428626,
          0.08403063470857697,
          0.0933322804291473,
          0.10420226378556569,
          0.08428820186233191,
          0.08917448854121547,
          0.11128152761778685,
          0.10086770219761343,
          0.09522797677897557,
          0.0855539150811968,
          0.09723582702657847,
          0.08050102489988882,
          0.08518140979641876,
          0.08429136101868548,
          0.09287829361881628,
          0.09137829741997172,
          0.0876928082832743,
          0.09834747517159936,
          0.0928997802633015
         ],
         "yaxis": "y2"
        },
        {
         "hovertemplate": "variable=Random<br>batches=%{x}<br>rmse=%{y}<extra></extra>",
         "legendgroup": "Random",
         "line": {
          "color": "cyan",
          "dash": "solid"
         },
         "mode": "lines",
         "name": "Random",
         "orientation": "v",
         "showlegend": true,
         "type": "scatter",
         "x": [
          0,
          1,
          2,
          3,
          4,
          5,
          6,
          7,
          8,
          9,
          10,
          11,
          12,
          13,
          14,
          15,
          16,
          17,
          18,
          19,
          20,
          21,
          22,
          23,
          24,
          25,
          26,
          27,
          28,
          29,
          30,
          31,
          32,
          33,
          34,
          35,
          36,
          37,
          38,
          39,
          40,
          41,
          42,
          43,
          44,
          45,
          46,
          47,
          48,
          49,
          50,
          51,
          52,
          53,
          54,
          55,
          56,
          57,
          58,
          59,
          60,
          61,
          62,
          63,
          64,
          65,
          66,
          67,
          68,
          69,
          70,
          71,
          72,
          73,
          74,
          75,
          76,
          77,
          78,
          79,
          80,
          81,
          82,
          83,
          84,
          85,
          86,
          87,
          88,
          89,
          90,
          91,
          92,
          93,
          94,
          95,
          96,
          97,
          98,
          99,
          100,
          101,
          102,
          103,
          104,
          105,
          106,
          107,
          108,
          109,
          110,
          111,
          112,
          113,
          114,
          115,
          116,
          117,
          118,
          119,
          120,
          121,
          122,
          123,
          124,
          125,
          126,
          127,
          128,
          129,
          130,
          131,
          132,
          133,
          134,
          135,
          136,
          137,
          138,
          139,
          140,
          141,
          142,
          143,
          144,
          145,
          146,
          147,
          148,
          149,
          150,
          151,
          152,
          153,
          154,
          155,
          156,
          157,
          158,
          159,
          160,
          161,
          162,
          163,
          164,
          165,
          166,
          167,
          168
         ],
         "xaxis": "x2",
         "y": [
          0.3773730546644571,
          0.2981331643793217,
          0.19125116476620704,
          0.1963629826602956,
          0.1899040825955054,
          0.1569282321174349,
          0.12511230471321177,
          0.12067329373435373,
          0.10427306626346086,
          0.11252740439505948,
          0.13462110194509122,
          0.1392842227759488,
          0.12226490011074355,
          0.11337366438071937,
          0.12756921673082933,
          0.11608380220689878,
          0.12248047321424264,
          0.1284622111155514,
          0.12979232065103097,
          0.13435521624011984,
          0.13199895660996414,
          0.12680650480246353,
          0.12366307031228341,
          0.11503950002281349,
          0.12418382493466372,
          0.13423572562110295,
          0.15359041127398762,
          0.12562814877777975,
          0.13009037465095752,
          0.10320889929026023,
          0.12879452970930969,
          0.11508083759069637,
          0.12104636716467988,
          0.12884547597970472,
          0.12354646605317594,
          0.1297716302098432,
          0.1162518770244573,
          0.12824647661881905,
          0.11290430924330247,
          0.10564443957765153,
          0.12792515374279395,
          0.10919023576831137,
          0.12905068713169734,
          0.1155657694737624,
          0.10509242498822859,
          0.10524352736343802,
          0.1393701404331261,
          0.11006394361472016,
          0.14522372278386408,
          0.11977255024221568,
          0.11090190312476865,
          0.11993917124664265,
          0.14699076018504686,
          0.1173620790031497,
          0.1399938550080155,
          0.1346509840048457,
          0.11613988853973438,
          0.12311068542303988,
          0.1256903825484001,
          0.13927787420258605,
          0.12921483722302274,
          0.11594459412719026,
          0.11956003434665116,
          0.13415003334793396,
          0.13614497676654652,
          0.12843906113677017,
          0.12215765879355871,
          0.11619939221251828,
          0.10987844360009778,
          0.13880129154863155,
          0.12513054946252578,
          0.12240688900306863,
          0.1145953633504935,
          0.11866310456484366,
          0.12110124342802957,
          0.13481274129106915,
          0.11926897254782091,
          0.1296834353013914,
          0.11658514635386737,
          0.11811086926918021,
          0.15543460381342875,
          0.13888501376371787,
          0.12868423066882118,
          0.11892209569353561,
          0.12100074383429213,
          0.12776798357525534,
          0.113551521835117,
          0.12804342419128378,
          0.11520092344500746,
          0.11519005249764012,
          0.1218586445222025,
          0.10536928715553183,
          0.11633569377279664,
          0.12827694846949625,
          0.11545514092290196,
          0.11408400053363994,
          0.11265031598607714,
          0.12900206699024197,
          0.13499742567823525,
          0.12071715535681121,
          0.13290118754161062,
          0.12241419249105054,
          0.13239736196259977,
          0.11968998094001843,
          0.12648293736204522,
          0.11437745655118532,
          0.12181185935471062,
          0.12265799265601886,
          0.1217856709254492,
          0.11028996785181797,
          0.1368390548929975,
          0.13614091821438642,
          0.11328190451673134,
          0.11886042824734773,
          0.1205691127333623,
          0.11121530003751488,
          0.11989924438729649,
          0.14048355073386454,
          0.12420008268039563,
          0.1273136892573627,
          0.12227926815323742,
          0.13240730034856546,
          0.13495686477784136,
          0.11901437445344382,
          0.1199354019040472,
          0.15081172136798512,
          0.12188848562690471,
          0.13116813791176737,
          0.1273585508288445,
          0.12338898857476291,
          0.1400256584724735,
          0.13375172867986693,
          0.12034573187358842,
          0.14212898098378055,
          0.12123336056467546,
          0.11558253566974584,
          0.12086858639436242,
          0.11863954480572503,
          0.1190563237087427,
          0.11407942951466593,
          0.11202242761321145,
          0.11104546844646299,
          0.10802237972400172,
          0.1242698016024864,
          0.10788350984666356,
          0.14192118591155192,
          0.12422392346554087,
          0.1107740812800828,
          0.11795392903810026,
          0.12887245839311884,
          0.14382479862097994,
          0.12809526044510441,
          0.13683613560973032,
          0.1349419126444429,
          0.11101761474438328,
          0.12416854820796663,
          0.1404889217619388,
          0.1274302062581178,
          0.12670162482230252,
          0.1186026719425509,
          0.12281079332451182,
          0.10280757425115764,
          0.11893628689680297,
          0.11458517470327238,
          0.1233311654360326,
          0.12083461352971603,
          0.13489831946905728,
          0.12914800330457094,
          0.1262695683965863
         ],
         "yaxis": "y2"
        },
        {
         "hovertemplate": "variable=FIRES<br>batches=%{x}<br>rmse=%{y}<extra></extra>",
         "legendgroup": "FIRES",
         "line": {
          "color": "red",
          "dash": "solid"
         },
         "mode": "lines",
         "name": "FIRES",
         "orientation": "v",
         "showlegend": true,
         "type": "scatter",
         "x": [
          0,
          1,
          2,
          3,
          4,
          5,
          6,
          7,
          8,
          9,
          10,
          11,
          12,
          13,
          14,
          15,
          16,
          17,
          18,
          19,
          20,
          21,
          22,
          23,
          24,
          25,
          26,
          27,
          28,
          29,
          30,
          31,
          32,
          33,
          34,
          35,
          36,
          37,
          38,
          39,
          40,
          41,
          42,
          43,
          44,
          45,
          46,
          47,
          48,
          49,
          50,
          51,
          52,
          53,
          54,
          55,
          56,
          57,
          58,
          59,
          60,
          61,
          62,
          63,
          64,
          65,
          66,
          67,
          68,
          69,
          70,
          71,
          72,
          73,
          74,
          75,
          76,
          77,
          78,
          79,
          80,
          81,
          82,
          83,
          84,
          85,
          86,
          87,
          88,
          89,
          90,
          91,
          92,
          93,
          94,
          95,
          96,
          97,
          98,
          99,
          100,
          101,
          102,
          103,
          104,
          105,
          106,
          107,
          108,
          109,
          110,
          111,
          112,
          113,
          114,
          115,
          116,
          117,
          118,
          119,
          120,
          121,
          122,
          123,
          124,
          125,
          126,
          127,
          128,
          129,
          130,
          131,
          132,
          133,
          134,
          135,
          136,
          137,
          138,
          139,
          140,
          141,
          142,
          143,
          144,
          145,
          146,
          147,
          148,
          149,
          150,
          151,
          152,
          153,
          154,
          155,
          156,
          157,
          158,
          159,
          160,
          161,
          162,
          163,
          164,
          165,
          166,
          167,
          168
         ],
         "xaxis": "x2",
         "y": [
          0.3469716233467649,
          0.12374300865411474,
          0.13596840478497987,
          0.09827280501241871,
          0.13329155738851173,
          0.09629600269732067,
          0.12130198717635093,
          0.11971608113831192,
          0.10480861857079556,
          0.1082492705493516,
          0.12570684860412323,
          0.11585935304672644,
          0.11778725844905182,
          0.11415122242580839,
          0.1185297394618913,
          0.1176699911718594,
          0.11956257360268259,
          0.12098897000249352,
          0.11668377158873405,
          0.12363213748725631,
          0.1325576194616594,
          0.12047542628497548,
          0.12056984986763246,
          0.10589366842844455,
          0.10885017911544535,
          0.12465988202369191,
          0.11501489770466244,
          0.11712208211886475,
          0.12046173775402642,
          0.0951345977018103,
          0.1190361187583553,
          0.11014947901715008,
          0.11475477829321665,
          0.11226306841354904,
          0.11744411178768131,
          0.11571195678931304,
          0.10846244238330573,
          0.1215797541886863,
          0.10701254455339855,
          0.10498673999268344,
          0.12446386691188283,
          0.10397213408066328,
          0.12218333587635226,
          0.10740001797983324,
          0.1012634143799407,
          0.09773497763557111,
          0.13033818870466907,
          0.09865132818098502,
          0.12943059015005723,
          0.10970991259583847,
          0.1073177744296522,
          0.11174754780384025,
          0.11326590384912101,
          0.11433293561769842,
          0.11125378357132726,
          0.12332734079550098,
          0.11636999862811177,
          0.11313990255481568,
          0.11819518182819369,
          0.11679812335118221,
          0.12255139165217484,
          0.12864473755580463,
          0.11515138023488365,
          0.12378109815128045,
          0.11505690303257654,
          0.11748779464846111,
          0.11228953734074763,
          0.10373348351882584,
          0.09878839499532868,
          0.11180216755743799,
          0.10751416835118893,
          0.11215669888379605,
          0.10420432546429523,
          0.10672788570734948,
          0.11333242576203269,
          0.12440753442641898,
          0.11529370712781126,
          0.11802297843390341,
          0.11142190481561161,
          0.11466427773714008,
          0.12367418892249171,
          0.10893096576480056,
          0.12199515687713954,
          0.11079357430433204,
          0.10784970913200827,
          0.10692450399871936,
          0.10144495494325836,
          0.1217593211444269,
          0.10634264283020915,
          0.1113479788138187,
          0.11066254878485095,
          0.10135587490729177,
          0.10625388670230403,
          0.12332235575828247,
          0.10818167237653009,
          0.11125326289398241,
          0.10750890805226336,
          0.11278081562901063,
          0.11805207166556356,
          0.10802304692820196,
          0.12457048078323764,
          0.11936468143577923,
          0.12024967234718584,
          0.11032478410784893,
          0.12009759495581908,
          0.10742774443063044,
          0.1088696309209198,
          0.117951980921705,
          0.10030345818431335,
          0.0996440537948106,
          0.12092508450395731,
          0.1163671461889909,
          0.10301550804030774,
          0.11121783743557999,
          0.10788397917668653,
          0.10136449649710007,
          0.108285667812436,
          0.12837523451685431,
          0.11038874543415732,
          0.1046551594891679,
          0.10997320154411623,
          0.1155892300411548,
          0.11873398860604166,
          0.1074653871025107,
          0.10867360068991226,
          0.11967634362127089,
          0.10689931056982713,
          0.12070122347457997,
          0.11551459702423542,
          0.10682756036655838,
          0.12598751240768655,
          0.12346555618028476,
          0.11475687399453603,
          0.12281675276825352,
          0.10764392735688624,
          0.10242363636770506,
          0.09913162341680994,
          0.1019968951570734,
          0.11045220196161543,
          0.10255768366547931,
          0.10661513263149427,
          0.10227432519640046,
          0.09574700823437221,
          0.11186643923468155,
          0.09756745196608789,
          0.11652235004989435,
          0.10267715093269913,
          0.10837141400627875,
          0.10404681565996289,
          0.10612079878573501,
          0.10620824923412456,
          0.10072900303714488,
          0.1113335542482105,
          0.12405852120757273,
          0.09989966894681909,
          0.10755195207402846,
          0.1324943021481446,
          0.1159540615308542,
          0.11610680898307899,
          0.10363920243546305,
          0.11282751787282226,
          0.09449060267732011,
          0.10078599411020805,
          0.1006554757872917,
          0.11281203873433544,
          0.10661283126958625,
          0.10335527619974705,
          0.11668481471263516,
          0.11206659794020225
         ],
         "yaxis": "y2"
        }
       ],
       "layout": {
        "template": {
         "data": {
          "bar": [
           {
            "error_x": {
             "color": "#2a3f5f"
            },
            "error_y": {
             "color": "#2a3f5f"
            },
            "marker": {
             "line": {
              "color": "#E5ECF6",
              "width": 0.5
             }
            },
            "type": "bar"
           }
          ],
          "barpolar": [
           {
            "marker": {
             "line": {
              "color": "#E5ECF6",
              "width": 0.5
             }
            },
            "type": "barpolar"
           }
          ],
          "carpet": [
           {
            "aaxis": {
             "endlinecolor": "#2a3f5f",
             "gridcolor": "white",
             "linecolor": "white",
             "minorgridcolor": "white",
             "startlinecolor": "#2a3f5f"
            },
            "baxis": {
             "endlinecolor": "#2a3f5f",
             "gridcolor": "white",
             "linecolor": "white",
             "minorgridcolor": "white",
             "startlinecolor": "#2a3f5f"
            },
            "type": "carpet"
           }
          ],
          "choropleth": [
           {
            "colorbar": {
             "outlinewidth": 0,
             "ticks": ""
            },
            "type": "choropleth"
           }
          ],
          "contour": [
           {
            "colorbar": {
             "outlinewidth": 0,
             "ticks": ""
            },
            "colorscale": [
             [
              0,
              "#0d0887"
             ],
             [
              0.1111111111111111,
              "#46039f"
             ],
             [
              0.2222222222222222,
              "#7201a8"
             ],
             [
              0.3333333333333333,
              "#9c179e"
             ],
             [
              0.4444444444444444,
              "#bd3786"
             ],
             [
              0.5555555555555556,
              "#d8576b"
             ],
             [
              0.6666666666666666,
              "#ed7953"
             ],
             [
              0.7777777777777778,
              "#fb9f3a"
             ],
             [
              0.8888888888888888,
              "#fdca26"
             ],
             [
              1,
              "#f0f921"
             ]
            ],
            "type": "contour"
           }
          ],
          "contourcarpet": [
           {
            "colorbar": {
             "outlinewidth": 0,
             "ticks": ""
            },
            "type": "contourcarpet"
           }
          ],
          "heatmap": [
           {
            "colorbar": {
             "outlinewidth": 0,
             "ticks": ""
            },
            "colorscale": [
             [
              0,
              "#0d0887"
             ],
             [
              0.1111111111111111,
              "#46039f"
             ],
             [
              0.2222222222222222,
              "#7201a8"
             ],
             [
              0.3333333333333333,
              "#9c179e"
             ],
             [
              0.4444444444444444,
              "#bd3786"
             ],
             [
              0.5555555555555556,
              "#d8576b"
             ],
             [
              0.6666666666666666,
              "#ed7953"
             ],
             [
              0.7777777777777778,
              "#fb9f3a"
             ],
             [
              0.8888888888888888,
              "#fdca26"
             ],
             [
              1,
              "#f0f921"
             ]
            ],
            "type": "heatmap"
           }
          ],
          "heatmapgl": [
           {
            "colorbar": {
             "outlinewidth": 0,
             "ticks": ""
            },
            "colorscale": [
             [
              0,
              "#0d0887"
             ],
             [
              0.1111111111111111,
              "#46039f"
             ],
             [
              0.2222222222222222,
              "#7201a8"
             ],
             [
              0.3333333333333333,
              "#9c179e"
             ],
             [
              0.4444444444444444,
              "#bd3786"
             ],
             [
              0.5555555555555556,
              "#d8576b"
             ],
             [
              0.6666666666666666,
              "#ed7953"
             ],
             [
              0.7777777777777778,
              "#fb9f3a"
             ],
             [
              0.8888888888888888,
              "#fdca26"
             ],
             [
              1,
              "#f0f921"
             ]
            ],
            "type": "heatmapgl"
           }
          ],
          "histogram": [
           {
            "marker": {
             "colorbar": {
              "outlinewidth": 0,
              "ticks": ""
             }
            },
            "type": "histogram"
           }
          ],
          "histogram2d": [
           {
            "colorbar": {
             "outlinewidth": 0,
             "ticks": ""
            },
            "colorscale": [
             [
              0,
              "#0d0887"
             ],
             [
              0.1111111111111111,
              "#46039f"
             ],
             [
              0.2222222222222222,
              "#7201a8"
             ],
             [
              0.3333333333333333,
              "#9c179e"
             ],
             [
              0.4444444444444444,
              "#bd3786"
             ],
             [
              0.5555555555555556,
              "#d8576b"
             ],
             [
              0.6666666666666666,
              "#ed7953"
             ],
             [
              0.7777777777777778,
              "#fb9f3a"
             ],
             [
              0.8888888888888888,
              "#fdca26"
             ],
             [
              1,
              "#f0f921"
             ]
            ],
            "type": "histogram2d"
           }
          ],
          "histogram2dcontour": [
           {
            "colorbar": {
             "outlinewidth": 0,
             "ticks": ""
            },
            "colorscale": [
             [
              0,
              "#0d0887"
             ],
             [
              0.1111111111111111,
              "#46039f"
             ],
             [
              0.2222222222222222,
              "#7201a8"
             ],
             [
              0.3333333333333333,
              "#9c179e"
             ],
             [
              0.4444444444444444,
              "#bd3786"
             ],
             [
              0.5555555555555556,
              "#d8576b"
             ],
             [
              0.6666666666666666,
              "#ed7953"
             ],
             [
              0.7777777777777778,
              "#fb9f3a"
             ],
             [
              0.8888888888888888,
              "#fdca26"
             ],
             [
              1,
              "#f0f921"
             ]
            ],
            "type": "histogram2dcontour"
           }
          ],
          "mesh3d": [
           {
            "colorbar": {
             "outlinewidth": 0,
             "ticks": ""
            },
            "type": "mesh3d"
           }
          ],
          "parcoords": [
           {
            "line": {
             "colorbar": {
              "outlinewidth": 0,
              "ticks": ""
             }
            },
            "type": "parcoords"
           }
          ],
          "pie": [
           {
            "automargin": true,
            "type": "pie"
           }
          ],
          "scatter": [
           {
            "marker": {
             "colorbar": {
              "outlinewidth": 0,
              "ticks": ""
             }
            },
            "type": "scatter"
           }
          ],
          "scatter3d": [
           {
            "line": {
             "colorbar": {
              "outlinewidth": 0,
              "ticks": ""
             }
            },
            "marker": {
             "colorbar": {
              "outlinewidth": 0,
              "ticks": ""
             }
            },
            "type": "scatter3d"
           }
          ],
          "scattercarpet": [
           {
            "marker": {
             "colorbar": {
              "outlinewidth": 0,
              "ticks": ""
             }
            },
            "type": "scattercarpet"
           }
          ],
          "scattergeo": [
           {
            "marker": {
             "colorbar": {
              "outlinewidth": 0,
              "ticks": ""
             }
            },
            "type": "scattergeo"
           }
          ],
          "scattergl": [
           {
            "marker": {
             "colorbar": {
              "outlinewidth": 0,
              "ticks": ""
             }
            },
            "type": "scattergl"
           }
          ],
          "scattermapbox": [
           {
            "marker": {
             "colorbar": {
              "outlinewidth": 0,
              "ticks": ""
             }
            },
            "type": "scattermapbox"
           }
          ],
          "scatterpolar": [
           {
            "marker": {
             "colorbar": {
              "outlinewidth": 0,
              "ticks": ""
             }
            },
            "type": "scatterpolar"
           }
          ],
          "scatterpolargl": [
           {
            "marker": {
             "colorbar": {
              "outlinewidth": 0,
              "ticks": ""
             }
            },
            "type": "scatterpolargl"
           }
          ],
          "scatterternary": [
           {
            "marker": {
             "colorbar": {
              "outlinewidth": 0,
              "ticks": ""
             }
            },
            "type": "scatterternary"
           }
          ],
          "surface": [
           {
            "colorbar": {
             "outlinewidth": 0,
             "ticks": ""
            },
            "colorscale": [
             [
              0,
              "#0d0887"
             ],
             [
              0.1111111111111111,
              "#46039f"
             ],
             [
              0.2222222222222222,
              "#7201a8"
             ],
             [
              0.3333333333333333,
              "#9c179e"
             ],
             [
              0.4444444444444444,
              "#bd3786"
             ],
             [
              0.5555555555555556,
              "#d8576b"
             ],
             [
              0.6666666666666666,
              "#ed7953"
             ],
             [
              0.7777777777777778,
              "#fb9f3a"
             ],
             [
              0.8888888888888888,
              "#fdca26"
             ],
             [
              1,
              "#f0f921"
             ]
            ],
            "type": "surface"
           }
          ],
          "table": [
           {
            "cells": {
             "fill": {
              "color": "#EBF0F8"
             },
             "line": {
              "color": "white"
             }
            },
            "header": {
             "fill": {
              "color": "#C8D4E3"
             },
             "line": {
              "color": "white"
             }
            },
            "type": "table"
           }
          ]
         },
         "layout": {
          "annotationdefaults": {
           "arrowcolor": "#2a3f5f",
           "arrowhead": 0,
           "arrowwidth": 1
          },
          "autotypenumbers": "strict",
          "coloraxis": {
           "colorbar": {
            "outlinewidth": 0,
            "ticks": ""
           }
          },
          "colorscale": {
           "diverging": [
            [
             0,
             "#8e0152"
            ],
            [
             0.1,
             "#c51b7d"
            ],
            [
             0.2,
             "#de77ae"
            ],
            [
             0.3,
             "#f1b6da"
            ],
            [
             0.4,
             "#fde0ef"
            ],
            [
             0.5,
             "#f7f7f7"
            ],
            [
             0.6,
             "#e6f5d0"
            ],
            [
             0.7,
             "#b8e186"
            ],
            [
             0.8,
             "#7fbc41"
            ],
            [
             0.9,
             "#4d9221"
            ],
            [
             1,
             "#276419"
            ]
           ],
           "sequential": [
            [
             0,
             "#0d0887"
            ],
            [
             0.1111111111111111,
             "#46039f"
            ],
            [
             0.2222222222222222,
             "#7201a8"
            ],
            [
             0.3333333333333333,
             "#9c179e"
            ],
            [
             0.4444444444444444,
             "#bd3786"
            ],
            [
             0.5555555555555556,
             "#d8576b"
            ],
            [
             0.6666666666666666,
             "#ed7953"
            ],
            [
             0.7777777777777778,
             "#fb9f3a"
            ],
            [
             0.8888888888888888,
             "#fdca26"
            ],
            [
             1,
             "#f0f921"
            ]
           ],
           "sequentialminus": [
            [
             0,
             "#0d0887"
            ],
            [
             0.1111111111111111,
             "#46039f"
            ],
            [
             0.2222222222222222,
             "#7201a8"
            ],
            [
             0.3333333333333333,
             "#9c179e"
            ],
            [
             0.4444444444444444,
             "#bd3786"
            ],
            [
             0.5555555555555556,
             "#d8576b"
            ],
            [
             0.6666666666666666,
             "#ed7953"
            ],
            [
             0.7777777777777778,
             "#fb9f3a"
            ],
            [
             0.8888888888888888,
             "#fdca26"
            ],
            [
             1,
             "#f0f921"
            ]
           ]
          },
          "colorway": [
           "#636efa",
           "#EF553B",
           "#00cc96",
           "#ab63fa",
           "#FFA15A",
           "#19d3f3",
           "#FF6692",
           "#B6E880",
           "#FF97FF",
           "#FECB52"
          ],
          "font": {
           "color": "#2a3f5f"
          },
          "geo": {
           "bgcolor": "white",
           "lakecolor": "white",
           "landcolor": "#E5ECF6",
           "showlakes": true,
           "showland": true,
           "subunitcolor": "white"
          },
          "hoverlabel": {
           "align": "left"
          },
          "hovermode": "closest",
          "mapbox": {
           "style": "light"
          },
          "paper_bgcolor": "white",
          "plot_bgcolor": "#E5ECF6",
          "polar": {
           "angularaxis": {
            "gridcolor": "white",
            "linecolor": "white",
            "ticks": ""
           },
           "bgcolor": "#E5ECF6",
           "radialaxis": {
            "gridcolor": "white",
            "linecolor": "white",
            "ticks": ""
           }
          },
          "scene": {
           "xaxis": {
            "backgroundcolor": "#E5ECF6",
            "gridcolor": "white",
            "gridwidth": 2,
            "linecolor": "white",
            "showbackground": true,
            "ticks": "",
            "zerolinecolor": "white"
           },
           "yaxis": {
            "backgroundcolor": "#E5ECF6",
            "gridcolor": "white",
            "gridwidth": 2,
            "linecolor": "white",
            "showbackground": true,
            "ticks": "",
            "zerolinecolor": "white"
           },
           "zaxis": {
            "backgroundcolor": "#E5ECF6",
            "gridcolor": "white",
            "gridwidth": 2,
            "linecolor": "white",
            "showbackground": true,
            "ticks": "",
            "zerolinecolor": "white"
           }
          },
          "shapedefaults": {
           "line": {
            "color": "#2a3f5f"
           }
          },
          "ternary": {
           "aaxis": {
            "gridcolor": "white",
            "linecolor": "white",
            "ticks": ""
           },
           "baxis": {
            "gridcolor": "white",
            "linecolor": "white",
            "ticks": ""
           },
           "bgcolor": "#E5ECF6",
           "caxis": {
            "gridcolor": "white",
            "linecolor": "white",
            "ticks": ""
           }
          },
          "title": {
           "x": 0.05
          },
          "xaxis": {
           "automargin": true,
           "gridcolor": "white",
           "linecolor": "white",
           "ticks": "",
           "title": {
            "standoff": 15
           },
           "zerolinecolor": "white",
           "zerolinewidth": 2
          },
          "yaxis": {
           "automargin": true,
           "gridcolor": "white",
           "linecolor": "white",
           "ticks": "",
           "title": {
            "standoff": 15
           },
           "zerolinecolor": "white",
           "zerolinewidth": 2
          }
         }
        },
        "xaxis": {
         "anchor": "y",
         "domain": [
          0,
          1
         ],
         "matches": "x2",
         "showticklabels": false
        },
        "xaxis2": {
         "anchor": "y2",
         "domain": [
          0,
          1
         ],
         "title": {
          "text": "batches"
         }
        },
        "yaxis": {
         "anchor": "x",
         "domain": [
          0.55,
          1
         ],
         "title": {
          "text": "Stability"
         }
        },
        "yaxis2": {
         "anchor": "x2",
         "domain": [
          0,
          0.45
         ],
         "title": {
          "text": "RMSE"
         }
        }
       }
      }
     },
     "metadata": {}
    }
   ],
   "source": [
    "fig = make_subplots(rows=2, cols=1, shared_xaxes=True, vertical_spacing=0.1) # subplot_titles=(\"Stability\",\"Accuracy\", \"F1-Score\"),\n",
    "for i in range(len(stability_trace)):\n",
    "    stability_trace[i][\"showlegend\"] = False\n",
    "    if stability_trace[i][\"name\"] == \"FIRES\":\n",
    "        trace = stability_trace[i]\n",
    "    else:\n",
    "        fig.add_trace(stability_trace[i], row=1, col=1)\n",
    "fig.add_trace(trace, row=1, col=1)\n",
    "for i in range(len(rmse_trace)):\n",
    "    if rmse_trace[i][\"name\"] == \"FIRES\":\n",
    "        trace = rmse_trace[i]\n",
    "    else:\n",
    "        fig.add_trace(rmse_trace[i], row=2, col=1)\n",
    "fig.add_trace(trace, row=2, col=1)\n",
    "fig.update_xaxes(title_text=\"batches\", row=2, col=1)\n",
    "fig.update_yaxes(title_text=\"Stability\", row=1, col=1)\n",
    "fig.update_yaxes(title_text=\"RMSE\", row=2, col=1)\n",
    "\n",
    "fig.write_image(\"{}/all_scores_{}.{}\".format(folder, dataset_name, export_type))\n",
    "fig.show()"
   ]
  },
  {
   "cell_type": "code",
   "execution_count": 68,
   "metadata": {},
   "outputs": [
    {
     "output_type": "display_data",
     "data": {
      "application/vnd.plotly.v1+json": {
       "config": {
        "plotlyServerURL": "https://plot.ly"
       },
       "data": [
        {
         "alignmentgroup": "True",
         "hovertemplate": "color=FIRES<br>=%{x}<br>s=%{y}<extra></extra>",
         "legendgroup": "FIRES",
         "marker": {
          "color": "red"
         },
         "name": "FIRES",
         "offsetgroup": "FIRES",
         "orientation": "v",
         "showlegend": true,
         "textposition": "auto",
         "type": "bar",
         "x": [
          "FIRES"
         ],
         "xaxis": "x",
         "y": [
          8.39037617799977
         ],
         "yaxis": "y"
        },
        {
         "alignmentgroup": "True",
         "hovertemplate": "color=SGDR<br>=%{x}<br>s=%{y}<extra></extra>",
         "legendgroup": "SGDR",
         "marker": {
          "color": "blue"
         },
         "name": "SGDR",
         "offsetgroup": "SGDR",
         "orientation": "v",
         "showlegend": true,
         "textposition": "auto",
         "type": "bar",
         "x": [
          "SGDR"
         ],
         "xaxis": "x",
         "y": [
          0.46406184800025585
         ],
         "yaxis": "y"
        }
       ],
       "layout": {
        "barmode": "relative",
        "legend": {
         "title": {
          "text": "color"
         },
         "tracegroupgap": 0
        },
        "template": {
         "data": {
          "bar": [
           {
            "error_x": {
             "color": "#2a3f5f"
            },
            "error_y": {
             "color": "#2a3f5f"
            },
            "marker": {
             "line": {
              "color": "#E5ECF6",
              "width": 0.5
             }
            },
            "type": "bar"
           }
          ],
          "barpolar": [
           {
            "marker": {
             "line": {
              "color": "#E5ECF6",
              "width": 0.5
             }
            },
            "type": "barpolar"
           }
          ],
          "carpet": [
           {
            "aaxis": {
             "endlinecolor": "#2a3f5f",
             "gridcolor": "white",
             "linecolor": "white",
             "minorgridcolor": "white",
             "startlinecolor": "#2a3f5f"
            },
            "baxis": {
             "endlinecolor": "#2a3f5f",
             "gridcolor": "white",
             "linecolor": "white",
             "minorgridcolor": "white",
             "startlinecolor": "#2a3f5f"
            },
            "type": "carpet"
           }
          ],
          "choropleth": [
           {
            "colorbar": {
             "outlinewidth": 0,
             "ticks": ""
            },
            "type": "choropleth"
           }
          ],
          "contour": [
           {
            "colorbar": {
             "outlinewidth": 0,
             "ticks": ""
            },
            "colorscale": [
             [
              0,
              "#0d0887"
             ],
             [
              0.1111111111111111,
              "#46039f"
             ],
             [
              0.2222222222222222,
              "#7201a8"
             ],
             [
              0.3333333333333333,
              "#9c179e"
             ],
             [
              0.4444444444444444,
              "#bd3786"
             ],
             [
              0.5555555555555556,
              "#d8576b"
             ],
             [
              0.6666666666666666,
              "#ed7953"
             ],
             [
              0.7777777777777778,
              "#fb9f3a"
             ],
             [
              0.8888888888888888,
              "#fdca26"
             ],
             [
              1,
              "#f0f921"
             ]
            ],
            "type": "contour"
           }
          ],
          "contourcarpet": [
           {
            "colorbar": {
             "outlinewidth": 0,
             "ticks": ""
            },
            "type": "contourcarpet"
           }
          ],
          "heatmap": [
           {
            "colorbar": {
             "outlinewidth": 0,
             "ticks": ""
            },
            "colorscale": [
             [
              0,
              "#0d0887"
             ],
             [
              0.1111111111111111,
              "#46039f"
             ],
             [
              0.2222222222222222,
              "#7201a8"
             ],
             [
              0.3333333333333333,
              "#9c179e"
             ],
             [
              0.4444444444444444,
              "#bd3786"
             ],
             [
              0.5555555555555556,
              "#d8576b"
             ],
             [
              0.6666666666666666,
              "#ed7953"
             ],
             [
              0.7777777777777778,
              "#fb9f3a"
             ],
             [
              0.8888888888888888,
              "#fdca26"
             ],
             [
              1,
              "#f0f921"
             ]
            ],
            "type": "heatmap"
           }
          ],
          "heatmapgl": [
           {
            "colorbar": {
             "outlinewidth": 0,
             "ticks": ""
            },
            "colorscale": [
             [
              0,
              "#0d0887"
             ],
             [
              0.1111111111111111,
              "#46039f"
             ],
             [
              0.2222222222222222,
              "#7201a8"
             ],
             [
              0.3333333333333333,
              "#9c179e"
             ],
             [
              0.4444444444444444,
              "#bd3786"
             ],
             [
              0.5555555555555556,
              "#d8576b"
             ],
             [
              0.6666666666666666,
              "#ed7953"
             ],
             [
              0.7777777777777778,
              "#fb9f3a"
             ],
             [
              0.8888888888888888,
              "#fdca26"
             ],
             [
              1,
              "#f0f921"
             ]
            ],
            "type": "heatmapgl"
           }
          ],
          "histogram": [
           {
            "marker": {
             "colorbar": {
              "outlinewidth": 0,
              "ticks": ""
             }
            },
            "type": "histogram"
           }
          ],
          "histogram2d": [
           {
            "colorbar": {
             "outlinewidth": 0,
             "ticks": ""
            },
            "colorscale": [
             [
              0,
              "#0d0887"
             ],
             [
              0.1111111111111111,
              "#46039f"
             ],
             [
              0.2222222222222222,
              "#7201a8"
             ],
             [
              0.3333333333333333,
              "#9c179e"
             ],
             [
              0.4444444444444444,
              "#bd3786"
             ],
             [
              0.5555555555555556,
              "#d8576b"
             ],
             [
              0.6666666666666666,
              "#ed7953"
             ],
             [
              0.7777777777777778,
              "#fb9f3a"
             ],
             [
              0.8888888888888888,
              "#fdca26"
             ],
             [
              1,
              "#f0f921"
             ]
            ],
            "type": "histogram2d"
           }
          ],
          "histogram2dcontour": [
           {
            "colorbar": {
             "outlinewidth": 0,
             "ticks": ""
            },
            "colorscale": [
             [
              0,
              "#0d0887"
             ],
             [
              0.1111111111111111,
              "#46039f"
             ],
             [
              0.2222222222222222,
              "#7201a8"
             ],
             [
              0.3333333333333333,
              "#9c179e"
             ],
             [
              0.4444444444444444,
              "#bd3786"
             ],
             [
              0.5555555555555556,
              "#d8576b"
             ],
             [
              0.6666666666666666,
              "#ed7953"
             ],
             [
              0.7777777777777778,
              "#fb9f3a"
             ],
             [
              0.8888888888888888,
              "#fdca26"
             ],
             [
              1,
              "#f0f921"
             ]
            ],
            "type": "histogram2dcontour"
           }
          ],
          "mesh3d": [
           {
            "colorbar": {
             "outlinewidth": 0,
             "ticks": ""
            },
            "type": "mesh3d"
           }
          ],
          "parcoords": [
           {
            "line": {
             "colorbar": {
              "outlinewidth": 0,
              "ticks": ""
             }
            },
            "type": "parcoords"
           }
          ],
          "pie": [
           {
            "automargin": true,
            "type": "pie"
           }
          ],
          "scatter": [
           {
            "marker": {
             "colorbar": {
              "outlinewidth": 0,
              "ticks": ""
             }
            },
            "type": "scatter"
           }
          ],
          "scatter3d": [
           {
            "line": {
             "colorbar": {
              "outlinewidth": 0,
              "ticks": ""
             }
            },
            "marker": {
             "colorbar": {
              "outlinewidth": 0,
              "ticks": ""
             }
            },
            "type": "scatter3d"
           }
          ],
          "scattercarpet": [
           {
            "marker": {
             "colorbar": {
              "outlinewidth": 0,
              "ticks": ""
             }
            },
            "type": "scattercarpet"
           }
          ],
          "scattergeo": [
           {
            "marker": {
             "colorbar": {
              "outlinewidth": 0,
              "ticks": ""
             }
            },
            "type": "scattergeo"
           }
          ],
          "scattergl": [
           {
            "marker": {
             "colorbar": {
              "outlinewidth": 0,
              "ticks": ""
             }
            },
            "type": "scattergl"
           }
          ],
          "scattermapbox": [
           {
            "marker": {
             "colorbar": {
              "outlinewidth": 0,
              "ticks": ""
             }
            },
            "type": "scattermapbox"
           }
          ],
          "scatterpolar": [
           {
            "marker": {
             "colorbar": {
              "outlinewidth": 0,
              "ticks": ""
             }
            },
            "type": "scatterpolar"
           }
          ],
          "scatterpolargl": [
           {
            "marker": {
             "colorbar": {
              "outlinewidth": 0,
              "ticks": ""
             }
            },
            "type": "scatterpolargl"
           }
          ],
          "scatterternary": [
           {
            "marker": {
             "colorbar": {
              "outlinewidth": 0,
              "ticks": ""
             }
            },
            "type": "scatterternary"
           }
          ],
          "surface": [
           {
            "colorbar": {
             "outlinewidth": 0,
             "ticks": ""
            },
            "colorscale": [
             [
              0,
              "#0d0887"
             ],
             [
              0.1111111111111111,
              "#46039f"
             ],
             [
              0.2222222222222222,
              "#7201a8"
             ],
             [
              0.3333333333333333,
              "#9c179e"
             ],
             [
              0.4444444444444444,
              "#bd3786"
             ],
             [
              0.5555555555555556,
              "#d8576b"
             ],
             [
              0.6666666666666666,
              "#ed7953"
             ],
             [
              0.7777777777777778,
              "#fb9f3a"
             ],
             [
              0.8888888888888888,
              "#fdca26"
             ],
             [
              1,
              "#f0f921"
             ]
            ],
            "type": "surface"
           }
          ],
          "table": [
           {
            "cells": {
             "fill": {
              "color": "#EBF0F8"
             },
             "line": {
              "color": "white"
             }
            },
            "header": {
             "fill": {
              "color": "#C8D4E3"
             },
             "line": {
              "color": "white"
             }
            },
            "type": "table"
           }
          ]
         },
         "layout": {
          "annotationdefaults": {
           "arrowcolor": "#2a3f5f",
           "arrowhead": 0,
           "arrowwidth": 1
          },
          "autotypenumbers": "strict",
          "coloraxis": {
           "colorbar": {
            "outlinewidth": 0,
            "ticks": ""
           }
          },
          "colorscale": {
           "diverging": [
            [
             0,
             "#8e0152"
            ],
            [
             0.1,
             "#c51b7d"
            ],
            [
             0.2,
             "#de77ae"
            ],
            [
             0.3,
             "#f1b6da"
            ],
            [
             0.4,
             "#fde0ef"
            ],
            [
             0.5,
             "#f7f7f7"
            ],
            [
             0.6,
             "#e6f5d0"
            ],
            [
             0.7,
             "#b8e186"
            ],
            [
             0.8,
             "#7fbc41"
            ],
            [
             0.9,
             "#4d9221"
            ],
            [
             1,
             "#276419"
            ]
           ],
           "sequential": [
            [
             0,
             "#0d0887"
            ],
            [
             0.1111111111111111,
             "#46039f"
            ],
            [
             0.2222222222222222,
             "#7201a8"
            ],
            [
             0.3333333333333333,
             "#9c179e"
            ],
            [
             0.4444444444444444,
             "#bd3786"
            ],
            [
             0.5555555555555556,
             "#d8576b"
            ],
            [
             0.6666666666666666,
             "#ed7953"
            ],
            [
             0.7777777777777778,
             "#fb9f3a"
            ],
            [
             0.8888888888888888,
             "#fdca26"
            ],
            [
             1,
             "#f0f921"
            ]
           ],
           "sequentialminus": [
            [
             0,
             "#0d0887"
            ],
            [
             0.1111111111111111,
             "#46039f"
            ],
            [
             0.2222222222222222,
             "#7201a8"
            ],
            [
             0.3333333333333333,
             "#9c179e"
            ],
            [
             0.4444444444444444,
             "#bd3786"
            ],
            [
             0.5555555555555556,
             "#d8576b"
            ],
            [
             0.6666666666666666,
             "#ed7953"
            ],
            [
             0.7777777777777778,
             "#fb9f3a"
            ],
            [
             0.8888888888888888,
             "#fdca26"
            ],
            [
             1,
             "#f0f921"
            ]
           ]
          },
          "colorway": [
           "#636efa",
           "#EF553B",
           "#00cc96",
           "#ab63fa",
           "#FFA15A",
           "#19d3f3",
           "#FF6692",
           "#B6E880",
           "#FF97FF",
           "#FECB52"
          ],
          "font": {
           "color": "#2a3f5f"
          },
          "geo": {
           "bgcolor": "white",
           "lakecolor": "white",
           "landcolor": "#E5ECF6",
           "showlakes": true,
           "showland": true,
           "subunitcolor": "white"
          },
          "hoverlabel": {
           "align": "left"
          },
          "hovermode": "closest",
          "mapbox": {
           "style": "light"
          },
          "paper_bgcolor": "white",
          "plot_bgcolor": "#E5ECF6",
          "polar": {
           "angularaxis": {
            "gridcolor": "white",
            "linecolor": "white",
            "ticks": ""
           },
           "bgcolor": "#E5ECF6",
           "radialaxis": {
            "gridcolor": "white",
            "linecolor": "white",
            "ticks": ""
           }
          },
          "scene": {
           "xaxis": {
            "backgroundcolor": "#E5ECF6",
            "gridcolor": "white",
            "gridwidth": 2,
            "linecolor": "white",
            "showbackground": true,
            "ticks": "",
            "zerolinecolor": "white"
           },
           "yaxis": {
            "backgroundcolor": "#E5ECF6",
            "gridcolor": "white",
            "gridwidth": 2,
            "linecolor": "white",
            "showbackground": true,
            "ticks": "",
            "zerolinecolor": "white"
           },
           "zaxis": {
            "backgroundcolor": "#E5ECF6",
            "gridcolor": "white",
            "gridwidth": 2,
            "linecolor": "white",
            "showbackground": true,
            "ticks": "",
            "zerolinecolor": "white"
           }
          },
          "shapedefaults": {
           "line": {
            "color": "#2a3f5f"
           }
          },
          "ternary": {
           "aaxis": {
            "gridcolor": "white",
            "linecolor": "white",
            "ticks": ""
           },
           "baxis": {
            "gridcolor": "white",
            "linecolor": "white",
            "ticks": ""
           },
           "bgcolor": "#E5ECF6",
           "caxis": {
            "gridcolor": "white",
            "linecolor": "white",
            "ticks": ""
           }
          },
          "title": {
           "x": 0.05
          },
          "xaxis": {
           "automargin": true,
           "gridcolor": "white",
           "linecolor": "white",
           "ticks": "",
           "title": {
            "standoff": 15
           },
           "zerolinecolor": "white",
           "zerolinewidth": 2
          },
          "yaxis": {
           "automargin": true,
           "gridcolor": "white",
           "linecolor": "white",
           "ticks": "",
           "title": {
            "standoff": 15
           },
           "zerolinecolor": "white",
           "zerolinewidth": 2
          }
         }
        },
        "title": {
         "text": "Runtime"
        },
        "xaxis": {
         "anchor": "y",
         "domain": [
          0,
          1
         ],
         "title": {
          "text": ""
         }
        },
        "yaxis": {
         "anchor": "x",
         "domain": [
          0,
          1
         ],
         "title": {
          "text": "s"
         }
        }
       }
      }
     },
     "metadata": {}
    }
   ],
   "source": [
    "col_names = [\"FIRES\", \"SGDR\" ]\n",
    "values = [fires_run_time, sgdr_run_time]\n",
    "fig = px.bar(x=col_names, y=values, title=\"Runtime\", labels={\"y\":\"s\", \"x\":\"\"}, color=col_names, color_discrete_map={'FIRES': 'red', \"SGDR\": \"blue\"})\n",
    "with open(\"{}/runtime.csv\".format(folder),\"a\") as outfile:\n",
    "    outfile.write(\"{},{}\\n\".format( values[0],values[1]) )\n",
    "fig.show()\n"
   ]
  },
  {
   "cell_type": "code",
   "execution_count": 69,
   "metadata": {},
   "outputs": [],
   "source": [
    "values = [pure_rmse_test, fires_mse_test, sgdr_mse_test, random_rmse_test]\n",
    "with open(\"{}/rmse.csv\".format(folder),\"a\") as outfile:\n",
    "    outfile.write(\"{},{},{},{}\\n\".format( values[0],values[1], values[2], values[3]))\n"
   ]
  },
  {
   "cell_type": "code",
   "execution_count": null,
   "metadata": {},
   "outputs": [],
   "source": []
  }
 ]
}