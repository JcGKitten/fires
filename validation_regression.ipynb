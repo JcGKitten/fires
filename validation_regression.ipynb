{
 "metadata": {
  "language_info": {
   "codemirror_mode": {
    "name": "ipython",
    "version": 3
   },
   "file_extension": ".py",
   "mimetype": "text/x-python",
   "name": "python",
   "nbconvert_exporter": "python",
   "pygments_lexer": "ipython3",
   "version": "3.8.5-final"
  },
  "orig_nbformat": 2,
  "kernelspec": {
   "name": "python3",
   "display_name": "Python 3",
   "language": "python"
  }
 },
 "nbformat": 4,
 "nbformat_minor": 2,
 "cells": [
  {
   "source": [
    "## Regression Data\n",
    "The FIRES Model can't be compared to a real datastream algorithm, instead the SGDRegressor form scikit learn"
   ],
   "cell_type": "markdown",
   "metadata": {}
  },
  {
   "cell_type": "code",
   "execution_count": 1,
   "metadata": {},
   "outputs": [],
   "source": [
    "# import the functions needed for validate and comparsion\n",
    "\n",
    "import numpy as np\n",
    "import cupy as cp\n",
    "import pandas as pd\n",
    "from timeit import default_timer as timer\n",
    "import os\n",
    "\n",
    "from sklearn.model_selection import train_test_split\n",
    "#mean_squared_error: mse squared=true, rmse squared=false\n",
    "from sklearn.metrics import mean_squared_error, r2_score, mean_absolute_error\n",
    "from skmultiflow.data import FileStream\n",
    "from sklearn.linear_model import SGDRegressor\n",
    "from skmultiflow.data.regression_generator import RegressionGenerator\n",
    "\n",
    "\n",
    "# using plotly for plots\n",
    "import plotly.express as px\n",
    "from plotly.subplots import make_subplots\n"
   ]
  },
  {
   "cell_type": "code",
   "execution_count": 2,
   "metadata": {},
   "outputs": [],
   "source": [
    "from fires import FIRES"
   ]
  },
  {
   "cell_type": "code",
   "execution_count": 3,
   "metadata": {},
   "outputs": [],
   "source": [
    "# stability measurment as proposed in \"Measurment the Stability of Feature Selection\"\n",
    "\n",
    "# TODO: check for case where nothing changes\n",
    "\n",
    "\n",
    "def pearson_stability_ij(arr1,arr2):\n",
    "    d = len(arr1)\n",
    "    k_i = np.sum(arr1)\n",
    "    k_j = np.sum(arr2)\n",
    "\n",
    "    # catch edge cases as proposed in the paper under 4.1\n",
    "    if (k_i == 0 or k_i == d) and k_i != k_j :\n",
    "        return 0\n",
    "    elif (k_j == 0 or k_j == d) and k_i != k_j :\n",
    "        return 0\n",
    "    elif (k_i == 0 or k_i == d) and k_i == k_j :\n",
    "        return 1\n",
    "    x_hat_i = k_i / d\n",
    "    x_hat_j = k_j / d\n",
    "    arr1 = arr1 - x_hat_i\n",
    "    arr2 = arr2 - x_hat_j\n",
    "    dividend = 1/d * np.sum(arr1*arr2)\n",
    "    divisor = np.sqrt(1/d*np.sum(arr1**2))*np.sqrt(1/d*np.sum(arr2**2))\n",
    "    return dividend/divisor\n",
    "\n",
    "def stability_factor(selected_ftrs):\n",
    "   M = len(selected_ftrs)\n",
    "   sum_stabilities = 0\n",
    "   for i in range(M):\n",
    "       for j in range(i+1, M):\n",
    "           sum_stabilities += pearson_stability_ij(selected_ftrs[i], selected_ftrs[j])\n",
    "   return 1/(M*(M-1))*sum_stabilities * 2   "
   ]
  },
  {
   "source": [
    "### Load Datasets as Streaming Data"
   ],
   "cell_type": "markdown",
   "metadata": {}
  },
  {
   "cell_type": "code",
   "execution_count": 4,
   "metadata": {},
   "outputs": [
    {
     "output_type": "stream",
     "name": "stderr",
     "text": [
      "/home/kitten/anaconda3/lib/python3.8/site-packages/skmultiflow/data/base_stream.py:191: FutureWarning: 'prepare_for_use' has been deprecated in v0.5.0 and will be removed in v0.7.0.\nNew instances of the Stream class are now ready to use after instantiation.\n  warnings.warn(\n"
     ]
    }
   ],
   "source": [
    "stream = FileStream('datasets/Regression/ailerons_norm.csv', target_idx=40)\n",
    "stream.prepare_for_use()\n",
    "dataset_name = \"ailerons_norm\"\n",
    "n_selected_ftr = 10\n",
    "\n",
    "# load test data\n",
    "test_data = pd.read_csv('datasets/Regression/ailerons_test_norm.csv', header=None)\n",
    "test_y = test_data[40].to_numpy()\n",
    "test_x = test_data.drop(columns=40).to_numpy()"
   ]
  },
  {
   "cell_type": "code",
   "execution_count": 39,
   "metadata": {},
   "outputs": [
    {
     "output_type": "stream",
     "name": "stderr",
     "text": [
      "/home/kitten/anaconda3/lib/python3.8/site-packages/skmultiflow/data/base_stream.py:191: FutureWarning:\n\n'prepare_for_use' has been deprecated in v0.5.0 and will be removed in v0.7.0.\nNew instances of the Stream class are now ready to use after instantiation.\n\n"
     ]
    }
   ],
   "source": [
    "# normalized data\n",
    "stream = FileStream('datasets/Regression/dataset_1_norm_train.csv', target_idx=150)\n",
    "stream.prepare_for_use()\n",
    "dataset_name = \"dataset_1_normalized\"\n",
    "n_selected_ftr = 38 #25 are informative\n",
    "\n",
    "# load test data\n",
    "test_data = pd.read_csv('datasets/Regression/dataset_1_norm_test.csv')\n",
    "test_x = test_data.drop(columns=\"y\").to_numpy()\n",
    "test_y = test_data[\"y\"].to_numpy()"
   ]
  },
  {
   "cell_type": "code",
   "execution_count": 40,
   "metadata": {},
   "outputs": [],
   "source": [
    "# prepare folder for plots\n",
    "folder = \"plots/regression/{}\".format(dataset_name)\n",
    "if not os.path.exists(folder):\n",
    "    os.makedirs(folder)\n",
    "\n",
    "export_type = \"pdf\" # \"png\", \"jpeg\", \"webp\", \"pdf\", \"svg\""
   ]
  },
  {
   "source": [
    "### Without FS"
   ],
   "cell_type": "markdown",
   "metadata": {}
  },
  {
   "cell_type": "code",
   "execution_count": 41,
   "metadata": {},
   "outputs": [
    {
     "output_type": "execute_result",
     "data": {
      "text/plain": [
       "SGDRegressor()"
      ]
     },
     "metadata": {},
     "execution_count": 41
    }
   ],
   "source": [
    "stream.restart()\n",
    "predictor = SGDRegressor()\n",
    "X, y = stream.next_sample(batch_size=100)\n",
    "predictor.partial_fit(X,y)"
   ]
  },
  {
   "cell_type": "code",
   "execution_count": 42,
   "metadata": {},
   "outputs": [],
   "source": [
    "pure_rmse = []\n",
    "while stream.has_more_samples():\n",
    "    x, y = stream.next_sample(batch_size=100)\n",
    "\n",
    "    # Test\n",
    "    y_pred = predictor.predict(x)\n",
    "    \n",
    "    pure_rmse.append(mean_squared_error(y, y_pred, squared=False))\n",
    "\n",
    "    # Train\n",
    "    predictor.partial_fit(x, y)\n",
    "\n",
    "\n",
    "y_pred = predictor.predict(test_x)\n",
    "pure_rmse_test = mean_squared_error(test_y, y_pred, squared=False)"
   ]
  },
  {
   "source": [
    "### FIRES for Regression"
   ],
   "cell_type": "markdown",
   "metadata": {}
  },
  {
   "cell_type": "code",
   "execution_count": 43,
   "metadata": {},
   "outputs": [
    {
     "output_type": "execute_result",
     "data": {
      "text/plain": [
       "SGDRegressor()"
      ]
     },
     "metadata": {},
     "execution_count": 43
    }
   ],
   "source": [
    "# use SGDRegressor as predictor\n",
    "stream.restart()\n",
    "predictor = SGDRegressor()\n",
    "X, y = stream.next_sample(batch_size=100)\n",
    "predictor.partial_fit(X,y)"
   ]
  },
  {
   "cell_type": "code",
   "execution_count": 44,
   "metadata": {},
   "outputs": [],
   "source": [
    "fires_model = FIRES(n_total_ftr=stream.n_features,\n",
    "                    target_values=None,\n",
    "                    mu_init=0,\n",
    "                    sigma_init=1,\n",
    "                    model='regression')  "
   ]
  },
  {
   "cell_type": "code",
   "execution_count": 45,
   "metadata": {},
   "outputs": [
    {
     "output_type": "stream",
     "name": "stdout",
     "text": [
      "The whole fires run took 8.300105691999988\n"
     ]
    }
   ],
   "source": [
    "fires_mse = []\n",
    "fires_rmse = []\n",
    "fires_msa = []\n",
    "fires_r2 = []\n",
    "fires_times = []\n",
    "\n",
    "fires_selected_ftrs = []\n",
    "fires_stability = [0,0,0,0,0,0,0,0,0,0]\n",
    "\n",
    "start_time_all = timer()\n",
    "while stream.has_more_samples():\n",
    "    # Load a new sample\n",
    "    x, y = stream.next_sample(batch_size=100)\n",
    "    # Select features\n",
    "    start_time = timer()\n",
    "    ftr_weights = fires_model.weigh_features(x,y)\n",
    "    ftr_selection = np.argsort(ftr_weights)[::-1][:n_selected_ftr]\n",
    "    fires_times.append(timer()-start_time)\n",
    "\n",
    "    # Truncate x (retain only selected features, 'remove' all others, e.g. by replacing them with 0)\n",
    "    x_reduced = np.zeros(x.shape)\n",
    "    x_reduced[:, ftr_selection] = x[:, ftr_selection]\n",
    "\n",
    "    # stability test\n",
    "    ftr_array = np.zeros(stream.n_features)\n",
    "    ftr_array[ftr_selection] = 1\n",
    "    fires_selected_ftrs.append(ftr_array)\n",
    "\n",
    "    if len(fires_selected_ftrs) >= 10:\n",
    "        stability = stability_factor(fires_selected_ftrs[-10:])\n",
    "        fires_stability.append(stability)\n",
    "\n",
    "\n",
    "    # Test\n",
    "    y_pred = predictor.predict(x_reduced)\n",
    "    \n",
    "    fires_mse.append(mean_squared_error(y, y_pred, squared=True))\n",
    "    fires_rmse.append(mean_squared_error(y, y_pred, squared=False))\n",
    "    fires_r2.append(r2_score(y,y_pred))\n",
    "    \n",
    "\n",
    "\n",
    "    # Train\n",
    "    predictor.partial_fit(x_reduced, y)\n",
    "\n",
    "# Restart the FileStream\n",
    "end_time_all = timer()\n",
    "fires_run_time = timer() - start_time_all\n",
    "print(\"The whole fires run took {}\".format(fires_run_time))\n"
   ]
  },
  {
   "cell_type": "code",
   "execution_count": 46,
   "metadata": {},
   "outputs": [
    {
     "output_type": "stream",
     "name": "stdout",
     "text": [
      "For the test dataset the previous trained predictor reached: 0.4647354665564956\n"
     ]
    }
   ],
   "source": [
    "y_pred = predictor.predict(test_x)\n",
    "fires_mse_test = mean_squared_error(test_y, y_pred, squared=False)\n",
    "print(\"For the test dataset the previous trained predictor reached: {}\".format(fires_mse_test))"
   ]
  },
  {
   "source": [
    "### Feature selection via SGDRegressor\n"
   ],
   "cell_type": "markdown",
   "metadata": {}
  },
  {
   "cell_type": "code",
   "execution_count": 47,
   "metadata": {},
   "outputs": [
    {
     "output_type": "execute_result",
     "data": {
      "text/plain": [
       "SGDRegressor()"
      ]
     },
     "metadata": {},
     "execution_count": 47
    }
   ],
   "source": [
    "# use SGDRegressor as predictor\n",
    "stream.restart()\n",
    "predictor = SGDRegressor()\n",
    "X, y = stream.next_sample(batch_size=100)\n",
    "predictor.partial_fit(X,y)"
   ]
  },
  {
   "cell_type": "code",
   "execution_count": 48,
   "metadata": {},
   "outputs": [],
   "source": [
    "sgdr_model = SGDRegressor(penalty=\"l1\") #penalty could be elasticnet as well\n",
    "#n_selectey_ftrs?"
   ]
  },
  {
   "cell_type": "code",
   "execution_count": 49,
   "metadata": {},
   "outputs": [
    {
     "output_type": "stream",
     "name": "stdout",
     "text": [
      "The whole sgdr run took 0.4826271330000509\n"
     ]
    }
   ],
   "source": [
    "sgdr_mse = []\n",
    "sgdr_rmse = []\n",
    "sgdr_mae = []\n",
    "sgdr_r2 = []\n",
    "\n",
    "sgdr_times = []\n",
    "\n",
    "sgdr_selected_ftrs = []\n",
    "sgdr_stability = [0,0,0,0,0,0,0,0,0,0]\n",
    "\n",
    "start_time_all = timer()\n",
    "while stream.has_more_samples():\n",
    "    # Load a new sample\n",
    "    x, y = stream.next_sample(batch_size=100)\n",
    "    # Select features\n",
    "    start_time = timer()\n",
    "    sgdr_model.partial_fit(x,y)\n",
    "    ftr_weights = sgdr_model.coef_\n",
    "    ftr_selection = np.argsort(ftr_weights)[::-1][:n_selected_ftr]\n",
    "    sgdr_times.append(timer()-start_time)\n",
    "\n",
    "    # Truncate x (retain only selected features, 'remove' all others, e.g. by replacing them with 0)\n",
    "    x_reduced = np.zeros(x.shape)\n",
    "    x_reduced[:, ftr_selection] = x[:, ftr_selection]\n",
    "\n",
    "    # stability test\n",
    "    ftr_array = np.zeros(stream.n_features)\n",
    "    ftr_array[ftr_selection] = 1\n",
    "    sgdr_selected_ftrs.append(ftr_array)\n",
    "\n",
    "    if len(sgdr_selected_ftrs) >= 10:\n",
    "        stability = stability_factor(sgdr_selected_ftrs[-10:])\n",
    "        sgdr_stability.append(stability)\n",
    "\n",
    "\n",
    "    # Test\n",
    "    y_pred = predictor.predict(x_reduced)\n",
    "    \n",
    "    sgdr_mse.append(mean_squared_error(y, y_pred))\n",
    "    sgdr_rmse.append(mean_squared_error(y, y_pred, squared=False))\n",
    "    sgdr_r2.append(r2_score(y,y_pred))\n",
    "\n",
    "    \n",
    "\n",
    "\n",
    "    # Train\n",
    "    predictor.partial_fit(x_reduced, y)\n",
    "\n",
    "# Restart the FileStream\n",
    "end_time_all = timer()\n",
    "sgdr_run_time = timer() - start_time_all\n",
    "print(\"The whole sgdr run took {}\".format(sgdr_run_time))\n",
    "stream.restart()"
   ]
  },
  {
   "cell_type": "code",
   "execution_count": 50,
   "metadata": {},
   "outputs": [
    {
     "output_type": "stream",
     "name": "stdout",
     "text": [
      "For the test dataset the previous trained predictor reached: 0.4397750396138241\n"
     ]
    }
   ],
   "source": [
    "y_pred = predictor.predict(test_x)\n",
    "sgdr_mse_test = mean_squared_error(test_y, y_pred, squared=False)\n",
    "print(\"For the test dataset the previous trained predictor reached: {}\".format(sgdr_mse_test))"
   ]
  },
  {
   "source": [
    "### Random FS\n"
   ],
   "cell_type": "markdown",
   "metadata": {}
  },
  {
   "cell_type": "code",
   "execution_count": 51,
   "metadata": {},
   "outputs": [
    {
     "output_type": "execute_result",
     "data": {
      "text/plain": [
       "SGDRegressor()"
      ]
     },
     "metadata": {},
     "execution_count": 51
    }
   ],
   "source": [
    "stream.restart()\n",
    "predictor = SGDRegressor()\n",
    "X, y = stream.next_sample(batch_size=100)\n",
    "predictor.partial_fit(X,y)"
   ]
  },
  {
   "cell_type": "code",
   "execution_count": 52,
   "metadata": {},
   "outputs": [],
   "source": [
    "random_rmse = []\n",
    "\n",
    "while stream.has_more_samples():\n",
    "    # Load a new sample\n",
    "    x, y = stream.next_sample(batch_size=100)\n",
    "\n",
    "    \n",
    "    # select features\n",
    "    ftr_selection = np.random.choice(len(x[0]), n_selected_ftr)\n",
    "\n",
    "    # Truncate x (retain only selected features, 'remove' all others, e.g. by replacing them with 0)\n",
    "    x_reduced = np.zeros(x.shape)\n",
    "    x_reduced[:, ftr_selection] = x[:, ftr_selection]\n",
    "\n",
    "\n",
    "    # Test\n",
    "    y_pred = predictor.predict(x_reduced)\n",
    "\n",
    "    random_rmse.append(mean_squared_error(y, y_pred, squared=False))\n",
    "    \n",
    "\n",
    "    # Train\n",
    "    predictor.partial_fit(x_reduced, y)"
   ]
  },
  {
   "cell_type": "code",
   "execution_count": 53,
   "metadata": {},
   "outputs": [],
   "source": [
    "y_pred = predictor.predict(test_x)\n",
    "random_rmse_test = mean_squared_error(test_y, y_pred, squared=False)"
   ]
  },
  {
   "source": [
    "### Plot all\n"
   ],
   "cell_type": "markdown",
   "metadata": {}
  },
  {
   "cell_type": "code",
   "execution_count": 54,
   "metadata": {},
   "outputs": [
    {
     "output_type": "display_data",
     "data": {
      "application/vnd.plotly.v1+json": {
       "config": {
        "plotlyServerURL": "https://plot.ly"
       },
       "data": [
        {
         "hovertemplate": "variable=FIRES<br>batches=%{x}<br>stability=%{y}<extra></extra>",
         "legendgroup": "FIRES",
         "line": {
          "color": "red",
          "dash": "solid"
         },
         "mode": "lines",
         "name": "FIRES",
         "orientation": "v",
         "showlegend": true,
         "type": "scatter",
         "x": [
          0,
          1,
          2,
          3,
          4,
          5,
          6,
          7,
          8,
          9,
          10,
          11,
          12,
          13,
          14,
          15,
          16,
          17,
          18,
          19,
          20,
          21,
          22,
          23,
          24,
          25,
          26,
          27,
          28,
          29,
          30,
          31,
          32,
          33,
          34,
          35,
          36,
          37,
          38,
          39,
          40,
          41,
          42,
          43,
          44,
          45,
          46,
          47,
          48,
          49,
          50,
          51,
          52,
          53,
          54,
          55,
          56,
          57,
          58,
          59,
          60,
          61,
          62,
          63,
          64,
          65,
          66,
          67,
          68,
          69,
          70,
          71,
          72,
          73,
          74,
          75,
          76,
          77,
          78,
          79,
          80,
          81,
          82,
          83,
          84,
          85,
          86,
          87,
          88,
          89,
          90,
          91,
          92,
          93,
          94,
          95,
          96,
          97,
          98,
          99,
          100,
          101,
          102,
          103,
          104,
          105,
          106,
          107,
          108,
          109,
          110,
          111,
          112,
          113,
          114,
          115,
          116,
          117,
          118,
          119,
          120,
          121,
          122,
          123,
          124,
          125,
          126,
          127,
          128,
          129,
          130,
          131,
          132,
          133,
          134,
          135,
          136,
          137,
          138,
          139,
          140,
          141,
          142,
          143,
          144,
          145,
          146,
          147,
          148,
          149,
          150,
          151,
          152,
          153,
          154,
          155,
          156,
          157,
          158,
          159,
          160,
          161,
          162,
          163,
          164,
          165,
          166,
          167,
          168,
          169
         ],
         "xaxis": "x",
         "y": [
          0,
          0,
          0,
          0,
          0,
          0,
          0,
          0,
          0,
          0,
          0.9310776942355895,
          0.959273182957394,
          0.9631892230576447,
          0.9577067669172937,
          0.9428258145363412,
          0.9342105263157897,
          0.9302944862155392,
          0.9271616541353388,
          0.9310776942355895,
          0.9342105263157898,
          0.9436090225563915,
          0.959273182957394,
          0.9725877192982461,
          0.9757205513784464,
          0.9741541353383462,
          0.9702380952380957,
          0.9663220551378452,
          0.9577067669172938,
          0.9522243107769429,
          0.9498746867167924,
          0.9506578947368421,
          0.9545739348370929,
          0.961622807017544,
          0.9702380952380956,
          0.9804197994987468,
          0.9929511278195489,
          0.9929511278195492,
          0.9874686716791985,
          0.9835526315789479,
          0.9812030075187974,
          0.9804197994987472,
          0.9812030075187974,
          0.9835526315789477,
          0.987468671679198,
          0.9929511278195489,
          1,
          1,
          1,
          1,
          1,
          1,
          1,
          1,
          1,
          1,
          0.9929511278195492,
          0.9874686716791985,
          0.9835526315789479,
          0.9812030075187974,
          0.9804197994987472,
          0.9772869674185469,
          0.9725877192982461,
          0.9710213032581458,
          0.9725877192982462,
          0.9772869674185469,
          0.9710213032581458,
          0.9678884711779453,
          0.9663220551378452,
          0.9678884711779454,
          0.9725877192982462,
          0.9749373433583964,
          0.9757205513784466,
          0.9780701754385969,
          0.9819862155388474,
          0.9819862155388474,
          0.9819862155388475,
          0.9835526315789479,
          0.9812030075187974,
          0.9804197994987472,
          0.9812030075187974,
          0.9835526315789477,
          0.987468671679198,
          0.9929511278195489,
          1,
          1,
          0.9929511278195492,
          0.9874686716791985,
          0.9835526315789479,
          0.9812030075187974,
          0.9804197994987472,
          0.9812030075187974,
          0.9835526315789477,
          0.980419799498747,
          0.9804197994987472,
          0.9835526315789479,
          0.9812030075187974,
          0.9804197994987472,
          0.9812030075187974,
          0.9835526315789477,
          0.987468671679198,
          0.9929511278195489,
          1,
          1,
          1,
          1,
          1,
          1,
          1,
          1,
          1,
          1,
          1,
          1,
          1,
          1,
          1,
          1,
          1,
          1,
          1,
          1,
          1,
          1,
          1,
          1,
          0.9929511278195492,
          0.9874686716791985,
          0.9835526315789479,
          0.9812030075187974,
          0.9804197994987472,
          0.9812030075187974,
          0.9788533834586471,
          0.9780701754385969,
          0.9788533834586471,
          0.9812030075187974,
          0.9804197994987472,
          0.9812030075187974,
          0.9835526315789477,
          0.987468671679198,
          0.9929511278195489,
          1,
          1,
          1,
          1,
          1,
          1,
          1,
          1,
          1,
          1,
          1,
          1,
          1,
          1,
          1,
          1,
          1,
          1,
          1,
          1,
          1,
          1,
          1,
          1,
          1,
          1,
          0.9929511278195492,
          0.9874686716791985,
          0.9835526315789479,
          0.9812030075187974
         ],
         "yaxis": "y"
        },
        {
         "hovertemplate": "variable=SGDR<br>batches=%{x}<br>stability=%{y}<extra></extra>",
         "legendgroup": "SGDR",
         "line": {
          "color": "green",
          "dash": "solid"
         },
         "mode": "lines",
         "name": "SGDR",
         "orientation": "v",
         "showlegend": true,
         "type": "scatter",
         "x": [
          0,
          1,
          2,
          3,
          4,
          5,
          6,
          7,
          8,
          9,
          10,
          11,
          12,
          13,
          14,
          15,
          16,
          17,
          18,
          19,
          20,
          21,
          22,
          23,
          24,
          25,
          26,
          27,
          28,
          29,
          30,
          31,
          32,
          33,
          34,
          35,
          36,
          37,
          38,
          39,
          40,
          41,
          42,
          43,
          44,
          45,
          46,
          47,
          48,
          49,
          50,
          51,
          52,
          53,
          54,
          55,
          56,
          57,
          58,
          59,
          60,
          61,
          62,
          63,
          64,
          65,
          66,
          67,
          68,
          69,
          70,
          71,
          72,
          73,
          74,
          75,
          76,
          77,
          78,
          79,
          80,
          81,
          82,
          83,
          84,
          85,
          86,
          87,
          88,
          89,
          90,
          91,
          92,
          93,
          94,
          95,
          96,
          97,
          98,
          99,
          100,
          101,
          102,
          103,
          104,
          105,
          106,
          107,
          108,
          109,
          110,
          111,
          112,
          113,
          114,
          115,
          116,
          117,
          118,
          119,
          120,
          121,
          122,
          123,
          124,
          125,
          126,
          127,
          128,
          129,
          130,
          131,
          132,
          133,
          134,
          135,
          136,
          137,
          138,
          139,
          140,
          141,
          142,
          143,
          144,
          145,
          146,
          147,
          148,
          149,
          150,
          151,
          152,
          153,
          154,
          155,
          156,
          157,
          158,
          159,
          160,
          161,
          162,
          163,
          164,
          165,
          166,
          167,
          168,
          169
         ],
         "xaxis": "x",
         "y": [
          0,
          0,
          0,
          0,
          0,
          0,
          0,
          0,
          0,
          0,
          0.7086466165413535,
          0.7446741854636593,
          0.7838345864661656,
          0.7947994987468673,
          0.8096804511278196,
          0.830043859649123,
          0.8433583959899753,
          0.8684210526315792,
          0.8856516290726819,
          0.9005325814536345,
          0.9114974937343364,
          0.9177631578947371,
          0.9161967418546365,
          0.9146303258145362,
          0.9130639097744359,
          0.9122807017543861,
          0.8973997493734339,
          0.8903508771929827,
          0.8927005012531329,
          0.8989661654135342,
          0.9169799498746869,
          0.93656015037594,
          0.9404761904761906,
          0.9483082706766922,
          0.9624060150375945,
          0.9671052631578954,
          0.953790726817043,
          0.9443922305764417,
          0.9404761904761911,
          0.9373433583959904,
          0.9334273182957395,
          0.9310776942355892,
          0.9318609022556392,
          0.9334273182957398,
          0.9381265664160405,
          0.9436090225563911,
          0.9498746867167924,
          0.9420426065162915,
          0.9295112781954891,
          0.9310776942355892,
          0.9318609022556392,
          0.9302944862155392,
          0.9240288220551383,
          0.9201127819548878,
          0.9208959899749377,
          0.9240288220551383,
          0.9310776942355895,
          0.9279448621553891,
          0.9349937343358401,
          0.9342105263157897,
          0.9334273182957398,
          0.9396929824561409,
          0.9357769423558904,
          0.9326441102756896,
          0.9295112781954891,
          0.9279448621553884,
          0.9263784461152887,
          0.9248120300751884,
          0.922462406015038,
          0.9169799498746869,
          0.9208959899749377,
          0.9201127819548877,
          0.9146303258145366,
          0.9208959899749379,
          0.923245614035088,
          0.9248120300751882,
          0.9318609022556394,
          0.9334273182957399,
          0.9412593984962412,
          0.944392230576442,
          0.9522243107769431,
          0.953790726817043,
          0.9553571428571431,
          0.9553571428571432,
          0.9522243107769427,
          0.959273182957394,
          0.9608395989974944,
          0.965538847117795,
          0.9702380952380959,
          0.9647556390977451,
          0.9600563909774443,
          0.9490914786967422,
          0.9483082706766919,
          0.9483082706766921,
          0.9404761904761906,
          0.9404761904761908,
          0.9365601503759403,
          0.9420426065162915,
          0.9428258145363417,
          0.9475250626566422,
          0.9569235588972433,
          0.9561403508771931,
          0.9577067669172937,
          0.9569235588972439,
          0.9584899749373442,
          0.9616228070175445,
          0.9608395989974939,
          0.9600563909774439,
          0.9561403508771934,
          0.9608395989974943,
          0.9686716791979954,
          0.9796365914786971,
          0.9859022556390982,
          0.9874686716791984,
          0.9835526315789479,
          0.9812030075187974,
          0.9804197994987472,
          0.9812030075187974,
          0.9812030075187974,
          0.9765037593984965,
          0.9804197994987471,
          0.985902255639098,
          0.9874686716791985,
          0.9835526315789479,
          0.9788533834586471,
          0.9757205513784467,
          0.9741541353383464,
          0.9741541353383464,
          0.9757205513784466,
          0.9780701754385969,
          0.9819862155388474,
          0.987468671679198,
          0.9929511278195489,
          1,
          1,
          1,
          0.9929511278195492,
          0.9866854636591484,
          0.9819862155388477,
          0.9788533834586471,
          0.9741541353383465,
          0.9710213032581462,
          0.9694548872180456,
          0.9694548872180455,
          0.9710213032581458,
          0.9741541353383462,
          0.9765037593984965,
          0.980419799498747,
          0.985902255639098,
          0.9929511278195492,
          0.9929511278195492,
          0.9874686716791984,
          0.9835526315789479,
          0.9812030075187974,
          0.9733709273182962,
          0.971021303258146,
          0.9663220551378452,
          0.9631892230576447,
          0.9584899749373438,
          0.9569235588972435,
          0.9584899749373438,
          0.9616228070175445,
          0.9678884711779453,
          0.9772869674185466,
          0.9819862155388474,
          0.987468671679198,
          0.9929511278195489,
          1,
          1,
          1
         ],
         "yaxis": "y"
        }
       ],
       "layout": {
        "legend": {
         "title": {
          "text": "variable"
         },
         "tracegroupgap": 0
        },
        "template": {
         "data": {
          "bar": [
           {
            "error_x": {
             "color": "#2a3f5f"
            },
            "error_y": {
             "color": "#2a3f5f"
            },
            "marker": {
             "line": {
              "color": "#E5ECF6",
              "width": 0.5
             }
            },
            "type": "bar"
           }
          ],
          "barpolar": [
           {
            "marker": {
             "line": {
              "color": "#E5ECF6",
              "width": 0.5
             }
            },
            "type": "barpolar"
           }
          ],
          "carpet": [
           {
            "aaxis": {
             "endlinecolor": "#2a3f5f",
             "gridcolor": "white",
             "linecolor": "white",
             "minorgridcolor": "white",
             "startlinecolor": "#2a3f5f"
            },
            "baxis": {
             "endlinecolor": "#2a3f5f",
             "gridcolor": "white",
             "linecolor": "white",
             "minorgridcolor": "white",
             "startlinecolor": "#2a3f5f"
            },
            "type": "carpet"
           }
          ],
          "choropleth": [
           {
            "colorbar": {
             "outlinewidth": 0,
             "ticks": ""
            },
            "type": "choropleth"
           }
          ],
          "contour": [
           {
            "colorbar": {
             "outlinewidth": 0,
             "ticks": ""
            },
            "colorscale": [
             [
              0,
              "#0d0887"
             ],
             [
              0.1111111111111111,
              "#46039f"
             ],
             [
              0.2222222222222222,
              "#7201a8"
             ],
             [
              0.3333333333333333,
              "#9c179e"
             ],
             [
              0.4444444444444444,
              "#bd3786"
             ],
             [
              0.5555555555555556,
              "#d8576b"
             ],
             [
              0.6666666666666666,
              "#ed7953"
             ],
             [
              0.7777777777777778,
              "#fb9f3a"
             ],
             [
              0.8888888888888888,
              "#fdca26"
             ],
             [
              1,
              "#f0f921"
             ]
            ],
            "type": "contour"
           }
          ],
          "contourcarpet": [
           {
            "colorbar": {
             "outlinewidth": 0,
             "ticks": ""
            },
            "type": "contourcarpet"
           }
          ],
          "heatmap": [
           {
            "colorbar": {
             "outlinewidth": 0,
             "ticks": ""
            },
            "colorscale": [
             [
              0,
              "#0d0887"
             ],
             [
              0.1111111111111111,
              "#46039f"
             ],
             [
              0.2222222222222222,
              "#7201a8"
             ],
             [
              0.3333333333333333,
              "#9c179e"
             ],
             [
              0.4444444444444444,
              "#bd3786"
             ],
             [
              0.5555555555555556,
              "#d8576b"
             ],
             [
              0.6666666666666666,
              "#ed7953"
             ],
             [
              0.7777777777777778,
              "#fb9f3a"
             ],
             [
              0.8888888888888888,
              "#fdca26"
             ],
             [
              1,
              "#f0f921"
             ]
            ],
            "type": "heatmap"
           }
          ],
          "heatmapgl": [
           {
            "colorbar": {
             "outlinewidth": 0,
             "ticks": ""
            },
            "colorscale": [
             [
              0,
              "#0d0887"
             ],
             [
              0.1111111111111111,
              "#46039f"
             ],
             [
              0.2222222222222222,
              "#7201a8"
             ],
             [
              0.3333333333333333,
              "#9c179e"
             ],
             [
              0.4444444444444444,
              "#bd3786"
             ],
             [
              0.5555555555555556,
              "#d8576b"
             ],
             [
              0.6666666666666666,
              "#ed7953"
             ],
             [
              0.7777777777777778,
              "#fb9f3a"
             ],
             [
              0.8888888888888888,
              "#fdca26"
             ],
             [
              1,
              "#f0f921"
             ]
            ],
            "type": "heatmapgl"
           }
          ],
          "histogram": [
           {
            "marker": {
             "colorbar": {
              "outlinewidth": 0,
              "ticks": ""
             }
            },
            "type": "histogram"
           }
          ],
          "histogram2d": [
           {
            "colorbar": {
             "outlinewidth": 0,
             "ticks": ""
            },
            "colorscale": [
             [
              0,
              "#0d0887"
             ],
             [
              0.1111111111111111,
              "#46039f"
             ],
             [
              0.2222222222222222,
              "#7201a8"
             ],
             [
              0.3333333333333333,
              "#9c179e"
             ],
             [
              0.4444444444444444,
              "#bd3786"
             ],
             [
              0.5555555555555556,
              "#d8576b"
             ],
             [
              0.6666666666666666,
              "#ed7953"
             ],
             [
              0.7777777777777778,
              "#fb9f3a"
             ],
             [
              0.8888888888888888,
              "#fdca26"
             ],
             [
              1,
              "#f0f921"
             ]
            ],
            "type": "histogram2d"
           }
          ],
          "histogram2dcontour": [
           {
            "colorbar": {
             "outlinewidth": 0,
             "ticks": ""
            },
            "colorscale": [
             [
              0,
              "#0d0887"
             ],
             [
              0.1111111111111111,
              "#46039f"
             ],
             [
              0.2222222222222222,
              "#7201a8"
             ],
             [
              0.3333333333333333,
              "#9c179e"
             ],
             [
              0.4444444444444444,
              "#bd3786"
             ],
             [
              0.5555555555555556,
              "#d8576b"
             ],
             [
              0.6666666666666666,
              "#ed7953"
             ],
             [
              0.7777777777777778,
              "#fb9f3a"
             ],
             [
              0.8888888888888888,
              "#fdca26"
             ],
             [
              1,
              "#f0f921"
             ]
            ],
            "type": "histogram2dcontour"
           }
          ],
          "mesh3d": [
           {
            "colorbar": {
             "outlinewidth": 0,
             "ticks": ""
            },
            "type": "mesh3d"
           }
          ],
          "parcoords": [
           {
            "line": {
             "colorbar": {
              "outlinewidth": 0,
              "ticks": ""
             }
            },
            "type": "parcoords"
           }
          ],
          "pie": [
           {
            "automargin": true,
            "type": "pie"
           }
          ],
          "scatter": [
           {
            "marker": {
             "colorbar": {
              "outlinewidth": 0,
              "ticks": ""
             }
            },
            "type": "scatter"
           }
          ],
          "scatter3d": [
           {
            "line": {
             "colorbar": {
              "outlinewidth": 0,
              "ticks": ""
             }
            },
            "marker": {
             "colorbar": {
              "outlinewidth": 0,
              "ticks": ""
             }
            },
            "type": "scatter3d"
           }
          ],
          "scattercarpet": [
           {
            "marker": {
             "colorbar": {
              "outlinewidth": 0,
              "ticks": ""
             }
            },
            "type": "scattercarpet"
           }
          ],
          "scattergeo": [
           {
            "marker": {
             "colorbar": {
              "outlinewidth": 0,
              "ticks": ""
             }
            },
            "type": "scattergeo"
           }
          ],
          "scattergl": [
           {
            "marker": {
             "colorbar": {
              "outlinewidth": 0,
              "ticks": ""
             }
            },
            "type": "scattergl"
           }
          ],
          "scattermapbox": [
           {
            "marker": {
             "colorbar": {
              "outlinewidth": 0,
              "ticks": ""
             }
            },
            "type": "scattermapbox"
           }
          ],
          "scatterpolar": [
           {
            "marker": {
             "colorbar": {
              "outlinewidth": 0,
              "ticks": ""
             }
            },
            "type": "scatterpolar"
           }
          ],
          "scatterpolargl": [
           {
            "marker": {
             "colorbar": {
              "outlinewidth": 0,
              "ticks": ""
             }
            },
            "type": "scatterpolargl"
           }
          ],
          "scatterternary": [
           {
            "marker": {
             "colorbar": {
              "outlinewidth": 0,
              "ticks": ""
             }
            },
            "type": "scatterternary"
           }
          ],
          "surface": [
           {
            "colorbar": {
             "outlinewidth": 0,
             "ticks": ""
            },
            "colorscale": [
             [
              0,
              "#0d0887"
             ],
             [
              0.1111111111111111,
              "#46039f"
             ],
             [
              0.2222222222222222,
              "#7201a8"
             ],
             [
              0.3333333333333333,
              "#9c179e"
             ],
             [
              0.4444444444444444,
              "#bd3786"
             ],
             [
              0.5555555555555556,
              "#d8576b"
             ],
             [
              0.6666666666666666,
              "#ed7953"
             ],
             [
              0.7777777777777778,
              "#fb9f3a"
             ],
             [
              0.8888888888888888,
              "#fdca26"
             ],
             [
              1,
              "#f0f921"
             ]
            ],
            "type": "surface"
           }
          ],
          "table": [
           {
            "cells": {
             "fill": {
              "color": "#EBF0F8"
             },
             "line": {
              "color": "white"
             }
            },
            "header": {
             "fill": {
              "color": "#C8D4E3"
             },
             "line": {
              "color": "white"
             }
            },
            "type": "table"
           }
          ]
         },
         "layout": {
          "annotationdefaults": {
           "arrowcolor": "#2a3f5f",
           "arrowhead": 0,
           "arrowwidth": 1
          },
          "autotypenumbers": "strict",
          "coloraxis": {
           "colorbar": {
            "outlinewidth": 0,
            "ticks": ""
           }
          },
          "colorscale": {
           "diverging": [
            [
             0,
             "#8e0152"
            ],
            [
             0.1,
             "#c51b7d"
            ],
            [
             0.2,
             "#de77ae"
            ],
            [
             0.3,
             "#f1b6da"
            ],
            [
             0.4,
             "#fde0ef"
            ],
            [
             0.5,
             "#f7f7f7"
            ],
            [
             0.6,
             "#e6f5d0"
            ],
            [
             0.7,
             "#b8e186"
            ],
            [
             0.8,
             "#7fbc41"
            ],
            [
             0.9,
             "#4d9221"
            ],
            [
             1,
             "#276419"
            ]
           ],
           "sequential": [
            [
             0,
             "#0d0887"
            ],
            [
             0.1111111111111111,
             "#46039f"
            ],
            [
             0.2222222222222222,
             "#7201a8"
            ],
            [
             0.3333333333333333,
             "#9c179e"
            ],
            [
             0.4444444444444444,
             "#bd3786"
            ],
            [
             0.5555555555555556,
             "#d8576b"
            ],
            [
             0.6666666666666666,
             "#ed7953"
            ],
            [
             0.7777777777777778,
             "#fb9f3a"
            ],
            [
             0.8888888888888888,
             "#fdca26"
            ],
            [
             1,
             "#f0f921"
            ]
           ],
           "sequentialminus": [
            [
             0,
             "#0d0887"
            ],
            [
             0.1111111111111111,
             "#46039f"
            ],
            [
             0.2222222222222222,
             "#7201a8"
            ],
            [
             0.3333333333333333,
             "#9c179e"
            ],
            [
             0.4444444444444444,
             "#bd3786"
            ],
            [
             0.5555555555555556,
             "#d8576b"
            ],
            [
             0.6666666666666666,
             "#ed7953"
            ],
            [
             0.7777777777777778,
             "#fb9f3a"
            ],
            [
             0.8888888888888888,
             "#fdca26"
            ],
            [
             1,
             "#f0f921"
            ]
           ]
          },
          "colorway": [
           "#636efa",
           "#EF553B",
           "#00cc96",
           "#ab63fa",
           "#FFA15A",
           "#19d3f3",
           "#FF6692",
           "#B6E880",
           "#FF97FF",
           "#FECB52"
          ],
          "font": {
           "color": "#2a3f5f"
          },
          "geo": {
           "bgcolor": "white",
           "lakecolor": "white",
           "landcolor": "#E5ECF6",
           "showlakes": true,
           "showland": true,
           "subunitcolor": "white"
          },
          "hoverlabel": {
           "align": "left"
          },
          "hovermode": "closest",
          "mapbox": {
           "style": "light"
          },
          "paper_bgcolor": "white",
          "plot_bgcolor": "#E5ECF6",
          "polar": {
           "angularaxis": {
            "gridcolor": "white",
            "linecolor": "white",
            "ticks": ""
           },
           "bgcolor": "#E5ECF6",
           "radialaxis": {
            "gridcolor": "white",
            "linecolor": "white",
            "ticks": ""
           }
          },
          "scene": {
           "xaxis": {
            "backgroundcolor": "#E5ECF6",
            "gridcolor": "white",
            "gridwidth": 2,
            "linecolor": "white",
            "showbackground": true,
            "ticks": "",
            "zerolinecolor": "white"
           },
           "yaxis": {
            "backgroundcolor": "#E5ECF6",
            "gridcolor": "white",
            "gridwidth": 2,
            "linecolor": "white",
            "showbackground": true,
            "ticks": "",
            "zerolinecolor": "white"
           },
           "zaxis": {
            "backgroundcolor": "#E5ECF6",
            "gridcolor": "white",
            "gridwidth": 2,
            "linecolor": "white",
            "showbackground": true,
            "ticks": "",
            "zerolinecolor": "white"
           }
          },
          "shapedefaults": {
           "line": {
            "color": "#2a3f5f"
           }
          },
          "ternary": {
           "aaxis": {
            "gridcolor": "white",
            "linecolor": "white",
            "ticks": ""
           },
           "baxis": {
            "gridcolor": "white",
            "linecolor": "white",
            "ticks": ""
           },
           "bgcolor": "#E5ECF6",
           "caxis": {
            "gridcolor": "white",
            "linecolor": "white",
            "ticks": ""
           }
          },
          "title": {
           "x": 0.05
          },
          "xaxis": {
           "automargin": true,
           "gridcolor": "white",
           "linecolor": "white",
           "ticks": "",
           "title": {
            "standoff": 15
           },
           "zerolinecolor": "white",
           "zerolinewidth": 2
          },
          "yaxis": {
           "automargin": true,
           "gridcolor": "white",
           "linecolor": "white",
           "ticks": "",
           "title": {
            "standoff": 15
           },
           "zerolinecolor": "white",
           "zerolinewidth": 2
          }
         }
        },
        "title": {
         "text": "Stability on dataset dataset_1_normalized"
        },
        "xaxis": {
         "anchor": "y",
         "domain": [
          0,
          1
         ],
         "title": {
          "text": "batches"
         }
        },
        "yaxis": {
         "anchor": "x",
         "domain": [
          0,
          1
         ],
         "title": {
          "text": "stability"
         }
        }
       }
      }
     },
     "metadata": {}
    }
   ],
   "source": [
    "# stability\n",
    "title = \"Stability on dataset {}\".format(dataset_name)\n",
    "col_names = [\"FIRES\", \"SGDR\"]\n",
    "d = {\"FIRES\":fires_stability, \"SGDR\":sgdr_stability}\n",
    "df = pd.DataFrame(d, columns=col_names)\n",
    "fig = px.line(df, y = col_names, title=title, labels={\"index\":\"batches\", \"value\":\"stability\"}, color_discrete_map={'FIRES': 'red', \"SGDR\": \"green\"})\n",
    "stability_trace = fig[\"data\"]\n",
    "fig.show()"
   ]
  },
  {
   "cell_type": "code",
   "execution_count": 55,
   "metadata": {},
   "outputs": [
    {
     "output_type": "display_data",
     "data": {
      "application/vnd.plotly.v1+json": {
       "config": {
        "plotlyServerURL": "https://plot.ly"
       },
       "data": [
        {
         "hovertemplate": "variable=Pure<br>batches=%{x}<br>rmse=%{y}<extra></extra>",
         "legendgroup": "Pure",
         "line": {
          "color": "blue",
          "dash": "solid"
         },
         "mode": "lines",
         "name": "Pure",
         "orientation": "v",
         "showlegend": true,
         "type": "scatter",
         "x": [
          0,
          1,
          2,
          3,
          4,
          5,
          6,
          7,
          8,
          9,
          10,
          11,
          12,
          13,
          14,
          15,
          16,
          17,
          18,
          19,
          20,
          21,
          22,
          23,
          24,
          25,
          26,
          27,
          28,
          29,
          30,
          31,
          32,
          33,
          34,
          35,
          36,
          37,
          38,
          39,
          40,
          41,
          42,
          43,
          44,
          45,
          46,
          47,
          48,
          49,
          50,
          51,
          52,
          53,
          54,
          55,
          56,
          57,
          58,
          59,
          60,
          61,
          62,
          63,
          64,
          65,
          66,
          67,
          68,
          69,
          70,
          71,
          72,
          73,
          74,
          75,
          76,
          77,
          78,
          79,
          80,
          81,
          82,
          83,
          84,
          85,
          86,
          87,
          88,
          89,
          90,
          91,
          92,
          93,
          94,
          95,
          96,
          97,
          98,
          99,
          100,
          101,
          102,
          103,
          104,
          105,
          106,
          107,
          108,
          109,
          110,
          111,
          112,
          113,
          114,
          115,
          116,
          117,
          118,
          119,
          120,
          121,
          122,
          123,
          124,
          125,
          126,
          127,
          128,
          129,
          130,
          131,
          132,
          133,
          134,
          135,
          136,
          137,
          138,
          139,
          140,
          141,
          142,
          143,
          144,
          145,
          146,
          147,
          148,
          149,
          150,
          151,
          152,
          153,
          154,
          155,
          156,
          157,
          158,
          159,
          160,
          161,
          162,
          163,
          164,
          165,
          166,
          167,
          168
         ],
         "xaxis": "x",
         "y": [
          0.11766883236995583,
          0.12731598507095285,
          0.13677871156285773,
          0.10175372400419655,
          0.1342090535671736,
          0.10349769207865539,
          0.12080701336786924,
          0.12043888245832776,
          0.10430298260204043,
          0.10683905754520776,
          0.12613510197537653,
          0.12028053897781364,
          0.11737603549551667,
          0.10936482108758869,
          0.11659804088316314,
          0.11371017637249611,
          0.11890361475102157,
          0.11791460376007959,
          0.11279925965052719,
          0.11954505302575909,
          0.12703080283344995,
          0.12322389803085616,
          0.1198150963498521,
          0.10138081441762256,
          0.10453976267441155,
          0.12032808728097619,
          0.11052834746731628,
          0.11507264711099144,
          0.1151662684063703,
          0.10148418871694127,
          0.11417005339636267,
          0.10069108018053473,
          0.11274562427618354,
          0.1046571901902908,
          0.10855872699570544,
          0.10837398549540633,
          0.10391321808941574,
          0.11624932103849667,
          0.10089663897508099,
          0.09735555216395625,
          0.11600107201448943,
          0.09698210908298982,
          0.1157705869745166,
          0.10210586945527378,
          0.09416288804819764,
          0.09191920300673666,
          0.12200797830505439,
          0.09718390798804098,
          0.12295860388378571,
          0.104452615960591,
          0.0983749542681343,
          0.10305059618057802,
          0.10624283941084114,
          0.10799879387381375,
          0.10323033628605623,
          0.11652355482963939,
          0.104003348214412,
          0.10639167470701265,
          0.10850398292073662,
          0.10764433807045236,
          0.11651467433966695,
          0.11111752091736889,
          0.10861247637969859,
          0.11399559946731894,
          0.10760908555992399,
          0.10852407372885513,
          0.10391604846127357,
          0.09603496575558162,
          0.09023905672158933,
          0.10303068005144511,
          0.09690867105783611,
          0.10225756388848797,
          0.09479174479666622,
          0.09724242999378409,
          0.10753832108847895,
          0.11926875532706124,
          0.10286795846300348,
          0.10720841229605332,
          0.10225986288398493,
          0.10165847856631594,
          0.11304889740868203,
          0.09775809298066153,
          0.10918295404431047,
          0.0993136755703874,
          0.09745217341817518,
          0.09926588545820261,
          0.09320643628918898,
          0.11132618499546008,
          0.10615737778945136,
          0.09480576036005786,
          0.10234509576545507,
          0.08517792661759035,
          0.097505684549405,
          0.10864003332492593,
          0.09580229111577752,
          0.09460110308056381,
          0.09470529070543048,
          0.09808807878043525,
          0.11435981164312999,
          0.09543878788020574,
          0.10861146836367533,
          0.104292427215733,
          0.11066327314394821,
          0.09685606397533472,
          0.10257093396277181,
          0.09281648704282335,
          0.09744927627191789,
          0.10203201122433864,
          0.08632038554088087,
          0.08776954314392338,
          0.10346682126587524,
          0.10461177984649157,
          0.09109515917012578,
          0.10090988250815211,
          0.0957356578118914,
          0.08968135503667159,
          0.09476432565075778,
          0.11514192512246159,
          0.09581204746809431,
          0.09307375976587197,
          0.09646522328113843,
          0.10022398912963791,
          0.10359246256146641,
          0.0935144389100416,
          0.09667097110650232,
          0.10423471049210122,
          0.09148649328694357,
          0.10387290568053012,
          0.10018450542758918,
          0.09229398358760374,
          0.11015995982385837,
          0.10345827008153527,
          0.0963976869414047,
          0.10259282890333919,
          0.09300065377860457,
          0.08530743329655092,
          0.08194811999010237,
          0.08941474015188547,
          0.09637130303847564,
          0.08913893546785069,
          0.08871217514873828,
          0.08729657614613599,
          0.0833766794335997,
          0.10041354551568418,
          0.08749529039660986,
          0.09793106837584004,
          0.08717654334229709,
          0.09012739501256381,
          0.0862220361914187,
          0.09129701300798766,
          0.08989309288528474,
          0.08338296120471111,
          0.09190066265630605,
          0.10487990723649478,
          0.08392591750646038,
          0.08729103510511695,
          0.11444143058423402,
          0.10482250629169558,
          0.09501252106399775,
          0.08703133153211187,
          0.10061192668785515,
          0.0790470201646792,
          0.08415444723488953,
          0.08327557931659942,
          0.09158472940412292,
          0.08991080500872016,
          0.08682882531501027,
          0.09808577676169941,
          0.09220200916765772
         ],
         "yaxis": "y"
        },
        {
         "hovertemplate": "variable=FIRES<br>batches=%{x}<br>rmse=%{y}<extra></extra>",
         "legendgroup": "FIRES",
         "line": {
          "color": "red",
          "dash": "solid"
         },
         "mode": "lines",
         "name": "FIRES",
         "orientation": "v",
         "showlegend": true,
         "type": "scatter",
         "x": [
          0,
          1,
          2,
          3,
          4,
          5,
          6,
          7,
          8,
          9,
          10,
          11,
          12,
          13,
          14,
          15,
          16,
          17,
          18,
          19,
          20,
          21,
          22,
          23,
          24,
          25,
          26,
          27,
          28,
          29,
          30,
          31,
          32,
          33,
          34,
          35,
          36,
          37,
          38,
          39,
          40,
          41,
          42,
          43,
          44,
          45,
          46,
          47,
          48,
          49,
          50,
          51,
          52,
          53,
          54,
          55,
          56,
          57,
          58,
          59,
          60,
          61,
          62,
          63,
          64,
          65,
          66,
          67,
          68,
          69,
          70,
          71,
          72,
          73,
          74,
          75,
          76,
          77,
          78,
          79,
          80,
          81,
          82,
          83,
          84,
          85,
          86,
          87,
          88,
          89,
          90,
          91,
          92,
          93,
          94,
          95,
          96,
          97,
          98,
          99,
          100,
          101,
          102,
          103,
          104,
          105,
          106,
          107,
          108,
          109,
          110,
          111,
          112,
          113,
          114,
          115,
          116,
          117,
          118,
          119,
          120,
          121,
          122,
          123,
          124,
          125,
          126,
          127,
          128,
          129,
          130,
          131,
          132,
          133,
          134,
          135,
          136,
          137,
          138,
          139,
          140,
          141,
          142,
          143,
          144,
          145,
          146,
          147,
          148,
          149,
          150,
          151,
          152,
          153,
          154,
          155,
          156,
          157,
          158,
          159,
          160,
          161,
          162,
          163,
          164,
          165,
          166,
          167,
          168
         ],
         "xaxis": "x",
         "y": [
          0.3567874243551225,
          0.13065020234834235,
          0.13747926333984112,
          0.10550373610400947,
          0.13542043979275567,
          0.09470808559809743,
          0.12185898048403594,
          0.12494184585301624,
          0.10154441779412188,
          0.10776060203718611,
          0.1273821726514355,
          0.12188140335588821,
          0.11684061698283554,
          0.10888589061587366,
          0.11945478742677075,
          0.11704210372244907,
          0.12018287763213321,
          0.12068839607706298,
          0.11994383845194623,
          0.1228970576510442,
          0.13396114539289397,
          0.12271577077368587,
          0.12421739262314738,
          0.10545707364008912,
          0.10985686480316927,
          0.12993555994065123,
          0.1179365292352487,
          0.11785149428396888,
          0.12202181521543803,
          0.09952440281284339,
          0.1197764481069226,
          0.11441158157862898,
          0.11896237864163584,
          0.10957856952455079,
          0.11869456633373811,
          0.11713816340763658,
          0.11123093797341671,
          0.12557398675332096,
          0.10709984077462256,
          0.10152502596099619,
          0.12664225018491534,
          0.10365178620822729,
          0.12458440654703665,
          0.1107586513108742,
          0.10355889005387493,
          0.09936950913936124,
          0.13236720109270286,
          0.10157970237393746,
          0.1349323550688465,
          0.11370123474719399,
          0.11014249435649347,
          0.11049631968760953,
          0.11485487270935178,
          0.11745213997328104,
          0.11197893914325284,
          0.12739722729305003,
          0.11667789772548513,
          0.11590776271190958,
          0.12192194797330647,
          0.12159532587684087,
          0.12546349961778627,
          0.13139309686995665,
          0.11796031483810235,
          0.1268952849698989,
          0.1180058855161875,
          0.12264256743818192,
          0.11563986116633798,
          0.10618559170679444,
          0.09974530175672132,
          0.11483993944774927,
          0.1086358170074574,
          0.11340294601439305,
          0.10837246146141191,
          0.10952141212502031,
          0.11608429814963644,
          0.13240944480668454,
          0.11729440404964583,
          0.11687080506410805,
          0.11627679617997007,
          0.11596727543320284,
          0.1274227128814923,
          0.11354626439775602,
          0.12501536944070388,
          0.11570383001901817,
          0.11369059596404948,
          0.10757077498417932,
          0.10361619639384899,
          0.12087418738967189,
          0.10465390548244621,
          0.11250162810583116,
          0.11291300707331448,
          0.10210051953726136,
          0.10935323066955711,
          0.12408243082499032,
          0.10803436009680675,
          0.11196132247961406,
          0.11192372750253053,
          0.1108540369860528,
          0.11642990734502583,
          0.11057637241496765,
          0.12440397133052598,
          0.1222534767625366,
          0.12368732534446977,
          0.11449183244862846,
          0.12191828277871562,
          0.10807766187631229,
          0.11274595730159269,
          0.12085014464104658,
          0.10260528478580644,
          0.10324877722383392,
          0.12317054267494883,
          0.11633923937141806,
          0.10196512733150188,
          0.11059768629057566,
          0.11036627878937884,
          0.10277030337742807,
          0.10903211903270026,
          0.1288657321278992,
          0.11144244810509905,
          0.10739336528384434,
          0.1145095502143523,
          0.11743141874770631,
          0.12032444792481502,
          0.11107341483102211,
          0.10859186862094913,
          0.12236222767057911,
          0.10980294375870062,
          0.12258661688471675,
          0.11806420092797888,
          0.1057009328313073,
          0.12844959971670333,
          0.12280056524512122,
          0.11662151190523183,
          0.12194073714915155,
          0.10747611628148918,
          0.10218241041781173,
          0.09972610601822454,
          0.10197765480017766,
          0.11162484619442446,
          0.10249949040376183,
          0.10836392392511747,
          0.10594057288059483,
          0.09730744192332859,
          0.11396753686142795,
          0.09839091957778776,
          0.11807661953779744,
          0.1033464955652269,
          0.10998480859138124,
          0.10702065590620675,
          0.1092610240031902,
          0.10774704148201919,
          0.10254708679485255,
          0.11301932229958142,
          0.1261502293645824,
          0.10030627129143148,
          0.10816129832602381,
          0.13811376026113628,
          0.11855916447767094,
          0.1178034108039655,
          0.10590018235263307,
          0.11731878004247141,
          0.09804301475302414,
          0.10288202432711668,
          0.1020834676517175,
          0.11282086630336349,
          0.11058811805255511,
          0.10649185794900326,
          0.11680221121729034,
          0.11389013446138198
         ],
         "yaxis": "y"
        },
        {
         "hovertemplate": "variable=SGDR<br>batches=%{x}<br>rmse=%{y}<extra></extra>",
         "legendgroup": "SGDR",
         "line": {
          "color": "green",
          "dash": "solid"
         },
         "mode": "lines",
         "name": "SGDR",
         "orientation": "v",
         "showlegend": true,
         "type": "scatter",
         "x": [
          0,
          1,
          2,
          3,
          4,
          5,
          6,
          7,
          8,
          9,
          10,
          11,
          12,
          13,
          14,
          15,
          16,
          17,
          18,
          19,
          20,
          21,
          22,
          23,
          24,
          25,
          26,
          27,
          28,
          29,
          30,
          31,
          32,
          33,
          34,
          35,
          36,
          37,
          38,
          39,
          40,
          41,
          42,
          43,
          44,
          45,
          46,
          47,
          48,
          49,
          50,
          51,
          52,
          53,
          54,
          55,
          56,
          57,
          58,
          59,
          60,
          61,
          62,
          63,
          64,
          65,
          66,
          67,
          68,
          69,
          70,
          71,
          72,
          73,
          74,
          75,
          76,
          77,
          78,
          79,
          80,
          81,
          82,
          83,
          84,
          85,
          86,
          87,
          88,
          89,
          90,
          91,
          92,
          93,
          94,
          95,
          96,
          97,
          98,
          99,
          100,
          101,
          102,
          103,
          104,
          105,
          106,
          107,
          108,
          109,
          110,
          111,
          112,
          113,
          114,
          115,
          116,
          117,
          118,
          119,
          120,
          121,
          122,
          123,
          124,
          125,
          126,
          127,
          128,
          129,
          130,
          131,
          132,
          133,
          134,
          135,
          136,
          137,
          138,
          139,
          140,
          141,
          142,
          143,
          144,
          145,
          146,
          147,
          148,
          149,
          150,
          151,
          152,
          153,
          154,
          155,
          156,
          157,
          158,
          159,
          160,
          161,
          162,
          163,
          164,
          165,
          166,
          167,
          168
         ],
         "xaxis": "x",
         "y": [
          0.3572596137465994,
          0.12547686192143853,
          0.13232911853439752,
          0.09341689647809755,
          0.12201345274796457,
          0.08970385341690648,
          0.1044744166222984,
          0.11342913066100511,
          0.09205113813733101,
          0.09808735483638793,
          0.11499668611533467,
          0.10639769928027787,
          0.10696757341738136,
          0.09941101123968007,
          0.10735504931498908,
          0.10416516604618342,
          0.11055941304734807,
          0.11145917089592929,
          0.10785683875891337,
          0.11061203542089955,
          0.11760536318729876,
          0.11416837309780609,
          0.11152971000665873,
          0.09354514770522246,
          0.10077775313739366,
          0.11261839117322531,
          0.10352404313447938,
          0.10778714804690492,
          0.10949795376657143,
          0.08786107211853492,
          0.10781144967791173,
          0.0975045804944413,
          0.10315892386245265,
          0.10059748554540723,
          0.10278660428610185,
          0.10353227195679719,
          0.09995817650233774,
          0.10808721656380858,
          0.09711449521119186,
          0.09140681190861025,
          0.113240174306185,
          0.09195782536029803,
          0.10531505835172895,
          0.09858644943757504,
          0.09070386531382306,
          0.08669402595525691,
          0.11563148174767565,
          0.08584082919910282,
          0.11674319563153138,
          0.10025741456547041,
          0.0935110585074248,
          0.09745866864253266,
          0.10089625005924482,
          0.09947431639957614,
          0.09880824041337877,
          0.11080943114704661,
          0.09873371369750551,
          0.09901590960153465,
          0.10427380808225307,
          0.10306430636753508,
          0.1077587526381188,
          0.11653092305874105,
          0.10079547701242267,
          0.10930779157748202,
          0.10436207400410488,
          0.10486254919278418,
          0.09970507394279135,
          0.09332071741468174,
          0.0877293525955183,
          0.10075606578198623,
          0.094227640328447,
          0.09990813196350437,
          0.09128842636545267,
          0.0947077921716082,
          0.09815164413424483,
          0.11117334133341426,
          0.1003183274665572,
          0.10319151073551991,
          0.09923732890349059,
          0.09866712711409893,
          0.10942425593248489,
          0.09659918204962459,
          0.10763479718651352,
          0.09532890786482001,
          0.0942361277185657,
          0.09595671147771143,
          0.08964096883702549,
          0.10441846447329797,
          0.09261948671794035,
          0.09406291327203935,
          0.0985654948831845,
          0.0846224541543799,
          0.09254370510771473,
          0.10621104011980283,
          0.09427116973728235,
          0.09491283056413478,
          0.09177237375953332,
          0.09549755220705346,
          0.09972487139783474,
          0.09080298817765135,
          0.10750555431545607,
          0.10382945094534425,
          0.10449942973244586,
          0.09497456526648582,
          0.10104328151373833,
          0.0918268274270093,
          0.09485275510681274,
          0.10301338495058904,
          0.08539782971482382,
          0.08523049063030988,
          0.10204416762786685,
          0.10302675630870405,
          0.08953436869873037,
          0.09377335967647461,
          0.09498098057866516,
          0.0894167324183185,
          0.09395715972903672,
          0.1123953895541942,
          0.09571378523933816,
          0.09427994332600226,
          0.09609235595244328,
          0.10005602331161365,
          0.10341151671047341,
          0.09399601335432045,
          0.09435526285567307,
          0.10353986899145365,
          0.09048143355283865,
          0.10344606960383652,
          0.0987309643113998,
          0.09181193107585336,
          0.10994793117749006,
          0.10343216220046304,
          0.09614317083513607,
          0.09987499485051811,
          0.09271441722823191,
          0.0879007908295477,
          0.08521419346133868,
          0.08977847521500433,
          0.0967353210483006,
          0.0883290166027257,
          0.08881110534086135,
          0.08827931781633669,
          0.08288100766136305,
          0.09753385482178187,
          0.08420571025867084,
          0.0987028135676967,
          0.08703920688051234,
          0.09164329683584098,
          0.08710834769846167,
          0.0925575772588268,
          0.09173025957945699,
          0.08426228409515756,
          0.09401448129318751,
          0.10516550128681013,
          0.08540978924238608,
          0.08880998387621243,
          0.11118996655138356,
          0.10624795931620287,
          0.0953998114136482,
          0.0848947170066749,
          0.09930915418005645,
          0.08066861137874061,
          0.08603373315563366,
          0.08471963015896841,
          0.09411117098882962,
          0.09206214887796588,
          0.08819542698570121,
          0.09925016126348751,
          0.09445534838698971
         ],
         "yaxis": "y"
        },
        {
         "hovertemplate": "variable=Random<br>batches=%{x}<br>rmse=%{y}<extra></extra>",
         "legendgroup": "Random",
         "line": {
          "color": "cyan",
          "dash": "solid"
         },
         "mode": "lines",
         "name": "Random",
         "orientation": "v",
         "showlegend": true,
         "type": "scatter",
         "x": [
          0,
          1,
          2,
          3,
          4,
          5,
          6,
          7,
          8,
          9,
          10,
          11,
          12,
          13,
          14,
          15,
          16,
          17,
          18,
          19,
          20,
          21,
          22,
          23,
          24,
          25,
          26,
          27,
          28,
          29,
          30,
          31,
          32,
          33,
          34,
          35,
          36,
          37,
          38,
          39,
          40,
          41,
          42,
          43,
          44,
          45,
          46,
          47,
          48,
          49,
          50,
          51,
          52,
          53,
          54,
          55,
          56,
          57,
          58,
          59,
          60,
          61,
          62,
          63,
          64,
          65,
          66,
          67,
          68,
          69,
          70,
          71,
          72,
          73,
          74,
          75,
          76,
          77,
          78,
          79,
          80,
          81,
          82,
          83,
          84,
          85,
          86,
          87,
          88,
          89,
          90,
          91,
          92,
          93,
          94,
          95,
          96,
          97,
          98,
          99,
          100,
          101,
          102,
          103,
          104,
          105,
          106,
          107,
          108,
          109,
          110,
          111,
          112,
          113,
          114,
          115,
          116,
          117,
          118,
          119,
          120,
          121,
          122,
          123,
          124,
          125,
          126,
          127,
          128,
          129,
          130,
          131,
          132,
          133,
          134,
          135,
          136,
          137,
          138,
          139,
          140,
          141,
          142,
          143,
          144,
          145,
          146,
          147,
          148,
          149,
          150,
          151,
          152,
          153,
          154,
          155,
          156,
          157,
          158,
          159,
          160,
          161,
          162,
          163,
          164,
          165,
          166,
          167,
          168
         ],
         "xaxis": "x",
         "y": [
          0.3685034207287694,
          0.26437850157991866,
          0.23460511213937316,
          0.16397756919326462,
          0.1573246675505103,
          0.17364584570957464,
          0.11163115131471264,
          0.13100907396894532,
          0.10888201101834998,
          0.11180607416646637,
          0.13886100935630308,
          0.14506660686849,
          0.1279117368066817,
          0.11613781456606471,
          0.12649396989369122,
          0.1191901993877784,
          0.1257797939278044,
          0.12614850509655648,
          0.11383710809577868,
          0.12534073295487527,
          0.14962571212769288,
          0.13261948745832125,
          0.12894745551883718,
          0.12068575262953805,
          0.11543273925785548,
          0.13138632305519798,
          0.14562946314791234,
          0.12372179627325204,
          0.13795755100230198,
          0.10127660300890004,
          0.12671280597050602,
          0.12966685875110942,
          0.11842299989145345,
          0.12685814153622185,
          0.12740042548625902,
          0.12226107275843198,
          0.11953857186566848,
          0.1267874295877466,
          0.12189028748244206,
          0.1162322293889396,
          0.12573628439979645,
          0.10804963931117055,
          0.16226266382925686,
          0.11653007499862085,
          0.10956731272360172,
          0.10416474787912396,
          0.13553179004181004,
          0.10942097360267403,
          0.14218300247668197,
          0.12335870299334555,
          0.11989511707767742,
          0.123564622766161,
          0.1222164274369717,
          0.13646168709256604,
          0.12135018334018571,
          0.1337174756739104,
          0.12611804391300266,
          0.11740941121019403,
          0.12693559896277354,
          0.12978526022944628,
          0.15822440926387243,
          0.13546427394340887,
          0.13139270342646442,
          0.12958565739062208,
          0.12208658947725234,
          0.13985088312864732,
          0.11851464556199333,
          0.11382006096604708,
          0.10961929100625822,
          0.12793344937052653,
          0.126558644568806,
          0.1191917658426236,
          0.11566878914823003,
          0.11468546946454883,
          0.12301480891674976,
          0.1359339242069343,
          0.11873815964143764,
          0.1307221402396545,
          0.131473343249978,
          0.12066193925967741,
          0.1346242643969784,
          0.1149089408171784,
          0.13326485513079092,
          0.11832070736451376,
          0.12716495679792564,
          0.12902716785170254,
          0.12479007385655301,
          0.1351618290948556,
          0.11034115916697564,
          0.11899274773638698,
          0.12168483980219214,
          0.11209524740193338,
          0.11806649561749226,
          0.13262191745971566,
          0.11792968928069439,
          0.11410173888552831,
          0.11572834791611124,
          0.12279609568871237,
          0.12977554946251038,
          0.11438795563452057,
          0.13323022046430752,
          0.13317681091810935,
          0.14112139398373724,
          0.12148926062147052,
          0.12665629963872824,
          0.11500064212649552,
          0.11672029061118379,
          0.12673573989554357,
          0.1050027481313292,
          0.10939483815175358,
          0.129114945221752,
          0.13262011315909633,
          0.13203154423628852,
          0.138369390264457,
          0.11752451383531691,
          0.11433096985667623,
          0.12282105697538372,
          0.1367135271962454,
          0.14454807240109085,
          0.11755255149292422,
          0.12238992290216967,
          0.12919113642495733,
          0.12937999898821448,
          0.11976547881406381,
          0.12083412769772535,
          0.13122918500422814,
          0.12001453375385768,
          0.12733433222077503,
          0.13430305800809061,
          0.11889938244736532,
          0.1390702244422829,
          0.13531867329867203,
          0.13135000596901933,
          0.12429792694623136,
          0.1217875314433014,
          0.11154650512272372,
          0.10807219921086797,
          0.1201011510912912,
          0.12513682118485364,
          0.11238259728288034,
          0.11667859612829218,
          0.1278209019218058,
          0.11382001458494141,
          0.12640929986235552,
          0.1221951042450043,
          0.1289505240176308,
          0.11220441675202242,
          0.121402601252906,
          0.11139534608769878,
          0.12152546475455255,
          0.11676398678026068,
          0.1201211313514584,
          0.12306773398592712,
          0.13666814491993046,
          0.1168041106843564,
          0.13078111290683772,
          0.13720828181264297,
          0.12616697355838155,
          0.12712687603814424,
          0.1179781347742848,
          0.13229728427288845,
          0.10567584982002723,
          0.11506560326274981,
          0.11740894076362805,
          0.12672185290858504,
          0.12262681217998592,
          0.11732196626470827,
          0.14483916992624668,
          0.12080798734590761
         ],
         "yaxis": "y"
        }
       ],
       "layout": {
        "legend": {
         "title": {
          "text": "variable"
         },
         "tracegroupgap": 0
        },
        "template": {
         "data": {
          "bar": [
           {
            "error_x": {
             "color": "#2a3f5f"
            },
            "error_y": {
             "color": "#2a3f5f"
            },
            "marker": {
             "line": {
              "color": "#E5ECF6",
              "width": 0.5
             }
            },
            "type": "bar"
           }
          ],
          "barpolar": [
           {
            "marker": {
             "line": {
              "color": "#E5ECF6",
              "width": 0.5
             }
            },
            "type": "barpolar"
           }
          ],
          "carpet": [
           {
            "aaxis": {
             "endlinecolor": "#2a3f5f",
             "gridcolor": "white",
             "linecolor": "white",
             "minorgridcolor": "white",
             "startlinecolor": "#2a3f5f"
            },
            "baxis": {
             "endlinecolor": "#2a3f5f",
             "gridcolor": "white",
             "linecolor": "white",
             "minorgridcolor": "white",
             "startlinecolor": "#2a3f5f"
            },
            "type": "carpet"
           }
          ],
          "choropleth": [
           {
            "colorbar": {
             "outlinewidth": 0,
             "ticks": ""
            },
            "type": "choropleth"
           }
          ],
          "contour": [
           {
            "colorbar": {
             "outlinewidth": 0,
             "ticks": ""
            },
            "colorscale": [
             [
              0,
              "#0d0887"
             ],
             [
              0.1111111111111111,
              "#46039f"
             ],
             [
              0.2222222222222222,
              "#7201a8"
             ],
             [
              0.3333333333333333,
              "#9c179e"
             ],
             [
              0.4444444444444444,
              "#bd3786"
             ],
             [
              0.5555555555555556,
              "#d8576b"
             ],
             [
              0.6666666666666666,
              "#ed7953"
             ],
             [
              0.7777777777777778,
              "#fb9f3a"
             ],
             [
              0.8888888888888888,
              "#fdca26"
             ],
             [
              1,
              "#f0f921"
             ]
            ],
            "type": "contour"
           }
          ],
          "contourcarpet": [
           {
            "colorbar": {
             "outlinewidth": 0,
             "ticks": ""
            },
            "type": "contourcarpet"
           }
          ],
          "heatmap": [
           {
            "colorbar": {
             "outlinewidth": 0,
             "ticks": ""
            },
            "colorscale": [
             [
              0,
              "#0d0887"
             ],
             [
              0.1111111111111111,
              "#46039f"
             ],
             [
              0.2222222222222222,
              "#7201a8"
             ],
             [
              0.3333333333333333,
              "#9c179e"
             ],
             [
              0.4444444444444444,
              "#bd3786"
             ],
             [
              0.5555555555555556,
              "#d8576b"
             ],
             [
              0.6666666666666666,
              "#ed7953"
             ],
             [
              0.7777777777777778,
              "#fb9f3a"
             ],
             [
              0.8888888888888888,
              "#fdca26"
             ],
             [
              1,
              "#f0f921"
             ]
            ],
            "type": "heatmap"
           }
          ],
          "heatmapgl": [
           {
            "colorbar": {
             "outlinewidth": 0,
             "ticks": ""
            },
            "colorscale": [
             [
              0,
              "#0d0887"
             ],
             [
              0.1111111111111111,
              "#46039f"
             ],
             [
              0.2222222222222222,
              "#7201a8"
             ],
             [
              0.3333333333333333,
              "#9c179e"
             ],
             [
              0.4444444444444444,
              "#bd3786"
             ],
             [
              0.5555555555555556,
              "#d8576b"
             ],
             [
              0.6666666666666666,
              "#ed7953"
             ],
             [
              0.7777777777777778,
              "#fb9f3a"
             ],
             [
              0.8888888888888888,
              "#fdca26"
             ],
             [
              1,
              "#f0f921"
             ]
            ],
            "type": "heatmapgl"
           }
          ],
          "histogram": [
           {
            "marker": {
             "colorbar": {
              "outlinewidth": 0,
              "ticks": ""
             }
            },
            "type": "histogram"
           }
          ],
          "histogram2d": [
           {
            "colorbar": {
             "outlinewidth": 0,
             "ticks": ""
            },
            "colorscale": [
             [
              0,
              "#0d0887"
             ],
             [
              0.1111111111111111,
              "#46039f"
             ],
             [
              0.2222222222222222,
              "#7201a8"
             ],
             [
              0.3333333333333333,
              "#9c179e"
             ],
             [
              0.4444444444444444,
              "#bd3786"
             ],
             [
              0.5555555555555556,
              "#d8576b"
             ],
             [
              0.6666666666666666,
              "#ed7953"
             ],
             [
              0.7777777777777778,
              "#fb9f3a"
             ],
             [
              0.8888888888888888,
              "#fdca26"
             ],
             [
              1,
              "#f0f921"
             ]
            ],
            "type": "histogram2d"
           }
          ],
          "histogram2dcontour": [
           {
            "colorbar": {
             "outlinewidth": 0,
             "ticks": ""
            },
            "colorscale": [
             [
              0,
              "#0d0887"
             ],
             [
              0.1111111111111111,
              "#46039f"
             ],
             [
              0.2222222222222222,
              "#7201a8"
             ],
             [
              0.3333333333333333,
              "#9c179e"
             ],
             [
              0.4444444444444444,
              "#bd3786"
             ],
             [
              0.5555555555555556,
              "#d8576b"
             ],
             [
              0.6666666666666666,
              "#ed7953"
             ],
             [
              0.7777777777777778,
              "#fb9f3a"
             ],
             [
              0.8888888888888888,
              "#fdca26"
             ],
             [
              1,
              "#f0f921"
             ]
            ],
            "type": "histogram2dcontour"
           }
          ],
          "mesh3d": [
           {
            "colorbar": {
             "outlinewidth": 0,
             "ticks": ""
            },
            "type": "mesh3d"
           }
          ],
          "parcoords": [
           {
            "line": {
             "colorbar": {
              "outlinewidth": 0,
              "ticks": ""
             }
            },
            "type": "parcoords"
           }
          ],
          "pie": [
           {
            "automargin": true,
            "type": "pie"
           }
          ],
          "scatter": [
           {
            "marker": {
             "colorbar": {
              "outlinewidth": 0,
              "ticks": ""
             }
            },
            "type": "scatter"
           }
          ],
          "scatter3d": [
           {
            "line": {
             "colorbar": {
              "outlinewidth": 0,
              "ticks": ""
             }
            },
            "marker": {
             "colorbar": {
              "outlinewidth": 0,
              "ticks": ""
             }
            },
            "type": "scatter3d"
           }
          ],
          "scattercarpet": [
           {
            "marker": {
             "colorbar": {
              "outlinewidth": 0,
              "ticks": ""
             }
            },
            "type": "scattercarpet"
           }
          ],
          "scattergeo": [
           {
            "marker": {
             "colorbar": {
              "outlinewidth": 0,
              "ticks": ""
             }
            },
            "type": "scattergeo"
           }
          ],
          "scattergl": [
           {
            "marker": {
             "colorbar": {
              "outlinewidth": 0,
              "ticks": ""
             }
            },
            "type": "scattergl"
           }
          ],
          "scattermapbox": [
           {
            "marker": {
             "colorbar": {
              "outlinewidth": 0,
              "ticks": ""
             }
            },
            "type": "scattermapbox"
           }
          ],
          "scatterpolar": [
           {
            "marker": {
             "colorbar": {
              "outlinewidth": 0,
              "ticks": ""
             }
            },
            "type": "scatterpolar"
           }
          ],
          "scatterpolargl": [
           {
            "marker": {
             "colorbar": {
              "outlinewidth": 0,
              "ticks": ""
             }
            },
            "type": "scatterpolargl"
           }
          ],
          "scatterternary": [
           {
            "marker": {
             "colorbar": {
              "outlinewidth": 0,
              "ticks": ""
             }
            },
            "type": "scatterternary"
           }
          ],
          "surface": [
           {
            "colorbar": {
             "outlinewidth": 0,
             "ticks": ""
            },
            "colorscale": [
             [
              0,
              "#0d0887"
             ],
             [
              0.1111111111111111,
              "#46039f"
             ],
             [
              0.2222222222222222,
              "#7201a8"
             ],
             [
              0.3333333333333333,
              "#9c179e"
             ],
             [
              0.4444444444444444,
              "#bd3786"
             ],
             [
              0.5555555555555556,
              "#d8576b"
             ],
             [
              0.6666666666666666,
              "#ed7953"
             ],
             [
              0.7777777777777778,
              "#fb9f3a"
             ],
             [
              0.8888888888888888,
              "#fdca26"
             ],
             [
              1,
              "#f0f921"
             ]
            ],
            "type": "surface"
           }
          ],
          "table": [
           {
            "cells": {
             "fill": {
              "color": "#EBF0F8"
             },
             "line": {
              "color": "white"
             }
            },
            "header": {
             "fill": {
              "color": "#C8D4E3"
             },
             "line": {
              "color": "white"
             }
            },
            "type": "table"
           }
          ]
         },
         "layout": {
          "annotationdefaults": {
           "arrowcolor": "#2a3f5f",
           "arrowhead": 0,
           "arrowwidth": 1
          },
          "autotypenumbers": "strict",
          "coloraxis": {
           "colorbar": {
            "outlinewidth": 0,
            "ticks": ""
           }
          },
          "colorscale": {
           "diverging": [
            [
             0,
             "#8e0152"
            ],
            [
             0.1,
             "#c51b7d"
            ],
            [
             0.2,
             "#de77ae"
            ],
            [
             0.3,
             "#f1b6da"
            ],
            [
             0.4,
             "#fde0ef"
            ],
            [
             0.5,
             "#f7f7f7"
            ],
            [
             0.6,
             "#e6f5d0"
            ],
            [
             0.7,
             "#b8e186"
            ],
            [
             0.8,
             "#7fbc41"
            ],
            [
             0.9,
             "#4d9221"
            ],
            [
             1,
             "#276419"
            ]
           ],
           "sequential": [
            [
             0,
             "#0d0887"
            ],
            [
             0.1111111111111111,
             "#46039f"
            ],
            [
             0.2222222222222222,
             "#7201a8"
            ],
            [
             0.3333333333333333,
             "#9c179e"
            ],
            [
             0.4444444444444444,
             "#bd3786"
            ],
            [
             0.5555555555555556,
             "#d8576b"
            ],
            [
             0.6666666666666666,
             "#ed7953"
            ],
            [
             0.7777777777777778,
             "#fb9f3a"
            ],
            [
             0.8888888888888888,
             "#fdca26"
            ],
            [
             1,
             "#f0f921"
            ]
           ],
           "sequentialminus": [
            [
             0,
             "#0d0887"
            ],
            [
             0.1111111111111111,
             "#46039f"
            ],
            [
             0.2222222222222222,
             "#7201a8"
            ],
            [
             0.3333333333333333,
             "#9c179e"
            ],
            [
             0.4444444444444444,
             "#bd3786"
            ],
            [
             0.5555555555555556,
             "#d8576b"
            ],
            [
             0.6666666666666666,
             "#ed7953"
            ],
            [
             0.7777777777777778,
             "#fb9f3a"
            ],
            [
             0.8888888888888888,
             "#fdca26"
            ],
            [
             1,
             "#f0f921"
            ]
           ]
          },
          "colorway": [
           "#636efa",
           "#EF553B",
           "#00cc96",
           "#ab63fa",
           "#FFA15A",
           "#19d3f3",
           "#FF6692",
           "#B6E880",
           "#FF97FF",
           "#FECB52"
          ],
          "font": {
           "color": "#2a3f5f"
          },
          "geo": {
           "bgcolor": "white",
           "lakecolor": "white",
           "landcolor": "#E5ECF6",
           "showlakes": true,
           "showland": true,
           "subunitcolor": "white"
          },
          "hoverlabel": {
           "align": "left"
          },
          "hovermode": "closest",
          "mapbox": {
           "style": "light"
          },
          "paper_bgcolor": "white",
          "plot_bgcolor": "#E5ECF6",
          "polar": {
           "angularaxis": {
            "gridcolor": "white",
            "linecolor": "white",
            "ticks": ""
           },
           "bgcolor": "#E5ECF6",
           "radialaxis": {
            "gridcolor": "white",
            "linecolor": "white",
            "ticks": ""
           }
          },
          "scene": {
           "xaxis": {
            "backgroundcolor": "#E5ECF6",
            "gridcolor": "white",
            "gridwidth": 2,
            "linecolor": "white",
            "showbackground": true,
            "ticks": "",
            "zerolinecolor": "white"
           },
           "yaxis": {
            "backgroundcolor": "#E5ECF6",
            "gridcolor": "white",
            "gridwidth": 2,
            "linecolor": "white",
            "showbackground": true,
            "ticks": "",
            "zerolinecolor": "white"
           },
           "zaxis": {
            "backgroundcolor": "#E5ECF6",
            "gridcolor": "white",
            "gridwidth": 2,
            "linecolor": "white",
            "showbackground": true,
            "ticks": "",
            "zerolinecolor": "white"
           }
          },
          "shapedefaults": {
           "line": {
            "color": "#2a3f5f"
           }
          },
          "ternary": {
           "aaxis": {
            "gridcolor": "white",
            "linecolor": "white",
            "ticks": ""
           },
           "baxis": {
            "gridcolor": "white",
            "linecolor": "white",
            "ticks": ""
           },
           "bgcolor": "#E5ECF6",
           "caxis": {
            "gridcolor": "white",
            "linecolor": "white",
            "ticks": ""
           }
          },
          "title": {
           "x": 0.05
          },
          "xaxis": {
           "automargin": true,
           "gridcolor": "white",
           "linecolor": "white",
           "ticks": "",
           "title": {
            "standoff": 15
           },
           "zerolinecolor": "white",
           "zerolinewidth": 2
          },
          "yaxis": {
           "automargin": true,
           "gridcolor": "white",
           "linecolor": "white",
           "ticks": "",
           "title": {
            "standoff": 15
           },
           "zerolinecolor": "white",
           "zerolinewidth": 2
          }
         }
        },
        "title": {
         "text": "RMSE on dataset dataset_1_normalized"
        },
        "xaxis": {
         "anchor": "y",
         "domain": [
          0,
          1
         ],
         "title": {
          "text": "batches"
         }
        },
        "yaxis": {
         "anchor": "x",
         "domain": [
          0,
          1
         ],
         "title": {
          "text": "rmse"
         }
        }
       }
      }
     },
     "metadata": {}
    }
   ],
   "source": [
    "title = \"RMSE on dataset {}\".format(dataset_name)\n",
    "col_names = [\"Pure\", \"FIRES\", \"SGDR\", \"Random\"]\n",
    "d = {\"Pure\":pure_rmse, \"FIRES\":fires_rmse, \"SGDR\":sgdr_rmse, \"Random\":random_rmse}\n",
    "df = pd.DataFrame(d, columns=col_names)\n",
    "fig = px.line(df, y = col_names, title=title, labels={\"index\":\"batches\", \"value\":\"rmse\"}, color_discrete_map={\"Pure\":'blue','FIRES': 'red', \"SGDR\": \"green\", \"Random\":\"cyan\"})\n",
    "rmse_trace = fig[\"data\"]\n",
    "fig.show()"
   ]
  },
  {
   "cell_type": "code",
   "execution_count": 56,
   "metadata": {},
   "outputs": [
    {
     "output_type": "execute_result",
     "data": {
      "text/plain": [
       "169"
      ]
     },
     "metadata": {},
     "execution_count": 56
    }
   ],
   "source": [
    "len(pure_rmse)"
   ]
  },
  {
   "cell_type": "code",
   "execution_count": 57,
   "metadata": {},
   "outputs": [
    {
     "output_type": "display_data",
     "data": {
      "application/vnd.plotly.v1+json": {
       "config": {
        "plotlyServerURL": "https://plot.ly"
       },
       "data": [
        {
         "hovertemplate": "variable=FIRES<br>batches=%{x}<br>stability=%{y}<extra></extra>",
         "legendgroup": "FIRES",
         "line": {
          "color": "red",
          "dash": "solid"
         },
         "mode": "lines",
         "name": "FIRES",
         "orientation": "v",
         "showlegend": false,
         "type": "scatter",
         "x": [
          0,
          1,
          2,
          3,
          4,
          5,
          6,
          7,
          8,
          9,
          10,
          11,
          12,
          13,
          14,
          15,
          16,
          17,
          18,
          19,
          20,
          21,
          22,
          23,
          24,
          25,
          26,
          27,
          28,
          29,
          30,
          31,
          32,
          33,
          34,
          35,
          36,
          37,
          38,
          39,
          40,
          41,
          42,
          43,
          44,
          45,
          46,
          47,
          48,
          49,
          50,
          51,
          52,
          53,
          54,
          55,
          56,
          57,
          58,
          59,
          60,
          61,
          62,
          63,
          64,
          65,
          66,
          67,
          68,
          69,
          70,
          71,
          72,
          73,
          74,
          75,
          76,
          77,
          78,
          79,
          80,
          81,
          82,
          83,
          84,
          85,
          86,
          87,
          88,
          89,
          90,
          91,
          92,
          93,
          94,
          95,
          96,
          97,
          98,
          99,
          100,
          101,
          102,
          103,
          104,
          105,
          106,
          107,
          108,
          109,
          110,
          111,
          112,
          113,
          114,
          115,
          116,
          117,
          118,
          119,
          120,
          121,
          122,
          123,
          124,
          125,
          126,
          127,
          128,
          129,
          130,
          131,
          132,
          133,
          134,
          135,
          136,
          137,
          138,
          139,
          140,
          141,
          142,
          143,
          144,
          145,
          146,
          147,
          148,
          149,
          150,
          151,
          152,
          153,
          154,
          155,
          156,
          157,
          158,
          159,
          160,
          161,
          162,
          163,
          164,
          165,
          166,
          167,
          168,
          169
         ],
         "xaxis": "x",
         "y": [
          0,
          0,
          0,
          0,
          0,
          0,
          0,
          0,
          0,
          0,
          0.9310776942355895,
          0.959273182957394,
          0.9631892230576447,
          0.9577067669172937,
          0.9428258145363412,
          0.9342105263157897,
          0.9302944862155392,
          0.9271616541353388,
          0.9310776942355895,
          0.9342105263157898,
          0.9436090225563915,
          0.959273182957394,
          0.9725877192982461,
          0.9757205513784464,
          0.9741541353383462,
          0.9702380952380957,
          0.9663220551378452,
          0.9577067669172938,
          0.9522243107769429,
          0.9498746867167924,
          0.9506578947368421,
          0.9545739348370929,
          0.961622807017544,
          0.9702380952380956,
          0.9804197994987468,
          0.9929511278195489,
          0.9929511278195492,
          0.9874686716791985,
          0.9835526315789479,
          0.9812030075187974,
          0.9804197994987472,
          0.9812030075187974,
          0.9835526315789477,
          0.987468671679198,
          0.9929511278195489,
          1,
          1,
          1,
          1,
          1,
          1,
          1,
          1,
          1,
          1,
          0.9929511278195492,
          0.9874686716791985,
          0.9835526315789479,
          0.9812030075187974,
          0.9804197994987472,
          0.9772869674185469,
          0.9725877192982461,
          0.9710213032581458,
          0.9725877192982462,
          0.9772869674185469,
          0.9710213032581458,
          0.9678884711779453,
          0.9663220551378452,
          0.9678884711779454,
          0.9725877192982462,
          0.9749373433583964,
          0.9757205513784466,
          0.9780701754385969,
          0.9819862155388474,
          0.9819862155388474,
          0.9819862155388475,
          0.9835526315789479,
          0.9812030075187974,
          0.9804197994987472,
          0.9812030075187974,
          0.9835526315789477,
          0.987468671679198,
          0.9929511278195489,
          1,
          1,
          0.9929511278195492,
          0.9874686716791985,
          0.9835526315789479,
          0.9812030075187974,
          0.9804197994987472,
          0.9812030075187974,
          0.9835526315789477,
          0.980419799498747,
          0.9804197994987472,
          0.9835526315789479,
          0.9812030075187974,
          0.9804197994987472,
          0.9812030075187974,
          0.9835526315789477,
          0.987468671679198,
          0.9929511278195489,
          1,
          1,
          1,
          1,
          1,
          1,
          1,
          1,
          1,
          1,
          1,
          1,
          1,
          1,
          1,
          1,
          1,
          1,
          1,
          1,
          1,
          1,
          1,
          1,
          0.9929511278195492,
          0.9874686716791985,
          0.9835526315789479,
          0.9812030075187974,
          0.9804197994987472,
          0.9812030075187974,
          0.9788533834586471,
          0.9780701754385969,
          0.9788533834586471,
          0.9812030075187974,
          0.9804197994987472,
          0.9812030075187974,
          0.9835526315789477,
          0.987468671679198,
          0.9929511278195489,
          1,
          1,
          1,
          1,
          1,
          1,
          1,
          1,
          1,
          1,
          1,
          1,
          1,
          1,
          1,
          1,
          1,
          1,
          1,
          1,
          1,
          1,
          1,
          1,
          1,
          1,
          0.9929511278195492,
          0.9874686716791985,
          0.9835526315789479,
          0.9812030075187974
         ],
         "yaxis": "y"
        },
        {
         "hovertemplate": "variable=SGDR<br>batches=%{x}<br>stability=%{y}<extra></extra>",
         "legendgroup": "SGDR",
         "line": {
          "color": "green",
          "dash": "solid"
         },
         "mode": "lines",
         "name": "SGDR",
         "orientation": "v",
         "showlegend": false,
         "type": "scatter",
         "x": [
          0,
          1,
          2,
          3,
          4,
          5,
          6,
          7,
          8,
          9,
          10,
          11,
          12,
          13,
          14,
          15,
          16,
          17,
          18,
          19,
          20,
          21,
          22,
          23,
          24,
          25,
          26,
          27,
          28,
          29,
          30,
          31,
          32,
          33,
          34,
          35,
          36,
          37,
          38,
          39,
          40,
          41,
          42,
          43,
          44,
          45,
          46,
          47,
          48,
          49,
          50,
          51,
          52,
          53,
          54,
          55,
          56,
          57,
          58,
          59,
          60,
          61,
          62,
          63,
          64,
          65,
          66,
          67,
          68,
          69,
          70,
          71,
          72,
          73,
          74,
          75,
          76,
          77,
          78,
          79,
          80,
          81,
          82,
          83,
          84,
          85,
          86,
          87,
          88,
          89,
          90,
          91,
          92,
          93,
          94,
          95,
          96,
          97,
          98,
          99,
          100,
          101,
          102,
          103,
          104,
          105,
          106,
          107,
          108,
          109,
          110,
          111,
          112,
          113,
          114,
          115,
          116,
          117,
          118,
          119,
          120,
          121,
          122,
          123,
          124,
          125,
          126,
          127,
          128,
          129,
          130,
          131,
          132,
          133,
          134,
          135,
          136,
          137,
          138,
          139,
          140,
          141,
          142,
          143,
          144,
          145,
          146,
          147,
          148,
          149,
          150,
          151,
          152,
          153,
          154,
          155,
          156,
          157,
          158,
          159,
          160,
          161,
          162,
          163,
          164,
          165,
          166,
          167,
          168,
          169
         ],
         "xaxis": "x",
         "y": [
          0,
          0,
          0,
          0,
          0,
          0,
          0,
          0,
          0,
          0,
          0.7086466165413535,
          0.7446741854636593,
          0.7838345864661656,
          0.7947994987468673,
          0.8096804511278196,
          0.830043859649123,
          0.8433583959899753,
          0.8684210526315792,
          0.8856516290726819,
          0.9005325814536345,
          0.9114974937343364,
          0.9177631578947371,
          0.9161967418546365,
          0.9146303258145362,
          0.9130639097744359,
          0.9122807017543861,
          0.8973997493734339,
          0.8903508771929827,
          0.8927005012531329,
          0.8989661654135342,
          0.9169799498746869,
          0.93656015037594,
          0.9404761904761906,
          0.9483082706766922,
          0.9624060150375945,
          0.9671052631578954,
          0.953790726817043,
          0.9443922305764417,
          0.9404761904761911,
          0.9373433583959904,
          0.9334273182957395,
          0.9310776942355892,
          0.9318609022556392,
          0.9334273182957398,
          0.9381265664160405,
          0.9436090225563911,
          0.9498746867167924,
          0.9420426065162915,
          0.9295112781954891,
          0.9310776942355892,
          0.9318609022556392,
          0.9302944862155392,
          0.9240288220551383,
          0.9201127819548878,
          0.9208959899749377,
          0.9240288220551383,
          0.9310776942355895,
          0.9279448621553891,
          0.9349937343358401,
          0.9342105263157897,
          0.9334273182957398,
          0.9396929824561409,
          0.9357769423558904,
          0.9326441102756896,
          0.9295112781954891,
          0.9279448621553884,
          0.9263784461152887,
          0.9248120300751884,
          0.922462406015038,
          0.9169799498746869,
          0.9208959899749377,
          0.9201127819548877,
          0.9146303258145366,
          0.9208959899749379,
          0.923245614035088,
          0.9248120300751882,
          0.9318609022556394,
          0.9334273182957399,
          0.9412593984962412,
          0.944392230576442,
          0.9522243107769431,
          0.953790726817043,
          0.9553571428571431,
          0.9553571428571432,
          0.9522243107769427,
          0.959273182957394,
          0.9608395989974944,
          0.965538847117795,
          0.9702380952380959,
          0.9647556390977451,
          0.9600563909774443,
          0.9490914786967422,
          0.9483082706766919,
          0.9483082706766921,
          0.9404761904761906,
          0.9404761904761908,
          0.9365601503759403,
          0.9420426065162915,
          0.9428258145363417,
          0.9475250626566422,
          0.9569235588972433,
          0.9561403508771931,
          0.9577067669172937,
          0.9569235588972439,
          0.9584899749373442,
          0.9616228070175445,
          0.9608395989974939,
          0.9600563909774439,
          0.9561403508771934,
          0.9608395989974943,
          0.9686716791979954,
          0.9796365914786971,
          0.9859022556390982,
          0.9874686716791984,
          0.9835526315789479,
          0.9812030075187974,
          0.9804197994987472,
          0.9812030075187974,
          0.9812030075187974,
          0.9765037593984965,
          0.9804197994987471,
          0.985902255639098,
          0.9874686716791985,
          0.9835526315789479,
          0.9788533834586471,
          0.9757205513784467,
          0.9741541353383464,
          0.9741541353383464,
          0.9757205513784466,
          0.9780701754385969,
          0.9819862155388474,
          0.987468671679198,
          0.9929511278195489,
          1,
          1,
          1,
          0.9929511278195492,
          0.9866854636591484,
          0.9819862155388477,
          0.9788533834586471,
          0.9741541353383465,
          0.9710213032581462,
          0.9694548872180456,
          0.9694548872180455,
          0.9710213032581458,
          0.9741541353383462,
          0.9765037593984965,
          0.980419799498747,
          0.985902255639098,
          0.9929511278195492,
          0.9929511278195492,
          0.9874686716791984,
          0.9835526315789479,
          0.9812030075187974,
          0.9733709273182962,
          0.971021303258146,
          0.9663220551378452,
          0.9631892230576447,
          0.9584899749373438,
          0.9569235588972435,
          0.9584899749373438,
          0.9616228070175445,
          0.9678884711779453,
          0.9772869674185466,
          0.9819862155388474,
          0.987468671679198,
          0.9929511278195489,
          1,
          1,
          1
         ],
         "yaxis": "y"
        },
        {
         "hovertemplate": "variable=Pure<br>batches=%{x}<br>rmse=%{y}<extra></extra>",
         "legendgroup": "Pure",
         "line": {
          "color": "blue",
          "dash": "solid"
         },
         "mode": "lines",
         "name": "Pure",
         "orientation": "v",
         "showlegend": true,
         "type": "scatter",
         "x": [
          0,
          1,
          2,
          3,
          4,
          5,
          6,
          7,
          8,
          9,
          10,
          11,
          12,
          13,
          14,
          15,
          16,
          17,
          18,
          19,
          20,
          21,
          22,
          23,
          24,
          25,
          26,
          27,
          28,
          29,
          30,
          31,
          32,
          33,
          34,
          35,
          36,
          37,
          38,
          39,
          40,
          41,
          42,
          43,
          44,
          45,
          46,
          47,
          48,
          49,
          50,
          51,
          52,
          53,
          54,
          55,
          56,
          57,
          58,
          59,
          60,
          61,
          62,
          63,
          64,
          65,
          66,
          67,
          68,
          69,
          70,
          71,
          72,
          73,
          74,
          75,
          76,
          77,
          78,
          79,
          80,
          81,
          82,
          83,
          84,
          85,
          86,
          87,
          88,
          89,
          90,
          91,
          92,
          93,
          94,
          95,
          96,
          97,
          98,
          99,
          100,
          101,
          102,
          103,
          104,
          105,
          106,
          107,
          108,
          109,
          110,
          111,
          112,
          113,
          114,
          115,
          116,
          117,
          118,
          119,
          120,
          121,
          122,
          123,
          124,
          125,
          126,
          127,
          128,
          129,
          130,
          131,
          132,
          133,
          134,
          135,
          136,
          137,
          138,
          139,
          140,
          141,
          142,
          143,
          144,
          145,
          146,
          147,
          148,
          149,
          150,
          151,
          152,
          153,
          154,
          155,
          156,
          157,
          158,
          159,
          160,
          161,
          162,
          163,
          164,
          165,
          166,
          167,
          168
         ],
         "xaxis": "x2",
         "y": [
          0.11766883236995583,
          0.12731598507095285,
          0.13677871156285773,
          0.10175372400419655,
          0.1342090535671736,
          0.10349769207865539,
          0.12080701336786924,
          0.12043888245832776,
          0.10430298260204043,
          0.10683905754520776,
          0.12613510197537653,
          0.12028053897781364,
          0.11737603549551667,
          0.10936482108758869,
          0.11659804088316314,
          0.11371017637249611,
          0.11890361475102157,
          0.11791460376007959,
          0.11279925965052719,
          0.11954505302575909,
          0.12703080283344995,
          0.12322389803085616,
          0.1198150963498521,
          0.10138081441762256,
          0.10453976267441155,
          0.12032808728097619,
          0.11052834746731628,
          0.11507264711099144,
          0.1151662684063703,
          0.10148418871694127,
          0.11417005339636267,
          0.10069108018053473,
          0.11274562427618354,
          0.1046571901902908,
          0.10855872699570544,
          0.10837398549540633,
          0.10391321808941574,
          0.11624932103849667,
          0.10089663897508099,
          0.09735555216395625,
          0.11600107201448943,
          0.09698210908298982,
          0.1157705869745166,
          0.10210586945527378,
          0.09416288804819764,
          0.09191920300673666,
          0.12200797830505439,
          0.09718390798804098,
          0.12295860388378571,
          0.104452615960591,
          0.0983749542681343,
          0.10305059618057802,
          0.10624283941084114,
          0.10799879387381375,
          0.10323033628605623,
          0.11652355482963939,
          0.104003348214412,
          0.10639167470701265,
          0.10850398292073662,
          0.10764433807045236,
          0.11651467433966695,
          0.11111752091736889,
          0.10861247637969859,
          0.11399559946731894,
          0.10760908555992399,
          0.10852407372885513,
          0.10391604846127357,
          0.09603496575558162,
          0.09023905672158933,
          0.10303068005144511,
          0.09690867105783611,
          0.10225756388848797,
          0.09479174479666622,
          0.09724242999378409,
          0.10753832108847895,
          0.11926875532706124,
          0.10286795846300348,
          0.10720841229605332,
          0.10225986288398493,
          0.10165847856631594,
          0.11304889740868203,
          0.09775809298066153,
          0.10918295404431047,
          0.0993136755703874,
          0.09745217341817518,
          0.09926588545820261,
          0.09320643628918898,
          0.11132618499546008,
          0.10615737778945136,
          0.09480576036005786,
          0.10234509576545507,
          0.08517792661759035,
          0.097505684549405,
          0.10864003332492593,
          0.09580229111577752,
          0.09460110308056381,
          0.09470529070543048,
          0.09808807878043525,
          0.11435981164312999,
          0.09543878788020574,
          0.10861146836367533,
          0.104292427215733,
          0.11066327314394821,
          0.09685606397533472,
          0.10257093396277181,
          0.09281648704282335,
          0.09744927627191789,
          0.10203201122433864,
          0.08632038554088087,
          0.08776954314392338,
          0.10346682126587524,
          0.10461177984649157,
          0.09109515917012578,
          0.10090988250815211,
          0.0957356578118914,
          0.08968135503667159,
          0.09476432565075778,
          0.11514192512246159,
          0.09581204746809431,
          0.09307375976587197,
          0.09646522328113843,
          0.10022398912963791,
          0.10359246256146641,
          0.0935144389100416,
          0.09667097110650232,
          0.10423471049210122,
          0.09148649328694357,
          0.10387290568053012,
          0.10018450542758918,
          0.09229398358760374,
          0.11015995982385837,
          0.10345827008153527,
          0.0963976869414047,
          0.10259282890333919,
          0.09300065377860457,
          0.08530743329655092,
          0.08194811999010237,
          0.08941474015188547,
          0.09637130303847564,
          0.08913893546785069,
          0.08871217514873828,
          0.08729657614613599,
          0.0833766794335997,
          0.10041354551568418,
          0.08749529039660986,
          0.09793106837584004,
          0.08717654334229709,
          0.09012739501256381,
          0.0862220361914187,
          0.09129701300798766,
          0.08989309288528474,
          0.08338296120471111,
          0.09190066265630605,
          0.10487990723649478,
          0.08392591750646038,
          0.08729103510511695,
          0.11444143058423402,
          0.10482250629169558,
          0.09501252106399775,
          0.08703133153211187,
          0.10061192668785515,
          0.0790470201646792,
          0.08415444723488953,
          0.08327557931659942,
          0.09158472940412292,
          0.08991080500872016,
          0.08682882531501027,
          0.09808577676169941,
          0.09220200916765772
         ],
         "yaxis": "y2"
        },
        {
         "hovertemplate": "variable=FIRES<br>batches=%{x}<br>rmse=%{y}<extra></extra>",
         "legendgroup": "FIRES",
         "line": {
          "color": "red",
          "dash": "solid"
         },
         "mode": "lines",
         "name": "FIRES",
         "orientation": "v",
         "showlegend": true,
         "type": "scatter",
         "x": [
          0,
          1,
          2,
          3,
          4,
          5,
          6,
          7,
          8,
          9,
          10,
          11,
          12,
          13,
          14,
          15,
          16,
          17,
          18,
          19,
          20,
          21,
          22,
          23,
          24,
          25,
          26,
          27,
          28,
          29,
          30,
          31,
          32,
          33,
          34,
          35,
          36,
          37,
          38,
          39,
          40,
          41,
          42,
          43,
          44,
          45,
          46,
          47,
          48,
          49,
          50,
          51,
          52,
          53,
          54,
          55,
          56,
          57,
          58,
          59,
          60,
          61,
          62,
          63,
          64,
          65,
          66,
          67,
          68,
          69,
          70,
          71,
          72,
          73,
          74,
          75,
          76,
          77,
          78,
          79,
          80,
          81,
          82,
          83,
          84,
          85,
          86,
          87,
          88,
          89,
          90,
          91,
          92,
          93,
          94,
          95,
          96,
          97,
          98,
          99,
          100,
          101,
          102,
          103,
          104,
          105,
          106,
          107,
          108,
          109,
          110,
          111,
          112,
          113,
          114,
          115,
          116,
          117,
          118,
          119,
          120,
          121,
          122,
          123,
          124,
          125,
          126,
          127,
          128,
          129,
          130,
          131,
          132,
          133,
          134,
          135,
          136,
          137,
          138,
          139,
          140,
          141,
          142,
          143,
          144,
          145,
          146,
          147,
          148,
          149,
          150,
          151,
          152,
          153,
          154,
          155,
          156,
          157,
          158,
          159,
          160,
          161,
          162,
          163,
          164,
          165,
          166,
          167,
          168
         ],
         "xaxis": "x2",
         "y": [
          0.3567874243551225,
          0.13065020234834235,
          0.13747926333984112,
          0.10550373610400947,
          0.13542043979275567,
          0.09470808559809743,
          0.12185898048403594,
          0.12494184585301624,
          0.10154441779412188,
          0.10776060203718611,
          0.1273821726514355,
          0.12188140335588821,
          0.11684061698283554,
          0.10888589061587366,
          0.11945478742677075,
          0.11704210372244907,
          0.12018287763213321,
          0.12068839607706298,
          0.11994383845194623,
          0.1228970576510442,
          0.13396114539289397,
          0.12271577077368587,
          0.12421739262314738,
          0.10545707364008912,
          0.10985686480316927,
          0.12993555994065123,
          0.1179365292352487,
          0.11785149428396888,
          0.12202181521543803,
          0.09952440281284339,
          0.1197764481069226,
          0.11441158157862898,
          0.11896237864163584,
          0.10957856952455079,
          0.11869456633373811,
          0.11713816340763658,
          0.11123093797341671,
          0.12557398675332096,
          0.10709984077462256,
          0.10152502596099619,
          0.12664225018491534,
          0.10365178620822729,
          0.12458440654703665,
          0.1107586513108742,
          0.10355889005387493,
          0.09936950913936124,
          0.13236720109270286,
          0.10157970237393746,
          0.1349323550688465,
          0.11370123474719399,
          0.11014249435649347,
          0.11049631968760953,
          0.11485487270935178,
          0.11745213997328104,
          0.11197893914325284,
          0.12739722729305003,
          0.11667789772548513,
          0.11590776271190958,
          0.12192194797330647,
          0.12159532587684087,
          0.12546349961778627,
          0.13139309686995665,
          0.11796031483810235,
          0.1268952849698989,
          0.1180058855161875,
          0.12264256743818192,
          0.11563986116633798,
          0.10618559170679444,
          0.09974530175672132,
          0.11483993944774927,
          0.1086358170074574,
          0.11340294601439305,
          0.10837246146141191,
          0.10952141212502031,
          0.11608429814963644,
          0.13240944480668454,
          0.11729440404964583,
          0.11687080506410805,
          0.11627679617997007,
          0.11596727543320284,
          0.1274227128814923,
          0.11354626439775602,
          0.12501536944070388,
          0.11570383001901817,
          0.11369059596404948,
          0.10757077498417932,
          0.10361619639384899,
          0.12087418738967189,
          0.10465390548244621,
          0.11250162810583116,
          0.11291300707331448,
          0.10210051953726136,
          0.10935323066955711,
          0.12408243082499032,
          0.10803436009680675,
          0.11196132247961406,
          0.11192372750253053,
          0.1108540369860528,
          0.11642990734502583,
          0.11057637241496765,
          0.12440397133052598,
          0.1222534767625366,
          0.12368732534446977,
          0.11449183244862846,
          0.12191828277871562,
          0.10807766187631229,
          0.11274595730159269,
          0.12085014464104658,
          0.10260528478580644,
          0.10324877722383392,
          0.12317054267494883,
          0.11633923937141806,
          0.10196512733150188,
          0.11059768629057566,
          0.11036627878937884,
          0.10277030337742807,
          0.10903211903270026,
          0.1288657321278992,
          0.11144244810509905,
          0.10739336528384434,
          0.1145095502143523,
          0.11743141874770631,
          0.12032444792481502,
          0.11107341483102211,
          0.10859186862094913,
          0.12236222767057911,
          0.10980294375870062,
          0.12258661688471675,
          0.11806420092797888,
          0.1057009328313073,
          0.12844959971670333,
          0.12280056524512122,
          0.11662151190523183,
          0.12194073714915155,
          0.10747611628148918,
          0.10218241041781173,
          0.09972610601822454,
          0.10197765480017766,
          0.11162484619442446,
          0.10249949040376183,
          0.10836392392511747,
          0.10594057288059483,
          0.09730744192332859,
          0.11396753686142795,
          0.09839091957778776,
          0.11807661953779744,
          0.1033464955652269,
          0.10998480859138124,
          0.10702065590620675,
          0.1092610240031902,
          0.10774704148201919,
          0.10254708679485255,
          0.11301932229958142,
          0.1261502293645824,
          0.10030627129143148,
          0.10816129832602381,
          0.13811376026113628,
          0.11855916447767094,
          0.1178034108039655,
          0.10590018235263307,
          0.11731878004247141,
          0.09804301475302414,
          0.10288202432711668,
          0.1020834676517175,
          0.11282086630336349,
          0.11058811805255511,
          0.10649185794900326,
          0.11680221121729034,
          0.11389013446138198
         ],
         "yaxis": "y2"
        },
        {
         "hovertemplate": "variable=SGDR<br>batches=%{x}<br>rmse=%{y}<extra></extra>",
         "legendgroup": "SGDR",
         "line": {
          "color": "green",
          "dash": "solid"
         },
         "mode": "lines",
         "name": "SGDR",
         "orientation": "v",
         "showlegend": true,
         "type": "scatter",
         "x": [
          0,
          1,
          2,
          3,
          4,
          5,
          6,
          7,
          8,
          9,
          10,
          11,
          12,
          13,
          14,
          15,
          16,
          17,
          18,
          19,
          20,
          21,
          22,
          23,
          24,
          25,
          26,
          27,
          28,
          29,
          30,
          31,
          32,
          33,
          34,
          35,
          36,
          37,
          38,
          39,
          40,
          41,
          42,
          43,
          44,
          45,
          46,
          47,
          48,
          49,
          50,
          51,
          52,
          53,
          54,
          55,
          56,
          57,
          58,
          59,
          60,
          61,
          62,
          63,
          64,
          65,
          66,
          67,
          68,
          69,
          70,
          71,
          72,
          73,
          74,
          75,
          76,
          77,
          78,
          79,
          80,
          81,
          82,
          83,
          84,
          85,
          86,
          87,
          88,
          89,
          90,
          91,
          92,
          93,
          94,
          95,
          96,
          97,
          98,
          99,
          100,
          101,
          102,
          103,
          104,
          105,
          106,
          107,
          108,
          109,
          110,
          111,
          112,
          113,
          114,
          115,
          116,
          117,
          118,
          119,
          120,
          121,
          122,
          123,
          124,
          125,
          126,
          127,
          128,
          129,
          130,
          131,
          132,
          133,
          134,
          135,
          136,
          137,
          138,
          139,
          140,
          141,
          142,
          143,
          144,
          145,
          146,
          147,
          148,
          149,
          150,
          151,
          152,
          153,
          154,
          155,
          156,
          157,
          158,
          159,
          160,
          161,
          162,
          163,
          164,
          165,
          166,
          167,
          168
         ],
         "xaxis": "x2",
         "y": [
          0.3572596137465994,
          0.12547686192143853,
          0.13232911853439752,
          0.09341689647809755,
          0.12201345274796457,
          0.08970385341690648,
          0.1044744166222984,
          0.11342913066100511,
          0.09205113813733101,
          0.09808735483638793,
          0.11499668611533467,
          0.10639769928027787,
          0.10696757341738136,
          0.09941101123968007,
          0.10735504931498908,
          0.10416516604618342,
          0.11055941304734807,
          0.11145917089592929,
          0.10785683875891337,
          0.11061203542089955,
          0.11760536318729876,
          0.11416837309780609,
          0.11152971000665873,
          0.09354514770522246,
          0.10077775313739366,
          0.11261839117322531,
          0.10352404313447938,
          0.10778714804690492,
          0.10949795376657143,
          0.08786107211853492,
          0.10781144967791173,
          0.0975045804944413,
          0.10315892386245265,
          0.10059748554540723,
          0.10278660428610185,
          0.10353227195679719,
          0.09995817650233774,
          0.10808721656380858,
          0.09711449521119186,
          0.09140681190861025,
          0.113240174306185,
          0.09195782536029803,
          0.10531505835172895,
          0.09858644943757504,
          0.09070386531382306,
          0.08669402595525691,
          0.11563148174767565,
          0.08584082919910282,
          0.11674319563153138,
          0.10025741456547041,
          0.0935110585074248,
          0.09745866864253266,
          0.10089625005924482,
          0.09947431639957614,
          0.09880824041337877,
          0.11080943114704661,
          0.09873371369750551,
          0.09901590960153465,
          0.10427380808225307,
          0.10306430636753508,
          0.1077587526381188,
          0.11653092305874105,
          0.10079547701242267,
          0.10930779157748202,
          0.10436207400410488,
          0.10486254919278418,
          0.09970507394279135,
          0.09332071741468174,
          0.0877293525955183,
          0.10075606578198623,
          0.094227640328447,
          0.09990813196350437,
          0.09128842636545267,
          0.0947077921716082,
          0.09815164413424483,
          0.11117334133341426,
          0.1003183274665572,
          0.10319151073551991,
          0.09923732890349059,
          0.09866712711409893,
          0.10942425593248489,
          0.09659918204962459,
          0.10763479718651352,
          0.09532890786482001,
          0.0942361277185657,
          0.09595671147771143,
          0.08964096883702549,
          0.10441846447329797,
          0.09261948671794035,
          0.09406291327203935,
          0.0985654948831845,
          0.0846224541543799,
          0.09254370510771473,
          0.10621104011980283,
          0.09427116973728235,
          0.09491283056413478,
          0.09177237375953332,
          0.09549755220705346,
          0.09972487139783474,
          0.09080298817765135,
          0.10750555431545607,
          0.10382945094534425,
          0.10449942973244586,
          0.09497456526648582,
          0.10104328151373833,
          0.0918268274270093,
          0.09485275510681274,
          0.10301338495058904,
          0.08539782971482382,
          0.08523049063030988,
          0.10204416762786685,
          0.10302675630870405,
          0.08953436869873037,
          0.09377335967647461,
          0.09498098057866516,
          0.0894167324183185,
          0.09395715972903672,
          0.1123953895541942,
          0.09571378523933816,
          0.09427994332600226,
          0.09609235595244328,
          0.10005602331161365,
          0.10341151671047341,
          0.09399601335432045,
          0.09435526285567307,
          0.10353986899145365,
          0.09048143355283865,
          0.10344606960383652,
          0.0987309643113998,
          0.09181193107585336,
          0.10994793117749006,
          0.10343216220046304,
          0.09614317083513607,
          0.09987499485051811,
          0.09271441722823191,
          0.0879007908295477,
          0.08521419346133868,
          0.08977847521500433,
          0.0967353210483006,
          0.0883290166027257,
          0.08881110534086135,
          0.08827931781633669,
          0.08288100766136305,
          0.09753385482178187,
          0.08420571025867084,
          0.0987028135676967,
          0.08703920688051234,
          0.09164329683584098,
          0.08710834769846167,
          0.0925575772588268,
          0.09173025957945699,
          0.08426228409515756,
          0.09401448129318751,
          0.10516550128681013,
          0.08540978924238608,
          0.08880998387621243,
          0.11118996655138356,
          0.10624795931620287,
          0.0953998114136482,
          0.0848947170066749,
          0.09930915418005645,
          0.08066861137874061,
          0.08603373315563366,
          0.08471963015896841,
          0.09411117098882962,
          0.09206214887796588,
          0.08819542698570121,
          0.09925016126348751,
          0.09445534838698971
         ],
         "yaxis": "y2"
        },
        {
         "hovertemplate": "variable=Random<br>batches=%{x}<br>rmse=%{y}<extra></extra>",
         "legendgroup": "Random",
         "line": {
          "color": "cyan",
          "dash": "solid"
         },
         "mode": "lines",
         "name": "Random",
         "orientation": "v",
         "showlegend": true,
         "type": "scatter",
         "x": [
          0,
          1,
          2,
          3,
          4,
          5,
          6,
          7,
          8,
          9,
          10,
          11,
          12,
          13,
          14,
          15,
          16,
          17,
          18,
          19,
          20,
          21,
          22,
          23,
          24,
          25,
          26,
          27,
          28,
          29,
          30,
          31,
          32,
          33,
          34,
          35,
          36,
          37,
          38,
          39,
          40,
          41,
          42,
          43,
          44,
          45,
          46,
          47,
          48,
          49,
          50,
          51,
          52,
          53,
          54,
          55,
          56,
          57,
          58,
          59,
          60,
          61,
          62,
          63,
          64,
          65,
          66,
          67,
          68,
          69,
          70,
          71,
          72,
          73,
          74,
          75,
          76,
          77,
          78,
          79,
          80,
          81,
          82,
          83,
          84,
          85,
          86,
          87,
          88,
          89,
          90,
          91,
          92,
          93,
          94,
          95,
          96,
          97,
          98,
          99,
          100,
          101,
          102,
          103,
          104,
          105,
          106,
          107,
          108,
          109,
          110,
          111,
          112,
          113,
          114,
          115,
          116,
          117,
          118,
          119,
          120,
          121,
          122,
          123,
          124,
          125,
          126,
          127,
          128,
          129,
          130,
          131,
          132,
          133,
          134,
          135,
          136,
          137,
          138,
          139,
          140,
          141,
          142,
          143,
          144,
          145,
          146,
          147,
          148,
          149,
          150,
          151,
          152,
          153,
          154,
          155,
          156,
          157,
          158,
          159,
          160,
          161,
          162,
          163,
          164,
          165,
          166,
          167,
          168
         ],
         "xaxis": "x2",
         "y": [
          0.3685034207287694,
          0.26437850157991866,
          0.23460511213937316,
          0.16397756919326462,
          0.1573246675505103,
          0.17364584570957464,
          0.11163115131471264,
          0.13100907396894532,
          0.10888201101834998,
          0.11180607416646637,
          0.13886100935630308,
          0.14506660686849,
          0.1279117368066817,
          0.11613781456606471,
          0.12649396989369122,
          0.1191901993877784,
          0.1257797939278044,
          0.12614850509655648,
          0.11383710809577868,
          0.12534073295487527,
          0.14962571212769288,
          0.13261948745832125,
          0.12894745551883718,
          0.12068575262953805,
          0.11543273925785548,
          0.13138632305519798,
          0.14562946314791234,
          0.12372179627325204,
          0.13795755100230198,
          0.10127660300890004,
          0.12671280597050602,
          0.12966685875110942,
          0.11842299989145345,
          0.12685814153622185,
          0.12740042548625902,
          0.12226107275843198,
          0.11953857186566848,
          0.1267874295877466,
          0.12189028748244206,
          0.1162322293889396,
          0.12573628439979645,
          0.10804963931117055,
          0.16226266382925686,
          0.11653007499862085,
          0.10956731272360172,
          0.10416474787912396,
          0.13553179004181004,
          0.10942097360267403,
          0.14218300247668197,
          0.12335870299334555,
          0.11989511707767742,
          0.123564622766161,
          0.1222164274369717,
          0.13646168709256604,
          0.12135018334018571,
          0.1337174756739104,
          0.12611804391300266,
          0.11740941121019403,
          0.12693559896277354,
          0.12978526022944628,
          0.15822440926387243,
          0.13546427394340887,
          0.13139270342646442,
          0.12958565739062208,
          0.12208658947725234,
          0.13985088312864732,
          0.11851464556199333,
          0.11382006096604708,
          0.10961929100625822,
          0.12793344937052653,
          0.126558644568806,
          0.1191917658426236,
          0.11566878914823003,
          0.11468546946454883,
          0.12301480891674976,
          0.1359339242069343,
          0.11873815964143764,
          0.1307221402396545,
          0.131473343249978,
          0.12066193925967741,
          0.1346242643969784,
          0.1149089408171784,
          0.13326485513079092,
          0.11832070736451376,
          0.12716495679792564,
          0.12902716785170254,
          0.12479007385655301,
          0.1351618290948556,
          0.11034115916697564,
          0.11899274773638698,
          0.12168483980219214,
          0.11209524740193338,
          0.11806649561749226,
          0.13262191745971566,
          0.11792968928069439,
          0.11410173888552831,
          0.11572834791611124,
          0.12279609568871237,
          0.12977554946251038,
          0.11438795563452057,
          0.13323022046430752,
          0.13317681091810935,
          0.14112139398373724,
          0.12148926062147052,
          0.12665629963872824,
          0.11500064212649552,
          0.11672029061118379,
          0.12673573989554357,
          0.1050027481313292,
          0.10939483815175358,
          0.129114945221752,
          0.13262011315909633,
          0.13203154423628852,
          0.138369390264457,
          0.11752451383531691,
          0.11433096985667623,
          0.12282105697538372,
          0.1367135271962454,
          0.14454807240109085,
          0.11755255149292422,
          0.12238992290216967,
          0.12919113642495733,
          0.12937999898821448,
          0.11976547881406381,
          0.12083412769772535,
          0.13122918500422814,
          0.12001453375385768,
          0.12733433222077503,
          0.13430305800809061,
          0.11889938244736532,
          0.1390702244422829,
          0.13531867329867203,
          0.13135000596901933,
          0.12429792694623136,
          0.1217875314433014,
          0.11154650512272372,
          0.10807219921086797,
          0.1201011510912912,
          0.12513682118485364,
          0.11238259728288034,
          0.11667859612829218,
          0.1278209019218058,
          0.11382001458494141,
          0.12640929986235552,
          0.1221951042450043,
          0.1289505240176308,
          0.11220441675202242,
          0.121402601252906,
          0.11139534608769878,
          0.12152546475455255,
          0.11676398678026068,
          0.1201211313514584,
          0.12306773398592712,
          0.13666814491993046,
          0.1168041106843564,
          0.13078111290683772,
          0.13720828181264297,
          0.12616697355838155,
          0.12712687603814424,
          0.1179781347742848,
          0.13229728427288845,
          0.10567584982002723,
          0.11506560326274981,
          0.11740894076362805,
          0.12672185290858504,
          0.12262681217998592,
          0.11732196626470827,
          0.14483916992624668,
          0.12080798734590761
         ],
         "yaxis": "y2"
        }
       ],
       "layout": {
        "template": {
         "data": {
          "bar": [
           {
            "error_x": {
             "color": "#2a3f5f"
            },
            "error_y": {
             "color": "#2a3f5f"
            },
            "marker": {
             "line": {
              "color": "#E5ECF6",
              "width": 0.5
             }
            },
            "type": "bar"
           }
          ],
          "barpolar": [
           {
            "marker": {
             "line": {
              "color": "#E5ECF6",
              "width": 0.5
             }
            },
            "type": "barpolar"
           }
          ],
          "carpet": [
           {
            "aaxis": {
             "endlinecolor": "#2a3f5f",
             "gridcolor": "white",
             "linecolor": "white",
             "minorgridcolor": "white",
             "startlinecolor": "#2a3f5f"
            },
            "baxis": {
             "endlinecolor": "#2a3f5f",
             "gridcolor": "white",
             "linecolor": "white",
             "minorgridcolor": "white",
             "startlinecolor": "#2a3f5f"
            },
            "type": "carpet"
           }
          ],
          "choropleth": [
           {
            "colorbar": {
             "outlinewidth": 0,
             "ticks": ""
            },
            "type": "choropleth"
           }
          ],
          "contour": [
           {
            "colorbar": {
             "outlinewidth": 0,
             "ticks": ""
            },
            "colorscale": [
             [
              0,
              "#0d0887"
             ],
             [
              0.1111111111111111,
              "#46039f"
             ],
             [
              0.2222222222222222,
              "#7201a8"
             ],
             [
              0.3333333333333333,
              "#9c179e"
             ],
             [
              0.4444444444444444,
              "#bd3786"
             ],
             [
              0.5555555555555556,
              "#d8576b"
             ],
             [
              0.6666666666666666,
              "#ed7953"
             ],
             [
              0.7777777777777778,
              "#fb9f3a"
             ],
             [
              0.8888888888888888,
              "#fdca26"
             ],
             [
              1,
              "#f0f921"
             ]
            ],
            "type": "contour"
           }
          ],
          "contourcarpet": [
           {
            "colorbar": {
             "outlinewidth": 0,
             "ticks": ""
            },
            "type": "contourcarpet"
           }
          ],
          "heatmap": [
           {
            "colorbar": {
             "outlinewidth": 0,
             "ticks": ""
            },
            "colorscale": [
             [
              0,
              "#0d0887"
             ],
             [
              0.1111111111111111,
              "#46039f"
             ],
             [
              0.2222222222222222,
              "#7201a8"
             ],
             [
              0.3333333333333333,
              "#9c179e"
             ],
             [
              0.4444444444444444,
              "#bd3786"
             ],
             [
              0.5555555555555556,
              "#d8576b"
             ],
             [
              0.6666666666666666,
              "#ed7953"
             ],
             [
              0.7777777777777778,
              "#fb9f3a"
             ],
             [
              0.8888888888888888,
              "#fdca26"
             ],
             [
              1,
              "#f0f921"
             ]
            ],
            "type": "heatmap"
           }
          ],
          "heatmapgl": [
           {
            "colorbar": {
             "outlinewidth": 0,
             "ticks": ""
            },
            "colorscale": [
             [
              0,
              "#0d0887"
             ],
             [
              0.1111111111111111,
              "#46039f"
             ],
             [
              0.2222222222222222,
              "#7201a8"
             ],
             [
              0.3333333333333333,
              "#9c179e"
             ],
             [
              0.4444444444444444,
              "#bd3786"
             ],
             [
              0.5555555555555556,
              "#d8576b"
             ],
             [
              0.6666666666666666,
              "#ed7953"
             ],
             [
              0.7777777777777778,
              "#fb9f3a"
             ],
             [
              0.8888888888888888,
              "#fdca26"
             ],
             [
              1,
              "#f0f921"
             ]
            ],
            "type": "heatmapgl"
           }
          ],
          "histogram": [
           {
            "marker": {
             "colorbar": {
              "outlinewidth": 0,
              "ticks": ""
             }
            },
            "type": "histogram"
           }
          ],
          "histogram2d": [
           {
            "colorbar": {
             "outlinewidth": 0,
             "ticks": ""
            },
            "colorscale": [
             [
              0,
              "#0d0887"
             ],
             [
              0.1111111111111111,
              "#46039f"
             ],
             [
              0.2222222222222222,
              "#7201a8"
             ],
             [
              0.3333333333333333,
              "#9c179e"
             ],
             [
              0.4444444444444444,
              "#bd3786"
             ],
             [
              0.5555555555555556,
              "#d8576b"
             ],
             [
              0.6666666666666666,
              "#ed7953"
             ],
             [
              0.7777777777777778,
              "#fb9f3a"
             ],
             [
              0.8888888888888888,
              "#fdca26"
             ],
             [
              1,
              "#f0f921"
             ]
            ],
            "type": "histogram2d"
           }
          ],
          "histogram2dcontour": [
           {
            "colorbar": {
             "outlinewidth": 0,
             "ticks": ""
            },
            "colorscale": [
             [
              0,
              "#0d0887"
             ],
             [
              0.1111111111111111,
              "#46039f"
             ],
             [
              0.2222222222222222,
              "#7201a8"
             ],
             [
              0.3333333333333333,
              "#9c179e"
             ],
             [
              0.4444444444444444,
              "#bd3786"
             ],
             [
              0.5555555555555556,
              "#d8576b"
             ],
             [
              0.6666666666666666,
              "#ed7953"
             ],
             [
              0.7777777777777778,
              "#fb9f3a"
             ],
             [
              0.8888888888888888,
              "#fdca26"
             ],
             [
              1,
              "#f0f921"
             ]
            ],
            "type": "histogram2dcontour"
           }
          ],
          "mesh3d": [
           {
            "colorbar": {
             "outlinewidth": 0,
             "ticks": ""
            },
            "type": "mesh3d"
           }
          ],
          "parcoords": [
           {
            "line": {
             "colorbar": {
              "outlinewidth": 0,
              "ticks": ""
             }
            },
            "type": "parcoords"
           }
          ],
          "pie": [
           {
            "automargin": true,
            "type": "pie"
           }
          ],
          "scatter": [
           {
            "marker": {
             "colorbar": {
              "outlinewidth": 0,
              "ticks": ""
             }
            },
            "type": "scatter"
           }
          ],
          "scatter3d": [
           {
            "line": {
             "colorbar": {
              "outlinewidth": 0,
              "ticks": ""
             }
            },
            "marker": {
             "colorbar": {
              "outlinewidth": 0,
              "ticks": ""
             }
            },
            "type": "scatter3d"
           }
          ],
          "scattercarpet": [
           {
            "marker": {
             "colorbar": {
              "outlinewidth": 0,
              "ticks": ""
             }
            },
            "type": "scattercarpet"
           }
          ],
          "scattergeo": [
           {
            "marker": {
             "colorbar": {
              "outlinewidth": 0,
              "ticks": ""
             }
            },
            "type": "scattergeo"
           }
          ],
          "scattergl": [
           {
            "marker": {
             "colorbar": {
              "outlinewidth": 0,
              "ticks": ""
             }
            },
            "type": "scattergl"
           }
          ],
          "scattermapbox": [
           {
            "marker": {
             "colorbar": {
              "outlinewidth": 0,
              "ticks": ""
             }
            },
            "type": "scattermapbox"
           }
          ],
          "scatterpolar": [
           {
            "marker": {
             "colorbar": {
              "outlinewidth": 0,
              "ticks": ""
             }
            },
            "type": "scatterpolar"
           }
          ],
          "scatterpolargl": [
           {
            "marker": {
             "colorbar": {
              "outlinewidth": 0,
              "ticks": ""
             }
            },
            "type": "scatterpolargl"
           }
          ],
          "scatterternary": [
           {
            "marker": {
             "colorbar": {
              "outlinewidth": 0,
              "ticks": ""
             }
            },
            "type": "scatterternary"
           }
          ],
          "surface": [
           {
            "colorbar": {
             "outlinewidth": 0,
             "ticks": ""
            },
            "colorscale": [
             [
              0,
              "#0d0887"
             ],
             [
              0.1111111111111111,
              "#46039f"
             ],
             [
              0.2222222222222222,
              "#7201a8"
             ],
             [
              0.3333333333333333,
              "#9c179e"
             ],
             [
              0.4444444444444444,
              "#bd3786"
             ],
             [
              0.5555555555555556,
              "#d8576b"
             ],
             [
              0.6666666666666666,
              "#ed7953"
             ],
             [
              0.7777777777777778,
              "#fb9f3a"
             ],
             [
              0.8888888888888888,
              "#fdca26"
             ],
             [
              1,
              "#f0f921"
             ]
            ],
            "type": "surface"
           }
          ],
          "table": [
           {
            "cells": {
             "fill": {
              "color": "#EBF0F8"
             },
             "line": {
              "color": "white"
             }
            },
            "header": {
             "fill": {
              "color": "#C8D4E3"
             },
             "line": {
              "color": "white"
             }
            },
            "type": "table"
           }
          ]
         },
         "layout": {
          "annotationdefaults": {
           "arrowcolor": "#2a3f5f",
           "arrowhead": 0,
           "arrowwidth": 1
          },
          "autotypenumbers": "strict",
          "coloraxis": {
           "colorbar": {
            "outlinewidth": 0,
            "ticks": ""
           }
          },
          "colorscale": {
           "diverging": [
            [
             0,
             "#8e0152"
            ],
            [
             0.1,
             "#c51b7d"
            ],
            [
             0.2,
             "#de77ae"
            ],
            [
             0.3,
             "#f1b6da"
            ],
            [
             0.4,
             "#fde0ef"
            ],
            [
             0.5,
             "#f7f7f7"
            ],
            [
             0.6,
             "#e6f5d0"
            ],
            [
             0.7,
             "#b8e186"
            ],
            [
             0.8,
             "#7fbc41"
            ],
            [
             0.9,
             "#4d9221"
            ],
            [
             1,
             "#276419"
            ]
           ],
           "sequential": [
            [
             0,
             "#0d0887"
            ],
            [
             0.1111111111111111,
             "#46039f"
            ],
            [
             0.2222222222222222,
             "#7201a8"
            ],
            [
             0.3333333333333333,
             "#9c179e"
            ],
            [
             0.4444444444444444,
             "#bd3786"
            ],
            [
             0.5555555555555556,
             "#d8576b"
            ],
            [
             0.6666666666666666,
             "#ed7953"
            ],
            [
             0.7777777777777778,
             "#fb9f3a"
            ],
            [
             0.8888888888888888,
             "#fdca26"
            ],
            [
             1,
             "#f0f921"
            ]
           ],
           "sequentialminus": [
            [
             0,
             "#0d0887"
            ],
            [
             0.1111111111111111,
             "#46039f"
            ],
            [
             0.2222222222222222,
             "#7201a8"
            ],
            [
             0.3333333333333333,
             "#9c179e"
            ],
            [
             0.4444444444444444,
             "#bd3786"
            ],
            [
             0.5555555555555556,
             "#d8576b"
            ],
            [
             0.6666666666666666,
             "#ed7953"
            ],
            [
             0.7777777777777778,
             "#fb9f3a"
            ],
            [
             0.8888888888888888,
             "#fdca26"
            ],
            [
             1,
             "#f0f921"
            ]
           ]
          },
          "colorway": [
           "#636efa",
           "#EF553B",
           "#00cc96",
           "#ab63fa",
           "#FFA15A",
           "#19d3f3",
           "#FF6692",
           "#B6E880",
           "#FF97FF",
           "#FECB52"
          ],
          "font": {
           "color": "#2a3f5f"
          },
          "geo": {
           "bgcolor": "white",
           "lakecolor": "white",
           "landcolor": "#E5ECF6",
           "showlakes": true,
           "showland": true,
           "subunitcolor": "white"
          },
          "hoverlabel": {
           "align": "left"
          },
          "hovermode": "closest",
          "mapbox": {
           "style": "light"
          },
          "paper_bgcolor": "white",
          "plot_bgcolor": "#E5ECF6",
          "polar": {
           "angularaxis": {
            "gridcolor": "white",
            "linecolor": "white",
            "ticks": ""
           },
           "bgcolor": "#E5ECF6",
           "radialaxis": {
            "gridcolor": "white",
            "linecolor": "white",
            "ticks": ""
           }
          },
          "scene": {
           "xaxis": {
            "backgroundcolor": "#E5ECF6",
            "gridcolor": "white",
            "gridwidth": 2,
            "linecolor": "white",
            "showbackground": true,
            "ticks": "",
            "zerolinecolor": "white"
           },
           "yaxis": {
            "backgroundcolor": "#E5ECF6",
            "gridcolor": "white",
            "gridwidth": 2,
            "linecolor": "white",
            "showbackground": true,
            "ticks": "",
            "zerolinecolor": "white"
           },
           "zaxis": {
            "backgroundcolor": "#E5ECF6",
            "gridcolor": "white",
            "gridwidth": 2,
            "linecolor": "white",
            "showbackground": true,
            "ticks": "",
            "zerolinecolor": "white"
           }
          },
          "shapedefaults": {
           "line": {
            "color": "#2a3f5f"
           }
          },
          "ternary": {
           "aaxis": {
            "gridcolor": "white",
            "linecolor": "white",
            "ticks": ""
           },
           "baxis": {
            "gridcolor": "white",
            "linecolor": "white",
            "ticks": ""
           },
           "bgcolor": "#E5ECF6",
           "caxis": {
            "gridcolor": "white",
            "linecolor": "white",
            "ticks": ""
           }
          },
          "title": {
           "x": 0.05
          },
          "xaxis": {
           "automargin": true,
           "gridcolor": "white",
           "linecolor": "white",
           "ticks": "",
           "title": {
            "standoff": 15
           },
           "zerolinecolor": "white",
           "zerolinewidth": 2
          },
          "yaxis": {
           "automargin": true,
           "gridcolor": "white",
           "linecolor": "white",
           "ticks": "",
           "title": {
            "standoff": 15
           },
           "zerolinecolor": "white",
           "zerolinewidth": 2
          }
         }
        },
        "xaxis": {
         "anchor": "y",
         "domain": [
          0,
          1
         ],
         "matches": "x2",
         "showticklabels": false
        },
        "xaxis2": {
         "anchor": "y2",
         "domain": [
          0,
          1
         ],
         "title": {
          "text": "batches"
         }
        },
        "yaxis": {
         "anchor": "x",
         "domain": [
          0.55,
          1
         ],
         "title": {
          "text": "Stability"
         }
        },
        "yaxis2": {
         "anchor": "x2",
         "domain": [
          0,
          0.45
         ],
         "title": {
          "text": "RMSE"
         }
        }
       }
      }
     },
     "metadata": {}
    }
   ],
   "source": [
    "fig = make_subplots(rows=2, cols=1, shared_xaxes=True, vertical_spacing=0.1) # subplot_titles=(\"Stability\",\"Accuracy\", \"F1-Score\"),\n",
    "for i in range(len(stability_trace)):\n",
    "    stability_trace[i][\"showlegend\"] = False\n",
    "    fig.add_trace(stability_trace[i], row=1, col=1)\n",
    "for i in range(len(rmse_trace)):\n",
    "    fig.add_trace(rmse_trace[i], row=2, col=1)\n",
    "fig.update_xaxes(title_text=\"batches\", row=2, col=1)\n",
    "fig.update_yaxes(title_text=\"Stability\", row=1, col=1)\n",
    "fig.update_yaxes(title_text=\"RMSE\", row=2, col=1)\n",
    "\n",
    "fig.write_image(\"{}/all_scores_{}.{}\".format(folder, dataset_name, export_type))\n",
    "fig.show()"
   ]
  },
  {
   "cell_type": "code",
   "execution_count": 58,
   "metadata": {},
   "outputs": [
    {
     "output_type": "display_data",
     "data": {
      "application/vnd.plotly.v1+json": {
       "config": {
        "plotlyServerURL": "https://plot.ly"
       },
       "data": [
        {
         "alignmentgroup": "True",
         "hovertemplate": "color=FIRES<br>=%{x}<br>s=%{y}<extra></extra>",
         "legendgroup": "FIRES",
         "marker": {
          "color": "red"
         },
         "name": "FIRES",
         "offsetgroup": "FIRES",
         "orientation": "v",
         "showlegend": true,
         "textposition": "auto",
         "type": "bar",
         "x": [
          "FIRES"
         ],
         "xaxis": "x",
         "y": [
          8.300105691999988
         ],
         "yaxis": "y"
        },
        {
         "alignmentgroup": "True",
         "hovertemplate": "color=SGDR<br>=%{x}<br>s=%{y}<extra></extra>",
         "legendgroup": "SGDR",
         "marker": {
          "color": "blue"
         },
         "name": "SGDR",
         "offsetgroup": "SGDR",
         "orientation": "v",
         "showlegend": true,
         "textposition": "auto",
         "type": "bar",
         "x": [
          "SGDR"
         ],
         "xaxis": "x",
         "y": [
          0.4826271330000509
         ],
         "yaxis": "y"
        }
       ],
       "layout": {
        "barmode": "relative",
        "legend": {
         "title": {
          "text": "color"
         },
         "tracegroupgap": 0
        },
        "template": {
         "data": {
          "bar": [
           {
            "error_x": {
             "color": "#2a3f5f"
            },
            "error_y": {
             "color": "#2a3f5f"
            },
            "marker": {
             "line": {
              "color": "#E5ECF6",
              "width": 0.5
             }
            },
            "type": "bar"
           }
          ],
          "barpolar": [
           {
            "marker": {
             "line": {
              "color": "#E5ECF6",
              "width": 0.5
             }
            },
            "type": "barpolar"
           }
          ],
          "carpet": [
           {
            "aaxis": {
             "endlinecolor": "#2a3f5f",
             "gridcolor": "white",
             "linecolor": "white",
             "minorgridcolor": "white",
             "startlinecolor": "#2a3f5f"
            },
            "baxis": {
             "endlinecolor": "#2a3f5f",
             "gridcolor": "white",
             "linecolor": "white",
             "minorgridcolor": "white",
             "startlinecolor": "#2a3f5f"
            },
            "type": "carpet"
           }
          ],
          "choropleth": [
           {
            "colorbar": {
             "outlinewidth": 0,
             "ticks": ""
            },
            "type": "choropleth"
           }
          ],
          "contour": [
           {
            "colorbar": {
             "outlinewidth": 0,
             "ticks": ""
            },
            "colorscale": [
             [
              0,
              "#0d0887"
             ],
             [
              0.1111111111111111,
              "#46039f"
             ],
             [
              0.2222222222222222,
              "#7201a8"
             ],
             [
              0.3333333333333333,
              "#9c179e"
             ],
             [
              0.4444444444444444,
              "#bd3786"
             ],
             [
              0.5555555555555556,
              "#d8576b"
             ],
             [
              0.6666666666666666,
              "#ed7953"
             ],
             [
              0.7777777777777778,
              "#fb9f3a"
             ],
             [
              0.8888888888888888,
              "#fdca26"
             ],
             [
              1,
              "#f0f921"
             ]
            ],
            "type": "contour"
           }
          ],
          "contourcarpet": [
           {
            "colorbar": {
             "outlinewidth": 0,
             "ticks": ""
            },
            "type": "contourcarpet"
           }
          ],
          "heatmap": [
           {
            "colorbar": {
             "outlinewidth": 0,
             "ticks": ""
            },
            "colorscale": [
             [
              0,
              "#0d0887"
             ],
             [
              0.1111111111111111,
              "#46039f"
             ],
             [
              0.2222222222222222,
              "#7201a8"
             ],
             [
              0.3333333333333333,
              "#9c179e"
             ],
             [
              0.4444444444444444,
              "#bd3786"
             ],
             [
              0.5555555555555556,
              "#d8576b"
             ],
             [
              0.6666666666666666,
              "#ed7953"
             ],
             [
              0.7777777777777778,
              "#fb9f3a"
             ],
             [
              0.8888888888888888,
              "#fdca26"
             ],
             [
              1,
              "#f0f921"
             ]
            ],
            "type": "heatmap"
           }
          ],
          "heatmapgl": [
           {
            "colorbar": {
             "outlinewidth": 0,
             "ticks": ""
            },
            "colorscale": [
             [
              0,
              "#0d0887"
             ],
             [
              0.1111111111111111,
              "#46039f"
             ],
             [
              0.2222222222222222,
              "#7201a8"
             ],
             [
              0.3333333333333333,
              "#9c179e"
             ],
             [
              0.4444444444444444,
              "#bd3786"
             ],
             [
              0.5555555555555556,
              "#d8576b"
             ],
             [
              0.6666666666666666,
              "#ed7953"
             ],
             [
              0.7777777777777778,
              "#fb9f3a"
             ],
             [
              0.8888888888888888,
              "#fdca26"
             ],
             [
              1,
              "#f0f921"
             ]
            ],
            "type": "heatmapgl"
           }
          ],
          "histogram": [
           {
            "marker": {
             "colorbar": {
              "outlinewidth": 0,
              "ticks": ""
             }
            },
            "type": "histogram"
           }
          ],
          "histogram2d": [
           {
            "colorbar": {
             "outlinewidth": 0,
             "ticks": ""
            },
            "colorscale": [
             [
              0,
              "#0d0887"
             ],
             [
              0.1111111111111111,
              "#46039f"
             ],
             [
              0.2222222222222222,
              "#7201a8"
             ],
             [
              0.3333333333333333,
              "#9c179e"
             ],
             [
              0.4444444444444444,
              "#bd3786"
             ],
             [
              0.5555555555555556,
              "#d8576b"
             ],
             [
              0.6666666666666666,
              "#ed7953"
             ],
             [
              0.7777777777777778,
              "#fb9f3a"
             ],
             [
              0.8888888888888888,
              "#fdca26"
             ],
             [
              1,
              "#f0f921"
             ]
            ],
            "type": "histogram2d"
           }
          ],
          "histogram2dcontour": [
           {
            "colorbar": {
             "outlinewidth": 0,
             "ticks": ""
            },
            "colorscale": [
             [
              0,
              "#0d0887"
             ],
             [
              0.1111111111111111,
              "#46039f"
             ],
             [
              0.2222222222222222,
              "#7201a8"
             ],
             [
              0.3333333333333333,
              "#9c179e"
             ],
             [
              0.4444444444444444,
              "#bd3786"
             ],
             [
              0.5555555555555556,
              "#d8576b"
             ],
             [
              0.6666666666666666,
              "#ed7953"
             ],
             [
              0.7777777777777778,
              "#fb9f3a"
             ],
             [
              0.8888888888888888,
              "#fdca26"
             ],
             [
              1,
              "#f0f921"
             ]
            ],
            "type": "histogram2dcontour"
           }
          ],
          "mesh3d": [
           {
            "colorbar": {
             "outlinewidth": 0,
             "ticks": ""
            },
            "type": "mesh3d"
           }
          ],
          "parcoords": [
           {
            "line": {
             "colorbar": {
              "outlinewidth": 0,
              "ticks": ""
             }
            },
            "type": "parcoords"
           }
          ],
          "pie": [
           {
            "automargin": true,
            "type": "pie"
           }
          ],
          "scatter": [
           {
            "marker": {
             "colorbar": {
              "outlinewidth": 0,
              "ticks": ""
             }
            },
            "type": "scatter"
           }
          ],
          "scatter3d": [
           {
            "line": {
             "colorbar": {
              "outlinewidth": 0,
              "ticks": ""
             }
            },
            "marker": {
             "colorbar": {
              "outlinewidth": 0,
              "ticks": ""
             }
            },
            "type": "scatter3d"
           }
          ],
          "scattercarpet": [
           {
            "marker": {
             "colorbar": {
              "outlinewidth": 0,
              "ticks": ""
             }
            },
            "type": "scattercarpet"
           }
          ],
          "scattergeo": [
           {
            "marker": {
             "colorbar": {
              "outlinewidth": 0,
              "ticks": ""
             }
            },
            "type": "scattergeo"
           }
          ],
          "scattergl": [
           {
            "marker": {
             "colorbar": {
              "outlinewidth": 0,
              "ticks": ""
             }
            },
            "type": "scattergl"
           }
          ],
          "scattermapbox": [
           {
            "marker": {
             "colorbar": {
              "outlinewidth": 0,
              "ticks": ""
             }
            },
            "type": "scattermapbox"
           }
          ],
          "scatterpolar": [
           {
            "marker": {
             "colorbar": {
              "outlinewidth": 0,
              "ticks": ""
             }
            },
            "type": "scatterpolar"
           }
          ],
          "scatterpolargl": [
           {
            "marker": {
             "colorbar": {
              "outlinewidth": 0,
              "ticks": ""
             }
            },
            "type": "scatterpolargl"
           }
          ],
          "scatterternary": [
           {
            "marker": {
             "colorbar": {
              "outlinewidth": 0,
              "ticks": ""
             }
            },
            "type": "scatterternary"
           }
          ],
          "surface": [
           {
            "colorbar": {
             "outlinewidth": 0,
             "ticks": ""
            },
            "colorscale": [
             [
              0,
              "#0d0887"
             ],
             [
              0.1111111111111111,
              "#46039f"
             ],
             [
              0.2222222222222222,
              "#7201a8"
             ],
             [
              0.3333333333333333,
              "#9c179e"
             ],
             [
              0.4444444444444444,
              "#bd3786"
             ],
             [
              0.5555555555555556,
              "#d8576b"
             ],
             [
              0.6666666666666666,
              "#ed7953"
             ],
             [
              0.7777777777777778,
              "#fb9f3a"
             ],
             [
              0.8888888888888888,
              "#fdca26"
             ],
             [
              1,
              "#f0f921"
             ]
            ],
            "type": "surface"
           }
          ],
          "table": [
           {
            "cells": {
             "fill": {
              "color": "#EBF0F8"
             },
             "line": {
              "color": "white"
             }
            },
            "header": {
             "fill": {
              "color": "#C8D4E3"
             },
             "line": {
              "color": "white"
             }
            },
            "type": "table"
           }
          ]
         },
         "layout": {
          "annotationdefaults": {
           "arrowcolor": "#2a3f5f",
           "arrowhead": 0,
           "arrowwidth": 1
          },
          "autotypenumbers": "strict",
          "coloraxis": {
           "colorbar": {
            "outlinewidth": 0,
            "ticks": ""
           }
          },
          "colorscale": {
           "diverging": [
            [
             0,
             "#8e0152"
            ],
            [
             0.1,
             "#c51b7d"
            ],
            [
             0.2,
             "#de77ae"
            ],
            [
             0.3,
             "#f1b6da"
            ],
            [
             0.4,
             "#fde0ef"
            ],
            [
             0.5,
             "#f7f7f7"
            ],
            [
             0.6,
             "#e6f5d0"
            ],
            [
             0.7,
             "#b8e186"
            ],
            [
             0.8,
             "#7fbc41"
            ],
            [
             0.9,
             "#4d9221"
            ],
            [
             1,
             "#276419"
            ]
           ],
           "sequential": [
            [
             0,
             "#0d0887"
            ],
            [
             0.1111111111111111,
             "#46039f"
            ],
            [
             0.2222222222222222,
             "#7201a8"
            ],
            [
             0.3333333333333333,
             "#9c179e"
            ],
            [
             0.4444444444444444,
             "#bd3786"
            ],
            [
             0.5555555555555556,
             "#d8576b"
            ],
            [
             0.6666666666666666,
             "#ed7953"
            ],
            [
             0.7777777777777778,
             "#fb9f3a"
            ],
            [
             0.8888888888888888,
             "#fdca26"
            ],
            [
             1,
             "#f0f921"
            ]
           ],
           "sequentialminus": [
            [
             0,
             "#0d0887"
            ],
            [
             0.1111111111111111,
             "#46039f"
            ],
            [
             0.2222222222222222,
             "#7201a8"
            ],
            [
             0.3333333333333333,
             "#9c179e"
            ],
            [
             0.4444444444444444,
             "#bd3786"
            ],
            [
             0.5555555555555556,
             "#d8576b"
            ],
            [
             0.6666666666666666,
             "#ed7953"
            ],
            [
             0.7777777777777778,
             "#fb9f3a"
            ],
            [
             0.8888888888888888,
             "#fdca26"
            ],
            [
             1,
             "#f0f921"
            ]
           ]
          },
          "colorway": [
           "#636efa",
           "#EF553B",
           "#00cc96",
           "#ab63fa",
           "#FFA15A",
           "#19d3f3",
           "#FF6692",
           "#B6E880",
           "#FF97FF",
           "#FECB52"
          ],
          "font": {
           "color": "#2a3f5f"
          },
          "geo": {
           "bgcolor": "white",
           "lakecolor": "white",
           "landcolor": "#E5ECF6",
           "showlakes": true,
           "showland": true,
           "subunitcolor": "white"
          },
          "hoverlabel": {
           "align": "left"
          },
          "hovermode": "closest",
          "mapbox": {
           "style": "light"
          },
          "paper_bgcolor": "white",
          "plot_bgcolor": "#E5ECF6",
          "polar": {
           "angularaxis": {
            "gridcolor": "white",
            "linecolor": "white",
            "ticks": ""
           },
           "bgcolor": "#E5ECF6",
           "radialaxis": {
            "gridcolor": "white",
            "linecolor": "white",
            "ticks": ""
           }
          },
          "scene": {
           "xaxis": {
            "backgroundcolor": "#E5ECF6",
            "gridcolor": "white",
            "gridwidth": 2,
            "linecolor": "white",
            "showbackground": true,
            "ticks": "",
            "zerolinecolor": "white"
           },
           "yaxis": {
            "backgroundcolor": "#E5ECF6",
            "gridcolor": "white",
            "gridwidth": 2,
            "linecolor": "white",
            "showbackground": true,
            "ticks": "",
            "zerolinecolor": "white"
           },
           "zaxis": {
            "backgroundcolor": "#E5ECF6",
            "gridcolor": "white",
            "gridwidth": 2,
            "linecolor": "white",
            "showbackground": true,
            "ticks": "",
            "zerolinecolor": "white"
           }
          },
          "shapedefaults": {
           "line": {
            "color": "#2a3f5f"
           }
          },
          "ternary": {
           "aaxis": {
            "gridcolor": "white",
            "linecolor": "white",
            "ticks": ""
           },
           "baxis": {
            "gridcolor": "white",
            "linecolor": "white",
            "ticks": ""
           },
           "bgcolor": "#E5ECF6",
           "caxis": {
            "gridcolor": "white",
            "linecolor": "white",
            "ticks": ""
           }
          },
          "title": {
           "x": 0.05
          },
          "xaxis": {
           "automargin": true,
           "gridcolor": "white",
           "linecolor": "white",
           "ticks": "",
           "title": {
            "standoff": 15
           },
           "zerolinecolor": "white",
           "zerolinewidth": 2
          },
          "yaxis": {
           "automargin": true,
           "gridcolor": "white",
           "linecolor": "white",
           "ticks": "",
           "title": {
            "standoff": 15
           },
           "zerolinecolor": "white",
           "zerolinewidth": 2
          }
         }
        },
        "title": {
         "text": "Runtime"
        },
        "xaxis": {
         "anchor": "y",
         "domain": [
          0,
          1
         ],
         "title": {
          "text": ""
         }
        },
        "yaxis": {
         "anchor": "x",
         "domain": [
          0,
          1
         ],
         "title": {
          "text": "s"
         }
        }
       }
      }
     },
     "metadata": {}
    }
   ],
   "source": [
    "col_names = [\"FIRES\", \"SGDR\" ]\n",
    "values = [fires_run_time, sgdr_run_time]\n",
    "fig = px.bar(x=col_names, y=values, title=\"Runtime\", labels={\"y\":\"s\", \"x\":\"\"}, color=col_names, color_discrete_map={'FIRES': 'red', \"SGDR\": \"blue\"})\n",
    "with open(\"{}/runtime.csv\".format(folder),\"a\") as outfile:\n",
    "    outfile.write(\"{},{}\\n\".format( values[0],values[1]) )\n",
    "fig.show()\n"
   ]
  },
  {
   "cell_type": "code",
   "execution_count": 59,
   "metadata": {},
   "outputs": [
    {
     "output_type": "display_data",
     "data": {
      "application/vnd.plotly.v1+json": {
       "config": {
        "plotlyServerURL": "https://plot.ly"
       },
       "data": [
        {
         "alignmentgroup": "True",
         "hovertemplate": "color=FIRES<br>=%{x}<br>mse=%{y}<extra></extra>",
         "legendgroup": "FIRES",
         "marker": {
          "color": "red"
         },
         "name": "FIRES",
         "offsetgroup": "FIRES",
         "orientation": "v",
         "showlegend": true,
         "textposition": "auto",
         "type": "bar",
         "x": [
          "FIRES"
         ],
         "xaxis": "x",
         "y": [
          0.4647354665564956
         ],
         "yaxis": "y"
        },
        {
         "alignmentgroup": "True",
         "hovertemplate": "color=SGDR<br>=%{x}<br>mse=%{y}<extra></extra>",
         "legendgroup": "SGDR",
         "marker": {
          "color": "blue"
         },
         "name": "SGDR",
         "offsetgroup": "SGDR",
         "orientation": "v",
         "showlegend": true,
         "textposition": "auto",
         "type": "bar",
         "x": [
          "SGDR"
         ],
         "xaxis": "x",
         "y": [
          0.4397750396138241
         ],
         "yaxis": "y"
        }
       ],
       "layout": {
        "barmode": "relative",
        "legend": {
         "title": {
          "text": "color"
         },
         "tracegroupgap": 0
        },
        "template": {
         "data": {
          "bar": [
           {
            "error_x": {
             "color": "#2a3f5f"
            },
            "error_y": {
             "color": "#2a3f5f"
            },
            "marker": {
             "line": {
              "color": "#E5ECF6",
              "width": 0.5
             }
            },
            "type": "bar"
           }
          ],
          "barpolar": [
           {
            "marker": {
             "line": {
              "color": "#E5ECF6",
              "width": 0.5
             }
            },
            "type": "barpolar"
           }
          ],
          "carpet": [
           {
            "aaxis": {
             "endlinecolor": "#2a3f5f",
             "gridcolor": "white",
             "linecolor": "white",
             "minorgridcolor": "white",
             "startlinecolor": "#2a3f5f"
            },
            "baxis": {
             "endlinecolor": "#2a3f5f",
             "gridcolor": "white",
             "linecolor": "white",
             "minorgridcolor": "white",
             "startlinecolor": "#2a3f5f"
            },
            "type": "carpet"
           }
          ],
          "choropleth": [
           {
            "colorbar": {
             "outlinewidth": 0,
             "ticks": ""
            },
            "type": "choropleth"
           }
          ],
          "contour": [
           {
            "colorbar": {
             "outlinewidth": 0,
             "ticks": ""
            },
            "colorscale": [
             [
              0,
              "#0d0887"
             ],
             [
              0.1111111111111111,
              "#46039f"
             ],
             [
              0.2222222222222222,
              "#7201a8"
             ],
             [
              0.3333333333333333,
              "#9c179e"
             ],
             [
              0.4444444444444444,
              "#bd3786"
             ],
             [
              0.5555555555555556,
              "#d8576b"
             ],
             [
              0.6666666666666666,
              "#ed7953"
             ],
             [
              0.7777777777777778,
              "#fb9f3a"
             ],
             [
              0.8888888888888888,
              "#fdca26"
             ],
             [
              1,
              "#f0f921"
             ]
            ],
            "type": "contour"
           }
          ],
          "contourcarpet": [
           {
            "colorbar": {
             "outlinewidth": 0,
             "ticks": ""
            },
            "type": "contourcarpet"
           }
          ],
          "heatmap": [
           {
            "colorbar": {
             "outlinewidth": 0,
             "ticks": ""
            },
            "colorscale": [
             [
              0,
              "#0d0887"
             ],
             [
              0.1111111111111111,
              "#46039f"
             ],
             [
              0.2222222222222222,
              "#7201a8"
             ],
             [
              0.3333333333333333,
              "#9c179e"
             ],
             [
              0.4444444444444444,
              "#bd3786"
             ],
             [
              0.5555555555555556,
              "#d8576b"
             ],
             [
              0.6666666666666666,
              "#ed7953"
             ],
             [
              0.7777777777777778,
              "#fb9f3a"
             ],
             [
              0.8888888888888888,
              "#fdca26"
             ],
             [
              1,
              "#f0f921"
             ]
            ],
            "type": "heatmap"
           }
          ],
          "heatmapgl": [
           {
            "colorbar": {
             "outlinewidth": 0,
             "ticks": ""
            },
            "colorscale": [
             [
              0,
              "#0d0887"
             ],
             [
              0.1111111111111111,
              "#46039f"
             ],
             [
              0.2222222222222222,
              "#7201a8"
             ],
             [
              0.3333333333333333,
              "#9c179e"
             ],
             [
              0.4444444444444444,
              "#bd3786"
             ],
             [
              0.5555555555555556,
              "#d8576b"
             ],
             [
              0.6666666666666666,
              "#ed7953"
             ],
             [
              0.7777777777777778,
              "#fb9f3a"
             ],
             [
              0.8888888888888888,
              "#fdca26"
             ],
             [
              1,
              "#f0f921"
             ]
            ],
            "type": "heatmapgl"
           }
          ],
          "histogram": [
           {
            "marker": {
             "colorbar": {
              "outlinewidth": 0,
              "ticks": ""
             }
            },
            "type": "histogram"
           }
          ],
          "histogram2d": [
           {
            "colorbar": {
             "outlinewidth": 0,
             "ticks": ""
            },
            "colorscale": [
             [
              0,
              "#0d0887"
             ],
             [
              0.1111111111111111,
              "#46039f"
             ],
             [
              0.2222222222222222,
              "#7201a8"
             ],
             [
              0.3333333333333333,
              "#9c179e"
             ],
             [
              0.4444444444444444,
              "#bd3786"
             ],
             [
              0.5555555555555556,
              "#d8576b"
             ],
             [
              0.6666666666666666,
              "#ed7953"
             ],
             [
              0.7777777777777778,
              "#fb9f3a"
             ],
             [
              0.8888888888888888,
              "#fdca26"
             ],
             [
              1,
              "#f0f921"
             ]
            ],
            "type": "histogram2d"
           }
          ],
          "histogram2dcontour": [
           {
            "colorbar": {
             "outlinewidth": 0,
             "ticks": ""
            },
            "colorscale": [
             [
              0,
              "#0d0887"
             ],
             [
              0.1111111111111111,
              "#46039f"
             ],
             [
              0.2222222222222222,
              "#7201a8"
             ],
             [
              0.3333333333333333,
              "#9c179e"
             ],
             [
              0.4444444444444444,
              "#bd3786"
             ],
             [
              0.5555555555555556,
              "#d8576b"
             ],
             [
              0.6666666666666666,
              "#ed7953"
             ],
             [
              0.7777777777777778,
              "#fb9f3a"
             ],
             [
              0.8888888888888888,
              "#fdca26"
             ],
             [
              1,
              "#f0f921"
             ]
            ],
            "type": "histogram2dcontour"
           }
          ],
          "mesh3d": [
           {
            "colorbar": {
             "outlinewidth": 0,
             "ticks": ""
            },
            "type": "mesh3d"
           }
          ],
          "parcoords": [
           {
            "line": {
             "colorbar": {
              "outlinewidth": 0,
              "ticks": ""
             }
            },
            "type": "parcoords"
           }
          ],
          "pie": [
           {
            "automargin": true,
            "type": "pie"
           }
          ],
          "scatter": [
           {
            "marker": {
             "colorbar": {
              "outlinewidth": 0,
              "ticks": ""
             }
            },
            "type": "scatter"
           }
          ],
          "scatter3d": [
           {
            "line": {
             "colorbar": {
              "outlinewidth": 0,
              "ticks": ""
             }
            },
            "marker": {
             "colorbar": {
              "outlinewidth": 0,
              "ticks": ""
             }
            },
            "type": "scatter3d"
           }
          ],
          "scattercarpet": [
           {
            "marker": {
             "colorbar": {
              "outlinewidth": 0,
              "ticks": ""
             }
            },
            "type": "scattercarpet"
           }
          ],
          "scattergeo": [
           {
            "marker": {
             "colorbar": {
              "outlinewidth": 0,
              "ticks": ""
             }
            },
            "type": "scattergeo"
           }
          ],
          "scattergl": [
           {
            "marker": {
             "colorbar": {
              "outlinewidth": 0,
              "ticks": ""
             }
            },
            "type": "scattergl"
           }
          ],
          "scattermapbox": [
           {
            "marker": {
             "colorbar": {
              "outlinewidth": 0,
              "ticks": ""
             }
            },
            "type": "scattermapbox"
           }
          ],
          "scatterpolar": [
           {
            "marker": {
             "colorbar": {
              "outlinewidth": 0,
              "ticks": ""
             }
            },
            "type": "scatterpolar"
           }
          ],
          "scatterpolargl": [
           {
            "marker": {
             "colorbar": {
              "outlinewidth": 0,
              "ticks": ""
             }
            },
            "type": "scatterpolargl"
           }
          ],
          "scatterternary": [
           {
            "marker": {
             "colorbar": {
              "outlinewidth": 0,
              "ticks": ""
             }
            },
            "type": "scatterternary"
           }
          ],
          "surface": [
           {
            "colorbar": {
             "outlinewidth": 0,
             "ticks": ""
            },
            "colorscale": [
             [
              0,
              "#0d0887"
             ],
             [
              0.1111111111111111,
              "#46039f"
             ],
             [
              0.2222222222222222,
              "#7201a8"
             ],
             [
              0.3333333333333333,
              "#9c179e"
             ],
             [
              0.4444444444444444,
              "#bd3786"
             ],
             [
              0.5555555555555556,
              "#d8576b"
             ],
             [
              0.6666666666666666,
              "#ed7953"
             ],
             [
              0.7777777777777778,
              "#fb9f3a"
             ],
             [
              0.8888888888888888,
              "#fdca26"
             ],
             [
              1,
              "#f0f921"
             ]
            ],
            "type": "surface"
           }
          ],
          "table": [
           {
            "cells": {
             "fill": {
              "color": "#EBF0F8"
             },
             "line": {
              "color": "white"
             }
            },
            "header": {
             "fill": {
              "color": "#C8D4E3"
             },
             "line": {
              "color": "white"
             }
            },
            "type": "table"
           }
          ]
         },
         "layout": {
          "annotationdefaults": {
           "arrowcolor": "#2a3f5f",
           "arrowhead": 0,
           "arrowwidth": 1
          },
          "autotypenumbers": "strict",
          "coloraxis": {
           "colorbar": {
            "outlinewidth": 0,
            "ticks": ""
           }
          },
          "colorscale": {
           "diverging": [
            [
             0,
             "#8e0152"
            ],
            [
             0.1,
             "#c51b7d"
            ],
            [
             0.2,
             "#de77ae"
            ],
            [
             0.3,
             "#f1b6da"
            ],
            [
             0.4,
             "#fde0ef"
            ],
            [
             0.5,
             "#f7f7f7"
            ],
            [
             0.6,
             "#e6f5d0"
            ],
            [
             0.7,
             "#b8e186"
            ],
            [
             0.8,
             "#7fbc41"
            ],
            [
             0.9,
             "#4d9221"
            ],
            [
             1,
             "#276419"
            ]
           ],
           "sequential": [
            [
             0,
             "#0d0887"
            ],
            [
             0.1111111111111111,
             "#46039f"
            ],
            [
             0.2222222222222222,
             "#7201a8"
            ],
            [
             0.3333333333333333,
             "#9c179e"
            ],
            [
             0.4444444444444444,
             "#bd3786"
            ],
            [
             0.5555555555555556,
             "#d8576b"
            ],
            [
             0.6666666666666666,
             "#ed7953"
            ],
            [
             0.7777777777777778,
             "#fb9f3a"
            ],
            [
             0.8888888888888888,
             "#fdca26"
            ],
            [
             1,
             "#f0f921"
            ]
           ],
           "sequentialminus": [
            [
             0,
             "#0d0887"
            ],
            [
             0.1111111111111111,
             "#46039f"
            ],
            [
             0.2222222222222222,
             "#7201a8"
            ],
            [
             0.3333333333333333,
             "#9c179e"
            ],
            [
             0.4444444444444444,
             "#bd3786"
            ],
            [
             0.5555555555555556,
             "#d8576b"
            ],
            [
             0.6666666666666666,
             "#ed7953"
            ],
            [
             0.7777777777777778,
             "#fb9f3a"
            ],
            [
             0.8888888888888888,
             "#fdca26"
            ],
            [
             1,
             "#f0f921"
            ]
           ]
          },
          "colorway": [
           "#636efa",
           "#EF553B",
           "#00cc96",
           "#ab63fa",
           "#FFA15A",
           "#19d3f3",
           "#FF6692",
           "#B6E880",
           "#FF97FF",
           "#FECB52"
          ],
          "font": {
           "color": "#2a3f5f"
          },
          "geo": {
           "bgcolor": "white",
           "lakecolor": "white",
           "landcolor": "#E5ECF6",
           "showlakes": true,
           "showland": true,
           "subunitcolor": "white"
          },
          "hoverlabel": {
           "align": "left"
          },
          "hovermode": "closest",
          "mapbox": {
           "style": "light"
          },
          "paper_bgcolor": "white",
          "plot_bgcolor": "#E5ECF6",
          "polar": {
           "angularaxis": {
            "gridcolor": "white",
            "linecolor": "white",
            "ticks": ""
           },
           "bgcolor": "#E5ECF6",
           "radialaxis": {
            "gridcolor": "white",
            "linecolor": "white",
            "ticks": ""
           }
          },
          "scene": {
           "xaxis": {
            "backgroundcolor": "#E5ECF6",
            "gridcolor": "white",
            "gridwidth": 2,
            "linecolor": "white",
            "showbackground": true,
            "ticks": "",
            "zerolinecolor": "white"
           },
           "yaxis": {
            "backgroundcolor": "#E5ECF6",
            "gridcolor": "white",
            "gridwidth": 2,
            "linecolor": "white",
            "showbackground": true,
            "ticks": "",
            "zerolinecolor": "white"
           },
           "zaxis": {
            "backgroundcolor": "#E5ECF6",
            "gridcolor": "white",
            "gridwidth": 2,
            "linecolor": "white",
            "showbackground": true,
            "ticks": "",
            "zerolinecolor": "white"
           }
          },
          "shapedefaults": {
           "line": {
            "color": "#2a3f5f"
           }
          },
          "ternary": {
           "aaxis": {
            "gridcolor": "white",
            "linecolor": "white",
            "ticks": ""
           },
           "baxis": {
            "gridcolor": "white",
            "linecolor": "white",
            "ticks": ""
           },
           "bgcolor": "#E5ECF6",
           "caxis": {
            "gridcolor": "white",
            "linecolor": "white",
            "ticks": ""
           }
          },
          "title": {
           "x": 0.05
          },
          "xaxis": {
           "automargin": true,
           "gridcolor": "white",
           "linecolor": "white",
           "ticks": "",
           "title": {
            "standoff": 15
           },
           "zerolinecolor": "white",
           "zerolinewidth": 2
          },
          "yaxis": {
           "automargin": true,
           "gridcolor": "white",
           "linecolor": "white",
           "ticks": "",
           "title": {
            "standoff": 15
           },
           "zerolinecolor": "white",
           "zerolinewidth": 2
          }
         }
        },
        "title": {
         "text": "RMSE on test dataset"
        },
        "xaxis": {
         "anchor": "y",
         "domain": [
          0,
          1
         ],
         "title": {
          "text": ""
         }
        },
        "yaxis": {
         "anchor": "x",
         "domain": [
          0,
          1
         ],
         "title": {
          "text": "mse"
         }
        }
       }
      }
     },
     "metadata": {}
    }
   ],
   "source": [
    "col_names = [\"FIRES\", \"SGDR\" ]\n",
    "values = [fires_mse_test, sgdr_mse_test]\n",
    "fig = px.bar(x=col_names, y=values, title=\"RMSE on test dataset\", labels={\"y\":\"mse\", \"x\":\"\"}, color=col_names, color_discrete_map={'FIRES': 'red', \"SGDR\": \"blue\"})\n",
    "fig.show()\n",
    "with open(\"{}/rmse.csv\".format(folder),\"a\") as outfile:\n",
    "    outfile.write(\"{},{}\\n\".format( values[0],values[1]) )\n"
   ]
  },
  {
   "cell_type": "code",
   "execution_count": null,
   "metadata": {},
   "outputs": [],
   "source": []
  }
 ]
}