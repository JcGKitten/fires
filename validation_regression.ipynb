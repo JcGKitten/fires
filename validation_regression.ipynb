{
 "metadata": {
  "language_info": {
   "codemirror_mode": {
    "name": "ipython",
    "version": 3
   },
   "file_extension": ".py",
   "mimetype": "text/x-python",
   "name": "python",
   "nbconvert_exporter": "python",
   "pygments_lexer": "ipython3",
   "version": "3.8.5-final"
  },
  "orig_nbformat": 2,
  "kernelspec": {
   "name": "python3",
   "display_name": "Python 3",
   "language": "python"
  }
 },
 "nbformat": 4,
 "nbformat_minor": 2,
 "cells": [
  {
   "source": [
    "## Regression Data\n",
    "The FIRES Model can't be compared to a real datastream algorithm, instead the SGDRegressor form scikit learn"
   ],
   "cell_type": "markdown",
   "metadata": {}
  },
  {
   "cell_type": "code",
   "execution_count": 26,
   "metadata": {},
   "outputs": [],
   "source": [
    "# import the functions needed for validate and comparsion\n",
    "\n",
    "import numpy as np\n",
    "import cupy as cp\n",
    "import pandas as pd\n",
    "from timeit import default_timer as timer\n",
    "import os\n",
    "\n",
    "from sklearn.model_selection import train_test_split\n",
    "#mean_squared_error: mse squared=true, rmse squared=false\n",
    "from sklearn.metrics import mean_squared_error, r2_score, mean_absolute_error\n",
    "from skmultiflow.data import FileStream\n",
    "from sklearn.linear_model import SGDRegressor\n",
    "from skmultiflow.data.regression_generator import RegressionGenerator\n",
    "\n",
    "\n",
    "# using plotly for plots\n",
    "import plotly.express as px\n",
    "from plotly.subplots import make_subplots\n"
   ]
  },
  {
   "cell_type": "code",
   "execution_count": 27,
   "metadata": {},
   "outputs": [],
   "source": [
    "from fires import FIRES"
   ]
  },
  {
   "cell_type": "code",
   "execution_count": 28,
   "metadata": {},
   "outputs": [],
   "source": [
    "# stability measurment as proposed in \"Measurment the Stability of Feature Selection\"\n",
    "\n",
    "# TODO: check for case where nothing changes\n",
    "\n",
    "\n",
    "def pearson_stability_ij(arr1,arr2):\n",
    "    d = len(arr1)\n",
    "    k_i = np.sum(arr1)\n",
    "    k_j = np.sum(arr2)\n",
    "\n",
    "    # catch edge cases as proposed in the paper under 4.1\n",
    "    if (k_i == 0 or k_i == d) and k_i != k_j :\n",
    "        return 0\n",
    "    elif (k_j == 0 or k_j == d) and k_i != k_j :\n",
    "        return 0\n",
    "    elif (k_i == 0 or k_i == d) and k_i == k_j :\n",
    "        return 1\n",
    "    x_hat_i = k_i / d\n",
    "    x_hat_j = k_j / d\n",
    "    arr1 = arr1 - x_hat_i\n",
    "    arr2 = arr2 - x_hat_j\n",
    "    dividend = 1/d * np.sum(arr1*arr2)\n",
    "    divisor = np.sqrt(1/d*np.sum(arr1**2))*np.sqrt(1/d*np.sum(arr2**2))\n",
    "    return dividend/divisor\n",
    "\n",
    "def stability_factor(selected_ftrs):\n",
    "   M = len(selected_ftrs)\n",
    "   sum_stabilities = 0\n",
    "   for i in range(M):\n",
    "       for j in range(i+1, M):\n",
    "           sum_stabilities += pearson_stability_ij(selected_ftrs[i], selected_ftrs[j])\n",
    "   return 1/(M*(M-1))*sum_stabilities * 2   "
   ]
  },
  {
   "source": [
    "### Load Datasets as Streaming Data"
   ],
   "cell_type": "markdown",
   "metadata": {}
  },
  {
   "cell_type": "code",
   "execution_count": 4,
   "metadata": {},
   "outputs": [
    {
     "output_type": "stream",
     "name": "stderr",
     "text": [
      "/home/kitten/anaconda3/lib/python3.8/site-packages/skmultiflow/data/base_stream.py:191: FutureWarning: 'prepare_for_use' has been deprecated in v0.5.0 and will be removed in v0.7.0.\nNew instances of the Stream class are now ready to use after instantiation.\n  warnings.warn(\n"
     ]
    }
   ],
   "source": [
    "stream = FileStream('datasets/Regression/ailerons_norm.csv', target_idx=40)\n",
    "stream.prepare_for_use()\n",
    "dataset_name = \"ailerons_norm\"\n",
    "n_selected_ftr = 10\n",
    "\n",
    "# load test data\n",
    "test_data = pd.read_csv('datasets/Regression/ailerons_test_norm.csv', header=None)\n",
    "test_y = test_data[40].to_numpy()\n",
    "test_x = test_data.drop(columns=40).to_numpy()"
   ]
  },
  {
   "cell_type": "code",
   "execution_count": 29,
   "metadata": {},
   "outputs": [
    {
     "output_type": "stream",
     "name": "stderr",
     "text": [
      "/home/kitten/anaconda3/lib/python3.8/site-packages/skmultiflow/data/base_stream.py:191: FutureWarning:\n\n'prepare_for_use' has been deprecated in v0.5.0 and will be removed in v0.7.0.\nNew instances of the Stream class are now ready to use after instantiation.\n\n"
     ]
    }
   ],
   "source": [
    "# normalized data\n",
    "stream = FileStream('datasets/Regression/dataset_1_norm_train.csv', target_idx=150)\n",
    "stream.prepare_for_use()\n",
    "dataset_name = \"dataset_1_normalized\"\n",
    "n_selected_ftr = 38 #25 are informative\n",
    "\n",
    "# load test data\n",
    "test_data = pd.read_csv('datasets/Regression/dataset_1_norm_test.csv')\n",
    "test_x = test_data.drop(columns=\"y\").to_numpy()\n",
    "test_y = test_data[\"y\"].to_numpy()"
   ]
  },
  {
   "cell_type": "code",
   "execution_count": 30,
   "metadata": {},
   "outputs": [],
   "source": [
    "# prepare folder for plots\n",
    "folder = \"plots/regression/{}\".format(dataset_name)\n",
    "if not os.path.exists(folder):\n",
    "    os.makedirs(folder)\n",
    "\n",
    "export_type = \"pdf\" # \"png\", \"jpeg\", \"webp\", \"pdf\", \"svg\""
   ]
  },
  {
   "source": [
    "### Without FS"
   ],
   "cell_type": "markdown",
   "metadata": {}
  },
  {
   "cell_type": "code",
   "execution_count": 31,
   "metadata": {},
   "outputs": [
    {
     "output_type": "execute_result",
     "data": {
      "text/plain": [
       "SGDRegressor()"
      ]
     },
     "metadata": {},
     "execution_count": 31
    }
   ],
   "source": [
    "stream.restart()\n",
    "predictor = SGDRegressor()\n",
    "X, y = stream.next_sample(batch_size=100)\n",
    "predictor.partial_fit(X,y)"
   ]
  },
  {
   "cell_type": "code",
   "execution_count": 32,
   "metadata": {},
   "outputs": [],
   "source": [
    "pure_rmse = []\n",
    "while stream.has_more_samples():\n",
    "    x, y = stream.next_sample(batch_size=100)\n",
    "\n",
    "    # Test\n",
    "    y_pred = predictor.predict(x)\n",
    "    \n",
    "    pure_rmse.append(mean_squared_error(y, y_pred, squared=False))\n",
    "\n",
    "    # Train\n",
    "    predictor.partial_fit(x, y)\n",
    "\n",
    "\n",
    "y_pred = predictor.predict(test_x)\n",
    "pure_rmse_test = mean_squared_error(test_y, y_pred, squared=False)"
   ]
  },
  {
   "source": [
    "### FIRES for Regression"
   ],
   "cell_type": "markdown",
   "metadata": {}
  },
  {
   "cell_type": "code",
   "execution_count": 33,
   "metadata": {},
   "outputs": [
    {
     "output_type": "execute_result",
     "data": {
      "text/plain": [
       "SGDRegressor()"
      ]
     },
     "metadata": {},
     "execution_count": 33
    }
   ],
   "source": [
    "# use SGDRegressor as predictor\n",
    "stream.restart()\n",
    "predictor = SGDRegressor()\n",
    "X, y = stream.next_sample(batch_size=100)\n",
    "predictor.partial_fit(X,y)"
   ]
  },
  {
   "cell_type": "code",
   "execution_count": 34,
   "metadata": {},
   "outputs": [],
   "source": [
    "fires_model = FIRES(n_total_ftr=stream.n_features,\n",
    "                    target_values=None,\n",
    "                    mu_init=0,\n",
    "                    sigma_init=1,\n",
    "                    model='regression')  "
   ]
  },
  {
   "cell_type": "code",
   "execution_count": 35,
   "metadata": {},
   "outputs": [
    {
     "output_type": "stream",
     "name": "stdout",
     "text": [
      "The whole fires run took 7.947829984000009\n"
     ]
    }
   ],
   "source": [
    "fires_mse = []\n",
    "fires_rmse = []\n",
    "fires_msa = []\n",
    "fires_r2 = []\n",
    "fires_times = []\n",
    "\n",
    "fires_selected_ftrs = []\n",
    "fires_stability = [0,0,0,0,0,0,0,0,0,0]\n",
    "\n",
    "start_time_all = timer()\n",
    "while stream.has_more_samples():\n",
    "    # Load a new sample\n",
    "    x, y = stream.next_sample(batch_size=100)\n",
    "    # Select features\n",
    "    start_time = timer()\n",
    "    ftr_weights = fires_model.weigh_features(x,y)\n",
    "    ftr_selection = np.argsort(ftr_weights)[::-1][:n_selected_ftr]\n",
    "    fires_times.append(timer()-start_time)\n",
    "\n",
    "    # Truncate x (retain only selected features, 'remove' all others, e.g. by replacing them with 0)\n",
    "    x_reduced = np.zeros(x.shape)\n",
    "    x_reduced[:, ftr_selection] = x[:, ftr_selection]\n",
    "\n",
    "    # stability test\n",
    "    ftr_array = np.zeros(stream.n_features)\n",
    "    ftr_array[ftr_selection] = 1\n",
    "    fires_selected_ftrs.append(ftr_array)\n",
    "\n",
    "    if len(fires_selected_ftrs) >= 10:\n",
    "        stability = stability_factor(fires_selected_ftrs[-10:])\n",
    "        fires_stability.append(stability)\n",
    "\n",
    "\n",
    "    # Test\n",
    "    y_pred = predictor.predict(x_reduced)\n",
    "    \n",
    "    fires_mse.append(mean_squared_error(y, y_pred, squared=True))\n",
    "    fires_rmse.append(mean_squared_error(y, y_pred, squared=False))\n",
    "    fires_r2.append(r2_score(y,y_pred))\n",
    "    \n",
    "\n",
    "\n",
    "    # Train\n",
    "    predictor.partial_fit(x_reduced, y)\n",
    "\n",
    "# Restart the FileStream\n",
    "end_time_all = timer()\n",
    "fires_run_time = timer() - start_time_all\n",
    "print(\"The whole fires run took {}\".format(fires_run_time))\n"
   ]
  },
  {
   "cell_type": "code",
   "execution_count": 36,
   "metadata": {},
   "outputs": [
    {
     "output_type": "stream",
     "name": "stdout",
     "text": [
      "For the test dataset the previous trained predictor reached: 0.6463931916191225\n"
     ]
    }
   ],
   "source": [
    "y_pred = predictor.predict(test_x)\n",
    "fires_mse_test = mean_squared_error(test_y, y_pred, squared=False)\n",
    "print(\"For the test dataset the previous trained predictor reached: {}\".format(fires_mse_test))"
   ]
  },
  {
   "source": [
    "### Feature selection via SGDRegressor\n"
   ],
   "cell_type": "markdown",
   "metadata": {}
  },
  {
   "cell_type": "code",
   "execution_count": 37,
   "metadata": {},
   "outputs": [
    {
     "output_type": "execute_result",
     "data": {
      "text/plain": [
       "SGDRegressor()"
      ]
     },
     "metadata": {},
     "execution_count": 37
    }
   ],
   "source": [
    "# use SGDRegressor as predictor\n",
    "stream.restart()\n",
    "predictor = SGDRegressor()\n",
    "X, y = stream.next_sample(batch_size=100)\n",
    "predictor.partial_fit(X,y)"
   ]
  },
  {
   "cell_type": "code",
   "execution_count": 38,
   "metadata": {},
   "outputs": [],
   "source": [
    "sgdr_model = SGDRegressor(penalty=\"l1\") #penalty could be elasticnet as well\n",
    "#n_selectey_ftrs?"
   ]
  },
  {
   "cell_type": "code",
   "execution_count": 39,
   "metadata": {},
   "outputs": [
    {
     "output_type": "stream",
     "name": "stdout",
     "text": [
      "The whole sgdr run took 0.7345721270000354\n"
     ]
    }
   ],
   "source": [
    "sgdr_mse = []\n",
    "sgdr_rmse = []\n",
    "sgdr_mae = []\n",
    "sgdr_r2 = []\n",
    "\n",
    "sgdr_times = []\n",
    "\n",
    "sgdr_selected_ftrs = []\n",
    "sgdr_stability = [0,0,0,0,0,0,0,0,0,0]\n",
    "\n",
    "start_time_all = timer()\n",
    "while stream.has_more_samples():\n",
    "    # Load a new sample\n",
    "    x, y = stream.next_sample(batch_size=100)\n",
    "    # Select features\n",
    "    start_time = timer()\n",
    "    sgdr_model.partial_fit(x,y)\n",
    "    ftr_weights = sgdr_model.coef_\n",
    "    ftr_selection = np.argsort(ftr_weights)[::-1][:n_selected_ftr]\n",
    "    sgdr_times.append(timer()-start_time)\n",
    "\n",
    "    # Truncate x (retain only selected features, 'remove' all others, e.g. by replacing them with 0)\n",
    "    x_reduced = np.zeros(x.shape)\n",
    "    x_reduced[:, ftr_selection] = x[:, ftr_selection]\n",
    "\n",
    "    # stability test\n",
    "    ftr_array = np.zeros(stream.n_features)\n",
    "    ftr_array[ftr_selection] = 1\n",
    "    sgdr_selected_ftrs.append(ftr_array)\n",
    "\n",
    "    if len(sgdr_selected_ftrs) >= 10:\n",
    "        stability = stability_factor(sgdr_selected_ftrs[-10:])\n",
    "        sgdr_stability.append(stability)\n",
    "\n",
    "\n",
    "    # Test\n",
    "    y_pred = predictor.predict(x_reduced)\n",
    "    \n",
    "    sgdr_mse.append(mean_squared_error(y, y_pred))\n",
    "    sgdr_rmse.append(mean_squared_error(y, y_pred, squared=False))\n",
    "    sgdr_r2.append(r2_score(y,y_pred))\n",
    "\n",
    "    \n",
    "\n",
    "\n",
    "    # Train\n",
    "    predictor.partial_fit(x_reduced, y)\n",
    "\n",
    "# Restart the FileStream\n",
    "end_time_all = timer()\n",
    "sgdr_run_time = timer() - start_time_all\n",
    "print(\"The whole sgdr run took {}\".format(sgdr_run_time))\n",
    "stream.restart()"
   ]
  },
  {
   "cell_type": "code",
   "execution_count": 40,
   "metadata": {},
   "outputs": [
    {
     "output_type": "stream",
     "name": "stdout",
     "text": [
      "For the test dataset the previous trained predictor reached: 0.45256142366374363\n"
     ]
    }
   ],
   "source": [
    "y_pred = predictor.predict(test_x)\n",
    "sgdr_mse_test = mean_squared_error(test_y, y_pred, squared=False)\n",
    "print(\"For the test dataset the previous trained predictor reached: {}\".format(sgdr_mse_test))"
   ]
  },
  {
   "source": [
    "### Random FS\n"
   ],
   "cell_type": "markdown",
   "metadata": {}
  },
  {
   "cell_type": "code",
   "execution_count": 41,
   "metadata": {},
   "outputs": [
    {
     "output_type": "execute_result",
     "data": {
      "text/plain": [
       "SGDRegressor()"
      ]
     },
     "metadata": {},
     "execution_count": 41
    }
   ],
   "source": [
    "stream.restart()\n",
    "predictor = SGDRegressor()\n",
    "X, y = stream.next_sample(batch_size=100)\n",
    "predictor.partial_fit(X,y)"
   ]
  },
  {
   "cell_type": "code",
   "execution_count": 42,
   "metadata": {},
   "outputs": [],
   "source": [
    "random_rmse = []\n",
    "\n",
    "while stream.has_more_samples():\n",
    "    # Load a new sample\n",
    "    x, y = stream.next_sample(batch_size=100)\n",
    "\n",
    "    \n",
    "    # select features\n",
    "    ftr_selection = np.random.choice(len(x[0]), n_selected_ftr)\n",
    "\n",
    "    # Truncate x (retain only selected features, 'remove' all others, e.g. by replacing them with 0)\n",
    "    x_reduced = np.zeros(x.shape)\n",
    "    x_reduced[:, ftr_selection] = x[:, ftr_selection]\n",
    "\n",
    "\n",
    "    # Test\n",
    "    y_pred = predictor.predict(x_reduced)\n",
    "\n",
    "    random_rmse.append(mean_squared_error(y, y_pred, squared=False))\n",
    "    \n",
    "\n",
    "    # Train\n",
    "    predictor.partial_fit(x_reduced, y)"
   ]
  },
  {
   "cell_type": "code",
   "execution_count": 43,
   "metadata": {},
   "outputs": [],
   "source": [
    "y_pred = predictor.predict(test_x)\n",
    "random_rmse_test = mean_squared_error(test_y, y_pred, squared=False)"
   ]
  },
  {
   "source": [
    "### Plot all\n"
   ],
   "cell_type": "markdown",
   "metadata": {}
  },
  {
   "cell_type": "code",
   "execution_count": 44,
   "metadata": {},
   "outputs": [
    {
     "output_type": "display_data",
     "data": {
      "application/vnd.plotly.v1+json": {
       "config": {
        "plotlyServerURL": "https://plot.ly"
       },
       "data": [
        {
         "hovertemplate": "variable=FIRES<br>batches=%{x}<br>stability=%{y}<extra></extra>",
         "legendgroup": "FIRES",
         "line": {
          "color": "red",
          "dash": "solid"
         },
         "mode": "lines",
         "name": "FIRES",
         "orientation": "v",
         "showlegend": true,
         "type": "scatter",
         "x": [
          0,
          1,
          2,
          3,
          4,
          5,
          6,
          7,
          8,
          9,
          10,
          11,
          12,
          13,
          14,
          15,
          16,
          17,
          18,
          19,
          20,
          21,
          22,
          23,
          24,
          25,
          26,
          27,
          28,
          29,
          30,
          31,
          32,
          33,
          34,
          35,
          36,
          37,
          38,
          39,
          40,
          41,
          42,
          43,
          44,
          45,
          46,
          47,
          48,
          49,
          50,
          51,
          52,
          53,
          54,
          55,
          56,
          57,
          58,
          59,
          60,
          61,
          62,
          63,
          64,
          65,
          66,
          67,
          68,
          69,
          70,
          71,
          72,
          73,
          74,
          75,
          76,
          77,
          78,
          79,
          80,
          81,
          82,
          83,
          84,
          85,
          86,
          87,
          88,
          89,
          90,
          91,
          92,
          93,
          94,
          95,
          96,
          97,
          98,
          99,
          100,
          101,
          102,
          103,
          104,
          105,
          106,
          107,
          108,
          109,
          110,
          111,
          112,
          113,
          114,
          115,
          116,
          117,
          118,
          119,
          120,
          121,
          122,
          123,
          124,
          125,
          126,
          127,
          128,
          129,
          130,
          131,
          132,
          133,
          134,
          135,
          136,
          137,
          138,
          139,
          140,
          141,
          142,
          143,
          144,
          145,
          146,
          147,
          148,
          149,
          150,
          151,
          152,
          153,
          154,
          155,
          156,
          157,
          158,
          159,
          160,
          161,
          162,
          163,
          164,
          165,
          166,
          167,
          168,
          169
         ],
         "xaxis": "x",
         "y": [
          0,
          0,
          0,
          0,
          0,
          0,
          0,
          0,
          0,
          0,
          0.7188283208020052,
          0.9240288220551379,
          0.9443922305764413,
          0.9616228070175443,
          0.9694548872180453,
          0.9749373433583963,
          0.9765037593984967,
          0.9812030075187974,
          0.9733709273182961,
          0.9686716791979952,
          0.967105263157895,
          0.9686716791979954,
          0.9733709273182961,
          0.9812030075187974,
          0.9765037593984965,
          0.9749373433583963,
          0.9765037593984967,
          0.9812030075187974,
          0.9804197994987471,
          0.9772869674185469,
          0.9757205513784466,
          0.9686716791979954,
          0.9647556390977448,
          0.9639724310776945,
          0.9584899749373437,
          0.9561403508771932,
          0.9569235588972433,
          0.960839598997494,
          0.9678884711779453,
          0.9741541353383462,
          0.9835526315789476,
          0.9874686716791978,
          0.9929511278195489,
          1,
          1,
          1,
          1,
          1,
          1,
          1,
          1,
          1,
          1,
          1,
          1,
          1,
          1,
          1,
          1,
          0.9929511278195492,
          0.9874686716791985,
          0.9835526315789479,
          0.9812030075187974,
          0.9804197994987472,
          0.9812030075187974,
          0.9835526315789477,
          0.987468671679198,
          0.9929511278195489,
          1,
          1,
          1,
          1,
          1,
          1,
          1,
          1,
          1,
          1,
          1,
          1,
          1,
          1,
          1,
          1,
          1,
          1,
          1,
          1,
          1,
          1,
          1,
          1,
          1,
          1,
          0.9929511278195492,
          0.9874686716791985,
          0.9835526315789479,
          0.9812030075187974,
          0.9804197994987472,
          0.9812030075187974,
          0.9835526315789477,
          0.987468671679198,
          0.9929511278195489,
          1,
          1,
          1,
          1,
          1,
          1,
          0.9929511278195492,
          0.9874686716791985,
          0.9835526315789479,
          0.9812030075187974,
          0.9804197994987472,
          0.9812030075187974,
          0.9835526315789477,
          0.987468671679198,
          0.9929511278195489,
          1,
          1,
          1,
          1,
          1,
          1,
          1,
          1,
          1,
          1,
          1,
          1,
          1,
          1,
          1,
          1,
          1,
          1,
          1,
          1,
          0.9929511278195492,
          0.9874686716791985,
          0.9835526315789479,
          0.9812030075187974,
          0.9804197994987472,
          0.9812030075187974,
          0.9835526315789477,
          0.987468671679198,
          0.9929511278195489,
          1,
          1,
          1,
          1,
          1,
          1,
          1,
          1,
          0.9929511278195492,
          0.9874686716791985,
          0.9835526315789479,
          0.9812030075187974,
          0.9812030075187974,
          0.9812030075187974,
          0.9812030075187974,
          0.9812030075187974,
          0.9812030075187974,
          0.9772869674185469,
          0.9757205513784467,
          0.9757205513784466,
          0.9772869674185467,
          0.9804197994987472,
          0.9812030075187974
         ],
         "yaxis": "y"
        },
        {
         "hovertemplate": "variable=SGDR<br>batches=%{x}<br>stability=%{y}<extra></extra>",
         "legendgroup": "SGDR",
         "line": {
          "color": "green",
          "dash": "solid"
         },
         "mode": "lines",
         "name": "SGDR",
         "orientation": "v",
         "showlegend": true,
         "type": "scatter",
         "x": [
          0,
          1,
          2,
          3,
          4,
          5,
          6,
          7,
          8,
          9,
          10,
          11,
          12,
          13,
          14,
          15,
          16,
          17,
          18,
          19,
          20,
          21,
          22,
          23,
          24,
          25,
          26,
          27,
          28,
          29,
          30,
          31,
          32,
          33,
          34,
          35,
          36,
          37,
          38,
          39,
          40,
          41,
          42,
          43,
          44,
          45,
          46,
          47,
          48,
          49,
          50,
          51,
          52,
          53,
          54,
          55,
          56,
          57,
          58,
          59,
          60,
          61,
          62,
          63,
          64,
          65,
          66,
          67,
          68,
          69,
          70,
          71,
          72,
          73,
          74,
          75,
          76,
          77,
          78,
          79,
          80,
          81,
          82,
          83,
          84,
          85,
          86,
          87,
          88,
          89,
          90,
          91,
          92,
          93,
          94,
          95,
          96,
          97,
          98,
          99,
          100,
          101,
          102,
          103,
          104,
          105,
          106,
          107,
          108,
          109,
          110,
          111,
          112,
          113,
          114,
          115,
          116,
          117,
          118,
          119,
          120,
          121,
          122,
          123,
          124,
          125,
          126,
          127,
          128,
          129,
          130,
          131,
          132,
          133,
          134,
          135,
          136,
          137,
          138,
          139,
          140,
          141,
          142,
          143,
          144,
          145,
          146,
          147,
          148,
          149,
          150,
          151,
          152,
          153,
          154,
          155,
          156,
          157,
          158,
          159,
          160,
          161,
          162,
          163,
          164,
          165,
          166,
          167,
          168,
          169
         ],
         "xaxis": "x",
         "y": [
          0,
          0,
          0,
          0,
          0,
          0,
          0,
          0,
          0,
          0,
          0.7767857142857144,
          0.8190789473684209,
          0.8229949874686715,
          0.8363095238095236,
          0.8402255639097743,
          0.8433583959899752,
          0.843358395989975,
          0.8449248120300753,
          0.8543233082706767,
          0.8652882205513784,
          0.8707706766917294,
          0.8848684210526317,
          0.8997493734335842,
          0.9075814536340853,
          0.9114974937343358,
          0.910714285714286,
          0.9091478696741859,
          0.9091478696741856,
          0.9036654135338348,
          0.8981829573934841,
          0.9114974937343365,
          0.9232456140350883,
          0.9240288220551383,
          0.9302944862155392,
          0.9185463659147871,
          0.9107142857142858,
          0.903665413533835,
          0.8989661654135346,
          0.8997493734335845,
          0.903665413533835,
          0.903665413533835,
          0.9146303258145368,
          0.9263784461152885,
          0.9318609022556392,
          0.9240288220551379,
          0.9224624060150378,
          0.9130639097744363,
          0.911497493734336,
          0.9146303258145363,
          0.9067982456140353,
          0.9005325814536339,
          0.8950501253132831,
          0.8973997493734339,
          0.9130639097744366,
          0.9130639097744364,
          0.9177631578947376,
          0.9154135338345869,
          0.9122807017543864,
          0.9224624060150379,
          0.921679197994988,
          0.9248120300751885,
          0.9248120300751884,
          0.9271616541353388,
          0.9365601503759403,
          0.9428258145363412,
          0.9404761904761909,
          0.9381265664160406,
          0.9443922305764414,
          0.9420426065162913,
          0.9389097744360907,
          0.9404761904761908,
          0.9459586466165418,
          0.9506578947368425,
          0.953790726817043,
          0.953790726817043,
          0.9608395989974943,
          0.9608395989974943,
          0.9702380952380957,
          0.9741541353383462,
          0.9741541353383464,
          0.9710213032581462,
          0.9631892230576449,
          0.9584899749373438,
          0.9569235588972435,
          0.9561403508771931,
          0.9592731829573939,
          0.9577067669172941,
          0.9530075187969931,
          0.9522243107769429,
          0.9490914786967425,
          0.9483082706766922,
          0.9483082706766921,
          0.9483082706766922,
          0.9483082706766919,
          0.9436090225563911,
          0.9443922305764413,
          0.9506578947368427,
          0.959273182957394,
          0.9624060150375946,
          0.9655388471177951,
          0.9631892230576447,
          0.9624060150375945,
          0.9631892230576447,
          0.9631892230576449,
          0.9655388471177951,
          0.971021303258146,
          0.9671052631578954,
          0.9694548872180457,
          0.965538847117795,
          0.9671052631578954,
          0.9671052631578954,
          0.9569235588972438,
          0.9514411027568931,
          0.946741854636592,
          0.9396929824561405,
          0.9412593984962407,
          0.9459586466165416,
          0.9475250626566422,
          0.9530075187969933,
          0.9592731829573942,
          0.9686716791979956,
          0.9655388471177951,
          0.9663220551378452,
          0.9631892230576449,
          0.958489974937344,
          0.9506578947368428,
          0.9475250626566423,
          0.9459586466165419,
          0.9490914786967424,
          0.9498746867167924,
          0.9537907268170428,
          0.960056390977444,
          0.9616228070175445,
          0.9616228070175442,
          0.966322055137845,
          0.9671052631578951,
          0.9686716791979956,
          0.9741541353383464,
          0.9812030075187974,
          0.9812030075187974,
          0.9812030075187974,
          0.9812030075187974,
          0.9812030075187974,
          0.9765037593984965,
          0.9741541353383462,
          0.9749373433583964,
          0.9788533834586471,
          0.971021303258146,
          0.9663220551378451,
          0.9647556390977449,
          0.9663220551378452,
          0.9671052631578951,
          0.971021303258146,
          0.9686716791979956,
          0.9710213032581458,
          0.9718045112781961,
          0.9741541353383464,
          0.9733709273182961,
          0.9741541353383462,
          0.9725877192982458,
          0.9725877192982461,
          0.971021303258146,
          0.9671052631578951,
          0.971021303258146,
          0.9725877192982462,
          0.9663220551378454,
          0.9616228070175445,
          0.9616228070175445,
          0.9616228070175443,
          0.960056390977444
         ],
         "yaxis": "y"
        }
       ],
       "layout": {
        "legend": {
         "title": {
          "text": "variable"
         },
         "tracegroupgap": 0
        },
        "template": {
         "data": {
          "bar": [
           {
            "error_x": {
             "color": "#2a3f5f"
            },
            "error_y": {
             "color": "#2a3f5f"
            },
            "marker": {
             "line": {
              "color": "#E5ECF6",
              "width": 0.5
             }
            },
            "type": "bar"
           }
          ],
          "barpolar": [
           {
            "marker": {
             "line": {
              "color": "#E5ECF6",
              "width": 0.5
             }
            },
            "type": "barpolar"
           }
          ],
          "carpet": [
           {
            "aaxis": {
             "endlinecolor": "#2a3f5f",
             "gridcolor": "white",
             "linecolor": "white",
             "minorgridcolor": "white",
             "startlinecolor": "#2a3f5f"
            },
            "baxis": {
             "endlinecolor": "#2a3f5f",
             "gridcolor": "white",
             "linecolor": "white",
             "minorgridcolor": "white",
             "startlinecolor": "#2a3f5f"
            },
            "type": "carpet"
           }
          ],
          "choropleth": [
           {
            "colorbar": {
             "outlinewidth": 0,
             "ticks": ""
            },
            "type": "choropleth"
           }
          ],
          "contour": [
           {
            "colorbar": {
             "outlinewidth": 0,
             "ticks": ""
            },
            "colorscale": [
             [
              0,
              "#0d0887"
             ],
             [
              0.1111111111111111,
              "#46039f"
             ],
             [
              0.2222222222222222,
              "#7201a8"
             ],
             [
              0.3333333333333333,
              "#9c179e"
             ],
             [
              0.4444444444444444,
              "#bd3786"
             ],
             [
              0.5555555555555556,
              "#d8576b"
             ],
             [
              0.6666666666666666,
              "#ed7953"
             ],
             [
              0.7777777777777778,
              "#fb9f3a"
             ],
             [
              0.8888888888888888,
              "#fdca26"
             ],
             [
              1,
              "#f0f921"
             ]
            ],
            "type": "contour"
           }
          ],
          "contourcarpet": [
           {
            "colorbar": {
             "outlinewidth": 0,
             "ticks": ""
            },
            "type": "contourcarpet"
           }
          ],
          "heatmap": [
           {
            "colorbar": {
             "outlinewidth": 0,
             "ticks": ""
            },
            "colorscale": [
             [
              0,
              "#0d0887"
             ],
             [
              0.1111111111111111,
              "#46039f"
             ],
             [
              0.2222222222222222,
              "#7201a8"
             ],
             [
              0.3333333333333333,
              "#9c179e"
             ],
             [
              0.4444444444444444,
              "#bd3786"
             ],
             [
              0.5555555555555556,
              "#d8576b"
             ],
             [
              0.6666666666666666,
              "#ed7953"
             ],
             [
              0.7777777777777778,
              "#fb9f3a"
             ],
             [
              0.8888888888888888,
              "#fdca26"
             ],
             [
              1,
              "#f0f921"
             ]
            ],
            "type": "heatmap"
           }
          ],
          "heatmapgl": [
           {
            "colorbar": {
             "outlinewidth": 0,
             "ticks": ""
            },
            "colorscale": [
             [
              0,
              "#0d0887"
             ],
             [
              0.1111111111111111,
              "#46039f"
             ],
             [
              0.2222222222222222,
              "#7201a8"
             ],
             [
              0.3333333333333333,
              "#9c179e"
             ],
             [
              0.4444444444444444,
              "#bd3786"
             ],
             [
              0.5555555555555556,
              "#d8576b"
             ],
             [
              0.6666666666666666,
              "#ed7953"
             ],
             [
              0.7777777777777778,
              "#fb9f3a"
             ],
             [
              0.8888888888888888,
              "#fdca26"
             ],
             [
              1,
              "#f0f921"
             ]
            ],
            "type": "heatmapgl"
           }
          ],
          "histogram": [
           {
            "marker": {
             "colorbar": {
              "outlinewidth": 0,
              "ticks": ""
             }
            },
            "type": "histogram"
           }
          ],
          "histogram2d": [
           {
            "colorbar": {
             "outlinewidth": 0,
             "ticks": ""
            },
            "colorscale": [
             [
              0,
              "#0d0887"
             ],
             [
              0.1111111111111111,
              "#46039f"
             ],
             [
              0.2222222222222222,
              "#7201a8"
             ],
             [
              0.3333333333333333,
              "#9c179e"
             ],
             [
              0.4444444444444444,
              "#bd3786"
             ],
             [
              0.5555555555555556,
              "#d8576b"
             ],
             [
              0.6666666666666666,
              "#ed7953"
             ],
             [
              0.7777777777777778,
              "#fb9f3a"
             ],
             [
              0.8888888888888888,
              "#fdca26"
             ],
             [
              1,
              "#f0f921"
             ]
            ],
            "type": "histogram2d"
           }
          ],
          "histogram2dcontour": [
           {
            "colorbar": {
             "outlinewidth": 0,
             "ticks": ""
            },
            "colorscale": [
             [
              0,
              "#0d0887"
             ],
             [
              0.1111111111111111,
              "#46039f"
             ],
             [
              0.2222222222222222,
              "#7201a8"
             ],
             [
              0.3333333333333333,
              "#9c179e"
             ],
             [
              0.4444444444444444,
              "#bd3786"
             ],
             [
              0.5555555555555556,
              "#d8576b"
             ],
             [
              0.6666666666666666,
              "#ed7953"
             ],
             [
              0.7777777777777778,
              "#fb9f3a"
             ],
             [
              0.8888888888888888,
              "#fdca26"
             ],
             [
              1,
              "#f0f921"
             ]
            ],
            "type": "histogram2dcontour"
           }
          ],
          "mesh3d": [
           {
            "colorbar": {
             "outlinewidth": 0,
             "ticks": ""
            },
            "type": "mesh3d"
           }
          ],
          "parcoords": [
           {
            "line": {
             "colorbar": {
              "outlinewidth": 0,
              "ticks": ""
             }
            },
            "type": "parcoords"
           }
          ],
          "pie": [
           {
            "automargin": true,
            "type": "pie"
           }
          ],
          "scatter": [
           {
            "marker": {
             "colorbar": {
              "outlinewidth": 0,
              "ticks": ""
             }
            },
            "type": "scatter"
           }
          ],
          "scatter3d": [
           {
            "line": {
             "colorbar": {
              "outlinewidth": 0,
              "ticks": ""
             }
            },
            "marker": {
             "colorbar": {
              "outlinewidth": 0,
              "ticks": ""
             }
            },
            "type": "scatter3d"
           }
          ],
          "scattercarpet": [
           {
            "marker": {
             "colorbar": {
              "outlinewidth": 0,
              "ticks": ""
             }
            },
            "type": "scattercarpet"
           }
          ],
          "scattergeo": [
           {
            "marker": {
             "colorbar": {
              "outlinewidth": 0,
              "ticks": ""
             }
            },
            "type": "scattergeo"
           }
          ],
          "scattergl": [
           {
            "marker": {
             "colorbar": {
              "outlinewidth": 0,
              "ticks": ""
             }
            },
            "type": "scattergl"
           }
          ],
          "scattermapbox": [
           {
            "marker": {
             "colorbar": {
              "outlinewidth": 0,
              "ticks": ""
             }
            },
            "type": "scattermapbox"
           }
          ],
          "scatterpolar": [
           {
            "marker": {
             "colorbar": {
              "outlinewidth": 0,
              "ticks": ""
             }
            },
            "type": "scatterpolar"
           }
          ],
          "scatterpolargl": [
           {
            "marker": {
             "colorbar": {
              "outlinewidth": 0,
              "ticks": ""
             }
            },
            "type": "scatterpolargl"
           }
          ],
          "scatterternary": [
           {
            "marker": {
             "colorbar": {
              "outlinewidth": 0,
              "ticks": ""
             }
            },
            "type": "scatterternary"
           }
          ],
          "surface": [
           {
            "colorbar": {
             "outlinewidth": 0,
             "ticks": ""
            },
            "colorscale": [
             [
              0,
              "#0d0887"
             ],
             [
              0.1111111111111111,
              "#46039f"
             ],
             [
              0.2222222222222222,
              "#7201a8"
             ],
             [
              0.3333333333333333,
              "#9c179e"
             ],
             [
              0.4444444444444444,
              "#bd3786"
             ],
             [
              0.5555555555555556,
              "#d8576b"
             ],
             [
              0.6666666666666666,
              "#ed7953"
             ],
             [
              0.7777777777777778,
              "#fb9f3a"
             ],
             [
              0.8888888888888888,
              "#fdca26"
             ],
             [
              1,
              "#f0f921"
             ]
            ],
            "type": "surface"
           }
          ],
          "table": [
           {
            "cells": {
             "fill": {
              "color": "#EBF0F8"
             },
             "line": {
              "color": "white"
             }
            },
            "header": {
             "fill": {
              "color": "#C8D4E3"
             },
             "line": {
              "color": "white"
             }
            },
            "type": "table"
           }
          ]
         },
         "layout": {
          "annotationdefaults": {
           "arrowcolor": "#2a3f5f",
           "arrowhead": 0,
           "arrowwidth": 1
          },
          "autotypenumbers": "strict",
          "coloraxis": {
           "colorbar": {
            "outlinewidth": 0,
            "ticks": ""
           }
          },
          "colorscale": {
           "diverging": [
            [
             0,
             "#8e0152"
            ],
            [
             0.1,
             "#c51b7d"
            ],
            [
             0.2,
             "#de77ae"
            ],
            [
             0.3,
             "#f1b6da"
            ],
            [
             0.4,
             "#fde0ef"
            ],
            [
             0.5,
             "#f7f7f7"
            ],
            [
             0.6,
             "#e6f5d0"
            ],
            [
             0.7,
             "#b8e186"
            ],
            [
             0.8,
             "#7fbc41"
            ],
            [
             0.9,
             "#4d9221"
            ],
            [
             1,
             "#276419"
            ]
           ],
           "sequential": [
            [
             0,
             "#0d0887"
            ],
            [
             0.1111111111111111,
             "#46039f"
            ],
            [
             0.2222222222222222,
             "#7201a8"
            ],
            [
             0.3333333333333333,
             "#9c179e"
            ],
            [
             0.4444444444444444,
             "#bd3786"
            ],
            [
             0.5555555555555556,
             "#d8576b"
            ],
            [
             0.6666666666666666,
             "#ed7953"
            ],
            [
             0.7777777777777778,
             "#fb9f3a"
            ],
            [
             0.8888888888888888,
             "#fdca26"
            ],
            [
             1,
             "#f0f921"
            ]
           ],
           "sequentialminus": [
            [
             0,
             "#0d0887"
            ],
            [
             0.1111111111111111,
             "#46039f"
            ],
            [
             0.2222222222222222,
             "#7201a8"
            ],
            [
             0.3333333333333333,
             "#9c179e"
            ],
            [
             0.4444444444444444,
             "#bd3786"
            ],
            [
             0.5555555555555556,
             "#d8576b"
            ],
            [
             0.6666666666666666,
             "#ed7953"
            ],
            [
             0.7777777777777778,
             "#fb9f3a"
            ],
            [
             0.8888888888888888,
             "#fdca26"
            ],
            [
             1,
             "#f0f921"
            ]
           ]
          },
          "colorway": [
           "#636efa",
           "#EF553B",
           "#00cc96",
           "#ab63fa",
           "#FFA15A",
           "#19d3f3",
           "#FF6692",
           "#B6E880",
           "#FF97FF",
           "#FECB52"
          ],
          "font": {
           "color": "#2a3f5f"
          },
          "geo": {
           "bgcolor": "white",
           "lakecolor": "white",
           "landcolor": "#E5ECF6",
           "showlakes": true,
           "showland": true,
           "subunitcolor": "white"
          },
          "hoverlabel": {
           "align": "left"
          },
          "hovermode": "closest",
          "mapbox": {
           "style": "light"
          },
          "paper_bgcolor": "white",
          "plot_bgcolor": "#E5ECF6",
          "polar": {
           "angularaxis": {
            "gridcolor": "white",
            "linecolor": "white",
            "ticks": ""
           },
           "bgcolor": "#E5ECF6",
           "radialaxis": {
            "gridcolor": "white",
            "linecolor": "white",
            "ticks": ""
           }
          },
          "scene": {
           "xaxis": {
            "backgroundcolor": "#E5ECF6",
            "gridcolor": "white",
            "gridwidth": 2,
            "linecolor": "white",
            "showbackground": true,
            "ticks": "",
            "zerolinecolor": "white"
           },
           "yaxis": {
            "backgroundcolor": "#E5ECF6",
            "gridcolor": "white",
            "gridwidth": 2,
            "linecolor": "white",
            "showbackground": true,
            "ticks": "",
            "zerolinecolor": "white"
           },
           "zaxis": {
            "backgroundcolor": "#E5ECF6",
            "gridcolor": "white",
            "gridwidth": 2,
            "linecolor": "white",
            "showbackground": true,
            "ticks": "",
            "zerolinecolor": "white"
           }
          },
          "shapedefaults": {
           "line": {
            "color": "#2a3f5f"
           }
          },
          "ternary": {
           "aaxis": {
            "gridcolor": "white",
            "linecolor": "white",
            "ticks": ""
           },
           "baxis": {
            "gridcolor": "white",
            "linecolor": "white",
            "ticks": ""
           },
           "bgcolor": "#E5ECF6",
           "caxis": {
            "gridcolor": "white",
            "linecolor": "white",
            "ticks": ""
           }
          },
          "title": {
           "x": 0.05
          },
          "xaxis": {
           "automargin": true,
           "gridcolor": "white",
           "linecolor": "white",
           "ticks": "",
           "title": {
            "standoff": 15
           },
           "zerolinecolor": "white",
           "zerolinewidth": 2
          },
          "yaxis": {
           "automargin": true,
           "gridcolor": "white",
           "linecolor": "white",
           "ticks": "",
           "title": {
            "standoff": 15
           },
           "zerolinecolor": "white",
           "zerolinewidth": 2
          }
         }
        },
        "title": {
         "text": "Stability on dataset dataset_1_normalized"
        },
        "xaxis": {
         "anchor": "y",
         "domain": [
          0,
          1
         ],
         "title": {
          "text": "batches"
         }
        },
        "yaxis": {
         "anchor": "x",
         "domain": [
          0,
          1
         ],
         "title": {
          "text": "stability"
         }
        }
       }
      }
     },
     "metadata": {}
    }
   ],
   "source": [
    "# stability\n",
    "title = \"Stability on dataset {}\".format(dataset_name)\n",
    "col_names = [\"FIRES\", \"SGDR\"]\n",
    "d = {\"FIRES\":fires_stability, \"SGDR\":sgdr_stability}\n",
    "df = pd.DataFrame(d, columns=col_names)\n",
    "fig = px.line(df, y = col_names, title=title, labels={\"index\":\"batches\", \"value\":\"stability\"}, color_discrete_map={'FIRES': 'red', \"SGDR\": \"green\"})\n",
    "stability_trace = fig[\"data\"]\n",
    "fig.show()"
   ]
  },
  {
   "cell_type": "code",
   "execution_count": 45,
   "metadata": {},
   "outputs": [
    {
     "output_type": "display_data",
     "data": {
      "application/vnd.plotly.v1+json": {
       "config": {
        "plotlyServerURL": "https://plot.ly"
       },
       "data": [
        {
         "hovertemplate": "variable=Pure<br>batches=%{x}<br>rmse=%{y}<extra></extra>",
         "legendgroup": "Pure",
         "line": {
          "color": "blue",
          "dash": "solid"
         },
         "mode": "lines",
         "name": "Pure",
         "orientation": "v",
         "showlegend": true,
         "type": "scatter",
         "x": [
          0,
          1,
          2,
          3,
          4,
          5,
          6,
          7,
          8,
          9,
          10,
          11,
          12,
          13,
          14,
          15,
          16,
          17,
          18,
          19,
          20,
          21,
          22,
          23,
          24,
          25,
          26,
          27,
          28,
          29,
          30,
          31,
          32,
          33,
          34,
          35,
          36,
          37,
          38,
          39,
          40,
          41,
          42,
          43,
          44,
          45,
          46,
          47,
          48,
          49,
          50,
          51,
          52,
          53,
          54,
          55,
          56,
          57,
          58,
          59,
          60,
          61,
          62,
          63,
          64,
          65,
          66,
          67,
          68,
          69,
          70,
          71,
          72,
          73,
          74,
          75,
          76,
          77,
          78,
          79,
          80,
          81,
          82,
          83,
          84,
          85,
          86,
          87,
          88,
          89,
          90,
          91,
          92,
          93,
          94,
          95,
          96,
          97,
          98,
          99,
          100,
          101,
          102,
          103,
          104,
          105,
          106,
          107,
          108,
          109,
          110,
          111,
          112,
          113,
          114,
          115,
          116,
          117,
          118,
          119,
          120,
          121,
          122,
          123,
          124,
          125,
          126,
          127,
          128,
          129,
          130,
          131,
          132,
          133,
          134,
          135,
          136,
          137,
          138,
          139,
          140,
          141,
          142,
          143,
          144,
          145,
          146,
          147,
          148,
          149,
          150,
          151,
          152,
          153,
          154,
          155,
          156,
          157,
          158,
          159,
          160,
          161,
          162,
          163,
          164,
          165,
          166,
          167,
          168
         ],
         "xaxis": "x",
         "y": [
          0.12886000079304388,
          0.12156785801197814,
          0.13434411961792056,
          0.10066828813980433,
          0.13409135294939037,
          0.09501734042702721,
          0.11466544643351119,
          0.13551381424919798,
          0.10167243217204255,
          0.10696277773617577,
          0.1271496333646599,
          0.11403002960089534,
          0.11545436974014593,
          0.11604427783849759,
          0.11648677260739067,
          0.1132691820341209,
          0.11626805007913883,
          0.11854839674435064,
          0.11987955910026854,
          0.12055577415327812,
          0.12566355252618902,
          0.1225168898368019,
          0.12116440080753106,
          0.10061707661318003,
          0.11060048667061759,
          0.11992127023719235,
          0.10937945710780728,
          0.11384113849156856,
          0.11508974893461506,
          0.09861747505434826,
          0.11382697518640988,
          0.10509073284349223,
          0.10864344046929601,
          0.10516154198408531,
          0.10781051438077255,
          0.11249401963943359,
          0.10399560755276008,
          0.1153274609978608,
          0.10164245990604363,
          0.09633248963591119,
          0.11459415459960369,
          0.09939056296802552,
          0.11353767887879222,
          0.10318101597817873,
          0.09563103925264525,
          0.09099132262997622,
          0.12191506521188454,
          0.09399728236310007,
          0.12409144868900265,
          0.11174040059858938,
          0.09852494421367634,
          0.10303160451279034,
          0.10622431922716602,
          0.10486622552714348,
          0.10314356308958979,
          0.11659365602071427,
          0.10684896243396358,
          0.10517591083357222,
          0.10853486921703218,
          0.107514997565267,
          0.11602342327399601,
          0.11643144352997882,
          0.11131737851818153,
          0.11464365173573583,
          0.10744982419962554,
          0.10839062381135878,
          0.10479517253930908,
          0.09832389884227692,
          0.09115267226981702,
          0.10327533483949787,
          0.09689290477641635,
          0.10505039632085567,
          0.09497626574494758,
          0.09833390500755543,
          0.10264739157948505,
          0.11639544043824364,
          0.10293591735764547,
          0.10507532565270443,
          0.10405477267241632,
          0.10193350324361033,
          0.1131401813726734,
          0.09746676604973435,
          0.11346762822853457,
          0.10392302660290005,
          0.09775495720629715,
          0.09592961518384976,
          0.09645145040730586,
          0.10733884229589064,
          0.09361598405214455,
          0.09860443295480045,
          0.11097505495936238,
          0.08557297724495332,
          0.09528388922148652,
          0.1084825888477404,
          0.09549851017168734,
          0.09712248843579223,
          0.09758567314656924,
          0.09712640040487559,
          0.09590469248505314,
          0.09425851357985139,
          0.10860598094552457,
          0.1044358879942946,
          0.10628731049452374,
          0.09986467569506316,
          0.10345380603742081,
          0.09463910372661495,
          0.09573564768256382,
          0.10149594902840463,
          0.08589736821279728,
          0.08696417516346937,
          0.10374160589346322,
          0.10397260715511573,
          0.08934172944500554,
          0.0959768403933401,
          0.09503021349047838,
          0.08982277624497345,
          0.09538202684275766,
          0.114088218530795,
          0.09700743604455143,
          0.09281889587417316,
          0.0984816252113493,
          0.10113563309421593,
          0.10366361106696742,
          0.09573185897768755,
          0.09501701717546004,
          0.10444885942108571,
          0.09383237973397834,
          0.10136574461456987,
          0.1032200040354065,
          0.09327882464789726,
          0.10969003482679797,
          0.103184251850465,
          0.0961373620760876,
          0.10468549917817353,
          0.09319375882685599,
          0.08724789065654827,
          0.084401592029262,
          0.08991920500528573,
          0.09604557337215422,
          0.09069110333122844,
          0.0901006879492869,
          0.08760604064639332,
          0.08178343611655105,
          0.09710685784824213,
          0.08448394189245964,
          0.0983727509838718,
          0.08695484654493402,
          0.09012676946409211,
          0.08753726785796283,
          0.09144323182907689,
          0.09121658749887,
          0.08398625346173216,
          0.09207278116502478,
          0.10476578099955344,
          0.08390609324393498,
          0.09089691094826961,
          0.11206947730140733,
          0.09526786551652333,
          0.09417228692103814,
          0.08510613689629162,
          0.09676672509964712,
          0.08034013305168633,
          0.08448452759225815,
          0.08362775143553913,
          0.0915856733049998,
          0.08911725276416216,
          0.08795410946248405,
          0.09816388465697588,
          0.09187703432952525
         ],
         "yaxis": "y"
        },
        {
         "hovertemplate": "variable=FIRES<br>batches=%{x}<br>rmse=%{y}<extra></extra>",
         "legendgroup": "FIRES",
         "line": {
          "color": "red",
          "dash": "solid"
         },
         "mode": "lines",
         "name": "FIRES",
         "orientation": "v",
         "showlegend": true,
         "type": "scatter",
         "x": [
          0,
          1,
          2,
          3,
          4,
          5,
          6,
          7,
          8,
          9,
          10,
          11,
          12,
          13,
          14,
          15,
          16,
          17,
          18,
          19,
          20,
          21,
          22,
          23,
          24,
          25,
          26,
          27,
          28,
          29,
          30,
          31,
          32,
          33,
          34,
          35,
          36,
          37,
          38,
          39,
          40,
          41,
          42,
          43,
          44,
          45,
          46,
          47,
          48,
          49,
          50,
          51,
          52,
          53,
          54,
          55,
          56,
          57,
          58,
          59,
          60,
          61,
          62,
          63,
          64,
          65,
          66,
          67,
          68,
          69,
          70,
          71,
          72,
          73,
          74,
          75,
          76,
          77,
          78,
          79,
          80,
          81,
          82,
          83,
          84,
          85,
          86,
          87,
          88,
          89,
          90,
          91,
          92,
          93,
          94,
          95,
          96,
          97,
          98,
          99,
          100,
          101,
          102,
          103,
          104,
          105,
          106,
          107,
          108,
          109,
          110,
          111,
          112,
          113,
          114,
          115,
          116,
          117,
          118,
          119,
          120,
          121,
          122,
          123,
          124,
          125,
          126,
          127,
          128,
          129,
          130,
          131,
          132,
          133,
          134,
          135,
          136,
          137,
          138,
          139,
          140,
          141,
          142,
          143,
          144,
          145,
          146,
          147,
          148,
          149,
          150,
          151,
          152,
          153,
          154,
          155,
          156,
          157,
          158,
          159,
          160,
          161,
          162,
          163,
          164,
          165,
          166,
          167,
          168
         ],
         "xaxis": "x",
         "y": [
          0.3541242741106652,
          0.27934202560345645,
          0.14334810439133433,
          0.11251323279978277,
          0.13566989403694865,
          0.095477850282555,
          0.12365106599216716,
          0.12303466857817036,
          0.10529218130127421,
          0.10769412286844503,
          0.12898040683078346,
          0.11977648016330746,
          0.1195153819774738,
          0.12025335635193332,
          0.1213734204813826,
          0.11931044474423204,
          0.1185765394310391,
          0.12094247275481174,
          0.11682133293674603,
          0.1238558923023178,
          0.1320618616954931,
          0.12599668219249788,
          0.1260703793721918,
          0.10719188194595447,
          0.1079285360655693,
          0.1302263049772817,
          0.11604739843614043,
          0.11452469618017487,
          0.12130866036807982,
          0.09930877818408645,
          0.12441895726868243,
          0.11261317167790065,
          0.11653926761180332,
          0.11600727314463002,
          0.12007990377539174,
          0.11703297712724085,
          0.1098915986258056,
          0.12492959099235651,
          0.11005448950336315,
          0.10594228937104824,
          0.1289813661605104,
          0.10522107751836025,
          0.12743078656196127,
          0.11035113416807764,
          0.1031386417714576,
          0.09994308850441565,
          0.13374614466425905,
          0.10293062373426015,
          0.13605518301783434,
          0.11479147283222593,
          0.1097726702468046,
          0.11165704928557654,
          0.1204518116316444,
          0.11696235346261567,
          0.11504909108908443,
          0.12703802037207448,
          0.11497497562509715,
          0.11556217182433551,
          0.12223695714633649,
          0.12002394581809217,
          0.12842295018643685,
          0.12867320190955872,
          0.11767142151043118,
          0.12540779686730893,
          0.12214367778296878,
          0.12073504878846204,
          0.11687566950274493,
          0.10737003684715805,
          0.10286227669168396,
          0.11587812822790278,
          0.1122655011873708,
          0.1162082100798476,
          0.10703806669941744,
          0.10975577922045586,
          0.11605709530228607,
          0.12930264935785346,
          0.11611458082141501,
          0.12093930894360534,
          0.1179450139391966,
          0.11720323501930796,
          0.1272618033150519,
          0.11287514053831517,
          0.12431307667249344,
          0.11378938289644604,
          0.11077427610362132,
          0.11009137125904113,
          0.1058866989141136,
          0.12515808819146532,
          0.10739376762001876,
          0.11412264936678748,
          0.11776156315285777,
          0.10429120434298521,
          0.11162001631067328,
          0.1297555843321318,
          0.1079230935875742,
          0.1132370707307943,
          0.11396140528107492,
          0.11410015946955601,
          0.12036558548179899,
          0.10976394230808217,
          0.12731685769697207,
          0.12109549714625616,
          0.1285568338729176,
          0.11404623244712442,
          0.12428045117743253,
          0.11040674079827761,
          0.11589612419140806,
          0.12370895227647817,
          0.10337492897527438,
          0.10406886976771197,
          0.12396096694048883,
          0.11954035272515409,
          0.10641383967137599,
          0.11479591476231345,
          0.11483165215069296,
          0.10832393663797187,
          0.11274367819801198,
          0.13712683661312128,
          0.11405596900377378,
          0.11155756155312671,
          0.11995107013114444,
          0.1211749072701479,
          0.12714521809556634,
          0.11573556696326427,
          0.11445135955430981,
          0.12493241849173253,
          0.11066364509594653,
          0.12564410919633118,
          0.11967445947696957,
          0.10968109606934484,
          0.13402074999495794,
          0.12851612093234366,
          0.11847466696122705,
          0.1255958925042323,
          0.11067867018772004,
          0.11029052708666312,
          0.10260389467980496,
          0.1066583435887481,
          0.118304448081801,
          0.10715111000339674,
          0.11129140224971783,
          0.10696921437733237,
          0.10056736346415374,
          0.1164550807209975,
          0.10415176862590451,
          0.12165686208900979,
          0.10495194154225553,
          0.1132298828999,
          0.10717004446100252,
          0.11131663654116492,
          0.11299894911546453,
          0.10629712595422272,
          0.11927946764024884,
          0.12943619923395175,
          0.10697839720307745,
          0.11170624531541,
          0.13640323948884558,
          0.12403956969211828,
          0.12050711683740904,
          0.11064890948278083,
          0.12084423257852002,
          0.09850936883950771,
          0.10538325535433127,
          0.1045086164629117,
          0.1165891706684464,
          0.1109966827044923,
          0.10907182184983562,
          0.1213606242375271,
          0.11606523085616778
         ],
         "yaxis": "y"
        },
        {
         "hovertemplate": "variable=SGDR<br>batches=%{x}<br>rmse=%{y}<extra></extra>",
         "legendgroup": "SGDR",
         "line": {
          "color": "green",
          "dash": "solid"
         },
         "mode": "lines",
         "name": "SGDR",
         "orientation": "v",
         "showlegend": true,
         "type": "scatter",
         "x": [
          0,
          1,
          2,
          3,
          4,
          5,
          6,
          7,
          8,
          9,
          10,
          11,
          12,
          13,
          14,
          15,
          16,
          17,
          18,
          19,
          20,
          21,
          22,
          23,
          24,
          25,
          26,
          27,
          28,
          29,
          30,
          31,
          32,
          33,
          34,
          35,
          36,
          37,
          38,
          39,
          40,
          41,
          42,
          43,
          44,
          45,
          46,
          47,
          48,
          49,
          50,
          51,
          52,
          53,
          54,
          55,
          56,
          57,
          58,
          59,
          60,
          61,
          62,
          63,
          64,
          65,
          66,
          67,
          68,
          69,
          70,
          71,
          72,
          73,
          74,
          75,
          76,
          77,
          78,
          79,
          80,
          81,
          82,
          83,
          84,
          85,
          86,
          87,
          88,
          89,
          90,
          91,
          92,
          93,
          94,
          95,
          96,
          97,
          98,
          99,
          100,
          101,
          102,
          103,
          104,
          105,
          106,
          107,
          108,
          109,
          110,
          111,
          112,
          113,
          114,
          115,
          116,
          117,
          118,
          119,
          120,
          121,
          122,
          123,
          124,
          125,
          126,
          127,
          128,
          129,
          130,
          131,
          132,
          133,
          134,
          135,
          136,
          137,
          138,
          139,
          140,
          141,
          142,
          143,
          144,
          145,
          146,
          147,
          148,
          149,
          150,
          151,
          152,
          153,
          154,
          155,
          156,
          157,
          158,
          159,
          160,
          161,
          162,
          163,
          164,
          165,
          166,
          167,
          168
         ],
         "xaxis": "x",
         "y": [
          0.35105278955909186,
          0.13043484164135355,
          0.12892021731564635,
          0.09365226580458023,
          0.1250121037734746,
          0.0891386108224268,
          0.10724547202593393,
          0.11291848472451142,
          0.09257732009597779,
          0.09959048879287179,
          0.11785748308501073,
          0.1123693753399706,
          0.10572020855063635,
          0.10250474702279558,
          0.10731981402216814,
          0.10593484667931267,
          0.10843653191072798,
          0.11048465823610937,
          0.10899822616641848,
          0.10952254582241036,
          0.1191742724039638,
          0.1154944924610843,
          0.11010241349384818,
          0.09807990048728457,
          0.10165097943084525,
          0.11465911299211594,
          0.10424138662518126,
          0.10735291697011548,
          0.11072584633559955,
          0.08748118677637393,
          0.1087398462923391,
          0.09796046886457976,
          0.10391329882681855,
          0.10187585226660335,
          0.10480029085505103,
          0.10582658149678818,
          0.10157009368464928,
          0.1109644087486743,
          0.09485952498799818,
          0.09044387246920335,
          0.10884204622271101,
          0.09357894203862675,
          0.10769607892804776,
          0.09647012053391084,
          0.08924661267249392,
          0.08621947874208322,
          0.11680581843090711,
          0.08879872581464303,
          0.11607858003416657,
          0.09931799749730456,
          0.09440778807368384,
          0.09993978771705295,
          0.10181151670586876,
          0.10205657211995933,
          0.0988790326991326,
          0.11143166890257633,
          0.10149122211748925,
          0.09908836793454046,
          0.10655495622280325,
          0.10399324473334354,
          0.11078659294523953,
          0.11137029550070762,
          0.10268938574803911,
          0.10999996148781735,
          0.10352789953581125,
          0.10415252338397554,
          0.1008753244121749,
          0.09356235408342672,
          0.0881426340801749,
          0.10049203465736949,
          0.09462271444917322,
          0.09972502443895041,
          0.09355237377362219,
          0.09480101385709667,
          0.10083774258039044,
          0.11431161179268882,
          0.10074019872710731,
          0.10412812012548918,
          0.09906329049191014,
          0.09875128084194103,
          0.11106010208052806,
          0.09662943848339467,
          0.10667478099646446,
          0.09712991844656049,
          0.09605735230324157,
          0.09511003478305032,
          0.08954842550591118,
          0.10458028294771168,
          0.09088884641577404,
          0.09822096656441683,
          0.09871211342690951,
          0.08431022008354525,
          0.09360751826886288,
          0.10704212573780426,
          0.09272913344649887,
          0.094103435639935,
          0.09228322577554776,
          0.09712092067510052,
          0.10097539114507421,
          0.09193858108674802,
          0.1072447014132601,
          0.103617789646636,
          0.1055842233243048,
          0.09469111453638451,
          0.10200805014741286,
          0.09177489930771844,
          0.09531842358812638,
          0.1014512722692248,
          0.08502072303985393,
          0.08610353266516262,
          0.1024853641457182,
          0.10323514943559857,
          0.08846570568762477,
          0.09451800932372748,
          0.09387576142810607,
          0.08862487521713597,
          0.09435409040783392,
          0.11268814175775439,
          0.09552636760183092,
          0.09541862022779167,
          0.09576623327670192,
          0.10088239971408232,
          0.10320395019783682,
          0.09306408548384969,
          0.09383413350385768,
          0.10335427695974106,
          0.09133356108767642,
          0.10260729327753335,
          0.0991202100330611,
          0.09056401524683276,
          0.10962633164977402,
          0.10371052064627466,
          0.09607873818291553,
          0.10094281923015394,
          0.09305293069195793,
          0.08569860371871396,
          0.08321817701969364,
          0.08939020429602236,
          0.09675985514167014,
          0.08797704965681233,
          0.08923921818807685,
          0.0884119049906691,
          0.0816667956106526,
          0.097312518025322,
          0.08393283702592233,
          0.09709785820415885,
          0.08777014806992858,
          0.09127720695250205,
          0.08700966868962481,
          0.09235117563920772,
          0.09068775757118616,
          0.08451182989191829,
          0.09326940848728955,
          0.10377830574483578,
          0.08432188456081754,
          0.08977780475537102,
          0.11230516235660332,
          0.10077152905364754,
          0.0969710949028638,
          0.08533168291014046,
          0.09788339949795616,
          0.08094870772089297,
          0.08532425460097175,
          0.08464461944656253,
          0.09351788381348769,
          0.09051413699060677,
          0.0882089443034301,
          0.10030038766324742,
          0.0937601134287016
         ],
         "yaxis": "y"
        },
        {
         "hovertemplate": "variable=Random<br>batches=%{x}<br>rmse=%{y}<extra></extra>",
         "legendgroup": "Random",
         "line": {
          "color": "cyan",
          "dash": "solid"
         },
         "mode": "lines",
         "name": "Random",
         "orientation": "v",
         "showlegend": true,
         "type": "scatter",
         "x": [
          0,
          1,
          2,
          3,
          4,
          5,
          6,
          7,
          8,
          9,
          10,
          11,
          12,
          13,
          14,
          15,
          16,
          17,
          18,
          19,
          20,
          21,
          22,
          23,
          24,
          25,
          26,
          27,
          28,
          29,
          30,
          31,
          32,
          33,
          34,
          35,
          36,
          37,
          38,
          39,
          40,
          41,
          42,
          43,
          44,
          45,
          46,
          47,
          48,
          49,
          50,
          51,
          52,
          53,
          54,
          55,
          56,
          57,
          58,
          59,
          60,
          61,
          62,
          63,
          64,
          65,
          66,
          67,
          68,
          69,
          70,
          71,
          72,
          73,
          74,
          75,
          76,
          77,
          78,
          79,
          80,
          81,
          82,
          83,
          84,
          85,
          86,
          87,
          88,
          89,
          90,
          91,
          92,
          93,
          94,
          95,
          96,
          97,
          98,
          99,
          100,
          101,
          102,
          103,
          104,
          105,
          106,
          107,
          108,
          109,
          110,
          111,
          112,
          113,
          114,
          115,
          116,
          117,
          118,
          119,
          120,
          121,
          122,
          123,
          124,
          125,
          126,
          127,
          128,
          129,
          130,
          131,
          132,
          133,
          134,
          135,
          136,
          137,
          138,
          139,
          140,
          141,
          142,
          143,
          144,
          145,
          146,
          147,
          148,
          149,
          150,
          151,
          152,
          153,
          154,
          155,
          156,
          157,
          158,
          159,
          160,
          161,
          162,
          163,
          164,
          165,
          166,
          167,
          168
         ],
         "xaxis": "x",
         "y": [
          0.3779020413550504,
          0.2982263979074769,
          0.2392332311783974,
          0.1814816390024272,
          0.17119112508105813,
          0.10942572410551009,
          0.11770990403661723,
          0.13936409609884812,
          0.10721763362949006,
          0.11338912158485821,
          0.14130331236263738,
          0.12816154008544028,
          0.12217814818823722,
          0.1222746665896798,
          0.1354736900351873,
          0.1250760596777641,
          0.15641920568896042,
          0.1278480348358543,
          0.1327113309832787,
          0.12475702301821286,
          0.14247623822708727,
          0.13272175231547678,
          0.12191925148693265,
          0.1140169954433627,
          0.13502797584407886,
          0.13303136902081278,
          0.11948703854185964,
          0.12395816202688432,
          0.1563861266015078,
          0.10858869612741259,
          0.12320961957444422,
          0.1115964719977223,
          0.12616474360822433,
          0.1168684647524397,
          0.12316947158763866,
          0.12058752785367302,
          0.12615156593333537,
          0.12843464813049715,
          0.12387024603043502,
          0.11119093492292317,
          0.1272563550910957,
          0.10765470704505628,
          0.12722588122556974,
          0.13777373333464038,
          0.10428361578639682,
          0.1060544774836676,
          0.14295538639618705,
          0.11062043335298118,
          0.15663860700005583,
          0.11950885982237204,
          0.1405686322693356,
          0.1236201660160663,
          0.11836732486716892,
          0.14592993762868783,
          0.1181862151003362,
          0.15177616892202783,
          0.11995112244870637,
          0.1189929461991909,
          0.13638407533928804,
          0.12901862067415223,
          0.1346459440790826,
          0.1232161518219542,
          0.11726450917532233,
          0.13205441845427418,
          0.12924044162609064,
          0.12893060967977102,
          0.13112803563330097,
          0.1140606641108357,
          0.10583304249653132,
          0.11943261157357714,
          0.11051177226770399,
          0.12076476664943407,
          0.11284196414439988,
          0.12479368067199421,
          0.12141268141541667,
          0.13631434166591844,
          0.12532978671641665,
          0.12178021205807613,
          0.12402861586683131,
          0.1215371352347982,
          0.13733617832320097,
          0.12234811818933898,
          0.1324449717850586,
          0.12326184566918441,
          0.11812041423764146,
          0.11553333077064444,
          0.11461141577736664,
          0.14067621041100656,
          0.11081471133712117,
          0.11972281067525418,
          0.12002300840690261,
          0.10451918867247702,
          0.1112589858430533,
          0.14533775373511912,
          0.11618369564671925,
          0.1191223016684683,
          0.12080103385186947,
          0.1203528212331615,
          0.13034155935036051,
          0.11631096054105018,
          0.14916140603528102,
          0.12797721731565684,
          0.13050433764542643,
          0.13948676140517782,
          0.1267153820869056,
          0.11693912629965948,
          0.11851134581952755,
          0.12626191778905438,
          0.11955374674918304,
          0.11615841356940715,
          0.1299446914315293,
          0.15027729806305162,
          0.11382889265851344,
          0.11950622682411735,
          0.11945397992155375,
          0.11608552687413565,
          0.13074336413739535,
          0.1411302608180916,
          0.11775606304369741,
          0.12404191665315716,
          0.12481073226316586,
          0.1309497525599504,
          0.1267297625281863,
          0.11502823679657902,
          0.12916135204486934,
          0.14505226071914706,
          0.11707562399560677,
          0.14010802860463994,
          0.12646109765264404,
          0.1175970717388146,
          0.14205571201150238,
          0.1364395051512022,
          0.12372735496633139,
          0.12886118448789596,
          0.13701147961524635,
          0.11020652707696307,
          0.10986125351582549,
          0.11701712204563054,
          0.13308420061250525,
          0.11698684005334109,
          0.11461024082322137,
          0.11314749526067257,
          0.10865286904567896,
          0.12678576339351869,
          0.10867619671546264,
          0.12650098717878164,
          0.11548432849025825,
          0.1170913380261322,
          0.11102023713004953,
          0.12135385946292361,
          0.11584833205679551,
          0.11049965532438703,
          0.12334659206298126,
          0.1549648382293482,
          0.11107361891009698,
          0.10996359339775841,
          0.14082252419811403,
          0.13689231015088232,
          0.15693112236683732,
          0.12434375780173451,
          0.12941478039519003,
          0.11997591830675458,
          0.11749928658024013,
          0.11508763245030025,
          0.12713094646059067,
          0.12307516123060917,
          0.13031362619970693,
          0.13474379577708298,
          0.16161380632366057
         ],
         "yaxis": "y"
        }
       ],
       "layout": {
        "legend": {
         "title": {
          "text": "variable"
         },
         "tracegroupgap": 0
        },
        "template": {
         "data": {
          "bar": [
           {
            "error_x": {
             "color": "#2a3f5f"
            },
            "error_y": {
             "color": "#2a3f5f"
            },
            "marker": {
             "line": {
              "color": "#E5ECF6",
              "width": 0.5
             }
            },
            "type": "bar"
           }
          ],
          "barpolar": [
           {
            "marker": {
             "line": {
              "color": "#E5ECF6",
              "width": 0.5
             }
            },
            "type": "barpolar"
           }
          ],
          "carpet": [
           {
            "aaxis": {
             "endlinecolor": "#2a3f5f",
             "gridcolor": "white",
             "linecolor": "white",
             "minorgridcolor": "white",
             "startlinecolor": "#2a3f5f"
            },
            "baxis": {
             "endlinecolor": "#2a3f5f",
             "gridcolor": "white",
             "linecolor": "white",
             "minorgridcolor": "white",
             "startlinecolor": "#2a3f5f"
            },
            "type": "carpet"
           }
          ],
          "choropleth": [
           {
            "colorbar": {
             "outlinewidth": 0,
             "ticks": ""
            },
            "type": "choropleth"
           }
          ],
          "contour": [
           {
            "colorbar": {
             "outlinewidth": 0,
             "ticks": ""
            },
            "colorscale": [
             [
              0,
              "#0d0887"
             ],
             [
              0.1111111111111111,
              "#46039f"
             ],
             [
              0.2222222222222222,
              "#7201a8"
             ],
             [
              0.3333333333333333,
              "#9c179e"
             ],
             [
              0.4444444444444444,
              "#bd3786"
             ],
             [
              0.5555555555555556,
              "#d8576b"
             ],
             [
              0.6666666666666666,
              "#ed7953"
             ],
             [
              0.7777777777777778,
              "#fb9f3a"
             ],
             [
              0.8888888888888888,
              "#fdca26"
             ],
             [
              1,
              "#f0f921"
             ]
            ],
            "type": "contour"
           }
          ],
          "contourcarpet": [
           {
            "colorbar": {
             "outlinewidth": 0,
             "ticks": ""
            },
            "type": "contourcarpet"
           }
          ],
          "heatmap": [
           {
            "colorbar": {
             "outlinewidth": 0,
             "ticks": ""
            },
            "colorscale": [
             [
              0,
              "#0d0887"
             ],
             [
              0.1111111111111111,
              "#46039f"
             ],
             [
              0.2222222222222222,
              "#7201a8"
             ],
             [
              0.3333333333333333,
              "#9c179e"
             ],
             [
              0.4444444444444444,
              "#bd3786"
             ],
             [
              0.5555555555555556,
              "#d8576b"
             ],
             [
              0.6666666666666666,
              "#ed7953"
             ],
             [
              0.7777777777777778,
              "#fb9f3a"
             ],
             [
              0.8888888888888888,
              "#fdca26"
             ],
             [
              1,
              "#f0f921"
             ]
            ],
            "type": "heatmap"
           }
          ],
          "heatmapgl": [
           {
            "colorbar": {
             "outlinewidth": 0,
             "ticks": ""
            },
            "colorscale": [
             [
              0,
              "#0d0887"
             ],
             [
              0.1111111111111111,
              "#46039f"
             ],
             [
              0.2222222222222222,
              "#7201a8"
             ],
             [
              0.3333333333333333,
              "#9c179e"
             ],
             [
              0.4444444444444444,
              "#bd3786"
             ],
             [
              0.5555555555555556,
              "#d8576b"
             ],
             [
              0.6666666666666666,
              "#ed7953"
             ],
             [
              0.7777777777777778,
              "#fb9f3a"
             ],
             [
              0.8888888888888888,
              "#fdca26"
             ],
             [
              1,
              "#f0f921"
             ]
            ],
            "type": "heatmapgl"
           }
          ],
          "histogram": [
           {
            "marker": {
             "colorbar": {
              "outlinewidth": 0,
              "ticks": ""
             }
            },
            "type": "histogram"
           }
          ],
          "histogram2d": [
           {
            "colorbar": {
             "outlinewidth": 0,
             "ticks": ""
            },
            "colorscale": [
             [
              0,
              "#0d0887"
             ],
             [
              0.1111111111111111,
              "#46039f"
             ],
             [
              0.2222222222222222,
              "#7201a8"
             ],
             [
              0.3333333333333333,
              "#9c179e"
             ],
             [
              0.4444444444444444,
              "#bd3786"
             ],
             [
              0.5555555555555556,
              "#d8576b"
             ],
             [
              0.6666666666666666,
              "#ed7953"
             ],
             [
              0.7777777777777778,
              "#fb9f3a"
             ],
             [
              0.8888888888888888,
              "#fdca26"
             ],
             [
              1,
              "#f0f921"
             ]
            ],
            "type": "histogram2d"
           }
          ],
          "histogram2dcontour": [
           {
            "colorbar": {
             "outlinewidth": 0,
             "ticks": ""
            },
            "colorscale": [
             [
              0,
              "#0d0887"
             ],
             [
              0.1111111111111111,
              "#46039f"
             ],
             [
              0.2222222222222222,
              "#7201a8"
             ],
             [
              0.3333333333333333,
              "#9c179e"
             ],
             [
              0.4444444444444444,
              "#bd3786"
             ],
             [
              0.5555555555555556,
              "#d8576b"
             ],
             [
              0.6666666666666666,
              "#ed7953"
             ],
             [
              0.7777777777777778,
              "#fb9f3a"
             ],
             [
              0.8888888888888888,
              "#fdca26"
             ],
             [
              1,
              "#f0f921"
             ]
            ],
            "type": "histogram2dcontour"
           }
          ],
          "mesh3d": [
           {
            "colorbar": {
             "outlinewidth": 0,
             "ticks": ""
            },
            "type": "mesh3d"
           }
          ],
          "parcoords": [
           {
            "line": {
             "colorbar": {
              "outlinewidth": 0,
              "ticks": ""
             }
            },
            "type": "parcoords"
           }
          ],
          "pie": [
           {
            "automargin": true,
            "type": "pie"
           }
          ],
          "scatter": [
           {
            "marker": {
             "colorbar": {
              "outlinewidth": 0,
              "ticks": ""
             }
            },
            "type": "scatter"
           }
          ],
          "scatter3d": [
           {
            "line": {
             "colorbar": {
              "outlinewidth": 0,
              "ticks": ""
             }
            },
            "marker": {
             "colorbar": {
              "outlinewidth": 0,
              "ticks": ""
             }
            },
            "type": "scatter3d"
           }
          ],
          "scattercarpet": [
           {
            "marker": {
             "colorbar": {
              "outlinewidth": 0,
              "ticks": ""
             }
            },
            "type": "scattercarpet"
           }
          ],
          "scattergeo": [
           {
            "marker": {
             "colorbar": {
              "outlinewidth": 0,
              "ticks": ""
             }
            },
            "type": "scattergeo"
           }
          ],
          "scattergl": [
           {
            "marker": {
             "colorbar": {
              "outlinewidth": 0,
              "ticks": ""
             }
            },
            "type": "scattergl"
           }
          ],
          "scattermapbox": [
           {
            "marker": {
             "colorbar": {
              "outlinewidth": 0,
              "ticks": ""
             }
            },
            "type": "scattermapbox"
           }
          ],
          "scatterpolar": [
           {
            "marker": {
             "colorbar": {
              "outlinewidth": 0,
              "ticks": ""
             }
            },
            "type": "scatterpolar"
           }
          ],
          "scatterpolargl": [
           {
            "marker": {
             "colorbar": {
              "outlinewidth": 0,
              "ticks": ""
             }
            },
            "type": "scatterpolargl"
           }
          ],
          "scatterternary": [
           {
            "marker": {
             "colorbar": {
              "outlinewidth": 0,
              "ticks": ""
             }
            },
            "type": "scatterternary"
           }
          ],
          "surface": [
           {
            "colorbar": {
             "outlinewidth": 0,
             "ticks": ""
            },
            "colorscale": [
             [
              0,
              "#0d0887"
             ],
             [
              0.1111111111111111,
              "#46039f"
             ],
             [
              0.2222222222222222,
              "#7201a8"
             ],
             [
              0.3333333333333333,
              "#9c179e"
             ],
             [
              0.4444444444444444,
              "#bd3786"
             ],
             [
              0.5555555555555556,
              "#d8576b"
             ],
             [
              0.6666666666666666,
              "#ed7953"
             ],
             [
              0.7777777777777778,
              "#fb9f3a"
             ],
             [
              0.8888888888888888,
              "#fdca26"
             ],
             [
              1,
              "#f0f921"
             ]
            ],
            "type": "surface"
           }
          ],
          "table": [
           {
            "cells": {
             "fill": {
              "color": "#EBF0F8"
             },
             "line": {
              "color": "white"
             }
            },
            "header": {
             "fill": {
              "color": "#C8D4E3"
             },
             "line": {
              "color": "white"
             }
            },
            "type": "table"
           }
          ]
         },
         "layout": {
          "annotationdefaults": {
           "arrowcolor": "#2a3f5f",
           "arrowhead": 0,
           "arrowwidth": 1
          },
          "autotypenumbers": "strict",
          "coloraxis": {
           "colorbar": {
            "outlinewidth": 0,
            "ticks": ""
           }
          },
          "colorscale": {
           "diverging": [
            [
             0,
             "#8e0152"
            ],
            [
             0.1,
             "#c51b7d"
            ],
            [
             0.2,
             "#de77ae"
            ],
            [
             0.3,
             "#f1b6da"
            ],
            [
             0.4,
             "#fde0ef"
            ],
            [
             0.5,
             "#f7f7f7"
            ],
            [
             0.6,
             "#e6f5d0"
            ],
            [
             0.7,
             "#b8e186"
            ],
            [
             0.8,
             "#7fbc41"
            ],
            [
             0.9,
             "#4d9221"
            ],
            [
             1,
             "#276419"
            ]
           ],
           "sequential": [
            [
             0,
             "#0d0887"
            ],
            [
             0.1111111111111111,
             "#46039f"
            ],
            [
             0.2222222222222222,
             "#7201a8"
            ],
            [
             0.3333333333333333,
             "#9c179e"
            ],
            [
             0.4444444444444444,
             "#bd3786"
            ],
            [
             0.5555555555555556,
             "#d8576b"
            ],
            [
             0.6666666666666666,
             "#ed7953"
            ],
            [
             0.7777777777777778,
             "#fb9f3a"
            ],
            [
             0.8888888888888888,
             "#fdca26"
            ],
            [
             1,
             "#f0f921"
            ]
           ],
           "sequentialminus": [
            [
             0,
             "#0d0887"
            ],
            [
             0.1111111111111111,
             "#46039f"
            ],
            [
             0.2222222222222222,
             "#7201a8"
            ],
            [
             0.3333333333333333,
             "#9c179e"
            ],
            [
             0.4444444444444444,
             "#bd3786"
            ],
            [
             0.5555555555555556,
             "#d8576b"
            ],
            [
             0.6666666666666666,
             "#ed7953"
            ],
            [
             0.7777777777777778,
             "#fb9f3a"
            ],
            [
             0.8888888888888888,
             "#fdca26"
            ],
            [
             1,
             "#f0f921"
            ]
           ]
          },
          "colorway": [
           "#636efa",
           "#EF553B",
           "#00cc96",
           "#ab63fa",
           "#FFA15A",
           "#19d3f3",
           "#FF6692",
           "#B6E880",
           "#FF97FF",
           "#FECB52"
          ],
          "font": {
           "color": "#2a3f5f"
          },
          "geo": {
           "bgcolor": "white",
           "lakecolor": "white",
           "landcolor": "#E5ECF6",
           "showlakes": true,
           "showland": true,
           "subunitcolor": "white"
          },
          "hoverlabel": {
           "align": "left"
          },
          "hovermode": "closest",
          "mapbox": {
           "style": "light"
          },
          "paper_bgcolor": "white",
          "plot_bgcolor": "#E5ECF6",
          "polar": {
           "angularaxis": {
            "gridcolor": "white",
            "linecolor": "white",
            "ticks": ""
           },
           "bgcolor": "#E5ECF6",
           "radialaxis": {
            "gridcolor": "white",
            "linecolor": "white",
            "ticks": ""
           }
          },
          "scene": {
           "xaxis": {
            "backgroundcolor": "#E5ECF6",
            "gridcolor": "white",
            "gridwidth": 2,
            "linecolor": "white",
            "showbackground": true,
            "ticks": "",
            "zerolinecolor": "white"
           },
           "yaxis": {
            "backgroundcolor": "#E5ECF6",
            "gridcolor": "white",
            "gridwidth": 2,
            "linecolor": "white",
            "showbackground": true,
            "ticks": "",
            "zerolinecolor": "white"
           },
           "zaxis": {
            "backgroundcolor": "#E5ECF6",
            "gridcolor": "white",
            "gridwidth": 2,
            "linecolor": "white",
            "showbackground": true,
            "ticks": "",
            "zerolinecolor": "white"
           }
          },
          "shapedefaults": {
           "line": {
            "color": "#2a3f5f"
           }
          },
          "ternary": {
           "aaxis": {
            "gridcolor": "white",
            "linecolor": "white",
            "ticks": ""
           },
           "baxis": {
            "gridcolor": "white",
            "linecolor": "white",
            "ticks": ""
           },
           "bgcolor": "#E5ECF6",
           "caxis": {
            "gridcolor": "white",
            "linecolor": "white",
            "ticks": ""
           }
          },
          "title": {
           "x": 0.05
          },
          "xaxis": {
           "automargin": true,
           "gridcolor": "white",
           "linecolor": "white",
           "ticks": "",
           "title": {
            "standoff": 15
           },
           "zerolinecolor": "white",
           "zerolinewidth": 2
          },
          "yaxis": {
           "automargin": true,
           "gridcolor": "white",
           "linecolor": "white",
           "ticks": "",
           "title": {
            "standoff": 15
           },
           "zerolinecolor": "white",
           "zerolinewidth": 2
          }
         }
        },
        "title": {
         "text": "RMSE on dataset dataset_1_normalized"
        },
        "xaxis": {
         "anchor": "y",
         "domain": [
          0,
          1
         ],
         "title": {
          "text": "batches"
         }
        },
        "yaxis": {
         "anchor": "x",
         "domain": [
          0,
          1
         ],
         "title": {
          "text": "rmse"
         }
        }
       }
      }
     },
     "metadata": {}
    }
   ],
   "source": [
    "title = \"RMSE on dataset {}\".format(dataset_name)\n",
    "col_names = [\"Pure\", \"FIRES\", \"SGDR\", \"Random\"]\n",
    "d = {\"Pure\":pure_rmse, \"FIRES\":fires_rmse, \"SGDR\":sgdr_rmse, \"Random\":random_rmse}\n",
    "df = pd.DataFrame(d, columns=col_names)\n",
    "fig = px.line(df, y = col_names, title=title, labels={\"index\":\"batches\", \"value\":\"rmse\"}, color_discrete_map={\"Pure\":'blue','FIRES': 'red', \"SGDR\": \"green\", \"Random\":\"cyan\"})\n",
    "rmse_trace = fig[\"data\"]\n",
    "fig.show()"
   ]
  },
  {
   "cell_type": "code",
   "execution_count": 46,
   "metadata": {},
   "outputs": [
    {
     "output_type": "execute_result",
     "data": {
      "text/plain": [
       "169"
      ]
     },
     "metadata": {},
     "execution_count": 46
    }
   ],
   "source": [
    "len(pure_rmse)"
   ]
  },
  {
   "cell_type": "code",
   "execution_count": 47,
   "metadata": {},
   "outputs": [
    {
     "output_type": "display_data",
     "data": {
      "application/vnd.plotly.v1+json": {
       "config": {
        "plotlyServerURL": "https://plot.ly"
       },
       "data": [
        {
         "hovertemplate": "variable=FIRES<br>batches=%{x}<br>stability=%{y}<extra></extra>",
         "legendgroup": "FIRES",
         "line": {
          "color": "red",
          "dash": "solid"
         },
         "mode": "lines",
         "name": "FIRES",
         "orientation": "v",
         "showlegend": false,
         "type": "scatter",
         "x": [
          0,
          1,
          2,
          3,
          4,
          5,
          6,
          7,
          8,
          9,
          10,
          11,
          12,
          13,
          14,
          15,
          16,
          17,
          18,
          19,
          20,
          21,
          22,
          23,
          24,
          25,
          26,
          27,
          28,
          29,
          30,
          31,
          32,
          33,
          34,
          35,
          36,
          37,
          38,
          39,
          40,
          41,
          42,
          43,
          44,
          45,
          46,
          47,
          48,
          49,
          50,
          51,
          52,
          53,
          54,
          55,
          56,
          57,
          58,
          59,
          60,
          61,
          62,
          63,
          64,
          65,
          66,
          67,
          68,
          69,
          70,
          71,
          72,
          73,
          74,
          75,
          76,
          77,
          78,
          79,
          80,
          81,
          82,
          83,
          84,
          85,
          86,
          87,
          88,
          89,
          90,
          91,
          92,
          93,
          94,
          95,
          96,
          97,
          98,
          99,
          100,
          101,
          102,
          103,
          104,
          105,
          106,
          107,
          108,
          109,
          110,
          111,
          112,
          113,
          114,
          115,
          116,
          117,
          118,
          119,
          120,
          121,
          122,
          123,
          124,
          125,
          126,
          127,
          128,
          129,
          130,
          131,
          132,
          133,
          134,
          135,
          136,
          137,
          138,
          139,
          140,
          141,
          142,
          143,
          144,
          145,
          146,
          147,
          148,
          149,
          150,
          151,
          152,
          153,
          154,
          155,
          156,
          157,
          158,
          159,
          160,
          161,
          162,
          163,
          164,
          165,
          166,
          167,
          168,
          169
         ],
         "xaxis": "x",
         "y": [
          0,
          0,
          0,
          0,
          0,
          0,
          0,
          0,
          0,
          0,
          0.7188283208020052,
          0.9240288220551379,
          0.9443922305764413,
          0.9616228070175443,
          0.9694548872180453,
          0.9749373433583963,
          0.9765037593984967,
          0.9812030075187974,
          0.9733709273182961,
          0.9686716791979952,
          0.967105263157895,
          0.9686716791979954,
          0.9733709273182961,
          0.9812030075187974,
          0.9765037593984965,
          0.9749373433583963,
          0.9765037593984967,
          0.9812030075187974,
          0.9804197994987471,
          0.9772869674185469,
          0.9757205513784466,
          0.9686716791979954,
          0.9647556390977448,
          0.9639724310776945,
          0.9584899749373437,
          0.9561403508771932,
          0.9569235588972433,
          0.960839598997494,
          0.9678884711779453,
          0.9741541353383462,
          0.9835526315789476,
          0.9874686716791978,
          0.9929511278195489,
          1,
          1,
          1,
          1,
          1,
          1,
          1,
          1,
          1,
          1,
          1,
          1,
          1,
          1,
          1,
          1,
          0.9929511278195492,
          0.9874686716791985,
          0.9835526315789479,
          0.9812030075187974,
          0.9804197994987472,
          0.9812030075187974,
          0.9835526315789477,
          0.987468671679198,
          0.9929511278195489,
          1,
          1,
          1,
          1,
          1,
          1,
          1,
          1,
          1,
          1,
          1,
          1,
          1,
          1,
          1,
          1,
          1,
          1,
          1,
          1,
          1,
          1,
          1,
          1,
          1,
          1,
          0.9929511278195492,
          0.9874686716791985,
          0.9835526315789479,
          0.9812030075187974,
          0.9804197994987472,
          0.9812030075187974,
          0.9835526315789477,
          0.987468671679198,
          0.9929511278195489,
          1,
          1,
          1,
          1,
          1,
          1,
          0.9929511278195492,
          0.9874686716791985,
          0.9835526315789479,
          0.9812030075187974,
          0.9804197994987472,
          0.9812030075187974,
          0.9835526315789477,
          0.987468671679198,
          0.9929511278195489,
          1,
          1,
          1,
          1,
          1,
          1,
          1,
          1,
          1,
          1,
          1,
          1,
          1,
          1,
          1,
          1,
          1,
          1,
          1,
          1,
          0.9929511278195492,
          0.9874686716791985,
          0.9835526315789479,
          0.9812030075187974,
          0.9804197994987472,
          0.9812030075187974,
          0.9835526315789477,
          0.987468671679198,
          0.9929511278195489,
          1,
          1,
          1,
          1,
          1,
          1,
          1,
          1,
          0.9929511278195492,
          0.9874686716791985,
          0.9835526315789479,
          0.9812030075187974,
          0.9812030075187974,
          0.9812030075187974,
          0.9812030075187974,
          0.9812030075187974,
          0.9812030075187974,
          0.9772869674185469,
          0.9757205513784467,
          0.9757205513784466,
          0.9772869674185467,
          0.9804197994987472,
          0.9812030075187974
         ],
         "yaxis": "y"
        },
        {
         "hovertemplate": "variable=SGDR<br>batches=%{x}<br>stability=%{y}<extra></extra>",
         "legendgroup": "SGDR",
         "line": {
          "color": "green",
          "dash": "solid"
         },
         "mode": "lines",
         "name": "SGDR",
         "orientation": "v",
         "showlegend": false,
         "type": "scatter",
         "x": [
          0,
          1,
          2,
          3,
          4,
          5,
          6,
          7,
          8,
          9,
          10,
          11,
          12,
          13,
          14,
          15,
          16,
          17,
          18,
          19,
          20,
          21,
          22,
          23,
          24,
          25,
          26,
          27,
          28,
          29,
          30,
          31,
          32,
          33,
          34,
          35,
          36,
          37,
          38,
          39,
          40,
          41,
          42,
          43,
          44,
          45,
          46,
          47,
          48,
          49,
          50,
          51,
          52,
          53,
          54,
          55,
          56,
          57,
          58,
          59,
          60,
          61,
          62,
          63,
          64,
          65,
          66,
          67,
          68,
          69,
          70,
          71,
          72,
          73,
          74,
          75,
          76,
          77,
          78,
          79,
          80,
          81,
          82,
          83,
          84,
          85,
          86,
          87,
          88,
          89,
          90,
          91,
          92,
          93,
          94,
          95,
          96,
          97,
          98,
          99,
          100,
          101,
          102,
          103,
          104,
          105,
          106,
          107,
          108,
          109,
          110,
          111,
          112,
          113,
          114,
          115,
          116,
          117,
          118,
          119,
          120,
          121,
          122,
          123,
          124,
          125,
          126,
          127,
          128,
          129,
          130,
          131,
          132,
          133,
          134,
          135,
          136,
          137,
          138,
          139,
          140,
          141,
          142,
          143,
          144,
          145,
          146,
          147,
          148,
          149,
          150,
          151,
          152,
          153,
          154,
          155,
          156,
          157,
          158,
          159,
          160,
          161,
          162,
          163,
          164,
          165,
          166,
          167,
          168,
          169
         ],
         "xaxis": "x",
         "y": [
          0,
          0,
          0,
          0,
          0,
          0,
          0,
          0,
          0,
          0,
          0.7767857142857144,
          0.8190789473684209,
          0.8229949874686715,
          0.8363095238095236,
          0.8402255639097743,
          0.8433583959899752,
          0.843358395989975,
          0.8449248120300753,
          0.8543233082706767,
          0.8652882205513784,
          0.8707706766917294,
          0.8848684210526317,
          0.8997493734335842,
          0.9075814536340853,
          0.9114974937343358,
          0.910714285714286,
          0.9091478696741859,
          0.9091478696741856,
          0.9036654135338348,
          0.8981829573934841,
          0.9114974937343365,
          0.9232456140350883,
          0.9240288220551383,
          0.9302944862155392,
          0.9185463659147871,
          0.9107142857142858,
          0.903665413533835,
          0.8989661654135346,
          0.8997493734335845,
          0.903665413533835,
          0.903665413533835,
          0.9146303258145368,
          0.9263784461152885,
          0.9318609022556392,
          0.9240288220551379,
          0.9224624060150378,
          0.9130639097744363,
          0.911497493734336,
          0.9146303258145363,
          0.9067982456140353,
          0.9005325814536339,
          0.8950501253132831,
          0.8973997493734339,
          0.9130639097744366,
          0.9130639097744364,
          0.9177631578947376,
          0.9154135338345869,
          0.9122807017543864,
          0.9224624060150379,
          0.921679197994988,
          0.9248120300751885,
          0.9248120300751884,
          0.9271616541353388,
          0.9365601503759403,
          0.9428258145363412,
          0.9404761904761909,
          0.9381265664160406,
          0.9443922305764414,
          0.9420426065162913,
          0.9389097744360907,
          0.9404761904761908,
          0.9459586466165418,
          0.9506578947368425,
          0.953790726817043,
          0.953790726817043,
          0.9608395989974943,
          0.9608395989974943,
          0.9702380952380957,
          0.9741541353383462,
          0.9741541353383464,
          0.9710213032581462,
          0.9631892230576449,
          0.9584899749373438,
          0.9569235588972435,
          0.9561403508771931,
          0.9592731829573939,
          0.9577067669172941,
          0.9530075187969931,
          0.9522243107769429,
          0.9490914786967425,
          0.9483082706766922,
          0.9483082706766921,
          0.9483082706766922,
          0.9483082706766919,
          0.9436090225563911,
          0.9443922305764413,
          0.9506578947368427,
          0.959273182957394,
          0.9624060150375946,
          0.9655388471177951,
          0.9631892230576447,
          0.9624060150375945,
          0.9631892230576447,
          0.9631892230576449,
          0.9655388471177951,
          0.971021303258146,
          0.9671052631578954,
          0.9694548872180457,
          0.965538847117795,
          0.9671052631578954,
          0.9671052631578954,
          0.9569235588972438,
          0.9514411027568931,
          0.946741854636592,
          0.9396929824561405,
          0.9412593984962407,
          0.9459586466165416,
          0.9475250626566422,
          0.9530075187969933,
          0.9592731829573942,
          0.9686716791979956,
          0.9655388471177951,
          0.9663220551378452,
          0.9631892230576449,
          0.958489974937344,
          0.9506578947368428,
          0.9475250626566423,
          0.9459586466165419,
          0.9490914786967424,
          0.9498746867167924,
          0.9537907268170428,
          0.960056390977444,
          0.9616228070175445,
          0.9616228070175442,
          0.966322055137845,
          0.9671052631578951,
          0.9686716791979956,
          0.9741541353383464,
          0.9812030075187974,
          0.9812030075187974,
          0.9812030075187974,
          0.9812030075187974,
          0.9812030075187974,
          0.9765037593984965,
          0.9741541353383462,
          0.9749373433583964,
          0.9788533834586471,
          0.971021303258146,
          0.9663220551378451,
          0.9647556390977449,
          0.9663220551378452,
          0.9671052631578951,
          0.971021303258146,
          0.9686716791979956,
          0.9710213032581458,
          0.9718045112781961,
          0.9741541353383464,
          0.9733709273182961,
          0.9741541353383462,
          0.9725877192982458,
          0.9725877192982461,
          0.971021303258146,
          0.9671052631578951,
          0.971021303258146,
          0.9725877192982462,
          0.9663220551378454,
          0.9616228070175445,
          0.9616228070175445,
          0.9616228070175443,
          0.960056390977444
         ],
         "yaxis": "y"
        },
        {
         "hovertemplate": "variable=Pure<br>batches=%{x}<br>rmse=%{y}<extra></extra>",
         "legendgroup": "Pure",
         "line": {
          "color": "blue",
          "dash": "solid"
         },
         "mode": "lines",
         "name": "Pure",
         "orientation": "v",
         "showlegend": true,
         "type": "scatter",
         "x": [
          0,
          1,
          2,
          3,
          4,
          5,
          6,
          7,
          8,
          9,
          10,
          11,
          12,
          13,
          14,
          15,
          16,
          17,
          18,
          19,
          20,
          21,
          22,
          23,
          24,
          25,
          26,
          27,
          28,
          29,
          30,
          31,
          32,
          33,
          34,
          35,
          36,
          37,
          38,
          39,
          40,
          41,
          42,
          43,
          44,
          45,
          46,
          47,
          48,
          49,
          50,
          51,
          52,
          53,
          54,
          55,
          56,
          57,
          58,
          59,
          60,
          61,
          62,
          63,
          64,
          65,
          66,
          67,
          68,
          69,
          70,
          71,
          72,
          73,
          74,
          75,
          76,
          77,
          78,
          79,
          80,
          81,
          82,
          83,
          84,
          85,
          86,
          87,
          88,
          89,
          90,
          91,
          92,
          93,
          94,
          95,
          96,
          97,
          98,
          99,
          100,
          101,
          102,
          103,
          104,
          105,
          106,
          107,
          108,
          109,
          110,
          111,
          112,
          113,
          114,
          115,
          116,
          117,
          118,
          119,
          120,
          121,
          122,
          123,
          124,
          125,
          126,
          127,
          128,
          129,
          130,
          131,
          132,
          133,
          134,
          135,
          136,
          137,
          138,
          139,
          140,
          141,
          142,
          143,
          144,
          145,
          146,
          147,
          148,
          149,
          150,
          151,
          152,
          153,
          154,
          155,
          156,
          157,
          158,
          159,
          160,
          161,
          162,
          163,
          164,
          165,
          166,
          167,
          168
         ],
         "xaxis": "x2",
         "y": [
          0.12886000079304388,
          0.12156785801197814,
          0.13434411961792056,
          0.10066828813980433,
          0.13409135294939037,
          0.09501734042702721,
          0.11466544643351119,
          0.13551381424919798,
          0.10167243217204255,
          0.10696277773617577,
          0.1271496333646599,
          0.11403002960089534,
          0.11545436974014593,
          0.11604427783849759,
          0.11648677260739067,
          0.1132691820341209,
          0.11626805007913883,
          0.11854839674435064,
          0.11987955910026854,
          0.12055577415327812,
          0.12566355252618902,
          0.1225168898368019,
          0.12116440080753106,
          0.10061707661318003,
          0.11060048667061759,
          0.11992127023719235,
          0.10937945710780728,
          0.11384113849156856,
          0.11508974893461506,
          0.09861747505434826,
          0.11382697518640988,
          0.10509073284349223,
          0.10864344046929601,
          0.10516154198408531,
          0.10781051438077255,
          0.11249401963943359,
          0.10399560755276008,
          0.1153274609978608,
          0.10164245990604363,
          0.09633248963591119,
          0.11459415459960369,
          0.09939056296802552,
          0.11353767887879222,
          0.10318101597817873,
          0.09563103925264525,
          0.09099132262997622,
          0.12191506521188454,
          0.09399728236310007,
          0.12409144868900265,
          0.11174040059858938,
          0.09852494421367634,
          0.10303160451279034,
          0.10622431922716602,
          0.10486622552714348,
          0.10314356308958979,
          0.11659365602071427,
          0.10684896243396358,
          0.10517591083357222,
          0.10853486921703218,
          0.107514997565267,
          0.11602342327399601,
          0.11643144352997882,
          0.11131737851818153,
          0.11464365173573583,
          0.10744982419962554,
          0.10839062381135878,
          0.10479517253930908,
          0.09832389884227692,
          0.09115267226981702,
          0.10327533483949787,
          0.09689290477641635,
          0.10505039632085567,
          0.09497626574494758,
          0.09833390500755543,
          0.10264739157948505,
          0.11639544043824364,
          0.10293591735764547,
          0.10507532565270443,
          0.10405477267241632,
          0.10193350324361033,
          0.1131401813726734,
          0.09746676604973435,
          0.11346762822853457,
          0.10392302660290005,
          0.09775495720629715,
          0.09592961518384976,
          0.09645145040730586,
          0.10733884229589064,
          0.09361598405214455,
          0.09860443295480045,
          0.11097505495936238,
          0.08557297724495332,
          0.09528388922148652,
          0.1084825888477404,
          0.09549851017168734,
          0.09712248843579223,
          0.09758567314656924,
          0.09712640040487559,
          0.09590469248505314,
          0.09425851357985139,
          0.10860598094552457,
          0.1044358879942946,
          0.10628731049452374,
          0.09986467569506316,
          0.10345380603742081,
          0.09463910372661495,
          0.09573564768256382,
          0.10149594902840463,
          0.08589736821279728,
          0.08696417516346937,
          0.10374160589346322,
          0.10397260715511573,
          0.08934172944500554,
          0.0959768403933401,
          0.09503021349047838,
          0.08982277624497345,
          0.09538202684275766,
          0.114088218530795,
          0.09700743604455143,
          0.09281889587417316,
          0.0984816252113493,
          0.10113563309421593,
          0.10366361106696742,
          0.09573185897768755,
          0.09501701717546004,
          0.10444885942108571,
          0.09383237973397834,
          0.10136574461456987,
          0.1032200040354065,
          0.09327882464789726,
          0.10969003482679797,
          0.103184251850465,
          0.0961373620760876,
          0.10468549917817353,
          0.09319375882685599,
          0.08724789065654827,
          0.084401592029262,
          0.08991920500528573,
          0.09604557337215422,
          0.09069110333122844,
          0.0901006879492869,
          0.08760604064639332,
          0.08178343611655105,
          0.09710685784824213,
          0.08448394189245964,
          0.0983727509838718,
          0.08695484654493402,
          0.09012676946409211,
          0.08753726785796283,
          0.09144323182907689,
          0.09121658749887,
          0.08398625346173216,
          0.09207278116502478,
          0.10476578099955344,
          0.08390609324393498,
          0.09089691094826961,
          0.11206947730140733,
          0.09526786551652333,
          0.09417228692103814,
          0.08510613689629162,
          0.09676672509964712,
          0.08034013305168633,
          0.08448452759225815,
          0.08362775143553913,
          0.0915856733049998,
          0.08911725276416216,
          0.08795410946248405,
          0.09816388465697588,
          0.09187703432952525
         ],
         "yaxis": "y2"
        },
        {
         "hovertemplate": "variable=FIRES<br>batches=%{x}<br>rmse=%{y}<extra></extra>",
         "legendgroup": "FIRES",
         "line": {
          "color": "red",
          "dash": "solid"
         },
         "mode": "lines",
         "name": "FIRES",
         "orientation": "v",
         "showlegend": true,
         "type": "scatter",
         "x": [
          0,
          1,
          2,
          3,
          4,
          5,
          6,
          7,
          8,
          9,
          10,
          11,
          12,
          13,
          14,
          15,
          16,
          17,
          18,
          19,
          20,
          21,
          22,
          23,
          24,
          25,
          26,
          27,
          28,
          29,
          30,
          31,
          32,
          33,
          34,
          35,
          36,
          37,
          38,
          39,
          40,
          41,
          42,
          43,
          44,
          45,
          46,
          47,
          48,
          49,
          50,
          51,
          52,
          53,
          54,
          55,
          56,
          57,
          58,
          59,
          60,
          61,
          62,
          63,
          64,
          65,
          66,
          67,
          68,
          69,
          70,
          71,
          72,
          73,
          74,
          75,
          76,
          77,
          78,
          79,
          80,
          81,
          82,
          83,
          84,
          85,
          86,
          87,
          88,
          89,
          90,
          91,
          92,
          93,
          94,
          95,
          96,
          97,
          98,
          99,
          100,
          101,
          102,
          103,
          104,
          105,
          106,
          107,
          108,
          109,
          110,
          111,
          112,
          113,
          114,
          115,
          116,
          117,
          118,
          119,
          120,
          121,
          122,
          123,
          124,
          125,
          126,
          127,
          128,
          129,
          130,
          131,
          132,
          133,
          134,
          135,
          136,
          137,
          138,
          139,
          140,
          141,
          142,
          143,
          144,
          145,
          146,
          147,
          148,
          149,
          150,
          151,
          152,
          153,
          154,
          155,
          156,
          157,
          158,
          159,
          160,
          161,
          162,
          163,
          164,
          165,
          166,
          167,
          168
         ],
         "xaxis": "x2",
         "y": [
          0.3541242741106652,
          0.27934202560345645,
          0.14334810439133433,
          0.11251323279978277,
          0.13566989403694865,
          0.095477850282555,
          0.12365106599216716,
          0.12303466857817036,
          0.10529218130127421,
          0.10769412286844503,
          0.12898040683078346,
          0.11977648016330746,
          0.1195153819774738,
          0.12025335635193332,
          0.1213734204813826,
          0.11931044474423204,
          0.1185765394310391,
          0.12094247275481174,
          0.11682133293674603,
          0.1238558923023178,
          0.1320618616954931,
          0.12599668219249788,
          0.1260703793721918,
          0.10719188194595447,
          0.1079285360655693,
          0.1302263049772817,
          0.11604739843614043,
          0.11452469618017487,
          0.12130866036807982,
          0.09930877818408645,
          0.12441895726868243,
          0.11261317167790065,
          0.11653926761180332,
          0.11600727314463002,
          0.12007990377539174,
          0.11703297712724085,
          0.1098915986258056,
          0.12492959099235651,
          0.11005448950336315,
          0.10594228937104824,
          0.1289813661605104,
          0.10522107751836025,
          0.12743078656196127,
          0.11035113416807764,
          0.1031386417714576,
          0.09994308850441565,
          0.13374614466425905,
          0.10293062373426015,
          0.13605518301783434,
          0.11479147283222593,
          0.1097726702468046,
          0.11165704928557654,
          0.1204518116316444,
          0.11696235346261567,
          0.11504909108908443,
          0.12703802037207448,
          0.11497497562509715,
          0.11556217182433551,
          0.12223695714633649,
          0.12002394581809217,
          0.12842295018643685,
          0.12867320190955872,
          0.11767142151043118,
          0.12540779686730893,
          0.12214367778296878,
          0.12073504878846204,
          0.11687566950274493,
          0.10737003684715805,
          0.10286227669168396,
          0.11587812822790278,
          0.1122655011873708,
          0.1162082100798476,
          0.10703806669941744,
          0.10975577922045586,
          0.11605709530228607,
          0.12930264935785346,
          0.11611458082141501,
          0.12093930894360534,
          0.1179450139391966,
          0.11720323501930796,
          0.1272618033150519,
          0.11287514053831517,
          0.12431307667249344,
          0.11378938289644604,
          0.11077427610362132,
          0.11009137125904113,
          0.1058866989141136,
          0.12515808819146532,
          0.10739376762001876,
          0.11412264936678748,
          0.11776156315285777,
          0.10429120434298521,
          0.11162001631067328,
          0.1297555843321318,
          0.1079230935875742,
          0.1132370707307943,
          0.11396140528107492,
          0.11410015946955601,
          0.12036558548179899,
          0.10976394230808217,
          0.12731685769697207,
          0.12109549714625616,
          0.1285568338729176,
          0.11404623244712442,
          0.12428045117743253,
          0.11040674079827761,
          0.11589612419140806,
          0.12370895227647817,
          0.10337492897527438,
          0.10406886976771197,
          0.12396096694048883,
          0.11954035272515409,
          0.10641383967137599,
          0.11479591476231345,
          0.11483165215069296,
          0.10832393663797187,
          0.11274367819801198,
          0.13712683661312128,
          0.11405596900377378,
          0.11155756155312671,
          0.11995107013114444,
          0.1211749072701479,
          0.12714521809556634,
          0.11573556696326427,
          0.11445135955430981,
          0.12493241849173253,
          0.11066364509594653,
          0.12564410919633118,
          0.11967445947696957,
          0.10968109606934484,
          0.13402074999495794,
          0.12851612093234366,
          0.11847466696122705,
          0.1255958925042323,
          0.11067867018772004,
          0.11029052708666312,
          0.10260389467980496,
          0.1066583435887481,
          0.118304448081801,
          0.10715111000339674,
          0.11129140224971783,
          0.10696921437733237,
          0.10056736346415374,
          0.1164550807209975,
          0.10415176862590451,
          0.12165686208900979,
          0.10495194154225553,
          0.1132298828999,
          0.10717004446100252,
          0.11131663654116492,
          0.11299894911546453,
          0.10629712595422272,
          0.11927946764024884,
          0.12943619923395175,
          0.10697839720307745,
          0.11170624531541,
          0.13640323948884558,
          0.12403956969211828,
          0.12050711683740904,
          0.11064890948278083,
          0.12084423257852002,
          0.09850936883950771,
          0.10538325535433127,
          0.1045086164629117,
          0.1165891706684464,
          0.1109966827044923,
          0.10907182184983562,
          0.1213606242375271,
          0.11606523085616778
         ],
         "yaxis": "y2"
        },
        {
         "hovertemplate": "variable=SGDR<br>batches=%{x}<br>rmse=%{y}<extra></extra>",
         "legendgroup": "SGDR",
         "line": {
          "color": "green",
          "dash": "solid"
         },
         "mode": "lines",
         "name": "SGDR",
         "orientation": "v",
         "showlegend": true,
         "type": "scatter",
         "x": [
          0,
          1,
          2,
          3,
          4,
          5,
          6,
          7,
          8,
          9,
          10,
          11,
          12,
          13,
          14,
          15,
          16,
          17,
          18,
          19,
          20,
          21,
          22,
          23,
          24,
          25,
          26,
          27,
          28,
          29,
          30,
          31,
          32,
          33,
          34,
          35,
          36,
          37,
          38,
          39,
          40,
          41,
          42,
          43,
          44,
          45,
          46,
          47,
          48,
          49,
          50,
          51,
          52,
          53,
          54,
          55,
          56,
          57,
          58,
          59,
          60,
          61,
          62,
          63,
          64,
          65,
          66,
          67,
          68,
          69,
          70,
          71,
          72,
          73,
          74,
          75,
          76,
          77,
          78,
          79,
          80,
          81,
          82,
          83,
          84,
          85,
          86,
          87,
          88,
          89,
          90,
          91,
          92,
          93,
          94,
          95,
          96,
          97,
          98,
          99,
          100,
          101,
          102,
          103,
          104,
          105,
          106,
          107,
          108,
          109,
          110,
          111,
          112,
          113,
          114,
          115,
          116,
          117,
          118,
          119,
          120,
          121,
          122,
          123,
          124,
          125,
          126,
          127,
          128,
          129,
          130,
          131,
          132,
          133,
          134,
          135,
          136,
          137,
          138,
          139,
          140,
          141,
          142,
          143,
          144,
          145,
          146,
          147,
          148,
          149,
          150,
          151,
          152,
          153,
          154,
          155,
          156,
          157,
          158,
          159,
          160,
          161,
          162,
          163,
          164,
          165,
          166,
          167,
          168
         ],
         "xaxis": "x2",
         "y": [
          0.35105278955909186,
          0.13043484164135355,
          0.12892021731564635,
          0.09365226580458023,
          0.1250121037734746,
          0.0891386108224268,
          0.10724547202593393,
          0.11291848472451142,
          0.09257732009597779,
          0.09959048879287179,
          0.11785748308501073,
          0.1123693753399706,
          0.10572020855063635,
          0.10250474702279558,
          0.10731981402216814,
          0.10593484667931267,
          0.10843653191072798,
          0.11048465823610937,
          0.10899822616641848,
          0.10952254582241036,
          0.1191742724039638,
          0.1154944924610843,
          0.11010241349384818,
          0.09807990048728457,
          0.10165097943084525,
          0.11465911299211594,
          0.10424138662518126,
          0.10735291697011548,
          0.11072584633559955,
          0.08748118677637393,
          0.1087398462923391,
          0.09796046886457976,
          0.10391329882681855,
          0.10187585226660335,
          0.10480029085505103,
          0.10582658149678818,
          0.10157009368464928,
          0.1109644087486743,
          0.09485952498799818,
          0.09044387246920335,
          0.10884204622271101,
          0.09357894203862675,
          0.10769607892804776,
          0.09647012053391084,
          0.08924661267249392,
          0.08621947874208322,
          0.11680581843090711,
          0.08879872581464303,
          0.11607858003416657,
          0.09931799749730456,
          0.09440778807368384,
          0.09993978771705295,
          0.10181151670586876,
          0.10205657211995933,
          0.0988790326991326,
          0.11143166890257633,
          0.10149122211748925,
          0.09908836793454046,
          0.10655495622280325,
          0.10399324473334354,
          0.11078659294523953,
          0.11137029550070762,
          0.10268938574803911,
          0.10999996148781735,
          0.10352789953581125,
          0.10415252338397554,
          0.1008753244121749,
          0.09356235408342672,
          0.0881426340801749,
          0.10049203465736949,
          0.09462271444917322,
          0.09972502443895041,
          0.09355237377362219,
          0.09480101385709667,
          0.10083774258039044,
          0.11431161179268882,
          0.10074019872710731,
          0.10412812012548918,
          0.09906329049191014,
          0.09875128084194103,
          0.11106010208052806,
          0.09662943848339467,
          0.10667478099646446,
          0.09712991844656049,
          0.09605735230324157,
          0.09511003478305032,
          0.08954842550591118,
          0.10458028294771168,
          0.09088884641577404,
          0.09822096656441683,
          0.09871211342690951,
          0.08431022008354525,
          0.09360751826886288,
          0.10704212573780426,
          0.09272913344649887,
          0.094103435639935,
          0.09228322577554776,
          0.09712092067510052,
          0.10097539114507421,
          0.09193858108674802,
          0.1072447014132601,
          0.103617789646636,
          0.1055842233243048,
          0.09469111453638451,
          0.10200805014741286,
          0.09177489930771844,
          0.09531842358812638,
          0.1014512722692248,
          0.08502072303985393,
          0.08610353266516262,
          0.1024853641457182,
          0.10323514943559857,
          0.08846570568762477,
          0.09451800932372748,
          0.09387576142810607,
          0.08862487521713597,
          0.09435409040783392,
          0.11268814175775439,
          0.09552636760183092,
          0.09541862022779167,
          0.09576623327670192,
          0.10088239971408232,
          0.10320395019783682,
          0.09306408548384969,
          0.09383413350385768,
          0.10335427695974106,
          0.09133356108767642,
          0.10260729327753335,
          0.0991202100330611,
          0.09056401524683276,
          0.10962633164977402,
          0.10371052064627466,
          0.09607873818291553,
          0.10094281923015394,
          0.09305293069195793,
          0.08569860371871396,
          0.08321817701969364,
          0.08939020429602236,
          0.09675985514167014,
          0.08797704965681233,
          0.08923921818807685,
          0.0884119049906691,
          0.0816667956106526,
          0.097312518025322,
          0.08393283702592233,
          0.09709785820415885,
          0.08777014806992858,
          0.09127720695250205,
          0.08700966868962481,
          0.09235117563920772,
          0.09068775757118616,
          0.08451182989191829,
          0.09326940848728955,
          0.10377830574483578,
          0.08432188456081754,
          0.08977780475537102,
          0.11230516235660332,
          0.10077152905364754,
          0.0969710949028638,
          0.08533168291014046,
          0.09788339949795616,
          0.08094870772089297,
          0.08532425460097175,
          0.08464461944656253,
          0.09351788381348769,
          0.09051413699060677,
          0.0882089443034301,
          0.10030038766324742,
          0.0937601134287016
         ],
         "yaxis": "y2"
        },
        {
         "hovertemplate": "variable=Random<br>batches=%{x}<br>rmse=%{y}<extra></extra>",
         "legendgroup": "Random",
         "line": {
          "color": "cyan",
          "dash": "solid"
         },
         "mode": "lines",
         "name": "Random",
         "orientation": "v",
         "showlegend": true,
         "type": "scatter",
         "x": [
          0,
          1,
          2,
          3,
          4,
          5,
          6,
          7,
          8,
          9,
          10,
          11,
          12,
          13,
          14,
          15,
          16,
          17,
          18,
          19,
          20,
          21,
          22,
          23,
          24,
          25,
          26,
          27,
          28,
          29,
          30,
          31,
          32,
          33,
          34,
          35,
          36,
          37,
          38,
          39,
          40,
          41,
          42,
          43,
          44,
          45,
          46,
          47,
          48,
          49,
          50,
          51,
          52,
          53,
          54,
          55,
          56,
          57,
          58,
          59,
          60,
          61,
          62,
          63,
          64,
          65,
          66,
          67,
          68,
          69,
          70,
          71,
          72,
          73,
          74,
          75,
          76,
          77,
          78,
          79,
          80,
          81,
          82,
          83,
          84,
          85,
          86,
          87,
          88,
          89,
          90,
          91,
          92,
          93,
          94,
          95,
          96,
          97,
          98,
          99,
          100,
          101,
          102,
          103,
          104,
          105,
          106,
          107,
          108,
          109,
          110,
          111,
          112,
          113,
          114,
          115,
          116,
          117,
          118,
          119,
          120,
          121,
          122,
          123,
          124,
          125,
          126,
          127,
          128,
          129,
          130,
          131,
          132,
          133,
          134,
          135,
          136,
          137,
          138,
          139,
          140,
          141,
          142,
          143,
          144,
          145,
          146,
          147,
          148,
          149,
          150,
          151,
          152,
          153,
          154,
          155,
          156,
          157,
          158,
          159,
          160,
          161,
          162,
          163,
          164,
          165,
          166,
          167,
          168
         ],
         "xaxis": "x2",
         "y": [
          0.3779020413550504,
          0.2982263979074769,
          0.2392332311783974,
          0.1814816390024272,
          0.17119112508105813,
          0.10942572410551009,
          0.11770990403661723,
          0.13936409609884812,
          0.10721763362949006,
          0.11338912158485821,
          0.14130331236263738,
          0.12816154008544028,
          0.12217814818823722,
          0.1222746665896798,
          0.1354736900351873,
          0.1250760596777641,
          0.15641920568896042,
          0.1278480348358543,
          0.1327113309832787,
          0.12475702301821286,
          0.14247623822708727,
          0.13272175231547678,
          0.12191925148693265,
          0.1140169954433627,
          0.13502797584407886,
          0.13303136902081278,
          0.11948703854185964,
          0.12395816202688432,
          0.1563861266015078,
          0.10858869612741259,
          0.12320961957444422,
          0.1115964719977223,
          0.12616474360822433,
          0.1168684647524397,
          0.12316947158763866,
          0.12058752785367302,
          0.12615156593333537,
          0.12843464813049715,
          0.12387024603043502,
          0.11119093492292317,
          0.1272563550910957,
          0.10765470704505628,
          0.12722588122556974,
          0.13777373333464038,
          0.10428361578639682,
          0.1060544774836676,
          0.14295538639618705,
          0.11062043335298118,
          0.15663860700005583,
          0.11950885982237204,
          0.1405686322693356,
          0.1236201660160663,
          0.11836732486716892,
          0.14592993762868783,
          0.1181862151003362,
          0.15177616892202783,
          0.11995112244870637,
          0.1189929461991909,
          0.13638407533928804,
          0.12901862067415223,
          0.1346459440790826,
          0.1232161518219542,
          0.11726450917532233,
          0.13205441845427418,
          0.12924044162609064,
          0.12893060967977102,
          0.13112803563330097,
          0.1140606641108357,
          0.10583304249653132,
          0.11943261157357714,
          0.11051177226770399,
          0.12076476664943407,
          0.11284196414439988,
          0.12479368067199421,
          0.12141268141541667,
          0.13631434166591844,
          0.12532978671641665,
          0.12178021205807613,
          0.12402861586683131,
          0.1215371352347982,
          0.13733617832320097,
          0.12234811818933898,
          0.1324449717850586,
          0.12326184566918441,
          0.11812041423764146,
          0.11553333077064444,
          0.11461141577736664,
          0.14067621041100656,
          0.11081471133712117,
          0.11972281067525418,
          0.12002300840690261,
          0.10451918867247702,
          0.1112589858430533,
          0.14533775373511912,
          0.11618369564671925,
          0.1191223016684683,
          0.12080103385186947,
          0.1203528212331615,
          0.13034155935036051,
          0.11631096054105018,
          0.14916140603528102,
          0.12797721731565684,
          0.13050433764542643,
          0.13948676140517782,
          0.1267153820869056,
          0.11693912629965948,
          0.11851134581952755,
          0.12626191778905438,
          0.11955374674918304,
          0.11615841356940715,
          0.1299446914315293,
          0.15027729806305162,
          0.11382889265851344,
          0.11950622682411735,
          0.11945397992155375,
          0.11608552687413565,
          0.13074336413739535,
          0.1411302608180916,
          0.11775606304369741,
          0.12404191665315716,
          0.12481073226316586,
          0.1309497525599504,
          0.1267297625281863,
          0.11502823679657902,
          0.12916135204486934,
          0.14505226071914706,
          0.11707562399560677,
          0.14010802860463994,
          0.12646109765264404,
          0.1175970717388146,
          0.14205571201150238,
          0.1364395051512022,
          0.12372735496633139,
          0.12886118448789596,
          0.13701147961524635,
          0.11020652707696307,
          0.10986125351582549,
          0.11701712204563054,
          0.13308420061250525,
          0.11698684005334109,
          0.11461024082322137,
          0.11314749526067257,
          0.10865286904567896,
          0.12678576339351869,
          0.10867619671546264,
          0.12650098717878164,
          0.11548432849025825,
          0.1170913380261322,
          0.11102023713004953,
          0.12135385946292361,
          0.11584833205679551,
          0.11049965532438703,
          0.12334659206298126,
          0.1549648382293482,
          0.11107361891009698,
          0.10996359339775841,
          0.14082252419811403,
          0.13689231015088232,
          0.15693112236683732,
          0.12434375780173451,
          0.12941478039519003,
          0.11997591830675458,
          0.11749928658024013,
          0.11508763245030025,
          0.12713094646059067,
          0.12307516123060917,
          0.13031362619970693,
          0.13474379577708298,
          0.16161380632366057
         ],
         "yaxis": "y2"
        }
       ],
       "layout": {
        "template": {
         "data": {
          "bar": [
           {
            "error_x": {
             "color": "#2a3f5f"
            },
            "error_y": {
             "color": "#2a3f5f"
            },
            "marker": {
             "line": {
              "color": "#E5ECF6",
              "width": 0.5
             }
            },
            "type": "bar"
           }
          ],
          "barpolar": [
           {
            "marker": {
             "line": {
              "color": "#E5ECF6",
              "width": 0.5
             }
            },
            "type": "barpolar"
           }
          ],
          "carpet": [
           {
            "aaxis": {
             "endlinecolor": "#2a3f5f",
             "gridcolor": "white",
             "linecolor": "white",
             "minorgridcolor": "white",
             "startlinecolor": "#2a3f5f"
            },
            "baxis": {
             "endlinecolor": "#2a3f5f",
             "gridcolor": "white",
             "linecolor": "white",
             "minorgridcolor": "white",
             "startlinecolor": "#2a3f5f"
            },
            "type": "carpet"
           }
          ],
          "choropleth": [
           {
            "colorbar": {
             "outlinewidth": 0,
             "ticks": ""
            },
            "type": "choropleth"
           }
          ],
          "contour": [
           {
            "colorbar": {
             "outlinewidth": 0,
             "ticks": ""
            },
            "colorscale": [
             [
              0,
              "#0d0887"
             ],
             [
              0.1111111111111111,
              "#46039f"
             ],
             [
              0.2222222222222222,
              "#7201a8"
             ],
             [
              0.3333333333333333,
              "#9c179e"
             ],
             [
              0.4444444444444444,
              "#bd3786"
             ],
             [
              0.5555555555555556,
              "#d8576b"
             ],
             [
              0.6666666666666666,
              "#ed7953"
             ],
             [
              0.7777777777777778,
              "#fb9f3a"
             ],
             [
              0.8888888888888888,
              "#fdca26"
             ],
             [
              1,
              "#f0f921"
             ]
            ],
            "type": "contour"
           }
          ],
          "contourcarpet": [
           {
            "colorbar": {
             "outlinewidth": 0,
             "ticks": ""
            },
            "type": "contourcarpet"
           }
          ],
          "heatmap": [
           {
            "colorbar": {
             "outlinewidth": 0,
             "ticks": ""
            },
            "colorscale": [
             [
              0,
              "#0d0887"
             ],
             [
              0.1111111111111111,
              "#46039f"
             ],
             [
              0.2222222222222222,
              "#7201a8"
             ],
             [
              0.3333333333333333,
              "#9c179e"
             ],
             [
              0.4444444444444444,
              "#bd3786"
             ],
             [
              0.5555555555555556,
              "#d8576b"
             ],
             [
              0.6666666666666666,
              "#ed7953"
             ],
             [
              0.7777777777777778,
              "#fb9f3a"
             ],
             [
              0.8888888888888888,
              "#fdca26"
             ],
             [
              1,
              "#f0f921"
             ]
            ],
            "type": "heatmap"
           }
          ],
          "heatmapgl": [
           {
            "colorbar": {
             "outlinewidth": 0,
             "ticks": ""
            },
            "colorscale": [
             [
              0,
              "#0d0887"
             ],
             [
              0.1111111111111111,
              "#46039f"
             ],
             [
              0.2222222222222222,
              "#7201a8"
             ],
             [
              0.3333333333333333,
              "#9c179e"
             ],
             [
              0.4444444444444444,
              "#bd3786"
             ],
             [
              0.5555555555555556,
              "#d8576b"
             ],
             [
              0.6666666666666666,
              "#ed7953"
             ],
             [
              0.7777777777777778,
              "#fb9f3a"
             ],
             [
              0.8888888888888888,
              "#fdca26"
             ],
             [
              1,
              "#f0f921"
             ]
            ],
            "type": "heatmapgl"
           }
          ],
          "histogram": [
           {
            "marker": {
             "colorbar": {
              "outlinewidth": 0,
              "ticks": ""
             }
            },
            "type": "histogram"
           }
          ],
          "histogram2d": [
           {
            "colorbar": {
             "outlinewidth": 0,
             "ticks": ""
            },
            "colorscale": [
             [
              0,
              "#0d0887"
             ],
             [
              0.1111111111111111,
              "#46039f"
             ],
             [
              0.2222222222222222,
              "#7201a8"
             ],
             [
              0.3333333333333333,
              "#9c179e"
             ],
             [
              0.4444444444444444,
              "#bd3786"
             ],
             [
              0.5555555555555556,
              "#d8576b"
             ],
             [
              0.6666666666666666,
              "#ed7953"
             ],
             [
              0.7777777777777778,
              "#fb9f3a"
             ],
             [
              0.8888888888888888,
              "#fdca26"
             ],
             [
              1,
              "#f0f921"
             ]
            ],
            "type": "histogram2d"
           }
          ],
          "histogram2dcontour": [
           {
            "colorbar": {
             "outlinewidth": 0,
             "ticks": ""
            },
            "colorscale": [
             [
              0,
              "#0d0887"
             ],
             [
              0.1111111111111111,
              "#46039f"
             ],
             [
              0.2222222222222222,
              "#7201a8"
             ],
             [
              0.3333333333333333,
              "#9c179e"
             ],
             [
              0.4444444444444444,
              "#bd3786"
             ],
             [
              0.5555555555555556,
              "#d8576b"
             ],
             [
              0.6666666666666666,
              "#ed7953"
             ],
             [
              0.7777777777777778,
              "#fb9f3a"
             ],
             [
              0.8888888888888888,
              "#fdca26"
             ],
             [
              1,
              "#f0f921"
             ]
            ],
            "type": "histogram2dcontour"
           }
          ],
          "mesh3d": [
           {
            "colorbar": {
             "outlinewidth": 0,
             "ticks": ""
            },
            "type": "mesh3d"
           }
          ],
          "parcoords": [
           {
            "line": {
             "colorbar": {
              "outlinewidth": 0,
              "ticks": ""
             }
            },
            "type": "parcoords"
           }
          ],
          "pie": [
           {
            "automargin": true,
            "type": "pie"
           }
          ],
          "scatter": [
           {
            "marker": {
             "colorbar": {
              "outlinewidth": 0,
              "ticks": ""
             }
            },
            "type": "scatter"
           }
          ],
          "scatter3d": [
           {
            "line": {
             "colorbar": {
              "outlinewidth": 0,
              "ticks": ""
             }
            },
            "marker": {
             "colorbar": {
              "outlinewidth": 0,
              "ticks": ""
             }
            },
            "type": "scatter3d"
           }
          ],
          "scattercarpet": [
           {
            "marker": {
             "colorbar": {
              "outlinewidth": 0,
              "ticks": ""
             }
            },
            "type": "scattercarpet"
           }
          ],
          "scattergeo": [
           {
            "marker": {
             "colorbar": {
              "outlinewidth": 0,
              "ticks": ""
             }
            },
            "type": "scattergeo"
           }
          ],
          "scattergl": [
           {
            "marker": {
             "colorbar": {
              "outlinewidth": 0,
              "ticks": ""
             }
            },
            "type": "scattergl"
           }
          ],
          "scattermapbox": [
           {
            "marker": {
             "colorbar": {
              "outlinewidth": 0,
              "ticks": ""
             }
            },
            "type": "scattermapbox"
           }
          ],
          "scatterpolar": [
           {
            "marker": {
             "colorbar": {
              "outlinewidth": 0,
              "ticks": ""
             }
            },
            "type": "scatterpolar"
           }
          ],
          "scatterpolargl": [
           {
            "marker": {
             "colorbar": {
              "outlinewidth": 0,
              "ticks": ""
             }
            },
            "type": "scatterpolargl"
           }
          ],
          "scatterternary": [
           {
            "marker": {
             "colorbar": {
              "outlinewidth": 0,
              "ticks": ""
             }
            },
            "type": "scatterternary"
           }
          ],
          "surface": [
           {
            "colorbar": {
             "outlinewidth": 0,
             "ticks": ""
            },
            "colorscale": [
             [
              0,
              "#0d0887"
             ],
             [
              0.1111111111111111,
              "#46039f"
             ],
             [
              0.2222222222222222,
              "#7201a8"
             ],
             [
              0.3333333333333333,
              "#9c179e"
             ],
             [
              0.4444444444444444,
              "#bd3786"
             ],
             [
              0.5555555555555556,
              "#d8576b"
             ],
             [
              0.6666666666666666,
              "#ed7953"
             ],
             [
              0.7777777777777778,
              "#fb9f3a"
             ],
             [
              0.8888888888888888,
              "#fdca26"
             ],
             [
              1,
              "#f0f921"
             ]
            ],
            "type": "surface"
           }
          ],
          "table": [
           {
            "cells": {
             "fill": {
              "color": "#EBF0F8"
             },
             "line": {
              "color": "white"
             }
            },
            "header": {
             "fill": {
              "color": "#C8D4E3"
             },
             "line": {
              "color": "white"
             }
            },
            "type": "table"
           }
          ]
         },
         "layout": {
          "annotationdefaults": {
           "arrowcolor": "#2a3f5f",
           "arrowhead": 0,
           "arrowwidth": 1
          },
          "autotypenumbers": "strict",
          "coloraxis": {
           "colorbar": {
            "outlinewidth": 0,
            "ticks": ""
           }
          },
          "colorscale": {
           "diverging": [
            [
             0,
             "#8e0152"
            ],
            [
             0.1,
             "#c51b7d"
            ],
            [
             0.2,
             "#de77ae"
            ],
            [
             0.3,
             "#f1b6da"
            ],
            [
             0.4,
             "#fde0ef"
            ],
            [
             0.5,
             "#f7f7f7"
            ],
            [
             0.6,
             "#e6f5d0"
            ],
            [
             0.7,
             "#b8e186"
            ],
            [
             0.8,
             "#7fbc41"
            ],
            [
             0.9,
             "#4d9221"
            ],
            [
             1,
             "#276419"
            ]
           ],
           "sequential": [
            [
             0,
             "#0d0887"
            ],
            [
             0.1111111111111111,
             "#46039f"
            ],
            [
             0.2222222222222222,
             "#7201a8"
            ],
            [
             0.3333333333333333,
             "#9c179e"
            ],
            [
             0.4444444444444444,
             "#bd3786"
            ],
            [
             0.5555555555555556,
             "#d8576b"
            ],
            [
             0.6666666666666666,
             "#ed7953"
            ],
            [
             0.7777777777777778,
             "#fb9f3a"
            ],
            [
             0.8888888888888888,
             "#fdca26"
            ],
            [
             1,
             "#f0f921"
            ]
           ],
           "sequentialminus": [
            [
             0,
             "#0d0887"
            ],
            [
             0.1111111111111111,
             "#46039f"
            ],
            [
             0.2222222222222222,
             "#7201a8"
            ],
            [
             0.3333333333333333,
             "#9c179e"
            ],
            [
             0.4444444444444444,
             "#bd3786"
            ],
            [
             0.5555555555555556,
             "#d8576b"
            ],
            [
             0.6666666666666666,
             "#ed7953"
            ],
            [
             0.7777777777777778,
             "#fb9f3a"
            ],
            [
             0.8888888888888888,
             "#fdca26"
            ],
            [
             1,
             "#f0f921"
            ]
           ]
          },
          "colorway": [
           "#636efa",
           "#EF553B",
           "#00cc96",
           "#ab63fa",
           "#FFA15A",
           "#19d3f3",
           "#FF6692",
           "#B6E880",
           "#FF97FF",
           "#FECB52"
          ],
          "font": {
           "color": "#2a3f5f"
          },
          "geo": {
           "bgcolor": "white",
           "lakecolor": "white",
           "landcolor": "#E5ECF6",
           "showlakes": true,
           "showland": true,
           "subunitcolor": "white"
          },
          "hoverlabel": {
           "align": "left"
          },
          "hovermode": "closest",
          "mapbox": {
           "style": "light"
          },
          "paper_bgcolor": "white",
          "plot_bgcolor": "#E5ECF6",
          "polar": {
           "angularaxis": {
            "gridcolor": "white",
            "linecolor": "white",
            "ticks": ""
           },
           "bgcolor": "#E5ECF6",
           "radialaxis": {
            "gridcolor": "white",
            "linecolor": "white",
            "ticks": ""
           }
          },
          "scene": {
           "xaxis": {
            "backgroundcolor": "#E5ECF6",
            "gridcolor": "white",
            "gridwidth": 2,
            "linecolor": "white",
            "showbackground": true,
            "ticks": "",
            "zerolinecolor": "white"
           },
           "yaxis": {
            "backgroundcolor": "#E5ECF6",
            "gridcolor": "white",
            "gridwidth": 2,
            "linecolor": "white",
            "showbackground": true,
            "ticks": "",
            "zerolinecolor": "white"
           },
           "zaxis": {
            "backgroundcolor": "#E5ECF6",
            "gridcolor": "white",
            "gridwidth": 2,
            "linecolor": "white",
            "showbackground": true,
            "ticks": "",
            "zerolinecolor": "white"
           }
          },
          "shapedefaults": {
           "line": {
            "color": "#2a3f5f"
           }
          },
          "ternary": {
           "aaxis": {
            "gridcolor": "white",
            "linecolor": "white",
            "ticks": ""
           },
           "baxis": {
            "gridcolor": "white",
            "linecolor": "white",
            "ticks": ""
           },
           "bgcolor": "#E5ECF6",
           "caxis": {
            "gridcolor": "white",
            "linecolor": "white",
            "ticks": ""
           }
          },
          "title": {
           "x": 0.05
          },
          "xaxis": {
           "automargin": true,
           "gridcolor": "white",
           "linecolor": "white",
           "ticks": "",
           "title": {
            "standoff": 15
           },
           "zerolinecolor": "white",
           "zerolinewidth": 2
          },
          "yaxis": {
           "automargin": true,
           "gridcolor": "white",
           "linecolor": "white",
           "ticks": "",
           "title": {
            "standoff": 15
           },
           "zerolinecolor": "white",
           "zerolinewidth": 2
          }
         }
        },
        "xaxis": {
         "anchor": "y",
         "domain": [
          0,
          1
         ],
         "matches": "x2",
         "showticklabels": false
        },
        "xaxis2": {
         "anchor": "y2",
         "domain": [
          0,
          1
         ],
         "title": {
          "text": "batches"
         }
        },
        "yaxis": {
         "anchor": "x",
         "domain": [
          0.55,
          1
         ],
         "title": {
          "text": "Stability"
         }
        },
        "yaxis2": {
         "anchor": "x2",
         "domain": [
          0,
          0.45
         ],
         "title": {
          "text": "RMSE"
         }
        }
       }
      }
     },
     "metadata": {}
    }
   ],
   "source": [
    "fig = make_subplots(rows=2, cols=1, shared_xaxes=True, vertical_spacing=0.1) # subplot_titles=(\"Stability\",\"Accuracy\", \"F1-Score\"),\n",
    "for i in range(len(stability_trace)):\n",
    "    stability_trace[i][\"showlegend\"] = False\n",
    "    fig.add_trace(stability_trace[i], row=1, col=1)\n",
    "for i in range(len(rmse_trace)):\n",
    "    fig.add_trace(rmse_trace[i], row=2, col=1)\n",
    "fig.update_xaxes(title_text=\"batches\", row=2, col=1)\n",
    "fig.update_yaxes(title_text=\"Stability\", row=1, col=1)\n",
    "fig.update_yaxes(title_text=\"RMSE\", row=2, col=1)\n",
    "\n",
    "fig.write_image(\"{}/all_scores_{}.{}\".format(folder, dataset_name, export_type))\n",
    "fig.show()"
   ]
  },
  {
   "cell_type": "code",
   "execution_count": 48,
   "metadata": {},
   "outputs": [
    {
     "output_type": "display_data",
     "data": {
      "application/vnd.plotly.v1+json": {
       "config": {
        "plotlyServerURL": "https://plot.ly"
       },
       "data": [
        {
         "alignmentgroup": "True",
         "hovertemplate": "color=FIRES<br>=%{x}<br>s=%{y}<extra></extra>",
         "legendgroup": "FIRES",
         "marker": {
          "color": "red"
         },
         "name": "FIRES",
         "offsetgroup": "FIRES",
         "orientation": "v",
         "showlegend": true,
         "textposition": "auto",
         "type": "bar",
         "x": [
          "FIRES"
         ],
         "xaxis": "x",
         "y": [
          7.947829984000009
         ],
         "yaxis": "y"
        },
        {
         "alignmentgroup": "True",
         "hovertemplate": "color=SGDR<br>=%{x}<br>s=%{y}<extra></extra>",
         "legendgroup": "SGDR",
         "marker": {
          "color": "blue"
         },
         "name": "SGDR",
         "offsetgroup": "SGDR",
         "orientation": "v",
         "showlegend": true,
         "textposition": "auto",
         "type": "bar",
         "x": [
          "SGDR"
         ],
         "xaxis": "x",
         "y": [
          0.7345721270000354
         ],
         "yaxis": "y"
        }
       ],
       "layout": {
        "barmode": "relative",
        "legend": {
         "title": {
          "text": "color"
         },
         "tracegroupgap": 0
        },
        "template": {
         "data": {
          "bar": [
           {
            "error_x": {
             "color": "#2a3f5f"
            },
            "error_y": {
             "color": "#2a3f5f"
            },
            "marker": {
             "line": {
              "color": "#E5ECF6",
              "width": 0.5
             }
            },
            "type": "bar"
           }
          ],
          "barpolar": [
           {
            "marker": {
             "line": {
              "color": "#E5ECF6",
              "width": 0.5
             }
            },
            "type": "barpolar"
           }
          ],
          "carpet": [
           {
            "aaxis": {
             "endlinecolor": "#2a3f5f",
             "gridcolor": "white",
             "linecolor": "white",
             "minorgridcolor": "white",
             "startlinecolor": "#2a3f5f"
            },
            "baxis": {
             "endlinecolor": "#2a3f5f",
             "gridcolor": "white",
             "linecolor": "white",
             "minorgridcolor": "white",
             "startlinecolor": "#2a3f5f"
            },
            "type": "carpet"
           }
          ],
          "choropleth": [
           {
            "colorbar": {
             "outlinewidth": 0,
             "ticks": ""
            },
            "type": "choropleth"
           }
          ],
          "contour": [
           {
            "colorbar": {
             "outlinewidth": 0,
             "ticks": ""
            },
            "colorscale": [
             [
              0,
              "#0d0887"
             ],
             [
              0.1111111111111111,
              "#46039f"
             ],
             [
              0.2222222222222222,
              "#7201a8"
             ],
             [
              0.3333333333333333,
              "#9c179e"
             ],
             [
              0.4444444444444444,
              "#bd3786"
             ],
             [
              0.5555555555555556,
              "#d8576b"
             ],
             [
              0.6666666666666666,
              "#ed7953"
             ],
             [
              0.7777777777777778,
              "#fb9f3a"
             ],
             [
              0.8888888888888888,
              "#fdca26"
             ],
             [
              1,
              "#f0f921"
             ]
            ],
            "type": "contour"
           }
          ],
          "contourcarpet": [
           {
            "colorbar": {
             "outlinewidth": 0,
             "ticks": ""
            },
            "type": "contourcarpet"
           }
          ],
          "heatmap": [
           {
            "colorbar": {
             "outlinewidth": 0,
             "ticks": ""
            },
            "colorscale": [
             [
              0,
              "#0d0887"
             ],
             [
              0.1111111111111111,
              "#46039f"
             ],
             [
              0.2222222222222222,
              "#7201a8"
             ],
             [
              0.3333333333333333,
              "#9c179e"
             ],
             [
              0.4444444444444444,
              "#bd3786"
             ],
             [
              0.5555555555555556,
              "#d8576b"
             ],
             [
              0.6666666666666666,
              "#ed7953"
             ],
             [
              0.7777777777777778,
              "#fb9f3a"
             ],
             [
              0.8888888888888888,
              "#fdca26"
             ],
             [
              1,
              "#f0f921"
             ]
            ],
            "type": "heatmap"
           }
          ],
          "heatmapgl": [
           {
            "colorbar": {
             "outlinewidth": 0,
             "ticks": ""
            },
            "colorscale": [
             [
              0,
              "#0d0887"
             ],
             [
              0.1111111111111111,
              "#46039f"
             ],
             [
              0.2222222222222222,
              "#7201a8"
             ],
             [
              0.3333333333333333,
              "#9c179e"
             ],
             [
              0.4444444444444444,
              "#bd3786"
             ],
             [
              0.5555555555555556,
              "#d8576b"
             ],
             [
              0.6666666666666666,
              "#ed7953"
             ],
             [
              0.7777777777777778,
              "#fb9f3a"
             ],
             [
              0.8888888888888888,
              "#fdca26"
             ],
             [
              1,
              "#f0f921"
             ]
            ],
            "type": "heatmapgl"
           }
          ],
          "histogram": [
           {
            "marker": {
             "colorbar": {
              "outlinewidth": 0,
              "ticks": ""
             }
            },
            "type": "histogram"
           }
          ],
          "histogram2d": [
           {
            "colorbar": {
             "outlinewidth": 0,
             "ticks": ""
            },
            "colorscale": [
             [
              0,
              "#0d0887"
             ],
             [
              0.1111111111111111,
              "#46039f"
             ],
             [
              0.2222222222222222,
              "#7201a8"
             ],
             [
              0.3333333333333333,
              "#9c179e"
             ],
             [
              0.4444444444444444,
              "#bd3786"
             ],
             [
              0.5555555555555556,
              "#d8576b"
             ],
             [
              0.6666666666666666,
              "#ed7953"
             ],
             [
              0.7777777777777778,
              "#fb9f3a"
             ],
             [
              0.8888888888888888,
              "#fdca26"
             ],
             [
              1,
              "#f0f921"
             ]
            ],
            "type": "histogram2d"
           }
          ],
          "histogram2dcontour": [
           {
            "colorbar": {
             "outlinewidth": 0,
             "ticks": ""
            },
            "colorscale": [
             [
              0,
              "#0d0887"
             ],
             [
              0.1111111111111111,
              "#46039f"
             ],
             [
              0.2222222222222222,
              "#7201a8"
             ],
             [
              0.3333333333333333,
              "#9c179e"
             ],
             [
              0.4444444444444444,
              "#bd3786"
             ],
             [
              0.5555555555555556,
              "#d8576b"
             ],
             [
              0.6666666666666666,
              "#ed7953"
             ],
             [
              0.7777777777777778,
              "#fb9f3a"
             ],
             [
              0.8888888888888888,
              "#fdca26"
             ],
             [
              1,
              "#f0f921"
             ]
            ],
            "type": "histogram2dcontour"
           }
          ],
          "mesh3d": [
           {
            "colorbar": {
             "outlinewidth": 0,
             "ticks": ""
            },
            "type": "mesh3d"
           }
          ],
          "parcoords": [
           {
            "line": {
             "colorbar": {
              "outlinewidth": 0,
              "ticks": ""
             }
            },
            "type": "parcoords"
           }
          ],
          "pie": [
           {
            "automargin": true,
            "type": "pie"
           }
          ],
          "scatter": [
           {
            "marker": {
             "colorbar": {
              "outlinewidth": 0,
              "ticks": ""
             }
            },
            "type": "scatter"
           }
          ],
          "scatter3d": [
           {
            "line": {
             "colorbar": {
              "outlinewidth": 0,
              "ticks": ""
             }
            },
            "marker": {
             "colorbar": {
              "outlinewidth": 0,
              "ticks": ""
             }
            },
            "type": "scatter3d"
           }
          ],
          "scattercarpet": [
           {
            "marker": {
             "colorbar": {
              "outlinewidth": 0,
              "ticks": ""
             }
            },
            "type": "scattercarpet"
           }
          ],
          "scattergeo": [
           {
            "marker": {
             "colorbar": {
              "outlinewidth": 0,
              "ticks": ""
             }
            },
            "type": "scattergeo"
           }
          ],
          "scattergl": [
           {
            "marker": {
             "colorbar": {
              "outlinewidth": 0,
              "ticks": ""
             }
            },
            "type": "scattergl"
           }
          ],
          "scattermapbox": [
           {
            "marker": {
             "colorbar": {
              "outlinewidth": 0,
              "ticks": ""
             }
            },
            "type": "scattermapbox"
           }
          ],
          "scatterpolar": [
           {
            "marker": {
             "colorbar": {
              "outlinewidth": 0,
              "ticks": ""
             }
            },
            "type": "scatterpolar"
           }
          ],
          "scatterpolargl": [
           {
            "marker": {
             "colorbar": {
              "outlinewidth": 0,
              "ticks": ""
             }
            },
            "type": "scatterpolargl"
           }
          ],
          "scatterternary": [
           {
            "marker": {
             "colorbar": {
              "outlinewidth": 0,
              "ticks": ""
             }
            },
            "type": "scatterternary"
           }
          ],
          "surface": [
           {
            "colorbar": {
             "outlinewidth": 0,
             "ticks": ""
            },
            "colorscale": [
             [
              0,
              "#0d0887"
             ],
             [
              0.1111111111111111,
              "#46039f"
             ],
             [
              0.2222222222222222,
              "#7201a8"
             ],
             [
              0.3333333333333333,
              "#9c179e"
             ],
             [
              0.4444444444444444,
              "#bd3786"
             ],
             [
              0.5555555555555556,
              "#d8576b"
             ],
             [
              0.6666666666666666,
              "#ed7953"
             ],
             [
              0.7777777777777778,
              "#fb9f3a"
             ],
             [
              0.8888888888888888,
              "#fdca26"
             ],
             [
              1,
              "#f0f921"
             ]
            ],
            "type": "surface"
           }
          ],
          "table": [
           {
            "cells": {
             "fill": {
              "color": "#EBF0F8"
             },
             "line": {
              "color": "white"
             }
            },
            "header": {
             "fill": {
              "color": "#C8D4E3"
             },
             "line": {
              "color": "white"
             }
            },
            "type": "table"
           }
          ]
         },
         "layout": {
          "annotationdefaults": {
           "arrowcolor": "#2a3f5f",
           "arrowhead": 0,
           "arrowwidth": 1
          },
          "autotypenumbers": "strict",
          "coloraxis": {
           "colorbar": {
            "outlinewidth": 0,
            "ticks": ""
           }
          },
          "colorscale": {
           "diverging": [
            [
             0,
             "#8e0152"
            ],
            [
             0.1,
             "#c51b7d"
            ],
            [
             0.2,
             "#de77ae"
            ],
            [
             0.3,
             "#f1b6da"
            ],
            [
             0.4,
             "#fde0ef"
            ],
            [
             0.5,
             "#f7f7f7"
            ],
            [
             0.6,
             "#e6f5d0"
            ],
            [
             0.7,
             "#b8e186"
            ],
            [
             0.8,
             "#7fbc41"
            ],
            [
             0.9,
             "#4d9221"
            ],
            [
             1,
             "#276419"
            ]
           ],
           "sequential": [
            [
             0,
             "#0d0887"
            ],
            [
             0.1111111111111111,
             "#46039f"
            ],
            [
             0.2222222222222222,
             "#7201a8"
            ],
            [
             0.3333333333333333,
             "#9c179e"
            ],
            [
             0.4444444444444444,
             "#bd3786"
            ],
            [
             0.5555555555555556,
             "#d8576b"
            ],
            [
             0.6666666666666666,
             "#ed7953"
            ],
            [
             0.7777777777777778,
             "#fb9f3a"
            ],
            [
             0.8888888888888888,
             "#fdca26"
            ],
            [
             1,
             "#f0f921"
            ]
           ],
           "sequentialminus": [
            [
             0,
             "#0d0887"
            ],
            [
             0.1111111111111111,
             "#46039f"
            ],
            [
             0.2222222222222222,
             "#7201a8"
            ],
            [
             0.3333333333333333,
             "#9c179e"
            ],
            [
             0.4444444444444444,
             "#bd3786"
            ],
            [
             0.5555555555555556,
             "#d8576b"
            ],
            [
             0.6666666666666666,
             "#ed7953"
            ],
            [
             0.7777777777777778,
             "#fb9f3a"
            ],
            [
             0.8888888888888888,
             "#fdca26"
            ],
            [
             1,
             "#f0f921"
            ]
           ]
          },
          "colorway": [
           "#636efa",
           "#EF553B",
           "#00cc96",
           "#ab63fa",
           "#FFA15A",
           "#19d3f3",
           "#FF6692",
           "#B6E880",
           "#FF97FF",
           "#FECB52"
          ],
          "font": {
           "color": "#2a3f5f"
          },
          "geo": {
           "bgcolor": "white",
           "lakecolor": "white",
           "landcolor": "#E5ECF6",
           "showlakes": true,
           "showland": true,
           "subunitcolor": "white"
          },
          "hoverlabel": {
           "align": "left"
          },
          "hovermode": "closest",
          "mapbox": {
           "style": "light"
          },
          "paper_bgcolor": "white",
          "plot_bgcolor": "#E5ECF6",
          "polar": {
           "angularaxis": {
            "gridcolor": "white",
            "linecolor": "white",
            "ticks": ""
           },
           "bgcolor": "#E5ECF6",
           "radialaxis": {
            "gridcolor": "white",
            "linecolor": "white",
            "ticks": ""
           }
          },
          "scene": {
           "xaxis": {
            "backgroundcolor": "#E5ECF6",
            "gridcolor": "white",
            "gridwidth": 2,
            "linecolor": "white",
            "showbackground": true,
            "ticks": "",
            "zerolinecolor": "white"
           },
           "yaxis": {
            "backgroundcolor": "#E5ECF6",
            "gridcolor": "white",
            "gridwidth": 2,
            "linecolor": "white",
            "showbackground": true,
            "ticks": "",
            "zerolinecolor": "white"
           },
           "zaxis": {
            "backgroundcolor": "#E5ECF6",
            "gridcolor": "white",
            "gridwidth": 2,
            "linecolor": "white",
            "showbackground": true,
            "ticks": "",
            "zerolinecolor": "white"
           }
          },
          "shapedefaults": {
           "line": {
            "color": "#2a3f5f"
           }
          },
          "ternary": {
           "aaxis": {
            "gridcolor": "white",
            "linecolor": "white",
            "ticks": ""
           },
           "baxis": {
            "gridcolor": "white",
            "linecolor": "white",
            "ticks": ""
           },
           "bgcolor": "#E5ECF6",
           "caxis": {
            "gridcolor": "white",
            "linecolor": "white",
            "ticks": ""
           }
          },
          "title": {
           "x": 0.05
          },
          "xaxis": {
           "automargin": true,
           "gridcolor": "white",
           "linecolor": "white",
           "ticks": "",
           "title": {
            "standoff": 15
           },
           "zerolinecolor": "white",
           "zerolinewidth": 2
          },
          "yaxis": {
           "automargin": true,
           "gridcolor": "white",
           "linecolor": "white",
           "ticks": "",
           "title": {
            "standoff": 15
           },
           "zerolinecolor": "white",
           "zerolinewidth": 2
          }
         }
        },
        "title": {
         "text": "Runtime"
        },
        "xaxis": {
         "anchor": "y",
         "domain": [
          0,
          1
         ],
         "title": {
          "text": ""
         }
        },
        "yaxis": {
         "anchor": "x",
         "domain": [
          0,
          1
         ],
         "title": {
          "text": "s"
         }
        }
       }
      }
     },
     "metadata": {}
    }
   ],
   "source": [
    "col_names = [\"FIRES\", \"SGDR\" ]\n",
    "values = [fires_run_time, sgdr_run_time]\n",
    "fig = px.bar(x=col_names, y=values, title=\"Runtime\", labels={\"y\":\"s\", \"x\":\"\"}, color=col_names, color_discrete_map={'FIRES': 'red', \"SGDR\": \"blue\"})\n",
    "with open(\"{}/runtime.csv\".format(folder),\"a\") as outfile:\n",
    "    outfile.write(\"{},{}\\n\".format( values[0],values[1]) )\n",
    "fig.show()\n"
   ]
  },
  {
   "cell_type": "code",
   "execution_count": 49,
   "metadata": {},
   "outputs": [],
   "source": [
    "values = [pure_rmse_test, fires_mse_test, sgdr_mse_test, random_rmse_test]\n",
    "with open(\"{}/rmse.csv\".format(folder),\"a\") as outfile:\n",
    "    outfile.write(\"{},{},{},{}\\n\".format( values[0],values[1], values[2], values[3]))\n"
   ]
  },
  {
   "cell_type": "code",
   "execution_count": null,
   "metadata": {},
   "outputs": [],
   "source": []
  }
 ]
}